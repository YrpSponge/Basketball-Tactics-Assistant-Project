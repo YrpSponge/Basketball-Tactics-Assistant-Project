{
 "cells": [
  {
   "cell_type": "code",
   "execution_count": 2,
   "id": "287cb0dd",
   "metadata": {},
   "outputs": [
    {
     "name": "stdout",
     "output_type": "stream",
     "text": [
      "loading Roboflow workspace...\n",
      "loading Roboflow project...\n",
      "Dependency ultralytics==8.0.134 is required but found version=8.3.155, to fix: `pip install ultralytics==8.0.134`\n",
      "Downloading Dataset Version Zip in working-court-1 to yolov8: 100% [30138578 / 30138578] bytes\n"
     ]
    },
    {
     "name": "stderr",
     "output_type": "stream",
     "text": [
      "Extracting Dataset Version Zip to working-court-1 in yolov8:: 100%|██████████| 764/764 [00:00<00:00, 1845.89it/s]\n"
     ]
    }
   ],
   "source": [
    "from roboflow import Roboflow\n",
    "rf = Roboflow(api_key=\"wKugMGCPQkZaOOt2pxZE\")\n",
    "project = rf.workspace(\"fyp-3bwmg\").project(\"working-court\")\n",
    "version = project.version(1)\n",
    "dataset = version.download(\"yolov8\")"
   ]
  },
  {
   "cell_type": "code",
   "execution_count": 1,
   "id": "92510e37",
   "metadata": {},
   "outputs": [
    {
     "name": "stdout",
     "output_type": "stream",
     "text": [
      "CUDA: True\n",
      "GPU count: 1\n",
      "GPU name: NVIDIA GeForce RTX 4060 Laptop GPU\n",
      "Total Memory: 8187.5 MB\n"
     ]
    }
   ],
   "source": [
    "from ultralytics import YOLO\n",
    "\n",
    "import torch\n",
    "print(\"CUDA:\", torch.cuda.is_available())\n",
    "print(\"GPU count:\", torch.cuda.device_count())\n",
    "print(\"GPU name:\", torch.cuda.get_device_name(0))\n",
    "print(\"Total Memory:\", torch.cuda.get_device_properties(0).total_memory / 1024**2, \"MB\")\n",
    "\n",
    "import os\n",
    "os.environ[\"KMP_DUPLICATE_LIB_OK\"] = \"TRUE\""
   ]
  },
  {
   "cell_type": "code",
   "execution_count": 2,
   "id": "7ed909d3",
   "metadata": {},
   "outputs": [
    {
     "name": "stdout",
     "output_type": "stream",
     "text": [
      "New https://pypi.org/project/ultralytics/8.3.158 available  Update with 'pip install -U ultralytics'\n",
      "Ultralytics 8.3.155  Python-3.10.18 torch-2.7.1+cu128 CUDA:0 (NVIDIA GeForce RTX 4060 Laptop GPU, 8188MiB)\n",
      "\u001b[34m\u001b[1mengine\\trainer: \u001b[0magnostic_nms=False, amp=True, augment=False, auto_augment=randaugment, batch=8, bgr=0.0, box=7.5, cache=False, cfg=None, classes=None, close_mosaic=10, cls=0.5, conf=None, copy_paste=0.0, copy_paste_mode=flip, cos_lr=False, cutmix=0.0, data=../../dataset/working-court-1/data.yaml, degrees=0.0, deterministic=True, device=None, dfl=1.5, dnn=False, dropout=0.0, dynamic=False, embed=None, epochs=100, erasing=0.4, exist_ok=False, fliplr=0.5, flipud=0.0, format=torchscript, fraction=1.0, freeze=None, half=False, hsv_h=0.015, hsv_s=0.7, hsv_v=0.4, imgsz=640, int8=False, iou=0.7, keras=False, kobj=1.0, line_width=None, lr0=0.01, lrf=0.01, mask_ratio=4, max_det=300, mixup=0.0, mode=train, model=../../models/yolov8l-pose.pt, momentum=0.937, mosaic=1.0, multi_scale=False, name=train, nbs=64, nms=False, opset=None, optimize=False, optimizer=auto, overlap_mask=True, patience=100, perspective=0.0, plots=True, pose=12.0, pretrained=True, profile=False, project=../../runs/detect/court_det, rect=False, resume=False, retina_masks=False, save=True, save_conf=False, save_crop=False, save_dir=..\\..\\runs\\detect\\court_det\\train, save_frames=False, save_json=False, save_period=-1, save_txt=False, scale=0.5, seed=0, shear=0.0, show=False, show_boxes=True, show_conf=True, show_labels=True, simplify=True, single_cls=False, source=None, split=val, stream_buffer=False, task=pose, time=None, tracker=botsort.yaml, translate=0.1, val=True, verbose=True, vid_stride=1, visualize=False, warmup_bias_lr=0.1, warmup_epochs=3.0, warmup_momentum=0.8, weight_decay=0.0005, workers=8, workspace=None\n",
      "Overriding model.yaml kpt_shape=[17, 3] with kpt_shape=[6, 3]\n",
      "\n",
      "                   from  n    params  module                                       arguments                     \n",
      "  0                  -1  1      1856  ultralytics.nn.modules.conv.Conv             [3, 64, 3, 2]                 \n",
      "  1                  -1  1     73984  ultralytics.nn.modules.conv.Conv             [64, 128, 3, 2]               \n",
      "  2                  -1  3    279808  ultralytics.nn.modules.block.C2f             [128, 128, 3, True]           \n",
      "  3                  -1  1    295424  ultralytics.nn.modules.conv.Conv             [128, 256, 3, 2]              \n",
      "  4                  -1  6   2101248  ultralytics.nn.modules.block.C2f             [256, 256, 6, True]           \n",
      "  5                  -1  1   1180672  ultralytics.nn.modules.conv.Conv             [256, 512, 3, 2]              \n",
      "  6                  -1  6   8396800  ultralytics.nn.modules.block.C2f             [512, 512, 6, True]           \n",
      "  7                  -1  1   2360320  ultralytics.nn.modules.conv.Conv             [512, 512, 3, 2]              \n",
      "  8                  -1  3   4461568  ultralytics.nn.modules.block.C2f             [512, 512, 3, True]           \n",
      "  9                  -1  1    656896  ultralytics.nn.modules.block.SPPF            [512, 512, 5]                 \n",
      " 10                  -1  1         0  torch.nn.modules.upsampling.Upsample         [None, 2, 'nearest']          \n",
      " 11             [-1, 6]  1         0  ultralytics.nn.modules.conv.Concat           [1]                           \n",
      " 12                  -1  3   4723712  ultralytics.nn.modules.block.C2f             [1024, 512, 3]                \n",
      " 13                  -1  1         0  torch.nn.modules.upsampling.Upsample         [None, 2, 'nearest']          \n",
      " 14             [-1, 4]  1         0  ultralytics.nn.modules.conv.Concat           [1]                           \n",
      " 15                  -1  3   1247744  ultralytics.nn.modules.block.C2f             [768, 256, 3]                 \n",
      " 16                  -1  1    590336  ultralytics.nn.modules.conv.Conv             [256, 256, 3, 2]              \n",
      " 17            [-1, 12]  1         0  ultralytics.nn.modules.conv.Concat           [1]                           \n",
      " 18                  -1  3   4592640  ultralytics.nn.modules.block.C2f             [768, 512, 3]                 \n",
      " 19                  -1  1   2360320  ultralytics.nn.modules.conv.Conv             [512, 512, 3, 2]              \n",
      " 20             [-1, 9]  1         0  ultralytics.nn.modules.conv.Concat           [1]                           \n",
      " 21                  -1  3   4723712  ultralytics.nn.modules.block.C2f             [1024, 512, 3]                \n",
      " 22        [15, 18, 21]  1   6435721  ultralytics.nn.modules.head.Pose             [1, [6, 3], [256, 512, 512]]  \n",
      "YOLOv8l-pose summary: 224 layers, 44,482,761 parameters, 44,482,745 gradients, 169.1 GFLOPs\n",
      "\n",
      "Transferred 631/637 items from pretrained weights\n",
      "Freezing layer 'model.22.dfl.conv.weight'\n",
      "\u001b[34m\u001b[1mAMP: \u001b[0mrunning Automatic Mixed Precision (AMP) checks...\n",
      "\u001b[34m\u001b[1mAMP: \u001b[0mchecks passed \n",
      "\u001b[34m\u001b[1mtrain: \u001b[0mFast image access  (ping: 0.00.0 ms, read: 1089.4874.3 MB/s, size: 80.0 KB)\n"
     ]
    },
    {
     "name": "stderr",
     "output_type": "stream",
     "text": [
      "\u001b[34m\u001b[1mtrain: \u001b[0mScanning D:\\AI\\yolo\\dataset\\working-court-1\\train\\labels.cache... 301 images, 0 backgrounds, 0 corrupt: 100%|██████████| 301/301 [00:00<?, ?it/s]\n"
     ]
    },
    {
     "name": "stdout",
     "output_type": "stream",
     "text": [
      "\u001b[34m\u001b[1mval: \u001b[0mFast image access  (ping: 0.10.0 ms, read: 271.7161.6 MB/s, size: 84.6 KB)\n"
     ]
    },
    {
     "name": "stderr",
     "output_type": "stream",
     "text": [
      "\u001b[34m\u001b[1mval: \u001b[0mScanning D:\\AI\\yolo\\dataset\\working-court-1\\valid\\labels.cache... 40 images, 0 backgrounds, 0 corrupt: 100%|██████████| 40/40 [00:00<?, ?it/s]\n"
     ]
    },
    {
     "name": "stdout",
     "output_type": "stream",
     "text": [
      "Plotting labels to ..\\..\\runs\\detect\\court_det\\train\\labels.jpg... \n",
      "\u001b[34m\u001b[1moptimizer:\u001b[0m 'optimizer=auto' found, ignoring 'lr0=0.01' and 'momentum=0.937' and determining best 'optimizer', 'lr0' and 'momentum' automatically... \n",
      "\u001b[34m\u001b[1moptimizer:\u001b[0m AdamW(lr=0.002, momentum=0.9) with parameter groups 103 weight(decay=0.0), 113 weight(decay=0.0005), 112 bias(decay=0.0)\n",
      "Image sizes 640 train, 640 val\n",
      "Using 8 dataloader workers\n",
      "Logging results to \u001b[1m..\\..\\runs\\detect\\court_det\\train\u001b[0m\n",
      "Starting training for 100 epochs...\n",
      "\n",
      "      Epoch    GPU_mem   box_loss  pose_loss  kobj_loss   cls_loss   dfl_loss  Instances       Size\n"
     ]
    },
    {
     "name": "stderr",
     "output_type": "stream",
     "text": [
      "      1/100      5.22G      1.935      7.339     0.7198      2.801      2.141         14        640: 100%|██████████| 38/38 [00:15<00:00,  2.38it/s]\n",
      "                 Class     Images  Instances      Box(P          R      mAP50  mAP50-95)     Pose(P          R      mAP50  mAP50-95): 100%|██████████| 3/3 [00:00<00:00,  3.89it/s]"
     ]
    },
    {
     "name": "stdout",
     "output_type": "stream",
     "text": [
      "                   all         40         40    0.00542      0.075    0.00189   0.000224          0          0          0          0\n"
     ]
    },
    {
     "name": "stderr",
     "output_type": "stream",
     "text": [
      "\n"
     ]
    },
    {
     "name": "stdout",
     "output_type": "stream",
     "text": [
      "\n",
      "      Epoch    GPU_mem   box_loss  pose_loss  kobj_loss   cls_loss   dfl_loss  Instances       Size\n"
     ]
    },
    {
     "name": "stderr",
     "output_type": "stream",
     "text": [
      "      2/100      5.45G      1.562      5.555     0.6839      1.466      1.779         12        640: 100%|██████████| 38/38 [00:12<00:00,  2.97it/s]\n",
      "                 Class     Images  Instances      Box(P          R      mAP50  mAP50-95)     Pose(P          R      mAP50  mAP50-95): 100%|██████████| 3/3 [00:00<00:00,  4.60it/s]"
     ]
    },
    {
     "name": "stdout",
     "output_type": "stream",
     "text": [
      "                   all         40         40          0          0          0          0          0          0          0          0\n"
     ]
    },
    {
     "name": "stderr",
     "output_type": "stream",
     "text": [
      "\n"
     ]
    },
    {
     "name": "stdout",
     "output_type": "stream",
     "text": [
      "\n",
      "      Epoch    GPU_mem   box_loss  pose_loss  kobj_loss   cls_loss   dfl_loss  Instances       Size\n"
     ]
    },
    {
     "name": "stderr",
     "output_type": "stream",
     "text": [
      "      3/100      5.47G      1.626      5.307     0.6507      1.464      1.876         12        640: 100%|██████████| 38/38 [00:12<00:00,  3.01it/s]\n",
      "                 Class     Images  Instances      Box(P          R      mAP50  mAP50-95)     Pose(P          R      mAP50  mAP50-95): 100%|██████████| 3/3 [00:00<00:00,  4.08it/s]"
     ]
    },
    {
     "name": "stdout",
     "output_type": "stream",
     "text": [
      "                   all         40         40     0.0265        0.3     0.0271     0.0116      0.011      0.125    0.00694    0.00113\n"
     ]
    },
    {
     "name": "stderr",
     "output_type": "stream",
     "text": [
      "\n"
     ]
    },
    {
     "name": "stdout",
     "output_type": "stream",
     "text": [
      "\n",
      "      Epoch    GPU_mem   box_loss  pose_loss  kobj_loss   cls_loss   dfl_loss  Instances       Size\n"
     ]
    },
    {
     "name": "stderr",
     "output_type": "stream",
     "text": [
      "      4/100      5.44G      1.622      5.081     0.6342      1.348      1.837         14        640: 100%|██████████| 38/38 [00:12<00:00,  3.01it/s]\n",
      "                 Class     Images  Instances      Box(P          R      mAP50  mAP50-95)     Pose(P          R      mAP50  mAP50-95): 100%|██████████| 3/3 [00:00<00:00,  3.98it/s]"
     ]
    },
    {
     "name": "stdout",
     "output_type": "stream",
     "text": [
      "                   all         40         40     0.0734        0.9     0.0973     0.0478     0.0219      0.275     0.0138    0.00208\n"
     ]
    },
    {
     "name": "stderr",
     "output_type": "stream",
     "text": [
      "\n"
     ]
    },
    {
     "name": "stdout",
     "output_type": "stream",
     "text": [
      "\n",
      "      Epoch    GPU_mem   box_loss  pose_loss  kobj_loss   cls_loss   dfl_loss  Instances       Size\n"
     ]
    },
    {
     "name": "stderr",
     "output_type": "stream",
     "text": [
      "      5/100      5.48G      1.481      4.538     0.6205      1.331      1.736         10        640: 100%|██████████| 38/38 [00:12<00:00,  3.00it/s]\n",
      "                 Class     Images  Instances      Box(P          R      mAP50  mAP50-95)     Pose(P          R      mAP50  mAP50-95): 100%|██████████| 3/3 [00:00<00:00,  3.88it/s]"
     ]
    },
    {
     "name": "stdout",
     "output_type": "stream",
     "text": [
      "                   all         40         40     0.0669      0.575     0.0525     0.0204     0.0168       0.15    0.00671     0.0012\n"
     ]
    },
    {
     "name": "stderr",
     "output_type": "stream",
     "text": [
      "\n"
     ]
    },
    {
     "name": "stdout",
     "output_type": "stream",
     "text": [
      "\n",
      "      Epoch    GPU_mem   box_loss  pose_loss  kobj_loss   cls_loss   dfl_loss  Instances       Size\n"
     ]
    },
    {
     "name": "stderr",
     "output_type": "stream",
     "text": [
      "      6/100      5.49G      1.358      4.303     0.6163       1.18      1.614         10        640: 100%|██████████| 38/38 [00:12<00:00,  3.00it/s]\n",
      "                 Class     Images  Instances      Box(P          R      mAP50  mAP50-95)     Pose(P          R      mAP50  mAP50-95): 100%|██████████| 3/3 [00:00<00:00,  3.77it/s]"
     ]
    },
    {
     "name": "stdout",
     "output_type": "stream",
     "text": [
      "                   all         40         40     0.0136      0.425     0.0105     0.0035    0.00874      0.275     0.0054    0.00134\n"
     ]
    },
    {
     "name": "stderr",
     "output_type": "stream",
     "text": [
      "\n"
     ]
    },
    {
     "name": "stdout",
     "output_type": "stream",
     "text": [
      "\n",
      "      Epoch    GPU_mem   box_loss  pose_loss  kobj_loss   cls_loss   dfl_loss  Instances       Size\n"
     ]
    },
    {
     "name": "stderr",
     "output_type": "stream",
     "text": [
      "      7/100      5.49G      1.293      3.923     0.6141      1.077      1.577         12        640: 100%|██████████| 38/38 [00:12<00:00,  2.98it/s]\n",
      "                 Class     Images  Instances      Box(P          R      mAP50  mAP50-95)     Pose(P          R      mAP50  mAP50-95): 100%|██████████| 3/3 [00:00<00:00,  3.95it/s]"
     ]
    },
    {
     "name": "stdout",
     "output_type": "stream",
     "text": [
      "                   all         40         40      0.741      0.787      0.803      0.544      0.694      0.675      0.629      0.163\n"
     ]
    },
    {
     "name": "stderr",
     "output_type": "stream",
     "text": [
      "\n"
     ]
    },
    {
     "name": "stdout",
     "output_type": "stream",
     "text": [
      "\n",
      "      Epoch    GPU_mem   box_loss  pose_loss  kobj_loss   cls_loss   dfl_loss  Instances       Size\n"
     ]
    },
    {
     "name": "stderr",
     "output_type": "stream",
     "text": [
      "      8/100      5.44G      1.228       3.55     0.6007      1.075      1.551         12        640: 100%|██████████| 38/38 [00:12<00:00,  3.00it/s]\n",
      "                 Class     Images  Instances      Box(P          R      mAP50  mAP50-95)     Pose(P          R      mAP50  mAP50-95): 100%|██████████| 3/3 [00:00<00:00,  3.91it/s]"
     ]
    },
    {
     "name": "stdout",
     "output_type": "stream",
     "text": [
      "                   all         40         40       0.78       0.85      0.865       0.59      0.298      0.375      0.198     0.0374\n"
     ]
    },
    {
     "name": "stderr",
     "output_type": "stream",
     "text": [
      "\n"
     ]
    },
    {
     "name": "stdout",
     "output_type": "stream",
     "text": [
      "\n",
      "      Epoch    GPU_mem   box_loss  pose_loss  kobj_loss   cls_loss   dfl_loss  Instances       Size\n"
     ]
    },
    {
     "name": "stderr",
     "output_type": "stream",
     "text": [
      "      9/100       5.5G      1.214      3.456     0.5844       0.99      1.525         15        640: 100%|██████████| 38/38 [00:12<00:00,  3.00it/s]\n",
      "                 Class     Images  Instances      Box(P          R      mAP50  mAP50-95)     Pose(P          R      mAP50  mAP50-95): 100%|██████████| 3/3 [00:00<00:00,  3.88it/s]"
     ]
    },
    {
     "name": "stdout",
     "output_type": "stream",
     "text": [
      "                   all         40         40      0.847      0.725      0.866      0.608      0.421      0.375      0.247     0.0311\n"
     ]
    },
    {
     "name": "stderr",
     "output_type": "stream",
     "text": [
      "\n"
     ]
    },
    {
     "name": "stdout",
     "output_type": "stream",
     "text": [
      "\n",
      "      Epoch    GPU_mem   box_loss  pose_loss  kobj_loss   cls_loss   dfl_loss  Instances       Size\n"
     ]
    },
    {
     "name": "stderr",
     "output_type": "stream",
     "text": [
      "     10/100      5.47G      1.163      3.417     0.5803     0.9588      1.446         18        640: 100%|██████████| 38/38 [00:12<00:00,  2.98it/s]\n",
      "                 Class     Images  Instances      Box(P          R      mAP50  mAP50-95)     Pose(P          R      mAP50  mAP50-95): 100%|██████████| 3/3 [00:00<00:00,  4.04it/s]"
     ]
    },
    {
     "name": "stdout",
     "output_type": "stream",
     "text": [
      "                   all         40         40      0.767      0.775      0.862      0.603      0.517      0.525      0.426     0.0862\n"
     ]
    },
    {
     "name": "stderr",
     "output_type": "stream",
     "text": [
      "\n"
     ]
    },
    {
     "name": "stdout",
     "output_type": "stream",
     "text": [
      "\n",
      "      Epoch    GPU_mem   box_loss  pose_loss  kobj_loss   cls_loss   dfl_loss  Instances       Size\n"
     ]
    },
    {
     "name": "stderr",
     "output_type": "stream",
     "text": [
      "     11/100       5.5G      1.075      3.199     0.5711     0.9432      1.418          8        640: 100%|██████████| 38/38 [00:12<00:00,  3.00it/s]\n",
      "                 Class     Images  Instances      Box(P          R      mAP50  mAP50-95)     Pose(P          R      mAP50  mAP50-95): 100%|██████████| 3/3 [00:00<00:00,  4.09it/s]"
     ]
    },
    {
     "name": "stdout",
     "output_type": "stream",
     "text": [
      "                   all         40         40      0.896       0.85      0.899      0.608      0.788      0.675       0.67      0.202\n"
     ]
    },
    {
     "name": "stderr",
     "output_type": "stream",
     "text": [
      "\n"
     ]
    },
    {
     "name": "stdout",
     "output_type": "stream",
     "text": [
      "\n",
      "      Epoch    GPU_mem   box_loss  pose_loss  kobj_loss   cls_loss   dfl_loss  Instances       Size\n"
     ]
    },
    {
     "name": "stderr",
     "output_type": "stream",
     "text": [
      "     12/100      5.45G      1.129       3.28     0.5867     0.9223       1.44         11        640: 100%|██████████| 38/38 [00:12<00:00,  3.00it/s]\n",
      "                 Class     Images  Instances      Box(P          R      mAP50  mAP50-95)     Pose(P          R      mAP50  mAP50-95): 100%|██████████| 3/3 [00:00<00:00,  4.13it/s]"
     ]
    },
    {
     "name": "stdout",
     "output_type": "stream",
     "text": [
      "                   all         40         40      0.867        0.7      0.866      0.656      0.834      0.675      0.777      0.201\n"
     ]
    },
    {
     "name": "stderr",
     "output_type": "stream",
     "text": [
      "\n"
     ]
    },
    {
     "name": "stdout",
     "output_type": "stream",
     "text": [
      "\n",
      "      Epoch    GPU_mem   box_loss  pose_loss  kobj_loss   cls_loss   dfl_loss  Instances       Size\n"
     ]
    },
    {
     "name": "stderr",
     "output_type": "stream",
     "text": [
      "     13/100       5.5G      1.065      3.234     0.5793     0.9458      1.432         14        640: 100%|██████████| 38/38 [00:12<00:00,  3.01it/s]\n",
      "                 Class     Images  Instances      Box(P          R      mAP50  mAP50-95)     Pose(P          R      mAP50  mAP50-95): 100%|██████████| 3/3 [00:00<00:00,  4.11it/s]"
     ]
    },
    {
     "name": "stdout",
     "output_type": "stream",
     "text": [
      "                   all         40         40      0.969      0.875      0.972      0.723      0.883        0.8      0.841       0.24\n"
     ]
    },
    {
     "name": "stderr",
     "output_type": "stream",
     "text": [
      "\n"
     ]
    },
    {
     "name": "stdout",
     "output_type": "stream",
     "text": [
      "\n",
      "      Epoch    GPU_mem   box_loss  pose_loss  kobj_loss   cls_loss   dfl_loss  Instances       Size\n"
     ]
    },
    {
     "name": "stderr",
     "output_type": "stream",
     "text": [
      "     14/100       5.5G      1.055      2.994     0.5777     0.8865        1.4         10        640: 100%|██████████| 38/38 [00:12<00:00,  3.00it/s]\n",
      "                 Class     Images  Instances      Box(P          R      mAP50  mAP50-95)     Pose(P          R      mAP50  mAP50-95): 100%|██████████| 3/3 [00:00<00:00,  3.97it/s]"
     ]
    },
    {
     "name": "stdout",
     "output_type": "stream",
     "text": [
      "                   all         40         40      0.953       0.95      0.987      0.712      0.865       0.85      0.811      0.188\n"
     ]
    },
    {
     "name": "stderr",
     "output_type": "stream",
     "text": [
      "\n"
     ]
    },
    {
     "name": "stdout",
     "output_type": "stream",
     "text": [
      "\n",
      "      Epoch    GPU_mem   box_loss  pose_loss  kobj_loss   cls_loss   dfl_loss  Instances       Size\n"
     ]
    },
    {
     "name": "stderr",
     "output_type": "stream",
     "text": [
      "     15/100      5.48G       1.07      3.159     0.5594      0.911      1.421         10        640: 100%|██████████| 38/38 [00:12<00:00,  3.00it/s]\n",
      "                 Class     Images  Instances      Box(P          R      mAP50  mAP50-95)     Pose(P          R      mAP50  mAP50-95): 100%|██████████| 3/3 [00:00<00:00,  4.11it/s]"
     ]
    },
    {
     "name": "stdout",
     "output_type": "stream",
     "text": [
      "                   all         40         40      0.906      0.963      0.983      0.685      0.757        0.8      0.727      0.282\n"
     ]
    },
    {
     "name": "stderr",
     "output_type": "stream",
     "text": [
      "\n"
     ]
    },
    {
     "name": "stdout",
     "output_type": "stream",
     "text": [
      "\n",
      "      Epoch    GPU_mem   box_loss  pose_loss  kobj_loss   cls_loss   dfl_loss  Instances       Size\n"
     ]
    },
    {
     "name": "stderr",
     "output_type": "stream",
     "text": [
      "     16/100      5.47G      1.022      2.946     0.5635     0.8358      1.395          7        640: 100%|██████████| 38/38 [00:12<00:00,  2.99it/s]\n",
      "                 Class     Images  Instances      Box(P          R      mAP50  mAP50-95)     Pose(P          R      mAP50  mAP50-95): 100%|██████████| 3/3 [00:00<00:00,  3.99it/s]"
     ]
    },
    {
     "name": "stdout",
     "output_type": "stream",
     "text": [
      "                   all         40         40      0.917       0.85      0.936      0.664      0.856       0.75      0.814       0.25\n"
     ]
    },
    {
     "name": "stderr",
     "output_type": "stream",
     "text": [
      "\n"
     ]
    },
    {
     "name": "stdout",
     "output_type": "stream",
     "text": [
      "\n",
      "      Epoch    GPU_mem   box_loss  pose_loss  kobj_loss   cls_loss   dfl_loss  Instances       Size\n"
     ]
    },
    {
     "name": "stderr",
     "output_type": "stream",
     "text": [
      "     17/100      5.45G      1.062      2.984     0.5621     0.9006      1.432          9        640: 100%|██████████| 38/38 [00:12<00:00,  3.01it/s]\n",
      "                 Class     Images  Instances      Box(P          R      mAP50  mAP50-95)     Pose(P          R      mAP50  mAP50-95): 100%|██████████| 3/3 [00:00<00:00,  4.05it/s]"
     ]
    },
    {
     "name": "stdout",
     "output_type": "stream",
     "text": [
      "                   all         40         40      0.863      0.944      0.967       0.72      0.894      0.825      0.876      0.264\n"
     ]
    },
    {
     "name": "stderr",
     "output_type": "stream",
     "text": [
      "\n"
     ]
    },
    {
     "name": "stdout",
     "output_type": "stream",
     "text": [
      "\n",
      "      Epoch    GPU_mem   box_loss  pose_loss  kobj_loss   cls_loss   dfl_loss  Instances       Size\n"
     ]
    },
    {
     "name": "stderr",
     "output_type": "stream",
     "text": [
      "     18/100      5.51G      1.026      2.867     0.5483     0.8508      1.377         14        640: 100%|██████████| 38/38 [00:12<00:00,  2.99it/s]\n",
      "                 Class     Images  Instances      Box(P          R      mAP50  mAP50-95)     Pose(P          R      mAP50  mAP50-95): 100%|██████████| 3/3 [00:00<00:00,  4.02it/s]"
     ]
    },
    {
     "name": "stdout",
     "output_type": "stream",
     "text": [
      "                   all         40         40       0.32      0.825      0.415        0.3       0.42       0.45      0.378      0.123\n"
     ]
    },
    {
     "name": "stderr",
     "output_type": "stream",
     "text": [
      "\n"
     ]
    },
    {
     "name": "stdout",
     "output_type": "stream",
     "text": [
      "\n",
      "      Epoch    GPU_mem   box_loss  pose_loss  kobj_loss   cls_loss   dfl_loss  Instances       Size\n"
     ]
    },
    {
     "name": "stderr",
     "output_type": "stream",
     "text": [
      "     19/100      5.52G      1.016      2.942     0.5206     0.8335        1.4         16        640: 100%|██████████| 38/38 [00:12<00:00,  3.01it/s]\n",
      "                 Class     Images  Instances      Box(P          R      mAP50  mAP50-95)     Pose(P          R      mAP50  mAP50-95): 100%|██████████| 3/3 [00:00<00:00,  4.09it/s]"
     ]
    },
    {
     "name": "stdout",
     "output_type": "stream",
     "text": [
      "                   all         40         40      0.865      0.875      0.915      0.674      0.797        0.8      0.843      0.251\n"
     ]
    },
    {
     "name": "stderr",
     "output_type": "stream",
     "text": [
      "\n"
     ]
    },
    {
     "name": "stdout",
     "output_type": "stream",
     "text": [
      "\n",
      "      Epoch    GPU_mem   box_loss  pose_loss  kobj_loss   cls_loss   dfl_loss  Instances       Size\n"
     ]
    },
    {
     "name": "stderr",
     "output_type": "stream",
     "text": [
      "     20/100      5.46G      1.001      2.836     0.5261     0.8241      1.359         13        640: 100%|██████████| 38/38 [00:12<00:00,  3.01it/s]\n",
      "                 Class     Images  Instances      Box(P          R      mAP50  mAP50-95)     Pose(P          R      mAP50  mAP50-95): 100%|██████████| 3/3 [00:00<00:00,  4.11it/s]"
     ]
    },
    {
     "name": "stdout",
     "output_type": "stream",
     "text": [
      "                   all         40         40      0.949      0.975      0.973      0.725       0.83        0.9      0.876      0.326\n"
     ]
    },
    {
     "name": "stderr",
     "output_type": "stream",
     "text": [
      "\n"
     ]
    },
    {
     "name": "stdout",
     "output_type": "stream",
     "text": [
      "\n",
      "      Epoch    GPU_mem   box_loss  pose_loss  kobj_loss   cls_loss   dfl_loss  Instances       Size\n"
     ]
    },
    {
     "name": "stderr",
     "output_type": "stream",
     "text": [
      "     21/100      5.48G      1.019      2.751     0.5298     0.8139      1.387         10        640: 100%|██████████| 38/38 [00:12<00:00,  3.02it/s]\n",
      "                 Class     Images  Instances      Box(P          R      mAP50  mAP50-95)     Pose(P          R      mAP50  mAP50-95): 100%|██████████| 3/3 [00:00<00:00,  4.18it/s]"
     ]
    },
    {
     "name": "stdout",
     "output_type": "stream",
     "text": [
      "                   all         40         40      0.951       0.97      0.987       0.74      0.894        0.8      0.852      0.282\n"
     ]
    },
    {
     "name": "stderr",
     "output_type": "stream",
     "text": [
      "\n"
     ]
    },
    {
     "name": "stdout",
     "output_type": "stream",
     "text": [
      "\n",
      "      Epoch    GPU_mem   box_loss  pose_loss  kobj_loss   cls_loss   dfl_loss  Instances       Size\n"
     ]
    },
    {
     "name": "stderr",
     "output_type": "stream",
     "text": [
      "     22/100      5.51G     0.9718      2.705     0.5302     0.7672      1.371         10        640: 100%|██████████| 38/38 [00:12<00:00,  2.98it/s]\n",
      "                 Class     Images  Instances      Box(P          R      mAP50  mAP50-95)     Pose(P          R      mAP50  mAP50-95): 100%|██████████| 3/3 [00:00<00:00,  3.78it/s]"
     ]
    },
    {
     "name": "stdout",
     "output_type": "stream",
     "text": [
      "                   all         40         40      0.949      0.938      0.973      0.721      0.918       0.95      0.938      0.339\n"
     ]
    },
    {
     "name": "stderr",
     "output_type": "stream",
     "text": [
      "\n"
     ]
    },
    {
     "name": "stdout",
     "output_type": "stream",
     "text": [
      "\n",
      "      Epoch    GPU_mem   box_loss  pose_loss  kobj_loss   cls_loss   dfl_loss  Instances       Size\n"
     ]
    },
    {
     "name": "stderr",
     "output_type": "stream",
     "text": [
      "     23/100      5.46G     0.9108      2.797     0.5227     0.7225      1.308         11        640: 100%|██████████| 38/38 [00:12<00:00,  2.99it/s]\n",
      "                 Class     Images  Instances      Box(P          R      mAP50  mAP50-95)     Pose(P          R      mAP50  mAP50-95): 100%|██████████| 3/3 [00:00<00:00,  3.98it/s]"
     ]
    },
    {
     "name": "stdout",
     "output_type": "stream",
     "text": [
      "                   all         40         40      0.899      0.975      0.984      0.758        0.9        0.9      0.928      0.254\n"
     ]
    },
    {
     "name": "stderr",
     "output_type": "stream",
     "text": [
      "\n"
     ]
    },
    {
     "name": "stdout",
     "output_type": "stream",
     "text": [
      "\n",
      "      Epoch    GPU_mem   box_loss  pose_loss  kobj_loss   cls_loss   dfl_loss  Instances       Size\n"
     ]
    },
    {
     "name": "stderr",
     "output_type": "stream",
     "text": [
      "     24/100      5.46G     0.9133      2.671     0.5199     0.7402      1.299         13        640: 100%|██████████| 38/38 [00:12<00:00,  3.00it/s]\n",
      "                 Class     Images  Instances      Box(P          R      mAP50  mAP50-95)     Pose(P          R      mAP50  mAP50-95): 100%|██████████| 3/3 [00:00<00:00,  3.97it/s]"
     ]
    },
    {
     "name": "stdout",
     "output_type": "stream",
     "text": [
      "                   all         40         40      0.975      0.966       0.99      0.772      0.848      0.836      0.872      0.261\n"
     ]
    },
    {
     "name": "stderr",
     "output_type": "stream",
     "text": [
      "\n"
     ]
    },
    {
     "name": "stdout",
     "output_type": "stream",
     "text": [
      "\n",
      "      Epoch    GPU_mem   box_loss  pose_loss  kobj_loss   cls_loss   dfl_loss  Instances       Size\n"
     ]
    },
    {
     "name": "stderr",
     "output_type": "stream",
     "text": [
      "     25/100       5.5G     0.9638      2.766     0.5109     0.7618      1.354         15        640: 100%|██████████| 38/38 [00:12<00:00,  3.00it/s]\n",
      "                 Class     Images  Instances      Box(P          R      mAP50  mAP50-95)     Pose(P          R      mAP50  mAP50-95): 100%|██████████| 3/3 [00:00<00:00,  3.87it/s]"
     ]
    },
    {
     "name": "stdout",
     "output_type": "stream",
     "text": [
      "                   all         40         40      0.993       0.95      0.974      0.731      0.855      0.882      0.882      0.305\n"
     ]
    },
    {
     "name": "stderr",
     "output_type": "stream",
     "text": [
      "\n"
     ]
    },
    {
     "name": "stdout",
     "output_type": "stream",
     "text": [
      "\n",
      "      Epoch    GPU_mem   box_loss  pose_loss  kobj_loss   cls_loss   dfl_loss  Instances       Size\n"
     ]
    },
    {
     "name": "stderr",
     "output_type": "stream",
     "text": [
      "     26/100      5.49G     0.9054      2.829     0.5127     0.7268      1.287         10        640: 100%|██████████| 38/38 [00:12<00:00,  2.99it/s]\n",
      "                 Class     Images  Instances      Box(P          R      mAP50  mAP50-95)     Pose(P          R      mAP50  mAP50-95): 100%|██████████| 3/3 [00:00<00:00,  4.14it/s]"
     ]
    },
    {
     "name": "stdout",
     "output_type": "stream",
     "text": [
      "                   all         40         40      0.942      0.875      0.901      0.709      0.942      0.875      0.894      0.287\n"
     ]
    },
    {
     "name": "stderr",
     "output_type": "stream",
     "text": [
      "\n"
     ]
    },
    {
     "name": "stdout",
     "output_type": "stream",
     "text": [
      "\n",
      "      Epoch    GPU_mem   box_loss  pose_loss  kobj_loss   cls_loss   dfl_loss  Instances       Size\n"
     ]
    },
    {
     "name": "stderr",
     "output_type": "stream",
     "text": [
      "     27/100      5.51G     0.9509      2.723     0.5182     0.7687      1.311         14        640: 100%|██████████| 38/38 [00:12<00:00,  3.00it/s]\n",
      "                 Class     Images  Instances      Box(P          R      mAP50  mAP50-95)     Pose(P          R      mAP50  mAP50-95): 100%|██████████| 3/3 [00:00<00:00,  4.08it/s]"
     ]
    },
    {
     "name": "stdout",
     "output_type": "stream",
     "text": [
      "                   all         40         40      0.975      0.957      0.993      0.759       0.92      0.866      0.893      0.248\n"
     ]
    },
    {
     "name": "stderr",
     "output_type": "stream",
     "text": [
      "\n"
     ]
    },
    {
     "name": "stdout",
     "output_type": "stream",
     "text": [
      "\n",
      "      Epoch    GPU_mem   box_loss  pose_loss  kobj_loss   cls_loss   dfl_loss  Instances       Size\n"
     ]
    },
    {
     "name": "stderr",
     "output_type": "stream",
     "text": [
      "     28/100      5.45G     0.8944      2.669     0.5017     0.7223      1.273          8        640: 100%|██████████| 38/38 [00:12<00:00,  3.00it/s]\n",
      "                 Class     Images  Instances      Box(P          R      mAP50  mAP50-95)     Pose(P          R      mAP50  mAP50-95): 100%|██████████| 3/3 [00:00<00:00,  4.08it/s]"
     ]
    },
    {
     "name": "stdout",
     "output_type": "stream",
     "text": [
      "                   all         40         40      0.981       0.95      0.986      0.749      0.859      0.917      0.926      0.238\n"
     ]
    },
    {
     "name": "stderr",
     "output_type": "stream",
     "text": [
      "\n"
     ]
    },
    {
     "name": "stdout",
     "output_type": "stream",
     "text": [
      "\n",
      "      Epoch    GPU_mem   box_loss  pose_loss  kobj_loss   cls_loss   dfl_loss  Instances       Size\n"
     ]
    },
    {
     "name": "stderr",
     "output_type": "stream",
     "text": [
      "     29/100      5.46G     0.9007      2.491     0.4989      0.717       1.29         10        640: 100%|██████████| 38/38 [00:12<00:00,  2.99it/s]\n",
      "                 Class     Images  Instances      Box(P          R      mAP50  mAP50-95)     Pose(P          R      mAP50  mAP50-95): 100%|██████████| 3/3 [00:00<00:00,  3.79it/s]"
     ]
    },
    {
     "name": "stdout",
     "output_type": "stream",
     "text": [
      "                   all         40         40       0.94      0.975      0.979      0.798      0.921      0.872      0.898      0.292\n"
     ]
    },
    {
     "name": "stderr",
     "output_type": "stream",
     "text": [
      "\n"
     ]
    },
    {
     "name": "stdout",
     "output_type": "stream",
     "text": [
      "\n",
      "      Epoch    GPU_mem   box_loss  pose_loss  kobj_loss   cls_loss   dfl_loss  Instances       Size\n"
     ]
    },
    {
     "name": "stderr",
     "output_type": "stream",
     "text": [
      "     30/100      5.47G     0.9089      2.385     0.4912     0.6999      1.275         11        640: 100%|██████████| 38/38 [00:12<00:00,  2.99it/s]\n",
      "                 Class     Images  Instances      Box(P          R      mAP50  mAP50-95)     Pose(P          R      mAP50  mAP50-95): 100%|██████████| 3/3 [00:00<00:00,  3.87it/s]"
     ]
    },
    {
     "name": "stdout",
     "output_type": "stream",
     "text": [
      "                   all         40         40      0.907      0.981      0.989      0.811       0.97      0.925       0.97      0.283\n"
     ]
    },
    {
     "name": "stderr",
     "output_type": "stream",
     "text": [
      "\n"
     ]
    },
    {
     "name": "stdout",
     "output_type": "stream",
     "text": [
      "\n",
      "      Epoch    GPU_mem   box_loss  pose_loss  kobj_loss   cls_loss   dfl_loss  Instances       Size\n"
     ]
    },
    {
     "name": "stderr",
     "output_type": "stream",
     "text": [
      "     31/100      5.47G     0.8758       2.63     0.4949     0.6855      1.262          7        640: 100%|██████████| 38/38 [00:12<00:00,  2.98it/s]\n",
      "                 Class     Images  Instances      Box(P          R      mAP50  mAP50-95)     Pose(P          R      mAP50  mAP50-95): 100%|██████████| 3/3 [00:00<00:00,  3.98it/s]"
     ]
    },
    {
     "name": "stdout",
     "output_type": "stream",
     "text": [
      "                   all         40         40      0.966       0.95      0.987      0.782      0.947      0.885      0.919      0.287\n"
     ]
    },
    {
     "name": "stderr",
     "output_type": "stream",
     "text": [
      "\n"
     ]
    },
    {
     "name": "stdout",
     "output_type": "stream",
     "text": [
      "\n",
      "      Epoch    GPU_mem   box_loss  pose_loss  kobj_loss   cls_loss   dfl_loss  Instances       Size\n"
     ]
    },
    {
     "name": "stderr",
     "output_type": "stream",
     "text": [
      "     32/100      5.45G     0.8813      2.599     0.4681      0.692      1.274         14        640: 100%|██████████| 38/38 [00:12<00:00,  2.97it/s]\n",
      "                 Class     Images  Instances      Box(P          R      mAP50  mAP50-95)     Pose(P          R      mAP50  mAP50-95): 100%|██████████| 3/3 [00:00<00:00,  4.08it/s]"
     ]
    },
    {
     "name": "stdout",
     "output_type": "stream",
     "text": [
      "                   all         40         40          1       0.97      0.993      0.793      0.983       0.95      0.946      0.302\n"
     ]
    },
    {
     "name": "stderr",
     "output_type": "stream",
     "text": [
      "\n"
     ]
    },
    {
     "name": "stdout",
     "output_type": "stream",
     "text": [
      "\n",
      "      Epoch    GPU_mem   box_loss  pose_loss  kobj_loss   cls_loss   dfl_loss  Instances       Size\n"
     ]
    },
    {
     "name": "stderr",
     "output_type": "stream",
     "text": [
      "     33/100       5.5G     0.8466      2.518     0.4779     0.6673       1.23          8        640: 100%|██████████| 38/38 [00:12<00:00,  3.00it/s]\n",
      "                 Class     Images  Instances      Box(P          R      mAP50  mAP50-95)     Pose(P          R      mAP50  mAP50-95): 100%|██████████| 3/3 [00:00<00:00,  4.04it/s]"
     ]
    },
    {
     "name": "stdout",
     "output_type": "stream",
     "text": [
      "                   all         40         40      0.992       0.95      0.989      0.803      0.913      0.875      0.924      0.323\n"
     ]
    },
    {
     "name": "stderr",
     "output_type": "stream",
     "text": [
      "\n"
     ]
    },
    {
     "name": "stdout",
     "output_type": "stream",
     "text": [
      "\n",
      "      Epoch    GPU_mem   box_loss  pose_loss  kobj_loss   cls_loss   dfl_loss  Instances       Size\n"
     ]
    },
    {
     "name": "stderr",
     "output_type": "stream",
     "text": [
      "     34/100      5.47G     0.8425      2.507     0.4917     0.6684      1.238          8        640: 100%|██████████| 38/38 [00:12<00:00,  3.00it/s]\n",
      "                 Class     Images  Instances      Box(P          R      mAP50  mAP50-95)     Pose(P          R      mAP50  mAP50-95): 100%|██████████| 3/3 [00:00<00:00,  4.02it/s]"
     ]
    },
    {
     "name": "stdout",
     "output_type": "stream",
     "text": [
      "                   all         40         40       0.97          1      0.992      0.814      0.921       0.95      0.956      0.305\n"
     ]
    },
    {
     "name": "stderr",
     "output_type": "stream",
     "text": [
      "\n"
     ]
    },
    {
     "name": "stdout",
     "output_type": "stream",
     "text": [
      "\n",
      "      Epoch    GPU_mem   box_loss  pose_loss  kobj_loss   cls_loss   dfl_loss  Instances       Size\n"
     ]
    },
    {
     "name": "stderr",
     "output_type": "stream",
     "text": [
      "     35/100      5.49G     0.8333      2.423     0.4882     0.6337      1.241         12        640: 100%|██████████| 38/38 [00:12<00:00,  2.98it/s]\n",
      "                 Class     Images  Instances      Box(P          R      mAP50  mAP50-95)     Pose(P          R      mAP50  mAP50-95): 100%|██████████| 3/3 [00:00<00:00,  4.04it/s]"
     ]
    },
    {
     "name": "stdout",
     "output_type": "stream",
     "text": [
      "                   all         40         40      0.957       0.95      0.984      0.803      0.953      0.875      0.918        0.3\n"
     ]
    },
    {
     "name": "stderr",
     "output_type": "stream",
     "text": [
      "\n"
     ]
    },
    {
     "name": "stdout",
     "output_type": "stream",
     "text": [
      "\n",
      "      Epoch    GPU_mem   box_loss  pose_loss  kobj_loss   cls_loss   dfl_loss  Instances       Size\n"
     ]
    },
    {
     "name": "stderr",
     "output_type": "stream",
     "text": [
      "     36/100      5.47G     0.8191      2.375     0.4734     0.6313       1.23         10        640: 100%|██████████| 38/38 [00:12<00:00,  3.00it/s]\n",
      "                 Class     Images  Instances      Box(P          R      mAP50  mAP50-95)     Pose(P          R      mAP50  mAP50-95): 100%|██████████| 3/3 [00:00<00:00,  4.09it/s]"
     ]
    },
    {
     "name": "stdout",
     "output_type": "stream",
     "text": [
      "                   all         40         40      0.976      0.996      0.993      0.813      0.911      0.875      0.861      0.276\n"
     ]
    },
    {
     "name": "stderr",
     "output_type": "stream",
     "text": [
      "\n"
     ]
    },
    {
     "name": "stdout",
     "output_type": "stream",
     "text": [
      "\n",
      "      Epoch    GPU_mem   box_loss  pose_loss  kobj_loss   cls_loss   dfl_loss  Instances       Size\n"
     ]
    },
    {
     "name": "stderr",
     "output_type": "stream",
     "text": [
      "     37/100      5.47G     0.8133      2.479     0.4681     0.6528      1.238          6        640: 100%|██████████| 38/38 [00:12<00:00,  3.00it/s]\n",
      "                 Class     Images  Instances      Box(P          R      mAP50  mAP50-95)     Pose(P          R      mAP50  mAP50-95): 100%|██████████| 3/3 [00:00<00:00,  4.03it/s]"
     ]
    },
    {
     "name": "stdout",
     "output_type": "stream",
     "text": [
      "                   all         40         40      0.982      0.975      0.995      0.824      0.935        0.9      0.918      0.314\n"
     ]
    },
    {
     "name": "stderr",
     "output_type": "stream",
     "text": [
      "\n"
     ]
    },
    {
     "name": "stdout",
     "output_type": "stream",
     "text": [
      "\n",
      "      Epoch    GPU_mem   box_loss  pose_loss  kobj_loss   cls_loss   dfl_loss  Instances       Size\n"
     ]
    },
    {
     "name": "stderr",
     "output_type": "stream",
     "text": [
      "     38/100      5.47G      0.827      2.281     0.4787     0.6207      1.226          8        640: 100%|██████████| 38/38 [00:12<00:00,  3.00it/s]\n",
      "                 Class     Images  Instances      Box(P          R      mAP50  mAP50-95)     Pose(P          R      mAP50  mAP50-95): 100%|██████████| 3/3 [00:00<00:00,  4.03it/s]"
     ]
    },
    {
     "name": "stdout",
     "output_type": "stream",
     "text": [
      "                   all         40         40      0.993          1      0.995      0.792      0.963       0.95      0.946       0.31\n"
     ]
    },
    {
     "name": "stderr",
     "output_type": "stream",
     "text": [
      "\n"
     ]
    },
    {
     "name": "stdout",
     "output_type": "stream",
     "text": [
      "\n",
      "      Epoch    GPU_mem   box_loss  pose_loss  kobj_loss   cls_loss   dfl_loss  Instances       Size\n"
     ]
    },
    {
     "name": "stderr",
     "output_type": "stream",
     "text": [
      "     39/100      5.46G     0.8059      2.538     0.4656     0.6308      1.207          8        640: 100%|██████████| 38/38 [00:12<00:00,  2.99it/s]\n",
      "                 Class     Images  Instances      Box(P          R      mAP50  mAP50-95)     Pose(P          R      mAP50  mAP50-95): 100%|██████████| 3/3 [00:00<00:00,  4.11it/s]"
     ]
    },
    {
     "name": "stdout",
     "output_type": "stream",
     "text": [
      "                   all         40         40      0.997          1      0.995      0.816      0.978      0.925      0.944      0.262\n"
     ]
    },
    {
     "name": "stderr",
     "output_type": "stream",
     "text": [
      "\n"
     ]
    },
    {
     "name": "stdout",
     "output_type": "stream",
     "text": [
      "\n",
      "      Epoch    GPU_mem   box_loss  pose_loss  kobj_loss   cls_loss   dfl_loss  Instances       Size\n"
     ]
    },
    {
     "name": "stderr",
     "output_type": "stream",
     "text": [
      "     40/100      5.45G     0.8327      2.426      0.461     0.6422       1.23         11        640: 100%|██████████| 38/38 [00:12<00:00,  3.00it/s]\n",
      "                 Class     Images  Instances      Box(P          R      mAP50  mAP50-95)     Pose(P          R      mAP50  mAP50-95): 100%|██████████| 3/3 [00:00<00:00,  4.14it/s]"
     ]
    },
    {
     "name": "stdout",
     "output_type": "stream",
     "text": [
      "                   all         40         40      0.973      0.917      0.988      0.814      0.947      0.892      0.964       0.33\n"
     ]
    },
    {
     "name": "stderr",
     "output_type": "stream",
     "text": [
      "\n"
     ]
    },
    {
     "name": "stdout",
     "output_type": "stream",
     "text": [
      "\n",
      "      Epoch    GPU_mem   box_loss  pose_loss  kobj_loss   cls_loss   dfl_loss  Instances       Size\n"
     ]
    },
    {
     "name": "stderr",
     "output_type": "stream",
     "text": [
      "     41/100      5.46G        0.8      2.311      0.444     0.6284      1.215         12        640: 100%|██████████| 38/38 [00:12<00:00,  3.01it/s]\n",
      "                 Class     Images  Instances      Box(P          R      mAP50  mAP50-95)     Pose(P          R      mAP50  mAP50-95): 100%|██████████| 3/3 [00:00<00:00,  4.08it/s]"
     ]
    },
    {
     "name": "stdout",
     "output_type": "stream",
     "text": [
      "                   all         40         40          1      0.948      0.994      0.812      0.993      0.925      0.972      0.276\n"
     ]
    },
    {
     "name": "stderr",
     "output_type": "stream",
     "text": [
      "\n"
     ]
    },
    {
     "name": "stdout",
     "output_type": "stream",
     "text": [
      "\n",
      "      Epoch    GPU_mem   box_loss  pose_loss  kobj_loss   cls_loss   dfl_loss  Instances       Size\n"
     ]
    },
    {
     "name": "stderr",
     "output_type": "stream",
     "text": [
      "     42/100      5.46G     0.8056      2.391     0.4586     0.6018      1.233         14        640: 100%|██████████| 38/38 [00:12<00:00,  3.00it/s]\n",
      "                 Class     Images  Instances      Box(P          R      mAP50  mAP50-95)     Pose(P          R      mAP50  mAP50-95): 100%|██████████| 3/3 [00:00<00:00,  4.12it/s]"
     ]
    },
    {
     "name": "stdout",
     "output_type": "stream",
     "text": [
      "                   all         40         40          1      0.921       0.99      0.804          1      0.921      0.972      0.323\n"
     ]
    },
    {
     "name": "stderr",
     "output_type": "stream",
     "text": [
      "\n"
     ]
    },
    {
     "name": "stdout",
     "output_type": "stream",
     "text": [
      "\n",
      "      Epoch    GPU_mem   box_loss  pose_loss  kobj_loss   cls_loss   dfl_loss  Instances       Size\n"
     ]
    },
    {
     "name": "stderr",
     "output_type": "stream",
     "text": [
      "     43/100      5.48G     0.7681      2.381     0.4501     0.6005      1.193          9        640: 100%|██████████| 38/38 [00:12<00:00,  3.01it/s]\n",
      "                 Class     Images  Instances      Box(P          R      mAP50  mAP50-95)     Pose(P          R      mAP50  mAP50-95): 100%|██████████| 3/3 [00:00<00:00,  4.09it/s]"
     ]
    },
    {
     "name": "stdout",
     "output_type": "stream",
     "text": [
      "                   all         40         40      0.952          1      0.992      0.786      0.949      0.975      0.973      0.321\n"
     ]
    },
    {
     "name": "stderr",
     "output_type": "stream",
     "text": [
      "\n"
     ]
    },
    {
     "name": "stdout",
     "output_type": "stream",
     "text": [
      "\n",
      "      Epoch    GPU_mem   box_loss  pose_loss  kobj_loss   cls_loss   dfl_loss  Instances       Size\n"
     ]
    },
    {
     "name": "stderr",
     "output_type": "stream",
     "text": [
      "     44/100      5.48G     0.8037      2.308     0.4469      0.611      1.229          7        640: 100%|██████████| 38/38 [00:12<00:00,  3.01it/s]\n",
      "                 Class     Images  Instances      Box(P          R      mAP50  mAP50-95)     Pose(P          R      mAP50  mAP50-95): 100%|██████████| 3/3 [00:00<00:00,  4.03it/s]"
     ]
    },
    {
     "name": "stdout",
     "output_type": "stream",
     "text": [
      "                   all         40         40      0.975      0.974      0.992      0.839       0.95      0.949      0.946      0.317\n"
     ]
    },
    {
     "name": "stderr",
     "output_type": "stream",
     "text": [
      "\n"
     ]
    },
    {
     "name": "stdout",
     "output_type": "stream",
     "text": [
      "\n",
      "      Epoch    GPU_mem   box_loss  pose_loss  kobj_loss   cls_loss   dfl_loss  Instances       Size\n"
     ]
    },
    {
     "name": "stderr",
     "output_type": "stream",
     "text": [
      "     45/100      5.51G     0.7911       2.25     0.4598     0.5883      1.203         11        640: 100%|██████████| 38/38 [00:12<00:00,  3.02it/s]\n",
      "                 Class     Images  Instances      Box(P          R      mAP50  mAP50-95)     Pose(P          R      mAP50  mAP50-95): 100%|██████████| 3/3 [00:00<00:00,  4.16it/s]"
     ]
    },
    {
     "name": "stdout",
     "output_type": "stream",
     "text": [
      "                   all         40         40          1      0.973      0.984      0.827      0.936        0.9      0.894      0.292\n"
     ]
    },
    {
     "name": "stderr",
     "output_type": "stream",
     "text": [
      "\n"
     ]
    },
    {
     "name": "stdout",
     "output_type": "stream",
     "text": [
      "\n",
      "      Epoch    GPU_mem   box_loss  pose_loss  kobj_loss   cls_loss   dfl_loss  Instances       Size\n"
     ]
    },
    {
     "name": "stderr",
     "output_type": "stream",
     "text": [
      "     46/100      5.51G      0.798      2.399     0.4333      0.622       1.19         10        640: 100%|██████████| 38/38 [00:12<00:00,  3.00it/s]\n",
      "                 Class     Images  Instances      Box(P          R      mAP50  mAP50-95)     Pose(P          R      mAP50  mAP50-95): 100%|██████████| 3/3 [00:00<00:00,  3.94it/s]"
     ]
    },
    {
     "name": "stdout",
     "output_type": "stream",
     "text": [
      "                   all         40         40      0.975      0.992      0.995       0.84      0.974      0.919      0.968      0.289\n"
     ]
    },
    {
     "name": "stderr",
     "output_type": "stream",
     "text": [
      "\n"
     ]
    },
    {
     "name": "stdout",
     "output_type": "stream",
     "text": [
      "\n",
      "      Epoch    GPU_mem   box_loss  pose_loss  kobj_loss   cls_loss   dfl_loss  Instances       Size\n"
     ]
    },
    {
     "name": "stderr",
     "output_type": "stream",
     "text": [
      "     47/100      5.46G     0.7546      2.289     0.4384     0.5899      1.172          8        640: 100%|██████████| 38/38 [00:12<00:00,  2.99it/s]\n",
      "                 Class     Images  Instances      Box(P          R      mAP50  mAP50-95)     Pose(P          R      mAP50  mAP50-95): 100%|██████████| 3/3 [00:00<00:00,  3.72it/s]"
     ]
    },
    {
     "name": "stdout",
     "output_type": "stream",
     "text": [
      "                   all         40         40      0.952      0.999      0.992      0.836      0.971       0.95      0.946      0.317\n"
     ]
    },
    {
     "name": "stderr",
     "output_type": "stream",
     "text": [
      "\n"
     ]
    },
    {
     "name": "stdout",
     "output_type": "stream",
     "text": [
      "\n",
      "      Epoch    GPU_mem   box_loss  pose_loss  kobj_loss   cls_loss   dfl_loss  Instances       Size\n"
     ]
    },
    {
     "name": "stderr",
     "output_type": "stream",
     "text": [
      "     48/100      5.49G     0.7539       2.15     0.4399     0.5596       1.19          9        640: 100%|██████████| 38/38 [00:12<00:00,  2.96it/s]\n",
      "                 Class     Images  Instances      Box(P          R      mAP50  mAP50-95)     Pose(P          R      mAP50  mAP50-95): 100%|██████████| 3/3 [00:00<00:00,  3.89it/s]"
     ]
    },
    {
     "name": "stdout",
     "output_type": "stream",
     "text": [
      "                   all         40         40      0.968      0.975      0.994      0.824      0.943       0.95      0.968      0.303\n"
     ]
    },
    {
     "name": "stderr",
     "output_type": "stream",
     "text": [
      "\n"
     ]
    },
    {
     "name": "stdout",
     "output_type": "stream",
     "text": [
      "\n",
      "      Epoch    GPU_mem   box_loss  pose_loss  kobj_loss   cls_loss   dfl_loss  Instances       Size\n"
     ]
    },
    {
     "name": "stderr",
     "output_type": "stream",
     "text": [
      "     49/100      5.47G     0.7181      2.335     0.4175     0.5433      1.171         11        640: 100%|██████████| 38/38 [00:12<00:00,  2.99it/s]\n",
      "                 Class     Images  Instances      Box(P          R      mAP50  mAP50-95)     Pose(P          R      mAP50  mAP50-95): 100%|██████████| 3/3 [00:00<00:00,  4.05it/s]"
     ]
    },
    {
     "name": "stdout",
     "output_type": "stream",
     "text": [
      "                   all         40         40      0.992          1      0.995      0.827      0.917      0.925      0.904       0.31\n"
     ]
    },
    {
     "name": "stderr",
     "output_type": "stream",
     "text": [
      "\n"
     ]
    },
    {
     "name": "stdout",
     "output_type": "stream",
     "text": [
      "\n",
      "      Epoch    GPU_mem   box_loss  pose_loss  kobj_loss   cls_loss   dfl_loss  Instances       Size\n"
     ]
    },
    {
     "name": "stderr",
     "output_type": "stream",
     "text": [
      "     50/100      5.48G     0.7166      2.158     0.4211      0.533      1.152          9        640: 100%|██████████| 38/38 [00:12<00:00,  2.98it/s]\n",
      "                 Class     Images  Instances      Box(P          R      mAP50  mAP50-95)     Pose(P          R      mAP50  mAP50-95): 100%|██████████| 3/3 [00:00<00:00,  4.19it/s]"
     ]
    },
    {
     "name": "stdout",
     "output_type": "stream",
     "text": [
      "                   all         40         40      0.998          1      0.995      0.862      0.957       0.95      0.946        0.3\n"
     ]
    },
    {
     "name": "stderr",
     "output_type": "stream",
     "text": [
      "\n"
     ]
    },
    {
     "name": "stdout",
     "output_type": "stream",
     "text": [
      "\n",
      "      Epoch    GPU_mem   box_loss  pose_loss  kobj_loss   cls_loss   dfl_loss  Instances       Size\n"
     ]
    },
    {
     "name": "stderr",
     "output_type": "stream",
     "text": [
      "     51/100       5.5G     0.7122      2.058     0.4272      0.544       1.16          8        640: 100%|██████████| 38/38 [00:12<00:00,  3.01it/s]\n",
      "                 Class     Images  Instances      Box(P          R      mAP50  mAP50-95)     Pose(P          R      mAP50  mAP50-95): 100%|██████████| 3/3 [00:00<00:00,  3.64it/s]"
     ]
    },
    {
     "name": "stdout",
     "output_type": "stream",
     "text": [
      "                   all         40         40      0.974          1      0.995      0.862      0.969      0.925      0.914      0.313\n"
     ]
    },
    {
     "name": "stderr",
     "output_type": "stream",
     "text": [
      "\n"
     ]
    },
    {
     "name": "stdout",
     "output_type": "stream",
     "text": [
      "\n",
      "      Epoch    GPU_mem   box_loss  pose_loss  kobj_loss   cls_loss   dfl_loss  Instances       Size\n"
     ]
    },
    {
     "name": "stderr",
     "output_type": "stream",
     "text": [
      "     52/100      5.49G     0.7475       2.15     0.4293     0.5339      1.181          9        640: 100%|██████████| 38/38 [00:12<00:00,  3.00it/s]\n",
      "                 Class     Images  Instances      Box(P          R      mAP50  mAP50-95)     Pose(P          R      mAP50  mAP50-95): 100%|██████████| 3/3 [00:00<00:00,  3.95it/s]"
     ]
    },
    {
     "name": "stdout",
     "output_type": "stream",
     "text": [
      "                   all         40         40      0.971          1      0.993       0.83      0.957      0.975      0.975      0.329\n"
     ]
    },
    {
     "name": "stderr",
     "output_type": "stream",
     "text": [
      "\n"
     ]
    },
    {
     "name": "stdout",
     "output_type": "stream",
     "text": [
      "\n",
      "      Epoch    GPU_mem   box_loss  pose_loss  kobj_loss   cls_loss   dfl_loss  Instances       Size\n"
     ]
    },
    {
     "name": "stderr",
     "output_type": "stream",
     "text": [
      "     53/100      5.46G     0.7151      2.166     0.4259     0.5612      1.161          9        640: 100%|██████████| 38/38 [00:12<00:00,  3.01it/s]\n",
      "                 Class     Images  Instances      Box(P          R      mAP50  mAP50-95)     Pose(P          R      mAP50  mAP50-95): 100%|██████████| 3/3 [00:00<00:00,  4.09it/s]"
     ]
    },
    {
     "name": "stdout",
     "output_type": "stream",
     "text": [
      "                   all         40         40      0.956          1      0.995       0.84      0.932      0.975      0.972      0.344\n"
     ]
    },
    {
     "name": "stderr",
     "output_type": "stream",
     "text": [
      "\n"
     ]
    },
    {
     "name": "stdout",
     "output_type": "stream",
     "text": [
      "\n",
      "      Epoch    GPU_mem   box_loss  pose_loss  kobj_loss   cls_loss   dfl_loss  Instances       Size\n"
     ]
    },
    {
     "name": "stderr",
     "output_type": "stream",
     "text": [
      "     54/100       5.5G      0.748      2.181     0.4306     0.5446      1.189          9        640: 100%|██████████| 38/38 [00:12<00:00,  2.99it/s]\n",
      "                 Class     Images  Instances      Box(P          R      mAP50  mAP50-95)     Pose(P          R      mAP50  mAP50-95): 100%|██████████| 3/3 [00:00<00:00,  4.17it/s]"
     ]
    },
    {
     "name": "stdout",
     "output_type": "stream",
     "text": [
      "                   all         40         40      0.995          1      0.995      0.822      0.945       0.95      0.934      0.281\n"
     ]
    },
    {
     "name": "stderr",
     "output_type": "stream",
     "text": [
      "\n"
     ]
    },
    {
     "name": "stdout",
     "output_type": "stream",
     "text": [
      "\n",
      "      Epoch    GPU_mem   box_loss  pose_loss  kobj_loss   cls_loss   dfl_loss  Instances       Size\n"
     ]
    },
    {
     "name": "stderr",
     "output_type": "stream",
     "text": [
      "     55/100      5.46G     0.7507      2.236     0.4232     0.5484      1.167         11        640: 100%|██████████| 38/38 [00:12<00:00,  2.99it/s]\n",
      "                 Class     Images  Instances      Box(P          R      mAP50  mAP50-95)     Pose(P          R      mAP50  mAP50-95): 100%|██████████| 3/3 [00:00<00:00,  4.06it/s]"
     ]
    },
    {
     "name": "stdout",
     "output_type": "stream",
     "text": [
      "                   all         40         40          1      0.999      0.995      0.831       0.95       0.95      0.955      0.314\n"
     ]
    },
    {
     "name": "stderr",
     "output_type": "stream",
     "text": [
      "\n"
     ]
    },
    {
     "name": "stdout",
     "output_type": "stream",
     "text": [
      "\n",
      "      Epoch    GPU_mem   box_loss  pose_loss  kobj_loss   cls_loss   dfl_loss  Instances       Size\n"
     ]
    },
    {
     "name": "stderr",
     "output_type": "stream",
     "text": [
      "     56/100      5.45G     0.7208      2.132      0.414     0.5336      1.159          8        640: 100%|██████████| 38/38 [00:12<00:00,  2.99it/s]\n",
      "                 Class     Images  Instances      Box(P          R      mAP50  mAP50-95)     Pose(P          R      mAP50  mAP50-95): 100%|██████████| 3/3 [00:00<00:00,  3.99it/s]"
     ]
    },
    {
     "name": "stdout",
     "output_type": "stream",
     "text": [
      "                   all         40         40      0.994          1      0.995      0.845      0.944       0.95       0.95      0.309\n"
     ]
    },
    {
     "name": "stderr",
     "output_type": "stream",
     "text": [
      "\n"
     ]
    },
    {
     "name": "stdout",
     "output_type": "stream",
     "text": [
      "\n",
      "      Epoch    GPU_mem   box_loss  pose_loss  kobj_loss   cls_loss   dfl_loss  Instances       Size\n"
     ]
    },
    {
     "name": "stderr",
     "output_type": "stream",
     "text": [
      "     57/100      5.51G     0.6984       2.14      0.409     0.5288      1.123         15        640: 100%|██████████| 38/38 [00:12<00:00,  2.99it/s]\n",
      "                 Class     Images  Instances      Box(P          R      mAP50  mAP50-95)     Pose(P          R      mAP50  mAP50-95): 100%|██████████| 3/3 [00:00<00:00,  4.07it/s]"
     ]
    },
    {
     "name": "stdout",
     "output_type": "stream",
     "text": [
      "                   all         40         40       0.97      0.975      0.989       0.84      0.988      0.975      0.976      0.323\n"
     ]
    },
    {
     "name": "stderr",
     "output_type": "stream",
     "text": [
      "\n"
     ]
    },
    {
     "name": "stdout",
     "output_type": "stream",
     "text": [
      "\n",
      "      Epoch    GPU_mem   box_loss  pose_loss  kobj_loss   cls_loss   dfl_loss  Instances       Size\n"
     ]
    },
    {
     "name": "stderr",
     "output_type": "stream",
     "text": [
      "     58/100      5.51G     0.7444      1.954     0.4146     0.5727      1.178          9        640: 100%|██████████| 38/38 [00:12<00:00,  2.99it/s]\n",
      "                 Class     Images  Instances      Box(P          R      mAP50  mAP50-95)     Pose(P          R      mAP50  mAP50-95): 100%|██████████| 3/3 [00:00<00:00,  3.93it/s]"
     ]
    },
    {
     "name": "stdout",
     "output_type": "stream",
     "text": [
      "                   all         40         40      0.992      0.975      0.995       0.84          1      0.919      0.945      0.327\n"
     ]
    },
    {
     "name": "stderr",
     "output_type": "stream",
     "text": [
      "\n"
     ]
    },
    {
     "name": "stdout",
     "output_type": "stream",
     "text": [
      "\n",
      "      Epoch    GPU_mem   box_loss  pose_loss  kobj_loss   cls_loss   dfl_loss  Instances       Size\n"
     ]
    },
    {
     "name": "stderr",
     "output_type": "stream",
     "text": [
      "     59/100      5.46G     0.6769      1.969     0.4249     0.5324      1.122          9        640: 100%|██████████| 38/38 [00:12<00:00,  2.98it/s]\n",
      "                 Class     Images  Instances      Box(P          R      mAP50  mAP50-95)     Pose(P          R      mAP50  mAP50-95): 100%|██████████| 3/3 [00:00<00:00,  3.97it/s]"
     ]
    },
    {
     "name": "stdout",
     "output_type": "stream",
     "text": [
      "                   all         40         40       0.96          1      0.994      0.874      0.949      0.928      0.945      0.349\n"
     ]
    },
    {
     "name": "stderr",
     "output_type": "stream",
     "text": [
      "\n"
     ]
    },
    {
     "name": "stdout",
     "output_type": "stream",
     "text": [
      "\n",
      "      Epoch    GPU_mem   box_loss  pose_loss  kobj_loss   cls_loss   dfl_loss  Instances       Size\n"
     ]
    },
    {
     "name": "stderr",
     "output_type": "stream",
     "text": [
      "     60/100      5.44G     0.6846      2.214     0.4076     0.5377      1.139         11        640: 100%|██████████| 38/38 [00:12<00:00,  2.99it/s]\n",
      "                 Class     Images  Instances      Box(P          R      mAP50  mAP50-95)     Pose(P          R      mAP50  mAP50-95): 100%|██████████| 3/3 [00:00<00:00,  4.02it/s]"
     ]
    },
    {
     "name": "stdout",
     "output_type": "stream",
     "text": [
      "                   all         40         40      0.998          1      0.995      0.831      0.972      0.975      0.974      0.306\n"
     ]
    },
    {
     "name": "stderr",
     "output_type": "stream",
     "text": [
      "\n"
     ]
    },
    {
     "name": "stdout",
     "output_type": "stream",
     "text": [
      "\n",
      "      Epoch    GPU_mem   box_loss  pose_loss  kobj_loss   cls_loss   dfl_loss  Instances       Size\n"
     ]
    },
    {
     "name": "stderr",
     "output_type": "stream",
     "text": [
      "     61/100      5.47G     0.6626       1.97     0.4161     0.4952      1.123         11        640: 100%|██████████| 38/38 [00:12<00:00,  3.01it/s]\n",
      "                 Class     Images  Instances      Box(P          R      mAP50  mAP50-95)     Pose(P          R      mAP50  mAP50-95): 100%|██████████| 3/3 [00:00<00:00,  4.09it/s]"
     ]
    },
    {
     "name": "stdout",
     "output_type": "stream",
     "text": [
      "                   all         40         40      0.993      0.975      0.992      0.848      0.968       0.95       0.97      0.322\n"
     ]
    },
    {
     "name": "stderr",
     "output_type": "stream",
     "text": [
      "\n"
     ]
    },
    {
     "name": "stdout",
     "output_type": "stream",
     "text": [
      "\n",
      "      Epoch    GPU_mem   box_loss  pose_loss  kobj_loss   cls_loss   dfl_loss  Instances       Size\n"
     ]
    },
    {
     "name": "stderr",
     "output_type": "stream",
     "text": [
      "     62/100      5.49G      0.726      2.146     0.4142      0.552       1.17          8        640: 100%|██████████| 38/38 [00:12<00:00,  3.00it/s]\n",
      "                 Class     Images  Instances      Box(P          R      mAP50  mAP50-95)     Pose(P          R      mAP50  mAP50-95): 100%|██████████| 3/3 [00:00<00:00,  3.91it/s]"
     ]
    },
    {
     "name": "stdout",
     "output_type": "stream",
     "text": [
      "                   all         40         40      0.997      0.975      0.989      0.832      0.988       0.95      0.966      0.334\n"
     ]
    },
    {
     "name": "stderr",
     "output_type": "stream",
     "text": [
      "\n"
     ]
    },
    {
     "name": "stdout",
     "output_type": "stream",
     "text": [
      "\n",
      "      Epoch    GPU_mem   box_loss  pose_loss  kobj_loss   cls_loss   dfl_loss  Instances       Size\n"
     ]
    },
    {
     "name": "stderr",
     "output_type": "stream",
     "text": [
      "     63/100      5.51G     0.6851      2.069     0.4005     0.5145      1.139          7        640: 100%|██████████| 38/38 [00:12<00:00,  3.00it/s]\n",
      "                 Class     Images  Instances      Box(P          R      mAP50  mAP50-95)     Pose(P          R      mAP50  mAP50-95): 100%|██████████| 3/3 [00:00<00:00,  4.09it/s]"
     ]
    },
    {
     "name": "stdout",
     "output_type": "stream",
     "text": [
      "                   all         40         40      0.997          1      0.995       0.85          1      0.965      0.976      0.326\n"
     ]
    },
    {
     "name": "stderr",
     "output_type": "stream",
     "text": [
      "\n"
     ]
    },
    {
     "name": "stdout",
     "output_type": "stream",
     "text": [
      "\n",
      "      Epoch    GPU_mem   box_loss  pose_loss  kobj_loss   cls_loss   dfl_loss  Instances       Size\n"
     ]
    },
    {
     "name": "stderr",
     "output_type": "stream",
     "text": [
      "     64/100      5.48G     0.6612      2.014     0.3951     0.5042      1.119         12        640: 100%|██████████| 38/38 [00:12<00:00,  3.00it/s]\n",
      "                 Class     Images  Instances      Box(P          R      mAP50  mAP50-95)     Pose(P          R      mAP50  mAP50-95): 100%|██████████| 3/3 [00:00<00:00,  3.99it/s]"
     ]
    },
    {
     "name": "stdout",
     "output_type": "stream",
     "text": [
      "                   all         40         40       0.97          1      0.995      0.874      0.945      0.975      0.974      0.337\n"
     ]
    },
    {
     "name": "stderr",
     "output_type": "stream",
     "text": [
      "\n"
     ]
    },
    {
     "name": "stdout",
     "output_type": "stream",
     "text": [
      "\n",
      "      Epoch    GPU_mem   box_loss  pose_loss  kobj_loss   cls_loss   dfl_loss  Instances       Size\n"
     ]
    },
    {
     "name": "stderr",
     "output_type": "stream",
     "text": [
      "     65/100      5.48G     0.6819      1.896     0.4134     0.5067      1.142         10        640: 100%|██████████| 38/38 [00:12<00:00,  3.00it/s]\n",
      "                 Class     Images  Instances      Box(P          R      mAP50  mAP50-95)     Pose(P          R      mAP50  mAP50-95): 100%|██████████| 3/3 [00:00<00:00,  3.84it/s]"
     ]
    },
    {
     "name": "stdout",
     "output_type": "stream",
     "text": [
      "                   all         40         40      0.993          1      0.995      0.874      0.968      0.975      0.974      0.314\n"
     ]
    },
    {
     "name": "stderr",
     "output_type": "stream",
     "text": [
      "\n"
     ]
    },
    {
     "name": "stdout",
     "output_type": "stream",
     "text": [
      "\n",
      "      Epoch    GPU_mem   box_loss  pose_loss  kobj_loss   cls_loss   dfl_loss  Instances       Size\n"
     ]
    },
    {
     "name": "stderr",
     "output_type": "stream",
     "text": [
      "     66/100      5.51G     0.6833      1.902     0.4188     0.5218      1.141         13        640: 100%|██████████| 38/38 [00:12<00:00,  3.00it/s]\n",
      "                 Class     Images  Instances      Box(P          R      mAP50  mAP50-95)     Pose(P          R      mAP50  mAP50-95): 100%|██████████| 3/3 [00:00<00:00,  3.96it/s]"
     ]
    },
    {
     "name": "stdout",
     "output_type": "stream",
     "text": [
      "                   all         40         40      0.994          1      0.995      0.869      0.901      0.925      0.899      0.306\n"
     ]
    },
    {
     "name": "stderr",
     "output_type": "stream",
     "text": [
      "\n"
     ]
    },
    {
     "name": "stdout",
     "output_type": "stream",
     "text": [
      "\n",
      "      Epoch    GPU_mem   box_loss  pose_loss  kobj_loss   cls_loss   dfl_loss  Instances       Size\n"
     ]
    },
    {
     "name": "stderr",
     "output_type": "stream",
     "text": [
      "     67/100      5.46G     0.6418      1.939     0.3885     0.4897      1.105         12        640: 100%|██████████| 38/38 [00:12<00:00,  3.01it/s]\n",
      "                 Class     Images  Instances      Box(P          R      mAP50  mAP50-95)     Pose(P          R      mAP50  mAP50-95): 100%|██████████| 3/3 [00:00<00:00,  4.10it/s]"
     ]
    },
    {
     "name": "stdout",
     "output_type": "stream",
     "text": [
      "                   all         40         40      0.997          1      0.995      0.861      0.947       0.95      0.951      0.319\n"
     ]
    },
    {
     "name": "stderr",
     "output_type": "stream",
     "text": [
      "\n"
     ]
    },
    {
     "name": "stdout",
     "output_type": "stream",
     "text": [
      "\n",
      "      Epoch    GPU_mem   box_loss  pose_loss  kobj_loss   cls_loss   dfl_loss  Instances       Size\n"
     ]
    },
    {
     "name": "stderr",
     "output_type": "stream",
     "text": [
      "     68/100      5.44G     0.6595      1.914     0.4103     0.4913      1.127         10        640: 100%|██████████| 38/38 [00:12<00:00,  3.01it/s]\n",
      "                 Class     Images  Instances      Box(P          R      mAP50  mAP50-95)     Pose(P          R      mAP50  mAP50-95): 100%|██████████| 3/3 [00:00<00:00,  4.07it/s]"
     ]
    },
    {
     "name": "stdout",
     "output_type": "stream",
     "text": [
      "                   all         40         40          1      0.998      0.995      0.837       0.98      0.975      0.977      0.304\n"
     ]
    },
    {
     "name": "stderr",
     "output_type": "stream",
     "text": [
      "\n"
     ]
    },
    {
     "name": "stdout",
     "output_type": "stream",
     "text": [
      "\n",
      "      Epoch    GPU_mem   box_loss  pose_loss  kobj_loss   cls_loss   dfl_loss  Instances       Size\n"
     ]
    },
    {
     "name": "stderr",
     "output_type": "stream",
     "text": [
      "     69/100       5.5G     0.6564      2.004     0.4002     0.4935      1.123          6        640: 100%|██████████| 38/38 [00:12<00:00,  3.01it/s]\n",
      "                 Class     Images  Instances      Box(P          R      mAP50  mAP50-95)     Pose(P          R      mAP50  mAP50-95): 100%|██████████| 3/3 [00:00<00:00,  3.96it/s]"
     ]
    },
    {
     "name": "stdout",
     "output_type": "stream",
     "text": [
      "                   all         40         40      0.995          1      0.995       0.87       0.97      0.975      0.976      0.333\n"
     ]
    },
    {
     "name": "stderr",
     "output_type": "stream",
     "text": [
      "\n"
     ]
    },
    {
     "name": "stdout",
     "output_type": "stream",
     "text": [
      "\n",
      "      Epoch    GPU_mem   box_loss  pose_loss  kobj_loss   cls_loss   dfl_loss  Instances       Size\n"
     ]
    },
    {
     "name": "stderr",
     "output_type": "stream",
     "text": [
      "     70/100      5.48G     0.6698      2.009     0.3844     0.4965      1.136         10        640: 100%|██████████| 38/38 [00:12<00:00,  2.99it/s]\n",
      "                 Class     Images  Instances      Box(P          R      mAP50  mAP50-95)     Pose(P          R      mAP50  mAP50-95): 100%|██████████| 3/3 [00:00<00:00,  4.11it/s]"
     ]
    },
    {
     "name": "stdout",
     "output_type": "stream",
     "text": [
      "                   all         40         40      0.998          1      0.995      0.853      0.959       0.95      0.968      0.334\n"
     ]
    },
    {
     "name": "stderr",
     "output_type": "stream",
     "text": [
      "\n"
     ]
    },
    {
     "name": "stdout",
     "output_type": "stream",
     "text": [
      "\n",
      "      Epoch    GPU_mem   box_loss  pose_loss  kobj_loss   cls_loss   dfl_loss  Instances       Size\n"
     ]
    },
    {
     "name": "stderr",
     "output_type": "stream",
     "text": [
      "     71/100      5.51G     0.6581      1.942     0.4026     0.4969      1.125         11        640: 100%|██████████| 38/38 [00:12<00:00,  2.98it/s]\n",
      "                 Class     Images  Instances      Box(P          R      mAP50  mAP50-95)     Pose(P          R      mAP50  mAP50-95): 100%|██████████| 3/3 [00:00<00:00,  3.93it/s]"
     ]
    },
    {
     "name": "stdout",
     "output_type": "stream",
     "text": [
      "                   all         40         40      0.971          1      0.995      0.834      0.969       0.95      0.941      0.269\n"
     ]
    },
    {
     "name": "stderr",
     "output_type": "stream",
     "text": [
      "\n"
     ]
    },
    {
     "name": "stdout",
     "output_type": "stream",
     "text": [
      "\n",
      "      Epoch    GPU_mem   box_loss  pose_loss  kobj_loss   cls_loss   dfl_loss  Instances       Size\n"
     ]
    },
    {
     "name": "stderr",
     "output_type": "stream",
     "text": [
      "     72/100      5.49G     0.6369      1.862     0.4017     0.4887      1.107         10        640: 100%|██████████| 38/38 [00:12<00:00,  2.97it/s]\n",
      "                 Class     Images  Instances      Box(P          R      mAP50  mAP50-95)     Pose(P          R      mAP50  mAP50-95): 100%|██████████| 3/3 [00:00<00:00,  4.04it/s]"
     ]
    },
    {
     "name": "stdout",
     "output_type": "stream",
     "text": [
      "                   all         40         40      0.997          1      0.995      0.874      0.987      0.975      0.976      0.334\n"
     ]
    },
    {
     "name": "stderr",
     "output_type": "stream",
     "text": [
      "\n"
     ]
    },
    {
     "name": "stdout",
     "output_type": "stream",
     "text": [
      "\n",
      "      Epoch    GPU_mem   box_loss  pose_loss  kobj_loss   cls_loss   dfl_loss  Instances       Size\n"
     ]
    },
    {
     "name": "stderr",
     "output_type": "stream",
     "text": [
      "     73/100       5.5G       0.62      2.112     0.4017     0.4705      1.084         10        640: 100%|██████████| 38/38 [00:12<00:00,  3.00it/s]\n",
      "                 Class     Images  Instances      Box(P          R      mAP50  mAP50-95)     Pose(P          R      mAP50  mAP50-95): 100%|██████████| 3/3 [00:00<00:00,  4.04it/s]"
     ]
    },
    {
     "name": "stdout",
     "output_type": "stream",
     "text": [
      "                   all         40         40      0.998          1      0.995      0.855      0.973      0.975      0.975      0.325\n"
     ]
    },
    {
     "name": "stderr",
     "output_type": "stream",
     "text": [
      "\n"
     ]
    },
    {
     "name": "stdout",
     "output_type": "stream",
     "text": [
      "\n",
      "      Epoch    GPU_mem   box_loss  pose_loss  kobj_loss   cls_loss   dfl_loss  Instances       Size\n"
     ]
    },
    {
     "name": "stderr",
     "output_type": "stream",
     "text": [
      "     74/100      5.51G     0.6451      2.019     0.3927     0.4828      1.116         13        640: 100%|██████████| 38/38 [00:12<00:00,  3.00it/s]\n",
      "                 Class     Images  Instances      Box(P          R      mAP50  mAP50-95)     Pose(P          R      mAP50  mAP50-95): 100%|██████████| 3/3 [00:00<00:00,  4.14it/s]"
     ]
    },
    {
     "name": "stdout",
     "output_type": "stream",
     "text": [
      "                   all         40         40      0.999          1      0.995      0.861      0.941      0.925      0.919      0.318\n"
     ]
    },
    {
     "name": "stderr",
     "output_type": "stream",
     "text": [
      "\n"
     ]
    },
    {
     "name": "stdout",
     "output_type": "stream",
     "text": [
      "\n",
      "      Epoch    GPU_mem   box_loss  pose_loss  kobj_loss   cls_loss   dfl_loss  Instances       Size\n"
     ]
    },
    {
     "name": "stderr",
     "output_type": "stream",
     "text": [
      "     75/100      5.51G     0.6773      1.944     0.3993     0.5165      1.127         13        640: 100%|██████████| 38/38 [00:12<00:00,  3.00it/s]\n",
      "                 Class     Images  Instances      Box(P          R      mAP50  mAP50-95)     Pose(P          R      mAP50  mAP50-95): 100%|██████████| 3/3 [00:00<00:00,  4.09it/s]"
     ]
    },
    {
     "name": "stdout",
     "output_type": "stream",
     "text": [
      "                   all         40         40          1      0.998      0.995      0.846      0.948      0.925       0.92      0.318\n"
     ]
    },
    {
     "name": "stderr",
     "output_type": "stream",
     "text": [
      "\n"
     ]
    },
    {
     "name": "stdout",
     "output_type": "stream",
     "text": [
      "\n",
      "      Epoch    GPU_mem   box_loss  pose_loss  kobj_loss   cls_loss   dfl_loss  Instances       Size\n"
     ]
    },
    {
     "name": "stderr",
     "output_type": "stream",
     "text": [
      "     76/100      5.47G     0.6211      1.982     0.3913      0.487        1.1         15        640: 100%|██████████| 38/38 [00:12<00:00,  3.00it/s]\n",
      "                 Class     Images  Instances      Box(P          R      mAP50  mAP50-95)     Pose(P          R      mAP50  mAP50-95): 100%|██████████| 3/3 [00:00<00:00,  4.04it/s]"
     ]
    },
    {
     "name": "stdout",
     "output_type": "stream",
     "text": [
      "                   all         40         40      0.996      0.975      0.994      0.859      0.971       0.95      0.947      0.337\n"
     ]
    },
    {
     "name": "stderr",
     "output_type": "stream",
     "text": [
      "\n"
     ]
    },
    {
     "name": "stdout",
     "output_type": "stream",
     "text": [
      "\n",
      "      Epoch    GPU_mem   box_loss  pose_loss  kobj_loss   cls_loss   dfl_loss  Instances       Size\n"
     ]
    },
    {
     "name": "stderr",
     "output_type": "stream",
     "text": [
      "     77/100      5.51G     0.5833       1.74     0.4086     0.4616      1.083         14        640: 100%|██████████| 38/38 [00:12<00:00,  2.99it/s]\n",
      "                 Class     Images  Instances      Box(P          R      mAP50  mAP50-95)     Pose(P          R      mAP50  mAP50-95): 100%|██████████| 3/3 [00:00<00:00,  4.08it/s]"
     ]
    },
    {
     "name": "stdout",
     "output_type": "stream",
     "text": [
      "                   all         40         40      0.969      0.975      0.992      0.863          1      0.966      0.976      0.343\n"
     ]
    },
    {
     "name": "stderr",
     "output_type": "stream",
     "text": [
      "\n"
     ]
    },
    {
     "name": "stdout",
     "output_type": "stream",
     "text": [
      "\n",
      "      Epoch    GPU_mem   box_loss  pose_loss  kobj_loss   cls_loss   dfl_loss  Instances       Size\n"
     ]
    },
    {
     "name": "stderr",
     "output_type": "stream",
     "text": [
      "     78/100      5.48G     0.6683      1.926       0.38     0.4937       1.13         11        640: 100%|██████████| 38/38 [00:12<00:00,  2.99it/s]\n",
      "                 Class     Images  Instances      Box(P          R      mAP50  mAP50-95)     Pose(P          R      mAP50  mAP50-95): 100%|██████████| 3/3 [00:00<00:00,  4.05it/s]"
     ]
    },
    {
     "name": "stdout",
     "output_type": "stream",
     "text": [
      "                   all         40         40      0.997          1      0.995      0.858      0.972      0.975      0.975      0.351\n"
     ]
    },
    {
     "name": "stderr",
     "output_type": "stream",
     "text": [
      "\n"
     ]
    },
    {
     "name": "stdout",
     "output_type": "stream",
     "text": [
      "\n",
      "      Epoch    GPU_mem   box_loss  pose_loss  kobj_loss   cls_loss   dfl_loss  Instances       Size\n"
     ]
    },
    {
     "name": "stderr",
     "output_type": "stream",
     "text": [
      "     79/100      5.51G     0.6164      1.834     0.3919     0.4771      1.092         11        640: 100%|██████████| 38/38 [00:12<00:00,  2.98it/s]\n",
      "                 Class     Images  Instances      Box(P          R      mAP50  mAP50-95)     Pose(P          R      mAP50  mAP50-95): 100%|██████████| 3/3 [00:00<00:00,  3.81it/s]"
     ]
    },
    {
     "name": "stdout",
     "output_type": "stream",
     "text": [
      "                   all         40         40          1      0.972      0.995      0.851          1      0.972      0.976      0.321\n"
     ]
    },
    {
     "name": "stderr",
     "output_type": "stream",
     "text": [
      "\n"
     ]
    },
    {
     "name": "stdout",
     "output_type": "stream",
     "text": [
      "\n",
      "      Epoch    GPU_mem   box_loss  pose_loss  kobj_loss   cls_loss   dfl_loss  Instances       Size\n"
     ]
    },
    {
     "name": "stderr",
     "output_type": "stream",
     "text": [
      "     80/100      5.48G     0.5768      1.976     0.3834     0.4579      1.059          5        640: 100%|██████████| 38/38 [00:12<00:00,  2.99it/s]\n",
      "                 Class     Images  Instances      Box(P          R      mAP50  mAP50-95)     Pose(P          R      mAP50  mAP50-95): 100%|██████████| 3/3 [00:00<00:00,  4.07it/s]"
     ]
    },
    {
     "name": "stdout",
     "output_type": "stream",
     "text": [
      "                   all         40         40          1          1      0.995      0.897      0.994      0.975      0.977       0.36\n"
     ]
    },
    {
     "name": "stderr",
     "output_type": "stream",
     "text": [
      "\n"
     ]
    },
    {
     "name": "stdout",
     "output_type": "stream",
     "text": [
      "\n",
      "      Epoch    GPU_mem   box_loss  pose_loss  kobj_loss   cls_loss   dfl_loss  Instances       Size\n"
     ]
    },
    {
     "name": "stderr",
     "output_type": "stream",
     "text": [
      "     81/100      5.47G     0.6249      1.896     0.3991     0.4319      1.097          9        640: 100%|██████████| 38/38 [00:12<00:00,  3.00it/s]\n",
      "                 Class     Images  Instances      Box(P          R      mAP50  mAP50-95)     Pose(P          R      mAP50  mAP50-95): 100%|██████████| 3/3 [00:00<00:00,  3.98it/s]"
     ]
    },
    {
     "name": "stdout",
     "output_type": "stream",
     "text": [
      "                   all         40         40      0.998          1      0.995      0.882      0.992      0.975      0.977      0.362\n"
     ]
    },
    {
     "name": "stderr",
     "output_type": "stream",
     "text": [
      "\n"
     ]
    },
    {
     "name": "stdout",
     "output_type": "stream",
     "text": [
      "\n",
      "      Epoch    GPU_mem   box_loss  pose_loss  kobj_loss   cls_loss   dfl_loss  Instances       Size\n"
     ]
    },
    {
     "name": "stderr",
     "output_type": "stream",
     "text": [
      "     82/100       5.5G     0.6168      1.788     0.3997     0.4548      1.099         13        640: 100%|██████████| 38/38 [00:12<00:00,  2.98it/s]\n",
      "                 Class     Images  Instances      Box(P          R      mAP50  mAP50-95)     Pose(P          R      mAP50  mAP50-95): 100%|██████████| 3/3 [00:00<00:00,  4.00it/s]"
     ]
    },
    {
     "name": "stdout",
     "output_type": "stream",
     "text": [
      "                   all         40         40      0.999          1      0.995      0.885      0.994      0.975      0.977      0.348\n"
     ]
    },
    {
     "name": "stderr",
     "output_type": "stream",
     "text": [
      "\n"
     ]
    },
    {
     "name": "stdout",
     "output_type": "stream",
     "text": [
      "\n",
      "      Epoch    GPU_mem   box_loss  pose_loss  kobj_loss   cls_loss   dfl_loss  Instances       Size\n"
     ]
    },
    {
     "name": "stderr",
     "output_type": "stream",
     "text": [
      "     83/100      5.46G     0.5992       1.97     0.3678     0.4554       1.08          9        640: 100%|██████████| 38/38 [00:12<00:00,  3.00it/s]\n",
      "                 Class     Images  Instances      Box(P          R      mAP50  mAP50-95)     Pose(P          R      mAP50  mAP50-95): 100%|██████████| 3/3 [00:00<00:00,  4.07it/s]"
     ]
    },
    {
     "name": "stdout",
     "output_type": "stream",
     "text": [
      "                   all         40         40          1          1      0.995      0.885      0.995      0.975      0.976      0.339\n"
     ]
    },
    {
     "name": "stderr",
     "output_type": "stream",
     "text": [
      "\n"
     ]
    },
    {
     "name": "stdout",
     "output_type": "stream",
     "text": [
      "\n",
      "      Epoch    GPU_mem   box_loss  pose_loss  kobj_loss   cls_loss   dfl_loss  Instances       Size\n"
     ]
    },
    {
     "name": "stderr",
     "output_type": "stream",
     "text": [
      "     84/100      5.49G     0.5933      1.775     0.3794     0.4458      1.082          9        640: 100%|██████████| 38/38 [00:12<00:00,  3.00it/s]\n",
      "                 Class     Images  Instances      Box(P          R      mAP50  mAP50-95)     Pose(P          R      mAP50  mAP50-95): 100%|██████████| 3/3 [00:00<00:00,  4.11it/s]"
     ]
    },
    {
     "name": "stdout",
     "output_type": "stream",
     "text": [
      "                   all         40         40      0.999          1      0.995        0.9       0.97       0.95      0.944      0.322\n"
     ]
    },
    {
     "name": "stderr",
     "output_type": "stream",
     "text": [
      "\n"
     ]
    },
    {
     "name": "stdout",
     "output_type": "stream",
     "text": [
      "\n",
      "      Epoch    GPU_mem   box_loss  pose_loss  kobj_loss   cls_loss   dfl_loss  Instances       Size\n"
     ]
    },
    {
     "name": "stderr",
     "output_type": "stream",
     "text": [
      "     85/100       5.5G     0.5692      1.853      0.374     0.4542      1.092          8        640: 100%|██████████| 38/38 [00:12<00:00,  3.00it/s]\n",
      "                 Class     Images  Instances      Box(P          R      mAP50  mAP50-95)     Pose(P          R      mAP50  mAP50-95): 100%|██████████| 3/3 [00:00<00:00,  4.05it/s]"
     ]
    },
    {
     "name": "stdout",
     "output_type": "stream",
     "text": [
      "                   all         40         40      0.998          1      0.995      0.895      0.994      0.975      0.976      0.329\n"
     ]
    },
    {
     "name": "stderr",
     "output_type": "stream",
     "text": [
      "\n"
     ]
    },
    {
     "name": "stdout",
     "output_type": "stream",
     "text": [
      "\n",
      "      Epoch    GPU_mem   box_loss  pose_loss  kobj_loss   cls_loss   dfl_loss  Instances       Size\n"
     ]
    },
    {
     "name": "stderr",
     "output_type": "stream",
     "text": [
      "     86/100       5.5G     0.5646      1.782     0.3764     0.4241      1.063          7        640: 100%|██████████| 38/38 [00:12<00:00,  3.00it/s]\n",
      "                 Class     Images  Instances      Box(P          R      mAP50  mAP50-95)     Pose(P          R      mAP50  mAP50-95): 100%|██████████| 3/3 [00:00<00:00,  3.93it/s]"
     ]
    },
    {
     "name": "stdout",
     "output_type": "stream",
     "text": [
      "                   all         40         40      0.998          1      0.995      0.888       0.99      0.975      0.976      0.339\n"
     ]
    },
    {
     "name": "stderr",
     "output_type": "stream",
     "text": [
      "\n"
     ]
    },
    {
     "name": "stdout",
     "output_type": "stream",
     "text": [
      "\n",
      "      Epoch    GPU_mem   box_loss  pose_loss  kobj_loss   cls_loss   dfl_loss  Instances       Size\n"
     ]
    },
    {
     "name": "stderr",
     "output_type": "stream",
     "text": [
      "     87/100      5.51G     0.6026      1.808     0.3816     0.4416       1.08         12        640: 100%|██████████| 38/38 [00:12<00:00,  2.99it/s]\n",
      "                 Class     Images  Instances      Box(P          R      mAP50  mAP50-95)     Pose(P          R      mAP50  mAP50-95): 100%|██████████| 3/3 [00:00<00:00,  4.14it/s]"
     ]
    },
    {
     "name": "stdout",
     "output_type": "stream",
     "text": [
      "                   all         40         40      0.998          1      0.995      0.883      0.964       0.95      0.946      0.342\n"
     ]
    },
    {
     "name": "stderr",
     "output_type": "stream",
     "text": [
      "\n"
     ]
    },
    {
     "name": "stdout",
     "output_type": "stream",
     "text": [
      "\n",
      "      Epoch    GPU_mem   box_loss  pose_loss  kobj_loss   cls_loss   dfl_loss  Instances       Size\n"
     ]
    },
    {
     "name": "stderr",
     "output_type": "stream",
     "text": [
      "     88/100      5.45G      0.564      1.704     0.3903     0.4299      1.057         12        640: 100%|██████████| 38/38 [00:12<00:00,  2.99it/s]\n",
      "                 Class     Images  Instances      Box(P          R      mAP50  mAP50-95)     Pose(P          R      mAP50  mAP50-95): 100%|██████████| 3/3 [00:00<00:00,  4.07it/s]"
     ]
    },
    {
     "name": "stdout",
     "output_type": "stream",
     "text": [
      "                   all         40         40      0.998          1      0.995      0.877      0.991      0.975      0.976      0.355\n"
     ]
    },
    {
     "name": "stderr",
     "output_type": "stream",
     "text": [
      "\n"
     ]
    },
    {
     "name": "stdout",
     "output_type": "stream",
     "text": [
      "\n",
      "      Epoch    GPU_mem   box_loss  pose_loss  kobj_loss   cls_loss   dfl_loss  Instances       Size\n"
     ]
    },
    {
     "name": "stderr",
     "output_type": "stream",
     "text": [
      "     89/100      5.46G     0.5993      1.683      0.396     0.4488      1.092         12        640: 100%|██████████| 38/38 [00:12<00:00,  3.01it/s]\n",
      "                 Class     Images  Instances      Box(P          R      mAP50  mAP50-95)     Pose(P          R      mAP50  mAP50-95): 100%|██████████| 3/3 [00:00<00:00,  4.07it/s]"
     ]
    },
    {
     "name": "stdout",
     "output_type": "stream",
     "text": [
      "                   all         40         40      0.999          1      0.995      0.882      0.992      0.975      0.976      0.359\n"
     ]
    },
    {
     "name": "stderr",
     "output_type": "stream",
     "text": [
      "\n"
     ]
    },
    {
     "name": "stdout",
     "output_type": "stream",
     "text": [
      "\n",
      "      Epoch    GPU_mem   box_loss  pose_loss  kobj_loss   cls_loss   dfl_loss  Instances       Size\n"
     ]
    },
    {
     "name": "stderr",
     "output_type": "stream",
     "text": [
      "     90/100      5.51G     0.6102      1.726     0.3805     0.4492      1.094          8        640: 100%|██████████| 38/38 [00:12<00:00,  3.00it/s]\n",
      "                 Class     Images  Instances      Box(P          R      mAP50  mAP50-95)     Pose(P          R      mAP50  mAP50-95): 100%|██████████| 3/3 [00:00<00:00,  4.02it/s]"
     ]
    },
    {
     "name": "stdout",
     "output_type": "stream",
     "text": [
      "                   all         40         40          1      0.999      0.995      0.887      0.995      0.975      0.976      0.363\n"
     ]
    },
    {
     "name": "stderr",
     "output_type": "stream",
     "text": [
      "\n"
     ]
    },
    {
     "name": "stdout",
     "output_type": "stream",
     "text": [
      "Closing dataloader mosaic\n",
      "\n",
      "      Epoch    GPU_mem   box_loss  pose_loss  kobj_loss   cls_loss   dfl_loss  Instances       Size\n"
     ]
    },
    {
     "name": "stderr",
     "output_type": "stream",
     "text": [
      "     91/100       5.5G     0.4493      3.743     0.1903      0.336     0.9654          5        640: 100%|██████████| 38/38 [00:13<00:00,  2.87it/s]\n",
      "                 Class     Images  Instances      Box(P          R      mAP50  mAP50-95)     Pose(P          R      mAP50  mAP50-95): 100%|██████████| 3/3 [00:00<00:00,  4.05it/s]"
     ]
    },
    {
     "name": "stdout",
     "output_type": "stream",
     "text": [
      "                   all         40         40      0.999          1      0.995      0.887      0.993      0.975      0.976      0.362\n"
     ]
    },
    {
     "name": "stderr",
     "output_type": "stream",
     "text": [
      "\n"
     ]
    },
    {
     "name": "stdout",
     "output_type": "stream",
     "text": [
      "\n",
      "      Epoch    GPU_mem   box_loss  pose_loss  kobj_loss   cls_loss   dfl_loss  Instances       Size\n"
     ]
    },
    {
     "name": "stderr",
     "output_type": "stream",
     "text": [
      "     92/100      5.48G     0.4472      3.639     0.1644      0.315     0.9678          5        640: 100%|██████████| 38/38 [00:12<00:00,  3.01it/s]\n",
      "                 Class     Images  Instances      Box(P          R      mAP50  mAP50-95)     Pose(P          R      mAP50  mAP50-95): 100%|██████████| 3/3 [00:00<00:00,  4.03it/s]"
     ]
    },
    {
     "name": "stdout",
     "output_type": "stream",
     "text": [
      "                   all         40         40      0.999          1      0.995      0.877      0.992      0.975      0.976      0.363\n"
     ]
    },
    {
     "name": "stderr",
     "output_type": "stream",
     "text": [
      "\n"
     ]
    },
    {
     "name": "stdout",
     "output_type": "stream",
     "text": [
      "\n",
      "      Epoch    GPU_mem   box_loss  pose_loss  kobj_loss   cls_loss   dfl_loss  Instances       Size\n"
     ]
    },
    {
     "name": "stderr",
     "output_type": "stream",
     "text": [
      "     93/100      5.49G     0.4269      3.694     0.1589      0.292     0.9664          5        640: 100%|██████████| 38/38 [00:12<00:00,  3.03it/s]\n",
      "                 Class     Images  Instances      Box(P          R      mAP50  mAP50-95)     Pose(P          R      mAP50  mAP50-95): 100%|██████████| 3/3 [00:00<00:00,  4.08it/s]"
     ]
    },
    {
     "name": "stdout",
     "output_type": "stream",
     "text": [
      "                   all         40         40      0.999          1      0.995      0.875      0.993      0.975      0.977      0.357\n"
     ]
    },
    {
     "name": "stderr",
     "output_type": "stream",
     "text": [
      "\n"
     ]
    },
    {
     "name": "stdout",
     "output_type": "stream",
     "text": [
      "\n",
      "      Epoch    GPU_mem   box_loss  pose_loss  kobj_loss   cls_loss   dfl_loss  Instances       Size\n"
     ]
    },
    {
     "name": "stderr",
     "output_type": "stream",
     "text": [
      "     94/100      5.49G     0.4281      3.653     0.1631     0.3069     0.9655          5        640: 100%|██████████| 38/38 [00:12<00:00,  2.99it/s]\n",
      "                 Class     Images  Instances      Box(P          R      mAP50  mAP50-95)     Pose(P          R      mAP50  mAP50-95): 100%|██████████| 3/3 [00:00<00:00,  4.00it/s]"
     ]
    },
    {
     "name": "stdout",
     "output_type": "stream",
     "text": [
      "                   all         40         40      0.999          1      0.995      0.873      0.994      0.975      0.977      0.353\n"
     ]
    },
    {
     "name": "stderr",
     "output_type": "stream",
     "text": [
      "\n"
     ]
    },
    {
     "name": "stdout",
     "output_type": "stream",
     "text": [
      "\n",
      "      Epoch    GPU_mem   box_loss  pose_loss  kobj_loss   cls_loss   dfl_loss  Instances       Size\n"
     ]
    },
    {
     "name": "stderr",
     "output_type": "stream",
     "text": [
      "     95/100       5.5G     0.4114      3.736     0.1425      0.302     0.9415          5        640: 100%|██████████| 38/38 [00:12<00:00,  2.99it/s]\n",
      "                 Class     Images  Instances      Box(P          R      mAP50  mAP50-95)     Pose(P          R      mAP50  mAP50-95): 100%|██████████| 3/3 [00:00<00:00,  4.08it/s]"
     ]
    },
    {
     "name": "stdout",
     "output_type": "stream",
     "text": [
      "                   all         40         40      0.999          1      0.995      0.877      0.993      0.975      0.978      0.362\n"
     ]
    },
    {
     "name": "stderr",
     "output_type": "stream",
     "text": [
      "\n"
     ]
    },
    {
     "name": "stdout",
     "output_type": "stream",
     "text": [
      "\n",
      "      Epoch    GPU_mem   box_loss  pose_loss  kobj_loss   cls_loss   dfl_loss  Instances       Size\n"
     ]
    },
    {
     "name": "stderr",
     "output_type": "stream",
     "text": [
      "     96/100      5.49G     0.4107      3.643     0.1483      0.307     0.9525          5        640: 100%|██████████| 38/38 [00:12<00:00,  3.00it/s]\n",
      "                 Class     Images  Instances      Box(P          R      mAP50  mAP50-95)     Pose(P          R      mAP50  mAP50-95): 100%|██████████| 3/3 [00:00<00:00,  4.18it/s]"
     ]
    },
    {
     "name": "stdout",
     "output_type": "stream",
     "text": [
      "                   all         40         40      0.999          1      0.995      0.898      0.989      0.975      0.978      0.371\n"
     ]
    },
    {
     "name": "stderr",
     "output_type": "stream",
     "text": [
      "\n"
     ]
    },
    {
     "name": "stdout",
     "output_type": "stream",
     "text": [
      "\n",
      "      Epoch    GPU_mem   box_loss  pose_loss  kobj_loss   cls_loss   dfl_loss  Instances       Size\n"
     ]
    },
    {
     "name": "stderr",
     "output_type": "stream",
     "text": [
      "     97/100      5.49G     0.4187      3.569     0.1534     0.2916     0.9645          5        640: 100%|██████████| 38/38 [00:12<00:00,  3.01it/s]\n",
      "                 Class     Images  Instances      Box(P          R      mAP50  mAP50-95)     Pose(P          R      mAP50  mAP50-95): 100%|██████████| 3/3 [00:00<00:00,  4.02it/s]"
     ]
    },
    {
     "name": "stdout",
     "output_type": "stream",
     "text": [
      "                   all         40         40      0.999          1      0.995      0.886      0.988      0.975      0.979      0.372\n"
     ]
    },
    {
     "name": "stderr",
     "output_type": "stream",
     "text": [
      "\n"
     ]
    },
    {
     "name": "stdout",
     "output_type": "stream",
     "text": [
      "\n",
      "      Epoch    GPU_mem   box_loss  pose_loss  kobj_loss   cls_loss   dfl_loss  Instances       Size\n"
     ]
    },
    {
     "name": "stderr",
     "output_type": "stream",
     "text": [
      "     98/100      5.47G     0.4019      3.649      0.153     0.2874      0.947          5        640: 100%|██████████| 38/38 [00:12<00:00,  3.00it/s]\n",
      "                 Class     Images  Instances      Box(P          R      mAP50  mAP50-95)     Pose(P          R      mAP50  mAP50-95): 100%|██████████| 3/3 [00:00<00:00,  4.19it/s]"
     ]
    },
    {
     "name": "stdout",
     "output_type": "stream",
     "text": [
      "                   all         40         40      0.999          1      0.995      0.887      0.994      0.975      0.979      0.371\n"
     ]
    },
    {
     "name": "stderr",
     "output_type": "stream",
     "text": [
      "\n"
     ]
    },
    {
     "name": "stdout",
     "output_type": "stream",
     "text": [
      "\n",
      "      Epoch    GPU_mem   box_loss  pose_loss  kobj_loss   cls_loss   dfl_loss  Instances       Size\n"
     ]
    },
    {
     "name": "stderr",
     "output_type": "stream",
     "text": [
      "     99/100      5.47G     0.4045      3.647     0.1489     0.2844     0.9565          5        640: 100%|██████████| 38/38 [00:12<00:00,  3.01it/s]\n",
      "                 Class     Images  Instances      Box(P          R      mAP50  mAP50-95)     Pose(P          R      mAP50  mAP50-95): 100%|██████████| 3/3 [00:00<00:00,  3.86it/s]"
     ]
    },
    {
     "name": "stdout",
     "output_type": "stream",
     "text": [
      "                   all         40         40      0.999          1      0.995       0.88      0.995      0.975      0.979      0.362\n"
     ]
    },
    {
     "name": "stderr",
     "output_type": "stream",
     "text": [
      "\n"
     ]
    },
    {
     "name": "stdout",
     "output_type": "stream",
     "text": [
      "\n",
      "      Epoch    GPU_mem   box_loss  pose_loss  kobj_loss   cls_loss   dfl_loss  Instances       Size\n"
     ]
    },
    {
     "name": "stderr",
     "output_type": "stream",
     "text": [
      "    100/100      5.44G     0.3869      3.533     0.1541     0.2752     0.9431          5        640: 100%|██████████| 38/38 [00:12<00:00,  3.00it/s]\n",
      "                 Class     Images  Instances      Box(P          R      mAP50  mAP50-95)     Pose(P          R      mAP50  mAP50-95): 100%|██████████| 3/3 [00:00<00:00,  3.93it/s]"
     ]
    },
    {
     "name": "stdout",
     "output_type": "stream",
     "text": [
      "                   all         40         40      0.999          1      0.995      0.884      0.994      0.975      0.979      0.363\n"
     ]
    },
    {
     "name": "stderr",
     "output_type": "stream",
     "text": [
      "\n"
     ]
    },
    {
     "name": "stdout",
     "output_type": "stream",
     "text": [
      "\n",
      "100 epochs completed in 0.418 hours.\n",
      "Optimizer stripped from ..\\..\\runs\\detect\\court_det\\train\\weights\\last.pt, 89.4MB\n",
      "Optimizer stripped from ..\\..\\runs\\detect\\court_det\\train\\weights\\best.pt, 89.4MB\n",
      "\n",
      "Validating ..\\..\\runs\\detect\\court_det\\train\\weights\\best.pt...\n",
      "Ultralytics 8.3.155  Python-3.10.18 torch-2.7.1+cu128 CUDA:0 (NVIDIA GeForce RTX 4060 Laptop GPU, 8188MiB)\n",
      "YOLOv8l-pose summary (fused): 121 layers, 44,459,145 parameters, 0 gradients, 168.5 GFLOPs\n"
     ]
    },
    {
     "name": "stderr",
     "output_type": "stream",
     "text": [
      "                 Class     Images  Instances      Box(P          R      mAP50  mAP50-95)     Pose(P          R      mAP50  mAP50-95): 100%|██████████| 3/3 [00:01<00:00,  2.79it/s]\n"
     ]
    },
    {
     "name": "stdout",
     "output_type": "stream",
     "text": [
      "                   all         40         40      0.999          1      0.995      0.897      0.989      0.975      0.978      0.371\n",
      "Speed: 0.5ms preprocess, 16.2ms inference, 0.0ms loss, 2.1ms postprocess per image\n",
      "Results saved to \u001b[1m..\\..\\runs\\detect\\court_det\\train\u001b[0m\n"
     ]
    },
    {
     "data": {
      "text/plain": [
       "ultralytics.utils.metrics.PoseMetrics object with attributes:\n",
       "\n",
       "ap_class_index: array([0])\n",
       "box: ultralytics.utils.metrics.Metric object\n",
       "confusion_matrix: <ultralytics.utils.metrics.ConfusionMatrix object at 0x00000275AA2060B0>\n",
       "curves: ['Precision-Recall(B)', 'F1-Confidence(B)', 'Precision-Confidence(B)', 'Recall-Confidence(B)', 'Precision-Recall(B)', 'F1-Confidence(B)', 'Precision-Confidence(B)', 'Recall-Confidence(B)', 'Precision-Recall(P)', 'F1-Confidence(P)', 'Precision-Confidence(P)', 'Recall-Confidence(P)']\n",
       "curves_results: [[array([          0,    0.001001,    0.002002,    0.003003,    0.004004,    0.005005,    0.006006,    0.007007,    0.008008,    0.009009,     0.01001,    0.011011,    0.012012,    0.013013,    0.014014,    0.015015,    0.016016,    0.017017,    0.018018,    0.019019,     0.02002,    0.021021,    0.022022,    0.023023,\n",
       "          0.024024,    0.025025,    0.026026,    0.027027,    0.028028,    0.029029,     0.03003,    0.031031,    0.032032,    0.033033,    0.034034,    0.035035,    0.036036,    0.037037,    0.038038,    0.039039,     0.04004,    0.041041,    0.042042,    0.043043,    0.044044,    0.045045,    0.046046,    0.047047,\n",
       "          0.048048,    0.049049,     0.05005,    0.051051,    0.052052,    0.053053,    0.054054,    0.055055,    0.056056,    0.057057,    0.058058,    0.059059,     0.06006,    0.061061,    0.062062,    0.063063,    0.064064,    0.065065,    0.066066,    0.067067,    0.068068,    0.069069,     0.07007,    0.071071,\n",
       "          0.072072,    0.073073,    0.074074,    0.075075,    0.076076,    0.077077,    0.078078,    0.079079,     0.08008,    0.081081,    0.082082,    0.083083,    0.084084,    0.085085,    0.086086,    0.087087,    0.088088,    0.089089,     0.09009,    0.091091,    0.092092,    0.093093,    0.094094,    0.095095,\n",
       "          0.096096,    0.097097,    0.098098,    0.099099,      0.1001,      0.1011,      0.1021,      0.1031,      0.1041,     0.10511,     0.10611,     0.10711,     0.10811,     0.10911,     0.11011,     0.11111,     0.11211,     0.11311,     0.11411,     0.11512,     0.11612,     0.11712,     0.11812,     0.11912,\n",
       "           0.12012,     0.12112,     0.12212,     0.12312,     0.12412,     0.12513,     0.12613,     0.12713,     0.12813,     0.12913,     0.13013,     0.13113,     0.13213,     0.13313,     0.13413,     0.13514,     0.13614,     0.13714,     0.13814,     0.13914,     0.14014,     0.14114,     0.14214,     0.14314,\n",
       "           0.14414,     0.14515,     0.14615,     0.14715,     0.14815,     0.14915,     0.15015,     0.15115,     0.15215,     0.15315,     0.15415,     0.15516,     0.15616,     0.15716,     0.15816,     0.15916,     0.16016,     0.16116,     0.16216,     0.16316,     0.16416,     0.16517,     0.16617,     0.16717,\n",
       "           0.16817,     0.16917,     0.17017,     0.17117,     0.17217,     0.17317,     0.17417,     0.17518,     0.17618,     0.17718,     0.17818,     0.17918,     0.18018,     0.18118,     0.18218,     0.18318,     0.18418,     0.18519,     0.18619,     0.18719,     0.18819,     0.18919,     0.19019,     0.19119,\n",
       "           0.19219,     0.19319,     0.19419,      0.1952,      0.1962,      0.1972,      0.1982,      0.1992,      0.2002,      0.2012,      0.2022,      0.2032,      0.2042,     0.20521,     0.20621,     0.20721,     0.20821,     0.20921,     0.21021,     0.21121,     0.21221,     0.21321,     0.21421,     0.21522,\n",
       "           0.21622,     0.21722,     0.21822,     0.21922,     0.22022,     0.22122,     0.22222,     0.22322,     0.22422,     0.22523,     0.22623,     0.22723,     0.22823,     0.22923,     0.23023,     0.23123,     0.23223,     0.23323,     0.23423,     0.23524,     0.23624,     0.23724,     0.23824,     0.23924,\n",
       "           0.24024,     0.24124,     0.24224,     0.24324,     0.24424,     0.24525,     0.24625,     0.24725,     0.24825,     0.24925,     0.25025,     0.25125,     0.25225,     0.25325,     0.25425,     0.25526,     0.25626,     0.25726,     0.25826,     0.25926,     0.26026,     0.26126,     0.26226,     0.26326,\n",
       "           0.26426,     0.26527,     0.26627,     0.26727,     0.26827,     0.26927,     0.27027,     0.27127,     0.27227,     0.27327,     0.27427,     0.27528,     0.27628,     0.27728,     0.27828,     0.27928,     0.28028,     0.28128,     0.28228,     0.28328,     0.28428,     0.28529,     0.28629,     0.28729,\n",
       "           0.28829,     0.28929,     0.29029,     0.29129,     0.29229,     0.29329,     0.29429,      0.2953,      0.2963,      0.2973,      0.2983,      0.2993,      0.3003,      0.3013,      0.3023,      0.3033,      0.3043,     0.30531,     0.30631,     0.30731,     0.30831,     0.30931,     0.31031,     0.31131,\n",
       "           0.31231,     0.31331,     0.31431,     0.31532,     0.31632,     0.31732,     0.31832,     0.31932,     0.32032,     0.32132,     0.32232,     0.32332,     0.32432,     0.32533,     0.32633,     0.32733,     0.32833,     0.32933,     0.33033,     0.33133,     0.33233,     0.33333,     0.33433,     0.33534,\n",
       "           0.33634,     0.33734,     0.33834,     0.33934,     0.34034,     0.34134,     0.34234,     0.34334,     0.34434,     0.34535,     0.34635,     0.34735,     0.34835,     0.34935,     0.35035,     0.35135,     0.35235,     0.35335,     0.35435,     0.35536,     0.35636,     0.35736,     0.35836,     0.35936,\n",
       "           0.36036,     0.36136,     0.36236,     0.36336,     0.36436,     0.36537,     0.36637,     0.36737,     0.36837,     0.36937,     0.37037,     0.37137,     0.37237,     0.37337,     0.37437,     0.37538,     0.37638,     0.37738,     0.37838,     0.37938,     0.38038,     0.38138,     0.38238,     0.38338,\n",
       "           0.38438,     0.38539,     0.38639,     0.38739,     0.38839,     0.38939,     0.39039,     0.39139,     0.39239,     0.39339,     0.39439,      0.3954,      0.3964,      0.3974,      0.3984,      0.3994,      0.4004,      0.4014,      0.4024,      0.4034,      0.4044,     0.40541,     0.40641,     0.40741,\n",
       "           0.40841,     0.40941,     0.41041,     0.41141,     0.41241,     0.41341,     0.41441,     0.41542,     0.41642,     0.41742,     0.41842,     0.41942,     0.42042,     0.42142,     0.42242,     0.42342,     0.42442,     0.42543,     0.42643,     0.42743,     0.42843,     0.42943,     0.43043,     0.43143,\n",
       "           0.43243,     0.43343,     0.43443,     0.43544,     0.43644,     0.43744,     0.43844,     0.43944,     0.44044,     0.44144,     0.44244,     0.44344,     0.44444,     0.44545,     0.44645,     0.44745,     0.44845,     0.44945,     0.45045,     0.45145,     0.45245,     0.45345,     0.45445,     0.45546,\n",
       "           0.45646,     0.45746,     0.45846,     0.45946,     0.46046,     0.46146,     0.46246,     0.46346,     0.46446,     0.46547,     0.46647,     0.46747,     0.46847,     0.46947,     0.47047,     0.47147,     0.47247,     0.47347,     0.47447,     0.47548,     0.47648,     0.47748,     0.47848,     0.47948,\n",
       "           0.48048,     0.48148,     0.48248,     0.48348,     0.48448,     0.48549,     0.48649,     0.48749,     0.48849,     0.48949,     0.49049,     0.49149,     0.49249,     0.49349,     0.49449,      0.4955,      0.4965,      0.4975,      0.4985,      0.4995,      0.5005,      0.5015,      0.5025,      0.5035,\n",
       "            0.5045,     0.50551,     0.50651,     0.50751,     0.50851,     0.50951,     0.51051,     0.51151,     0.51251,     0.51351,     0.51451,     0.51552,     0.51652,     0.51752,     0.51852,     0.51952,     0.52052,     0.52152,     0.52252,     0.52352,     0.52452,     0.52553,     0.52653,     0.52753,\n",
       "           0.52853,     0.52953,     0.53053,     0.53153,     0.53253,     0.53353,     0.53453,     0.53554,     0.53654,     0.53754,     0.53854,     0.53954,     0.54054,     0.54154,     0.54254,     0.54354,     0.54454,     0.54555,     0.54655,     0.54755,     0.54855,     0.54955,     0.55055,     0.55155,\n",
       "           0.55255,     0.55355,     0.55455,     0.55556,     0.55656,     0.55756,     0.55856,     0.55956,     0.56056,     0.56156,     0.56256,     0.56356,     0.56456,     0.56557,     0.56657,     0.56757,     0.56857,     0.56957,     0.57057,     0.57157,     0.57257,     0.57357,     0.57457,     0.57558,\n",
       "           0.57658,     0.57758,     0.57858,     0.57958,     0.58058,     0.58158,     0.58258,     0.58358,     0.58458,     0.58559,     0.58659,     0.58759,     0.58859,     0.58959,     0.59059,     0.59159,     0.59259,     0.59359,     0.59459,      0.5956,      0.5966,      0.5976,      0.5986,      0.5996,\n",
       "            0.6006,      0.6016,      0.6026,      0.6036,      0.6046,     0.60561,     0.60661,     0.60761,     0.60861,     0.60961,     0.61061,     0.61161,     0.61261,     0.61361,     0.61461,     0.61562,     0.61662,     0.61762,     0.61862,     0.61962,     0.62062,     0.62162,     0.62262,     0.62362,\n",
       "           0.62462,     0.62563,     0.62663,     0.62763,     0.62863,     0.62963,     0.63063,     0.63163,     0.63263,     0.63363,     0.63463,     0.63564,     0.63664,     0.63764,     0.63864,     0.63964,     0.64064,     0.64164,     0.64264,     0.64364,     0.64464,     0.64565,     0.64665,     0.64765,\n",
       "           0.64865,     0.64965,     0.65065,     0.65165,     0.65265,     0.65365,     0.65465,     0.65566,     0.65666,     0.65766,     0.65866,     0.65966,     0.66066,     0.66166,     0.66266,     0.66366,     0.66466,     0.66567,     0.66667,     0.66767,     0.66867,     0.66967,     0.67067,     0.67167,\n",
       "           0.67267,     0.67367,     0.67467,     0.67568,     0.67668,     0.67768,     0.67868,     0.67968,     0.68068,     0.68168,     0.68268,     0.68368,     0.68468,     0.68569,     0.68669,     0.68769,     0.68869,     0.68969,     0.69069,     0.69169,     0.69269,     0.69369,     0.69469,      0.6957,\n",
       "            0.6967,      0.6977,      0.6987,      0.6997,      0.7007,      0.7017,      0.7027,      0.7037,      0.7047,     0.70571,     0.70671,     0.70771,     0.70871,     0.70971,     0.71071,     0.71171,     0.71271,     0.71371,     0.71471,     0.71572,     0.71672,     0.71772,     0.71872,     0.71972,\n",
       "           0.72072,     0.72172,     0.72272,     0.72372,     0.72472,     0.72573,     0.72673,     0.72773,     0.72873,     0.72973,     0.73073,     0.73173,     0.73273,     0.73373,     0.73473,     0.73574,     0.73674,     0.73774,     0.73874,     0.73974,     0.74074,     0.74174,     0.74274,     0.74374,\n",
       "           0.74474,     0.74575,     0.74675,     0.74775,     0.74875,     0.74975,     0.75075,     0.75175,     0.75275,     0.75375,     0.75475,     0.75576,     0.75676,     0.75776,     0.75876,     0.75976,     0.76076,     0.76176,     0.76276,     0.76376,     0.76476,     0.76577,     0.76677,     0.76777,\n",
       "           0.76877,     0.76977,     0.77077,     0.77177,     0.77277,     0.77377,     0.77477,     0.77578,     0.77678,     0.77778,     0.77878,     0.77978,     0.78078,     0.78178,     0.78278,     0.78378,     0.78478,     0.78579,     0.78679,     0.78779,     0.78879,     0.78979,     0.79079,     0.79179,\n",
       "           0.79279,     0.79379,     0.79479,      0.7958,      0.7968,      0.7978,      0.7988,      0.7998,      0.8008,      0.8018,      0.8028,      0.8038,      0.8048,     0.80581,     0.80681,     0.80781,     0.80881,     0.80981,     0.81081,     0.81181,     0.81281,     0.81381,     0.81481,     0.81582,\n",
       "           0.81682,     0.81782,     0.81882,     0.81982,     0.82082,     0.82182,     0.82282,     0.82382,     0.82482,     0.82583,     0.82683,     0.82783,     0.82883,     0.82983,     0.83083,     0.83183,     0.83283,     0.83383,     0.83483,     0.83584,     0.83684,     0.83784,     0.83884,     0.83984,\n",
       "           0.84084,     0.84184,     0.84284,     0.84384,     0.84484,     0.84585,     0.84685,     0.84785,     0.84885,     0.84985,     0.85085,     0.85185,     0.85285,     0.85385,     0.85485,     0.85586,     0.85686,     0.85786,     0.85886,     0.85986,     0.86086,     0.86186,     0.86286,     0.86386,\n",
       "           0.86486,     0.86587,     0.86687,     0.86787,     0.86887,     0.86987,     0.87087,     0.87187,     0.87287,     0.87387,     0.87487,     0.87588,     0.87688,     0.87788,     0.87888,     0.87988,     0.88088,     0.88188,     0.88288,     0.88388,     0.88488,     0.88589,     0.88689,     0.88789,\n",
       "           0.88889,     0.88989,     0.89089,     0.89189,     0.89289,     0.89389,     0.89489,      0.8959,      0.8969,      0.8979,      0.8989,      0.8999,      0.9009,      0.9019,      0.9029,      0.9039,      0.9049,     0.90591,     0.90691,     0.90791,     0.90891,     0.90991,     0.91091,     0.91191,\n",
       "           0.91291,     0.91391,     0.91491,     0.91592,     0.91692,     0.91792,     0.91892,     0.91992,     0.92092,     0.92192,     0.92292,     0.92392,     0.92492,     0.92593,     0.92693,     0.92793,     0.92893,     0.92993,     0.93093,     0.93193,     0.93293,     0.93393,     0.93493,     0.93594,\n",
       "           0.93694,     0.93794,     0.93894,     0.93994,     0.94094,     0.94194,     0.94294,     0.94394,     0.94494,     0.94595,     0.94695,     0.94795,     0.94895,     0.94995,     0.95095,     0.95195,     0.95295,     0.95395,     0.95495,     0.95596,     0.95696,     0.95796,     0.95896,     0.95996,\n",
       "           0.96096,     0.96196,     0.96296,     0.96396,     0.96496,     0.96597,     0.96697,     0.96797,     0.96897,     0.96997,     0.97097,     0.97197,     0.97297,     0.97397,     0.97497,     0.97598,     0.97698,     0.97798,     0.97898,     0.97998,     0.98098,     0.98198,     0.98298,     0.98398,\n",
       "           0.98498,     0.98599,     0.98699,     0.98799,     0.98899,     0.98999,     0.99099,     0.99199,     0.99299,     0.99399,     0.99499,       0.996,       0.997,       0.998,       0.999,           1]), array([[          1,           1,           1,           1,           1,           1,           1,           1,           1,           1,           1,           1,           1,           1,           1,           1,           1,           1,           1,           1,           1,           1,           1,\n",
       "                  1,           1,           1,           1,           1,           1,           1,           1,           1,           1,           1,           1,           1,           1,           1,           1,           1,           1,           1,           1,           1,           1,           1,\n",
       "                  1,           1,           1,           1,           1,           1,           1,           1,           1,           1,           1,           1,           1,           1,           1,           1,           1,           1,           1,           1,           1,           1,           1,\n",
       "                  1,           1,           1,           1,           1,           1,           1,           1,           1,           1,           1,           1,           1,           1,           1,           1,           1,           1,           1,           1,           1,           1,           1,\n",
       "                  1,           1,           1,           1,           1,           1,           1,           1,           1,           1,           1,           1,           1,           1,           1,           1,           1,           1,           1,           1,           1,           1,           1,\n",
       "                  1,           1,           1,           1,           1,           1,           1,           1,           1,           1,           1,           1,           1,           1,           1,           1,           1,           1,           1,           1,           1,           1,           1,\n",
       "                  1,           1,           1,           1,           1,           1,           1,           1,           1,           1,           1,           1,           1,           1,           1,           1,           1,           1,           1,           1,           1,           1,           1,\n",
       "                  1,           1,           1,           1,           1,           1,           1,           1,           1,           1,           1,           1,           1,           1,           1,           1,           1,           1,           1,           1,           1,           1,           1,\n",
       "                  1,           1,           1,           1,           1,           1,           1,           1,           1,           1,           1,           1,           1,           1,           1,           1,           1,           1,           1,           1,           1,           1,           1,\n",
       "                  1,           1,           1,           1,           1,           1,           1,           1,           1,           1,           1,           1,           1,           1,           1,           1,           1,           1,           1,           1,           1,           1,           1,\n",
       "                  1,           1,           1,           1,           1,           1,           1,           1,           1,           1,           1,           1,           1,           1,           1,           1,           1,           1,           1,           1,           1,           1,           1,\n",
       "                  1,           1,           1,           1,           1,           1,           1,           1,           1,           1,           1,           1,           1,           1,           1,           1,           1,           1,           1,           1,           1,           1,           1,\n",
       "                  1,           1,           1,           1,           1,           1,           1,           1,           1,           1,           1,           1,           1,           1,           1,           1,           1,           1,           1,           1,           1,           1,           1,\n",
       "                  1,           1,           1,           1,           1,           1,           1,           1,           1,           1,           1,           1,           1,           1,           1,           1,           1,           1,           1,           1,           1,           1,           1,\n",
       "                  1,           1,           1,           1,           1,           1,           1,           1,           1,           1,           1,           1,           1,           1,           1,           1,           1,           1,           1,           1,           1,           1,           1,\n",
       "                  1,           1,           1,           1,           1,           1,           1,           1,           1,           1,           1,           1,           1,           1,           1,           1,           1,           1,           1,           1,           1,           1,           1,\n",
       "                  1,           1,           1,           1,           1,           1,           1,           1,           1,           1,           1,           1,           1,           1,           1,           1,           1,           1,           1,           1,           1,           1,           1,\n",
       "                  1,           1,           1,           1,           1,           1,           1,           1,           1,           1,           1,           1,           1,           1,           1,           1,           1,           1,           1,           1,           1,           1,           1,\n",
       "                  1,           1,           1,           1,           1,           1,           1,           1,           1,           1,           1,           1,           1,           1,           1,           1,           1,           1,           1,           1,           1,           1,           1,\n",
       "                  1,           1,           1,           1,           1,           1,           1,           1,           1,           1,           1,           1,           1,           1,           1,           1,           1,           1,           1,           1,           1,           1,           1,\n",
       "                  1,           1,           1,           1,           1,           1,           1,           1,           1,           1,           1,           1,           1,           1,           1,           1,           1,           1,           1,           1,           1,           1,           1,\n",
       "                  1,           1,           1,           1,           1,           1,           1,           1,           1,           1,           1,           1,           1,           1,           1,           1,           1,           1,           1,           1,           1,           1,           1,\n",
       "                  1,           1,           1,           1,           1,           1,           1,           1,           1,           1,           1,           1,           1,           1,           1,           1,           1,           1,           1,           1,           1,           1,           1,\n",
       "                  1,           1,           1,           1,           1,           1,           1,           1,           1,           1,           1,           1,           1,           1,           1,           1,           1,           1,           1,           1,           1,           1,           1,\n",
       "                  1,           1,           1,           1,           1,           1,           1,           1,           1,           1,           1,           1,           1,           1,           1,           1,           1,           1,           1,           1,           1,           1,           1,\n",
       "                  1,           1,           1,           1,           1,           1,           1,           1,           1,           1,           1,           1,           1,           1,           1,           1,           1,           1,           1,           1,           1,           1,           1,\n",
       "                  1,           1,           1,           1,           1,           1,           1,           1,           1,           1,           1,           1,           1,           1,           1,           1,           1,           1,           1,           1,           1,           1,           1,\n",
       "                  1,           1,           1,           1,           1,           1,           1,           1,           1,           1,           1,           1,           1,           1,           1,           1,           1,           1,           1,           1,           1,           1,           1,\n",
       "                  1,           1,           1,           1,           1,           1,           1,           1,           1,           1,           1,           1,           1,           1,           1,           1,           1,           1,           1,           1,           1,           1,           1,\n",
       "                  1,           1,           1,           1,           1,           1,           1,           1,           1,           1,           1,           1,           1,           1,           1,           1,           1,           1,           1,           1,           1,           1,           1,\n",
       "                  1,           1,           1,           1,           1,           1,           1,           1,           1,           1,           1,           1,           1,           1,           1,           1,           1,           1,           1,           1,           1,           1,           1,\n",
       "                  1,           1,           1,           1,           1,           1,           1,           1,           1,           1,           1,           1,           1,           1,           1,           1,           1,           1,           1,           1,           1,           1,           1,\n",
       "                  1,           1,           1,           1,           1,           1,           1,           1,           1,           1,           1,           1,           1,           1,           1,           1,           1,           1,           1,           1,           1,           1,           1,\n",
       "                  1,           1,           1,           1,           1,           1,           1,           1,           1,           1,           1,           1,           1,           1,           1,           1,           1,           1,           1,           1,           1,           1,           1,\n",
       "                  1,           1,           1,           1,           1,           1,           1,           1,           1,           1,           1,           1,           1,           1,           1,           1,           1,           1,           1,           1,           1,           1,           1,\n",
       "                  1,           1,           1,           1,           1,           1,           1,           1,           1,           1,           1,           1,           1,           1,           1,           1,           1,           1,           1,           1,           1,           1,           1,\n",
       "                  1,           1,           1,           1,           1,           1,           1,           1,           1,           1,           1,           1,           1,           1,           1,           1,           1,           1,           1,           1,           1,           1,           1,\n",
       "                  1,           1,           1,           1,           1,           1,           1,           1,           1,           1,           1,           1,           1,           1,           1,           1,           1,           1,           1,           1,           1,           1,           1,\n",
       "                  1,           1,           1,           1,           1,           1,           1,           1,           1,           1,           1,           1,           1,           1,           1,           1,           1,           1,           1,           1,           1,           1,           1,\n",
       "                  1,           1,           1,           1,           1,           1,           1,           1,           1,           1,           1,           1,           1,           1,           1,           1,           1,           1,           1,           1,           1,           1,           1,\n",
       "                  1,           1,           1,           1,           1,           1,           1,           1,           1,           1,           1,           1,           1,           1,           1,           1,           1,           1,           1,           1,           1,           1,           1,\n",
       "                  1,           1,           1,           1,           1,           1,           1,           1,           1,           1,           1,           1,           1,           1,           1,           1,           1,           1,           1,           1,           1,           1,           1,\n",
       "                  1,           1,           1,           1,           1,           1,           1,           1,           1,           1,           1,           1,           1,           1,           1,           1,           1,           1,           1,           1,           1,           1,           1,\n",
       "                  1,           1,           1,           1,           1,           1,           1,           1,           1,           1,           0]]), 'Recall', 'Precision'], [array([          0,    0.001001,    0.002002,    0.003003,    0.004004,    0.005005,    0.006006,    0.007007,    0.008008,    0.009009,     0.01001,    0.011011,    0.012012,    0.013013,    0.014014,    0.015015,    0.016016,    0.017017,    0.018018,    0.019019,     0.02002,    0.021021,    0.022022,    0.023023,\n",
       "          0.024024,    0.025025,    0.026026,    0.027027,    0.028028,    0.029029,     0.03003,    0.031031,    0.032032,    0.033033,    0.034034,    0.035035,    0.036036,    0.037037,    0.038038,    0.039039,     0.04004,    0.041041,    0.042042,    0.043043,    0.044044,    0.045045,    0.046046,    0.047047,\n",
       "          0.048048,    0.049049,     0.05005,    0.051051,    0.052052,    0.053053,    0.054054,    0.055055,    0.056056,    0.057057,    0.058058,    0.059059,     0.06006,    0.061061,    0.062062,    0.063063,    0.064064,    0.065065,    0.066066,    0.067067,    0.068068,    0.069069,     0.07007,    0.071071,\n",
       "          0.072072,    0.073073,    0.074074,    0.075075,    0.076076,    0.077077,    0.078078,    0.079079,     0.08008,    0.081081,    0.082082,    0.083083,    0.084084,    0.085085,    0.086086,    0.087087,    0.088088,    0.089089,     0.09009,    0.091091,    0.092092,    0.093093,    0.094094,    0.095095,\n",
       "          0.096096,    0.097097,    0.098098,    0.099099,      0.1001,      0.1011,      0.1021,      0.1031,      0.1041,     0.10511,     0.10611,     0.10711,     0.10811,     0.10911,     0.11011,     0.11111,     0.11211,     0.11311,     0.11411,     0.11512,     0.11612,     0.11712,     0.11812,     0.11912,\n",
       "           0.12012,     0.12112,     0.12212,     0.12312,     0.12412,     0.12513,     0.12613,     0.12713,     0.12813,     0.12913,     0.13013,     0.13113,     0.13213,     0.13313,     0.13413,     0.13514,     0.13614,     0.13714,     0.13814,     0.13914,     0.14014,     0.14114,     0.14214,     0.14314,\n",
       "           0.14414,     0.14515,     0.14615,     0.14715,     0.14815,     0.14915,     0.15015,     0.15115,     0.15215,     0.15315,     0.15415,     0.15516,     0.15616,     0.15716,     0.15816,     0.15916,     0.16016,     0.16116,     0.16216,     0.16316,     0.16416,     0.16517,     0.16617,     0.16717,\n",
       "           0.16817,     0.16917,     0.17017,     0.17117,     0.17217,     0.17317,     0.17417,     0.17518,     0.17618,     0.17718,     0.17818,     0.17918,     0.18018,     0.18118,     0.18218,     0.18318,     0.18418,     0.18519,     0.18619,     0.18719,     0.18819,     0.18919,     0.19019,     0.19119,\n",
       "           0.19219,     0.19319,     0.19419,      0.1952,      0.1962,      0.1972,      0.1982,      0.1992,      0.2002,      0.2012,      0.2022,      0.2032,      0.2042,     0.20521,     0.20621,     0.20721,     0.20821,     0.20921,     0.21021,     0.21121,     0.21221,     0.21321,     0.21421,     0.21522,\n",
       "           0.21622,     0.21722,     0.21822,     0.21922,     0.22022,     0.22122,     0.22222,     0.22322,     0.22422,     0.22523,     0.22623,     0.22723,     0.22823,     0.22923,     0.23023,     0.23123,     0.23223,     0.23323,     0.23423,     0.23524,     0.23624,     0.23724,     0.23824,     0.23924,\n",
       "           0.24024,     0.24124,     0.24224,     0.24324,     0.24424,     0.24525,     0.24625,     0.24725,     0.24825,     0.24925,     0.25025,     0.25125,     0.25225,     0.25325,     0.25425,     0.25526,     0.25626,     0.25726,     0.25826,     0.25926,     0.26026,     0.26126,     0.26226,     0.26326,\n",
       "           0.26426,     0.26527,     0.26627,     0.26727,     0.26827,     0.26927,     0.27027,     0.27127,     0.27227,     0.27327,     0.27427,     0.27528,     0.27628,     0.27728,     0.27828,     0.27928,     0.28028,     0.28128,     0.28228,     0.28328,     0.28428,     0.28529,     0.28629,     0.28729,\n",
       "           0.28829,     0.28929,     0.29029,     0.29129,     0.29229,     0.29329,     0.29429,      0.2953,      0.2963,      0.2973,      0.2983,      0.2993,      0.3003,      0.3013,      0.3023,      0.3033,      0.3043,     0.30531,     0.30631,     0.30731,     0.30831,     0.30931,     0.31031,     0.31131,\n",
       "           0.31231,     0.31331,     0.31431,     0.31532,     0.31632,     0.31732,     0.31832,     0.31932,     0.32032,     0.32132,     0.32232,     0.32332,     0.32432,     0.32533,     0.32633,     0.32733,     0.32833,     0.32933,     0.33033,     0.33133,     0.33233,     0.33333,     0.33433,     0.33534,\n",
       "           0.33634,     0.33734,     0.33834,     0.33934,     0.34034,     0.34134,     0.34234,     0.34334,     0.34434,     0.34535,     0.34635,     0.34735,     0.34835,     0.34935,     0.35035,     0.35135,     0.35235,     0.35335,     0.35435,     0.35536,     0.35636,     0.35736,     0.35836,     0.35936,\n",
       "           0.36036,     0.36136,     0.36236,     0.36336,     0.36436,     0.36537,     0.36637,     0.36737,     0.36837,     0.36937,     0.37037,     0.37137,     0.37237,     0.37337,     0.37437,     0.37538,     0.37638,     0.37738,     0.37838,     0.37938,     0.38038,     0.38138,     0.38238,     0.38338,\n",
       "           0.38438,     0.38539,     0.38639,     0.38739,     0.38839,     0.38939,     0.39039,     0.39139,     0.39239,     0.39339,     0.39439,      0.3954,      0.3964,      0.3974,      0.3984,      0.3994,      0.4004,      0.4014,      0.4024,      0.4034,      0.4044,     0.40541,     0.40641,     0.40741,\n",
       "           0.40841,     0.40941,     0.41041,     0.41141,     0.41241,     0.41341,     0.41441,     0.41542,     0.41642,     0.41742,     0.41842,     0.41942,     0.42042,     0.42142,     0.42242,     0.42342,     0.42442,     0.42543,     0.42643,     0.42743,     0.42843,     0.42943,     0.43043,     0.43143,\n",
       "           0.43243,     0.43343,     0.43443,     0.43544,     0.43644,     0.43744,     0.43844,     0.43944,     0.44044,     0.44144,     0.44244,     0.44344,     0.44444,     0.44545,     0.44645,     0.44745,     0.44845,     0.44945,     0.45045,     0.45145,     0.45245,     0.45345,     0.45445,     0.45546,\n",
       "           0.45646,     0.45746,     0.45846,     0.45946,     0.46046,     0.46146,     0.46246,     0.46346,     0.46446,     0.46547,     0.46647,     0.46747,     0.46847,     0.46947,     0.47047,     0.47147,     0.47247,     0.47347,     0.47447,     0.47548,     0.47648,     0.47748,     0.47848,     0.47948,\n",
       "           0.48048,     0.48148,     0.48248,     0.48348,     0.48448,     0.48549,     0.48649,     0.48749,     0.48849,     0.48949,     0.49049,     0.49149,     0.49249,     0.49349,     0.49449,      0.4955,      0.4965,      0.4975,      0.4985,      0.4995,      0.5005,      0.5015,      0.5025,      0.5035,\n",
       "            0.5045,     0.50551,     0.50651,     0.50751,     0.50851,     0.50951,     0.51051,     0.51151,     0.51251,     0.51351,     0.51451,     0.51552,     0.51652,     0.51752,     0.51852,     0.51952,     0.52052,     0.52152,     0.52252,     0.52352,     0.52452,     0.52553,     0.52653,     0.52753,\n",
       "           0.52853,     0.52953,     0.53053,     0.53153,     0.53253,     0.53353,     0.53453,     0.53554,     0.53654,     0.53754,     0.53854,     0.53954,     0.54054,     0.54154,     0.54254,     0.54354,     0.54454,     0.54555,     0.54655,     0.54755,     0.54855,     0.54955,     0.55055,     0.55155,\n",
       "           0.55255,     0.55355,     0.55455,     0.55556,     0.55656,     0.55756,     0.55856,     0.55956,     0.56056,     0.56156,     0.56256,     0.56356,     0.56456,     0.56557,     0.56657,     0.56757,     0.56857,     0.56957,     0.57057,     0.57157,     0.57257,     0.57357,     0.57457,     0.57558,\n",
       "           0.57658,     0.57758,     0.57858,     0.57958,     0.58058,     0.58158,     0.58258,     0.58358,     0.58458,     0.58559,     0.58659,     0.58759,     0.58859,     0.58959,     0.59059,     0.59159,     0.59259,     0.59359,     0.59459,      0.5956,      0.5966,      0.5976,      0.5986,      0.5996,\n",
       "            0.6006,      0.6016,      0.6026,      0.6036,      0.6046,     0.60561,     0.60661,     0.60761,     0.60861,     0.60961,     0.61061,     0.61161,     0.61261,     0.61361,     0.61461,     0.61562,     0.61662,     0.61762,     0.61862,     0.61962,     0.62062,     0.62162,     0.62262,     0.62362,\n",
       "           0.62462,     0.62563,     0.62663,     0.62763,     0.62863,     0.62963,     0.63063,     0.63163,     0.63263,     0.63363,     0.63463,     0.63564,     0.63664,     0.63764,     0.63864,     0.63964,     0.64064,     0.64164,     0.64264,     0.64364,     0.64464,     0.64565,     0.64665,     0.64765,\n",
       "           0.64865,     0.64965,     0.65065,     0.65165,     0.65265,     0.65365,     0.65465,     0.65566,     0.65666,     0.65766,     0.65866,     0.65966,     0.66066,     0.66166,     0.66266,     0.66366,     0.66466,     0.66567,     0.66667,     0.66767,     0.66867,     0.66967,     0.67067,     0.67167,\n",
       "           0.67267,     0.67367,     0.67467,     0.67568,     0.67668,     0.67768,     0.67868,     0.67968,     0.68068,     0.68168,     0.68268,     0.68368,     0.68468,     0.68569,     0.68669,     0.68769,     0.68869,     0.68969,     0.69069,     0.69169,     0.69269,     0.69369,     0.69469,      0.6957,\n",
       "            0.6967,      0.6977,      0.6987,      0.6997,      0.7007,      0.7017,      0.7027,      0.7037,      0.7047,     0.70571,     0.70671,     0.70771,     0.70871,     0.70971,     0.71071,     0.71171,     0.71271,     0.71371,     0.71471,     0.71572,     0.71672,     0.71772,     0.71872,     0.71972,\n",
       "           0.72072,     0.72172,     0.72272,     0.72372,     0.72472,     0.72573,     0.72673,     0.72773,     0.72873,     0.72973,     0.73073,     0.73173,     0.73273,     0.73373,     0.73473,     0.73574,     0.73674,     0.73774,     0.73874,     0.73974,     0.74074,     0.74174,     0.74274,     0.74374,\n",
       "           0.74474,     0.74575,     0.74675,     0.74775,     0.74875,     0.74975,     0.75075,     0.75175,     0.75275,     0.75375,     0.75475,     0.75576,     0.75676,     0.75776,     0.75876,     0.75976,     0.76076,     0.76176,     0.76276,     0.76376,     0.76476,     0.76577,     0.76677,     0.76777,\n",
       "           0.76877,     0.76977,     0.77077,     0.77177,     0.77277,     0.77377,     0.77477,     0.77578,     0.77678,     0.77778,     0.77878,     0.77978,     0.78078,     0.78178,     0.78278,     0.78378,     0.78478,     0.78579,     0.78679,     0.78779,     0.78879,     0.78979,     0.79079,     0.79179,\n",
       "           0.79279,     0.79379,     0.79479,      0.7958,      0.7968,      0.7978,      0.7988,      0.7998,      0.8008,      0.8018,      0.8028,      0.8038,      0.8048,     0.80581,     0.80681,     0.80781,     0.80881,     0.80981,     0.81081,     0.81181,     0.81281,     0.81381,     0.81481,     0.81582,\n",
       "           0.81682,     0.81782,     0.81882,     0.81982,     0.82082,     0.82182,     0.82282,     0.82382,     0.82482,     0.82583,     0.82683,     0.82783,     0.82883,     0.82983,     0.83083,     0.83183,     0.83283,     0.83383,     0.83483,     0.83584,     0.83684,     0.83784,     0.83884,     0.83984,\n",
       "           0.84084,     0.84184,     0.84284,     0.84384,     0.84484,     0.84585,     0.84685,     0.84785,     0.84885,     0.84985,     0.85085,     0.85185,     0.85285,     0.85385,     0.85485,     0.85586,     0.85686,     0.85786,     0.85886,     0.85986,     0.86086,     0.86186,     0.86286,     0.86386,\n",
       "           0.86486,     0.86587,     0.86687,     0.86787,     0.86887,     0.86987,     0.87087,     0.87187,     0.87287,     0.87387,     0.87487,     0.87588,     0.87688,     0.87788,     0.87888,     0.87988,     0.88088,     0.88188,     0.88288,     0.88388,     0.88488,     0.88589,     0.88689,     0.88789,\n",
       "           0.88889,     0.88989,     0.89089,     0.89189,     0.89289,     0.89389,     0.89489,      0.8959,      0.8969,      0.8979,      0.8989,      0.8999,      0.9009,      0.9019,      0.9029,      0.9039,      0.9049,     0.90591,     0.90691,     0.90791,     0.90891,     0.90991,     0.91091,     0.91191,\n",
       "           0.91291,     0.91391,     0.91491,     0.91592,     0.91692,     0.91792,     0.91892,     0.91992,     0.92092,     0.92192,     0.92292,     0.92392,     0.92492,     0.92593,     0.92693,     0.92793,     0.92893,     0.92993,     0.93093,     0.93193,     0.93293,     0.93393,     0.93493,     0.93594,\n",
       "           0.93694,     0.93794,     0.93894,     0.93994,     0.94094,     0.94194,     0.94294,     0.94394,     0.94494,     0.94595,     0.94695,     0.94795,     0.94895,     0.94995,     0.95095,     0.95195,     0.95295,     0.95395,     0.95495,     0.95596,     0.95696,     0.95796,     0.95896,     0.95996,\n",
       "           0.96096,     0.96196,     0.96296,     0.96396,     0.96496,     0.96597,     0.96697,     0.96797,     0.96897,     0.96997,     0.97097,     0.97197,     0.97297,     0.97397,     0.97497,     0.97598,     0.97698,     0.97798,     0.97898,     0.97998,     0.98098,     0.98198,     0.98298,     0.98398,\n",
       "           0.98498,     0.98599,     0.98699,     0.98799,     0.98899,     0.98999,     0.99099,     0.99199,     0.99299,     0.99399,     0.99499,       0.996,       0.997,       0.998,       0.999,           1]), array([[    0.45977,     0.45977,     0.61248,     0.69315,      0.7762,     0.84311,     0.84777,     0.85686,     0.87195,     0.87555,     0.87912,     0.88835,     0.89923,     0.90171,     0.90417,     0.90663,     0.90908,     0.92179,     0.92699,     0.94129,     0.94234,     0.94338,     0.94442,\n",
       "            0.94546,     0.94649,     0.94753,     0.94856,     0.94959,     0.95061,     0.95164,     0.95931,     0.96413,     0.96447,      0.9648,     0.96514,     0.96547,     0.96581,     0.96614,     0.96648,     0.96681,     0.96715,     0.96748,     0.96781,     0.96815,     0.96848,     0.96881,\n",
       "            0.96915,     0.96948,     0.96981,     0.97014,     0.97048,     0.97081,     0.97114,     0.97147,      0.9718,     0.97213,     0.97246,     0.97279,     0.97312,     0.97345,     0.97378,     0.97411,     0.97444,     0.97477,      0.9751,     0.97543,     0.97685,     0.97957,     0.98228,\n",
       "            0.98498,     0.98765,     0.98767,     0.98769,     0.98771,     0.98773,     0.98775,     0.98777,     0.98778,      0.9878,     0.98782,     0.98784,     0.98786,     0.98788,      0.9879,     0.98791,     0.98793,     0.98795,     0.98797,     0.98799,     0.98801,     0.98803,     0.98804,\n",
       "            0.98806,     0.98808,      0.9881,     0.98812,     0.98814,     0.98815,     0.98817,     0.98819,     0.98821,     0.98823,     0.98825,     0.98827,     0.98828,      0.9883,     0.98832,     0.98834,     0.98836,     0.98838,      0.9884,     0.98841,     0.98843,     0.98845,     0.98847,\n",
       "            0.98849,     0.98851,     0.98853,     0.98854,     0.98856,     0.98858,      0.9886,     0.98862,     0.98864,     0.98865,     0.98867,     0.98869,     0.98871,     0.98873,     0.98875,     0.98877,     0.98878,      0.9888,     0.98882,     0.98884,     0.98886,     0.98888,      0.9889,\n",
       "            0.98891,     0.98893,     0.98895,     0.98897,     0.98899,     0.98901,     0.98902,     0.98904,     0.98906,     0.98908,      0.9891,     0.98912,     0.98914,     0.98915,     0.98917,     0.98919,     0.98921,     0.98923,     0.98925,     0.98927,     0.98928,      0.9893,     0.98932,\n",
       "            0.98934,     0.98936,     0.98938,     0.98939,     0.98941,     0.98943,     0.98945,     0.98947,     0.98949,     0.98951,     0.98952,     0.98954,     0.98956,     0.98958,      0.9896,     0.98962,     0.98963,     0.98965,     0.98967,     0.98969,     0.98971,     0.98973,     0.98975,\n",
       "            0.98976,     0.98978,      0.9898,     0.98982,     0.98984,     0.98986,     0.98988,     0.98989,     0.98991,     0.98993,     0.98995,     0.98997,     0.98999,        0.99,     0.99002,     0.99004,     0.99006,     0.99008,      0.9901,     0.99012,     0.99013,     0.99015,     0.99017,\n",
       "            0.99019,     0.99021,     0.99023,     0.99024,     0.99026,     0.99028,      0.9903,     0.99032,     0.99034,     0.99035,     0.99037,     0.99039,     0.99041,     0.99043,     0.99045,     0.99047,     0.99048,      0.9905,     0.99052,     0.99054,     0.99056,     0.99058,     0.99059,\n",
       "            0.99061,     0.99063,     0.99065,     0.99067,     0.99069,     0.99071,     0.99072,     0.99074,     0.99076,     0.99078,      0.9908,     0.99082,     0.99083,     0.99085,     0.99087,     0.99089,     0.99091,     0.99093,     0.99094,     0.99096,     0.99098,       0.991,     0.99102,\n",
       "            0.99104,     0.99106,     0.99107,     0.99109,     0.99111,     0.99113,     0.99115,     0.99117,     0.99118,      0.9912,     0.99122,     0.99124,     0.99126,     0.99128,     0.99129,     0.99131,     0.99133,     0.99135,     0.99137,     0.99139,     0.99141,     0.99142,     0.99144,\n",
       "            0.99146,     0.99148,      0.9915,     0.99152,     0.99153,     0.99155,     0.99157,     0.99159,     0.99161,     0.99163,     0.99164,     0.99166,     0.99168,      0.9917,     0.99172,     0.99174,     0.99175,     0.99177,     0.99179,     0.99181,     0.99183,     0.99185,     0.99187,\n",
       "            0.99188,      0.9919,     0.99192,     0.99194,     0.99196,     0.99198,     0.99199,     0.99201,     0.99203,     0.99205,     0.99207,     0.99209,      0.9921,     0.99212,     0.99214,     0.99216,     0.99218,      0.9922,     0.99221,     0.99223,     0.99225,     0.99227,     0.99229,\n",
       "            0.99231,     0.99232,     0.99234,     0.99236,     0.99238,      0.9924,     0.99242,     0.99244,     0.99245,     0.99247,     0.99249,     0.99251,     0.99253,     0.99255,     0.99256,     0.99258,      0.9926,     0.99262,     0.99264,     0.99266,     0.99267,     0.99269,     0.99271,\n",
       "            0.99273,     0.99275,     0.99277,     0.99278,      0.9928,     0.99282,     0.99284,     0.99286,     0.99288,     0.99289,     0.99291,     0.99293,     0.99295,     0.99297,     0.99299,       0.993,     0.99302,     0.99304,     0.99306,     0.99308,      0.9931,     0.99311,     0.99313,\n",
       "            0.99315,     0.99317,     0.99319,     0.99321,     0.99322,     0.99324,     0.99326,     0.99328,      0.9933,     0.99332,     0.99333,     0.99335,     0.99337,     0.99339,     0.99341,     0.99343,     0.99344,     0.99346,     0.99348,      0.9935,     0.99352,     0.99354,     0.99355,\n",
       "            0.99357,     0.99359,     0.99361,     0.99363,     0.99365,     0.99366,     0.99368,      0.9937,     0.99372,     0.99374,     0.99376,     0.99377,     0.99379,     0.99381,     0.99383,     0.99385,     0.99387,     0.99388,      0.9939,     0.99392,     0.99394,     0.99396,     0.99398,\n",
       "            0.99399,     0.99401,     0.99403,     0.99405,     0.99407,     0.99409,      0.9941,     0.99412,     0.99414,     0.99416,     0.99418,      0.9942,     0.99421,     0.99423,     0.99425,     0.99427,     0.99429,     0.99431,     0.99432,     0.99434,     0.99436,     0.99438,      0.9944,\n",
       "            0.99442,     0.99443,     0.99445,     0.99447,     0.99449,     0.99451,     0.99453,     0.99454,     0.99456,     0.99458,      0.9946,     0.99462,     0.99463,     0.99465,     0.99467,     0.99469,     0.99471,     0.99473,     0.99474,     0.99476,     0.99478,      0.9948,     0.99482,\n",
       "            0.99484,     0.99485,     0.99487,     0.99489,     0.99491,     0.99493,     0.99495,     0.99496,     0.99498,       0.995,     0.99502,     0.99504,     0.99506,     0.99507,     0.99509,     0.99511,     0.99513,     0.99515,     0.99517,     0.99518,      0.9952,     0.99522,     0.99524,\n",
       "            0.99526,     0.99527,     0.99529,     0.99531,     0.99533,     0.99535,     0.99537,     0.99538,      0.9954,     0.99542,     0.99544,     0.99546,     0.99548,     0.99549,     0.99551,     0.99553,     0.99555,     0.99557,     0.99559,      0.9956,     0.99562,     0.99564,     0.99566,\n",
       "            0.99568,     0.99569,     0.99571,     0.99573,     0.99575,     0.99577,     0.99579,      0.9958,     0.99582,     0.99584,     0.99586,     0.99588,      0.9959,     0.99591,     0.99593,     0.99595,     0.99597,     0.99599,       0.996,     0.99602,     0.99604,     0.99606,     0.99608,\n",
       "             0.9961,     0.99611,     0.99613,     0.99615,     0.99617,     0.99619,     0.99621,     0.99622,     0.99624,     0.99626,     0.99628,      0.9963,     0.99631,     0.99633,     0.99635,     0.99637,     0.99639,     0.99641,     0.99642,     0.99644,     0.99646,     0.99648,      0.9965,\n",
       "            0.99652,     0.99653,     0.99655,     0.99657,     0.99659,     0.99661,     0.99662,     0.99664,     0.99666,     0.99668,      0.9967,     0.99672,     0.99673,     0.99675,     0.99677,     0.99679,     0.99681,     0.99683,     0.99684,     0.99686,     0.99688,      0.9969,     0.99692,\n",
       "            0.99693,     0.99695,     0.99697,     0.99699,     0.99701,     0.99703,     0.99704,     0.99706,     0.99708,      0.9971,     0.99712,     0.99713,     0.99715,     0.99717,     0.99719,     0.99721,     0.99723,     0.99724,     0.99726,     0.99728,      0.9973,     0.99732,     0.99733,\n",
       "            0.99735,     0.99737,     0.99739,     0.99741,     0.99743,     0.99744,     0.99746,     0.99748,      0.9975,     0.99752,     0.99753,     0.99755,     0.99757,     0.99759,     0.99761,     0.99763,     0.99764,     0.99766,     0.99768,      0.9977,     0.99772,     0.99773,     0.99775,\n",
       "            0.99777,     0.99779,     0.99781,     0.99783,     0.99784,     0.99786,     0.99788,      0.9979,     0.99792,     0.99793,     0.99795,     0.99797,     0.99799,     0.99801,     0.99803,     0.99804,     0.99806,     0.99808,      0.9981,     0.99812,     0.99813,     0.99815,     0.99817,\n",
       "            0.99819,     0.99821,     0.99823,     0.99824,     0.99826,     0.99828,      0.9983,     0.99832,     0.99833,     0.99835,     0.99837,     0.99839,     0.99841,     0.99843,     0.99844,     0.99846,     0.99848,      0.9985,     0.99852,     0.99853,     0.99855,     0.99857,     0.99859,\n",
       "            0.99861,     0.99862,     0.99864,     0.99866,     0.99868,      0.9987,     0.99872,     0.99873,     0.99875,     0.99877,     0.99879,     0.99881,     0.99882,     0.99884,     0.99886,     0.99888,      0.9989,     0.99892,     0.99893,     0.99895,     0.99897,     0.99899,     0.99901,\n",
       "            0.99902,     0.99904,     0.99906,     0.99908,      0.9991,     0.99911,     0.99913,     0.99915,     0.99917,     0.99919,     0.99921,     0.99922,     0.99924,     0.99926,     0.99928,      0.9993,     0.99931,     0.99933,     0.99935,     0.99937,     0.99939,      0.9994,     0.99942,\n",
       "            0.99944,     0.99946,     0.99948,      0.9995,     0.99951,     0.99953,     0.99955,     0.99957,     0.99959,      0.9996,     0.99962,     0.99964,     0.99966,     0.99968,     0.99969,     0.99971,     0.99973,     0.99975,     0.99977,     0.99978,      0.9998,     0.99982,     0.99984,\n",
       "            0.99986,     0.99988,     0.99989,     0.99991,     0.99993,     0.99995,     0.99997,     0.99998,     0.99999,     0.99987,     0.99975,     0.99963,     0.99951,     0.99939,     0.99927,     0.99916,     0.99904,     0.99892,      0.9988,     0.99868,     0.99856,     0.99844,     0.99832,\n",
       "             0.9982,     0.99808,     0.99797,     0.99785,     0.99773,     0.99761,     0.99749,     0.99737,     0.99725,     0.99713,     0.99701,     0.99689,     0.99677,     0.99665,     0.99653,     0.99641,     0.99629,     0.99618,     0.99606,     0.99594,     0.99582,      0.9957,     0.99558,\n",
       "            0.99546,     0.99534,     0.99522,      0.9951,     0.99498,     0.99486,     0.99474,     0.99462,      0.9945,     0.99438,     0.99426,     0.99414,     0.99402,      0.9939,     0.99378,     0.99366,     0.99354,     0.99342,      0.9933,     0.99318,     0.99306,     0.99294,     0.99282,\n",
       "             0.9927,     0.99258,     0.99246,     0.99234,     0.99221,     0.99209,     0.99197,     0.99185,     0.99173,     0.99161,     0.99149,     0.99137,     0.99125,     0.99113,     0.99101,     0.99089,     0.99077,     0.99065,     0.99053,      0.9904,     0.99028,     0.99016,     0.99004,\n",
       "            0.98992,      0.9898,     0.98968,     0.98956,     0.98944,     0.98931,     0.98919,     0.98907,     0.98895,     0.98883,     0.98871,     0.98859,     0.98847,     0.98834,     0.98822,      0.9881,     0.98798,     0.98786,     0.98774,     0.98762,     0.98749,     0.98737,     0.98569,\n",
       "            0.98349,     0.98128,     0.97906,     0.97683,     0.97459,      0.9621,     0.95461,     0.94757,     0.94524,     0.94304,     0.94084,     0.93862,      0.9364,     0.93416,      0.9307,      0.9265,     0.92226,      0.9187,      0.9177,      0.9167,      0.9157,     0.91469,     0.91369,\n",
       "            0.91268,     0.91167,     0.91065,     0.90964,     0.90862,      0.9076,     0.90658,     0.90556,     0.90454,     0.89507,     0.88823,     0.88713,     0.88604,     0.88494,     0.88384,     0.88274,     0.88163,     0.88053,     0.87942,     0.87831,      0.8772,     0.87608,     0.87496,\n",
       "            0.87384,     0.86822,     0.85717,     0.85235,     0.84751,     0.84263,     0.83554,     0.82678,      0.8179,     0.80888,     0.79341,     0.75539,     0.72515,     0.68559,     0.67442,     0.65945,     0.64207,     0.63613,     0.63015,     0.62411,     0.61534,     0.60295,     0.59033,\n",
       "            0.57749,     0.56956,     0.56606,     0.56254,       0.559,     0.55544,     0.55187,     0.54828,     0.54151,     0.52311,       0.497,     0.41281,     0.39117,     0.38004,     0.36875,     0.28332,     0.22825,     0.17987,     0.17539,     0.17089,     0.16636,     0.16182,     0.15725,\n",
       "            0.15266,     0.14804,      0.1434,     0.13199,     0.09223,    0.076557,    0.060626,           0,           0,           0,           0,           0,           0,           0,           0,           0,           0,           0,           0,           0,           0,           0,           0,\n",
       "                  0,           0,           0,           0,           0,           0,           0,           0,           0,           0,           0,           0,           0,           0,           0,           0,           0,           0,           0,           0,           0,           0,           0,\n",
       "                  0,           0,           0,           0,           0,           0,           0,           0,           0,           0,           0]]), 'Confidence', 'F1'], [array([          0,    0.001001,    0.002002,    0.003003,    0.004004,    0.005005,    0.006006,    0.007007,    0.008008,    0.009009,     0.01001,    0.011011,    0.012012,    0.013013,    0.014014,    0.015015,    0.016016,    0.017017,    0.018018,    0.019019,     0.02002,    0.021021,    0.022022,    0.023023,\n",
       "          0.024024,    0.025025,    0.026026,    0.027027,    0.028028,    0.029029,     0.03003,    0.031031,    0.032032,    0.033033,    0.034034,    0.035035,    0.036036,    0.037037,    0.038038,    0.039039,     0.04004,    0.041041,    0.042042,    0.043043,    0.044044,    0.045045,    0.046046,    0.047047,\n",
       "          0.048048,    0.049049,     0.05005,    0.051051,    0.052052,    0.053053,    0.054054,    0.055055,    0.056056,    0.057057,    0.058058,    0.059059,     0.06006,    0.061061,    0.062062,    0.063063,    0.064064,    0.065065,    0.066066,    0.067067,    0.068068,    0.069069,     0.07007,    0.071071,\n",
       "          0.072072,    0.073073,    0.074074,    0.075075,    0.076076,    0.077077,    0.078078,    0.079079,     0.08008,    0.081081,    0.082082,    0.083083,    0.084084,    0.085085,    0.086086,    0.087087,    0.088088,    0.089089,     0.09009,    0.091091,    0.092092,    0.093093,    0.094094,    0.095095,\n",
       "          0.096096,    0.097097,    0.098098,    0.099099,      0.1001,      0.1011,      0.1021,      0.1031,      0.1041,     0.10511,     0.10611,     0.10711,     0.10811,     0.10911,     0.11011,     0.11111,     0.11211,     0.11311,     0.11411,     0.11512,     0.11612,     0.11712,     0.11812,     0.11912,\n",
       "           0.12012,     0.12112,     0.12212,     0.12312,     0.12412,     0.12513,     0.12613,     0.12713,     0.12813,     0.12913,     0.13013,     0.13113,     0.13213,     0.13313,     0.13413,     0.13514,     0.13614,     0.13714,     0.13814,     0.13914,     0.14014,     0.14114,     0.14214,     0.14314,\n",
       "           0.14414,     0.14515,     0.14615,     0.14715,     0.14815,     0.14915,     0.15015,     0.15115,     0.15215,     0.15315,     0.15415,     0.15516,     0.15616,     0.15716,     0.15816,     0.15916,     0.16016,     0.16116,     0.16216,     0.16316,     0.16416,     0.16517,     0.16617,     0.16717,\n",
       "           0.16817,     0.16917,     0.17017,     0.17117,     0.17217,     0.17317,     0.17417,     0.17518,     0.17618,     0.17718,     0.17818,     0.17918,     0.18018,     0.18118,     0.18218,     0.18318,     0.18418,     0.18519,     0.18619,     0.18719,     0.18819,     0.18919,     0.19019,     0.19119,\n",
       "           0.19219,     0.19319,     0.19419,      0.1952,      0.1962,      0.1972,      0.1982,      0.1992,      0.2002,      0.2012,      0.2022,      0.2032,      0.2042,     0.20521,     0.20621,     0.20721,     0.20821,     0.20921,     0.21021,     0.21121,     0.21221,     0.21321,     0.21421,     0.21522,\n",
       "           0.21622,     0.21722,     0.21822,     0.21922,     0.22022,     0.22122,     0.22222,     0.22322,     0.22422,     0.22523,     0.22623,     0.22723,     0.22823,     0.22923,     0.23023,     0.23123,     0.23223,     0.23323,     0.23423,     0.23524,     0.23624,     0.23724,     0.23824,     0.23924,\n",
       "           0.24024,     0.24124,     0.24224,     0.24324,     0.24424,     0.24525,     0.24625,     0.24725,     0.24825,     0.24925,     0.25025,     0.25125,     0.25225,     0.25325,     0.25425,     0.25526,     0.25626,     0.25726,     0.25826,     0.25926,     0.26026,     0.26126,     0.26226,     0.26326,\n",
       "           0.26426,     0.26527,     0.26627,     0.26727,     0.26827,     0.26927,     0.27027,     0.27127,     0.27227,     0.27327,     0.27427,     0.27528,     0.27628,     0.27728,     0.27828,     0.27928,     0.28028,     0.28128,     0.28228,     0.28328,     0.28428,     0.28529,     0.28629,     0.28729,\n",
       "           0.28829,     0.28929,     0.29029,     0.29129,     0.29229,     0.29329,     0.29429,      0.2953,      0.2963,      0.2973,      0.2983,      0.2993,      0.3003,      0.3013,      0.3023,      0.3033,      0.3043,     0.30531,     0.30631,     0.30731,     0.30831,     0.30931,     0.31031,     0.31131,\n",
       "           0.31231,     0.31331,     0.31431,     0.31532,     0.31632,     0.31732,     0.31832,     0.31932,     0.32032,     0.32132,     0.32232,     0.32332,     0.32432,     0.32533,     0.32633,     0.32733,     0.32833,     0.32933,     0.33033,     0.33133,     0.33233,     0.33333,     0.33433,     0.33534,\n",
       "           0.33634,     0.33734,     0.33834,     0.33934,     0.34034,     0.34134,     0.34234,     0.34334,     0.34434,     0.34535,     0.34635,     0.34735,     0.34835,     0.34935,     0.35035,     0.35135,     0.35235,     0.35335,     0.35435,     0.35536,     0.35636,     0.35736,     0.35836,     0.35936,\n",
       "           0.36036,     0.36136,     0.36236,     0.36336,     0.36436,     0.36537,     0.36637,     0.36737,     0.36837,     0.36937,     0.37037,     0.37137,     0.37237,     0.37337,     0.37437,     0.37538,     0.37638,     0.37738,     0.37838,     0.37938,     0.38038,     0.38138,     0.38238,     0.38338,\n",
       "           0.38438,     0.38539,     0.38639,     0.38739,     0.38839,     0.38939,     0.39039,     0.39139,     0.39239,     0.39339,     0.39439,      0.3954,      0.3964,      0.3974,      0.3984,      0.3994,      0.4004,      0.4014,      0.4024,      0.4034,      0.4044,     0.40541,     0.40641,     0.40741,\n",
       "           0.40841,     0.40941,     0.41041,     0.41141,     0.41241,     0.41341,     0.41441,     0.41542,     0.41642,     0.41742,     0.41842,     0.41942,     0.42042,     0.42142,     0.42242,     0.42342,     0.42442,     0.42543,     0.42643,     0.42743,     0.42843,     0.42943,     0.43043,     0.43143,\n",
       "           0.43243,     0.43343,     0.43443,     0.43544,     0.43644,     0.43744,     0.43844,     0.43944,     0.44044,     0.44144,     0.44244,     0.44344,     0.44444,     0.44545,     0.44645,     0.44745,     0.44845,     0.44945,     0.45045,     0.45145,     0.45245,     0.45345,     0.45445,     0.45546,\n",
       "           0.45646,     0.45746,     0.45846,     0.45946,     0.46046,     0.46146,     0.46246,     0.46346,     0.46446,     0.46547,     0.46647,     0.46747,     0.46847,     0.46947,     0.47047,     0.47147,     0.47247,     0.47347,     0.47447,     0.47548,     0.47648,     0.47748,     0.47848,     0.47948,\n",
       "           0.48048,     0.48148,     0.48248,     0.48348,     0.48448,     0.48549,     0.48649,     0.48749,     0.48849,     0.48949,     0.49049,     0.49149,     0.49249,     0.49349,     0.49449,      0.4955,      0.4965,      0.4975,      0.4985,      0.4995,      0.5005,      0.5015,      0.5025,      0.5035,\n",
       "            0.5045,     0.50551,     0.50651,     0.50751,     0.50851,     0.50951,     0.51051,     0.51151,     0.51251,     0.51351,     0.51451,     0.51552,     0.51652,     0.51752,     0.51852,     0.51952,     0.52052,     0.52152,     0.52252,     0.52352,     0.52452,     0.52553,     0.52653,     0.52753,\n",
       "           0.52853,     0.52953,     0.53053,     0.53153,     0.53253,     0.53353,     0.53453,     0.53554,     0.53654,     0.53754,     0.53854,     0.53954,     0.54054,     0.54154,     0.54254,     0.54354,     0.54454,     0.54555,     0.54655,     0.54755,     0.54855,     0.54955,     0.55055,     0.55155,\n",
       "           0.55255,     0.55355,     0.55455,     0.55556,     0.55656,     0.55756,     0.55856,     0.55956,     0.56056,     0.56156,     0.56256,     0.56356,     0.56456,     0.56557,     0.56657,     0.56757,     0.56857,     0.56957,     0.57057,     0.57157,     0.57257,     0.57357,     0.57457,     0.57558,\n",
       "           0.57658,     0.57758,     0.57858,     0.57958,     0.58058,     0.58158,     0.58258,     0.58358,     0.58458,     0.58559,     0.58659,     0.58759,     0.58859,     0.58959,     0.59059,     0.59159,     0.59259,     0.59359,     0.59459,      0.5956,      0.5966,      0.5976,      0.5986,      0.5996,\n",
       "            0.6006,      0.6016,      0.6026,      0.6036,      0.6046,     0.60561,     0.60661,     0.60761,     0.60861,     0.60961,     0.61061,     0.61161,     0.61261,     0.61361,     0.61461,     0.61562,     0.61662,     0.61762,     0.61862,     0.61962,     0.62062,     0.62162,     0.62262,     0.62362,\n",
       "           0.62462,     0.62563,     0.62663,     0.62763,     0.62863,     0.62963,     0.63063,     0.63163,     0.63263,     0.63363,     0.63463,     0.63564,     0.63664,     0.63764,     0.63864,     0.63964,     0.64064,     0.64164,     0.64264,     0.64364,     0.64464,     0.64565,     0.64665,     0.64765,\n",
       "           0.64865,     0.64965,     0.65065,     0.65165,     0.65265,     0.65365,     0.65465,     0.65566,     0.65666,     0.65766,     0.65866,     0.65966,     0.66066,     0.66166,     0.66266,     0.66366,     0.66466,     0.66567,     0.66667,     0.66767,     0.66867,     0.66967,     0.67067,     0.67167,\n",
       "           0.67267,     0.67367,     0.67467,     0.67568,     0.67668,     0.67768,     0.67868,     0.67968,     0.68068,     0.68168,     0.68268,     0.68368,     0.68468,     0.68569,     0.68669,     0.68769,     0.68869,     0.68969,     0.69069,     0.69169,     0.69269,     0.69369,     0.69469,      0.6957,\n",
       "            0.6967,      0.6977,      0.6987,      0.6997,      0.7007,      0.7017,      0.7027,      0.7037,      0.7047,     0.70571,     0.70671,     0.70771,     0.70871,     0.70971,     0.71071,     0.71171,     0.71271,     0.71371,     0.71471,     0.71572,     0.71672,     0.71772,     0.71872,     0.71972,\n",
       "           0.72072,     0.72172,     0.72272,     0.72372,     0.72472,     0.72573,     0.72673,     0.72773,     0.72873,     0.72973,     0.73073,     0.73173,     0.73273,     0.73373,     0.73473,     0.73574,     0.73674,     0.73774,     0.73874,     0.73974,     0.74074,     0.74174,     0.74274,     0.74374,\n",
       "           0.74474,     0.74575,     0.74675,     0.74775,     0.74875,     0.74975,     0.75075,     0.75175,     0.75275,     0.75375,     0.75475,     0.75576,     0.75676,     0.75776,     0.75876,     0.75976,     0.76076,     0.76176,     0.76276,     0.76376,     0.76476,     0.76577,     0.76677,     0.76777,\n",
       "           0.76877,     0.76977,     0.77077,     0.77177,     0.77277,     0.77377,     0.77477,     0.77578,     0.77678,     0.77778,     0.77878,     0.77978,     0.78078,     0.78178,     0.78278,     0.78378,     0.78478,     0.78579,     0.78679,     0.78779,     0.78879,     0.78979,     0.79079,     0.79179,\n",
       "           0.79279,     0.79379,     0.79479,      0.7958,      0.7968,      0.7978,      0.7988,      0.7998,      0.8008,      0.8018,      0.8028,      0.8038,      0.8048,     0.80581,     0.80681,     0.80781,     0.80881,     0.80981,     0.81081,     0.81181,     0.81281,     0.81381,     0.81481,     0.81582,\n",
       "           0.81682,     0.81782,     0.81882,     0.81982,     0.82082,     0.82182,     0.82282,     0.82382,     0.82482,     0.82583,     0.82683,     0.82783,     0.82883,     0.82983,     0.83083,     0.83183,     0.83283,     0.83383,     0.83483,     0.83584,     0.83684,     0.83784,     0.83884,     0.83984,\n",
       "           0.84084,     0.84184,     0.84284,     0.84384,     0.84484,     0.84585,     0.84685,     0.84785,     0.84885,     0.84985,     0.85085,     0.85185,     0.85285,     0.85385,     0.85485,     0.85586,     0.85686,     0.85786,     0.85886,     0.85986,     0.86086,     0.86186,     0.86286,     0.86386,\n",
       "           0.86486,     0.86587,     0.86687,     0.86787,     0.86887,     0.86987,     0.87087,     0.87187,     0.87287,     0.87387,     0.87487,     0.87588,     0.87688,     0.87788,     0.87888,     0.87988,     0.88088,     0.88188,     0.88288,     0.88388,     0.88488,     0.88589,     0.88689,     0.88789,\n",
       "           0.88889,     0.88989,     0.89089,     0.89189,     0.89289,     0.89389,     0.89489,      0.8959,      0.8969,      0.8979,      0.8989,      0.8999,      0.9009,      0.9019,      0.9029,      0.9039,      0.9049,     0.90591,     0.90691,     0.90791,     0.90891,     0.90991,     0.91091,     0.91191,\n",
       "           0.91291,     0.91391,     0.91491,     0.91592,     0.91692,     0.91792,     0.91892,     0.91992,     0.92092,     0.92192,     0.92292,     0.92392,     0.92492,     0.92593,     0.92693,     0.92793,     0.92893,     0.92993,     0.93093,     0.93193,     0.93293,     0.93393,     0.93493,     0.93594,\n",
       "           0.93694,     0.93794,     0.93894,     0.93994,     0.94094,     0.94194,     0.94294,     0.94394,     0.94494,     0.94595,     0.94695,     0.94795,     0.94895,     0.94995,     0.95095,     0.95195,     0.95295,     0.95395,     0.95495,     0.95596,     0.95696,     0.95796,     0.95896,     0.95996,\n",
       "           0.96096,     0.96196,     0.96296,     0.96396,     0.96496,     0.96597,     0.96697,     0.96797,     0.96897,     0.96997,     0.97097,     0.97197,     0.97297,     0.97397,     0.97497,     0.97598,     0.97698,     0.97798,     0.97898,     0.97998,     0.98098,     0.98198,     0.98298,     0.98398,\n",
       "           0.98498,     0.98599,     0.98699,     0.98799,     0.98899,     0.98999,     0.99099,     0.99199,     0.99299,     0.99399,     0.99499,       0.996,       0.997,       0.998,       0.999,           1]), array([[    0.29851,     0.29851,     0.44142,     0.53039,     0.63425,     0.72877,     0.73577,     0.74957,     0.77297,     0.77864,     0.78432,     0.79912,      0.8169,       0.821,     0.82511,     0.82921,     0.83331,     0.85493,     0.86392,      0.8891,     0.89096,     0.89283,     0.89469,\n",
       "            0.89656,     0.89842,     0.90028,     0.90215,     0.90401,     0.90588,     0.90774,     0.92181,     0.93074,     0.93137,       0.932,     0.93262,     0.93325,     0.93388,      0.9345,     0.93513,     0.93575,     0.93638,     0.93701,     0.93763,     0.93826,     0.93889,     0.93951,\n",
       "            0.94014,     0.94077,     0.94139,     0.94202,     0.94264,     0.94327,      0.9439,     0.94452,     0.94515,     0.94578,      0.9464,     0.94703,     0.94765,     0.94828,     0.94891,     0.94953,     0.95016,     0.95079,     0.95141,     0.95204,     0.95474,     0.95996,     0.96518,\n",
       "             0.9704,     0.97561,     0.97565,     0.97568,     0.97572,     0.97575,     0.97579,     0.97583,     0.97586,      0.9759,     0.97594,     0.97597,     0.97601,     0.97604,     0.97608,     0.97612,     0.97615,     0.97619,     0.97623,     0.97626,      0.9763,     0.97633,     0.97637,\n",
       "            0.97641,     0.97644,     0.97648,     0.97651,     0.97655,     0.97659,     0.97662,     0.97666,      0.9767,     0.97673,     0.97677,      0.9768,     0.97684,     0.97688,     0.97691,     0.97695,     0.97699,     0.97702,     0.97706,     0.97709,     0.97713,     0.97717,      0.9772,\n",
       "            0.97724,     0.97727,     0.97731,     0.97735,     0.97738,     0.97742,     0.97746,     0.97749,     0.97753,     0.97756,      0.9776,     0.97764,     0.97767,     0.97771,     0.97775,     0.97778,     0.97782,     0.97785,     0.97789,     0.97793,     0.97796,       0.978,     0.97803,\n",
       "            0.97807,     0.97811,     0.97814,     0.97818,     0.97822,     0.97825,     0.97829,     0.97832,     0.97836,      0.9784,     0.97843,     0.97847,     0.97851,     0.97854,     0.97858,     0.97861,     0.97865,     0.97869,     0.97872,     0.97876,     0.97879,     0.97883,     0.97887,\n",
       "             0.9789,     0.97894,     0.97898,     0.97901,     0.97905,     0.97908,     0.97912,     0.97916,     0.97919,     0.97923,     0.97927,      0.9793,     0.97934,     0.97937,     0.97941,     0.97945,     0.97948,     0.97952,     0.97955,     0.97959,     0.97963,     0.97966,      0.9797,\n",
       "            0.97974,     0.97977,     0.97981,     0.97984,     0.97988,     0.97992,     0.97995,     0.97999,     0.98003,     0.98006,      0.9801,     0.98013,     0.98017,     0.98021,     0.98024,     0.98028,     0.98031,     0.98035,     0.98039,     0.98042,     0.98046,      0.9805,     0.98053,\n",
       "            0.98057,      0.9806,     0.98064,     0.98068,     0.98071,     0.98075,     0.98079,     0.98082,     0.98086,     0.98089,     0.98093,     0.98097,       0.981,     0.98104,     0.98108,     0.98111,     0.98115,     0.98118,     0.98122,     0.98126,     0.98129,     0.98133,     0.98136,\n",
       "             0.9814,     0.98144,     0.98147,     0.98151,     0.98155,     0.98158,     0.98162,     0.98165,     0.98169,     0.98173,     0.98176,      0.9818,     0.98184,     0.98187,     0.98191,     0.98194,     0.98198,     0.98202,     0.98205,     0.98209,     0.98212,     0.98216,      0.9822,\n",
       "            0.98223,     0.98227,     0.98231,     0.98234,     0.98238,     0.98241,     0.98245,     0.98249,     0.98252,     0.98256,      0.9826,     0.98263,     0.98267,      0.9827,     0.98274,     0.98278,     0.98281,     0.98285,     0.98288,     0.98292,     0.98296,     0.98299,     0.98303,\n",
       "            0.98307,      0.9831,     0.98314,     0.98317,     0.98321,     0.98325,     0.98328,     0.98332,     0.98336,     0.98339,     0.98343,     0.98346,      0.9835,     0.98354,     0.98357,     0.98361,     0.98364,     0.98368,     0.98372,     0.98375,     0.98379,     0.98383,     0.98386,\n",
       "             0.9839,     0.98393,     0.98397,     0.98401,     0.98404,     0.98408,     0.98412,     0.98415,     0.98419,     0.98422,     0.98426,      0.9843,     0.98433,     0.98437,      0.9844,     0.98444,     0.98448,     0.98451,     0.98455,     0.98459,     0.98462,     0.98466,     0.98469,\n",
       "            0.98473,     0.98477,      0.9848,     0.98484,     0.98488,     0.98491,     0.98495,     0.98498,     0.98502,     0.98506,     0.98509,     0.98513,     0.98516,      0.9852,     0.98524,     0.98527,     0.98531,     0.98535,     0.98538,     0.98542,     0.98545,     0.98549,     0.98553,\n",
       "            0.98556,      0.9856,     0.98564,     0.98567,     0.98571,     0.98574,     0.98578,     0.98582,     0.98585,     0.98589,     0.98592,     0.98596,       0.986,     0.98603,     0.98607,     0.98611,     0.98614,     0.98618,     0.98621,     0.98625,     0.98629,     0.98632,     0.98636,\n",
       "             0.9864,     0.98643,     0.98647,      0.9865,     0.98654,     0.98658,     0.98661,     0.98665,     0.98669,     0.98672,     0.98676,     0.98679,     0.98683,     0.98687,      0.9869,     0.98694,     0.98697,     0.98701,     0.98705,     0.98708,     0.98712,     0.98716,     0.98719,\n",
       "            0.98723,     0.98726,      0.9873,     0.98734,     0.98737,     0.98741,     0.98745,     0.98748,     0.98752,     0.98755,     0.98759,     0.98763,     0.98766,      0.9877,     0.98773,     0.98777,     0.98781,     0.98784,     0.98788,     0.98792,     0.98795,     0.98799,     0.98802,\n",
       "            0.98806,      0.9881,     0.98813,     0.98817,     0.98821,     0.98824,     0.98828,     0.98831,     0.98835,     0.98839,     0.98842,     0.98846,     0.98849,     0.98853,     0.98857,      0.9886,     0.98864,     0.98868,     0.98871,     0.98875,     0.98878,     0.98882,     0.98886,\n",
       "            0.98889,     0.98893,     0.98897,       0.989,     0.98904,     0.98907,     0.98911,     0.98915,     0.98918,     0.98922,     0.98925,     0.98929,     0.98933,     0.98936,      0.9894,     0.98944,     0.98947,     0.98951,     0.98954,     0.98958,     0.98962,     0.98965,     0.98969,\n",
       "            0.98973,     0.98976,      0.9898,     0.98983,     0.98987,     0.98991,     0.98994,     0.98998,     0.99001,     0.99005,     0.99009,     0.99012,     0.99016,      0.9902,     0.99023,     0.99027,      0.9903,     0.99034,     0.99038,     0.99041,     0.99045,     0.99049,     0.99052,\n",
       "            0.99056,     0.99059,     0.99063,     0.99067,      0.9907,     0.99074,     0.99077,     0.99081,     0.99085,     0.99088,     0.99092,     0.99096,     0.99099,     0.99103,     0.99106,      0.9911,     0.99114,     0.99117,     0.99121,     0.99125,     0.99128,     0.99132,     0.99135,\n",
       "            0.99139,     0.99143,     0.99146,      0.9915,     0.99153,     0.99157,     0.99161,     0.99164,     0.99168,     0.99172,     0.99175,     0.99179,     0.99182,     0.99186,      0.9919,     0.99193,     0.99197,     0.99201,     0.99204,     0.99208,     0.99211,     0.99215,     0.99219,\n",
       "            0.99222,     0.99226,     0.99229,     0.99233,     0.99237,      0.9924,     0.99244,     0.99248,     0.99251,     0.99255,     0.99258,     0.99262,     0.99266,     0.99269,     0.99273,     0.99277,      0.9928,     0.99284,     0.99287,     0.99291,     0.99295,     0.99298,     0.99302,\n",
       "            0.99306,     0.99309,     0.99313,     0.99316,      0.9932,     0.99324,     0.99327,     0.99331,     0.99334,     0.99338,     0.99342,     0.99345,     0.99349,     0.99353,     0.99356,      0.9936,     0.99363,     0.99367,     0.99371,     0.99374,     0.99378,     0.99382,     0.99385,\n",
       "            0.99389,     0.99392,     0.99396,       0.994,     0.99403,     0.99407,      0.9941,     0.99414,     0.99418,     0.99421,     0.99425,     0.99429,     0.99432,     0.99436,     0.99439,     0.99443,     0.99447,      0.9945,     0.99454,     0.99458,     0.99461,     0.99465,     0.99468,\n",
       "            0.99472,     0.99476,     0.99479,     0.99483,     0.99486,      0.9949,     0.99494,     0.99497,     0.99501,     0.99505,     0.99508,     0.99512,     0.99515,     0.99519,     0.99523,     0.99526,      0.9953,     0.99534,     0.99537,     0.99541,     0.99544,     0.99548,     0.99552,\n",
       "            0.99555,     0.99559,     0.99562,     0.99566,      0.9957,     0.99573,     0.99577,     0.99581,     0.99584,     0.99588,     0.99591,     0.99595,     0.99599,     0.99602,     0.99606,      0.9961,     0.99613,     0.99617,      0.9962,     0.99624,     0.99628,     0.99631,     0.99635,\n",
       "            0.99638,     0.99642,     0.99646,     0.99649,     0.99653,     0.99657,      0.9966,     0.99664,     0.99667,     0.99671,     0.99675,     0.99678,     0.99682,     0.99686,     0.99689,     0.99693,     0.99696,       0.997,     0.99704,     0.99707,     0.99711,     0.99714,     0.99718,\n",
       "            0.99722,     0.99725,     0.99729,     0.99733,     0.99736,      0.9974,     0.99743,     0.99747,     0.99751,     0.99754,     0.99758,     0.99762,     0.99765,     0.99769,     0.99772,     0.99776,      0.9978,     0.99783,     0.99787,      0.9979,     0.99794,     0.99798,     0.99801,\n",
       "            0.99805,     0.99809,     0.99812,     0.99816,     0.99819,     0.99823,     0.99827,      0.9983,     0.99834,     0.99838,     0.99841,     0.99845,     0.99848,     0.99852,     0.99856,     0.99859,     0.99863,     0.99867,      0.9987,     0.99874,     0.99877,     0.99881,     0.99885,\n",
       "            0.99888,     0.99892,     0.99895,     0.99899,     0.99903,     0.99906,      0.9991,     0.99914,     0.99917,     0.99921,     0.99924,     0.99928,     0.99932,     0.99935,     0.99939,     0.99943,     0.99946,      0.9995,     0.99953,     0.99957,     0.99961,     0.99964,     0.99968,\n",
       "            0.99971,     0.99975,     0.99979,     0.99982,     0.99986,      0.9999,     0.99993,     0.99997,           1,           1,           1,           1,           1,           1,           1,           1,           1,           1,           1,           1,           1,           1,           1,\n",
       "                  1,           1,           1,           1,           1,           1,           1,           1,           1,           1,           1,           1,           1,           1,           1,           1,           1,           1,           1,           1,           1,           1,           1,\n",
       "                  1,           1,           1,           1,           1,           1,           1,           1,           1,           1,           1,           1,           1,           1,           1,           1,           1,           1,           1,           1,           1,           1,           1,\n",
       "                  1,           1,           1,           1,           1,           1,           1,           1,           1,           1,           1,           1,           1,           1,           1,           1,           1,           1,           1,           1,           1,           1,           1,\n",
       "                  1,           1,           1,           1,           1,           1,           1,           1,           1,           1,           1,           1,           1,           1,           1,           1,           1,           1,           1,           1,           1,           1,           1,\n",
       "                  1,           1,           1,           1,           1,           1,           1,           1,           1,           1,           1,           1,           1,           1,           1,           1,           1,           1,           1,           1,           1,           1,           1,\n",
       "                  1,           1,           1,           1,           1,           1,           1,           1,           1,           1,           1,           1,           1,           1,           1,           1,           1,           1,           1,           1,           1,           1,           1,\n",
       "                  1,           1,           1,           1,           1,           1,           1,           1,           1,           1,           1,           1,           1,           1,           1,           1,           1,           1,           1,           1,           1,           1,           1,\n",
       "                  1,           1,           1,           1,           1,           1,           1,           1,           1,           1,           1,           1,           1,           1,           1,           1,           1,           1,           1,           1,           1,           1,           1,\n",
       "                  1,           1,           1,           1,           1,           1,           1,           1,           1,           1,           1,           1,           1,           1,           1,           1,           1,           1,           1,           1,           1,           1,           1,\n",
       "                  1,           1,           1,           1,           1,           1,           1,           1,           1,           1,           1,           1,           1,           1,           1,           1,           1,           1,           1,           1,           1,           1,           1,\n",
       "                  1,           1,           1,           1,           1,           1,           1,           1,           1,           1,           1]]), 'Confidence', 'Precision'], [array([          0,    0.001001,    0.002002,    0.003003,    0.004004,    0.005005,    0.006006,    0.007007,    0.008008,    0.009009,     0.01001,    0.011011,    0.012012,    0.013013,    0.014014,    0.015015,    0.016016,    0.017017,    0.018018,    0.019019,     0.02002,    0.021021,    0.022022,    0.023023,\n",
       "          0.024024,    0.025025,    0.026026,    0.027027,    0.028028,    0.029029,     0.03003,    0.031031,    0.032032,    0.033033,    0.034034,    0.035035,    0.036036,    0.037037,    0.038038,    0.039039,     0.04004,    0.041041,    0.042042,    0.043043,    0.044044,    0.045045,    0.046046,    0.047047,\n",
       "          0.048048,    0.049049,     0.05005,    0.051051,    0.052052,    0.053053,    0.054054,    0.055055,    0.056056,    0.057057,    0.058058,    0.059059,     0.06006,    0.061061,    0.062062,    0.063063,    0.064064,    0.065065,    0.066066,    0.067067,    0.068068,    0.069069,     0.07007,    0.071071,\n",
       "          0.072072,    0.073073,    0.074074,    0.075075,    0.076076,    0.077077,    0.078078,    0.079079,     0.08008,    0.081081,    0.082082,    0.083083,    0.084084,    0.085085,    0.086086,    0.087087,    0.088088,    0.089089,     0.09009,    0.091091,    0.092092,    0.093093,    0.094094,    0.095095,\n",
       "          0.096096,    0.097097,    0.098098,    0.099099,      0.1001,      0.1011,      0.1021,      0.1031,      0.1041,     0.10511,     0.10611,     0.10711,     0.10811,     0.10911,     0.11011,     0.11111,     0.11211,     0.11311,     0.11411,     0.11512,     0.11612,     0.11712,     0.11812,     0.11912,\n",
       "           0.12012,     0.12112,     0.12212,     0.12312,     0.12412,     0.12513,     0.12613,     0.12713,     0.12813,     0.12913,     0.13013,     0.13113,     0.13213,     0.13313,     0.13413,     0.13514,     0.13614,     0.13714,     0.13814,     0.13914,     0.14014,     0.14114,     0.14214,     0.14314,\n",
       "           0.14414,     0.14515,     0.14615,     0.14715,     0.14815,     0.14915,     0.15015,     0.15115,     0.15215,     0.15315,     0.15415,     0.15516,     0.15616,     0.15716,     0.15816,     0.15916,     0.16016,     0.16116,     0.16216,     0.16316,     0.16416,     0.16517,     0.16617,     0.16717,\n",
       "           0.16817,     0.16917,     0.17017,     0.17117,     0.17217,     0.17317,     0.17417,     0.17518,     0.17618,     0.17718,     0.17818,     0.17918,     0.18018,     0.18118,     0.18218,     0.18318,     0.18418,     0.18519,     0.18619,     0.18719,     0.18819,     0.18919,     0.19019,     0.19119,\n",
       "           0.19219,     0.19319,     0.19419,      0.1952,      0.1962,      0.1972,      0.1982,      0.1992,      0.2002,      0.2012,      0.2022,      0.2032,      0.2042,     0.20521,     0.20621,     0.20721,     0.20821,     0.20921,     0.21021,     0.21121,     0.21221,     0.21321,     0.21421,     0.21522,\n",
       "           0.21622,     0.21722,     0.21822,     0.21922,     0.22022,     0.22122,     0.22222,     0.22322,     0.22422,     0.22523,     0.22623,     0.22723,     0.22823,     0.22923,     0.23023,     0.23123,     0.23223,     0.23323,     0.23423,     0.23524,     0.23624,     0.23724,     0.23824,     0.23924,\n",
       "           0.24024,     0.24124,     0.24224,     0.24324,     0.24424,     0.24525,     0.24625,     0.24725,     0.24825,     0.24925,     0.25025,     0.25125,     0.25225,     0.25325,     0.25425,     0.25526,     0.25626,     0.25726,     0.25826,     0.25926,     0.26026,     0.26126,     0.26226,     0.26326,\n",
       "           0.26426,     0.26527,     0.26627,     0.26727,     0.26827,     0.26927,     0.27027,     0.27127,     0.27227,     0.27327,     0.27427,     0.27528,     0.27628,     0.27728,     0.27828,     0.27928,     0.28028,     0.28128,     0.28228,     0.28328,     0.28428,     0.28529,     0.28629,     0.28729,\n",
       "           0.28829,     0.28929,     0.29029,     0.29129,     0.29229,     0.29329,     0.29429,      0.2953,      0.2963,      0.2973,      0.2983,      0.2993,      0.3003,      0.3013,      0.3023,      0.3033,      0.3043,     0.30531,     0.30631,     0.30731,     0.30831,     0.30931,     0.31031,     0.31131,\n",
       "           0.31231,     0.31331,     0.31431,     0.31532,     0.31632,     0.31732,     0.31832,     0.31932,     0.32032,     0.32132,     0.32232,     0.32332,     0.32432,     0.32533,     0.32633,     0.32733,     0.32833,     0.32933,     0.33033,     0.33133,     0.33233,     0.33333,     0.33433,     0.33534,\n",
       "           0.33634,     0.33734,     0.33834,     0.33934,     0.34034,     0.34134,     0.34234,     0.34334,     0.34434,     0.34535,     0.34635,     0.34735,     0.34835,     0.34935,     0.35035,     0.35135,     0.35235,     0.35335,     0.35435,     0.35536,     0.35636,     0.35736,     0.35836,     0.35936,\n",
       "           0.36036,     0.36136,     0.36236,     0.36336,     0.36436,     0.36537,     0.36637,     0.36737,     0.36837,     0.36937,     0.37037,     0.37137,     0.37237,     0.37337,     0.37437,     0.37538,     0.37638,     0.37738,     0.37838,     0.37938,     0.38038,     0.38138,     0.38238,     0.38338,\n",
       "           0.38438,     0.38539,     0.38639,     0.38739,     0.38839,     0.38939,     0.39039,     0.39139,     0.39239,     0.39339,     0.39439,      0.3954,      0.3964,      0.3974,      0.3984,      0.3994,      0.4004,      0.4014,      0.4024,      0.4034,      0.4044,     0.40541,     0.40641,     0.40741,\n",
       "           0.40841,     0.40941,     0.41041,     0.41141,     0.41241,     0.41341,     0.41441,     0.41542,     0.41642,     0.41742,     0.41842,     0.41942,     0.42042,     0.42142,     0.42242,     0.42342,     0.42442,     0.42543,     0.42643,     0.42743,     0.42843,     0.42943,     0.43043,     0.43143,\n",
       "           0.43243,     0.43343,     0.43443,     0.43544,     0.43644,     0.43744,     0.43844,     0.43944,     0.44044,     0.44144,     0.44244,     0.44344,     0.44444,     0.44545,     0.44645,     0.44745,     0.44845,     0.44945,     0.45045,     0.45145,     0.45245,     0.45345,     0.45445,     0.45546,\n",
       "           0.45646,     0.45746,     0.45846,     0.45946,     0.46046,     0.46146,     0.46246,     0.46346,     0.46446,     0.46547,     0.46647,     0.46747,     0.46847,     0.46947,     0.47047,     0.47147,     0.47247,     0.47347,     0.47447,     0.47548,     0.47648,     0.47748,     0.47848,     0.47948,\n",
       "           0.48048,     0.48148,     0.48248,     0.48348,     0.48448,     0.48549,     0.48649,     0.48749,     0.48849,     0.48949,     0.49049,     0.49149,     0.49249,     0.49349,     0.49449,      0.4955,      0.4965,      0.4975,      0.4985,      0.4995,      0.5005,      0.5015,      0.5025,      0.5035,\n",
       "            0.5045,     0.50551,     0.50651,     0.50751,     0.50851,     0.50951,     0.51051,     0.51151,     0.51251,     0.51351,     0.51451,     0.51552,     0.51652,     0.51752,     0.51852,     0.51952,     0.52052,     0.52152,     0.52252,     0.52352,     0.52452,     0.52553,     0.52653,     0.52753,\n",
       "           0.52853,     0.52953,     0.53053,     0.53153,     0.53253,     0.53353,     0.53453,     0.53554,     0.53654,     0.53754,     0.53854,     0.53954,     0.54054,     0.54154,     0.54254,     0.54354,     0.54454,     0.54555,     0.54655,     0.54755,     0.54855,     0.54955,     0.55055,     0.55155,\n",
       "           0.55255,     0.55355,     0.55455,     0.55556,     0.55656,     0.55756,     0.55856,     0.55956,     0.56056,     0.56156,     0.56256,     0.56356,     0.56456,     0.56557,     0.56657,     0.56757,     0.56857,     0.56957,     0.57057,     0.57157,     0.57257,     0.57357,     0.57457,     0.57558,\n",
       "           0.57658,     0.57758,     0.57858,     0.57958,     0.58058,     0.58158,     0.58258,     0.58358,     0.58458,     0.58559,     0.58659,     0.58759,     0.58859,     0.58959,     0.59059,     0.59159,     0.59259,     0.59359,     0.59459,      0.5956,      0.5966,      0.5976,      0.5986,      0.5996,\n",
       "            0.6006,      0.6016,      0.6026,      0.6036,      0.6046,     0.60561,     0.60661,     0.60761,     0.60861,     0.60961,     0.61061,     0.61161,     0.61261,     0.61361,     0.61461,     0.61562,     0.61662,     0.61762,     0.61862,     0.61962,     0.62062,     0.62162,     0.62262,     0.62362,\n",
       "           0.62462,     0.62563,     0.62663,     0.62763,     0.62863,     0.62963,     0.63063,     0.63163,     0.63263,     0.63363,     0.63463,     0.63564,     0.63664,     0.63764,     0.63864,     0.63964,     0.64064,     0.64164,     0.64264,     0.64364,     0.64464,     0.64565,     0.64665,     0.64765,\n",
       "           0.64865,     0.64965,     0.65065,     0.65165,     0.65265,     0.65365,     0.65465,     0.65566,     0.65666,     0.65766,     0.65866,     0.65966,     0.66066,     0.66166,     0.66266,     0.66366,     0.66466,     0.66567,     0.66667,     0.66767,     0.66867,     0.66967,     0.67067,     0.67167,\n",
       "           0.67267,     0.67367,     0.67467,     0.67568,     0.67668,     0.67768,     0.67868,     0.67968,     0.68068,     0.68168,     0.68268,     0.68368,     0.68468,     0.68569,     0.68669,     0.68769,     0.68869,     0.68969,     0.69069,     0.69169,     0.69269,     0.69369,     0.69469,      0.6957,\n",
       "            0.6967,      0.6977,      0.6987,      0.6997,      0.7007,      0.7017,      0.7027,      0.7037,      0.7047,     0.70571,     0.70671,     0.70771,     0.70871,     0.70971,     0.71071,     0.71171,     0.71271,     0.71371,     0.71471,     0.71572,     0.71672,     0.71772,     0.71872,     0.71972,\n",
       "           0.72072,     0.72172,     0.72272,     0.72372,     0.72472,     0.72573,     0.72673,     0.72773,     0.72873,     0.72973,     0.73073,     0.73173,     0.73273,     0.73373,     0.73473,     0.73574,     0.73674,     0.73774,     0.73874,     0.73974,     0.74074,     0.74174,     0.74274,     0.74374,\n",
       "           0.74474,     0.74575,     0.74675,     0.74775,     0.74875,     0.74975,     0.75075,     0.75175,     0.75275,     0.75375,     0.75475,     0.75576,     0.75676,     0.75776,     0.75876,     0.75976,     0.76076,     0.76176,     0.76276,     0.76376,     0.76476,     0.76577,     0.76677,     0.76777,\n",
       "           0.76877,     0.76977,     0.77077,     0.77177,     0.77277,     0.77377,     0.77477,     0.77578,     0.77678,     0.77778,     0.77878,     0.77978,     0.78078,     0.78178,     0.78278,     0.78378,     0.78478,     0.78579,     0.78679,     0.78779,     0.78879,     0.78979,     0.79079,     0.79179,\n",
       "           0.79279,     0.79379,     0.79479,      0.7958,      0.7968,      0.7978,      0.7988,      0.7998,      0.8008,      0.8018,      0.8028,      0.8038,      0.8048,     0.80581,     0.80681,     0.80781,     0.80881,     0.80981,     0.81081,     0.81181,     0.81281,     0.81381,     0.81481,     0.81582,\n",
       "           0.81682,     0.81782,     0.81882,     0.81982,     0.82082,     0.82182,     0.82282,     0.82382,     0.82482,     0.82583,     0.82683,     0.82783,     0.82883,     0.82983,     0.83083,     0.83183,     0.83283,     0.83383,     0.83483,     0.83584,     0.83684,     0.83784,     0.83884,     0.83984,\n",
       "           0.84084,     0.84184,     0.84284,     0.84384,     0.84484,     0.84585,     0.84685,     0.84785,     0.84885,     0.84985,     0.85085,     0.85185,     0.85285,     0.85385,     0.85485,     0.85586,     0.85686,     0.85786,     0.85886,     0.85986,     0.86086,     0.86186,     0.86286,     0.86386,\n",
       "           0.86486,     0.86587,     0.86687,     0.86787,     0.86887,     0.86987,     0.87087,     0.87187,     0.87287,     0.87387,     0.87487,     0.87588,     0.87688,     0.87788,     0.87888,     0.87988,     0.88088,     0.88188,     0.88288,     0.88388,     0.88488,     0.88589,     0.88689,     0.88789,\n",
       "           0.88889,     0.88989,     0.89089,     0.89189,     0.89289,     0.89389,     0.89489,      0.8959,      0.8969,      0.8979,      0.8989,      0.8999,      0.9009,      0.9019,      0.9029,      0.9039,      0.9049,     0.90591,     0.90691,     0.90791,     0.90891,     0.90991,     0.91091,     0.91191,\n",
       "           0.91291,     0.91391,     0.91491,     0.91592,     0.91692,     0.91792,     0.91892,     0.91992,     0.92092,     0.92192,     0.92292,     0.92392,     0.92492,     0.92593,     0.92693,     0.92793,     0.92893,     0.92993,     0.93093,     0.93193,     0.93293,     0.93393,     0.93493,     0.93594,\n",
       "           0.93694,     0.93794,     0.93894,     0.93994,     0.94094,     0.94194,     0.94294,     0.94394,     0.94494,     0.94595,     0.94695,     0.94795,     0.94895,     0.94995,     0.95095,     0.95195,     0.95295,     0.95395,     0.95495,     0.95596,     0.95696,     0.95796,     0.95896,     0.95996,\n",
       "           0.96096,     0.96196,     0.96296,     0.96396,     0.96496,     0.96597,     0.96697,     0.96797,     0.96897,     0.96997,     0.97097,     0.97197,     0.97297,     0.97397,     0.97497,     0.97598,     0.97698,     0.97798,     0.97898,     0.97998,     0.98098,     0.98198,     0.98298,     0.98398,\n",
       "           0.98498,     0.98599,     0.98699,     0.98799,     0.98899,     0.98999,     0.99099,     0.99199,     0.99299,     0.99399,     0.99499,       0.996,       0.997,       0.998,       0.999,           1]), array([[          1,           1,           1,           1,           1,           1,           1,           1,           1,           1,           1,           1,           1,           1,           1,           1,           1,           1,           1,           1,           1,           1,           1,\n",
       "                  1,           1,           1,           1,           1,           1,           1,           1,           1,           1,           1,           1,           1,           1,           1,           1,           1,           1,           1,           1,           1,           1,           1,\n",
       "                  1,           1,           1,           1,           1,           1,           1,           1,           1,           1,           1,           1,           1,           1,           1,           1,           1,           1,           1,           1,           1,           1,           1,\n",
       "                  1,           1,           1,           1,           1,           1,           1,           1,           1,           1,           1,           1,           1,           1,           1,           1,           1,           1,           1,           1,           1,           1,           1,\n",
       "                  1,           1,           1,           1,           1,           1,           1,           1,           1,           1,           1,           1,           1,           1,           1,           1,           1,           1,           1,           1,           1,           1,           1,\n",
       "                  1,           1,           1,           1,           1,           1,           1,           1,           1,           1,           1,           1,           1,           1,           1,           1,           1,           1,           1,           1,           1,           1,           1,\n",
       "                  1,           1,           1,           1,           1,           1,           1,           1,           1,           1,           1,           1,           1,           1,           1,           1,           1,           1,           1,           1,           1,           1,           1,\n",
       "                  1,           1,           1,           1,           1,           1,           1,           1,           1,           1,           1,           1,           1,           1,           1,           1,           1,           1,           1,           1,           1,           1,           1,\n",
       "                  1,           1,           1,           1,           1,           1,           1,           1,           1,           1,           1,           1,           1,           1,           1,           1,           1,           1,           1,           1,           1,           1,           1,\n",
       "                  1,           1,           1,           1,           1,           1,           1,           1,           1,           1,           1,           1,           1,           1,           1,           1,           1,           1,           1,           1,           1,           1,           1,\n",
       "                  1,           1,           1,           1,           1,           1,           1,           1,           1,           1,           1,           1,           1,           1,           1,           1,           1,           1,           1,           1,           1,           1,           1,\n",
       "                  1,           1,           1,           1,           1,           1,           1,           1,           1,           1,           1,           1,           1,           1,           1,           1,           1,           1,           1,           1,           1,           1,           1,\n",
       "                  1,           1,           1,           1,           1,           1,           1,           1,           1,           1,           1,           1,           1,           1,           1,           1,           1,           1,           1,           1,           1,           1,           1,\n",
       "                  1,           1,           1,           1,           1,           1,           1,           1,           1,           1,           1,           1,           1,           1,           1,           1,           1,           1,           1,           1,           1,           1,           1,\n",
       "                  1,           1,           1,           1,           1,           1,           1,           1,           1,           1,           1,           1,           1,           1,           1,           1,           1,           1,           1,           1,           1,           1,           1,\n",
       "                  1,           1,           1,           1,           1,           1,           1,           1,           1,           1,           1,           1,           1,           1,           1,           1,           1,           1,           1,           1,           1,           1,           1,\n",
       "                  1,           1,           1,           1,           1,           1,           1,           1,           1,           1,           1,           1,           1,           1,           1,           1,           1,           1,           1,           1,           1,           1,           1,\n",
       "                  1,           1,           1,           1,           1,           1,           1,           1,           1,           1,           1,           1,           1,           1,           1,           1,           1,           1,           1,           1,           1,           1,           1,\n",
       "                  1,           1,           1,           1,           1,           1,           1,           1,           1,           1,           1,           1,           1,           1,           1,           1,           1,           1,           1,           1,           1,           1,           1,\n",
       "                  1,           1,           1,           1,           1,           1,           1,           1,           1,           1,           1,           1,           1,           1,           1,           1,           1,           1,           1,           1,           1,           1,           1,\n",
       "                  1,           1,           1,           1,           1,           1,           1,           1,           1,           1,           1,           1,           1,           1,           1,           1,           1,           1,           1,           1,           1,           1,           1,\n",
       "                  1,           1,           1,           1,           1,           1,           1,           1,           1,           1,           1,           1,           1,           1,           1,           1,           1,           1,           1,           1,           1,           1,           1,\n",
       "                  1,           1,           1,           1,           1,           1,           1,           1,           1,           1,           1,           1,           1,           1,           1,           1,           1,           1,           1,           1,           1,           1,           1,\n",
       "                  1,           1,           1,           1,           1,           1,           1,           1,           1,           1,           1,           1,           1,           1,           1,           1,           1,           1,           1,           1,           1,           1,           1,\n",
       "                  1,           1,           1,           1,           1,           1,           1,           1,           1,           1,           1,           1,           1,           1,           1,           1,           1,           1,           1,           1,           1,           1,           1,\n",
       "                  1,           1,           1,           1,           1,           1,           1,           1,           1,           1,           1,           1,           1,           1,           1,           1,           1,           1,           1,           1,           1,           1,           1,\n",
       "                  1,           1,           1,           1,           1,           1,           1,           1,           1,           1,           1,           1,           1,           1,           1,           1,           1,           1,           1,           1,           1,           1,           1,\n",
       "                  1,           1,           1,           1,           1,           1,           1,           1,           1,           1,           1,           1,           1,           1,           1,           1,           1,           1,           1,           1,           1,           1,           1,\n",
       "                  1,           1,           1,           1,           1,           1,           1,           1,           1,           1,           1,           1,           1,           1,           1,           1,           1,           1,           1,           1,           1,           1,           1,\n",
       "                  1,           1,           1,           1,           1,           1,           1,           1,           1,           1,           1,           1,           1,           1,           1,           1,           1,           1,           1,           1,           1,           1,           1,\n",
       "                  1,           1,           1,           1,           1,           1,           1,           1,           1,           1,           1,           1,           1,           1,           1,           1,           1,           1,           1,           1,           1,           1,           1,\n",
       "                  1,           1,           1,           1,           1,           1,           1,           1,           1,           1,           1,           1,           1,           1,           1,           1,           1,           1,           1,           1,           1,           1,           1,\n",
       "                  1,           1,           1,           1,           1,           1,           1,           1,     0.99997,     0.99974,      0.9995,     0.99926,     0.99902,     0.99879,     0.99855,     0.99831,     0.99807,     0.99784,      0.9976,     0.99736,     0.99713,     0.99689,     0.99665,\n",
       "            0.99641,     0.99618,     0.99594,      0.9957,     0.99546,     0.99523,     0.99499,     0.99475,     0.99452,     0.99428,     0.99404,      0.9938,     0.99357,     0.99333,     0.99309,     0.99285,     0.99262,     0.99238,     0.99214,     0.99191,     0.99167,     0.99143,     0.99119,\n",
       "            0.99096,     0.99072,     0.99048,     0.99024,     0.99001,     0.98977,     0.98953,      0.9893,     0.98906,     0.98882,     0.98858,     0.98835,     0.98811,     0.98787,     0.98763,      0.9874,     0.98716,     0.98692,     0.98669,     0.98645,     0.98621,     0.98597,     0.98574,\n",
       "             0.9855,     0.98526,     0.98502,     0.98479,     0.98455,     0.98431,     0.98408,     0.98384,      0.9836,     0.98336,     0.98313,     0.98289,     0.98265,     0.98241,     0.98218,     0.98194,      0.9817,     0.98147,     0.98123,     0.98099,     0.98075,     0.98052,     0.98028,\n",
       "            0.98004,      0.9798,     0.97957,     0.97933,     0.97909,     0.97886,     0.97862,     0.97838,     0.97814,     0.97791,     0.97767,     0.97743,     0.97719,     0.97696,     0.97672,     0.97648,     0.97625,     0.97601,     0.97577,     0.97553,      0.9753,     0.97506,     0.97179,\n",
       "            0.96752,     0.96324,     0.95897,      0.9547,     0.95043,     0.92696,     0.91317,     0.90036,     0.89617,     0.89222,     0.88828,     0.88434,      0.8804,     0.87646,     0.87038,     0.86306,     0.85574,     0.84963,     0.84792,     0.84621,     0.84451,      0.8428,     0.84109,\n",
       "            0.83938,     0.83767,     0.83596,     0.83426,     0.83255,     0.83084,     0.82913,     0.82742,     0.82571,     0.81007,     0.79893,     0.79716,     0.79539,     0.79363,     0.79186,     0.79009,     0.78832,     0.78656,     0.78479,     0.78302,     0.78125,     0.77949,     0.77772,\n",
       "            0.77595,     0.76713,     0.75004,      0.7427,     0.73537,     0.72805,     0.71753,     0.70472,      0.6919,     0.67909,     0.65756,     0.60693,     0.56881,     0.52159,     0.50878,     0.49193,     0.47283,     0.46642,     0.46001,     0.45361,      0.4444,     0.43159,     0.41878,\n",
       "            0.40596,     0.39817,     0.39476,     0.39134,     0.38792,     0.38451,     0.38109,     0.37767,     0.37128,      0.3542,     0.33067,     0.26009,     0.24314,      0.2346,     0.22606,     0.16504,     0.12883,     0.09882,    0.096122,    0.093425,    0.090728,     0.08803,    0.085333,\n",
       "           0.082635,    0.079938,     0.07724,    0.070658,    0.048344,    0.039802,     0.03126,           0,           0,           0,           0,           0,           0,           0,           0,           0,           0,           0,           0,           0,           0,           0,           0,\n",
       "                  0,           0,           0,           0,           0,           0,           0,           0,           0,           0,           0,           0,           0,           0,           0,           0,           0,           0,           0,           0,           0,           0,           0,\n",
       "                  0,           0,           0,           0,           0,           0,           0,           0,           0,           0,           0]]), 'Confidence', 'Recall'], [array([          0,    0.001001,    0.002002,    0.003003,    0.004004,    0.005005,    0.006006,    0.007007,    0.008008,    0.009009,     0.01001,    0.011011,    0.012012,    0.013013,    0.014014,    0.015015,    0.016016,    0.017017,    0.018018,    0.019019,     0.02002,    0.021021,    0.022022,    0.023023,\n",
       "          0.024024,    0.025025,    0.026026,    0.027027,    0.028028,    0.029029,     0.03003,    0.031031,    0.032032,    0.033033,    0.034034,    0.035035,    0.036036,    0.037037,    0.038038,    0.039039,     0.04004,    0.041041,    0.042042,    0.043043,    0.044044,    0.045045,    0.046046,    0.047047,\n",
       "          0.048048,    0.049049,     0.05005,    0.051051,    0.052052,    0.053053,    0.054054,    0.055055,    0.056056,    0.057057,    0.058058,    0.059059,     0.06006,    0.061061,    0.062062,    0.063063,    0.064064,    0.065065,    0.066066,    0.067067,    0.068068,    0.069069,     0.07007,    0.071071,\n",
       "          0.072072,    0.073073,    0.074074,    0.075075,    0.076076,    0.077077,    0.078078,    0.079079,     0.08008,    0.081081,    0.082082,    0.083083,    0.084084,    0.085085,    0.086086,    0.087087,    0.088088,    0.089089,     0.09009,    0.091091,    0.092092,    0.093093,    0.094094,    0.095095,\n",
       "          0.096096,    0.097097,    0.098098,    0.099099,      0.1001,      0.1011,      0.1021,      0.1031,      0.1041,     0.10511,     0.10611,     0.10711,     0.10811,     0.10911,     0.11011,     0.11111,     0.11211,     0.11311,     0.11411,     0.11512,     0.11612,     0.11712,     0.11812,     0.11912,\n",
       "           0.12012,     0.12112,     0.12212,     0.12312,     0.12412,     0.12513,     0.12613,     0.12713,     0.12813,     0.12913,     0.13013,     0.13113,     0.13213,     0.13313,     0.13413,     0.13514,     0.13614,     0.13714,     0.13814,     0.13914,     0.14014,     0.14114,     0.14214,     0.14314,\n",
       "           0.14414,     0.14515,     0.14615,     0.14715,     0.14815,     0.14915,     0.15015,     0.15115,     0.15215,     0.15315,     0.15415,     0.15516,     0.15616,     0.15716,     0.15816,     0.15916,     0.16016,     0.16116,     0.16216,     0.16316,     0.16416,     0.16517,     0.16617,     0.16717,\n",
       "           0.16817,     0.16917,     0.17017,     0.17117,     0.17217,     0.17317,     0.17417,     0.17518,     0.17618,     0.17718,     0.17818,     0.17918,     0.18018,     0.18118,     0.18218,     0.18318,     0.18418,     0.18519,     0.18619,     0.18719,     0.18819,     0.18919,     0.19019,     0.19119,\n",
       "           0.19219,     0.19319,     0.19419,      0.1952,      0.1962,      0.1972,      0.1982,      0.1992,      0.2002,      0.2012,      0.2022,      0.2032,      0.2042,     0.20521,     0.20621,     0.20721,     0.20821,     0.20921,     0.21021,     0.21121,     0.21221,     0.21321,     0.21421,     0.21522,\n",
       "           0.21622,     0.21722,     0.21822,     0.21922,     0.22022,     0.22122,     0.22222,     0.22322,     0.22422,     0.22523,     0.22623,     0.22723,     0.22823,     0.22923,     0.23023,     0.23123,     0.23223,     0.23323,     0.23423,     0.23524,     0.23624,     0.23724,     0.23824,     0.23924,\n",
       "           0.24024,     0.24124,     0.24224,     0.24324,     0.24424,     0.24525,     0.24625,     0.24725,     0.24825,     0.24925,     0.25025,     0.25125,     0.25225,     0.25325,     0.25425,     0.25526,     0.25626,     0.25726,     0.25826,     0.25926,     0.26026,     0.26126,     0.26226,     0.26326,\n",
       "           0.26426,     0.26527,     0.26627,     0.26727,     0.26827,     0.26927,     0.27027,     0.27127,     0.27227,     0.27327,     0.27427,     0.27528,     0.27628,     0.27728,     0.27828,     0.27928,     0.28028,     0.28128,     0.28228,     0.28328,     0.28428,     0.28529,     0.28629,     0.28729,\n",
       "           0.28829,     0.28929,     0.29029,     0.29129,     0.29229,     0.29329,     0.29429,      0.2953,      0.2963,      0.2973,      0.2983,      0.2993,      0.3003,      0.3013,      0.3023,      0.3033,      0.3043,     0.30531,     0.30631,     0.30731,     0.30831,     0.30931,     0.31031,     0.31131,\n",
       "           0.31231,     0.31331,     0.31431,     0.31532,     0.31632,     0.31732,     0.31832,     0.31932,     0.32032,     0.32132,     0.32232,     0.32332,     0.32432,     0.32533,     0.32633,     0.32733,     0.32833,     0.32933,     0.33033,     0.33133,     0.33233,     0.33333,     0.33433,     0.33534,\n",
       "           0.33634,     0.33734,     0.33834,     0.33934,     0.34034,     0.34134,     0.34234,     0.34334,     0.34434,     0.34535,     0.34635,     0.34735,     0.34835,     0.34935,     0.35035,     0.35135,     0.35235,     0.35335,     0.35435,     0.35536,     0.35636,     0.35736,     0.35836,     0.35936,\n",
       "           0.36036,     0.36136,     0.36236,     0.36336,     0.36436,     0.36537,     0.36637,     0.36737,     0.36837,     0.36937,     0.37037,     0.37137,     0.37237,     0.37337,     0.37437,     0.37538,     0.37638,     0.37738,     0.37838,     0.37938,     0.38038,     0.38138,     0.38238,     0.38338,\n",
       "           0.38438,     0.38539,     0.38639,     0.38739,     0.38839,     0.38939,     0.39039,     0.39139,     0.39239,     0.39339,     0.39439,      0.3954,      0.3964,      0.3974,      0.3984,      0.3994,      0.4004,      0.4014,      0.4024,      0.4034,      0.4044,     0.40541,     0.40641,     0.40741,\n",
       "           0.40841,     0.40941,     0.41041,     0.41141,     0.41241,     0.41341,     0.41441,     0.41542,     0.41642,     0.41742,     0.41842,     0.41942,     0.42042,     0.42142,     0.42242,     0.42342,     0.42442,     0.42543,     0.42643,     0.42743,     0.42843,     0.42943,     0.43043,     0.43143,\n",
       "           0.43243,     0.43343,     0.43443,     0.43544,     0.43644,     0.43744,     0.43844,     0.43944,     0.44044,     0.44144,     0.44244,     0.44344,     0.44444,     0.44545,     0.44645,     0.44745,     0.44845,     0.44945,     0.45045,     0.45145,     0.45245,     0.45345,     0.45445,     0.45546,\n",
       "           0.45646,     0.45746,     0.45846,     0.45946,     0.46046,     0.46146,     0.46246,     0.46346,     0.46446,     0.46547,     0.46647,     0.46747,     0.46847,     0.46947,     0.47047,     0.47147,     0.47247,     0.47347,     0.47447,     0.47548,     0.47648,     0.47748,     0.47848,     0.47948,\n",
       "           0.48048,     0.48148,     0.48248,     0.48348,     0.48448,     0.48549,     0.48649,     0.48749,     0.48849,     0.48949,     0.49049,     0.49149,     0.49249,     0.49349,     0.49449,      0.4955,      0.4965,      0.4975,      0.4985,      0.4995,      0.5005,      0.5015,      0.5025,      0.5035,\n",
       "            0.5045,     0.50551,     0.50651,     0.50751,     0.50851,     0.50951,     0.51051,     0.51151,     0.51251,     0.51351,     0.51451,     0.51552,     0.51652,     0.51752,     0.51852,     0.51952,     0.52052,     0.52152,     0.52252,     0.52352,     0.52452,     0.52553,     0.52653,     0.52753,\n",
       "           0.52853,     0.52953,     0.53053,     0.53153,     0.53253,     0.53353,     0.53453,     0.53554,     0.53654,     0.53754,     0.53854,     0.53954,     0.54054,     0.54154,     0.54254,     0.54354,     0.54454,     0.54555,     0.54655,     0.54755,     0.54855,     0.54955,     0.55055,     0.55155,\n",
       "           0.55255,     0.55355,     0.55455,     0.55556,     0.55656,     0.55756,     0.55856,     0.55956,     0.56056,     0.56156,     0.56256,     0.56356,     0.56456,     0.56557,     0.56657,     0.56757,     0.56857,     0.56957,     0.57057,     0.57157,     0.57257,     0.57357,     0.57457,     0.57558,\n",
       "           0.57658,     0.57758,     0.57858,     0.57958,     0.58058,     0.58158,     0.58258,     0.58358,     0.58458,     0.58559,     0.58659,     0.58759,     0.58859,     0.58959,     0.59059,     0.59159,     0.59259,     0.59359,     0.59459,      0.5956,      0.5966,      0.5976,      0.5986,      0.5996,\n",
       "            0.6006,      0.6016,      0.6026,      0.6036,      0.6046,     0.60561,     0.60661,     0.60761,     0.60861,     0.60961,     0.61061,     0.61161,     0.61261,     0.61361,     0.61461,     0.61562,     0.61662,     0.61762,     0.61862,     0.61962,     0.62062,     0.62162,     0.62262,     0.62362,\n",
       "           0.62462,     0.62563,     0.62663,     0.62763,     0.62863,     0.62963,     0.63063,     0.63163,     0.63263,     0.63363,     0.63463,     0.63564,     0.63664,     0.63764,     0.63864,     0.63964,     0.64064,     0.64164,     0.64264,     0.64364,     0.64464,     0.64565,     0.64665,     0.64765,\n",
       "           0.64865,     0.64965,     0.65065,     0.65165,     0.65265,     0.65365,     0.65465,     0.65566,     0.65666,     0.65766,     0.65866,     0.65966,     0.66066,     0.66166,     0.66266,     0.66366,     0.66466,     0.66567,     0.66667,     0.66767,     0.66867,     0.66967,     0.67067,     0.67167,\n",
       "           0.67267,     0.67367,     0.67467,     0.67568,     0.67668,     0.67768,     0.67868,     0.67968,     0.68068,     0.68168,     0.68268,     0.68368,     0.68468,     0.68569,     0.68669,     0.68769,     0.68869,     0.68969,     0.69069,     0.69169,     0.69269,     0.69369,     0.69469,      0.6957,\n",
       "            0.6967,      0.6977,      0.6987,      0.6997,      0.7007,      0.7017,      0.7027,      0.7037,      0.7047,     0.70571,     0.70671,     0.70771,     0.70871,     0.70971,     0.71071,     0.71171,     0.71271,     0.71371,     0.71471,     0.71572,     0.71672,     0.71772,     0.71872,     0.71972,\n",
       "           0.72072,     0.72172,     0.72272,     0.72372,     0.72472,     0.72573,     0.72673,     0.72773,     0.72873,     0.72973,     0.73073,     0.73173,     0.73273,     0.73373,     0.73473,     0.73574,     0.73674,     0.73774,     0.73874,     0.73974,     0.74074,     0.74174,     0.74274,     0.74374,\n",
       "           0.74474,     0.74575,     0.74675,     0.74775,     0.74875,     0.74975,     0.75075,     0.75175,     0.75275,     0.75375,     0.75475,     0.75576,     0.75676,     0.75776,     0.75876,     0.75976,     0.76076,     0.76176,     0.76276,     0.76376,     0.76476,     0.76577,     0.76677,     0.76777,\n",
       "           0.76877,     0.76977,     0.77077,     0.77177,     0.77277,     0.77377,     0.77477,     0.77578,     0.77678,     0.77778,     0.77878,     0.77978,     0.78078,     0.78178,     0.78278,     0.78378,     0.78478,     0.78579,     0.78679,     0.78779,     0.78879,     0.78979,     0.79079,     0.79179,\n",
       "           0.79279,     0.79379,     0.79479,      0.7958,      0.7968,      0.7978,      0.7988,      0.7998,      0.8008,      0.8018,      0.8028,      0.8038,      0.8048,     0.80581,     0.80681,     0.80781,     0.80881,     0.80981,     0.81081,     0.81181,     0.81281,     0.81381,     0.81481,     0.81582,\n",
       "           0.81682,     0.81782,     0.81882,     0.81982,     0.82082,     0.82182,     0.82282,     0.82382,     0.82482,     0.82583,     0.82683,     0.82783,     0.82883,     0.82983,     0.83083,     0.83183,     0.83283,     0.83383,     0.83483,     0.83584,     0.83684,     0.83784,     0.83884,     0.83984,\n",
       "           0.84084,     0.84184,     0.84284,     0.84384,     0.84484,     0.84585,     0.84685,     0.84785,     0.84885,     0.84985,     0.85085,     0.85185,     0.85285,     0.85385,     0.85485,     0.85586,     0.85686,     0.85786,     0.85886,     0.85986,     0.86086,     0.86186,     0.86286,     0.86386,\n",
       "           0.86486,     0.86587,     0.86687,     0.86787,     0.86887,     0.86987,     0.87087,     0.87187,     0.87287,     0.87387,     0.87487,     0.87588,     0.87688,     0.87788,     0.87888,     0.87988,     0.88088,     0.88188,     0.88288,     0.88388,     0.88488,     0.88589,     0.88689,     0.88789,\n",
       "           0.88889,     0.88989,     0.89089,     0.89189,     0.89289,     0.89389,     0.89489,      0.8959,      0.8969,      0.8979,      0.8989,      0.8999,      0.9009,      0.9019,      0.9029,      0.9039,      0.9049,     0.90591,     0.90691,     0.90791,     0.90891,     0.90991,     0.91091,     0.91191,\n",
       "           0.91291,     0.91391,     0.91491,     0.91592,     0.91692,     0.91792,     0.91892,     0.91992,     0.92092,     0.92192,     0.92292,     0.92392,     0.92492,     0.92593,     0.92693,     0.92793,     0.92893,     0.92993,     0.93093,     0.93193,     0.93293,     0.93393,     0.93493,     0.93594,\n",
       "           0.93694,     0.93794,     0.93894,     0.93994,     0.94094,     0.94194,     0.94294,     0.94394,     0.94494,     0.94595,     0.94695,     0.94795,     0.94895,     0.94995,     0.95095,     0.95195,     0.95295,     0.95395,     0.95495,     0.95596,     0.95696,     0.95796,     0.95896,     0.95996,\n",
       "           0.96096,     0.96196,     0.96296,     0.96396,     0.96496,     0.96597,     0.96697,     0.96797,     0.96897,     0.96997,     0.97097,     0.97197,     0.97297,     0.97397,     0.97497,     0.97598,     0.97698,     0.97798,     0.97898,     0.97998,     0.98098,     0.98198,     0.98298,     0.98398,\n",
       "           0.98498,     0.98599,     0.98699,     0.98799,     0.98899,     0.98999,     0.99099,     0.99199,     0.99299,     0.99399,     0.99499,       0.996,       0.997,       0.998,       0.999,           1]), array([[          1,           1,           1,           1,           1,           1,           1,           1,           1,           1,           1,           1,           1,           1,           1,           1,           1,           1,           1,           1,           1,           1,           1,\n",
       "                  1,           1,           1,           1,           1,           1,           1,           1,           1,           1,           1,           1,           1,           1,           1,           1,           1,           1,           1,           1,           1,           1,           1,\n",
       "                  1,           1,           1,           1,           1,           1,           1,           1,           1,           1,           1,           1,           1,           1,           1,           1,           1,           1,           1,           1,           1,           1,           1,\n",
       "                  1,           1,           1,           1,           1,           1,           1,           1,           1,           1,           1,           1,           1,           1,           1,           1,           1,           1,           1,           1,           1,           1,           1,\n",
       "                  1,           1,           1,           1,           1,           1,           1,           1,           1,           1,           1,           1,           1,           1,           1,           1,           1,           1,           1,           1,           1,           1,           1,\n",
       "                  1,           1,           1,           1,           1,           1,           1,           1,           1,           1,           1,           1,           1,           1,           1,           1,           1,           1,           1,           1,           1,           1,           1,\n",
       "                  1,           1,           1,           1,           1,           1,           1,           1,           1,           1,           1,           1,           1,           1,           1,           1,           1,           1,           1,           1,           1,           1,           1,\n",
       "                  1,           1,           1,           1,           1,           1,           1,           1,           1,           1,           1,           1,           1,           1,           1,           1,           1,           1,           1,           1,           1,           1,           1,\n",
       "                  1,           1,           1,           1,           1,           1,           1,           1,           1,           1,           1,           1,           1,           1,           1,           1,           1,           1,           1,           1,           1,           1,           1,\n",
       "                  1,           1,           1,           1,           1,           1,           1,           1,           1,           1,           1,           1,           1,           1,           1,           1,           1,           1,           1,           1,           1,           1,           1,\n",
       "                  1,           1,           1,           1,           1,           1,           1,           1,           1,           1,           1,           1,           1,           1,           1,           1,           1,           1,           1,           1,           1,           1,           1,\n",
       "                  1,           1,           1,           1,           1,           1,           1,           1,           1,           1,           1,           1,           1,           1,           1,           1,           1,           1,           1,           1,           1,           1,           1,\n",
       "                  1,           1,           1,           1,           1,           1,           1,           1,           1,           1,           1,           1,           1,           1,           1,           1,           1,           1,           1,           1,           1,           1,           1,\n",
       "                  1,           1,           1,           1,           1,           1,           1,           1,           1,           1,           1,           1,           1,           1,           1,           1,           1,           1,           1,           1,           1,           1,           1,\n",
       "                  1,           1,           1,           1,           1,           1,           1,           1,           1,           1,           1,           1,           1,           1,           1,           1,           1,           1,           1,           1,           1,           1,           1,\n",
       "                  1,           1,           1,           1,           1,           1,           1,           1,           1,           1,           1,           1,           1,           1,           1,           1,           1,           1,           1,           1,           1,           1,           1,\n",
       "                  1,           1,           1,           1,           1,           1,           1,           1,           1,           1,           1,           1,           1,           1,           1,           1,           1,           1,           1,           1,           1,           1,           1,\n",
       "                  1,           1,           1,           1,           1,           1,           1,           1,           1,           1,           1,           1,           1,           1,           1,           1,           1,           1,           1,           1,           1,           1,           1,\n",
       "                  1,           1,           1,           1,           1,           1,           1,           1,           1,           1,           1,           1,           1,           1,           1,           1,           1,           1,           1,           1,           1,           1,           1,\n",
       "                  1,           1,           1,           1,           1,           1,           1,           1,           1,           1,           1,           1,           1,           1,           1,           1,           1,           1,           1,           1,           1,           1,           1,\n",
       "                  1,           1,           1,           1,           1,           1,           1,           1,           1,           1,           1,           1,           1,           1,           1,           1,           1,           1,           1,           1,           1,           1,           1,\n",
       "                  1,           1,           1,           1,           1,           1,           1,           1,           1,           1,           1,           1,           1,           1,           1,           1,           1,           1,           1,           1,           1,           1,           1,\n",
       "                  1,           1,           1,           1,           1,           1,           1,           1,           1,           1,           1,           1,           1,           1,           1,           1,           1,           1,           1,           1,           1,           1,           1,\n",
       "                  1,           1,           1,           1,           1,           1,           1,           1,           1,           1,           1,           1,           1,           1,           1,           1,           1,           1,           1,           1,           1,           1,           1,\n",
       "                  1,           1,           1,           1,           1,           1,           1,           1,           1,           1,           1,           1,           1,           1,           1,           1,           1,           1,           1,           1,           1,           1,           1,\n",
       "                  1,           1,           1,           1,           1,           1,           1,           1,           1,           1,           1,           1,           1,           1,           1,           1,           1,           1,           1,           1,           1,           1,           1,\n",
       "                  1,           1,           1,           1,           1,           1,           1,           1,           1,           1,           1,           1,           1,           1,           1,           1,           1,           1,           1,           1,           1,           1,           1,\n",
       "                  1,           1,           1,           1,           1,           1,           1,           1,           1,           1,           1,           1,           1,           1,           1,           1,           1,           1,           1,           1,           1,           1,           1,\n",
       "                  1,           1,           1,           1,           1,           1,           1,           1,           1,           1,           1,           1,           1,           1,           1,           1,           1,           1,           1,           1,           1,           1,           1,\n",
       "                  1,           1,           1,           1,           1,           1,           1,           1,           1,           1,           1,           1,           1,           1,           1,           1,           1,           1,           1,           1,           1,           1,           1,\n",
       "                  1,           1,           1,           1,           1,           1,           1,           1,           1,           1,           1,           1,           1,           1,           1,           1,           1,           1,           1,           1,           1,           1,           1,\n",
       "                  1,           1,           1,           1,           1,           1,           1,           1,           1,           1,           1,           1,           1,           1,           1,           1,           1,           1,           1,           1,           1,           1,           1,\n",
       "                  1,           1,           1,           1,           1,           1,           1,           1,           1,           1,           1,           1,           1,           1,           1,           1,           1,           1,           1,           1,           1,           1,           1,\n",
       "                  1,           1,           1,           1,           1,           1,           1,           1,           1,           1,           1,           1,           1,           1,           1,           1,           1,           1,           1,           1,           1,           1,           1,\n",
       "                  1,           1,           1,           1,           1,           1,           1,           1,           1,           1,           1,           1,           1,           1,           1,           1,           1,           1,           1,           1,           1,           1,           1,\n",
       "                  1,           1,           1,           1,           1,           1,           1,           1,           1,           1,           1,           1,           1,           1,           1,           1,           1,           1,           1,           1,           1,           1,           1,\n",
       "                  1,           1,           1,           1,           1,           1,           1,           1,           1,           1,           1,           1,           1,           1,           1,           1,           1,           1,           1,           1,           1,           1,           1,\n",
       "                  1,           1,           1,           1,           1,           1,           1,           1,           1,           1,           1,           1,           1,           1,           1,           1,           1,           1,           1,           1,           1,           1,           1,\n",
       "                  1,           1,           1,           1,           1,           1,           1,           1,           1,           1,           1,           1,           1,           1,           1,           1,           1,           1,           1,           1,           1,           1,           1,\n",
       "                  1,           1,           1,           1,           1,           1,           1,           1,           1,           1,           1,           1,           1,           1,           1,           1,           1,           1,           1,           1,           1,           1,           1,\n",
       "                  1,           1,           1,           1,           1,           1,           1,           1,           1,           1,           1,           1,           1,           1,           1,           1,           1,           1,           1,           1,           1,           1,           1,\n",
       "                  1,           1,           1,           1,           1,           1,           1,           1,           1,           1,           1,           1,           1,           1,           1,           1,           1,           1,           1,           1,           1,           1,           1,\n",
       "                  1,           1,           1,           1,           1,           1,           1,           1,           1,     0.27968,     0.26803,     0.25638,     0.24472,     0.23307,     0.22142,     0.20976,     0.19811,     0.18646,      0.1748,     0.16315,     0.15149,     0.13984,     0.12819,\n",
       "            0.11653,     0.10488,    0.093228,    0.081574,    0.069921,    0.058267,    0.046614,     0.03496,    0.023307,    0.011653,           0]]), 'Recall', 'Precision'], [array([          0,    0.001001,    0.002002,    0.003003,    0.004004,    0.005005,    0.006006,    0.007007,    0.008008,    0.009009,     0.01001,    0.011011,    0.012012,    0.013013,    0.014014,    0.015015,    0.016016,    0.017017,    0.018018,    0.019019,     0.02002,    0.021021,    0.022022,    0.023023,\n",
       "          0.024024,    0.025025,    0.026026,    0.027027,    0.028028,    0.029029,     0.03003,    0.031031,    0.032032,    0.033033,    0.034034,    0.035035,    0.036036,    0.037037,    0.038038,    0.039039,     0.04004,    0.041041,    0.042042,    0.043043,    0.044044,    0.045045,    0.046046,    0.047047,\n",
       "          0.048048,    0.049049,     0.05005,    0.051051,    0.052052,    0.053053,    0.054054,    0.055055,    0.056056,    0.057057,    0.058058,    0.059059,     0.06006,    0.061061,    0.062062,    0.063063,    0.064064,    0.065065,    0.066066,    0.067067,    0.068068,    0.069069,     0.07007,    0.071071,\n",
       "          0.072072,    0.073073,    0.074074,    0.075075,    0.076076,    0.077077,    0.078078,    0.079079,     0.08008,    0.081081,    0.082082,    0.083083,    0.084084,    0.085085,    0.086086,    0.087087,    0.088088,    0.089089,     0.09009,    0.091091,    0.092092,    0.093093,    0.094094,    0.095095,\n",
       "          0.096096,    0.097097,    0.098098,    0.099099,      0.1001,      0.1011,      0.1021,      0.1031,      0.1041,     0.10511,     0.10611,     0.10711,     0.10811,     0.10911,     0.11011,     0.11111,     0.11211,     0.11311,     0.11411,     0.11512,     0.11612,     0.11712,     0.11812,     0.11912,\n",
       "           0.12012,     0.12112,     0.12212,     0.12312,     0.12412,     0.12513,     0.12613,     0.12713,     0.12813,     0.12913,     0.13013,     0.13113,     0.13213,     0.13313,     0.13413,     0.13514,     0.13614,     0.13714,     0.13814,     0.13914,     0.14014,     0.14114,     0.14214,     0.14314,\n",
       "           0.14414,     0.14515,     0.14615,     0.14715,     0.14815,     0.14915,     0.15015,     0.15115,     0.15215,     0.15315,     0.15415,     0.15516,     0.15616,     0.15716,     0.15816,     0.15916,     0.16016,     0.16116,     0.16216,     0.16316,     0.16416,     0.16517,     0.16617,     0.16717,\n",
       "           0.16817,     0.16917,     0.17017,     0.17117,     0.17217,     0.17317,     0.17417,     0.17518,     0.17618,     0.17718,     0.17818,     0.17918,     0.18018,     0.18118,     0.18218,     0.18318,     0.18418,     0.18519,     0.18619,     0.18719,     0.18819,     0.18919,     0.19019,     0.19119,\n",
       "           0.19219,     0.19319,     0.19419,      0.1952,      0.1962,      0.1972,      0.1982,      0.1992,      0.2002,      0.2012,      0.2022,      0.2032,      0.2042,     0.20521,     0.20621,     0.20721,     0.20821,     0.20921,     0.21021,     0.21121,     0.21221,     0.21321,     0.21421,     0.21522,\n",
       "           0.21622,     0.21722,     0.21822,     0.21922,     0.22022,     0.22122,     0.22222,     0.22322,     0.22422,     0.22523,     0.22623,     0.22723,     0.22823,     0.22923,     0.23023,     0.23123,     0.23223,     0.23323,     0.23423,     0.23524,     0.23624,     0.23724,     0.23824,     0.23924,\n",
       "           0.24024,     0.24124,     0.24224,     0.24324,     0.24424,     0.24525,     0.24625,     0.24725,     0.24825,     0.24925,     0.25025,     0.25125,     0.25225,     0.25325,     0.25425,     0.25526,     0.25626,     0.25726,     0.25826,     0.25926,     0.26026,     0.26126,     0.26226,     0.26326,\n",
       "           0.26426,     0.26527,     0.26627,     0.26727,     0.26827,     0.26927,     0.27027,     0.27127,     0.27227,     0.27327,     0.27427,     0.27528,     0.27628,     0.27728,     0.27828,     0.27928,     0.28028,     0.28128,     0.28228,     0.28328,     0.28428,     0.28529,     0.28629,     0.28729,\n",
       "           0.28829,     0.28929,     0.29029,     0.29129,     0.29229,     0.29329,     0.29429,      0.2953,      0.2963,      0.2973,      0.2983,      0.2993,      0.3003,      0.3013,      0.3023,      0.3033,      0.3043,     0.30531,     0.30631,     0.30731,     0.30831,     0.30931,     0.31031,     0.31131,\n",
       "           0.31231,     0.31331,     0.31431,     0.31532,     0.31632,     0.31732,     0.31832,     0.31932,     0.32032,     0.32132,     0.32232,     0.32332,     0.32432,     0.32533,     0.32633,     0.32733,     0.32833,     0.32933,     0.33033,     0.33133,     0.33233,     0.33333,     0.33433,     0.33534,\n",
       "           0.33634,     0.33734,     0.33834,     0.33934,     0.34034,     0.34134,     0.34234,     0.34334,     0.34434,     0.34535,     0.34635,     0.34735,     0.34835,     0.34935,     0.35035,     0.35135,     0.35235,     0.35335,     0.35435,     0.35536,     0.35636,     0.35736,     0.35836,     0.35936,\n",
       "           0.36036,     0.36136,     0.36236,     0.36336,     0.36436,     0.36537,     0.36637,     0.36737,     0.36837,     0.36937,     0.37037,     0.37137,     0.37237,     0.37337,     0.37437,     0.37538,     0.37638,     0.37738,     0.37838,     0.37938,     0.38038,     0.38138,     0.38238,     0.38338,\n",
       "           0.38438,     0.38539,     0.38639,     0.38739,     0.38839,     0.38939,     0.39039,     0.39139,     0.39239,     0.39339,     0.39439,      0.3954,      0.3964,      0.3974,      0.3984,      0.3994,      0.4004,      0.4014,      0.4024,      0.4034,      0.4044,     0.40541,     0.40641,     0.40741,\n",
       "           0.40841,     0.40941,     0.41041,     0.41141,     0.41241,     0.41341,     0.41441,     0.41542,     0.41642,     0.41742,     0.41842,     0.41942,     0.42042,     0.42142,     0.42242,     0.42342,     0.42442,     0.42543,     0.42643,     0.42743,     0.42843,     0.42943,     0.43043,     0.43143,\n",
       "           0.43243,     0.43343,     0.43443,     0.43544,     0.43644,     0.43744,     0.43844,     0.43944,     0.44044,     0.44144,     0.44244,     0.44344,     0.44444,     0.44545,     0.44645,     0.44745,     0.44845,     0.44945,     0.45045,     0.45145,     0.45245,     0.45345,     0.45445,     0.45546,\n",
       "           0.45646,     0.45746,     0.45846,     0.45946,     0.46046,     0.46146,     0.46246,     0.46346,     0.46446,     0.46547,     0.46647,     0.46747,     0.46847,     0.46947,     0.47047,     0.47147,     0.47247,     0.47347,     0.47447,     0.47548,     0.47648,     0.47748,     0.47848,     0.47948,\n",
       "           0.48048,     0.48148,     0.48248,     0.48348,     0.48448,     0.48549,     0.48649,     0.48749,     0.48849,     0.48949,     0.49049,     0.49149,     0.49249,     0.49349,     0.49449,      0.4955,      0.4965,      0.4975,      0.4985,      0.4995,      0.5005,      0.5015,      0.5025,      0.5035,\n",
       "            0.5045,     0.50551,     0.50651,     0.50751,     0.50851,     0.50951,     0.51051,     0.51151,     0.51251,     0.51351,     0.51451,     0.51552,     0.51652,     0.51752,     0.51852,     0.51952,     0.52052,     0.52152,     0.52252,     0.52352,     0.52452,     0.52553,     0.52653,     0.52753,\n",
       "           0.52853,     0.52953,     0.53053,     0.53153,     0.53253,     0.53353,     0.53453,     0.53554,     0.53654,     0.53754,     0.53854,     0.53954,     0.54054,     0.54154,     0.54254,     0.54354,     0.54454,     0.54555,     0.54655,     0.54755,     0.54855,     0.54955,     0.55055,     0.55155,\n",
       "           0.55255,     0.55355,     0.55455,     0.55556,     0.55656,     0.55756,     0.55856,     0.55956,     0.56056,     0.56156,     0.56256,     0.56356,     0.56456,     0.56557,     0.56657,     0.56757,     0.56857,     0.56957,     0.57057,     0.57157,     0.57257,     0.57357,     0.57457,     0.57558,\n",
       "           0.57658,     0.57758,     0.57858,     0.57958,     0.58058,     0.58158,     0.58258,     0.58358,     0.58458,     0.58559,     0.58659,     0.58759,     0.58859,     0.58959,     0.59059,     0.59159,     0.59259,     0.59359,     0.59459,      0.5956,      0.5966,      0.5976,      0.5986,      0.5996,\n",
       "            0.6006,      0.6016,      0.6026,      0.6036,      0.6046,     0.60561,     0.60661,     0.60761,     0.60861,     0.60961,     0.61061,     0.61161,     0.61261,     0.61361,     0.61461,     0.61562,     0.61662,     0.61762,     0.61862,     0.61962,     0.62062,     0.62162,     0.62262,     0.62362,\n",
       "           0.62462,     0.62563,     0.62663,     0.62763,     0.62863,     0.62963,     0.63063,     0.63163,     0.63263,     0.63363,     0.63463,     0.63564,     0.63664,     0.63764,     0.63864,     0.63964,     0.64064,     0.64164,     0.64264,     0.64364,     0.64464,     0.64565,     0.64665,     0.64765,\n",
       "           0.64865,     0.64965,     0.65065,     0.65165,     0.65265,     0.65365,     0.65465,     0.65566,     0.65666,     0.65766,     0.65866,     0.65966,     0.66066,     0.66166,     0.66266,     0.66366,     0.66466,     0.66567,     0.66667,     0.66767,     0.66867,     0.66967,     0.67067,     0.67167,\n",
       "           0.67267,     0.67367,     0.67467,     0.67568,     0.67668,     0.67768,     0.67868,     0.67968,     0.68068,     0.68168,     0.68268,     0.68368,     0.68468,     0.68569,     0.68669,     0.68769,     0.68869,     0.68969,     0.69069,     0.69169,     0.69269,     0.69369,     0.69469,      0.6957,\n",
       "            0.6967,      0.6977,      0.6987,      0.6997,      0.7007,      0.7017,      0.7027,      0.7037,      0.7047,     0.70571,     0.70671,     0.70771,     0.70871,     0.70971,     0.71071,     0.71171,     0.71271,     0.71371,     0.71471,     0.71572,     0.71672,     0.71772,     0.71872,     0.71972,\n",
       "           0.72072,     0.72172,     0.72272,     0.72372,     0.72472,     0.72573,     0.72673,     0.72773,     0.72873,     0.72973,     0.73073,     0.73173,     0.73273,     0.73373,     0.73473,     0.73574,     0.73674,     0.73774,     0.73874,     0.73974,     0.74074,     0.74174,     0.74274,     0.74374,\n",
       "           0.74474,     0.74575,     0.74675,     0.74775,     0.74875,     0.74975,     0.75075,     0.75175,     0.75275,     0.75375,     0.75475,     0.75576,     0.75676,     0.75776,     0.75876,     0.75976,     0.76076,     0.76176,     0.76276,     0.76376,     0.76476,     0.76577,     0.76677,     0.76777,\n",
       "           0.76877,     0.76977,     0.77077,     0.77177,     0.77277,     0.77377,     0.77477,     0.77578,     0.77678,     0.77778,     0.77878,     0.77978,     0.78078,     0.78178,     0.78278,     0.78378,     0.78478,     0.78579,     0.78679,     0.78779,     0.78879,     0.78979,     0.79079,     0.79179,\n",
       "           0.79279,     0.79379,     0.79479,      0.7958,      0.7968,      0.7978,      0.7988,      0.7998,      0.8008,      0.8018,      0.8028,      0.8038,      0.8048,     0.80581,     0.80681,     0.80781,     0.80881,     0.80981,     0.81081,     0.81181,     0.81281,     0.81381,     0.81481,     0.81582,\n",
       "           0.81682,     0.81782,     0.81882,     0.81982,     0.82082,     0.82182,     0.82282,     0.82382,     0.82482,     0.82583,     0.82683,     0.82783,     0.82883,     0.82983,     0.83083,     0.83183,     0.83283,     0.83383,     0.83483,     0.83584,     0.83684,     0.83784,     0.83884,     0.83984,\n",
       "           0.84084,     0.84184,     0.84284,     0.84384,     0.84484,     0.84585,     0.84685,     0.84785,     0.84885,     0.84985,     0.85085,     0.85185,     0.85285,     0.85385,     0.85485,     0.85586,     0.85686,     0.85786,     0.85886,     0.85986,     0.86086,     0.86186,     0.86286,     0.86386,\n",
       "           0.86486,     0.86587,     0.86687,     0.86787,     0.86887,     0.86987,     0.87087,     0.87187,     0.87287,     0.87387,     0.87487,     0.87588,     0.87688,     0.87788,     0.87888,     0.87988,     0.88088,     0.88188,     0.88288,     0.88388,     0.88488,     0.88589,     0.88689,     0.88789,\n",
       "           0.88889,     0.88989,     0.89089,     0.89189,     0.89289,     0.89389,     0.89489,      0.8959,      0.8969,      0.8979,      0.8989,      0.8999,      0.9009,      0.9019,      0.9029,      0.9039,      0.9049,     0.90591,     0.90691,     0.90791,     0.90891,     0.90991,     0.91091,     0.91191,\n",
       "           0.91291,     0.91391,     0.91491,     0.91592,     0.91692,     0.91792,     0.91892,     0.91992,     0.92092,     0.92192,     0.92292,     0.92392,     0.92492,     0.92593,     0.92693,     0.92793,     0.92893,     0.92993,     0.93093,     0.93193,     0.93293,     0.93393,     0.93493,     0.93594,\n",
       "           0.93694,     0.93794,     0.93894,     0.93994,     0.94094,     0.94194,     0.94294,     0.94394,     0.94494,     0.94595,     0.94695,     0.94795,     0.94895,     0.94995,     0.95095,     0.95195,     0.95295,     0.95395,     0.95495,     0.95596,     0.95696,     0.95796,     0.95896,     0.95996,\n",
       "           0.96096,     0.96196,     0.96296,     0.96396,     0.96496,     0.96597,     0.96697,     0.96797,     0.96897,     0.96997,     0.97097,     0.97197,     0.97297,     0.97397,     0.97497,     0.97598,     0.97698,     0.97798,     0.97898,     0.97998,     0.98098,     0.98198,     0.98298,     0.98398,\n",
       "           0.98498,     0.98599,     0.98699,     0.98799,     0.98899,     0.98999,     0.99099,     0.99199,     0.99299,     0.99399,     0.99499,       0.996,       0.997,       0.998,       0.999,           1]), array([[    0.44828,     0.44828,     0.59717,     0.67582,     0.75679,     0.82203,     0.82658,     0.83544,     0.85015,     0.85366,     0.85715,     0.86614,     0.87675,     0.87916,     0.88157,     0.88396,     0.88635,     0.89875,     0.90382,     0.91776,     0.91878,      0.9198,     0.92081,\n",
       "            0.92182,     0.92283,     0.92384,     0.92484,     0.92585,     0.92685,     0.92785,     0.93533,     0.94003,     0.94035,     0.94068,     0.94101,     0.94134,     0.94166,     0.94199,     0.94232,     0.94264,     0.94297,     0.94329,     0.94362,     0.94394,     0.94427,     0.94459,\n",
       "            0.94492,     0.94524,     0.94557,     0.94589,     0.94621,     0.94654,     0.94686,     0.94718,     0.94751,     0.94783,     0.94815,     0.94847,      0.9488,     0.94912,     0.94944,     0.94976,     0.95008,      0.9504,     0.95072,     0.95104,     0.95243,     0.95508,     0.95773,\n",
       "            0.96035,     0.96296,     0.96298,       0.963,     0.96302,     0.96304,     0.96305,     0.96307,     0.96309,     0.96311,     0.96313,     0.96314,     0.96316,     0.96318,      0.9632,     0.96322,     0.96323,     0.96325,     0.96327,     0.96329,     0.96331,     0.96332,     0.96334,\n",
       "            0.96336,     0.96338,      0.9634,     0.96341,     0.96343,     0.96345,     0.96347,     0.96349,     0.96351,     0.96352,     0.96354,     0.96356,     0.96358,      0.9636,     0.96361,     0.96363,     0.96365,     0.96367,     0.96369,      0.9637,     0.96372,     0.96374,     0.96376,\n",
       "            0.96378,     0.96379,     0.96381,     0.96383,     0.96385,     0.96387,     0.96388,      0.9639,     0.96392,     0.96394,     0.96396,     0.96397,     0.96399,     0.96401,     0.96403,     0.96405,     0.96406,     0.96408,      0.9641,     0.96412,     0.96414,     0.96416,     0.96417,\n",
       "            0.96419,     0.96421,     0.96423,     0.96425,     0.96426,     0.96428,      0.9643,     0.96432,     0.96434,     0.96435,     0.96437,     0.96439,     0.96441,     0.96443,     0.96444,     0.96446,     0.96448,      0.9645,     0.96452,     0.96453,     0.96455,     0.96457,     0.96459,\n",
       "            0.96461,     0.96462,     0.96464,     0.96466,     0.96468,      0.9647,     0.96471,     0.96473,     0.96475,     0.96477,     0.96479,      0.9648,     0.96482,     0.96484,     0.96486,     0.96488,     0.96489,     0.96491,     0.96493,     0.96495,     0.96497,     0.96498,       0.965,\n",
       "            0.96502,     0.96504,     0.96506,     0.96507,     0.96509,     0.96511,     0.96513,     0.96515,     0.96516,     0.96518,      0.9652,     0.96522,     0.96524,     0.96525,     0.96527,     0.96529,     0.96531,     0.96533,     0.96534,     0.96536,     0.96538,      0.9654,     0.96542,\n",
       "            0.96543,     0.96545,     0.96547,     0.96549,     0.96551,     0.96552,     0.96554,     0.96556,     0.96558,      0.9656,     0.96561,     0.96563,     0.96565,     0.96567,     0.96569,      0.9657,     0.96572,     0.96574,     0.96576,     0.96578,     0.96579,     0.96581,     0.96583,\n",
       "            0.96585,     0.96587,     0.96588,      0.9659,     0.96592,     0.96594,     0.96596,     0.96597,     0.96599,     0.96601,     0.96603,     0.96605,     0.96606,     0.96608,      0.9661,     0.96612,     0.96614,     0.96615,     0.96617,     0.96619,     0.96621,     0.96623,     0.96624,\n",
       "            0.96626,     0.96628,      0.9663,     0.96631,     0.96633,     0.96635,     0.96637,     0.96639,      0.9664,     0.96642,     0.96644,     0.96646,     0.96648,     0.96649,     0.96651,     0.96653,     0.96655,     0.96657,     0.96658,      0.9666,     0.96662,     0.96664,     0.96666,\n",
       "            0.96667,     0.96669,     0.96671,     0.96673,     0.96675,     0.96676,     0.96678,      0.9668,     0.96682,     0.96684,     0.96685,     0.96687,     0.96689,     0.96691,     0.96693,     0.96694,     0.96696,     0.96698,       0.967,     0.96701,     0.96703,     0.96705,     0.96707,\n",
       "            0.96709,      0.9671,     0.96712,     0.96714,     0.96716,     0.96718,     0.96719,     0.96721,     0.96723,     0.96725,     0.96727,     0.96728,      0.9673,     0.96732,     0.96734,     0.96736,     0.96737,     0.96739,     0.96741,     0.96743,     0.96745,     0.96746,     0.96748,\n",
       "             0.9675,     0.96752,     0.96753,     0.96755,     0.96757,     0.96759,     0.96761,     0.96762,     0.96764,     0.96766,     0.96768,      0.9677,     0.96771,     0.96773,     0.96775,     0.96777,     0.96779,      0.9678,     0.96782,     0.96784,     0.96786,     0.96787,     0.96789,\n",
       "            0.96791,     0.96793,     0.96795,     0.96796,     0.96798,       0.968,     0.96802,     0.96804,     0.96805,     0.96807,     0.96809,     0.96811,     0.96813,     0.96814,     0.96816,     0.96818,      0.9682,     0.96822,     0.96823,     0.96825,     0.96827,     0.96829,      0.9683,\n",
       "            0.96832,     0.96834,     0.96836,     0.96838,     0.96839,     0.96841,     0.96843,     0.96845,     0.96847,     0.96848,      0.9685,     0.96852,     0.96854,     0.96855,     0.96857,     0.96859,     0.96861,     0.96863,     0.96864,     0.96866,     0.96868,      0.9687,     0.96872,\n",
       "            0.96873,     0.96875,     0.96877,     0.96879,     0.96881,     0.96882,     0.96884,     0.96886,     0.96888,     0.96889,     0.96891,     0.96893,     0.96895,     0.96897,     0.96898,       0.969,     0.96902,     0.96904,     0.96906,     0.96907,     0.96909,     0.96911,     0.96913,\n",
       "            0.96914,     0.96916,     0.96918,      0.9692,     0.96922,     0.96923,     0.96925,     0.96927,     0.96929,     0.96931,     0.96932,     0.96934,     0.96936,     0.96938,     0.96939,     0.96941,     0.96943,     0.96945,     0.96947,     0.96948,      0.9695,     0.96952,     0.96954,\n",
       "            0.96956,     0.96957,     0.96959,     0.96961,     0.96963,     0.96964,     0.96966,     0.96968,      0.9697,     0.96972,     0.96973,     0.96975,     0.96977,     0.96979,      0.9698,     0.96982,     0.96984,     0.96986,     0.96988,     0.96989,     0.96991,     0.96993,     0.96995,\n",
       "            0.96997,     0.96998,        0.97,     0.97002,     0.97004,     0.97005,     0.97007,     0.97009,     0.97011,     0.97013,     0.97014,     0.97016,     0.97018,      0.9702,     0.97021,     0.97023,     0.97025,     0.97027,     0.97029,      0.9703,     0.97032,     0.97034,     0.97036,\n",
       "            0.97038,     0.97039,     0.97041,     0.97043,     0.97045,     0.97046,     0.97048,      0.9705,     0.97052,     0.97054,     0.97055,     0.97057,     0.97059,     0.97061,     0.97062,     0.97064,     0.97066,     0.97068,      0.9707,     0.97071,     0.97073,     0.97075,     0.97077,\n",
       "            0.97078,      0.9708,     0.97082,     0.97084,     0.97086,     0.97087,     0.97089,     0.97091,     0.97093,     0.97094,     0.97096,     0.97098,       0.971,     0.97102,     0.97103,     0.97105,     0.97107,     0.97109,      0.9711,     0.97112,     0.97114,     0.97116,     0.97118,\n",
       "            0.97119,     0.97121,     0.97123,     0.97125,     0.97126,     0.97128,      0.9713,     0.97132,     0.97134,     0.97135,     0.97137,     0.97139,     0.97141,     0.97142,     0.97144,     0.97146,     0.97148,      0.9715,     0.97151,     0.97153,     0.97155,     0.97157,     0.97158,\n",
       "             0.9716,     0.97162,     0.97164,     0.97166,     0.97167,     0.97169,     0.97171,     0.97173,     0.97174,     0.97176,     0.97178,      0.9718,     0.97182,     0.97183,     0.97185,     0.97187,     0.97189,      0.9719,     0.97192,     0.97194,     0.97196,     0.97198,     0.97199,\n",
       "            0.97201,     0.97203,     0.97205,     0.97206,     0.97208,      0.9721,     0.97212,     0.97214,     0.97215,     0.97217,     0.97219,     0.97221,     0.97222,     0.97224,     0.97226,     0.97228,     0.97229,     0.97231,     0.97233,     0.97235,     0.97237,     0.97238,      0.9724,\n",
       "            0.97242,     0.97244,     0.97245,     0.97247,     0.97249,     0.97251,     0.97253,     0.97254,     0.97256,     0.97258,      0.9726,     0.97261,     0.97263,     0.97265,     0.97267,     0.97269,      0.9727,     0.97272,     0.97274,     0.97276,     0.97277,     0.97279,     0.97281,\n",
       "            0.97283,     0.97284,     0.97286,     0.97288,      0.9729,     0.97292,     0.97293,     0.97295,     0.97297,     0.97299,       0.973,     0.97302,     0.97304,     0.97306,     0.97308,     0.97309,     0.97311,     0.97313,     0.97315,     0.97316,     0.97318,      0.9732,     0.97322,\n",
       "            0.97323,     0.97325,     0.97327,     0.97329,     0.97331,     0.97332,     0.97334,     0.97336,     0.97338,     0.97339,     0.97341,     0.97343,     0.97345,     0.97346,     0.97348,      0.9735,     0.97352,     0.97354,     0.97355,     0.97357,     0.97359,     0.97361,     0.97362,\n",
       "            0.97364,     0.97366,     0.97368,     0.97369,     0.97371,     0.97373,     0.97375,     0.97377,     0.97378,      0.9738,     0.97382,     0.97384,     0.97385,     0.97387,     0.97389,     0.97391,     0.97392,     0.97394,     0.97396,     0.97398,       0.974,     0.97401,     0.97403,\n",
       "            0.97405,     0.97407,     0.97408,      0.9741,     0.97412,     0.97414,     0.97415,     0.97417,     0.97419,     0.97421,     0.97423,     0.97424,     0.97426,     0.97428,      0.9743,     0.97431,     0.97433,     0.97435,     0.97437,     0.97438,      0.9744,     0.97442,     0.97444,\n",
       "            0.97445,     0.97447,     0.97449,     0.97451,     0.97453,     0.97454,     0.97456,     0.97458,      0.9746,     0.97461,     0.97463,     0.97465,     0.97467,     0.97468,      0.9747,     0.97472,     0.97474,     0.97475,     0.97477,     0.97479,     0.97481,     0.97483,     0.97484,\n",
       "            0.97486,     0.97488,      0.9749,     0.97491,     0.97493,     0.97495,     0.97497,     0.97498,     0.97501,     0.97513,     0.97525,     0.97537,     0.97549,     0.97561,     0.97573,     0.97584,     0.97596,     0.97608,      0.9762,     0.97632,     0.97644,     0.97655,     0.97667,\n",
       "            0.97679,     0.97691,     0.97703,     0.97714,     0.97726,     0.97738,      0.9775,     0.97762,     0.97773,     0.97785,     0.97797,     0.97809,     0.97821,     0.97832,     0.97844,     0.97856,     0.97868,      0.9788,     0.97891,     0.97903,     0.97915,     0.97927,     0.97938,\n",
       "             0.9795,     0.97962,     0.97974,     0.97985,     0.97997,     0.98009,     0.98021,     0.98032,     0.98044,     0.98056,     0.98068,     0.98079,     0.98091,     0.98103,     0.98114,     0.98126,     0.98138,      0.9815,     0.98161,     0.98173,     0.98185,     0.98196,     0.98208,\n",
       "             0.9822,     0.98231,     0.98243,     0.98255,     0.98266,     0.98278,      0.9829,     0.98301,     0.98313,     0.98325,     0.98336,     0.98348,      0.9836,     0.98371,     0.98383,     0.98395,     0.98406,     0.98418,      0.9843,     0.98441,     0.98453,     0.98465,     0.98476,\n",
       "            0.98488,     0.98499,     0.98511,     0.98523,     0.98534,     0.98546,     0.98558,     0.98569,     0.98581,     0.98592,     0.98604,     0.98616,     0.98627,     0.98639,      0.9865,     0.98662,     0.98673,     0.98685,     0.98697,     0.98708,      0.9872,     0.98731,     0.98569,\n",
       "            0.98349,     0.98128,     0.97906,     0.97683,     0.97459,      0.9621,     0.95461,     0.94757,     0.94524,     0.94304,     0.94084,     0.93862,      0.9364,     0.93416,      0.9307,      0.9265,     0.92226,      0.9187,      0.9177,      0.9167,      0.9157,     0.91469,     0.91369,\n",
       "            0.91268,     0.91167,     0.91065,     0.90964,     0.90862,      0.9076,     0.90658,     0.90556,     0.90454,     0.89507,     0.88823,     0.88713,     0.88604,     0.88494,     0.88384,     0.88274,     0.88163,     0.88053,     0.87942,     0.87831,      0.8772,     0.87608,     0.87496,\n",
       "            0.87384,     0.86822,     0.85717,     0.85235,     0.84751,     0.84263,     0.83554,     0.82678,      0.8179,     0.80888,     0.79341,     0.75539,     0.72515,     0.68559,     0.67442,     0.65945,     0.64207,     0.63613,     0.63015,     0.62411,     0.61534,     0.60295,     0.59033,\n",
       "            0.57749,     0.56956,     0.56606,     0.56254,       0.559,     0.55544,     0.55187,     0.54828,     0.54151,     0.52311,       0.497,     0.41281,     0.39117,     0.38004,     0.36875,     0.28332,     0.22825,     0.17987,     0.17539,     0.17089,     0.16636,     0.16182,     0.15725,\n",
       "            0.15266,     0.14804,      0.1434,     0.13199,     0.09223,    0.076557,    0.060626,           0,           0,           0,           0,           0,           0,           0,           0,           0,           0,           0,           0,           0,           0,           0,           0,\n",
       "                  0,           0,           0,           0,           0,           0,           0,           0,           0,           0,           0,           0,           0,           0,           0,           0,           0,           0,           0,           0,           0,           0,           0,\n",
       "                  0,           0,           0,           0,           0,           0,           0,           0,           0,           0,           0]]), 'Confidence', 'F1'], [array([          0,    0.001001,    0.002002,    0.003003,    0.004004,    0.005005,    0.006006,    0.007007,    0.008008,    0.009009,     0.01001,    0.011011,    0.012012,    0.013013,    0.014014,    0.015015,    0.016016,    0.017017,    0.018018,    0.019019,     0.02002,    0.021021,    0.022022,    0.023023,\n",
       "          0.024024,    0.025025,    0.026026,    0.027027,    0.028028,    0.029029,     0.03003,    0.031031,    0.032032,    0.033033,    0.034034,    0.035035,    0.036036,    0.037037,    0.038038,    0.039039,     0.04004,    0.041041,    0.042042,    0.043043,    0.044044,    0.045045,    0.046046,    0.047047,\n",
       "          0.048048,    0.049049,     0.05005,    0.051051,    0.052052,    0.053053,    0.054054,    0.055055,    0.056056,    0.057057,    0.058058,    0.059059,     0.06006,    0.061061,    0.062062,    0.063063,    0.064064,    0.065065,    0.066066,    0.067067,    0.068068,    0.069069,     0.07007,    0.071071,\n",
       "          0.072072,    0.073073,    0.074074,    0.075075,    0.076076,    0.077077,    0.078078,    0.079079,     0.08008,    0.081081,    0.082082,    0.083083,    0.084084,    0.085085,    0.086086,    0.087087,    0.088088,    0.089089,     0.09009,    0.091091,    0.092092,    0.093093,    0.094094,    0.095095,\n",
       "          0.096096,    0.097097,    0.098098,    0.099099,      0.1001,      0.1011,      0.1021,      0.1031,      0.1041,     0.10511,     0.10611,     0.10711,     0.10811,     0.10911,     0.11011,     0.11111,     0.11211,     0.11311,     0.11411,     0.11512,     0.11612,     0.11712,     0.11812,     0.11912,\n",
       "           0.12012,     0.12112,     0.12212,     0.12312,     0.12412,     0.12513,     0.12613,     0.12713,     0.12813,     0.12913,     0.13013,     0.13113,     0.13213,     0.13313,     0.13413,     0.13514,     0.13614,     0.13714,     0.13814,     0.13914,     0.14014,     0.14114,     0.14214,     0.14314,\n",
       "           0.14414,     0.14515,     0.14615,     0.14715,     0.14815,     0.14915,     0.15015,     0.15115,     0.15215,     0.15315,     0.15415,     0.15516,     0.15616,     0.15716,     0.15816,     0.15916,     0.16016,     0.16116,     0.16216,     0.16316,     0.16416,     0.16517,     0.16617,     0.16717,\n",
       "           0.16817,     0.16917,     0.17017,     0.17117,     0.17217,     0.17317,     0.17417,     0.17518,     0.17618,     0.17718,     0.17818,     0.17918,     0.18018,     0.18118,     0.18218,     0.18318,     0.18418,     0.18519,     0.18619,     0.18719,     0.18819,     0.18919,     0.19019,     0.19119,\n",
       "           0.19219,     0.19319,     0.19419,      0.1952,      0.1962,      0.1972,      0.1982,      0.1992,      0.2002,      0.2012,      0.2022,      0.2032,      0.2042,     0.20521,     0.20621,     0.20721,     0.20821,     0.20921,     0.21021,     0.21121,     0.21221,     0.21321,     0.21421,     0.21522,\n",
       "           0.21622,     0.21722,     0.21822,     0.21922,     0.22022,     0.22122,     0.22222,     0.22322,     0.22422,     0.22523,     0.22623,     0.22723,     0.22823,     0.22923,     0.23023,     0.23123,     0.23223,     0.23323,     0.23423,     0.23524,     0.23624,     0.23724,     0.23824,     0.23924,\n",
       "           0.24024,     0.24124,     0.24224,     0.24324,     0.24424,     0.24525,     0.24625,     0.24725,     0.24825,     0.24925,     0.25025,     0.25125,     0.25225,     0.25325,     0.25425,     0.25526,     0.25626,     0.25726,     0.25826,     0.25926,     0.26026,     0.26126,     0.26226,     0.26326,\n",
       "           0.26426,     0.26527,     0.26627,     0.26727,     0.26827,     0.26927,     0.27027,     0.27127,     0.27227,     0.27327,     0.27427,     0.27528,     0.27628,     0.27728,     0.27828,     0.27928,     0.28028,     0.28128,     0.28228,     0.28328,     0.28428,     0.28529,     0.28629,     0.28729,\n",
       "           0.28829,     0.28929,     0.29029,     0.29129,     0.29229,     0.29329,     0.29429,      0.2953,      0.2963,      0.2973,      0.2983,      0.2993,      0.3003,      0.3013,      0.3023,      0.3033,      0.3043,     0.30531,     0.30631,     0.30731,     0.30831,     0.30931,     0.31031,     0.31131,\n",
       "           0.31231,     0.31331,     0.31431,     0.31532,     0.31632,     0.31732,     0.31832,     0.31932,     0.32032,     0.32132,     0.32232,     0.32332,     0.32432,     0.32533,     0.32633,     0.32733,     0.32833,     0.32933,     0.33033,     0.33133,     0.33233,     0.33333,     0.33433,     0.33534,\n",
       "           0.33634,     0.33734,     0.33834,     0.33934,     0.34034,     0.34134,     0.34234,     0.34334,     0.34434,     0.34535,     0.34635,     0.34735,     0.34835,     0.34935,     0.35035,     0.35135,     0.35235,     0.35335,     0.35435,     0.35536,     0.35636,     0.35736,     0.35836,     0.35936,\n",
       "           0.36036,     0.36136,     0.36236,     0.36336,     0.36436,     0.36537,     0.36637,     0.36737,     0.36837,     0.36937,     0.37037,     0.37137,     0.37237,     0.37337,     0.37437,     0.37538,     0.37638,     0.37738,     0.37838,     0.37938,     0.38038,     0.38138,     0.38238,     0.38338,\n",
       "           0.38438,     0.38539,     0.38639,     0.38739,     0.38839,     0.38939,     0.39039,     0.39139,     0.39239,     0.39339,     0.39439,      0.3954,      0.3964,      0.3974,      0.3984,      0.3994,      0.4004,      0.4014,      0.4024,      0.4034,      0.4044,     0.40541,     0.40641,     0.40741,\n",
       "           0.40841,     0.40941,     0.41041,     0.41141,     0.41241,     0.41341,     0.41441,     0.41542,     0.41642,     0.41742,     0.41842,     0.41942,     0.42042,     0.42142,     0.42242,     0.42342,     0.42442,     0.42543,     0.42643,     0.42743,     0.42843,     0.42943,     0.43043,     0.43143,\n",
       "           0.43243,     0.43343,     0.43443,     0.43544,     0.43644,     0.43744,     0.43844,     0.43944,     0.44044,     0.44144,     0.44244,     0.44344,     0.44444,     0.44545,     0.44645,     0.44745,     0.44845,     0.44945,     0.45045,     0.45145,     0.45245,     0.45345,     0.45445,     0.45546,\n",
       "           0.45646,     0.45746,     0.45846,     0.45946,     0.46046,     0.46146,     0.46246,     0.46346,     0.46446,     0.46547,     0.46647,     0.46747,     0.46847,     0.46947,     0.47047,     0.47147,     0.47247,     0.47347,     0.47447,     0.47548,     0.47648,     0.47748,     0.47848,     0.47948,\n",
       "           0.48048,     0.48148,     0.48248,     0.48348,     0.48448,     0.48549,     0.48649,     0.48749,     0.48849,     0.48949,     0.49049,     0.49149,     0.49249,     0.49349,     0.49449,      0.4955,      0.4965,      0.4975,      0.4985,      0.4995,      0.5005,      0.5015,      0.5025,      0.5035,\n",
       "            0.5045,     0.50551,     0.50651,     0.50751,     0.50851,     0.50951,     0.51051,     0.51151,     0.51251,     0.51351,     0.51451,     0.51552,     0.51652,     0.51752,     0.51852,     0.51952,     0.52052,     0.52152,     0.52252,     0.52352,     0.52452,     0.52553,     0.52653,     0.52753,\n",
       "           0.52853,     0.52953,     0.53053,     0.53153,     0.53253,     0.53353,     0.53453,     0.53554,     0.53654,     0.53754,     0.53854,     0.53954,     0.54054,     0.54154,     0.54254,     0.54354,     0.54454,     0.54555,     0.54655,     0.54755,     0.54855,     0.54955,     0.55055,     0.55155,\n",
       "           0.55255,     0.55355,     0.55455,     0.55556,     0.55656,     0.55756,     0.55856,     0.55956,     0.56056,     0.56156,     0.56256,     0.56356,     0.56456,     0.56557,     0.56657,     0.56757,     0.56857,     0.56957,     0.57057,     0.57157,     0.57257,     0.57357,     0.57457,     0.57558,\n",
       "           0.57658,     0.57758,     0.57858,     0.57958,     0.58058,     0.58158,     0.58258,     0.58358,     0.58458,     0.58559,     0.58659,     0.58759,     0.58859,     0.58959,     0.59059,     0.59159,     0.59259,     0.59359,     0.59459,      0.5956,      0.5966,      0.5976,      0.5986,      0.5996,\n",
       "            0.6006,      0.6016,      0.6026,      0.6036,      0.6046,     0.60561,     0.60661,     0.60761,     0.60861,     0.60961,     0.61061,     0.61161,     0.61261,     0.61361,     0.61461,     0.61562,     0.61662,     0.61762,     0.61862,     0.61962,     0.62062,     0.62162,     0.62262,     0.62362,\n",
       "           0.62462,     0.62563,     0.62663,     0.62763,     0.62863,     0.62963,     0.63063,     0.63163,     0.63263,     0.63363,     0.63463,     0.63564,     0.63664,     0.63764,     0.63864,     0.63964,     0.64064,     0.64164,     0.64264,     0.64364,     0.64464,     0.64565,     0.64665,     0.64765,\n",
       "           0.64865,     0.64965,     0.65065,     0.65165,     0.65265,     0.65365,     0.65465,     0.65566,     0.65666,     0.65766,     0.65866,     0.65966,     0.66066,     0.66166,     0.66266,     0.66366,     0.66466,     0.66567,     0.66667,     0.66767,     0.66867,     0.66967,     0.67067,     0.67167,\n",
       "           0.67267,     0.67367,     0.67467,     0.67568,     0.67668,     0.67768,     0.67868,     0.67968,     0.68068,     0.68168,     0.68268,     0.68368,     0.68468,     0.68569,     0.68669,     0.68769,     0.68869,     0.68969,     0.69069,     0.69169,     0.69269,     0.69369,     0.69469,      0.6957,\n",
       "            0.6967,      0.6977,      0.6987,      0.6997,      0.7007,      0.7017,      0.7027,      0.7037,      0.7047,     0.70571,     0.70671,     0.70771,     0.70871,     0.70971,     0.71071,     0.71171,     0.71271,     0.71371,     0.71471,     0.71572,     0.71672,     0.71772,     0.71872,     0.71972,\n",
       "           0.72072,     0.72172,     0.72272,     0.72372,     0.72472,     0.72573,     0.72673,     0.72773,     0.72873,     0.72973,     0.73073,     0.73173,     0.73273,     0.73373,     0.73473,     0.73574,     0.73674,     0.73774,     0.73874,     0.73974,     0.74074,     0.74174,     0.74274,     0.74374,\n",
       "           0.74474,     0.74575,     0.74675,     0.74775,     0.74875,     0.74975,     0.75075,     0.75175,     0.75275,     0.75375,     0.75475,     0.75576,     0.75676,     0.75776,     0.75876,     0.75976,     0.76076,     0.76176,     0.76276,     0.76376,     0.76476,     0.76577,     0.76677,     0.76777,\n",
       "           0.76877,     0.76977,     0.77077,     0.77177,     0.77277,     0.77377,     0.77477,     0.77578,     0.77678,     0.77778,     0.77878,     0.77978,     0.78078,     0.78178,     0.78278,     0.78378,     0.78478,     0.78579,     0.78679,     0.78779,     0.78879,     0.78979,     0.79079,     0.79179,\n",
       "           0.79279,     0.79379,     0.79479,      0.7958,      0.7968,      0.7978,      0.7988,      0.7998,      0.8008,      0.8018,      0.8028,      0.8038,      0.8048,     0.80581,     0.80681,     0.80781,     0.80881,     0.80981,     0.81081,     0.81181,     0.81281,     0.81381,     0.81481,     0.81582,\n",
       "           0.81682,     0.81782,     0.81882,     0.81982,     0.82082,     0.82182,     0.82282,     0.82382,     0.82482,     0.82583,     0.82683,     0.82783,     0.82883,     0.82983,     0.83083,     0.83183,     0.83283,     0.83383,     0.83483,     0.83584,     0.83684,     0.83784,     0.83884,     0.83984,\n",
       "           0.84084,     0.84184,     0.84284,     0.84384,     0.84484,     0.84585,     0.84685,     0.84785,     0.84885,     0.84985,     0.85085,     0.85185,     0.85285,     0.85385,     0.85485,     0.85586,     0.85686,     0.85786,     0.85886,     0.85986,     0.86086,     0.86186,     0.86286,     0.86386,\n",
       "           0.86486,     0.86587,     0.86687,     0.86787,     0.86887,     0.86987,     0.87087,     0.87187,     0.87287,     0.87387,     0.87487,     0.87588,     0.87688,     0.87788,     0.87888,     0.87988,     0.88088,     0.88188,     0.88288,     0.88388,     0.88488,     0.88589,     0.88689,     0.88789,\n",
       "           0.88889,     0.88989,     0.89089,     0.89189,     0.89289,     0.89389,     0.89489,      0.8959,      0.8969,      0.8979,      0.8989,      0.8999,      0.9009,      0.9019,      0.9029,      0.9039,      0.9049,     0.90591,     0.90691,     0.90791,     0.90891,     0.90991,     0.91091,     0.91191,\n",
       "           0.91291,     0.91391,     0.91491,     0.91592,     0.91692,     0.91792,     0.91892,     0.91992,     0.92092,     0.92192,     0.92292,     0.92392,     0.92492,     0.92593,     0.92693,     0.92793,     0.92893,     0.92993,     0.93093,     0.93193,     0.93293,     0.93393,     0.93493,     0.93594,\n",
       "           0.93694,     0.93794,     0.93894,     0.93994,     0.94094,     0.94194,     0.94294,     0.94394,     0.94494,     0.94595,     0.94695,     0.94795,     0.94895,     0.94995,     0.95095,     0.95195,     0.95295,     0.95395,     0.95495,     0.95596,     0.95696,     0.95796,     0.95896,     0.95996,\n",
       "           0.96096,     0.96196,     0.96296,     0.96396,     0.96496,     0.96597,     0.96697,     0.96797,     0.96897,     0.96997,     0.97097,     0.97197,     0.97297,     0.97397,     0.97497,     0.97598,     0.97698,     0.97798,     0.97898,     0.97998,     0.98098,     0.98198,     0.98298,     0.98398,\n",
       "           0.98498,     0.98599,     0.98699,     0.98799,     0.98899,     0.98999,     0.99099,     0.99199,     0.99299,     0.99399,     0.99499,       0.996,       0.997,       0.998,       0.999,           1]), array([[    0.29104,     0.29104,     0.43039,     0.51714,     0.61839,     0.71055,     0.71737,     0.73083,     0.75365,     0.75918,     0.76471,     0.77915,     0.79648,     0.80048,     0.80448,     0.80848,     0.81248,     0.83356,     0.84232,     0.86687,     0.86869,     0.87051,     0.87232,\n",
       "            0.87414,     0.87596,     0.87778,     0.87959,     0.88141,     0.88323,     0.88505,     0.89876,     0.90748,     0.90809,      0.9087,     0.90931,     0.90992,     0.91053,     0.91114,     0.91175,     0.91236,     0.91297,     0.91358,     0.91419,      0.9148,     0.91541,     0.91602,\n",
       "            0.91664,     0.91725,     0.91786,     0.91847,     0.91908,     0.91969,      0.9203,     0.92091,     0.92152,     0.92213,     0.92274,     0.92335,     0.92396,     0.92457,     0.92518,     0.92579,     0.92641,     0.92702,     0.92763,     0.92824,     0.93088,     0.93596,     0.94105,\n",
       "            0.94614,     0.95122,     0.95125,     0.95129,     0.95133,     0.95136,      0.9514,     0.95143,     0.95147,      0.9515,     0.95154,     0.95157,     0.95161,     0.95164,     0.95168,     0.95171,     0.95175,     0.95178,     0.95182,     0.95185,     0.95189,     0.95193,     0.95196,\n",
       "              0.952,     0.95203,     0.95207,      0.9521,     0.95214,     0.95217,     0.95221,     0.95224,     0.95228,     0.95231,     0.95235,     0.95238,     0.95242,     0.95245,     0.95249,     0.95253,     0.95256,      0.9526,     0.95263,     0.95267,      0.9527,     0.95274,     0.95277,\n",
       "            0.95281,     0.95284,     0.95288,     0.95291,     0.95295,     0.95298,     0.95302,     0.95305,     0.95309,     0.95313,     0.95316,      0.9532,     0.95323,     0.95327,      0.9533,     0.95334,     0.95337,     0.95341,     0.95344,     0.95348,     0.95351,     0.95355,     0.95358,\n",
       "            0.95362,     0.95365,     0.95369,     0.95373,     0.95376,      0.9538,     0.95383,     0.95387,      0.9539,     0.95394,     0.95397,     0.95401,     0.95404,     0.95408,     0.95411,     0.95415,     0.95418,     0.95422,     0.95425,     0.95429,     0.95432,     0.95436,      0.9544,\n",
       "            0.95443,     0.95447,      0.9545,     0.95454,     0.95457,     0.95461,     0.95464,     0.95468,     0.95471,     0.95475,     0.95478,     0.95482,     0.95485,     0.95489,     0.95492,     0.95496,       0.955,     0.95503,     0.95507,      0.9551,     0.95514,     0.95517,     0.95521,\n",
       "            0.95524,     0.95528,     0.95531,     0.95535,     0.95538,     0.95542,     0.95545,     0.95549,     0.95552,     0.95556,      0.9556,     0.95563,     0.95567,      0.9557,     0.95574,     0.95577,     0.95581,     0.95584,     0.95588,     0.95591,     0.95595,     0.95598,     0.95602,\n",
       "            0.95605,     0.95609,     0.95612,     0.95616,      0.9562,     0.95623,     0.95627,      0.9563,     0.95634,     0.95637,     0.95641,     0.95644,     0.95648,     0.95651,     0.95655,     0.95658,     0.95662,     0.95665,     0.95669,     0.95672,     0.95676,      0.9568,     0.95683,\n",
       "            0.95687,      0.9569,     0.95694,     0.95697,     0.95701,     0.95704,     0.95708,     0.95711,     0.95715,     0.95718,     0.95722,     0.95725,     0.95729,     0.95732,     0.95736,      0.9574,     0.95743,     0.95747,      0.9575,     0.95754,     0.95757,     0.95761,     0.95764,\n",
       "            0.95768,     0.95771,     0.95775,     0.95778,     0.95782,     0.95785,     0.95789,     0.95792,     0.95796,     0.95799,     0.95803,     0.95807,      0.9581,     0.95814,     0.95817,     0.95821,     0.95824,     0.95828,     0.95831,     0.95835,     0.95838,     0.95842,     0.95845,\n",
       "            0.95849,     0.95852,     0.95856,     0.95859,     0.95863,     0.95867,      0.9587,     0.95874,     0.95877,     0.95881,     0.95884,     0.95888,     0.95891,     0.95895,     0.95898,     0.95902,     0.95905,     0.95909,     0.95912,     0.95916,     0.95919,     0.95923,     0.95927,\n",
       "             0.9593,     0.95934,     0.95937,     0.95941,     0.95944,     0.95948,     0.95951,     0.95955,     0.95958,     0.95962,     0.95965,     0.95969,     0.95972,     0.95976,     0.95979,     0.95983,     0.95987,      0.9599,     0.95994,     0.95997,     0.96001,     0.96004,     0.96008,\n",
       "            0.96011,     0.96015,     0.96018,     0.96022,     0.96025,     0.96029,     0.96032,     0.96036,     0.96039,     0.96043,     0.96047,      0.9605,     0.96054,     0.96057,     0.96061,     0.96064,     0.96068,     0.96071,     0.96075,     0.96078,     0.96082,     0.96085,     0.96089,\n",
       "            0.96092,     0.96096,     0.96099,     0.96103,     0.96107,      0.9611,     0.96114,     0.96117,     0.96121,     0.96124,     0.96128,     0.96131,     0.96135,     0.96138,     0.96142,     0.96145,     0.96149,     0.96152,     0.96156,     0.96159,     0.96163,     0.96166,      0.9617,\n",
       "            0.96174,     0.96177,     0.96181,     0.96184,     0.96188,     0.96191,     0.96195,     0.96198,     0.96202,     0.96205,     0.96209,     0.96212,     0.96216,     0.96219,     0.96223,     0.96226,      0.9623,     0.96234,     0.96237,     0.96241,     0.96244,     0.96248,     0.96251,\n",
       "            0.96255,     0.96258,     0.96262,     0.96265,     0.96269,     0.96272,     0.96276,     0.96279,     0.96283,     0.96286,      0.9629,     0.96294,     0.96297,     0.96301,     0.96304,     0.96308,     0.96311,     0.96315,     0.96318,     0.96322,     0.96325,     0.96329,     0.96332,\n",
       "            0.96336,     0.96339,     0.96343,     0.96346,      0.9635,     0.96354,     0.96357,     0.96361,     0.96364,     0.96368,     0.96371,     0.96375,     0.96378,     0.96382,     0.96385,     0.96389,     0.96392,     0.96396,     0.96399,     0.96403,     0.96406,      0.9641,     0.96414,\n",
       "            0.96417,     0.96421,     0.96424,     0.96428,     0.96431,     0.96435,     0.96438,     0.96442,     0.96445,     0.96449,     0.96452,     0.96456,     0.96459,     0.96463,     0.96466,      0.9647,     0.96474,     0.96477,     0.96481,     0.96484,     0.96488,     0.96491,     0.96495,\n",
       "            0.96498,     0.96502,     0.96505,     0.96509,     0.96512,     0.96516,     0.96519,     0.96523,     0.96526,      0.9653,     0.96534,     0.96537,     0.96541,     0.96544,     0.96548,     0.96551,     0.96555,     0.96558,     0.96562,     0.96565,     0.96569,     0.96572,     0.96576,\n",
       "            0.96579,     0.96583,     0.96586,      0.9659,     0.96593,     0.96597,     0.96601,     0.96604,     0.96608,     0.96611,     0.96615,     0.96618,     0.96622,     0.96625,     0.96629,     0.96632,     0.96636,     0.96639,     0.96643,     0.96646,      0.9665,     0.96653,     0.96657,\n",
       "            0.96661,     0.96664,     0.96668,     0.96671,     0.96675,     0.96678,     0.96682,     0.96685,     0.96689,     0.96692,     0.96696,     0.96699,     0.96703,     0.96706,      0.9671,     0.96713,     0.96717,     0.96721,     0.96724,     0.96728,     0.96731,     0.96735,     0.96738,\n",
       "            0.96742,     0.96745,     0.96749,     0.96752,     0.96756,     0.96759,     0.96763,     0.96766,      0.9677,     0.96773,     0.96777,     0.96781,     0.96784,     0.96788,     0.96791,     0.96795,     0.96798,     0.96802,     0.96805,     0.96809,     0.96812,     0.96816,     0.96819,\n",
       "            0.96823,     0.96826,      0.9683,     0.96833,     0.96837,     0.96841,     0.96844,     0.96848,     0.96851,     0.96855,     0.96858,     0.96862,     0.96865,     0.96869,     0.96872,     0.96876,     0.96879,     0.96883,     0.96886,      0.9689,     0.96893,     0.96897,     0.96901,\n",
       "            0.96904,     0.96908,     0.96911,     0.96915,     0.96918,     0.96922,     0.96925,     0.96929,     0.96932,     0.96936,     0.96939,     0.96943,     0.96946,      0.9695,     0.96953,     0.96957,      0.9696,     0.96964,     0.96968,     0.96971,     0.96975,     0.96978,     0.96982,\n",
       "            0.96985,     0.96989,     0.96992,     0.96996,     0.96999,     0.97003,     0.97006,      0.9701,     0.97013,     0.97017,      0.9702,     0.97024,     0.97028,     0.97031,     0.97035,     0.97038,     0.97042,     0.97045,     0.97049,     0.97052,     0.97056,     0.97059,     0.97063,\n",
       "            0.97066,      0.9707,     0.97073,     0.97077,      0.9708,     0.97084,     0.97088,     0.97091,     0.97095,     0.97098,     0.97102,     0.97105,     0.97109,     0.97112,     0.97116,     0.97119,     0.97123,     0.97126,      0.9713,     0.97133,     0.97137,      0.9714,     0.97144,\n",
       "            0.97148,     0.97151,     0.97155,     0.97158,     0.97162,     0.97165,     0.97169,     0.97172,     0.97176,     0.97179,     0.97183,     0.97186,      0.9719,     0.97193,     0.97197,       0.972,     0.97204,     0.97208,     0.97211,     0.97215,     0.97218,     0.97222,     0.97225,\n",
       "            0.97229,     0.97232,     0.97236,     0.97239,     0.97243,     0.97246,      0.9725,     0.97253,     0.97257,      0.9726,     0.97264,     0.97268,     0.97271,     0.97275,     0.97278,     0.97282,     0.97285,     0.97289,     0.97292,     0.97296,     0.97299,     0.97303,     0.97306,\n",
       "             0.9731,     0.97313,     0.97317,      0.9732,     0.97324,     0.97327,     0.97331,     0.97335,     0.97338,     0.97342,     0.97345,     0.97349,     0.97352,     0.97356,     0.97359,     0.97363,     0.97366,      0.9737,     0.97373,     0.97377,      0.9738,     0.97384,     0.97387,\n",
       "            0.97391,     0.97395,     0.97398,     0.97402,     0.97405,     0.97409,     0.97412,     0.97416,     0.97419,     0.97423,     0.97426,      0.9743,     0.97433,     0.97437,      0.9744,     0.97444,     0.97447,     0.97451,     0.97455,     0.97458,     0.97462,     0.97465,     0.97469,\n",
       "            0.97472,     0.97476,     0.97479,     0.97483,     0.97486,      0.9749,     0.97493,     0.97497,     0.97503,     0.97526,      0.9755,     0.97574,     0.97598,     0.97621,     0.97645,     0.97669,     0.97693,     0.97716,      0.9774,     0.97764,     0.97787,     0.97811,     0.97835,\n",
       "            0.97859,     0.97882,     0.97906,      0.9793,     0.97954,     0.97977,     0.98001,     0.98025,     0.98048,     0.98072,     0.98096,      0.9812,     0.98143,     0.98167,     0.98191,     0.98215,     0.98238,     0.98262,     0.98286,     0.98309,     0.98333,     0.98357,     0.98381,\n",
       "            0.98404,     0.98428,     0.98452,     0.98476,     0.98499,     0.98523,     0.98547,      0.9857,     0.98594,     0.98618,     0.98642,     0.98665,     0.98689,     0.98713,     0.98737,      0.9876,     0.98784,     0.98808,     0.98831,     0.98855,     0.98879,     0.98903,     0.98926,\n",
       "             0.9895,     0.98974,     0.98998,     0.99021,     0.99045,     0.99069,     0.99092,     0.99116,      0.9914,     0.99164,     0.99187,     0.99211,     0.99235,     0.99259,     0.99282,     0.99306,      0.9933,     0.99353,     0.99377,     0.99401,     0.99425,     0.99448,     0.99472,\n",
       "            0.99496,      0.9952,     0.99543,     0.99567,     0.99591,     0.99614,     0.99638,     0.99662,     0.99686,     0.99709,     0.99733,     0.99757,     0.99781,     0.99804,     0.99828,     0.99852,     0.99875,     0.99899,     0.99923,     0.99947,      0.9997,     0.99994,           1,\n",
       "                  1,           1,           1,           1,           1,           1,           1,           1,           1,           1,           1,           1,           1,           1,           1,           1,           1,           1,           1,           1,           1,           1,           1,\n",
       "                  1,           1,           1,           1,           1,           1,           1,           1,           1,           1,           1,           1,           1,           1,           1,           1,           1,           1,           1,           1,           1,           1,           1,\n",
       "                  1,           1,           1,           1,           1,           1,           1,           1,           1,           1,           1,           1,           1,           1,           1,           1,           1,           1,           1,           1,           1,           1,           1,\n",
       "                  1,           1,           1,           1,           1,           1,           1,           1,           1,           1,           1,           1,           1,           1,           1,           1,           1,           1,           1,           1,           1,           1,           1,\n",
       "                  1,           1,           1,           1,           1,           1,           1,           1,           1,           1,           1,           1,           1,           1,           1,           1,           1,           1,           1,           1,           1,           1,           1,\n",
       "                  1,           1,           1,           1,           1,           1,           1,           1,           1,           1,           1,           1,           1,           1,           1,           1,           1,           1,           1,           1,           1,           1,           1,\n",
       "                  1,           1,           1,           1,           1,           1,           1,           1,           1,           1,           1]]), 'Confidence', 'Precision'], [array([          0,    0.001001,    0.002002,    0.003003,    0.004004,    0.005005,    0.006006,    0.007007,    0.008008,    0.009009,     0.01001,    0.011011,    0.012012,    0.013013,    0.014014,    0.015015,    0.016016,    0.017017,    0.018018,    0.019019,     0.02002,    0.021021,    0.022022,    0.023023,\n",
       "          0.024024,    0.025025,    0.026026,    0.027027,    0.028028,    0.029029,     0.03003,    0.031031,    0.032032,    0.033033,    0.034034,    0.035035,    0.036036,    0.037037,    0.038038,    0.039039,     0.04004,    0.041041,    0.042042,    0.043043,    0.044044,    0.045045,    0.046046,    0.047047,\n",
       "          0.048048,    0.049049,     0.05005,    0.051051,    0.052052,    0.053053,    0.054054,    0.055055,    0.056056,    0.057057,    0.058058,    0.059059,     0.06006,    0.061061,    0.062062,    0.063063,    0.064064,    0.065065,    0.066066,    0.067067,    0.068068,    0.069069,     0.07007,    0.071071,\n",
       "          0.072072,    0.073073,    0.074074,    0.075075,    0.076076,    0.077077,    0.078078,    0.079079,     0.08008,    0.081081,    0.082082,    0.083083,    0.084084,    0.085085,    0.086086,    0.087087,    0.088088,    0.089089,     0.09009,    0.091091,    0.092092,    0.093093,    0.094094,    0.095095,\n",
       "          0.096096,    0.097097,    0.098098,    0.099099,      0.1001,      0.1011,      0.1021,      0.1031,      0.1041,     0.10511,     0.10611,     0.10711,     0.10811,     0.10911,     0.11011,     0.11111,     0.11211,     0.11311,     0.11411,     0.11512,     0.11612,     0.11712,     0.11812,     0.11912,\n",
       "           0.12012,     0.12112,     0.12212,     0.12312,     0.12412,     0.12513,     0.12613,     0.12713,     0.12813,     0.12913,     0.13013,     0.13113,     0.13213,     0.13313,     0.13413,     0.13514,     0.13614,     0.13714,     0.13814,     0.13914,     0.14014,     0.14114,     0.14214,     0.14314,\n",
       "           0.14414,     0.14515,     0.14615,     0.14715,     0.14815,     0.14915,     0.15015,     0.15115,     0.15215,     0.15315,     0.15415,     0.15516,     0.15616,     0.15716,     0.15816,     0.15916,     0.16016,     0.16116,     0.16216,     0.16316,     0.16416,     0.16517,     0.16617,     0.16717,\n",
       "           0.16817,     0.16917,     0.17017,     0.17117,     0.17217,     0.17317,     0.17417,     0.17518,     0.17618,     0.17718,     0.17818,     0.17918,     0.18018,     0.18118,     0.18218,     0.18318,     0.18418,     0.18519,     0.18619,     0.18719,     0.18819,     0.18919,     0.19019,     0.19119,\n",
       "           0.19219,     0.19319,     0.19419,      0.1952,      0.1962,      0.1972,      0.1982,      0.1992,      0.2002,      0.2012,      0.2022,      0.2032,      0.2042,     0.20521,     0.20621,     0.20721,     0.20821,     0.20921,     0.21021,     0.21121,     0.21221,     0.21321,     0.21421,     0.21522,\n",
       "           0.21622,     0.21722,     0.21822,     0.21922,     0.22022,     0.22122,     0.22222,     0.22322,     0.22422,     0.22523,     0.22623,     0.22723,     0.22823,     0.22923,     0.23023,     0.23123,     0.23223,     0.23323,     0.23423,     0.23524,     0.23624,     0.23724,     0.23824,     0.23924,\n",
       "           0.24024,     0.24124,     0.24224,     0.24324,     0.24424,     0.24525,     0.24625,     0.24725,     0.24825,     0.24925,     0.25025,     0.25125,     0.25225,     0.25325,     0.25425,     0.25526,     0.25626,     0.25726,     0.25826,     0.25926,     0.26026,     0.26126,     0.26226,     0.26326,\n",
       "           0.26426,     0.26527,     0.26627,     0.26727,     0.26827,     0.26927,     0.27027,     0.27127,     0.27227,     0.27327,     0.27427,     0.27528,     0.27628,     0.27728,     0.27828,     0.27928,     0.28028,     0.28128,     0.28228,     0.28328,     0.28428,     0.28529,     0.28629,     0.28729,\n",
       "           0.28829,     0.28929,     0.29029,     0.29129,     0.29229,     0.29329,     0.29429,      0.2953,      0.2963,      0.2973,      0.2983,      0.2993,      0.3003,      0.3013,      0.3023,      0.3033,      0.3043,     0.30531,     0.30631,     0.30731,     0.30831,     0.30931,     0.31031,     0.31131,\n",
       "           0.31231,     0.31331,     0.31431,     0.31532,     0.31632,     0.31732,     0.31832,     0.31932,     0.32032,     0.32132,     0.32232,     0.32332,     0.32432,     0.32533,     0.32633,     0.32733,     0.32833,     0.32933,     0.33033,     0.33133,     0.33233,     0.33333,     0.33433,     0.33534,\n",
       "           0.33634,     0.33734,     0.33834,     0.33934,     0.34034,     0.34134,     0.34234,     0.34334,     0.34434,     0.34535,     0.34635,     0.34735,     0.34835,     0.34935,     0.35035,     0.35135,     0.35235,     0.35335,     0.35435,     0.35536,     0.35636,     0.35736,     0.35836,     0.35936,\n",
       "           0.36036,     0.36136,     0.36236,     0.36336,     0.36436,     0.36537,     0.36637,     0.36737,     0.36837,     0.36937,     0.37037,     0.37137,     0.37237,     0.37337,     0.37437,     0.37538,     0.37638,     0.37738,     0.37838,     0.37938,     0.38038,     0.38138,     0.38238,     0.38338,\n",
       "           0.38438,     0.38539,     0.38639,     0.38739,     0.38839,     0.38939,     0.39039,     0.39139,     0.39239,     0.39339,     0.39439,      0.3954,      0.3964,      0.3974,      0.3984,      0.3994,      0.4004,      0.4014,      0.4024,      0.4034,      0.4044,     0.40541,     0.40641,     0.40741,\n",
       "           0.40841,     0.40941,     0.41041,     0.41141,     0.41241,     0.41341,     0.41441,     0.41542,     0.41642,     0.41742,     0.41842,     0.41942,     0.42042,     0.42142,     0.42242,     0.42342,     0.42442,     0.42543,     0.42643,     0.42743,     0.42843,     0.42943,     0.43043,     0.43143,\n",
       "           0.43243,     0.43343,     0.43443,     0.43544,     0.43644,     0.43744,     0.43844,     0.43944,     0.44044,     0.44144,     0.44244,     0.44344,     0.44444,     0.44545,     0.44645,     0.44745,     0.44845,     0.44945,     0.45045,     0.45145,     0.45245,     0.45345,     0.45445,     0.45546,\n",
       "           0.45646,     0.45746,     0.45846,     0.45946,     0.46046,     0.46146,     0.46246,     0.46346,     0.46446,     0.46547,     0.46647,     0.46747,     0.46847,     0.46947,     0.47047,     0.47147,     0.47247,     0.47347,     0.47447,     0.47548,     0.47648,     0.47748,     0.47848,     0.47948,\n",
       "           0.48048,     0.48148,     0.48248,     0.48348,     0.48448,     0.48549,     0.48649,     0.48749,     0.48849,     0.48949,     0.49049,     0.49149,     0.49249,     0.49349,     0.49449,      0.4955,      0.4965,      0.4975,      0.4985,      0.4995,      0.5005,      0.5015,      0.5025,      0.5035,\n",
       "            0.5045,     0.50551,     0.50651,     0.50751,     0.50851,     0.50951,     0.51051,     0.51151,     0.51251,     0.51351,     0.51451,     0.51552,     0.51652,     0.51752,     0.51852,     0.51952,     0.52052,     0.52152,     0.52252,     0.52352,     0.52452,     0.52553,     0.52653,     0.52753,\n",
       "           0.52853,     0.52953,     0.53053,     0.53153,     0.53253,     0.53353,     0.53453,     0.53554,     0.53654,     0.53754,     0.53854,     0.53954,     0.54054,     0.54154,     0.54254,     0.54354,     0.54454,     0.54555,     0.54655,     0.54755,     0.54855,     0.54955,     0.55055,     0.55155,\n",
       "           0.55255,     0.55355,     0.55455,     0.55556,     0.55656,     0.55756,     0.55856,     0.55956,     0.56056,     0.56156,     0.56256,     0.56356,     0.56456,     0.56557,     0.56657,     0.56757,     0.56857,     0.56957,     0.57057,     0.57157,     0.57257,     0.57357,     0.57457,     0.57558,\n",
       "           0.57658,     0.57758,     0.57858,     0.57958,     0.58058,     0.58158,     0.58258,     0.58358,     0.58458,     0.58559,     0.58659,     0.58759,     0.58859,     0.58959,     0.59059,     0.59159,     0.59259,     0.59359,     0.59459,      0.5956,      0.5966,      0.5976,      0.5986,      0.5996,\n",
       "            0.6006,      0.6016,      0.6026,      0.6036,      0.6046,     0.60561,     0.60661,     0.60761,     0.60861,     0.60961,     0.61061,     0.61161,     0.61261,     0.61361,     0.61461,     0.61562,     0.61662,     0.61762,     0.61862,     0.61962,     0.62062,     0.62162,     0.62262,     0.62362,\n",
       "           0.62462,     0.62563,     0.62663,     0.62763,     0.62863,     0.62963,     0.63063,     0.63163,     0.63263,     0.63363,     0.63463,     0.63564,     0.63664,     0.63764,     0.63864,     0.63964,     0.64064,     0.64164,     0.64264,     0.64364,     0.64464,     0.64565,     0.64665,     0.64765,\n",
       "           0.64865,     0.64965,     0.65065,     0.65165,     0.65265,     0.65365,     0.65465,     0.65566,     0.65666,     0.65766,     0.65866,     0.65966,     0.66066,     0.66166,     0.66266,     0.66366,     0.66466,     0.66567,     0.66667,     0.66767,     0.66867,     0.66967,     0.67067,     0.67167,\n",
       "           0.67267,     0.67367,     0.67467,     0.67568,     0.67668,     0.67768,     0.67868,     0.67968,     0.68068,     0.68168,     0.68268,     0.68368,     0.68468,     0.68569,     0.68669,     0.68769,     0.68869,     0.68969,     0.69069,     0.69169,     0.69269,     0.69369,     0.69469,      0.6957,\n",
       "            0.6967,      0.6977,      0.6987,      0.6997,      0.7007,      0.7017,      0.7027,      0.7037,      0.7047,     0.70571,     0.70671,     0.70771,     0.70871,     0.70971,     0.71071,     0.71171,     0.71271,     0.71371,     0.71471,     0.71572,     0.71672,     0.71772,     0.71872,     0.71972,\n",
       "           0.72072,     0.72172,     0.72272,     0.72372,     0.72472,     0.72573,     0.72673,     0.72773,     0.72873,     0.72973,     0.73073,     0.73173,     0.73273,     0.73373,     0.73473,     0.73574,     0.73674,     0.73774,     0.73874,     0.73974,     0.74074,     0.74174,     0.74274,     0.74374,\n",
       "           0.74474,     0.74575,     0.74675,     0.74775,     0.74875,     0.74975,     0.75075,     0.75175,     0.75275,     0.75375,     0.75475,     0.75576,     0.75676,     0.75776,     0.75876,     0.75976,     0.76076,     0.76176,     0.76276,     0.76376,     0.76476,     0.76577,     0.76677,     0.76777,\n",
       "           0.76877,     0.76977,     0.77077,     0.77177,     0.77277,     0.77377,     0.77477,     0.77578,     0.77678,     0.77778,     0.77878,     0.77978,     0.78078,     0.78178,     0.78278,     0.78378,     0.78478,     0.78579,     0.78679,     0.78779,     0.78879,     0.78979,     0.79079,     0.79179,\n",
       "           0.79279,     0.79379,     0.79479,      0.7958,      0.7968,      0.7978,      0.7988,      0.7998,      0.8008,      0.8018,      0.8028,      0.8038,      0.8048,     0.80581,     0.80681,     0.80781,     0.80881,     0.80981,     0.81081,     0.81181,     0.81281,     0.81381,     0.81481,     0.81582,\n",
       "           0.81682,     0.81782,     0.81882,     0.81982,     0.82082,     0.82182,     0.82282,     0.82382,     0.82482,     0.82583,     0.82683,     0.82783,     0.82883,     0.82983,     0.83083,     0.83183,     0.83283,     0.83383,     0.83483,     0.83584,     0.83684,     0.83784,     0.83884,     0.83984,\n",
       "           0.84084,     0.84184,     0.84284,     0.84384,     0.84484,     0.84585,     0.84685,     0.84785,     0.84885,     0.84985,     0.85085,     0.85185,     0.85285,     0.85385,     0.85485,     0.85586,     0.85686,     0.85786,     0.85886,     0.85986,     0.86086,     0.86186,     0.86286,     0.86386,\n",
       "           0.86486,     0.86587,     0.86687,     0.86787,     0.86887,     0.86987,     0.87087,     0.87187,     0.87287,     0.87387,     0.87487,     0.87588,     0.87688,     0.87788,     0.87888,     0.87988,     0.88088,     0.88188,     0.88288,     0.88388,     0.88488,     0.88589,     0.88689,     0.88789,\n",
       "           0.88889,     0.88989,     0.89089,     0.89189,     0.89289,     0.89389,     0.89489,      0.8959,      0.8969,      0.8979,      0.8989,      0.8999,      0.9009,      0.9019,      0.9029,      0.9039,      0.9049,     0.90591,     0.90691,     0.90791,     0.90891,     0.90991,     0.91091,     0.91191,\n",
       "           0.91291,     0.91391,     0.91491,     0.91592,     0.91692,     0.91792,     0.91892,     0.91992,     0.92092,     0.92192,     0.92292,     0.92392,     0.92492,     0.92593,     0.92693,     0.92793,     0.92893,     0.92993,     0.93093,     0.93193,     0.93293,     0.93393,     0.93493,     0.93594,\n",
       "           0.93694,     0.93794,     0.93894,     0.93994,     0.94094,     0.94194,     0.94294,     0.94394,     0.94494,     0.94595,     0.94695,     0.94795,     0.94895,     0.94995,     0.95095,     0.95195,     0.95295,     0.95395,     0.95495,     0.95596,     0.95696,     0.95796,     0.95896,     0.95996,\n",
       "           0.96096,     0.96196,     0.96296,     0.96396,     0.96496,     0.96597,     0.96697,     0.96797,     0.96897,     0.96997,     0.97097,     0.97197,     0.97297,     0.97397,     0.97497,     0.97598,     0.97698,     0.97798,     0.97898,     0.97998,     0.98098,     0.98198,     0.98298,     0.98398,\n",
       "           0.98498,     0.98599,     0.98699,     0.98799,     0.98899,     0.98999,     0.99099,     0.99199,     0.99299,     0.99399,     0.99499,       0.996,       0.997,       0.998,       0.999,           1]), array([[      0.975,       0.975,       0.975,       0.975,       0.975,       0.975,       0.975,       0.975,       0.975,       0.975,       0.975,       0.975,       0.975,       0.975,       0.975,       0.975,       0.975,       0.975,       0.975,       0.975,       0.975,       0.975,       0.975,\n",
       "              0.975,       0.975,       0.975,       0.975,       0.975,       0.975,       0.975,       0.975,       0.975,       0.975,       0.975,       0.975,       0.975,       0.975,       0.975,       0.975,       0.975,       0.975,       0.975,       0.975,       0.975,       0.975,       0.975,\n",
       "              0.975,       0.975,       0.975,       0.975,       0.975,       0.975,       0.975,       0.975,       0.975,       0.975,       0.975,       0.975,       0.975,       0.975,       0.975,       0.975,       0.975,       0.975,       0.975,       0.975,       0.975,       0.975,       0.975,\n",
       "              0.975,       0.975,       0.975,       0.975,       0.975,       0.975,       0.975,       0.975,       0.975,       0.975,       0.975,       0.975,       0.975,       0.975,       0.975,       0.975,       0.975,       0.975,       0.975,       0.975,       0.975,       0.975,       0.975,\n",
       "              0.975,       0.975,       0.975,       0.975,       0.975,       0.975,       0.975,       0.975,       0.975,       0.975,       0.975,       0.975,       0.975,       0.975,       0.975,       0.975,       0.975,       0.975,       0.975,       0.975,       0.975,       0.975,       0.975,\n",
       "              0.975,       0.975,       0.975,       0.975,       0.975,       0.975,       0.975,       0.975,       0.975,       0.975,       0.975,       0.975,       0.975,       0.975,       0.975,       0.975,       0.975,       0.975,       0.975,       0.975,       0.975,       0.975,       0.975,\n",
       "              0.975,       0.975,       0.975,       0.975,       0.975,       0.975,       0.975,       0.975,       0.975,       0.975,       0.975,       0.975,       0.975,       0.975,       0.975,       0.975,       0.975,       0.975,       0.975,       0.975,       0.975,       0.975,       0.975,\n",
       "              0.975,       0.975,       0.975,       0.975,       0.975,       0.975,       0.975,       0.975,       0.975,       0.975,       0.975,       0.975,       0.975,       0.975,       0.975,       0.975,       0.975,       0.975,       0.975,       0.975,       0.975,       0.975,       0.975,\n",
       "              0.975,       0.975,       0.975,       0.975,       0.975,       0.975,       0.975,       0.975,       0.975,       0.975,       0.975,       0.975,       0.975,       0.975,       0.975,       0.975,       0.975,       0.975,       0.975,       0.975,       0.975,       0.975,       0.975,\n",
       "              0.975,       0.975,       0.975,       0.975,       0.975,       0.975,       0.975,       0.975,       0.975,       0.975,       0.975,       0.975,       0.975,       0.975,       0.975,       0.975,       0.975,       0.975,       0.975,       0.975,       0.975,       0.975,       0.975,\n",
       "              0.975,       0.975,       0.975,       0.975,       0.975,       0.975,       0.975,       0.975,       0.975,       0.975,       0.975,       0.975,       0.975,       0.975,       0.975,       0.975,       0.975,       0.975,       0.975,       0.975,       0.975,       0.975,       0.975,\n",
       "              0.975,       0.975,       0.975,       0.975,       0.975,       0.975,       0.975,       0.975,       0.975,       0.975,       0.975,       0.975,       0.975,       0.975,       0.975,       0.975,       0.975,       0.975,       0.975,       0.975,       0.975,       0.975,       0.975,\n",
       "              0.975,       0.975,       0.975,       0.975,       0.975,       0.975,       0.975,       0.975,       0.975,       0.975,       0.975,       0.975,       0.975,       0.975,       0.975,       0.975,       0.975,       0.975,       0.975,       0.975,       0.975,       0.975,       0.975,\n",
       "              0.975,       0.975,       0.975,       0.975,       0.975,       0.975,       0.975,       0.975,       0.975,       0.975,       0.975,       0.975,       0.975,       0.975,       0.975,       0.975,       0.975,       0.975,       0.975,       0.975,       0.975,       0.975,       0.975,\n",
       "              0.975,       0.975,       0.975,       0.975,       0.975,       0.975,       0.975,       0.975,       0.975,       0.975,       0.975,       0.975,       0.975,       0.975,       0.975,       0.975,       0.975,       0.975,       0.975,       0.975,       0.975,       0.975,       0.975,\n",
       "              0.975,       0.975,       0.975,       0.975,       0.975,       0.975,       0.975,       0.975,       0.975,       0.975,       0.975,       0.975,       0.975,       0.975,       0.975,       0.975,       0.975,       0.975,       0.975,       0.975,       0.975,       0.975,       0.975,\n",
       "              0.975,       0.975,       0.975,       0.975,       0.975,       0.975,       0.975,       0.975,       0.975,       0.975,       0.975,       0.975,       0.975,       0.975,       0.975,       0.975,       0.975,       0.975,       0.975,       0.975,       0.975,       0.975,       0.975,\n",
       "              0.975,       0.975,       0.975,       0.975,       0.975,       0.975,       0.975,       0.975,       0.975,       0.975,       0.975,       0.975,       0.975,       0.975,       0.975,       0.975,       0.975,       0.975,       0.975,       0.975,       0.975,       0.975,       0.975,\n",
       "              0.975,       0.975,       0.975,       0.975,       0.975,       0.975,       0.975,       0.975,       0.975,       0.975,       0.975,       0.975,       0.975,       0.975,       0.975,       0.975,       0.975,       0.975,       0.975,       0.975,       0.975,       0.975,       0.975,\n",
       "              0.975,       0.975,       0.975,       0.975,       0.975,       0.975,       0.975,       0.975,       0.975,       0.975,       0.975,       0.975,       0.975,       0.975,       0.975,       0.975,       0.975,       0.975,       0.975,       0.975,       0.975,       0.975,       0.975,\n",
       "              0.975,       0.975,       0.975,       0.975,       0.975,       0.975,       0.975,       0.975,       0.975,       0.975,       0.975,       0.975,       0.975,       0.975,       0.975,       0.975,       0.975,       0.975,       0.975,       0.975,       0.975,       0.975,       0.975,\n",
       "              0.975,       0.975,       0.975,       0.975,       0.975,       0.975,       0.975,       0.975,       0.975,       0.975,       0.975,       0.975,       0.975,       0.975,       0.975,       0.975,       0.975,       0.975,       0.975,       0.975,       0.975,       0.975,       0.975,\n",
       "              0.975,       0.975,       0.975,       0.975,       0.975,       0.975,       0.975,       0.975,       0.975,       0.975,       0.975,       0.975,       0.975,       0.975,       0.975,       0.975,       0.975,       0.975,       0.975,       0.975,       0.975,       0.975,       0.975,\n",
       "              0.975,       0.975,       0.975,       0.975,       0.975,       0.975,       0.975,       0.975,       0.975,       0.975,       0.975,       0.975,       0.975,       0.975,       0.975,       0.975,       0.975,       0.975,       0.975,       0.975,       0.975,       0.975,       0.975,\n",
       "              0.975,       0.975,       0.975,       0.975,       0.975,       0.975,       0.975,       0.975,       0.975,       0.975,       0.975,       0.975,       0.975,       0.975,       0.975,       0.975,       0.975,       0.975,       0.975,       0.975,       0.975,       0.975,       0.975,\n",
       "              0.975,       0.975,       0.975,       0.975,       0.975,       0.975,       0.975,       0.975,       0.975,       0.975,       0.975,       0.975,       0.975,       0.975,       0.975,       0.975,       0.975,       0.975,       0.975,       0.975,       0.975,       0.975,       0.975,\n",
       "              0.975,       0.975,       0.975,       0.975,       0.975,       0.975,       0.975,       0.975,       0.975,       0.975,       0.975,       0.975,       0.975,       0.975,       0.975,       0.975,       0.975,       0.975,       0.975,       0.975,       0.975,       0.975,       0.975,\n",
       "              0.975,       0.975,       0.975,       0.975,       0.975,       0.975,       0.975,       0.975,       0.975,       0.975,       0.975,       0.975,       0.975,       0.975,       0.975,       0.975,       0.975,       0.975,       0.975,       0.975,       0.975,       0.975,       0.975,\n",
       "              0.975,       0.975,       0.975,       0.975,       0.975,       0.975,       0.975,       0.975,       0.975,       0.975,       0.975,       0.975,       0.975,       0.975,       0.975,       0.975,       0.975,       0.975,       0.975,       0.975,       0.975,       0.975,       0.975,\n",
       "              0.975,       0.975,       0.975,       0.975,       0.975,       0.975,       0.975,       0.975,       0.975,       0.975,       0.975,       0.975,       0.975,       0.975,       0.975,       0.975,       0.975,       0.975,       0.975,       0.975,       0.975,       0.975,       0.975,\n",
       "              0.975,       0.975,       0.975,       0.975,       0.975,       0.975,       0.975,       0.975,       0.975,       0.975,       0.975,       0.975,       0.975,       0.975,       0.975,       0.975,       0.975,       0.975,       0.975,       0.975,       0.975,       0.975,       0.975,\n",
       "              0.975,       0.975,       0.975,       0.975,       0.975,       0.975,       0.975,       0.975,       0.975,       0.975,       0.975,       0.975,       0.975,       0.975,       0.975,       0.975,       0.975,       0.975,       0.975,       0.975,       0.975,       0.975,       0.975,\n",
       "              0.975,       0.975,       0.975,       0.975,       0.975,       0.975,       0.975,       0.975,       0.975,       0.975,       0.975,       0.975,       0.975,       0.975,       0.975,       0.975,       0.975,       0.975,       0.975,       0.975,       0.975,       0.975,       0.975,\n",
       "              0.975,       0.975,       0.975,       0.975,       0.975,       0.975,       0.975,       0.975,       0.975,       0.975,       0.975,       0.975,       0.975,       0.975,       0.975,       0.975,       0.975,       0.975,       0.975,       0.975,       0.975,       0.975,       0.975,\n",
       "              0.975,       0.975,       0.975,       0.975,       0.975,       0.975,       0.975,       0.975,       0.975,       0.975,       0.975,       0.975,       0.975,       0.975,       0.975,       0.975,       0.975,       0.975,       0.975,       0.975,       0.975,       0.975,       0.975,\n",
       "              0.975,       0.975,       0.975,       0.975,       0.975,       0.975,       0.975,       0.975,       0.975,       0.975,       0.975,       0.975,       0.975,       0.975,       0.975,       0.975,       0.975,       0.975,       0.975,       0.975,       0.975,       0.975,       0.975,\n",
       "              0.975,       0.975,       0.975,       0.975,       0.975,       0.975,       0.975,       0.975,       0.975,       0.975,       0.975,       0.975,       0.975,       0.975,       0.975,       0.975,       0.975,       0.975,       0.975,       0.975,       0.975,       0.975,     0.97179,\n",
       "            0.96752,     0.96324,     0.95897,      0.9547,     0.95043,     0.92696,     0.91317,     0.90036,     0.89617,     0.89222,     0.88828,     0.88434,      0.8804,     0.87646,     0.87038,     0.86306,     0.85574,     0.84963,     0.84792,     0.84621,     0.84451,      0.8428,     0.84109,\n",
       "            0.83938,     0.83767,     0.83596,     0.83426,     0.83255,     0.83084,     0.82913,     0.82742,     0.82571,     0.81007,     0.79893,     0.79716,     0.79539,     0.79363,     0.79186,     0.79009,     0.78832,     0.78656,     0.78479,     0.78302,     0.78125,     0.77949,     0.77772,\n",
       "            0.77595,     0.76713,     0.75004,      0.7427,     0.73537,     0.72805,     0.71753,     0.70472,      0.6919,     0.67909,     0.65756,     0.60693,     0.56881,     0.52159,     0.50878,     0.49193,     0.47283,     0.46642,     0.46001,     0.45361,      0.4444,     0.43159,     0.41878,\n",
       "            0.40596,     0.39817,     0.39476,     0.39134,     0.38792,     0.38451,     0.38109,     0.37767,     0.37128,      0.3542,     0.33067,     0.26009,     0.24314,      0.2346,     0.22606,     0.16504,     0.12883,     0.09882,    0.096122,    0.093425,    0.090728,     0.08803,    0.085333,\n",
       "           0.082635,    0.079938,     0.07724,    0.070658,    0.048344,    0.039802,     0.03126,           0,           0,           0,           0,           0,           0,           0,           0,           0,           0,           0,           0,           0,           0,           0,           0,\n",
       "                  0,           0,           0,           0,           0,           0,           0,           0,           0,           0,           0,           0,           0,           0,           0,           0,           0,           0,           0,           0,           0,           0,           0,\n",
       "                  0,           0,           0,           0,           0,           0,           0,           0,           0,           0,           0]]), 'Confidence', 'Recall']]\n",
       "fitness: np.float64(1.3379613205997911)\n",
       "keys: ['metrics/precision(B)', 'metrics/recall(B)', 'metrics/mAP50(B)', 'metrics/mAP50-95(B)', 'metrics/precision(P)', 'metrics/recall(P)', 'metrics/mAP50(P)', 'metrics/mAP50-95(P)']\n",
       "maps: array([     1.2673])\n",
       "names: {0: 'basketball_court'}\n",
       "nt_per_class: array([40])\n",
       "nt_per_image: array([40])\n",
       "pose: ultralytics.utils.metrics.Metric object\n",
       "results_dict: {'metrics/precision(B)': np.float64(0.9986650315649371), 'metrics/recall(B)': np.float64(1.0), 'metrics/mAP50(B)': np.float64(0.995), 'metrics/mAP50-95(B)': np.float64(0.8968390521438989), 'metrics/precision(P)': np.float64(0.9892639166944722), 'metrics/recall(P)': np.float64(0.975), 'metrics/mAP50(P)': np.float64(0.9784925373134329), 'metrics/mAP50-95(P)': np.float64(0.3705076888210431), 'fitness': np.float64(1.3379613205997911)}\n",
       "speed: {'preprocess': 0.46752750022278633, 'inference': 16.184577500462183, 'loss': 0.000697499854140915, 'postprocess': 2.083742499962682}\n",
       "stats: {'tp': [], 'conf': [], 'pred_cls': [], 'target_cls': [], 'target_img': [], 'tp_p': []}\n",
       "task: 'pose'"
      ]
     },
     "execution_count": 2,
     "metadata": {},
     "output_type": "execute_result"
    }
   ],
   "source": [
    "model = YOLO(\"../../models/yolov8l-pose.pt\")  # 加载预训练模型\n",
    "model.train(data='../../dataset/working-court-1/data.yaml', \n",
    "            epochs=100, # 比之前调大epoches\n",
    "            imgsz=640, \n",
    "            batch=8,\n",
    "            project=\"../../runs/detect/court_det\"\n",
    "            )"
   ]
  },
  {
   "cell_type": "markdown",
   "id": "1d37bd3c",
   "metadata": {},
   "source": [
    "# Testing"
   ]
  },
  {
   "cell_type": "code",
   "execution_count": 6,
   "id": "35dcd287",
   "metadata": {},
   "outputs": [
    {
     "name": "stdout",
     "output_type": "stream",
     "text": [
      "\n",
      "image 1/1 d:\\AI\\yolo\\code\\notebook\\..\\..\\sources\\basketball_court.png: 352x640 1 basketball_court, 114.0ms\n",
      "Speed: 1.7ms preprocess, 114.0ms inference, 3.5ms postprocess per image at shape (1, 3, 352, 640)\n",
      "Results saved to \u001b[1mruns\\pose\\track2\u001b[0m\n",
      "{0: 'basketball_court'}\n"
     ]
    }
   ],
   "source": [
    "from ultralytics import YOLO\n",
    "\n",
    "model = YOLO(\"../../models/v8l_court_detection.pt\")\n",
    "results = model.track(\"../../sources/basketball_court.png\", show=True, save=True)\n",
    "\n",
    "for result in results:\n",
    "    print(result[0].names)\n",
    "    break"
   ]
  },
  {
   "cell_type": "markdown",
   "id": "0fc551bb",
   "metadata": {},
   "source": [
    "# Training 2"
   ]
  },
  {
   "cell_type": "code",
   "execution_count": 10,
   "id": "e95d5344",
   "metadata": {},
   "outputs": [
    {
     "name": "stdout",
     "output_type": "stream",
     "text": [
      "loading Roboflow workspace...\n",
      "loading Roboflow project...\n",
      "Dependency ultralytics==8.0.134 is required but found version=8.3.155, to fix: `pip install ultralytics==8.0.134`\n",
      "Downloading Dataset Version Zip in ../../dataset to yolov8: 100% [458666977 / 458666977] bytes\n"
     ]
    },
    {
     "name": "stderr",
     "output_type": "stream",
     "text": [
      "Extracting Dataset Version Zip to ../../dataset in yolov8:: 100%|██████████| 2948/2948 [00:02<00:00, 1000.68it/s]\n"
     ]
    }
   ],
   "source": [
    "from roboflow import Roboflow\n",
    "rf = Roboflow(api_key=\"wKugMGCPQkZaOOt2pxZE\")\n",
    "project = rf.workspace(\"fyp-3bwmg\").project(\"reloc2-den7l\")\n",
    "version = project.version(1)\n",
    "dataset_path = \"../../dataset\"\n",
    "dataset = version.download(\"yolov8\", location=dataset_path)"
   ]
  },
  {
   "cell_type": "code",
   "execution_count": 11,
   "id": "d13b0fcf",
   "metadata": {},
   "outputs": [
    {
     "name": "stdout",
     "output_type": "stream",
     "text": [
      "CUDA: True\n",
      "GPU count: 1\n",
      "GPU name: NVIDIA GeForce RTX 4060 Laptop GPU\n",
      "Total Memory: 8187.5 MB\n"
     ]
    }
   ],
   "source": [
    "from ultralytics import YOLO\n",
    "\n",
    "import torch\n",
    "print(\"CUDA:\", torch.cuda.is_available())\n",
    "print(\"GPU count:\", torch.cuda.device_count())\n",
    "print(\"GPU name:\", torch.cuda.get_device_name(0))\n",
    "print(\"Total Memory:\", torch.cuda.get_device_properties(0).total_memory / 1024**2, \"MB\")\n",
    "\n",
    "import os\n",
    "os.environ[\"KMP_DUPLICATE_LIB_OK\"] = \"TRUE\""
   ]
  },
  {
   "cell_type": "code",
   "execution_count": null,
   "id": "d07d8861",
   "metadata": {},
   "outputs": [
    {
     "name": "stdout",
     "output_type": "stream",
     "text": [
      "New https://pypi.org/project/ultralytics/8.3.158 available  Update with 'pip install -U ultralytics'\n",
      "Ultralytics 8.3.155  Python-3.10.18 torch-2.7.1+cu128 CUDA:0 (NVIDIA GeForce RTX 4060 Laptop GPU, 8188MiB)\n",
      "\u001b[34m\u001b[1mengine\\trainer: \u001b[0magnostic_nms=False, amp=True, augment=False, auto_augment=randaugment, batch=8, bgr=0.0, box=7.5, cache=False, cfg=None, classes=None, close_mosaic=10, cls=0.5, conf=None, copy_paste=0.0, copy_paste_mode=flip, cos_lr=False, cutmix=0.0, data=../../dataset/Court_keypoints_data/data.yaml, degrees=0.0, deterministic=True, device=None, dfl=1.5, dnn=False, dropout=0.0, dynamic=False, embed=None, epochs=500, erasing=0.4, exist_ok=False, fliplr=0.5, flipud=0.0, format=torchscript, fraction=1.0, freeze=None, half=False, hsv_h=0.015, hsv_s=0.7, hsv_v=0.4, imgsz=640, int8=False, iou=0.7, keras=False, kobj=1.0, line_width=None, lr0=0.01, lrf=0.01, mask_ratio=4, max_det=300, mixup=0.0, mode=train, model=../../models/yolov8x-pose.pt, momentum=0.937, mosaic=1.0, multi_scale=False, name=train3, nbs=64, nms=False, opset=None, optimize=False, optimizer=auto, overlap_mask=True, patience=100, perspective=0.0, plots=True, pose=12.0, pretrained=True, profile=False, project=../../runs/detect/court_det2, rect=False, resume=False, retina_masks=False, save=True, save_conf=False, save_crop=False, save_dir=..\\..\\runs\\detect\\court_det2\\train3, save_frames=False, save_json=False, save_period=-1, save_txt=False, scale=0.5, seed=0, shear=0.0, show=False, show_boxes=True, show_conf=True, show_labels=True, simplify=True, single_cls=False, source=None, split=val, stream_buffer=False, task=pose, time=None, tracker=botsort.yaml, translate=0.1, val=True, verbose=True, vid_stride=1, visualize=False, warmup_bias_lr=0.1, warmup_epochs=3.0, warmup_momentum=0.8, weight_decay=0.0005, workers=8, workspace=None\n",
      "Overriding model.yaml kpt_shape=[17, 3] with kpt_shape=[18, 3]\n",
      "\n",
      "                   from  n    params  module                                       arguments                     \n",
      "  0                  -1  1      2320  ultralytics.nn.modules.conv.Conv             [3, 80, 3, 2]                 \n",
      "  1                  -1  1    115520  ultralytics.nn.modules.conv.Conv             [80, 160, 3, 2]               \n",
      "  2                  -1  3    436800  ultralytics.nn.modules.block.C2f             [160, 160, 3, True]           \n",
      "  3                  -1  1    461440  ultralytics.nn.modules.conv.Conv             [160, 320, 3, 2]              \n",
      "  4                  -1  6   3281920  ultralytics.nn.modules.block.C2f             [320, 320, 6, True]           \n",
      "  5                  -1  1   1844480  ultralytics.nn.modules.conv.Conv             [320, 640, 3, 2]              \n",
      "  6                  -1  6  13117440  ultralytics.nn.modules.block.C2f             [640, 640, 6, True]           \n",
      "  7                  -1  1   3687680  ultralytics.nn.modules.conv.Conv             [640, 640, 3, 2]              \n",
      "  8                  -1  3   6969600  ultralytics.nn.modules.block.C2f             [640, 640, 3, True]           \n",
      "  9                  -1  1   1025920  ultralytics.nn.modules.block.SPPF            [640, 640, 5]                 \n",
      " 10                  -1  1         0  torch.nn.modules.upsampling.Upsample         [None, 2, 'nearest']          \n",
      " 11             [-1, 6]  1         0  ultralytics.nn.modules.conv.Concat           [1]                           \n",
      " 12                  -1  3   7379200  ultralytics.nn.modules.block.C2f             [1280, 640, 3]                \n",
      " 13                  -1  1         0  torch.nn.modules.upsampling.Upsample         [None, 2, 'nearest']          \n",
      " 14             [-1, 4]  1         0  ultralytics.nn.modules.conv.Concat           [1]                           \n",
      " 15                  -1  3   1948800  ultralytics.nn.modules.block.C2f             [960, 320, 3]                 \n",
      " 16                  -1  1    922240  ultralytics.nn.modules.conv.Conv             [320, 320, 3, 2]              \n",
      " 17            [-1, 12]  1         0  ultralytics.nn.modules.conv.Concat           [1]                           \n",
      " 18                  -1  3   7174400  ultralytics.nn.modules.block.C2f             [960, 640, 3]                 \n",
      " 19                  -1  1   3687680  ultralytics.nn.modules.conv.Conv             [640, 640, 3, 2]              \n",
      " 20             [-1, 9]  1         0  ultralytics.nn.modules.conv.Concat           [1]                           \n",
      " 21                  -1  3   7379200  ultralytics.nn.modules.block.C2f             [1280, 640, 3]                \n",
      " 22        [15, 18, 21]  1  10057813  ultralytics.nn.modules.head.Pose             [1, [18, 3], [320, 640, 640]] \n",
      "YOLOv8x-pose summary: 224 layers, 69,492,453 parameters, 69,492,437 gradients, 264.0 GFLOPs\n",
      "\n",
      "Transferred 631/637 items from pretrained weights\n",
      "Freezing layer 'model.22.dfl.conv.weight'\n",
      "\u001b[34m\u001b[1mAMP: \u001b[0mrunning Automatic Mixed Precision (AMP) checks...\n",
      "Downloading https://github.com/ultralytics/assets/releases/download/v8.3.0/yolo11n.pt to 'yolo11n.pt'...\n"
     ]
    },
    {
     "name": "stderr",
     "output_type": "stream",
     "text": [
      "100%|██████████| 5.35M/5.35M [00:10<00:00, 520kB/s]\n"
     ]
    },
    {
     "name": "stdout",
     "output_type": "stream",
     "text": [
      "\u001b[34m\u001b[1mAMP: \u001b[0mchecks passed \n",
      "\u001b[34m\u001b[1mtrain: \u001b[0mFast image access  (ping: 0.10.1 ms, read: 43.942.3 MB/s, size: 359.0 KB)\n"
     ]
    },
    {
     "name": "stderr",
     "output_type": "stream",
     "text": [
      "\u001b[34m\u001b[1mtrain: \u001b[0mScanning D:\\AI\\yolo\\dataset\\Court_keypoints_data\\train\\labels... 1172 images, 0 backgrounds, 288 corrupt: 100%|██████████| 1172/1172 [00:02<00:00, 496.55it/s]"
     ]
    },
    {
     "name": "stdout",
     "output_type": "stream",
     "text": [
      "\u001b[34m\u001b[1mtrain: \u001b[0mD:\\AI\\yolo\\dataset\\Court_keypoints_data\\train\\images\\basketball_10_frame_0037_jpg.rf.dde6b1b35b884c0609b668c9d8f60d7a.jpg: ignoring corrupt image/label: non-normalized or out of bounds coordinates [1.2705866 1.2705866 1.21875   1.0878472 1.0052084]\n",
      "\u001b[34m\u001b[1mtrain: \u001b[0mD:\\AI\\yolo\\dataset\\Court_keypoints_data\\train\\images\\basketball_10_frame_0045_jpg.rf.065d9607d0d8c28155d62561911c8708.jpg: ignoring corrupt image/label: non-normalized or out of bounds coordinates [1.2705866 1.2705866 1.21875   1.0878472 1.0052084]\n",
      "\u001b[34m\u001b[1mtrain: \u001b[0mD:\\AI\\yolo\\dataset\\Court_keypoints_data\\train\\images\\basketball_10_frame_0053_jpg.rf.d217b2a09eb76bd2876316c7fc0d1bb9.jpg: ignoring corrupt image/label: non-normalized or out of bounds coordinates [1.151663  1.151663  1.0998263]\n",
      "\u001b[34m\u001b[1mtrain: \u001b[0mD:\\AI\\yolo\\dataset\\Court_keypoints_data\\train\\images\\basketball_10_frame_0057_jpg.rf.8e46cff9e93f8b6d10040b5566de0e8c.jpg: ignoring corrupt image/label: non-normalized or out of bounds coordinates [1.0718019 1.0718019 1.0199653]\n",
      "\u001b[34m\u001b[1mtrain: \u001b[0mD:\\AI\\yolo\\dataset\\Court_keypoints_data\\train\\images\\basketball_10_frame_0065_jpg.rf.01bef83e6b6621fdcf84aa94c6eeb4c9.jpg: ignoring corrupt image/label: non-normalized or out of bounds coordinates [1.0666969 1.0248699]\n",
      "\u001b[34m\u001b[1mtrain: \u001b[0mD:\\AI\\yolo\\dataset\\Court_keypoints_data\\train\\images\\basketball_10_frame_0069_jpg.rf.6301a9707e04ec1768e9b47032fdef0d.jpg: ignoring corrupt image/label: non-normalized or out of bounds coordinates [1.038051]\n",
      "\u001b[34m\u001b[1mtrain: \u001b[0mD:\\AI\\yolo\\dataset\\Court_keypoints_data\\train\\images\\basketball_10_frame_0073_jpg.rf.30b3f06a7c1a511a10c3b889c06c5640.jpg: ignoring corrupt image/label: non-normalized or out of bounds coordinates [1.0172176]\n",
      "\u001b[34m\u001b[1mtrain: \u001b[0mD:\\AI\\yolo\\dataset\\Court_keypoints_data\\train\\images\\basketball_10_frame_0077_jpg.rf.6ed0eee2d101779ccfa3f70e73460e67.jpg: ignoring corrupt image/label: non-normalized or out of bounds coordinates [1.0007246]\n",
      "\u001b[34m\u001b[1mtrain: \u001b[0mD:\\AI\\yolo\\dataset\\Court_keypoints_data\\train\\images\\basketball_11_frame_0048_jpg.rf.71f9e50ba3253b4624c11aec362bccfa.jpg: ignoring corrupt image/label: negative label values [-0.01064516 -0.00801047]\n",
      "\u001b[34m\u001b[1mtrain: \u001b[0mD:\\AI\\yolo\\dataset\\Court_keypoints_data\\train\\images\\basketball_11_frame_0052_jpg.rf.a7ac49811e04809bbb6e83c174db0aaf.jpg: ignoring corrupt image/label: negative label values [-0.03408265 -0.03144797]\n",
      "\u001b[34m\u001b[1mtrain: \u001b[0mD:\\AI\\yolo\\dataset\\Court_keypoints_data\\train\\images\\basketball_11_frame_0060_jpg.rf.162d5f8d2d193781c9d53cc005fc7991.jpg: ignoring corrupt image/label: negative label values [-0.01649302 -0.0150025  -0.0123701 ]\n",
      "\u001b[34m\u001b[1mtrain: \u001b[0mD:\\AI\\yolo\\dataset\\Court_keypoints_data\\train\\images\\basketball_11_frame_0064_jpg.rf.8ee1c550c72740f5f10737b20d2563ee.jpg: ignoring corrupt image/label: negative label values [-0.05468745 -0.05319693 -0.05056453]\n",
      "\u001b[34m\u001b[1mtrain: \u001b[0mD:\\AI\\yolo\\dataset\\Court_keypoints_data\\train\\images\\basketball_11_frame_0068_jpg.rf.21379b89ad83c6f08f58db5d93d7fdde.jpg: ignoring corrupt image/label: negative label values [-0.08680552 -0.085315   -0.0826826 ]\n",
      "\u001b[34m\u001b[1mtrain: \u001b[0mD:\\AI\\yolo\\dataset\\Court_keypoints_data\\train\\images\\basketball_11_frame_0072_jpg.rf.8463df00221522481267e3c2c770e682.jpg: ignoring corrupt image/label: negative label values [-0.11371526 -0.11222474 -0.10959234]\n",
      "\u001b[34m\u001b[1mtrain: \u001b[0mD:\\AI\\yolo\\dataset\\Court_keypoints_data\\train\\images\\basketball_11_frame_0080_jpg.rf.fd6ef92b9f3165af5d4502315dc5e0fd.jpg: ignoring corrupt image/label: negative label values [-0.03125    -0.15277776 -0.15128724 -0.14865485]\n",
      "\u001b[34m\u001b[1mtrain: \u001b[0mD:\\AI\\yolo\\dataset\\Court_keypoints_data\\train\\images\\basketball_11_frame_0084_jpg.rf.4eed242ce79620dbd738252a7c9207ef.jpg: ignoring corrupt image/label: negative label values [-0.08072916 -0.20225693 -0.2007664  -0.198134  ]\n",
      "\u001b[34m\u001b[1mtrain: \u001b[0mD:\\AI\\yolo\\dataset\\Court_keypoints_data\\train\\images\\basketball_11_frame_0088_jpg.rf.18a4db043f37b91ed30a3fc8976b4746.jpg: ignoring corrupt image/label: negative label values [-0.02615125 -0.04591328 -0.13194443 -0.25347218 -0.25198168 -0.24934927]\n",
      "\u001b[34m\u001b[1mtrain: \u001b[0mD:\\AI\\yolo\\dataset\\Court_keypoints_data\\train\\images\\basketball_11_frame_0116_jpg.rf.31041c8f018d84d9f0b0edc9c7ca8d47.jpg: ignoring corrupt image/label: non-normalized or out of bounds coordinates [1.0553623 1.0553623 1.0747917]\n",
      "\u001b[34m\u001b[1mtrain: \u001b[0mD:\\AI\\yolo\\dataset\\Court_keypoints_data\\train\\images\\basketball_11_frame_0120_jpg.rf.8080266e61fc4fb9d6e343611343216b.jpg: ignoring corrupt image/label: non-normalized or out of bounds coordinates [1.0553623 1.0553623 1.0747917]\n",
      "\u001b[34m\u001b[1mtrain: \u001b[0mD:\\AI\\yolo\\dataset\\Court_keypoints_data\\train\\images\\basketball_11_frame_0132_jpg.rf.a04c9201c5242193cc0bc1626a8430e6.jpg: ignoring corrupt image/label: non-normalized or out of bounds coordinates [1.0058297 1.0058297]\n",
      "\u001b[34m\u001b[1mtrain: \u001b[0mD:\\AI\\yolo\\dataset\\Court_keypoints_data\\train\\images\\basketball_12_frame_0031_jpg.rf.aa9487dd7741135b14ad4caafd4e563c.jpg: ignoring corrupt image/label: non-normalized or out of bounds coordinates [1.0049616 1.0049616 1.0014462]\n",
      "\u001b[34m\u001b[1mtrain: \u001b[0mD:\\AI\\yolo\\dataset\\Court_keypoints_data\\train\\images\\basketball_12_frame_0035_jpg.rf.6f588f96bbae8e0e42c6d6ea471d2e48.jpg: ignoring corrupt image/label: non-normalized or out of bounds coordinates [1.0240588 1.0240588 1.0205435]\n",
      "\u001b[34m\u001b[1mtrain: \u001b[0mD:\\AI\\yolo\\dataset\\Court_keypoints_data\\train\\images\\basketball_12_frame_0043_jpg.rf.5e306035764cd0d92fd171a2f7996632.jpg: ignoring corrupt image/label: non-normalized or out of bounds coordinates [1.0735381 1.0735381 1.0700227]\n",
      "\u001b[34m\u001b[1mtrain: \u001b[0mD:\\AI\\yolo\\dataset\\Court_keypoints_data\\train\\images\\basketball_12_frame_0047_jpg.rf.5b02f41373282e12371e08142a9744b7.jpg: ignoring corrupt image/label: non-normalized or out of bounds coordinates [1.0735381 1.0735381 1.0700227]\n",
      "\u001b[34m\u001b[1mtrain: \u001b[0mD:\\AI\\yolo\\dataset\\Court_keypoints_data\\train\\images\\basketball_12_frame_0055_jpg.rf.15480e720a8b72b802c123f258ed9a21.jpg: ignoring corrupt image/label: non-normalized or out of bounds coordinates [1.0735381 1.0735381 1.0700227]\n",
      "\u001b[34m\u001b[1mtrain: \u001b[0mD:\\AI\\yolo\\dataset\\Court_keypoints_data\\train\\images\\basketball_12_frame_0059_jpg.rf.84ed6921261824df66a27d478e3fcb18.jpg: ignoring corrupt image/label: non-normalized or out of bounds coordinates [1.0735381 1.0735381 1.0700227]\n",
      "\u001b[34m\u001b[1mtrain: \u001b[0mD:\\AI\\yolo\\dataset\\Court_keypoints_data\\train\\images\\basketball_12_frame_0063_jpg.rf.c622e3550992c5b56b666cd4031ebe7d.jpg: ignoring corrupt image/label: non-normalized or out of bounds coordinates [1.0735381 1.0735381 1.0700227]\n",
      "\u001b[34m\u001b[1mtrain: \u001b[0mD:\\AI\\yolo\\dataset\\Court_keypoints_data\\train\\images\\basketball_12_frame_0083_jpg.rf.7d9e850a31415b89cc5d35caa0a6f5d0.jpg: ignoring corrupt image/label: negative label values [-0.00349307 -0.01924312 -0.08406682 -0.18579067 -0.19903198 -0.1963998 ]\n",
      "\u001b[34m\u001b[1mtrain: \u001b[0mD:\\AI\\yolo\\dataset\\Court_keypoints_data\\train\\images\\basketball_12_frame_0087_jpg.rf.fa96172a6c6e1504f87a5abbeb6bf49d.jpg: ignoring corrupt image/label: negative label values [-0.00349307 -0.01924312 -0.08406682 -0.18579067 -0.19903198 -0.1963998 ]\n",
      "\u001b[34m\u001b[1mtrain: \u001b[0mD:\\AI\\yolo\\dataset\\Court_keypoints_data\\train\\images\\basketball_12_frame_0095_jpg.rf.59c10671166c545e4dd90919838bf925.jpg: ignoring corrupt image/label: negative label values [-0.00349307 -0.01924312 -0.08406682 -0.18579067 -0.19903198 -0.1963998 ]\n",
      "\u001b[34m\u001b[1mtrain: \u001b[0mD:\\AI\\yolo\\dataset\\Court_keypoints_data\\train\\images\\basketball_12_frame_0099_jpg.rf.53bf2798fe14b2d2eecc70e304d60111.jpg: ignoring corrupt image/label: negative label values [-0.00349307 -0.01924312 -0.08406682 -0.18579067 -0.19903198 -0.1963998 ]\n",
      "\u001b[34m\u001b[1mtrain: \u001b[0mD:\\AI\\yolo\\dataset\\Court_keypoints_data\\train\\images\\basketball_12_frame_0103_jpg.rf.12ef4cf401cfffd6f3ad26896e44bce2.jpg: ignoring corrupt image/label: negative label values [-0.00349307 -0.01924312 -0.08406682 -0.18579067 -0.19903198 -0.1963998 ]\n",
      "\u001b[34m\u001b[1mtrain: \u001b[0mD:\\AI\\yolo\\dataset\\Court_keypoints_data\\train\\images\\basketball_12_frame_0127_jpg.rf.f23dd046cd179b9f60df7c30a7a5b88b.jpg: ignoring corrupt image/label: negative label values [-0.0538462  -0.0670875  -0.06445532]\n",
      "\u001b[34m\u001b[1mtrain: \u001b[0mD:\\AI\\yolo\\dataset\\Court_keypoints_data\\train\\images\\basketball_12_frame_0175_jpg.rf.c8e8fea69bd7b0a89a7599f48c398600.jpg: ignoring corrupt image/label: negative label values [-0.01743995]\n",
      "\u001b[34m\u001b[1mtrain: \u001b[0mD:\\AI\\yolo\\dataset\\Court_keypoints_data\\train\\images\\basketball_12_frame_0179_jpg.rf.167e518c7c77809f8ae35fee6e35a7b1.jpg: ignoring corrupt image/label: negative label values [-0.01309969]\n",
      "\u001b[34m\u001b[1mtrain: \u001b[0mD:\\AI\\yolo\\dataset\\Court_keypoints_data\\train\\images\\basketball_12_frame_0183_jpg.rf.6f2c24d0889132d42418975ec05a2049.jpg: ignoring corrupt image/label: negative label values [-0.00441911]\n",
      "\u001b[34m\u001b[1mtrain: \u001b[0mD:\\AI\\yolo\\dataset\\Court_keypoints_data\\train\\images\\basketball_1_3_24_png.rf.4055db24e0d6963bc50291485f7aefbc.jpg: ignoring corrupt image/label: non-normalized or out of bounds coordinates [1.0362828 1.0362828]\n",
      "\u001b[34m\u001b[1mtrain: \u001b[0mD:\\AI\\yolo\\dataset\\Court_keypoints_data\\train\\images\\basketball_1_3_26_png.rf.67c18a551bafe0c701844c70c0da5a85.jpg: ignoring corrupt image/label: non-normalized or out of bounds coordinates [1.0481507 1.0481507 1.0582985]\n",
      "\u001b[34m\u001b[1mtrain: \u001b[0mD:\\AI\\yolo\\dataset\\Court_keypoints_data\\train\\images\\basketball_1_frame_0012_jpg.rf.a47e80f2c663aa4216a9c4a1b5b829c7.jpg: ignoring corrupt image/label: negative label values [-0.05020828 -0.14149305 -0.2526043  -0.28472236]\n",
      "\u001b[34m\u001b[1mtrain: \u001b[0mD:\\AI\\yolo\\dataset\\Court_keypoints_data\\train\\images\\basketball_1_frame_0024_jpg.rf.a0e1c035d135b555f327fc7d0b6051ac.jpg: ignoring corrupt image/label: negative label values [-0.06770836 -0.17881961 -0.21093765]\n",
      "\u001b[34m\u001b[1mtrain: \u001b[0mD:\\AI\\yolo\\dataset\\Court_keypoints_data\\train\\images\\basketball_1_frame_0036_jpg.rf.24b4714d28c4b21ddb84d5fddd468afb.jpg: ignoring corrupt image/label: negative label values [-0.02256945 -0.1336807  -0.16579875]\n",
      "\u001b[34m\u001b[1mtrain: \u001b[0mD:\\AI\\yolo\\dataset\\Court_keypoints_data\\train\\images\\basketball_1_frame_0048_jpg.rf.e41722533abe7f6b45933669d6c32aab.jpg: ignoring corrupt image/label: negative label values [-0.07986125 -0.1119793 ]\n",
      "\u001b[34m\u001b[1mtrain: \u001b[0mD:\\AI\\yolo\\dataset\\Court_keypoints_data\\train\\images\\basketball_1_frame_0052_jpg.rf.c05b33702b7ed04251947b0fda444f34.jpg: ignoring corrupt image/label: negative label values [-0.06770844 -0.09982648]\n",
      "\u001b[34m\u001b[1mtrain: \u001b[0mD:\\AI\\yolo\\dataset\\Court_keypoints_data\\train\\images\\basketball_1_frame_0056_jpg.rf.00583cf35c32876464b88ae31b617d56.jpg: ignoring corrupt image/label: negative label values [-0.05208344 -0.08420148]\n",
      "\u001b[34m\u001b[1mtrain: \u001b[0mD:\\AI\\yolo\\dataset\\Court_keypoints_data\\train\\images\\basketball_1_frame_0068_jpg.rf.b9717ceae583820a1989a73c0949ac19.jpg: ignoring corrupt image/label: negative label values [-0.02517367]\n",
      "\u001b[34m\u001b[1mtrain: \u001b[0mD:\\AI\\yolo\\dataset\\Court_keypoints_data\\train\\images\\basketball_1_frame_0192_jpg.rf.9af0f5e73831c6ef884b21ad3b5ddac2.jpg: ignoring corrupt image/label: non-normalized or out of bounds coordinates [1.2028782 1.2265625 1.1015625]\n",
      "\u001b[34m\u001b[1mtrain: \u001b[0mD:\\AI\\yolo\\dataset\\Court_keypoints_data\\train\\images\\basketball_1_frame_0204_jpg.rf.4de0554adc2703c2da0fb81e5ddef991.jpg: ignoring corrupt image/label: non-normalized or out of bounds coordinates [1.0744061 1.0980903]\n",
      "\u001b[34m\u001b[1mtrain: \u001b[0mD:\\AI\\yolo\\dataset\\Court_keypoints_data\\train\\images\\basketball_2_11_26_png.rf.cfe8ebc14a08b29f6985fa3fa8cbd8a0.jpg: ignoring corrupt image/label: negative label values [-0.00182719]\n",
      "\u001b[34m\u001b[1mtrain: \u001b[0mD:\\AI\\yolo\\dataset\\Court_keypoints_data\\train\\images\\basketball_2_12_21_png.rf.b107124c342c19235462d170ce44d3a8.jpg: ignoring corrupt image/label: non-normalized or out of bounds coordinates [1.0717059 1.0725324]\n",
      "\u001b[34m\u001b[1mtrain: \u001b[0mD:\\AI\\yolo\\dataset\\Court_keypoints_data\\train\\images\\basketball_2_12_22_png.rf.7a9acfd94a19dd62e29efb88cf32bb61.jpg: ignoring corrupt image/label: non-normalized or out of bounds coordinates [1.0135462 1.0143727]\n",
      "\u001b[34m\u001b[1mtrain: \u001b[0mD:\\AI\\yolo\\dataset\\Court_keypoints_data\\train\\images\\basketball_2_12_2_png.rf.3b17c6cc653343527d534d7e2a40c60b.jpg: ignoring corrupt image/label: negative label values [-0.02534102 -0.03061031 -0.0279757 ]\n",
      "\u001b[34m\u001b[1mtrain: \u001b[0mD:\\AI\\yolo\\dataset\\Court_keypoints_data\\train\\images\\basketball_2_13_3_png.rf.199c489e88198f06490ea8c7c765f730.jpg: ignoring corrupt image/label: negative label values [-0.0262525  -0.03151273 -0.02888266]\n",
      "\u001b[34m\u001b[1mtrain: \u001b[0mD:\\AI\\yolo\\dataset\\Court_keypoints_data\\train\\images\\basketball_2_13_4_png.rf.835c46b47694543938dfd9a67c37eb7c.jpg: ignoring corrupt image/label: negative label values [-0.0262525  -0.03151273 -0.02888266]\n",
      "\u001b[34m\u001b[1mtrain: \u001b[0mD:\\AI\\yolo\\dataset\\Court_keypoints_data\\train\\images\\basketball_2_13_5_png.rf.b32e284d5564b3d6e8f7ad0d2320c284.jpg: ignoring corrupt image/label: negative label values [-0.0262525  -0.03151273 -0.02888266]\n",
      "\u001b[34m\u001b[1mtrain: \u001b[0mD:\\AI\\yolo\\dataset\\Court_keypoints_data\\train\\images\\basketball_2_14_14_png.rf.9b2aaf55b57886bbd8b8a068b68bb07c.jpg: ignoring corrupt image/label: non-normalized or out of bounds coordinates [1.0198116 1.0198116 1.0198116 1.017177  1.0198116 1.0198116]\n",
      "\u001b[34m\u001b[1mtrain: \u001b[0mD:\\AI\\yolo\\dataset\\Court_keypoints_data\\train\\images\\basketball_2_14_15_png.rf.c122fa8ce5a74ec5199d0d964ec4ce9d.jpg: ignoring corrupt image/label: non-normalized or out of bounds coordinates [1.0198116 1.0198116 1.0198116 1.017177  1.0198116 1.0198116]\n",
      "\u001b[34m\u001b[1mtrain: \u001b[0mD:\\AI\\yolo\\dataset\\Court_keypoints_data\\train\\images\\basketball_2_14_16_png.rf.c53d85f5932f427fecca9f4b164024b1.jpg: ignoring corrupt image/label: non-normalized or out of bounds coordinates [1.0198116 1.0198116 1.0198116 1.017177  1.0198116 1.0198116]\n",
      "\u001b[34m\u001b[1mtrain: \u001b[0mD:\\AI\\yolo\\dataset\\Court_keypoints_data\\train\\images\\basketball_2_14_17_png.rf.1b3f06f781832c6e08b290c27d2beb4e.jpg: ignoring corrupt image/label: non-normalized or out of bounds coordinates [1.0198116 1.0198116 1.0198116 1.017177  1.0198116 1.0198116]\n",
      "\u001b[34m\u001b[1mtrain: \u001b[0mD:\\AI\\yolo\\dataset\\Court_keypoints_data\\train\\images\\basketball_2_14_18_png.rf.18c1e37ecb5d649160b1249ef4575280.jpg: ignoring corrupt image/label: non-normalized or out of bounds coordinates [1.0198116 1.0198116 1.0198116 1.017177  1.0198116 1.0198116]\n",
      "\u001b[34m\u001b[1mtrain: \u001b[0mD:\\AI\\yolo\\dataset\\Court_keypoints_data\\train\\images\\basketball_2_14_20_png.rf.782d8b816839d953fe98e32233740b41.jpg: ignoring corrupt image/label: non-normalized or out of bounds coordinates [1.0198116 1.0198116 1.0198116 1.017177  1.0198116 1.0198116]\n",
      "\u001b[34m\u001b[1mtrain: \u001b[0mD:\\AI\\yolo\\dataset\\Court_keypoints_data\\train\\images\\basketball_2_14_21_png.rf.dec995e63b0ba5c2f4b70c5b5c15cc17.jpg: ignoring corrupt image/label: non-normalized or out of bounds coordinates [1.0198116 1.0198116 1.0198116 1.017177  1.0198116 1.0198116]\n",
      "\u001b[34m\u001b[1mtrain: \u001b[0mD:\\AI\\yolo\\dataset\\Court_keypoints_data\\train\\images\\basketball_2_14_24_png.rf.aebf673fbaf38709c96ee7771da812ff.jpg: ignoring corrupt image/label: non-normalized or out of bounds coordinates [1.0198116 1.0198116 1.0198116 1.017177  1.0198116 1.0198116]\n",
      "\u001b[34m\u001b[1mtrain: \u001b[0mD:\\AI\\yolo\\dataset\\Court_keypoints_data\\train\\images\\basketball_2_14_2_png.rf.f96032ba21ce8c24668ec9740e21f038.jpg: ignoring corrupt image/label: non-normalized or out of bounds coordinates [1.0198116 1.0198116 1.0198116 1.017177  1.0198116 1.0198116]\n",
      "\u001b[34m\u001b[1mtrain: \u001b[0mD:\\AI\\yolo\\dataset\\Court_keypoints_data\\train\\images\\basketball_2_14_3_png.rf.59be6b6e26cd3c2af4aec0be187dea51.jpg: ignoring corrupt image/label: negative label values [-0.07118054 -0.02298883]\n",
      "\u001b[34m\u001b[1mtrain: \u001b[0mD:\\AI\\yolo\\dataset\\Court_keypoints_data\\train\\images\\basketball_2_14_4_png.rf.0e12dd0960fff1996ca42308eaecf40e.jpg: ignoring corrupt image/label: negative label values [-0.07118054 -0.02298883]\n",
      "\u001b[34m\u001b[1mtrain: \u001b[0mD:\\AI\\yolo\\dataset\\Court_keypoints_data\\train\\images\\basketball_2_1_12_png.rf.d44ac6cc0f3156ae05c38afaacce1deb.jpg: ignoring corrupt image/label: negative label values [-0.04926234 -0.06504312 -0.09550984 -0.09419055 -0.09944899 -0.09681977]\n",
      "\u001b[34m\u001b[1mtrain: \u001b[0mD:\\AI\\yolo\\dataset\\Court_keypoints_data\\train\\images\\basketball_2_1_13_png.rf.bd296b99df510e075d7609cb47e4278f.jpg: ignoring corrupt image/label: negative label values [-0.16604    -0.18182078 -0.2122875  -0.2109682  -0.21622664 -0.21359742]\n",
      "\u001b[34m\u001b[1mtrain: \u001b[0mD:\\AI\\yolo\\dataset\\Court_keypoints_data\\train\\images\\basketball_2_1_14_png.rf.27baceda7c1e672cf859412cb32733ff.jpg: ignoring corrupt image/label: negative label values [-0.27650538 -0.29228616 -0.3227529  -0.3214336  -0.32669204 -0.32406282\n",
      " -0.02559117 -0.10765117]\n",
      "\u001b[34m\u001b[1mtrain: \u001b[0mD:\\AI\\yolo\\dataset\\Court_keypoints_data\\train\\images\\basketball_2_1_15_png.rf.8bf0a443d5e2347e11c0f8ddb5914419.jpg: ignoring corrupt image/label: negative label values [-0.37671322 -0.392494   -0.4229607  -0.4216414  -0.42689985 -0.42427063\n",
      " -0.12579899 -0.20785898]\n",
      "\u001b[34m\u001b[1mtrain: \u001b[0mD:\\AI\\yolo\\dataset\\Court_keypoints_data\\train\\images\\basketball_2_1_19_png.rf.2912d709edd442651bfb5f244ed7060e.jpg: ignoring corrupt image/label: negative label values [-0.06705523 -0.07100258 -0.06705523 -0.06573328 -0.07100258 -0.0676664 ]\n",
      "\u001b[34m\u001b[1mtrain: \u001b[0mD:\\AI\\yolo\\dataset\\Court_keypoints_data\\train\\images\\basketball_2_1_21_png.rf.07e5c0ebe6d0d4a3b19abe2857190339.jpg: ignoring corrupt image/label: negative label values [-0.04183844 -0.04578039 -0.04183844 -0.0405182  -0.04618508 -0.04618508]\n",
      "\u001b[34m\u001b[1mtrain: \u001b[0mD:\\AI\\yolo\\dataset\\Court_keypoints_data\\train\\images\\basketball_2_1_22_png.rf.7dd1fb907d5cd93917a4cbd54268aa78.jpg: ignoring corrupt image/label: negative label values [-0.08681367 -0.09075563 -0.08681367 -0.08549344 -0.09116031 -0.09116031]\n",
      "\u001b[34m\u001b[1mtrain: \u001b[0mD:\\AI\\yolo\\dataset\\Court_keypoints_data\\train\\images\\basketball_2_1_29_png.rf.f4147d132c98070f30e58e9821c3ce7f.jpg: ignoring corrupt image/label: non-normalized or out of bounds coordinates [1.0123624]\n",
      "\u001b[34m\u001b[1mtrain: \u001b[0mD:\\AI\\yolo\\dataset\\Court_keypoints_data\\train\\images\\basketball_2_1_5_png.rf.b51ca6eb6d37964477dc193df5c117f0.jpg: ignoring corrupt image/label: negative label values [-0.00368031]\n",
      "\u001b[34m\u001b[1mtrain: \u001b[0mD:\\AI\\yolo\\dataset\\Court_keypoints_data\\train\\images\\basketball_2_1_6_png.rf.700af417645121328dd68f06c9809cd3.jpg: ignoring corrupt image/label: negative label values [-0.03129664 -0.0194475 ]\n",
      "\u001b[34m\u001b[1mtrain: \u001b[0mD:\\AI\\yolo\\dataset\\Court_keypoints_data\\train\\images\\basketball_2_1_8_png.rf.f4c5339bbe0e6e767d8d44d5d7b50fac.jpg: ignoring corrupt image/label: negative label values [-0.08416227 -0.07231312]\n",
      "\u001b[34m\u001b[1mtrain: \u001b[0mD:\\AI\\yolo\\dataset\\Court_keypoints_data\\train\\images\\basketball_2_1_9_png.rf.bd48a9169a858abdf127359c7cdfcb2e.jpg: ignoring corrupt image/label: negative label values [-0.11730187 -0.10545273]\n",
      "\u001b[34m\u001b[1mtrain: \u001b[0mD:\\AI\\yolo\\dataset\\Court_keypoints_data\\train\\images\\basketball_2_2_12_png.rf.960a14ad263eb897df99be3ef5ab3d20.jpg: ignoring corrupt image/label: negative label values [-0.0423825  -0.04539539 -0.0423825  -0.04106055 -0.04632984 -0.04369523]\n",
      "\u001b[34m\u001b[1mtrain: \u001b[0mD:\\AI\\yolo\\dataset\\Court_keypoints_data\\train\\images\\basketball_2_2_13_png.rf.77d7395781209843464a71149434aafa.jpg: ignoring corrupt image/label: negative label values [-0.06705523 -0.07006813 -0.06705523 -0.06573328 -0.07100258 -0.06836797]\n",
      "\u001b[34m\u001b[1mtrain: \u001b[0mD:\\AI\\yolo\\dataset\\Court_keypoints_data\\train\\images\\basketball_2_2_14_png.rf.cb5c85fccddf3c405602a18ec0e32065.jpg: ignoring corrupt image/label: negative label values [-0.11439758 -0.11741047 -0.11439758 -0.11307562 -0.11834493 -0.11571031]\n",
      "\u001b[34m\u001b[1mtrain: \u001b[0mD:\\AI\\yolo\\dataset\\Court_keypoints_data\\train\\images\\basketball_2_2_15_png.rf.63b2185e503dbceb7513fc10bf5e4df9.jpg: ignoring corrupt image/label: negative label values [-0.15306047 -0.15607336 -0.15306047 -0.15173851 -0.15700781 -0.1543732 ]\n",
      "\u001b[34m\u001b[1mtrain: \u001b[0mD:\\AI\\yolo\\dataset\\Court_keypoints_data\\train\\images\\basketball_2_2_16_png.rf.c753fa508aa8c61f41f0b4e87702f582.jpg: ignoring corrupt image/label: negative label values [-0.19251242 -0.19552532 -0.19251242 -0.19119047 -0.19645977 -0.19382516]\n",
      "\u001b[34m\u001b[1mtrain: \u001b[0mD:\\AI\\yolo\\dataset\\Court_keypoints_data\\train\\images\\basketball_2_2_18_png.rf.a08a1f6936daca55df303f8e7e5cc39d.jpg: ignoring corrupt image/label: negative label values [-0.24222188 -0.24523477 -0.24222188 -0.24089992 -0.24616922 -0.24353461]\n",
      "\u001b[34m\u001b[1mtrain: \u001b[0mD:\\AI\\yolo\\dataset\\Court_keypoints_data\\train\\images\\basketball_2_2_19_png.rf.25a4881cf3a2ee0f6fe40ba01d3b2c1b.jpg: ignoring corrupt image/label: negative label values [-0.2572136  -0.2602265  -0.2572136  -0.25589165 -0.26116094 -0.25852633]\n",
      "\u001b[34m\u001b[1mtrain: \u001b[0mD:\\AI\\yolo\\dataset\\Court_keypoints_data\\train\\images\\basketball_2_2_4_png.rf.fc1893088218c7e6f7aed5123812027f.jpg: ignoring corrupt image/label: negative label values [-0.00022297 -0.00022297]\n",
      "\u001b[34m\u001b[1mtrain: \u001b[0mD:\\AI\\yolo\\dataset\\Court_keypoints_data\\train\\images\\basketball_2_2_5_png.rf.6affc9bcbb76763e5f026af7527fc032.jpg: ignoring corrupt image/label: negative label values [-0.05143703 -0.05308859 -0.05143703 -0.05088399 -0.05308859 -0.05198625]\n",
      "\u001b[34m\u001b[1mtrain: \u001b[0mD:\\AI\\yolo\\dataset\\Court_keypoints_data\\train\\images\\basketball_2_2_6_png.rf.5d0ba1c82d52fd3a20368e95f45e5d8b.jpg: ignoring corrupt image/label: negative label values [-0.10272453 -0.10437609 -0.10272453 -0.10217148 -0.10437609 -0.10327375]\n",
      "\u001b[34m\u001b[1mtrain: \u001b[0mD:\\AI\\yolo\\dataset\\Court_keypoints_data\\train\\images\\basketball_2_2_8_png.rf.cbc889cadad7e033e7fef7c25e439568.jpg: ignoring corrupt image/label: non-normalized or out of bounds coordinates [1.1080853 1.1080853 1.1048104]\n",
      "\u001b[34m\u001b[1mtrain: \u001b[0mD:\\AI\\yolo\\dataset\\Court_keypoints_data\\train\\images\\basketball_2_2_9_png.rf.82fc472d9f218bb804bf5709276de072.jpg: ignoring corrupt image/label: non-normalized or out of bounds coordinates [1.0339158 1.0339158 1.0306408]\n",
      "\u001b[34m\u001b[1mtrain: \u001b[0mD:\\AI\\yolo\\dataset\\Court_keypoints_data\\train\\images\\basketball_2_3_12_png.rf.c081fbd2d3735f8a2dd1ccd2a8db47bc.jpg: ignoring corrupt image/label: negative label values [-0.01154867]\n",
      "\u001b[34m\u001b[1mtrain: \u001b[0mD:\\AI\\yolo\\dataset\\Court_keypoints_data\\train\\images\\basketball_2_3_13_png.rf.6a78a520fb297419e3e52a7996e95679.jpg: ignoring corrupt image/label: negative label values [-0.01154867]\n",
      "\u001b[34m\u001b[1mtrain: \u001b[0mD:\\AI\\yolo\\dataset\\Court_keypoints_data\\train\\images\\basketball_2_3_25_png.rf.3ab1bc309ef68cfc1e5cba9f30e75e42.jpg: ignoring corrupt image/label: negative label values [-0.03929555 -0.0227257  -0.04547727]\n",
      "\u001b[34m\u001b[1mtrain: \u001b[0mD:\\AI\\yolo\\dataset\\Court_keypoints_data\\train\\images\\basketball_2_3_26_png.rf.66f5b10ef012ba6a4f742e2931f01a4c.jpg: ignoring corrupt image/label: negative label values [-0.0582325  -0.04166266 -0.06441422]\n",
      "\u001b[34m\u001b[1mtrain: \u001b[0mD:\\AI\\yolo\\dataset\\Court_keypoints_data\\train\\images\\basketball_2_3_27_png.rf.a87238448400b09e4094f1e7ed75f33c.jpg: ignoring corrupt image/label: negative label values [-0.08348172 -0.06691188 -0.08966344]\n",
      "\u001b[34m\u001b[1mtrain: \u001b[0mD:\\AI\\yolo\\dataset\\Court_keypoints_data\\train\\images\\basketball_2_3_28_png.rf.c82f7c5b7ae6c421cb6c3705e2122780.jpg: ignoring corrupt image/label: negative label values [-0.01286672 -0.11425422 -0.09768438 -0.12043594]\n",
      "\u001b[34m\u001b[1mtrain: \u001b[0mD:\\AI\\yolo\\dataset\\Court_keypoints_data\\train\\images\\basketball_2_3_9_png.rf.d031677fd55619628b983914b0ee08ba.jpg: ignoring corrupt image/label: negative label values [-0.00741602]\n",
      "\u001b[34m\u001b[1mtrain: \u001b[0mD:\\AI\\yolo\\dataset\\Court_keypoints_data\\train\\images\\basketball_2_4_14_png.rf.3c7ba09859ead2f6e6fe07623664f4af.jpg: ignoring corrupt image/label: non-normalized or out of bounds coordinates [1.0221124 1.0221124 1.0221124 1.0194814 1.0221124 1.0227504 1.0440545]\n",
      "\u001b[34m\u001b[1mtrain: \u001b[0mD:\\AI\\yolo\\dataset\\Court_keypoints_data\\train\\images\\basketball_2_4_15_png.rf.5d0e6c4b5320e32a0472a490630c832b.jpg: ignoring corrupt image/label: non-normalized or out of bounds coordinates [1.1215312 1.1215312 1.1215312 1.1189002 1.1215312 1.1221693 1.054312\n",
      " 1.1434733]\n",
      "\u001b[34m\u001b[1mtrain: \u001b[0mD:\\AI\\yolo\\dataset\\Court_keypoints_data\\train\\images\\basketball_2_4_17_png.rf.2d593949958e4db19c841659627764fa.jpg: ignoring corrupt image/label: non-normalized or out of bounds coordinates [1.4584508 1.4584508 1.4584508 1.4558197 1.4584508 1.4590888 1.3912315\n",
      " 1.4803928]\n",
      "\u001b[34m\u001b[1mtrain: \u001b[0mD:\\AI\\yolo\\dataset\\Court_keypoints_data\\train\\images\\basketball_2_4_21_png.rf.7253a49eb1958de3ffcbfd73426f2ce1.jpg: ignoring corrupt image/label: non-normalized or out of bounds coordinates [1.0771941 1.0789064 1.0789064 1.0762734 1.0789064 1.0789064]\n",
      "\u001b[34m\u001b[1mtrain: \u001b[0mD:\\AI\\yolo\\dataset\\Court_keypoints_data\\train\\images\\basketball_2_4_22_png.rf.82b4d99dd47a09181c0ea2b483053603.jpg: ignoring corrupt image/label: non-normalized or out of bounds coordinates [1.0377421 1.1442623 1.1459746 1.1459746 1.1433417 1.1459746 1.1459746]\n",
      "\u001b[34m\u001b[1mtrain: \u001b[0mD:\\AI\\yolo\\dataset\\Court_keypoints_data\\train\\images\\basketball_2_4_23_png.rf.0aa17e4fc49be9d57f81ec88fdfeb5b0.jpg: ignoring corrupt image/label: non-normalized or out of bounds coordinates [1.0866625 1.1931827 1.194895  1.194895  1.192262  1.194895  1.194895 ]\n",
      "\u001b[34m\u001b[1mtrain: \u001b[0mD:\\AI\\yolo\\dataset\\Court_keypoints_data\\train\\images\\basketball_2_4_24_png.rf.bd803d57c22bbfe51774aacc08e4139d.jpg: ignoring corrupt image/label: non-normalized or out of bounds coordinates [1.1205912 1.2271115 1.2288237 1.2288237 1.2261907 1.2288237 1.2288237]\n",
      "\u001b[34m\u001b[1mtrain: \u001b[0mD:\\AI\\yolo\\dataset\\Court_keypoints_data\\train\\images\\basketball_2_4_26_png.rf.f6b8cf1b7d5ba7798e289e497761f5a1.jpg: ignoring corrupt image/label: non-normalized or out of bounds coordinates [1.0571498 1.0550971 1.1545198 1.26104   1.0572484 1.2627523 1.2627523\n",
      " 1.2601193 1.2627523 1.2627523]\n",
      "\u001b[34m\u001b[1mtrain: \u001b[0mD:\\AI\\yolo\\dataset\\Court_keypoints_data\\train\\images\\basketball_2_4_27_png.rf.85b928397808f70ba8f22c7198919ada.jpg: ignoring corrupt image/label: non-normalized or out of bounds coordinates [1.0016917 1.083801  1.0817484 1.1671444 1.2736647 1.0838996 1.2753769\n",
      " 1.2753769 1.2727439 1.2753769 1.2753769 1.0082835 1.0082835]\n",
      "\u001b[34m\u001b[1mtrain: \u001b[0mD:\\AI\\yolo\\dataset\\Court_keypoints_data\\train\\images\\basketball_2_4_28_png.rf.493f992e27fcde56120eb564df9b4d45.jpg: ignoring corrupt image/label: non-normalized or out of bounds coordinates [1.0241348 1.1062441 1.1041914 1.1774019 1.2839222 1.1063427 1.2856344\n",
      " 1.013871  1.2856344 1.2830015 1.2856344 1.2856344 1.018541  1.018541 ]\n",
      "\u001b[34m\u001b[1mtrain: \u001b[0mD:\\AI\\yolo\\dataset\\Court_keypoints_data\\train\\images\\basketball_2_4_29_png.rf.0c483f8be43dd7c8bd27d70286f37789.jpg: ignoring corrupt image/label: non-normalized or out of bounds coordinates [1.0311482 1.1132575 1.1112049 1.1805581 1.2870784 1.1133561 1.2887906\n",
      " 1.0208844 1.2887906 1.2861576 1.2887906 1.2887906 1.0216972 1.0216972]\n",
      "\u001b[34m\u001b[1mtrain: \u001b[0mD:\\AI\\yolo\\dataset\\Court_keypoints_data\\train\\images\\basketball_2_4_30_png.rf.cc4a98c8f05439ef1505a0a43b423428.jpg: ignoring corrupt image/label: non-normalized or out of bounds coordinates [1.0297455 1.1118547 1.1098021 1.1876594 1.2941796 1.1119534 1.2958919\n",
      " 1.0194817 1.2958919 1.2932589 1.2958919 1.2958919 1.0287985 1.0287985]\n",
      "\u001b[34m\u001b[1mtrain: \u001b[0mD:\\AI\\yolo\\dataset\\Court_keypoints_data\\train\\images\\basketball_2_4_31_png.rf.28c8789b852f061c13563bf4889ea284.jpg: ignoring corrupt image/label: non-normalized or out of bounds coordinates [1.0297455 1.1118547 1.1098021 1.1931827 1.299703  1.1119534 1.3014152\n",
      " 1.0194817 1.3014152 1.2987822 1.3014152 1.3014152 1.0343218 1.0343218]\n",
      "\u001b[34m\u001b[1mtrain: \u001b[0mD:\\AI\\yolo\\dataset\\Court_keypoints_data\\train\\images\\basketball_2_4_5_png.rf.3802ce93a6c8dceb3c9e2464c0a1de7d.jpg: ignoring corrupt image/label: non-normalized or out of bounds coordinates [1.1097294 1.1097294]\n",
      "\u001b[34m\u001b[1mtrain: \u001b[0mD:\\AI\\yolo\\dataset\\Court_keypoints_data\\train\\images\\basketball_2_4_6_png.rf.a9c214a1a611bc82178a8174405b03a0.jpg: ignoring corrupt image/label: non-normalized or out of bounds coordinates [1.2588575 1.2588575 1.1308485]\n",
      "\u001b[34m\u001b[1mtrain: \u001b[0mD:\\AI\\yolo\\dataset\\Court_keypoints_data\\train\\images\\basketball_2_4_7_png.rf.3742eefd6775519c32fc87e37136d2e3.jpg: ignoring corrupt image/label: non-normalized or out of bounds coordinates [1.3953612 1.3953612 1.2673522 1.1332158 1.0069696]\n",
      "\u001b[34m\u001b[1mtrain: \u001b[0mD:\\AI\\yolo\\dataset\\Court_keypoints_data\\train\\images\\basketball_2_4_8_png.rf.a7db3b944b809d5af9b8d3f2ddfd0db4.jpg: ignoring corrupt image/label: non-normalized or out of bounds coordinates [1.3953612 1.3953612 1.2673522 1.1332158 1.0069696]\n",
      "\u001b[34m\u001b[1mtrain: \u001b[0mD:\\AI\\yolo\\dataset\\Court_keypoints_data\\train\\images\\basketball_2_4_9_png.rf.04e9b282dab2afe7ad1d1060c590f03c.jpg: ignoring corrupt image/label: non-normalized or out of bounds coordinates [1.3953612 1.3953612 1.2673522 1.1332158 1.0069696]\n",
      "\u001b[34m\u001b[1mtrain: \u001b[0mD:\\AI\\yolo\\dataset\\Court_keypoints_data\\train\\images\\basketball_2_5_10_png.rf.5667d7e08cb94f0da371efc9aa571d1d.jpg: ignoring corrupt image/label: non-normalized or out of bounds coordinates [1.147488  1.1092906]\n",
      "\u001b[34m\u001b[1mtrain: \u001b[0mD:\\AI\\yolo\\dataset\\Court_keypoints_data\\train\\images\\basketball_2_5_11_png.rf.9b4d3e45eaaa4285b41e3ac0d7ca7659.jpg: ignoring corrupt image/label: non-normalized or out of bounds coordinates [1.1340743 1.0958769]\n",
      "\u001b[34m\u001b[1mtrain: \u001b[0mD:\\AI\\yolo\\dataset\\Court_keypoints_data\\train\\images\\basketball_2_5_12_png.rf.f2c6e3ef222acad0e297877003979ef7.jpg: ignoring corrupt image/label: non-normalized or out of bounds coordinates [1.0056108 1.1119813 1.0737839]\n",
      "\u001b[34m\u001b[1mtrain: \u001b[0mD:\\AI\\yolo\\dataset\\Court_keypoints_data\\train\\images\\basketball_2_5_16_png.rf.38a6e99b1c8a205ab2c84e853eefaa05.jpg: ignoring corrupt image/label: non-normalized or out of bounds coordinates [1.0561079]\n",
      "\u001b[34m\u001b[1mtrain: \u001b[0mD:\\AI\\yolo\\dataset\\Court_keypoints_data\\train\\images\\basketball_2_5_17_png.rf.55cd3569bafba8169d32d3417dbef397.jpg: ignoring corrupt image/label: non-normalized or out of bounds coordinates [1.0617187]\n",
      "\u001b[34m\u001b[1mtrain: \u001b[0mD:\\AI\\yolo\\dataset\\Court_keypoints_data\\train\\images\\basketball_2_5_18_png.rf.9813422bf8d6d67e7def27112b8c8741.jpg: ignoring corrupt image/label: non-normalized or out of bounds coordinates [1.0617187]\n",
      "\u001b[34m\u001b[1mtrain: \u001b[0mD:\\AI\\yolo\\dataset\\Court_keypoints_data\\train\\images\\basketball_2_5_19_png.rf.22b444fdd631036009140acaea3d275b.jpg: ignoring corrupt image/label: non-normalized or out of bounds coordinates [1.0617187]\n",
      "\u001b[34m\u001b[1mtrain: \u001b[0mD:\\AI\\yolo\\dataset\\Court_keypoints_data\\train\\images\\basketball_2_5_20_png.rf.69ca5c360b368890fe1ac43ed490e6ba.jpg: ignoring corrupt image/label: non-normalized or out of bounds coordinates [1.0281763]\n",
      "\u001b[34m\u001b[1mtrain: \u001b[0mD:\\AI\\yolo\\dataset\\Court_keypoints_data\\train\\images\\basketball_2_5_21_png.rf.97a24d4f8aa7e63b5966fcb2a4cf1984.jpg: ignoring corrupt image/label: non-normalized or out of bounds coordinates [1.0281763]\n",
      "\u001b[34m\u001b[1mtrain: \u001b[0mD:\\AI\\yolo\\dataset\\Court_keypoints_data\\train\\images\\basketball_2_5_4_png.rf.08f3a42204433ec7ccc0c36ee8566374.jpg: ignoring corrupt image/label: non-normalized or out of bounds coordinates [1.0409677 1.0071435]\n",
      "\u001b[34m\u001b[1mtrain: \u001b[0mD:\\AI\\yolo\\dataset\\Court_keypoints_data\\train\\images\\basketball_2_5_5_png.rf.1d73e965454fdd8bcdcf15854a6c2a21.jpg: ignoring corrupt image/label: non-normalized or out of bounds coordinates [1.089099  1.0552748]\n",
      "\u001b[34m\u001b[1mtrain: \u001b[0mD:\\AI\\yolo\\dataset\\Court_keypoints_data\\train\\images\\basketball_2_5_6_png.rf.d983eae6dcc27973252dc34817baafa7.jpg: ignoring corrupt image/label: non-normalized or out of bounds coordinates [1.1244739 1.0862767]\n",
      "\u001b[34m\u001b[1mtrain: \u001b[0mD:\\AI\\yolo\\dataset\\Court_keypoints_data\\train\\images\\basketball_2_5_7_png.rf.ac5efbed211265d382a73bab0285b61a.jpg: ignoring corrupt image/label: non-normalized or out of bounds coordinates [1.1378876 1.0996903]\n",
      "\u001b[34m\u001b[1mtrain: \u001b[0mD:\\AI\\yolo\\dataset\\Court_keypoints_data\\train\\images\\basketball_2_5_8_png.rf.03a8d0c2f04aace51bebb826a2476d72.jpg: ignoring corrupt image/label: non-normalized or out of bounds coordinates [1.1378876 1.0996903]\n",
      "\u001b[34m\u001b[1mtrain: \u001b[0mD:\\AI\\yolo\\dataset\\Court_keypoints_data\\train\\images\\basketball_2_5_9_png.rf.7fa5489fe906805ce814ffcaffddbda0.jpg: ignoring corrupt image/label: non-normalized or out of bounds coordinates [1.1378876 1.0996903]\n",
      "\u001b[34m\u001b[1mtrain: \u001b[0mD:\\AI\\yolo\\dataset\\Court_keypoints_data\\train\\images\\basketball_2_7_11_png.rf.f6444d2adad4e0cb03cdea329a65e22b.jpg: ignoring corrupt image/label: non-normalized or out of bounds coordinates [1.0008253 1.0008253 1.0008253 1.0008253 1.0008253]\n",
      "\u001b[34m\u001b[1mtrain: \u001b[0mD:\\AI\\yolo\\dataset\\Court_keypoints_data\\train\\images\\basketball_2_7_12_png.rf.a21cb5dcfc623df13abb8f42b38d5487.jpg: ignoring corrupt image/label: non-normalized or out of bounds coordinates [1.0024033 1.0024033 1.0024033 1.0024033 1.0024033]\n",
      "\u001b[34m\u001b[1mtrain: \u001b[0mD:\\AI\\yolo\\dataset\\Court_keypoints_data\\train\\images\\basketball_2_7_13_png.rf.ae7bd993b55fd781c0147f2a8f5e93b3.jpg: ignoring corrupt image/label: non-normalized or out of bounds coordinates [1.0047704 1.0047704 1.0047704 1.0021411 1.0047704 1.0047704]\n",
      "\u001b[34m\u001b[1mtrain: \u001b[0mD:\\AI\\yolo\\dataset\\Court_keypoints_data\\train\\images\\basketball_2_7_15_png.rf.858bc674d27c37081025e7b4866d391a.jpg: ignoring corrupt image/label: non-normalized or out of bounds coordinates [1.0095046 1.0095046 1.0095046 1.0068754 1.0095046 1.0095046]\n",
      "\u001b[34m\u001b[1mtrain: \u001b[0mD:\\AI\\yolo\\dataset\\Court_keypoints_data\\train\\images\\basketball_2_7_16_png.rf.acaa3ab5269f83dcb80773c6535dfb48.jpg: ignoring corrupt image/label: non-normalized or out of bounds coordinates [1.0087149 1.0087149 1.0087149 1.0060858 1.0087149 1.0087149]\n",
      "\u001b[34m\u001b[1mtrain: \u001b[0mD:\\AI\\yolo\\dataset\\Court_keypoints_data\\train\\images\\basketball_2_7_17_png.rf.6a8fbb429287e40efd7719b384b1d8db.jpg: ignoring corrupt image/label: non-normalized or out of bounds coordinates [1.0035967 1.0013144 1.0126607 1.005879  1.0126607 1.0126607 1.0100316\n",
      " 1.0126607 1.0126607]\n",
      "\u001b[34m\u001b[1mtrain: \u001b[0mD:\\AI\\yolo\\dataset\\Court_keypoints_data\\train\\images\\basketball_2_7_18_png.rf.5dcfa0807ac28cadf536cac625ceefef.jpg: ignoring corrupt image/label: non-normalized or out of bounds coordinates [1.0274423 1.0251602 1.0158169 1.0297247 1.0158169 1.0158169 1.0131878\n",
      " 1.0158169 1.0158169]\n",
      "\u001b[34m\u001b[1mtrain: \u001b[0mD:\\AI\\yolo\\dataset\\Court_keypoints_data\\train\\images\\basketball_2_7_19_png.rf.1cfd94641c925e68a5205e20eb800a13.jpg: ignoring corrupt image/label: non-normalized or out of bounds coordinates [1.0597043 1.057422  1.0310984 1.0619867 1.0310984 1.0310984 1.0284691\n",
      " 1.0310984 1.0310984]\n",
      "\u001b[34m\u001b[1mtrain: \u001b[0mD:\\AI\\yolo\\dataset\\Court_keypoints_data\\train\\images\\basketball_2_7_20_png.rf.e857b44155ac00cf3dea93430d6218af.jpg: ignoring corrupt image/label: non-normalized or out of bounds coordinates [1.0614601 1.0591779 1.0636919 1.0637425 1.0636919 1.0636919 1.0610627\n",
      " 1.0636919 1.0636919]\n",
      "\u001b[34m\u001b[1mtrain: \u001b[0mD:\\AI\\yolo\\dataset\\Court_keypoints_data\\train\\images\\basketball_2_7_21_png.rf.5d198dc75534e91d6889d7ca4d2595e1.jpg: ignoring corrupt image/label: non-normalized or out of bounds coordinates [1.0891609 1.0868788 1.0752838 1.0914433 1.0752838 1.0752838 1.0726545\n",
      " 1.0752838 1.0752838]\n",
      "\u001b[34m\u001b[1mtrain: \u001b[0mD:\\AI\\yolo\\dataset\\Court_keypoints_data\\train\\images\\basketball_2_7_22_png.rf.aa67a5123626daca22ca24538a0497f7.jpg: ignoring corrupt image/label: non-normalized or out of bounds coordinates [1.0020783 1.093369  1.0910869 1.1144441 1.0956514 1.1144441 1.1144441\n",
      " 1.111815  1.1144441 1.1144441]\n",
      "\u001b[34m\u001b[1mtrain: \u001b[0mD:\\AI\\yolo\\dataset\\Court_keypoints_data\\train\\images\\basketball_2_7_25_png.rf.c00fb97bb81326a210adf0c38582707c.jpg: ignoring corrupt image/label: non-normalized or out of bounds coordinates [1.0132998 1.1045905 1.1023084 1.1278576 1.1068729 1.1278576 1.0018885\n",
      " 1.1278576 1.1252284 1.1278576 1.1278576]\n",
      "\u001b[34m\u001b[1mtrain: \u001b[0mD:\\AI\\yolo\\dataset\\Court_keypoints_data\\train\\images\\basketball_2_7_26_png.rf.083ace28ebb89d1dc55e5056c726a00e.jpg: ignoring corrupt image/label: non-normalized or out of bounds coordinates [1.0048838 1.0961745 1.0938922 1.1507425 1.0984569 1.1507425 1.1507425\n",
      " 1.1481134 1.1507425 1.1507425]\n",
      "\u001b[34m\u001b[1mtrain: \u001b[0mD:\\AI\\yolo\\dataset\\Court_keypoints_data\\train\\images\\basketball_2_7_28_png.rf.69595a9b7d2495500826cad078140a04.jpg: ignoring corrupt image/label: non-normalized or out of bounds coordinates [1.0076891 1.0989798 1.0966977 1.161     1.1012622 1.161     1.161\n",
      " 1.1583707 1.161     1.161    ]\n",
      "\u001b[34m\u001b[1mtrain: \u001b[0mD:\\AI\\yolo\\dataset\\Court_keypoints_data\\train\\images\\basketball_2_7_29_png.rf.c40e633fa5c52017980a712f08e319cd.jpg: ignoring corrupt image/label: non-normalized or out of bounds coordinates [1.0006757 1.0919664 1.0896841 1.176777  1.0942488 1.176777  1.176777\n",
      " 1.1741478 1.176777  1.176777 ]\n",
      "\u001b[34m\u001b[1mtrain: \u001b[0mD:\\AI\\yolo\\dataset\\Court_keypoints_data\\train\\images\\basketball_2_7_30_png.rf.e14234752b6795d9b4a426b6e6f1c410.jpg: ignoring corrupt image/label: non-normalized or out of bounds coordinates [1.0006757 1.0919664 1.0896841 1.1849749 1.0942488 1.1849749 1.1849749\n",
      " 1.1823457 1.1849749 1.1849749]\n",
      "\u001b[34m\u001b[1mtrain: \u001b[0mD:\\AI\\yolo\\dataset\\Court_keypoints_data\\train\\images\\basketball_2_7_3_png.rf.a095b89a96856c0ad210a58ef28c8044.jpg: ignoring corrupt image/label: negative label values [-0.10280172 -0.11157265 -0.10894344]\n",
      "\u001b[34m\u001b[1mtrain: \u001b[0mD:\\AI\\yolo\\dataset\\Court_keypoints_data\\train\\images\\basketball_2_7_4_png.rf.12ce1f14a1f51169ca58ff60cde5153b.jpg: ignoring corrupt image/label: negative label values [-0.05911484 -0.06788578 -0.06525657]\n",
      "\u001b[34m\u001b[1mtrain: \u001b[0mD:\\AI\\yolo\\dataset\\Court_keypoints_data\\train\\images\\basketball_2_8_5_png.rf.20130ea0e29a95ca4e9900b2a89b9b68.jpg: ignoring corrupt image/label: non-normalized or out of bounds coordinates [1.0197392 1.0197392 1.0197392 1.0171068 1.0197392 1.0197392]\n",
      "\u001b[34m\u001b[1mtrain: \u001b[0mD:\\AI\\yolo\\dataset\\Court_keypoints_data\\train\\images\\basketball_2_8_6_png.rf.76a29cce6804876fc3c6d27d6c55aa6f.jpg: ignoring corrupt image/label: non-normalized or out of bounds coordinates [1.079635  1.079635  1.079635  1.0770026 1.079635  1.079635 ]\n",
      "\u001b[34m\u001b[1mtrain: \u001b[0mD:\\AI\\yolo\\dataset\\Court_keypoints_data\\train\\images\\basketball_2_8_7_png.rf.1a48287d211f9ee80c64c6f7b2872528.jpg: ignoring corrupt image/label: non-normalized or out of bounds coordinates [1.079635  1.079635  1.079635  1.0770026 1.079635  1.079635 ]\n",
      "\u001b[34m\u001b[1mtrain: \u001b[0mD:\\AI\\yolo\\dataset\\Court_keypoints_data\\train\\images\\basketball_2_8_8_png.rf.aa9823ac950642f21526703b023ab8bb.jpg: ignoring corrupt image/label: non-normalized or out of bounds coordinates [1.079635  1.079635  1.079635  1.0770026 1.079635  1.079635 ]\n",
      "\u001b[34m\u001b[1mtrain: \u001b[0mD:\\AI\\yolo\\dataset\\Court_keypoints_data\\train\\images\\basketball_2_8_9_png.rf.e4aa8fd01cd0d3334f1b7b2ecb9ee567.jpg: ignoring corrupt image/label: non-normalized or out of bounds coordinates [1.079635  1.079635  1.079635  1.0770026 1.079635  1.079635 ]\n",
      "\u001b[34m\u001b[1mtrain: \u001b[0mD:\\AI\\yolo\\dataset\\Court_keypoints_data\\train\\images\\basketball_2_9_18_png.rf.8ff854651f0d65ab8ef5ee4362180a46.jpg: ignoring corrupt image/label: negative label values [-0.02067773]\n",
      "\u001b[34m\u001b[1mtrain: \u001b[0mD:\\AI\\yolo\\dataset\\Court_keypoints_data\\train\\images\\basketball_2_9_21_png.rf.5d673f545bbb8ed9e7270e93193a50ce.jpg: ignoring corrupt image/label: non-normalized or out of bounds coordinates [1.023417  1.023417  1.023417  1.0208074 1.023417  1.023417 ]\n",
      "\u001b[34m\u001b[1mtrain: \u001b[0mD:\\AI\\yolo\\dataset\\Court_keypoints_data\\train\\images\\basketball_2_9_22_png.rf.34c4692b858cffd5aa17dab9a9269e63.jpg: ignoring corrupt image/label: non-normalized or out of bounds coordinates [1.023417  1.023417  1.023417  1.0208074 1.023417  1.023417 ]\n",
      "\u001b[34m\u001b[1mtrain: \u001b[0mD:\\AI\\yolo\\dataset\\Court_keypoints_data\\train\\images\\basketball_2_9_23_png.rf.e8ffd54c2e34eafa111147d4021eca8e.jpg: ignoring corrupt image/label: non-normalized or out of bounds coordinates [1.023417  1.023417  1.023417  1.0208074 1.023417  1.023417 ]\n",
      "\u001b[34m\u001b[1mtrain: \u001b[0mD:\\AI\\yolo\\dataset\\Court_keypoints_data\\train\\images\\basketball_2_9_24_png.rf.27144dce646fa2f0b07e742762190270.jpg: ignoring corrupt image/label: non-normalized or out of bounds coordinates [1.023417  1.023417  1.023417  1.0208074 1.023417  1.023417 ]\n",
      "\u001b[34m\u001b[1mtrain: \u001b[0mD:\\AI\\yolo\\dataset\\Court_keypoints_data\\train\\images\\basketball_2_9_25_png.rf.e69bced556589a6300587984d9b7ca85.jpg: ignoring corrupt image/label: non-normalized or out of bounds coordinates [1.023417  1.023417  1.023417  1.0208074 1.023417  1.023417 ]\n",
      "\u001b[34m\u001b[1mtrain: \u001b[0mD:\\AI\\yolo\\dataset\\Court_keypoints_data\\train\\images\\basketball_2_frame_0032_jpg.rf.b67c7324def2b7b1de02be8d81662338.jpg: ignoring corrupt image/label: non-normalized or out of bounds coordinates [1.0068681]\n",
      "\u001b[34m\u001b[1mtrain: \u001b[0mD:\\AI\\yolo\\dataset\\Court_keypoints_data\\train\\images\\basketball_3_3_15_png.rf.6453a4759ae4919dfa8d14a4a7075571.jpg: ignoring corrupt image/label: negative label values [-0.00165516]\n",
      "\u001b[34m\u001b[1mtrain: \u001b[0mD:\\AI\\yolo\\dataset\\Court_keypoints_data\\train\\images\\basketball_3_3_16_png.rf.03c4b2246f2310cbbeb588cdd94a10a6.jpg: ignoring corrupt image/label: negative label values [-0.00867945]\n",
      "\u001b[34m\u001b[1mtrain: \u001b[0mD:\\AI\\yolo\\dataset\\Court_keypoints_data\\train\\images\\basketball_3_3_17_png.rf.ac51a08ab5be2053b9aa06d765a56905.jpg: ignoring corrupt image/label: negative label values [-0.00631234]\n",
      "\u001b[34m\u001b[1mtrain: \u001b[0mD:\\AI\\yolo\\dataset\\Court_keypoints_data\\train\\images\\basketball_3_3_18_png.rf.464c85f359ef95778437b057e57aa682.jpg: ignoring corrupt image/label: negative label values [-0.00286547]\n",
      "\u001b[34m\u001b[1mtrain: \u001b[0mD:\\AI\\yolo\\dataset\\Court_keypoints_data\\train\\images\\basketball_3_3_1_png.rf.909cd621de5dcf267b0becc8be378b91.jpg: ignoring corrupt image/label: negative label values [-0.00207641]\n",
      "\u001b[34m\u001b[1mtrain: \u001b[0mD:\\AI\\yolo\\dataset\\Court_keypoints_data\\train\\images\\basketball_3_3_21_png.rf.bddf5b9917ac53d0155c9942b74e9b19.jpg: ignoring corrupt image/label: negative label values [-0.00157813]\n",
      "\u001b[34m\u001b[1mtrain: \u001b[0mD:\\AI\\yolo\\dataset\\Court_keypoints_data\\train\\images\\basketball_3_3_2_png.rf.9534bd507cc510ef9aacdb25fa66bb5f.jpg: ignoring corrupt image/label: negative label values [-0.00315617]\n",
      "\u001b[34m\u001b[1mtrain: \u001b[0mD:\\AI\\yolo\\dataset\\Court_keypoints_data\\train\\images\\basketball_3_frame_0091_jpg.rf.5536dd2d6161895afc08a313c494dec5.jpg: ignoring corrupt image/label: non-normalized or out of bounds coordinates [1.0112847]\n",
      "\u001b[34m\u001b[1mtrain: \u001b[0mD:\\AI\\yolo\\dataset\\Court_keypoints_data\\train\\images\\basketball_3_frame_0107_jpg.rf.edb4150e15018b27e90c70fcb72c7a30.jpg: ignoring corrupt image/label: non-normalized or out of bounds coordinates [1.0112847]\n",
      "\u001b[34m\u001b[1mtrain: \u001b[0mD:\\AI\\yolo\\dataset\\Court_keypoints_data\\train\\images\\basketball_3_frame_0115_jpg.rf.f1b8b9fc878f4fea4cdf11f41988850e.jpg: ignoring corrupt image/label: non-normalized or out of bounds coordinates [1.0112847]\n",
      "\u001b[34m\u001b[1mtrain: \u001b[0mD:\\AI\\yolo\\dataset\\Court_keypoints_data\\train\\images\\basketball_3_frame_0123_jpg.rf.1ee20cc0e3399464ae6334e4b89805de.jpg: ignoring corrupt image/label: non-normalized or out of bounds coordinates [1.0112847]\n",
      "\u001b[34m\u001b[1mtrain: \u001b[0mD:\\AI\\yolo\\dataset\\Court_keypoints_data\\train\\images\\basketball_4_frame_0004_jpg.rf.99becd081b8b6d6ed5233fa11969039d.jpg: ignoring corrupt image/label: non-normalized or out of bounds coordinates [1.0590278 1.0078125]\n",
      "\u001b[34m\u001b[1mtrain: \u001b[0mD:\\AI\\yolo\\dataset\\Court_keypoints_data\\train\\images\\basketball_4_frame_0012_jpg.rf.fedd661cbdd97eaf56aa3a64953b4566.jpg: ignoring corrupt image/label: non-normalized or out of bounds coordinates [1.0442709]\n",
      "\u001b[34m\u001b[1mtrain: \u001b[0mD:\\AI\\yolo\\dataset\\Court_keypoints_data\\train\\images\\basketball_4_frame_0016_jpg.rf.2d4115f874d355bfe147c9cd044f187b.jpg: ignoring corrupt image/label: non-normalized or out of bounds coordinates [1.029514]\n",
      "\u001b[34m\u001b[1mtrain: \u001b[0mD:\\AI\\yolo\\dataset\\Court_keypoints_data\\train\\images\\basketball_4_frame_0020_jpg.rf.5d34c284cff84cd828462d8c367e0ebf.jpg: ignoring corrupt image/label: non-normalized or out of bounds coordinates [1.013889]\n",
      "\u001b[34m\u001b[1mtrain: \u001b[0mD:\\AI\\yolo\\dataset\\Court_keypoints_data\\train\\images\\basketball_5_frame_0012_jpg.rf.42591e69f68e4e8ea01b2e9c59e1ade3.jpg: ignoring corrupt image/label: non-normalized or out of bounds coordinates [1.2445449 1.2445449 1.2682291 1.1328125 1.0729166 1.0529513]\n",
      "\u001b[34m\u001b[1mtrain: \u001b[0mD:\\AI\\yolo\\dataset\\Court_keypoints_data\\train\\images\\basketball_5_frame_0032_jpg.rf.92aab4e63d1eff036c17e060032f5994.jpg: ignoring corrupt image/label: non-normalized or out of bounds coordinates [1.2445449 1.2445449 1.2682291 1.1328125 1.0729166 1.0529513]\n",
      "\u001b[34m\u001b[1mtrain: \u001b[0mD:\\AI\\yolo\\dataset\\Court_keypoints_data\\train\\images\\basketball_5_frame_0042_jpg.rf.2544cb0eb48ea799bd700ae76ad08900.jpg: ignoring corrupt image/label: non-normalized or out of bounds coordinates [1.1698922 1.1698922 1.1935763 1.0581597]\n",
      "\u001b[34m\u001b[1mtrain: \u001b[0mD:\\AI\\yolo\\dataset\\Court_keypoints_data\\train\\images\\basketball_5_frame_0048_jpg.rf.b8a0cb8e8bb7689a21acf39fbdc0004e.jpg: ignoring corrupt image/label: non-normalized or out of bounds coordinates [1.1698922 1.1698922 1.1935763 1.0581597]\n",
      "\u001b[34m\u001b[1mtrain: \u001b[0mD:\\AI\\yolo\\dataset\\Court_keypoints_data\\train\\images\\basketball_5_frame_0062_jpg.rf.8fd6031fade5f0ff79d90e8ded73b504.jpg: ignoring corrupt image/label: non-normalized or out of bounds coordinates [1.1108644 1.1108644 1.1345485]\n",
      "\u001b[34m\u001b[1mtrain: \u001b[0mD:\\AI\\yolo\\dataset\\Court_keypoints_data\\train\\images\\basketball_5_frame_0068_jpg.rf.8dfe0e2d5fc2b87c963a27965708b99e.jpg: ignoring corrupt image/label: non-normalized or out of bounds coordinates [1.088295  1.088295  1.1119791]\n",
      "\u001b[34m\u001b[1mtrain: \u001b[0mD:\\AI\\yolo\\dataset\\Court_keypoints_data\\train\\images\\basketball_5_frame_0080_jpg.rf.33d94ac54281380e3df59987bd032e25.jpg: ignoring corrupt image/label: non-normalized or out of bounds coordinates [1.0162463 1.0162463 1.0399306]\n",
      "\u001b[34m\u001b[1mtrain: \u001b[0mD:\\AI\\yolo\\dataset\\Court_keypoints_data\\train\\images\\basketball_5_frame_0100_jpg.rf.a009c4ec7f514312eab181150d1200d7.jpg: ignoring corrupt image/label: non-normalized or out of bounds coordinates [1.157118  1.1180555]\n",
      "\u001b[34m\u001b[1mtrain: \u001b[0mD:\\AI\\yolo\\dataset\\Court_keypoints_data\\train\\images\\basketball_5_frame_0106_jpg.rf.4c9a3fe7940e1df8dc0c775c7014ab43.jpg: ignoring corrupt image/label: non-normalized or out of bounds coordinates [1.1293403 1.0902778]\n",
      "\u001b[34m\u001b[1mtrain: \u001b[0mD:\\AI\\yolo\\dataset\\Court_keypoints_data\\train\\images\\basketball_5_frame_0120_jpg.rf.ee30efde9d12327cd82a3868b6b49932.jpg: ignoring corrupt image/label: non-normalized or out of bounds coordinates [1.0234375]\n",
      "\u001b[34m\u001b[1mtrain: \u001b[0mD:\\AI\\yolo\\dataset\\Court_keypoints_data\\train\\images\\basketball_6_frame_0020_jpg.rf.05cbd0f259bb74dcb345a64c5f35eb2c.jpg: ignoring corrupt image/label: non-normalized or out of bounds coordinates [1.027531 1.027531]\n",
      "\u001b[34m\u001b[1mtrain: \u001b[0mD:\\AI\\yolo\\dataset\\Court_keypoints_data\\train\\images\\basketball_6_frame_0029_jpg.rf.d8ca5d295300e7f7afeb40d23d7038e8.jpg: ignoring corrupt image/label: non-normalized or out of bounds coordinates [1.0830866 1.0830866 1.0277778]\n",
      "\u001b[34m\u001b[1mtrain: \u001b[0mD:\\AI\\yolo\\dataset\\Court_keypoints_data\\train\\images\\basketball_6_frame_0036_jpg.rf.00e7415d22b901462726b90e9eb30e72.jpg: ignoring corrupt image/label: non-normalized or out of bounds coordinates [1.150795  1.150795  1.0954862]\n",
      "\u001b[34m\u001b[1mtrain: \u001b[0mD:\\AI\\yolo\\dataset\\Court_keypoints_data\\train\\images\\basketball_6_frame_0089_jpg.rf.19f2b3b46cbc08a1a9ed3f74140369e5.jpg: ignoring corrupt image/label: negative label values [-0.05208333 -0.07916047 -0.08442985 -0.08179516]\n",
      "\u001b[34m\u001b[1mtrain: \u001b[0mD:\\AI\\yolo\\dataset\\Court_keypoints_data\\train\\images\\basketball_6_frame_0096_jpg.rf.4d761c43a64cac6127c1cfad5365d300.jpg: ignoring corrupt image/label: negative label values [-0.05208333 -0.07916047 -0.08442985 -0.08179516]\n",
      "\u001b[34m\u001b[1mtrain: \u001b[0mD:\\AI\\yolo\\dataset\\Court_keypoints_data\\train\\images\\basketball_6_frame_0106_jpg.rf.1e748bcbacc7a7d5285c520bb056deae.jpg: ignoring corrupt image/label: negative label values [-0.01926463 -0.02453401 -0.02189932]\n",
      "\u001b[34m\u001b[1mtrain: \u001b[0mD:\\AI\\yolo\\dataset\\Court_keypoints_data\\train\\images\\basketball_7_frame_0033_jpg.rf.a3c638ab4afddd03cd10fcc5c990f9e7.jpg: ignoring corrupt image/label: negative label values [-0.00896036 -0.00633255]\n",
      "\u001b[34m\u001b[1mtrain: \u001b[0mD:\\AI\\yolo\\dataset\\Court_keypoints_data\\train\\images\\basketball_7_frame_0037_jpg.rf.9f6ac797f5fce953ef58e6ae83fae920.jpg: ignoring corrupt image/label: negative label values [-0.00896036 -0.00633255]\n",
      "\u001b[34m\u001b[1mtrain: \u001b[0mD:\\AI\\yolo\\dataset\\Court_keypoints_data\\train\\images\\basketball_8_frame_0060_jpg.rf.94c45563512361f9678f50a3edd922ad.jpg: ignoring corrupt image/label: non-normalized or out of bounds coordinates [1.0231909 1.0231909 1.0231909 1.0205562 1.0231909 1.0231909]\n",
      "\u001b[34m\u001b[1mtrain: \u001b[0mD:\\AI\\yolo\\dataset\\Court_keypoints_data\\train\\images\\basketball_8_frame_0070_jpg.rf.0f0ce2554bf37ecee7d4473994d44856.jpg: ignoring corrupt image/label: non-normalized or out of bounds coordinates [1.0396839 1.0396839 1.0396839 1.0370492 1.0396839 1.0396839]\n",
      "\u001b[34m\u001b[1mtrain: \u001b[0mD:\\AI\\yolo\\dataset\\Court_keypoints_data\\train\\images\\basketball_8_frame_0080_jpg.rf.2a30b7e050e0508d18e70f68dac867e1.jpg: ignoring corrupt image/label: non-normalized or out of bounds coordinates [1.0527048 1.0527048 1.0527048 1.05007   1.0527048 1.0527048]\n",
      "\u001b[34m\u001b[1mtrain: \u001b[0mD:\\AI\\yolo\\dataset\\Court_keypoints_data\\train\\images\\basketball_8_frame_0090_jpg.rf.9770c6ca2e89747e002c14ae8c9101c5.jpg: ignoring corrupt image/label: non-normalized or out of bounds coordinates [1.0544409 1.0544409 1.0544409 1.0518062 1.0544409 1.0544409]\n",
      "\u001b[34m\u001b[1mtrain: \u001b[0mD:\\AI\\yolo\\dataset\\Court_keypoints_data\\train\\images\\basketball_8_frame_0100_jpg.rf.52a07731127c3065b8e2d7de7a094a4c.jpg: ignoring corrupt image/label: non-normalized or out of bounds coordinates [1.0544409 1.0544409 1.0544409 1.0518062 1.0544409 1.0544409]\n",
      "\u001b[34m\u001b[1mtrain: \u001b[0mD:\\AI\\yolo\\dataset\\Court_keypoints_data\\train\\images\\basketball_8_frame_0110_jpg.rf.8e0cc5080b893531f0f3c63eb93d1849.jpg: ignoring corrupt image/label: non-normalized or out of bounds coordinates [1.0544409 1.0544409 1.0544409 1.0518062 1.0544409 1.0544409]\n",
      "\u001b[34m\u001b[1mtrain: \u001b[0mD:\\AI\\yolo\\dataset\\Court_keypoints_data\\train\\images\\basketball_8_frame_0130_jpg.rf.666669489ef37870dfcc725465a134c9.jpg: ignoring corrupt image/label: non-normalized or out of bounds coordinates [1.0544409 1.0544409 1.0544409 1.0518062 1.0544409 1.0544409]\n",
      "\u001b[34m\u001b[1mtrain: \u001b[0mD:\\AI\\yolo\\dataset\\Court_keypoints_data\\train\\images\\faasdasd2_1125_jpg.rf.1bc59a91ff6c42bf83f97b0100c62f2f.jpg: ignoring corrupt image/label: non-normalized or out of bounds coordinates [1.0688984 1.0918167 1.113606  1.113606  1.113606  1.1109712 1.113606\n",
      " 1.113606 ]\n",
      "\u001b[34m\u001b[1mtrain: \u001b[0mD:\\AI\\yolo\\dataset\\Court_keypoints_data\\train\\images\\faasdasd2_150_jpg.rf.45a6ebe5b86792d24aabcf303e776e33.jpg: ignoring corrupt image/label: negative label values [-0.00178086 -0.01798336]\n",
      "\u001b[34m\u001b[1mtrain: \u001b[0mD:\\AI\\yolo\\dataset\\Court_keypoints_data\\train\\images\\faasdasd2_1625_jpg.rf.d0311f1a028c72305cd761fed77c0671.jpg: ignoring corrupt image/label: non-normalized or out of bounds coordinates [1.0838897 1.0818144 1.106808  1.1285973 1.0586619 1.1285973 1.1285973\n",
      " 1.1259626 1.1285973 1.1285973]\n",
      "\u001b[34m\u001b[1mtrain: \u001b[0mD:\\AI\\yolo\\dataset\\Court_keypoints_data\\train\\images\\faasdasd2_1800_jpg.rf.b400a607aa77a641ad425981d5f97bbb.jpg: ignoring corrupt image/label: negative label values [-0.08520328 -0.08256868]\n",
      "\u001b[34m\u001b[1mtrain: \u001b[0mD:\\AI\\yolo\\dataset\\Court_keypoints_data\\train\\images\\faasdasd2_1850_jpg.rf.1b4aa95b9d99217b15ed4fa821108d86.jpg: ignoring corrupt image/label: negative label values [-0.03967992 -0.11618938 -0.13239187]\n",
      "\u001b[34m\u001b[1mtrain: \u001b[0mD:\\AI\\yolo\\dataset\\Court_keypoints_data\\train\\images\\faasdasd2_2050_jpg.rf.c6654f69f5b1a2bd9a12de40adbd3ad2.jpg: ignoring corrupt image/label: negative label values [-0.02074336 -0.09725282 -0.11345531]\n",
      "\u001b[34m\u001b[1mtrain: \u001b[0mD:\\AI\\yolo\\dataset\\Court_keypoints_data\\train\\images\\faasdasd2_2075_jpg.rf.dd9ffe37f831ab291839c8130d2f6c50.jpg: ignoring corrupt image/label: negative label values [-0.0475443 -0.0637468]\n",
      "\u001b[34m\u001b[1mtrain: \u001b[0mD:\\AI\\yolo\\dataset\\Court_keypoints_data\\train\\images\\faasdasd2_2375_jpg.rf.76f945f29deb37b33d35a3c661f49516.jpg: ignoring corrupt image/label: non-normalized or out of bounds coordinates [1.0373375 1.0841615 1.0602556 1.082045  1.061009  1.082045  1.082045\n",
      " 1.0794103 1.082045  1.082045 ]\n",
      "\u001b[34m\u001b[1mtrain: \u001b[0mD:\\AI\\yolo\\dataset\\Court_keypoints_data\\train\\images\\faasdasd2_2675_jpg.rf.b26784dc82efac9e744990300f0af7dd.jpg: ignoring corrupt image/label: negative label values [-0.03491992 -0.05112242]\n",
      "\u001b[34m\u001b[1mtrain: \u001b[0mD:\\AI\\yolo\\dataset\\Court_keypoints_data\\train\\images\\faasdasd2_2775_jpg.rf.828fe061a33309e9bb4b601e1b2dfd9b.jpg: ignoring corrupt image/label: non-normalized or out of bounds coordinates [1.1399106 1.0102769 1.1628288 1.184618  1.184618  1.184618  1.1819834\n",
      " 1.184618  1.184618 ]\n",
      "\u001b[34m\u001b[1mtrain: \u001b[0mD:\\AI\\yolo\\dataset\\Court_keypoints_data\\train\\images\\videoplayback_1_3_frame_0176_jpg.rf.798878fc06f788a18777a4a59c532a5c.jpg: ignoring corrupt image/label: negative label values [-0.02028242 -0.02416445 -0.02028242 -0.01898234 -0.02416445 -0.02157336]\n",
      "\u001b[34m\u001b[1mtrain: \u001b[0mD:\\AI\\yolo\\dataset\\Court_keypoints_data\\train\\images\\videoplayback_3_1_frame_0373_jpg.rf.bd155eeb3352e7f09455b2dab118f38f.jpg: ignoring corrupt image/label: negative label values [-0.02114151 -0.02508323 -0.02114151 -0.01982146 -0.02508323 -0.02245234]\n",
      "\u001b[34m\u001b[1mtrain: \u001b[0mD:\\AI\\yolo\\dataset\\Court_keypoints_data\\train\\images\\videoplayback_3_1_frame_0818_jpg.rf.57e7ea4e951a5c2d128782e3c155f20c.jpg: ignoring corrupt image/label: negative label values [-0.00714687 -0.03925864]\n",
      "\u001b[34m\u001b[1mtrain: \u001b[0mD:\\AI\\yolo\\dataset\\Court_keypoints_data\\train\\images\\videoplayback_3_1_frame_0902_jpg.rf.ef1cc4d6d36e27c09ae465b948b11bdd.jpg: ignoring corrupt image/label: non-normalized or out of bounds coordinates [1.0073014 1.0073014 1.0073014 1.0046705 1.0073014 1.0073014]\n",
      "\u001b[34m\u001b[1mtrain: \u001b[0mD:\\AI\\yolo\\dataset\\Court_keypoints_data\\train\\images\\videoplayback_3_1_frame_0980_jpg.rf.20d7e74e9019454d47a35ecd81b0f357.jpg: ignoring corrupt image/label: non-normalized or out of bounds coordinates [1.0036273 1.0036273 1.0036273 1.0009965 1.0036273 1.0036273]\n",
      "\u001b[34m\u001b[1mtrain: \u001b[0mD:\\AI\\yolo\\dataset\\Court_keypoints_data\\train\\images\\videoplayback_3_1_frame_1195_jpg.rf.94f53a79a01c263a0fdba83717555587.jpg: ignoring corrupt image/label: non-normalized or out of bounds coordinates [1.0523965 1.0523965 1.0523965 1.0497656 1.0523965 1.0523965]\n",
      "\u001b[34m\u001b[1mtrain: \u001b[0mD:\\AI\\yolo\\dataset\\Court_keypoints_data\\train\\images\\videoplayback_3_1_frame_1328_jpg.rf.b4d37907090e9063b5d3cd47ee371d48.jpg: ignoring corrupt image/label: non-normalized or out of bounds coordinates [1.0050632]\n",
      "\u001b[34m\u001b[1mtrain: \u001b[0mD:\\AI\\yolo\\dataset\\Court_keypoints_data\\train\\images\\videoplayback_3_1_frame_2013_jpg.rf.231513b10edb2521822fe3a40a5b1717.jpg: ignoring corrupt image/label: non-normalized or out of bounds coordinates [1.0576113 1.055907 ]\n",
      "\u001b[34m\u001b[1mtrain: \u001b[0mD:\\AI\\yolo\\dataset\\Court_keypoints_data\\train\\images\\videoplayback_3_1_frame_2091_jpg.rf.76fd1faeab8689420a2a3a10f4115afc.jpg: ignoring corrupt image/label: non-normalized or out of bounds coordinates [1.0469463 1.0469463 1.0469463 1.0443153 1.0469463 1.0469463]\n",
      "\u001b[34m\u001b[1mtrain: \u001b[0mD:\\AI\\yolo\\dataset\\Court_keypoints_data\\train\\images\\videoplayback_3_1_frame_2175_jpg.rf.af36042256866b2fea062b8c27b90222.jpg: ignoring corrupt image/label: non-normalized or out of bounds coordinates [1.0280902 1.0176795 1.0335584 1.0176795 1.0176795 1.0150486 1.0176795\n",
      " 1.0176795]\n",
      "\u001b[34m\u001b[1mtrain: \u001b[0mD:\\AI\\yolo\\dataset\\Court_keypoints_data\\train\\images\\videoplayback_3_1_frame_2253_jpg.rf.743b4b6c7f4b426b943dd6e2d5e30096.jpg: ignoring corrupt image/label: negative label values [-0.02037234 -0.05248411]\n",
      "\u001b[34m\u001b[1mtrain: \u001b[0mD:\\AI\\yolo\\dataset\\Court_keypoints_data\\train\\images\\videoplayback_3_1_frame_2458_jpg.rf.5c18f2164e3b214ddc9efca8ca87eeb7.jpg: ignoring corrupt image/label: non-normalized or out of bounds coordinates [1.01272  1.01272  1.01272  1.010089 1.01272  1.01272 ]\n",
      "\u001b[34m\u001b[1mtrain: \u001b[0mD:\\AI\\yolo\\dataset\\Court_keypoints_data\\train\\images\\videoplayback_3_1_frame_2620_jpg.rf.0068c260bc363b787f34400b151fa948.jpg: ignoring corrupt image/label: non-normalized or out of bounds coordinates [1.0517335 1.0500292]\n",
      "\u001b[34m\u001b[1mtrain: \u001b[0mD:\\AI\\yolo\\dataset\\Court_keypoints_data\\train\\images\\videoplayback_3_1_frame_2744_jpg.rf.549521d5cb394a4cd1b113be59a84050.jpg: ignoring corrupt image/label: negative label values [-0.02348167 -0.02742339 -0.02348167 -0.02216161 -0.02742339 -0.0247925 ]\n",
      "\u001b[34m\u001b[1mtrain: \u001b[0mD:\\AI\\yolo\\dataset\\Court_keypoints_data\\train\\images\\videoplayback_3_1_frame_2828_jpg.rf.4e94b40aa01f9f12f3adcba06ffcdb0c.jpg: ignoring corrupt image/label: non-normalized or out of bounds coordinates [1.0267521 1.0250478]\n",
      "\u001b[34m\u001b[1mtrain: \u001b[0mD:\\AI\\yolo\\dataset\\Court_keypoints_data\\train\\images\\videoplayback_4_2_frame_0949_jpg.rf.50c6d78e7fc67785c088f64e15142188.jpg: ignoring corrupt image/label: negative label values [-0.13186984 -0.13553484 -0.13186984 -0.1306425  -0.13553484 -0.13308868]\n",
      "\u001b[34m\u001b[1mtrain: \u001b[0mD:\\AI\\yolo\\dataset\\Court_keypoints_data\\train\\images\\videoplayback_5_2_frame_0004_jpg.rf.3b39ffd875034bd5d3d6be7685871c75.jpg: ignoring corrupt image/label: non-normalized or out of bounds coordinates [1.04148]\n",
      "\u001b[34m\u001b[1mtrain: \u001b[0mD:\\AI\\yolo\\dataset\\Court_keypoints_data\\train\\images\\videoplayback_5_2_frame_0014_jpg.rf.36bd87fb457f06e68d9d1259a53419be.jpg: ignoring corrupt image/label: non-normalized or out of bounds coordinates [1.0083408]\n",
      "\u001b[34m\u001b[1mtrain: \u001b[0mD:\\AI\\yolo\\dataset\\Court_keypoints_data\\train\\images\\videoplayback_5_3_frame_0010_jpg.rf.6db6b2b8bcfc25991e4f04184beeb4ee.jpg: ignoring corrupt image/label: negative label values [-0.07528367 -0.07834211 -0.07528367 -0.07396437 -0.07922281 -0.07659359]\n",
      "\u001b[34m\u001b[1mtrain: \u001b[0mD:\\AI\\yolo\\dataset\\Court_keypoints_data\\train\\images\\videoplayback_5_3_frame_0028_jpg.rf.d5e05e68a2cf1b6b65858ebcb98e9fac.jpg: ignoring corrupt image/label: negative label values [-0.12233438 -0.12539281 -0.12233438 -0.12101508 -0.12627351 -0.1236443 ]\n",
      "\u001b[34m\u001b[1mtrain: \u001b[0mD:\\AI\\yolo\\dataset\\Court_keypoints_data\\train\\images\\videoplayback_5_3_frame_0060_jpg.rf.df56369fe8553eea967ffedeaabf31e3.jpg: ignoring corrupt image/label: negative label values [-0.1041868  -0.10724524 -0.1041868  -0.1028675  -0.10812594 -0.10549672]\n",
      "\u001b[34m\u001b[1mtrain: \u001b[0mD:\\AI\\yolo\\dataset\\Court_keypoints_data\\train\\images\\videoplayback_5_3_frame_0078_jpg.rf.9d5968d67e91af15c3a08221cd985fcd.jpg: ignoring corrupt image/label: negative label values [-0.10813195 -0.11119039 -0.10813195 -0.10681266 -0.1120711  -0.10944188]\n",
      "\u001b[34m\u001b[1mtrain: \u001b[0mD:\\AI\\yolo\\dataset\\Court_keypoints_data\\train\\images\\videoplayback_5_3_frame_0098_jpg.rf.921848e2c232c2f581d31afc734081d2.jpg: ignoring corrupt image/label: negative label values [-0.08288313 -0.08594156 -0.08288313 -0.08156383 -0.08682226 -0.08419304]\n",
      "\u001b[34m\u001b[1mtrain: \u001b[0mD:\\AI\\yolo\\dataset\\Court_keypoints_data\\train\\images\\videoplayback_5_3_frame_0110_jpg.rf.5668adb686bcf9e71208875c637455c1.jpg: ignoring corrupt image/label: negative label values [-0.08475187 -0.08781032 -0.08475187 -0.08343258 -0.08869102 -0.0860618 ]\n",
      "\u001b[34m\u001b[1mtrain: \u001b[0mD:\\AI\\yolo\\dataset\\Court_keypoints_data\\train\\images\\videoplayback_5_3_frame_0160_jpg.rf.a74ac7eedb10183e5e90cf413d1506fe.jpg: ignoring corrupt image/label: non-normalized or out of bounds coordinates [1.0406729 1.0388898]\n",
      "\u001b[34m\u001b[1mtrain: \u001b[0mD:\\AI\\yolo\\dataset\\Court_keypoints_data\\train\\images\\videoplayback_5_3_frame_0178_jpg.rf.d82726debf7a713e36439b30a664afc3.jpg: ignoring corrupt image/label: non-normalized or out of bounds coordinates [1.0350621 1.033279 ]\n",
      "\u001b[34m\u001b[1mtrain: \u001b[0mD:\\AI\\yolo\\dataset\\Court_keypoints_data\\train\\images\\videoplayback_5_3_frame_0198_jpg.rf.250241c243bdf1fce2be0bcd40bb1a86.jpg: ignoring corrupt image/label: non-normalized or out of bounds coordinates [1.0294515 1.0276684]\n",
      "\u001b[34m\u001b[1mtrain: \u001b[0mD:\\AI\\yolo\\dataset\\Court_keypoints_data\\train\\images\\videoplayback_5_3_frame_0210_jpg.rf.ab9ad38af90e79b02a1eba2b48832e79.jpg: ignoring corrupt image/label: non-normalized or out of bounds coordinates [1.0308542 1.029071 ]\n",
      "\u001b[34m\u001b[1mtrain: \u001b[0mD:\\AI\\yolo\\dataset\\Court_keypoints_data\\train\\images\\videoplayback_5_3_frame_0228_jpg.rf.ae927bd3c78f412eff09ff71823e5dc4.jpg: ignoring corrupt image/label: non-normalized or out of bounds coordinates [1.0196325 1.0178493]\n",
      "\u001b[34m\u001b[1mtrain: \u001b[0mD:\\AI\\yolo\\dataset\\Court_keypoints_data\\train\\images\\videoplayback_5_3_frame_0248_jpg.rf.fc0e9b150f518c629daeda81a2c6cf83.jpg: ignoring corrupt image/label: negative label values [-0.12075633 -0.12381477 -0.12075633 -0.11943703 -0.12469547 -0.12206625]\n",
      "\u001b[34m\u001b[1mtrain: \u001b[0mD:\\AI\\yolo\\dataset\\Court_keypoints_data\\train\\images\\videoplayback_5_3_frame_0338_jpg.rf.86c6cc03d16507a515c1792d377b16c8.jpg: ignoring corrupt image/label: negative label values [-0.03949602 -0.0040193 ]\n",
      "\u001b[34m\u001b[1mtrain: \u001b[0mD:\\AI\\yolo\\dataset\\Court_keypoints_data\\train\\images\\videoplayback_5_3_frame_0360_jpg.rf.85ca65ecfe7fe2ddd737b2f9a07d135a.jpg: ignoring corrupt image/label: non-normalized or out of bounds coordinates [1.0079427 1.0079427 1.0079427 1.0053154 1.0079427 1.0079427]\n",
      "\u001b[34m\u001b[1mtrain: \u001b[0mD:\\AI\\yolo\\dataset\\Court_keypoints_data\\train\\images\\videoplayback_5_3_frame_0388_jpg.rf.02ae86e01af9c5889d7c4aad90e5fc63.jpg: ignoring corrupt image/label: non-normalized or out of bounds coordinates [1.0740328 1.0740328 1.0740328 1.0714054 1.0740328 1.0740328]\n",
      "\u001b[34m\u001b[1mtrain: \u001b[0mD:\\AI\\yolo\\dataset\\Court_keypoints_data\\train\\images\\videoplayback_5_3_frame_0400_jpg.rf.e6f5455bab461f5d9b488814b90422fc.jpg: ignoring corrupt image/label: non-normalized or out of bounds coordinates [1.0931573 1.0931573 1.0931573 1.0905299 1.0931573 1.0931573]\n",
      "\u001b[34m\u001b[1mtrain: \u001b[0mD:\\AI\\yolo\\dataset\\Court_keypoints_data\\train\\images\\videoplayback_5_3_frame_0420_jpg.rf.91011234ae890a5fc66936049e023dec.jpg: ignoring corrupt image/label: non-normalized or out of bounds coordinates [1.1057817 1.1057817 1.1057817 1.1031543 1.1057817 1.1057817]\n",
      "\u001b[34m\u001b[1mtrain: \u001b[0mD:\\AI\\yolo\\dataset\\Court_keypoints_data\\train\\images\\videoplayback_6_4_frame_0028_jpg.rf.f2b7aaa990b7ada08071402d89f4318a.jpg: ignoring corrupt image/label: negative label values [-0.02507281 -0.02900359 -0.02507281 -0.02375641 -0.02900359 -0.02638\n",
      " -0.01522016 -0.02153234]\n",
      "\u001b[34m\u001b[1mtrain: \u001b[0mD:\\AI\\yolo\\dataset\\Court_keypoints_data\\train\\images\\videoplayback_6_4_frame_0044_jpg.rf.70409b5028b6dc5e62c98d502d762365.jpg: ignoring corrupt image/label: negative label values [-0.10713125 -0.11106203 -0.10713125 -0.10581484 -0.11106203 -0.10843844\n",
      " -0.09727859 -0.10437969]\n",
      "\u001b[34m\u001b[1mtrain: \u001b[0mD:\\AI\\yolo\\dataset\\Court_keypoints_data\\train\\images\\videoplayback_6_4_frame_0084_jpg.rf.dce554d8c55576a9405d38a7f630d877.jpg: ignoring corrupt image/label: negative label values [-0.08740578 -0.09133656 -0.08740578 -0.08608937 -0.09133656 -0.08871297\n",
      " -0.07755312 -0.08465422]\n",
      "\u001b[34m\u001b[1mtrain: \u001b[0mD:\\AI\\yolo\\dataset\\Court_keypoints_data\\train\\images\\videoplayback_6_4_frame_0108_jpg.rf.31febc2aa23c3bec1c914f9c7968d8b9.jpg: ignoring corrupt image/label: non-normalized or out of bounds coordinates [1.0144558]\n",
      "\u001b[34m\u001b[1mtrain: \u001b[0mD:\\AI\\yolo\\dataset\\Court_keypoints_data\\train\\images\\videoplayback_6_4_frame_0124_jpg.rf.f581c66a00ee1ef0e64ea4b6717b8dff.jpg: ignoring corrupt image/label: non-normalized or out of bounds coordinates [1.1080962]\n",
      "\u001b[34m\u001b[1mtrain: \u001b[0mD:\\AI\\yolo\\dataset\\Court_keypoints_data\\train\\images\\videoplayback_6_4_frame_0136_jpg.rf.3310aade1025c4212b9910c8699c1385.jpg: ignoring corrupt image/label: non-normalized or out of bounds coordinates [1.1571019 1.1806864 1.057852 ]\n",
      "\u001b[34m\u001b[1mtrain: \u001b[0mD:\\AI\\yolo\\dataset\\Court_keypoints_data\\train\\images\\videoplayback_6_4_frame_0216_jpg.rf.0c69488073e6e36a1e1fab793d84ca45.jpg: ignoring corrupt image/label: negative label values [-0.06917968 -0.10491578]\n",
      "\u001b[34m\u001b[1mtrain: \u001b[0mD:\\AI\\yolo\\dataset\\Court_keypoints_data\\train\\images\\videoplayback_6_4_frame_0489_jpg.rf.250243fd7a8feccdef40eb5b19a00e7f.jpg: ignoring corrupt image/label: non-normalized or out of bounds coordinates [1.0418181]\n",
      "\u001b[34m\u001b[1mtrain: \u001b[0mD:\\AI\\yolo\\dataset\\Court_keypoints_data\\train\\images\\videoplayback_6_4_frame_0505_jpg.rf.f2b06a506e650aa6b718147781fa9aa8.jpg: ignoring corrupt image/label: non-normalized or out of bounds coordinates [1.0189365]\n",
      "\u001b[34m\u001b[1mtrain: \u001b[0mD:\\AI\\yolo\\dataset\\Court_keypoints_data\\train\\images\\videoplayback_6_4_frame_0569_jpg.rf.75b76a31d0d158ec3ad92e7a4a09ec1b.jpg: ignoring corrupt image/label: non-normalized or out of bounds coordinates [1.0102572]\n",
      "\u001b[34m\u001b[1mtrain: \u001b[0mD:\\AI\\yolo\\dataset\\Court_keypoints_data\\train\\images\\videoplayback_6_4_frame_0597_jpg.rf.c0e57322abc87247842c751dde483eda.jpg: ignoring corrupt image/label: non-normalized or out of bounds coordinates [1.013765]\n",
      "\u001b[34m\u001b[1mtrain: \u001b[0mD:\\AI\\yolo\\dataset\\Court_keypoints_data\\train\\images\\videoplayback_6_4_frame_0625_jpg.rf.1edae7cdcf9146f1a37ebc8139516158.jpg: ignoring corrupt image/label: negative label values [-0.05268875 -0.05661953 -0.05268875 -0.05137235 -0.05661953 -0.05399594\n",
      " -0.04283609 -0.04993719]\n",
      "\u001b[34m\u001b[1mtrain: \u001b[0mD:\\AI\\yolo\\dataset\\Court_keypoints_data\\train\\images\\videoplayback_SabenLee_frame_10587_jpg.rf.955aa43a84396f254005009a5b1d9d71.jpg: ignoring corrupt image/label: non-normalized or out of bounds coordinates [1.0005425]\n",
      "\u001b[34m\u001b[1mtrain: \u001b[0mD:\\AI\\yolo\\dataset\\Court_keypoints_data\\train\\images\\videoplayback_SabenLee_frame_10887_jpg.rf.cb5e6a591a334c49f7583c87dedbcc81.jpg: ignoring corrupt image/label: non-normalized or out of bounds coordinates [1.1091338 1.1091338 1.1091338 1.1065617 1.1091338 1.1091338]\n",
      "\u001b[34m\u001b[1mtrain: \u001b[0mD:\\AI\\yolo\\dataset\\Court_keypoints_data\\train\\images\\videoplayback_SabenLee_frame_11805_jpg.rf.3b01b6ecbb63db956f4921e3695c85ae.jpg: ignoring corrupt image/label: non-normalized or out of bounds coordinates [1.0363933 1.0363933 1.0363933 1.0338212 1.0363933 1.0363933]\n",
      "\u001b[34m\u001b[1mtrain: \u001b[0mD:\\AI\\yolo\\dataset\\Court_keypoints_data\\train\\images\\videoplayback_SabenLee_frame_12045_jpg.rf.f51269f4a2b3d4115676735e61842f25.jpg: ignoring corrupt image/label: negative label values [-0.08955943 -0.09350682 -0.08955943 -0.08823745 -0.09350682 -0.09087214]\n",
      "\u001b[34m\u001b[1mtrain: \u001b[0mD:\\AI\\yolo\\dataset\\Court_keypoints_data\\train\\images\\videoplayback_SabenLee_frame_12246_jpg.rf.9919c9c440e9b76a0343a0a4b1c4cba5.jpg: ignoring corrupt image/label: non-normalized or out of bounds coordinates [1.0611912 1.0611912 1.0611912 1.0586191 1.0611912 1.0611912]\n",
      "\u001b[34m\u001b[1mtrain: \u001b[0mD:\\AI\\yolo\\dataset\\Court_keypoints_data\\train\\images\\videoplayback_SabenLee_frame_1242_jpg.rf.0906456246d745e91c43c5757a6d3914.jpg: ignoring corrupt image/label: negative label values [-0.00122687 -0.0050176  -0.00122687 -0.0050176  -0.00248745]\n",
      "\u001b[34m\u001b[1mtrain: \u001b[0mD:\\AI\\yolo\\dataset\\Court_keypoints_data\\train\\images\\videoplayback_SabenLee_frame_12465_jpg.rf.9f98f4fdc03b179912f93eaa1fece63b.jpg: ignoring corrupt image/label: non-normalized or out of bounds coordinates [1.0394725 1.0428953]\n",
      "\u001b[34m\u001b[1mtrain: \u001b[0mD:\\AI\\yolo\\dataset\\Court_keypoints_data\\train\\images\\videoplayback_SabenLee_frame_14151_jpg.rf.95a95607299dba45086d5ab3042cfb6a.jpg: ignoring corrupt image/label: non-normalized or out of bounds coordinates [1.0925788 1.0790802]\n",
      "\u001b[34m\u001b[1mtrain: \u001b[0mD:\\AI\\yolo\\dataset\\Court_keypoints_data\\train\\images\\videoplayback_SabenLee_frame_14391_jpg.rf.f76628faf83f4cd0a579c3d90c27bc16.jpg: ignoring corrupt image/label: negative label values [-0.02673807 -0.03068547 -0.02673807 -0.02541609 -0.03068547 -0.02805078]\n",
      "\u001b[34m\u001b[1mtrain: \u001b[0mD:\\AI\\yolo\\dataset\\Court_keypoints_data\\train\\images\\videoplayback_SabenLee_frame_14631_jpg.rf.2b426954f585af8026d776c6e594f7a1.jpg: ignoring corrupt image/label: negative label values [-0.05318927 -0.05713667 -0.05318927 -0.05186729 -0.05713667 -0.05450198]\n",
      "\u001b[34m\u001b[1mtrain: \u001b[0mD:\\AI\\yolo\\dataset\\Court_keypoints_data\\train\\images\\videoplayback_SabenLee_frame_15090_jpg.rf.06626bb1b0c4c09e0198d6bc4074fefd.jpg: ignoring corrupt image/label: non-normalized or out of bounds coordinates [1.0269934]\n",
      "\u001b[34m\u001b[1mtrain: \u001b[0mD:\\AI\\yolo\\dataset\\Court_keypoints_data\\train\\images\\videoplayback_SabenLee_frame_15330_jpg.rf.a983fe49dedc017ae7ded3ce0bb578c5.jpg: ignoring corrupt image/label: non-normalized or out of bounds coordinates [1.0421565 1.0286579]\n",
      "\u001b[34m\u001b[1mtrain: \u001b[0mD:\\AI\\yolo\\dataset\\Court_keypoints_data\\train\\images\\videoplayback_SabenLee_frame_15657_jpg.rf.0f3473f934a3c1a3e34f05668b042cfa.jpg: ignoring corrupt image/label: negative label values [-0.04657662 -0.05052401 -0.04657662 -0.04525464 -0.05052401 -0.04788932]\n",
      "\u001b[34m\u001b[1mtrain: \u001b[0mD:\\AI\\yolo\\dataset\\Court_keypoints_data\\train\\images\\videoplayback_SabenLee_frame_15897_jpg.rf.2aeeaaa18ad00208ed80c2b3e089fe47.jpg: ignoring corrupt image/label: non-normalized or out of bounds coordinates [1.0179245]\n",
      "\u001b[34m\u001b[1mtrain: \u001b[0mD:\\AI\\yolo\\dataset\\Court_keypoints_data\\train\\images\\videoplayback_SabenLee_frame_16557_jpg.rf.eae2e0632df17ec63c1cabe06ca1db81.jpg: ignoring corrupt image/label: non-normalized or out of bounds coordinates [1.0066128]\n",
      "\u001b[34m\u001b[1mtrain: \u001b[0mD:\\AI\\yolo\\dataset\\Court_keypoints_data\\train\\images\\videoplayback_SabenLee_frame_17046_jpg.rf.74ebaef1f3fbabfe5ed4c768642e4c27.jpg: ignoring corrupt image/label: non-normalized or out of bounds coordinates [1.0570351 1.0435365]\n",
      "\u001b[34m\u001b[1mtrain: \u001b[0mD:\\AI\\yolo\\dataset\\Court_keypoints_data\\train\\images\\videoplayback_SabenLee_frame_17286_jpg.rf.3196c017e4889a9b211d293a0fa4dbbe.jpg: ignoring corrupt image/label: non-normalized or out of bounds coordinates [1.0759822 1.0288407]\n",
      "\u001b[34m\u001b[1mtrain: \u001b[0mD:\\AI\\yolo\\dataset\\Court_keypoints_data\\train\\images\\videoplayback_SabenLee_frame_17511_jpg.rf.7fedd7faa0d2643f31e6fc1c0b7a141a.jpg: ignoring corrupt image/label: non-normalized or out of bounds coordinates [1.149614  1.1361153]\n",
      "\u001b[34m\u001b[1mtrain: \u001b[0mD:\\AI\\yolo\\dataset\\Court_keypoints_data\\train\\images\\videoplayback_SabenLee_frame_17751_jpg.rf.383d6fe53e42cc157997fac2a5a00fda.jpg: ignoring corrupt image/label: non-normalized or out of bounds coordinates [1.0064641]\n",
      "\u001b[34m\u001b[1mtrain: \u001b[0mD:\\AI\\yolo\\dataset\\Court_keypoints_data\\train\\images\\videoplayback_SabenLee_frame_17871_jpg.rf.b3f28ed2b835dab076af9340aac912a4.jpg: ignoring corrupt image/label: non-normalized or out of bounds coordinates [1.0107458]\n",
      "\u001b[34m\u001b[1mtrain: \u001b[0mD:\\AI\\yolo\\dataset\\Court_keypoints_data\\train\\images\\videoplayback_SabenLee_frame_3300_jpg.rf.55853a548b8e5ef7665af33e3b09a9f2.jpg: ignoring corrupt image/label: negative label values [-0.01697479]\n",
      "\u001b[34m\u001b[1mtrain: \u001b[0mD:\\AI\\yolo\\dataset\\Court_keypoints_data\\train\\images\\videoplayback_SabenLee_frame_4119_jpg.rf.7bce8987b0757a863e4830342e3afaa1.jpg: ignoring corrupt image/label: negative label values [-0.0818538  -0.12076443]\n",
      "\u001b[34m\u001b[1mtrain: \u001b[0mD:\\AI\\yolo\\dataset\\Court_keypoints_data\\train\\images\\videoplayback_SabenLee_frame_5415_jpg.rf.e93944befee57e7561a0b42cab46ce6a.jpg: ignoring corrupt image/label: negative label values [-0.02895167 -0.06786229]\n",
      "\u001b[34m\u001b[1mtrain: \u001b[0mD:\\AI\\yolo\\dataset\\Court_keypoints_data\\train\\images\\videoplayback_SabenLee_frame_5895_jpg.rf.174f1dc0ede2c2f53012cfbbfe56449b.jpg: ignoring corrupt image/label: non-normalized or out of bounds coordinates [1.0750134 1.0750134 1.0750134 1.0724667 1.0750134 1.0750134]\n",
      "\u001b[34m\u001b[1mtrain: \u001b[0mD:\\AI\\yolo\\dataset\\Court_keypoints_data\\train\\images\\videoplayback_SabenLee_frame_6807_jpg.rf.685f7106ad0d04aaceb4317b405ce0bb.jpg: ignoring corrupt image/label: non-normalized or out of bounds coordinates [1.0424085 1.0499187 1.0424085 1.0424085 1.0398619 1.0424085 1.0424085]\n",
      "\u001b[34m\u001b[1mtrain: \u001b[0mD:\\AI\\yolo\\dataset\\Court_keypoints_data\\train\\images\\videoplayback_SabenLee_frame_7386_jpg.rf.190a9911b4f53ab995c7c52e4a110c37.jpg: ignoring corrupt image/label: negative label values [-0.00120885 -0.04011948]\n",
      "\u001b[34m\u001b[1mtrain: \u001b[0mD:\\AI\\yolo\\dataset\\Court_keypoints_data\\train\\images\\videoplayback_SabenLee_frame_8676_jpg.rf.293716e88b51837e00f8eb7b7aafea2e.jpg: ignoring corrupt image/label: negative label values [-0.03194859]\n",
      "\u001b[34m\u001b[1mtrain: \u001b[0mD:\\AI\\yolo\\dataset\\Court_keypoints_data\\train\\images\\videoplayback_SabenLee_frame_8895_jpg.rf.2096b069fefe4b8bf5ea511512c174d1.jpg: ignoring corrupt image/label: non-normalized or out of bounds coordinates [1.0091156 1.0091156 1.0091156 1.0065435 1.0091156 1.0091156]\n",
      "\u001b[34m\u001b[1mtrain: \u001b[0mD:\\AI\\yolo\\dataset\\Court_keypoints_data\\train\\images\\videoplayback_SabenLee_frame_9015_jpg.rf.23a39fd6fa3bd856a3bc96aa08b81702.jpg: ignoring corrupt image/label: negative label values [-0.01646193]\n",
      "\u001b[34m\u001b[1mtrain: \u001b[0mD:\\AI\\yolo\\dataset\\Court_keypoints_data\\train\\images\\videoplayback_SabenLee_frame_9480_jpg.rf.3d4de039efaea32f84b01fca0987a9b8.jpg: ignoring corrupt image/label: negative label values [-0.01681906 -0.02076641 -0.01681906 -0.01549703 -0.02076641 -0.01813177]\n",
      "\u001b[34m\u001b[1mtrain: \u001b[0mD:\\AI\\yolo\\dataset\\Court_keypoints_data\\train\\images\\videoplayback_SabenLee_frame_9720_jpg.rf.916ede455bfda8ff492230ea7fc5689e.jpg: ignoring corrupt image/label: non-normalized or out of bounds coordinates [1.0159607 1.0089494 1.0193835 1.0089494 1.0089494 1.0063773 1.0089494\n",
      " 1.0089494]\n",
      "\u001b[34m\u001b[1mtrain: \u001b[0mD:\\AI\\yolo\\dataset\\Court_keypoints_data\\train\\images\\videoplayback_SabenLee_frame_9957_jpg.rf.9ff61217b5603a9f8932f16077a5adac.jpg: ignoring corrupt image/label: negative label values [-0.02177864 -0.02572604 -0.02177864 -0.02045667 -0.02572604 -0.02309135]\n",
      "\u001b[34m\u001b[1mtrain: \u001b[0mNew cache created: D:\\AI\\yolo\\dataset\\Court_keypoints_data\\train\\labels.cache\n"
     ]
    },
    {
     "name": "stderr",
     "output_type": "stream",
     "text": [
      "\n"
     ]
    },
    {
     "name": "stdout",
     "output_type": "stream",
     "text": [
      "\u001b[34m\u001b[1mval: \u001b[0mFast image access  (ping: 0.10.0 ms, read: 36.322.6 MB/s, size: 325.8 KB)\n"
     ]
    },
    {
     "name": "stderr",
     "output_type": "stream",
     "text": [
      "\u001b[34m\u001b[1mval: \u001b[0mScanning D:\\AI\\yolo\\dataset\\Court_keypoints_data\\valid\\labels... 222 images, 0 backgrounds, 56 corrupt: 100%|██████████| 222/222 [00:00<00:00, 342.00it/s]"
     ]
    },
    {
     "name": "stdout",
     "output_type": "stream",
     "text": [
      "\u001b[34m\u001b[1mval: \u001b[0mD:\\AI\\yolo\\dataset\\Court_keypoints_data\\valid\\images\\basketball_10_frame_0041_jpg.rf.6e5103ecebf6771e3af4349743e36a74.jpg: ignoring corrupt image/label: non-normalized or out of bounds coordinates [1.2705866 1.2705866 1.21875   1.0878472 1.0052084]\n",
      "\u001b[34m\u001b[1mval: \u001b[0mD:\\AI\\yolo\\dataset\\Court_keypoints_data\\valid\\images\\basketball_10_frame_0049_jpg.rf.64d847c281df967736c0256572a3e74f.jpg: ignoring corrupt image/label: non-normalized or out of bounds coordinates [1.215031  1.215031  1.1631944 1.0322917]\n",
      "\u001b[34m\u001b[1mval: \u001b[0mD:\\AI\\yolo\\dataset\\Court_keypoints_data\\valid\\images\\basketball_11_frame_0128_jpg.rf.41e9e3d4a029e68c1af20e2c02d955cf.jpg: ignoring corrupt image/label: non-normalized or out of bounds coordinates [1.0058297 1.0058297]\n",
      "\u001b[34m\u001b[1mval: \u001b[0mD:\\AI\\yolo\\dataset\\Court_keypoints_data\\valid\\images\\basketball_12_frame_0115_jpg.rf.f43b30880ad773946fcb1899b0d99c02.jpg: ignoring corrupt image/label: negative label values [-0.02330292 -0.12502678 -0.13826807 -0.13563588]\n",
      "\u001b[34m\u001b[1mval: \u001b[0mD:\\AI\\yolo\\dataset\\Court_keypoints_data\\valid\\images\\basketball_12_frame_0123_jpg.rf.326ef120701533d7a3a533f382228149.jpg: ignoring corrupt image/label: negative label values [-0.07988787 -0.09312917 -0.09049698]\n",
      "\u001b[34m\u001b[1mval: \u001b[0mD:\\AI\\yolo\\dataset\\Court_keypoints_data\\valid\\images\\basketball_2_11_27_png.rf.0d03385e946b56bbfa88866b500be9e4.jpg: ignoring corrupt image/label: negative label values [-0.04063797 -0.03800336]\n",
      "\u001b[34m\u001b[1mval: \u001b[0mD:\\AI\\yolo\\dataset\\Court_keypoints_data\\valid\\images\\basketball_2_13_6_png.rf.db955cd4ef01528b40c6a5ad37adfc3f.jpg: ignoring corrupt image/label: negative label values [-0.0262525  -0.03151273 -0.02888266]\n",
      "\u001b[34m\u001b[1mval: \u001b[0mD:\\AI\\yolo\\dataset\\Court_keypoints_data\\valid\\images\\basketball_2_14_13_png.rf.a906e9b9b33f5ade3236055060d86546.jpg: ignoring corrupt image/label: non-normalized or out of bounds coordinates [1.0198116 1.0198116 1.0198116 1.017177  1.0198116 1.0198116]\n",
      "\u001b[34m\u001b[1mval: \u001b[0mD:\\AI\\yolo\\dataset\\Court_keypoints_data\\valid\\images\\basketball_2_14_22_png.rf.2c2e1922595a9692f3a07a6fa22fa70d.jpg: ignoring corrupt image/label: non-normalized or out of bounds coordinates [1.0198116 1.0198116 1.0198116 1.017177  1.0198116 1.0198116]\n",
      "\u001b[34m\u001b[1mval: \u001b[0mD:\\AI\\yolo\\dataset\\Court_keypoints_data\\valid\\images\\basketball_2_14_23_png.rf.d8e7c86dc7aa03c089b38c4633e39467.jpg: ignoring corrupt image/label: non-normalized or out of bounds coordinates [1.0198116 1.0198116 1.0198116 1.017177  1.0198116 1.0198116]\n",
      "\u001b[34m\u001b[1mval: \u001b[0mD:\\AI\\yolo\\dataset\\Court_keypoints_data\\valid\\images\\basketball_2_14_25_png.rf.846885326756742ef6621d37ae4c44d8.jpg: ignoring corrupt image/label: non-normalized or out of bounds coordinates [1.0198116 1.0198116 1.0198116 1.017177  1.0198116 1.0198116]\n",
      "\u001b[34m\u001b[1mval: \u001b[0mD:\\AI\\yolo\\dataset\\Court_keypoints_data\\valid\\images\\basketball_2_1_10_png.rf.a60fd81618932c5c8d31bedcc9b6d15a.jpg: ignoring corrupt image/label: negative label values [-0.04016617 -0.18242078 -0.19150445]\n",
      "\u001b[34m\u001b[1mval: \u001b[0mD:\\AI\\yolo\\dataset\\Court_keypoints_data\\valid\\images\\basketball_2_1_17_png.rf.19600098a016113382c89fafc84d3d60.jpg: ignoring corrupt image/label: negative label values [-0.07178945 -0.0757368  -0.07178945 -0.0704675  -0.0757368  -0.07240062]\n",
      "\u001b[34m\u001b[1mval: \u001b[0mD:\\AI\\yolo\\dataset\\Court_keypoints_data\\valid\\images\\basketball_2_1_24_png.rf.9928ab3abc9c42cd0ab9ede03764ca54.jpg: ignoring corrupt image/label: negative label values [-0.00396461 -0.00790656 -0.00396461 -0.00264437 -0.00831125 -0.00831125]\n",
      "\u001b[34m\u001b[1mval: \u001b[0mD:\\AI\\yolo\\dataset\\Court_keypoints_data\\valid\\images\\basketball_2_1_30_png.rf.c017b5fd46b4623984a015e1cc12fa5a.jpg: ignoring corrupt image/label: non-normalized or out of bounds coordinates [1.0053488]\n",
      "\u001b[34m\u001b[1mval: \u001b[0mD:\\AI\\yolo\\dataset\\Court_keypoints_data\\valid\\images\\basketball_2_1_7_png.rf.2034849e66cdc940963759075a717397.jpg: ignoring corrupt image/label: negative label values [-0.05812398 -0.04627484]\n",
      "\u001b[34m\u001b[1mval: \u001b[0mD:\\AI\\yolo\\dataset\\Court_keypoints_data\\valid\\images\\basketball_2_2_11_png.rf.377b67b0fd3607c96293a7e37f279d0c.jpg: ignoring corrupt image/label: negative label values [-0.01871133 -0.02172422 -0.01871133 -0.01738938 -0.02265867 -0.02002406]\n",
      "\u001b[34m\u001b[1mval: \u001b[0mD:\\AI\\yolo\\dataset\\Court_keypoints_data\\valid\\images\\basketball_2_2_17_png.rf.620e64d4ec355b06be0d80276e2984ea.jpg: ignoring corrupt image/label: negative label values [-0.22170688 -0.22471976 -0.22170688 -0.22038493 -0.22565421 -0.22301961]\n",
      "\u001b[34m\u001b[1mval: \u001b[0mD:\\AI\\yolo\\dataset\\Court_keypoints_data\\valid\\images\\basketball_2_2_7_png.rf.9a06716df5ac489332a9df9e9bb46579.jpg: ignoring corrupt image/label: non-normalized or out of bounds coordinates [1.1712084 1.1712084 1.1679335]\n",
      "\u001b[34m\u001b[1mval: \u001b[0mD:\\AI\\yolo\\dataset\\Court_keypoints_data\\valid\\images\\basketball_2_3_11_png.rf.a9028785eba5da97ee0eabd13f6f0a34.jpg: ignoring corrupt image/label: negative label values [-0.00997055]\n",
      "\u001b[34m\u001b[1mval: \u001b[0mD:\\AI\\yolo\\dataset\\Court_keypoints_data\\valid\\images\\basketball_2_4_16_png.rf.32f7965fbb7a41387c7840c08803dc62.jpg: ignoring corrupt image/label: non-normalized or out of bounds coordinates [1.2761828 1.2761828 1.2761828 1.2735518 1.2761828 1.2768208 1.2089635\n",
      " 1.2981248]\n",
      "\u001b[34m\u001b[1mval: \u001b[0mD:\\AI\\yolo\\dataset\\Court_keypoints_data\\valid\\images\\basketball_2_4_25_png.rf.8207f835a7915053f3d86bee31eb4553.jpg: ignoring corrupt image/label: non-normalized or out of bounds coordinates [1.0276932 1.0256406 1.1403171 1.2468374 1.0277919 1.2485496 1.2485496\n",
      " 1.2459166 1.2485496 1.2485496]\n",
      "\u001b[34m\u001b[1mval: \u001b[0mD:\\AI\\yolo\\dataset\\Court_keypoints_data\\valid\\images\\basketball_2_5_13_png.rf.eb884a6490cc8c3d0e867286ffcadcc6.jpg: ignoring corrupt image/label: non-normalized or out of bounds coordinates [1.0266513 1.0796307 1.0414333]\n",
      "\u001b[34m\u001b[1mval: \u001b[0mD:\\AI\\yolo\\dataset\\Court_keypoints_data\\valid\\images\\basketball_2_5_14_png.rf.2d68b42ddf36b58e53a8cbd50222fc52.jpg: ignoring corrupt image/label: non-normalized or out of bounds coordinates [1.0406781 1.0488582 1.0106609]\n",
      "\u001b[34m\u001b[1mval: \u001b[0mD:\\AI\\yolo\\dataset\\Court_keypoints_data\\valid\\images\\basketball_2_5_15_png.rf.12ca6abebc99884f070575957a9048cc.jpg: ignoring corrupt image/label: non-normalized or out of bounds coordinates [1.0476917 1.0172967]\n",
      "\u001b[34m\u001b[1mval: \u001b[0mD:\\AI\\yolo\\dataset\\Court_keypoints_data\\valid\\images\\basketball_2_7_14_png.rf.50812cd94ee0c1fa15354adcb1aa8ee2.jpg: ignoring corrupt image/label: non-normalized or out of bounds coordinates [1.016606  1.016606  1.016606  1.0139768 1.016606  1.016606 ]\n",
      "\u001b[34m\u001b[1mval: \u001b[0mD:\\AI\\yolo\\dataset\\Court_keypoints_data\\valid\\images\\basketball_2_7_23_png.rf.cc5c15f77fb88d9a40eba93981473ff8.jpg: ignoring corrupt image/label: non-normalized or out of bounds coordinates [1.0006757 1.0919664 1.0896841 1.1044775 1.0942488 1.1044775 1.1044775\n",
      " 1.1018482 1.1044775 1.1044775]\n",
      "\u001b[34m\u001b[1mval: \u001b[0mD:\\AI\\yolo\\dataset\\Court_keypoints_data\\valid\\images\\basketball_2_7_27_png.rf.004404efe401f7f3dbff19d8e62fb3bc.jpg: ignoring corrupt image/label: non-normalized or out of bounds coordinates [1.0877583 1.0854762 1.1594185 1.0900407 1.1594185 1.1594185 1.1567892\n",
      " 1.1594185 1.1594185]\n",
      "\u001b[34m\u001b[1mval: \u001b[0mD:\\AI\\yolo\\dataset\\Court_keypoints_data\\valid\\images\\basketball_2_7_2_png.rf.153c5cd81e469e3d3d9273dff23f9349.jpg: ignoring corrupt image/label: negative label values [-0.12934093 -0.13811187 -0.13548265]\n",
      "\u001b[34m\u001b[1mval: \u001b[0mD:\\AI\\yolo\\dataset\\Court_keypoints_data\\valid\\images\\basketball_2_9_20_png.rf.09cb474844833f005d36fe3c7bf7afb8.jpg: ignoring corrupt image/label: non-normalized or out of bounds coordinates [1.023417  1.023417  1.023417  1.0208074 1.023417  1.023417 ]\n",
      "\u001b[34m\u001b[1mval: \u001b[0mD:\\AI\\yolo\\dataset\\Court_keypoints_data\\valid\\images\\basketball_2_9_26_png.rf.23cf3206e194a0bf73de8971e5b66cdd.jpg: ignoring corrupt image/label: non-normalized or out of bounds coordinates [1.023417  1.023417  1.023417  1.0208074 1.023417  1.023417 ]\n",
      "\u001b[34m\u001b[1mval: \u001b[0mD:\\AI\\yolo\\dataset\\Court_keypoints_data\\valid\\images\\basketball_3_3_19_png.rf.55ad0fa8f550a2d92cc7314fbae99a71.jpg: ignoring corrupt image/label: negative label values [-0.00207641]\n",
      "\u001b[34m\u001b[1mval: \u001b[0mD:\\AI\\yolo\\dataset\\Court_keypoints_data\\valid\\images\\basketball_3_3_20_png.rf.00c977375269a032514a3ba044aed807.jpg: ignoring corrupt image/label: negative label values [-0.00207641]\n",
      "\u001b[34m\u001b[1mval: \u001b[0mD:\\AI\\yolo\\dataset\\Court_keypoints_data\\valid\\images\\basketball_3_frame_0099_jpg.rf.4c7199c9ad390d657faf711cfd26f634.jpg: ignoring corrupt image/label: non-normalized or out of bounds coordinates [1.0112847]\n",
      "\u001b[34m\u001b[1mval: \u001b[0mD:\\AI\\yolo\\dataset\\Court_keypoints_data\\valid\\images\\basketball_4_frame_0000_jpg.rf.dceca16f1edd663a361fa171b0754674.jpg: ignoring corrupt image/label: non-normalized or out of bounds coordinates [1.0694444 1.0182291]\n",
      "\u001b[34m\u001b[1mval: \u001b[0mD:\\AI\\yolo\\dataset\\Court_keypoints_data\\valid\\images\\basketball_4_frame_0008_jpg.rf.ad3625c2d6252f326fb2ac2a9179ebd2.jpg: ignoring corrupt image/label: non-normalized or out of bounds coordinates [1.0520834 1.0008681]\n",
      "\u001b[34m\u001b[1mval: \u001b[0mD:\\AI\\yolo\\dataset\\Court_keypoints_data\\valid\\images\\basketball_5_frame_0022_jpg.rf.de5583214859869e004476f978e87e6b.jpg: ignoring corrupt image/label: non-normalized or out of bounds coordinates [1.2445449 1.2445449 1.2682291 1.1328125 1.0729166 1.0529513]\n",
      "\u001b[34m\u001b[1mval: \u001b[0mD:\\AI\\yolo\\dataset\\Court_keypoints_data\\valid\\images\\basketball_6_frame_0043_jpg.rf.0577c0dd8620e519f0a8ce9e4d429b5c.jpg: ignoring corrupt image/label: non-normalized or out of bounds coordinates [1.2228435 1.2228435 1.1675347 1.0347222]\n",
      "\u001b[34m\u001b[1mval: \u001b[0mD:\\AI\\yolo\\dataset\\Court_keypoints_data\\valid\\images\\basketball_8_frame_0120_jpg.rf.36992e80164cc712f9e001279255cb8c.jpg: ignoring corrupt image/label: non-normalized or out of bounds coordinates [1.0544409 1.0544409 1.0544409 1.0518062 1.0544409 1.0544409]\n",
      "\u001b[34m\u001b[1mval: \u001b[0mD:\\AI\\yolo\\dataset\\Court_keypoints_data\\valid\\images\\basketball_8_frame_0140_jpg.rf.ae649436f51ca019b92727e4d1dc8259.jpg: ignoring corrupt image/label: non-normalized or out of bounds coordinates [1.054441  1.054441  1.054441  1.0518062 1.054441  1.054441 ]\n",
      "\u001b[34m\u001b[1mval: \u001b[0mD:\\AI\\yolo\\dataset\\Court_keypoints_data\\valid\\images\\basketball_9_frame_0008_jpg.rf.475949e6360b5f5c65a893d7827fdf09.jpg: ignoring corrupt image/label: non-normalized or out of bounds coordinates [1.0163081 1.0163081 1.0163081 1.0136802 1.0163081 1.0163081]\n",
      "\u001b[34m\u001b[1mval: \u001b[0mD:\\AI\\yolo\\dataset\\Court_keypoints_data\\valid\\images\\basketball_9_frame_0012_jpg.rf.49bbc427d33427bacea4b4515294c260.jpg: ignoring corrupt image/label: non-normalized or out of bounds coordinates [1.0414816 1.0414816 1.0414816 1.0388538 1.0414816 1.0414816]\n",
      "\u001b[34m\u001b[1mval: \u001b[0mD:\\AI\\yolo\\dataset\\Court_keypoints_data\\valid\\images\\faasdasd2_275_jpg.rf.2d0ece1037c1f0213592f781e2f9075c.jpg: ignoring corrupt image/label: negative label values [-0.01282719 -0.02902969]\n",
      "\u001b[34m\u001b[1mval: \u001b[0mD:\\AI\\yolo\\dataset\\Court_keypoints_data\\valid\\images\\videoplayback_4_2_frame_0620_jpg.rf.26150adfd02576fb98d0418bd2a02e6e.jpg: ignoring corrupt image/label: non-normalized or out of bounds coordinates [1.118391  1.118391  1.0645539]\n",
      "\u001b[34m\u001b[1mval: \u001b[0mD:\\AI\\yolo\\dataset\\Court_keypoints_data\\valid\\images\\videoplayback_4_2_frame_0796_jpg.rf.7cbf75557a323fb33def500c17288269.jpg: ignoring corrupt image/label: negative label values [-0.03718703 -0.04085203 -0.03718703 -0.03595969 -0.04085203 -0.03840586]\n",
      "\u001b[34m\u001b[1mval: \u001b[0mD:\\AI\\yolo\\dataset\\Court_keypoints_data\\valid\\images\\videoplayback_5_1_frame_0096_jpg.rf.9fcf80a879aa8570a0e5198ce3a175ec.jpg: ignoring corrupt image/label: negative label values [-0.00362664]\n",
      "\u001b[34m\u001b[1mval: \u001b[0mD:\\AI\\yolo\\dataset\\Court_keypoints_data\\valid\\images\\videoplayback_5_2_frame_0000_jpg.rf.334ee74d1c2bacb6035fc4e3b23cffc4.jpg: ignoring corrupt image/label: non-normalized or out of bounds coordinates [1.0572517]\n",
      "\u001b[34m\u001b[1mval: \u001b[0mD:\\AI\\yolo\\dataset\\Court_keypoints_data\\valid\\images\\videoplayback_5_3_frame_0048_jpg.rf.b099cf390c1a570efc0f9e6541dbe1da.jpg: ignoring corrupt image/label: negative label values [-0.11444414 -0.11750258 -0.11444414 -0.11312485 -0.11838328 -0.11575406]\n",
      "\u001b[34m\u001b[1mval: \u001b[0mD:\\AI\\yolo\\dataset\\Court_keypoints_data\\valid\\images\\videoplayback_5_3_frame_0128_jpg.rf.b5bc991ce033bec5bedeeaaec242692e.jpg: ignoring corrupt image/label: negative label values [-0.07528367 -0.07834211 -0.07528367 -0.07396437 -0.07922281 -0.07659359]\n",
      "\u001b[34m\u001b[1mval: \u001b[0mD:\\AI\\yolo\\dataset\\Court_keypoints_data\\valid\\images\\videoplayback_5_3_frame_0438_jpg.rf.1d67e5fac60c697ba56345bee0711b40.jpg: ignoring corrupt image/label: non-normalized or out of bounds coordinates [1.0986804 1.0986804 1.0986804 1.096053  1.0986804 1.0986804]\n",
      "\u001b[34m\u001b[1mval: \u001b[0mD:\\AI\\yolo\\dataset\\Court_keypoints_data\\valid\\images\\videoplayback_6_4_frame_0068_jpg.rf.9821aa780f9be6a1d61473f5b702d28a.jpg: ignoring corrupt image/label: negative label values [-0.13632531 -0.14025609 -0.13632531 -0.1350089  -0.14025609 -0.1376325\n",
      " -0.12647265 -0.13357376]\n",
      "\u001b[34m\u001b[1mval: \u001b[0mD:\\AI\\yolo\\dataset\\Court_keypoints_data\\valid\\images\\videoplayback_6_4_frame_0449_jpg.rf.f210c0cbfd87999f1fbb740905e06b49.jpg: ignoring corrupt image/label: non-normalized or out of bounds coordinates [1.197256  1.0744215]\n",
      "\u001b[34m\u001b[1mval: \u001b[0mD:\\AI\\yolo\\dataset\\Court_keypoints_data\\valid\\images\\videoplayback_SabenLee_frame_11346_jpg.rf.db7ccff28cbf49c4489b661cf6913b98.jpg: ignoring corrupt image/label: negative label values [-0.03216719]\n",
      "\u001b[34m\u001b[1mval: \u001b[0mD:\\AI\\yolo\\dataset\\Court_keypoints_data\\valid\\images\\videoplayback_SabenLee_frame_12705_jpg.rf.aa0b00c2714aa266c75326c6bd33ff7e.jpg: ignoring corrupt image/label: negative label values [-0.00111359 -0.00506099 -0.00111359 -0.00506099 -0.0024263 ]\n",
      "\u001b[34m\u001b[1mval: \u001b[0mD:\\AI\\yolo\\dataset\\Court_keypoints_data\\valid\\images\\videoplayback_SabenLee_frame_13851_jpg.rf.fd09a99071179fa31e95adcdc01f9cdc.jpg: ignoring corrupt image/label: non-normalized or out of bounds coordinates [1.012399]\n",
      "\u001b[34m\u001b[1mval: \u001b[0mD:\\AI\\yolo\\dataset\\Court_keypoints_data\\valid\\images\\videoplayback_SabenLee_frame_1980_jpg.rf.1cbde0b4220d40d2f7eccb95948b2aab.jpg: ignoring corrupt image/label: non-normalized or out of bounds coordinates [1.0219948]\n",
      "\u001b[34m\u001b[1mval: \u001b[0mNew cache created: D:\\AI\\yolo\\dataset\\Court_keypoints_data\\valid\\labels.cache\n"
     ]
    },
    {
     "name": "stderr",
     "output_type": "stream",
     "text": [
      "\n"
     ]
    },
    {
     "name": "stdout",
     "output_type": "stream",
     "text": [
      "Plotting labels to ..\\..\\runs\\detect\\court_det2\\train3\\labels.jpg... \n",
      "\u001b[34m\u001b[1moptimizer:\u001b[0m 'optimizer=auto' found, ignoring 'lr0=0.01' and 'momentum=0.937' and determining best 'optimizer', 'lr0' and 'momentum' automatically... \n",
      "\u001b[34m\u001b[1moptimizer:\u001b[0m AdamW(lr=0.002, momentum=0.9) with parameter groups 103 weight(decay=0.0), 113 weight(decay=0.0005), 112 bias(decay=0.0)\n",
      "Image sizes 640 train, 640 val\n",
      "Using 8 dataloader workers\n",
      "Logging results to \u001b[1m..\\..\\runs\\detect\\court_det2\\train3\u001b[0m\n",
      "Starting training for 500 epochs...\n",
      "\n",
      "      Epoch    GPU_mem   box_loss  pose_loss  kobj_loss   cls_loss   dfl_loss  Instances       Size\n"
     ]
    },
    {
     "name": "stderr",
     "output_type": "stream",
     "text": [
      "      1/500      6.65G      1.016      9.125     0.6459      1.054      1.451          9        640: 100%|██████████| 111/111 [01:02<00:00,  1.78it/s]\n",
      "                 Class     Images  Instances      Box(P          R      mAP50  mAP50-95)     Pose(P          R      mAP50  mAP50-95): 100%|██████████| 11/11 [00:03<00:00,  3.50it/s]"
     ]
    },
    {
     "name": "stdout",
     "output_type": "stream",
     "text": [
      "                   all        166        166     0.0838       0.12     0.0357     0.0147   0.000126    0.00602   6.36e-05   3.18e-05\n"
     ]
    },
    {
     "name": "stderr",
     "output_type": "stream",
     "text": [
      "\n"
     ]
    },
    {
     "name": "stdout",
     "output_type": "stream",
     "text": [
      "\n",
      "      Epoch    GPU_mem   box_loss  pose_loss  kobj_loss   cls_loss   dfl_loss  Instances       Size\n"
     ]
    },
    {
     "name": "stderr",
     "output_type": "stream",
     "text": [
      "      2/500      6.96G      1.047      8.344     0.5384     0.8281      1.414          9        640: 100%|██████████| 111/111 [00:58<00:00,  1.88it/s]\n",
      "                 Class     Images  Instances      Box(P          R      mAP50  mAP50-95)     Pose(P          R      mAP50  mAP50-95): 100%|██████████| 11/11 [00:03<00:00,  3.67it/s]"
     ]
    },
    {
     "name": "stdout",
     "output_type": "stream",
     "text": [
      "                   all        166        166      0.163      0.199     0.0995     0.0353     0.0523     0.0301    0.00521    0.00117\n"
     ]
    },
    {
     "name": "stderr",
     "output_type": "stream",
     "text": [
      "\n"
     ]
    },
    {
     "name": "stdout",
     "output_type": "stream",
     "text": [
      "\n",
      "      Epoch    GPU_mem   box_loss  pose_loss  kobj_loss   cls_loss   dfl_loss  Instances       Size\n"
     ]
    },
    {
     "name": "stderr",
     "output_type": "stream",
     "text": [
      "      3/500      7.24G      0.987      7.506     0.5329     0.7717      1.357          8        640: 100%|██████████| 111/111 [00:58<00:00,  1.90it/s]\n",
      "                 Class     Images  Instances      Box(P          R      mAP50  mAP50-95)     Pose(P          R      mAP50  mAP50-95): 100%|██████████| 11/11 [00:02<00:00,  3.68it/s]"
     ]
    },
    {
     "name": "stdout",
     "output_type": "stream",
     "text": [
      "                   all        166        166      0.625      0.783      0.737       0.51     0.0736     0.0904     0.0118    0.00203\n"
     ]
    },
    {
     "name": "stderr",
     "output_type": "stream",
     "text": [
      "\n"
     ]
    },
    {
     "name": "stdout",
     "output_type": "stream",
     "text": [
      "\n",
      "      Epoch    GPU_mem   box_loss  pose_loss  kobj_loss   cls_loss   dfl_loss  Instances       Size\n"
     ]
    },
    {
     "name": "stderr",
     "output_type": "stream",
     "text": [
      "      4/500      7.03G      0.925      6.789     0.5239     0.7344      1.317         16        640: 100%|██████████| 111/111 [00:58<00:00,  1.89it/s]\n",
      "                 Class     Images  Instances      Box(P          R      mAP50  mAP50-95)     Pose(P          R      mAP50  mAP50-95): 100%|██████████| 11/11 [00:02<00:00,  3.68it/s]"
     ]
    },
    {
     "name": "stdout",
     "output_type": "stream",
     "text": [
      "                   all        166        166      0.746      0.807      0.841      0.419     0.0733      0.133     0.0178    0.00327\n"
     ]
    },
    {
     "name": "stderr",
     "output_type": "stream",
     "text": [
      "\n"
     ]
    },
    {
     "name": "stdout",
     "output_type": "stream",
     "text": [
      "\n",
      "      Epoch    GPU_mem   box_loss  pose_loss  kobj_loss   cls_loss   dfl_loss  Instances       Size\n"
     ]
    },
    {
     "name": "stderr",
     "output_type": "stream",
     "text": [
      "      5/500      7.26G     0.8133      6.245     0.5063      0.652      1.232          8        640: 100%|██████████| 111/111 [00:58<00:00,  1.91it/s]\n",
      "                 Class     Images  Instances      Box(P          R      mAP50  mAP50-95)     Pose(P          R      mAP50  mAP50-95): 100%|██████████| 11/11 [00:02<00:00,  3.71it/s]"
     ]
    },
    {
     "name": "stdout",
     "output_type": "stream",
     "text": [
      "                   all        166        166      0.965       0.97      0.991      0.814      0.308      0.295      0.142     0.0266\n"
     ]
    },
    {
     "name": "stderr",
     "output_type": "stream",
     "text": [
      "\n"
     ]
    },
    {
     "name": "stdout",
     "output_type": "stream",
     "text": [
      "\n",
      "      Epoch    GPU_mem   box_loss  pose_loss  kobj_loss   cls_loss   dfl_loss  Instances       Size\n"
     ]
    },
    {
     "name": "stderr",
     "output_type": "stream",
     "text": [
      "      6/500      7.28G     0.7734      5.818     0.5066      0.629       1.22          9        640: 100%|██████████| 111/111 [00:58<00:00,  1.90it/s]\n",
      "                 Class     Images  Instances      Box(P          R      mAP50  mAP50-95)     Pose(P          R      mAP50  mAP50-95): 100%|██████████| 11/11 [00:03<00:00,  3.60it/s]"
     ]
    },
    {
     "name": "stdout",
     "output_type": "stream",
     "text": [
      "                   all        166        166      0.996      0.982      0.995      0.862      0.461      0.452       0.28     0.0534\n"
     ]
    },
    {
     "name": "stderr",
     "output_type": "stream",
     "text": [
      "\n"
     ]
    },
    {
     "name": "stdout",
     "output_type": "stream",
     "text": [
      "\n",
      "      Epoch    GPU_mem   box_loss  pose_loss  kobj_loss   cls_loss   dfl_loss  Instances       Size\n"
     ]
    },
    {
     "name": "stderr",
     "output_type": "stream",
     "text": [
      "      7/500      6.99G     0.7436      5.263     0.5032     0.5896      1.184         10        640: 100%|██████████| 111/111 [00:58<00:00,  1.90it/s]\n",
      "                 Class     Images  Instances      Box(P          R      mAP50  mAP50-95)     Pose(P          R      mAP50  mAP50-95): 100%|██████████| 11/11 [00:03<00:00,  3.63it/s]"
     ]
    },
    {
     "name": "stdout",
     "output_type": "stream",
     "text": [
      "                   all        166        166          1      0.998      0.995      0.801      0.595      0.584       0.46      0.131\n"
     ]
    },
    {
     "name": "stderr",
     "output_type": "stream",
     "text": [
      "\n"
     ]
    },
    {
     "name": "stdout",
     "output_type": "stream",
     "text": [
      "\n",
      "      Epoch    GPU_mem   box_loss  pose_loss  kobj_loss   cls_loss   dfl_loss  Instances       Size\n"
     ]
    },
    {
     "name": "stderr",
     "output_type": "stream",
     "text": [
      "      8/500      7.25G     0.7085      4.946      0.497     0.5452      1.166         14        640: 100%|██████████| 111/111 [00:58<00:00,  1.90it/s]\n",
      "                 Class     Images  Instances      Box(P          R      mAP50  mAP50-95)     Pose(P          R      mAP50  mAP50-95): 100%|██████████| 11/11 [00:03<00:00,  3.57it/s]"
     ]
    },
    {
     "name": "stdout",
     "output_type": "stream",
     "text": [
      "                   all        166        166      0.951      0.994      0.992      0.876      0.728      0.759      0.725      0.213\n"
     ]
    },
    {
     "name": "stderr",
     "output_type": "stream",
     "text": [
      "\n"
     ]
    },
    {
     "name": "stdout",
     "output_type": "stream",
     "text": [
      "\n",
      "      Epoch    GPU_mem   box_loss  pose_loss  kobj_loss   cls_loss   dfl_loss  Instances       Size\n"
     ]
    },
    {
     "name": "stderr",
     "output_type": "stream",
     "text": [
      "      9/500      7.27G     0.6876       4.87     0.4865     0.5361      1.158         10        640: 100%|██████████| 111/111 [00:58<00:00,  1.91it/s]\n",
      "                 Class     Images  Instances      Box(P          R      mAP50  mAP50-95)     Pose(P          R      mAP50  mAP50-95): 100%|██████████| 11/11 [00:03<00:00,  3.64it/s]"
     ]
    },
    {
     "name": "stdout",
     "output_type": "stream",
     "text": [
      "                   all        166        166      0.961      0.994      0.993       0.88      0.796      0.783       0.74      0.219\n"
     ]
    },
    {
     "name": "stderr",
     "output_type": "stream",
     "text": [
      "\n"
     ]
    },
    {
     "name": "stdout",
     "output_type": "stream",
     "text": [
      "\n",
      "      Epoch    GPU_mem   box_loss  pose_loss  kobj_loss   cls_loss   dfl_loss  Instances       Size\n"
     ]
    },
    {
     "name": "stderr",
     "output_type": "stream",
     "text": [
      "     10/500      7.28G     0.6543      4.508     0.4923     0.5188      1.133          9        640: 100%|██████████| 111/111 [00:58<00:00,  1.89it/s]\n",
      "                 Class     Images  Instances      Box(P          R      mAP50  mAP50-95)     Pose(P          R      mAP50  mAP50-95): 100%|██████████| 11/11 [00:02<00:00,  3.68it/s]"
     ]
    },
    {
     "name": "stdout",
     "output_type": "stream",
     "text": [
      "                   all        166        166      0.967      0.988      0.993      0.837      0.768      0.753      0.674      0.197\n"
     ]
    },
    {
     "name": "stderr",
     "output_type": "stream",
     "text": [
      "\n"
     ]
    },
    {
     "name": "stdout",
     "output_type": "stream",
     "text": [
      "\n",
      "      Epoch    GPU_mem   box_loss  pose_loss  kobj_loss   cls_loss   dfl_loss  Instances       Size\n"
     ]
    },
    {
     "name": "stderr",
     "output_type": "stream",
     "text": [
      "     11/500      7.29G     0.6104      4.361     0.4804     0.4863      1.113         14        640: 100%|██████████| 111/111 [00:58<00:00,  1.90it/s]\n",
      "                 Class     Images  Instances      Box(P          R      mAP50  mAP50-95)     Pose(P          R      mAP50  mAP50-95): 100%|██████████| 11/11 [00:03<00:00,  3.58it/s]"
     ]
    },
    {
     "name": "stdout",
     "output_type": "stream",
     "text": [
      "                   all        166        166      0.992          1      0.995      0.896      0.832      0.837      0.818       0.27\n"
     ]
    },
    {
     "name": "stderr",
     "output_type": "stream",
     "text": [
      "\n"
     ]
    },
    {
     "name": "stdout",
     "output_type": "stream",
     "text": [
      "\n",
      "      Epoch    GPU_mem   box_loss  pose_loss  kobj_loss   cls_loss   dfl_loss  Instances       Size\n"
     ]
    },
    {
     "name": "stderr",
     "output_type": "stream",
     "text": [
      "     12/500      7.26G     0.6066      4.265     0.4834     0.4773      1.108          9        640: 100%|██████████| 111/111 [00:58<00:00,  1.89it/s]\n",
      "                 Class     Images  Instances      Box(P          R      mAP50  mAP50-95)     Pose(P          R      mAP50  mAP50-95): 100%|██████████| 11/11 [00:03<00:00,  3.66it/s]"
     ]
    },
    {
     "name": "stdout",
     "output_type": "stream",
     "text": [
      "                   all        166        166      0.953      0.987      0.992      0.787      0.761      0.777      0.738      0.232\n"
     ]
    },
    {
     "name": "stderr",
     "output_type": "stream",
     "text": [
      "\n"
     ]
    },
    {
     "name": "stdout",
     "output_type": "stream",
     "text": [
      "\n",
      "      Epoch    GPU_mem   box_loss  pose_loss  kobj_loss   cls_loss   dfl_loss  Instances       Size\n"
     ]
    },
    {
     "name": "stderr",
     "output_type": "stream",
     "text": [
      "     13/500      7.26G     0.6158      4.123     0.4801     0.4832       1.11          8        640: 100%|██████████| 111/111 [00:58<00:00,  1.91it/s]\n",
      "                 Class     Images  Instances      Box(P          R      mAP50  mAP50-95)     Pose(P          R      mAP50  mAP50-95): 100%|██████████| 11/11 [00:02<00:00,  3.70it/s]"
     ]
    },
    {
     "name": "stdout",
     "output_type": "stream",
     "text": [
      "                   all        166        166      0.953      0.982      0.981      0.858      0.804      0.789      0.744      0.252\n"
     ]
    },
    {
     "name": "stderr",
     "output_type": "stream",
     "text": [
      "\n"
     ]
    },
    {
     "name": "stdout",
     "output_type": "stream",
     "text": [
      "\n",
      "      Epoch    GPU_mem   box_loss  pose_loss  kobj_loss   cls_loss   dfl_loss  Instances       Size\n"
     ]
    },
    {
     "name": "stderr",
     "output_type": "stream",
     "text": [
      "     14/500      7.27G     0.5906      3.962     0.4801     0.4545      1.094         13        640: 100%|██████████| 111/111 [00:58<00:00,  1.90it/s]\n",
      "                 Class     Images  Instances      Box(P          R      mAP50  mAP50-95)     Pose(P          R      mAP50  mAP50-95): 100%|██████████| 11/11 [00:02<00:00,  3.69it/s]"
     ]
    },
    {
     "name": "stdout",
     "output_type": "stream",
     "text": [
      "                   all        166        166      0.996          1      0.995      0.909      0.864      0.855      0.805      0.318\n"
     ]
    },
    {
     "name": "stderr",
     "output_type": "stream",
     "text": [
      "\n"
     ]
    },
    {
     "name": "stdout",
     "output_type": "stream",
     "text": [
      "\n",
      "      Epoch    GPU_mem   box_loss  pose_loss  kobj_loss   cls_loss   dfl_loss  Instances       Size\n"
     ]
    },
    {
     "name": "stderr",
     "output_type": "stream",
     "text": [
      "     15/500      6.99G     0.5801      3.786     0.4708      0.445      1.082         11        640: 100%|██████████| 111/111 [00:58<00:00,  1.90it/s]\n",
      "                 Class     Images  Instances      Box(P          R      mAP50  mAP50-95)     Pose(P          R      mAP50  mAP50-95): 100%|██████████| 11/11 [00:03<00:00,  3.62it/s]"
     ]
    },
    {
     "name": "stdout",
     "output_type": "stream",
     "text": [
      "                   all        166        166      0.988      0.994      0.994       0.88      0.853      0.837      0.836      0.314\n"
     ]
    },
    {
     "name": "stderr",
     "output_type": "stream",
     "text": [
      "\n"
     ]
    },
    {
     "name": "stdout",
     "output_type": "stream",
     "text": [
      "\n",
      "      Epoch    GPU_mem   box_loss  pose_loss  kobj_loss   cls_loss   dfl_loss  Instances       Size\n"
     ]
    },
    {
     "name": "stderr",
     "output_type": "stream",
     "text": [
      "     16/500      7.27G     0.5683      3.836     0.4715     0.4495      1.085         12        640: 100%|██████████| 111/111 [00:58<00:00,  1.90it/s]\n",
      "                 Class     Images  Instances      Box(P          R      mAP50  mAP50-95)     Pose(P          R      mAP50  mAP50-95): 100%|██████████| 11/11 [00:02<00:00,  3.69it/s]"
     ]
    },
    {
     "name": "stdout",
     "output_type": "stream",
     "text": [
      "                   all        166        166      0.982      0.998      0.995      0.865      0.864      0.842      0.812      0.257\n"
     ]
    },
    {
     "name": "stderr",
     "output_type": "stream",
     "text": [
      "\n"
     ]
    },
    {
     "name": "stdout",
     "output_type": "stream",
     "text": [
      "\n",
      "      Epoch    GPU_mem   box_loss  pose_loss  kobj_loss   cls_loss   dfl_loss  Instances       Size\n"
     ]
    },
    {
     "name": "stderr",
     "output_type": "stream",
     "text": [
      "     17/500      7.04G     0.5887      3.924     0.4728     0.4611      1.093         12        640: 100%|██████████| 111/111 [00:58<00:00,  1.89it/s]\n",
      "                 Class     Images  Instances      Box(P          R      mAP50  mAP50-95)     Pose(P          R      mAP50  mAP50-95): 100%|██████████| 11/11 [00:03<00:00,  3.57it/s]"
     ]
    },
    {
     "name": "stdout",
     "output_type": "stream",
     "text": [
      "                   all        166        166      0.987          1      0.995      0.875      0.879      0.861      0.844      0.301\n"
     ]
    },
    {
     "name": "stderr",
     "output_type": "stream",
     "text": [
      "\n"
     ]
    },
    {
     "name": "stdout",
     "output_type": "stream",
     "text": [
      "\n",
      "      Epoch    GPU_mem   box_loss  pose_loss  kobj_loss   cls_loss   dfl_loss  Instances       Size\n"
     ]
    },
    {
     "name": "stderr",
     "output_type": "stream",
     "text": [
      "     18/500      7.28G     0.5525      3.641     0.4609      0.424      1.073         10        640: 100%|██████████| 111/111 [00:58<00:00,  1.89it/s]\n",
      "                 Class     Images  Instances      Box(P          R      mAP50  mAP50-95)     Pose(P          R      mAP50  mAP50-95): 100%|██████████| 11/11 [00:03<00:00,  3.53it/s]"
     ]
    },
    {
     "name": "stdout",
     "output_type": "stream",
     "text": [
      "                   all        166        166      0.987          1      0.995      0.888      0.856      0.867      0.814      0.319\n"
     ]
    },
    {
     "name": "stderr",
     "output_type": "stream",
     "text": [
      "\n"
     ]
    },
    {
     "name": "stdout",
     "output_type": "stream",
     "text": [
      "\n",
      "      Epoch    GPU_mem   box_loss  pose_loss  kobj_loss   cls_loss   dfl_loss  Instances       Size\n"
     ]
    },
    {
     "name": "stderr",
     "output_type": "stream",
     "text": [
      "     19/500      7.27G      0.554      3.515     0.4595     0.4162      1.072         15        640: 100%|██████████| 111/111 [00:58<00:00,  1.90it/s]\n",
      "                 Class     Images  Instances      Box(P          R      mAP50  mAP50-95)     Pose(P          R      mAP50  mAP50-95): 100%|██████████| 11/11 [00:03<00:00,  3.61it/s]"
     ]
    },
    {
     "name": "stdout",
     "output_type": "stream",
     "text": [
      "                   all        166        166       0.98          1      0.994      0.883       0.88      0.873      0.827      0.305\n"
     ]
    },
    {
     "name": "stderr",
     "output_type": "stream",
     "text": [
      "\n"
     ]
    },
    {
     "name": "stdout",
     "output_type": "stream",
     "text": [
      "\n",
      "      Epoch    GPU_mem   box_loss  pose_loss  kobj_loss   cls_loss   dfl_loss  Instances       Size\n"
     ]
    },
    {
     "name": "stderr",
     "output_type": "stream",
     "text": [
      "     20/500      7.27G     0.5372      3.489     0.4484     0.4233      1.066          9        640: 100%|██████████| 111/111 [00:58<00:00,  1.90it/s]\n",
      "                 Class     Images  Instances      Box(P          R      mAP50  mAP50-95)     Pose(P          R      mAP50  mAP50-95): 100%|██████████| 11/11 [00:03<00:00,  3.64it/s]"
     ]
    },
    {
     "name": "stdout",
     "output_type": "stream",
     "text": [
      "                   all        166        166      0.994      0.994      0.995      0.894      0.841      0.837      0.793      0.269\n"
     ]
    },
    {
     "name": "stderr",
     "output_type": "stream",
     "text": [
      "\n"
     ]
    },
    {
     "name": "stdout",
     "output_type": "stream",
     "text": [
      "\n",
      "      Epoch    GPU_mem   box_loss  pose_loss  kobj_loss   cls_loss   dfl_loss  Instances       Size\n"
     ]
    },
    {
     "name": "stderr",
     "output_type": "stream",
     "text": [
      "     21/500      7.25G     0.5372      3.441     0.4572     0.4136      1.059         14        640: 100%|██████████| 111/111 [00:58<00:00,  1.89it/s]\n",
      "                 Class     Images  Instances      Box(P          R      mAP50  mAP50-95)     Pose(P          R      mAP50  mAP50-95): 100%|██████████| 11/11 [00:03<00:00,  3.57it/s]"
     ]
    },
    {
     "name": "stdout",
     "output_type": "stream",
     "text": [
      "                   all        166        166      0.997      0.994      0.995      0.905      0.884       0.88      0.839      0.288\n"
     ]
    },
    {
     "name": "stderr",
     "output_type": "stream",
     "text": [
      "\n"
     ]
    },
    {
     "name": "stdout",
     "output_type": "stream",
     "text": [
      "\n",
      "      Epoch    GPU_mem   box_loss  pose_loss  kobj_loss   cls_loss   dfl_loss  Instances       Size\n"
     ]
    },
    {
     "name": "stderr",
     "output_type": "stream",
     "text": [
      "     22/500      7.26G      0.527      3.256     0.4473     0.4092      1.063         10        640: 100%|██████████| 111/111 [00:58<00:00,  1.89it/s]\n",
      "                 Class     Images  Instances      Box(P          R      mAP50  mAP50-95)     Pose(P          R      mAP50  mAP50-95): 100%|██████████| 11/11 [00:03<00:00,  3.65it/s]"
     ]
    },
    {
     "name": "stdout",
     "output_type": "stream",
     "text": [
      "                   all        166        166      0.996          1      0.995      0.894      0.907      0.892      0.887      0.336\n"
     ]
    },
    {
     "name": "stderr",
     "output_type": "stream",
     "text": [
      "\n"
     ]
    },
    {
     "name": "stdout",
     "output_type": "stream",
     "text": [
      "\n",
      "      Epoch    GPU_mem   box_loss  pose_loss  kobj_loss   cls_loss   dfl_loss  Instances       Size\n"
     ]
    },
    {
     "name": "stderr",
     "output_type": "stream",
     "text": [
      "     23/500      7.02G     0.5326      3.239     0.4446     0.4186      1.066         10        640: 100%|██████████| 111/111 [00:58<00:00,  1.89it/s]\n",
      "                 Class     Images  Instances      Box(P          R      mAP50  mAP50-95)     Pose(P          R      mAP50  mAP50-95): 100%|██████████| 11/11 [00:03<00:00,  3.43it/s]"
     ]
    },
    {
     "name": "stdout",
     "output_type": "stream",
     "text": [
      "                   all        166        166      0.988      0.993      0.991      0.894      0.846      0.849      0.789      0.295\n"
     ]
    },
    {
     "name": "stderr",
     "output_type": "stream",
     "text": [
      "\n"
     ]
    },
    {
     "name": "stdout",
     "output_type": "stream",
     "text": [
      "\n",
      "      Epoch    GPU_mem   box_loss  pose_loss  kobj_loss   cls_loss   dfl_loss  Instances       Size\n"
     ]
    },
    {
     "name": "stderr",
     "output_type": "stream",
     "text": [
      "     24/500      7.28G     0.5226      3.262     0.4386     0.4138      1.051         12        640: 100%|██████████| 111/111 [00:58<00:00,  1.89it/s]\n",
      "                 Class     Images  Instances      Box(P          R      mAP50  mAP50-95)     Pose(P          R      mAP50  mAP50-95): 100%|██████████| 11/11 [00:03<00:00,  3.57it/s]"
     ]
    },
    {
     "name": "stdout",
     "output_type": "stream",
     "text": [
      "                   all        166        166      0.999          1      0.995      0.914      0.903      0.904      0.895      0.358\n"
     ]
    },
    {
     "name": "stderr",
     "output_type": "stream",
     "text": [
      "\n"
     ]
    },
    {
     "name": "stdout",
     "output_type": "stream",
     "text": [
      "\n",
      "      Epoch    GPU_mem   box_loss  pose_loss  kobj_loss   cls_loss   dfl_loss  Instances       Size\n"
     ]
    },
    {
     "name": "stderr",
     "output_type": "stream",
     "text": [
      "     25/500      7.04G     0.5096      3.156     0.4464     0.3946      1.048         10        640: 100%|██████████| 111/111 [00:58<00:00,  1.89it/s]\n",
      "                 Class     Images  Instances      Box(P          R      mAP50  mAP50-95)     Pose(P          R      mAP50  mAP50-95): 100%|██████████| 11/11 [00:03<00:00,  3.64it/s]"
     ]
    },
    {
     "name": "stdout",
     "output_type": "stream",
     "text": [
      "                   all        166        166      0.993          1      0.995      0.905      0.876      0.873      0.835      0.339\n"
     ]
    },
    {
     "name": "stderr",
     "output_type": "stream",
     "text": [
      "\n"
     ]
    },
    {
     "name": "stdout",
     "output_type": "stream",
     "text": [
      "\n",
      "      Epoch    GPU_mem   box_loss  pose_loss  kobj_loss   cls_loss   dfl_loss  Instances       Size\n"
     ]
    },
    {
     "name": "stderr",
     "output_type": "stream",
     "text": [
      "     26/500      7.25G     0.4862      3.076     0.4385     0.3873      1.044         14        640: 100%|██████████| 111/111 [00:58<00:00,  1.90it/s]\n",
      "                 Class     Images  Instances      Box(P          R      mAP50  mAP50-95)     Pose(P          R      mAP50  mAP50-95): 100%|██████████| 11/11 [00:03<00:00,  3.51it/s]"
     ]
    },
    {
     "name": "stdout",
     "output_type": "stream",
     "text": [
      "                   all        166        166      0.999          1      0.995      0.916      0.871      0.867      0.846      0.357\n"
     ]
    },
    {
     "name": "stderr",
     "output_type": "stream",
     "text": [
      "\n"
     ]
    },
    {
     "name": "stdout",
     "output_type": "stream",
     "text": [
      "\n",
      "      Epoch    GPU_mem   box_loss  pose_loss  kobj_loss   cls_loss   dfl_loss  Instances       Size\n"
     ]
    },
    {
     "name": "stderr",
     "output_type": "stream",
     "text": [
      "     27/500      7.27G     0.5085      3.107     0.4349      0.393      1.057         16        640: 100%|██████████| 111/111 [00:58<00:00,  1.89it/s]\n",
      "                 Class     Images  Instances      Box(P          R      mAP50  mAP50-95)     Pose(P          R      mAP50  mAP50-95): 100%|██████████| 11/11 [00:03<00:00,  3.57it/s]"
     ]
    },
    {
     "name": "stdout",
     "output_type": "stream",
     "text": [
      "                   all        166        166      0.993          1      0.995      0.914      0.886      0.892      0.886      0.363\n"
     ]
    },
    {
     "name": "stderr",
     "output_type": "stream",
     "text": [
      "\n"
     ]
    },
    {
     "name": "stdout",
     "output_type": "stream",
     "text": [
      "\n",
      "      Epoch    GPU_mem   box_loss  pose_loss  kobj_loss   cls_loss   dfl_loss  Instances       Size\n"
     ]
    },
    {
     "name": "stderr",
     "output_type": "stream",
     "text": [
      "     28/500      7.29G     0.4879      3.021     0.4379     0.3795      1.033         10        640: 100%|██████████| 111/111 [00:58<00:00,  1.89it/s]\n",
      "                 Class     Images  Instances      Box(P          R      mAP50  mAP50-95)     Pose(P          R      mAP50  mAP50-95): 100%|██████████| 11/11 [00:03<00:00,  3.62it/s]"
     ]
    },
    {
     "name": "stdout",
     "output_type": "stream",
     "text": [
      "                   all        166        166      0.999          1      0.995      0.916      0.891      0.892      0.893      0.377\n"
     ]
    },
    {
     "name": "stderr",
     "output_type": "stream",
     "text": [
      "\n"
     ]
    },
    {
     "name": "stdout",
     "output_type": "stream",
     "text": [
      "\n",
      "      Epoch    GPU_mem   box_loss  pose_loss  kobj_loss   cls_loss   dfl_loss  Instances       Size\n"
     ]
    },
    {
     "name": "stderr",
     "output_type": "stream",
     "text": [
      "     29/500      7.28G     0.4928      2.832     0.4354     0.3827      1.042         12        640: 100%|██████████| 111/111 [00:58<00:00,  1.89it/s]\n",
      "                 Class     Images  Instances      Box(P          R      mAP50  mAP50-95)     Pose(P          R      mAP50  mAP50-95): 100%|██████████| 11/11 [00:03<00:00,  3.56it/s]"
     ]
    },
    {
     "name": "stdout",
     "output_type": "stream",
     "text": [
      "                   all        166        166      0.993          1      0.995      0.915      0.894      0.892      0.875      0.384\n"
     ]
    },
    {
     "name": "stderr",
     "output_type": "stream",
     "text": [
      "\n"
     ]
    },
    {
     "name": "stdout",
     "output_type": "stream",
     "text": [
      "\n",
      "      Epoch    GPU_mem   box_loss  pose_loss  kobj_loss   cls_loss   dfl_loss  Instances       Size\n"
     ]
    },
    {
     "name": "stderr",
     "output_type": "stream",
     "text": [
      "     30/500      7.29G     0.4768      2.965     0.4287     0.3884      1.036          9        640: 100%|██████████| 111/111 [00:58<00:00,  1.89it/s]\n",
      "                 Class     Images  Instances      Box(P          R      mAP50  mAP50-95)     Pose(P          R      mAP50  mAP50-95): 100%|██████████| 11/11 [00:03<00:00,  3.55it/s]"
     ]
    },
    {
     "name": "stdout",
     "output_type": "stream",
     "text": [
      "                   all        166        166      0.992          1      0.995      0.908      0.893      0.898      0.907      0.425\n"
     ]
    },
    {
     "name": "stderr",
     "output_type": "stream",
     "text": [
      "\n"
     ]
    },
    {
     "name": "stdout",
     "output_type": "stream",
     "text": [
      "\n",
      "      Epoch    GPU_mem   box_loss  pose_loss  kobj_loss   cls_loss   dfl_loss  Instances       Size\n"
     ]
    },
    {
     "name": "stderr",
     "output_type": "stream",
     "text": [
      "     31/500      7.01G     0.4965       2.88     0.4329     0.3843      1.057         11        640: 100%|██████████| 111/111 [00:58<00:00,  1.89it/s]\n",
      "                 Class     Images  Instances      Box(P          R      mAP50  mAP50-95)     Pose(P          R      mAP50  mAP50-95): 100%|██████████| 11/11 [00:03<00:00,  3.54it/s]"
     ]
    },
    {
     "name": "stdout",
     "output_type": "stream",
     "text": [
      "                   all        166        166      0.997          1      0.995      0.919      0.927      0.928      0.908      0.369\n"
     ]
    },
    {
     "name": "stderr",
     "output_type": "stream",
     "text": [
      "\n"
     ]
    },
    {
     "name": "stdout",
     "output_type": "stream",
     "text": [
      "\n",
      "      Epoch    GPU_mem   box_loss  pose_loss  kobj_loss   cls_loss   dfl_loss  Instances       Size\n"
     ]
    },
    {
     "name": "stderr",
     "output_type": "stream",
     "text": [
      "     32/500      7.25G     0.4865      2.708     0.4225     0.3806      1.043         10        640: 100%|██████████| 111/111 [00:58<00:00,  1.89it/s]\n",
      "                 Class     Images  Instances      Box(P          R      mAP50  mAP50-95)     Pose(P          R      mAP50  mAP50-95): 100%|██████████| 11/11 [00:03<00:00,  3.65it/s]"
     ]
    },
    {
     "name": "stdout",
     "output_type": "stream",
     "text": [
      "                   all        166        166          1          1      0.995      0.926      0.916      0.916      0.916      0.414\n"
     ]
    },
    {
     "name": "stderr",
     "output_type": "stream",
     "text": [
      "\n"
     ]
    },
    {
     "name": "stdout",
     "output_type": "stream",
     "text": [
      "\n",
      "      Epoch    GPU_mem   box_loss  pose_loss  kobj_loss   cls_loss   dfl_loss  Instances       Size\n"
     ]
    },
    {
     "name": "stderr",
     "output_type": "stream",
     "text": [
      "     33/500      7.29G     0.4669      2.721     0.4331     0.3647      1.017         12        640: 100%|██████████| 111/111 [00:58<00:00,  1.90it/s]\n",
      "                 Class     Images  Instances      Box(P          R      mAP50  mAP50-95)     Pose(P          R      mAP50  mAP50-95): 100%|██████████| 11/11 [00:02<00:00,  3.68it/s]"
     ]
    },
    {
     "name": "stdout",
     "output_type": "stream",
     "text": [
      "                   all        166        166          1      0.986      0.995      0.922      0.914      0.901      0.896      0.337\n"
     ]
    },
    {
     "name": "stderr",
     "output_type": "stream",
     "text": [
      "\n"
     ]
    },
    {
     "name": "stdout",
     "output_type": "stream",
     "text": [
      "\n",
      "      Epoch    GPU_mem   box_loss  pose_loss  kobj_loss   cls_loss   dfl_loss  Instances       Size\n"
     ]
    },
    {
     "name": "stderr",
     "output_type": "stream",
     "text": [
      "     34/500      7.29G     0.4664      2.648     0.4232     0.3681       1.02          7        640: 100%|██████████| 111/111 [00:58<00:00,  1.90it/s]\n",
      "                 Class     Images  Instances      Box(P          R      mAP50  mAP50-95)     Pose(P          R      mAP50  mAP50-95): 100%|██████████| 11/11 [00:02<00:00,  3.67it/s]"
     ]
    },
    {
     "name": "stdout",
     "output_type": "stream",
     "text": [
      "                   all        166        166      0.994          1      0.995      0.915      0.921      0.922      0.904      0.437\n"
     ]
    },
    {
     "name": "stderr",
     "output_type": "stream",
     "text": [
      "\n"
     ]
    },
    {
     "name": "stdout",
     "output_type": "stream",
     "text": [
      "\n",
      "      Epoch    GPU_mem   box_loss  pose_loss  kobj_loss   cls_loss   dfl_loss  Instances       Size\n"
     ]
    },
    {
     "name": "stderr",
     "output_type": "stream",
     "text": [
      "     35/500      7.31G     0.4581      2.555      0.419     0.3541      1.011         11        640: 100%|██████████| 111/111 [00:58<00:00,  1.90it/s]\n",
      "                 Class     Images  Instances      Box(P          R      mAP50  mAP50-95)     Pose(P          R      mAP50  mAP50-95): 100%|██████████| 11/11 [00:02<00:00,  3.70it/s]"
     ]
    },
    {
     "name": "stdout",
     "output_type": "stream",
     "text": [
      "                   all        166        166      0.999          1      0.995      0.923      0.909       0.91      0.903       0.43\n"
     ]
    },
    {
     "name": "stderr",
     "output_type": "stream",
     "text": [
      "\n"
     ]
    },
    {
     "name": "stdout",
     "output_type": "stream",
     "text": [
      "\n",
      "      Epoch    GPU_mem   box_loss  pose_loss  kobj_loss   cls_loss   dfl_loss  Instances       Size\n"
     ]
    },
    {
     "name": "stderr",
     "output_type": "stream",
     "text": [
      "     36/500      7.26G     0.4526      2.477     0.4226     0.3509      1.016         11        640: 100%|██████████| 111/111 [00:58<00:00,  1.90it/s]\n",
      "                 Class     Images  Instances      Box(P          R      mAP50  mAP50-95)     Pose(P          R      mAP50  mAP50-95): 100%|██████████| 11/11 [00:02<00:00,  3.73it/s]"
     ]
    },
    {
     "name": "stdout",
     "output_type": "stream",
     "text": [
      "                   all        166        166      0.999          1      0.995      0.925      0.936      0.916      0.901      0.477\n"
     ]
    },
    {
     "name": "stderr",
     "output_type": "stream",
     "text": [
      "\n"
     ]
    },
    {
     "name": "stdout",
     "output_type": "stream",
     "text": [
      "\n",
      "      Epoch    GPU_mem   box_loss  pose_loss  kobj_loss   cls_loss   dfl_loss  Instances       Size\n"
     ]
    },
    {
     "name": "stderr",
     "output_type": "stream",
     "text": [
      "     37/500      7.26G     0.4441      2.364     0.4131     0.3445      1.014         11        640: 100%|██████████| 111/111 [00:58<00:00,  1.91it/s]\n",
      "                 Class     Images  Instances      Box(P          R      mAP50  mAP50-95)     Pose(P          R      mAP50  mAP50-95): 100%|██████████| 11/11 [00:03<00:00,  3.54it/s]"
     ]
    },
    {
     "name": "stdout",
     "output_type": "stream",
     "text": [
      "                   all        166        166      0.999          1      0.995      0.929      0.909       0.91      0.894      0.423\n"
     ]
    },
    {
     "name": "stderr",
     "output_type": "stream",
     "text": [
      "\n"
     ]
    },
    {
     "name": "stdout",
     "output_type": "stream",
     "text": [
      "\n",
      "      Epoch    GPU_mem   box_loss  pose_loss  kobj_loss   cls_loss   dfl_loss  Instances       Size\n"
     ]
    },
    {
     "name": "stderr",
     "output_type": "stream",
     "text": [
      "     38/500      7.26G      0.451      2.398     0.4207     0.3403      1.013         11        640: 100%|██████████| 111/111 [00:58<00:00,  1.89it/s]\n",
      "                 Class     Images  Instances      Box(P          R      mAP50  mAP50-95)     Pose(P          R      mAP50  mAP50-95): 100%|██████████| 11/11 [00:02<00:00,  3.72it/s]"
     ]
    },
    {
     "name": "stdout",
     "output_type": "stream",
     "text": [
      "                   all        166        166      0.987          1      0.994      0.915      0.904      0.916      0.883      0.477\n"
     ]
    },
    {
     "name": "stderr",
     "output_type": "stream",
     "text": [
      "\n"
     ]
    },
    {
     "name": "stdout",
     "output_type": "stream",
     "text": [
      "\n",
      "      Epoch    GPU_mem   box_loss  pose_loss  kobj_loss   cls_loss   dfl_loss  Instances       Size\n"
     ]
    },
    {
     "name": "stderr",
     "output_type": "stream",
     "text": [
      "     39/500      7.02G     0.4438       2.39     0.4069     0.3443      1.015         13        640: 100%|██████████| 111/111 [00:58<00:00,  1.91it/s]\n",
      "                 Class     Images  Instances      Box(P          R      mAP50  mAP50-95)     Pose(P          R      mAP50  mAP50-95): 100%|██████████| 11/11 [00:03<00:00,  3.63it/s]"
     ]
    },
    {
     "name": "stdout",
     "output_type": "stream",
     "text": [
      "                   all        166        166      0.999          1      0.995       0.93      0.934      0.928      0.925      0.454\n"
     ]
    },
    {
     "name": "stderr",
     "output_type": "stream",
     "text": [
      "\n"
     ]
    },
    {
     "name": "stdout",
     "output_type": "stream",
     "text": [
      "\n",
      "      Epoch    GPU_mem   box_loss  pose_loss  kobj_loss   cls_loss   dfl_loss  Instances       Size\n"
     ]
    },
    {
     "name": "stderr",
     "output_type": "stream",
     "text": [
      "     40/500      7.06G     0.4402      2.371     0.4246     0.3368      1.002          9        640: 100%|██████████| 111/111 [00:58<00:00,  1.90it/s]\n",
      "                 Class     Images  Instances      Box(P          R      mAP50  mAP50-95)     Pose(P          R      mAP50  mAP50-95): 100%|██████████| 11/11 [00:02<00:00,  3.70it/s]"
     ]
    },
    {
     "name": "stdout",
     "output_type": "stream",
     "text": [
      "                   all        166        166          1          1      0.995      0.929      0.915      0.916      0.908      0.493\n"
     ]
    },
    {
     "name": "stderr",
     "output_type": "stream",
     "text": [
      "\n"
     ]
    },
    {
     "name": "stdout",
     "output_type": "stream",
     "text": [
      "\n",
      "      Epoch    GPU_mem   box_loss  pose_loss  kobj_loss   cls_loss   dfl_loss  Instances       Size\n"
     ]
    },
    {
     "name": "stderr",
     "output_type": "stream",
     "text": [
      "     41/500      7.26G     0.4301      2.314     0.4193     0.3308     0.9936         14        640: 100%|██████████| 111/111 [00:58<00:00,  1.90it/s]\n",
      "                 Class     Images  Instances      Box(P          R      mAP50  mAP50-95)     Pose(P          R      mAP50  mAP50-95): 100%|██████████| 11/11 [00:03<00:00,  3.65it/s]"
     ]
    },
    {
     "name": "stdout",
     "output_type": "stream",
     "text": [
      "                   all        166        166      0.999          1      0.995      0.928      0.922      0.922      0.917      0.492\n"
     ]
    },
    {
     "name": "stderr",
     "output_type": "stream",
     "text": [
      "\n"
     ]
    },
    {
     "name": "stdout",
     "output_type": "stream",
     "text": [
      "\n",
      "      Epoch    GPU_mem   box_loss  pose_loss  kobj_loss   cls_loss   dfl_loss  Instances       Size\n"
     ]
    },
    {
     "name": "stderr",
     "output_type": "stream",
     "text": [
      "     42/500      7.27G     0.4281      2.305     0.4107     0.3368     0.9962         12        640: 100%|██████████| 111/111 [00:58<00:00,  1.90it/s]\n",
      "                 Class     Images  Instances      Box(P          R      mAP50  mAP50-95)     Pose(P          R      mAP50  mAP50-95): 100%|██████████| 11/11 [00:02<00:00,  3.70it/s]"
     ]
    },
    {
     "name": "stdout",
     "output_type": "stream",
     "text": [
      "                   all        166        166      0.994          1      0.995      0.923      0.902      0.898      0.912      0.469\n"
     ]
    },
    {
     "name": "stderr",
     "output_type": "stream",
     "text": [
      "\n"
     ]
    },
    {
     "name": "stdout",
     "output_type": "stream",
     "text": [
      "\n",
      "      Epoch    GPU_mem   box_loss  pose_loss  kobj_loss   cls_loss   dfl_loss  Instances       Size\n"
     ]
    },
    {
     "name": "stderr",
     "output_type": "stream",
     "text": [
      "     43/500      7.29G     0.4199      2.196     0.4147     0.3337     0.9931         14        640: 100%|██████████| 111/111 [00:58<00:00,  1.90it/s]\n",
      "                 Class     Images  Instances      Box(P          R      mAP50  mAP50-95)     Pose(P          R      mAP50  mAP50-95): 100%|██████████| 11/11 [00:03<00:00,  3.61it/s]"
     ]
    },
    {
     "name": "stdout",
     "output_type": "stream",
     "text": [
      "                   all        166        166      0.999          1      0.995      0.936      0.915      0.916      0.896      0.456\n"
     ]
    },
    {
     "name": "stderr",
     "output_type": "stream",
     "text": [
      "\n"
     ]
    },
    {
     "name": "stdout",
     "output_type": "stream",
     "text": [
      "\n",
      "      Epoch    GPU_mem   box_loss  pose_loss  kobj_loss   cls_loss   dfl_loss  Instances       Size\n"
     ]
    },
    {
     "name": "stderr",
     "output_type": "stream",
     "text": [
      "     44/500      7.29G     0.4421      2.172     0.4123     0.3366      1.016         13        640: 100%|██████████| 111/111 [00:58<00:00,  1.90it/s]\n",
      "                 Class     Images  Instances      Box(P          R      mAP50  mAP50-95)     Pose(P          R      mAP50  mAP50-95): 100%|██████████| 11/11 [00:03<00:00,  3.55it/s]"
     ]
    },
    {
     "name": "stdout",
     "output_type": "stream",
     "text": [
      "                   all        166        166      0.999          1      0.995      0.918      0.922      0.922       0.91       0.47\n"
     ]
    },
    {
     "name": "stderr",
     "output_type": "stream",
     "text": [
      "\n"
     ]
    },
    {
     "name": "stdout",
     "output_type": "stream",
     "text": [
      "\n",
      "      Epoch    GPU_mem   box_loss  pose_loss  kobj_loss   cls_loss   dfl_loss  Instances       Size\n"
     ]
    },
    {
     "name": "stderr",
     "output_type": "stream",
     "text": [
      "     45/500      7.25G     0.4228      2.184     0.4128     0.3338       0.99          9        640: 100%|██████████| 111/111 [00:58<00:00,  1.90it/s]\n",
      "                 Class     Images  Instances      Box(P          R      mAP50  mAP50-95)     Pose(P          R      mAP50  mAP50-95): 100%|██████████| 11/11 [00:02<00:00,  3.68it/s]"
     ]
    },
    {
     "name": "stdout",
     "output_type": "stream",
     "text": [
      "                   all        166        166      0.988          1      0.995      0.939      0.922      0.928      0.921      0.535\n"
     ]
    },
    {
     "name": "stderr",
     "output_type": "stream",
     "text": [
      "\n"
     ]
    },
    {
     "name": "stdout",
     "output_type": "stream",
     "text": [
      "\n",
      "      Epoch    GPU_mem   box_loss  pose_loss  kobj_loss   cls_loss   dfl_loss  Instances       Size\n"
     ]
    },
    {
     "name": "stderr",
     "output_type": "stream",
     "text": [
      "     46/500      7.29G     0.4117      2.096      0.411     0.3197     0.9946         11        640: 100%|██████████| 111/111 [00:58<00:00,  1.89it/s]\n",
      "                 Class     Images  Instances      Box(P          R      mAP50  mAP50-95)     Pose(P          R      mAP50  mAP50-95): 100%|██████████| 11/11 [00:03<00:00,  3.66it/s]"
     ]
    },
    {
     "name": "stdout",
     "output_type": "stream",
     "text": [
      "                   all        166        166          1          1      0.995      0.932      0.933      0.934       0.94      0.575\n"
     ]
    },
    {
     "name": "stderr",
     "output_type": "stream",
     "text": [
      "\n"
     ]
    },
    {
     "name": "stdout",
     "output_type": "stream",
     "text": [
      "\n",
      "      Epoch    GPU_mem   box_loss  pose_loss  kobj_loss   cls_loss   dfl_loss  Instances       Size\n"
     ]
    },
    {
     "name": "stderr",
     "output_type": "stream",
     "text": [
      "     47/500      7.01G     0.4081      1.951      0.409     0.3222     0.9992         14        640: 100%|██████████| 111/111 [00:58<00:00,  1.90it/s]\n",
      "                 Class     Images  Instances      Box(P          R      mAP50  mAP50-95)     Pose(P          R      mAP50  mAP50-95): 100%|██████████| 11/11 [00:03<00:00,  3.64it/s]"
     ]
    },
    {
     "name": "stdout",
     "output_type": "stream",
     "text": [
      "                   all        166        166      0.993          1      0.992      0.926      0.958      0.946      0.945      0.575\n"
     ]
    },
    {
     "name": "stderr",
     "output_type": "stream",
     "text": [
      "\n"
     ]
    },
    {
     "name": "stdout",
     "output_type": "stream",
     "text": [
      "\n",
      "      Epoch    GPU_mem   box_loss  pose_loss  kobj_loss   cls_loss   dfl_loss  Instances       Size\n"
     ]
    },
    {
     "name": "stderr",
     "output_type": "stream",
     "text": [
      "     48/500      7.25G     0.4044       1.91     0.4095     0.3236      0.988         14        640: 100%|██████████| 111/111 [00:58<00:00,  1.90it/s]\n",
      "                 Class     Images  Instances      Box(P          R      mAP50  mAP50-95)     Pose(P          R      mAP50  mAP50-95): 100%|██████████| 11/11 [00:02<00:00,  3.76it/s]"
     ]
    },
    {
     "name": "stdout",
     "output_type": "stream",
     "text": [
      "                   all        166        166      0.999          1      0.995      0.935      0.961      0.958      0.963      0.539\n"
     ]
    },
    {
     "name": "stderr",
     "output_type": "stream",
     "text": [
      "\n"
     ]
    },
    {
     "name": "stdout",
     "output_type": "stream",
     "text": [
      "\n",
      "      Epoch    GPU_mem   box_loss  pose_loss  kobj_loss   cls_loss   dfl_loss  Instances       Size\n"
     ]
    },
    {
     "name": "stderr",
     "output_type": "stream",
     "text": [
      "     49/500      7.26G     0.4126      1.976     0.4039     0.3242     0.9888         14        640: 100%|██████████| 111/111 [00:58<00:00,  1.89it/s]\n",
      "                 Class     Images  Instances      Box(P          R      mAP50  mAP50-95)     Pose(P          R      mAP50  mAP50-95): 100%|██████████| 11/11 [00:02<00:00,  3.76it/s]"
     ]
    },
    {
     "name": "stdout",
     "output_type": "stream",
     "text": [
      "                   all        166        166      0.999          1      0.995      0.953      0.962       0.94      0.943      0.556\n"
     ]
    },
    {
     "name": "stderr",
     "output_type": "stream",
     "text": [
      "\n"
     ]
    },
    {
     "name": "stdout",
     "output_type": "stream",
     "text": [
      "\n",
      "      Epoch    GPU_mem   box_loss  pose_loss  kobj_loss   cls_loss   dfl_loss  Instances       Size\n"
     ]
    },
    {
     "name": "stderr",
     "output_type": "stream",
     "text": [
      "     50/500      7.26G     0.3984      2.027     0.4065     0.3132     0.9821         14        640: 100%|██████████| 111/111 [00:58<00:00,  1.90it/s]\n",
      "                 Class     Images  Instances      Box(P          R      mAP50  mAP50-95)     Pose(P          R      mAP50  mAP50-95): 100%|██████████| 11/11 [00:03<00:00,  3.62it/s]"
     ]
    },
    {
     "name": "stdout",
     "output_type": "stream",
     "text": [
      "                   all        166        166      0.999          1      0.995      0.933      0.958      0.958      0.964      0.561\n"
     ]
    },
    {
     "name": "stderr",
     "output_type": "stream",
     "text": [
      "\n"
     ]
    },
    {
     "name": "stdout",
     "output_type": "stream",
     "text": [
      "\n",
      "      Epoch    GPU_mem   box_loss  pose_loss  kobj_loss   cls_loss   dfl_loss  Instances       Size\n"
     ]
    },
    {
     "name": "stderr",
     "output_type": "stream",
     "text": [
      "     51/500      7.29G     0.4062      1.862     0.4044     0.3179       0.99         12        640: 100%|██████████| 111/111 [00:58<00:00,  1.90it/s]\n",
      "                 Class     Images  Instances      Box(P          R      mAP50  mAP50-95)     Pose(P          R      mAP50  mAP50-95): 100%|██████████| 11/11 [00:02<00:00,  3.70it/s]"
     ]
    },
    {
     "name": "stdout",
     "output_type": "stream",
     "text": [
      "                   all        166        166      0.999          1      0.995      0.941      0.927      0.928       0.92      0.577\n"
     ]
    },
    {
     "name": "stderr",
     "output_type": "stream",
     "text": [
      "\n"
     ]
    },
    {
     "name": "stdout",
     "output_type": "stream",
     "text": [
      "\n",
      "      Epoch    GPU_mem   box_loss  pose_loss  kobj_loss   cls_loss   dfl_loss  Instances       Size\n"
     ]
    },
    {
     "name": "stderr",
     "output_type": "stream",
     "text": [
      "     52/500      7.27G     0.4018       1.86     0.3942     0.3147     0.9888         14        640: 100%|██████████| 111/111 [00:58<00:00,  1.90it/s]\n",
      "                 Class     Images  Instances      Box(P          R      mAP50  mAP50-95)     Pose(P          R      mAP50  mAP50-95): 100%|██████████| 11/11 [00:03<00:00,  3.64it/s]"
     ]
    },
    {
     "name": "stdout",
     "output_type": "stream",
     "text": [
      "                   all        166        166      0.991          1      0.994      0.923      0.937      0.946       0.94      0.586\n"
     ]
    },
    {
     "name": "stderr",
     "output_type": "stream",
     "text": [
      "\n"
     ]
    },
    {
     "name": "stdout",
     "output_type": "stream",
     "text": [
      "\n",
      "      Epoch    GPU_mem   box_loss  pose_loss  kobj_loss   cls_loss   dfl_loss  Instances       Size\n"
     ]
    },
    {
     "name": "stderr",
     "output_type": "stream",
     "text": [
      "     53/500      7.25G      0.415      1.912      0.399     0.3153     0.9996         14        640: 100%|██████████| 111/111 [00:58<00:00,  1.90it/s]\n",
      "                 Class     Images  Instances      Box(P          R      mAP50  mAP50-95)     Pose(P          R      mAP50  mAP50-95): 100%|██████████| 11/11 [00:02<00:00,  3.68it/s]"
     ]
    },
    {
     "name": "stdout",
     "output_type": "stream",
     "text": [
      "                   all        166        166      0.999          1      0.995      0.933      0.957      0.958      0.965      0.565\n"
     ]
    },
    {
     "name": "stderr",
     "output_type": "stream",
     "text": [
      "\n"
     ]
    },
    {
     "name": "stdout",
     "output_type": "stream",
     "text": [
      "\n",
      "      Epoch    GPU_mem   box_loss  pose_loss  kobj_loss   cls_loss   dfl_loss  Instances       Size\n"
     ]
    },
    {
     "name": "stderr",
     "output_type": "stream",
     "text": [
      "     54/500      7.26G     0.4057       1.87     0.4044     0.3044     0.9822         14        640: 100%|██████████| 111/111 [00:58<00:00,  1.90it/s]\n",
      "                 Class     Images  Instances      Box(P          R      mAP50  mAP50-95)     Pose(P          R      mAP50  mAP50-95): 100%|██████████| 11/11 [00:03<00:00,  3.59it/s]"
     ]
    },
    {
     "name": "stdout",
     "output_type": "stream",
     "text": [
      "                   all        166        166          1          1      0.995      0.941      0.927      0.928      0.922      0.617\n"
     ]
    },
    {
     "name": "stderr",
     "output_type": "stream",
     "text": [
      "\n"
     ]
    },
    {
     "name": "stdout",
     "output_type": "stream",
     "text": [
      "\n",
      "      Epoch    GPU_mem   box_loss  pose_loss  kobj_loss   cls_loss   dfl_loss  Instances       Size\n"
     ]
    },
    {
     "name": "stderr",
     "output_type": "stream",
     "text": [
      "     55/500      6.99G     0.3958      1.862     0.4025     0.3124     0.9832          9        640: 100%|██████████| 111/111 [00:58<00:00,  1.90it/s]\n",
      "                 Class     Images  Instances      Box(P          R      mAP50  mAP50-95)     Pose(P          R      mAP50  mAP50-95): 100%|██████████| 11/11 [00:02<00:00,  3.73it/s]"
     ]
    },
    {
     "name": "stdout",
     "output_type": "stream",
     "text": [
      "                   all        166        166      0.999          1      0.995       0.93       0.94      0.958      0.957      0.582\n"
     ]
    },
    {
     "name": "stderr",
     "output_type": "stream",
     "text": [
      "\n"
     ]
    },
    {
     "name": "stdout",
     "output_type": "stream",
     "text": [
      "\n",
      "      Epoch    GPU_mem   box_loss  pose_loss  kobj_loss   cls_loss   dfl_loss  Instances       Size\n"
     ]
    },
    {
     "name": "stderr",
     "output_type": "stream",
     "text": [
      "     56/500      7.28G     0.3911      1.857     0.4031     0.3068     0.9792         12        640: 100%|██████████| 111/111 [00:58<00:00,  1.91it/s]\n",
      "                 Class     Images  Instances      Box(P          R      mAP50  mAP50-95)     Pose(P          R      mAP50  mAP50-95): 100%|██████████| 11/11 [00:02<00:00,  3.69it/s]"
     ]
    },
    {
     "name": "stdout",
     "output_type": "stream",
     "text": [
      "                   all        166        166      0.999          1      0.995      0.932      0.951      0.952      0.957      0.613\n"
     ]
    },
    {
     "name": "stderr",
     "output_type": "stream",
     "text": [
      "\n"
     ]
    },
    {
     "name": "stdout",
     "output_type": "stream",
     "text": [
      "\n",
      "      Epoch    GPU_mem   box_loss  pose_loss  kobj_loss   cls_loss   dfl_loss  Instances       Size\n"
     ]
    },
    {
     "name": "stderr",
     "output_type": "stream",
     "text": [
      "     57/500      7.04G     0.3906      1.773     0.3934     0.3032     0.9882         13        640: 100%|██████████| 111/111 [00:58<00:00,  1.90it/s]\n",
      "                 Class     Images  Instances      Box(P          R      mAP50  mAP50-95)     Pose(P          R      mAP50  mAP50-95): 100%|██████████| 11/11 [00:02<00:00,  3.68it/s]"
     ]
    },
    {
     "name": "stdout",
     "output_type": "stream",
     "text": [
      "                   all        166        166      0.999          1      0.995       0.95      0.951      0.952      0.964      0.608\n"
     ]
    },
    {
     "name": "stderr",
     "output_type": "stream",
     "text": [
      "\n"
     ]
    },
    {
     "name": "stdout",
     "output_type": "stream",
     "text": [
      "\n",
      "      Epoch    GPU_mem   box_loss  pose_loss  kobj_loss   cls_loss   dfl_loss  Instances       Size\n"
     ]
    },
    {
     "name": "stderr",
     "output_type": "stream",
     "text": [
      "     58/500      7.28G     0.3911        1.9     0.3948     0.3011     0.9755         12        640: 100%|██████████| 111/111 [00:58<00:00,  1.90it/s]\n",
      "                 Class     Images  Instances      Box(P          R      mAP50  mAP50-95)     Pose(P          R      mAP50  mAP50-95): 100%|██████████| 11/11 [00:02<00:00,  3.70it/s]"
     ]
    },
    {
     "name": "stdout",
     "output_type": "stream",
     "text": [
      "                   all        166        166      0.999          1      0.995      0.929      0.934      0.934      0.935       0.59\n"
     ]
    },
    {
     "name": "stderr",
     "output_type": "stream",
     "text": [
      "\n"
     ]
    },
    {
     "name": "stdout",
     "output_type": "stream",
     "text": [
      "\n",
      "      Epoch    GPU_mem   box_loss  pose_loss  kobj_loss   cls_loss   dfl_loss  Instances       Size\n"
     ]
    },
    {
     "name": "stderr",
     "output_type": "stream",
     "text": [
      "     59/500      7.29G     0.3809      1.886     0.3963     0.2988     0.9805         13        640: 100%|██████████| 111/111 [00:58<00:00,  1.90it/s]\n",
      "                 Class     Images  Instances      Box(P          R      mAP50  mAP50-95)     Pose(P          R      mAP50  mAP50-95): 100%|██████████| 11/11 [00:02<00:00,  3.71it/s]"
     ]
    },
    {
     "name": "stdout",
     "output_type": "stream",
     "text": [
      "                   all        166        166          1          1      0.995      0.924      0.922      0.922      0.925       0.57\n"
     ]
    },
    {
     "name": "stderr",
     "output_type": "stream",
     "text": [
      "\n"
     ]
    },
    {
     "name": "stdout",
     "output_type": "stream",
     "text": [
      "\n",
      "      Epoch    GPU_mem   box_loss  pose_loss  kobj_loss   cls_loss   dfl_loss  Instances       Size\n"
     ]
    },
    {
     "name": "stderr",
     "output_type": "stream",
     "text": [
      "     60/500      7.26G     0.3889      1.803     0.3978     0.3065     0.9848          8        640: 100%|██████████| 111/111 [00:58<00:00,  1.89it/s]\n",
      "                 Class     Images  Instances      Box(P          R      mAP50  mAP50-95)     Pose(P          R      mAP50  mAP50-95): 100%|██████████| 11/11 [00:02<00:00,  3.68it/s]"
     ]
    },
    {
     "name": "stdout",
     "output_type": "stream",
     "text": [
      "                   all        166        166      0.988          1      0.995      0.929      0.934      0.933      0.929      0.618\n"
     ]
    },
    {
     "name": "stderr",
     "output_type": "stream",
     "text": [
      "\n"
     ]
    },
    {
     "name": "stdout",
     "output_type": "stream",
     "text": [
      "\n",
      "      Epoch    GPU_mem   box_loss  pose_loss  kobj_loss   cls_loss   dfl_loss  Instances       Size\n"
     ]
    },
    {
     "name": "stderr",
     "output_type": "stream",
     "text": [
      "     61/500      7.26G     0.3884       1.87      0.397     0.3069     0.9849          9        640: 100%|██████████| 111/111 [00:58<00:00,  1.91it/s]\n",
      "                 Class     Images  Instances      Box(P          R      mAP50  mAP50-95)     Pose(P          R      mAP50  mAP50-95): 100%|██████████| 11/11 [00:03<00:00,  3.63it/s]"
     ]
    },
    {
     "name": "stdout",
     "output_type": "stream",
     "text": [
      "                   all        166        166          1          1      0.995       0.94      0.936      0.934      0.925      0.606\n"
     ]
    },
    {
     "name": "stderr",
     "output_type": "stream",
     "text": [
      "\n"
     ]
    },
    {
     "name": "stdout",
     "output_type": "stream",
     "text": [
      "\n",
      "      Epoch    GPU_mem   box_loss  pose_loss  kobj_loss   cls_loss   dfl_loss  Instances       Size\n"
     ]
    },
    {
     "name": "stderr",
     "output_type": "stream",
     "text": [
      "     62/500      7.26G     0.3816      1.818     0.3918     0.2994     0.9831         16        640: 100%|██████████| 111/111 [00:58<00:00,  1.89it/s]\n",
      "                 Class     Images  Instances      Box(P          R      mAP50  mAP50-95)     Pose(P          R      mAP50  mAP50-95): 100%|██████████| 11/11 [00:02<00:00,  3.69it/s]"
     ]
    },
    {
     "name": "stdout",
     "output_type": "stream",
     "text": [
      "                   all        166        166          1          1      0.995      0.926      0.939       0.94      0.945      0.607\n"
     ]
    },
    {
     "name": "stderr",
     "output_type": "stream",
     "text": [
      "\n"
     ]
    },
    {
     "name": "stdout",
     "output_type": "stream",
     "text": [
      "\n",
      "      Epoch    GPU_mem   box_loss  pose_loss  kobj_loss   cls_loss   dfl_loss  Instances       Size\n"
     ]
    },
    {
     "name": "stderr",
     "output_type": "stream",
     "text": [
      "     63/500         7G     0.3966      1.762     0.3857      0.304     0.9814         15        640: 100%|██████████| 111/111 [00:58<00:00,  1.90it/s]\n",
      "                 Class     Images  Instances      Box(P          R      mAP50  mAP50-95)     Pose(P          R      mAP50  mAP50-95): 100%|██████████| 11/11 [00:03<00:00,  3.65it/s]"
     ]
    },
    {
     "name": "stdout",
     "output_type": "stream",
     "text": [
      "                   all        166        166      0.999          1      0.995      0.922      0.969       0.97      0.968      0.598\n"
     ]
    },
    {
     "name": "stderr",
     "output_type": "stream",
     "text": [
      "\n"
     ]
    },
    {
     "name": "stdout",
     "output_type": "stream",
     "text": [
      "\n",
      "      Epoch    GPU_mem   box_loss  pose_loss  kobj_loss   cls_loss   dfl_loss  Instances       Size\n"
     ]
    },
    {
     "name": "stderr",
     "output_type": "stream",
     "text": [
      "     64/500      7.26G     0.3768      1.816     0.3947     0.2887     0.9796         13        640: 100%|██████████| 111/111 [00:58<00:00,  1.90it/s]\n",
      "                 Class     Images  Instances      Box(P          R      mAP50  mAP50-95)     Pose(P          R      mAP50  mAP50-95): 100%|██████████| 11/11 [00:03<00:00,  3.66it/s]"
     ]
    },
    {
     "name": "stdout",
     "output_type": "stream",
     "text": [
      "                   all        166        166          1          1      0.995      0.944      0.934      0.934      0.927      0.591\n"
     ]
    },
    {
     "name": "stderr",
     "output_type": "stream",
     "text": [
      "\n"
     ]
    },
    {
     "name": "stdout",
     "output_type": "stream",
     "text": [
      "\n",
      "      Epoch    GPU_mem   box_loss  pose_loss  kobj_loss   cls_loss   dfl_loss  Instances       Size\n"
     ]
    },
    {
     "name": "stderr",
     "output_type": "stream",
     "text": [
      "     65/500      7.25G     0.3609      1.694      0.384     0.2882     0.9664         13        640: 100%|██████████| 111/111 [00:58<00:00,  1.90it/s]\n",
      "                 Class     Images  Instances      Box(P          R      mAP50  mAP50-95)     Pose(P          R      mAP50  mAP50-95): 100%|██████████| 11/11 [00:03<00:00,  3.66it/s]"
     ]
    },
    {
     "name": "stdout",
     "output_type": "stream",
     "text": [
      "                   all        166        166          1          1      0.995      0.944      0.945      0.946      0.951      0.637\n"
     ]
    },
    {
     "name": "stderr",
     "output_type": "stream",
     "text": [
      "\n"
     ]
    },
    {
     "name": "stdout",
     "output_type": "stream",
     "text": [
      "\n",
      "      Epoch    GPU_mem   box_loss  pose_loss  kobj_loss   cls_loss   dfl_loss  Instances       Size\n"
     ]
    },
    {
     "name": "stderr",
     "output_type": "stream",
     "text": [
      "     66/500      7.29G     0.3693      1.733     0.3919     0.2908     0.9713         13        640: 100%|██████████| 111/111 [00:58<00:00,  1.89it/s]\n",
      "                 Class     Images  Instances      Box(P          R      mAP50  mAP50-95)     Pose(P          R      mAP50  mAP50-95): 100%|██████████| 11/11 [00:03<00:00,  3.58it/s]"
     ]
    },
    {
     "name": "stdout",
     "output_type": "stream",
     "text": [
      "                   all        166        166      0.994          1      0.992       0.92      0.952      0.958      0.955      0.621\n"
     ]
    },
    {
     "name": "stderr",
     "output_type": "stream",
     "text": [
      "\n"
     ]
    },
    {
     "name": "stdout",
     "output_type": "stream",
     "text": [
      "\n",
      "      Epoch    GPU_mem   box_loss  pose_loss  kobj_loss   cls_loss   dfl_loss  Instances       Size\n"
     ]
    },
    {
     "name": "stderr",
     "output_type": "stream",
     "text": [
      "     67/500      7.28G     0.3721      1.701     0.3902     0.2964     0.9789         15        640: 100%|██████████| 111/111 [00:58<00:00,  1.91it/s]\n",
      "                 Class     Images  Instances      Box(P          R      mAP50  mAP50-95)     Pose(P          R      mAP50  mAP50-95): 100%|██████████| 11/11 [00:03<00:00,  3.61it/s]"
     ]
    },
    {
     "name": "stdout",
     "output_type": "stream",
     "text": [
      "                   all        166        166      0.989          1      0.994       0.93      0.928      0.934      0.943      0.604\n"
     ]
    },
    {
     "name": "stderr",
     "output_type": "stream",
     "text": [
      "\n"
     ]
    },
    {
     "name": "stdout",
     "output_type": "stream",
     "text": [
      "\n",
      "      Epoch    GPU_mem   box_loss  pose_loss  kobj_loss   cls_loss   dfl_loss  Instances       Size\n"
     ]
    },
    {
     "name": "stderr",
     "output_type": "stream",
     "text": [
      "     68/500      7.27G     0.3663      1.731      0.389     0.2844     0.9637         13        640: 100%|██████████| 111/111 [00:58<00:00,  1.89it/s]\n",
      "                 Class     Images  Instances      Box(P          R      mAP50  mAP50-95)     Pose(P          R      mAP50  mAP50-95): 100%|██████████| 11/11 [00:03<00:00,  3.62it/s]"
     ]
    },
    {
     "name": "stdout",
     "output_type": "stream",
     "text": [
      "                   all        166        166          1          1      0.995      0.941      0.952      0.952      0.964      0.632\n"
     ]
    },
    {
     "name": "stderr",
     "output_type": "stream",
     "text": [
      "\n"
     ]
    },
    {
     "name": "stdout",
     "output_type": "stream",
     "text": [
      "\n",
      "      Epoch    GPU_mem   box_loss  pose_loss  kobj_loss   cls_loss   dfl_loss  Instances       Size\n"
     ]
    },
    {
     "name": "stderr",
     "output_type": "stream",
     "text": [
      "     69/500      7.29G     0.3612      1.679      0.389     0.2832     0.9642         12        640: 100%|██████████| 111/111 [00:58<00:00,  1.90it/s]\n",
      "                 Class     Images  Instances      Box(P          R      mAP50  mAP50-95)     Pose(P          R      mAP50  mAP50-95): 100%|██████████| 11/11 [00:03<00:00,  3.66it/s]"
     ]
    },
    {
     "name": "stdout",
     "output_type": "stream",
     "text": [
      "                   all        166        166          1          1      0.995      0.948      0.958      0.958      0.966      0.628\n"
     ]
    },
    {
     "name": "stderr",
     "output_type": "stream",
     "text": [
      "\n"
     ]
    },
    {
     "name": "stdout",
     "output_type": "stream",
     "text": [
      "\n",
      "      Epoch    GPU_mem   box_loss  pose_loss  kobj_loss   cls_loss   dfl_loss  Instances       Size\n"
     ]
    },
    {
     "name": "stderr",
     "output_type": "stream",
     "text": [
      "     70/500      7.28G     0.3625      1.635     0.3927      0.286     0.9666         14        640: 100%|██████████| 111/111 [00:58<00:00,  1.90it/s]\n",
      "                 Class     Images  Instances      Box(P          R      mAP50  mAP50-95)     Pose(P          R      mAP50  mAP50-95): 100%|██████████| 11/11 [00:03<00:00,  3.66it/s]"
     ]
    },
    {
     "name": "stdout",
     "output_type": "stream",
     "text": [
      "                   all        166        166          1          1      0.995      0.942      0.934      0.934      0.939       0.61\n"
     ]
    },
    {
     "name": "stderr",
     "output_type": "stream",
     "text": [
      "\n"
     ]
    },
    {
     "name": "stdout",
     "output_type": "stream",
     "text": [
      "\n",
      "      Epoch    GPU_mem   box_loss  pose_loss  kobj_loss   cls_loss   dfl_loss  Instances       Size\n"
     ]
    },
    {
     "name": "stderr",
     "output_type": "stream",
     "text": [
      "     71/500      7.01G     0.3689      1.605     0.3868     0.2839     0.9662         12        640: 100%|██████████| 111/111 [00:58<00:00,  1.90it/s]\n",
      "                 Class     Images  Instances      Box(P          R      mAP50  mAP50-95)     Pose(P          R      mAP50  mAP50-95): 100%|██████████| 11/11 [00:03<00:00,  3.57it/s]"
     ]
    },
    {
     "name": "stdout",
     "output_type": "stream",
     "text": [
      "                   all        166        166      0.999          1      0.995      0.941      0.933      0.934      0.945      0.603\n"
     ]
    },
    {
     "name": "stderr",
     "output_type": "stream",
     "text": [
      "\n"
     ]
    },
    {
     "name": "stdout",
     "output_type": "stream",
     "text": [
      "\n",
      "      Epoch    GPU_mem   box_loss  pose_loss  kobj_loss   cls_loss   dfl_loss  Instances       Size\n"
     ]
    },
    {
     "name": "stderr",
     "output_type": "stream",
     "text": [
      "     72/500      7.24G     0.3505      1.581      0.377     0.2794     0.9655         11        640: 100%|██████████| 111/111 [00:58<00:00,  1.90it/s]\n",
      "                 Class     Images  Instances      Box(P          R      mAP50  mAP50-95)     Pose(P          R      mAP50  mAP50-95): 100%|██████████| 11/11 [00:02<00:00,  3.68it/s]"
     ]
    },
    {
     "name": "stdout",
     "output_type": "stream",
     "text": [
      "                   all        166        166          1          1      0.995      0.916      0.939       0.94      0.941      0.645\n"
     ]
    },
    {
     "name": "stderr",
     "output_type": "stream",
     "text": [
      "\n"
     ]
    },
    {
     "name": "stdout",
     "output_type": "stream",
     "text": [
      "\n",
      "      Epoch    GPU_mem   box_loss  pose_loss  kobj_loss   cls_loss   dfl_loss  Instances       Size\n"
     ]
    },
    {
     "name": "stderr",
     "output_type": "stream",
     "text": [
      "     73/500      7.28G     0.3535      1.712     0.3851     0.2762     0.9685         14        640: 100%|██████████| 111/111 [00:58<00:00,  1.90it/s]\n",
      "                 Class     Images  Instances      Box(P          R      mAP50  mAP50-95)     Pose(P          R      mAP50  mAP50-95): 100%|██████████| 11/11 [00:02<00:00,  3.67it/s]"
     ]
    },
    {
     "name": "stdout",
     "output_type": "stream",
     "text": [
      "                   all        166        166          1          1      0.995       0.95      0.957      0.958      0.969      0.626\n"
     ]
    },
    {
     "name": "stderr",
     "output_type": "stream",
     "text": [
      "\n"
     ]
    },
    {
     "name": "stdout",
     "output_type": "stream",
     "text": [
      "\n",
      "      Epoch    GPU_mem   box_loss  pose_loss  kobj_loss   cls_loss   dfl_loss  Instances       Size\n"
     ]
    },
    {
     "name": "stderr",
     "output_type": "stream",
     "text": [
      "     74/500      7.28G     0.3561      1.718     0.3925     0.2779     0.9656         10        640: 100%|██████████| 111/111 [00:58<00:00,  1.90it/s]\n",
      "                 Class     Images  Instances      Box(P          R      mAP50  mAP50-95)     Pose(P          R      mAP50  mAP50-95): 100%|██████████| 11/11 [00:02<00:00,  3.69it/s]"
     ]
    },
    {
     "name": "stdout",
     "output_type": "stream",
     "text": [
      "                   all        166        166          1          1      0.995      0.956      0.975      0.976      0.981      0.623\n"
     ]
    },
    {
     "name": "stderr",
     "output_type": "stream",
     "text": [
      "\n"
     ]
    },
    {
     "name": "stdout",
     "output_type": "stream",
     "text": [
      "\n",
      "      Epoch    GPU_mem   box_loss  pose_loss  kobj_loss   cls_loss   dfl_loss  Instances       Size\n"
     ]
    },
    {
     "name": "stderr",
     "output_type": "stream",
     "text": [
      "     75/500      7.29G     0.3595      1.604     0.3889     0.2833     0.9546          7        640: 100%|██████████| 111/111 [00:58<00:00,  1.90it/s]\n",
      "                 Class     Images  Instances      Box(P          R      mAP50  mAP50-95)     Pose(P          R      mAP50  mAP50-95): 100%|██████████| 11/11 [00:02<00:00,  3.69it/s]"
     ]
    },
    {
     "name": "stdout",
     "output_type": "stream",
     "text": [
      "                   all        166        166          1          1      0.995      0.948      0.963      0.964      0.969      0.648\n"
     ]
    },
    {
     "name": "stderr",
     "output_type": "stream",
     "text": [
      "\n"
     ]
    },
    {
     "name": "stdout",
     "output_type": "stream",
     "text": [
      "\n",
      "      Epoch    GPU_mem   box_loss  pose_loss  kobj_loss   cls_loss   dfl_loss  Instances       Size\n"
     ]
    },
    {
     "name": "stderr",
     "output_type": "stream",
     "text": [
      "     76/500       7.3G      0.358      1.585     0.3824     0.2792     0.9632         14        640: 100%|██████████| 111/111 [00:58<00:00,  1.90it/s]\n",
      "                 Class     Images  Instances      Box(P          R      mAP50  mAP50-95)     Pose(P          R      mAP50  mAP50-95): 100%|██████████| 11/11 [00:02<00:00,  3.71it/s]"
     ]
    },
    {
     "name": "stdout",
     "output_type": "stream",
     "text": [
      "                   all        166        166      0.999          1      0.995      0.941      0.975      0.976       0.97      0.634\n"
     ]
    },
    {
     "name": "stderr",
     "output_type": "stream",
     "text": [
      "\n"
     ]
    },
    {
     "name": "stdout",
     "output_type": "stream",
     "text": [
      "\n",
      "      Epoch    GPU_mem   box_loss  pose_loss  kobj_loss   cls_loss   dfl_loss  Instances       Size\n"
     ]
    },
    {
     "name": "stderr",
     "output_type": "stream",
     "text": [
      "     77/500      7.28G     0.3457      1.563     0.3811     0.2759     0.9632         14        640: 100%|██████████| 111/111 [00:58<00:00,  1.89it/s]\n",
      "                 Class     Images  Instances      Box(P          R      mAP50  mAP50-95)     Pose(P          R      mAP50  mAP50-95): 100%|██████████| 11/11 [00:02<00:00,  3.70it/s]"
     ]
    },
    {
     "name": "stdout",
     "output_type": "stream",
     "text": [
      "                   all        166        166      0.999          1      0.995      0.938      0.969       0.97      0.971      0.631\n"
     ]
    },
    {
     "name": "stderr",
     "output_type": "stream",
     "text": [
      "\n"
     ]
    },
    {
     "name": "stdout",
     "output_type": "stream",
     "text": [
      "\n",
      "      Epoch    GPU_mem   box_loss  pose_loss  kobj_loss   cls_loss   dfl_loss  Instances       Size\n"
     ]
    },
    {
     "name": "stderr",
     "output_type": "stream",
     "text": [
      "     78/500      7.27G     0.3588      1.547     0.3755     0.2828     0.9775         12        640: 100%|██████████| 111/111 [00:58<00:00,  1.90it/s]\n",
      "                 Class     Images  Instances      Box(P          R      mAP50  mAP50-95)     Pose(P          R      mAP50  mAP50-95): 100%|██████████| 11/11 [00:02<00:00,  3.72it/s]"
     ]
    },
    {
     "name": "stdout",
     "output_type": "stream",
     "text": [
      "                   all        166        166      0.999          1      0.995      0.939      0.951      0.952      0.951      0.617\n"
     ]
    },
    {
     "name": "stderr",
     "output_type": "stream",
     "text": [
      "\n"
     ]
    },
    {
     "name": "stdout",
     "output_type": "stream",
     "text": [
      "\n",
      "      Epoch    GPU_mem   box_loss  pose_loss  kobj_loss   cls_loss   dfl_loss  Instances       Size\n"
     ]
    },
    {
     "name": "stderr",
     "output_type": "stream",
     "text": [
      "     79/500      7.01G     0.3507      1.548     0.3857     0.2755     0.9636         11        640: 100%|██████████| 111/111 [00:58<00:00,  1.90it/s]\n",
      "                 Class     Images  Instances      Box(P          R      mAP50  mAP50-95)     Pose(P          R      mAP50  mAP50-95): 100%|██████████| 11/11 [00:03<00:00,  3.66it/s]"
     ]
    },
    {
     "name": "stdout",
     "output_type": "stream",
     "text": [
      "                   all        166        166          1          1      0.995      0.942      0.939       0.94      0.938      0.636\n"
     ]
    },
    {
     "name": "stderr",
     "output_type": "stream",
     "text": [
      "\n"
     ]
    },
    {
     "name": "stdout",
     "output_type": "stream",
     "text": [
      "\n",
      "      Epoch    GPU_mem   box_loss  pose_loss  kobj_loss   cls_loss   dfl_loss  Instances       Size\n"
     ]
    },
    {
     "name": "stderr",
     "output_type": "stream",
     "text": [
      "     80/500      7.25G     0.3505      1.473     0.3811     0.2775     0.9565         14        640: 100%|██████████| 111/111 [00:58<00:00,  1.90it/s]\n",
      "                 Class     Images  Instances      Box(P          R      mAP50  mAP50-95)     Pose(P          R      mAP50  mAP50-95): 100%|██████████| 11/11 [00:03<00:00,  3.66it/s]"
     ]
    },
    {
     "name": "stdout",
     "output_type": "stream",
     "text": [
      "                   all        166        166      0.999          1      0.995      0.944      0.963      0.964      0.967      0.643\n"
     ]
    },
    {
     "name": "stderr",
     "output_type": "stream",
     "text": [
      "\n"
     ]
    },
    {
     "name": "stdout",
     "output_type": "stream",
     "text": [
      "\n",
      "      Epoch    GPU_mem   box_loss  pose_loss  kobj_loss   cls_loss   dfl_loss  Instances       Size\n"
     ]
    },
    {
     "name": "stderr",
     "output_type": "stream",
     "text": [
      "     81/500      7.05G     0.3407      1.535     0.3909     0.2672     0.9523         11        640: 100%|██████████| 111/111 [00:58<00:00,  1.90it/s]\n",
      "                 Class     Images  Instances      Box(P          R      mAP50  mAP50-95)     Pose(P          R      mAP50  mAP50-95): 100%|██████████| 11/11 [00:02<00:00,  3.72it/s]"
     ]
    },
    {
     "name": "stdout",
     "output_type": "stream",
     "text": [
      "                   all        166        166      0.999          1      0.995      0.948      0.945      0.946      0.955      0.646\n"
     ]
    },
    {
     "name": "stderr",
     "output_type": "stream",
     "text": [
      "\n"
     ]
    },
    {
     "name": "stdout",
     "output_type": "stream",
     "text": [
      "\n",
      "      Epoch    GPU_mem   box_loss  pose_loss  kobj_loss   cls_loss   dfl_loss  Instances       Size\n"
     ]
    },
    {
     "name": "stderr",
     "output_type": "stream",
     "text": [
      "     82/500      7.04G     0.3328      1.468     0.3716     0.2722     0.9544          7        640: 100%|██████████| 111/111 [00:58<00:00,  1.90it/s]\n",
      "                 Class     Images  Instances      Box(P          R      mAP50  mAP50-95)     Pose(P          R      mAP50  mAP50-95): 100%|██████████| 11/11 [00:02<00:00,  3.71it/s]"
     ]
    },
    {
     "name": "stdout",
     "output_type": "stream",
     "text": [
      "                   all        166        166          1          1      0.995      0.939       0.97       0.97      0.976      0.684\n"
     ]
    },
    {
     "name": "stderr",
     "output_type": "stream",
     "text": [
      "\n"
     ]
    },
    {
     "name": "stdout",
     "output_type": "stream",
     "text": [
      "\n",
      "      Epoch    GPU_mem   box_loss  pose_loss  kobj_loss   cls_loss   dfl_loss  Instances       Size\n"
     ]
    },
    {
     "name": "stderr",
     "output_type": "stream",
     "text": [
      "     83/500      7.28G     0.3543       1.58     0.3813     0.2711     0.9651         13        640: 100%|██████████| 111/111 [00:58<00:00,  1.89it/s]\n",
      "                 Class     Images  Instances      Box(P          R      mAP50  mAP50-95)     Pose(P          R      mAP50  mAP50-95): 100%|██████████| 11/11 [00:02<00:00,  3.71it/s]"
     ]
    },
    {
     "name": "stdout",
     "output_type": "stream",
     "text": [
      "                   all        166        166      0.999          1      0.995      0.953      0.963      0.964      0.971      0.654\n"
     ]
    },
    {
     "name": "stderr",
     "output_type": "stream",
     "text": [
      "\n"
     ]
    },
    {
     "name": "stdout",
     "output_type": "stream",
     "text": [
      "\n",
      "      Epoch    GPU_mem   box_loss  pose_loss  kobj_loss   cls_loss   dfl_loss  Instances       Size\n"
     ]
    },
    {
     "name": "stderr",
     "output_type": "stream",
     "text": [
      "     84/500      7.29G     0.3414      1.459     0.3812     0.2607     0.9513          9        640: 100%|██████████| 111/111 [00:58<00:00,  1.90it/s]\n",
      "                 Class     Images  Instances      Box(P          R      mAP50  mAP50-95)     Pose(P          R      mAP50  mAP50-95): 100%|██████████| 11/11 [00:02<00:00,  3.70it/s]"
     ]
    },
    {
     "name": "stdout",
     "output_type": "stream",
     "text": [
      "                   all        166        166          1          1      0.995      0.936      0.957      0.958      0.965      0.662\n"
     ]
    },
    {
     "name": "stderr",
     "output_type": "stream",
     "text": [
      "\n"
     ]
    },
    {
     "name": "stdout",
     "output_type": "stream",
     "text": [
      "\n",
      "      Epoch    GPU_mem   box_loss  pose_loss  kobj_loss   cls_loss   dfl_loss  Instances       Size\n"
     ]
    },
    {
     "name": "stderr",
     "output_type": "stream",
     "text": [
      "     85/500      7.28G     0.3232      1.415     0.3673     0.2635     0.9538         14        640: 100%|██████████| 111/111 [00:58<00:00,  1.89it/s]\n",
      "                 Class     Images  Instances      Box(P          R      mAP50  mAP50-95)     Pose(P          R      mAP50  mAP50-95): 100%|██████████| 11/11 [00:03<00:00,  3.64it/s]"
     ]
    },
    {
     "name": "stdout",
     "output_type": "stream",
     "text": [
      "                   all        166        166      0.999          1      0.995      0.946      0.951      0.952       0.97      0.659\n"
     ]
    },
    {
     "name": "stderr",
     "output_type": "stream",
     "text": [
      "\n"
     ]
    },
    {
     "name": "stdout",
     "output_type": "stream",
     "text": [
      "\n",
      "      Epoch    GPU_mem   box_loss  pose_loss  kobj_loss   cls_loss   dfl_loss  Instances       Size\n"
     ]
    },
    {
     "name": "stderr",
     "output_type": "stream",
     "text": [
      "     86/500      7.27G      0.338      1.437     0.3792     0.2658     0.9505         14        640: 100%|██████████| 111/111 [00:58<00:00,  1.90it/s]\n",
      "                 Class     Images  Instances      Box(P          R      mAP50  mAP50-95)     Pose(P          R      mAP50  mAP50-95): 100%|██████████| 11/11 [00:02<00:00,  3.68it/s]"
     ]
    },
    {
     "name": "stdout",
     "output_type": "stream",
     "text": [
      "                   all        166        166      0.998          1      0.995      0.936      0.964       0.97       0.97      0.686\n"
     ]
    },
    {
     "name": "stderr",
     "output_type": "stream",
     "text": [
      "\n"
     ]
    },
    {
     "name": "stdout",
     "output_type": "stream",
     "text": [
      "\n",
      "      Epoch    GPU_mem   box_loss  pose_loss  kobj_loss   cls_loss   dfl_loss  Instances       Size\n"
     ]
    },
    {
     "name": "stderr",
     "output_type": "stream",
     "text": [
      "     87/500      7.01G     0.3383       1.44     0.3764     0.2645     0.9533         14        640: 100%|██████████| 111/111 [00:58<00:00,  1.90it/s]\n",
      "                 Class     Images  Instances      Box(P          R      mAP50  mAP50-95)     Pose(P          R      mAP50  mAP50-95): 100%|██████████| 11/11 [00:02<00:00,  3.69it/s]"
     ]
    },
    {
     "name": "stdout",
     "output_type": "stream",
     "text": [
      "                   all        166        166      0.997          1      0.995      0.941      0.957      0.958      0.965      0.711\n"
     ]
    },
    {
     "name": "stderr",
     "output_type": "stream",
     "text": [
      "\n"
     ]
    },
    {
     "name": "stdout",
     "output_type": "stream",
     "text": [
      "\n",
      "      Epoch    GPU_mem   box_loss  pose_loss  kobj_loss   cls_loss   dfl_loss  Instances       Size\n"
     ]
    },
    {
     "name": "stderr",
     "output_type": "stream",
     "text": [
      "     88/500      7.25G     0.3285      1.387     0.3746     0.2634     0.9465         12        640: 100%|██████████| 111/111 [00:58<00:00,  1.90it/s]\n",
      "                 Class     Images  Instances      Box(P          R      mAP50  mAP50-95)     Pose(P          R      mAP50  mAP50-95): 100%|██████████| 11/11 [00:02<00:00,  3.72it/s]"
     ]
    },
    {
     "name": "stdout",
     "output_type": "stream",
     "text": [
      "                   all        166        166          1          1      0.995      0.954      0.945      0.946      0.944      0.719\n"
     ]
    },
    {
     "name": "stderr",
     "output_type": "stream",
     "text": [
      "\n"
     ]
    },
    {
     "name": "stdout",
     "output_type": "stream",
     "text": [
      "\n",
      "      Epoch    GPU_mem   box_loss  pose_loss  kobj_loss   cls_loss   dfl_loss  Instances       Size\n"
     ]
    },
    {
     "name": "stderr",
     "output_type": "stream",
     "text": [
      "     89/500      7.26G      0.323      1.248     0.3786     0.2562     0.9446         13        640: 100%|██████████| 111/111 [00:58<00:00,  1.90it/s]\n",
      "                 Class     Images  Instances      Box(P          R      mAP50  mAP50-95)     Pose(P          R      mAP50  mAP50-95): 100%|██████████| 11/11 [00:02<00:00,  3.70it/s]"
     ]
    },
    {
     "name": "stdout",
     "output_type": "stream",
     "text": [
      "                   all        166        166          1          1      0.995      0.944      0.952      0.952      0.958      0.702\n"
     ]
    },
    {
     "name": "stderr",
     "output_type": "stream",
     "text": [
      "\n"
     ]
    },
    {
     "name": "stdout",
     "output_type": "stream",
     "text": [
      "\n",
      "      Epoch    GPU_mem   box_loss  pose_loss  kobj_loss   cls_loss   dfl_loss  Instances       Size\n"
     ]
    },
    {
     "name": "stderr",
     "output_type": "stream",
     "text": [
      "     90/500      7.29G       0.34      1.327     0.3789     0.2664     0.9532         15        640: 100%|██████████| 111/111 [00:58<00:00,  1.90it/s]\n",
      "                 Class     Images  Instances      Box(P          R      mAP50  mAP50-95)     Pose(P          R      mAP50  mAP50-95): 100%|██████████| 11/11 [00:03<00:00,  3.64it/s]"
     ]
    },
    {
     "name": "stdout",
     "output_type": "stream",
     "text": [
      "                   all        166        166      0.999          1      0.995      0.939      0.976      0.976      0.981      0.728\n"
     ]
    },
    {
     "name": "stderr",
     "output_type": "stream",
     "text": [
      "\n"
     ]
    },
    {
     "name": "stdout",
     "output_type": "stream",
     "text": [
      "\n",
      "      Epoch    GPU_mem   box_loss  pose_loss  kobj_loss   cls_loss   dfl_loss  Instances       Size\n"
     ]
    },
    {
     "name": "stderr",
     "output_type": "stream",
     "text": [
      "     91/500       7.3G     0.3341       1.27     0.3762     0.2567     0.9485         15        640: 100%|██████████| 111/111 [00:58<00:00,  1.89it/s]\n",
      "                 Class     Images  Instances      Box(P          R      mAP50  mAP50-95)     Pose(P          R      mAP50  mAP50-95): 100%|██████████| 11/11 [00:03<00:00,  3.67it/s]"
     ]
    },
    {
     "name": "stdout",
     "output_type": "stream",
     "text": [
      "                   all        166        166          1          1      0.995      0.948      0.952      0.952      0.953      0.713\n"
     ]
    },
    {
     "name": "stderr",
     "output_type": "stream",
     "text": [
      "\n"
     ]
    },
    {
     "name": "stdout",
     "output_type": "stream",
     "text": [
      "\n",
      "      Epoch    GPU_mem   box_loss  pose_loss  kobj_loss   cls_loss   dfl_loss  Instances       Size\n"
     ]
    },
    {
     "name": "stderr",
     "output_type": "stream",
     "text": [
      "     92/500      7.29G     0.3325      1.358     0.3783     0.2549      0.951         11        640: 100%|██████████| 111/111 [00:58<00:00,  1.90it/s]\n",
      "                 Class     Images  Instances      Box(P          R      mAP50  mAP50-95)     Pose(P          R      mAP50  mAP50-95): 100%|██████████| 11/11 [00:02<00:00,  3.68it/s]"
     ]
    },
    {
     "name": "stdout",
     "output_type": "stream",
     "text": [
      "                   all        166        166          1          1      0.995      0.947      0.939       0.94      0.944      0.688\n"
     ]
    },
    {
     "name": "stderr",
     "output_type": "stream",
     "text": [
      "\n"
     ]
    },
    {
     "name": "stdout",
     "output_type": "stream",
     "text": [
      "\n",
      "      Epoch    GPU_mem   box_loss  pose_loss  kobj_loss   cls_loss   dfl_loss  Instances       Size\n"
     ]
    },
    {
     "name": "stderr",
     "output_type": "stream",
     "text": [
      "     93/500      7.28G     0.3571       1.39     0.3787     0.2754     0.9578         10        640: 100%|██████████| 111/111 [00:58<00:00,  1.90it/s]\n",
      "                 Class     Images  Instances      Box(P          R      mAP50  mAP50-95)     Pose(P          R      mAP50  mAP50-95): 100%|██████████| 11/11 [00:02<00:00,  3.71it/s]"
     ]
    },
    {
     "name": "stdout",
     "output_type": "stream",
     "text": [
      "                   all        166        166          1          1      0.995      0.966      0.957      0.958      0.958      0.696\n"
     ]
    },
    {
     "name": "stderr",
     "output_type": "stream",
     "text": [
      "\n"
     ]
    },
    {
     "name": "stdout",
     "output_type": "stream",
     "text": [
      "\n",
      "      Epoch    GPU_mem   box_loss  pose_loss  kobj_loss   cls_loss   dfl_loss  Instances       Size\n"
     ]
    },
    {
     "name": "stderr",
     "output_type": "stream",
     "text": [
      "     94/500      7.27G     0.3463      1.295     0.3703      0.274     0.9587         14        640: 100%|██████████| 111/111 [00:58<00:00,  1.89it/s]\n",
      "                 Class     Images  Instances      Box(P          R      mAP50  mAP50-95)     Pose(P          R      mAP50  mAP50-95): 100%|██████████| 11/11 [00:02<00:00,  3.72it/s]"
     ]
    },
    {
     "name": "stdout",
     "output_type": "stream",
     "text": [
      "                   all        166        166          1          1      0.995      0.956      0.939       0.94      0.934      0.761\n"
     ]
    },
    {
     "name": "stderr",
     "output_type": "stream",
     "text": [
      "\n"
     ]
    },
    {
     "name": "stdout",
     "output_type": "stream",
     "text": [
      "\n",
      "      Epoch    GPU_mem   box_loss  pose_loss  kobj_loss   cls_loss   dfl_loss  Instances       Size\n"
     ]
    },
    {
     "name": "stderr",
     "output_type": "stream",
     "text": [
      "     95/500      6.99G     0.3293      1.362     0.3752     0.2575     0.9462         11        640: 100%|██████████| 111/111 [00:58<00:00,  1.90it/s]\n",
      "                 Class     Images  Instances      Box(P          R      mAP50  mAP50-95)     Pose(P          R      mAP50  mAP50-95): 100%|██████████| 11/11 [00:02<00:00,  3.70it/s]"
     ]
    },
    {
     "name": "stdout",
     "output_type": "stream",
     "text": [
      "                   all        166        166          1          1      0.995      0.946      0.964      0.964      0.968      0.759\n"
     ]
    },
    {
     "name": "stderr",
     "output_type": "stream",
     "text": [
      "\n"
     ]
    },
    {
     "name": "stdout",
     "output_type": "stream",
     "text": [
      "\n",
      "      Epoch    GPU_mem   box_loss  pose_loss  kobj_loss   cls_loss   dfl_loss  Instances       Size\n"
     ]
    },
    {
     "name": "stderr",
     "output_type": "stream",
     "text": [
      "     96/500      7.28G     0.3288      1.316     0.3745     0.2607     0.9469         14        640: 100%|██████████| 111/111 [00:58<00:00,  1.89it/s]\n",
      "                 Class     Images  Instances      Box(P          R      mAP50  mAP50-95)     Pose(P          R      mAP50  mAP50-95): 100%|██████████| 11/11 [00:03<00:00,  3.66it/s]"
     ]
    },
    {
     "name": "stdout",
     "output_type": "stream",
     "text": [
      "                   all        166        166      0.999          1      0.995      0.954      0.971      0.952      0.974      0.716\n"
     ]
    },
    {
     "name": "stderr",
     "output_type": "stream",
     "text": [
      "\n"
     ]
    },
    {
     "name": "stdout",
     "output_type": "stream",
     "text": [
      "\n",
      "      Epoch    GPU_mem   box_loss  pose_loss  kobj_loss   cls_loss   dfl_loss  Instances       Size\n"
     ]
    },
    {
     "name": "stderr",
     "output_type": "stream",
     "text": [
      "     97/500       7.3G     0.3307      1.278     0.3774     0.2592     0.9416         16        640: 100%|██████████| 111/111 [00:58<00:00,  1.89it/s]\n",
      "                 Class     Images  Instances      Box(P          R      mAP50  mAP50-95)     Pose(P          R      mAP50  mAP50-95): 100%|██████████| 11/11 [00:03<00:00,  3.63it/s]"
     ]
    },
    {
     "name": "stdout",
     "output_type": "stream",
     "text": [
      "                   all        166        166      0.999          1      0.995      0.956      0.963      0.964      0.959      0.707\n"
     ]
    },
    {
     "name": "stderr",
     "output_type": "stream",
     "text": [
      "\n"
     ]
    },
    {
     "name": "stdout",
     "output_type": "stream",
     "text": [
      "\n",
      "      Epoch    GPU_mem   box_loss  pose_loss  kobj_loss   cls_loss   dfl_loss  Instances       Size\n"
     ]
    },
    {
     "name": "stderr",
     "output_type": "stream",
     "text": [
      "     98/500      7.28G     0.3303      1.241     0.3752     0.2608     0.9521         11        640: 100%|██████████| 111/111 [00:58<00:00,  1.90it/s]\n",
      "                 Class     Images  Instances      Box(P          R      mAP50  mAP50-95)     Pose(P          R      mAP50  mAP50-95): 100%|██████████| 11/11 [00:02<00:00,  3.67it/s]"
     ]
    },
    {
     "name": "stdout",
     "output_type": "stream",
     "text": [
      "                   all        166        166          1          1      0.995      0.954      0.952      0.952      0.958        0.7\n"
     ]
    },
    {
     "name": "stderr",
     "output_type": "stream",
     "text": [
      "\n"
     ]
    },
    {
     "name": "stdout",
     "output_type": "stream",
     "text": [
      "\n",
      "      Epoch    GPU_mem   box_loss  pose_loss  kobj_loss   cls_loss   dfl_loss  Instances       Size\n"
     ]
    },
    {
     "name": "stderr",
     "output_type": "stream",
     "text": [
      "     99/500      7.27G     0.3332      1.312     0.3731     0.2609     0.9469         11        640: 100%|██████████| 111/111 [00:58<00:00,  1.90it/s]\n",
      "                 Class     Images  Instances      Box(P          R      mAP50  mAP50-95)     Pose(P          R      mAP50  mAP50-95): 100%|██████████| 11/11 [00:02<00:00,  3.74it/s]"
     ]
    },
    {
     "name": "stdout",
     "output_type": "stream",
     "text": [
      "                   all        166        166          1          1      0.995      0.954      0.951      0.952      0.956      0.706\n"
     ]
    },
    {
     "name": "stderr",
     "output_type": "stream",
     "text": [
      "\n"
     ]
    },
    {
     "name": "stdout",
     "output_type": "stream",
     "text": [
      "\n",
      "      Epoch    GPU_mem   box_loss  pose_loss  kobj_loss   cls_loss   dfl_loss  Instances       Size\n"
     ]
    },
    {
     "name": "stderr",
     "output_type": "stream",
     "text": [
      "    100/500      7.27G     0.3365      1.216     0.3607     0.2562     0.9508         14        640: 100%|██████████| 111/111 [00:58<00:00,  1.88it/s]\n",
      "                 Class     Images  Instances      Box(P          R      mAP50  mAP50-95)     Pose(P          R      mAP50  mAP50-95): 100%|██████████| 11/11 [00:02<00:00,  3.68it/s]"
     ]
    },
    {
     "name": "stdout",
     "output_type": "stream",
     "text": [
      "                   all        166        166      0.999          1      0.995      0.955      0.963      0.964      0.965      0.685\n"
     ]
    },
    {
     "name": "stderr",
     "output_type": "stream",
     "text": [
      "\n"
     ]
    },
    {
     "name": "stdout",
     "output_type": "stream",
     "text": [
      "\n",
      "      Epoch    GPU_mem   box_loss  pose_loss  kobj_loss   cls_loss   dfl_loss  Instances       Size\n"
     ]
    },
    {
     "name": "stderr",
     "output_type": "stream",
     "text": [
      "    101/500      7.28G     0.3257      1.314     0.3721      0.258     0.9367         12        640: 100%|██████████| 111/111 [00:58<00:00,  1.89it/s]\n",
      "                 Class     Images  Instances      Box(P          R      mAP50  mAP50-95)     Pose(P          R      mAP50  mAP50-95): 100%|██████████| 11/11 [00:03<00:00,  3.56it/s]"
     ]
    },
    {
     "name": "stdout",
     "output_type": "stream",
     "text": [
      "                   all        166        166          1          1      0.995       0.96      0.951      0.952      0.949      0.707\n"
     ]
    },
    {
     "name": "stderr",
     "output_type": "stream",
     "text": [
      "\n"
     ]
    },
    {
     "name": "stdout",
     "output_type": "stream",
     "text": [
      "\n",
      "      Epoch    GPU_mem   box_loss  pose_loss  kobj_loss   cls_loss   dfl_loss  Instances       Size\n"
     ]
    },
    {
     "name": "stderr",
     "output_type": "stream",
     "text": [
      "    102/500      7.29G     0.3159      1.279     0.3753     0.2549     0.9373         14        640: 100%|██████████| 111/111 [00:58<00:00,  1.89it/s]\n",
      "                 Class     Images  Instances      Box(P          R      mAP50  mAP50-95)     Pose(P          R      mAP50  mAP50-95): 100%|██████████| 11/11 [00:03<00:00,  3.62it/s]"
     ]
    },
    {
     "name": "stdout",
     "output_type": "stream",
     "text": [
      "                   all        166        166          1          1      0.995      0.956      0.963      0.964       0.97       0.74\n"
     ]
    },
    {
     "name": "stderr",
     "output_type": "stream",
     "text": [
      "\n"
     ]
    },
    {
     "name": "stdout",
     "output_type": "stream",
     "text": [
      "\n",
      "      Epoch    GPU_mem   box_loss  pose_loss  kobj_loss   cls_loss   dfl_loss  Instances       Size\n"
     ]
    },
    {
     "name": "stderr",
     "output_type": "stream",
     "text": [
      "    103/500      6.98G     0.3167      1.266     0.3702      0.244     0.9402         10        640: 100%|██████████| 111/111 [00:58<00:00,  1.89it/s]\n",
      "                 Class     Images  Instances      Box(P          R      mAP50  mAP50-95)     Pose(P          R      mAP50  mAP50-95): 100%|██████████| 11/11 [00:03<00:00,  3.58it/s]"
     ]
    },
    {
     "name": "stdout",
     "output_type": "stream",
     "text": [
      "                   all        166        166          1          1      0.995      0.955      0.976      0.976      0.982      0.761\n"
     ]
    },
    {
     "name": "stderr",
     "output_type": "stream",
     "text": [
      "\n"
     ]
    },
    {
     "name": "stdout",
     "output_type": "stream",
     "text": [
      "\n",
      "      Epoch    GPU_mem   box_loss  pose_loss  kobj_loss   cls_loss   dfl_loss  Instances       Size\n"
     ]
    },
    {
     "name": "stderr",
     "output_type": "stream",
     "text": [
      "    104/500      7.25G     0.3303      1.193     0.3699      0.258     0.9501         15        640: 100%|██████████| 111/111 [00:58<00:00,  1.89it/s]\n",
      "                 Class     Images  Instances      Box(P          R      mAP50  mAP50-95)     Pose(P          R      mAP50  mAP50-95): 100%|██████████| 11/11 [00:02<00:00,  3.70it/s]"
     ]
    },
    {
     "name": "stdout",
     "output_type": "stream",
     "text": [
      "                   all        166        166      0.984          1      0.995      0.944      0.957       0.97      0.985       0.72\n"
     ]
    },
    {
     "name": "stderr",
     "output_type": "stream",
     "text": [
      "\n"
     ]
    },
    {
     "name": "stdout",
     "output_type": "stream",
     "text": [
      "\n",
      "      Epoch    GPU_mem   box_loss  pose_loss  kobj_loss   cls_loss   dfl_loss  Instances       Size\n"
     ]
    },
    {
     "name": "stderr",
     "output_type": "stream",
     "text": [
      "    105/500      7.26G     0.3248      1.276     0.3769     0.2623      0.949         14        640: 100%|██████████| 111/111 [00:58<00:00,  1.89it/s]\n",
      "                 Class     Images  Instances      Box(P          R      mAP50  mAP50-95)     Pose(P          R      mAP50  mAP50-95): 100%|██████████| 11/11 [00:03<00:00,  3.61it/s]"
     ]
    },
    {
     "name": "stdout",
     "output_type": "stream",
     "text": [
      "                   all        166        166      0.999          1      0.995      0.948      0.945      0.946      0.968      0.729\n"
     ]
    },
    {
     "name": "stderr",
     "output_type": "stream",
     "text": [
      "\n"
     ]
    },
    {
     "name": "stdout",
     "output_type": "stream",
     "text": [
      "\n",
      "      Epoch    GPU_mem   box_loss  pose_loss  kobj_loss   cls_loss   dfl_loss  Instances       Size\n"
     ]
    },
    {
     "name": "stderr",
     "output_type": "stream",
     "text": [
      "    106/500      7.26G     0.3332      1.335     0.3638     0.2562     0.9406         11        640: 100%|██████████| 111/111 [00:58<00:00,  1.89it/s]\n",
      "                 Class     Images  Instances      Box(P          R      mAP50  mAP50-95)     Pose(P          R      mAP50  mAP50-95): 100%|██████████| 11/11 [00:03<00:00,  3.55it/s]"
     ]
    },
    {
     "name": "stdout",
     "output_type": "stream",
     "text": [
      "                   all        166        166          1          1      0.995      0.952      0.964      0.964      0.971      0.726\n"
     ]
    },
    {
     "name": "stderr",
     "output_type": "stream",
     "text": [
      "\n"
     ]
    },
    {
     "name": "stdout",
     "output_type": "stream",
     "text": [
      "\n",
      "      Epoch    GPU_mem   box_loss  pose_loss  kobj_loss   cls_loss   dfl_loss  Instances       Size\n"
     ]
    },
    {
     "name": "stderr",
     "output_type": "stream",
     "text": [
      "    107/500      7.27G     0.3149       1.25     0.3664     0.2493     0.9452         13        640: 100%|██████████| 111/111 [00:58<00:00,  1.89it/s]\n",
      "                 Class     Images  Instances      Box(P          R      mAP50  mAP50-95)     Pose(P          R      mAP50  mAP50-95): 100%|██████████| 11/11 [00:03<00:00,  3.57it/s]"
     ]
    },
    {
     "name": "stdout",
     "output_type": "stream",
     "text": [
      "                   all        166        166      0.999          1      0.995      0.959      0.957      0.958      0.965      0.705\n"
     ]
    },
    {
     "name": "stderr",
     "output_type": "stream",
     "text": [
      "\n"
     ]
    },
    {
     "name": "stdout",
     "output_type": "stream",
     "text": [
      "\n",
      "      Epoch    GPU_mem   box_loss  pose_loss  kobj_loss   cls_loss   dfl_loss  Instances       Size\n"
     ]
    },
    {
     "name": "stderr",
     "output_type": "stream",
     "text": [
      "    108/500      7.27G     0.3164      1.199      0.363      0.251     0.9483         10        640: 100%|██████████| 111/111 [00:58<00:00,  1.89it/s]\n",
      "                 Class     Images  Instances      Box(P          R      mAP50  mAP50-95)     Pose(P          R      mAP50  mAP50-95): 100%|██████████| 11/11 [00:03<00:00,  3.47it/s]"
     ]
    },
    {
     "name": "stdout",
     "output_type": "stream",
     "text": [
      "                   all        166        166      0.998          1      0.995      0.954      0.962      0.964      0.962      0.701\n"
     ]
    },
    {
     "name": "stderr",
     "output_type": "stream",
     "text": [
      "\n"
     ]
    },
    {
     "name": "stdout",
     "output_type": "stream",
     "text": [
      "\n",
      "      Epoch    GPU_mem   box_loss  pose_loss  kobj_loss   cls_loss   dfl_loss  Instances       Size\n"
     ]
    },
    {
     "name": "stderr",
     "output_type": "stream",
     "text": [
      "    109/500      7.25G     0.3204      1.198     0.3614     0.2505      0.949         15        640: 100%|██████████| 111/111 [00:58<00:00,  1.89it/s]\n",
      "                 Class     Images  Instances      Box(P          R      mAP50  mAP50-95)     Pose(P          R      mAP50  mAP50-95): 100%|██████████| 11/11 [00:02<00:00,  3.67it/s]"
     ]
    },
    {
     "name": "stdout",
     "output_type": "stream",
     "text": [
      "                   all        166        166      0.999          1      0.995      0.958      0.951      0.952      0.961       0.72\n"
     ]
    },
    {
     "name": "stderr",
     "output_type": "stream",
     "text": [
      "\n"
     ]
    },
    {
     "name": "stdout",
     "output_type": "stream",
     "text": [
      "\n",
      "      Epoch    GPU_mem   box_loss  pose_loss  kobj_loss   cls_loss   dfl_loss  Instances       Size\n"
     ]
    },
    {
     "name": "stderr",
     "output_type": "stream",
     "text": [
      "    110/500      7.27G     0.3114       1.18     0.3658     0.2484     0.9421         12        640: 100%|██████████| 111/111 [00:58<00:00,  1.89it/s]\n",
      "                 Class     Images  Instances      Box(P          R      mAP50  mAP50-95)     Pose(P          R      mAP50  mAP50-95): 100%|██████████| 11/11 [00:03<00:00,  3.59it/s]"
     ]
    },
    {
     "name": "stdout",
     "output_type": "stream",
     "text": [
      "                   all        166        166          1          1      0.995       0.95      0.982      0.982      0.971      0.714\n"
     ]
    },
    {
     "name": "stderr",
     "output_type": "stream",
     "text": [
      "\n"
     ]
    },
    {
     "name": "stdout",
     "output_type": "stream",
     "text": [
      "\n",
      "      Epoch    GPU_mem   box_loss  pose_loss  kobj_loss   cls_loss   dfl_loss  Instances       Size\n"
     ]
    },
    {
     "name": "stderr",
     "output_type": "stream",
     "text": [
      "    111/500         7G     0.3197      1.192     0.3662     0.2578     0.9487         10        640: 100%|██████████| 111/111 [00:58<00:00,  1.89it/s]\n",
      "                 Class     Images  Instances      Box(P          R      mAP50  mAP50-95)     Pose(P          R      mAP50  mAP50-95): 100%|██████████| 11/11 [00:03<00:00,  3.53it/s]"
     ]
    },
    {
     "name": "stdout",
     "output_type": "stream",
     "text": [
      "                   all        166        166          1          1      0.995      0.953      0.957      0.958      0.942      0.703\n"
     ]
    },
    {
     "name": "stderr",
     "output_type": "stream",
     "text": [
      "\n"
     ]
    },
    {
     "name": "stdout",
     "output_type": "stream",
     "text": [
      "\n",
      "      Epoch    GPU_mem   box_loss  pose_loss  kobj_loss   cls_loss   dfl_loss  Instances       Size\n"
     ]
    },
    {
     "name": "stderr",
     "output_type": "stream",
     "text": [
      "    112/500      7.27G     0.3095      1.185       0.37     0.2437     0.9376         16        640: 100%|██████████| 111/111 [00:58<00:00,  1.89it/s]\n",
      "                 Class     Images  Instances      Box(P          R      mAP50  mAP50-95)     Pose(P          R      mAP50  mAP50-95): 100%|██████████| 11/11 [00:03<00:00,  3.54it/s]"
     ]
    },
    {
     "name": "stdout",
     "output_type": "stream",
     "text": [
      "                   all        166        166      0.995          1      0.995      0.966      0.952       0.97      0.982      0.765\n"
     ]
    },
    {
     "name": "stderr",
     "output_type": "stream",
     "text": [
      "\n"
     ]
    },
    {
     "name": "stdout",
     "output_type": "stream",
     "text": [
      "\n",
      "      Epoch    GPU_mem   box_loss  pose_loss  kobj_loss   cls_loss   dfl_loss  Instances       Size\n"
     ]
    },
    {
     "name": "stderr",
     "output_type": "stream",
     "text": [
      "    113/500      7.25G      0.307      1.263     0.3675     0.2449     0.9381          9        640: 100%|██████████| 111/111 [00:59<00:00,  1.88it/s]\n",
      "                 Class     Images  Instances      Box(P          R      mAP50  mAP50-95)     Pose(P          R      mAP50  mAP50-95): 100%|██████████| 11/11 [00:03<00:00,  3.53it/s]"
     ]
    },
    {
     "name": "stdout",
     "output_type": "stream",
     "text": [
      "                   all        166        166          1          1      0.995      0.959      0.964      0.964      0.975      0.738\n"
     ]
    },
    {
     "name": "stderr",
     "output_type": "stream",
     "text": [
      "\n"
     ]
    },
    {
     "name": "stdout",
     "output_type": "stream",
     "text": [
      "\n",
      "      Epoch    GPU_mem   box_loss  pose_loss  kobj_loss   cls_loss   dfl_loss  Instances       Size\n"
     ]
    },
    {
     "name": "stderr",
     "output_type": "stream",
     "text": [
      "    114/500      7.29G     0.3107      1.204     0.3606     0.2421     0.9373         14        640: 100%|██████████| 111/111 [00:58<00:00,  1.89it/s]\n",
      "                 Class     Images  Instances      Box(P          R      mAP50  mAP50-95)     Pose(P          R      mAP50  mAP50-95): 100%|██████████| 11/11 [00:03<00:00,  3.52it/s]"
     ]
    },
    {
     "name": "stdout",
     "output_type": "stream",
     "text": [
      "                   all        166        166          1          1      0.995      0.953      0.957      0.958      0.952      0.732\n"
     ]
    },
    {
     "name": "stderr",
     "output_type": "stream",
     "text": [
      "\n"
     ]
    },
    {
     "name": "stdout",
     "output_type": "stream",
     "text": [
      "\n",
      "      Epoch    GPU_mem   box_loss  pose_loss  kobj_loss   cls_loss   dfl_loss  Instances       Size\n"
     ]
    },
    {
     "name": "stderr",
     "output_type": "stream",
     "text": [
      "    115/500      7.29G     0.3098       1.22     0.3637      0.247     0.9402         13        640: 100%|██████████| 111/111 [00:58<00:00,  1.89it/s]\n",
      "                 Class     Images  Instances      Box(P          R      mAP50  mAP50-95)     Pose(P          R      mAP50  mAP50-95): 100%|██████████| 11/11 [00:03<00:00,  3.59it/s]"
     ]
    },
    {
     "name": "stdout",
     "output_type": "stream",
     "text": [
      "                   all        166        166          1          1      0.995      0.949      0.947      0.966      0.957      0.736\n"
     ]
    },
    {
     "name": "stderr",
     "output_type": "stream",
     "text": [
      "\n"
     ]
    },
    {
     "name": "stdout",
     "output_type": "stream",
     "text": [
      "\n",
      "      Epoch    GPU_mem   box_loss  pose_loss  kobj_loss   cls_loss   dfl_loss  Instances       Size\n"
     ]
    },
    {
     "name": "stderr",
     "output_type": "stream",
     "text": [
      "    116/500      7.27G     0.3221      1.286     0.3622     0.2529     0.9498          8        640: 100%|██████████| 111/111 [00:58<00:00,  1.89it/s]\n",
      "                 Class     Images  Instances      Box(P          R      mAP50  mAP50-95)     Pose(P          R      mAP50  mAP50-95): 100%|██████████| 11/11 [00:03<00:00,  3.53it/s]"
     ]
    },
    {
     "name": "stdout",
     "output_type": "stream",
     "text": [
      "                   all        166        166      0.999          1      0.995      0.947      0.933      0.934      0.939       0.72\n"
     ]
    },
    {
     "name": "stderr",
     "output_type": "stream",
     "text": [
      "\n"
     ]
    },
    {
     "name": "stdout",
     "output_type": "stream",
     "text": [
      "\n",
      "      Epoch    GPU_mem   box_loss  pose_loss  kobj_loss   cls_loss   dfl_loss  Instances       Size\n"
     ]
    },
    {
     "name": "stderr",
     "output_type": "stream",
     "text": [
      "    117/500      7.29G     0.3249      1.258     0.3643     0.2545     0.9473         10        640: 100%|██████████| 111/111 [00:58<00:00,  1.89it/s]\n",
      "                 Class     Images  Instances      Box(P          R      mAP50  mAP50-95)     Pose(P          R      mAP50  mAP50-95): 100%|██████████| 11/11 [00:03<00:00,  3.50it/s]"
     ]
    },
    {
     "name": "stdout",
     "output_type": "stream",
     "text": [
      "                   all        166        166          1          1      0.995      0.954       0.97       0.97      0.963      0.748\n"
     ]
    },
    {
     "name": "stderr",
     "output_type": "stream",
     "text": [
      "\n"
     ]
    },
    {
     "name": "stdout",
     "output_type": "stream",
     "text": [
      "\n",
      "      Epoch    GPU_mem   box_loss  pose_loss  kobj_loss   cls_loss   dfl_loss  Instances       Size\n"
     ]
    },
    {
     "name": "stderr",
     "output_type": "stream",
     "text": [
      "    118/500      7.26G     0.3123        1.2     0.3605      0.252     0.9466         10        640: 100%|██████████| 111/111 [00:58<00:00,  1.89it/s]\n",
      "                 Class     Images  Instances      Box(P          R      mAP50  mAP50-95)     Pose(P          R      mAP50  mAP50-95): 100%|██████████| 11/11 [00:03<00:00,  3.52it/s]"
     ]
    },
    {
     "name": "stdout",
     "output_type": "stream",
     "text": [
      "                   all        166        166          1          1      0.995      0.962      0.994      0.994      0.995      0.777\n"
     ]
    },
    {
     "name": "stderr",
     "output_type": "stream",
     "text": [
      "\n"
     ]
    },
    {
     "name": "stdout",
     "output_type": "stream",
     "text": [
      "\n",
      "      Epoch    GPU_mem   box_loss  pose_loss  kobj_loss   cls_loss   dfl_loss  Instances       Size\n"
     ]
    },
    {
     "name": "stderr",
     "output_type": "stream",
     "text": [
      "    119/500      6.99G     0.3116      1.228     0.3714     0.2417      0.937          8        640: 100%|██████████| 111/111 [00:58<00:00,  1.89it/s]\n",
      "                 Class     Images  Instances      Box(P          R      mAP50  mAP50-95)     Pose(P          R      mAP50  mAP50-95): 100%|██████████| 11/11 [00:03<00:00,  3.52it/s]"
     ]
    },
    {
     "name": "stdout",
     "output_type": "stream",
     "text": [
      "                   all        166        166      0.999          1      0.995      0.954      0.969       0.97      0.978      0.745\n"
     ]
    },
    {
     "name": "stderr",
     "output_type": "stream",
     "text": [
      "\n"
     ]
    },
    {
     "name": "stdout",
     "output_type": "stream",
     "text": [
      "\n",
      "      Epoch    GPU_mem   box_loss  pose_loss  kobj_loss   cls_loss   dfl_loss  Instances       Size\n"
     ]
    },
    {
     "name": "stderr",
     "output_type": "stream",
     "text": [
      "    120/500      7.25G     0.3031      1.181      0.365     0.2457     0.9322         10        640: 100%|██████████| 111/111 [00:58<00:00,  1.89it/s]\n",
      "                 Class     Images  Instances      Box(P          R      mAP50  mAP50-95)     Pose(P          R      mAP50  mAP50-95): 100%|██████████| 11/11 [00:03<00:00,  3.53it/s]"
     ]
    },
    {
     "name": "stdout",
     "output_type": "stream",
     "text": [
      "                   all        166        166          1          1      0.995       0.96      0.982      0.982      0.989      0.755\n"
     ]
    },
    {
     "name": "stderr",
     "output_type": "stream",
     "text": [
      "\n"
     ]
    },
    {
     "name": "stdout",
     "output_type": "stream",
     "text": [
      "\n",
      "      Epoch    GPU_mem   box_loss  pose_loss  kobj_loss   cls_loss   dfl_loss  Instances       Size\n"
     ]
    },
    {
     "name": "stderr",
     "output_type": "stream",
     "text": [
      "    121/500      7.29G     0.2945      1.231     0.3584     0.2412     0.9292          8        640: 100%|██████████| 111/111 [00:58<00:00,  1.89it/s]\n",
      "                 Class     Images  Instances      Box(P          R      mAP50  mAP50-95)     Pose(P          R      mAP50  mAP50-95): 100%|██████████| 11/11 [00:03<00:00,  3.57it/s]"
     ]
    },
    {
     "name": "stdout",
     "output_type": "stream",
     "text": [
      "                   all        166        166          1          1      0.995      0.963       0.97       0.97      0.975      0.762\n"
     ]
    },
    {
     "name": "stderr",
     "output_type": "stream",
     "text": [
      "\n"
     ]
    },
    {
     "name": "stdout",
     "output_type": "stream",
     "text": [
      "\n",
      "      Epoch    GPU_mem   box_loss  pose_loss  kobj_loss   cls_loss   dfl_loss  Instances       Size\n"
     ]
    },
    {
     "name": "stderr",
     "output_type": "stream",
     "text": [
      "    122/500      7.29G     0.2906      1.269     0.3573     0.2399     0.9272         13        640: 100%|██████████| 111/111 [00:58<00:00,  1.89it/s]\n",
      "                 Class     Images  Instances      Box(P          R      mAP50  mAP50-95)     Pose(P          R      mAP50  mAP50-95): 100%|██████████| 11/11 [00:03<00:00,  3.53it/s]"
     ]
    },
    {
     "name": "stdout",
     "output_type": "stream",
     "text": [
      "                   all        166        166      0.998          1      0.995       0.96      0.951      0.952      0.966       0.73\n"
     ]
    },
    {
     "name": "stderr",
     "output_type": "stream",
     "text": [
      "\n"
     ]
    },
    {
     "name": "stdout",
     "output_type": "stream",
     "text": [
      "\n",
      "      Epoch    GPU_mem   box_loss  pose_loss  kobj_loss   cls_loss   dfl_loss  Instances       Size\n"
     ]
    },
    {
     "name": "stderr",
     "output_type": "stream",
     "text": [
      "    123/500      7.27G     0.2821      1.134     0.3644     0.2299     0.9285         12        640: 100%|██████████| 111/111 [00:58<00:00,  1.89it/s]\n",
      "                 Class     Images  Instances      Box(P          R      mAP50  mAP50-95)     Pose(P          R      mAP50  mAP50-95): 100%|██████████| 11/11 [00:03<00:00,  3.60it/s]"
     ]
    },
    {
     "name": "stdout",
     "output_type": "stream",
     "text": [
      "                   all        166        166          1          1      0.995      0.957      0.939       0.94      0.953      0.734\n"
     ]
    },
    {
     "name": "stderr",
     "output_type": "stream",
     "text": [
      "\n"
     ]
    },
    {
     "name": "stdout",
     "output_type": "stream",
     "text": [
      "\n",
      "      Epoch    GPU_mem   box_loss  pose_loss  kobj_loss   cls_loss   dfl_loss  Instances       Size\n"
     ]
    },
    {
     "name": "stderr",
     "output_type": "stream",
     "text": [
      "    124/500       7.3G     0.2829      1.107     0.3586     0.2261     0.9303         10        640: 100%|██████████| 111/111 [00:58<00:00,  1.89it/s]\n",
      "                 Class     Images  Instances      Box(P          R      mAP50  mAP50-95)     Pose(P          R      mAP50  mAP50-95): 100%|██████████| 11/11 [00:03<00:00,  3.65it/s]"
     ]
    },
    {
     "name": "stdout",
     "output_type": "stream",
     "text": [
      "                   all        166        166          1          1      0.995      0.971      0.958      0.958      0.973      0.764\n"
     ]
    },
    {
     "name": "stderr",
     "output_type": "stream",
     "text": [
      "\n"
     ]
    },
    {
     "name": "stdout",
     "output_type": "stream",
     "text": [
      "\n",
      "      Epoch    GPU_mem   box_loss  pose_loss  kobj_loss   cls_loss   dfl_loss  Instances       Size\n"
     ]
    },
    {
     "name": "stderr",
     "output_type": "stream",
     "text": [
      "    125/500      7.29G     0.3044      1.188     0.3629      0.238     0.9345         11        640: 100%|██████████| 111/111 [00:58<00:00,  1.89it/s]\n",
      "                 Class     Images  Instances      Box(P          R      mAP50  mAP50-95)     Pose(P          R      mAP50  mAP50-95): 100%|██████████| 11/11 [00:03<00:00,  3.66it/s]"
     ]
    },
    {
     "name": "stdout",
     "output_type": "stream",
     "text": [
      "                   all        166        166      0.999          1      0.995      0.953      0.963      0.964      0.955      0.738\n"
     ]
    },
    {
     "name": "stderr",
     "output_type": "stream",
     "text": [
      "\n"
     ]
    },
    {
     "name": "stdout",
     "output_type": "stream",
     "text": [
      "\n",
      "      Epoch    GPU_mem   box_loss  pose_loss  kobj_loss   cls_loss   dfl_loss  Instances       Size\n"
     ]
    },
    {
     "name": "stderr",
     "output_type": "stream",
     "text": [
      "    126/500      7.28G     0.2924      1.222     0.3603     0.2324     0.9348         10        640: 100%|██████████| 111/111 [00:58<00:00,  1.89it/s]\n",
      "                 Class     Images  Instances      Box(P          R      mAP50  mAP50-95)     Pose(P          R      mAP50  mAP50-95): 100%|██████████| 11/11 [00:03<00:00,  3.61it/s]"
     ]
    },
    {
     "name": "stdout",
     "output_type": "stream",
     "text": [
      "                   all        166        166      0.988          1      0.993       0.95      0.963       0.97      0.965       0.76\n"
     ]
    },
    {
     "name": "stderr",
     "output_type": "stream",
     "text": [
      "\n"
     ]
    },
    {
     "name": "stdout",
     "output_type": "stream",
     "text": [
      "\n",
      "      Epoch    GPU_mem   box_loss  pose_loss  kobj_loss   cls_loss   dfl_loss  Instances       Size\n"
     ]
    },
    {
     "name": "stderr",
     "output_type": "stream",
     "text": [
      "    127/500      7.01G     0.2911      1.152      0.366       0.23     0.9305         13        640: 100%|██████████| 111/111 [00:58<00:00,  1.90it/s]\n",
      "                 Class     Images  Instances      Box(P          R      mAP50  mAP50-95)     Pose(P          R      mAP50  mAP50-95): 100%|██████████| 11/11 [00:03<00:00,  3.58it/s]"
     ]
    },
    {
     "name": "stdout",
     "output_type": "stream",
     "text": [
      "                   all        166        166          1          1      0.995      0.964      0.964      0.964      0.977      0.758\n"
     ]
    },
    {
     "name": "stderr",
     "output_type": "stream",
     "text": [
      "\n"
     ]
    },
    {
     "name": "stdout",
     "output_type": "stream",
     "text": [
      "\n",
      "      Epoch    GPU_mem   box_loss  pose_loss  kobj_loss   cls_loss   dfl_loss  Instances       Size\n"
     ]
    },
    {
     "name": "stderr",
     "output_type": "stream",
     "text": [
      "    128/500      7.25G     0.2918      1.201     0.3595     0.2354     0.9383         16        640: 100%|██████████| 111/111 [00:58<00:00,  1.89it/s]\n",
      "                 Class     Images  Instances      Box(P          R      mAP50  mAP50-95)     Pose(P          R      mAP50  mAP50-95): 100%|██████████| 11/11 [00:03<00:00,  3.61it/s]"
     ]
    },
    {
     "name": "stdout",
     "output_type": "stream",
     "text": [
      "                   all        166        166      0.999          1      0.995      0.965      0.967      0.958      0.977      0.748\n"
     ]
    },
    {
     "name": "stderr",
     "output_type": "stream",
     "text": [
      "\n"
     ]
    },
    {
     "name": "stdout",
     "output_type": "stream",
     "text": [
      "\n",
      "      Epoch    GPU_mem   box_loss  pose_loss  kobj_loss   cls_loss   dfl_loss  Instances       Size\n"
     ]
    },
    {
     "name": "stderr",
     "output_type": "stream",
     "text": [
      "    129/500      7.28G     0.3074       1.22     0.3595     0.2382     0.9352          9        640: 100%|██████████| 111/111 [00:58<00:00,  1.89it/s]\n",
      "                 Class     Images  Instances      Box(P          R      mAP50  mAP50-95)     Pose(P          R      mAP50  mAP50-95): 100%|██████████| 11/11 [00:03<00:00,  3.61it/s]"
     ]
    },
    {
     "name": "stdout",
     "output_type": "stream",
     "text": [
      "                   all        166        166      0.999          1      0.995      0.959      0.963      0.964      0.973      0.769\n"
     ]
    },
    {
     "name": "stderr",
     "output_type": "stream",
     "text": [
      "\n"
     ]
    },
    {
     "name": "stdout",
     "output_type": "stream",
     "text": [
      "\n",
      "      Epoch    GPU_mem   box_loss  pose_loss  kobj_loss   cls_loss   dfl_loss  Instances       Size\n"
     ]
    },
    {
     "name": "stderr",
     "output_type": "stream",
     "text": [
      "    130/500      7.28G     0.2979      1.146       0.36     0.2335     0.9311         11        640: 100%|██████████| 111/111 [00:58<00:00,  1.88it/s]\n",
      "                 Class     Images  Instances      Box(P          R      mAP50  mAP50-95)     Pose(P          R      mAP50  mAP50-95): 100%|██████████| 11/11 [00:03<00:00,  3.66it/s]"
     ]
    },
    {
     "name": "stdout",
     "output_type": "stream",
     "text": [
      "                   all        166        166          1          1      0.995      0.967      0.958      0.958      0.974      0.769\n"
     ]
    },
    {
     "name": "stderr",
     "output_type": "stream",
     "text": [
      "\n"
     ]
    },
    {
     "name": "stdout",
     "output_type": "stream",
     "text": [
      "\n",
      "      Epoch    GPU_mem   box_loss  pose_loss  kobj_loss   cls_loss   dfl_loss  Instances       Size\n"
     ]
    },
    {
     "name": "stderr",
     "output_type": "stream",
     "text": [
      "    131/500      7.29G     0.2904      1.167     0.3541     0.2352     0.9249          9        640: 100%|██████████| 111/111 [00:58<00:00,  1.89it/s]\n",
      "                 Class     Images  Instances      Box(P          R      mAP50  mAP50-95)     Pose(P          R      mAP50  mAP50-95): 100%|██████████| 11/11 [00:03<00:00,  3.63it/s]"
     ]
    },
    {
     "name": "stdout",
     "output_type": "stream",
     "text": [
      "                   all        166        166      0.993          1      0.995      0.965      0.993          1      0.995      0.773\n"
     ]
    },
    {
     "name": "stderr",
     "output_type": "stream",
     "text": [
      "\n"
     ]
    },
    {
     "name": "stdout",
     "output_type": "stream",
     "text": [
      "\n",
      "      Epoch    GPU_mem   box_loss  pose_loss  kobj_loss   cls_loss   dfl_loss  Instances       Size\n"
     ]
    },
    {
     "name": "stderr",
     "output_type": "stream",
     "text": [
      "    132/500      7.28G     0.2808      1.063     0.3509     0.2266     0.9243          9        640: 100%|██████████| 111/111 [00:58<00:00,  1.89it/s]\n",
      "                 Class     Images  Instances      Box(P          R      mAP50  mAP50-95)     Pose(P          R      mAP50  mAP50-95): 100%|██████████| 11/11 [00:02<00:00,  3.72it/s]"
     ]
    },
    {
     "name": "stdout",
     "output_type": "stream",
     "text": [
      "                   all        166        166      0.996          1      0.995      0.961      0.948      0.952      0.957       0.73\n"
     ]
    },
    {
     "name": "stderr",
     "output_type": "stream",
     "text": [
      "\n"
     ]
    },
    {
     "name": "stdout",
     "output_type": "stream",
     "text": [
      "\n",
      "      Epoch    GPU_mem   box_loss  pose_loss  kobj_loss   cls_loss   dfl_loss  Instances       Size\n"
     ]
    },
    {
     "name": "stderr",
     "output_type": "stream",
     "text": [
      "    133/500      7.26G     0.2796      1.146     0.3568     0.2245     0.9276         13        640: 100%|██████████| 111/111 [00:58<00:00,  1.89it/s]\n",
      "                 Class     Images  Instances      Box(P          R      mAP50  mAP50-95)     Pose(P          R      mAP50  mAP50-95): 100%|██████████| 11/11 [00:03<00:00,  3.57it/s]"
     ]
    },
    {
     "name": "stdout",
     "output_type": "stream",
     "text": [
      "                   all        166        166          1          1      0.995      0.961      0.982      0.982      0.987       0.76\n"
     ]
    },
    {
     "name": "stderr",
     "output_type": "stream",
     "text": [
      "\n"
     ]
    },
    {
     "name": "stdout",
     "output_type": "stream",
     "text": [
      "\n",
      "      Epoch    GPU_mem   box_loss  pose_loss  kobj_loss   cls_loss   dfl_loss  Instances       Size\n"
     ]
    },
    {
     "name": "stderr",
     "output_type": "stream",
     "text": [
      "    134/500      7.27G      0.284      1.101     0.3484     0.2252     0.9373         12        640: 100%|██████████| 111/111 [00:58<00:00,  1.89it/s]\n",
      "                 Class     Images  Instances      Box(P          R      mAP50  mAP50-95)     Pose(P          R      mAP50  mAP50-95): 100%|██████████| 11/11 [00:03<00:00,  3.59it/s]"
     ]
    },
    {
     "name": "stdout",
     "output_type": "stream",
     "text": [
      "                   all        166        166      0.994          1      0.995      0.959      0.982      0.988      0.988      0.775\n"
     ]
    },
    {
     "name": "stderr",
     "output_type": "stream",
     "text": [
      "\n"
     ]
    },
    {
     "name": "stdout",
     "output_type": "stream",
     "text": [
      "\n",
      "      Epoch    GPU_mem   box_loss  pose_loss  kobj_loss   cls_loss   dfl_loss  Instances       Size\n"
     ]
    },
    {
     "name": "stderr",
     "output_type": "stream",
     "text": [
      "    135/500      7.02G      0.281      1.142     0.3582     0.2263     0.9259         10        640: 100%|██████████| 111/111 [00:58<00:00,  1.89it/s]\n",
      "                 Class     Images  Instances      Box(P          R      mAP50  mAP50-95)     Pose(P          R      mAP50  mAP50-95): 100%|██████████| 11/11 [00:03<00:00,  3.62it/s]"
     ]
    },
    {
     "name": "stdout",
     "output_type": "stream",
     "text": [
      "                   all        166        166          1          1      0.995      0.968       0.97       0.97      0.977      0.745\n"
     ]
    },
    {
     "name": "stderr",
     "output_type": "stream",
     "text": [
      "\n"
     ]
    },
    {
     "name": "stdout",
     "output_type": "stream",
     "text": [
      "\n",
      "      Epoch    GPU_mem   box_loss  pose_loss  kobj_loss   cls_loss   dfl_loss  Instances       Size\n"
     ]
    },
    {
     "name": "stderr",
     "output_type": "stream",
     "text": [
      "    136/500      7.28G     0.2819      1.115     0.3593     0.2272     0.9299         10        640: 100%|██████████| 111/111 [00:58<00:00,  1.89it/s]\n",
      "                 Class     Images  Instances      Box(P          R      mAP50  mAP50-95)     Pose(P          R      mAP50  mAP50-95): 100%|██████████| 11/11 [00:03<00:00,  3.64it/s]"
     ]
    },
    {
     "name": "stdout",
     "output_type": "stream",
     "text": [
      "                   all        166        166          1          1      0.995      0.951      0.969       0.97      0.965      0.739\n"
     ]
    },
    {
     "name": "stderr",
     "output_type": "stream",
     "text": [
      "\n"
     ]
    },
    {
     "name": "stdout",
     "output_type": "stream",
     "text": [
      "\n",
      "      Epoch    GPU_mem   box_loss  pose_loss  kobj_loss   cls_loss   dfl_loss  Instances       Size\n"
     ]
    },
    {
     "name": "stderr",
     "output_type": "stream",
     "text": [
      "    137/500      7.28G     0.2902      1.155     0.3559     0.2305      0.929         14        640: 100%|██████████| 111/111 [00:58<00:00,  1.89it/s]\n",
      "                 Class     Images  Instances      Box(P          R      mAP50  mAP50-95)     Pose(P          R      mAP50  mAP50-95): 100%|██████████| 11/11 [00:03<00:00,  3.61it/s]"
     ]
    },
    {
     "name": "stdout",
     "output_type": "stream",
     "text": [
      "                   all        166        166          1          1      0.995      0.957      0.994      0.994      0.994      0.772\n"
     ]
    },
    {
     "name": "stderr",
     "output_type": "stream",
     "text": [
      "\n"
     ]
    },
    {
     "name": "stdout",
     "output_type": "stream",
     "text": [
      "\n",
      "      Epoch    GPU_mem   box_loss  pose_loss  kobj_loss   cls_loss   dfl_loss  Instances       Size\n"
     ]
    },
    {
     "name": "stderr",
     "output_type": "stream",
     "text": [
      "    138/500      7.26G     0.2773      1.139     0.3555     0.2266     0.9178         10        640: 100%|██████████| 111/111 [00:58<00:00,  1.89it/s]\n",
      "                 Class     Images  Instances      Box(P          R      mAP50  mAP50-95)     Pose(P          R      mAP50  mAP50-95): 100%|██████████| 11/11 [00:02<00:00,  3.77it/s]"
     ]
    },
    {
     "name": "stdout",
     "output_type": "stream",
     "text": [
      "                   all        166        166          1          1      0.995      0.961      0.982      0.982      0.983      0.777\n"
     ]
    },
    {
     "name": "stderr",
     "output_type": "stream",
     "text": [
      "\n"
     ]
    },
    {
     "name": "stdout",
     "output_type": "stream",
     "text": [
      "\n",
      "      Epoch    GPU_mem   box_loss  pose_loss  kobj_loss   cls_loss   dfl_loss  Instances       Size\n"
     ]
    },
    {
     "name": "stderr",
     "output_type": "stream",
     "text": [
      "    139/500      7.27G     0.2839      1.159     0.3571     0.2286     0.9283         13        640: 100%|██████████| 111/111 [00:58<00:00,  1.89it/s]\n",
      "                 Class     Images  Instances      Box(P          R      mAP50  mAP50-95)     Pose(P          R      mAP50  mAP50-95): 100%|██████████| 11/11 [00:03<00:00,  3.53it/s]"
     ]
    },
    {
     "name": "stdout",
     "output_type": "stream",
     "text": [
      "                   all        166        166          1          1      0.995      0.959      0.976      0.976      0.982      0.769\n"
     ]
    },
    {
     "name": "stderr",
     "output_type": "stream",
     "text": [
      "\n"
     ]
    },
    {
     "name": "stdout",
     "output_type": "stream",
     "text": [
      "\n",
      "      Epoch    GPU_mem   box_loss  pose_loss  kobj_loss   cls_loss   dfl_loss  Instances       Size\n"
     ]
    },
    {
     "name": "stderr",
     "output_type": "stream",
     "text": [
      "    140/500      7.27G     0.2707       1.09     0.3537     0.2229     0.9186         15        640: 100%|██████████| 111/111 [00:58<00:00,  1.89it/s]\n",
      "                 Class     Images  Instances      Box(P          R      mAP50  mAP50-95)     Pose(P          R      mAP50  mAP50-95): 100%|██████████| 11/11 [00:02<00:00,  3.72it/s]"
     ]
    },
    {
     "name": "stdout",
     "output_type": "stream",
     "text": [
      "                   all        166        166      0.982          1      0.995      0.961      0.953       0.97      0.979      0.763\n"
     ]
    },
    {
     "name": "stderr",
     "output_type": "stream",
     "text": [
      "\n"
     ]
    },
    {
     "name": "stdout",
     "output_type": "stream",
     "text": [
      "\n",
      "      Epoch    GPU_mem   box_loss  pose_loss  kobj_loss   cls_loss   dfl_loss  Instances       Size\n"
     ]
    },
    {
     "name": "stderr",
     "output_type": "stream",
     "text": [
      "    141/500      7.25G      0.274      1.088     0.3537     0.2183     0.9166         12        640: 100%|██████████| 111/111 [00:58<00:00,  1.88it/s]\n",
      "                 Class     Images  Instances      Box(P          R      mAP50  mAP50-95)     Pose(P          R      mAP50  mAP50-95): 100%|██████████| 11/11 [00:03<00:00,  3.62it/s]"
     ]
    },
    {
     "name": "stdout",
     "output_type": "stream",
     "text": [
      "                   all        166        166          1          1      0.995      0.957      0.988      0.988      0.991      0.761\n"
     ]
    },
    {
     "name": "stderr",
     "output_type": "stream",
     "text": [
      "\n"
     ]
    },
    {
     "name": "stdout",
     "output_type": "stream",
     "text": [
      "\n",
      "      Epoch    GPU_mem   box_loss  pose_loss  kobj_loss   cls_loss   dfl_loss  Instances       Size\n"
     ]
    },
    {
     "name": "stderr",
     "output_type": "stream",
     "text": [
      "    142/500       7.3G     0.2667      1.091     0.3533     0.2189     0.9188         13        640: 100%|██████████| 111/111 [00:58<00:00,  1.89it/s]\n",
      "                 Class     Images  Instances      Box(P          R      mAP50  mAP50-95)     Pose(P          R      mAP50  mAP50-95): 100%|██████████| 11/11 [00:02<00:00,  3.72it/s]"
     ]
    },
    {
     "name": "stdout",
     "output_type": "stream",
     "text": [
      "                   all        166        166          1          1      0.995      0.966      0.982      0.982      0.989      0.798\n"
     ]
    },
    {
     "name": "stderr",
     "output_type": "stream",
     "text": [
      "\n"
     ]
    },
    {
     "name": "stdout",
     "output_type": "stream",
     "text": [
      "\n",
      "      Epoch    GPU_mem   box_loss  pose_loss  kobj_loss   cls_loss   dfl_loss  Instances       Size\n"
     ]
    },
    {
     "name": "stderr",
     "output_type": "stream",
     "text": [
      "    143/500         7G      0.278      1.058      0.348     0.2228     0.9191         14        640: 100%|██████████| 111/111 [00:58<00:00,  1.89it/s]\n",
      "                 Class     Images  Instances      Box(P          R      mAP50  mAP50-95)     Pose(P          R      mAP50  mAP50-95): 100%|██████████| 11/11 [00:02<00:00,  3.68it/s]"
     ]
    },
    {
     "name": "stdout",
     "output_type": "stream",
     "text": [
      "                   all        166        166          1          1      0.995      0.965      0.994      0.994      0.995      0.805\n"
     ]
    },
    {
     "name": "stderr",
     "output_type": "stream",
     "text": [
      "\n"
     ]
    },
    {
     "name": "stdout",
     "output_type": "stream",
     "text": [
      "\n",
      "      Epoch    GPU_mem   box_loss  pose_loss  kobj_loss   cls_loss   dfl_loss  Instances       Size\n"
     ]
    },
    {
     "name": "stderr",
     "output_type": "stream",
     "text": [
      "    144/500      7.28G      0.264      1.118     0.3615     0.2144      0.917         13        640: 100%|██████████| 111/111 [00:58<00:00,  1.89it/s]\n",
      "                 Class     Images  Instances      Box(P          R      mAP50  mAP50-95)     Pose(P          R      mAP50  mAP50-95): 100%|██████████| 11/11 [00:02<00:00,  3.73it/s]"
     ]
    },
    {
     "name": "stdout",
     "output_type": "stream",
     "text": [
      "                   all        166        166          1          1      0.995       0.96      0.976      0.976      0.984      0.764\n"
     ]
    },
    {
     "name": "stderr",
     "output_type": "stream",
     "text": [
      "\n"
     ]
    },
    {
     "name": "stdout",
     "output_type": "stream",
     "text": [
      "\n",
      "      Epoch    GPU_mem   box_loss  pose_loss  kobj_loss   cls_loss   dfl_loss  Instances       Size\n"
     ]
    },
    {
     "name": "stderr",
     "output_type": "stream",
     "text": [
      "    145/500      7.27G      0.282      1.018     0.3547     0.2234      0.929         11        640: 100%|██████████| 111/111 [00:58<00:00,  1.88it/s]\n",
      "                 Class     Images  Instances      Box(P          R      mAP50  mAP50-95)     Pose(P          R      mAP50  mAP50-95): 100%|██████████| 11/11 [00:02<00:00,  3.71it/s]"
     ]
    },
    {
     "name": "stdout",
     "output_type": "stream",
     "text": [
      "                   all        166        166          1          1      0.995      0.962      0.957      0.958      0.963      0.791\n"
     ]
    },
    {
     "name": "stderr",
     "output_type": "stream",
     "text": [
      "\n"
     ]
    },
    {
     "name": "stdout",
     "output_type": "stream",
     "text": [
      "\n",
      "      Epoch    GPU_mem   box_loss  pose_loss  kobj_loss   cls_loss   dfl_loss  Instances       Size\n"
     ]
    },
    {
     "name": "stderr",
     "output_type": "stream",
     "text": [
      "    146/500      7.29G     0.2735      1.058     0.3542     0.2266     0.9197         15        640: 100%|██████████| 111/111 [00:58<00:00,  1.89it/s]\n",
      "                 Class     Images  Instances      Box(P          R      mAP50  mAP50-95)     Pose(P          R      mAP50  mAP50-95): 100%|██████████| 11/11 [00:03<00:00,  3.61it/s]"
     ]
    },
    {
     "name": "stdout",
     "output_type": "stream",
     "text": [
      "                   all        166        166          1          1      0.995      0.958      0.964      0.964      0.962      0.753\n"
     ]
    },
    {
     "name": "stderr",
     "output_type": "stream",
     "text": [
      "\n"
     ]
    },
    {
     "name": "stdout",
     "output_type": "stream",
     "text": [
      "\n",
      "      Epoch    GPU_mem   box_loss  pose_loss  kobj_loss   cls_loss   dfl_loss  Instances       Size\n"
     ]
    },
    {
     "name": "stderr",
     "output_type": "stream",
     "text": [
      "    147/500      7.26G     0.2691      1.061     0.3501     0.2176     0.9193         12        640: 100%|██████████| 111/111 [00:58<00:00,  1.89it/s]\n",
      "                 Class     Images  Instances      Box(P          R      mAP50  mAP50-95)     Pose(P          R      mAP50  mAP50-95): 100%|██████████| 11/11 [00:03<00:00,  3.63it/s]"
     ]
    },
    {
     "name": "stdout",
     "output_type": "stream",
     "text": [
      "                   all        166        166      0.988      0.994      0.994      0.963      0.964       0.97      0.968      0.738\n"
     ]
    },
    {
     "name": "stderr",
     "output_type": "stream",
     "text": [
      "\n"
     ]
    },
    {
     "name": "stdout",
     "output_type": "stream",
     "text": [
      "\n",
      "      Epoch    GPU_mem   box_loss  pose_loss  kobj_loss   cls_loss   dfl_loss  Instances       Size\n"
     ]
    },
    {
     "name": "stderr",
     "output_type": "stream",
     "text": [
      "    148/500      7.27G     0.2685       1.07     0.3502     0.2182      0.925          9        640: 100%|██████████| 111/111 [00:58<00:00,  1.90it/s]\n",
      "                 Class     Images  Instances      Box(P          R      mAP50  mAP50-95)     Pose(P          R      mAP50  mAP50-95): 100%|██████████| 11/11 [00:02<00:00,  3.71it/s]"
     ]
    },
    {
     "name": "stdout",
     "output_type": "stream",
     "text": [
      "                   all        166        166          1          1      0.995      0.955      0.982      0.982      0.988      0.761\n"
     ]
    },
    {
     "name": "stderr",
     "output_type": "stream",
     "text": [
      "\n"
     ]
    },
    {
     "name": "stdout",
     "output_type": "stream",
     "text": [
      "\n",
      "      Epoch    GPU_mem   box_loss  pose_loss  kobj_loss   cls_loss   dfl_loss  Instances       Size\n"
     ]
    },
    {
     "name": "stderr",
     "output_type": "stream",
     "text": [
      "    149/500      7.28G     0.2717       1.03     0.3438     0.2222     0.9211         16        640: 100%|██████████| 111/111 [00:58<00:00,  1.89it/s]\n",
      "                 Class     Images  Instances      Box(P          R      mAP50  mAP50-95)     Pose(P          R      mAP50  mAP50-95): 100%|██████████| 11/11 [00:03<00:00,  3.65it/s]"
     ]
    },
    {
     "name": "stdout",
     "output_type": "stream",
     "text": [
      "                   all        166        166          1          1      0.995      0.963      0.964      0.964      0.973      0.754\n"
     ]
    },
    {
     "name": "stderr",
     "output_type": "stream",
     "text": [
      "\n"
     ]
    },
    {
     "name": "stdout",
     "output_type": "stream",
     "text": [
      "\n",
      "      Epoch    GPU_mem   box_loss  pose_loss  kobj_loss   cls_loss   dfl_loss  Instances       Size\n"
     ]
    },
    {
     "name": "stderr",
     "output_type": "stream",
     "text": [
      "    150/500      7.25G     0.2738      1.044     0.3561     0.2253     0.9211         14        640: 100%|██████████| 111/111 [00:58<00:00,  1.88it/s]\n",
      "                 Class     Images  Instances      Box(P          R      mAP50  mAP50-95)     Pose(P          R      mAP50  mAP50-95): 100%|██████████| 11/11 [00:03<00:00,  3.39it/s]"
     ]
    },
    {
     "name": "stdout",
     "output_type": "stream",
     "text": [
      "                   all        166        166      0.988      0.994      0.994      0.958       0.97      0.976      0.982      0.775\n"
     ]
    },
    {
     "name": "stderr",
     "output_type": "stream",
     "text": [
      "\n"
     ]
    },
    {
     "name": "stdout",
     "output_type": "stream",
     "text": [
      "\n",
      "      Epoch    GPU_mem   box_loss  pose_loss  kobj_loss   cls_loss   dfl_loss  Instances       Size\n"
     ]
    },
    {
     "name": "stderr",
     "output_type": "stream",
     "text": [
      "    151/500      6.99G     0.2741      1.037     0.3526     0.2215     0.9252         11        640: 100%|██████████| 111/111 [00:58<00:00,  1.90it/s]\n",
      "                 Class     Images  Instances      Box(P          R      mAP50  mAP50-95)     Pose(P          R      mAP50  mAP50-95): 100%|██████████| 11/11 [00:02<00:00,  3.68it/s]"
     ]
    },
    {
     "name": "stdout",
     "output_type": "stream",
     "text": [
      "                   all        166        166          1          1      0.995      0.961      0.964      0.964      0.965      0.756\n"
     ]
    },
    {
     "name": "stderr",
     "output_type": "stream",
     "text": [
      "\n"
     ]
    },
    {
     "name": "stdout",
     "output_type": "stream",
     "text": [
      "\n",
      "      Epoch    GPU_mem   box_loss  pose_loss  kobj_loss   cls_loss   dfl_loss  Instances       Size\n"
     ]
    },
    {
     "name": "stderr",
     "output_type": "stream",
     "text": [
      "    152/500      7.28G     0.2766      1.018     0.3422     0.2219     0.9285         12        640: 100%|██████████| 111/111 [00:58<00:00,  1.89it/s]\n",
      "                 Class     Images  Instances      Box(P          R      mAP50  mAP50-95)     Pose(P          R      mAP50  mAP50-95): 100%|██████████| 11/11 [00:03<00:00,  3.61it/s]"
     ]
    },
    {
     "name": "stdout",
     "output_type": "stream",
     "text": [
      "                   all        166        166      0.999          1      0.995      0.953      0.976      0.976      0.985      0.768\n"
     ]
    },
    {
     "name": "stderr",
     "output_type": "stream",
     "text": [
      "\n"
     ]
    },
    {
     "name": "stdout",
     "output_type": "stream",
     "text": [
      "\n",
      "      Epoch    GPU_mem   box_loss  pose_loss  kobj_loss   cls_loss   dfl_loss  Instances       Size\n"
     ]
    },
    {
     "name": "stderr",
     "output_type": "stream",
     "text": [
      "    153/500      7.26G     0.2779      1.064     0.3496     0.2232     0.9273         12        640: 100%|██████████| 111/111 [00:58<00:00,  1.89it/s]\n",
      "                 Class     Images  Instances      Box(P          R      mAP50  mAP50-95)     Pose(P          R      mAP50  mAP50-95): 100%|██████████| 11/11 [00:02<00:00,  3.71it/s]"
     ]
    },
    {
     "name": "stdout",
     "output_type": "stream",
     "text": [
      "                   all        166        166          1          1      0.995      0.955      0.982      0.982      0.984      0.748\n"
     ]
    },
    {
     "name": "stderr",
     "output_type": "stream",
     "text": [
      "\n"
     ]
    },
    {
     "name": "stdout",
     "output_type": "stream",
     "text": [
      "\n",
      "      Epoch    GPU_mem   box_loss  pose_loss  kobj_loss   cls_loss   dfl_loss  Instances       Size\n"
     ]
    },
    {
     "name": "stderr",
     "output_type": "stream",
     "text": [
      "    154/500      7.27G     0.2753      1.048     0.3475     0.2226     0.9222         14        640: 100%|██████████| 111/111 [00:58<00:00,  1.90it/s]\n",
      "                 Class     Images  Instances      Box(P          R      mAP50  mAP50-95)     Pose(P          R      mAP50  mAP50-95): 100%|██████████| 11/11 [00:03<00:00,  3.65it/s]"
     ]
    },
    {
     "name": "stdout",
     "output_type": "stream",
     "text": [
      "                   all        166        166          1          1      0.995       0.95      0.994      0.994      0.995      0.759\n"
     ]
    },
    {
     "name": "stderr",
     "output_type": "stream",
     "text": [
      "\n"
     ]
    },
    {
     "name": "stdout",
     "output_type": "stream",
     "text": [
      "\n",
      "      Epoch    GPU_mem   box_loss  pose_loss  kobj_loss   cls_loss   dfl_loss  Instances       Size\n"
     ]
    },
    {
     "name": "stderr",
     "output_type": "stream",
     "text": [
      "    155/500      7.29G     0.2738      1.091     0.3497     0.2271      0.924          8        640: 100%|██████████| 111/111 [00:58<00:00,  1.89it/s]\n",
      "                 Class     Images  Instances      Box(P          R      mAP50  mAP50-95)     Pose(P          R      mAP50  mAP50-95): 100%|██████████| 11/11 [00:02<00:00,  3.68it/s]"
     ]
    },
    {
     "name": "stdout",
     "output_type": "stream",
     "text": [
      "                   all        166        166      0.999          1      0.995      0.955      0.964      0.964      0.975      0.743\n"
     ]
    },
    {
     "name": "stderr",
     "output_type": "stream",
     "text": [
      "\n"
     ]
    },
    {
     "name": "stdout",
     "output_type": "stream",
     "text": [
      "\n",
      "      Epoch    GPU_mem   box_loss  pose_loss  kobj_loss   cls_loss   dfl_loss  Instances       Size\n"
     ]
    },
    {
     "name": "stderr",
     "output_type": "stream",
     "text": [
      "    156/500      7.27G     0.2743      1.061     0.3466      0.219     0.9223         15        640: 100%|██████████| 111/111 [00:58<00:00,  1.88it/s]\n",
      "                 Class     Images  Instances      Box(P          R      mAP50  mAP50-95)     Pose(P          R      mAP50  mAP50-95): 100%|██████████| 11/11 [00:03<00:00,  3.62it/s]"
     ]
    },
    {
     "name": "stdout",
     "output_type": "stream",
     "text": [
      "                   all        166        166          1          1      0.995      0.955      0.988      0.988      0.992      0.772\n"
     ]
    },
    {
     "name": "stderr",
     "output_type": "stream",
     "text": [
      "\n"
     ]
    },
    {
     "name": "stdout",
     "output_type": "stream",
     "text": [
      "\n",
      "      Epoch    GPU_mem   box_loss  pose_loss  kobj_loss   cls_loss   dfl_loss  Instances       Size\n"
     ]
    },
    {
     "name": "stderr",
     "output_type": "stream",
     "text": [
      "    157/500      7.28G     0.2827     0.9915     0.3464     0.2242      0.921          8        640: 100%|██████████| 111/111 [00:58<00:00,  1.89it/s]\n",
      "                 Class     Images  Instances      Box(P          R      mAP50  mAP50-95)     Pose(P          R      mAP50  mAP50-95): 100%|██████████| 11/11 [00:03<00:00,  3.62it/s]"
     ]
    },
    {
     "name": "stdout",
     "output_type": "stream",
     "text": [
      "                   all        166        166          1          1      0.995      0.968       0.97       0.97      0.982      0.796\n"
     ]
    },
    {
     "name": "stderr",
     "output_type": "stream",
     "text": [
      "\n"
     ]
    },
    {
     "name": "stdout",
     "output_type": "stream",
     "text": [
      "\n",
      "      Epoch    GPU_mem   box_loss  pose_loss  kobj_loss   cls_loss   dfl_loss  Instances       Size\n"
     ]
    },
    {
     "name": "stderr",
     "output_type": "stream",
     "text": [
      "    158/500      7.27G     0.2692     0.9808      0.353     0.2165     0.9105         11        640: 100%|██████████| 111/111 [00:58<00:00,  1.88it/s]\n",
      "                 Class     Images  Instances      Box(P          R      mAP50  mAP50-95)     Pose(P          R      mAP50  mAP50-95): 100%|██████████| 11/11 [00:03<00:00,  3.61it/s]"
     ]
    },
    {
     "name": "stdout",
     "output_type": "stream",
     "text": [
      "                   all        166        166          1          1      0.995      0.963      0.982      0.982      0.989      0.769\n"
     ]
    },
    {
     "name": "stderr",
     "output_type": "stream",
     "text": [
      "\n"
     ]
    },
    {
     "name": "stdout",
     "output_type": "stream",
     "text": [
      "\n",
      "      Epoch    GPU_mem   box_loss  pose_loss  kobj_loss   cls_loss   dfl_loss  Instances       Size\n"
     ]
    },
    {
     "name": "stderr",
     "output_type": "stream",
     "text": [
      "    159/500      6.99G      0.266     0.9726     0.3437     0.2173     0.9208         12        640: 100%|██████████| 111/111 [00:58<00:00,  1.90it/s]\n",
      "                 Class     Images  Instances      Box(P          R      mAP50  mAP50-95)     Pose(P          R      mAP50  mAP50-95): 100%|██████████| 11/11 [00:03<00:00,  3.51it/s]"
     ]
    },
    {
     "name": "stdout",
     "output_type": "stream",
     "text": [
      "                   all        166        166          1          1      0.995      0.964      0.988      0.988      0.991      0.783\n"
     ]
    },
    {
     "name": "stderr",
     "output_type": "stream",
     "text": [
      "\n"
     ]
    },
    {
     "name": "stdout",
     "output_type": "stream",
     "text": [
      "\n",
      "      Epoch    GPU_mem   box_loss  pose_loss  kobj_loss   cls_loss   dfl_loss  Instances       Size\n"
     ]
    },
    {
     "name": "stderr",
     "output_type": "stream",
     "text": [
      "    160/500      7.28G     0.2622     0.9432     0.3512     0.2122     0.9209         11        640: 100%|██████████| 111/111 [00:58<00:00,  1.89it/s]\n",
      "                 Class     Images  Instances      Box(P          R      mAP50  mAP50-95)     Pose(P          R      mAP50  mAP50-95): 100%|██████████| 11/11 [00:02<00:00,  3.72it/s]"
     ]
    },
    {
     "name": "stdout",
     "output_type": "stream",
     "text": [
      "                   all        166        166          1          1      0.995      0.958      0.964      0.964      0.971      0.817\n"
     ]
    },
    {
     "name": "stderr",
     "output_type": "stream",
     "text": [
      "\n"
     ]
    },
    {
     "name": "stdout",
     "output_type": "stream",
     "text": [
      "\n",
      "      Epoch    GPU_mem   box_loss  pose_loss  kobj_loss   cls_loss   dfl_loss  Instances       Size\n"
     ]
    },
    {
     "name": "stderr",
     "output_type": "stream",
     "text": [
      "    161/500      7.28G     0.2608     0.9006     0.3479     0.2142      0.915         12        640: 100%|██████████| 111/111 [00:58<00:00,  1.90it/s]\n",
      "                 Class     Images  Instances      Box(P          R      mAP50  mAP50-95)     Pose(P          R      mAP50  mAP50-95): 100%|██████████| 11/11 [00:03<00:00,  3.53it/s]"
     ]
    },
    {
     "name": "stdout",
     "output_type": "stream",
     "text": [
      "                   all        166        166          1          1      0.995      0.964      0.976      0.976      0.985       0.83\n"
     ]
    },
    {
     "name": "stderr",
     "output_type": "stream",
     "text": [
      "\n"
     ]
    },
    {
     "name": "stdout",
     "output_type": "stream",
     "text": [
      "\n",
      "      Epoch    GPU_mem   box_loss  pose_loss  kobj_loss   cls_loss   dfl_loss  Instances       Size\n"
     ]
    },
    {
     "name": "stderr",
     "output_type": "stream",
     "text": [
      "    162/500      7.29G      0.272     0.9328     0.3407     0.2199      0.918         14        640: 100%|██████████| 111/111 [00:58<00:00,  1.89it/s]\n",
      "                 Class     Images  Instances      Box(P          R      mAP50  mAP50-95)     Pose(P          R      mAP50  mAP50-95): 100%|██████████| 11/11 [00:02<00:00,  3.74it/s]"
     ]
    },
    {
     "name": "stdout",
     "output_type": "stream",
     "text": [
      "                   all        166        166          1          1      0.995      0.967       0.97       0.97      0.978      0.868\n"
     ]
    },
    {
     "name": "stderr",
     "output_type": "stream",
     "text": [
      "\n"
     ]
    },
    {
     "name": "stdout",
     "output_type": "stream",
     "text": [
      "\n",
      "      Epoch    GPU_mem   box_loss  pose_loss  kobj_loss   cls_loss   dfl_loss  Instances       Size\n"
     ]
    },
    {
     "name": "stderr",
     "output_type": "stream",
     "text": [
      "    163/500       7.3G     0.2677     0.9542     0.3423     0.2198      0.919          9        640: 100%|██████████| 111/111 [00:58<00:00,  1.90it/s]\n",
      "                 Class     Images  Instances      Box(P          R      mAP50  mAP50-95)     Pose(P          R      mAP50  mAP50-95): 100%|██████████| 11/11 [00:02<00:00,  3.71it/s]"
     ]
    },
    {
     "name": "stdout",
     "output_type": "stream",
     "text": [
      "                   all        166        166          1          1      0.995      0.967      0.976      0.976      0.985      0.857\n"
     ]
    },
    {
     "name": "stderr",
     "output_type": "stream",
     "text": [
      "\n"
     ]
    },
    {
     "name": "stdout",
     "output_type": "stream",
     "text": [
      "\n",
      "      Epoch    GPU_mem   box_loss  pose_loss  kobj_loss   cls_loss   dfl_loss  Instances       Size\n"
     ]
    },
    {
     "name": "stderr",
     "output_type": "stream",
     "text": [
      "    164/500      7.29G     0.2706      1.003     0.3488     0.2214     0.9252         10        640: 100%|██████████| 111/111 [00:58<00:00,  1.89it/s]\n",
      "                 Class     Images  Instances      Box(P          R      mAP50  mAP50-95)     Pose(P          R      mAP50  mAP50-95): 100%|██████████| 11/11 [00:03<00:00,  3.64it/s]"
     ]
    },
    {
     "name": "stdout",
     "output_type": "stream",
     "text": [
      "                   all        166        166          1          1      0.995      0.969      0.982      0.982      0.989      0.864\n"
     ]
    },
    {
     "name": "stderr",
     "output_type": "stream",
     "text": [
      "\n"
     ]
    },
    {
     "name": "stdout",
     "output_type": "stream",
     "text": [
      "\n",
      "      Epoch    GPU_mem   box_loss  pose_loss  kobj_loss   cls_loss   dfl_loss  Instances       Size\n"
     ]
    },
    {
     "name": "stderr",
     "output_type": "stream",
     "text": [
      "    165/500      7.25G     0.2667     0.8731     0.3459     0.2178     0.9254         12        640: 100%|██████████| 111/111 [00:58<00:00,  1.90it/s]\n",
      "                 Class     Images  Instances      Box(P          R      mAP50  mAP50-95)     Pose(P          R      mAP50  mAP50-95): 100%|██████████| 11/11 [00:02<00:00,  3.70it/s]"
     ]
    },
    {
     "name": "stdout",
     "output_type": "stream",
     "text": [
      "                   all        166        166          1          1      0.995      0.962      0.994      0.994      0.995      0.848\n"
     ]
    },
    {
     "name": "stderr",
     "output_type": "stream",
     "text": [
      "\n"
     ]
    },
    {
     "name": "stdout",
     "output_type": "stream",
     "text": [
      "\n",
      "      Epoch    GPU_mem   box_loss  pose_loss  kobj_loss   cls_loss   dfl_loss  Instances       Size\n"
     ]
    },
    {
     "name": "stderr",
     "output_type": "stream",
     "text": [
      "    166/500      7.29G     0.2634      0.867     0.3511     0.2079     0.9169         12        640: 100%|██████████| 111/111 [00:58<00:00,  1.90it/s]\n",
      "                 Class     Images  Instances      Box(P          R      mAP50  mAP50-95)     Pose(P          R      mAP50  mAP50-95): 100%|██████████| 11/11 [00:02<00:00,  3.72it/s]"
     ]
    },
    {
     "name": "stdout",
     "output_type": "stream",
     "text": [
      "                   all        166        166          1          1      0.995      0.958      0.982      0.982      0.988      0.861\n"
     ]
    },
    {
     "name": "stderr",
     "output_type": "stream",
     "text": [
      "\n"
     ]
    },
    {
     "name": "stdout",
     "output_type": "stream",
     "text": [
      "\n",
      "      Epoch    GPU_mem   box_loss  pose_loss  kobj_loss   cls_loss   dfl_loss  Instances       Size\n"
     ]
    },
    {
     "name": "stderr",
     "output_type": "stream",
     "text": [
      "    167/500      6.98G     0.2633     0.8371     0.3433     0.2105     0.9178         16        640: 100%|██████████| 111/111 [00:58<00:00,  1.89it/s]\n",
      "                 Class     Images  Instances      Box(P          R      mAP50  mAP50-95)     Pose(P          R      mAP50  mAP50-95): 100%|██████████| 11/11 [00:03<00:00,  3.50it/s]"
     ]
    },
    {
     "name": "stdout",
     "output_type": "stream",
     "text": [
      "                   all        166        166          1          1      0.995      0.959      0.994      0.994      0.992       0.83\n"
     ]
    },
    {
     "name": "stderr",
     "output_type": "stream",
     "text": [
      "\n"
     ]
    },
    {
     "name": "stdout",
     "output_type": "stream",
     "text": [
      "\n",
      "      Epoch    GPU_mem   box_loss  pose_loss  kobj_loss   cls_loss   dfl_loss  Instances       Size\n"
     ]
    },
    {
     "name": "stderr",
     "output_type": "stream",
     "text": [
      "    168/500      7.26G     0.2524     0.7784     0.3496     0.2093     0.9162         14        640: 100%|██████████| 111/111 [00:58<00:00,  1.90it/s]\n",
      "                 Class     Images  Instances      Box(P          R      mAP50  mAP50-95)     Pose(P          R      mAP50  mAP50-95): 100%|██████████| 11/11 [00:02<00:00,  3.79it/s]"
     ]
    },
    {
     "name": "stdout",
     "output_type": "stream",
     "text": [
      "                   all        166        166          1          1      0.995      0.967      0.982      0.982      0.989      0.862\n"
     ]
    },
    {
     "name": "stderr",
     "output_type": "stream",
     "text": [
      "\n"
     ]
    },
    {
     "name": "stdout",
     "output_type": "stream",
     "text": [
      "\n",
      "      Epoch    GPU_mem   box_loss  pose_loss  kobj_loss   cls_loss   dfl_loss  Instances       Size\n"
     ]
    },
    {
     "name": "stderr",
     "output_type": "stream",
     "text": [
      "    169/500      7.28G     0.2617     0.8257      0.345      0.211     0.9194         14        640: 100%|██████████| 111/111 [00:58<00:00,  1.90it/s]\n",
      "                 Class     Images  Instances      Box(P          R      mAP50  mAP50-95)     Pose(P          R      mAP50  mAP50-95): 100%|██████████| 11/11 [00:02<00:00,  3.69it/s]"
     ]
    },
    {
     "name": "stdout",
     "output_type": "stream",
     "text": [
      "                   all        166        166          1          1      0.995      0.964      0.976      0.976      0.982      0.865\n"
     ]
    },
    {
     "name": "stderr",
     "output_type": "stream",
     "text": [
      "\n"
     ]
    },
    {
     "name": "stdout",
     "output_type": "stream",
     "text": [
      "\n",
      "      Epoch    GPU_mem   box_loss  pose_loss  kobj_loss   cls_loss   dfl_loss  Instances       Size\n"
     ]
    },
    {
     "name": "stderr",
     "output_type": "stream",
     "text": [
      "    170/500      7.29G      0.251     0.7993     0.3512     0.2042     0.9089         10        640: 100%|██████████| 111/111 [00:58<00:00,  1.89it/s]\n",
      "                 Class     Images  Instances      Box(P          R      mAP50  mAP50-95)     Pose(P          R      mAP50  mAP50-95): 100%|██████████| 11/11 [00:02<00:00,  3.74it/s]"
     ]
    },
    {
     "name": "stdout",
     "output_type": "stream",
     "text": [
      "                   all        166        166          1          1      0.995      0.963      0.988      0.988      0.991       0.87\n"
     ]
    },
    {
     "name": "stderr",
     "output_type": "stream",
     "text": [
      "\n"
     ]
    },
    {
     "name": "stdout",
     "output_type": "stream",
     "text": [
      "\n",
      "      Epoch    GPU_mem   box_loss  pose_loss  kobj_loss   cls_loss   dfl_loss  Instances       Size\n"
     ]
    },
    {
     "name": "stderr",
     "output_type": "stream",
     "text": [
      "    171/500       7.3G     0.2547     0.8181     0.3379     0.2136     0.9154         16        640: 100%|██████████| 111/111 [00:58<00:00,  1.90it/s]\n",
      "                 Class     Images  Instances      Box(P          R      mAP50  mAP50-95)     Pose(P          R      mAP50  mAP50-95): 100%|██████████| 11/11 [00:02<00:00,  3.68it/s]"
     ]
    },
    {
     "name": "stdout",
     "output_type": "stream",
     "text": [
      "                   all        166        166      0.999          1      0.995      0.962      0.993      0.976      0.985      0.868\n"
     ]
    },
    {
     "name": "stderr",
     "output_type": "stream",
     "text": [
      "\n"
     ]
    },
    {
     "name": "stdout",
     "output_type": "stream",
     "text": [
      "\n",
      "      Epoch    GPU_mem   box_loss  pose_loss  kobj_loss   cls_loss   dfl_loss  Instances       Size\n"
     ]
    },
    {
     "name": "stderr",
     "output_type": "stream",
     "text": [
      "    172/500      7.29G     0.2521     0.8307     0.3495     0.2077     0.9145         14        640: 100%|██████████| 111/111 [00:58<00:00,  1.90it/s]\n",
      "                 Class     Images  Instances      Box(P          R      mAP50  mAP50-95)     Pose(P          R      mAP50  mAP50-95): 100%|██████████| 11/11 [00:03<00:00,  3.60it/s]"
     ]
    },
    {
     "name": "stdout",
     "output_type": "stream",
     "text": [
      "                   all        166        166          1          1      0.995      0.962      0.982      0.988      0.991      0.858\n"
     ]
    },
    {
     "name": "stderr",
     "output_type": "stream",
     "text": [
      "\n"
     ]
    },
    {
     "name": "stdout",
     "output_type": "stream",
     "text": [
      "\n",
      "      Epoch    GPU_mem   box_loss  pose_loss  kobj_loss   cls_loss   dfl_loss  Instances       Size\n"
     ]
    },
    {
     "name": "stderr",
     "output_type": "stream",
     "text": [
      "    173/500      7.25G     0.2536     0.7838     0.3489     0.2076     0.9123         10        640: 100%|██████████| 111/111 [00:58<00:00,  1.89it/s]\n",
      "                 Class     Images  Instances      Box(P          R      mAP50  mAP50-95)     Pose(P          R      mAP50  mAP50-95): 100%|██████████| 11/11 [00:02<00:00,  3.79it/s]"
     ]
    },
    {
     "name": "stdout",
     "output_type": "stream",
     "text": [
      "                   all        166        166          1          1      0.995      0.962      0.994      0.994      0.995      0.875\n"
     ]
    },
    {
     "name": "stderr",
     "output_type": "stream",
     "text": [
      "\n"
     ]
    },
    {
     "name": "stdout",
     "output_type": "stream",
     "text": [
      "\n",
      "      Epoch    GPU_mem   box_loss  pose_loss  kobj_loss   cls_loss   dfl_loss  Instances       Size\n"
     ]
    },
    {
     "name": "stderr",
     "output_type": "stream",
     "text": [
      "    174/500      7.26G     0.2519     0.7666      0.347     0.2072     0.9122         15        640: 100%|██████████| 111/111 [00:58<00:00,  1.90it/s]\n",
      "                 Class     Images  Instances      Box(P          R      mAP50  mAP50-95)     Pose(P          R      mAP50  mAP50-95): 100%|██████████| 11/11 [00:02<00:00,  3.81it/s]"
     ]
    },
    {
     "name": "stdout",
     "output_type": "stream",
     "text": [
      "                   all        166        166          1          1      0.995      0.964       0.97       0.97      0.978      0.883\n"
     ]
    },
    {
     "name": "stderr",
     "output_type": "stream",
     "text": [
      "\n"
     ]
    },
    {
     "name": "stdout",
     "output_type": "stream",
     "text": [
      "\n",
      "      Epoch    GPU_mem   box_loss  pose_loss  kobj_loss   cls_loss   dfl_loss  Instances       Size\n"
     ]
    },
    {
     "name": "stderr",
     "output_type": "stream",
     "text": [
      "    175/500      6.98G     0.2595       0.75     0.3408      0.213      0.913         12        640: 100%|██████████| 111/111 [00:58<00:00,  1.89it/s]\n",
      "                 Class     Images  Instances      Box(P          R      mAP50  mAP50-95)     Pose(P          R      mAP50  mAP50-95): 100%|██████████| 11/11 [00:03<00:00,  3.52it/s]"
     ]
    },
    {
     "name": "stdout",
     "output_type": "stream",
     "text": [
      "                   all        166        166          1          1      0.995      0.964      0.994      0.994      0.994      0.856\n"
     ]
    },
    {
     "name": "stderr",
     "output_type": "stream",
     "text": [
      "\n"
     ]
    },
    {
     "name": "stdout",
     "output_type": "stream",
     "text": [
      "\n",
      "      Epoch    GPU_mem   box_loss  pose_loss  kobj_loss   cls_loss   dfl_loss  Instances       Size\n"
     ]
    },
    {
     "name": "stderr",
     "output_type": "stream",
     "text": [
      "    176/500      7.25G     0.2501      0.806     0.3557     0.2087     0.9074         13        640: 100%|██████████| 111/111 [00:58<00:00,  1.90it/s]\n",
      "                 Class     Images  Instances      Box(P          R      mAP50  mAP50-95)     Pose(P          R      mAP50  mAP50-95): 100%|██████████| 11/11 [00:02<00:00,  3.76it/s]"
     ]
    },
    {
     "name": "stdout",
     "output_type": "stream",
     "text": [
      "                   all        166        166          1          1      0.995      0.964      0.994      0.994       0.99      0.851\n"
     ]
    },
    {
     "name": "stderr",
     "output_type": "stream",
     "text": [
      "\n"
     ]
    },
    {
     "name": "stdout",
     "output_type": "stream",
     "text": [
      "\n",
      "      Epoch    GPU_mem   box_loss  pose_loss  kobj_loss   cls_loss   dfl_loss  Instances       Size\n"
     ]
    },
    {
     "name": "stderr",
     "output_type": "stream",
     "text": [
      "    177/500      7.04G     0.2508     0.6945     0.3463     0.2066     0.9087         10        640: 100%|██████████| 111/111 [00:58<00:00,  1.90it/s]\n",
      "                 Class     Images  Instances      Box(P          R      mAP50  mAP50-95)     Pose(P          R      mAP50  mAP50-95): 100%|██████████| 11/11 [00:02<00:00,  3.70it/s]"
     ]
    },
    {
     "name": "stdout",
     "output_type": "stream",
     "text": [
      "                   all        166        166          1          1      0.995      0.967      0.994      0.994      0.994      0.885\n"
     ]
    },
    {
     "name": "stderr",
     "output_type": "stream",
     "text": [
      "\n"
     ]
    },
    {
     "name": "stdout",
     "output_type": "stream",
     "text": [
      "\n",
      "      Epoch    GPU_mem   box_loss  pose_loss  kobj_loss   cls_loss   dfl_loss  Instances       Size\n"
     ]
    },
    {
     "name": "stderr",
     "output_type": "stream",
     "text": [
      "    178/500      7.28G     0.2542     0.6729     0.3446     0.2024     0.9124         13        640: 100%|██████████| 111/111 [00:58<00:00,  1.89it/s]\n",
      "                 Class     Images  Instances      Box(P          R      mAP50  mAP50-95)     Pose(P          R      mAP50  mAP50-95): 100%|██████████| 11/11 [00:03<00:00,  3.43it/s]"
     ]
    },
    {
     "name": "stdout",
     "output_type": "stream",
     "text": [
      "                   all        166        166          1          1      0.995      0.971      0.952      0.952       0.97      0.895\n"
     ]
    },
    {
     "name": "stderr",
     "output_type": "stream",
     "text": [
      "\n"
     ]
    },
    {
     "name": "stdout",
     "output_type": "stream",
     "text": [
      "\n",
      "      Epoch    GPU_mem   box_loss  pose_loss  kobj_loss   cls_loss   dfl_loss  Instances       Size\n"
     ]
    },
    {
     "name": "stderr",
     "output_type": "stream",
     "text": [
      "    179/500      7.29G     0.2537     0.6841     0.3378     0.2068     0.9168         13        640: 100%|██████████| 111/111 [00:58<00:00,  1.89it/s]\n",
      "                 Class     Images  Instances      Box(P          R      mAP50  mAP50-95)     Pose(P          R      mAP50  mAP50-95): 100%|██████████| 11/11 [00:02<00:00,  3.81it/s]"
     ]
    },
    {
     "name": "stdout",
     "output_type": "stream",
     "text": [
      "                   all        166        166          1          1      0.995      0.962          1          1      0.995      0.902\n"
     ]
    },
    {
     "name": "stderr",
     "output_type": "stream",
     "text": [
      "\n"
     ]
    },
    {
     "name": "stdout",
     "output_type": "stream",
     "text": [
      "\n",
      "      Epoch    GPU_mem   box_loss  pose_loss  kobj_loss   cls_loss   dfl_loss  Instances       Size\n"
     ]
    },
    {
     "name": "stderr",
     "output_type": "stream",
     "text": [
      "    180/500      7.29G       0.26     0.7067     0.3441     0.2066     0.9161         11        640: 100%|██████████| 111/111 [00:58<00:00,  1.90it/s]\n",
      "                 Class     Images  Instances      Box(P          R      mAP50  mAP50-95)     Pose(P          R      mAP50  mAP50-95): 100%|██████████| 11/11 [00:02<00:00,  3.71it/s]"
     ]
    },
    {
     "name": "stdout",
     "output_type": "stream",
     "text": [
      "                   all        166        166          1          1      0.995      0.971      0.982      0.982      0.983      0.908\n"
     ]
    },
    {
     "name": "stderr",
     "output_type": "stream",
     "text": [
      "\n"
     ]
    },
    {
     "name": "stdout",
     "output_type": "stream",
     "text": [
      "\n",
      "      Epoch    GPU_mem   box_loss  pose_loss  kobj_loss   cls_loss   dfl_loss  Instances       Size\n"
     ]
    },
    {
     "name": "stderr",
     "output_type": "stream",
     "text": [
      "    181/500      7.24G     0.2447      0.669     0.3447     0.2026     0.9138         10        640: 100%|██████████| 111/111 [00:58<00:00,  1.89it/s]\n",
      "                 Class     Images  Instances      Box(P          R      mAP50  mAP50-95)     Pose(P          R      mAP50  mAP50-95): 100%|██████████| 11/11 [00:02<00:00,  3.71it/s]"
     ]
    },
    {
     "name": "stdout",
     "output_type": "stream",
     "text": [
      "                   all        166        166          1          1      0.995      0.968      0.964      0.964      0.972      0.909\n"
     ]
    },
    {
     "name": "stderr",
     "output_type": "stream",
     "text": [
      "\n"
     ]
    },
    {
     "name": "stdout",
     "output_type": "stream",
     "text": [
      "\n",
      "      Epoch    GPU_mem   box_loss  pose_loss  kobj_loss   cls_loss   dfl_loss  Instances       Size\n"
     ]
    },
    {
     "name": "stderr",
     "output_type": "stream",
     "text": [
      "    182/500       7.3G     0.2477      0.649     0.3403     0.2047      0.918         12        640: 100%|██████████| 111/111 [00:58<00:00,  1.90it/s]\n",
      "                 Class     Images  Instances      Box(P          R      mAP50  mAP50-95)     Pose(P          R      mAP50  mAP50-95): 100%|██████████| 11/11 [00:03<00:00,  3.65it/s]"
     ]
    },
    {
     "name": "stdout",
     "output_type": "stream",
     "text": [
      "                   all        166        166          1          1      0.995      0.966      0.994      0.994      0.993      0.923\n"
     ]
    },
    {
     "name": "stderr",
     "output_type": "stream",
     "text": [
      "\n"
     ]
    },
    {
     "name": "stdout",
     "output_type": "stream",
     "text": [
      "\n",
      "      Epoch    GPU_mem   box_loss  pose_loss  kobj_loss   cls_loss   dfl_loss  Instances       Size\n"
     ]
    },
    {
     "name": "stderr",
     "output_type": "stream",
     "text": [
      "    183/500      6.99G     0.2457     0.6216      0.349     0.2016     0.9158          8        640: 100%|██████████| 111/111 [00:58<00:00,  1.90it/s]\n",
      "                 Class     Images  Instances      Box(P          R      mAP50  mAP50-95)     Pose(P          R      mAP50  mAP50-95): 100%|██████████| 11/11 [00:02<00:00,  3.68it/s]"
     ]
    },
    {
     "name": "stdout",
     "output_type": "stream",
     "text": [
      "                   all        166        166          1          1      0.995      0.974      0.988      0.988      0.991      0.938\n"
     ]
    },
    {
     "name": "stderr",
     "output_type": "stream",
     "text": [
      "\n"
     ]
    },
    {
     "name": "stdout",
     "output_type": "stream",
     "text": [
      "\n",
      "      Epoch    GPU_mem   box_loss  pose_loss  kobj_loss   cls_loss   dfl_loss  Instances       Size\n"
     ]
    },
    {
     "name": "stderr",
     "output_type": "stream",
     "text": [
      "    184/500      7.27G     0.2499     0.6587     0.3442     0.2076     0.9093          7        640: 100%|██████████| 111/111 [00:58<00:00,  1.89it/s]\n",
      "                 Class     Images  Instances      Box(P          R      mAP50  mAP50-95)     Pose(P          R      mAP50  mAP50-95): 100%|██████████| 11/11 [00:02<00:00,  3.73it/s]"
     ]
    },
    {
     "name": "stdout",
     "output_type": "stream",
     "text": [
      "                   all        166        166      0.999          1      0.995       0.97      0.994          1      0.995      0.923\n"
     ]
    },
    {
     "name": "stderr",
     "output_type": "stream",
     "text": [
      "\n"
     ]
    },
    {
     "name": "stdout",
     "output_type": "stream",
     "text": [
      "\n",
      "      Epoch    GPU_mem   box_loss  pose_loss  kobj_loss   cls_loss   dfl_loss  Instances       Size\n"
     ]
    },
    {
     "name": "stderr",
     "output_type": "stream",
     "text": [
      "    185/500      7.28G      0.243     0.6048     0.3457     0.2025     0.9084          9        640: 100%|██████████| 111/111 [00:58<00:00,  1.89it/s]\n",
      "                 Class     Images  Instances      Box(P          R      mAP50  mAP50-95)     Pose(P          R      mAP50  mAP50-95): 100%|██████████| 11/11 [00:02<00:00,  3.72it/s]"
     ]
    },
    {
     "name": "stdout",
     "output_type": "stream",
     "text": [
      "                   all        166        166      0.982          1      0.993      0.967      0.941      0.958      0.969      0.929\n"
     ]
    },
    {
     "name": "stderr",
     "output_type": "stream",
     "text": [
      "\n"
     ]
    },
    {
     "name": "stdout",
     "output_type": "stream",
     "text": [
      "\n",
      "      Epoch    GPU_mem   box_loss  pose_loss  kobj_loss   cls_loss   dfl_loss  Instances       Size\n"
     ]
    },
    {
     "name": "stderr",
     "output_type": "stream",
     "text": [
      "    186/500      7.28G     0.2529     0.6345     0.3437      0.205     0.9095         14        640: 100%|██████████| 111/111 [00:58<00:00,  1.89it/s]\n",
      "                 Class     Images  Instances      Box(P          R      mAP50  mAP50-95)     Pose(P          R      mAP50  mAP50-95): 100%|██████████| 11/11 [00:03<00:00,  3.64it/s]"
     ]
    },
    {
     "name": "stdout",
     "output_type": "stream",
     "text": [
      "                   all        166        166          1          1      0.995      0.955      0.976      0.976      0.982      0.936\n"
     ]
    },
    {
     "name": "stderr",
     "output_type": "stream",
     "text": [
      "\n"
     ]
    },
    {
     "name": "stdout",
     "output_type": "stream",
     "text": [
      "\n",
      "      Epoch    GPU_mem   box_loss  pose_loss  kobj_loss   cls_loss   dfl_loss  Instances       Size\n"
     ]
    },
    {
     "name": "stderr",
     "output_type": "stream",
     "text": [
      "    187/500      7.29G     0.2452     0.6389     0.3429     0.2025     0.9052         14        640: 100%|██████████| 111/111 [00:58<00:00,  1.88it/s]\n",
      "                 Class     Images  Instances      Box(P          R      mAP50  mAP50-95)     Pose(P          R      mAP50  mAP50-95): 100%|██████████| 11/11 [00:02<00:00,  3.67it/s]"
     ]
    },
    {
     "name": "stdout",
     "output_type": "stream",
     "text": [
      "                   all        166        166      0.999          1      0.995      0.973      0.993      0.994      0.989      0.901\n"
     ]
    },
    {
     "name": "stderr",
     "output_type": "stream",
     "text": [
      "\n"
     ]
    }
   ],
   "source": [
    "model = YOLO(\"../../models/yolov8x-pose.pt\")  # 加载预训练模型\n",
    "model.train(data='../../dataset/Court_keypoints_data/data.yaml', \n",
    "            epochs=500, # 比之前调大epoches\n",
    "            imgsz=640, \n",
    "            batch=8,\n",
    "            project=\"../../runs/detect/court_det2\"\n",
    "            )"
   ]
  },
  {
   "cell_type": "code",
   "execution_count": 1,
   "id": "d13bcfa8",
   "metadata": {},
   "outputs": [
    {
     "name": "stdout",
     "output_type": "stream",
     "text": [
      "发现检查点文件 ../../runs/detect/court_det2/train3/weights/last.pt，将从中断处恢复训练\n",
      "New https://pypi.org/project/ultralytics/8.3.158 available  Update with 'pip install -U ultralytics'\n",
      "Ultralytics 8.3.155  Python-3.10.18 torch-2.7.1+cu128 CUDA:0 (NVIDIA GeForce RTX 4060 Laptop GPU, 8188MiB)\n",
      "\u001b[34m\u001b[1mengine\\trainer: \u001b[0magnostic_nms=False, amp=True, augment=False, auto_augment=randaugment, batch=8, bgr=0.0, box=7.5, cache=False, cfg=None, classes=None, close_mosaic=10, cls=0.5, conf=None, copy_paste=0.0, copy_paste_mode=flip, cos_lr=False, cutmix=0.0, data=../../dataset/Court_keypoints_data/data.yaml, degrees=0.0, deterministic=True, device=None, dfl=1.5, dnn=False, dropout=0.0, dynamic=False, embed=None, epochs=500, erasing=0.4, exist_ok=False, fliplr=0.5, flipud=0.0, format=torchscript, fraction=1.0, freeze=None, half=False, hsv_h=0.015, hsv_s=0.7, hsv_v=0.4, imgsz=640, int8=False, iou=0.7, keras=False, kobj=1.0, line_width=None, lr0=0.01, lrf=0.01, mask_ratio=4, max_det=300, mixup=0.0, mode=train, model=..\\..\\runs\\detect\\court_det2\\train3\\weights\\last.pt, momentum=0.937, mosaic=1.0, multi_scale=False, name=train3, nbs=64, nms=False, opset=None, optimize=False, optimizer=auto, overlap_mask=True, patience=100, perspective=0.0, plots=True, pose=12.0, pretrained=True, profile=False, project=../../runs/detect/court_det2, rect=False, resume=..\\..\\runs\\detect\\court_det2\\train3\\weights\\last.pt, retina_masks=False, save=True, save_conf=False, save_crop=False, save_dir=..\\..\\runs\\detect\\court_det2\\train3, save_frames=False, save_json=False, save_period=-1, save_txt=False, scale=0.5, seed=0, shear=0.0, show=False, show_boxes=True, show_conf=True, show_labels=True, simplify=True, single_cls=False, source=None, split=val, stream_buffer=False, task=pose, time=None, tracker=botsort.yaml, translate=0.1, val=True, verbose=True, vid_stride=1, visualize=False, warmup_bias_lr=0.0, warmup_epochs=3.0, warmup_momentum=0.8, weight_decay=0.0005, workers=8, workspace=None\n",
      "\n",
      "                   from  n    params  module                                       arguments                     \n",
      "  0                  -1  1      2320  ultralytics.nn.modules.conv.Conv             [3, 80, 3, 2]                 \n",
      "  1                  -1  1    115520  ultralytics.nn.modules.conv.Conv             [80, 160, 3, 2]               \n",
      "  2                  -1  3    436800  ultralytics.nn.modules.block.C2f             [160, 160, 3, True]           \n",
      "  3                  -1  1    461440  ultralytics.nn.modules.conv.Conv             [160, 320, 3, 2]              \n",
      "  4                  -1  6   3281920  ultralytics.nn.modules.block.C2f             [320, 320, 6, True]           \n",
      "  5                  -1  1   1844480  ultralytics.nn.modules.conv.Conv             [320, 640, 3, 2]              \n",
      "  6                  -1  6  13117440  ultralytics.nn.modules.block.C2f             [640, 640, 6, True]           \n",
      "  7                  -1  1   3687680  ultralytics.nn.modules.conv.Conv             [640, 640, 3, 2]              \n",
      "  8                  -1  3   6969600  ultralytics.nn.modules.block.C2f             [640, 640, 3, True]           \n",
      "  9                  -1  1   1025920  ultralytics.nn.modules.block.SPPF            [640, 640, 5]                 \n",
      " 10                  -1  1         0  torch.nn.modules.upsampling.Upsample         [None, 2, 'nearest']          \n",
      " 11             [-1, 6]  1         0  ultralytics.nn.modules.conv.Concat           [1]                           \n",
      " 12                  -1  3   7379200  ultralytics.nn.modules.block.C2f             [1280, 640, 3]                \n",
      " 13                  -1  1         0  torch.nn.modules.upsampling.Upsample         [None, 2, 'nearest']          \n",
      " 14             [-1, 4]  1         0  ultralytics.nn.modules.conv.Concat           [1]                           \n",
      " 15                  -1  3   1948800  ultralytics.nn.modules.block.C2f             [960, 320, 3]                 \n",
      " 16                  -1  1    922240  ultralytics.nn.modules.conv.Conv             [320, 320, 3, 2]              \n",
      " 17            [-1, 12]  1         0  ultralytics.nn.modules.conv.Concat           [1]                           \n",
      " 18                  -1  3   7174400  ultralytics.nn.modules.block.C2f             [960, 640, 3]                 \n",
      " 19                  -1  1   3687680  ultralytics.nn.modules.conv.Conv             [640, 640, 3, 2]              \n",
      " 20             [-1, 9]  1         0  ultralytics.nn.modules.conv.Concat           [1]                           \n",
      " 21                  -1  3   7379200  ultralytics.nn.modules.block.C2f             [1280, 640, 3]                \n",
      " 22        [15, 18, 21]  1  10057813  ultralytics.nn.modules.head.Pose             [1, [18, 3], [320, 640, 640]] \n",
      "YOLOv8x-pose summary: 224 layers, 69,492,453 parameters, 69,492,437 gradients, 264.0 GFLOPs\n",
      "\n",
      "Transferred 637/637 items from pretrained weights\n",
      "Freezing layer 'model.22.dfl.conv.weight'\n",
      "\u001b[34m\u001b[1mAMP: \u001b[0mrunning Automatic Mixed Precision (AMP) checks...\n",
      "\u001b[34m\u001b[1mAMP: \u001b[0mchecks passed \n",
      "\u001b[34m\u001b[1mtrain: \u001b[0mFast image access  (ping: 0.00.0 ms, read: 594.1162.5 MB/s, size: 359.0 KB)\n"
     ]
    },
    {
     "name": "stderr",
     "output_type": "stream",
     "text": [
      "\u001b[34m\u001b[1mtrain: \u001b[0mScanning D:\\AI\\yolo\\dataset\\Court_keypoints_data\\train\\labels.cache... 1172 images, 0 backgrounds, 288 corrupt: 100%|██████████| 1172/1172 [00:00<?, ?it/s]"
     ]
    },
    {
     "name": "stdout",
     "output_type": "stream",
     "text": [
      "\u001b[34m\u001b[1mtrain: \u001b[0mD:\\AI\\yolo\\dataset\\Court_keypoints_data\\train\\images\\basketball_10_frame_0037_jpg.rf.dde6b1b35b884c0609b668c9d8f60d7a.jpg: ignoring corrupt image/label: non-normalized or out of bounds coordinates [1.2705866 1.2705866 1.21875   1.0878472 1.0052084]\n",
      "\u001b[34m\u001b[1mtrain: \u001b[0mD:\\AI\\yolo\\dataset\\Court_keypoints_data\\train\\images\\basketball_10_frame_0045_jpg.rf.065d9607d0d8c28155d62561911c8708.jpg: ignoring corrupt image/label: non-normalized or out of bounds coordinates [1.2705866 1.2705866 1.21875   1.0878472 1.0052084]\n",
      "\u001b[34m\u001b[1mtrain: \u001b[0mD:\\AI\\yolo\\dataset\\Court_keypoints_data\\train\\images\\basketball_10_frame_0053_jpg.rf.d217b2a09eb76bd2876316c7fc0d1bb9.jpg: ignoring corrupt image/label: non-normalized or out of bounds coordinates [1.151663  1.151663  1.0998263]\n",
      "\u001b[34m\u001b[1mtrain: \u001b[0mD:\\AI\\yolo\\dataset\\Court_keypoints_data\\train\\images\\basketball_10_frame_0057_jpg.rf.8e46cff9e93f8b6d10040b5566de0e8c.jpg: ignoring corrupt image/label: non-normalized or out of bounds coordinates [1.0718019 1.0718019 1.0199653]\n",
      "\u001b[34m\u001b[1mtrain: \u001b[0mD:\\AI\\yolo\\dataset\\Court_keypoints_data\\train\\images\\basketball_10_frame_0065_jpg.rf.01bef83e6b6621fdcf84aa94c6eeb4c9.jpg: ignoring corrupt image/label: non-normalized or out of bounds coordinates [1.0666969 1.0248699]\n",
      "\u001b[34m\u001b[1mtrain: \u001b[0mD:\\AI\\yolo\\dataset\\Court_keypoints_data\\train\\images\\basketball_10_frame_0069_jpg.rf.6301a9707e04ec1768e9b47032fdef0d.jpg: ignoring corrupt image/label: non-normalized or out of bounds coordinates [1.038051]\n",
      "\u001b[34m\u001b[1mtrain: \u001b[0mD:\\AI\\yolo\\dataset\\Court_keypoints_data\\train\\images\\basketball_10_frame_0073_jpg.rf.30b3f06a7c1a511a10c3b889c06c5640.jpg: ignoring corrupt image/label: non-normalized or out of bounds coordinates [1.0172176]\n",
      "\u001b[34m\u001b[1mtrain: \u001b[0mD:\\AI\\yolo\\dataset\\Court_keypoints_data\\train\\images\\basketball_10_frame_0077_jpg.rf.6ed0eee2d101779ccfa3f70e73460e67.jpg: ignoring corrupt image/label: non-normalized or out of bounds coordinates [1.0007246]\n",
      "\u001b[34m\u001b[1mtrain: \u001b[0mD:\\AI\\yolo\\dataset\\Court_keypoints_data\\train\\images\\basketball_11_frame_0048_jpg.rf.71f9e50ba3253b4624c11aec362bccfa.jpg: ignoring corrupt image/label: negative label values [-0.01064516 -0.00801047]\n",
      "\u001b[34m\u001b[1mtrain: \u001b[0mD:\\AI\\yolo\\dataset\\Court_keypoints_data\\train\\images\\basketball_11_frame_0052_jpg.rf.a7ac49811e04809bbb6e83c174db0aaf.jpg: ignoring corrupt image/label: negative label values [-0.03408265 -0.03144797]\n",
      "\u001b[34m\u001b[1mtrain: \u001b[0mD:\\AI\\yolo\\dataset\\Court_keypoints_data\\train\\images\\basketball_11_frame_0060_jpg.rf.162d5f8d2d193781c9d53cc005fc7991.jpg: ignoring corrupt image/label: negative label values [-0.01649302 -0.0150025  -0.0123701 ]\n",
      "\u001b[34m\u001b[1mtrain: \u001b[0mD:\\AI\\yolo\\dataset\\Court_keypoints_data\\train\\images\\basketball_11_frame_0064_jpg.rf.8ee1c550c72740f5f10737b20d2563ee.jpg: ignoring corrupt image/label: negative label values [-0.05468745 -0.05319693 -0.05056453]\n",
      "\u001b[34m\u001b[1mtrain: \u001b[0mD:\\AI\\yolo\\dataset\\Court_keypoints_data\\train\\images\\basketball_11_frame_0068_jpg.rf.21379b89ad83c6f08f58db5d93d7fdde.jpg: ignoring corrupt image/label: negative label values [-0.08680552 -0.085315   -0.0826826 ]\n",
      "\u001b[34m\u001b[1mtrain: \u001b[0mD:\\AI\\yolo\\dataset\\Court_keypoints_data\\train\\images\\basketball_11_frame_0072_jpg.rf.8463df00221522481267e3c2c770e682.jpg: ignoring corrupt image/label: negative label values [-0.11371526 -0.11222474 -0.10959234]\n",
      "\u001b[34m\u001b[1mtrain: \u001b[0mD:\\AI\\yolo\\dataset\\Court_keypoints_data\\train\\images\\basketball_11_frame_0080_jpg.rf.fd6ef92b9f3165af5d4502315dc5e0fd.jpg: ignoring corrupt image/label: negative label values [-0.03125    -0.15277776 -0.15128724 -0.14865485]\n",
      "\u001b[34m\u001b[1mtrain: \u001b[0mD:\\AI\\yolo\\dataset\\Court_keypoints_data\\train\\images\\basketball_11_frame_0084_jpg.rf.4eed242ce79620dbd738252a7c9207ef.jpg: ignoring corrupt image/label: negative label values [-0.08072916 -0.20225693 -0.2007664  -0.198134  ]\n",
      "\u001b[34m\u001b[1mtrain: \u001b[0mD:\\AI\\yolo\\dataset\\Court_keypoints_data\\train\\images\\basketball_11_frame_0088_jpg.rf.18a4db043f37b91ed30a3fc8976b4746.jpg: ignoring corrupt image/label: negative label values [-0.02615125 -0.04591328 -0.13194443 -0.25347218 -0.25198168 -0.24934927]\n",
      "\u001b[34m\u001b[1mtrain: \u001b[0mD:\\AI\\yolo\\dataset\\Court_keypoints_data\\train\\images\\basketball_11_frame_0116_jpg.rf.31041c8f018d84d9f0b0edc9c7ca8d47.jpg: ignoring corrupt image/label: non-normalized or out of bounds coordinates [1.0553623 1.0553623 1.0747917]\n",
      "\u001b[34m\u001b[1mtrain: \u001b[0mD:\\AI\\yolo\\dataset\\Court_keypoints_data\\train\\images\\basketball_11_frame_0120_jpg.rf.8080266e61fc4fb9d6e343611343216b.jpg: ignoring corrupt image/label: non-normalized or out of bounds coordinates [1.0553623 1.0553623 1.0747917]\n",
      "\u001b[34m\u001b[1mtrain: \u001b[0mD:\\AI\\yolo\\dataset\\Court_keypoints_data\\train\\images\\basketball_11_frame_0132_jpg.rf.a04c9201c5242193cc0bc1626a8430e6.jpg: ignoring corrupt image/label: non-normalized or out of bounds coordinates [1.0058297 1.0058297]\n",
      "\u001b[34m\u001b[1mtrain: \u001b[0mD:\\AI\\yolo\\dataset\\Court_keypoints_data\\train\\images\\basketball_12_frame_0031_jpg.rf.aa9487dd7741135b14ad4caafd4e563c.jpg: ignoring corrupt image/label: non-normalized or out of bounds coordinates [1.0049616 1.0049616 1.0014462]\n",
      "\u001b[34m\u001b[1mtrain: \u001b[0mD:\\AI\\yolo\\dataset\\Court_keypoints_data\\train\\images\\basketball_12_frame_0035_jpg.rf.6f588f96bbae8e0e42c6d6ea471d2e48.jpg: ignoring corrupt image/label: non-normalized or out of bounds coordinates [1.0240588 1.0240588 1.0205435]\n",
      "\u001b[34m\u001b[1mtrain: \u001b[0mD:\\AI\\yolo\\dataset\\Court_keypoints_data\\train\\images\\basketball_12_frame_0043_jpg.rf.5e306035764cd0d92fd171a2f7996632.jpg: ignoring corrupt image/label: non-normalized or out of bounds coordinates [1.0735381 1.0735381 1.0700227]\n",
      "\u001b[34m\u001b[1mtrain: \u001b[0mD:\\AI\\yolo\\dataset\\Court_keypoints_data\\train\\images\\basketball_12_frame_0047_jpg.rf.5b02f41373282e12371e08142a9744b7.jpg: ignoring corrupt image/label: non-normalized or out of bounds coordinates [1.0735381 1.0735381 1.0700227]\n",
      "\u001b[34m\u001b[1mtrain: \u001b[0mD:\\AI\\yolo\\dataset\\Court_keypoints_data\\train\\images\\basketball_12_frame_0055_jpg.rf.15480e720a8b72b802c123f258ed9a21.jpg: ignoring corrupt image/label: non-normalized or out of bounds coordinates [1.0735381 1.0735381 1.0700227]\n",
      "\u001b[34m\u001b[1mtrain: \u001b[0mD:\\AI\\yolo\\dataset\\Court_keypoints_data\\train\\images\\basketball_12_frame_0059_jpg.rf.84ed6921261824df66a27d478e3fcb18.jpg: ignoring corrupt image/label: non-normalized or out of bounds coordinates [1.0735381 1.0735381 1.0700227]\n",
      "\u001b[34m\u001b[1mtrain: \u001b[0mD:\\AI\\yolo\\dataset\\Court_keypoints_data\\train\\images\\basketball_12_frame_0063_jpg.rf.c622e3550992c5b56b666cd4031ebe7d.jpg: ignoring corrupt image/label: non-normalized or out of bounds coordinates [1.0735381 1.0735381 1.0700227]\n",
      "\u001b[34m\u001b[1mtrain: \u001b[0mD:\\AI\\yolo\\dataset\\Court_keypoints_data\\train\\images\\basketball_12_frame_0083_jpg.rf.7d9e850a31415b89cc5d35caa0a6f5d0.jpg: ignoring corrupt image/label: negative label values [-0.00349307 -0.01924312 -0.08406682 -0.18579067 -0.19903198 -0.1963998 ]\n",
      "\u001b[34m\u001b[1mtrain: \u001b[0mD:\\AI\\yolo\\dataset\\Court_keypoints_data\\train\\images\\basketball_12_frame_0087_jpg.rf.fa96172a6c6e1504f87a5abbeb6bf49d.jpg: ignoring corrupt image/label: negative label values [-0.00349307 -0.01924312 -0.08406682 -0.18579067 -0.19903198 -0.1963998 ]\n",
      "\u001b[34m\u001b[1mtrain: \u001b[0mD:\\AI\\yolo\\dataset\\Court_keypoints_data\\train\\images\\basketball_12_frame_0095_jpg.rf.59c10671166c545e4dd90919838bf925.jpg: ignoring corrupt image/label: negative label values [-0.00349307 -0.01924312 -0.08406682 -0.18579067 -0.19903198 -0.1963998 ]\n",
      "\u001b[34m\u001b[1mtrain: \u001b[0mD:\\AI\\yolo\\dataset\\Court_keypoints_data\\train\\images\\basketball_12_frame_0099_jpg.rf.53bf2798fe14b2d2eecc70e304d60111.jpg: ignoring corrupt image/label: negative label values [-0.00349307 -0.01924312 -0.08406682 -0.18579067 -0.19903198 -0.1963998 ]\n",
      "\u001b[34m\u001b[1mtrain: \u001b[0mD:\\AI\\yolo\\dataset\\Court_keypoints_data\\train\\images\\basketball_12_frame_0103_jpg.rf.12ef4cf401cfffd6f3ad26896e44bce2.jpg: ignoring corrupt image/label: negative label values [-0.00349307 -0.01924312 -0.08406682 -0.18579067 -0.19903198 -0.1963998 ]\n",
      "\u001b[34m\u001b[1mtrain: \u001b[0mD:\\AI\\yolo\\dataset\\Court_keypoints_data\\train\\images\\basketball_12_frame_0127_jpg.rf.f23dd046cd179b9f60df7c30a7a5b88b.jpg: ignoring corrupt image/label: negative label values [-0.0538462  -0.0670875  -0.06445532]\n",
      "\u001b[34m\u001b[1mtrain: \u001b[0mD:\\AI\\yolo\\dataset\\Court_keypoints_data\\train\\images\\basketball_12_frame_0175_jpg.rf.c8e8fea69bd7b0a89a7599f48c398600.jpg: ignoring corrupt image/label: negative label values [-0.01743995]\n",
      "\u001b[34m\u001b[1mtrain: \u001b[0mD:\\AI\\yolo\\dataset\\Court_keypoints_data\\train\\images\\basketball_12_frame_0179_jpg.rf.167e518c7c77809f8ae35fee6e35a7b1.jpg: ignoring corrupt image/label: negative label values [-0.01309969]\n",
      "\u001b[34m\u001b[1mtrain: \u001b[0mD:\\AI\\yolo\\dataset\\Court_keypoints_data\\train\\images\\basketball_12_frame_0183_jpg.rf.6f2c24d0889132d42418975ec05a2049.jpg: ignoring corrupt image/label: negative label values [-0.00441911]\n",
      "\u001b[34m\u001b[1mtrain: \u001b[0mD:\\AI\\yolo\\dataset\\Court_keypoints_data\\train\\images\\basketball_1_3_24_png.rf.4055db24e0d6963bc50291485f7aefbc.jpg: ignoring corrupt image/label: non-normalized or out of bounds coordinates [1.0362828 1.0362828]\n",
      "\u001b[34m\u001b[1mtrain: \u001b[0mD:\\AI\\yolo\\dataset\\Court_keypoints_data\\train\\images\\basketball_1_3_26_png.rf.67c18a551bafe0c701844c70c0da5a85.jpg: ignoring corrupt image/label: non-normalized or out of bounds coordinates [1.0481507 1.0481507 1.0582985]\n",
      "\u001b[34m\u001b[1mtrain: \u001b[0mD:\\AI\\yolo\\dataset\\Court_keypoints_data\\train\\images\\basketball_1_frame_0012_jpg.rf.a47e80f2c663aa4216a9c4a1b5b829c7.jpg: ignoring corrupt image/label: negative label values [-0.05020828 -0.14149305 -0.2526043  -0.28472236]\n",
      "\u001b[34m\u001b[1mtrain: \u001b[0mD:\\AI\\yolo\\dataset\\Court_keypoints_data\\train\\images\\basketball_1_frame_0024_jpg.rf.a0e1c035d135b555f327fc7d0b6051ac.jpg: ignoring corrupt image/label: negative label values [-0.06770836 -0.17881961 -0.21093765]\n",
      "\u001b[34m\u001b[1mtrain: \u001b[0mD:\\AI\\yolo\\dataset\\Court_keypoints_data\\train\\images\\basketball_1_frame_0036_jpg.rf.24b4714d28c4b21ddb84d5fddd468afb.jpg: ignoring corrupt image/label: negative label values [-0.02256945 -0.1336807  -0.16579875]\n",
      "\u001b[34m\u001b[1mtrain: \u001b[0mD:\\AI\\yolo\\dataset\\Court_keypoints_data\\train\\images\\basketball_1_frame_0048_jpg.rf.e41722533abe7f6b45933669d6c32aab.jpg: ignoring corrupt image/label: negative label values [-0.07986125 -0.1119793 ]\n",
      "\u001b[34m\u001b[1mtrain: \u001b[0mD:\\AI\\yolo\\dataset\\Court_keypoints_data\\train\\images\\basketball_1_frame_0052_jpg.rf.c05b33702b7ed04251947b0fda444f34.jpg: ignoring corrupt image/label: negative label values [-0.06770844 -0.09982648]\n",
      "\u001b[34m\u001b[1mtrain: \u001b[0mD:\\AI\\yolo\\dataset\\Court_keypoints_data\\train\\images\\basketball_1_frame_0056_jpg.rf.00583cf35c32876464b88ae31b617d56.jpg: ignoring corrupt image/label: negative label values [-0.05208344 -0.08420148]\n",
      "\u001b[34m\u001b[1mtrain: \u001b[0mD:\\AI\\yolo\\dataset\\Court_keypoints_data\\train\\images\\basketball_1_frame_0068_jpg.rf.b9717ceae583820a1989a73c0949ac19.jpg: ignoring corrupt image/label: negative label values [-0.02517367]\n",
      "\u001b[34m\u001b[1mtrain: \u001b[0mD:\\AI\\yolo\\dataset\\Court_keypoints_data\\train\\images\\basketball_1_frame_0192_jpg.rf.9af0f5e73831c6ef884b21ad3b5ddac2.jpg: ignoring corrupt image/label: non-normalized or out of bounds coordinates [1.2028782 1.2265625 1.1015625]\n",
      "\u001b[34m\u001b[1mtrain: \u001b[0mD:\\AI\\yolo\\dataset\\Court_keypoints_data\\train\\images\\basketball_1_frame_0204_jpg.rf.4de0554adc2703c2da0fb81e5ddef991.jpg: ignoring corrupt image/label: non-normalized or out of bounds coordinates [1.0744061 1.0980903]\n",
      "\u001b[34m\u001b[1mtrain: \u001b[0mD:\\AI\\yolo\\dataset\\Court_keypoints_data\\train\\images\\basketball_2_11_26_png.rf.cfe8ebc14a08b29f6985fa3fa8cbd8a0.jpg: ignoring corrupt image/label: negative label values [-0.00182719]\n",
      "\u001b[34m\u001b[1mtrain: \u001b[0mD:\\AI\\yolo\\dataset\\Court_keypoints_data\\train\\images\\basketball_2_12_21_png.rf.b107124c342c19235462d170ce44d3a8.jpg: ignoring corrupt image/label: non-normalized or out of bounds coordinates [1.0717059 1.0725324]\n",
      "\u001b[34m\u001b[1mtrain: \u001b[0mD:\\AI\\yolo\\dataset\\Court_keypoints_data\\train\\images\\basketball_2_12_22_png.rf.7a9acfd94a19dd62e29efb88cf32bb61.jpg: ignoring corrupt image/label: non-normalized or out of bounds coordinates [1.0135462 1.0143727]\n",
      "\u001b[34m\u001b[1mtrain: \u001b[0mD:\\AI\\yolo\\dataset\\Court_keypoints_data\\train\\images\\basketball_2_12_2_png.rf.3b17c6cc653343527d534d7e2a40c60b.jpg: ignoring corrupt image/label: negative label values [-0.02534102 -0.03061031 -0.0279757 ]\n",
      "\u001b[34m\u001b[1mtrain: \u001b[0mD:\\AI\\yolo\\dataset\\Court_keypoints_data\\train\\images\\basketball_2_13_3_png.rf.199c489e88198f06490ea8c7c765f730.jpg: ignoring corrupt image/label: negative label values [-0.0262525  -0.03151273 -0.02888266]\n",
      "\u001b[34m\u001b[1mtrain: \u001b[0mD:\\AI\\yolo\\dataset\\Court_keypoints_data\\train\\images\\basketball_2_13_4_png.rf.835c46b47694543938dfd9a67c37eb7c.jpg: ignoring corrupt image/label: negative label values [-0.0262525  -0.03151273 -0.02888266]\n",
      "\u001b[34m\u001b[1mtrain: \u001b[0mD:\\AI\\yolo\\dataset\\Court_keypoints_data\\train\\images\\basketball_2_13_5_png.rf.b32e284d5564b3d6e8f7ad0d2320c284.jpg: ignoring corrupt image/label: negative label values [-0.0262525  -0.03151273 -0.02888266]\n",
      "\u001b[34m\u001b[1mtrain: \u001b[0mD:\\AI\\yolo\\dataset\\Court_keypoints_data\\train\\images\\basketball_2_14_14_png.rf.9b2aaf55b57886bbd8b8a068b68bb07c.jpg: ignoring corrupt image/label: non-normalized or out of bounds coordinates [1.0198116 1.0198116 1.0198116 1.017177  1.0198116 1.0198116]\n",
      "\u001b[34m\u001b[1mtrain: \u001b[0mD:\\AI\\yolo\\dataset\\Court_keypoints_data\\train\\images\\basketball_2_14_15_png.rf.c122fa8ce5a74ec5199d0d964ec4ce9d.jpg: ignoring corrupt image/label: non-normalized or out of bounds coordinates [1.0198116 1.0198116 1.0198116 1.017177  1.0198116 1.0198116]\n",
      "\u001b[34m\u001b[1mtrain: \u001b[0mD:\\AI\\yolo\\dataset\\Court_keypoints_data\\train\\images\\basketball_2_14_16_png.rf.c53d85f5932f427fecca9f4b164024b1.jpg: ignoring corrupt image/label: non-normalized or out of bounds coordinates [1.0198116 1.0198116 1.0198116 1.017177  1.0198116 1.0198116]\n",
      "\u001b[34m\u001b[1mtrain: \u001b[0mD:\\AI\\yolo\\dataset\\Court_keypoints_data\\train\\images\\basketball_2_14_17_png.rf.1b3f06f781832c6e08b290c27d2beb4e.jpg: ignoring corrupt image/label: non-normalized or out of bounds coordinates [1.0198116 1.0198116 1.0198116 1.017177  1.0198116 1.0198116]\n",
      "\u001b[34m\u001b[1mtrain: \u001b[0mD:\\AI\\yolo\\dataset\\Court_keypoints_data\\train\\images\\basketball_2_14_18_png.rf.18c1e37ecb5d649160b1249ef4575280.jpg: ignoring corrupt image/label: non-normalized or out of bounds coordinates [1.0198116 1.0198116 1.0198116 1.017177  1.0198116 1.0198116]\n",
      "\u001b[34m\u001b[1mtrain: \u001b[0mD:\\AI\\yolo\\dataset\\Court_keypoints_data\\train\\images\\basketball_2_14_20_png.rf.782d8b816839d953fe98e32233740b41.jpg: ignoring corrupt image/label: non-normalized or out of bounds coordinates [1.0198116 1.0198116 1.0198116 1.017177  1.0198116 1.0198116]\n",
      "\u001b[34m\u001b[1mtrain: \u001b[0mD:\\AI\\yolo\\dataset\\Court_keypoints_data\\train\\images\\basketball_2_14_21_png.rf.dec995e63b0ba5c2f4b70c5b5c15cc17.jpg: ignoring corrupt image/label: non-normalized or out of bounds coordinates [1.0198116 1.0198116 1.0198116 1.017177  1.0198116 1.0198116]\n",
      "\u001b[34m\u001b[1mtrain: \u001b[0mD:\\AI\\yolo\\dataset\\Court_keypoints_data\\train\\images\\basketball_2_14_24_png.rf.aebf673fbaf38709c96ee7771da812ff.jpg: ignoring corrupt image/label: non-normalized or out of bounds coordinates [1.0198116 1.0198116 1.0198116 1.017177  1.0198116 1.0198116]\n",
      "\u001b[34m\u001b[1mtrain: \u001b[0mD:\\AI\\yolo\\dataset\\Court_keypoints_data\\train\\images\\basketball_2_14_2_png.rf.f96032ba21ce8c24668ec9740e21f038.jpg: ignoring corrupt image/label: non-normalized or out of bounds coordinates [1.0198116 1.0198116 1.0198116 1.017177  1.0198116 1.0198116]\n",
      "\u001b[34m\u001b[1mtrain: \u001b[0mD:\\AI\\yolo\\dataset\\Court_keypoints_data\\train\\images\\basketball_2_14_3_png.rf.59be6b6e26cd3c2af4aec0be187dea51.jpg: ignoring corrupt image/label: negative label values [-0.07118054 -0.02298883]\n",
      "\u001b[34m\u001b[1mtrain: \u001b[0mD:\\AI\\yolo\\dataset\\Court_keypoints_data\\train\\images\\basketball_2_14_4_png.rf.0e12dd0960fff1996ca42308eaecf40e.jpg: ignoring corrupt image/label: negative label values [-0.07118054 -0.02298883]\n",
      "\u001b[34m\u001b[1mtrain: \u001b[0mD:\\AI\\yolo\\dataset\\Court_keypoints_data\\train\\images\\basketball_2_1_12_png.rf.d44ac6cc0f3156ae05c38afaacce1deb.jpg: ignoring corrupt image/label: negative label values [-0.04926234 -0.06504312 -0.09550984 -0.09419055 -0.09944899 -0.09681977]\n",
      "\u001b[34m\u001b[1mtrain: \u001b[0mD:\\AI\\yolo\\dataset\\Court_keypoints_data\\train\\images\\basketball_2_1_13_png.rf.bd296b99df510e075d7609cb47e4278f.jpg: ignoring corrupt image/label: negative label values [-0.16604    -0.18182078 -0.2122875  -0.2109682  -0.21622664 -0.21359742]\n",
      "\u001b[34m\u001b[1mtrain: \u001b[0mD:\\AI\\yolo\\dataset\\Court_keypoints_data\\train\\images\\basketball_2_1_14_png.rf.27baceda7c1e672cf859412cb32733ff.jpg: ignoring corrupt image/label: negative label values [-0.27650538 -0.29228616 -0.3227529  -0.3214336  -0.32669204 -0.32406282\n",
      " -0.02559117 -0.10765117]\n",
      "\u001b[34m\u001b[1mtrain: \u001b[0mD:\\AI\\yolo\\dataset\\Court_keypoints_data\\train\\images\\basketball_2_1_15_png.rf.8bf0a443d5e2347e11c0f8ddb5914419.jpg: ignoring corrupt image/label: negative label values [-0.37671322 -0.392494   -0.4229607  -0.4216414  -0.42689985 -0.42427063\n",
      " -0.12579899 -0.20785898]\n",
      "\u001b[34m\u001b[1mtrain: \u001b[0mD:\\AI\\yolo\\dataset\\Court_keypoints_data\\train\\images\\basketball_2_1_19_png.rf.2912d709edd442651bfb5f244ed7060e.jpg: ignoring corrupt image/label: negative label values [-0.06705523 -0.07100258 -0.06705523 -0.06573328 -0.07100258 -0.0676664 ]\n",
      "\u001b[34m\u001b[1mtrain: \u001b[0mD:\\AI\\yolo\\dataset\\Court_keypoints_data\\train\\images\\basketball_2_1_21_png.rf.07e5c0ebe6d0d4a3b19abe2857190339.jpg: ignoring corrupt image/label: negative label values [-0.04183844 -0.04578039 -0.04183844 -0.0405182  -0.04618508 -0.04618508]\n",
      "\u001b[34m\u001b[1mtrain: \u001b[0mD:\\AI\\yolo\\dataset\\Court_keypoints_data\\train\\images\\basketball_2_1_22_png.rf.7dd1fb907d5cd93917a4cbd54268aa78.jpg: ignoring corrupt image/label: negative label values [-0.08681367 -0.09075563 -0.08681367 -0.08549344 -0.09116031 -0.09116031]\n",
      "\u001b[34m\u001b[1mtrain: \u001b[0mD:\\AI\\yolo\\dataset\\Court_keypoints_data\\train\\images\\basketball_2_1_29_png.rf.f4147d132c98070f30e58e9821c3ce7f.jpg: ignoring corrupt image/label: non-normalized or out of bounds coordinates [1.0123624]\n",
      "\u001b[34m\u001b[1mtrain: \u001b[0mD:\\AI\\yolo\\dataset\\Court_keypoints_data\\train\\images\\basketball_2_1_5_png.rf.b51ca6eb6d37964477dc193df5c117f0.jpg: ignoring corrupt image/label: negative label values [-0.00368031]\n",
      "\u001b[34m\u001b[1mtrain: \u001b[0mD:\\AI\\yolo\\dataset\\Court_keypoints_data\\train\\images\\basketball_2_1_6_png.rf.700af417645121328dd68f06c9809cd3.jpg: ignoring corrupt image/label: negative label values [-0.03129664 -0.0194475 ]\n",
      "\u001b[34m\u001b[1mtrain: \u001b[0mD:\\AI\\yolo\\dataset\\Court_keypoints_data\\train\\images\\basketball_2_1_8_png.rf.f4c5339bbe0e6e767d8d44d5d7b50fac.jpg: ignoring corrupt image/label: negative label values [-0.08416227 -0.07231312]\n",
      "\u001b[34m\u001b[1mtrain: \u001b[0mD:\\AI\\yolo\\dataset\\Court_keypoints_data\\train\\images\\basketball_2_1_9_png.rf.bd48a9169a858abdf127359c7cdfcb2e.jpg: ignoring corrupt image/label: negative label values [-0.11730187 -0.10545273]\n",
      "\u001b[34m\u001b[1mtrain: \u001b[0mD:\\AI\\yolo\\dataset\\Court_keypoints_data\\train\\images\\basketball_2_2_12_png.rf.960a14ad263eb897df99be3ef5ab3d20.jpg: ignoring corrupt image/label: negative label values [-0.0423825  -0.04539539 -0.0423825  -0.04106055 -0.04632984 -0.04369523]\n",
      "\u001b[34m\u001b[1mtrain: \u001b[0mD:\\AI\\yolo\\dataset\\Court_keypoints_data\\train\\images\\basketball_2_2_13_png.rf.77d7395781209843464a71149434aafa.jpg: ignoring corrupt image/label: negative label values [-0.06705523 -0.07006813 -0.06705523 -0.06573328 -0.07100258 -0.06836797]\n",
      "\u001b[34m\u001b[1mtrain: \u001b[0mD:\\AI\\yolo\\dataset\\Court_keypoints_data\\train\\images\\basketball_2_2_14_png.rf.cb5c85fccddf3c405602a18ec0e32065.jpg: ignoring corrupt image/label: negative label values [-0.11439758 -0.11741047 -0.11439758 -0.11307562 -0.11834493 -0.11571031]\n",
      "\u001b[34m\u001b[1mtrain: \u001b[0mD:\\AI\\yolo\\dataset\\Court_keypoints_data\\train\\images\\basketball_2_2_15_png.rf.63b2185e503dbceb7513fc10bf5e4df9.jpg: ignoring corrupt image/label: negative label values [-0.15306047 -0.15607336 -0.15306047 -0.15173851 -0.15700781 -0.1543732 ]\n",
      "\u001b[34m\u001b[1mtrain: \u001b[0mD:\\AI\\yolo\\dataset\\Court_keypoints_data\\train\\images\\basketball_2_2_16_png.rf.c753fa508aa8c61f41f0b4e87702f582.jpg: ignoring corrupt image/label: negative label values [-0.19251242 -0.19552532 -0.19251242 -0.19119047 -0.19645977 -0.19382516]\n",
      "\u001b[34m\u001b[1mtrain: \u001b[0mD:\\AI\\yolo\\dataset\\Court_keypoints_data\\train\\images\\basketball_2_2_18_png.rf.a08a1f6936daca55df303f8e7e5cc39d.jpg: ignoring corrupt image/label: negative label values [-0.24222188 -0.24523477 -0.24222188 -0.24089992 -0.24616922 -0.24353461]\n",
      "\u001b[34m\u001b[1mtrain: \u001b[0mD:\\AI\\yolo\\dataset\\Court_keypoints_data\\train\\images\\basketball_2_2_19_png.rf.25a4881cf3a2ee0f6fe40ba01d3b2c1b.jpg: ignoring corrupt image/label: negative label values [-0.2572136  -0.2602265  -0.2572136  -0.25589165 -0.26116094 -0.25852633]\n",
      "\u001b[34m\u001b[1mtrain: \u001b[0mD:\\AI\\yolo\\dataset\\Court_keypoints_data\\train\\images\\basketball_2_2_4_png.rf.fc1893088218c7e6f7aed5123812027f.jpg: ignoring corrupt image/label: negative label values [-0.00022297 -0.00022297]\n",
      "\u001b[34m\u001b[1mtrain: \u001b[0mD:\\AI\\yolo\\dataset\\Court_keypoints_data\\train\\images\\basketball_2_2_5_png.rf.6affc9bcbb76763e5f026af7527fc032.jpg: ignoring corrupt image/label: negative label values [-0.05143703 -0.05308859 -0.05143703 -0.05088399 -0.05308859 -0.05198625]\n",
      "\u001b[34m\u001b[1mtrain: \u001b[0mD:\\AI\\yolo\\dataset\\Court_keypoints_data\\train\\images\\basketball_2_2_6_png.rf.5d0ba1c82d52fd3a20368e95f45e5d8b.jpg: ignoring corrupt image/label: negative label values [-0.10272453 -0.10437609 -0.10272453 -0.10217148 -0.10437609 -0.10327375]\n",
      "\u001b[34m\u001b[1mtrain: \u001b[0mD:\\AI\\yolo\\dataset\\Court_keypoints_data\\train\\images\\basketball_2_2_8_png.rf.cbc889cadad7e033e7fef7c25e439568.jpg: ignoring corrupt image/label: non-normalized or out of bounds coordinates [1.1080853 1.1080853 1.1048104]\n",
      "\u001b[34m\u001b[1mtrain: \u001b[0mD:\\AI\\yolo\\dataset\\Court_keypoints_data\\train\\images\\basketball_2_2_9_png.rf.82fc472d9f218bb804bf5709276de072.jpg: ignoring corrupt image/label: non-normalized or out of bounds coordinates [1.0339158 1.0339158 1.0306408]\n",
      "\u001b[34m\u001b[1mtrain: \u001b[0mD:\\AI\\yolo\\dataset\\Court_keypoints_data\\train\\images\\basketball_2_3_12_png.rf.c081fbd2d3735f8a2dd1ccd2a8db47bc.jpg: ignoring corrupt image/label: negative label values [-0.01154867]\n",
      "\u001b[34m\u001b[1mtrain: \u001b[0mD:\\AI\\yolo\\dataset\\Court_keypoints_data\\train\\images\\basketball_2_3_13_png.rf.6a78a520fb297419e3e52a7996e95679.jpg: ignoring corrupt image/label: negative label values [-0.01154867]\n",
      "\u001b[34m\u001b[1mtrain: \u001b[0mD:\\AI\\yolo\\dataset\\Court_keypoints_data\\train\\images\\basketball_2_3_25_png.rf.3ab1bc309ef68cfc1e5cba9f30e75e42.jpg: ignoring corrupt image/label: negative label values [-0.03929555 -0.0227257  -0.04547727]\n",
      "\u001b[34m\u001b[1mtrain: \u001b[0mD:\\AI\\yolo\\dataset\\Court_keypoints_data\\train\\images\\basketball_2_3_26_png.rf.66f5b10ef012ba6a4f742e2931f01a4c.jpg: ignoring corrupt image/label: negative label values [-0.0582325  -0.04166266 -0.06441422]\n",
      "\u001b[34m\u001b[1mtrain: \u001b[0mD:\\AI\\yolo\\dataset\\Court_keypoints_data\\train\\images\\basketball_2_3_27_png.rf.a87238448400b09e4094f1e7ed75f33c.jpg: ignoring corrupt image/label: negative label values [-0.08348172 -0.06691188 -0.08966344]\n",
      "\u001b[34m\u001b[1mtrain: \u001b[0mD:\\AI\\yolo\\dataset\\Court_keypoints_data\\train\\images\\basketball_2_3_28_png.rf.c82f7c5b7ae6c421cb6c3705e2122780.jpg: ignoring corrupt image/label: negative label values [-0.01286672 -0.11425422 -0.09768438 -0.12043594]\n",
      "\u001b[34m\u001b[1mtrain: \u001b[0mD:\\AI\\yolo\\dataset\\Court_keypoints_data\\train\\images\\basketball_2_3_9_png.rf.d031677fd55619628b983914b0ee08ba.jpg: ignoring corrupt image/label: negative label values [-0.00741602]\n",
      "\u001b[34m\u001b[1mtrain: \u001b[0mD:\\AI\\yolo\\dataset\\Court_keypoints_data\\train\\images\\basketball_2_4_14_png.rf.3c7ba09859ead2f6e6fe07623664f4af.jpg: ignoring corrupt image/label: non-normalized or out of bounds coordinates [1.0221124 1.0221124 1.0221124 1.0194814 1.0221124 1.0227504 1.0440545]\n",
      "\u001b[34m\u001b[1mtrain: \u001b[0mD:\\AI\\yolo\\dataset\\Court_keypoints_data\\train\\images\\basketball_2_4_15_png.rf.5d0e6c4b5320e32a0472a490630c832b.jpg: ignoring corrupt image/label: non-normalized or out of bounds coordinates [1.1215312 1.1215312 1.1215312 1.1189002 1.1215312 1.1221693 1.054312\n",
      " 1.1434733]\n",
      "\u001b[34m\u001b[1mtrain: \u001b[0mD:\\AI\\yolo\\dataset\\Court_keypoints_data\\train\\images\\basketball_2_4_17_png.rf.2d593949958e4db19c841659627764fa.jpg: ignoring corrupt image/label: non-normalized or out of bounds coordinates [1.4584508 1.4584508 1.4584508 1.4558197 1.4584508 1.4590888 1.3912315\n",
      " 1.4803928]\n",
      "\u001b[34m\u001b[1mtrain: \u001b[0mD:\\AI\\yolo\\dataset\\Court_keypoints_data\\train\\images\\basketball_2_4_21_png.rf.7253a49eb1958de3ffcbfd73426f2ce1.jpg: ignoring corrupt image/label: non-normalized or out of bounds coordinates [1.0771941 1.0789064 1.0789064 1.0762734 1.0789064 1.0789064]\n",
      "\u001b[34m\u001b[1mtrain: \u001b[0mD:\\AI\\yolo\\dataset\\Court_keypoints_data\\train\\images\\basketball_2_4_22_png.rf.82b4d99dd47a09181c0ea2b483053603.jpg: ignoring corrupt image/label: non-normalized or out of bounds coordinates [1.0377421 1.1442623 1.1459746 1.1459746 1.1433417 1.1459746 1.1459746]\n",
      "\u001b[34m\u001b[1mtrain: \u001b[0mD:\\AI\\yolo\\dataset\\Court_keypoints_data\\train\\images\\basketball_2_4_23_png.rf.0aa17e4fc49be9d57f81ec88fdfeb5b0.jpg: ignoring corrupt image/label: non-normalized or out of bounds coordinates [1.0866625 1.1931827 1.194895  1.194895  1.192262  1.194895  1.194895 ]\n",
      "\u001b[34m\u001b[1mtrain: \u001b[0mD:\\AI\\yolo\\dataset\\Court_keypoints_data\\train\\images\\basketball_2_4_24_png.rf.bd803d57c22bbfe51774aacc08e4139d.jpg: ignoring corrupt image/label: non-normalized or out of bounds coordinates [1.1205912 1.2271115 1.2288237 1.2288237 1.2261907 1.2288237 1.2288237]\n",
      "\u001b[34m\u001b[1mtrain: \u001b[0mD:\\AI\\yolo\\dataset\\Court_keypoints_data\\train\\images\\basketball_2_4_26_png.rf.f6b8cf1b7d5ba7798e289e497761f5a1.jpg: ignoring corrupt image/label: non-normalized or out of bounds coordinates [1.0571498 1.0550971 1.1545198 1.26104   1.0572484 1.2627523 1.2627523\n",
      " 1.2601193 1.2627523 1.2627523]\n",
      "\u001b[34m\u001b[1mtrain: \u001b[0mD:\\AI\\yolo\\dataset\\Court_keypoints_data\\train\\images\\basketball_2_4_27_png.rf.85b928397808f70ba8f22c7198919ada.jpg: ignoring corrupt image/label: non-normalized or out of bounds coordinates [1.0016917 1.083801  1.0817484 1.1671444 1.2736647 1.0838996 1.2753769\n",
      " 1.2753769 1.2727439 1.2753769 1.2753769 1.0082835 1.0082835]\n",
      "\u001b[34m\u001b[1mtrain: \u001b[0mD:\\AI\\yolo\\dataset\\Court_keypoints_data\\train\\images\\basketball_2_4_28_png.rf.493f992e27fcde56120eb564df9b4d45.jpg: ignoring corrupt image/label: non-normalized or out of bounds coordinates [1.0241348 1.1062441 1.1041914 1.1774019 1.2839222 1.1063427 1.2856344\n",
      " 1.013871  1.2856344 1.2830015 1.2856344 1.2856344 1.018541  1.018541 ]\n",
      "\u001b[34m\u001b[1mtrain: \u001b[0mD:\\AI\\yolo\\dataset\\Court_keypoints_data\\train\\images\\basketball_2_4_29_png.rf.0c483f8be43dd7c8bd27d70286f37789.jpg: ignoring corrupt image/label: non-normalized or out of bounds coordinates [1.0311482 1.1132575 1.1112049 1.1805581 1.2870784 1.1133561 1.2887906\n",
      " 1.0208844 1.2887906 1.2861576 1.2887906 1.2887906 1.0216972 1.0216972]\n",
      "\u001b[34m\u001b[1mtrain: \u001b[0mD:\\AI\\yolo\\dataset\\Court_keypoints_data\\train\\images\\basketball_2_4_30_png.rf.cc4a98c8f05439ef1505a0a43b423428.jpg: ignoring corrupt image/label: non-normalized or out of bounds coordinates [1.0297455 1.1118547 1.1098021 1.1876594 1.2941796 1.1119534 1.2958919\n",
      " 1.0194817 1.2958919 1.2932589 1.2958919 1.2958919 1.0287985 1.0287985]\n",
      "\u001b[34m\u001b[1mtrain: \u001b[0mD:\\AI\\yolo\\dataset\\Court_keypoints_data\\train\\images\\basketball_2_4_31_png.rf.28c8789b852f061c13563bf4889ea284.jpg: ignoring corrupt image/label: non-normalized or out of bounds coordinates [1.0297455 1.1118547 1.1098021 1.1931827 1.299703  1.1119534 1.3014152\n",
      " 1.0194817 1.3014152 1.2987822 1.3014152 1.3014152 1.0343218 1.0343218]\n",
      "\u001b[34m\u001b[1mtrain: \u001b[0mD:\\AI\\yolo\\dataset\\Court_keypoints_data\\train\\images\\basketball_2_4_5_png.rf.3802ce93a6c8dceb3c9e2464c0a1de7d.jpg: ignoring corrupt image/label: non-normalized or out of bounds coordinates [1.1097294 1.1097294]\n",
      "\u001b[34m\u001b[1mtrain: \u001b[0mD:\\AI\\yolo\\dataset\\Court_keypoints_data\\train\\images\\basketball_2_4_6_png.rf.a9c214a1a611bc82178a8174405b03a0.jpg: ignoring corrupt image/label: non-normalized or out of bounds coordinates [1.2588575 1.2588575 1.1308485]\n",
      "\u001b[34m\u001b[1mtrain: \u001b[0mD:\\AI\\yolo\\dataset\\Court_keypoints_data\\train\\images\\basketball_2_4_7_png.rf.3742eefd6775519c32fc87e37136d2e3.jpg: ignoring corrupt image/label: non-normalized or out of bounds coordinates [1.3953612 1.3953612 1.2673522 1.1332158 1.0069696]\n",
      "\u001b[34m\u001b[1mtrain: \u001b[0mD:\\AI\\yolo\\dataset\\Court_keypoints_data\\train\\images\\basketball_2_4_8_png.rf.a7db3b944b809d5af9b8d3f2ddfd0db4.jpg: ignoring corrupt image/label: non-normalized or out of bounds coordinates [1.3953612 1.3953612 1.2673522 1.1332158 1.0069696]\n",
      "\u001b[34m\u001b[1mtrain: \u001b[0mD:\\AI\\yolo\\dataset\\Court_keypoints_data\\train\\images\\basketball_2_4_9_png.rf.04e9b282dab2afe7ad1d1060c590f03c.jpg: ignoring corrupt image/label: non-normalized or out of bounds coordinates [1.3953612 1.3953612 1.2673522 1.1332158 1.0069696]\n",
      "\u001b[34m\u001b[1mtrain: \u001b[0mD:\\AI\\yolo\\dataset\\Court_keypoints_data\\train\\images\\basketball_2_5_10_png.rf.5667d7e08cb94f0da371efc9aa571d1d.jpg: ignoring corrupt image/label: non-normalized or out of bounds coordinates [1.147488  1.1092906]\n",
      "\u001b[34m\u001b[1mtrain: \u001b[0mD:\\AI\\yolo\\dataset\\Court_keypoints_data\\train\\images\\basketball_2_5_11_png.rf.9b4d3e45eaaa4285b41e3ac0d7ca7659.jpg: ignoring corrupt image/label: non-normalized or out of bounds coordinates [1.1340743 1.0958769]\n",
      "\u001b[34m\u001b[1mtrain: \u001b[0mD:\\AI\\yolo\\dataset\\Court_keypoints_data\\train\\images\\basketball_2_5_12_png.rf.f2c6e3ef222acad0e297877003979ef7.jpg: ignoring corrupt image/label: non-normalized or out of bounds coordinates [1.0056108 1.1119813 1.0737839]\n",
      "\u001b[34m\u001b[1mtrain: \u001b[0mD:\\AI\\yolo\\dataset\\Court_keypoints_data\\train\\images\\basketball_2_5_16_png.rf.38a6e99b1c8a205ab2c84e853eefaa05.jpg: ignoring corrupt image/label: non-normalized or out of bounds coordinates [1.0561079]\n",
      "\u001b[34m\u001b[1mtrain: \u001b[0mD:\\AI\\yolo\\dataset\\Court_keypoints_data\\train\\images\\basketball_2_5_17_png.rf.55cd3569bafba8169d32d3417dbef397.jpg: ignoring corrupt image/label: non-normalized or out of bounds coordinates [1.0617187]\n",
      "\u001b[34m\u001b[1mtrain: \u001b[0mD:\\AI\\yolo\\dataset\\Court_keypoints_data\\train\\images\\basketball_2_5_18_png.rf.9813422bf8d6d67e7def27112b8c8741.jpg: ignoring corrupt image/label: non-normalized or out of bounds coordinates [1.0617187]\n",
      "\u001b[34m\u001b[1mtrain: \u001b[0mD:\\AI\\yolo\\dataset\\Court_keypoints_data\\train\\images\\basketball_2_5_19_png.rf.22b444fdd631036009140acaea3d275b.jpg: ignoring corrupt image/label: non-normalized or out of bounds coordinates [1.0617187]\n",
      "\u001b[34m\u001b[1mtrain: \u001b[0mD:\\AI\\yolo\\dataset\\Court_keypoints_data\\train\\images\\basketball_2_5_20_png.rf.69ca5c360b368890fe1ac43ed490e6ba.jpg: ignoring corrupt image/label: non-normalized or out of bounds coordinates [1.0281763]\n",
      "\u001b[34m\u001b[1mtrain: \u001b[0mD:\\AI\\yolo\\dataset\\Court_keypoints_data\\train\\images\\basketball_2_5_21_png.rf.97a24d4f8aa7e63b5966fcb2a4cf1984.jpg: ignoring corrupt image/label: non-normalized or out of bounds coordinates [1.0281763]\n",
      "\u001b[34m\u001b[1mtrain: \u001b[0mD:\\AI\\yolo\\dataset\\Court_keypoints_data\\train\\images\\basketball_2_5_4_png.rf.08f3a42204433ec7ccc0c36ee8566374.jpg: ignoring corrupt image/label: non-normalized or out of bounds coordinates [1.0409677 1.0071435]\n",
      "\u001b[34m\u001b[1mtrain: \u001b[0mD:\\AI\\yolo\\dataset\\Court_keypoints_data\\train\\images\\basketball_2_5_5_png.rf.1d73e965454fdd8bcdcf15854a6c2a21.jpg: ignoring corrupt image/label: non-normalized or out of bounds coordinates [1.089099  1.0552748]\n",
      "\u001b[34m\u001b[1mtrain: \u001b[0mD:\\AI\\yolo\\dataset\\Court_keypoints_data\\train\\images\\basketball_2_5_6_png.rf.d983eae6dcc27973252dc34817baafa7.jpg: ignoring corrupt image/label: non-normalized or out of bounds coordinates [1.1244739 1.0862767]\n",
      "\u001b[34m\u001b[1mtrain: \u001b[0mD:\\AI\\yolo\\dataset\\Court_keypoints_data\\train\\images\\basketball_2_5_7_png.rf.ac5efbed211265d382a73bab0285b61a.jpg: ignoring corrupt image/label: non-normalized or out of bounds coordinates [1.1378876 1.0996903]\n",
      "\u001b[34m\u001b[1mtrain: \u001b[0mD:\\AI\\yolo\\dataset\\Court_keypoints_data\\train\\images\\basketball_2_5_8_png.rf.03a8d0c2f04aace51bebb826a2476d72.jpg: ignoring corrupt image/label: non-normalized or out of bounds coordinates [1.1378876 1.0996903]\n",
      "\u001b[34m\u001b[1mtrain: \u001b[0mD:\\AI\\yolo\\dataset\\Court_keypoints_data\\train\\images\\basketball_2_5_9_png.rf.7fa5489fe906805ce814ffcaffddbda0.jpg: ignoring corrupt image/label: non-normalized or out of bounds coordinates [1.1378876 1.0996903]\n",
      "\u001b[34m\u001b[1mtrain: \u001b[0mD:\\AI\\yolo\\dataset\\Court_keypoints_data\\train\\images\\basketball_2_7_11_png.rf.f6444d2adad4e0cb03cdea329a65e22b.jpg: ignoring corrupt image/label: non-normalized or out of bounds coordinates [1.0008253 1.0008253 1.0008253 1.0008253 1.0008253]\n",
      "\u001b[34m\u001b[1mtrain: \u001b[0mD:\\AI\\yolo\\dataset\\Court_keypoints_data\\train\\images\\basketball_2_7_12_png.rf.a21cb5dcfc623df13abb8f42b38d5487.jpg: ignoring corrupt image/label: non-normalized or out of bounds coordinates [1.0024033 1.0024033 1.0024033 1.0024033 1.0024033]\n",
      "\u001b[34m\u001b[1mtrain: \u001b[0mD:\\AI\\yolo\\dataset\\Court_keypoints_data\\train\\images\\basketball_2_7_13_png.rf.ae7bd993b55fd781c0147f2a8f5e93b3.jpg: ignoring corrupt image/label: non-normalized or out of bounds coordinates [1.0047704 1.0047704 1.0047704 1.0021411 1.0047704 1.0047704]\n",
      "\u001b[34m\u001b[1mtrain: \u001b[0mD:\\AI\\yolo\\dataset\\Court_keypoints_data\\train\\images\\basketball_2_7_15_png.rf.858bc674d27c37081025e7b4866d391a.jpg: ignoring corrupt image/label: non-normalized or out of bounds coordinates [1.0095046 1.0095046 1.0095046 1.0068754 1.0095046 1.0095046]\n",
      "\u001b[34m\u001b[1mtrain: \u001b[0mD:\\AI\\yolo\\dataset\\Court_keypoints_data\\train\\images\\basketball_2_7_16_png.rf.acaa3ab5269f83dcb80773c6535dfb48.jpg: ignoring corrupt image/label: non-normalized or out of bounds coordinates [1.0087149 1.0087149 1.0087149 1.0060858 1.0087149 1.0087149]\n",
      "\u001b[34m\u001b[1mtrain: \u001b[0mD:\\AI\\yolo\\dataset\\Court_keypoints_data\\train\\images\\basketball_2_7_17_png.rf.6a8fbb429287e40efd7719b384b1d8db.jpg: ignoring corrupt image/label: non-normalized or out of bounds coordinates [1.0035967 1.0013144 1.0126607 1.005879  1.0126607 1.0126607 1.0100316\n",
      " 1.0126607 1.0126607]\n",
      "\u001b[34m\u001b[1mtrain: \u001b[0mD:\\AI\\yolo\\dataset\\Court_keypoints_data\\train\\images\\basketball_2_7_18_png.rf.5dcfa0807ac28cadf536cac625ceefef.jpg: ignoring corrupt image/label: non-normalized or out of bounds coordinates [1.0274423 1.0251602 1.0158169 1.0297247 1.0158169 1.0158169 1.0131878\n",
      " 1.0158169 1.0158169]\n",
      "\u001b[34m\u001b[1mtrain: \u001b[0mD:\\AI\\yolo\\dataset\\Court_keypoints_data\\train\\images\\basketball_2_7_19_png.rf.1cfd94641c925e68a5205e20eb800a13.jpg: ignoring corrupt image/label: non-normalized or out of bounds coordinates [1.0597043 1.057422  1.0310984 1.0619867 1.0310984 1.0310984 1.0284691\n",
      " 1.0310984 1.0310984]\n",
      "\u001b[34m\u001b[1mtrain: \u001b[0mD:\\AI\\yolo\\dataset\\Court_keypoints_data\\train\\images\\basketball_2_7_20_png.rf.e857b44155ac00cf3dea93430d6218af.jpg: ignoring corrupt image/label: non-normalized or out of bounds coordinates [1.0614601 1.0591779 1.0636919 1.0637425 1.0636919 1.0636919 1.0610627\n",
      " 1.0636919 1.0636919]\n",
      "\u001b[34m\u001b[1mtrain: \u001b[0mD:\\AI\\yolo\\dataset\\Court_keypoints_data\\train\\images\\basketball_2_7_21_png.rf.5d198dc75534e91d6889d7ca4d2595e1.jpg: ignoring corrupt image/label: non-normalized or out of bounds coordinates [1.0891609 1.0868788 1.0752838 1.0914433 1.0752838 1.0752838 1.0726545\n",
      " 1.0752838 1.0752838]\n",
      "\u001b[34m\u001b[1mtrain: \u001b[0mD:\\AI\\yolo\\dataset\\Court_keypoints_data\\train\\images\\basketball_2_7_22_png.rf.aa67a5123626daca22ca24538a0497f7.jpg: ignoring corrupt image/label: non-normalized or out of bounds coordinates [1.0020783 1.093369  1.0910869 1.1144441 1.0956514 1.1144441 1.1144441\n",
      " 1.111815  1.1144441 1.1144441]\n",
      "\u001b[34m\u001b[1mtrain: \u001b[0mD:\\AI\\yolo\\dataset\\Court_keypoints_data\\train\\images\\basketball_2_7_25_png.rf.c00fb97bb81326a210adf0c38582707c.jpg: ignoring corrupt image/label: non-normalized or out of bounds coordinates [1.0132998 1.1045905 1.1023084 1.1278576 1.1068729 1.1278576 1.0018885\n",
      " 1.1278576 1.1252284 1.1278576 1.1278576]\n",
      "\u001b[34m\u001b[1mtrain: \u001b[0mD:\\AI\\yolo\\dataset\\Court_keypoints_data\\train\\images\\basketball_2_7_26_png.rf.083ace28ebb89d1dc55e5056c726a00e.jpg: ignoring corrupt image/label: non-normalized or out of bounds coordinates [1.0048838 1.0961745 1.0938922 1.1507425 1.0984569 1.1507425 1.1507425\n",
      " 1.1481134 1.1507425 1.1507425]\n",
      "\u001b[34m\u001b[1mtrain: \u001b[0mD:\\AI\\yolo\\dataset\\Court_keypoints_data\\train\\images\\basketball_2_7_28_png.rf.69595a9b7d2495500826cad078140a04.jpg: ignoring corrupt image/label: non-normalized or out of bounds coordinates [1.0076891 1.0989798 1.0966977 1.161     1.1012622 1.161     1.161\n",
      " 1.1583707 1.161     1.161    ]\n",
      "\u001b[34m\u001b[1mtrain: \u001b[0mD:\\AI\\yolo\\dataset\\Court_keypoints_data\\train\\images\\basketball_2_7_29_png.rf.c40e633fa5c52017980a712f08e319cd.jpg: ignoring corrupt image/label: non-normalized or out of bounds coordinates [1.0006757 1.0919664 1.0896841 1.176777  1.0942488 1.176777  1.176777\n",
      " 1.1741478 1.176777  1.176777 ]\n",
      "\u001b[34m\u001b[1mtrain: \u001b[0mD:\\AI\\yolo\\dataset\\Court_keypoints_data\\train\\images\\basketball_2_7_30_png.rf.e14234752b6795d9b4a426b6e6f1c410.jpg: ignoring corrupt image/label: non-normalized or out of bounds coordinates [1.0006757 1.0919664 1.0896841 1.1849749 1.0942488 1.1849749 1.1849749\n",
      " 1.1823457 1.1849749 1.1849749]\n",
      "\u001b[34m\u001b[1mtrain: \u001b[0mD:\\AI\\yolo\\dataset\\Court_keypoints_data\\train\\images\\basketball_2_7_3_png.rf.a095b89a96856c0ad210a58ef28c8044.jpg: ignoring corrupt image/label: negative label values [-0.10280172 -0.11157265 -0.10894344]\n",
      "\u001b[34m\u001b[1mtrain: \u001b[0mD:\\AI\\yolo\\dataset\\Court_keypoints_data\\train\\images\\basketball_2_7_4_png.rf.12ce1f14a1f51169ca58ff60cde5153b.jpg: ignoring corrupt image/label: negative label values [-0.05911484 -0.06788578 -0.06525657]\n",
      "\u001b[34m\u001b[1mtrain: \u001b[0mD:\\AI\\yolo\\dataset\\Court_keypoints_data\\train\\images\\basketball_2_8_5_png.rf.20130ea0e29a95ca4e9900b2a89b9b68.jpg: ignoring corrupt image/label: non-normalized or out of bounds coordinates [1.0197392 1.0197392 1.0197392 1.0171068 1.0197392 1.0197392]\n",
      "\u001b[34m\u001b[1mtrain: \u001b[0mD:\\AI\\yolo\\dataset\\Court_keypoints_data\\train\\images\\basketball_2_8_6_png.rf.76a29cce6804876fc3c6d27d6c55aa6f.jpg: ignoring corrupt image/label: non-normalized or out of bounds coordinates [1.079635  1.079635  1.079635  1.0770026 1.079635  1.079635 ]\n",
      "\u001b[34m\u001b[1mtrain: \u001b[0mD:\\AI\\yolo\\dataset\\Court_keypoints_data\\train\\images\\basketball_2_8_7_png.rf.1a48287d211f9ee80c64c6f7b2872528.jpg: ignoring corrupt image/label: non-normalized or out of bounds coordinates [1.079635  1.079635  1.079635  1.0770026 1.079635  1.079635 ]\n",
      "\u001b[34m\u001b[1mtrain: \u001b[0mD:\\AI\\yolo\\dataset\\Court_keypoints_data\\train\\images\\basketball_2_8_8_png.rf.aa9823ac950642f21526703b023ab8bb.jpg: ignoring corrupt image/label: non-normalized or out of bounds coordinates [1.079635  1.079635  1.079635  1.0770026 1.079635  1.079635 ]\n",
      "\u001b[34m\u001b[1mtrain: \u001b[0mD:\\AI\\yolo\\dataset\\Court_keypoints_data\\train\\images\\basketball_2_8_9_png.rf.e4aa8fd01cd0d3334f1b7b2ecb9ee567.jpg: ignoring corrupt image/label: non-normalized or out of bounds coordinates [1.079635  1.079635  1.079635  1.0770026 1.079635  1.079635 ]\n",
      "\u001b[34m\u001b[1mtrain: \u001b[0mD:\\AI\\yolo\\dataset\\Court_keypoints_data\\train\\images\\basketball_2_9_18_png.rf.8ff854651f0d65ab8ef5ee4362180a46.jpg: ignoring corrupt image/label: negative label values [-0.02067773]\n",
      "\u001b[34m\u001b[1mtrain: \u001b[0mD:\\AI\\yolo\\dataset\\Court_keypoints_data\\train\\images\\basketball_2_9_21_png.rf.5d673f545bbb8ed9e7270e93193a50ce.jpg: ignoring corrupt image/label: non-normalized or out of bounds coordinates [1.023417  1.023417  1.023417  1.0208074 1.023417  1.023417 ]\n",
      "\u001b[34m\u001b[1mtrain: \u001b[0mD:\\AI\\yolo\\dataset\\Court_keypoints_data\\train\\images\\basketball_2_9_22_png.rf.34c4692b858cffd5aa17dab9a9269e63.jpg: ignoring corrupt image/label: non-normalized or out of bounds coordinates [1.023417  1.023417  1.023417  1.0208074 1.023417  1.023417 ]\n",
      "\u001b[34m\u001b[1mtrain: \u001b[0mD:\\AI\\yolo\\dataset\\Court_keypoints_data\\train\\images\\basketball_2_9_23_png.rf.e8ffd54c2e34eafa111147d4021eca8e.jpg: ignoring corrupt image/label: non-normalized or out of bounds coordinates [1.023417  1.023417  1.023417  1.0208074 1.023417  1.023417 ]\n",
      "\u001b[34m\u001b[1mtrain: \u001b[0mD:\\AI\\yolo\\dataset\\Court_keypoints_data\\train\\images\\basketball_2_9_24_png.rf.27144dce646fa2f0b07e742762190270.jpg: ignoring corrupt image/label: non-normalized or out of bounds coordinates [1.023417  1.023417  1.023417  1.0208074 1.023417  1.023417 ]\n",
      "\u001b[34m\u001b[1mtrain: \u001b[0mD:\\AI\\yolo\\dataset\\Court_keypoints_data\\train\\images\\basketball_2_9_25_png.rf.e69bced556589a6300587984d9b7ca85.jpg: ignoring corrupt image/label: non-normalized or out of bounds coordinates [1.023417  1.023417  1.023417  1.0208074 1.023417  1.023417 ]\n",
      "\u001b[34m\u001b[1mtrain: \u001b[0mD:\\AI\\yolo\\dataset\\Court_keypoints_data\\train\\images\\basketball_2_frame_0032_jpg.rf.b67c7324def2b7b1de02be8d81662338.jpg: ignoring corrupt image/label: non-normalized or out of bounds coordinates [1.0068681]\n",
      "\u001b[34m\u001b[1mtrain: \u001b[0mD:\\AI\\yolo\\dataset\\Court_keypoints_data\\train\\images\\basketball_3_3_15_png.rf.6453a4759ae4919dfa8d14a4a7075571.jpg: ignoring corrupt image/label: negative label values [-0.00165516]\n",
      "\u001b[34m\u001b[1mtrain: \u001b[0mD:\\AI\\yolo\\dataset\\Court_keypoints_data\\train\\images\\basketball_3_3_16_png.rf.03c4b2246f2310cbbeb588cdd94a10a6.jpg: ignoring corrupt image/label: negative label values [-0.00867945]\n",
      "\u001b[34m\u001b[1mtrain: \u001b[0mD:\\AI\\yolo\\dataset\\Court_keypoints_data\\train\\images\\basketball_3_3_17_png.rf.ac51a08ab5be2053b9aa06d765a56905.jpg: ignoring corrupt image/label: negative label values [-0.00631234]\n",
      "\u001b[34m\u001b[1mtrain: \u001b[0mD:\\AI\\yolo\\dataset\\Court_keypoints_data\\train\\images\\basketball_3_3_18_png.rf.464c85f359ef95778437b057e57aa682.jpg: ignoring corrupt image/label: negative label values [-0.00286547]\n",
      "\u001b[34m\u001b[1mtrain: \u001b[0mD:\\AI\\yolo\\dataset\\Court_keypoints_data\\train\\images\\basketball_3_3_1_png.rf.909cd621de5dcf267b0becc8be378b91.jpg: ignoring corrupt image/label: negative label values [-0.00207641]\n",
      "\u001b[34m\u001b[1mtrain: \u001b[0mD:\\AI\\yolo\\dataset\\Court_keypoints_data\\train\\images\\basketball_3_3_21_png.rf.bddf5b9917ac53d0155c9942b74e9b19.jpg: ignoring corrupt image/label: negative label values [-0.00157813]\n",
      "\u001b[34m\u001b[1mtrain: \u001b[0mD:\\AI\\yolo\\dataset\\Court_keypoints_data\\train\\images\\basketball_3_3_2_png.rf.9534bd507cc510ef9aacdb25fa66bb5f.jpg: ignoring corrupt image/label: negative label values [-0.00315617]\n",
      "\u001b[34m\u001b[1mtrain: \u001b[0mD:\\AI\\yolo\\dataset\\Court_keypoints_data\\train\\images\\basketball_3_frame_0091_jpg.rf.5536dd2d6161895afc08a313c494dec5.jpg: ignoring corrupt image/label: non-normalized or out of bounds coordinates [1.0112847]\n",
      "\u001b[34m\u001b[1mtrain: \u001b[0mD:\\AI\\yolo\\dataset\\Court_keypoints_data\\train\\images\\basketball_3_frame_0107_jpg.rf.edb4150e15018b27e90c70fcb72c7a30.jpg: ignoring corrupt image/label: non-normalized or out of bounds coordinates [1.0112847]\n",
      "\u001b[34m\u001b[1mtrain: \u001b[0mD:\\AI\\yolo\\dataset\\Court_keypoints_data\\train\\images\\basketball_3_frame_0115_jpg.rf.f1b8b9fc878f4fea4cdf11f41988850e.jpg: ignoring corrupt image/label: non-normalized or out of bounds coordinates [1.0112847]\n",
      "\u001b[34m\u001b[1mtrain: \u001b[0mD:\\AI\\yolo\\dataset\\Court_keypoints_data\\train\\images\\basketball_3_frame_0123_jpg.rf.1ee20cc0e3399464ae6334e4b89805de.jpg: ignoring corrupt image/label: non-normalized or out of bounds coordinates [1.0112847]\n",
      "\u001b[34m\u001b[1mtrain: \u001b[0mD:\\AI\\yolo\\dataset\\Court_keypoints_data\\train\\images\\basketball_4_frame_0004_jpg.rf.99becd081b8b6d6ed5233fa11969039d.jpg: ignoring corrupt image/label: non-normalized or out of bounds coordinates [1.0590278 1.0078125]\n",
      "\u001b[34m\u001b[1mtrain: \u001b[0mD:\\AI\\yolo\\dataset\\Court_keypoints_data\\train\\images\\basketball_4_frame_0012_jpg.rf.fedd661cbdd97eaf56aa3a64953b4566.jpg: ignoring corrupt image/label: non-normalized or out of bounds coordinates [1.0442709]\n",
      "\u001b[34m\u001b[1mtrain: \u001b[0mD:\\AI\\yolo\\dataset\\Court_keypoints_data\\train\\images\\basketball_4_frame_0016_jpg.rf.2d4115f874d355bfe147c9cd044f187b.jpg: ignoring corrupt image/label: non-normalized or out of bounds coordinates [1.029514]\n",
      "\u001b[34m\u001b[1mtrain: \u001b[0mD:\\AI\\yolo\\dataset\\Court_keypoints_data\\train\\images\\basketball_4_frame_0020_jpg.rf.5d34c284cff84cd828462d8c367e0ebf.jpg: ignoring corrupt image/label: non-normalized or out of bounds coordinates [1.013889]\n",
      "\u001b[34m\u001b[1mtrain: \u001b[0mD:\\AI\\yolo\\dataset\\Court_keypoints_data\\train\\images\\basketball_5_frame_0012_jpg.rf.42591e69f68e4e8ea01b2e9c59e1ade3.jpg: ignoring corrupt image/label: non-normalized or out of bounds coordinates [1.2445449 1.2445449 1.2682291 1.1328125 1.0729166 1.0529513]\n",
      "\u001b[34m\u001b[1mtrain: \u001b[0mD:\\AI\\yolo\\dataset\\Court_keypoints_data\\train\\images\\basketball_5_frame_0032_jpg.rf.92aab4e63d1eff036c17e060032f5994.jpg: ignoring corrupt image/label: non-normalized or out of bounds coordinates [1.2445449 1.2445449 1.2682291 1.1328125 1.0729166 1.0529513]\n",
      "\u001b[34m\u001b[1mtrain: \u001b[0mD:\\AI\\yolo\\dataset\\Court_keypoints_data\\train\\images\\basketball_5_frame_0042_jpg.rf.2544cb0eb48ea799bd700ae76ad08900.jpg: ignoring corrupt image/label: non-normalized or out of bounds coordinates [1.1698922 1.1698922 1.1935763 1.0581597]\n",
      "\u001b[34m\u001b[1mtrain: \u001b[0mD:\\AI\\yolo\\dataset\\Court_keypoints_data\\train\\images\\basketball_5_frame_0048_jpg.rf.b8a0cb8e8bb7689a21acf39fbdc0004e.jpg: ignoring corrupt image/label: non-normalized or out of bounds coordinates [1.1698922 1.1698922 1.1935763 1.0581597]\n",
      "\u001b[34m\u001b[1mtrain: \u001b[0mD:\\AI\\yolo\\dataset\\Court_keypoints_data\\train\\images\\basketball_5_frame_0062_jpg.rf.8fd6031fade5f0ff79d90e8ded73b504.jpg: ignoring corrupt image/label: non-normalized or out of bounds coordinates [1.1108644 1.1108644 1.1345485]\n",
      "\u001b[34m\u001b[1mtrain: \u001b[0mD:\\AI\\yolo\\dataset\\Court_keypoints_data\\train\\images\\basketball_5_frame_0068_jpg.rf.8dfe0e2d5fc2b87c963a27965708b99e.jpg: ignoring corrupt image/label: non-normalized or out of bounds coordinates [1.088295  1.088295  1.1119791]\n",
      "\u001b[34m\u001b[1mtrain: \u001b[0mD:\\AI\\yolo\\dataset\\Court_keypoints_data\\train\\images\\basketball_5_frame_0080_jpg.rf.33d94ac54281380e3df59987bd032e25.jpg: ignoring corrupt image/label: non-normalized or out of bounds coordinates [1.0162463 1.0162463 1.0399306]\n",
      "\u001b[34m\u001b[1mtrain: \u001b[0mD:\\AI\\yolo\\dataset\\Court_keypoints_data\\train\\images\\basketball_5_frame_0100_jpg.rf.a009c4ec7f514312eab181150d1200d7.jpg: ignoring corrupt image/label: non-normalized or out of bounds coordinates [1.157118  1.1180555]\n",
      "\u001b[34m\u001b[1mtrain: \u001b[0mD:\\AI\\yolo\\dataset\\Court_keypoints_data\\train\\images\\basketball_5_frame_0106_jpg.rf.4c9a3fe7940e1df8dc0c775c7014ab43.jpg: ignoring corrupt image/label: non-normalized or out of bounds coordinates [1.1293403 1.0902778]\n",
      "\u001b[34m\u001b[1mtrain: \u001b[0mD:\\AI\\yolo\\dataset\\Court_keypoints_data\\train\\images\\basketball_5_frame_0120_jpg.rf.ee30efde9d12327cd82a3868b6b49932.jpg: ignoring corrupt image/label: non-normalized or out of bounds coordinates [1.0234375]\n",
      "\u001b[34m\u001b[1mtrain: \u001b[0mD:\\AI\\yolo\\dataset\\Court_keypoints_data\\train\\images\\basketball_6_frame_0020_jpg.rf.05cbd0f259bb74dcb345a64c5f35eb2c.jpg: ignoring corrupt image/label: non-normalized or out of bounds coordinates [1.027531 1.027531]\n",
      "\u001b[34m\u001b[1mtrain: \u001b[0mD:\\AI\\yolo\\dataset\\Court_keypoints_data\\train\\images\\basketball_6_frame_0029_jpg.rf.d8ca5d295300e7f7afeb40d23d7038e8.jpg: ignoring corrupt image/label: non-normalized or out of bounds coordinates [1.0830866 1.0830866 1.0277778]\n",
      "\u001b[34m\u001b[1mtrain: \u001b[0mD:\\AI\\yolo\\dataset\\Court_keypoints_data\\train\\images\\basketball_6_frame_0036_jpg.rf.00e7415d22b901462726b90e9eb30e72.jpg: ignoring corrupt image/label: non-normalized or out of bounds coordinates [1.150795  1.150795  1.0954862]\n",
      "\u001b[34m\u001b[1mtrain: \u001b[0mD:\\AI\\yolo\\dataset\\Court_keypoints_data\\train\\images\\basketball_6_frame_0089_jpg.rf.19f2b3b46cbc08a1a9ed3f74140369e5.jpg: ignoring corrupt image/label: negative label values [-0.05208333 -0.07916047 -0.08442985 -0.08179516]\n",
      "\u001b[34m\u001b[1mtrain: \u001b[0mD:\\AI\\yolo\\dataset\\Court_keypoints_data\\train\\images\\basketball_6_frame_0096_jpg.rf.4d761c43a64cac6127c1cfad5365d300.jpg: ignoring corrupt image/label: negative label values [-0.05208333 -0.07916047 -0.08442985 -0.08179516]\n",
      "\u001b[34m\u001b[1mtrain: \u001b[0mD:\\AI\\yolo\\dataset\\Court_keypoints_data\\train\\images\\basketball_6_frame_0106_jpg.rf.1e748bcbacc7a7d5285c520bb056deae.jpg: ignoring corrupt image/label: negative label values [-0.01926463 -0.02453401 -0.02189932]\n",
      "\u001b[34m\u001b[1mtrain: \u001b[0mD:\\AI\\yolo\\dataset\\Court_keypoints_data\\train\\images\\basketball_7_frame_0033_jpg.rf.a3c638ab4afddd03cd10fcc5c990f9e7.jpg: ignoring corrupt image/label: negative label values [-0.00896036 -0.00633255]\n",
      "\u001b[34m\u001b[1mtrain: \u001b[0mD:\\AI\\yolo\\dataset\\Court_keypoints_data\\train\\images\\basketball_7_frame_0037_jpg.rf.9f6ac797f5fce953ef58e6ae83fae920.jpg: ignoring corrupt image/label: negative label values [-0.00896036 -0.00633255]\n",
      "\u001b[34m\u001b[1mtrain: \u001b[0mD:\\AI\\yolo\\dataset\\Court_keypoints_data\\train\\images\\basketball_8_frame_0060_jpg.rf.94c45563512361f9678f50a3edd922ad.jpg: ignoring corrupt image/label: non-normalized or out of bounds coordinates [1.0231909 1.0231909 1.0231909 1.0205562 1.0231909 1.0231909]\n",
      "\u001b[34m\u001b[1mtrain: \u001b[0mD:\\AI\\yolo\\dataset\\Court_keypoints_data\\train\\images\\basketball_8_frame_0070_jpg.rf.0f0ce2554bf37ecee7d4473994d44856.jpg: ignoring corrupt image/label: non-normalized or out of bounds coordinates [1.0396839 1.0396839 1.0396839 1.0370492 1.0396839 1.0396839]\n",
      "\u001b[34m\u001b[1mtrain: \u001b[0mD:\\AI\\yolo\\dataset\\Court_keypoints_data\\train\\images\\basketball_8_frame_0080_jpg.rf.2a30b7e050e0508d18e70f68dac867e1.jpg: ignoring corrupt image/label: non-normalized or out of bounds coordinates [1.0527048 1.0527048 1.0527048 1.05007   1.0527048 1.0527048]\n",
      "\u001b[34m\u001b[1mtrain: \u001b[0mD:\\AI\\yolo\\dataset\\Court_keypoints_data\\train\\images\\basketball_8_frame_0090_jpg.rf.9770c6ca2e89747e002c14ae8c9101c5.jpg: ignoring corrupt image/label: non-normalized or out of bounds coordinates [1.0544409 1.0544409 1.0544409 1.0518062 1.0544409 1.0544409]\n",
      "\u001b[34m\u001b[1mtrain: \u001b[0mD:\\AI\\yolo\\dataset\\Court_keypoints_data\\train\\images\\basketball_8_frame_0100_jpg.rf.52a07731127c3065b8e2d7de7a094a4c.jpg: ignoring corrupt image/label: non-normalized or out of bounds coordinates [1.0544409 1.0544409 1.0544409 1.0518062 1.0544409 1.0544409]\n",
      "\u001b[34m\u001b[1mtrain: \u001b[0mD:\\AI\\yolo\\dataset\\Court_keypoints_data\\train\\images\\basketball_8_frame_0110_jpg.rf.8e0cc5080b893531f0f3c63eb93d1849.jpg: ignoring corrupt image/label: non-normalized or out of bounds coordinates [1.0544409 1.0544409 1.0544409 1.0518062 1.0544409 1.0544409]\n",
      "\u001b[34m\u001b[1mtrain: \u001b[0mD:\\AI\\yolo\\dataset\\Court_keypoints_data\\train\\images\\basketball_8_frame_0130_jpg.rf.666669489ef37870dfcc725465a134c9.jpg: ignoring corrupt image/label: non-normalized or out of bounds coordinates [1.0544409 1.0544409 1.0544409 1.0518062 1.0544409 1.0544409]\n",
      "\u001b[34m\u001b[1mtrain: \u001b[0mD:\\AI\\yolo\\dataset\\Court_keypoints_data\\train\\images\\faasdasd2_1125_jpg.rf.1bc59a91ff6c42bf83f97b0100c62f2f.jpg: ignoring corrupt image/label: non-normalized or out of bounds coordinates [1.0688984 1.0918167 1.113606  1.113606  1.113606  1.1109712 1.113606\n",
      " 1.113606 ]\n",
      "\u001b[34m\u001b[1mtrain: \u001b[0mD:\\AI\\yolo\\dataset\\Court_keypoints_data\\train\\images\\faasdasd2_150_jpg.rf.45a6ebe5b86792d24aabcf303e776e33.jpg: ignoring corrupt image/label: negative label values [-0.00178086 -0.01798336]\n",
      "\u001b[34m\u001b[1mtrain: \u001b[0mD:\\AI\\yolo\\dataset\\Court_keypoints_data\\train\\images\\faasdasd2_1625_jpg.rf.d0311f1a028c72305cd761fed77c0671.jpg: ignoring corrupt image/label: non-normalized or out of bounds coordinates [1.0838897 1.0818144 1.106808  1.1285973 1.0586619 1.1285973 1.1285973\n",
      " 1.1259626 1.1285973 1.1285973]\n",
      "\u001b[34m\u001b[1mtrain: \u001b[0mD:\\AI\\yolo\\dataset\\Court_keypoints_data\\train\\images\\faasdasd2_1800_jpg.rf.b400a607aa77a641ad425981d5f97bbb.jpg: ignoring corrupt image/label: negative label values [-0.08520328 -0.08256868]\n",
      "\u001b[34m\u001b[1mtrain: \u001b[0mD:\\AI\\yolo\\dataset\\Court_keypoints_data\\train\\images\\faasdasd2_1850_jpg.rf.1b4aa95b9d99217b15ed4fa821108d86.jpg: ignoring corrupt image/label: negative label values [-0.03967992 -0.11618938 -0.13239187]\n",
      "\u001b[34m\u001b[1mtrain: \u001b[0mD:\\AI\\yolo\\dataset\\Court_keypoints_data\\train\\images\\faasdasd2_2050_jpg.rf.c6654f69f5b1a2bd9a12de40adbd3ad2.jpg: ignoring corrupt image/label: negative label values [-0.02074336 -0.09725282 -0.11345531]\n",
      "\u001b[34m\u001b[1mtrain: \u001b[0mD:\\AI\\yolo\\dataset\\Court_keypoints_data\\train\\images\\faasdasd2_2075_jpg.rf.dd9ffe37f831ab291839c8130d2f6c50.jpg: ignoring corrupt image/label: negative label values [-0.0475443 -0.0637468]\n",
      "\u001b[34m\u001b[1mtrain: \u001b[0mD:\\AI\\yolo\\dataset\\Court_keypoints_data\\train\\images\\faasdasd2_2375_jpg.rf.76f945f29deb37b33d35a3c661f49516.jpg: ignoring corrupt image/label: non-normalized or out of bounds coordinates [1.0373375 1.0841615 1.0602556 1.082045  1.061009  1.082045  1.082045\n",
      " 1.0794103 1.082045  1.082045 ]\n",
      "\u001b[34m\u001b[1mtrain: \u001b[0mD:\\AI\\yolo\\dataset\\Court_keypoints_data\\train\\images\\faasdasd2_2675_jpg.rf.b26784dc82efac9e744990300f0af7dd.jpg: ignoring corrupt image/label: negative label values [-0.03491992 -0.05112242]\n",
      "\u001b[34m\u001b[1mtrain: \u001b[0mD:\\AI\\yolo\\dataset\\Court_keypoints_data\\train\\images\\faasdasd2_2775_jpg.rf.828fe061a33309e9bb4b601e1b2dfd9b.jpg: ignoring corrupt image/label: non-normalized or out of bounds coordinates [1.1399106 1.0102769 1.1628288 1.184618  1.184618  1.184618  1.1819834\n",
      " 1.184618  1.184618 ]\n",
      "\u001b[34m\u001b[1mtrain: \u001b[0mD:\\AI\\yolo\\dataset\\Court_keypoints_data\\train\\images\\videoplayback_1_3_frame_0176_jpg.rf.798878fc06f788a18777a4a59c532a5c.jpg: ignoring corrupt image/label: negative label values [-0.02028242 -0.02416445 -0.02028242 -0.01898234 -0.02416445 -0.02157336]\n",
      "\u001b[34m\u001b[1mtrain: \u001b[0mD:\\AI\\yolo\\dataset\\Court_keypoints_data\\train\\images\\videoplayback_3_1_frame_0373_jpg.rf.bd155eeb3352e7f09455b2dab118f38f.jpg: ignoring corrupt image/label: negative label values [-0.02114151 -0.02508323 -0.02114151 -0.01982146 -0.02508323 -0.02245234]\n",
      "\u001b[34m\u001b[1mtrain: \u001b[0mD:\\AI\\yolo\\dataset\\Court_keypoints_data\\train\\images\\videoplayback_3_1_frame_0818_jpg.rf.57e7ea4e951a5c2d128782e3c155f20c.jpg: ignoring corrupt image/label: negative label values [-0.00714687 -0.03925864]\n",
      "\u001b[34m\u001b[1mtrain: \u001b[0mD:\\AI\\yolo\\dataset\\Court_keypoints_data\\train\\images\\videoplayback_3_1_frame_0902_jpg.rf.ef1cc4d6d36e27c09ae465b948b11bdd.jpg: ignoring corrupt image/label: non-normalized or out of bounds coordinates [1.0073014 1.0073014 1.0073014 1.0046705 1.0073014 1.0073014]\n",
      "\u001b[34m\u001b[1mtrain: \u001b[0mD:\\AI\\yolo\\dataset\\Court_keypoints_data\\train\\images\\videoplayback_3_1_frame_0980_jpg.rf.20d7e74e9019454d47a35ecd81b0f357.jpg: ignoring corrupt image/label: non-normalized or out of bounds coordinates [1.0036273 1.0036273 1.0036273 1.0009965 1.0036273 1.0036273]\n",
      "\u001b[34m\u001b[1mtrain: \u001b[0mD:\\AI\\yolo\\dataset\\Court_keypoints_data\\train\\images\\videoplayback_3_1_frame_1195_jpg.rf.94f53a79a01c263a0fdba83717555587.jpg: ignoring corrupt image/label: non-normalized or out of bounds coordinates [1.0523965 1.0523965 1.0523965 1.0497656 1.0523965 1.0523965]\n",
      "\u001b[34m\u001b[1mtrain: \u001b[0mD:\\AI\\yolo\\dataset\\Court_keypoints_data\\train\\images\\videoplayback_3_1_frame_1328_jpg.rf.b4d37907090e9063b5d3cd47ee371d48.jpg: ignoring corrupt image/label: non-normalized or out of bounds coordinates [1.0050632]\n",
      "\u001b[34m\u001b[1mtrain: \u001b[0mD:\\AI\\yolo\\dataset\\Court_keypoints_data\\train\\images\\videoplayback_3_1_frame_2013_jpg.rf.231513b10edb2521822fe3a40a5b1717.jpg: ignoring corrupt image/label: non-normalized or out of bounds coordinates [1.0576113 1.055907 ]\n",
      "\u001b[34m\u001b[1mtrain: \u001b[0mD:\\AI\\yolo\\dataset\\Court_keypoints_data\\train\\images\\videoplayback_3_1_frame_2091_jpg.rf.76fd1faeab8689420a2a3a10f4115afc.jpg: ignoring corrupt image/label: non-normalized or out of bounds coordinates [1.0469463 1.0469463 1.0469463 1.0443153 1.0469463 1.0469463]\n",
      "\u001b[34m\u001b[1mtrain: \u001b[0mD:\\AI\\yolo\\dataset\\Court_keypoints_data\\train\\images\\videoplayback_3_1_frame_2175_jpg.rf.af36042256866b2fea062b8c27b90222.jpg: ignoring corrupt image/label: non-normalized or out of bounds coordinates [1.0280902 1.0176795 1.0335584 1.0176795 1.0176795 1.0150486 1.0176795\n",
      " 1.0176795]\n",
      "\u001b[34m\u001b[1mtrain: \u001b[0mD:\\AI\\yolo\\dataset\\Court_keypoints_data\\train\\images\\videoplayback_3_1_frame_2253_jpg.rf.743b4b6c7f4b426b943dd6e2d5e30096.jpg: ignoring corrupt image/label: negative label values [-0.02037234 -0.05248411]\n",
      "\u001b[34m\u001b[1mtrain: \u001b[0mD:\\AI\\yolo\\dataset\\Court_keypoints_data\\train\\images\\videoplayback_3_1_frame_2458_jpg.rf.5c18f2164e3b214ddc9efca8ca87eeb7.jpg: ignoring corrupt image/label: non-normalized or out of bounds coordinates [1.01272  1.01272  1.01272  1.010089 1.01272  1.01272 ]\n",
      "\u001b[34m\u001b[1mtrain: \u001b[0mD:\\AI\\yolo\\dataset\\Court_keypoints_data\\train\\images\\videoplayback_3_1_frame_2620_jpg.rf.0068c260bc363b787f34400b151fa948.jpg: ignoring corrupt image/label: non-normalized or out of bounds coordinates [1.0517335 1.0500292]\n",
      "\u001b[34m\u001b[1mtrain: \u001b[0mD:\\AI\\yolo\\dataset\\Court_keypoints_data\\train\\images\\videoplayback_3_1_frame_2744_jpg.rf.549521d5cb394a4cd1b113be59a84050.jpg: ignoring corrupt image/label: negative label values [-0.02348167 -0.02742339 -0.02348167 -0.02216161 -0.02742339 -0.0247925 ]\n",
      "\u001b[34m\u001b[1mtrain: \u001b[0mD:\\AI\\yolo\\dataset\\Court_keypoints_data\\train\\images\\videoplayback_3_1_frame_2828_jpg.rf.4e94b40aa01f9f12f3adcba06ffcdb0c.jpg: ignoring corrupt image/label: non-normalized or out of bounds coordinates [1.0267521 1.0250478]\n",
      "\u001b[34m\u001b[1mtrain: \u001b[0mD:\\AI\\yolo\\dataset\\Court_keypoints_data\\train\\images\\videoplayback_4_2_frame_0949_jpg.rf.50c6d78e7fc67785c088f64e15142188.jpg: ignoring corrupt image/label: negative label values [-0.13186984 -0.13553484 -0.13186984 -0.1306425  -0.13553484 -0.13308868]\n",
      "\u001b[34m\u001b[1mtrain: \u001b[0mD:\\AI\\yolo\\dataset\\Court_keypoints_data\\train\\images\\videoplayback_5_2_frame_0004_jpg.rf.3b39ffd875034bd5d3d6be7685871c75.jpg: ignoring corrupt image/label: non-normalized or out of bounds coordinates [1.04148]\n",
      "\u001b[34m\u001b[1mtrain: \u001b[0mD:\\AI\\yolo\\dataset\\Court_keypoints_data\\train\\images\\videoplayback_5_2_frame_0014_jpg.rf.36bd87fb457f06e68d9d1259a53419be.jpg: ignoring corrupt image/label: non-normalized or out of bounds coordinates [1.0083408]\n",
      "\u001b[34m\u001b[1mtrain: \u001b[0mD:\\AI\\yolo\\dataset\\Court_keypoints_data\\train\\images\\videoplayback_5_3_frame_0010_jpg.rf.6db6b2b8bcfc25991e4f04184beeb4ee.jpg: ignoring corrupt image/label: negative label values [-0.07528367 -0.07834211 -0.07528367 -0.07396437 -0.07922281 -0.07659359]\n",
      "\u001b[34m\u001b[1mtrain: \u001b[0mD:\\AI\\yolo\\dataset\\Court_keypoints_data\\train\\images\\videoplayback_5_3_frame_0028_jpg.rf.d5e05e68a2cf1b6b65858ebcb98e9fac.jpg: ignoring corrupt image/label: negative label values [-0.12233438 -0.12539281 -0.12233438 -0.12101508 -0.12627351 -0.1236443 ]\n",
      "\u001b[34m\u001b[1mtrain: \u001b[0mD:\\AI\\yolo\\dataset\\Court_keypoints_data\\train\\images\\videoplayback_5_3_frame_0060_jpg.rf.df56369fe8553eea967ffedeaabf31e3.jpg: ignoring corrupt image/label: negative label values [-0.1041868  -0.10724524 -0.1041868  -0.1028675  -0.10812594 -0.10549672]\n",
      "\u001b[34m\u001b[1mtrain: \u001b[0mD:\\AI\\yolo\\dataset\\Court_keypoints_data\\train\\images\\videoplayback_5_3_frame_0078_jpg.rf.9d5968d67e91af15c3a08221cd985fcd.jpg: ignoring corrupt image/label: negative label values [-0.10813195 -0.11119039 -0.10813195 -0.10681266 -0.1120711  -0.10944188]\n",
      "\u001b[34m\u001b[1mtrain: \u001b[0mD:\\AI\\yolo\\dataset\\Court_keypoints_data\\train\\images\\videoplayback_5_3_frame_0098_jpg.rf.921848e2c232c2f581d31afc734081d2.jpg: ignoring corrupt image/label: negative label values [-0.08288313 -0.08594156 -0.08288313 -0.08156383 -0.08682226 -0.08419304]\n",
      "\u001b[34m\u001b[1mtrain: \u001b[0mD:\\AI\\yolo\\dataset\\Court_keypoints_data\\train\\images\\videoplayback_5_3_frame_0110_jpg.rf.5668adb686bcf9e71208875c637455c1.jpg: ignoring corrupt image/label: negative label values [-0.08475187 -0.08781032 -0.08475187 -0.08343258 -0.08869102 -0.0860618 ]\n",
      "\u001b[34m\u001b[1mtrain: \u001b[0mD:\\AI\\yolo\\dataset\\Court_keypoints_data\\train\\images\\videoplayback_5_3_frame_0160_jpg.rf.a74ac7eedb10183e5e90cf413d1506fe.jpg: ignoring corrupt image/label: non-normalized or out of bounds coordinates [1.0406729 1.0388898]\n",
      "\u001b[34m\u001b[1mtrain: \u001b[0mD:\\AI\\yolo\\dataset\\Court_keypoints_data\\train\\images\\videoplayback_5_3_frame_0178_jpg.rf.d82726debf7a713e36439b30a664afc3.jpg: ignoring corrupt image/label: non-normalized or out of bounds coordinates [1.0350621 1.033279 ]\n",
      "\u001b[34m\u001b[1mtrain: \u001b[0mD:\\AI\\yolo\\dataset\\Court_keypoints_data\\train\\images\\videoplayback_5_3_frame_0198_jpg.rf.250241c243bdf1fce2be0bcd40bb1a86.jpg: ignoring corrupt image/label: non-normalized or out of bounds coordinates [1.0294515 1.0276684]\n",
      "\u001b[34m\u001b[1mtrain: \u001b[0mD:\\AI\\yolo\\dataset\\Court_keypoints_data\\train\\images\\videoplayback_5_3_frame_0210_jpg.rf.ab9ad38af90e79b02a1eba2b48832e79.jpg: ignoring corrupt image/label: non-normalized or out of bounds coordinates [1.0308542 1.029071 ]\n",
      "\u001b[34m\u001b[1mtrain: \u001b[0mD:\\AI\\yolo\\dataset\\Court_keypoints_data\\train\\images\\videoplayback_5_3_frame_0228_jpg.rf.ae927bd3c78f412eff09ff71823e5dc4.jpg: ignoring corrupt image/label: non-normalized or out of bounds coordinates [1.0196325 1.0178493]\n",
      "\u001b[34m\u001b[1mtrain: \u001b[0mD:\\AI\\yolo\\dataset\\Court_keypoints_data\\train\\images\\videoplayback_5_3_frame_0248_jpg.rf.fc0e9b150f518c629daeda81a2c6cf83.jpg: ignoring corrupt image/label: negative label values [-0.12075633 -0.12381477 -0.12075633 -0.11943703 -0.12469547 -0.12206625]\n",
      "\u001b[34m\u001b[1mtrain: \u001b[0mD:\\AI\\yolo\\dataset\\Court_keypoints_data\\train\\images\\videoplayback_5_3_frame_0338_jpg.rf.86c6cc03d16507a515c1792d377b16c8.jpg: ignoring corrupt image/label: negative label values [-0.03949602 -0.0040193 ]\n",
      "\u001b[34m\u001b[1mtrain: \u001b[0mD:\\AI\\yolo\\dataset\\Court_keypoints_data\\train\\images\\videoplayback_5_3_frame_0360_jpg.rf.85ca65ecfe7fe2ddd737b2f9a07d135a.jpg: ignoring corrupt image/label: non-normalized or out of bounds coordinates [1.0079427 1.0079427 1.0079427 1.0053154 1.0079427 1.0079427]\n",
      "\u001b[34m\u001b[1mtrain: \u001b[0mD:\\AI\\yolo\\dataset\\Court_keypoints_data\\train\\images\\videoplayback_5_3_frame_0388_jpg.rf.02ae86e01af9c5889d7c4aad90e5fc63.jpg: ignoring corrupt image/label: non-normalized or out of bounds coordinates [1.0740328 1.0740328 1.0740328 1.0714054 1.0740328 1.0740328]\n",
      "\u001b[34m\u001b[1mtrain: \u001b[0mD:\\AI\\yolo\\dataset\\Court_keypoints_data\\train\\images\\videoplayback_5_3_frame_0400_jpg.rf.e6f5455bab461f5d9b488814b90422fc.jpg: ignoring corrupt image/label: non-normalized or out of bounds coordinates [1.0931573 1.0931573 1.0931573 1.0905299 1.0931573 1.0931573]\n",
      "\u001b[34m\u001b[1mtrain: \u001b[0mD:\\AI\\yolo\\dataset\\Court_keypoints_data\\train\\images\\videoplayback_5_3_frame_0420_jpg.rf.91011234ae890a5fc66936049e023dec.jpg: ignoring corrupt image/label: non-normalized or out of bounds coordinates [1.1057817 1.1057817 1.1057817 1.1031543 1.1057817 1.1057817]\n",
      "\u001b[34m\u001b[1mtrain: \u001b[0mD:\\AI\\yolo\\dataset\\Court_keypoints_data\\train\\images\\videoplayback_6_4_frame_0028_jpg.rf.f2b7aaa990b7ada08071402d89f4318a.jpg: ignoring corrupt image/label: negative label values [-0.02507281 -0.02900359 -0.02507281 -0.02375641 -0.02900359 -0.02638\n",
      " -0.01522016 -0.02153234]\n",
      "\u001b[34m\u001b[1mtrain: \u001b[0mD:\\AI\\yolo\\dataset\\Court_keypoints_data\\train\\images\\videoplayback_6_4_frame_0044_jpg.rf.70409b5028b6dc5e62c98d502d762365.jpg: ignoring corrupt image/label: negative label values [-0.10713125 -0.11106203 -0.10713125 -0.10581484 -0.11106203 -0.10843844\n",
      " -0.09727859 -0.10437969]\n",
      "\u001b[34m\u001b[1mtrain: \u001b[0mD:\\AI\\yolo\\dataset\\Court_keypoints_data\\train\\images\\videoplayback_6_4_frame_0084_jpg.rf.dce554d8c55576a9405d38a7f630d877.jpg: ignoring corrupt image/label: negative label values [-0.08740578 -0.09133656 -0.08740578 -0.08608937 -0.09133656 -0.08871297\n",
      " -0.07755312 -0.08465422]\n",
      "\u001b[34m\u001b[1mtrain: \u001b[0mD:\\AI\\yolo\\dataset\\Court_keypoints_data\\train\\images\\videoplayback_6_4_frame_0108_jpg.rf.31febc2aa23c3bec1c914f9c7968d8b9.jpg: ignoring corrupt image/label: non-normalized or out of bounds coordinates [1.0144558]\n",
      "\u001b[34m\u001b[1mtrain: \u001b[0mD:\\AI\\yolo\\dataset\\Court_keypoints_data\\train\\images\\videoplayback_6_4_frame_0124_jpg.rf.f581c66a00ee1ef0e64ea4b6717b8dff.jpg: ignoring corrupt image/label: non-normalized or out of bounds coordinates [1.1080962]\n",
      "\u001b[34m\u001b[1mtrain: \u001b[0mD:\\AI\\yolo\\dataset\\Court_keypoints_data\\train\\images\\videoplayback_6_4_frame_0136_jpg.rf.3310aade1025c4212b9910c8699c1385.jpg: ignoring corrupt image/label: non-normalized or out of bounds coordinates [1.1571019 1.1806864 1.057852 ]\n",
      "\u001b[34m\u001b[1mtrain: \u001b[0mD:\\AI\\yolo\\dataset\\Court_keypoints_data\\train\\images\\videoplayback_6_4_frame_0216_jpg.rf.0c69488073e6e36a1e1fab793d84ca45.jpg: ignoring corrupt image/label: negative label values [-0.06917968 -0.10491578]\n",
      "\u001b[34m\u001b[1mtrain: \u001b[0mD:\\AI\\yolo\\dataset\\Court_keypoints_data\\train\\images\\videoplayback_6_4_frame_0489_jpg.rf.250243fd7a8feccdef40eb5b19a00e7f.jpg: ignoring corrupt image/label: non-normalized or out of bounds coordinates [1.0418181]\n",
      "\u001b[34m\u001b[1mtrain: \u001b[0mD:\\AI\\yolo\\dataset\\Court_keypoints_data\\train\\images\\videoplayback_6_4_frame_0505_jpg.rf.f2b06a506e650aa6b718147781fa9aa8.jpg: ignoring corrupt image/label: non-normalized or out of bounds coordinates [1.0189365]\n",
      "\u001b[34m\u001b[1mtrain: \u001b[0mD:\\AI\\yolo\\dataset\\Court_keypoints_data\\train\\images\\videoplayback_6_4_frame_0569_jpg.rf.75b76a31d0d158ec3ad92e7a4a09ec1b.jpg: ignoring corrupt image/label: non-normalized or out of bounds coordinates [1.0102572]\n",
      "\u001b[34m\u001b[1mtrain: \u001b[0mD:\\AI\\yolo\\dataset\\Court_keypoints_data\\train\\images\\videoplayback_6_4_frame_0597_jpg.rf.c0e57322abc87247842c751dde483eda.jpg: ignoring corrupt image/label: non-normalized or out of bounds coordinates [1.013765]\n",
      "\u001b[34m\u001b[1mtrain: \u001b[0mD:\\AI\\yolo\\dataset\\Court_keypoints_data\\train\\images\\videoplayback_6_4_frame_0625_jpg.rf.1edae7cdcf9146f1a37ebc8139516158.jpg: ignoring corrupt image/label: negative label values [-0.05268875 -0.05661953 -0.05268875 -0.05137235 -0.05661953 -0.05399594\n",
      " -0.04283609 -0.04993719]\n",
      "\u001b[34m\u001b[1mtrain: \u001b[0mD:\\AI\\yolo\\dataset\\Court_keypoints_data\\train\\images\\videoplayback_SabenLee_frame_10587_jpg.rf.955aa43a84396f254005009a5b1d9d71.jpg: ignoring corrupt image/label: non-normalized or out of bounds coordinates [1.0005425]\n",
      "\u001b[34m\u001b[1mtrain: \u001b[0mD:\\AI\\yolo\\dataset\\Court_keypoints_data\\train\\images\\videoplayback_SabenLee_frame_10887_jpg.rf.cb5e6a591a334c49f7583c87dedbcc81.jpg: ignoring corrupt image/label: non-normalized or out of bounds coordinates [1.1091338 1.1091338 1.1091338 1.1065617 1.1091338 1.1091338]\n",
      "\u001b[34m\u001b[1mtrain: \u001b[0mD:\\AI\\yolo\\dataset\\Court_keypoints_data\\train\\images\\videoplayback_SabenLee_frame_11805_jpg.rf.3b01b6ecbb63db956f4921e3695c85ae.jpg: ignoring corrupt image/label: non-normalized or out of bounds coordinates [1.0363933 1.0363933 1.0363933 1.0338212 1.0363933 1.0363933]\n",
      "\u001b[34m\u001b[1mtrain: \u001b[0mD:\\AI\\yolo\\dataset\\Court_keypoints_data\\train\\images\\videoplayback_SabenLee_frame_12045_jpg.rf.f51269f4a2b3d4115676735e61842f25.jpg: ignoring corrupt image/label: negative label values [-0.08955943 -0.09350682 -0.08955943 -0.08823745 -0.09350682 -0.09087214]\n",
      "\u001b[34m\u001b[1mtrain: \u001b[0mD:\\AI\\yolo\\dataset\\Court_keypoints_data\\train\\images\\videoplayback_SabenLee_frame_12246_jpg.rf.9919c9c440e9b76a0343a0a4b1c4cba5.jpg: ignoring corrupt image/label: non-normalized or out of bounds coordinates [1.0611912 1.0611912 1.0611912 1.0586191 1.0611912 1.0611912]\n",
      "\u001b[34m\u001b[1mtrain: \u001b[0mD:\\AI\\yolo\\dataset\\Court_keypoints_data\\train\\images\\videoplayback_SabenLee_frame_1242_jpg.rf.0906456246d745e91c43c5757a6d3914.jpg: ignoring corrupt image/label: negative label values [-0.00122687 -0.0050176  -0.00122687 -0.0050176  -0.00248745]\n",
      "\u001b[34m\u001b[1mtrain: \u001b[0mD:\\AI\\yolo\\dataset\\Court_keypoints_data\\train\\images\\videoplayback_SabenLee_frame_12465_jpg.rf.9f98f4fdc03b179912f93eaa1fece63b.jpg: ignoring corrupt image/label: non-normalized or out of bounds coordinates [1.0394725 1.0428953]\n",
      "\u001b[34m\u001b[1mtrain: \u001b[0mD:\\AI\\yolo\\dataset\\Court_keypoints_data\\train\\images\\videoplayback_SabenLee_frame_14151_jpg.rf.95a95607299dba45086d5ab3042cfb6a.jpg: ignoring corrupt image/label: non-normalized or out of bounds coordinates [1.0925788 1.0790802]\n",
      "\u001b[34m\u001b[1mtrain: \u001b[0mD:\\AI\\yolo\\dataset\\Court_keypoints_data\\train\\images\\videoplayback_SabenLee_frame_14391_jpg.rf.f76628faf83f4cd0a579c3d90c27bc16.jpg: ignoring corrupt image/label: negative label values [-0.02673807 -0.03068547 -0.02673807 -0.02541609 -0.03068547 -0.02805078]\n",
      "\u001b[34m\u001b[1mtrain: \u001b[0mD:\\AI\\yolo\\dataset\\Court_keypoints_data\\train\\images\\videoplayback_SabenLee_frame_14631_jpg.rf.2b426954f585af8026d776c6e594f7a1.jpg: ignoring corrupt image/label: negative label values [-0.05318927 -0.05713667 -0.05318927 -0.05186729 -0.05713667 -0.05450198]\n",
      "\u001b[34m\u001b[1mtrain: \u001b[0mD:\\AI\\yolo\\dataset\\Court_keypoints_data\\train\\images\\videoplayback_SabenLee_frame_15090_jpg.rf.06626bb1b0c4c09e0198d6bc4074fefd.jpg: ignoring corrupt image/label: non-normalized or out of bounds coordinates [1.0269934]\n",
      "\u001b[34m\u001b[1mtrain: \u001b[0mD:\\AI\\yolo\\dataset\\Court_keypoints_data\\train\\images\\videoplayback_SabenLee_frame_15330_jpg.rf.a983fe49dedc017ae7ded3ce0bb578c5.jpg: ignoring corrupt image/label: non-normalized or out of bounds coordinates [1.0421565 1.0286579]\n",
      "\u001b[34m\u001b[1mtrain: \u001b[0mD:\\AI\\yolo\\dataset\\Court_keypoints_data\\train\\images\\videoplayback_SabenLee_frame_15657_jpg.rf.0f3473f934a3c1a3e34f05668b042cfa.jpg: ignoring corrupt image/label: negative label values [-0.04657662 -0.05052401 -0.04657662 -0.04525464 -0.05052401 -0.04788932]\n",
      "\u001b[34m\u001b[1mtrain: \u001b[0mD:\\AI\\yolo\\dataset\\Court_keypoints_data\\train\\images\\videoplayback_SabenLee_frame_15897_jpg.rf.2aeeaaa18ad00208ed80c2b3e089fe47.jpg: ignoring corrupt image/label: non-normalized or out of bounds coordinates [1.0179245]\n",
      "\u001b[34m\u001b[1mtrain: \u001b[0mD:\\AI\\yolo\\dataset\\Court_keypoints_data\\train\\images\\videoplayback_SabenLee_frame_16557_jpg.rf.eae2e0632df17ec63c1cabe06ca1db81.jpg: ignoring corrupt image/label: non-normalized or out of bounds coordinates [1.0066128]\n",
      "\u001b[34m\u001b[1mtrain: \u001b[0mD:\\AI\\yolo\\dataset\\Court_keypoints_data\\train\\images\\videoplayback_SabenLee_frame_17046_jpg.rf.74ebaef1f3fbabfe5ed4c768642e4c27.jpg: ignoring corrupt image/label: non-normalized or out of bounds coordinates [1.0570351 1.0435365]\n",
      "\u001b[34m\u001b[1mtrain: \u001b[0mD:\\AI\\yolo\\dataset\\Court_keypoints_data\\train\\images\\videoplayback_SabenLee_frame_17286_jpg.rf.3196c017e4889a9b211d293a0fa4dbbe.jpg: ignoring corrupt image/label: non-normalized or out of bounds coordinates [1.0759822 1.0288407]\n",
      "\u001b[34m\u001b[1mtrain: \u001b[0mD:\\AI\\yolo\\dataset\\Court_keypoints_data\\train\\images\\videoplayback_SabenLee_frame_17511_jpg.rf.7fedd7faa0d2643f31e6fc1c0b7a141a.jpg: ignoring corrupt image/label: non-normalized or out of bounds coordinates [1.149614  1.1361153]\n",
      "\u001b[34m\u001b[1mtrain: \u001b[0mD:\\AI\\yolo\\dataset\\Court_keypoints_data\\train\\images\\videoplayback_SabenLee_frame_17751_jpg.rf.383d6fe53e42cc157997fac2a5a00fda.jpg: ignoring corrupt image/label: non-normalized or out of bounds coordinates [1.0064641]\n",
      "\u001b[34m\u001b[1mtrain: \u001b[0mD:\\AI\\yolo\\dataset\\Court_keypoints_data\\train\\images\\videoplayback_SabenLee_frame_17871_jpg.rf.b3f28ed2b835dab076af9340aac912a4.jpg: ignoring corrupt image/label: non-normalized or out of bounds coordinates [1.0107458]\n",
      "\u001b[34m\u001b[1mtrain: \u001b[0mD:\\AI\\yolo\\dataset\\Court_keypoints_data\\train\\images\\videoplayback_SabenLee_frame_3300_jpg.rf.55853a548b8e5ef7665af33e3b09a9f2.jpg: ignoring corrupt image/label: negative label values [-0.01697479]\n",
      "\u001b[34m\u001b[1mtrain: \u001b[0mD:\\AI\\yolo\\dataset\\Court_keypoints_data\\train\\images\\videoplayback_SabenLee_frame_4119_jpg.rf.7bce8987b0757a863e4830342e3afaa1.jpg: ignoring corrupt image/label: negative label values [-0.0818538  -0.12076443]\n",
      "\u001b[34m\u001b[1mtrain: \u001b[0mD:\\AI\\yolo\\dataset\\Court_keypoints_data\\train\\images\\videoplayback_SabenLee_frame_5415_jpg.rf.e93944befee57e7561a0b42cab46ce6a.jpg: ignoring corrupt image/label: negative label values [-0.02895167 -0.06786229]\n",
      "\u001b[34m\u001b[1mtrain: \u001b[0mD:\\AI\\yolo\\dataset\\Court_keypoints_data\\train\\images\\videoplayback_SabenLee_frame_5895_jpg.rf.174f1dc0ede2c2f53012cfbbfe56449b.jpg: ignoring corrupt image/label: non-normalized or out of bounds coordinates [1.0750134 1.0750134 1.0750134 1.0724667 1.0750134 1.0750134]\n",
      "\u001b[34m\u001b[1mtrain: \u001b[0mD:\\AI\\yolo\\dataset\\Court_keypoints_data\\train\\images\\videoplayback_SabenLee_frame_6807_jpg.rf.685f7106ad0d04aaceb4317b405ce0bb.jpg: ignoring corrupt image/label: non-normalized or out of bounds coordinates [1.0424085 1.0499187 1.0424085 1.0424085 1.0398619 1.0424085 1.0424085]\n",
      "\u001b[34m\u001b[1mtrain: \u001b[0mD:\\AI\\yolo\\dataset\\Court_keypoints_data\\train\\images\\videoplayback_SabenLee_frame_7386_jpg.rf.190a9911b4f53ab995c7c52e4a110c37.jpg: ignoring corrupt image/label: negative label values [-0.00120885 -0.04011948]\n",
      "\u001b[34m\u001b[1mtrain: \u001b[0mD:\\AI\\yolo\\dataset\\Court_keypoints_data\\train\\images\\videoplayback_SabenLee_frame_8676_jpg.rf.293716e88b51837e00f8eb7b7aafea2e.jpg: ignoring corrupt image/label: negative label values [-0.03194859]\n",
      "\u001b[34m\u001b[1mtrain: \u001b[0mD:\\AI\\yolo\\dataset\\Court_keypoints_data\\train\\images\\videoplayback_SabenLee_frame_8895_jpg.rf.2096b069fefe4b8bf5ea511512c174d1.jpg: ignoring corrupt image/label: non-normalized or out of bounds coordinates [1.0091156 1.0091156 1.0091156 1.0065435 1.0091156 1.0091156]\n",
      "\u001b[34m\u001b[1mtrain: \u001b[0mD:\\AI\\yolo\\dataset\\Court_keypoints_data\\train\\images\\videoplayback_SabenLee_frame_9015_jpg.rf.23a39fd6fa3bd856a3bc96aa08b81702.jpg: ignoring corrupt image/label: negative label values [-0.01646193]\n",
      "\u001b[34m\u001b[1mtrain: \u001b[0mD:\\AI\\yolo\\dataset\\Court_keypoints_data\\train\\images\\videoplayback_SabenLee_frame_9480_jpg.rf.3d4de039efaea32f84b01fca0987a9b8.jpg: ignoring corrupt image/label: negative label values [-0.01681906 -0.02076641 -0.01681906 -0.01549703 -0.02076641 -0.01813177]\n",
      "\u001b[34m\u001b[1mtrain: \u001b[0mD:\\AI\\yolo\\dataset\\Court_keypoints_data\\train\\images\\videoplayback_SabenLee_frame_9720_jpg.rf.916ede455bfda8ff492230ea7fc5689e.jpg: ignoring corrupt image/label: non-normalized or out of bounds coordinates [1.0159607 1.0089494 1.0193835 1.0089494 1.0089494 1.0063773 1.0089494\n",
      " 1.0089494]\n",
      "\u001b[34m\u001b[1mtrain: \u001b[0mD:\\AI\\yolo\\dataset\\Court_keypoints_data\\train\\images\\videoplayback_SabenLee_frame_9957_jpg.rf.9ff61217b5603a9f8932f16077a5adac.jpg: ignoring corrupt image/label: negative label values [-0.02177864 -0.02572604 -0.02177864 -0.02045667 -0.02572604 -0.02309135]\n"
     ]
    },
    {
     "name": "stderr",
     "output_type": "stream",
     "text": [
      "\n"
     ]
    },
    {
     "name": "stdout",
     "output_type": "stream",
     "text": [
      "\u001b[34m\u001b[1mval: \u001b[0mFast image access  (ping: 0.10.0 ms, read: 375.077.2 MB/s, size: 325.8 KB)\n"
     ]
    },
    {
     "name": "stderr",
     "output_type": "stream",
     "text": [
      "\u001b[34m\u001b[1mval: \u001b[0mScanning D:\\AI\\yolo\\dataset\\Court_keypoints_data\\valid\\labels.cache... 222 images, 0 backgrounds, 56 corrupt: 100%|██████████| 222/222 [00:00<?, ?it/s]"
     ]
    },
    {
     "name": "stdout",
     "output_type": "stream",
     "text": [
      "\u001b[34m\u001b[1mval: \u001b[0mD:\\AI\\yolo\\dataset\\Court_keypoints_data\\valid\\images\\basketball_10_frame_0041_jpg.rf.6e5103ecebf6771e3af4349743e36a74.jpg: ignoring corrupt image/label: non-normalized or out of bounds coordinates [1.2705866 1.2705866 1.21875   1.0878472 1.0052084]\n",
      "\u001b[34m\u001b[1mval: \u001b[0mD:\\AI\\yolo\\dataset\\Court_keypoints_data\\valid\\images\\basketball_10_frame_0049_jpg.rf.64d847c281df967736c0256572a3e74f.jpg: ignoring corrupt image/label: non-normalized or out of bounds coordinates [1.215031  1.215031  1.1631944 1.0322917]\n",
      "\u001b[34m\u001b[1mval: \u001b[0mD:\\AI\\yolo\\dataset\\Court_keypoints_data\\valid\\images\\basketball_11_frame_0128_jpg.rf.41e9e3d4a029e68c1af20e2c02d955cf.jpg: ignoring corrupt image/label: non-normalized or out of bounds coordinates [1.0058297 1.0058297]\n",
      "\u001b[34m\u001b[1mval: \u001b[0mD:\\AI\\yolo\\dataset\\Court_keypoints_data\\valid\\images\\basketball_12_frame_0115_jpg.rf.f43b30880ad773946fcb1899b0d99c02.jpg: ignoring corrupt image/label: negative label values [-0.02330292 -0.12502678 -0.13826807 -0.13563588]\n",
      "\u001b[34m\u001b[1mval: \u001b[0mD:\\AI\\yolo\\dataset\\Court_keypoints_data\\valid\\images\\basketball_12_frame_0123_jpg.rf.326ef120701533d7a3a533f382228149.jpg: ignoring corrupt image/label: negative label values [-0.07988787 -0.09312917 -0.09049698]\n",
      "\u001b[34m\u001b[1mval: \u001b[0mD:\\AI\\yolo\\dataset\\Court_keypoints_data\\valid\\images\\basketball_2_11_27_png.rf.0d03385e946b56bbfa88866b500be9e4.jpg: ignoring corrupt image/label: negative label values [-0.04063797 -0.03800336]\n",
      "\u001b[34m\u001b[1mval: \u001b[0mD:\\AI\\yolo\\dataset\\Court_keypoints_data\\valid\\images\\basketball_2_13_6_png.rf.db955cd4ef01528b40c6a5ad37adfc3f.jpg: ignoring corrupt image/label: negative label values [-0.0262525  -0.03151273 -0.02888266]\n",
      "\u001b[34m\u001b[1mval: \u001b[0mD:\\AI\\yolo\\dataset\\Court_keypoints_data\\valid\\images\\basketball_2_14_13_png.rf.a906e9b9b33f5ade3236055060d86546.jpg: ignoring corrupt image/label: non-normalized or out of bounds coordinates [1.0198116 1.0198116 1.0198116 1.017177  1.0198116 1.0198116]\n",
      "\u001b[34m\u001b[1mval: \u001b[0mD:\\AI\\yolo\\dataset\\Court_keypoints_data\\valid\\images\\basketball_2_14_22_png.rf.2c2e1922595a9692f3a07a6fa22fa70d.jpg: ignoring corrupt image/label: non-normalized or out of bounds coordinates [1.0198116 1.0198116 1.0198116 1.017177  1.0198116 1.0198116]\n",
      "\u001b[34m\u001b[1mval: \u001b[0mD:\\AI\\yolo\\dataset\\Court_keypoints_data\\valid\\images\\basketball_2_14_23_png.rf.d8e7c86dc7aa03c089b38c4633e39467.jpg: ignoring corrupt image/label: non-normalized or out of bounds coordinates [1.0198116 1.0198116 1.0198116 1.017177  1.0198116 1.0198116]\n",
      "\u001b[34m\u001b[1mval: \u001b[0mD:\\AI\\yolo\\dataset\\Court_keypoints_data\\valid\\images\\basketball_2_14_25_png.rf.846885326756742ef6621d37ae4c44d8.jpg: ignoring corrupt image/label: non-normalized or out of bounds coordinates [1.0198116 1.0198116 1.0198116 1.017177  1.0198116 1.0198116]\n",
      "\u001b[34m\u001b[1mval: \u001b[0mD:\\AI\\yolo\\dataset\\Court_keypoints_data\\valid\\images\\basketball_2_1_10_png.rf.a60fd81618932c5c8d31bedcc9b6d15a.jpg: ignoring corrupt image/label: negative label values [-0.04016617 -0.18242078 -0.19150445]\n",
      "\u001b[34m\u001b[1mval: \u001b[0mD:\\AI\\yolo\\dataset\\Court_keypoints_data\\valid\\images\\basketball_2_1_17_png.rf.19600098a016113382c89fafc84d3d60.jpg: ignoring corrupt image/label: negative label values [-0.07178945 -0.0757368  -0.07178945 -0.0704675  -0.0757368  -0.07240062]\n",
      "\u001b[34m\u001b[1mval: \u001b[0mD:\\AI\\yolo\\dataset\\Court_keypoints_data\\valid\\images\\basketball_2_1_24_png.rf.9928ab3abc9c42cd0ab9ede03764ca54.jpg: ignoring corrupt image/label: negative label values [-0.00396461 -0.00790656 -0.00396461 -0.00264437 -0.00831125 -0.00831125]\n",
      "\u001b[34m\u001b[1mval: \u001b[0mD:\\AI\\yolo\\dataset\\Court_keypoints_data\\valid\\images\\basketball_2_1_30_png.rf.c017b5fd46b4623984a015e1cc12fa5a.jpg: ignoring corrupt image/label: non-normalized or out of bounds coordinates [1.0053488]\n",
      "\u001b[34m\u001b[1mval: \u001b[0mD:\\AI\\yolo\\dataset\\Court_keypoints_data\\valid\\images\\basketball_2_1_7_png.rf.2034849e66cdc940963759075a717397.jpg: ignoring corrupt image/label: negative label values [-0.05812398 -0.04627484]\n",
      "\u001b[34m\u001b[1mval: \u001b[0mD:\\AI\\yolo\\dataset\\Court_keypoints_data\\valid\\images\\basketball_2_2_11_png.rf.377b67b0fd3607c96293a7e37f279d0c.jpg: ignoring corrupt image/label: negative label values [-0.01871133 -0.02172422 -0.01871133 -0.01738938 -0.02265867 -0.02002406]\n",
      "\u001b[34m\u001b[1mval: \u001b[0mD:\\AI\\yolo\\dataset\\Court_keypoints_data\\valid\\images\\basketball_2_2_17_png.rf.620e64d4ec355b06be0d80276e2984ea.jpg: ignoring corrupt image/label: negative label values [-0.22170688 -0.22471976 -0.22170688 -0.22038493 -0.22565421 -0.22301961]\n",
      "\u001b[34m\u001b[1mval: \u001b[0mD:\\AI\\yolo\\dataset\\Court_keypoints_data\\valid\\images\\basketball_2_2_7_png.rf.9a06716df5ac489332a9df9e9bb46579.jpg: ignoring corrupt image/label: non-normalized or out of bounds coordinates [1.1712084 1.1712084 1.1679335]\n",
      "\u001b[34m\u001b[1mval: \u001b[0mD:\\AI\\yolo\\dataset\\Court_keypoints_data\\valid\\images\\basketball_2_3_11_png.rf.a9028785eba5da97ee0eabd13f6f0a34.jpg: ignoring corrupt image/label: negative label values [-0.00997055]\n",
      "\u001b[34m\u001b[1mval: \u001b[0mD:\\AI\\yolo\\dataset\\Court_keypoints_data\\valid\\images\\basketball_2_4_16_png.rf.32f7965fbb7a41387c7840c08803dc62.jpg: ignoring corrupt image/label: non-normalized or out of bounds coordinates [1.2761828 1.2761828 1.2761828 1.2735518 1.2761828 1.2768208 1.2089635\n",
      " 1.2981248]\n",
      "\u001b[34m\u001b[1mval: \u001b[0mD:\\AI\\yolo\\dataset\\Court_keypoints_data\\valid\\images\\basketball_2_4_25_png.rf.8207f835a7915053f3d86bee31eb4553.jpg: ignoring corrupt image/label: non-normalized or out of bounds coordinates [1.0276932 1.0256406 1.1403171 1.2468374 1.0277919 1.2485496 1.2485496\n",
      " 1.2459166 1.2485496 1.2485496]\n",
      "\u001b[34m\u001b[1mval: \u001b[0mD:\\AI\\yolo\\dataset\\Court_keypoints_data\\valid\\images\\basketball_2_5_13_png.rf.eb884a6490cc8c3d0e867286ffcadcc6.jpg: ignoring corrupt image/label: non-normalized or out of bounds coordinates [1.0266513 1.0796307 1.0414333]\n",
      "\u001b[34m\u001b[1mval: \u001b[0mD:\\AI\\yolo\\dataset\\Court_keypoints_data\\valid\\images\\basketball_2_5_14_png.rf.2d68b42ddf36b58e53a8cbd50222fc52.jpg: ignoring corrupt image/label: non-normalized or out of bounds coordinates [1.0406781 1.0488582 1.0106609]\n",
      "\u001b[34m\u001b[1mval: \u001b[0mD:\\AI\\yolo\\dataset\\Court_keypoints_data\\valid\\images\\basketball_2_5_15_png.rf.12ca6abebc99884f070575957a9048cc.jpg: ignoring corrupt image/label: non-normalized or out of bounds coordinates [1.0476917 1.0172967]\n",
      "\u001b[34m\u001b[1mval: \u001b[0mD:\\AI\\yolo\\dataset\\Court_keypoints_data\\valid\\images\\basketball_2_7_14_png.rf.50812cd94ee0c1fa15354adcb1aa8ee2.jpg: ignoring corrupt image/label: non-normalized or out of bounds coordinates [1.016606  1.016606  1.016606  1.0139768 1.016606  1.016606 ]\n",
      "\u001b[34m\u001b[1mval: \u001b[0mD:\\AI\\yolo\\dataset\\Court_keypoints_data\\valid\\images\\basketball_2_7_23_png.rf.cc5c15f77fb88d9a40eba93981473ff8.jpg: ignoring corrupt image/label: non-normalized or out of bounds coordinates [1.0006757 1.0919664 1.0896841 1.1044775 1.0942488 1.1044775 1.1044775\n",
      " 1.1018482 1.1044775 1.1044775]\n",
      "\u001b[34m\u001b[1mval: \u001b[0mD:\\AI\\yolo\\dataset\\Court_keypoints_data\\valid\\images\\basketball_2_7_27_png.rf.004404efe401f7f3dbff19d8e62fb3bc.jpg: ignoring corrupt image/label: non-normalized or out of bounds coordinates [1.0877583 1.0854762 1.1594185 1.0900407 1.1594185 1.1594185 1.1567892\n",
      " 1.1594185 1.1594185]\n",
      "\u001b[34m\u001b[1mval: \u001b[0mD:\\AI\\yolo\\dataset\\Court_keypoints_data\\valid\\images\\basketball_2_7_2_png.rf.153c5cd81e469e3d3d9273dff23f9349.jpg: ignoring corrupt image/label: negative label values [-0.12934093 -0.13811187 -0.13548265]\n",
      "\u001b[34m\u001b[1mval: \u001b[0mD:\\AI\\yolo\\dataset\\Court_keypoints_data\\valid\\images\\basketball_2_9_20_png.rf.09cb474844833f005d36fe3c7bf7afb8.jpg: ignoring corrupt image/label: non-normalized or out of bounds coordinates [1.023417  1.023417  1.023417  1.0208074 1.023417  1.023417 ]\n",
      "\u001b[34m\u001b[1mval: \u001b[0mD:\\AI\\yolo\\dataset\\Court_keypoints_data\\valid\\images\\basketball_2_9_26_png.rf.23cf3206e194a0bf73de8971e5b66cdd.jpg: ignoring corrupt image/label: non-normalized or out of bounds coordinates [1.023417  1.023417  1.023417  1.0208074 1.023417  1.023417 ]\n",
      "\u001b[34m\u001b[1mval: \u001b[0mD:\\AI\\yolo\\dataset\\Court_keypoints_data\\valid\\images\\basketball_3_3_19_png.rf.55ad0fa8f550a2d92cc7314fbae99a71.jpg: ignoring corrupt image/label: negative label values [-0.00207641]\n",
      "\u001b[34m\u001b[1mval: \u001b[0mD:\\AI\\yolo\\dataset\\Court_keypoints_data\\valid\\images\\basketball_3_3_20_png.rf.00c977375269a032514a3ba044aed807.jpg: ignoring corrupt image/label: negative label values [-0.00207641]\n",
      "\u001b[34m\u001b[1mval: \u001b[0mD:\\AI\\yolo\\dataset\\Court_keypoints_data\\valid\\images\\basketball_3_frame_0099_jpg.rf.4c7199c9ad390d657faf711cfd26f634.jpg: ignoring corrupt image/label: non-normalized or out of bounds coordinates [1.0112847]\n",
      "\u001b[34m\u001b[1mval: \u001b[0mD:\\AI\\yolo\\dataset\\Court_keypoints_data\\valid\\images\\basketball_4_frame_0000_jpg.rf.dceca16f1edd663a361fa171b0754674.jpg: ignoring corrupt image/label: non-normalized or out of bounds coordinates [1.0694444 1.0182291]\n",
      "\u001b[34m\u001b[1mval: \u001b[0mD:\\AI\\yolo\\dataset\\Court_keypoints_data\\valid\\images\\basketball_4_frame_0008_jpg.rf.ad3625c2d6252f326fb2ac2a9179ebd2.jpg: ignoring corrupt image/label: non-normalized or out of bounds coordinates [1.0520834 1.0008681]\n",
      "\u001b[34m\u001b[1mval: \u001b[0mD:\\AI\\yolo\\dataset\\Court_keypoints_data\\valid\\images\\basketball_5_frame_0022_jpg.rf.de5583214859869e004476f978e87e6b.jpg: ignoring corrupt image/label: non-normalized or out of bounds coordinates [1.2445449 1.2445449 1.2682291 1.1328125 1.0729166 1.0529513]\n",
      "\u001b[34m\u001b[1mval: \u001b[0mD:\\AI\\yolo\\dataset\\Court_keypoints_data\\valid\\images\\basketball_6_frame_0043_jpg.rf.0577c0dd8620e519f0a8ce9e4d429b5c.jpg: ignoring corrupt image/label: non-normalized or out of bounds coordinates [1.2228435 1.2228435 1.1675347 1.0347222]\n",
      "\u001b[34m\u001b[1mval: \u001b[0mD:\\AI\\yolo\\dataset\\Court_keypoints_data\\valid\\images\\basketball_8_frame_0120_jpg.rf.36992e80164cc712f9e001279255cb8c.jpg: ignoring corrupt image/label: non-normalized or out of bounds coordinates [1.0544409 1.0544409 1.0544409 1.0518062 1.0544409 1.0544409]\n",
      "\u001b[34m\u001b[1mval: \u001b[0mD:\\AI\\yolo\\dataset\\Court_keypoints_data\\valid\\images\\basketball_8_frame_0140_jpg.rf.ae649436f51ca019b92727e4d1dc8259.jpg: ignoring corrupt image/label: non-normalized or out of bounds coordinates [1.054441  1.054441  1.054441  1.0518062 1.054441  1.054441 ]\n",
      "\u001b[34m\u001b[1mval: \u001b[0mD:\\AI\\yolo\\dataset\\Court_keypoints_data\\valid\\images\\basketball_9_frame_0008_jpg.rf.475949e6360b5f5c65a893d7827fdf09.jpg: ignoring corrupt image/label: non-normalized or out of bounds coordinates [1.0163081 1.0163081 1.0163081 1.0136802 1.0163081 1.0163081]\n",
      "\u001b[34m\u001b[1mval: \u001b[0mD:\\AI\\yolo\\dataset\\Court_keypoints_data\\valid\\images\\basketball_9_frame_0012_jpg.rf.49bbc427d33427bacea4b4515294c260.jpg: ignoring corrupt image/label: non-normalized or out of bounds coordinates [1.0414816 1.0414816 1.0414816 1.0388538 1.0414816 1.0414816]\n",
      "\u001b[34m\u001b[1mval: \u001b[0mD:\\AI\\yolo\\dataset\\Court_keypoints_data\\valid\\images\\faasdasd2_275_jpg.rf.2d0ece1037c1f0213592f781e2f9075c.jpg: ignoring corrupt image/label: negative label values [-0.01282719 -0.02902969]\n",
      "\u001b[34m\u001b[1mval: \u001b[0mD:\\AI\\yolo\\dataset\\Court_keypoints_data\\valid\\images\\videoplayback_4_2_frame_0620_jpg.rf.26150adfd02576fb98d0418bd2a02e6e.jpg: ignoring corrupt image/label: non-normalized or out of bounds coordinates [1.118391  1.118391  1.0645539]\n",
      "\u001b[34m\u001b[1mval: \u001b[0mD:\\AI\\yolo\\dataset\\Court_keypoints_data\\valid\\images\\videoplayback_4_2_frame_0796_jpg.rf.7cbf75557a323fb33def500c17288269.jpg: ignoring corrupt image/label: negative label values [-0.03718703 -0.04085203 -0.03718703 -0.03595969 -0.04085203 -0.03840586]\n",
      "\u001b[34m\u001b[1mval: \u001b[0mD:\\AI\\yolo\\dataset\\Court_keypoints_data\\valid\\images\\videoplayback_5_1_frame_0096_jpg.rf.9fcf80a879aa8570a0e5198ce3a175ec.jpg: ignoring corrupt image/label: negative label values [-0.00362664]\n",
      "\u001b[34m\u001b[1mval: \u001b[0mD:\\AI\\yolo\\dataset\\Court_keypoints_data\\valid\\images\\videoplayback_5_2_frame_0000_jpg.rf.334ee74d1c2bacb6035fc4e3b23cffc4.jpg: ignoring corrupt image/label: non-normalized or out of bounds coordinates [1.0572517]\n",
      "\u001b[34m\u001b[1mval: \u001b[0mD:\\AI\\yolo\\dataset\\Court_keypoints_data\\valid\\images\\videoplayback_5_3_frame_0048_jpg.rf.b099cf390c1a570efc0f9e6541dbe1da.jpg: ignoring corrupt image/label: negative label values [-0.11444414 -0.11750258 -0.11444414 -0.11312485 -0.11838328 -0.11575406]\n",
      "\u001b[34m\u001b[1mval: \u001b[0mD:\\AI\\yolo\\dataset\\Court_keypoints_data\\valid\\images\\videoplayback_5_3_frame_0128_jpg.rf.b5bc991ce033bec5bedeeaaec242692e.jpg: ignoring corrupt image/label: negative label values [-0.07528367 -0.07834211 -0.07528367 -0.07396437 -0.07922281 -0.07659359]\n",
      "\u001b[34m\u001b[1mval: \u001b[0mD:\\AI\\yolo\\dataset\\Court_keypoints_data\\valid\\images\\videoplayback_5_3_frame_0438_jpg.rf.1d67e5fac60c697ba56345bee0711b40.jpg: ignoring corrupt image/label: non-normalized or out of bounds coordinates [1.0986804 1.0986804 1.0986804 1.096053  1.0986804 1.0986804]\n",
      "\u001b[34m\u001b[1mval: \u001b[0mD:\\AI\\yolo\\dataset\\Court_keypoints_data\\valid\\images\\videoplayback_6_4_frame_0068_jpg.rf.9821aa780f9be6a1d61473f5b702d28a.jpg: ignoring corrupt image/label: negative label values [-0.13632531 -0.14025609 -0.13632531 -0.1350089  -0.14025609 -0.1376325\n",
      " -0.12647265 -0.13357376]\n",
      "\u001b[34m\u001b[1mval: \u001b[0mD:\\AI\\yolo\\dataset\\Court_keypoints_data\\valid\\images\\videoplayback_6_4_frame_0449_jpg.rf.f210c0cbfd87999f1fbb740905e06b49.jpg: ignoring corrupt image/label: non-normalized or out of bounds coordinates [1.197256  1.0744215]\n",
      "\u001b[34m\u001b[1mval: \u001b[0mD:\\AI\\yolo\\dataset\\Court_keypoints_data\\valid\\images\\videoplayback_SabenLee_frame_11346_jpg.rf.db7ccff28cbf49c4489b661cf6913b98.jpg: ignoring corrupt image/label: negative label values [-0.03216719]\n",
      "\u001b[34m\u001b[1mval: \u001b[0mD:\\AI\\yolo\\dataset\\Court_keypoints_data\\valid\\images\\videoplayback_SabenLee_frame_12705_jpg.rf.aa0b00c2714aa266c75326c6bd33ff7e.jpg: ignoring corrupt image/label: negative label values [-0.00111359 -0.00506099 -0.00111359 -0.00506099 -0.0024263 ]\n",
      "\u001b[34m\u001b[1mval: \u001b[0mD:\\AI\\yolo\\dataset\\Court_keypoints_data\\valid\\images\\videoplayback_SabenLee_frame_13851_jpg.rf.fd09a99071179fa31e95adcdc01f9cdc.jpg: ignoring corrupt image/label: non-normalized or out of bounds coordinates [1.012399]\n",
      "\u001b[34m\u001b[1mval: \u001b[0mD:\\AI\\yolo\\dataset\\Court_keypoints_data\\valid\\images\\videoplayback_SabenLee_frame_1980_jpg.rf.1cbde0b4220d40d2f7eccb95948b2aab.jpg: ignoring corrupt image/label: non-normalized or out of bounds coordinates [1.0219948]\n"
     ]
    },
    {
     "name": "stderr",
     "output_type": "stream",
     "text": [
      "\n"
     ]
    },
    {
     "name": "stdout",
     "output_type": "stream",
     "text": [
      "Plotting labels to ..\\..\\runs\\detect\\court_det2\\train3\\labels.jpg... \n",
      "\u001b[34m\u001b[1moptimizer:\u001b[0m 'optimizer=auto' found, ignoring 'lr0=0.01' and 'momentum=0.937' and determining best 'optimizer', 'lr0' and 'momentum' automatically... \n",
      "\u001b[34m\u001b[1moptimizer:\u001b[0m AdamW(lr=0.002, momentum=0.9) with parameter groups 103 weight(decay=0.0), 113 weight(decay=0.0005), 112 bias(decay=0.0)\n",
      "Resuming training ..\\..\\runs\\detect\\court_det2\\train3\\weights\\last.pt from epoch 188 to 500 total epochs\n",
      "Image sizes 640 train, 640 val\n",
      "Using 8 dataloader workers\n",
      "Logging results to \u001b[1m..\\..\\runs\\detect\\court_det2\\train3\u001b[0m\n",
      "Starting training for 500 epochs...\n",
      "\n",
      "      Epoch    GPU_mem   box_loss  pose_loss  kobj_loss   cls_loss   dfl_loss  Instances       Size\n"
     ]
    },
    {
     "name": "stderr",
     "output_type": "stream",
     "text": [
      "    188/500      6.81G      0.648      3.602     0.5091      1.247      1.174          9        640: 100%|██████████| 111/111 [00:58<00:00,  1.89it/s]\n",
      "                 Class     Images  Instances      Box(P          R      mAP50  mAP50-95)     Pose(P          R      mAP50  mAP50-95): 100%|██████████| 11/11 [00:03<00:00,  3.55it/s]"
     ]
    },
    {
     "name": "stdout",
     "output_type": "stream",
     "text": [
      "                   all        166        166      0.923      0.729      0.844      0.644      0.431      0.434      0.284     0.0921\n"
     ]
    },
    {
     "name": "stderr",
     "output_type": "stream",
     "text": [
      "\n"
     ]
    },
    {
     "name": "stdout",
     "output_type": "stream",
     "text": [
      "\n",
      "      Epoch    GPU_mem   box_loss  pose_loss  kobj_loss   cls_loss   dfl_loss  Instances       Size\n"
     ]
    },
    {
     "name": "stderr",
     "output_type": "stream",
     "text": [
      "    189/500      7.24G     0.4509      2.141     0.3763      0.401      1.004          9        640: 100%|██████████| 111/111 [00:58<00:00,  1.90it/s]\n",
      "                 Class     Images  Instances      Box(P          R      mAP50  mAP50-95)     Pose(P          R      mAP50  mAP50-95): 100%|██████████| 11/11 [00:02<00:00,  3.69it/s]"
     ]
    },
    {
     "name": "stdout",
     "output_type": "stream",
     "text": [
      "                   all        166        166      0.999          1      0.995      0.925      0.956      0.958      0.956      0.769\n"
     ]
    },
    {
     "name": "stderr",
     "output_type": "stream",
     "text": [
      "\n"
     ]
    },
    {
     "name": "stdout",
     "output_type": "stream",
     "text": [
      "\n",
      "      Epoch    GPU_mem   box_loss  pose_loss  kobj_loss   cls_loss   dfl_loss  Instances       Size\n"
     ]
    },
    {
     "name": "stderr",
     "output_type": "stream",
     "text": [
      "    190/500      7.25G      0.365      1.328     0.3699     0.3157     0.9587          8        640: 100%|██████████| 111/111 [00:58<00:00,  1.90it/s]\n",
      "                 Class     Images  Instances      Box(P          R      mAP50  mAP50-95)     Pose(P          R      mAP50  mAP50-95): 100%|██████████| 11/11 [00:02<00:00,  3.70it/s]"
     ]
    },
    {
     "name": "stdout",
     "output_type": "stream",
     "text": [
      "                   all        166        166      0.998          1      0.995      0.923       0.98      0.982      0.986      0.867\n"
     ]
    },
    {
     "name": "stderr",
     "output_type": "stream",
     "text": [
      "\n"
     ]
    },
    {
     "name": "stdout",
     "output_type": "stream",
     "text": [
      "\n",
      "      Epoch    GPU_mem   box_loss  pose_loss  kobj_loss   cls_loss   dfl_loss  Instances       Size\n"
     ]
    },
    {
     "name": "stderr",
     "output_type": "stream",
     "text": [
      "    191/500      7.28G     0.3585      1.226     0.3642     0.3026     0.9545         16        640: 100%|██████████| 111/111 [00:58<00:00,  1.90it/s]\n",
      "                 Class     Images  Instances      Box(P          R      mAP50  mAP50-95)     Pose(P          R      mAP50  mAP50-95): 100%|██████████| 11/11 [00:02<00:00,  3.72it/s]"
     ]
    },
    {
     "name": "stdout",
     "output_type": "stream",
     "text": [
      "                   all        166        166          1          1      0.995      0.937      0.969       0.97      0.974      0.884\n"
     ]
    },
    {
     "name": "stderr",
     "output_type": "stream",
     "text": [
      "\n"
     ]
    },
    {
     "name": "stdout",
     "output_type": "stream",
     "text": [
      "\n",
      "      Epoch    GPU_mem   box_loss  pose_loss  kobj_loss   cls_loss   dfl_loss  Instances       Size\n"
     ]
    },
    {
     "name": "stderr",
     "output_type": "stream",
     "text": [
      "    192/500      7.28G     0.3187      1.144     0.3532     0.2692     0.9425          8        640: 100%|██████████| 111/111 [00:58<00:00,  1.90it/s]\n",
      "                 Class     Images  Instances      Box(P          R      mAP50  mAP50-95)     Pose(P          R      mAP50  mAP50-95): 100%|██████████| 11/11 [00:02<00:00,  3.75it/s]"
     ]
    },
    {
     "name": "stdout",
     "output_type": "stream",
     "text": [
      "                   all        166        166          1          1      0.995      0.935      0.994      0.994      0.994      0.872\n"
     ]
    },
    {
     "name": "stderr",
     "output_type": "stream",
     "text": [
      "\n"
     ]
    },
    {
     "name": "stdout",
     "output_type": "stream",
     "text": [
      "\n",
      "      Epoch    GPU_mem   box_loss  pose_loss  kobj_loss   cls_loss   dfl_loss  Instances       Size\n"
     ]
    },
    {
     "name": "stderr",
     "output_type": "stream",
     "text": [
      "    193/500      7.27G     0.3293      1.023     0.3582     0.2715     0.9436          9        640: 100%|██████████| 111/111 [00:58<00:00,  1.90it/s]\n",
      "                 Class     Images  Instances      Box(P          R      mAP50  mAP50-95)     Pose(P          R      mAP50  mAP50-95): 100%|██████████| 11/11 [00:02<00:00,  3.76it/s]"
     ]
    },
    {
     "name": "stdout",
     "output_type": "stream",
     "text": [
      "                   all        166        166          1          1      0.995      0.946      0.975      0.976      0.976       0.89\n"
     ]
    },
    {
     "name": "stderr",
     "output_type": "stream",
     "text": [
      "\n"
     ]
    },
    {
     "name": "stdout",
     "output_type": "stream",
     "text": [
      "\n",
      "      Epoch    GPU_mem   box_loss  pose_loss  kobj_loss   cls_loss   dfl_loss  Instances       Size\n"
     ]
    },
    {
     "name": "stderr",
     "output_type": "stream",
     "text": [
      "    194/500      7.29G     0.3097     0.9567     0.3551     0.2573     0.9315         10        640: 100%|██████████| 111/111 [00:58<00:00,  1.90it/s]\n",
      "                 Class     Images  Instances      Box(P          R      mAP50  mAP50-95)     Pose(P          R      mAP50  mAP50-95): 100%|██████████| 11/11 [00:03<00:00,  3.58it/s]"
     ]
    },
    {
     "name": "stdout",
     "output_type": "stream",
     "text": [
      "                   all        166        166          1          1      0.995      0.953      0.945      0.946      0.954      0.882\n"
     ]
    },
    {
     "name": "stderr",
     "output_type": "stream",
     "text": [
      "\n"
     ]
    },
    {
     "name": "stdout",
     "output_type": "stream",
     "text": [
      "\n",
      "      Epoch    GPU_mem   box_loss  pose_loss  kobj_loss   cls_loss   dfl_loss  Instances       Size\n"
     ]
    },
    {
     "name": "stderr",
     "output_type": "stream",
     "text": [
      "    195/500         7G     0.2998     0.8796     0.3533     0.2431     0.9273         14        640: 100%|██████████| 111/111 [00:58<00:00,  1.90it/s]\n",
      "                 Class     Images  Instances      Box(P          R      mAP50  mAP50-95)     Pose(P          R      mAP50  mAP50-95): 100%|██████████| 11/11 [00:02<00:00,  3.69it/s]"
     ]
    },
    {
     "name": "stdout",
     "output_type": "stream",
     "text": [
      "                   all        166        166          1          1      0.995      0.949      0.988      0.988       0.99       0.88\n"
     ]
    },
    {
     "name": "stderr",
     "output_type": "stream",
     "text": [
      "\n"
     ]
    },
    {
     "name": "stdout",
     "output_type": "stream",
     "text": [
      "\n",
      "      Epoch    GPU_mem   box_loss  pose_loss  kobj_loss   cls_loss   dfl_loss  Instances       Size\n"
     ]
    },
    {
     "name": "stderr",
     "output_type": "stream",
     "text": [
      "    196/500      7.28G     0.2938     0.9332     0.3456     0.2437     0.9272         10        640: 100%|██████████| 111/111 [00:58<00:00,  1.90it/s]\n",
      "                 Class     Images  Instances      Box(P          R      mAP50  mAP50-95)     Pose(P          R      mAP50  mAP50-95): 100%|██████████| 11/11 [00:02<00:00,  3.72it/s]"
     ]
    },
    {
     "name": "stdout",
     "output_type": "stream",
     "text": [
      "                   all        166        166      0.994          1      0.995      0.948      0.976      0.982      0.985       0.91\n"
     ]
    },
    {
     "name": "stderr",
     "output_type": "stream",
     "text": [
      "\n"
     ]
    },
    {
     "name": "stdout",
     "output_type": "stream",
     "text": [
      "\n",
      "      Epoch    GPU_mem   box_loss  pose_loss  kobj_loss   cls_loss   dfl_loss  Instances       Size\n"
     ]
    },
    {
     "name": "stderr",
     "output_type": "stream",
     "text": [
      "    197/500      7.05G      0.283     0.8067     0.3464     0.2325      0.917          9        640: 100%|██████████| 111/111 [00:58<00:00,  1.90it/s]\n",
      "                 Class     Images  Instances      Box(P          R      mAP50  mAP50-95)     Pose(P          R      mAP50  mAP50-95): 100%|██████████| 11/11 [00:02<00:00,  3.71it/s]"
     ]
    },
    {
     "name": "stdout",
     "output_type": "stream",
     "text": [
      "                   all        166        166          1          1      0.995      0.956      0.988      0.988       0.99      0.909\n"
     ]
    },
    {
     "name": "stderr",
     "output_type": "stream",
     "text": [
      "\n"
     ]
    },
    {
     "name": "stdout",
     "output_type": "stream",
     "text": [
      "\n",
      "      Epoch    GPU_mem   box_loss  pose_loss  kobj_loss   cls_loss   dfl_loss  Instances       Size\n"
     ]
    },
    {
     "name": "stderr",
     "output_type": "stream",
     "text": [
      "    198/500      7.27G     0.2903     0.8158     0.3468      0.236     0.9209         14        640: 100%|██████████| 111/111 [00:58<00:00,  1.90it/s]\n",
      "                 Class     Images  Instances      Box(P          R      mAP50  mAP50-95)     Pose(P          R      mAP50  mAP50-95): 100%|██████████| 11/11 [00:02<00:00,  3.75it/s]"
     ]
    },
    {
     "name": "stdout",
     "output_type": "stream",
     "text": [
      "                   all        166        166          1          1      0.995      0.951      0.945      0.946      0.947      0.895\n"
     ]
    },
    {
     "name": "stderr",
     "output_type": "stream",
     "text": [
      "\n"
     ]
    },
    {
     "name": "stdout",
     "output_type": "stream",
     "text": [
      "\n",
      "      Epoch    GPU_mem   box_loss  pose_loss  kobj_loss   cls_loss   dfl_loss  Instances       Size\n"
     ]
    },
    {
     "name": "stderr",
     "output_type": "stream",
     "text": [
      "    199/500      7.29G     0.2723     0.7502     0.3503     0.2317     0.9191          9        640: 100%|██████████| 111/111 [00:58<00:00,  1.91it/s]\n",
      "                 Class     Images  Instances      Box(P          R      mAP50  mAP50-95)     Pose(P          R      mAP50  mAP50-95): 100%|██████████| 11/11 [00:02<00:00,  3.75it/s]"
     ]
    },
    {
     "name": "stdout",
     "output_type": "stream",
     "text": [
      "                   all        166        166          1          1      0.995      0.964       0.97       0.97      0.976      0.887\n"
     ]
    },
    {
     "name": "stderr",
     "output_type": "stream",
     "text": [
      "\n"
     ]
    },
    {
     "name": "stdout",
     "output_type": "stream",
     "text": [
      "\n",
      "      Epoch    GPU_mem   box_loss  pose_loss  kobj_loss   cls_loss   dfl_loss  Instances       Size\n"
     ]
    },
    {
     "name": "stderr",
     "output_type": "stream",
     "text": [
      "    200/500      7.29G     0.2737      0.699      0.349     0.2246     0.9156          8        640: 100%|██████████| 111/111 [00:58<00:00,  1.90it/s]\n",
      "                 Class     Images  Instances      Box(P          R      mAP50  mAP50-95)     Pose(P          R      mAP50  mAP50-95): 100%|██████████| 11/11 [00:03<00:00,  3.59it/s]"
     ]
    },
    {
     "name": "stdout",
     "output_type": "stream",
     "text": [
      "                   all        166        166          1          1      0.995      0.952       0.97       0.97      0.977      0.924\n"
     ]
    },
    {
     "name": "stderr",
     "output_type": "stream",
     "text": [
      "\n"
     ]
    },
    {
     "name": "stdout",
     "output_type": "stream",
     "text": [
      "\n",
      "      Epoch    GPU_mem   box_loss  pose_loss  kobj_loss   cls_loss   dfl_loss  Instances       Size\n"
     ]
    },
    {
     "name": "stderr",
     "output_type": "stream",
     "text": [
      "    201/500      7.27G     0.2814     0.7512     0.3535     0.2304      0.917         13        640: 100%|██████████| 111/111 [00:58<00:00,  1.90it/s]\n",
      "                 Class     Images  Instances      Box(P          R      mAP50  mAP50-95)     Pose(P          R      mAP50  mAP50-95): 100%|██████████| 11/11 [00:02<00:00,  3.69it/s]"
     ]
    },
    {
     "name": "stdout",
     "output_type": "stream",
     "text": [
      "                   all        166        166      0.994          1      0.995      0.955      0.946      0.952      0.959      0.913\n"
     ]
    },
    {
     "name": "stderr",
     "output_type": "stream",
     "text": [
      "\n"
     ]
    },
    {
     "name": "stdout",
     "output_type": "stream",
     "text": [
      "\n",
      "      Epoch    GPU_mem   box_loss  pose_loss  kobj_loss   cls_loss   dfl_loss  Instances       Size\n"
     ]
    },
    {
     "name": "stderr",
     "output_type": "stream",
     "text": [
      "    202/500      7.29G      0.278     0.7712      0.347     0.2292     0.9093         11        640: 100%|██████████| 111/111 [00:58<00:00,  1.90it/s]\n",
      "                 Class     Images  Instances      Box(P          R      mAP50  mAP50-95)     Pose(P          R      mAP50  mAP50-95): 100%|██████████| 11/11 [00:02<00:00,  3.69it/s]"
     ]
    },
    {
     "name": "stdout",
     "output_type": "stream",
     "text": [
      "                   all        166        166      0.991          1      0.995      0.953      0.956      0.964      0.971      0.905\n"
     ]
    },
    {
     "name": "stderr",
     "output_type": "stream",
     "text": [
      "\n"
     ]
    },
    {
     "name": "stdout",
     "output_type": "stream",
     "text": [
      "\n",
      "      Epoch    GPU_mem   box_loss  pose_loss  kobj_loss   cls_loss   dfl_loss  Instances       Size\n"
     ]
    },
    {
     "name": "stderr",
     "output_type": "stream",
     "text": [
      "    203/500      7.06G     0.2712     0.7253     0.3535     0.2268     0.9136         12        640: 100%|██████████| 111/111 [00:58<00:00,  1.91it/s]\n",
      "                 Class     Images  Instances      Box(P          R      mAP50  mAP50-95)     Pose(P          R      mAP50  mAP50-95): 100%|██████████| 11/11 [00:02<00:00,  3.72it/s]"
     ]
    },
    {
     "name": "stdout",
     "output_type": "stream",
     "text": [
      "                   all        166        166      0.999          1      0.995      0.962      0.957      0.958      0.967       0.93\n"
     ]
    },
    {
     "name": "stderr",
     "output_type": "stream",
     "text": [
      "\n"
     ]
    },
    {
     "name": "stdout",
     "output_type": "stream",
     "text": [
      "\n",
      "      Epoch    GPU_mem   box_loss  pose_loss  kobj_loss   cls_loss   dfl_loss  Instances       Size\n"
     ]
    },
    {
     "name": "stderr",
     "output_type": "stream",
     "text": [
      "    204/500      7.25G     0.2758     0.7275     0.3514     0.2248     0.9127         12        640: 100%|██████████| 111/111 [00:58<00:00,  1.91it/s]\n",
      "                 Class     Images  Instances      Box(P          R      mAP50  mAP50-95)     Pose(P          R      mAP50  mAP50-95): 100%|██████████| 11/11 [00:02<00:00,  3.76it/s]"
     ]
    },
    {
     "name": "stdout",
     "output_type": "stream",
     "text": [
      "                   all        166        166          1          1      0.995      0.964      0.957      0.958      0.962      0.914\n"
     ]
    },
    {
     "name": "stderr",
     "output_type": "stream",
     "text": [
      "\n"
     ]
    },
    {
     "name": "stdout",
     "output_type": "stream",
     "text": [
      "\n",
      "      Epoch    GPU_mem   box_loss  pose_loss  kobj_loss   cls_loss   dfl_loss  Instances       Size\n"
     ]
    },
    {
     "name": "stderr",
     "output_type": "stream",
     "text": [
      "    205/500      7.25G     0.2627     0.6851     0.3458     0.2171     0.9147         10        640: 100%|██████████| 111/111 [00:58<00:00,  1.91it/s]\n",
      "                 Class     Images  Instances      Box(P          R      mAP50  mAP50-95)     Pose(P          R      mAP50  mAP50-95): 100%|██████████| 11/11 [00:02<00:00,  3.72it/s]"
     ]
    },
    {
     "name": "stdout",
     "output_type": "stream",
     "text": [
      "                   all        166        166          1          1      0.995      0.972       0.97       0.97      0.972      0.926\n"
     ]
    },
    {
     "name": "stderr",
     "output_type": "stream",
     "text": [
      "\n"
     ]
    },
    {
     "name": "stdout",
     "output_type": "stream",
     "text": [
      "\n",
      "      Epoch    GPU_mem   box_loss  pose_loss  kobj_loss   cls_loss   dfl_loss  Instances       Size\n"
     ]
    },
    {
     "name": "stderr",
     "output_type": "stream",
     "text": [
      "    206/500       7.3G      0.265      0.694     0.3437     0.2151     0.9104         15        640: 100%|██████████| 111/111 [00:58<00:00,  1.90it/s]\n",
      "                 Class     Images  Instances      Box(P          R      mAP50  mAP50-95)     Pose(P          R      mAP50  mAP50-95): 100%|██████████| 11/11 [00:02<00:00,  3.75it/s]"
     ]
    },
    {
     "name": "stdout",
     "output_type": "stream",
     "text": [
      "                   all        166        166      0.999          1      0.995      0.962      0.969       0.97      0.975      0.921\n"
     ]
    },
    {
     "name": "stderr",
     "output_type": "stream",
     "text": [
      "\n"
     ]
    },
    {
     "name": "stdout",
     "output_type": "stream",
     "text": [
      "\n",
      "      Epoch    GPU_mem   box_loss  pose_loss  kobj_loss   cls_loss   dfl_loss  Instances       Size\n"
     ]
    },
    {
     "name": "stderr",
     "output_type": "stream",
     "text": [
      "    207/500       7.3G     0.2527     0.6703     0.3357     0.2167     0.9056          9        640: 100%|██████████| 111/111 [00:58<00:00,  1.91it/s]\n",
      "                 Class     Images  Instances      Box(P          R      mAP50  mAP50-95)     Pose(P          R      mAP50  mAP50-95): 100%|██████████| 11/11 [00:02<00:00,  3.73it/s]"
     ]
    },
    {
     "name": "stdout",
     "output_type": "stream",
     "text": [
      "                   all        166        166      0.997          1      0.995      0.962      0.955      0.958      0.967      0.914\n"
     ]
    },
    {
     "name": "stderr",
     "output_type": "stream",
     "text": [
      "\n"
     ]
    },
    {
     "name": "stdout",
     "output_type": "stream",
     "text": [
      "\n",
      "      Epoch    GPU_mem   box_loss  pose_loss  kobj_loss   cls_loss   dfl_loss  Instances       Size\n"
     ]
    },
    {
     "name": "stderr",
     "output_type": "stream",
     "text": [
      "    208/500      7.26G     0.2571     0.7121     0.3517     0.2099     0.9088         14        640: 100%|██████████| 111/111 [00:58<00:00,  1.90it/s]\n",
      "                 Class     Images  Instances      Box(P          R      mAP50  mAP50-95)     Pose(P          R      mAP50  mAP50-95): 100%|██████████| 11/11 [00:02<00:00,  3.74it/s]"
     ]
    },
    {
     "name": "stdout",
     "output_type": "stream",
     "text": [
      "                   all        166        166      0.997          1      0.995      0.969      0.943      0.946       0.96      0.924\n"
     ]
    },
    {
     "name": "stderr",
     "output_type": "stream",
     "text": [
      "\n"
     ]
    },
    {
     "name": "stdout",
     "output_type": "stream",
     "text": [
      "\n",
      "      Epoch    GPU_mem   box_loss  pose_loss  kobj_loss   cls_loss   dfl_loss  Instances       Size\n"
     ]
    },
    {
     "name": "stderr",
     "output_type": "stream",
     "text": [
      "    209/500      7.24G     0.2631     0.6791     0.3441     0.2146     0.9169         10        640: 100%|██████████| 111/111 [00:58<00:00,  1.91it/s]\n",
      "                 Class     Images  Instances      Box(P          R      mAP50  mAP50-95)     Pose(P          R      mAP50  mAP50-95): 100%|██████████| 11/11 [00:02<00:00,  3.75it/s]"
     ]
    },
    {
     "name": "stdout",
     "output_type": "stream",
     "text": [
      "                   all        166        166          1          1      0.995      0.968      0.964      0.964      0.977      0.938\n"
     ]
    },
    {
     "name": "stderr",
     "output_type": "stream",
     "text": [
      "\n"
     ]
    },
    {
     "name": "stdout",
     "output_type": "stream",
     "text": [
      "\n",
      "      Epoch    GPU_mem   box_loss  pose_loss  kobj_loss   cls_loss   dfl_loss  Instances       Size\n"
     ]
    },
    {
     "name": "stderr",
     "output_type": "stream",
     "text": [
      "    210/500      7.27G     0.2511     0.6685     0.3391     0.2127     0.9093         10        640: 100%|██████████| 111/111 [00:58<00:00,  1.91it/s]\n",
      "                 Class     Images  Instances      Box(P          R      mAP50  mAP50-95)     Pose(P          R      mAP50  mAP50-95): 100%|██████████| 11/11 [00:02<00:00,  3.73it/s]"
     ]
    },
    {
     "name": "stdout",
     "output_type": "stream",
     "text": [
      "                   all        166        166      0.999          1      0.995      0.968      0.957      0.958       0.97      0.933\n"
     ]
    },
    {
     "name": "stderr",
     "output_type": "stream",
     "text": [
      "\n"
     ]
    },
    {
     "name": "stdout",
     "output_type": "stream",
     "text": [
      "\n",
      "      Epoch    GPU_mem   box_loss  pose_loss  kobj_loss   cls_loss   dfl_loss  Instances       Size\n"
     ]
    },
    {
     "name": "stderr",
     "output_type": "stream",
     "text": [
      "    211/500      7.01G     0.2585     0.6947     0.3396     0.2127     0.9094         12        640: 100%|██████████| 111/111 [00:58<00:00,  1.91it/s]\n",
      "                 Class     Images  Instances      Box(P          R      mAP50  mAP50-95)     Pose(P          R      mAP50  mAP50-95): 100%|██████████| 11/11 [00:02<00:00,  3.72it/s]"
     ]
    },
    {
     "name": "stdout",
     "output_type": "stream",
     "text": [
      "                   all        166        166      0.993          1      0.993      0.956      0.945      0.952      0.963      0.909\n"
     ]
    },
    {
     "name": "stderr",
     "output_type": "stream",
     "text": [
      "\n"
     ]
    },
    {
     "name": "stdout",
     "output_type": "stream",
     "text": [
      "\n",
      "      Epoch    GPU_mem   box_loss  pose_loss  kobj_loss   cls_loss   dfl_loss  Instances       Size\n"
     ]
    },
    {
     "name": "stderr",
     "output_type": "stream",
     "text": [
      "    212/500      7.29G     0.2574     0.6295     0.3486     0.2137     0.9133         10        640: 100%|██████████| 111/111 [00:58<00:00,  1.90it/s]\n",
      "                 Class     Images  Instances      Box(P          R      mAP50  mAP50-95)     Pose(P          R      mAP50  mAP50-95): 100%|██████████| 11/11 [00:02<00:00,  3.75it/s]"
     ]
    },
    {
     "name": "stdout",
     "output_type": "stream",
     "text": [
      "                   all        166        166          1          1      0.995      0.966      0.951      0.952      0.969      0.932\n"
     ]
    },
    {
     "name": "stderr",
     "output_type": "stream",
     "text": [
      "\n"
     ]
    },
    {
     "name": "stdout",
     "output_type": "stream",
     "text": [
      "\n",
      "      Epoch    GPU_mem   box_loss  pose_loss  kobj_loss   cls_loss   dfl_loss  Instances       Size\n"
     ]
    },
    {
     "name": "stderr",
     "output_type": "stream",
     "text": [
      "    213/500      7.28G     0.2465     0.6438     0.3393     0.2099     0.9059         14        640: 100%|██████████| 111/111 [00:58<00:00,  1.90it/s]\n",
      "                 Class     Images  Instances      Box(P          R      mAP50  mAP50-95)     Pose(P          R      mAP50  mAP50-95): 100%|██████████| 11/11 [00:02<00:00,  3.71it/s]"
     ]
    },
    {
     "name": "stdout",
     "output_type": "stream",
     "text": [
      "                   all        166        166          1          1      0.995      0.964       0.97      0.975      0.985      0.946\n"
     ]
    },
    {
     "name": "stderr",
     "output_type": "stream",
     "text": [
      "\n"
     ]
    },
    {
     "name": "stdout",
     "output_type": "stream",
     "text": [
      "\n",
      "      Epoch    GPU_mem   box_loss  pose_loss  kobj_loss   cls_loss   dfl_loss  Instances       Size\n"
     ]
    },
    {
     "name": "stderr",
     "output_type": "stream",
     "text": [
      "    214/500      7.29G     0.2537     0.6177     0.3368     0.2091     0.9155         16        640: 100%|██████████| 111/111 [00:58<00:00,  1.90it/s]\n",
      "                 Class     Images  Instances      Box(P          R      mAP50  mAP50-95)     Pose(P          R      mAP50  mAP50-95): 100%|██████████| 11/11 [00:02<00:00,  3.72it/s]"
     ]
    },
    {
     "name": "stdout",
     "output_type": "stream",
     "text": [
      "                   all        166        166          1          1      0.995      0.961      0.951      0.952      0.967      0.938\n"
     ]
    },
    {
     "name": "stderr",
     "output_type": "stream",
     "text": [
      "\n"
     ]
    },
    {
     "name": "stdout",
     "output_type": "stream",
     "text": [
      "\n",
      "      Epoch    GPU_mem   box_loss  pose_loss  kobj_loss   cls_loss   dfl_loss  Instances       Size\n"
     ]
    },
    {
     "name": "stderr",
     "output_type": "stream",
     "text": [
      "    215/500       7.3G     0.2439     0.5977      0.345     0.2047     0.9069         10        640: 100%|██████████| 111/111 [00:58<00:00,  1.90it/s]\n",
      "                 Class     Images  Instances      Box(P          R      mAP50  mAP50-95)     Pose(P          R      mAP50  mAP50-95): 100%|██████████| 11/11 [00:02<00:00,  3.78it/s]"
     ]
    },
    {
     "name": "stdout",
     "output_type": "stream",
     "text": [
      "                   all        166        166          1          1      0.995      0.969      0.958      0.958      0.974      0.933\n"
     ]
    },
    {
     "name": "stderr",
     "output_type": "stream",
     "text": [
      "\n"
     ]
    },
    {
     "name": "stdout",
     "output_type": "stream",
     "text": [
      "\n",
      "      Epoch    GPU_mem   box_loss  pose_loss  kobj_loss   cls_loss   dfl_loss  Instances       Size\n"
     ]
    },
    {
     "name": "stderr",
     "output_type": "stream",
     "text": [
      "    216/500      7.28G     0.2534     0.6108     0.3448     0.2115     0.9075         12        640: 100%|██████████| 111/111 [00:58<00:00,  1.91it/s]\n",
      "                 Class     Images  Instances      Box(P          R      mAP50  mAP50-95)     Pose(P          R      mAP50  mAP50-95): 100%|██████████| 11/11 [00:02<00:00,  3.72it/s]"
     ]
    },
    {
     "name": "stdout",
     "output_type": "stream",
     "text": [
      "                   all        166        166          1          1      0.995      0.967       0.97       0.97      0.982      0.944\n"
     ]
    },
    {
     "name": "stderr",
     "output_type": "stream",
     "text": [
      "\n"
     ]
    },
    {
     "name": "stdout",
     "output_type": "stream",
     "text": [
      "\n",
      "      Epoch    GPU_mem   box_loss  pose_loss  kobj_loss   cls_loss   dfl_loss  Instances       Size\n"
     ]
    },
    {
     "name": "stderr",
     "output_type": "stream",
     "text": [
      "    217/500      7.26G     0.2491     0.6252     0.3372     0.2102      0.905          9        640: 100%|██████████| 111/111 [00:58<00:00,  1.89it/s]\n",
      "                 Class     Images  Instances      Box(P          R      mAP50  mAP50-95)     Pose(P          R      mAP50  mAP50-95): 100%|██████████| 11/11 [00:02<00:00,  3.77it/s]"
     ]
    },
    {
     "name": "stdout",
     "output_type": "stream",
     "text": [
      "                   all        166        166          1          1      0.995      0.963      0.958      0.958      0.976      0.948\n"
     ]
    },
    {
     "name": "stderr",
     "output_type": "stream",
     "text": [
      "\n"
     ]
    },
    {
     "name": "stdout",
     "output_type": "stream",
     "text": [
      "\n",
      "      Epoch    GPU_mem   box_loss  pose_loss  kobj_loss   cls_loss   dfl_loss  Instances       Size\n"
     ]
    },
    {
     "name": "stderr",
     "output_type": "stream",
     "text": [
      "    218/500      7.29G     0.2457     0.6483     0.3417     0.2006     0.9165         11        640: 100%|██████████| 111/111 [00:58<00:00,  1.90it/s]\n",
      "                 Class     Images  Instances      Box(P          R      mAP50  mAP50-95)     Pose(P          R      mAP50  mAP50-95): 100%|██████████| 11/11 [00:02<00:00,  3.68it/s]"
     ]
    },
    {
     "name": "stdout",
     "output_type": "stream",
     "text": [
      "                   all        166        166          1          1      0.995      0.961      0.952      0.952      0.968       0.94\n"
     ]
    },
    {
     "name": "stderr",
     "output_type": "stream",
     "text": [
      "\n"
     ]
    },
    {
     "name": "stdout",
     "output_type": "stream",
     "text": [
      "\n",
      "      Epoch    GPU_mem   box_loss  pose_loss  kobj_loss   cls_loss   dfl_loss  Instances       Size\n"
     ]
    },
    {
     "name": "stderr",
     "output_type": "stream",
     "text": [
      "    219/500      7.03G     0.2399     0.6296     0.3327     0.2019     0.9092         10        640: 100%|██████████| 111/111 [00:58<00:00,  1.90it/s]\n",
      "                 Class     Images  Instances      Box(P          R      mAP50  mAP50-95)     Pose(P          R      mAP50  mAP50-95): 100%|██████████| 11/11 [00:03<00:00,  3.63it/s]"
     ]
    },
    {
     "name": "stdout",
     "output_type": "stream",
     "text": [
      "                   all        166        166          1          1      0.995      0.969      0.976      0.976      0.986       0.95\n"
     ]
    },
    {
     "name": "stderr",
     "output_type": "stream",
     "text": [
      "\n"
     ]
    },
    {
     "name": "stdout",
     "output_type": "stream",
     "text": [
      "\n",
      "      Epoch    GPU_mem   box_loss  pose_loss  kobj_loss   cls_loss   dfl_loss  Instances       Size\n"
     ]
    },
    {
     "name": "stderr",
     "output_type": "stream",
     "text": [
      "    220/500      7.28G     0.2498     0.5697     0.3447     0.1996     0.9069         12        640: 100%|██████████| 111/111 [00:58<00:00,  1.90it/s]\n",
      "                 Class     Images  Instances      Box(P          R      mAP50  mAP50-95)     Pose(P          R      mAP50  mAP50-95): 100%|██████████| 11/11 [00:03<00:00,  3.61it/s]"
     ]
    },
    {
     "name": "stdout",
     "output_type": "stream",
     "text": [
      "                   all        166        166      0.999          1      0.995      0.971      0.975      0.976      0.984      0.943\n"
     ]
    },
    {
     "name": "stderr",
     "output_type": "stream",
     "text": [
      "\n"
     ]
    },
    {
     "name": "stdout",
     "output_type": "stream",
     "text": [
      "\n",
      "      Epoch    GPU_mem   box_loss  pose_loss  kobj_loss   cls_loss   dfl_loss  Instances       Size\n"
     ]
    },
    {
     "name": "stderr",
     "output_type": "stream",
     "text": [
      "    221/500      7.29G     0.2461     0.5906     0.3397     0.2074     0.9043          7        640: 100%|██████████| 111/111 [00:58<00:00,  1.90it/s]\n",
      "                 Class     Images  Instances      Box(P          R      mAP50  mAP50-95)     Pose(P          R      mAP50  mAP50-95): 100%|██████████| 11/11 [00:02<00:00,  3.71it/s]"
     ]
    },
    {
     "name": "stdout",
     "output_type": "stream",
     "text": [
      "                   all        166        166      0.996          1      0.995      0.961      0.962      0.964      0.977      0.939\n"
     ]
    },
    {
     "name": "stderr",
     "output_type": "stream",
     "text": [
      "\n"
     ]
    },
    {
     "name": "stdout",
     "output_type": "stream",
     "text": [
      "\n",
      "      Epoch    GPU_mem   box_loss  pose_loss  kobj_loss   cls_loss   dfl_loss  Instances       Size\n"
     ]
    },
    {
     "name": "stderr",
     "output_type": "stream",
     "text": [
      "    222/500      7.28G     0.2447     0.6198     0.3364        0.2     0.9023         11        640: 100%|██████████| 111/111 [00:58<00:00,  1.91it/s]\n",
      "                 Class     Images  Instances      Box(P          R      mAP50  mAP50-95)     Pose(P          R      mAP50  mAP50-95): 100%|██████████| 11/11 [00:02<00:00,  3.68it/s]"
     ]
    },
    {
     "name": "stdout",
     "output_type": "stream",
     "text": [
      "                   all        166        166      0.999          1      0.995      0.965      0.963      0.964      0.971      0.931\n"
     ]
    },
    {
     "name": "stderr",
     "output_type": "stream",
     "text": [
      "\n"
     ]
    },
    {
     "name": "stdout",
     "output_type": "stream",
     "text": [
      "\n",
      "      Epoch    GPU_mem   box_loss  pose_loss  kobj_loss   cls_loss   dfl_loss  Instances       Size\n"
     ]
    },
    {
     "name": "stderr",
     "output_type": "stream",
     "text": [
      "    223/500      7.27G     0.2364      0.562     0.3425     0.2004     0.8981         11        640: 100%|██████████| 111/111 [00:58<00:00,  1.89it/s]\n",
      "                 Class     Images  Instances      Box(P          R      mAP50  mAP50-95)     Pose(P          R      mAP50  mAP50-95): 100%|██████████| 11/11 [00:02<00:00,  3.70it/s]"
     ]
    },
    {
     "name": "stdout",
     "output_type": "stream",
     "text": [
      "                   all        166        166          1          1      0.995      0.967      0.964      0.964      0.978      0.934\n"
     ]
    },
    {
     "name": "stderr",
     "output_type": "stream",
     "text": [
      "\n"
     ]
    },
    {
     "name": "stdout",
     "output_type": "stream",
     "text": [
      "\n",
      "      Epoch    GPU_mem   box_loss  pose_loss  kobj_loss   cls_loss   dfl_loss  Instances       Size\n"
     ]
    },
    {
     "name": "stderr",
     "output_type": "stream",
     "text": [
      "    224/500      7.27G     0.2375     0.5671     0.3372     0.1989     0.9029         11        640: 100%|██████████| 111/111 [00:58<00:00,  1.90it/s]\n",
      "                 Class     Images  Instances      Box(P          R      mAP50  mAP50-95)     Pose(P          R      mAP50  mAP50-95): 100%|██████████| 11/11 [00:02<00:00,  3.71it/s]"
     ]
    },
    {
     "name": "stdout",
     "output_type": "stream",
     "text": [
      "                   all        166        166          1          1      0.995      0.971       0.97       0.97      0.977      0.933\n"
     ]
    },
    {
     "name": "stderr",
     "output_type": "stream",
     "text": [
      "\n"
     ]
    },
    {
     "name": "stdout",
     "output_type": "stream",
     "text": [
      "\n",
      "      Epoch    GPU_mem   box_loss  pose_loss  kobj_loss   cls_loss   dfl_loss  Instances       Size\n"
     ]
    },
    {
     "name": "stderr",
     "output_type": "stream",
     "text": [
      "    225/500      7.28G     0.2507     0.5482      0.337     0.1985     0.9079         11        640: 100%|██████████| 111/111 [00:58<00:00,  1.90it/s]\n",
      "                 Class     Images  Instances      Box(P          R      mAP50  mAP50-95)     Pose(P          R      mAP50  mAP50-95): 100%|██████████| 11/11 [00:02<00:00,  3.72it/s]"
     ]
    },
    {
     "name": "stdout",
     "output_type": "stream",
     "text": [
      "                   all        166        166          1          1      0.995      0.967      0.963      0.964      0.977      0.944\n"
     ]
    },
    {
     "name": "stderr",
     "output_type": "stream",
     "text": [
      "\n"
     ]
    },
    {
     "name": "stdout",
     "output_type": "stream",
     "text": [
      "\n",
      "      Epoch    GPU_mem   box_loss  pose_loss  kobj_loss   cls_loss   dfl_loss  Instances       Size\n"
     ]
    },
    {
     "name": "stderr",
     "output_type": "stream",
     "text": [
      "    226/500      7.26G     0.2499     0.5618     0.3327     0.2082     0.9106         13        640: 100%|██████████| 111/111 [00:58<00:00,  1.90it/s]\n",
      "                 Class     Images  Instances      Box(P          R      mAP50  mAP50-95)     Pose(P          R      mAP50  mAP50-95): 100%|██████████| 11/11 [00:02<00:00,  3.73it/s]"
     ]
    },
    {
     "name": "stdout",
     "output_type": "stream",
     "text": [
      "                   all        166        166      0.999          1      0.995      0.968      0.951      0.952      0.964      0.924\n"
     ]
    },
    {
     "name": "stderr",
     "output_type": "stream",
     "text": [
      "\n"
     ]
    },
    {
     "name": "stdout",
     "output_type": "stream",
     "text": [
      "\n",
      "      Epoch    GPU_mem   box_loss  pose_loss  kobj_loss   cls_loss   dfl_loss  Instances       Size\n"
     ]
    },
    {
     "name": "stderr",
     "output_type": "stream",
     "text": [
      "    227/500      7.02G     0.2369     0.5461     0.3463     0.1972     0.8967          9        640: 100%|██████████| 111/111 [00:58<00:00,  1.90it/s]\n",
      "                 Class     Images  Instances      Box(P          R      mAP50  mAP50-95)     Pose(P          R      mAP50  mAP50-95): 100%|██████████| 11/11 [00:02<00:00,  3.73it/s]"
     ]
    },
    {
     "name": "stdout",
     "output_type": "stream",
     "text": [
      "                   all        166        166      0.999          1      0.995      0.969      0.975      0.976      0.984      0.932\n"
     ]
    },
    {
     "name": "stderr",
     "output_type": "stream",
     "text": [
      "\n"
     ]
    },
    {
     "name": "stdout",
     "output_type": "stream",
     "text": [
      "\n",
      "      Epoch    GPU_mem   box_loss  pose_loss  kobj_loss   cls_loss   dfl_loss  Instances       Size\n"
     ]
    },
    {
     "name": "stderr",
     "output_type": "stream",
     "text": [
      "    228/500      7.28G     0.2308     0.5821     0.3455     0.1967     0.8884         14        640: 100%|██████████| 111/111 [00:58<00:00,  1.90it/s]\n",
      "                 Class     Images  Instances      Box(P          R      mAP50  mAP50-95)     Pose(P          R      mAP50  mAP50-95): 100%|██████████| 11/11 [00:03<00:00,  3.63it/s]"
     ]
    },
    {
     "name": "stdout",
     "output_type": "stream",
     "text": [
      "                   all        166        166          1          1      0.995      0.973       0.97       0.97       0.98       0.94\n"
     ]
    },
    {
     "name": "stderr",
     "output_type": "stream",
     "text": [
      "\n"
     ]
    },
    {
     "name": "stdout",
     "output_type": "stream",
     "text": [
      "\n",
      "      Epoch    GPU_mem   box_loss  pose_loss  kobj_loss   cls_loss   dfl_loss  Instances       Size\n"
     ]
    },
    {
     "name": "stderr",
     "output_type": "stream",
     "text": [
      "    229/500      7.29G     0.2383     0.5834     0.3326     0.1955     0.8991         12        640: 100%|██████████| 111/111 [00:58<00:00,  1.90it/s]\n",
      "                 Class     Images  Instances      Box(P          R      mAP50  mAP50-95)     Pose(P          R      mAP50  mAP50-95): 100%|██████████| 11/11 [00:02<00:00,  3.71it/s]"
     ]
    },
    {
     "name": "stdout",
     "output_type": "stream",
     "text": [
      "                   all        166        166      0.994          1      0.995      0.965      0.966       0.97       0.98      0.943\n"
     ]
    },
    {
     "name": "stderr",
     "output_type": "stream",
     "text": [
      "\n"
     ]
    },
    {
     "name": "stdout",
     "output_type": "stream",
     "text": [
      "\n",
      "      Epoch    GPU_mem   box_loss  pose_loss  kobj_loss   cls_loss   dfl_loss  Instances       Size\n"
     ]
    },
    {
     "name": "stderr",
     "output_type": "stream",
     "text": [
      "    230/500      7.29G     0.2283     0.5677     0.3394     0.1901     0.8955         14        640: 100%|██████████| 111/111 [00:58<00:00,  1.89it/s]\n",
      "                 Class     Images  Instances      Box(P          R      mAP50  mAP50-95)     Pose(P          R      mAP50  mAP50-95): 100%|██████████| 11/11 [00:03<00:00,  3.64it/s]"
     ]
    },
    {
     "name": "stdout",
     "output_type": "stream",
     "text": [
      "                   all        166        166       0.99          1      0.995      0.967      0.973      0.982      0.988      0.934\n"
     ]
    },
    {
     "name": "stderr",
     "output_type": "stream",
     "text": [
      "\n"
     ]
    },
    {
     "name": "stdout",
     "output_type": "stream",
     "text": [
      "\n",
      "      Epoch    GPU_mem   box_loss  pose_loss  kobj_loss   cls_loss   dfl_loss  Instances       Size\n"
     ]
    },
    {
     "name": "stderr",
     "output_type": "stream",
     "text": [
      "    231/500      7.28G     0.2345     0.5394     0.3389     0.1959     0.9057         13        640: 100%|██████████| 111/111 [00:58<00:00,  1.90it/s]\n",
      "                 Class     Images  Instances      Box(P          R      mAP50  mAP50-95)     Pose(P          R      mAP50  mAP50-95): 100%|██████████| 11/11 [00:02<00:00,  3.72it/s]"
     ]
    },
    {
     "name": "stdout",
     "output_type": "stream",
     "text": [
      "                   all        166        166      0.991          1      0.995      0.969      0.974      0.982      0.988      0.944\n"
     ]
    },
    {
     "name": "stderr",
     "output_type": "stream",
     "text": [
      "\n"
     ]
    },
    {
     "name": "stdout",
     "output_type": "stream",
     "text": [
      "\n",
      "      Epoch    GPU_mem   box_loss  pose_loss  kobj_loss   cls_loss   dfl_loss  Instances       Size\n"
     ]
    },
    {
     "name": "stderr",
     "output_type": "stream",
     "text": [
      "    232/500      7.27G     0.2284     0.5487     0.3399     0.1942      0.889          9        640: 100%|██████████| 111/111 [00:58<00:00,  1.90it/s]\n",
      "                 Class     Images  Instances      Box(P          R      mAP50  mAP50-95)     Pose(P          R      mAP50  mAP50-95): 100%|██████████| 11/11 [00:02<00:00,  3.73it/s]"
     ]
    },
    {
     "name": "stdout",
     "output_type": "stream",
     "text": [
      "                   all        166        166          1          1      0.995      0.973      0.964      0.964      0.976      0.937\n"
     ]
    },
    {
     "name": "stderr",
     "output_type": "stream",
     "text": [
      "\n"
     ]
    },
    {
     "name": "stdout",
     "output_type": "stream",
     "text": [
      "\n",
      "      Epoch    GPU_mem   box_loss  pose_loss  kobj_loss   cls_loss   dfl_loss  Instances       Size\n"
     ]
    },
    {
     "name": "stderr",
     "output_type": "stream",
     "text": [
      "    233/500      7.25G     0.2286     0.5016     0.3374     0.1888     0.8986         11        640: 100%|██████████| 111/111 [00:58<00:00,  1.90it/s]\n",
      "                 Class     Images  Instances      Box(P          R      mAP50  mAP50-95)     Pose(P          R      mAP50  mAP50-95): 100%|██████████| 11/11 [00:02<00:00,  3.75it/s]"
     ]
    },
    {
     "name": "stdout",
     "output_type": "stream",
     "text": [
      "                   all        166        166      0.994          1      0.995      0.969      0.964       0.97       0.98      0.937\n"
     ]
    },
    {
     "name": "stderr",
     "output_type": "stream",
     "text": [
      "\n"
     ]
    },
    {
     "name": "stdout",
     "output_type": "stream",
     "text": [
      "\n",
      "      Epoch    GPU_mem   box_loss  pose_loss  kobj_loss   cls_loss   dfl_loss  Instances       Size\n"
     ]
    },
    {
     "name": "stderr",
     "output_type": "stream",
     "text": [
      "    234/500      7.27G     0.2288     0.4903      0.338      0.192     0.9007         14        640: 100%|██████████| 111/111 [00:58<00:00,  1.90it/s]\n",
      "                 Class     Images  Instances      Box(P          R      mAP50  mAP50-95)     Pose(P          R      mAP50  mAP50-95): 100%|██████████| 11/11 [00:02<00:00,  3.70it/s]"
     ]
    },
    {
     "name": "stdout",
     "output_type": "stream",
     "text": [
      "                   all        166        166          1          1      0.995      0.977      0.982      0.982       0.99       0.95\n"
     ]
    },
    {
     "name": "stderr",
     "output_type": "stream",
     "text": [
      "\n"
     ]
    },
    {
     "name": "stdout",
     "output_type": "stream",
     "text": [
      "\n",
      "      Epoch    GPU_mem   box_loss  pose_loss  kobj_loss   cls_loss   dfl_loss  Instances       Size\n"
     ]
    },
    {
     "name": "stderr",
     "output_type": "stream",
     "text": [
      "    235/500      7.02G     0.2339     0.5011     0.3388     0.1947     0.9011         14        640: 100%|██████████| 111/111 [00:58<00:00,  1.90it/s]\n",
      "                 Class     Images  Instances      Box(P          R      mAP50  mAP50-95)     Pose(P          R      mAP50  mAP50-95): 100%|██████████| 11/11 [00:02<00:00,  3.72it/s]"
     ]
    },
    {
     "name": "stdout",
     "output_type": "stream",
     "text": [
      "                   all        166        166      0.982      0.994      0.994      0.969       0.97      0.982      0.988      0.947\n"
     ]
    },
    {
     "name": "stderr",
     "output_type": "stream",
     "text": [
      "\n"
     ]
    },
    {
     "name": "stdout",
     "output_type": "stream",
     "text": [
      "\n",
      "      Epoch    GPU_mem   box_loss  pose_loss  kobj_loss   cls_loss   dfl_loss  Instances       Size\n"
     ]
    },
    {
     "name": "stderr",
     "output_type": "stream",
     "text": [
      "    236/500      7.27G     0.2377     0.5276     0.3337     0.1979     0.9029         14        640: 100%|██████████| 111/111 [00:58<00:00,  1.89it/s]\n",
      "                 Class     Images  Instances      Box(P          R      mAP50  mAP50-95)     Pose(P          R      mAP50  mAP50-95): 100%|██████████| 11/11 [00:02<00:00,  3.71it/s]"
     ]
    },
    {
     "name": "stdout",
     "output_type": "stream",
     "text": [
      "                   all        166        166      0.988      0.994      0.992       0.96       0.97      0.976      0.976      0.923\n"
     ]
    },
    {
     "name": "stderr",
     "output_type": "stream",
     "text": [
      "\n"
     ]
    },
    {
     "name": "stdout",
     "output_type": "stream",
     "text": [
      "\n",
      "      Epoch    GPU_mem   box_loss  pose_loss  kobj_loss   cls_loss   dfl_loss  Instances       Size\n"
     ]
    },
    {
     "name": "stderr",
     "output_type": "stream",
     "text": [
      "    237/500      7.05G     0.2242     0.5415     0.3397     0.1904     0.8942         14        640: 100%|██████████| 111/111 [00:58<00:00,  1.90it/s]\n",
      "                 Class     Images  Instances      Box(P          R      mAP50  mAP50-95)     Pose(P          R      mAP50  mAP50-95): 100%|██████████| 11/11 [00:02<00:00,  3.72it/s]"
     ]
    },
    {
     "name": "stdout",
     "output_type": "stream",
     "text": [
      "                   all        166        166      0.999          1      0.995      0.969      0.987      0.988      0.992      0.937\n"
     ]
    },
    {
     "name": "stderr",
     "output_type": "stream",
     "text": [
      "\n"
     ]
    },
    {
     "name": "stdout",
     "output_type": "stream",
     "text": [
      "\n",
      "      Epoch    GPU_mem   box_loss  pose_loss  kobj_loss   cls_loss   dfl_loss  Instances       Size\n"
     ]
    },
    {
     "name": "stderr",
     "output_type": "stream",
     "text": [
      "    238/500      7.29G     0.2268     0.5155      0.337     0.1852     0.9019         12        640: 100%|██████████| 111/111 [00:58<00:00,  1.90it/s]\n",
      "                 Class     Images  Instances      Box(P          R      mAP50  mAP50-95)     Pose(P          R      mAP50  mAP50-95): 100%|██████████| 11/11 [00:02<00:00,  3.74it/s]"
     ]
    },
    {
     "name": "stdout",
     "output_type": "stream",
     "text": [
      "                   all        166        166          1          1      0.995       0.97      0.964      0.964      0.976      0.944\n"
     ]
    },
    {
     "name": "stderr",
     "output_type": "stream",
     "text": [
      "\n"
     ]
    },
    {
     "name": "stdout",
     "output_type": "stream",
     "text": [
      "\n",
      "      Epoch    GPU_mem   box_loss  pose_loss  kobj_loss   cls_loss   dfl_loss  Instances       Size\n"
     ]
    },
    {
     "name": "stderr",
     "output_type": "stream",
     "text": [
      "    239/500      7.29G     0.2257     0.5797     0.3292     0.1935     0.8978         14        640: 100%|██████████| 111/111 [00:58<00:00,  1.90it/s]\n",
      "                 Class     Images  Instances      Box(P          R      mAP50  mAP50-95)     Pose(P          R      mAP50  mAP50-95): 100%|██████████| 11/11 [00:02<00:00,  3.73it/s]"
     ]
    },
    {
     "name": "stdout",
     "output_type": "stream",
     "text": [
      "                   all        166        166      0.999          1      0.995      0.962      0.969       0.97      0.979      0.936\n"
     ]
    },
    {
     "name": "stderr",
     "output_type": "stream",
     "text": [
      "\n"
     ]
    },
    {
     "name": "stdout",
     "output_type": "stream",
     "text": [
      "\n",
      "      Epoch    GPU_mem   box_loss  pose_loss  kobj_loss   cls_loss   dfl_loss  Instances       Size\n"
     ]
    },
    {
     "name": "stderr",
     "output_type": "stream",
     "text": [
      "    240/500      7.27G     0.2305      0.561     0.3339     0.1887     0.9068         14        640: 100%|██████████| 111/111 [00:58<00:00,  1.89it/s]\n",
      "                 Class     Images  Instances      Box(P          R      mAP50  mAP50-95)     Pose(P          R      mAP50  mAP50-95): 100%|██████████| 11/11 [00:02<00:00,  3.73it/s]"
     ]
    },
    {
     "name": "stdout",
     "output_type": "stream",
     "text": [
      "                   all        166        166      0.999          1      0.995      0.974      0.964      0.964      0.972      0.932\n"
     ]
    },
    {
     "name": "stderr",
     "output_type": "stream",
     "text": [
      "\n"
     ]
    },
    {
     "name": "stdout",
     "output_type": "stream",
     "text": [
      "\n",
      "      Epoch    GPU_mem   box_loss  pose_loss  kobj_loss   cls_loss   dfl_loss  Instances       Size\n"
     ]
    },
    {
     "name": "stderr",
     "output_type": "stream",
     "text": [
      "    241/500      7.25G     0.2234     0.4932     0.3378     0.1817     0.8873         14        640: 100%|██████████| 111/111 [00:58<00:00,  1.90it/s]\n",
      "                 Class     Images  Instances      Box(P          R      mAP50  mAP50-95)     Pose(P          R      mAP50  mAP50-95): 100%|██████████| 11/11 [00:02<00:00,  3.71it/s]"
     ]
    },
    {
     "name": "stdout",
     "output_type": "stream",
     "text": [
      "                   all        166        166          1          1      0.995       0.97      0.976      0.976      0.984      0.942\n"
     ]
    },
    {
     "name": "stderr",
     "output_type": "stream",
     "text": [
      "\n"
     ]
    },
    {
     "name": "stdout",
     "output_type": "stream",
     "text": [
      "\n",
      "      Epoch    GPU_mem   box_loss  pose_loss  kobj_loss   cls_loss   dfl_loss  Instances       Size\n"
     ]
    },
    {
     "name": "stderr",
     "output_type": "stream",
     "text": [
      "    242/500      7.29G     0.2329     0.5168     0.3365     0.1919     0.8957          9        640: 100%|██████████| 111/111 [00:58<00:00,  1.90it/s]\n",
      "                 Class     Images  Instances      Box(P          R      mAP50  mAP50-95)     Pose(P          R      mAP50  mAP50-95): 100%|██████████| 11/11 [00:02<00:00,  3.72it/s]"
     ]
    },
    {
     "name": "stdout",
     "output_type": "stream",
     "text": [
      "                   all        166        166          1          1      0.995      0.975       0.97       0.97      0.977      0.937\n"
     ]
    },
    {
     "name": "stderr",
     "output_type": "stream",
     "text": [
      "\n"
     ]
    },
    {
     "name": "stdout",
     "output_type": "stream",
     "text": [
      "\n",
      "      Epoch    GPU_mem   box_loss  pose_loss  kobj_loss   cls_loss   dfl_loss  Instances       Size\n"
     ]
    },
    {
     "name": "stderr",
     "output_type": "stream",
     "text": [
      "    243/500      7.06G     0.2315     0.4749       0.34     0.1891     0.8991         12        640: 100%|██████████| 111/111 [00:58<00:00,  1.90it/s]\n",
      "                 Class     Images  Instances      Box(P          R      mAP50  mAP50-95)     Pose(P          R      mAP50  mAP50-95): 100%|██████████| 11/11 [00:02<00:00,  3.75it/s]"
     ]
    },
    {
     "name": "stdout",
     "output_type": "stream",
     "text": [
      "                   all        166        166          1          1      0.995      0.972      0.958      0.958      0.969      0.932\n"
     ]
    },
    {
     "name": "stderr",
     "output_type": "stream",
     "text": [
      "\n"
     ]
    },
    {
     "name": "stdout",
     "output_type": "stream",
     "text": [
      "\n",
      "      Epoch    GPU_mem   box_loss  pose_loss  kobj_loss   cls_loss   dfl_loss  Instances       Size\n"
     ]
    },
    {
     "name": "stderr",
     "output_type": "stream",
     "text": [
      "    244/500      7.25G     0.2269     0.4399       0.33     0.1887     0.8965         13        640: 100%|██████████| 111/111 [00:58<00:00,  1.90it/s]\n",
      "                 Class     Images  Instances      Box(P          R      mAP50  mAP50-95)     Pose(P          R      mAP50  mAP50-95): 100%|██████████| 11/11 [00:02<00:00,  3.72it/s]"
     ]
    },
    {
     "name": "stdout",
     "output_type": "stream",
     "text": [
      "                   all        166        166      0.988      0.994      0.994      0.966      0.982      0.988      0.987      0.948\n"
     ]
    },
    {
     "name": "stderr",
     "output_type": "stream",
     "text": [
      "\n"
     ]
    },
    {
     "name": "stdout",
     "output_type": "stream",
     "text": [
      "\n",
      "      Epoch    GPU_mem   box_loss  pose_loss  kobj_loss   cls_loss   dfl_loss  Instances       Size\n"
     ]
    },
    {
     "name": "stderr",
     "output_type": "stream",
     "text": [
      "    245/500      7.29G      0.221     0.5202     0.3323     0.1869     0.8962         12        640: 100%|██████████| 111/111 [00:58<00:00,  1.90it/s]\n",
      "                 Class     Images  Instances      Box(P          R      mAP50  mAP50-95)     Pose(P          R      mAP50  mAP50-95): 100%|██████████| 11/11 [00:02<00:00,  3.67it/s]"
     ]
    },
    {
     "name": "stdout",
     "output_type": "stream",
     "text": [
      "                   all        166        166      0.988      0.994      0.994      0.968      0.964       0.97      0.975      0.932\n"
     ]
    },
    {
     "name": "stderr",
     "output_type": "stream",
     "text": [
      "\n"
     ]
    },
    {
     "name": "stdout",
     "output_type": "stream",
     "text": [
      "\n",
      "      Epoch    GPU_mem   box_loss  pose_loss  kobj_loss   cls_loss   dfl_loss  Instances       Size\n"
     ]
    },
    {
     "name": "stderr",
     "output_type": "stream",
     "text": [
      "    246/500       7.3G      0.223     0.4708     0.3338     0.1831     0.8975         13        640: 100%|██████████| 111/111 [00:58<00:00,  1.90it/s]\n",
      "                 Class     Images  Instances      Box(P          R      mAP50  mAP50-95)     Pose(P          R      mAP50  mAP50-95): 100%|██████████| 11/11 [00:02<00:00,  3.69it/s]"
     ]
    },
    {
     "name": "stdout",
     "output_type": "stream",
     "text": [
      "                   all        166        166          1          1      0.995      0.969      0.982      0.982      0.988       0.94\n"
     ]
    },
    {
     "name": "stderr",
     "output_type": "stream",
     "text": [
      "\n"
     ]
    },
    {
     "name": "stdout",
     "output_type": "stream",
     "text": [
      "\n",
      "      Epoch    GPU_mem   box_loss  pose_loss  kobj_loss   cls_loss   dfl_loss  Instances       Size\n"
     ]
    },
    {
     "name": "stderr",
     "output_type": "stream",
     "text": [
      "    247/500       7.3G     0.2162     0.4651      0.337     0.1817     0.8976          8        640: 100%|██████████| 111/111 [00:58<00:00,  1.90it/s]\n",
      "                 Class     Images  Instances      Box(P          R      mAP50  mAP50-95)     Pose(P          R      mAP50  mAP50-95): 100%|██████████| 11/11 [00:02<00:00,  3.68it/s]"
     ]
    },
    {
     "name": "stdout",
     "output_type": "stream",
     "text": [
      "                   all        166        166          1          1      0.995      0.962      0.982      0.982      0.985      0.938\n"
     ]
    },
    {
     "name": "stderr",
     "output_type": "stream",
     "text": [
      "\n"
     ]
    },
    {
     "name": "stdout",
     "output_type": "stream",
     "text": [
      "\n",
      "      Epoch    GPU_mem   box_loss  pose_loss  kobj_loss   cls_loss   dfl_loss  Instances       Size\n"
     ]
    },
    {
     "name": "stderr",
     "output_type": "stream",
     "text": [
      "    248/500       7.3G      0.216     0.4929     0.3346     0.1833     0.8969          9        640: 100%|██████████| 111/111 [00:58<00:00,  1.89it/s]\n",
      "                 Class     Images  Instances      Box(P          R      mAP50  mAP50-95)     Pose(P          R      mAP50  mAP50-95): 100%|██████████| 11/11 [00:02<00:00,  3.67it/s]"
     ]
    },
    {
     "name": "stdout",
     "output_type": "stream",
     "text": [
      "                   all        166        166          1          1      0.995      0.977      0.976      0.976      0.984       0.93\n"
     ]
    },
    {
     "name": "stderr",
     "output_type": "stream",
     "text": [
      "\n"
     ]
    },
    {
     "name": "stdout",
     "output_type": "stream",
     "text": [
      "\n",
      "      Epoch    GPU_mem   box_loss  pose_loss  kobj_loss   cls_loss   dfl_loss  Instances       Size\n"
     ]
    },
    {
     "name": "stderr",
     "output_type": "stream",
     "text": [
      "    249/500      7.26G     0.2154     0.4913     0.3318     0.1801      0.896         16        640: 100%|██████████| 111/111 [00:58<00:00,  1.90it/s]\n",
      "                 Class     Images  Instances      Box(P          R      mAP50  mAP50-95)     Pose(P          R      mAP50  mAP50-95): 100%|██████████| 11/11 [00:03<00:00,  3.60it/s]"
     ]
    },
    {
     "name": "stdout",
     "output_type": "stream",
     "text": [
      "                   all        166        166      0.999          1      0.995      0.974      0.945      0.946       0.96      0.938\n"
     ]
    },
    {
     "name": "stderr",
     "output_type": "stream",
     "text": [
      "\n"
     ]
    },
    {
     "name": "stdout",
     "output_type": "stream",
     "text": [
      "\n",
      "      Epoch    GPU_mem   box_loss  pose_loss  kobj_loss   cls_loss   dfl_loss  Instances       Size\n"
     ]
    },
    {
     "name": "stderr",
     "output_type": "stream",
     "text": [
      "    250/500       7.3G     0.2226     0.4638     0.3247     0.1869     0.8962         15        640: 100%|██████████| 111/111 [00:58<00:00,  1.90it/s]\n",
      "                 Class     Images  Instances      Box(P          R      mAP50  mAP50-95)     Pose(P          R      mAP50  mAP50-95): 100%|██████████| 11/11 [00:02<00:00,  3.71it/s]"
     ]
    },
    {
     "name": "stdout",
     "output_type": "stream",
     "text": [
      "                   all        166        166          1          1      0.995      0.977       0.97       0.97      0.969      0.915\n"
     ]
    },
    {
     "name": "stderr",
     "output_type": "stream",
     "text": [
      "\n"
     ]
    },
    {
     "name": "stdout",
     "output_type": "stream",
     "text": [
      "\n",
      "      Epoch    GPU_mem   box_loss  pose_loss  kobj_loss   cls_loss   dfl_loss  Instances       Size\n"
     ]
    },
    {
     "name": "stderr",
     "output_type": "stream",
     "text": [
      "    251/500      7.07G     0.2168     0.5097     0.3356     0.1837     0.8987         13        640: 100%|██████████| 111/111 [00:58<00:00,  1.90it/s]\n",
      "                 Class     Images  Instances      Box(P          R      mAP50  mAP50-95)     Pose(P          R      mAP50  mAP50-95): 100%|██████████| 11/11 [00:02<00:00,  3.67it/s]"
     ]
    },
    {
     "name": "stdout",
     "output_type": "stream",
     "text": [
      "                   all        166        166          1          1      0.995      0.971      0.952      0.952      0.968      0.944\n"
     ]
    },
    {
     "name": "stderr",
     "output_type": "stream",
     "text": [
      "\n"
     ]
    },
    {
     "name": "stdout",
     "output_type": "stream",
     "text": [
      "\n",
      "      Epoch    GPU_mem   box_loss  pose_loss  kobj_loss   cls_loss   dfl_loss  Instances       Size\n"
     ]
    },
    {
     "name": "stderr",
     "output_type": "stream",
     "text": [
      "    252/500      7.28G     0.2166     0.4874     0.3261     0.1884     0.8901         13        640: 100%|██████████| 111/111 [00:58<00:00,  1.90it/s]\n",
      "                 Class     Images  Instances      Box(P          R      mAP50  mAP50-95)     Pose(P          R      mAP50  mAP50-95): 100%|██████████| 11/11 [00:02<00:00,  3.69it/s]"
     ]
    },
    {
     "name": "stdout",
     "output_type": "stream",
     "text": [
      "                   all        166        166          1          1      0.995      0.973      0.945      0.946      0.961      0.928\n"
     ]
    },
    {
     "name": "stderr",
     "output_type": "stream",
     "text": [
      "\n"
     ]
    },
    {
     "name": "stdout",
     "output_type": "stream",
     "text": [
      "\n",
      "      Epoch    GPU_mem   box_loss  pose_loss  kobj_loss   cls_loss   dfl_loss  Instances       Size\n"
     ]
    },
    {
     "name": "stderr",
     "output_type": "stream",
     "text": [
      "    253/500      7.27G      0.217     0.4749     0.3346     0.1868     0.8979         13        640: 100%|██████████| 111/111 [00:58<00:00,  1.90it/s]\n",
      "                 Class     Images  Instances      Box(P          R      mAP50  mAP50-95)     Pose(P          R      mAP50  mAP50-95): 100%|██████████| 11/11 [00:02<00:00,  3.74it/s]"
     ]
    },
    {
     "name": "stdout",
     "output_type": "stream",
     "text": [
      "                   all        166        166          1          1      0.995      0.977      0.982      0.982      0.989      0.947\n"
     ]
    },
    {
     "name": "stderr",
     "output_type": "stream",
     "text": [
      "\n"
     ]
    },
    {
     "name": "stdout",
     "output_type": "stream",
     "text": [
      "\n",
      "      Epoch    GPU_mem   box_loss  pose_loss  kobj_loss   cls_loss   dfl_loss  Instances       Size\n"
     ]
    },
    {
     "name": "stderr",
     "output_type": "stream",
     "text": [
      "    254/500      7.29G     0.2123     0.4447     0.3316     0.1793     0.8996         15        640: 100%|██████████| 111/111 [00:58<00:00,  1.90it/s]\n",
      "                 Class     Images  Instances      Box(P          R      mAP50  mAP50-95)     Pose(P          R      mAP50  mAP50-95): 100%|██████████| 11/11 [00:02<00:00,  3.77it/s]"
     ]
    },
    {
     "name": "stdout",
     "output_type": "stream",
     "text": [
      "                   all        166        166      0.999          1      0.995      0.975      0.982      0.982      0.986      0.924\n"
     ]
    },
    {
     "name": "stderr",
     "output_type": "stream",
     "text": [
      "\n"
     ]
    },
    {
     "name": "stdout",
     "output_type": "stream",
     "text": [
      "\n",
      "      Epoch    GPU_mem   box_loss  pose_loss  kobj_loss   cls_loss   dfl_loss  Instances       Size\n"
     ]
    },
    {
     "name": "stderr",
     "output_type": "stream",
     "text": [
      "    255/500      7.28G     0.2025     0.4433     0.3296     0.1736      0.885         13        640: 100%|██████████| 111/111 [00:58<00:00,  1.90it/s]\n",
      "                 Class     Images  Instances      Box(P          R      mAP50  mAP50-95)     Pose(P          R      mAP50  mAP50-95): 100%|██████████| 11/11 [00:02<00:00,  3.74it/s]"
     ]
    },
    {
     "name": "stdout",
     "output_type": "stream",
     "text": [
      "                   all        166        166      0.999          1      0.995      0.972      0.969       0.97      0.965      0.922\n"
     ]
    },
    {
     "name": "stderr",
     "output_type": "stream",
     "text": [
      "\n"
     ]
    },
    {
     "name": "stdout",
     "output_type": "stream",
     "text": [
      "\n",
      "      Epoch    GPU_mem   box_loss  pose_loss  kobj_loss   cls_loss   dfl_loss  Instances       Size\n"
     ]
    },
    {
     "name": "stderr",
     "output_type": "stream",
     "text": [
      "    256/500       7.3G     0.2175     0.4547     0.3288     0.1779     0.8955         12        640: 100%|██████████| 111/111 [00:58<00:00,  1.90it/s]\n",
      "                 Class     Images  Instances      Box(P          R      mAP50  mAP50-95)     Pose(P          R      mAP50  mAP50-95): 100%|██████████| 11/11 [00:02<00:00,  3.73it/s]"
     ]
    },
    {
     "name": "stdout",
     "output_type": "stream",
     "text": [
      "                   all        166        166          1          1      0.995      0.972      0.982      0.982      0.978      0.925\n"
     ]
    },
    {
     "name": "stderr",
     "output_type": "stream",
     "text": [
      "\n"
     ]
    },
    {
     "name": "stdout",
     "output_type": "stream",
     "text": [
      "\n",
      "      Epoch    GPU_mem   box_loss  pose_loss  kobj_loss   cls_loss   dfl_loss  Instances       Size\n"
     ]
    },
    {
     "name": "stderr",
     "output_type": "stream",
     "text": [
      "    257/500      7.25G     0.2159     0.4744     0.3367     0.1822     0.8873         14        640: 100%|██████████| 111/111 [00:58<00:00,  1.90it/s]\n",
      "                 Class     Images  Instances      Box(P          R      mAP50  mAP50-95)     Pose(P          R      mAP50  mAP50-95): 100%|██████████| 11/11 [00:02<00:00,  3.72it/s]"
     ]
    },
    {
     "name": "stdout",
     "output_type": "stream",
     "text": [
      "                   all        166        166      0.999          1      0.995      0.969      0.969       0.97       0.97      0.922\n"
     ]
    },
    {
     "name": "stderr",
     "output_type": "stream",
     "text": [
      "\n"
     ]
    },
    {
     "name": "stdout",
     "output_type": "stream",
     "text": [
      "\n",
      "      Epoch    GPU_mem   box_loss  pose_loss  kobj_loss   cls_loss   dfl_loss  Instances       Size\n"
     ]
    },
    {
     "name": "stderr",
     "output_type": "stream",
     "text": [
      "    258/500      7.29G     0.2132      0.424     0.3304     0.1806     0.8931         12        640: 100%|██████████| 111/111 [00:58<00:00,  1.90it/s]\n",
      "                 Class     Images  Instances      Box(P          R      mAP50  mAP50-95)     Pose(P          R      mAP50  mAP50-95): 100%|██████████| 11/11 [00:02<00:00,  3.72it/s]"
     ]
    },
    {
     "name": "stdout",
     "output_type": "stream",
     "text": [
      "                   all        166        166          1          1      0.995      0.969      0.976      0.976      0.966      0.919\n"
     ]
    },
    {
     "name": "stderr",
     "output_type": "stream",
     "text": [
      "\n"
     ]
    },
    {
     "name": "stdout",
     "output_type": "stream",
     "text": [
      "\n",
      "      Epoch    GPU_mem   box_loss  pose_loss  kobj_loss   cls_loss   dfl_loss  Instances       Size\n"
     ]
    },
    {
     "name": "stderr",
     "output_type": "stream",
     "text": [
      "    259/500      7.03G     0.2037     0.4483     0.3189     0.1757     0.8907         11        640: 100%|██████████| 111/111 [00:58<00:00,  1.90it/s]\n",
      "                 Class     Images  Instances      Box(P          R      mAP50  mAP50-95)     Pose(P          R      mAP50  mAP50-95): 100%|██████████| 11/11 [00:02<00:00,  3.73it/s]"
     ]
    },
    {
     "name": "stdout",
     "output_type": "stream",
     "text": [
      "                   all        166        166          1          1      0.995      0.968      0.982      0.982      0.987      0.936\n"
     ]
    },
    {
     "name": "stderr",
     "output_type": "stream",
     "text": [
      "\n"
     ]
    },
    {
     "name": "stdout",
     "output_type": "stream",
     "text": [
      "\n",
      "      Epoch    GPU_mem   box_loss  pose_loss  kobj_loss   cls_loss   dfl_loss  Instances       Size\n"
     ]
    },
    {
     "name": "stderr",
     "output_type": "stream",
     "text": [
      "    260/500      7.24G     0.2094     0.5099     0.3264     0.1774     0.8961         14        640: 100%|██████████| 111/111 [00:58<00:00,  1.91it/s]\n",
      "                 Class     Images  Instances      Box(P          R      mAP50  mAP50-95)     Pose(P          R      mAP50  mAP50-95): 100%|██████████| 11/11 [00:02<00:00,  3.76it/s]"
     ]
    },
    {
     "name": "stdout",
     "output_type": "stream",
     "text": [
      "                   all        166        166          1          1      0.995      0.975      0.982      0.982      0.985      0.928\n"
     ]
    },
    {
     "name": "stderr",
     "output_type": "stream",
     "text": [
      "\n"
     ]
    },
    {
     "name": "stdout",
     "output_type": "stream",
     "text": [
      "\n",
      "      Epoch    GPU_mem   box_loss  pose_loss  kobj_loss   cls_loss   dfl_loss  Instances       Size\n"
     ]
    },
    {
     "name": "stderr",
     "output_type": "stream",
     "text": [
      "    261/500      7.29G     0.2134     0.4898     0.3333     0.1805     0.8947         10        640: 100%|██████████| 111/111 [00:58<00:00,  1.90it/s]\n",
      "                 Class     Images  Instances      Box(P          R      mAP50  mAP50-95)     Pose(P          R      mAP50  mAP50-95): 100%|██████████| 11/11 [00:02<00:00,  3.73it/s]"
     ]
    },
    {
     "name": "stdout",
     "output_type": "stream",
     "text": [
      "                   all        166        166          1          1      0.995      0.977       0.97       0.97      0.972      0.937\n"
     ]
    },
    {
     "name": "stderr",
     "output_type": "stream",
     "text": [
      "\n"
     ]
    },
    {
     "name": "stdout",
     "output_type": "stream",
     "text": [
      "\n",
      "      Epoch    GPU_mem   box_loss  pose_loss  kobj_loss   cls_loss   dfl_loss  Instances       Size\n"
     ]
    },
    {
     "name": "stderr",
     "output_type": "stream",
     "text": [
      "    262/500      7.27G     0.2056     0.4942     0.3319     0.1768     0.8868          7        640: 100%|██████████| 111/111 [00:58<00:00,  1.91it/s]\n",
      "                 Class     Images  Instances      Box(P          R      mAP50  mAP50-95)     Pose(P          R      mAP50  mAP50-95): 100%|██████████| 11/11 [00:02<00:00,  3.73it/s]"
     ]
    },
    {
     "name": "stdout",
     "output_type": "stream",
     "text": [
      "                   all        166        166          1          1      0.995      0.974      0.952      0.952      0.964      0.936\n"
     ]
    },
    {
     "name": "stderr",
     "output_type": "stream",
     "text": [
      "\n"
     ]
    },
    {
     "name": "stdout",
     "output_type": "stream",
     "text": [
      "\n",
      "      Epoch    GPU_mem   box_loss  pose_loss  kobj_loss   cls_loss   dfl_loss  Instances       Size\n"
     ]
    },
    {
     "name": "stderr",
     "output_type": "stream",
     "text": [
      "    263/500       7.3G     0.2118     0.4534     0.3295     0.1756     0.8924         14        640: 100%|██████████| 111/111 [00:58<00:00,  1.91it/s]\n",
      "                 Class     Images  Instances      Box(P          R      mAP50  mAP50-95)     Pose(P          R      mAP50  mAP50-95): 100%|██████████| 11/11 [00:02<00:00,  3.77it/s]"
     ]
    },
    {
     "name": "stdout",
     "output_type": "stream",
     "text": [
      "                   all        166        166          1          1      0.995      0.976      0.958      0.958      0.974      0.949\n"
     ]
    },
    {
     "name": "stderr",
     "output_type": "stream",
     "text": [
      "\n"
     ]
    },
    {
     "name": "stdout",
     "output_type": "stream",
     "text": [
      "\n",
      "      Epoch    GPU_mem   box_loss  pose_loss  kobj_loss   cls_loss   dfl_loss  Instances       Size\n"
     ]
    },
    {
     "name": "stderr",
     "output_type": "stream",
     "text": [
      "    264/500      7.29G     0.2032     0.4356     0.3261     0.1728     0.8917         14        640: 100%|██████████| 111/111 [00:58<00:00,  1.90it/s]\n",
      "                 Class     Images  Instances      Box(P          R      mAP50  mAP50-95)     Pose(P          R      mAP50  mAP50-95): 100%|██████████| 11/11 [00:02<00:00,  3.75it/s]"
     ]
    },
    {
     "name": "stdout",
     "output_type": "stream",
     "text": [
      "                   all        166        166          1          1      0.995       0.97      0.946      0.946      0.962      0.939\n"
     ]
    },
    {
     "name": "stderr",
     "output_type": "stream",
     "text": [
      "\n"
     ]
    },
    {
     "name": "stdout",
     "output_type": "stream",
     "text": [
      "\n",
      "      Epoch    GPU_mem   box_loss  pose_loss  kobj_loss   cls_loss   dfl_loss  Instances       Size\n"
     ]
    },
    {
     "name": "stderr",
     "output_type": "stream",
     "text": [
      "    265/500      7.26G     0.2099     0.4519     0.3194     0.1758     0.8954         12        640: 100%|██████████| 111/111 [00:58<00:00,  1.90it/s]\n",
      "                 Class     Images  Instances      Box(P          R      mAP50  mAP50-95)     Pose(P          R      mAP50  mAP50-95): 100%|██████████| 11/11 [00:02<00:00,  3.72it/s]"
     ]
    },
    {
     "name": "stdout",
     "output_type": "stream",
     "text": [
      "                   all        166        166          1          1      0.995       0.97      0.952      0.952      0.965      0.945\n"
     ]
    },
    {
     "name": "stderr",
     "output_type": "stream",
     "text": [
      "\n"
     ]
    },
    {
     "name": "stdout",
     "output_type": "stream",
     "text": [
      "\n",
      "      Epoch    GPU_mem   box_loss  pose_loss  kobj_loss   cls_loss   dfl_loss  Instances       Size\n"
     ]
    },
    {
     "name": "stderr",
     "output_type": "stream",
     "text": [
      "    266/500      7.27G     0.2019     0.4467     0.3348     0.1772     0.8898         11        640: 100%|██████████| 111/111 [00:58<00:00,  1.90it/s]\n",
      "                 Class     Images  Instances      Box(P          R      mAP50  mAP50-95)     Pose(P          R      mAP50  mAP50-95): 100%|██████████| 11/11 [00:02<00:00,  3.68it/s]"
     ]
    },
    {
     "name": "stdout",
     "output_type": "stream",
     "text": [
      "                   all        166        166          1          1      0.995       0.97      0.952      0.952      0.962      0.923\n"
     ]
    },
    {
     "name": "stderr",
     "output_type": "stream",
     "text": [
      "\n"
     ]
    },
    {
     "name": "stdout",
     "output_type": "stream",
     "text": [
      "\n",
      "      Epoch    GPU_mem   box_loss  pose_loss  kobj_loss   cls_loss   dfl_loss  Instances       Size\n"
     ]
    },
    {
     "name": "stderr",
     "output_type": "stream",
     "text": [
      "    267/500      6.99G     0.2107     0.4538     0.3256     0.1784     0.8852         14        640: 100%|██████████| 111/111 [00:58<00:00,  1.91it/s]\n",
      "                 Class     Images  Instances      Box(P          R      mAP50  mAP50-95)     Pose(P          R      mAP50  mAP50-95): 100%|██████████| 11/11 [00:02<00:00,  3.74it/s]"
     ]
    },
    {
     "name": "stdout",
     "output_type": "stream",
     "text": [
      "                   all        166        166          1          1      0.995      0.972      0.946      0.946      0.959       0.94\n"
     ]
    },
    {
     "name": "stderr",
     "output_type": "stream",
     "text": [
      "\n"
     ]
    },
    {
     "name": "stdout",
     "output_type": "stream",
     "text": [
      "\n",
      "      Epoch    GPU_mem   box_loss  pose_loss  kobj_loss   cls_loss   dfl_loss  Instances       Size\n"
     ]
    },
    {
     "name": "stderr",
     "output_type": "stream",
     "text": [
      "    268/500      7.28G      0.208     0.4541     0.3362      0.173     0.8856         11        640: 100%|██████████| 111/111 [00:58<00:00,  1.90it/s]\n",
      "                 Class     Images  Instances      Box(P          R      mAP50  mAP50-95)     Pose(P          R      mAP50  mAP50-95): 100%|██████████| 11/11 [00:02<00:00,  3.71it/s]"
     ]
    },
    {
     "name": "stdout",
     "output_type": "stream",
     "text": [
      "                   all        166        166          1          1      0.995      0.979       0.97       0.97      0.977      0.946\n"
     ]
    },
    {
     "name": "stderr",
     "output_type": "stream",
     "text": [
      "\n"
     ]
    },
    {
     "name": "stdout",
     "output_type": "stream",
     "text": [
      "\n",
      "      Epoch    GPU_mem   box_loss  pose_loss  kobj_loss   cls_loss   dfl_loss  Instances       Size\n"
     ]
    },
    {
     "name": "stderr",
     "output_type": "stream",
     "text": [
      "    269/500      7.25G     0.2019     0.4381     0.3179     0.1718     0.8894          7        640: 100%|██████████| 111/111 [00:58<00:00,  1.91it/s]\n",
      "                 Class     Images  Instances      Box(P          R      mAP50  mAP50-95)     Pose(P          R      mAP50  mAP50-95): 100%|██████████| 11/11 [00:03<00:00,  3.55it/s]"
     ]
    },
    {
     "name": "stdout",
     "output_type": "stream",
     "text": [
      "                   all        166        166          1          1      0.995       0.98      0.958      0.958      0.975      0.955\n"
     ]
    },
    {
     "name": "stderr",
     "output_type": "stream",
     "text": [
      "\n"
     ]
    },
    {
     "name": "stdout",
     "output_type": "stream",
     "text": [
      "\n",
      "      Epoch    GPU_mem   box_loss  pose_loss  kobj_loss   cls_loss   dfl_loss  Instances       Size\n"
     ]
    },
    {
     "name": "stderr",
     "output_type": "stream",
     "text": [
      "    270/500      7.27G     0.2041     0.4109     0.3313     0.1701     0.8922         13        640: 100%|██████████| 111/111 [00:58<00:00,  1.90it/s]\n",
      "                 Class     Images  Instances      Box(P          R      mAP50  mAP50-95)     Pose(P          R      mAP50  mAP50-95): 100%|██████████| 11/11 [00:03<00:00,  3.61it/s]"
     ]
    },
    {
     "name": "stdout",
     "output_type": "stream",
     "text": [
      "                   all        166        166          1          1      0.995      0.976      0.964      0.964      0.979      0.961\n"
     ]
    },
    {
     "name": "stderr",
     "output_type": "stream",
     "text": [
      "\n"
     ]
    },
    {
     "name": "stdout",
     "output_type": "stream",
     "text": [
      "\n",
      "      Epoch    GPU_mem   box_loss  pose_loss  kobj_loss   cls_loss   dfl_loss  Instances       Size\n"
     ]
    },
    {
     "name": "stderr",
     "output_type": "stream",
     "text": [
      "    271/500      7.28G     0.2041     0.4553     0.3273     0.1664     0.8865          9        640: 100%|██████████| 111/111 [00:58<00:00,  1.90it/s]\n",
      "                 Class     Images  Instances      Box(P          R      mAP50  mAP50-95)     Pose(P          R      mAP50  mAP50-95): 100%|██████████| 11/11 [00:03<00:00,  3.64it/s]"
     ]
    },
    {
     "name": "stdout",
     "output_type": "stream",
     "text": [
      "                   all        166        166          1          1      0.995      0.978      0.964      0.964      0.977      0.949\n"
     ]
    },
    {
     "name": "stderr",
     "output_type": "stream",
     "text": [
      "\n"
     ]
    },
    {
     "name": "stdout",
     "output_type": "stream",
     "text": [
      "\n",
      "      Epoch    GPU_mem   box_loss  pose_loss  kobj_loss   cls_loss   dfl_loss  Instances       Size\n"
     ]
    },
    {
     "name": "stderr",
     "output_type": "stream",
     "text": [
      "    272/500       7.3G     0.2015     0.4437     0.3173     0.1703     0.8908         14        640: 100%|██████████| 111/111 [00:58<00:00,  1.91it/s]\n",
      "                 Class     Images  Instances      Box(P          R      mAP50  mAP50-95)     Pose(P          R      mAP50  mAP50-95): 100%|██████████| 11/11 [00:03<00:00,  3.67it/s]"
     ]
    },
    {
     "name": "stdout",
     "output_type": "stream",
     "text": [
      "                   all        166        166          1          1      0.995      0.972      0.988      0.988      0.992      0.947\n"
     ]
    },
    {
     "name": "stderr",
     "output_type": "stream",
     "text": [
      "\n"
     ]
    },
    {
     "name": "stdout",
     "output_type": "stream",
     "text": [
      "\n",
      "      Epoch    GPU_mem   box_loss  pose_loss  kobj_loss   cls_loss   dfl_loss  Instances       Size\n"
     ]
    },
    {
     "name": "stderr",
     "output_type": "stream",
     "text": [
      "    273/500      7.28G      0.193     0.4277     0.3248     0.1649     0.8808         14        640: 100%|██████████| 111/111 [00:58<00:00,  1.91it/s]\n",
      "                 Class     Images  Instances      Box(P          R      mAP50  mAP50-95)     Pose(P          R      mAP50  mAP50-95): 100%|██████████| 11/11 [00:02<00:00,  3.71it/s]"
     ]
    },
    {
     "name": "stdout",
     "output_type": "stream",
     "text": [
      "                   all        166        166          1          1      0.995       0.98      0.982      0.982      0.989      0.953\n"
     ]
    },
    {
     "name": "stderr",
     "output_type": "stream",
     "text": [
      "\n"
     ]
    },
    {
     "name": "stdout",
     "output_type": "stream",
     "text": [
      "\n",
      "      Epoch    GPU_mem   box_loss  pose_loss  kobj_loss   cls_loss   dfl_loss  Instances       Size\n"
     ]
    },
    {
     "name": "stderr",
     "output_type": "stream",
     "text": [
      "    274/500      7.29G     0.1936     0.4149      0.323     0.1677      0.885         14        640: 100%|██████████| 111/111 [00:58<00:00,  1.90it/s]\n",
      "                 Class     Images  Instances      Box(P          R      mAP50  mAP50-95)     Pose(P          R      mAP50  mAP50-95): 100%|██████████| 11/11 [00:02<00:00,  3.71it/s]"
     ]
    },
    {
     "name": "stdout",
     "output_type": "stream",
     "text": [
      "                   all        166        166          1          1      0.995      0.979      0.988      0.988      0.992       0.96\n"
     ]
    },
    {
     "name": "stderr",
     "output_type": "stream",
     "text": [
      "\n"
     ]
    },
    {
     "name": "stdout",
     "output_type": "stream",
     "text": [
      "\n",
      "      Epoch    GPU_mem   box_loss  pose_loss  kobj_loss   cls_loss   dfl_loss  Instances       Size\n"
     ]
    },
    {
     "name": "stderr",
     "output_type": "stream",
     "text": [
      "    275/500      6.99G     0.1975     0.4597     0.3225     0.1673     0.8867         12        640: 100%|██████████| 111/111 [00:58<00:00,  1.91it/s]\n",
      "                 Class     Images  Instances      Box(P          R      mAP50  mAP50-95)     Pose(P          R      mAP50  mAP50-95): 100%|██████████| 11/11 [00:02<00:00,  3.69it/s]"
     ]
    },
    {
     "name": "stdout",
     "output_type": "stream",
     "text": [
      "                   all        166        166          1          1      0.995      0.974      0.964      0.964      0.976      0.957\n"
     ]
    },
    {
     "name": "stderr",
     "output_type": "stream",
     "text": [
      "\n"
     ]
    },
    {
     "name": "stdout",
     "output_type": "stream",
     "text": [
      "\n",
      "      Epoch    GPU_mem   box_loss  pose_loss  kobj_loss   cls_loss   dfl_loss  Instances       Size\n"
     ]
    },
    {
     "name": "stderr",
     "output_type": "stream",
     "text": [
      "    276/500      7.28G     0.1948     0.4001     0.3298     0.1675     0.8825         13        640: 100%|██████████| 111/111 [00:58<00:00,  1.90it/s]\n",
      "                 Class     Images  Instances      Box(P          R      mAP50  mAP50-95)     Pose(P          R      mAP50  mAP50-95): 100%|██████████| 11/11 [00:02<00:00,  3.70it/s]"
     ]
    },
    {
     "name": "stdout",
     "output_type": "stream",
     "text": [
      "                   all        166        166          1          1      0.995      0.973      0.976      0.976      0.984      0.943\n"
     ]
    },
    {
     "name": "stderr",
     "output_type": "stream",
     "text": [
      "\n"
     ]
    },
    {
     "name": "stdout",
     "output_type": "stream",
     "text": [
      "\n",
      "      Epoch    GPU_mem   box_loss  pose_loss  kobj_loss   cls_loss   dfl_loss  Instances       Size\n"
     ]
    },
    {
     "name": "stderr",
     "output_type": "stream",
     "text": [
      "    277/500      7.05G     0.2007     0.4328     0.3287     0.1682     0.8877         15        640: 100%|██████████| 111/111 [00:58<00:00,  1.90it/s]\n",
      "                 Class     Images  Instances      Box(P          R      mAP50  mAP50-95)     Pose(P          R      mAP50  mAP50-95): 100%|██████████| 11/11 [00:02<00:00,  3.71it/s]"
     ]
    },
    {
     "name": "stdout",
     "output_type": "stream",
     "text": [
      "                   all        166        166          1          1      0.995      0.974       0.97       0.97      0.973      0.931\n"
     ]
    },
    {
     "name": "stderr",
     "output_type": "stream",
     "text": [
      "\n"
     ]
    },
    {
     "name": "stdout",
     "output_type": "stream",
     "text": [
      "\n",
      "      Epoch    GPU_mem   box_loss  pose_loss  kobj_loss   cls_loss   dfl_loss  Instances       Size\n"
     ]
    },
    {
     "name": "stderr",
     "output_type": "stream",
     "text": [
      "    278/500      7.29G     0.2027     0.4419     0.3245     0.1682     0.8846         15        640: 100%|██████████| 111/111 [00:58<00:00,  1.90it/s]\n",
      "                 Class     Images  Instances      Box(P          R      mAP50  mAP50-95)     Pose(P          R      mAP50  mAP50-95): 100%|██████████| 11/11 [00:02<00:00,  3.73it/s]"
     ]
    },
    {
     "name": "stdout",
     "output_type": "stream",
     "text": [
      "                   all        166        166          1          1      0.995      0.975       0.97       0.97      0.979       0.95\n"
     ]
    },
    {
     "name": "stderr",
     "output_type": "stream",
     "text": [
      "\n"
     ]
    },
    {
     "name": "stdout",
     "output_type": "stream",
     "text": [
      "\n",
      "      Epoch    GPU_mem   box_loss  pose_loss  kobj_loss   cls_loss   dfl_loss  Instances       Size\n"
     ]
    },
    {
     "name": "stderr",
     "output_type": "stream",
     "text": [
      "    279/500      7.27G     0.1948     0.4114     0.3297     0.1617     0.8825         11        640: 100%|██████████| 111/111 [00:58<00:00,  1.90it/s]\n",
      "                 Class     Images  Instances      Box(P          R      mAP50  mAP50-95)     Pose(P          R      mAP50  mAP50-95): 100%|██████████| 11/11 [00:02<00:00,  3.71it/s]"
     ]
    },
    {
     "name": "stdout",
     "output_type": "stream",
     "text": [
      "                   all        166        166          1          1      0.995      0.975      0.946      0.946      0.961      0.946\n"
     ]
    },
    {
     "name": "stderr",
     "output_type": "stream",
     "text": [
      "\n"
     ]
    },
    {
     "name": "stdout",
     "output_type": "stream",
     "text": [
      "\n",
      "      Epoch    GPU_mem   box_loss  pose_loss  kobj_loss   cls_loss   dfl_loss  Instances       Size\n"
     ]
    },
    {
     "name": "stderr",
     "output_type": "stream",
     "text": [
      "    280/500      7.27G     0.2025     0.4048     0.3287     0.1704     0.8864         10        640: 100%|██████████| 111/111 [00:58<00:00,  1.90it/s]\n",
      "                 Class     Images  Instances      Box(P          R      mAP50  mAP50-95)     Pose(P          R      mAP50  mAP50-95): 100%|██████████| 11/11 [00:02<00:00,  3.75it/s]"
     ]
    },
    {
     "name": "stdout",
     "output_type": "stream",
     "text": [
      "                   all        166        166          1          1      0.995      0.977      0.976      0.976      0.978       0.94\n"
     ]
    },
    {
     "name": "stderr",
     "output_type": "stream",
     "text": [
      "\n"
     ]
    },
    {
     "name": "stdout",
     "output_type": "stream",
     "text": [
      "\n",
      "      Epoch    GPU_mem   box_loss  pose_loss  kobj_loss   cls_loss   dfl_loss  Instances       Size\n"
     ]
    },
    {
     "name": "stderr",
     "output_type": "stream",
     "text": [
      "    281/500      7.26G     0.1955     0.3973     0.3192     0.1724     0.8864         14        640: 100%|██████████| 111/111 [00:58<00:00,  1.91it/s]\n",
      "                 Class     Images  Instances      Box(P          R      mAP50  mAP50-95)     Pose(P          R      mAP50  mAP50-95): 100%|██████████| 11/11 [00:02<00:00,  3.67it/s]"
     ]
    },
    {
     "name": "stdout",
     "output_type": "stream",
     "text": [
      "                   all        166        166          1          1      0.995      0.977      0.946      0.946      0.953      0.939\n"
     ]
    },
    {
     "name": "stderr",
     "output_type": "stream",
     "text": [
      "\n"
     ]
    },
    {
     "name": "stdout",
     "output_type": "stream",
     "text": [
      "\n",
      "      Epoch    GPU_mem   box_loss  pose_loss  kobj_loss   cls_loss   dfl_loss  Instances       Size\n"
     ]
    },
    {
     "name": "stderr",
     "output_type": "stream",
     "text": [
      "    282/500      7.29G     0.2094      0.409     0.3256     0.1721     0.8877         11        640: 100%|██████████| 111/111 [00:58<00:00,  1.90it/s]\n",
      "                 Class     Images  Instances      Box(P          R      mAP50  mAP50-95)     Pose(P          R      mAP50  mAP50-95): 100%|██████████| 11/11 [00:02<00:00,  3.71it/s]"
     ]
    },
    {
     "name": "stdout",
     "output_type": "stream",
     "text": [
      "                   all        166        166          1          1      0.995      0.974      0.952      0.952      0.965      0.943\n"
     ]
    },
    {
     "name": "stderr",
     "output_type": "stream",
     "text": [
      "\n"
     ]
    },
    {
     "name": "stdout",
     "output_type": "stream",
     "text": [
      "\n",
      "      Epoch    GPU_mem   box_loss  pose_loss  kobj_loss   cls_loss   dfl_loss  Instances       Size\n"
     ]
    },
    {
     "name": "stderr",
     "output_type": "stream",
     "text": [
      "    283/500      7.01G      0.198     0.4134     0.3221     0.1696     0.8811         14        640: 100%|██████████| 111/111 [00:58<00:00,  1.91it/s]\n",
      "                 Class     Images  Instances      Box(P          R      mAP50  mAP50-95)     Pose(P          R      mAP50  mAP50-95): 100%|██████████| 11/11 [00:02<00:00,  3.73it/s]"
     ]
    },
    {
     "name": "stdout",
     "output_type": "stream",
     "text": [
      "                   all        166        166          1          1      0.995      0.974       0.97       0.97      0.981      0.952\n"
     ]
    },
    {
     "name": "stderr",
     "output_type": "stream",
     "text": [
      "\n"
     ]
    },
    {
     "name": "stdout",
     "output_type": "stream",
     "text": [
      "\n",
      "      Epoch    GPU_mem   box_loss  pose_loss  kobj_loss   cls_loss   dfl_loss  Instances       Size\n"
     ]
    },
    {
     "name": "stderr",
     "output_type": "stream",
     "text": [
      "    284/500      7.26G     0.1924     0.3944      0.328     0.1666     0.8797         16        640: 100%|██████████| 111/111 [00:58<00:00,  1.91it/s]\n",
      "                 Class     Images  Instances      Box(P          R      mAP50  mAP50-95)     Pose(P          R      mAP50  mAP50-95): 100%|██████████| 11/11 [00:02<00:00,  3.72it/s]"
     ]
    },
    {
     "name": "stdout",
     "output_type": "stream",
     "text": [
      "                   all        166        166      0.999          1      0.995      0.975      0.952      0.952       0.97      0.951\n"
     ]
    },
    {
     "name": "stderr",
     "output_type": "stream",
     "text": [
      "\n"
     ]
    },
    {
     "name": "stdout",
     "output_type": "stream",
     "text": [
      "\n",
      "      Epoch    GPU_mem   box_loss  pose_loss  kobj_loss   cls_loss   dfl_loss  Instances       Size\n"
     ]
    },
    {
     "name": "stderr",
     "output_type": "stream",
     "text": [
      "    285/500      7.26G     0.1988     0.3731     0.3285      0.169     0.8863         11        640: 100%|██████████| 111/111 [00:58<00:00,  1.90it/s]\n",
      "                 Class     Images  Instances      Box(P          R      mAP50  mAP50-95)     Pose(P          R      mAP50  mAP50-95): 100%|██████████| 11/11 [00:03<00:00,  3.66it/s]"
     ]
    },
    {
     "name": "stdout",
     "output_type": "stream",
     "text": [
      "                   all        166        166          1          1      0.995      0.977      0.958      0.958      0.972       0.95\n"
     ]
    },
    {
     "name": "stderr",
     "output_type": "stream",
     "text": [
      "\n"
     ]
    },
    {
     "name": "stdout",
     "output_type": "stream",
     "text": [
      "\n",
      "      Epoch    GPU_mem   box_loss  pose_loss  kobj_loss   cls_loss   dfl_loss  Instances       Size\n"
     ]
    },
    {
     "name": "stderr",
     "output_type": "stream",
     "text": [
      "    286/500      7.27G     0.1964     0.4093     0.3208     0.1698     0.8843         11        640: 100%|██████████| 111/111 [00:58<00:00,  1.91it/s]\n",
      "                 Class     Images  Instances      Box(P          R      mAP50  mAP50-95)     Pose(P          R      mAP50  mAP50-95): 100%|██████████| 11/11 [00:02<00:00,  3.74it/s]"
     ]
    },
    {
     "name": "stdout",
     "output_type": "stream",
     "text": [
      "                   all        166        166          1          1      0.995      0.977      0.958      0.958      0.964      0.945\n"
     ]
    },
    {
     "name": "stderr",
     "output_type": "stream",
     "text": [
      "\n"
     ]
    },
    {
     "name": "stdout",
     "output_type": "stream",
     "text": [
      "\n",
      "      Epoch    GPU_mem   box_loss  pose_loss  kobj_loss   cls_loss   dfl_loss  Instances       Size\n"
     ]
    },
    {
     "name": "stderr",
     "output_type": "stream",
     "text": [
      "    287/500      7.27G     0.1973     0.3883     0.3103     0.1644     0.8861         14        640: 100%|██████████| 111/111 [00:58<00:00,  1.90it/s]\n",
      "                 Class     Images  Instances      Box(P          R      mAP50  mAP50-95)     Pose(P          R      mAP50  mAP50-95): 100%|██████████| 11/11 [00:02<00:00,  3.70it/s]"
     ]
    },
    {
     "name": "stdout",
     "output_type": "stream",
     "text": [
      "                   all        166        166          1          1      0.995       0.98      0.976      0.976      0.985       0.95\n"
     ]
    },
    {
     "name": "stderr",
     "output_type": "stream",
     "text": [
      "\n"
     ]
    },
    {
     "name": "stdout",
     "output_type": "stream",
     "text": [
      "\n",
      "      Epoch    GPU_mem   box_loss  pose_loss  kobj_loss   cls_loss   dfl_loss  Instances       Size\n"
     ]
    },
    {
     "name": "stderr",
     "output_type": "stream",
     "text": [
      "    288/500       7.3G       0.19       0.44     0.3239     0.1637     0.8738         12        640: 100%|██████████| 111/111 [00:58<00:00,  1.90it/s]\n",
      "                 Class     Images  Instances      Box(P          R      mAP50  mAP50-95)     Pose(P          R      mAP50  mAP50-95): 100%|██████████| 11/11 [00:02<00:00,  3.71it/s]"
     ]
    },
    {
     "name": "stdout",
     "output_type": "stream",
     "text": [
      "                   all        166        166          1          1      0.995       0.98      0.964      0.964      0.975      0.951\n"
     ]
    },
    {
     "name": "stderr",
     "output_type": "stream",
     "text": [
      "\n"
     ]
    },
    {
     "name": "stdout",
     "output_type": "stream",
     "text": [
      "\n",
      "      Epoch    GPU_mem   box_loss  pose_loss  kobj_loss   cls_loss   dfl_loss  Instances       Size\n"
     ]
    },
    {
     "name": "stderr",
     "output_type": "stream",
     "text": [
      "    289/500      7.25G     0.1875     0.4155     0.3212     0.1642     0.8807         14        640: 100%|██████████| 111/111 [00:58<00:00,  1.90it/s]\n",
      "                 Class     Images  Instances      Box(P          R      mAP50  mAP50-95)     Pose(P          R      mAP50  mAP50-95): 100%|██████████| 11/11 [00:03<00:00,  3.60it/s]"
     ]
    },
    {
     "name": "stdout",
     "output_type": "stream",
     "text": [
      "                   all        166        166          1          1      0.995      0.976       0.97       0.97      0.981       0.95\n"
     ]
    },
    {
     "name": "stderr",
     "output_type": "stream",
     "text": [
      "\n"
     ]
    },
    {
     "name": "stdout",
     "output_type": "stream",
     "text": [
      "\n",
      "      Epoch    GPU_mem   box_loss  pose_loss  kobj_loss   cls_loss   dfl_loss  Instances       Size\n"
     ]
    },
    {
     "name": "stderr",
     "output_type": "stream",
     "text": [
      "    290/500      7.27G     0.1884     0.3988     0.3157      0.161     0.8845         10        640: 100%|██████████| 111/111 [00:58<00:00,  1.91it/s]\n",
      "                 Class     Images  Instances      Box(P          R      mAP50  mAP50-95)     Pose(P          R      mAP50  mAP50-95): 100%|██████████| 11/11 [00:02<00:00,  3.68it/s]"
     ]
    },
    {
     "name": "stdout",
     "output_type": "stream",
     "text": [
      "                   all        166        166          1          1      0.995      0.982      0.976      0.976      0.983      0.955\n"
     ]
    },
    {
     "name": "stderr",
     "output_type": "stream",
     "text": [
      "\n"
     ]
    },
    {
     "name": "stdout",
     "output_type": "stream",
     "text": [
      "\n",
      "      Epoch    GPU_mem   box_loss  pose_loss  kobj_loss   cls_loss   dfl_loss  Instances       Size\n"
     ]
    },
    {
     "name": "stderr",
     "output_type": "stream",
     "text": [
      "    291/500      7.02G     0.1882     0.3732     0.3178     0.1625      0.882         15        640: 100%|██████████| 111/111 [00:58<00:00,  1.90it/s]\n",
      "                 Class     Images  Instances      Box(P          R      mAP50  mAP50-95)     Pose(P          R      mAP50  mAP50-95): 100%|██████████| 11/11 [00:02<00:00,  3.68it/s]"
     ]
    },
    {
     "name": "stdout",
     "output_type": "stream",
     "text": [
      "                   all        166        166          1          1      0.995      0.978      0.982      0.982      0.989      0.956\n"
     ]
    },
    {
     "name": "stderr",
     "output_type": "stream",
     "text": [
      "\n"
     ]
    },
    {
     "name": "stdout",
     "output_type": "stream",
     "text": [
      "\n",
      "      Epoch    GPU_mem   box_loss  pose_loss  kobj_loss   cls_loss   dfl_loss  Instances       Size\n"
     ]
    },
    {
     "name": "stderr",
     "output_type": "stream",
     "text": [
      "    292/500      7.28G     0.1939      0.409      0.328     0.1685     0.8882         14        640: 100%|██████████| 111/111 [00:58<00:00,  1.90it/s]\n",
      "                 Class     Images  Instances      Box(P          R      mAP50  mAP50-95)     Pose(P          R      mAP50  mAP50-95): 100%|██████████| 11/11 [00:02<00:00,  3.74it/s]"
     ]
    },
    {
     "name": "stdout",
     "output_type": "stream",
     "text": [
      "                   all        166        166          1          1      0.995      0.977      0.982      0.982      0.988       0.95\n"
     ]
    },
    {
     "name": "stderr",
     "output_type": "stream",
     "text": [
      "\n"
     ]
    },
    {
     "name": "stdout",
     "output_type": "stream",
     "text": [
      "\n",
      "      Epoch    GPU_mem   box_loss  pose_loss  kobj_loss   cls_loss   dfl_loss  Instances       Size\n"
     ]
    },
    {
     "name": "stderr",
     "output_type": "stream",
     "text": [
      "    293/500      6.86G     0.1935     0.4034     0.3126      0.163     0.8757         11        640: 100%|██████████| 111/111 [00:58<00:00,  1.90it/s]\n",
      "                 Class     Images  Instances      Box(P          R      mAP50  mAP50-95)     Pose(P          R      mAP50  mAP50-95): 100%|██████████| 11/11 [00:03<00:00,  3.65it/s]"
     ]
    },
    {
     "name": "stdout",
     "output_type": "stream",
     "text": [
      "                   all        166        166      0.999          1      0.995      0.974      0.963      0.964      0.975      0.948\n"
     ]
    },
    {
     "name": "stderr",
     "output_type": "stream",
     "text": [
      "\n"
     ]
    },
    {
     "name": "stdout",
     "output_type": "stream",
     "text": [
      "\n",
      "      Epoch    GPU_mem   box_loss  pose_loss  kobj_loss   cls_loss   dfl_loss  Instances       Size\n"
     ]
    },
    {
     "name": "stderr",
     "output_type": "stream",
     "text": [
      "    294/500      7.29G     0.1867     0.3846     0.3124     0.1614     0.8856         13        640: 100%|██████████| 111/111 [00:58<00:00,  1.90it/s]\n",
      "                 Class     Images  Instances      Box(P          R      mAP50  mAP50-95)     Pose(P          R      mAP50  mAP50-95): 100%|██████████| 11/11 [00:02<00:00,  3.71it/s]"
     ]
    },
    {
     "name": "stdout",
     "output_type": "stream",
     "text": [
      "                   all        166        166          1          1      0.995       0.98      0.958      0.958      0.972      0.943\n"
     ]
    },
    {
     "name": "stderr",
     "output_type": "stream",
     "text": [
      "\n"
     ]
    },
    {
     "name": "stdout",
     "output_type": "stream",
     "text": [
      "\n",
      "      Epoch    GPU_mem   box_loss  pose_loss  kobj_loss   cls_loss   dfl_loss  Instances       Size\n"
     ]
    },
    {
     "name": "stderr",
     "output_type": "stream",
     "text": [
      "    295/500       7.3G     0.1881     0.3465     0.3137     0.1659     0.8877         10        640: 100%|██████████| 111/111 [00:58<00:00,  1.91it/s]\n",
      "                 Class     Images  Instances      Box(P          R      mAP50  mAP50-95)     Pose(P          R      mAP50  mAP50-95): 100%|██████████| 11/11 [00:02<00:00,  3.67it/s]"
     ]
    },
    {
     "name": "stdout",
     "output_type": "stream",
     "text": [
      "                   all        166        166          1          1      0.995       0.98       0.97       0.97      0.982      0.925\n"
     ]
    },
    {
     "name": "stderr",
     "output_type": "stream",
     "text": [
      "\n"
     ]
    },
    {
     "name": "stdout",
     "output_type": "stream",
     "text": [
      "\n",
      "      Epoch    GPU_mem   box_loss  pose_loss  kobj_loss   cls_loss   dfl_loss  Instances       Size\n"
     ]
    },
    {
     "name": "stderr",
     "output_type": "stream",
     "text": [
      "    296/500      7.29G     0.1951     0.4235     0.3068     0.1683     0.8894         15        640: 100%|██████████| 111/111 [00:58<00:00,  1.90it/s]\n",
      "                 Class     Images  Instances      Box(P          R      mAP50  mAP50-95)     Pose(P          R      mAP50  mAP50-95): 100%|██████████| 11/11 [00:03<00:00,  3.64it/s]"
     ]
    },
    {
     "name": "stdout",
     "output_type": "stream",
     "text": [
      "                   all        166        166          1          1      0.995      0.979       0.97       0.97      0.983      0.942\n"
     ]
    },
    {
     "name": "stderr",
     "output_type": "stream",
     "text": [
      "\n"
     ]
    },
    {
     "name": "stdout",
     "output_type": "stream",
     "text": [
      "\n",
      "      Epoch    GPU_mem   box_loss  pose_loss  kobj_loss   cls_loss   dfl_loss  Instances       Size\n"
     ]
    },
    {
     "name": "stderr",
     "output_type": "stream",
     "text": [
      "    297/500      7.26G     0.1933     0.4033     0.3087     0.1633     0.8878         12        640: 100%|██████████| 111/111 [00:58<00:00,  1.90it/s]\n",
      "                 Class     Images  Instances      Box(P          R      mAP50  mAP50-95)     Pose(P          R      mAP50  mAP50-95): 100%|██████████| 11/11 [00:03<00:00,  3.61it/s]"
     ]
    },
    {
     "name": "stdout",
     "output_type": "stream",
     "text": [
      "                   all        166        166          1          1      0.995      0.979      0.958      0.958      0.972      0.936\n"
     ]
    },
    {
     "name": "stderr",
     "output_type": "stream",
     "text": [
      "\n"
     ]
    },
    {
     "name": "stdout",
     "output_type": "stream",
     "text": [
      "\n",
      "      Epoch    GPU_mem   box_loss  pose_loss  kobj_loss   cls_loss   dfl_loss  Instances       Size\n"
     ]
    },
    {
     "name": "stderr",
     "output_type": "stream",
     "text": [
      "    298/500      7.27G     0.1889     0.3994     0.3091      0.163     0.8871         10        640: 100%|██████████| 111/111 [00:58<00:00,  1.90it/s]\n",
      "                 Class     Images  Instances      Box(P          R      mAP50  mAP50-95)     Pose(P          R      mAP50  mAP50-95): 100%|██████████| 11/11 [00:03<00:00,  3.59it/s]"
     ]
    },
    {
     "name": "stdout",
     "output_type": "stream",
     "text": [
      "                   all        166        166          1          1      0.995      0.978       0.97       0.97       0.98      0.934\n"
     ]
    },
    {
     "name": "stderr",
     "output_type": "stream",
     "text": [
      "\n"
     ]
    },
    {
     "name": "stdout",
     "output_type": "stream",
     "text": [
      "\n",
      "      Epoch    GPU_mem   box_loss  pose_loss  kobj_loss   cls_loss   dfl_loss  Instances       Size\n"
     ]
    },
    {
     "name": "stderr",
     "output_type": "stream",
     "text": [
      "    299/500         7G     0.1828      0.379     0.3119     0.1581     0.8817         16        640: 100%|██████████| 111/111 [00:58<00:00,  1.90it/s]\n",
      "                 Class     Images  Instances      Box(P          R      mAP50  mAP50-95)     Pose(P          R      mAP50  mAP50-95): 100%|██████████| 11/11 [00:02<00:00,  3.68it/s]"
     ]
    },
    {
     "name": "stdout",
     "output_type": "stream",
     "text": [
      "                   all        166        166          1          1      0.995      0.982      0.976      0.976      0.968      0.938\n"
     ]
    },
    {
     "name": "stderr",
     "output_type": "stream",
     "text": [
      "\n"
     ]
    },
    {
     "name": "stdout",
     "output_type": "stream",
     "text": [
      "\n",
      "      Epoch    GPU_mem   box_loss  pose_loss  kobj_loss   cls_loss   dfl_loss  Instances       Size\n"
     ]
    },
    {
     "name": "stderr",
     "output_type": "stream",
     "text": [
      "    300/500      7.29G     0.1803     0.3907     0.3102     0.1567     0.8786          9        640: 100%|██████████| 111/111 [00:58<00:00,  1.90it/s]\n",
      "                 Class     Images  Instances      Box(P          R      mAP50  mAP50-95)     Pose(P          R      mAP50  mAP50-95): 100%|██████████| 11/11 [00:03<00:00,  3.65it/s]"
     ]
    },
    {
     "name": "stdout",
     "output_type": "stream",
     "text": [
      "                   all        166        166          1          1      0.995      0.982      0.964      0.964      0.966      0.929\n"
     ]
    },
    {
     "name": "stderr",
     "output_type": "stream",
     "text": [
      "\n"
     ]
    },
    {
     "name": "stdout",
     "output_type": "stream",
     "text": [
      "\n",
      "      Epoch    GPU_mem   box_loss  pose_loss  kobj_loss   cls_loss   dfl_loss  Instances       Size\n"
     ]
    },
    {
     "name": "stderr",
     "output_type": "stream",
     "text": [
      "    301/500      7.26G     0.1849     0.3742     0.2988     0.1569      0.881         14        640: 100%|██████████| 111/111 [00:58<00:00,  1.91it/s]\n",
      "                 Class     Images  Instances      Box(P          R      mAP50  mAP50-95)     Pose(P          R      mAP50  mAP50-95): 100%|██████████| 11/11 [00:02<00:00,  3.74it/s]"
     ]
    },
    {
     "name": "stdout",
     "output_type": "stream",
     "text": [
      "                   all        166        166          1          1      0.995       0.98      0.976      0.976      0.978      0.938\n"
     ]
    },
    {
     "name": "stderr",
     "output_type": "stream",
     "text": [
      "\n"
     ]
    },
    {
     "name": "stdout",
     "output_type": "stream",
     "text": [
      "\n",
      "      Epoch    GPU_mem   box_loss  pose_loss  kobj_loss   cls_loss   dfl_loss  Instances       Size\n"
     ]
    },
    {
     "name": "stderr",
     "output_type": "stream",
     "text": [
      "    302/500      7.29G     0.1833     0.3608     0.3079     0.1605     0.8791         13        640: 100%|██████████| 111/111 [00:58<00:00,  1.90it/s]\n",
      "                 Class     Images  Instances      Box(P          R      mAP50  mAP50-95)     Pose(P          R      mAP50  mAP50-95): 100%|██████████| 11/11 [00:03<00:00,  3.61it/s]"
     ]
    },
    {
     "name": "stdout",
     "output_type": "stream",
     "text": [
      "                   all        166        166          1          1      0.995      0.978       0.97       0.97      0.966       0.93\n"
     ]
    },
    {
     "name": "stderr",
     "output_type": "stream",
     "text": [
      "\n"
     ]
    },
    {
     "name": "stdout",
     "output_type": "stream",
     "text": [
      "\n",
      "      Epoch    GPU_mem   box_loss  pose_loss  kobj_loss   cls_loss   dfl_loss  Instances       Size\n"
     ]
    },
    {
     "name": "stderr",
     "output_type": "stream",
     "text": [
      "    303/500      7.27G     0.1838     0.4013     0.2984     0.1631     0.8867          8        640: 100%|██████████| 111/111 [00:58<00:00,  1.90it/s]\n",
      "                 Class     Images  Instances      Box(P          R      mAP50  mAP50-95)     Pose(P          R      mAP50  mAP50-95): 100%|██████████| 11/11 [00:02<00:00,  3.73it/s]"
     ]
    },
    {
     "name": "stdout",
     "output_type": "stream",
     "text": [
      "                   all        166        166          1          1      0.995      0.978       0.97       0.97      0.976      0.944\n"
     ]
    },
    {
     "name": "stderr",
     "output_type": "stream",
     "text": [
      "\n"
     ]
    },
    {
     "name": "stdout",
     "output_type": "stream",
     "text": [
      "\n",
      "      Epoch    GPU_mem   box_loss  pose_loss  kobj_loss   cls_loss   dfl_loss  Instances       Size\n"
     ]
    },
    {
     "name": "stderr",
     "output_type": "stream",
     "text": [
      "    304/500      7.28G     0.1834     0.4118     0.3013     0.1601     0.8861         10        640: 100%|██████████| 111/111 [00:58<00:00,  1.90it/s]\n",
      "                 Class     Images  Instances      Box(P          R      mAP50  mAP50-95)     Pose(P          R      mAP50  mAP50-95): 100%|██████████| 11/11 [00:03<00:00,  3.61it/s]"
     ]
    },
    {
     "name": "stdout",
     "output_type": "stream",
     "text": [
      "                   all        166        166          1          1      0.995      0.981      0.958      0.958      0.962      0.931\n"
     ]
    },
    {
     "name": "stderr",
     "output_type": "stream",
     "text": [
      "\n"
     ]
    },
    {
     "name": "stdout",
     "output_type": "stream",
     "text": [
      "\n",
      "      Epoch    GPU_mem   box_loss  pose_loss  kobj_loss   cls_loss   dfl_loss  Instances       Size\n"
     ]
    },
    {
     "name": "stderr",
     "output_type": "stream",
     "text": [
      "    305/500      7.27G     0.1764     0.3589     0.2987      0.154     0.8857         10        640: 100%|██████████| 111/111 [00:58<00:00,  1.90it/s]\n",
      "                 Class     Images  Instances      Box(P          R      mAP50  mAP50-95)     Pose(P          R      mAP50  mAP50-95): 100%|██████████| 11/11 [00:02<00:00,  3.72it/s]"
     ]
    },
    {
     "name": "stdout",
     "output_type": "stream",
     "text": [
      "                   all        166        166          1          1      0.995      0.976      0.964      0.964      0.966      0.936\n"
     ]
    },
    {
     "name": "stderr",
     "output_type": "stream",
     "text": [
      "\n"
     ]
    },
    {
     "name": "stdout",
     "output_type": "stream",
     "text": [
      "\n",
      "      Epoch    GPU_mem   box_loss  pose_loss  kobj_loss   cls_loss   dfl_loss  Instances       Size\n"
     ]
    },
    {
     "name": "stderr",
     "output_type": "stream",
     "text": [
      "    306/500      7.29G     0.1814     0.3912     0.3081     0.1546     0.8756          8        640: 100%|██████████| 111/111 [00:58<00:00,  1.91it/s]\n",
      "                 Class     Images  Instances      Box(P          R      mAP50  mAP50-95)     Pose(P          R      mAP50  mAP50-95): 100%|██████████| 11/11 [00:02<00:00,  3.74it/s]"
     ]
    },
    {
     "name": "stdout",
     "output_type": "stream",
     "text": [
      "                   all        166        166          1          1      0.995       0.98      0.976      0.976       0.98      0.922\n"
     ]
    },
    {
     "name": "stderr",
     "output_type": "stream",
     "text": [
      "\n"
     ]
    },
    {
     "name": "stdout",
     "output_type": "stream",
     "text": [
      "\n",
      "      Epoch    GPU_mem   box_loss  pose_loss  kobj_loss   cls_loss   dfl_loss  Instances       Size\n"
     ]
    },
    {
     "name": "stderr",
     "output_type": "stream",
     "text": [
      "    307/500         7G     0.1778     0.4288     0.2999     0.1597     0.8761         10        640: 100%|██████████| 111/111 [00:58<00:00,  1.91it/s]\n",
      "                 Class     Images  Instances      Box(P          R      mAP50  mAP50-95)     Pose(P          R      mAP50  mAP50-95): 100%|██████████| 11/11 [00:03<00:00,  3.62it/s]"
     ]
    },
    {
     "name": "stdout",
     "output_type": "stream",
     "text": [
      "                   all        166        166          1          1      0.995      0.977      0.976      0.976      0.974      0.925\n"
     ]
    },
    {
     "name": "stderr",
     "output_type": "stream",
     "text": [
      "\n"
     ]
    },
    {
     "name": "stdout",
     "output_type": "stream",
     "text": [
      "\n",
      "      Epoch    GPU_mem   box_loss  pose_loss  kobj_loss   cls_loss   dfl_loss  Instances       Size\n"
     ]
    },
    {
     "name": "stderr",
     "output_type": "stream",
     "text": [
      "    308/500      7.08G     0.1872     0.4015     0.2926      0.164     0.8819          8        640: 100%|██████████| 111/111 [00:58<00:00,  1.90it/s]\n",
      "                 Class     Images  Instances      Box(P          R      mAP50  mAP50-95)     Pose(P          R      mAP50  mAP50-95): 100%|██████████| 11/11 [00:02<00:00,  3.68it/s]"
     ]
    },
    {
     "name": "stdout",
     "output_type": "stream",
     "text": [
      "                   all        166        166          1          1      0.995      0.976      0.988      0.988      0.983      0.933\n"
     ]
    },
    {
     "name": "stderr",
     "output_type": "stream",
     "text": [
      "\n"
     ]
    },
    {
     "name": "stdout",
     "output_type": "stream",
     "text": [
      "\n",
      "      Epoch    GPU_mem   box_loss  pose_loss  kobj_loss   cls_loss   dfl_loss  Instances       Size\n"
     ]
    },
    {
     "name": "stderr",
     "output_type": "stream",
     "text": [
      "    309/500      7.26G     0.1917     0.3906      0.289     0.1639     0.8831         13        640: 100%|██████████| 111/111 [00:58<00:00,  1.90it/s]\n",
      "                 Class     Images  Instances      Box(P          R      mAP50  mAP50-95)     Pose(P          R      mAP50  mAP50-95): 100%|██████████| 11/11 [00:02<00:00,  3.71it/s]"
     ]
    },
    {
     "name": "stdout",
     "output_type": "stream",
     "text": [
      "                   all        166        166      0.992          1      0.995      0.979      0.938      0.946      0.936       0.92\n"
     ]
    },
    {
     "name": "stderr",
     "output_type": "stream",
     "text": [
      "\n"
     ]
    },
    {
     "name": "stdout",
     "output_type": "stream",
     "text": [
      "\n",
      "      Epoch    GPU_mem   box_loss  pose_loss  kobj_loss   cls_loss   dfl_loss  Instances       Size\n"
     ]
    },
    {
     "name": "stderr",
     "output_type": "stream",
     "text": [
      "    310/500      7.29G     0.1857     0.4102     0.2842     0.1604     0.8791         12        640: 100%|██████████| 111/111 [00:58<00:00,  1.90it/s]\n",
      "                 Class     Images  Instances      Box(P          R      mAP50  mAP50-95)     Pose(P          R      mAP50  mAP50-95): 100%|██████████| 11/11 [00:02<00:00,  3.70it/s]"
     ]
    },
    {
     "name": "stdout",
     "output_type": "stream",
     "text": [
      "                   all        166        166      0.992          1      0.995      0.981      0.951      0.958      0.952      0.933\n"
     ]
    },
    {
     "name": "stderr",
     "output_type": "stream",
     "text": [
      "\n"
     ]
    },
    {
     "name": "stdout",
     "output_type": "stream",
     "text": [
      "\n",
      "      Epoch    GPU_mem   box_loss  pose_loss  kobj_loss   cls_loss   dfl_loss  Instances       Size\n"
     ]
    },
    {
     "name": "stderr",
     "output_type": "stream",
     "text": [
      "    311/500      7.28G     0.1802     0.3944     0.2782     0.1594     0.8824         10        640: 100%|██████████| 111/111 [00:58<00:00,  1.91it/s]\n",
      "                 Class     Images  Instances      Box(P          R      mAP50  mAP50-95)     Pose(P          R      mAP50  mAP50-95): 100%|██████████| 11/11 [00:02<00:00,  3.77it/s]"
     ]
    },
    {
     "name": "stdout",
     "output_type": "stream",
     "text": [
      "                   all        166        166      0.999          1      0.995      0.979      0.987      0.988       0.99      0.942\n"
     ]
    },
    {
     "name": "stderr",
     "output_type": "stream",
     "text": [
      "\n"
     ]
    },
    {
     "name": "stdout",
     "output_type": "stream",
     "text": [
      "\n",
      "      Epoch    GPU_mem   box_loss  pose_loss  kobj_loss   cls_loss   dfl_loss  Instances       Size\n"
     ]
    },
    {
     "name": "stderr",
     "output_type": "stream",
     "text": [
      "    312/500      7.28G     0.1934     0.3927     0.2801     0.1649     0.8836         11        640: 100%|██████████| 111/111 [00:58<00:00,  1.91it/s]\n",
      "                 Class     Images  Instances      Box(P          R      mAP50  mAP50-95)     Pose(P          R      mAP50  mAP50-95): 100%|██████████| 11/11 [00:02<00:00,  3.69it/s]"
     ]
    },
    {
     "name": "stdout",
     "output_type": "stream",
     "text": [
      "                   all        166        166      0.994          1      0.995      0.981      0.982      0.988       0.99      0.942\n"
     ]
    },
    {
     "name": "stderr",
     "output_type": "stream",
     "text": [
      "\n"
     ]
    },
    {
     "name": "stdout",
     "output_type": "stream",
     "text": [
      "\n",
      "      Epoch    GPU_mem   box_loss  pose_loss  kobj_loss   cls_loss   dfl_loss  Instances       Size\n"
     ]
    },
    {
     "name": "stderr",
     "output_type": "stream",
     "text": [
      "    313/500      7.28G     0.1858     0.4471     0.2733       0.16     0.8848         10        640: 100%|██████████| 111/111 [00:58<00:00,  1.91it/s]\n",
      "                 Class     Images  Instances      Box(P          R      mAP50  mAP50-95)     Pose(P          R      mAP50  mAP50-95): 100%|██████████| 11/11 [00:02<00:00,  3.74it/s]"
     ]
    },
    {
     "name": "stdout",
     "output_type": "stream",
     "text": [
      "                   all        166        166          1          1      0.995       0.98       0.97       0.97      0.981      0.957\n"
     ]
    },
    {
     "name": "stderr",
     "output_type": "stream",
     "text": [
      "\n"
     ]
    },
    {
     "name": "stdout",
     "output_type": "stream",
     "text": [
      "\n",
      "      Epoch    GPU_mem   box_loss  pose_loss  kobj_loss   cls_loss   dfl_loss  Instances       Size\n"
     ]
    },
    {
     "name": "stderr",
     "output_type": "stream",
     "text": [
      "    314/500      7.27G     0.1837     0.3356     0.2677     0.1555     0.8828         13        640: 100%|██████████| 111/111 [00:58<00:00,  1.91it/s]\n",
      "                 Class     Images  Instances      Box(P          R      mAP50  mAP50-95)     Pose(P          R      mAP50  mAP50-95): 100%|██████████| 11/11 [00:02<00:00,  3.81it/s]"
     ]
    },
    {
     "name": "stdout",
     "output_type": "stream",
     "text": [
      "                   all        166        166          1          1      0.995      0.977      0.988      0.988      0.993      0.948\n"
     ]
    },
    {
     "name": "stderr",
     "output_type": "stream",
     "text": [
      "\n"
     ]
    },
    {
     "name": "stdout",
     "output_type": "stream",
     "text": [
      "\n",
      "      Epoch    GPU_mem   box_loss  pose_loss  kobj_loss   cls_loss   dfl_loss  Instances       Size\n"
     ]
    },
    {
     "name": "stderr",
     "output_type": "stream",
     "text": [
      "    315/500      7.02G     0.1832     0.3727     0.2546     0.1611     0.8878         16        640: 100%|██████████| 111/111 [00:58<00:00,  1.91it/s]\n",
      "                 Class     Images  Instances      Box(P          R      mAP50  mAP50-95)     Pose(P          R      mAP50  mAP50-95): 100%|██████████| 11/11 [00:03<00:00,  3.65it/s]"
     ]
    },
    {
     "name": "stdout",
     "output_type": "stream",
     "text": [
      "                   all        166        166      0.999          1      0.995      0.979      0.975      0.976      0.981      0.948\n"
     ]
    },
    {
     "name": "stderr",
     "output_type": "stream",
     "text": [
      "\n"
     ]
    },
    {
     "name": "stdout",
     "output_type": "stream",
     "text": [
      "\n",
      "      Epoch    GPU_mem   box_loss  pose_loss  kobj_loss   cls_loss   dfl_loss  Instances       Size\n"
     ]
    },
    {
     "name": "stderr",
     "output_type": "stream",
     "text": [
      "    316/500      7.29G     0.1804     0.3901     0.2554     0.1575     0.8753          9        640: 100%|██████████| 111/111 [00:58<00:00,  1.90it/s]\n",
      "                 Class     Images  Instances      Box(P          R      mAP50  mAP50-95)     Pose(P          R      mAP50  mAP50-95): 100%|██████████| 11/11 [00:02<00:00,  3.73it/s]"
     ]
    },
    {
     "name": "stdout",
     "output_type": "stream",
     "text": [
      "                   all        166        166      0.999          1      0.995      0.978      0.982      0.982      0.989      0.945\n"
     ]
    },
    {
     "name": "stderr",
     "output_type": "stream",
     "text": [
      "\n"
     ]
    },
    {
     "name": "stdout",
     "output_type": "stream",
     "text": [
      "\n",
      "      Epoch    GPU_mem   box_loss  pose_loss  kobj_loss   cls_loss   dfl_loss  Instances       Size\n"
     ]
    },
    {
     "name": "stderr",
     "output_type": "stream",
     "text": [
      "    317/500      7.26G     0.1814     0.3882     0.2496     0.1578     0.8794         11        640: 100%|██████████| 111/111 [00:58<00:00,  1.91it/s]\n",
      "                 Class     Images  Instances      Box(P          R      mAP50  mAP50-95)     Pose(P          R      mAP50  mAP50-95): 100%|██████████| 11/11 [00:02<00:00,  3.75it/s]"
     ]
    },
    {
     "name": "stdout",
     "output_type": "stream",
     "text": [
      "                   all        166        166          1          1      0.995      0.977      0.964      0.964      0.977      0.952\n"
     ]
    },
    {
     "name": "stderr",
     "output_type": "stream",
     "text": [
      "\n"
     ]
    },
    {
     "name": "stdout",
     "output_type": "stream",
     "text": [
      "\n",
      "      Epoch    GPU_mem   box_loss  pose_loss  kobj_loss   cls_loss   dfl_loss  Instances       Size\n"
     ]
    },
    {
     "name": "stderr",
     "output_type": "stream",
     "text": [
      "    318/500       7.3G       0.18     0.3938     0.2346     0.1576     0.8756          9        640: 100%|██████████| 111/111 [00:58<00:00,  1.91it/s]\n",
      "                 Class     Images  Instances      Box(P          R      mAP50  mAP50-95)     Pose(P          R      mAP50  mAP50-95): 100%|██████████| 11/11 [00:02<00:00,  3.76it/s]"
     ]
    },
    {
     "name": "stdout",
     "output_type": "stream",
     "text": [
      "                   all        166        166          1          1      0.995      0.977      0.964      0.964      0.973      0.937\n"
     ]
    },
    {
     "name": "stderr",
     "output_type": "stream",
     "text": [
      "\n"
     ]
    },
    {
     "name": "stdout",
     "output_type": "stream",
     "text": [
      "\n",
      "      Epoch    GPU_mem   box_loss  pose_loss  kobj_loss   cls_loss   dfl_loss  Instances       Size\n"
     ]
    },
    {
     "name": "stderr",
     "output_type": "stream",
     "text": [
      "    319/500      7.27G     0.1741     0.3936     0.2219     0.1532     0.8773          9        640: 100%|██████████| 111/111 [00:58<00:00,  1.90it/s]\n",
      "                 Class     Images  Instances      Box(P          R      mAP50  mAP50-95)     Pose(P          R      mAP50  mAP50-95): 100%|██████████| 11/11 [00:03<00:00,  3.64it/s]"
     ]
    },
    {
     "name": "stdout",
     "output_type": "stream",
     "text": [
      "                   all        166        166          1          1      0.995      0.974      0.952      0.952       0.96      0.938\n"
     ]
    },
    {
     "name": "stderr",
     "output_type": "stream",
     "text": [
      "\n"
     ]
    },
    {
     "name": "stdout",
     "output_type": "stream",
     "text": [
      "\n",
      "      Epoch    GPU_mem   box_loss  pose_loss  kobj_loss   cls_loss   dfl_loss  Instances       Size\n"
     ]
    },
    {
     "name": "stderr",
     "output_type": "stream",
     "text": [
      "    320/500      7.27G     0.1746     0.4111     0.2262     0.1542     0.8797         13        640: 100%|██████████| 111/111 [00:58<00:00,  1.90it/s]\n",
      "                 Class     Images  Instances      Box(P          R      mAP50  mAP50-95)     Pose(P          R      mAP50  mAP50-95): 100%|██████████| 11/11 [00:02<00:00,  3.75it/s]"
     ]
    },
    {
     "name": "stdout",
     "output_type": "stream",
     "text": [
      "                   all        166        166          1          1      0.995      0.976      0.964      0.964       0.97      0.942\n"
     ]
    },
    {
     "name": "stderr",
     "output_type": "stream",
     "text": [
      "\n"
     ]
    },
    {
     "name": "stdout",
     "output_type": "stream",
     "text": [
      "\n",
      "      Epoch    GPU_mem   box_loss  pose_loss  kobj_loss   cls_loss   dfl_loss  Instances       Size\n"
     ]
    },
    {
     "name": "stderr",
     "output_type": "stream",
     "text": [
      "    321/500      7.26G     0.1759     0.3746     0.2224     0.1506     0.8876         12        640: 100%|██████████| 111/111 [00:58<00:00,  1.90it/s]\n",
      "                 Class     Images  Instances      Box(P          R      mAP50  mAP50-95)     Pose(P          R      mAP50  mAP50-95): 100%|██████████| 11/11 [00:02<00:00,  3.72it/s]"
     ]
    },
    {
     "name": "stdout",
     "output_type": "stream",
     "text": [
      "                   all        166        166          1          1      0.995      0.977      0.982      0.982      0.989      0.952\n"
     ]
    },
    {
     "name": "stderr",
     "output_type": "stream",
     "text": [
      "\n"
     ]
    },
    {
     "name": "stdout",
     "output_type": "stream",
     "text": [
      "\n",
      "      Epoch    GPU_mem   box_loss  pose_loss  kobj_loss   cls_loss   dfl_loss  Instances       Size\n"
     ]
    },
    {
     "name": "stderr",
     "output_type": "stream",
     "text": [
      "    322/500       7.3G     0.1777     0.3672     0.2238     0.1533     0.8794         10        640: 100%|██████████| 111/111 [00:58<00:00,  1.90it/s]\n",
      "                 Class     Images  Instances      Box(P          R      mAP50  mAP50-95)     Pose(P          R      mAP50  mAP50-95): 100%|██████████| 11/11 [00:02<00:00,  3.77it/s]"
     ]
    },
    {
     "name": "stdout",
     "output_type": "stream",
     "text": [
      "                   all        166        166          1          1      0.995      0.978      0.976      0.976      0.984      0.945\n"
     ]
    },
    {
     "name": "stderr",
     "output_type": "stream",
     "text": [
      "\n"
     ]
    },
    {
     "name": "stdout",
     "output_type": "stream",
     "text": [
      "\n",
      "      Epoch    GPU_mem   box_loss  pose_loss  kobj_loss   cls_loss   dfl_loss  Instances       Size\n"
     ]
    },
    {
     "name": "stderr",
     "output_type": "stream",
     "text": [
      "    323/500         7G     0.1709     0.3735     0.2212     0.1533     0.8786         10        640: 100%|██████████| 111/111 [00:58<00:00,  1.90it/s]\n",
      "                 Class     Images  Instances      Box(P          R      mAP50  mAP50-95)     Pose(P          R      mAP50  mAP50-95): 100%|██████████| 11/11 [00:02<00:00,  3.81it/s]"
     ]
    },
    {
     "name": "stdout",
     "output_type": "stream",
     "text": [
      "                   all        166        166          1          1      0.995      0.976       0.97       0.97       0.98       0.94\n"
     ]
    },
    {
     "name": "stderr",
     "output_type": "stream",
     "text": [
      "\n"
     ]
    },
    {
     "name": "stdout",
     "output_type": "stream",
     "text": [
      "\n",
      "      Epoch    GPU_mem   box_loss  pose_loss  kobj_loss   cls_loss   dfl_loss  Instances       Size\n"
     ]
    },
    {
     "name": "stderr",
     "output_type": "stream",
     "text": [
      "    324/500      7.27G     0.1803      0.386      0.209     0.1541     0.8796         14        640: 100%|██████████| 111/111 [00:58<00:00,  1.90it/s]\n",
      "                 Class     Images  Instances      Box(P          R      mAP50  mAP50-95)     Pose(P          R      mAP50  mAP50-95): 100%|██████████| 11/11 [00:02<00:00,  3.82it/s]"
     ]
    },
    {
     "name": "stdout",
     "output_type": "stream",
     "text": [
      "                   all        166        166          1          1      0.995      0.979      0.982      0.982      0.989      0.938\n"
     ]
    },
    {
     "name": "stderr",
     "output_type": "stream",
     "text": [
      "\n"
     ]
    },
    {
     "name": "stdout",
     "output_type": "stream",
     "text": [
      "\n",
      "      Epoch    GPU_mem   box_loss  pose_loss  kobj_loss   cls_loss   dfl_loss  Instances       Size\n"
     ]
    },
    {
     "name": "stderr",
     "output_type": "stream",
     "text": [
      "    325/500      7.28G      0.175     0.3866     0.2128     0.1548     0.8765         10        640: 100%|██████████| 111/111 [00:58<00:00,  1.90it/s]\n",
      "                 Class     Images  Instances      Box(P          R      mAP50  mAP50-95)     Pose(P          R      mAP50  mAP50-95): 100%|██████████| 11/11 [00:02<00:00,  3.67it/s]"
     ]
    },
    {
     "name": "stdout",
     "output_type": "stream",
     "text": [
      "                   all        166        166          1          1      0.995      0.979       0.97       0.97      0.978      0.939\n"
     ]
    },
    {
     "name": "stderr",
     "output_type": "stream",
     "text": [
      "\n"
     ]
    },
    {
     "name": "stdout",
     "output_type": "stream",
     "text": [
      "\n",
      "      Epoch    GPU_mem   box_loss  pose_loss  kobj_loss   cls_loss   dfl_loss  Instances       Size\n"
     ]
    },
    {
     "name": "stderr",
     "output_type": "stream",
     "text": [
      "    326/500      7.27G     0.1737     0.3993     0.2077     0.1569      0.878         13        640: 100%|██████████| 111/111 [00:58<00:00,  1.90it/s]\n",
      "                 Class     Images  Instances      Box(P          R      mAP50  mAP50-95)     Pose(P          R      mAP50  mAP50-95): 100%|██████████| 11/11 [00:02<00:00,  3.79it/s]"
     ]
    },
    {
     "name": "stdout",
     "output_type": "stream",
     "text": [
      "                   all        166        166          1          1      0.995      0.978      0.982      0.982       0.99      0.948\n"
     ]
    },
    {
     "name": "stderr",
     "output_type": "stream",
     "text": [
      "\n"
     ]
    },
    {
     "name": "stdout",
     "output_type": "stream",
     "text": [
      "\n",
      "      Epoch    GPU_mem   box_loss  pose_loss  kobj_loss   cls_loss   dfl_loss  Instances       Size\n"
     ]
    },
    {
     "name": "stderr",
     "output_type": "stream",
     "text": [
      "    327/500       7.3G     0.1699     0.3763     0.2034     0.1535     0.8735         15        640: 100%|██████████| 111/111 [00:58<00:00,  1.90it/s]\n",
      "                 Class     Images  Instances      Box(P          R      mAP50  mAP50-95)     Pose(P          R      mAP50  mAP50-95): 100%|██████████| 11/11 [00:02<00:00,  3.76it/s]"
     ]
    },
    {
     "name": "stdout",
     "output_type": "stream",
     "text": [
      "                   all        166        166          1          1      0.995      0.977      0.982      0.982      0.989      0.946\n"
     ]
    },
    {
     "name": "stderr",
     "output_type": "stream",
     "text": [
      "\n"
     ]
    },
    {
     "name": "stdout",
     "output_type": "stream",
     "text": [
      "\n",
      "      Epoch    GPU_mem   box_loss  pose_loss  kobj_loss   cls_loss   dfl_loss  Instances       Size\n"
     ]
    },
    {
     "name": "stderr",
     "output_type": "stream",
     "text": [
      "    328/500      7.27G      0.179     0.3824     0.2037     0.1506     0.8727         12        640: 100%|██████████| 111/111 [00:58<00:00,  1.91it/s]\n",
      "                 Class     Images  Instances      Box(P          R      mAP50  mAP50-95)     Pose(P          R      mAP50  mAP50-95): 100%|██████████| 11/11 [00:02<00:00,  3.78it/s]"
     ]
    },
    {
     "name": "stdout",
     "output_type": "stream",
     "text": [
      "                   all        166        166      0.999          1      0.995       0.98      0.982      0.982      0.989      0.947\n"
     ]
    },
    {
     "name": "stderr",
     "output_type": "stream",
     "text": [
      "\n"
     ]
    },
    {
     "name": "stdout",
     "output_type": "stream",
     "text": [
      "\n",
      "      Epoch    GPU_mem   box_loss  pose_loss  kobj_loss   cls_loss   dfl_loss  Instances       Size\n"
     ]
    },
    {
     "name": "stderr",
     "output_type": "stream",
     "text": [
      "    329/500      7.25G      0.177     0.3883     0.1936     0.1527      0.878         13        640: 100%|██████████| 111/111 [00:58<00:00,  1.91it/s]\n",
      "                 Class     Images  Instances      Box(P          R      mAP50  mAP50-95)     Pose(P          R      mAP50  mAP50-95): 100%|██████████| 11/11 [00:02<00:00,  3.77it/s]"
     ]
    },
    {
     "name": "stdout",
     "output_type": "stream",
     "text": [
      "                   all        166        166          1          1      0.995      0.979       0.97       0.97      0.979      0.954\n"
     ]
    },
    {
     "name": "stderr",
     "output_type": "stream",
     "text": [
      "\n"
     ]
    },
    {
     "name": "stdout",
     "output_type": "stream",
     "text": [
      "\n",
      "      Epoch    GPU_mem   box_loss  pose_loss  kobj_loss   cls_loss   dfl_loss  Instances       Size\n"
     ]
    },
    {
     "name": "stderr",
     "output_type": "stream",
     "text": [
      "    330/500      7.27G      0.185     0.3813      0.194      0.158     0.8786         14        640: 100%|██████████| 111/111 [00:58<00:00,  1.91it/s]\n",
      "                 Class     Images  Instances      Box(P          R      mAP50  mAP50-95)     Pose(P          R      mAP50  mAP50-95): 100%|██████████| 11/11 [00:02<00:00,  3.76it/s]"
     ]
    },
    {
     "name": "stdout",
     "output_type": "stream",
     "text": [
      "                   all        166        166          1          1      0.995      0.978      0.964      0.964      0.955      0.923\n"
     ]
    },
    {
     "name": "stderr",
     "output_type": "stream",
     "text": [
      "\n"
     ]
    },
    {
     "name": "stdout",
     "output_type": "stream",
     "text": [
      "\n",
      "      Epoch    GPU_mem   box_loss  pose_loss  kobj_loss   cls_loss   dfl_loss  Instances       Size\n"
     ]
    },
    {
     "name": "stderr",
     "output_type": "stream",
     "text": [
      "    331/500      7.02G     0.1744     0.3937      0.195     0.1511     0.8747         13        640: 100%|██████████| 111/111 [00:58<00:00,  1.90it/s]\n",
      "                 Class     Images  Instances      Box(P          R      mAP50  mAP50-95)     Pose(P          R      mAP50  mAP50-95): 100%|██████████| 11/11 [00:02<00:00,  3.75it/s]"
     ]
    },
    {
     "name": "stdout",
     "output_type": "stream",
     "text": [
      "                   all        166        166      0.998          1      0.995      0.977      0.982      0.988       0.99      0.943\n"
     ]
    },
    {
     "name": "stderr",
     "output_type": "stream",
     "text": [
      "\n"
     ]
    },
    {
     "name": "stdout",
     "output_type": "stream",
     "text": [
      "\n",
      "      Epoch    GPU_mem   box_loss  pose_loss  kobj_loss   cls_loss   dfl_loss  Instances       Size\n"
     ]
    },
    {
     "name": "stderr",
     "output_type": "stream",
     "text": [
      "    332/500      7.27G     0.1764     0.3673     0.2006     0.1517     0.8815         11        640: 100%|██████████| 111/111 [00:58<00:00,  1.90it/s]\n",
      "                 Class     Images  Instances      Box(P          R      mAP50  mAP50-95)     Pose(P          R      mAP50  mAP50-95): 100%|██████████| 11/11 [00:03<00:00,  3.64it/s]"
     ]
    },
    {
     "name": "stdout",
     "output_type": "stream",
     "text": [
      "                   all        166        166          1          1      0.995      0.977      0.964      0.964      0.976      0.946\n"
     ]
    },
    {
     "name": "stderr",
     "output_type": "stream",
     "text": [
      "\n"
     ]
    },
    {
     "name": "stdout",
     "output_type": "stream",
     "text": [
      "\n",
      "      Epoch    GPU_mem   box_loss  pose_loss  kobj_loss   cls_loss   dfl_loss  Instances       Size\n"
     ]
    },
    {
     "name": "stderr",
     "output_type": "stream",
     "text": [
      "    333/500      7.05G     0.1754     0.3722     0.1883     0.1565     0.8776         15        640: 100%|██████████| 111/111 [00:58<00:00,  1.90it/s]\n",
      "                 Class     Images  Instances      Box(P          R      mAP50  mAP50-95)     Pose(P          R      mAP50  mAP50-95): 100%|██████████| 11/11 [00:02<00:00,  3.77it/s]"
     ]
    },
    {
     "name": "stdout",
     "output_type": "stream",
     "text": [
      "                   all        166        166          1          1      0.995      0.976      0.964      0.964      0.974      0.952\n"
     ]
    },
    {
     "name": "stderr",
     "output_type": "stream",
     "text": [
      "\n"
     ]
    },
    {
     "name": "stdout",
     "output_type": "stream",
     "text": [
      "\n",
      "      Epoch    GPU_mem   box_loss  pose_loss  kobj_loss   cls_loss   dfl_loss  Instances       Size\n"
     ]
    },
    {
     "name": "stderr",
     "output_type": "stream",
     "text": [
      "    334/500      7.29G     0.1832     0.3819     0.1923     0.1585     0.8789         12        640: 100%|██████████| 111/111 [00:58<00:00,  1.90it/s]\n",
      "                 Class     Images  Instances      Box(P          R      mAP50  mAP50-95)     Pose(P          R      mAP50  mAP50-95): 100%|██████████| 11/11 [00:02<00:00,  3.77it/s]"
     ]
    },
    {
     "name": "stdout",
     "output_type": "stream",
     "text": [
      "                   all        166        166          1          1      0.995      0.977      0.958      0.958      0.961      0.938\n"
     ]
    },
    {
     "name": "stderr",
     "output_type": "stream",
     "text": [
      "\n"
     ]
    },
    {
     "name": "stdout",
     "output_type": "stream",
     "text": [
      "\n",
      "      Epoch    GPU_mem   box_loss  pose_loss  kobj_loss   cls_loss   dfl_loss  Instances       Size\n"
     ]
    },
    {
     "name": "stderr",
     "output_type": "stream",
     "text": [
      "    335/500      7.29G     0.1843     0.3723     0.2018     0.1558     0.8855          9        640: 100%|██████████| 111/111 [00:58<00:00,  1.90it/s]\n",
      "                 Class     Images  Instances      Box(P          R      mAP50  mAP50-95)     Pose(P          R      mAP50  mAP50-95): 100%|██████████| 11/11 [00:02<00:00,  3.76it/s]"
     ]
    },
    {
     "name": "stdout",
     "output_type": "stream",
     "text": [
      "                   all        166        166          1          1      0.995      0.979      0.958      0.958      0.965      0.941\n"
     ]
    },
    {
     "name": "stderr",
     "output_type": "stream",
     "text": [
      "\n"
     ]
    },
    {
     "name": "stdout",
     "output_type": "stream",
     "text": [
      "\n",
      "      Epoch    GPU_mem   box_loss  pose_loss  kobj_loss   cls_loss   dfl_loss  Instances       Size\n"
     ]
    },
    {
     "name": "stderr",
     "output_type": "stream",
     "text": [
      "    336/500      7.29G     0.1824      0.366     0.1905     0.1565     0.8786         16        640: 100%|██████████| 111/111 [00:58<00:00,  1.91it/s]\n",
      "                 Class     Images  Instances      Box(P          R      mAP50  mAP50-95)     Pose(P          R      mAP50  mAP50-95): 100%|██████████| 11/11 [00:02<00:00,  3.71it/s]"
     ]
    },
    {
     "name": "stdout",
     "output_type": "stream",
     "text": [
      "                   all        166        166          1          1      0.995       0.98      0.958      0.958      0.963      0.943\n"
     ]
    },
    {
     "name": "stderr",
     "output_type": "stream",
     "text": [
      "\n"
     ]
    },
    {
     "name": "stdout",
     "output_type": "stream",
     "text": [
      "\n",
      "      Epoch    GPU_mem   box_loss  pose_loss  kobj_loss   cls_loss   dfl_loss  Instances       Size\n"
     ]
    },
    {
     "name": "stderr",
     "output_type": "stream",
     "text": [
      "    337/500      7.28G     0.1828      0.362      0.183     0.1595     0.8795         14        640: 100%|██████████| 111/111 [00:58<00:00,  1.90it/s]\n",
      "                 Class     Images  Instances      Box(P          R      mAP50  mAP50-95)     Pose(P          R      mAP50  mAP50-95): 100%|██████████| 11/11 [00:02<00:00,  3.75it/s]"
     ]
    },
    {
     "name": "stdout",
     "output_type": "stream",
     "text": [
      "                   all        166        166          1          1      0.995       0.98       0.97       0.97      0.981      0.952\n"
     ]
    },
    {
     "name": "stderr",
     "output_type": "stream",
     "text": [
      "\n"
     ]
    },
    {
     "name": "stdout",
     "output_type": "stream",
     "text": [
      "\n",
      "      Epoch    GPU_mem   box_loss  pose_loss  kobj_loss   cls_loss   dfl_loss  Instances       Size\n"
     ]
    },
    {
     "name": "stderr",
     "output_type": "stream",
     "text": [
      "    338/500      7.27G     0.1743     0.3933     0.1839     0.1531     0.8822         11        640: 100%|██████████| 111/111 [00:58<00:00,  1.90it/s]\n",
      "                 Class     Images  Instances      Box(P          R      mAP50  mAP50-95)     Pose(P          R      mAP50  mAP50-95): 100%|██████████| 11/11 [00:02<00:00,  3.67it/s]"
     ]
    },
    {
     "name": "stdout",
     "output_type": "stream",
     "text": [
      "                   all        166        166          1          1      0.995       0.98      0.982      0.982      0.989      0.945\n"
     ]
    },
    {
     "name": "stderr",
     "output_type": "stream",
     "text": [
      "\n"
     ]
    },
    {
     "name": "stdout",
     "output_type": "stream",
     "text": [
      "\n",
      "      Epoch    GPU_mem   box_loss  pose_loss  kobj_loss   cls_loss   dfl_loss  Instances       Size\n"
     ]
    },
    {
     "name": "stderr",
     "output_type": "stream",
     "text": [
      "    339/500      6.99G       0.17     0.3315     0.1711     0.1518     0.8807         12        640: 100%|██████████| 111/111 [00:58<00:00,  1.91it/s]\n",
      "                 Class     Images  Instances      Box(P          R      mAP50  mAP50-95)     Pose(P          R      mAP50  mAP50-95): 100%|██████████| 11/11 [00:02<00:00,  3.74it/s]"
     ]
    },
    {
     "name": "stdout",
     "output_type": "stream",
     "text": [
      "                   all        166        166          1          1      0.995      0.978      0.994      0.994      0.993      0.945\n"
     ]
    },
    {
     "name": "stderr",
     "output_type": "stream",
     "text": [
      "\n"
     ]
    },
    {
     "name": "stdout",
     "output_type": "stream",
     "text": [
      "\n",
      "      Epoch    GPU_mem   box_loss  pose_loss  kobj_loss   cls_loss   dfl_loss  Instances       Size\n"
     ]
    },
    {
     "name": "stderr",
     "output_type": "stream",
     "text": [
      "    340/500      7.28G     0.1706     0.3385     0.1699     0.1489     0.8793         12        640: 100%|██████████| 111/111 [00:58<00:00,  1.90it/s]\n",
      "                 Class     Images  Instances      Box(P          R      mAP50  mAP50-95)     Pose(P          R      mAP50  mAP50-95): 100%|██████████| 11/11 [00:02<00:00,  3.74it/s]"
     ]
    },
    {
     "name": "stdout",
     "output_type": "stream",
     "text": [
      "                   all        166        166          1          1      0.995      0.976      0.994      0.994      0.993      0.944\n"
     ]
    },
    {
     "name": "stderr",
     "output_type": "stream",
     "text": [
      "\n"
     ]
    },
    {
     "name": "stdout",
     "output_type": "stream",
     "text": [
      "\n",
      "      Epoch    GPU_mem   box_loss  pose_loss  kobj_loss   cls_loss   dfl_loss  Instances       Size\n"
     ]
    },
    {
     "name": "stderr",
     "output_type": "stream",
     "text": [
      "    341/500      6.86G     0.1725     0.3567     0.1674      0.151     0.8731         14        640: 100%|██████████| 111/111 [00:58<00:00,  1.90it/s]\n",
      "                 Class     Images  Instances      Box(P          R      mAP50  mAP50-95)     Pose(P          R      mAP50  mAP50-95): 100%|██████████| 11/11 [00:02<00:00,  3.76it/s]"
     ]
    },
    {
     "name": "stdout",
     "output_type": "stream",
     "text": [
      "                   all        166        166          1          1      0.995      0.981      0.964      0.964      0.973      0.942\n"
     ]
    },
    {
     "name": "stderr",
     "output_type": "stream",
     "text": [
      "\n"
     ]
    },
    {
     "name": "stdout",
     "output_type": "stream",
     "text": [
      "\n",
      "      Epoch    GPU_mem   box_loss  pose_loss  kobj_loss   cls_loss   dfl_loss  Instances       Size\n"
     ]
    },
    {
     "name": "stderr",
     "output_type": "stream",
     "text": [
      "    342/500      7.28G     0.1783      0.335      0.173     0.1516     0.8799          8        640: 100%|██████████| 111/111 [00:58<00:00,  1.89it/s]\n",
      "                 Class     Images  Instances      Box(P          R      mAP50  mAP50-95)     Pose(P          R      mAP50  mAP50-95): 100%|██████████| 11/11 [00:02<00:00,  3.74it/s]"
     ]
    },
    {
     "name": "stdout",
     "output_type": "stream",
     "text": [
      "                   all        166        166          1          1      0.995      0.973      0.982      0.982       0.98      0.937\n"
     ]
    },
    {
     "name": "stderr",
     "output_type": "stream",
     "text": [
      "\n"
     ]
    },
    {
     "name": "stdout",
     "output_type": "stream",
     "text": [
      "\n",
      "      Epoch    GPU_mem   box_loss  pose_loss  kobj_loss   cls_loss   dfl_loss  Instances       Size\n"
     ]
    },
    {
     "name": "stderr",
     "output_type": "stream",
     "text": [
      "    343/500      7.29G     0.1707     0.3931     0.1667     0.1497     0.8765         15        640: 100%|██████████| 111/111 [00:58<00:00,  1.90it/s]\n",
      "                 Class     Images  Instances      Box(P          R      mAP50  mAP50-95)     Pose(P          R      mAP50  mAP50-95): 100%|██████████| 11/11 [00:02<00:00,  3.80it/s]"
     ]
    },
    {
     "name": "stdout",
     "output_type": "stream",
     "text": [
      "                   all        166        166          1          1      0.995      0.976      0.976      0.976      0.973      0.941\n"
     ]
    },
    {
     "name": "stderr",
     "output_type": "stream",
     "text": [
      "\n"
     ]
    },
    {
     "name": "stdout",
     "output_type": "stream",
     "text": [
      "\n",
      "      Epoch    GPU_mem   box_loss  pose_loss  kobj_loss   cls_loss   dfl_loss  Instances       Size\n"
     ]
    },
    {
     "name": "stderr",
     "output_type": "stream",
     "text": [
      "    344/500      7.27G     0.1686     0.3442     0.1583     0.1508     0.8751          8        640: 100%|██████████| 111/111 [00:58<00:00,  1.90it/s]\n",
      "                 Class     Images  Instances      Box(P          R      mAP50  mAP50-95)     Pose(P          R      mAP50  mAP50-95): 100%|██████████| 11/11 [00:02<00:00,  3.77it/s]"
     ]
    },
    {
     "name": "stdout",
     "output_type": "stream",
     "text": [
      "                   all        166        166          1          1      0.995      0.977       0.97       0.97      0.971      0.934\n"
     ]
    },
    {
     "name": "stderr",
     "output_type": "stream",
     "text": [
      "\n"
     ]
    },
    {
     "name": "stdout",
     "output_type": "stream",
     "text": [
      "\n",
      "      Epoch    GPU_mem   box_loss  pose_loss  kobj_loss   cls_loss   dfl_loss  Instances       Size\n"
     ]
    },
    {
     "name": "stderr",
     "output_type": "stream",
     "text": [
      "    345/500      7.24G     0.1661     0.3389     0.1648     0.1485     0.8703         11        640: 100%|██████████| 111/111 [00:58<00:00,  1.91it/s]\n",
      "                 Class     Images  Instances      Box(P          R      mAP50  mAP50-95)     Pose(P          R      mAP50  mAP50-95): 100%|██████████| 11/11 [00:02<00:00,  3.72it/s]"
     ]
    },
    {
     "name": "stdout",
     "output_type": "stream",
     "text": [
      "                   all        166        166          1          1      0.995      0.978      0.976      0.976      0.982      0.934\n"
     ]
    },
    {
     "name": "stderr",
     "output_type": "stream",
     "text": [
      "\n"
     ]
    },
    {
     "name": "stdout",
     "output_type": "stream",
     "text": [
      "\n",
      "      Epoch    GPU_mem   box_loss  pose_loss  kobj_loss   cls_loss   dfl_loss  Instances       Size\n"
     ]
    },
    {
     "name": "stderr",
     "output_type": "stream",
     "text": [
      "    346/500      7.29G     0.1722     0.3391     0.1693       0.15     0.8742         12        640: 100%|██████████| 111/111 [00:58<00:00,  1.90it/s]\n",
      "                 Class     Images  Instances      Box(P          R      mAP50  mAP50-95)     Pose(P          R      mAP50  mAP50-95): 100%|██████████| 11/11 [00:02<00:00,  3.80it/s]"
     ]
    },
    {
     "name": "stdout",
     "output_type": "stream",
     "text": [
      "                   all        166        166          1          1      0.995      0.979      0.976      0.976      0.976      0.938\n"
     ]
    },
    {
     "name": "stderr",
     "output_type": "stream",
     "text": [
      "\n"
     ]
    },
    {
     "name": "stdout",
     "output_type": "stream",
     "text": [
      "\n",
      "      Epoch    GPU_mem   box_loss  pose_loss  kobj_loss   cls_loss   dfl_loss  Instances       Size\n"
     ]
    },
    {
     "name": "stderr",
     "output_type": "stream",
     "text": [
      "    347/500         7G     0.1653     0.3364     0.1599     0.1447     0.8784         11        640: 100%|██████████| 111/111 [00:58<00:00,  1.91it/s]\n",
      "                 Class     Images  Instances      Box(P          R      mAP50  mAP50-95)     Pose(P          R      mAP50  mAP50-95): 100%|██████████| 11/11 [00:02<00:00,  3.81it/s]"
     ]
    },
    {
     "name": "stdout",
     "output_type": "stream",
     "text": [
      "                   all        166        166          1          1      0.995      0.978      0.982      0.982       0.99      0.949\n"
     ]
    },
    {
     "name": "stderr",
     "output_type": "stream",
     "text": [
      "\n"
     ]
    },
    {
     "name": "stdout",
     "output_type": "stream",
     "text": [
      "\n",
      "      Epoch    GPU_mem   box_loss  pose_loss  kobj_loss   cls_loss   dfl_loss  Instances       Size\n"
     ]
    },
    {
     "name": "stderr",
     "output_type": "stream",
     "text": [
      "    348/500      7.26G     0.1715     0.3484     0.1619     0.1491     0.8771         12        640: 100%|██████████| 111/111 [00:58<00:00,  1.89it/s]\n",
      "                 Class     Images  Instances      Box(P          R      mAP50  mAP50-95)     Pose(P          R      mAP50  mAP50-95): 100%|██████████| 11/11 [00:02<00:00,  3.69it/s]"
     ]
    },
    {
     "name": "stdout",
     "output_type": "stream",
     "text": [
      "                   all        166        166          1          1      0.995       0.98      0.976      0.976      0.985       0.95\n"
     ]
    },
    {
     "name": "stderr",
     "output_type": "stream",
     "text": [
      "\n"
     ]
    },
    {
     "name": "stdout",
     "output_type": "stream",
     "text": [
      "\n",
      "      Epoch    GPU_mem   box_loss  pose_loss  kobj_loss   cls_loss   dfl_loss  Instances       Size\n"
     ]
    },
    {
     "name": "stderr",
     "output_type": "stream",
     "text": [
      "    349/500      7.29G     0.1747     0.3762     0.1589     0.1545     0.8756         14        640: 100%|██████████| 111/111 [00:58<00:00,  1.90it/s]\n",
      "                 Class     Images  Instances      Box(P          R      mAP50  mAP50-95)     Pose(P          R      mAP50  mAP50-95): 100%|██████████| 11/11 [00:02<00:00,  3.78it/s]"
     ]
    },
    {
     "name": "stdout",
     "output_type": "stream",
     "text": [
      "                   all        166        166          1          1      0.995       0.98      0.958      0.958      0.963      0.928\n"
     ]
    },
    {
     "name": "stderr",
     "output_type": "stream",
     "text": [
      "\n"
     ]
    },
    {
     "name": "stdout",
     "output_type": "stream",
     "text": [
      "\n",
      "      Epoch    GPU_mem   box_loss  pose_loss  kobj_loss   cls_loss   dfl_loss  Instances       Size\n"
     ]
    },
    {
     "name": "stderr",
     "output_type": "stream",
     "text": [
      "    350/500       7.3G     0.1712     0.3736     0.1595     0.1519     0.8765          9        640: 100%|██████████| 111/111 [00:58<00:00,  1.90it/s]\n",
      "                 Class     Images  Instances      Box(P          R      mAP50  mAP50-95)     Pose(P          R      mAP50  mAP50-95): 100%|██████████| 11/11 [00:02<00:00,  3.78it/s]"
     ]
    },
    {
     "name": "stdout",
     "output_type": "stream",
     "text": [
      "                   all        166        166          1          1      0.995      0.979      0.964      0.964      0.962      0.934\n"
     ]
    },
    {
     "name": "stderr",
     "output_type": "stream",
     "text": [
      "\n"
     ]
    },
    {
     "name": "stdout",
     "output_type": "stream",
     "text": [
      "\n",
      "      Epoch    GPU_mem   box_loss  pose_loss  kobj_loss   cls_loss   dfl_loss  Instances       Size\n"
     ]
    },
    {
     "name": "stderr",
     "output_type": "stream",
     "text": [
      "    351/500      7.29G     0.1686     0.3905     0.1546     0.1544       0.88         10        640: 100%|██████████| 111/111 [00:58<00:00,  1.91it/s]\n",
      "                 Class     Images  Instances      Box(P          R      mAP50  mAP50-95)     Pose(P          R      mAP50  mAP50-95): 100%|██████████| 11/11 [00:02<00:00,  3.76it/s]"
     ]
    },
    {
     "name": "stdout",
     "output_type": "stream",
     "text": [
      "                   all        166        166          1          1      0.995      0.978      0.982      0.982      0.981      0.941\n"
     ]
    },
    {
     "name": "stderr",
     "output_type": "stream",
     "text": [
      "\n"
     ]
    },
    {
     "name": "stdout",
     "output_type": "stream",
     "text": [
      "\n",
      "      Epoch    GPU_mem   box_loss  pose_loss  kobj_loss   cls_loss   dfl_loss  Instances       Size\n"
     ]
    },
    {
     "name": "stderr",
     "output_type": "stream",
     "text": [
      "    352/500       7.3G     0.1694     0.3219     0.1447     0.1504     0.8822         12        640: 100%|██████████| 111/111 [00:58<00:00,  1.91it/s]\n",
      "                 Class     Images  Instances      Box(P          R      mAP50  mAP50-95)     Pose(P          R      mAP50  mAP50-95): 100%|██████████| 11/11 [00:02<00:00,  3.79it/s]"
     ]
    },
    {
     "name": "stdout",
     "output_type": "stream",
     "text": [
      "                   all        166        166          1          1      0.995      0.978      0.988      0.988       0.99       0.94\n"
     ]
    },
    {
     "name": "stderr",
     "output_type": "stream",
     "text": [
      "\n"
     ]
    },
    {
     "name": "stdout",
     "output_type": "stream",
     "text": [
      "\n",
      "      Epoch    GPU_mem   box_loss  pose_loss  kobj_loss   cls_loss   dfl_loss  Instances       Size\n"
     ]
    },
    {
     "name": "stderr",
     "output_type": "stream",
     "text": [
      "    353/500      7.26G     0.1635     0.3177     0.1576     0.1436      0.875         12        640: 100%|██████████| 111/111 [00:58<00:00,  1.91it/s]\n",
      "                 Class     Images  Instances      Box(P          R      mAP50  mAP50-95)     Pose(P          R      mAP50  mAP50-95): 100%|██████████| 11/11 [00:03<00:00,  3.64it/s]"
     ]
    },
    {
     "name": "stdout",
     "output_type": "stream",
     "text": [
      "                   all        166        166          1          1      0.995      0.978      0.994      0.994      0.995      0.954\n"
     ]
    },
    {
     "name": "stderr",
     "output_type": "stream",
     "text": [
      "\n"
     ]
    },
    {
     "name": "stdout",
     "output_type": "stream",
     "text": [
      "\n",
      "      Epoch    GPU_mem   box_loss  pose_loss  kobj_loss   cls_loss   dfl_loss  Instances       Size\n"
     ]
    },
    {
     "name": "stderr",
     "output_type": "stream",
     "text": [
      "    354/500      7.31G     0.1742     0.3363     0.1495     0.1506     0.8788         16        640: 100%|██████████| 111/111 [00:58<00:00,  1.90it/s]\n",
      "                 Class     Images  Instances      Box(P          R      mAP50  mAP50-95)     Pose(P          R      mAP50  mAP50-95): 100%|██████████| 11/11 [00:02<00:00,  3.74it/s]"
     ]
    },
    {
     "name": "stdout",
     "output_type": "stream",
     "text": [
      "                   all        166        166          1          1      0.995      0.981      0.994      0.994      0.995      0.951\n"
     ]
    },
    {
     "name": "stderr",
     "output_type": "stream",
     "text": [
      "\n"
     ]
    },
    {
     "name": "stdout",
     "output_type": "stream",
     "text": [
      "\n",
      "      Epoch    GPU_mem   box_loss  pose_loss  kobj_loss   cls_loss   dfl_loss  Instances       Size\n"
     ]
    },
    {
     "name": "stderr",
     "output_type": "stream",
     "text": [
      "    355/500      7.19G      0.168     0.3076     0.1549     0.1464     0.8797         14        640: 100%|██████████| 111/111 [00:58<00:00,  1.90it/s]\n",
      "                 Class     Images  Instances      Box(P          R      mAP50  mAP50-95)     Pose(P          R      mAP50  mAP50-95): 100%|██████████| 11/11 [00:02<00:00,  3.75it/s]"
     ]
    },
    {
     "name": "stdout",
     "output_type": "stream",
     "text": [
      "                   all        166        166          1          1      0.995      0.985      0.994      0.994      0.995      0.957\n"
     ]
    },
    {
     "name": "stderr",
     "output_type": "stream",
     "text": [
      "\n"
     ]
    },
    {
     "name": "stdout",
     "output_type": "stream",
     "text": [
      "\n",
      "      Epoch    GPU_mem   box_loss  pose_loss  kobj_loss   cls_loss   dfl_loss  Instances       Size\n"
     ]
    },
    {
     "name": "stderr",
     "output_type": "stream",
     "text": [
      "    356/500      7.25G     0.1725     0.3409     0.1532     0.1487     0.8797         14        640: 100%|██████████| 111/111 [00:58<00:00,  1.90it/s]\n",
      "                 Class     Images  Instances      Box(P          R      mAP50  mAP50-95)     Pose(P          R      mAP50  mAP50-95): 100%|██████████| 11/11 [00:02<00:00,  3.77it/s]"
     ]
    },
    {
     "name": "stdout",
     "output_type": "stream",
     "text": [
      "                   all        166        166          1          1      0.995      0.983          1          1      0.995       0.96\n"
     ]
    },
    {
     "name": "stderr",
     "output_type": "stream",
     "text": [
      "\n"
     ]
    },
    {
     "name": "stdout",
     "output_type": "stream",
     "text": [
      "\n",
      "      Epoch    GPU_mem   box_loss  pose_loss  kobj_loss   cls_loss   dfl_loss  Instances       Size\n"
     ]
    },
    {
     "name": "stderr",
     "output_type": "stream",
     "text": [
      "    357/500      7.05G     0.1684     0.3235     0.1532     0.1437     0.8742         10        640: 100%|██████████| 111/111 [00:58<00:00,  1.90it/s]\n",
      "                 Class     Images  Instances      Box(P          R      mAP50  mAP50-95)     Pose(P          R      mAP50  mAP50-95): 100%|██████████| 11/11 [00:02<00:00,  3.79it/s]"
     ]
    },
    {
     "name": "stdout",
     "output_type": "stream",
     "text": [
      "                   all        166        166          1          1      0.995      0.982          1          1      0.995       0.96\n"
     ]
    },
    {
     "name": "stderr",
     "output_type": "stream",
     "text": [
      "\n"
     ]
    },
    {
     "name": "stdout",
     "output_type": "stream",
     "text": [
      "\n",
      "      Epoch    GPU_mem   box_loss  pose_loss  kobj_loss   cls_loss   dfl_loss  Instances       Size\n"
     ]
    },
    {
     "name": "stderr",
     "output_type": "stream",
     "text": [
      "    358/500       7.3G     0.1625     0.3459     0.1469     0.1488     0.8759         16        640: 100%|██████████| 111/111 [00:58<00:00,  1.91it/s]\n",
      "                 Class     Images  Instances      Box(P          R      mAP50  mAP50-95)     Pose(P          R      mAP50  mAP50-95): 100%|██████████| 11/11 [00:02<00:00,  3.71it/s]"
     ]
    },
    {
     "name": "stdout",
     "output_type": "stream",
     "text": [
      "                   all        166        166          1          1      0.995      0.982          1          1      0.995       0.96\n"
     ]
    },
    {
     "name": "stderr",
     "output_type": "stream",
     "text": [
      "\n"
     ]
    },
    {
     "name": "stdout",
     "output_type": "stream",
     "text": [
      "\n",
      "      Epoch    GPU_mem   box_loss  pose_loss  kobj_loss   cls_loss   dfl_loss  Instances       Size\n"
     ]
    },
    {
     "name": "stderr",
     "output_type": "stream",
     "text": [
      "    359/500      7.27G     0.1598     0.3366     0.1459     0.1393     0.8778         14        640: 100%|██████████| 111/111 [00:58<00:00,  1.90it/s]\n",
      "                 Class     Images  Instances      Box(P          R      mAP50  mAP50-95)     Pose(P          R      mAP50  mAP50-95): 100%|██████████| 11/11 [00:02<00:00,  3.67it/s]"
     ]
    },
    {
     "name": "stdout",
     "output_type": "stream",
     "text": [
      "                   all        166        166          1          1      0.995      0.985          1          1      0.995      0.959\n"
     ]
    },
    {
     "name": "stderr",
     "output_type": "stream",
     "text": [
      "\n"
     ]
    },
    {
     "name": "stdout",
     "output_type": "stream",
     "text": [
      "\n",
      "      Epoch    GPU_mem   box_loss  pose_loss  kobj_loss   cls_loss   dfl_loss  Instances       Size\n"
     ]
    },
    {
     "name": "stderr",
     "output_type": "stream",
     "text": [
      "    360/500      7.27G     0.1582     0.3261     0.1501     0.1409     0.8727         10        640: 100%|██████████| 111/111 [00:58<00:00,  1.90it/s]\n",
      "                 Class     Images  Instances      Box(P          R      mAP50  mAP50-95)     Pose(P          R      mAP50  mAP50-95): 100%|██████████| 11/11 [00:02<00:00,  3.72it/s]"
     ]
    },
    {
     "name": "stdout",
     "output_type": "stream",
     "text": [
      "                   all        166        166          1          1      0.995      0.984      0.994      0.994      0.995      0.958\n"
     ]
    },
    {
     "name": "stderr",
     "output_type": "stream",
     "text": [
      "\n"
     ]
    },
    {
     "name": "stdout",
     "output_type": "stream",
     "text": [
      "\n",
      "      Epoch    GPU_mem   box_loss  pose_loss  kobj_loss   cls_loss   dfl_loss  Instances       Size\n"
     ]
    },
    {
     "name": "stderr",
     "output_type": "stream",
     "text": [
      "    361/500      7.28G     0.1565     0.3497     0.1412     0.1408     0.8722         15        640: 100%|██████████| 111/111 [00:58<00:00,  1.90it/s]\n",
      "                 Class     Images  Instances      Box(P          R      mAP50  mAP50-95)     Pose(P          R      mAP50  mAP50-95): 100%|██████████| 11/11 [00:03<00:00,  3.66it/s]"
     ]
    },
    {
     "name": "stdout",
     "output_type": "stream",
     "text": [
      "                   all        166        166          1          1      0.995      0.985      0.994      0.994      0.995       0.96\n"
     ]
    },
    {
     "name": "stderr",
     "output_type": "stream",
     "text": [
      "\n"
     ]
    },
    {
     "name": "stdout",
     "output_type": "stream",
     "text": [
      "\n",
      "      Epoch    GPU_mem   box_loss  pose_loss  kobj_loss   cls_loss   dfl_loss  Instances       Size\n"
     ]
    },
    {
     "name": "stderr",
     "output_type": "stream",
     "text": [
      "    362/500      7.27G     0.1609     0.3159     0.1372     0.1414      0.874         12        640: 100%|██████████| 111/111 [00:58<00:00,  1.90it/s]\n",
      "                 Class     Images  Instances      Box(P          R      mAP50  mAP50-95)     Pose(P          R      mAP50  mAP50-95): 100%|██████████| 11/11 [00:02<00:00,  3.74it/s]"
     ]
    },
    {
     "name": "stdout",
     "output_type": "stream",
     "text": [
      "                   all        166        166          1          1      0.995      0.983      0.994      0.994      0.995       0.96\n"
     ]
    },
    {
     "name": "stderr",
     "output_type": "stream",
     "text": [
      "\n"
     ]
    },
    {
     "name": "stdout",
     "output_type": "stream",
     "text": [
      "\n",
      "      Epoch    GPU_mem   box_loss  pose_loss  kobj_loss   cls_loss   dfl_loss  Instances       Size\n"
     ]
    },
    {
     "name": "stderr",
     "output_type": "stream",
     "text": [
      "    363/500      7.02G     0.1599     0.3338     0.1447     0.1424     0.8675         13        640: 100%|██████████| 111/111 [00:58<00:00,  1.91it/s]\n",
      "                 Class     Images  Instances      Box(P          R      mAP50  mAP50-95)     Pose(P          R      mAP50  mAP50-95): 100%|██████████| 11/11 [00:02<00:00,  3.77it/s]"
     ]
    },
    {
     "name": "stdout",
     "output_type": "stream",
     "text": [
      "                   all        166        166          1          1      0.995       0.98          1          1      0.995       0.96\n"
     ]
    },
    {
     "name": "stderr",
     "output_type": "stream",
     "text": [
      "\n"
     ]
    },
    {
     "name": "stdout",
     "output_type": "stream",
     "text": [
      "\n",
      "      Epoch    GPU_mem   box_loss  pose_loss  kobj_loss   cls_loss   dfl_loss  Instances       Size\n"
     ]
    },
    {
     "name": "stderr",
     "output_type": "stream",
     "text": [
      "    364/500      7.26G     0.1557     0.3158     0.1458     0.1428     0.8697         10        640: 100%|██████████| 111/111 [00:58<00:00,  1.90it/s]\n",
      "                 Class     Images  Instances      Box(P          R      mAP50  mAP50-95)     Pose(P          R      mAP50  mAP50-95): 100%|██████████| 11/11 [00:02<00:00,  3.73it/s]"
     ]
    },
    {
     "name": "stdout",
     "output_type": "stream",
     "text": [
      "                   all        166        166          1          1      0.995      0.981          1          1      0.995      0.954\n"
     ]
    },
    {
     "name": "stderr",
     "output_type": "stream",
     "text": [
      "\n"
     ]
    },
    {
     "name": "stdout",
     "output_type": "stream",
     "text": [
      "\n",
      "      Epoch    GPU_mem   box_loss  pose_loss  kobj_loss   cls_loss   dfl_loss  Instances       Size\n"
     ]
    },
    {
     "name": "stderr",
     "output_type": "stream",
     "text": [
      "    365/500      7.05G     0.1671     0.3307     0.1482     0.1452     0.8738         13        640: 100%|██████████| 111/111 [00:58<00:00,  1.89it/s]\n",
      "                 Class     Images  Instances      Box(P          R      mAP50  mAP50-95)     Pose(P          R      mAP50  mAP50-95): 100%|██████████| 11/11 [00:03<00:00,  3.59it/s]"
     ]
    },
    {
     "name": "stdout",
     "output_type": "stream",
     "text": [
      "                   all        166        166          1          1      0.995      0.984      0.976      0.976      0.983      0.962\n"
     ]
    },
    {
     "name": "stderr",
     "output_type": "stream",
     "text": [
      "\n"
     ]
    },
    {
     "name": "stdout",
     "output_type": "stream",
     "text": [
      "\n",
      "      Epoch    GPU_mem   box_loss  pose_loss  kobj_loss   cls_loss   dfl_loss  Instances       Size\n"
     ]
    },
    {
     "name": "stderr",
     "output_type": "stream",
     "text": [
      "    366/500       7.3G     0.1596      0.337     0.1427     0.1426     0.8765         13        640: 100%|██████████| 111/111 [00:58<00:00,  1.89it/s]\n",
      "                 Class     Images  Instances      Box(P          R      mAP50  mAP50-95)     Pose(P          R      mAP50  mAP50-95): 100%|██████████| 11/11 [00:02<00:00,  3.74it/s]"
     ]
    },
    {
     "name": "stdout",
     "output_type": "stream",
     "text": [
      "                   all        166        166          1          1      0.995      0.982      0.964      0.964      0.976      0.956\n"
     ]
    },
    {
     "name": "stderr",
     "output_type": "stream",
     "text": [
      "\n"
     ]
    },
    {
     "name": "stdout",
     "output_type": "stream",
     "text": [
      "\n",
      "      Epoch    GPU_mem   box_loss  pose_loss  kobj_loss   cls_loss   dfl_loss  Instances       Size\n"
     ]
    },
    {
     "name": "stderr",
     "output_type": "stream",
     "text": [
      "    367/500      7.31G     0.1632     0.3273     0.1395     0.1411     0.8758         11        640: 100%|██████████| 111/111 [00:58<00:00,  1.89it/s]\n",
      "                 Class     Images  Instances      Box(P          R      mAP50  mAP50-95)     Pose(P          R      mAP50  mAP50-95): 100%|██████████| 11/11 [00:02<00:00,  3.79it/s]"
     ]
    },
    {
     "name": "stdout",
     "output_type": "stream",
     "text": [
      "                   all        166        166          1          1      0.995      0.978      0.976      0.976      0.985      0.957\n"
     ]
    },
    {
     "name": "stderr",
     "output_type": "stream",
     "text": [
      "\n"
     ]
    },
    {
     "name": "stdout",
     "output_type": "stream",
     "text": [
      "\n",
      "      Epoch    GPU_mem   box_loss  pose_loss  kobj_loss   cls_loss   dfl_loss  Instances       Size\n"
     ]
    },
    {
     "name": "stderr",
     "output_type": "stream",
     "text": [
      "    368/500      7.28G     0.1566     0.3307     0.1374     0.1425     0.8745         10        640: 100%|██████████| 111/111 [00:58<00:00,  1.90it/s]\n",
      "                 Class     Images  Instances      Box(P          R      mAP50  mAP50-95)     Pose(P          R      mAP50  mAP50-95): 100%|██████████| 11/11 [00:02<00:00,  3.69it/s]"
     ]
    },
    {
     "name": "stdout",
     "output_type": "stream",
     "text": [
      "                   all        166        166          1          1      0.995      0.982      0.988      0.988      0.992      0.957\n"
     ]
    },
    {
     "name": "stderr",
     "output_type": "stream",
     "text": [
      "\n"
     ]
    },
    {
     "name": "stdout",
     "output_type": "stream",
     "text": [
      "\n",
      "      Epoch    GPU_mem   box_loss  pose_loss  kobj_loss   cls_loss   dfl_loss  Instances       Size\n"
     ]
    },
    {
     "name": "stderr",
     "output_type": "stream",
     "text": [
      "    369/500      7.28G       0.16     0.3417     0.1371     0.1412     0.8795         12        640: 100%|██████████| 111/111 [00:58<00:00,  1.90it/s]\n",
      "                 Class     Images  Instances      Box(P          R      mAP50  mAP50-95)     Pose(P          R      mAP50  mAP50-95): 100%|██████████| 11/11 [00:02<00:00,  3.73it/s]"
     ]
    },
    {
     "name": "stdout",
     "output_type": "stream",
     "text": [
      "                   all        166        166          1          1      0.995      0.979      0.982      0.982      0.989      0.957\n"
     ]
    },
    {
     "name": "stderr",
     "output_type": "stream",
     "text": [
      "\n"
     ]
    },
    {
     "name": "stdout",
     "output_type": "stream",
     "text": [
      "\n",
      "      Epoch    GPU_mem   box_loss  pose_loss  kobj_loss   cls_loss   dfl_loss  Instances       Size\n"
     ]
    },
    {
     "name": "stderr",
     "output_type": "stream",
     "text": [
      "    370/500       7.3G     0.1501      0.293     0.1351     0.1365     0.8766          8        640: 100%|██████████| 111/111 [00:58<00:00,  1.90it/s]\n",
      "                 Class     Images  Instances      Box(P          R      mAP50  mAP50-95)     Pose(P          R      mAP50  mAP50-95): 100%|██████████| 11/11 [00:02<00:00,  3.75it/s]"
     ]
    },
    {
     "name": "stdout",
     "output_type": "stream",
     "text": [
      "                   all        166        166          1          1      0.995      0.982      0.976      0.976      0.983       0.96\n"
     ]
    },
    {
     "name": "stderr",
     "output_type": "stream",
     "text": [
      "\n"
     ]
    },
    {
     "name": "stdout",
     "output_type": "stream",
     "text": [
      "\n",
      "      Epoch    GPU_mem   box_loss  pose_loss  kobj_loss   cls_loss   dfl_loss  Instances       Size\n"
     ]
    },
    {
     "name": "stderr",
     "output_type": "stream",
     "text": [
      "    371/500      7.06G     0.1539     0.3518     0.1287     0.1396     0.8659          7        640: 100%|██████████| 111/111 [00:58<00:00,  1.90it/s]\n",
      "                 Class     Images  Instances      Box(P          R      mAP50  mAP50-95)     Pose(P          R      mAP50  mAP50-95): 100%|██████████| 11/11 [00:03<00:00,  3.51it/s]"
     ]
    },
    {
     "name": "stdout",
     "output_type": "stream",
     "text": [
      "                   all        166        166          1          1      0.995      0.985      0.982      0.982      0.986      0.959\n"
     ]
    },
    {
     "name": "stderr",
     "output_type": "stream",
     "text": [
      "\n"
     ]
    },
    {
     "name": "stdout",
     "output_type": "stream",
     "text": [
      "\n",
      "      Epoch    GPU_mem   box_loss  pose_loss  kobj_loss   cls_loss   dfl_loss  Instances       Size\n"
     ]
    },
    {
     "name": "stderr",
     "output_type": "stream",
     "text": [
      "    372/500      7.28G     0.1517     0.2914     0.1316     0.1368     0.8717          9        640: 100%|██████████| 111/111 [00:59<00:00,  1.88it/s]\n",
      "                 Class     Images  Instances      Box(P          R      mAP50  mAP50-95)     Pose(P          R      mAP50  mAP50-95): 100%|██████████| 11/11 [00:03<00:00,  3.62it/s]"
     ]
    },
    {
     "name": "stdout",
     "output_type": "stream",
     "text": [
      "                   all        166        166          1          1      0.995      0.986      0.976      0.976      0.979      0.953\n"
     ]
    },
    {
     "name": "stderr",
     "output_type": "stream",
     "text": [
      "\n"
     ]
    },
    {
     "name": "stdout",
     "output_type": "stream",
     "text": [
      "\n",
      "      Epoch    GPU_mem   box_loss  pose_loss  kobj_loss   cls_loss   dfl_loss  Instances       Size\n"
     ]
    },
    {
     "name": "stderr",
     "output_type": "stream",
     "text": [
      "    373/500      7.28G       0.16     0.3396     0.1349     0.1394     0.8696         14        640: 100%|██████████| 111/111 [00:58<00:00,  1.88it/s]\n",
      "                 Class     Images  Instances      Box(P          R      mAP50  mAP50-95)     Pose(P          R      mAP50  mAP50-95): 100%|██████████| 11/11 [00:02<00:00,  3.77it/s]"
     ]
    },
    {
     "name": "stdout",
     "output_type": "stream",
     "text": [
      "                   all        166        166          1          1      0.995      0.982      0.994      0.994      0.994      0.946\n"
     ]
    },
    {
     "name": "stderr",
     "output_type": "stream",
     "text": [
      "\n"
     ]
    },
    {
     "name": "stdout",
     "output_type": "stream",
     "text": [
      "\n",
      "      Epoch    GPU_mem   box_loss  pose_loss  kobj_loss   cls_loss   dfl_loss  Instances       Size\n"
     ]
    },
    {
     "name": "stderr",
     "output_type": "stream",
     "text": [
      "    374/500      7.27G     0.1514     0.3112     0.1309     0.1369     0.8673         14        640: 100%|██████████| 111/111 [00:58<00:00,  1.91it/s]\n",
      "                 Class     Images  Instances      Box(P          R      mAP50  mAP50-95)     Pose(P          R      mAP50  mAP50-95): 100%|██████████| 11/11 [00:02<00:00,  3.77it/s]"
     ]
    },
    {
     "name": "stdout",
     "output_type": "stream",
     "text": [
      "                   all        166        166          1          1      0.995      0.981      0.976      0.976      0.977      0.941\n"
     ]
    },
    {
     "name": "stderr",
     "output_type": "stream",
     "text": [
      "\n"
     ]
    },
    {
     "name": "stdout",
     "output_type": "stream",
     "text": [
      "\n",
      "      Epoch    GPU_mem   box_loss  pose_loss  kobj_loss   cls_loss   dfl_loss  Instances       Size\n"
     ]
    },
    {
     "name": "stderr",
     "output_type": "stream",
     "text": [
      "    375/500      7.27G     0.1552     0.2908     0.1262     0.1389     0.8721         11        640: 100%|██████████| 111/111 [00:58<00:00,  1.90it/s]\n",
      "                 Class     Images  Instances      Box(P          R      mAP50  mAP50-95)     Pose(P          R      mAP50  mAP50-95): 100%|██████████| 11/11 [00:02<00:00,  3.75it/s]"
     ]
    },
    {
     "name": "stdout",
     "output_type": "stream",
     "text": [
      "                   all        166        166          1          1      0.995      0.982      0.988      0.988      0.987      0.943\n"
     ]
    },
    {
     "name": "stderr",
     "output_type": "stream",
     "text": [
      "\n"
     ]
    },
    {
     "name": "stdout",
     "output_type": "stream",
     "text": [
      "\n",
      "      Epoch    GPU_mem   box_loss  pose_loss  kobj_loss   cls_loss   dfl_loss  Instances       Size\n"
     ]
    },
    {
     "name": "stderr",
     "output_type": "stream",
     "text": [
      "    376/500      7.29G     0.1502     0.3214     0.1365     0.1377     0.8753         12        640: 100%|██████████| 111/111 [00:58<00:00,  1.90it/s]\n",
      "                 Class     Images  Instances      Box(P          R      mAP50  mAP50-95)     Pose(P          R      mAP50  mAP50-95): 100%|██████████| 11/11 [00:02<00:00,  3.75it/s]"
     ]
    },
    {
     "name": "stdout",
     "output_type": "stream",
     "text": [
      "                   all        166        166          1          1      0.995      0.983       0.97       0.97      0.976      0.949\n"
     ]
    },
    {
     "name": "stderr",
     "output_type": "stream",
     "text": [
      "\n"
     ]
    },
    {
     "name": "stdout",
     "output_type": "stream",
     "text": [
      "\n",
      "      Epoch    GPU_mem   box_loss  pose_loss  kobj_loss   cls_loss   dfl_loss  Instances       Size\n"
     ]
    },
    {
     "name": "stderr",
     "output_type": "stream",
     "text": [
      "    377/500      7.28G     0.1506      0.341     0.1368     0.1355     0.8679         14        640: 100%|██████████| 111/111 [00:58<00:00,  1.90it/s]\n",
      "                 Class     Images  Instances      Box(P          R      mAP50  mAP50-95)     Pose(P          R      mAP50  mAP50-95): 100%|██████████| 11/11 [00:02<00:00,  3.76it/s]"
     ]
    },
    {
     "name": "stdout",
     "output_type": "stream",
     "text": [
      "                   all        166        166          1          1      0.995      0.982      0.982      0.982      0.984      0.951\n"
     ]
    },
    {
     "name": "stderr",
     "output_type": "stream",
     "text": [
      "\n"
     ]
    },
    {
     "name": "stdout",
     "output_type": "stream",
     "text": [
      "\n",
      "      Epoch    GPU_mem   box_loss  pose_loss  kobj_loss   cls_loss   dfl_loss  Instances       Size\n"
     ]
    },
    {
     "name": "stderr",
     "output_type": "stream",
     "text": [
      "    378/500      7.29G     0.1541     0.2902     0.1263      0.135     0.8766         13        640: 100%|██████████| 111/111 [00:58<00:00,  1.89it/s]\n",
      "                 Class     Images  Instances      Box(P          R      mAP50  mAP50-95)     Pose(P          R      mAP50  mAP50-95): 100%|██████████| 11/11 [00:04<00:00,  2.46it/s]"
     ]
    },
    {
     "name": "stdout",
     "output_type": "stream",
     "text": [
      "                   all        166        166          1          1      0.995      0.981      0.994      0.994      0.993       0.95\n"
     ]
    },
    {
     "name": "stderr",
     "output_type": "stream",
     "text": [
      "\n"
     ]
    },
    {
     "name": "stdout",
     "output_type": "stream",
     "text": [
      "\n",
      "      Epoch    GPU_mem   box_loss  pose_loss  kobj_loss   cls_loss   dfl_loss  Instances       Size\n"
     ]
    },
    {
     "name": "stderr",
     "output_type": "stream",
     "text": [
      "    379/500      7.02G     0.1561     0.2813     0.1327     0.1366     0.8655         12        640: 100%|██████████| 111/111 [01:03<00:00,  1.75it/s]\n",
      "                 Class     Images  Instances      Box(P          R      mAP50  mAP50-95)     Pose(P          R      mAP50  mAP50-95): 100%|██████████| 11/11 [00:04<00:00,  2.62it/s]"
     ]
    },
    {
     "name": "stdout",
     "output_type": "stream",
     "text": [
      "                   all        166        166          1          1      0.995      0.981          1          1      0.995      0.953\n"
     ]
    },
    {
     "name": "stderr",
     "output_type": "stream",
     "text": [
      "\n"
     ]
    },
    {
     "name": "stdout",
     "output_type": "stream",
     "text": [
      "\n",
      "      Epoch    GPU_mem   box_loss  pose_loss  kobj_loss   cls_loss   dfl_loss  Instances       Size\n"
     ]
    },
    {
     "name": "stderr",
     "output_type": "stream",
     "text": [
      "    380/500      7.05G     0.1545     0.2903     0.1265     0.1415     0.8779         14        640: 100%|██████████| 111/111 [01:04<00:00,  1.73it/s]\n",
      "                 Class     Images  Instances      Box(P          R      mAP50  mAP50-95)     Pose(P          R      mAP50  mAP50-95): 100%|██████████| 11/11 [00:04<00:00,  2.50it/s]"
     ]
    },
    {
     "name": "stdout",
     "output_type": "stream",
     "text": [
      "                   all        166        166          1          1      0.995       0.98      0.988      0.988      0.988       0.95\n"
     ]
    },
    {
     "name": "stderr",
     "output_type": "stream",
     "text": [
      "\n"
     ]
    },
    {
     "name": "stdout",
     "output_type": "stream",
     "text": [
      "\n",
      "      Epoch    GPU_mem   box_loss  pose_loss  kobj_loss   cls_loss   dfl_loss  Instances       Size\n"
     ]
    },
    {
     "name": "stderr",
     "output_type": "stream",
     "text": [
      "    381/500      7.29G      0.154     0.3281     0.1344     0.1355       0.87         12        640: 100%|██████████| 111/111 [01:03<00:00,  1.76it/s]\n",
      "                 Class     Images  Instances      Box(P          R      mAP50  mAP50-95)     Pose(P          R      mAP50  mAP50-95): 100%|██████████| 11/11 [00:03<00:00,  3.60it/s]"
     ]
    },
    {
     "name": "stdout",
     "output_type": "stream",
     "text": [
      "                   all        166        166          1          1      0.995      0.981      0.988      0.988      0.988      0.949\n"
     ]
    },
    {
     "name": "stderr",
     "output_type": "stream",
     "text": [
      "\n"
     ]
    },
    {
     "name": "stdout",
     "output_type": "stream",
     "text": [
      "\n",
      "      Epoch    GPU_mem   box_loss  pose_loss  kobj_loss   cls_loss   dfl_loss  Instances       Size\n"
     ]
    },
    {
     "name": "stderr",
     "output_type": "stream",
     "text": [
      "    382/500      7.28G     0.1509     0.3099     0.1267     0.1388      0.876         16        640: 100%|██████████| 111/111 [01:03<00:00,  1.76it/s]\n",
      "                 Class     Images  Instances      Box(P          R      mAP50  mAP50-95)     Pose(P          R      mAP50  mAP50-95): 100%|██████████| 11/11 [00:04<00:00,  2.46it/s]"
     ]
    },
    {
     "name": "stdout",
     "output_type": "stream",
     "text": [
      "                   all        166        166          1          1      0.995      0.983      0.988      0.988      0.987      0.944\n"
     ]
    },
    {
     "name": "stderr",
     "output_type": "stream",
     "text": [
      "\n"
     ]
    },
    {
     "name": "stdout",
     "output_type": "stream",
     "text": [
      "\n",
      "      Epoch    GPU_mem   box_loss  pose_loss  kobj_loss   cls_loss   dfl_loss  Instances       Size\n"
     ]
    },
    {
     "name": "stderr",
     "output_type": "stream",
     "text": [
      "    383/500      7.21G     0.1492     0.2771     0.1172     0.1366     0.8715         23        640:  47%|████▋     | 52/111 [00:30<00:34,  1.72it/s]\n"
     ]
    },
    {
     "ename": "KeyboardInterrupt",
     "evalue": "",
     "output_type": "error",
     "traceback": [
      "\u001b[1;31m---------------------------------------------------------------------------\u001b[0m",
      "\u001b[1;31mKeyboardInterrupt\u001b[0m                         Traceback (most recent call last)",
      "Cell \u001b[1;32mIn[1], line 20\u001b[0m\n\u001b[0;32m     17\u001b[0m     model \u001b[38;5;241m=\u001b[39m YOLO(model_path)  \u001b[38;5;66;03m# 加载预训练模型\u001b[39;00m\n\u001b[0;32m     19\u001b[0m \u001b[38;5;66;03m# 开始训练（自动恢复或从头开始）\u001b[39;00m\n\u001b[1;32m---> 20\u001b[0m \u001b[43mmodel\u001b[49m\u001b[38;5;241;43m.\u001b[39;49m\u001b[43mtrain\u001b[49m\u001b[43m(\u001b[49m\n\u001b[0;32m     21\u001b[0m \u001b[43m    \u001b[49m\u001b[43mdata\u001b[49m\u001b[38;5;241;43m=\u001b[39;49m\u001b[43mdata_path\u001b[49m\u001b[43m,\u001b[49m\n\u001b[0;32m     22\u001b[0m \u001b[43m    \u001b[49m\u001b[43mepochs\u001b[49m\u001b[38;5;241;43m=\u001b[39;49m\u001b[38;5;241;43m500\u001b[39;49m\u001b[43m,\u001b[49m\n\u001b[0;32m     23\u001b[0m \u001b[43m    \u001b[49m\u001b[43mimgsz\u001b[49m\u001b[38;5;241;43m=\u001b[39;49m\u001b[38;5;241;43m640\u001b[39;49m\u001b[43m,\u001b[49m\n\u001b[0;32m     24\u001b[0m \u001b[43m    \u001b[49m\u001b[43mbatch\u001b[49m\u001b[38;5;241;43m=\u001b[39;49m\u001b[38;5;241;43m8\u001b[39;49m\u001b[43m,\u001b[49m\n\u001b[0;32m     25\u001b[0m \u001b[43m    \u001b[49m\u001b[43mproject\u001b[49m\u001b[38;5;241;43m=\u001b[39;49m\u001b[43mproject_path\u001b[49m\u001b[43m,\u001b[49m\n\u001b[0;32m     26\u001b[0m \u001b[43m    \u001b[49m\u001b[43mname\u001b[49m\u001b[43m \u001b[49m\u001b[38;5;241;43m=\u001b[39;49m\u001b[43m \u001b[49m\u001b[38;5;124;43m\"\u001b[39;49m\u001b[38;5;124;43mtrain3\u001b[39;49m\u001b[38;5;124;43m\"\u001b[39;49m\u001b[43m,\u001b[49m\n\u001b[0;32m     27\u001b[0m \u001b[43m    \u001b[49m\u001b[43mresume\u001b[49m\u001b[38;5;241;43m=\u001b[39;49m\u001b[38;5;28;43;01mTrue\u001b[39;49;00m\u001b[43m  \u001b[49m\u001b[38;5;66;43;03m# 启用自动恢复功能\u001b[39;49;00m\n\u001b[0;32m     28\u001b[0m \u001b[43m)\u001b[49m\n",
      "File \u001b[1;32md:\\Anaconda\\envs\\yolov8\\lib\\site-packages\\ultralytics\\engine\\model.py:797\u001b[0m, in \u001b[0;36mModel.train\u001b[1;34m(self, trainer, **kwargs)\u001b[0m\n\u001b[0;32m    794\u001b[0m     \u001b[38;5;28mself\u001b[39m\u001b[38;5;241m.\u001b[39mmodel \u001b[38;5;241m=\u001b[39m \u001b[38;5;28mself\u001b[39m\u001b[38;5;241m.\u001b[39mtrainer\u001b[38;5;241m.\u001b[39mmodel\n\u001b[0;32m    796\u001b[0m \u001b[38;5;28mself\u001b[39m\u001b[38;5;241m.\u001b[39mtrainer\u001b[38;5;241m.\u001b[39mhub_session \u001b[38;5;241m=\u001b[39m \u001b[38;5;28mself\u001b[39m\u001b[38;5;241m.\u001b[39msession  \u001b[38;5;66;03m# attach optional HUB session\u001b[39;00m\n\u001b[1;32m--> 797\u001b[0m \u001b[38;5;28;43mself\u001b[39;49m\u001b[38;5;241;43m.\u001b[39;49m\u001b[43mtrainer\u001b[49m\u001b[38;5;241;43m.\u001b[39;49m\u001b[43mtrain\u001b[49m\u001b[43m(\u001b[49m\u001b[43m)\u001b[49m\n\u001b[0;32m    798\u001b[0m \u001b[38;5;66;03m# Update model and cfg after training\u001b[39;00m\n\u001b[0;32m    799\u001b[0m \u001b[38;5;28;01mif\u001b[39;00m RANK \u001b[38;5;129;01min\u001b[39;00m {\u001b[38;5;241m-\u001b[39m\u001b[38;5;241m1\u001b[39m, \u001b[38;5;241m0\u001b[39m}:\n",
      "File \u001b[1;32md:\\Anaconda\\envs\\yolov8\\lib\\site-packages\\ultralytics\\engine\\trainer.py:227\u001b[0m, in \u001b[0;36mBaseTrainer.train\u001b[1;34m(self)\u001b[0m\n\u001b[0;32m    224\u001b[0m         ddp_cleanup(\u001b[38;5;28mself\u001b[39m, \u001b[38;5;28mstr\u001b[39m(file))\n\u001b[0;32m    226\u001b[0m \u001b[38;5;28;01melse\u001b[39;00m:\n\u001b[1;32m--> 227\u001b[0m     \u001b[38;5;28;43mself\u001b[39;49m\u001b[38;5;241;43m.\u001b[39;49m\u001b[43m_do_train\u001b[49m\u001b[43m(\u001b[49m\u001b[43mworld_size\u001b[49m\u001b[43m)\u001b[49m\n",
      "File \u001b[1;32md:\\Anaconda\\envs\\yolov8\\lib\\site-packages\\ultralytics\\engine\\trainer.py:415\u001b[0m, in \u001b[0;36mBaseTrainer._do_train\u001b[1;34m(self, world_size)\u001b[0m\n\u001b[0;32m    410\u001b[0m     \u001b[38;5;28mself\u001b[39m\u001b[38;5;241m.\u001b[39mtloss \u001b[38;5;241m=\u001b[39m (\n\u001b[0;32m    411\u001b[0m         (\u001b[38;5;28mself\u001b[39m\u001b[38;5;241m.\u001b[39mtloss \u001b[38;5;241m*\u001b[39m i \u001b[38;5;241m+\u001b[39m \u001b[38;5;28mself\u001b[39m\u001b[38;5;241m.\u001b[39mloss_items) \u001b[38;5;241m/\u001b[39m (i \u001b[38;5;241m+\u001b[39m \u001b[38;5;241m1\u001b[39m) \u001b[38;5;28;01mif\u001b[39;00m \u001b[38;5;28mself\u001b[39m\u001b[38;5;241m.\u001b[39mtloss \u001b[38;5;129;01mis\u001b[39;00m \u001b[38;5;129;01mnot\u001b[39;00m \u001b[38;5;28;01mNone\u001b[39;00m \u001b[38;5;28;01melse\u001b[39;00m \u001b[38;5;28mself\u001b[39m\u001b[38;5;241m.\u001b[39mloss_items\n\u001b[0;32m    412\u001b[0m     )\n\u001b[0;32m    414\u001b[0m \u001b[38;5;66;03m# Backward\u001b[39;00m\n\u001b[1;32m--> 415\u001b[0m \u001b[38;5;28;43mself\u001b[39;49m\u001b[38;5;241;43m.\u001b[39;49m\u001b[43mscaler\u001b[49m\u001b[38;5;241;43m.\u001b[39;49m\u001b[43mscale\u001b[49m\u001b[43m(\u001b[49m\u001b[38;5;28;43mself\u001b[39;49m\u001b[38;5;241;43m.\u001b[39;49m\u001b[43mloss\u001b[49m\u001b[43m)\u001b[49m\u001b[38;5;241;43m.\u001b[39;49m\u001b[43mbackward\u001b[49m\u001b[43m(\u001b[49m\u001b[43m)\u001b[49m\n\u001b[0;32m    417\u001b[0m \u001b[38;5;66;03m# Optimize - https://pytorch.org/docs/master/notes/amp_examples.html\u001b[39;00m\n\u001b[0;32m    418\u001b[0m \u001b[38;5;28;01mif\u001b[39;00m ni \u001b[38;5;241m-\u001b[39m last_opt_step \u001b[38;5;241m>\u001b[39m\u001b[38;5;241m=\u001b[39m \u001b[38;5;28mself\u001b[39m\u001b[38;5;241m.\u001b[39maccumulate:\n",
      "File \u001b[1;32md:\\Anaconda\\envs\\yolov8\\lib\\site-packages\\torch\\_tensor.py:648\u001b[0m, in \u001b[0;36mTensor.backward\u001b[1;34m(self, gradient, retain_graph, create_graph, inputs)\u001b[0m\n\u001b[0;32m    638\u001b[0m \u001b[38;5;28;01mif\u001b[39;00m has_torch_function_unary(\u001b[38;5;28mself\u001b[39m):\n\u001b[0;32m    639\u001b[0m     \u001b[38;5;28;01mreturn\u001b[39;00m handle_torch_function(\n\u001b[0;32m    640\u001b[0m         Tensor\u001b[38;5;241m.\u001b[39mbackward,\n\u001b[0;32m    641\u001b[0m         (\u001b[38;5;28mself\u001b[39m,),\n\u001b[1;32m   (...)\u001b[0m\n\u001b[0;32m    646\u001b[0m         inputs\u001b[38;5;241m=\u001b[39minputs,\n\u001b[0;32m    647\u001b[0m     )\n\u001b[1;32m--> 648\u001b[0m \u001b[43mtorch\u001b[49m\u001b[38;5;241;43m.\u001b[39;49m\u001b[43mautograd\u001b[49m\u001b[38;5;241;43m.\u001b[39;49m\u001b[43mbackward\u001b[49m\u001b[43m(\u001b[49m\n\u001b[0;32m    649\u001b[0m \u001b[43m    \u001b[49m\u001b[38;5;28;43mself\u001b[39;49m\u001b[43m,\u001b[49m\u001b[43m \u001b[49m\u001b[43mgradient\u001b[49m\u001b[43m,\u001b[49m\u001b[43m \u001b[49m\u001b[43mretain_graph\u001b[49m\u001b[43m,\u001b[49m\u001b[43m \u001b[49m\u001b[43mcreate_graph\u001b[49m\u001b[43m,\u001b[49m\u001b[43m \u001b[49m\u001b[43minputs\u001b[49m\u001b[38;5;241;43m=\u001b[39;49m\u001b[43minputs\u001b[49m\n\u001b[0;32m    650\u001b[0m \u001b[43m\u001b[49m\u001b[43m)\u001b[49m\n",
      "File \u001b[1;32md:\\Anaconda\\envs\\yolov8\\lib\\site-packages\\torch\\autograd\\__init__.py:353\u001b[0m, in \u001b[0;36mbackward\u001b[1;34m(tensors, grad_tensors, retain_graph, create_graph, grad_variables, inputs)\u001b[0m\n\u001b[0;32m    348\u001b[0m     retain_graph \u001b[38;5;241m=\u001b[39m create_graph\n\u001b[0;32m    350\u001b[0m \u001b[38;5;66;03m# The reason we repeat the same comment below is that\u001b[39;00m\n\u001b[0;32m    351\u001b[0m \u001b[38;5;66;03m# some Python versions print out the first line of a multi-line function\u001b[39;00m\n\u001b[0;32m    352\u001b[0m \u001b[38;5;66;03m# calls in the traceback and some print out the last line\u001b[39;00m\n\u001b[1;32m--> 353\u001b[0m \u001b[43m_engine_run_backward\u001b[49m\u001b[43m(\u001b[49m\n\u001b[0;32m    354\u001b[0m \u001b[43m    \u001b[49m\u001b[43mtensors\u001b[49m\u001b[43m,\u001b[49m\n\u001b[0;32m    355\u001b[0m \u001b[43m    \u001b[49m\u001b[43mgrad_tensors_\u001b[49m\u001b[43m,\u001b[49m\n\u001b[0;32m    356\u001b[0m \u001b[43m    \u001b[49m\u001b[43mretain_graph\u001b[49m\u001b[43m,\u001b[49m\n\u001b[0;32m    357\u001b[0m \u001b[43m    \u001b[49m\u001b[43mcreate_graph\u001b[49m\u001b[43m,\u001b[49m\n\u001b[0;32m    358\u001b[0m \u001b[43m    \u001b[49m\u001b[43minputs\u001b[49m\u001b[43m,\u001b[49m\n\u001b[0;32m    359\u001b[0m \u001b[43m    \u001b[49m\u001b[43mallow_unreachable\u001b[49m\u001b[38;5;241;43m=\u001b[39;49m\u001b[38;5;28;43;01mTrue\u001b[39;49;00m\u001b[43m,\u001b[49m\n\u001b[0;32m    360\u001b[0m \u001b[43m    \u001b[49m\u001b[43maccumulate_grad\u001b[49m\u001b[38;5;241;43m=\u001b[39;49m\u001b[38;5;28;43;01mTrue\u001b[39;49;00m\u001b[43m,\u001b[49m\n\u001b[0;32m    361\u001b[0m \u001b[43m\u001b[49m\u001b[43m)\u001b[49m\n",
      "File \u001b[1;32md:\\Anaconda\\envs\\yolov8\\lib\\site-packages\\torch\\autograd\\graph.py:824\u001b[0m, in \u001b[0;36m_engine_run_backward\u001b[1;34m(t_outputs, *args, **kwargs)\u001b[0m\n\u001b[0;32m    822\u001b[0m     unregister_hooks \u001b[38;5;241m=\u001b[39m _register_logging_hooks_on_whole_graph(t_outputs)\n\u001b[0;32m    823\u001b[0m \u001b[38;5;28;01mtry\u001b[39;00m:\n\u001b[1;32m--> 824\u001b[0m     \u001b[38;5;28;01mreturn\u001b[39;00m Variable\u001b[38;5;241m.\u001b[39m_execution_engine\u001b[38;5;241m.\u001b[39mrun_backward(  \u001b[38;5;66;03m# Calls into the C++ engine to run the backward pass\u001b[39;00m\n\u001b[0;32m    825\u001b[0m         t_outputs, \u001b[38;5;241m*\u001b[39margs, \u001b[38;5;241m*\u001b[39m\u001b[38;5;241m*\u001b[39mkwargs\n\u001b[0;32m    826\u001b[0m     )  \u001b[38;5;66;03m# Calls into the C++ engine to run the backward pass\u001b[39;00m\n\u001b[0;32m    827\u001b[0m \u001b[38;5;28;01mfinally\u001b[39;00m:\n\u001b[0;32m    828\u001b[0m     \u001b[38;5;28;01mif\u001b[39;00m attach_logging_hooks:\n",
      "\u001b[1;31mKeyboardInterrupt\u001b[0m: "
     ]
    }
   ],
   "source": [
    "from ultralytics import YOLO\n",
    "import os\n",
    "os.environ[\"KMP_DUPLICATE_LIB_OK\"] = \"TRUE\"\n",
    "\n",
    "# 定义路径\n",
    "model_path = \"../../models/yolov8x-pose.pt\"\n",
    "last_weights_path = \"../../runs/detect/court_det2/train3/weights/last.pt\"\n",
    "data_path = '../../dataset/Court_keypoints_data/data.yaml'\n",
    "project_path = \"../../runs/detect/court_det2\"\n",
    "\n",
    "# 检查是否存在上次训练的检查点\n",
    "if os.path.exists(last_weights_path):\n",
    "    print(f\"发现检查点文件 {last_weights_path}，将从中断处恢复训练\")\n",
    "    model = YOLO(last_weights_path)  # 加载上次训练的权重\n",
    "else:\n",
    "    print(f\"未发现检查点文件，将从头开始训练\")\n",
    "    model = YOLO(model_path)  # 加载预训练模型\n",
    "\n",
    "# 开始训练（自动恢复或从头开始）\n",
    "model.train(\n",
    "    data=data_path,\n",
    "    epochs=500,\n",
    "    imgsz=640,\n",
    "    batch=8,\n",
    "    project=project_path,\n",
    "    name = \"train3\",\n",
    "    resume=True  # 启用自动恢复功能\n",
    ")"
   ]
  },
  {
   "cell_type": "code",
   "execution_count": null,
   "id": "07f8019a",
   "metadata": {},
   "outputs": [
    {
     "name": "stdout",
     "output_type": "stream",
     "text": [
      "WARNING 'source' is missing. Using 'source=D:\\Anaconda\\envs\\yolov8\\Lib\\site-packages\\ultralytics\\assets'.\n",
      "\n",
      "image 1/2 D:\\Anaconda\\envs\\yolov8\\Lib\\site-packages\\ultralytics\\assets\\bus.jpg: 640x480 (no detections), 90.0ms\n",
      "image 2/2 D:\\Anaconda\\envs\\yolov8\\Lib\\site-packages\\ultralytics\\assets\\zidane.jpg: 384x640 (no detections), 28.8ms\n",
      "Speed: 4.8ms preprocess, 59.4ms inference, 1.8ms postprocess per image at shape (1, 3, 384, 640)\n",
      "Results saved to \u001b[1mruns\\pose\\predict\u001b[0m\n"
     ]
    }
   ],
   "source": [
    "from ultralytics import YOLO\n",
    "\n",
    "model = YOLO(\"../../models/v8x_court_detection.pt\")\n",
    "# results = model.val(\"../../dataset/Court_keypoints_data/test/images\", show=True, save=False)\n",
    "\n",
    "results = model.val(\n",
    "    data=\"../../dataset/Court_keypoints_data/data.yaml\",  # 包含test集路径的配置文件\n",
    "    imgsz=640,            # 输入尺寸与训练时一致\n",
    "    save=True,            # 保存评估结果可视化\n",
    "    save_json=True,       # 保存JSON格式结果（用于后续分析）\n",
    "    verbose=True          # 打印详细指标\n",
    ")\n"
   ]
  },
  {
   "cell_type": "code",
   "execution_count": null,
   "id": "a1e97265",
   "metadata": {},
   "outputs": [],
   "source": []
  }
 ],
 "metadata": {
  "kernelspec": {
   "display_name": "yolov8",
   "language": "python",
   "name": "python3"
  },
  "language_info": {
   "codemirror_mode": {
    "name": "ipython",
    "version": 3
   },
   "file_extension": ".py",
   "mimetype": "text/x-python",
   "name": "python",
   "nbconvert_exporter": "python",
   "pygments_lexer": "ipython3",
   "version": "3.10.18"
  }
 },
 "nbformat": 4,
 "nbformat_minor": 5
}
