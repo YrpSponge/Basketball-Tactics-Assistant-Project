{
 "cells": [
  {
   "cell_type": "code",
   "execution_count": 1,
   "id": "cf2e1977",
   "metadata": {},
   "outputs": [
    {
     "data": {
      "text/plain": [
       "3"
      ]
     },
     "execution_count": 1,
     "metadata": {},
     "output_type": "execute_result"
    }
   ],
   "source": [
    "a=1\n",
    "b=2\n",
    "c=a+b\n",
    "c"
   ]
  },
  {
   "cell_type": "code",
   "execution_count": 2,
   "id": "91e91766",
   "metadata": {},
   "outputs": [
    {
     "name": "stdout",
     "output_type": "stream",
     "text": [
      "Collecting roboflow\n",
      "  Downloading roboflow-1.1.66-py3-none-any.whl.metadata (9.7 kB)\n",
      "Requirement already satisfied: certifi in d:\\anaconda\\envs\\yolov8\\lib\\site-packages (from roboflow) (2025.6.15)\n",
      "Collecting idna==3.7 (from roboflow)\n",
      "  Downloading idna-3.7-py3-none-any.whl.metadata (9.9 kB)\n",
      "Requirement already satisfied: cycler in d:\\anaconda\\envs\\yolov8\\lib\\site-packages (from roboflow) (0.12.1)\n",
      "Requirement already satisfied: kiwisolver>=1.3.1 in d:\\anaconda\\envs\\yolov8\\lib\\site-packages (from roboflow) (1.4.8)\n",
      "Requirement already satisfied: matplotlib in d:\\anaconda\\envs\\yolov8\\lib\\site-packages (from roboflow) (3.10.3)\n",
      "Requirement already satisfied: numpy>=1.18.5 in d:\\anaconda\\envs\\yolov8\\lib\\site-packages (from roboflow) (2.2.5)\n",
      "INFO: pip is looking at multiple versions of roboflow to determine which version is compatible with other requirements. This could take a while.\n",
      "Collecting roboflow\n",
      "  Downloading roboflow-1.1.65-py3-none-any.whl.metadata (9.7 kB)\n",
      "  Downloading roboflow-1.1.64-py3-none-any.whl.metadata (9.7 kB)\n",
      "  Downloading roboflow-1.1.63-py3-none-any.whl.metadata (9.7 kB)\n",
      "  Downloading roboflow-1.1.62-py3-none-any.whl.metadata (9.7 kB)\n",
      "  Downloading roboflow-1.1.61-py3-none-any.whl.metadata (9.7 kB)\n",
      "  Downloading roboflow-1.1.60-py3-none-any.whl.metadata (9.7 kB)\n",
      "  Downloading roboflow-1.1.58-py3-none-any.whl.metadata (9.7 kB)\n",
      "INFO: pip is still looking at multiple versions of roboflow to determine which version is compatible with other requirements. This could take a while.\n",
      "  Downloading roboflow-1.1.57-py3-none-any.whl.metadata (9.7 kB)\n",
      "  Downloading roboflow-1.1.56-py3-none-any.whl.metadata (9.7 kB)\n",
      "  Downloading roboflow-1.1.55-py3-none-any.whl.metadata (9.7 kB)\n",
      "  Downloading roboflow-1.1.54-py3-none-any.whl.metadata (9.7 kB)\n",
      "  Downloading roboflow-1.1.53-py3-none-any.whl.metadata (9.7 kB)\n",
      "INFO: This is taking longer than usual. You might need to provide the dependency resolver with stricter constraints to reduce runtime. See https://pip.pypa.io/warnings/backtracking for guidance. If you want to abort this run, press Ctrl + C.\n",
      "  Downloading roboflow-1.1.51-py3-none-any.whl.metadata (9.7 kB)\n",
      "  Downloading roboflow-1.1.50-py3-none-any.whl.metadata (9.7 kB)\n",
      "  Downloading roboflow-1.1.49-py3-none-any.whl.metadata (9.7 kB)\n",
      "  Downloading roboflow-1.1.48-py3-none-any.whl.metadata (9.7 kB)\n",
      "  Downloading roboflow-1.1.47-py3-none-any.whl.metadata (9.7 kB)\n",
      "  Downloading roboflow-1.1.46-py3-none-any.whl.metadata (9.7 kB)\n",
      "  Downloading roboflow-1.1.45-py3-none-any.whl.metadata (9.7 kB)\n",
      "  Downloading roboflow-1.1.44-py3-none-any.whl.metadata (9.7 kB)\n",
      "  Downloading roboflow-1.1.43-py3-none-any.whl.metadata (9.7 kB)\n",
      "  Downloading roboflow-1.1.42-py3-none-any.whl.metadata (9.4 kB)\n",
      "  Downloading roboflow-1.1.41-py3-none-any.whl.metadata (9.4 kB)\n",
      "  Downloading roboflow-1.1.40-py3-none-any.whl.metadata (9.4 kB)\n",
      "  Downloading roboflow-1.1.39-py3-none-any.whl.metadata (9.4 kB)\n",
      "  Downloading roboflow-1.1.38-py3-none-any.whl.metadata (9.4 kB)\n",
      "  Downloading roboflow-1.1.37-py3-none-any.whl.metadata (9.4 kB)\n",
      "Collecting chardet==4.0.0 (from roboflow)\n",
      "  Downloading chardet-4.0.0-py2.py3-none-any.whl.metadata (3.5 kB)\n",
      "Collecting roboflow\n",
      "  Downloading roboflow-1.1.36-py3-none-any.whl.metadata (9.4 kB)\n",
      "  Downloading roboflow-1.1.35-py3-none-any.whl.metadata (9.4 kB)\n",
      "  Downloading roboflow-1.1.34-py3-none-any.whl.metadata (9.5 kB)\n",
      "  Downloading roboflow-1.1.33-py3-none-any.whl.metadata (9.2 kB)\n",
      "  Downloading roboflow-1.1.32-py3-none-any.whl.metadata (9.3 kB)\n",
      "Collecting certifi==2023.7.22 (from roboflow)\n",
      "  Downloading certifi-2023.7.22-py3-none-any.whl.metadata (2.2 kB)\n",
      "Collecting cycler==0.10.0 (from roboflow)\n",
      "  Downloading cycler-0.10.0-py2.py3-none-any.whl.metadata (722 bytes)\n",
      "Collecting idna==2.10 (from roboflow)\n",
      "  Downloading idna-2.10-py2.py3-none-any.whl.metadata (9.1 kB)\n",
      "Collecting roboflow\n",
      "  Downloading roboflow-1.1.31-py3-none-any.whl.metadata (9.3 kB)\n",
      "  Downloading roboflow-1.1.30-py3-none-any.whl.metadata (9.3 kB)\n",
      "  Downloading roboflow-1.1.29-py3-none-any.whl.metadata (9.3 kB)\n",
      "  Downloading roboflow-1.1.28-py3-none-any.whl.metadata (9.3 kB)\n",
      "  Downloading roboflow-1.1.27-py3-none-any.whl.metadata (9.3 kB)\n",
      "  Downloading roboflow-1.1.26-py3-none-any.whl.metadata (9.3 kB)\n",
      "  Downloading roboflow-1.1.25-py3-none-any.whl.metadata (9.3 kB)\n",
      "  Downloading roboflow-1.1.24-py3-none-any.whl.metadata (9.3 kB)\n",
      "  Downloading roboflow-1.1.23-py3-none-any.whl.metadata (9.3 kB)\n",
      "  Downloading roboflow-1.1.22-py3-none-any.whl.metadata (9.3 kB)\n",
      "  Downloading roboflow-1.1.21-py3-none-any.whl.metadata (9.3 kB)\n",
      "  Downloading roboflow-1.1.20-py3-none-any.whl.metadata (9.3 kB)\n",
      "  Downloading roboflow-1.1.19-py3-none-any.whl.metadata (9.3 kB)\n",
      "  Downloading roboflow-1.1.18-py3-none-any.whl.metadata (9.3 kB)\n",
      "  Downloading roboflow-1.1.17-py3-none-any.whl.metadata (9.3 kB)\n",
      "  Downloading roboflow-1.1.16-py3-none-any.whl.metadata (9.3 kB)\n",
      "  Downloading roboflow-1.1.15-py3-none-any.whl.metadata (9.3 kB)\n",
      "  Downloading roboflow-1.1.14-py3-none-any.whl.metadata (9.1 kB)\n",
      "  Downloading roboflow-1.1.13-py3-none-any.whl.metadata (9.1 kB)\n",
      "  Downloading roboflow-1.1.12-py3-none-any.whl.metadata (9.1 kB)\n",
      "  Downloading roboflow-1.1.11-py3-none-any.whl.metadata (9.1 kB)\n",
      "  Downloading roboflow-1.1.10-py3-none-any.whl.metadata (9.1 kB)\n",
      "  Downloading roboflow-1.1.9-py3-none-any.whl.metadata (9.1 kB)\n",
      "  Downloading roboflow-1.1.8-py3-none-any.whl.metadata (9.1 kB)\n",
      "  Downloading roboflow-1.1.7-py3-none-any.whl.metadata (9.0 kB)\n",
      "Collecting certifi==2022.12.7 (from roboflow)\n",
      "  Downloading certifi-2022.12.7-py3-none-any.whl.metadata (2.9 kB)\n",
      "Collecting roboflow\n",
      "  Downloading roboflow-1.1.6-py3-none-any.whl.metadata (9.0 kB)\n",
      "  Downloading roboflow-1.1.5-py3-none-any.whl.metadata (9.0 kB)\n",
      "  Downloading roboflow-1.1.4-py3-none-any.whl.metadata (7.6 kB)\n",
      "Requirement already satisfied: opencv-python>=4.1.2 in d:\\anaconda\\envs\\yolov8\\lib\\site-packages (from roboflow) (4.11.0.86)\n",
      "Requirement already satisfied: Pillow>=7.1.2 in d:\\anaconda\\envs\\yolov8\\lib\\site-packages (from roboflow) (11.1.0)\n",
      "Collecting pyparsing==2.4.7 (from roboflow)\n",
      "  Downloading pyparsing-2.4.7-py2.py3-none-any.whl.metadata (3.6 kB)\n",
      "Requirement already satisfied: python-dateutil in d:\\anaconda\\envs\\yolov8\\lib\\site-packages (from roboflow) (2.9.0.post0)\n",
      "Collecting python-dotenv (from roboflow)\n",
      "  Downloading python_dotenv-1.1.0-py3-none-any.whl.metadata (24 kB)\n",
      "Requirement already satisfied: requests in d:\\anaconda\\envs\\yolov8\\lib\\site-packages (from roboflow) (2.32.4)\n",
      "Requirement already satisfied: six in d:\\anaconda\\envs\\yolov8\\lib\\site-packages (from roboflow) (1.17.0)\n",
      "Collecting supervision (from roboflow)\n",
      "  Downloading supervision-0.25.1-py3-none-any.whl.metadata (14 kB)\n",
      "Requirement already satisfied: urllib3>=1.26.6 in d:\\anaconda\\envs\\yolov8\\lib\\site-packages (from roboflow) (2.4.0)\n",
      "Collecting wget (from roboflow)\n",
      "  Downloading wget-3.2.zip (10 kB)\n",
      "  Preparing metadata (setup.py): started\n",
      "  Preparing metadata (setup.py): finished with status 'done'\n",
      "Requirement already satisfied: tqdm>=4.41.0 in d:\\anaconda\\envs\\yolov8\\lib\\site-packages (from roboflow) (4.67.1)\n",
      "Requirement already satisfied: PyYAML>=5.3.1 in d:\\anaconda\\envs\\yolov8\\lib\\site-packages (from roboflow) (6.0.2)\n",
      "Collecting requests-toolbelt (from roboflow)\n",
      "  Downloading requests_toolbelt-1.0.0-py2.py3-none-any.whl.metadata (14 kB)\n",
      "Requirement already satisfied: colorama in d:\\anaconda\\envs\\yolov8\\lib\\site-packages (from tqdm>=4.41.0->roboflow) (0.4.6)\n",
      "Requirement already satisfied: contourpy>=1.0.1 in d:\\anaconda\\envs\\yolov8\\lib\\site-packages (from matplotlib->roboflow) (1.3.2)\n",
      "Requirement already satisfied: fonttools>=4.22.0 in d:\\anaconda\\envs\\yolov8\\lib\\site-packages (from matplotlib->roboflow) (4.58.4)\n",
      "Requirement already satisfied: packaging>=20.0 in d:\\anaconda\\envs\\yolov8\\lib\\site-packages (from matplotlib->roboflow) (24.2)\n",
      "Requirement already satisfied: charset_normalizer<4,>=2 in d:\\anaconda\\envs\\yolov8\\lib\\site-packages (from requests->roboflow) (3.4.2)\n",
      "Collecting defusedxml<0.8.0,>=0.7.1 (from supervision->roboflow)\n",
      "  Downloading defusedxml-0.7.1-py2.py3-none-any.whl.metadata (32 kB)\n",
      "Requirement already satisfied: scipy<2.0.0,>=1.10.0 in d:\\anaconda\\envs\\yolov8\\lib\\site-packages (from supervision->roboflow) (1.15.3)\n",
      "Downloading roboflow-1.1.4-py3-none-any.whl (57 kB)\n",
      "Downloading certifi-2022.12.7-py3-none-any.whl (155 kB)\n",
      "Downloading chardet-4.0.0-py2.py3-none-any.whl (178 kB)\n",
      "Downloading cycler-0.10.0-py2.py3-none-any.whl (6.5 kB)\n",
      "Downloading idna-2.10-py2.py3-none-any.whl (58 kB)\n",
      "Downloading pyparsing-2.4.7-py2.py3-none-any.whl (67 kB)\n",
      "Downloading python_dotenv-1.1.0-py3-none-any.whl (20 kB)\n",
      "Downloading requests_toolbelt-1.0.0-py2.py3-none-any.whl (54 kB)\n",
      "Downloading supervision-0.25.1-py3-none-any.whl (181 kB)\n",
      "Downloading defusedxml-0.7.1-py2.py3-none-any.whl (25 kB)\n",
      "Building wheels for collected packages: wget\n",
      "  Building wheel for wget (setup.py): started\n",
      "  Building wheel for wget (setup.py): finished with status 'done'\n",
      "  Created wheel for wget: filename=wget-3.2-py3-none-any.whl size=9683 sha256=0c589983790dfe5b1191463c848a171832772e894f0c7803c715ce0b5c35d01d\n",
      "  Stored in directory: c:\\users\\yrp-3\\appdata\\local\\pip\\cache\\wheels\\8b\\f1\\7f\\5c94f0a7a505ca1c81cd1d9208ae2064675d97582078e6c769\n",
      "Successfully built wget\n",
      "Installing collected packages: wget, python-dotenv, pyparsing, idna, defusedxml, cycler, chardet, certifi, supervision, requests-toolbelt, roboflow\n",
      "\n",
      "   --- ------------------------------------  1/11 [python-dotenv]\n",
      "   --- ------------------------------------  1/11 [python-dotenv]\n",
      "  Attempting uninstall: pyparsing\n",
      "   --- ------------------------------------  1/11 [python-dotenv]\n",
      "    Found existing installation: pyparsing 3.2.3\n",
      "   --- ------------------------------------  1/11 [python-dotenv]\n",
      "    Uninstalling pyparsing-3.2.3:\n",
      "   --- ------------------------------------  1/11 [python-dotenv]\n",
      "      Successfully uninstalled pyparsing-3.2.3\n",
      "   --- ------------------------------------  1/11 [python-dotenv]\n",
      "  Attempting uninstall: idna\n",
      "   --- ------------------------------------  1/11 [python-dotenv]\n",
      "    Found existing installation: idna 3.10\n",
      "   --- ------------------------------------  1/11 [python-dotenv]\n",
      "    Uninstalling idna-3.10:\n",
      "   --- ------------------------------------  1/11 [python-dotenv]\n",
      "      Successfully uninstalled idna-3.10\n",
      "   --- ------------------------------------  1/11 [python-dotenv]\n",
      "   ---------- -----------------------------  3/11 [idna]\n",
      "   ---------- -----------------------------  3/11 [idna]\n",
      "   -------------- -------------------------  4/11 [defusedxml]\n",
      "  Attempting uninstall: cycler\n",
      "   -------------- -------------------------  4/11 [defusedxml]\n",
      "    Found existing installation: cycler 0.12.1\n",
      "   -------------- -------------------------  4/11 [defusedxml]\n",
      "    Uninstalling cycler-0.12.1:\n",
      "   -------------- -------------------------  4/11 [defusedxml]\n",
      "      Successfully uninstalled cycler-0.12.1\n",
      "   -------------- -------------------------  4/11 [defusedxml]\n",
      "   --------------------- ------------------  6/11 [chardet]\n",
      "   --------------------- ------------------  6/11 [chardet]\n",
      "   --------------------- ------------------  6/11 [chardet]\n",
      "   --------------------- ------------------  6/11 [chardet]\n",
      "   --------------------- ------------------  6/11 [chardet]\n",
      "   --------------------- ------------------  6/11 [chardet]\n",
      "  Attempting uninstall: certifi\n",
      "   --------------------- ------------------  6/11 [chardet]\n",
      "    Found existing installation: certifi 2025.6.15\n",
      "   --------------------- ------------------  6/11 [chardet]\n",
      "   ------------------------- --------------  7/11 [certifi]\n",
      "    Uninstalling certifi-2025.6.15:\n",
      "   ------------------------- --------------  7/11 [certifi]\n",
      "      Successfully uninstalled certifi-2025.6.15\n",
      "   ------------------------- --------------  7/11 [certifi]\n",
      "   ----------------------------- ----------  8/11 [supervision]\n",
      "   ----------------------------- ----------  8/11 [supervision]\n",
      "   ----------------------------- ----------  8/11 [supervision]\n",
      "   ----------------------------- ----------  8/11 [supervision]\n",
      "   ----------------------------- ----------  8/11 [supervision]\n",
      "   ----------------------------- ----------  8/11 [supervision]\n",
      "   -------------------------------- -------  9/11 [requests-toolbelt]\n",
      "   -------------------------------- -------  9/11 [requests-toolbelt]\n",
      "   -------------------------------- -------  9/11 [requests-toolbelt]\n",
      "   -------------------------------- -------  9/11 [requests-toolbelt]\n",
      "   ------------------------------------ --- 10/11 [roboflow]\n",
      "   ------------------------------------ --- 10/11 [roboflow]\n",
      "   ------------------------------------ --- 10/11 [roboflow]\n",
      "   ---------------------------------------- 11/11 [roboflow]\n",
      "\n",
      "Successfully installed certifi-2022.12.7 chardet-4.0.0 cycler-0.10.0 defusedxml-0.7.1 idna-2.10 pyparsing-2.4.7 python-dotenv-1.1.0 requests-toolbelt-1.0.0 roboflow-1.1.4 supervision-0.25.1 wget-3.2\n",
      "Note: you may need to restart the kernel to use updated packages.\n"
     ]
    },
    {
     "name": "stderr",
     "output_type": "stream",
     "text": [
      "  DEPRECATION: Building 'wget' using the legacy setup.py bdist_wheel mechanism, which will be removed in a future version. pip 25.3 will enforce this behaviour change. A possible replacement is to use the standardized build interface by setting the `--use-pep517` option, (possibly combined with `--no-build-isolation`), or adding a `pyproject.toml` file to the source tree of 'wget'. Discussion can be found at https://github.com/pypa/pip/issues/6334\n"
     ]
    }
   ],
   "source": [
    "%pip install roboflow"
   ]
  },
  {
   "cell_type": "code",
   "execution_count": 4,
   "id": "5a2a391d",
   "metadata": {},
   "outputs": [
    {
     "name": "stdout",
     "output_type": "stream",
     "text": [
      "loading Roboflow workspace...\n",
      "loading Roboflow project...\n",
      "Dependency ultralytics==8.0.134 is required but found version=8.3.155, to fix: `pip install ultralytics==8.0.134`\n",
      "Downloading Dataset Version Zip in Basketball-Players-25 to yolov8: 100% [205734188 / 205734188] bytes\n"
     ]
    },
    {
     "name": "stderr",
     "output_type": "stream",
     "text": [
      "Extracting Dataset Version Zip to Basketball-Players-25 in yolov8:: 100%|██████████| 2404/2404 [00:01<00:00, 1328.32it/s]\n"
     ]
    }
   ],
   "source": [
    "from roboflow import Roboflow\n",
    "rf = Roboflow(api_key=\"wKugMGCPQkZaOOt2pxZE\")\n",
    "project = rf.workspace(\"roboflow-universe-projects\").project(\"basketball-players-fy4c2\")\n",
    "version = project.version(25)\n",
    "dataset = version.download(\"yolov8\")\n",
    "                "
   ]
  },
  {
   "cell_type": "code",
   "execution_count": 1,
   "id": "f6ef95cd",
   "metadata": {},
   "outputs": [],
   "source": [
    "from ultralytics import YOLO"
   ]
  },
  {
   "cell_type": "code",
   "execution_count": 2,
   "id": "665fbbe8",
   "metadata": {},
   "outputs": [
    {
     "name": "stdout",
     "output_type": "stream",
     "text": [
      "CUDA: True\n",
      "GPU count: 1\n",
      "GPU name: NVIDIA GeForce RTX 4060 Laptop GPU\n",
      "Total Memory: 8187.5 MB\n"
     ]
    }
   ],
   "source": [
    "import torch\n",
    "print(\"CUDA:\", torch.cuda.is_available())\n",
    "print(\"GPU count:\", torch.cuda.device_count())\n",
    "print(\"GPU name:\", torch.cuda.get_device_name(0))\n",
    "print(\"Total Memory:\", torch.cuda.get_device_properties(0).total_memory / 1024**2, \"MB\")\n"
   ]
  },
  {
   "cell_type": "code",
   "execution_count": 8,
   "id": "90d53f6c",
   "metadata": {},
   "outputs": [],
   "source": [
    "import os\n",
    "os.environ[\"KMP_DUPLICATE_LIB_OK\"] = \"TRUE\""
   ]
  },
  {
   "cell_type": "markdown",
   "id": "e8ad7f47",
   "metadata": {},
   "source": [
    "# Training"
   ]
  },
  {
   "cell_type": "code",
   "execution_count": null,
   "id": "2ae33d4c",
   "metadata": {},
   "outputs": [],
   "source": [
    "model = YOLO(\"models/yolov8n.pt\")  # 加载预训练模型\n",
    "model.train(data='../../dataset/Basketball-Players-25/data.yaml', epochs=100, imgsz=640, batch=4)"
   ]
  },
  {
   "cell_type": "markdown",
   "id": "97fb8a28",
   "metadata": {},
   "source": [
    "# Validation"
   ]
  },
  {
   "cell_type": "code",
   "execution_count": 14,
   "id": "33a90cf1",
   "metadata": {},
   "outputs": [
    {
     "name": "stdout",
     "output_type": "stream",
     "text": [
      "Ultralytics 8.3.155  Python-3.10.18 torch-2.7.1+cu128 CUDA:0 (NVIDIA GeForce RTX 4060 Laptop GPU, 8188MiB)\n",
      "Model summary (fused): 112 layers, 43,613,547 parameters, 0 gradients, 164.9 GFLOPs\n",
      "\u001b[34m\u001b[1mval: \u001b[0mFast image access  (ping: 0.00.0 ms, read: 1596.0261.1 MB/s, size: 185.3 KB)\n"
     ]
    },
    {
     "name": "stderr",
     "output_type": "stream",
     "text": [
      "\u001b[34m\u001b[1mval: \u001b[0mScanning D:\\AI\\yolo\\dataset\\Basketball-Players-25\\valid\\labels.cache... 32 images, 0 backgrounds, 0 corrupt: 100%|██████████| 32/32 [00:00<?, ?it/s]\n",
      "                 Class     Images  Instances      Box(P          R      mAP50  mAP50-95): 100%|██████████| 4/4 [00:01<00:00,  2.30it/s]\n"
     ]
    },
    {
     "name": "stdout",
     "output_type": "stream",
     "text": [
      "                   all         32        477      0.891      0.866      0.895      0.652\n",
      "                  Ball         18         18       0.91      0.561      0.652      0.425\n",
      "                  Hoop         22         22      0.889      0.955       0.93      0.722\n",
      "                Period         22         23      0.907      0.848      0.941        0.7\n",
      "                Player         31        253      0.961       0.85      0.926      0.674\n",
      "                   Ref         28         55      0.854      0.891      0.876      0.658\n",
      "            Shot Clock         19         19      0.863          1      0.988      0.667\n",
      "             Team Name         10         20      0.888        0.9       0.93      0.683\n",
      "           Team Points         22         45      0.913      0.844      0.909      0.681\n",
      "        Time Remaining         22         22      0.839      0.945      0.904      0.655\n",
      "Speed: 0.9ms preprocess, 21.0ms inference, 0.0ms loss, 1.1ms postprocess per image\n",
      "Results saved to \u001b[1m..\\..\\runs\\detect\\val\\val\u001b[0m\n"
     ]
    }
   ],
   "source": [
    "# 加载训练好的模型\n",
    "model = YOLO(\"../../models/v8l_detection_training.pt\")\n",
    "\n",
    "# 配置验证参数\n",
    "results = model.val(\n",
    "    data=\"../../dataset/Basketball-Players-25/data.yaml\",  # 数据集配置文件路径\n",
    "    imgsz=640,                                           # 输入图像尺寸\n",
    "    batch=8,                                             # 每批次的图像数量\n",
    "    project=\"../../runs/detect/val\"                       # 验证结果保存的路径\n",
    ")\n",
    "\n",
    "# # 打印验证结果\n",
    "# print(\"Validation Results:\")\n",
    "\n",
    "# # 打印每个类别的mAP、Precision和Recall\n",
    "# for i, class_name in enumerate(results.names):  # 获取每个类别\n",
    "#     mAP = results.box.ap_class_index[i]  # 每个类别的mAP@0.5:0.95\n",
    "#     precision = results.box.p[i]  # 每个类别的Precision\n",
    "#     recall = results.box.r[i]  # 每个类别的Recall\n",
    "    \n",
    "#     print(f\"类别: {class_name}\")\n",
    "#     print(f\"  mAP@0.5:0.95: {mAP:.4f}\")\n",
    "#     print(f\"  Precision: {precision:.4f}\")\n",
    "#     print(f\"  Recall: {recall:.4f}\")"
   ]
  },
  {
   "cell_type": "code",
   "execution_count": null,
   "id": "14279fdb",
   "metadata": {},
   "outputs": [],
   "source": []
  },
  {
   "cell_type": "markdown",
   "id": "93572d76",
   "metadata": {},
   "source": [
    "# Test"
   ]
  },
  {
   "cell_type": "markdown",
   "id": "ecf909d7",
   "metadata": {},
   "source": []
  },
  {
   "cell_type": "code",
   "execution_count": 2,
   "id": "a3d3bc66",
   "metadata": {},
   "outputs": [
    {
     "name": "stdout",
     "output_type": "stream",
     "text": [
      "['__annotations__', '__class__', '__dataclass_fields__', '__dataclass_params__', '__delattr__', '__dict__', '__dir__', '__doc__', '__eq__', '__format__', '__ge__', '__getattribute__', '__getitem__', '__gt__', '__hash__', '__init__', '__init_subclass__', '__iter__', '__le__', '__len__', '__lt__', '__match_args__', '__module__', '__ne__', '__new__', '__post_init__', '__reduce__', '__reduce_ex__', '__repr__', '__setattr__', '__setitem__', '__sizeof__', '__str__', '__subclasshook__', '__weakref__', 'area', 'box_area', 'class_id', 'confidence', 'data', 'empty', 'from_azure_analyze_image', 'from_deepsparse', 'from_detectron2', 'from_easyocr', 'from_inference', 'from_lmm', 'from_mmdetection', 'from_ncnn', 'from_paddledet', 'from_sam', 'from_tensorflow', 'from_transformers', 'from_ultralytics', 'from_yolo_nas', 'from_yolov5', 'get_anchors_coordinates', 'is_empty', 'mask', 'merge', 'metadata', 'tracker_id', 'with_nmm', 'with_nms', 'xyxy']\n",
      "Detections(xyxy=array([[100, 200, 300, 400]]), mask=None, confidence=array([0.95]), class_id=array([0]), tracker_id=None, data={}, metadata={})\n",
      "[[100 200 300 400]]\n",
      "[0.95]\n",
      "[0]\n",
      "None\n"
     ]
    }
   ],
   "source": [
    "import supervision as sv\n",
    "import numpy as np\n",
    "\n",
    "# 创建一个示例 Detections 对象\n",
    "detections = sv.Detections(\n",
    "    xyxy=np.array([[100, 200, 300, 400]]),\n",
    "    confidence=np.array([0.95]),\n",
    "    class_id=np.array([0])\n",
    ")\n",
    "\n",
    "# 查看所有属性\n",
    "print(dir(detections))\n",
    "\n",
    "# 查看第一个检测结果的内容\n",
    "if len(detections) > 0:\n",
    "    print(detections[0])  # 或打印具体属性\n",
    "    print(detections.xyxy)\n",
    "    print(detections.confidence)\n",
    "    print(detections.class_id)\n",
    "    print(detections.tracker_id)  # 如果有跟踪ID"
   ]
  },
  {
   "cell_type": "code",
   "execution_count": null,
   "id": "9ff48169",
   "metadata": {},
   "outputs": [],
   "source": []
  }
 ],
 "metadata": {
  "kernelspec": {
   "display_name": "yolov8",
   "language": "python",
   "name": "python3"
  },
  "language_info": {
   "codemirror_mode": {
    "name": "ipython",
    "version": 3
   },
   "file_extension": ".py",
   "mimetype": "text/x-python",
   "name": "python",
   "nbconvert_exporter": "python",
   "pygments_lexer": "ipython3",
   "version": "3.10.18"
  }
 },
 "nbformat": 4,
 "nbformat_minor": 5
}
