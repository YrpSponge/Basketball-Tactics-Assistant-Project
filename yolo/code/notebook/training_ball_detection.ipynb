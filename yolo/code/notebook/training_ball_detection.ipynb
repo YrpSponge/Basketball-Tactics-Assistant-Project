{
 "cells": [
  {
   "cell_type": "code",
   "execution_count": 3,
   "id": "cf2e1977",
   "metadata": {},
   "outputs": [
    {
     "data": {
      "text/plain": [
       "3"
      ]
     },
     "execution_count": 3,
     "metadata": {},
     "output_type": "execute_result"
    }
   ],
   "source": [
    "a=1\n",
    "b=2\n",
    "c=a+b\n",
    "c"
   ]
  },
  {
   "cell_type": "markdown",
   "id": "17c8f6d7",
   "metadata": {},
   "source": [
    "# Resource Preparation"
   ]
  },
  {
   "cell_type": "code",
   "execution_count": 4,
   "id": "91e91766",
   "metadata": {},
   "outputs": [
    {
     "name": "stdout",
     "output_type": "stream",
     "text": [
      "Requirement already satisfied: roboflow in d:\\anaconda\\envs\\yolov8\\lib\\site-packages (1.1.4)\n",
      "Requirement already satisfied: certifi==2022.12.7 in d:\\anaconda\\envs\\yolov8\\lib\\site-packages (from roboflow) (2022.12.7)\n",
      "Requirement already satisfied: chardet==4.0.0 in d:\\anaconda\\envs\\yolov8\\lib\\site-packages (from roboflow) (4.0.0)\n",
      "Requirement already satisfied: cycler==0.10.0 in d:\\anaconda\\envs\\yolov8\\lib\\site-packages (from roboflow) (0.10.0)\n",
      "Requirement already satisfied: idna==2.10 in d:\\anaconda\\envs\\yolov8\\lib\\site-packages (from roboflow) (2.10)\n",
      "Requirement already satisfied: kiwisolver>=1.3.1 in d:\\anaconda\\envs\\yolov8\\lib\\site-packages (from roboflow) (1.4.8)\n",
      "Requirement already satisfied: matplotlib in d:\\anaconda\\envs\\yolov8\\lib\\site-packages (from roboflow) (3.10.3)\n",
      "Requirement already satisfied: numpy>=1.18.5 in d:\\anaconda\\envs\\yolov8\\lib\\site-packages (from roboflow) (2.2.5)\n",
      "Requirement already satisfied: opencv-python>=4.1.2 in d:\\anaconda\\envs\\yolov8\\lib\\site-packages (from roboflow) (4.11.0.86)\n",
      "Requirement already satisfied: Pillow>=7.1.2 in d:\\anaconda\\envs\\yolov8\\lib\\site-packages (from roboflow) (11.1.0)\n",
      "Requirement already satisfied: pyparsing==2.4.7 in d:\\anaconda\\envs\\yolov8\\lib\\site-packages (from roboflow) (2.4.7)\n",
      "Requirement already satisfied: python-dateutil in d:\\anaconda\\envs\\yolov8\\lib\\site-packages (from roboflow) (2.9.0.post0)\n",
      "Requirement already satisfied: python-dotenv in d:\\anaconda\\envs\\yolov8\\lib\\site-packages (from roboflow) (1.1.0)\n",
      "Requirement already satisfied: requests in d:\\anaconda\\envs\\yolov8\\lib\\site-packages (from roboflow) (2.32.4)\n",
      "Requirement already satisfied: six in d:\\anaconda\\envs\\yolov8\\lib\\site-packages (from roboflow) (1.17.0)\n",
      "Requirement already satisfied: supervision in d:\\anaconda\\envs\\yolov8\\lib\\site-packages (from roboflow) (0.25.1)\n",
      "Requirement already satisfied: urllib3>=1.26.6 in d:\\anaconda\\envs\\yolov8\\lib\\site-packages (from roboflow) (2.4.0)\n",
      "Requirement already satisfied: wget in d:\\anaconda\\envs\\yolov8\\lib\\site-packages (from roboflow) (3.2)\n",
      "Requirement already satisfied: tqdm>=4.41.0 in d:\\anaconda\\envs\\yolov8\\lib\\site-packages (from roboflow) (4.67.1)\n",
      "Requirement already satisfied: PyYAML>=5.3.1 in d:\\anaconda\\envs\\yolov8\\lib\\site-packages (from roboflow) (6.0.2)\n",
      "Requirement already satisfied: requests-toolbelt in d:\\anaconda\\envs\\yolov8\\lib\\site-packages (from roboflow) (1.0.0)\n",
      "Requirement already satisfied: colorama in d:\\anaconda\\envs\\yolov8\\lib\\site-packages (from tqdm>=4.41.0->roboflow) (0.4.6)\n",
      "Requirement already satisfied: contourpy>=1.0.1 in d:\\anaconda\\envs\\yolov8\\lib\\site-packages (from matplotlib->roboflow) (1.3.2)\n",
      "Requirement already satisfied: fonttools>=4.22.0 in d:\\anaconda\\envs\\yolov8\\lib\\site-packages (from matplotlib->roboflow) (4.58.4)\n",
      "Requirement already satisfied: packaging>=20.0 in d:\\anaconda\\envs\\yolov8\\lib\\site-packages (from matplotlib->roboflow) (24.2)\n",
      "Requirement already satisfied: charset_normalizer<4,>=2 in d:\\anaconda\\envs\\yolov8\\lib\\site-packages (from requests->roboflow) (3.4.2)\n",
      "Requirement already satisfied: defusedxml<0.8.0,>=0.7.1 in d:\\anaconda\\envs\\yolov8\\lib\\site-packages (from supervision->roboflow) (0.7.1)\n",
      "Requirement already satisfied: scipy<2.0.0,>=1.10.0 in d:\\anaconda\\envs\\yolov8\\lib\\site-packages (from supervision->roboflow) (1.15.3)\n",
      "Note: you may need to restart the kernel to use updated packages.\n"
     ]
    }
   ],
   "source": [
    "%pip install roboflow"
   ]
  },
  {
   "cell_type": "code",
   "execution_count": null,
   "id": "5a2a391d",
   "metadata": {},
   "outputs": [],
   "source": [
    "# 下载数据集\n",
    "# from roboflow import Roboflow\n",
    "# rf = Roboflow(api_key=\"wKugMGCPQkZaOOt2pxZE\")\n",
    "# project = rf.workspace(\"roboflow-universe-projects\").project(\"basketball-players-fy4c2\")\n",
    "# version = project.version(25)\n",
    "# dataset = version.download(\"yolov8\")\n",
    "                "
   ]
  },
  {
   "cell_type": "code",
   "execution_count": 6,
   "id": "f6ef95cd",
   "metadata": {},
   "outputs": [],
   "source": [
    "from ultralytics import YOLO"
   ]
  },
  {
   "cell_type": "code",
   "execution_count": 8,
   "id": "665fbbe8",
   "metadata": {},
   "outputs": [
    {
     "name": "stdout",
     "output_type": "stream",
     "text": [
      "CUDA: False\n",
      "GPU count: 0\n"
     ]
    },
    {
     "ename": "RuntimeError",
     "evalue": "No CUDA GPUs are available",
     "output_type": "error",
     "traceback": [
      "\u001b[1;31m---------------------------------------------------------------------------\u001b[0m",
      "\u001b[1;31mRuntimeError\u001b[0m                              Traceback (most recent call last)",
      "Cell \u001b[1;32mIn[8], line 4\u001b[0m\n\u001b[0;32m      2\u001b[0m \u001b[38;5;28mprint\u001b[39m(\u001b[38;5;124m\"\u001b[39m\u001b[38;5;124mCUDA:\u001b[39m\u001b[38;5;124m\"\u001b[39m, torch\u001b[38;5;241m.\u001b[39mcuda\u001b[38;5;241m.\u001b[39mis_available())\n\u001b[0;32m      3\u001b[0m \u001b[38;5;28mprint\u001b[39m(\u001b[38;5;124m\"\u001b[39m\u001b[38;5;124mGPU count:\u001b[39m\u001b[38;5;124m\"\u001b[39m, torch\u001b[38;5;241m.\u001b[39mcuda\u001b[38;5;241m.\u001b[39mdevice_count())\n\u001b[1;32m----> 4\u001b[0m \u001b[38;5;28mprint\u001b[39m(\u001b[38;5;124m\"\u001b[39m\u001b[38;5;124mGPU name:\u001b[39m\u001b[38;5;124m\"\u001b[39m, \u001b[43mtorch\u001b[49m\u001b[38;5;241;43m.\u001b[39;49m\u001b[43mcuda\u001b[49m\u001b[38;5;241;43m.\u001b[39;49m\u001b[43mget_device_name\u001b[49m\u001b[43m(\u001b[49m\u001b[38;5;241;43m0\u001b[39;49m\u001b[43m)\u001b[49m)\n\u001b[0;32m      5\u001b[0m \u001b[38;5;28mprint\u001b[39m(\u001b[38;5;124m\"\u001b[39m\u001b[38;5;124mTotal Memory:\u001b[39m\u001b[38;5;124m\"\u001b[39m, torch\u001b[38;5;241m.\u001b[39mcuda\u001b[38;5;241m.\u001b[39mget_device_properties(\u001b[38;5;241m0\u001b[39m)\u001b[38;5;241m.\u001b[39mtotal_memory \u001b[38;5;241m/\u001b[39m \u001b[38;5;241m1024\u001b[39m\u001b[38;5;241m*\u001b[39m\u001b[38;5;241m*\u001b[39m\u001b[38;5;241m2\u001b[39m, \u001b[38;5;124m\"\u001b[39m\u001b[38;5;124mMB\u001b[39m\u001b[38;5;124m\"\u001b[39m)\n",
      "File \u001b[1;32md:\\Anaconda\\envs\\yolov8\\lib\\site-packages\\torch\\cuda\\__init__.py:544\u001b[0m, in \u001b[0;36mget_device_name\u001b[1;34m(device)\u001b[0m\n\u001b[0;32m    532\u001b[0m \u001b[38;5;28;01mdef\u001b[39;00m\u001b[38;5;250m \u001b[39m\u001b[38;5;21mget_device_name\u001b[39m(device: Optional[_device_t] \u001b[38;5;241m=\u001b[39m \u001b[38;5;28;01mNone\u001b[39;00m) \u001b[38;5;241m-\u001b[39m\u001b[38;5;241m>\u001b[39m \u001b[38;5;28mstr\u001b[39m:\n\u001b[0;32m    533\u001b[0m \u001b[38;5;250m    \u001b[39m\u001b[38;5;124mr\u001b[39m\u001b[38;5;124;03m\"\"\"Get the name of a device.\u001b[39;00m\n\u001b[0;32m    534\u001b[0m \n\u001b[0;32m    535\u001b[0m \u001b[38;5;124;03m    Args:\u001b[39;00m\n\u001b[1;32m   (...)\u001b[0m\n\u001b[0;32m    542\u001b[0m \u001b[38;5;124;03m        str: the name of the device\u001b[39;00m\n\u001b[0;32m    543\u001b[0m \u001b[38;5;124;03m    \"\"\"\u001b[39;00m\n\u001b[1;32m--> 544\u001b[0m     \u001b[38;5;28;01mreturn\u001b[39;00m \u001b[43mget_device_properties\u001b[49m\u001b[43m(\u001b[49m\u001b[43mdevice\u001b[49m\u001b[43m)\u001b[49m\u001b[38;5;241m.\u001b[39mname\n",
      "File \u001b[1;32md:\\Anaconda\\envs\\yolov8\\lib\\site-packages\\torch\\cuda\\__init__.py:576\u001b[0m, in \u001b[0;36mget_device_properties\u001b[1;34m(device)\u001b[0m\n\u001b[0;32m    564\u001b[0m \u001b[38;5;28;01mdef\u001b[39;00m\u001b[38;5;250m \u001b[39m\u001b[38;5;21mget_device_properties\u001b[39m(device: Optional[_device_t] \u001b[38;5;241m=\u001b[39m \u001b[38;5;28;01mNone\u001b[39;00m) \u001b[38;5;241m-\u001b[39m\u001b[38;5;241m>\u001b[39m _CudaDeviceProperties:\n\u001b[0;32m    565\u001b[0m \u001b[38;5;250m    \u001b[39m\u001b[38;5;124mr\u001b[39m\u001b[38;5;124;03m\"\"\"Get the properties of a device.\u001b[39;00m\n\u001b[0;32m    566\u001b[0m \n\u001b[0;32m    567\u001b[0m \u001b[38;5;124;03m    Args:\u001b[39;00m\n\u001b[1;32m   (...)\u001b[0m\n\u001b[0;32m    574\u001b[0m \u001b[38;5;124;03m        _CudaDeviceProperties: the properties of the device\u001b[39;00m\n\u001b[0;32m    575\u001b[0m \u001b[38;5;124;03m    \"\"\"\u001b[39;00m\n\u001b[1;32m--> 576\u001b[0m     \u001b[43m_lazy_init\u001b[49m\u001b[43m(\u001b[49m\u001b[43m)\u001b[49m  \u001b[38;5;66;03m# will define _get_device_properties\u001b[39;00m\n\u001b[0;32m    577\u001b[0m     device \u001b[38;5;241m=\u001b[39m _get_device_index(device, optional\u001b[38;5;241m=\u001b[39m\u001b[38;5;28;01mTrue\u001b[39;00m)\n\u001b[0;32m    578\u001b[0m     \u001b[38;5;28;01mif\u001b[39;00m device \u001b[38;5;241m<\u001b[39m \u001b[38;5;241m0\u001b[39m \u001b[38;5;129;01mor\u001b[39;00m device \u001b[38;5;241m>\u001b[39m\u001b[38;5;241m=\u001b[39m device_count():\n",
      "File \u001b[1;32md:\\Anaconda\\envs\\yolov8\\lib\\site-packages\\torch\\cuda\\__init__.py:372\u001b[0m, in \u001b[0;36m_lazy_init\u001b[1;34m()\u001b[0m\n\u001b[0;32m    370\u001b[0m \u001b[38;5;28;01mif\u001b[39;00m \u001b[38;5;124m\"\u001b[39m\u001b[38;5;124mCUDA_MODULE_LOADING\u001b[39m\u001b[38;5;124m\"\u001b[39m \u001b[38;5;129;01mnot\u001b[39;00m \u001b[38;5;129;01min\u001b[39;00m os\u001b[38;5;241m.\u001b[39menviron:\n\u001b[0;32m    371\u001b[0m     os\u001b[38;5;241m.\u001b[39menviron[\u001b[38;5;124m\"\u001b[39m\u001b[38;5;124mCUDA_MODULE_LOADING\u001b[39m\u001b[38;5;124m\"\u001b[39m] \u001b[38;5;241m=\u001b[39m \u001b[38;5;124m\"\u001b[39m\u001b[38;5;124mLAZY\u001b[39m\u001b[38;5;124m\"\u001b[39m\n\u001b[1;32m--> 372\u001b[0m \u001b[43mtorch\u001b[49m\u001b[38;5;241;43m.\u001b[39;49m\u001b[43m_C\u001b[49m\u001b[38;5;241;43m.\u001b[39;49m\u001b[43m_cuda_init\u001b[49m\u001b[43m(\u001b[49m\u001b[43m)\u001b[49m\n\u001b[0;32m    373\u001b[0m \u001b[38;5;66;03m# Some of the queued calls may reentrantly call _lazy_init();\u001b[39;00m\n\u001b[0;32m    374\u001b[0m \u001b[38;5;66;03m# we need to just return without initializing in that case.\u001b[39;00m\n\u001b[0;32m    375\u001b[0m \u001b[38;5;66;03m# However, we must not let any *other* threads in!\u001b[39;00m\n\u001b[0;32m    376\u001b[0m _tls\u001b[38;5;241m.\u001b[39mis_initializing \u001b[38;5;241m=\u001b[39m \u001b[38;5;28;01mTrue\u001b[39;00m\n",
      "\u001b[1;31mRuntimeError\u001b[0m: No CUDA GPUs are available"
     ]
    }
   ],
   "source": [
    "import torch\n",
    "print(\"CUDA:\", torch.cuda.is_available())\n",
    "print(\"GPU count:\", torch.cuda.device_count())\n",
    "print(\"GPU name:\", torch.cuda.get_device_name(0))\n",
    "print(\"Total Memory:\", torch.cuda.get_device_properties(0).total_memory / 1024**2, \"MB\")\n"
   ]
  },
  {
   "cell_type": "code",
   "execution_count": 8,
   "id": "90d53f6c",
   "metadata": {},
   "outputs": [],
   "source": [
    "import os\n",
    "os.environ[\"KMP_DUPLICATE_LIB_OK\"] = \"TRUE\""
   ]
  },
  {
   "cell_type": "markdown",
   "id": "e8ad7f47",
   "metadata": {},
   "source": [
    "# Training 1: 用回之前的数据集，加大训练量"
   ]
  },
  {
   "cell_type": "code",
   "execution_count": 9,
   "id": "2ae33d4c",
   "metadata": {},
   "outputs": [
    {
     "name": "stdout",
     "output_type": "stream",
     "text": [
      "New https://pypi.org/project/ultralytics/8.3.158 available  Update with 'pip install -U ultralytics'\n",
      "Ultralytics 8.3.155  Python-3.10.18 torch-2.7.1+cu128 CUDA:0 (NVIDIA GeForce RTX 4060 Laptop GPU, 8188MiB)\n",
      "\u001b[34m\u001b[1mengine\\trainer: \u001b[0magnostic_nms=False, amp=True, augment=True, auto_augment=randaugment, batch=8, bgr=0.0, box=7.5, cache=ram, cfg=None, classes=None, close_mosaic=10, cls=0.5, conf=None, copy_paste=0.0, copy_paste_mode=flip, cos_lr=False, cutmix=0.0, data=../../dataset/Basketball-Players-25/data.yaml, degrees=0.0, deterministic=True, device=None, dfl=1.5, dnn=False, dropout=0.0, dynamic=False, embed=None, epochs=100, erasing=0.4, exist_ok=False, fliplr=0.5, flipud=0.0, format=torchscript, fraction=1.0, freeze=None, half=False, hsv_h=0.015, hsv_s=0.7, hsv_v=0.4, imgsz=640, int8=False, iou=0.7, keras=False, kobj=1.0, line_width=None, lr0=0.01, lrf=0.01, mask_ratio=4, max_det=300, mixup=0.0, mode=train, model=../../models/yolov8l.pt, momentum=0.937, mosaic=0.8, multi_scale=False, name=train, nbs=64, nms=False, opset=None, optimize=False, optimizer=auto, overlap_mask=True, patience=100, perspective=0.0, plots=True, pose=12.0, pretrained=True, profile=False, project=None, rect=False, resume=False, retina_masks=False, save=True, save_conf=False, save_crop=False, save_dir=runs\\detect\\train, save_frames=False, save_json=False, save_period=-1, save_txt=False, scale=0.5, seed=0, shear=0.0, show=False, show_boxes=True, show_conf=True, show_labels=True, simplify=True, single_cls=False, source=None, split=val, stream_buffer=False, task=detect, time=None, tracker=botsort.yaml, translate=0.1, val=True, verbose=True, vid_stride=1, visualize=False, warmup_bias_lr=0.1, warmup_epochs=3.0, warmup_momentum=0.8, weight_decay=0.0005, workers=8, workspace=None\n",
      "Overriding model.yaml nc=80 with nc=9\n",
      "\n",
      "                   from  n    params  module                                       arguments                     \n",
      "  0                  -1  1      1856  ultralytics.nn.modules.conv.Conv             [3, 64, 3, 2]                 \n",
      "  1                  -1  1     73984  ultralytics.nn.modules.conv.Conv             [64, 128, 3, 2]               \n",
      "  2                  -1  3    279808  ultralytics.nn.modules.block.C2f             [128, 128, 3, True]           \n",
      "  3                  -1  1    295424  ultralytics.nn.modules.conv.Conv             [128, 256, 3, 2]              \n",
      "  4                  -1  6   2101248  ultralytics.nn.modules.block.C2f             [256, 256, 6, True]           \n",
      "  5                  -1  1   1180672  ultralytics.nn.modules.conv.Conv             [256, 512, 3, 2]              \n",
      "  6                  -1  6   8396800  ultralytics.nn.modules.block.C2f             [512, 512, 6, True]           \n",
      "  7                  -1  1   2360320  ultralytics.nn.modules.conv.Conv             [512, 512, 3, 2]              \n",
      "  8                  -1  3   4461568  ultralytics.nn.modules.block.C2f             [512, 512, 3, True]           \n",
      "  9                  -1  1    656896  ultralytics.nn.modules.block.SPPF            [512, 512, 5]                 \n",
      " 10                  -1  1         0  torch.nn.modules.upsampling.Upsample         [None, 2, 'nearest']          \n",
      " 11             [-1, 6]  1         0  ultralytics.nn.modules.conv.Concat           [1]                           \n",
      " 12                  -1  3   4723712  ultralytics.nn.modules.block.C2f             [1024, 512, 3]                \n",
      " 13                  -1  1         0  torch.nn.modules.upsampling.Upsample         [None, 2, 'nearest']          \n",
      " 14             [-1, 4]  1         0  ultralytics.nn.modules.conv.Concat           [1]                           \n",
      " 15                  -1  3   1247744  ultralytics.nn.modules.block.C2f             [768, 256, 3]                 \n",
      " 16                  -1  1    590336  ultralytics.nn.modules.conv.Conv             [256, 256, 3, 2]              \n",
      " 17            [-1, 12]  1         0  ultralytics.nn.modules.conv.Concat           [1]                           \n",
      " 18                  -1  3   4592640  ultralytics.nn.modules.block.C2f             [768, 512, 3]                 \n",
      " 19                  -1  1   2360320  ultralytics.nn.modules.conv.Conv             [512, 512, 3, 2]              \n",
      " 20             [-1, 9]  1         0  ultralytics.nn.modules.conv.Concat           [1]                           \n",
      " 21                  -1  3   4723712  ultralytics.nn.modules.block.C2f             [1024, 512, 3]                \n",
      " 22        [15, 18, 21]  1   5589739  ultralytics.nn.modules.head.Detect           [9, [256, 512, 512]]          \n",
      "Model summary: 209 layers, 43,636,779 parameters, 43,636,763 gradients, 165.4 GFLOPs\n",
      "\n",
      "Transferred 589/595 items from pretrained weights\n",
      "Freezing layer 'model.22.dfl.conv.weight'\n",
      "\u001b[34m\u001b[1mAMP: \u001b[0mrunning Automatic Mixed Precision (AMP) checks...\n",
      "Downloading https://github.com/ultralytics/assets/releases/download/v8.3.0/yolo11n.pt to 'yolo11n.pt'...\n"
     ]
    },
    {
     "name": "stderr",
     "output_type": "stream",
     "text": [
      "100%|██████████| 5.35M/5.35M [00:05<00:00, 971kB/s] \n"
     ]
    },
    {
     "name": "stdout",
     "output_type": "stream",
     "text": [
      "\u001b[34m\u001b[1mAMP: \u001b[0mchecks passed \n",
      "\u001b[34m\u001b[1mtrain: \u001b[0mFast image access  (ping: 0.10.0 ms, read: 208.9102.1 MB/s, size: 174.3 KB)\n"
     ]
    },
    {
     "name": "stderr",
     "output_type": "stream",
     "text": [
      "\u001b[34m\u001b[1mtrain: \u001b[0mScanning D:\\AI\\yolo\\dataset\\Basketball-Players-25\\train\\labels.cache... 1140 images, 1 backgrounds, 0 corrupt: 100%|██████████| 1140/1140 [00:00<?, ?it/s]\n"
     ]
    },
    {
     "name": "stdout",
     "output_type": "stream",
     "text": [
      "WARNING \u001b[34m\u001b[1mtrain: \u001b[0m1.1GB RAM required to cache images with 50% safety margin but only 0.5/15.7GB available, not caching images\n",
      "\u001b[34m\u001b[1mval: \u001b[0mFast image access  (ping: 0.10.0 ms, read: 268.085.9 MB/s, size: 196.4 KB)\n"
     ]
    },
    {
     "name": "stderr",
     "output_type": "stream",
     "text": [
      "\u001b[34m\u001b[1mval: \u001b[0mScanning D:\\AI\\yolo\\dataset\\Basketball-Players-25\\valid\\labels.cache... 32 images, 0 backgrounds, 0 corrupt: 100%|██████████| 32/32 [00:00<?, ?it/s]\n"
     ]
    },
    {
     "name": "stdout",
     "output_type": "stream",
     "text": [
      "WARNING cache='ram' may produce non-deterministic training results. Consider cache='disk' as a deterministic alternative if your disk space allows.\n"
     ]
    },
    {
     "name": "stderr",
     "output_type": "stream",
     "text": [
      "\u001b[34m\u001b[1mval: \u001b[0mCaching images (0.0GB RAM): 100%|██████████| 32/32 [00:00<00:00, 314.71it/s]\n"
     ]
    },
    {
     "name": "stdout",
     "output_type": "stream",
     "text": [
      "Plotting labels to runs\\detect\\train\\labels.jpg... \n",
      "\u001b[34m\u001b[1moptimizer:\u001b[0m 'optimizer=auto' found, ignoring 'lr0=0.01' and 'momentum=0.937' and determining best 'optimizer', 'lr0' and 'momentum' automatically... \n",
      "\u001b[34m\u001b[1moptimizer:\u001b[0m AdamW(lr=0.000769, momentum=0.9) with parameter groups 97 weight(decay=0.0), 104 weight(decay=0.0005), 103 bias(decay=0.0)\n",
      "Image sizes 640 train, 640 val\n",
      "Using 8 dataloader workers\n",
      "Logging results to \u001b[1mruns\\detect\\train\u001b[0m\n",
      "Starting training for 100 epochs...\n",
      "\n",
      "      Epoch    GPU_mem   box_loss   cls_loss   dfl_loss  Instances       Size\n"
     ]
    },
    {
     "name": "stderr",
     "output_type": "stream",
     "text": [
      "      1/100      5.08G       1.42      1.343      1.302        107        640: 100%|██████████| 143/143 [01:01<00:00,  2.31it/s]\n",
      "                 Class     Images  Instances      Box(P          R      mAP50  mAP50-95): 100%|██████████| 2/2 [00:00<00:00,  3.72it/s]"
     ]
    },
    {
     "name": "stdout",
     "output_type": "stream",
     "text": [
      "                   all         32        477      0.719      0.726      0.786      0.489\n"
     ]
    },
    {
     "name": "stderr",
     "output_type": "stream",
     "text": [
      "\n"
     ]
    },
    {
     "name": "stdout",
     "output_type": "stream",
     "text": [
      "\n",
      "      Epoch    GPU_mem   box_loss   cls_loss   dfl_loss  Instances       Size\n"
     ]
    },
    {
     "name": "stderr",
     "output_type": "stream",
     "text": [
      "      2/100      5.64G      1.273     0.7823      1.211         50        640: 100%|██████████| 143/143 [01:09<00:00,  2.05it/s]\n",
      "                 Class     Images  Instances      Box(P          R      mAP50  mAP50-95): 100%|██████████| 2/2 [00:00<00:00,  4.36it/s]"
     ]
    },
    {
     "name": "stdout",
     "output_type": "stream",
     "text": [
      "                   all         32        477      0.675       0.65      0.698      0.398\n"
     ]
    },
    {
     "name": "stderr",
     "output_type": "stream",
     "text": [
      "\n"
     ]
    },
    {
     "name": "stdout",
     "output_type": "stream",
     "text": [
      "\n",
      "      Epoch    GPU_mem   box_loss   cls_loss   dfl_loss  Instances       Size\n"
     ]
    },
    {
     "name": "stderr",
     "output_type": "stream",
     "text": [
      "      3/100      5.44G      1.227     0.7321      1.196         95        640: 100%|██████████| 143/143 [01:05<00:00,  2.20it/s]\n",
      "                 Class     Images  Instances      Box(P          R      mAP50  mAP50-95): 100%|██████████| 2/2 [00:00<00:00,  4.75it/s]"
     ]
    },
    {
     "name": "stdout",
     "output_type": "stream",
     "text": [
      "                   all         32        477      0.676      0.777      0.767      0.461\n"
     ]
    },
    {
     "name": "stderr",
     "output_type": "stream",
     "text": [
      "\n"
     ]
    },
    {
     "name": "stdout",
     "output_type": "stream",
     "text": [
      "\n",
      "      Epoch    GPU_mem   box_loss   cls_loss   dfl_loss  Instances       Size\n"
     ]
    },
    {
     "name": "stderr",
     "output_type": "stream",
     "text": [
      "      4/100      5.44G      1.167     0.6802      1.156         62        640: 100%|██████████| 143/143 [01:08<00:00,  2.09it/s]\n",
      "                 Class     Images  Instances      Box(P          R      mAP50  mAP50-95): 100%|██████████| 2/2 [00:00<00:00,  4.77it/s]"
     ]
    },
    {
     "name": "stdout",
     "output_type": "stream",
     "text": [
      "                   all         32        477      0.793      0.825      0.858      0.538\n"
     ]
    },
    {
     "name": "stderr",
     "output_type": "stream",
     "text": [
      "\n"
     ]
    },
    {
     "name": "stdout",
     "output_type": "stream",
     "text": [
      "\n",
      "      Epoch    GPU_mem   box_loss   cls_loss   dfl_loss  Instances       Size\n"
     ]
    },
    {
     "name": "stderr",
     "output_type": "stream",
     "text": [
      "      5/100      5.62G       1.15     0.6504      1.148         89        640: 100%|██████████| 143/143 [01:31<00:00,  1.56it/s]\n",
      "                 Class     Images  Instances      Box(P          R      mAP50  mAP50-95): 100%|██████████| 2/2 [00:00<00:00,  3.84it/s]"
     ]
    },
    {
     "name": "stdout",
     "output_type": "stream",
     "text": [
      "                   all         32        477      0.802      0.789      0.815      0.525\n"
     ]
    },
    {
     "name": "stderr",
     "output_type": "stream",
     "text": [
      "\n"
     ]
    },
    {
     "name": "stdout",
     "output_type": "stream",
     "text": [
      "\n",
      "      Epoch    GPU_mem   box_loss   cls_loss   dfl_loss  Instances       Size\n"
     ]
    },
    {
     "name": "stderr",
     "output_type": "stream",
     "text": [
      "      6/100      5.46G      1.091     0.6045      1.116         58        640: 100%|██████████| 143/143 [01:32<00:00,  1.55it/s]\n",
      "                 Class     Images  Instances      Box(P          R      mAP50  mAP50-95): 100%|██████████| 2/2 [00:01<00:00,  1.52it/s]"
     ]
    },
    {
     "name": "stdout",
     "output_type": "stream",
     "text": [
      "                   all         32        477      0.789      0.776      0.813      0.526\n"
     ]
    },
    {
     "name": "stderr",
     "output_type": "stream",
     "text": [
      "\n"
     ]
    },
    {
     "name": "stdout",
     "output_type": "stream",
     "text": [
      "\n",
      "      Epoch    GPU_mem   box_loss   cls_loss   dfl_loss  Instances       Size\n"
     ]
    },
    {
     "name": "stderr",
     "output_type": "stream",
     "text": [
      "      7/100      5.61G      1.073     0.5782      1.107        118        640: 100%|██████████| 143/143 [02:02<00:00,  1.16it/s]\n",
      "                 Class     Images  Instances      Box(P          R      mAP50  mAP50-95): 100%|██████████| 2/2 [00:00<00:00,  3.52it/s]"
     ]
    },
    {
     "name": "stdout",
     "output_type": "stream",
     "text": [
      "                   all         32        477       0.86      0.792      0.856      0.567\n"
     ]
    },
    {
     "name": "stderr",
     "output_type": "stream",
     "text": [
      "\n"
     ]
    },
    {
     "name": "stdout",
     "output_type": "stream",
     "text": [
      "\n",
      "      Epoch    GPU_mem   box_loss   cls_loss   dfl_loss  Instances       Size\n"
     ]
    },
    {
     "name": "stderr",
     "output_type": "stream",
     "text": [
      "      8/100      5.47G      1.046     0.5623      1.085         89        640: 100%|██████████| 143/143 [02:19<00:00,  1.02it/s]\n",
      "                 Class     Images  Instances      Box(P          R      mAP50  mAP50-95): 100%|██████████| 2/2 [00:00<00:00,  4.82it/s]"
     ]
    },
    {
     "name": "stdout",
     "output_type": "stream",
     "text": [
      "                   all         32        477      0.824      0.851      0.854      0.566\n"
     ]
    },
    {
     "name": "stderr",
     "output_type": "stream",
     "text": [
      "\n"
     ]
    },
    {
     "name": "stdout",
     "output_type": "stream",
     "text": [
      "\n",
      "      Epoch    GPU_mem   box_loss   cls_loss   dfl_loss  Instances       Size\n"
     ]
    },
    {
     "name": "stderr",
     "output_type": "stream",
     "text": [
      "      9/100      5.61G      1.009     0.5385      1.073         83        640: 100%|██████████| 143/143 [02:07<00:00,  1.13it/s]\n",
      "                 Class     Images  Instances      Box(P          R      mAP50  mAP50-95): 100%|██████████| 2/2 [00:00<00:00,  2.56it/s]"
     ]
    },
    {
     "name": "stdout",
     "output_type": "stream",
     "text": [
      "                   all         32        477      0.872      0.832      0.878      0.574\n"
     ]
    },
    {
     "name": "stderr",
     "output_type": "stream",
     "text": [
      "\n"
     ]
    },
    {
     "name": "stdout",
     "output_type": "stream",
     "text": [
      "\n",
      "      Epoch    GPU_mem   box_loss   cls_loss   dfl_loss  Instances       Size\n"
     ]
    },
    {
     "name": "stderr",
     "output_type": "stream",
     "text": [
      "     10/100      5.57G     0.9725     0.5172      1.045         47        640: 100%|██████████| 143/143 [01:34<00:00,  1.51it/s]\n",
      "                 Class     Images  Instances      Box(P          R      mAP50  mAP50-95): 100%|██████████| 2/2 [00:00<00:00,  2.83it/s]"
     ]
    },
    {
     "name": "stdout",
     "output_type": "stream",
     "text": [
      "                   all         32        477      0.878      0.835      0.864      0.578\n"
     ]
    },
    {
     "name": "stderr",
     "output_type": "stream",
     "text": [
      "\n"
     ]
    },
    {
     "name": "stdout",
     "output_type": "stream",
     "text": [
      "\n",
      "      Epoch    GPU_mem   box_loss   cls_loss   dfl_loss  Instances       Size\n"
     ]
    },
    {
     "name": "stderr",
     "output_type": "stream",
     "text": [
      "     11/100      5.62G     0.9565     0.5021      1.046         66        640: 100%|██████████| 143/143 [01:36<00:00,  1.47it/s]\n",
      "                 Class     Images  Instances      Box(P          R      mAP50  mAP50-95): 100%|██████████| 2/2 [00:00<00:00,  4.91it/s]"
     ]
    },
    {
     "name": "stdout",
     "output_type": "stream",
     "text": [
      "                   all         32        477      0.887      0.842      0.868      0.577\n"
     ]
    },
    {
     "name": "stderr",
     "output_type": "stream",
     "text": [
      "\n"
     ]
    },
    {
     "name": "stdout",
     "output_type": "stream",
     "text": [
      "\n",
      "      Epoch    GPU_mem   box_loss   cls_loss   dfl_loss  Instances       Size\n"
     ]
    },
    {
     "name": "stderr",
     "output_type": "stream",
     "text": [
      "     12/100      5.45G     0.9468     0.4934      1.035        126        640: 100%|██████████| 143/143 [00:54<00:00,  2.61it/s]\n",
      "                 Class     Images  Instances      Box(P          R      mAP50  mAP50-95): 100%|██████████| 2/2 [00:00<00:00,  4.76it/s]"
     ]
    },
    {
     "name": "stdout",
     "output_type": "stream",
     "text": [
      "                   all         32        477      0.857       0.81      0.846      0.575\n"
     ]
    },
    {
     "name": "stderr",
     "output_type": "stream",
     "text": [
      "\n"
     ]
    },
    {
     "name": "stdout",
     "output_type": "stream",
     "text": [
      "\n",
      "      Epoch    GPU_mem   box_loss   cls_loss   dfl_loss  Instances       Size\n"
     ]
    },
    {
     "name": "stderr",
     "output_type": "stream",
     "text": [
      "     13/100      5.59G     0.9321     0.4819      1.027        121        640: 100%|██████████| 143/143 [01:08<00:00,  2.07it/s]\n",
      "                 Class     Images  Instances      Box(P          R      mAP50  mAP50-95): 100%|██████████| 2/2 [00:00<00:00,  5.08it/s]"
     ]
    },
    {
     "name": "stdout",
     "output_type": "stream",
     "text": [
      "                   all         32        477      0.847      0.856      0.872       0.58\n"
     ]
    },
    {
     "name": "stderr",
     "output_type": "stream",
     "text": [
      "\n"
     ]
    },
    {
     "name": "stdout",
     "output_type": "stream",
     "text": [
      "\n",
      "      Epoch    GPU_mem   box_loss   cls_loss   dfl_loss  Instances       Size\n"
     ]
    },
    {
     "name": "stderr",
     "output_type": "stream",
     "text": [
      "     14/100      5.62G     0.8945     0.4748      1.013         86        640: 100%|██████████| 143/143 [01:07<00:00,  2.11it/s]\n",
      "                 Class     Images  Instances      Box(P          R      mAP50  mAP50-95): 100%|██████████| 2/2 [00:00<00:00,  4.67it/s]"
     ]
    },
    {
     "name": "stdout",
     "output_type": "stream",
     "text": [
      "                   all         32        477      0.869      0.855      0.856      0.581\n"
     ]
    },
    {
     "name": "stderr",
     "output_type": "stream",
     "text": [
      "\n"
     ]
    },
    {
     "name": "stdout",
     "output_type": "stream",
     "text": [
      "\n",
      "      Epoch    GPU_mem   box_loss   cls_loss   dfl_loss  Instances       Size\n"
     ]
    },
    {
     "name": "stderr",
     "output_type": "stream",
     "text": [
      "     15/100      5.48G     0.8802     0.4635      1.007        107        640: 100%|██████████| 143/143 [00:57<00:00,  2.51it/s]\n",
      "                 Class     Images  Instances      Box(P          R      mAP50  mAP50-95): 100%|██████████| 2/2 [00:00<00:00,  4.85it/s]"
     ]
    },
    {
     "name": "stdout",
     "output_type": "stream",
     "text": [
      "                   all         32        477      0.848       0.86      0.882      0.609\n"
     ]
    },
    {
     "name": "stderr",
     "output_type": "stream",
     "text": [
      "\n"
     ]
    },
    {
     "name": "stdout",
     "output_type": "stream",
     "text": [
      "\n",
      "      Epoch    GPU_mem   box_loss   cls_loss   dfl_loss  Instances       Size\n"
     ]
    },
    {
     "name": "stderr",
     "output_type": "stream",
     "text": [
      "     16/100      5.64G     0.8656     0.4478     0.9975        139        640: 100%|██████████| 143/143 [00:56<00:00,  2.54it/s]\n",
      "                 Class     Images  Instances      Box(P          R      mAP50  mAP50-95): 100%|██████████| 2/2 [00:00<00:00,  4.84it/s]"
     ]
    },
    {
     "name": "stdout",
     "output_type": "stream",
     "text": [
      "                   all         32        477      0.894      0.854      0.874      0.603\n"
     ]
    },
    {
     "name": "stderr",
     "output_type": "stream",
     "text": [
      "\n"
     ]
    },
    {
     "name": "stdout",
     "output_type": "stream",
     "text": [
      "\n",
      "      Epoch    GPU_mem   box_loss   cls_loss   dfl_loss  Instances       Size\n"
     ]
    },
    {
     "name": "stderr",
     "output_type": "stream",
     "text": [
      "     17/100      5.63G     0.8457      0.452     0.9908         63        640: 100%|██████████| 143/143 [01:46<00:00,  1.35it/s]\n",
      "                 Class     Images  Instances      Box(P          R      mAP50  mAP50-95): 100%|██████████| 2/2 [00:00<00:00,  4.75it/s]"
     ]
    },
    {
     "name": "stdout",
     "output_type": "stream",
     "text": [
      "                   all         32        477      0.828      0.839      0.841      0.589\n"
     ]
    },
    {
     "name": "stderr",
     "output_type": "stream",
     "text": [
      "\n"
     ]
    },
    {
     "name": "stdout",
     "output_type": "stream",
     "text": [
      "\n",
      "      Epoch    GPU_mem   box_loss   cls_loss   dfl_loss  Instances       Size\n"
     ]
    },
    {
     "name": "stderr",
     "output_type": "stream",
     "text": [
      "     18/100      5.61G     0.8556     0.4469     0.9917         91        640: 100%|██████████| 143/143 [01:05<00:00,  2.19it/s]\n",
      "                 Class     Images  Instances      Box(P          R      mAP50  mAP50-95): 100%|██████████| 2/2 [00:00<00:00,  4.89it/s]"
     ]
    },
    {
     "name": "stdout",
     "output_type": "stream",
     "text": [
      "                   all         32        477      0.863       0.85      0.858      0.599\n"
     ]
    },
    {
     "name": "stderr",
     "output_type": "stream",
     "text": [
      "\n"
     ]
    },
    {
     "name": "stdout",
     "output_type": "stream",
     "text": [
      "\n",
      "      Epoch    GPU_mem   box_loss   cls_loss   dfl_loss  Instances       Size\n"
     ]
    },
    {
     "name": "stderr",
     "output_type": "stream",
     "text": [
      "     19/100      5.65G     0.8267      0.428     0.9764         72        640: 100%|██████████| 143/143 [00:54<00:00,  2.61it/s]\n",
      "                 Class     Images  Instances      Box(P          R      mAP50  mAP50-95): 100%|██████████| 2/2 [00:00<00:00,  4.61it/s]"
     ]
    },
    {
     "name": "stdout",
     "output_type": "stream",
     "text": [
      "                   all         32        477      0.839      0.842      0.841      0.583\n"
     ]
    },
    {
     "name": "stderr",
     "output_type": "stream",
     "text": [
      "\n"
     ]
    },
    {
     "name": "stdout",
     "output_type": "stream",
     "text": [
      "\n",
      "      Epoch    GPU_mem   box_loss   cls_loss   dfl_loss  Instances       Size\n"
     ]
    },
    {
     "name": "stderr",
     "output_type": "stream",
     "text": [
      "     20/100      5.43G     0.8326     0.4268     0.9783         60        640: 100%|██████████| 143/143 [00:54<00:00,  2.60it/s]\n",
      "                 Class     Images  Instances      Box(P          R      mAP50  mAP50-95): 100%|██████████| 2/2 [00:00<00:00,  4.92it/s]"
     ]
    },
    {
     "name": "stdout",
     "output_type": "stream",
     "text": [
      "                   all         32        477      0.851      0.878      0.858      0.615\n"
     ]
    },
    {
     "name": "stderr",
     "output_type": "stream",
     "text": [
      "\n"
     ]
    },
    {
     "name": "stdout",
     "output_type": "stream",
     "text": [
      "\n",
      "      Epoch    GPU_mem   box_loss   cls_loss   dfl_loss  Instances       Size\n"
     ]
    },
    {
     "name": "stderr",
     "output_type": "stream",
     "text": [
      "     21/100      5.59G      0.803     0.4174     0.9701         73        640: 100%|██████████| 143/143 [00:54<00:00,  2.62it/s]\n",
      "                 Class     Images  Instances      Box(P          R      mAP50  mAP50-95): 100%|██████████| 2/2 [00:00<00:00,  4.93it/s]"
     ]
    },
    {
     "name": "stdout",
     "output_type": "stream",
     "text": [
      "                   all         32        477      0.867      0.849      0.877      0.612\n"
     ]
    },
    {
     "name": "stderr",
     "output_type": "stream",
     "text": [
      "\n"
     ]
    },
    {
     "name": "stdout",
     "output_type": "stream",
     "text": [
      "\n",
      "      Epoch    GPU_mem   box_loss   cls_loss   dfl_loss  Instances       Size\n"
     ]
    },
    {
     "name": "stderr",
     "output_type": "stream",
     "text": [
      "     22/100       5.6G     0.8001     0.4119     0.9693         52        640: 100%|██████████| 143/143 [00:54<00:00,  2.62it/s]\n",
      "                 Class     Images  Instances      Box(P          R      mAP50  mAP50-95): 100%|██████████| 2/2 [00:00<00:00,  5.17it/s]"
     ]
    },
    {
     "name": "stdout",
     "output_type": "stream",
     "text": [
      "                   all         32        477      0.856      0.833      0.862      0.601\n"
     ]
    },
    {
     "name": "stderr",
     "output_type": "stream",
     "text": [
      "\n"
     ]
    },
    {
     "name": "stdout",
     "output_type": "stream",
     "text": [
      "\n",
      "      Epoch    GPU_mem   box_loss   cls_loss   dfl_loss  Instances       Size\n"
     ]
    },
    {
     "name": "stderr",
     "output_type": "stream",
     "text": [
      "     23/100      5.47G     0.7915     0.4125     0.9619        122        640: 100%|██████████| 143/143 [00:59<00:00,  2.39it/s]\n",
      "                 Class     Images  Instances      Box(P          R      mAP50  mAP50-95): 100%|██████████| 2/2 [00:00<00:00,  3.81it/s]"
     ]
    },
    {
     "name": "stdout",
     "output_type": "stream",
     "text": [
      "                   all         32        477      0.869      0.867      0.869      0.596\n"
     ]
    },
    {
     "name": "stderr",
     "output_type": "stream",
     "text": [
      "\n"
     ]
    },
    {
     "name": "stdout",
     "output_type": "stream",
     "text": [
      "\n",
      "      Epoch    GPU_mem   box_loss   cls_loss   dfl_loss  Instances       Size\n"
     ]
    },
    {
     "name": "stderr",
     "output_type": "stream",
     "text": [
      "     24/100       5.6G     0.7714     0.4054     0.9591         94        640: 100%|██████████| 143/143 [01:03<00:00,  2.24it/s]\n",
      "                 Class     Images  Instances      Box(P          R      mAP50  mAP50-95): 100%|██████████| 2/2 [00:00<00:00,  3.67it/s]"
     ]
    },
    {
     "name": "stdout",
     "output_type": "stream",
     "text": [
      "                   all         32        477      0.863      0.836       0.86      0.608\n"
     ]
    },
    {
     "name": "stderr",
     "output_type": "stream",
     "text": [
      "\n"
     ]
    },
    {
     "name": "stdout",
     "output_type": "stream",
     "text": [
      "\n",
      "      Epoch    GPU_mem   box_loss   cls_loss   dfl_loss  Instances       Size\n"
     ]
    },
    {
     "name": "stderr",
     "output_type": "stream",
     "text": [
      "     25/100       5.6G     0.7629     0.3965     0.9478         65        640: 100%|██████████| 143/143 [00:52<00:00,  2.72it/s]\n",
      "                 Class     Images  Instances      Box(P          R      mAP50  mAP50-95): 100%|██████████| 2/2 [00:00<00:00,  5.05it/s]"
     ]
    },
    {
     "name": "stdout",
     "output_type": "stream",
     "text": [
      "                   all         32        477      0.879      0.847      0.879      0.619\n"
     ]
    },
    {
     "name": "stderr",
     "output_type": "stream",
     "text": [
      "\n"
     ]
    },
    {
     "name": "stdout",
     "output_type": "stream",
     "text": [
      "\n",
      "      Epoch    GPU_mem   box_loss   cls_loss   dfl_loss  Instances       Size\n"
     ]
    },
    {
     "name": "stderr",
     "output_type": "stream",
     "text": [
      "     26/100      5.61G     0.7675     0.3932     0.9433        120        640: 100%|██████████| 143/143 [00:52<00:00,  2.71it/s]\n",
      "                 Class     Images  Instances      Box(P          R      mAP50  mAP50-95): 100%|██████████| 2/2 [00:00<00:00,  4.70it/s]"
     ]
    },
    {
     "name": "stdout",
     "output_type": "stream",
     "text": [
      "                   all         32        477      0.888      0.825      0.861      0.602\n"
     ]
    },
    {
     "name": "stderr",
     "output_type": "stream",
     "text": [
      "\n"
     ]
    },
    {
     "name": "stdout",
     "output_type": "stream",
     "text": [
      "\n",
      "      Epoch    GPU_mem   box_loss   cls_loss   dfl_loss  Instances       Size\n"
     ]
    },
    {
     "name": "stderr",
     "output_type": "stream",
     "text": [
      "     27/100      5.64G     0.7512     0.3903      0.941         68        640: 100%|██████████| 143/143 [00:52<00:00,  2.75it/s]\n",
      "                 Class     Images  Instances      Box(P          R      mAP50  mAP50-95): 100%|██████████| 2/2 [00:00<00:00,  5.25it/s]"
     ]
    },
    {
     "name": "stdout",
     "output_type": "stream",
     "text": [
      "                   all         32        477       0.88      0.834      0.872        0.6\n"
     ]
    },
    {
     "name": "stderr",
     "output_type": "stream",
     "text": [
      "\n"
     ]
    },
    {
     "name": "stdout",
     "output_type": "stream",
     "text": [
      "\n",
      "      Epoch    GPU_mem   box_loss   cls_loss   dfl_loss  Instances       Size\n"
     ]
    },
    {
     "name": "stderr",
     "output_type": "stream",
     "text": [
      "     28/100      5.39G     0.7247     0.3761     0.9302         65        640: 100%|██████████| 143/143 [00:51<00:00,  2.76it/s]\n",
      "                 Class     Images  Instances      Box(P          R      mAP50  mAP50-95): 100%|██████████| 2/2 [00:00<00:00,  5.07it/s]"
     ]
    },
    {
     "name": "stdout",
     "output_type": "stream",
     "text": [
      "                   all         32        477      0.884      0.854      0.862      0.602\n"
     ]
    },
    {
     "name": "stderr",
     "output_type": "stream",
     "text": [
      "\n"
     ]
    },
    {
     "name": "stdout",
     "output_type": "stream",
     "text": [
      "\n",
      "      Epoch    GPU_mem   box_loss   cls_loss   dfl_loss  Instances       Size\n"
     ]
    },
    {
     "name": "stderr",
     "output_type": "stream",
     "text": [
      "     29/100      5.47G     0.7398     0.3837     0.9413        104        640: 100%|██████████| 143/143 [00:52<00:00,  2.71it/s]\n",
      "                 Class     Images  Instances      Box(P          R      mAP50  mAP50-95): 100%|██████████| 2/2 [00:00<00:00,  4.44it/s]"
     ]
    },
    {
     "name": "stdout",
     "output_type": "stream",
     "text": [
      "                   all         32        477      0.888      0.844      0.864      0.598\n"
     ]
    },
    {
     "name": "stderr",
     "output_type": "stream",
     "text": [
      "\n"
     ]
    },
    {
     "name": "stdout",
     "output_type": "stream",
     "text": [
      "\n",
      "      Epoch    GPU_mem   box_loss   cls_loss   dfl_loss  Instances       Size\n"
     ]
    },
    {
     "name": "stderr",
     "output_type": "stream",
     "text": [
      "     30/100      5.46G     0.7257     0.3718     0.9356         92        640: 100%|██████████| 143/143 [00:56<00:00,  2.53it/s]\n",
      "                 Class     Images  Instances      Box(P          R      mAP50  mAP50-95): 100%|██████████| 2/2 [00:00<00:00,  4.44it/s]"
     ]
    },
    {
     "name": "stdout",
     "output_type": "stream",
     "text": [
      "                   all         32        477      0.902      0.841      0.865      0.626\n"
     ]
    },
    {
     "name": "stderr",
     "output_type": "stream",
     "text": [
      "\n"
     ]
    },
    {
     "name": "stdout",
     "output_type": "stream",
     "text": [
      "\n",
      "      Epoch    GPU_mem   box_loss   cls_loss   dfl_loss  Instances       Size\n"
     ]
    },
    {
     "name": "stderr",
     "output_type": "stream",
     "text": [
      "     31/100      5.45G     0.7064     0.3652     0.9235        158        640: 100%|██████████| 143/143 [00:55<00:00,  2.59it/s]\n",
      "                 Class     Images  Instances      Box(P          R      mAP50  mAP50-95): 100%|██████████| 2/2 [00:00<00:00,  4.84it/s]"
     ]
    },
    {
     "name": "stdout",
     "output_type": "stream",
     "text": [
      "                   all         32        477      0.875      0.865      0.879      0.627\n"
     ]
    },
    {
     "name": "stderr",
     "output_type": "stream",
     "text": [
      "\n"
     ]
    },
    {
     "name": "stdout",
     "output_type": "stream",
     "text": [
      "\n",
      "      Epoch    GPU_mem   box_loss   cls_loss   dfl_loss  Instances       Size\n"
     ]
    },
    {
     "name": "stderr",
     "output_type": "stream",
     "text": [
      "     32/100      5.61G     0.7004     0.3634     0.9181        104        640: 100%|██████████| 143/143 [00:54<00:00,  2.60it/s]\n",
      "                 Class     Images  Instances      Box(P          R      mAP50  mAP50-95): 100%|██████████| 2/2 [00:00<00:00,  4.63it/s]"
     ]
    },
    {
     "name": "stdout",
     "output_type": "stream",
     "text": [
      "                   all         32        477      0.894      0.855      0.877      0.603\n"
     ]
    },
    {
     "name": "stderr",
     "output_type": "stream",
     "text": [
      "\n"
     ]
    },
    {
     "name": "stdout",
     "output_type": "stream",
     "text": [
      "\n",
      "      Epoch    GPU_mem   box_loss   cls_loss   dfl_loss  Instances       Size\n"
     ]
    },
    {
     "name": "stderr",
     "output_type": "stream",
     "text": [
      "     33/100      5.44G     0.6994     0.3623     0.9224         79        640: 100%|██████████| 143/143 [00:55<00:00,  2.59it/s]\n",
      "                 Class     Images  Instances      Box(P          R      mAP50  mAP50-95): 100%|██████████| 2/2 [00:00<00:00,  4.62it/s]"
     ]
    },
    {
     "name": "stdout",
     "output_type": "stream",
     "text": [
      "                   all         32        477      0.888      0.864      0.876       0.62\n"
     ]
    },
    {
     "name": "stderr",
     "output_type": "stream",
     "text": [
      "\n"
     ]
    },
    {
     "name": "stdout",
     "output_type": "stream",
     "text": [
      "\n",
      "      Epoch    GPU_mem   box_loss   cls_loss   dfl_loss  Instances       Size\n"
     ]
    },
    {
     "name": "stderr",
     "output_type": "stream",
     "text": [
      "     34/100      5.46G     0.6937     0.3598     0.9225         59        640: 100%|██████████| 143/143 [00:55<00:00,  2.56it/s]\n",
      "                 Class     Images  Instances      Box(P          R      mAP50  mAP50-95): 100%|██████████| 2/2 [00:00<00:00,  3.33it/s]"
     ]
    },
    {
     "name": "stdout",
     "output_type": "stream",
     "text": [
      "                   all         32        477      0.875      0.869      0.878      0.635\n"
     ]
    },
    {
     "name": "stderr",
     "output_type": "stream",
     "text": [
      "\n"
     ]
    },
    {
     "name": "stdout",
     "output_type": "stream",
     "text": [
      "\n",
      "      Epoch    GPU_mem   box_loss   cls_loss   dfl_loss  Instances       Size\n"
     ]
    },
    {
     "name": "stderr",
     "output_type": "stream",
     "text": [
      "     35/100      5.62G     0.6932     0.3592     0.9169         81        640: 100%|██████████| 143/143 [00:55<00:00,  2.58it/s]\n",
      "                 Class     Images  Instances      Box(P          R      mAP50  mAP50-95): 100%|██████████| 2/2 [00:00<00:00,  4.81it/s]"
     ]
    },
    {
     "name": "stdout",
     "output_type": "stream",
     "text": [
      "                   all         32        477      0.852       0.87      0.881       0.61\n"
     ]
    },
    {
     "name": "stderr",
     "output_type": "stream",
     "text": [
      "\n"
     ]
    },
    {
     "name": "stdout",
     "output_type": "stream",
     "text": [
      "\n",
      "      Epoch    GPU_mem   box_loss   cls_loss   dfl_loss  Instances       Size\n"
     ]
    },
    {
     "name": "stderr",
     "output_type": "stream",
     "text": [
      "     36/100      5.48G     0.6659     0.3484     0.9101         77        640: 100%|██████████| 143/143 [00:54<00:00,  2.60it/s]\n",
      "                 Class     Images  Instances      Box(P          R      mAP50  mAP50-95): 100%|██████████| 2/2 [00:00<00:00,  4.65it/s]"
     ]
    },
    {
     "name": "stdout",
     "output_type": "stream",
     "text": [
      "                   all         32        477      0.891      0.864      0.891      0.636\n"
     ]
    },
    {
     "name": "stderr",
     "output_type": "stream",
     "text": [
      "\n"
     ]
    },
    {
     "name": "stdout",
     "output_type": "stream",
     "text": [
      "\n",
      "      Epoch    GPU_mem   box_loss   cls_loss   dfl_loss  Instances       Size\n"
     ]
    },
    {
     "name": "stderr",
     "output_type": "stream",
     "text": [
      "     37/100      5.44G     0.6629     0.3443     0.9084         98        640: 100%|██████████| 143/143 [00:56<00:00,  2.53it/s]\n",
      "                 Class     Images  Instances      Box(P          R      mAP50  mAP50-95): 100%|██████████| 2/2 [00:00<00:00,  3.79it/s]"
     ]
    },
    {
     "name": "stdout",
     "output_type": "stream",
     "text": [
      "                   all         32        477      0.896      0.846      0.873       0.61\n"
     ]
    },
    {
     "name": "stderr",
     "output_type": "stream",
     "text": [
      "\n"
     ]
    },
    {
     "name": "stdout",
     "output_type": "stream",
     "text": [
      "\n",
      "      Epoch    GPU_mem   box_loss   cls_loss   dfl_loss  Instances       Size\n"
     ]
    },
    {
     "name": "stderr",
     "output_type": "stream",
     "text": [
      "     38/100      5.46G     0.6694     0.3485      0.909         67        640: 100%|██████████| 143/143 [00:56<00:00,  2.54it/s]\n",
      "                 Class     Images  Instances      Box(P          R      mAP50  mAP50-95): 100%|██████████| 2/2 [00:00<00:00,  4.39it/s]"
     ]
    },
    {
     "name": "stdout",
     "output_type": "stream",
     "text": [
      "                   all         32        477      0.894      0.862      0.872      0.617\n"
     ]
    },
    {
     "name": "stderr",
     "output_type": "stream",
     "text": [
      "\n"
     ]
    },
    {
     "name": "stdout",
     "output_type": "stream",
     "text": [
      "\n",
      "      Epoch    GPU_mem   box_loss   cls_loss   dfl_loss  Instances       Size\n"
     ]
    },
    {
     "name": "stderr",
     "output_type": "stream",
     "text": [
      "     39/100      5.63G     0.6633     0.3396     0.9023         99        640: 100%|██████████| 143/143 [00:55<00:00,  2.58it/s]\n",
      "                 Class     Images  Instances      Box(P          R      mAP50  mAP50-95): 100%|██████████| 2/2 [00:00<00:00,  4.57it/s]"
     ]
    },
    {
     "name": "stdout",
     "output_type": "stream",
     "text": [
      "                   all         32        477      0.846      0.883      0.868      0.618\n"
     ]
    },
    {
     "name": "stderr",
     "output_type": "stream",
     "text": [
      "\n"
     ]
    },
    {
     "name": "stdout",
     "output_type": "stream",
     "text": [
      "\n",
      "      Epoch    GPU_mem   box_loss   cls_loss   dfl_loss  Instances       Size\n"
     ]
    },
    {
     "name": "stderr",
     "output_type": "stream",
     "text": [
      "     40/100      5.46G     0.6427     0.3331     0.8964         80        640: 100%|██████████| 143/143 [00:54<00:00,  2.61it/s]\n",
      "                 Class     Images  Instances      Box(P          R      mAP50  mAP50-95): 100%|██████████| 2/2 [00:00<00:00,  4.60it/s]"
     ]
    },
    {
     "name": "stdout",
     "output_type": "stream",
     "text": [
      "                   all         32        477      0.884      0.846       0.86      0.617\n"
     ]
    },
    {
     "name": "stderr",
     "output_type": "stream",
     "text": [
      "\n"
     ]
    },
    {
     "name": "stdout",
     "output_type": "stream",
     "text": [
      "\n",
      "      Epoch    GPU_mem   box_loss   cls_loss   dfl_loss  Instances       Size\n"
     ]
    },
    {
     "name": "stderr",
     "output_type": "stream",
     "text": [
      "     41/100      5.58G     0.6396     0.3321     0.8972         76        640: 100%|██████████| 143/143 [00:54<00:00,  2.61it/s]\n",
      "                 Class     Images  Instances      Box(P          R      mAP50  mAP50-95): 100%|██████████| 2/2 [00:00<00:00,  4.86it/s]"
     ]
    },
    {
     "name": "stdout",
     "output_type": "stream",
     "text": [
      "                   all         32        477      0.868       0.85      0.865      0.605\n"
     ]
    },
    {
     "name": "stderr",
     "output_type": "stream",
     "text": [
      "\n"
     ]
    },
    {
     "name": "stdout",
     "output_type": "stream",
     "text": [
      "\n",
      "      Epoch    GPU_mem   box_loss   cls_loss   dfl_loss  Instances       Size\n"
     ]
    },
    {
     "name": "stderr",
     "output_type": "stream",
     "text": [
      "     42/100      5.48G     0.6554     0.3404     0.9022         71        640: 100%|██████████| 143/143 [00:54<00:00,  2.60it/s]\n",
      "                 Class     Images  Instances      Box(P          R      mAP50  mAP50-95): 100%|██████████| 2/2 [00:00<00:00,  4.52it/s]"
     ]
    },
    {
     "name": "stdout",
     "output_type": "stream",
     "text": [
      "                   all         32        477      0.897      0.851      0.884      0.607\n"
     ]
    },
    {
     "name": "stderr",
     "output_type": "stream",
     "text": [
      "\n"
     ]
    },
    {
     "name": "stdout",
     "output_type": "stream",
     "text": [
      "\n",
      "      Epoch    GPU_mem   box_loss   cls_loss   dfl_loss  Instances       Size\n"
     ]
    },
    {
     "name": "stderr",
     "output_type": "stream",
     "text": [
      "     43/100      5.63G     0.6371     0.3308     0.8979         85        640: 100%|██████████| 143/143 [00:54<00:00,  2.60it/s]\n",
      "                 Class     Images  Instances      Box(P          R      mAP50  mAP50-95): 100%|██████████| 2/2 [00:00<00:00,  4.83it/s]"
     ]
    },
    {
     "name": "stdout",
     "output_type": "stream",
     "text": [
      "                   all         32        477      0.877      0.852      0.885      0.636\n"
     ]
    },
    {
     "name": "stderr",
     "output_type": "stream",
     "text": [
      "\n"
     ]
    },
    {
     "name": "stdout",
     "output_type": "stream",
     "text": [
      "\n",
      "      Epoch    GPU_mem   box_loss   cls_loss   dfl_loss  Instances       Size\n"
     ]
    },
    {
     "name": "stderr",
     "output_type": "stream",
     "text": [
      "     44/100      5.44G     0.6359     0.3316     0.8945         81        640: 100%|██████████| 143/143 [00:55<00:00,  2.60it/s]\n",
      "                 Class     Images  Instances      Box(P          R      mAP50  mAP50-95): 100%|██████████| 2/2 [00:00<00:00,  4.86it/s]"
     ]
    },
    {
     "name": "stdout",
     "output_type": "stream",
     "text": [
      "                   all         32        477      0.893      0.843      0.874      0.614\n"
     ]
    },
    {
     "name": "stderr",
     "output_type": "stream",
     "text": [
      "\n"
     ]
    },
    {
     "name": "stdout",
     "output_type": "stream",
     "text": [
      "\n",
      "      Epoch    GPU_mem   box_loss   cls_loss   dfl_loss  Instances       Size\n"
     ]
    },
    {
     "name": "stderr",
     "output_type": "stream",
     "text": [
      "     45/100       5.6G     0.6221     0.3255     0.8924         75        640: 100%|██████████| 143/143 [00:54<00:00,  2.60it/s]\n",
      "                 Class     Images  Instances      Box(P          R      mAP50  mAP50-95): 100%|██████████| 2/2 [00:00<00:00,  4.91it/s]"
     ]
    },
    {
     "name": "stdout",
     "output_type": "stream",
     "text": [
      "                   all         32        477      0.864      0.877      0.879      0.636\n"
     ]
    },
    {
     "name": "stderr",
     "output_type": "stream",
     "text": [
      "\n"
     ]
    },
    {
     "name": "stdout",
     "output_type": "stream",
     "text": [
      "\n",
      "      Epoch    GPU_mem   box_loss   cls_loss   dfl_loss  Instances       Size\n"
     ]
    },
    {
     "name": "stderr",
     "output_type": "stream",
     "text": [
      "     46/100      5.46G      0.613     0.3217     0.8876         66        640: 100%|██████████| 143/143 [00:56<00:00,  2.51it/s]\n",
      "                 Class     Images  Instances      Box(P          R      mAP50  mAP50-95): 100%|██████████| 2/2 [00:00<00:00,  4.02it/s]"
     ]
    },
    {
     "name": "stdout",
     "output_type": "stream",
     "text": [
      "                   all         32        477      0.902      0.864       0.89      0.627\n"
     ]
    },
    {
     "name": "stderr",
     "output_type": "stream",
     "text": [
      "\n"
     ]
    },
    {
     "name": "stdout",
     "output_type": "stream",
     "text": [
      "\n",
      "      Epoch    GPU_mem   box_loss   cls_loss   dfl_loss  Instances       Size\n"
     ]
    },
    {
     "name": "stderr",
     "output_type": "stream",
     "text": [
      "     47/100      5.45G     0.6114     0.3209     0.8877        100        640: 100%|██████████| 143/143 [01:03<00:00,  2.25it/s]\n",
      "                 Class     Images  Instances      Box(P          R      mAP50  mAP50-95): 100%|██████████| 2/2 [00:00<00:00,  3.91it/s]"
     ]
    },
    {
     "name": "stdout",
     "output_type": "stream",
     "text": [
      "                   all         32        477      0.896      0.869      0.889      0.632\n"
     ]
    },
    {
     "name": "stderr",
     "output_type": "stream",
     "text": [
      "\n"
     ]
    },
    {
     "name": "stdout",
     "output_type": "stream",
     "text": [
      "\n",
      "      Epoch    GPU_mem   box_loss   cls_loss   dfl_loss  Instances       Size\n"
     ]
    },
    {
     "name": "stderr",
     "output_type": "stream",
     "text": [
      "     48/100      5.46G     0.6069     0.3182     0.8816         96        640: 100%|██████████| 143/143 [00:59<00:00,  2.40it/s]\n",
      "                 Class     Images  Instances      Box(P          R      mAP50  mAP50-95): 100%|██████████| 2/2 [00:00<00:00,  4.71it/s]"
     ]
    },
    {
     "name": "stdout",
     "output_type": "stream",
     "text": [
      "                   all         32        477      0.886      0.885      0.887      0.624\n"
     ]
    },
    {
     "name": "stderr",
     "output_type": "stream",
     "text": [
      "\n"
     ]
    },
    {
     "name": "stdout",
     "output_type": "stream",
     "text": [
      "\n",
      "      Epoch    GPU_mem   box_loss   cls_loss   dfl_loss  Instances       Size\n"
     ]
    },
    {
     "name": "stderr",
     "output_type": "stream",
     "text": [
      "     49/100      5.44G     0.5993     0.3153     0.8848         84        640: 100%|██████████| 143/143 [00:54<00:00,  2.62it/s]\n",
      "                 Class     Images  Instances      Box(P          R      mAP50  mAP50-95): 100%|██████████| 2/2 [00:00<00:00,  4.71it/s]"
     ]
    },
    {
     "name": "stdout",
     "output_type": "stream",
     "text": [
      "                   all         32        477      0.888      0.842      0.885      0.623\n"
     ]
    },
    {
     "name": "stderr",
     "output_type": "stream",
     "text": [
      "\n"
     ]
    },
    {
     "name": "stdout",
     "output_type": "stream",
     "text": [
      "\n",
      "      Epoch    GPU_mem   box_loss   cls_loss   dfl_loss  Instances       Size\n"
     ]
    },
    {
     "name": "stderr",
     "output_type": "stream",
     "text": [
      "     50/100      5.54G     0.5965     0.3126     0.8841         98        640: 100%|██████████| 143/143 [00:54<00:00,  2.61it/s]\n",
      "                 Class     Images  Instances      Box(P          R      mAP50  mAP50-95): 100%|██████████| 2/2 [00:00<00:00,  4.80it/s]"
     ]
    },
    {
     "name": "stdout",
     "output_type": "stream",
     "text": [
      "                   all         32        477      0.896      0.853      0.883      0.625\n"
     ]
    },
    {
     "name": "stderr",
     "output_type": "stream",
     "text": [
      "\n"
     ]
    },
    {
     "name": "stdout",
     "output_type": "stream",
     "text": [
      "\n",
      "      Epoch    GPU_mem   box_loss   cls_loss   dfl_loss  Instances       Size\n"
     ]
    },
    {
     "name": "stderr",
     "output_type": "stream",
     "text": [
      "     51/100      5.63G     0.5858     0.3082     0.8823         72        640: 100%|██████████| 143/143 [01:04<00:00,  2.23it/s]\n",
      "                 Class     Images  Instances      Box(P          R      mAP50  mAP50-95): 100%|██████████| 2/2 [00:00<00:00,  4.92it/s]"
     ]
    },
    {
     "name": "stdout",
     "output_type": "stream",
     "text": [
      "                   all         32        477      0.875       0.88      0.901       0.63\n"
     ]
    },
    {
     "name": "stderr",
     "output_type": "stream",
     "text": [
      "\n"
     ]
    },
    {
     "name": "stdout",
     "output_type": "stream",
     "text": [
      "\n",
      "      Epoch    GPU_mem   box_loss   cls_loss   dfl_loss  Instances       Size\n"
     ]
    },
    {
     "name": "stderr",
     "output_type": "stream",
     "text": [
      "     52/100      5.45G     0.5899     0.3088     0.8781         96        640: 100%|██████████| 143/143 [00:54<00:00,  2.62it/s]\n",
      "                 Class     Images  Instances      Box(P          R      mAP50  mAP50-95): 100%|██████████| 2/2 [00:00<00:00,  4.87it/s]"
     ]
    },
    {
     "name": "stdout",
     "output_type": "stream",
     "text": [
      "                   all         32        477      0.902      0.857      0.882      0.617\n"
     ]
    },
    {
     "name": "stderr",
     "output_type": "stream",
     "text": [
      "\n"
     ]
    },
    {
     "name": "stdout",
     "output_type": "stream",
     "text": [
      "\n",
      "      Epoch    GPU_mem   box_loss   cls_loss   dfl_loss  Instances       Size\n"
     ]
    },
    {
     "name": "stderr",
     "output_type": "stream",
     "text": [
      "     53/100      5.44G     0.5762     0.3046     0.8766         80        640: 100%|██████████| 143/143 [00:54<00:00,  2.62it/s]\n",
      "                 Class     Images  Instances      Box(P          R      mAP50  mAP50-95): 100%|██████████| 2/2 [00:00<00:00,  4.77it/s]"
     ]
    },
    {
     "name": "stdout",
     "output_type": "stream",
     "text": [
      "                   all         32        477      0.859       0.87      0.885      0.639\n"
     ]
    },
    {
     "name": "stderr",
     "output_type": "stream",
     "text": [
      "\n"
     ]
    },
    {
     "name": "stdout",
     "output_type": "stream",
     "text": [
      "\n",
      "      Epoch    GPU_mem   box_loss   cls_loss   dfl_loss  Instances       Size\n"
     ]
    },
    {
     "name": "stderr",
     "output_type": "stream",
     "text": [
      "     54/100      5.46G     0.5772      0.304      0.877        117        640: 100%|██████████| 143/143 [00:54<00:00,  2.62it/s]\n",
      "                 Class     Images  Instances      Box(P          R      mAP50  mAP50-95): 100%|██████████| 2/2 [00:00<00:00,  4.58it/s]"
     ]
    },
    {
     "name": "stdout",
     "output_type": "stream",
     "text": [
      "                   all         32        477      0.896      0.873      0.892       0.64\n"
     ]
    },
    {
     "name": "stderr",
     "output_type": "stream",
     "text": [
      "\n"
     ]
    },
    {
     "name": "stdout",
     "output_type": "stream",
     "text": [
      "\n",
      "      Epoch    GPU_mem   box_loss   cls_loss   dfl_loss  Instances       Size\n"
     ]
    },
    {
     "name": "stderr",
     "output_type": "stream",
     "text": [
      "     55/100      5.45G     0.5842     0.3029     0.8794        151        640: 100%|██████████| 143/143 [00:54<00:00,  2.62it/s]\n",
      "                 Class     Images  Instances      Box(P          R      mAP50  mAP50-95): 100%|██████████| 2/2 [00:00<00:00,  4.78it/s]"
     ]
    },
    {
     "name": "stdout",
     "output_type": "stream",
     "text": [
      "                   all         32        477      0.875      0.883      0.889      0.649\n"
     ]
    },
    {
     "name": "stderr",
     "output_type": "stream",
     "text": [
      "\n"
     ]
    },
    {
     "name": "stdout",
     "output_type": "stream",
     "text": [
      "\n",
      "      Epoch    GPU_mem   box_loss   cls_loss   dfl_loss  Instances       Size\n"
     ]
    },
    {
     "name": "stderr",
     "output_type": "stream",
     "text": [
      "     56/100       5.6G     0.5673     0.2979     0.8719         85        640: 100%|██████████| 143/143 [00:54<00:00,  2.63it/s]\n",
      "                 Class     Images  Instances      Box(P          R      mAP50  mAP50-95): 100%|██████████| 2/2 [00:00<00:00,  4.88it/s]"
     ]
    },
    {
     "name": "stdout",
     "output_type": "stream",
     "text": [
      "                   all         32        477      0.878      0.868      0.887      0.632\n"
     ]
    },
    {
     "name": "stderr",
     "output_type": "stream",
     "text": [
      "\n"
     ]
    },
    {
     "name": "stdout",
     "output_type": "stream",
     "text": [
      "\n",
      "      Epoch    GPU_mem   box_loss   cls_loss   dfl_loss  Instances       Size\n"
     ]
    },
    {
     "name": "stderr",
     "output_type": "stream",
     "text": [
      "     57/100      5.61G     0.5567     0.2943     0.8669         66        640: 100%|██████████| 143/143 [01:06<00:00,  2.14it/s]\n",
      "                 Class     Images  Instances      Box(P          R      mAP50  mAP50-95): 100%|██████████| 2/2 [00:00<00:00,  4.72it/s]"
     ]
    },
    {
     "name": "stdout",
     "output_type": "stream",
     "text": [
      "                   all         32        477      0.889      0.868      0.895      0.634\n"
     ]
    },
    {
     "name": "stderr",
     "output_type": "stream",
     "text": [
      "\n"
     ]
    },
    {
     "name": "stdout",
     "output_type": "stream",
     "text": [
      "\n",
      "      Epoch    GPU_mem   box_loss   cls_loss   dfl_loss  Instances       Size\n"
     ]
    },
    {
     "name": "stderr",
     "output_type": "stream",
     "text": [
      "     58/100       5.6G     0.5624     0.2956     0.8686        110        640: 100%|██████████| 143/143 [01:14<00:00,  1.93it/s]\n",
      "                 Class     Images  Instances      Box(P          R      mAP50  mAP50-95): 100%|██████████| 2/2 [00:00<00:00,  3.98it/s]"
     ]
    },
    {
     "name": "stdout",
     "output_type": "stream",
     "text": [
      "                   all         32        477      0.896      0.866      0.897       0.65\n"
     ]
    },
    {
     "name": "stderr",
     "output_type": "stream",
     "text": [
      "\n"
     ]
    },
    {
     "name": "stdout",
     "output_type": "stream",
     "text": [
      "\n",
      "      Epoch    GPU_mem   box_loss   cls_loss   dfl_loss  Instances       Size\n"
     ]
    },
    {
     "name": "stderr",
     "output_type": "stream",
     "text": [
      "     59/100      5.63G     0.5515     0.2931     0.8661         72        640: 100%|██████████| 143/143 [00:59<00:00,  2.40it/s]\n",
      "                 Class     Images  Instances      Box(P          R      mAP50  mAP50-95): 100%|██████████| 2/2 [00:00<00:00,  4.86it/s]"
     ]
    },
    {
     "name": "stdout",
     "output_type": "stream",
     "text": [
      "                   all         32        477       0.89      0.891      0.899      0.639\n"
     ]
    },
    {
     "name": "stderr",
     "output_type": "stream",
     "text": [
      "\n"
     ]
    },
    {
     "name": "stdout",
     "output_type": "stream",
     "text": [
      "\n",
      "      Epoch    GPU_mem   box_loss   cls_loss   dfl_loss  Instances       Size\n"
     ]
    },
    {
     "name": "stderr",
     "output_type": "stream",
     "text": [
      "     60/100      5.44G     0.5622     0.2943     0.8666         79        640: 100%|██████████| 143/143 [00:56<00:00,  2.55it/s]\n",
      "                 Class     Images  Instances      Box(P          R      mAP50  mAP50-95): 100%|██████████| 2/2 [00:00<00:00,  3.68it/s]"
     ]
    },
    {
     "name": "stdout",
     "output_type": "stream",
     "text": [
      "                   all         32        477      0.836      0.887      0.889      0.639\n"
     ]
    },
    {
     "name": "stderr",
     "output_type": "stream",
     "text": [
      "\n"
     ]
    },
    {
     "name": "stdout",
     "output_type": "stream",
     "text": [
      "\n",
      "      Epoch    GPU_mem   box_loss   cls_loss   dfl_loss  Instances       Size\n"
     ]
    },
    {
     "name": "stderr",
     "output_type": "stream",
     "text": [
      "     61/100      5.45G     0.5442     0.2868      0.864         66        640: 100%|██████████| 143/143 [01:03<00:00,  2.25it/s]\n",
      "                 Class     Images  Instances      Box(P          R      mAP50  mAP50-95): 100%|██████████| 2/2 [00:00<00:00,  4.82it/s]"
     ]
    },
    {
     "name": "stdout",
     "output_type": "stream",
     "text": [
      "                   all         32        477      0.882      0.879      0.897      0.633\n"
     ]
    },
    {
     "name": "stderr",
     "output_type": "stream",
     "text": [
      "\n"
     ]
    },
    {
     "name": "stdout",
     "output_type": "stream",
     "text": [
      "\n",
      "      Epoch    GPU_mem   box_loss   cls_loss   dfl_loss  Instances       Size\n"
     ]
    },
    {
     "name": "stderr",
     "output_type": "stream",
     "text": [
      "     62/100      5.46G     0.5442     0.2874     0.8652         96        640: 100%|██████████| 143/143 [00:56<00:00,  2.53it/s]\n",
      "                 Class     Images  Instances      Box(P          R      mAP50  mAP50-95): 100%|██████████| 2/2 [00:00<00:00,  4.00it/s]"
     ]
    },
    {
     "name": "stdout",
     "output_type": "stream",
     "text": [
      "                   all         32        477      0.875       0.88      0.896      0.647\n"
     ]
    },
    {
     "name": "stderr",
     "output_type": "stream",
     "text": [
      "\n"
     ]
    },
    {
     "name": "stdout",
     "output_type": "stream",
     "text": [
      "\n",
      "      Epoch    GPU_mem   box_loss   cls_loss   dfl_loss  Instances       Size\n"
     ]
    },
    {
     "name": "stderr",
     "output_type": "stream",
     "text": [
      "     63/100      5.61G     0.5333     0.2856     0.8657        101        640: 100%|██████████| 143/143 [01:01<00:00,  2.33it/s]\n",
      "                 Class     Images  Instances      Box(P          R      mAP50  mAP50-95): 100%|██████████| 2/2 [00:00<00:00,  4.87it/s]"
     ]
    },
    {
     "name": "stdout",
     "output_type": "stream",
     "text": [
      "                   all         32        477      0.868      0.878      0.887      0.634\n"
     ]
    },
    {
     "name": "stderr",
     "output_type": "stream",
     "text": [
      "\n"
     ]
    },
    {
     "name": "stdout",
     "output_type": "stream",
     "text": [
      "\n",
      "      Epoch    GPU_mem   box_loss   cls_loss   dfl_loss  Instances       Size\n"
     ]
    },
    {
     "name": "stderr",
     "output_type": "stream",
     "text": [
      "     64/100      5.59G     0.5417     0.2871     0.8628         99        640: 100%|██████████| 143/143 [01:01<00:00,  2.33it/s]\n",
      "                 Class     Images  Instances      Box(P          R      mAP50  mAP50-95): 100%|██████████| 2/2 [00:00<00:00,  3.83it/s]"
     ]
    },
    {
     "name": "stdout",
     "output_type": "stream",
     "text": [
      "                   all         32        477       0.88      0.882      0.904      0.647\n"
     ]
    },
    {
     "name": "stderr",
     "output_type": "stream",
     "text": [
      "\n"
     ]
    },
    {
     "name": "stdout",
     "output_type": "stream",
     "text": [
      "\n",
      "      Epoch    GPU_mem   box_loss   cls_loss   dfl_loss  Instances       Size\n"
     ]
    },
    {
     "name": "stderr",
     "output_type": "stream",
     "text": [
      "     65/100      5.63G     0.5331      0.282     0.8572         75        640: 100%|██████████| 143/143 [00:59<00:00,  2.39it/s]\n",
      "                 Class     Images  Instances      Box(P          R      mAP50  mAP50-95): 100%|██████████| 2/2 [00:00<00:00,  3.82it/s]"
     ]
    },
    {
     "name": "stdout",
     "output_type": "stream",
     "text": [
      "                   all         32        477      0.893      0.864      0.889      0.624\n"
     ]
    },
    {
     "name": "stderr",
     "output_type": "stream",
     "text": [
      "\n"
     ]
    },
    {
     "name": "stdout",
     "output_type": "stream",
     "text": [
      "\n",
      "      Epoch    GPU_mem   box_loss   cls_loss   dfl_loss  Instances       Size\n"
     ]
    },
    {
     "name": "stderr",
     "output_type": "stream",
     "text": [
      "     66/100      5.62G     0.5377     0.2819     0.8641         63        640: 100%|██████████| 143/143 [01:02<00:00,  2.29it/s]\n",
      "                 Class     Images  Instances      Box(P          R      mAP50  mAP50-95): 100%|██████████| 2/2 [00:00<00:00,  3.98it/s]"
     ]
    },
    {
     "name": "stdout",
     "output_type": "stream",
     "text": [
      "                   all         32        477      0.883      0.891      0.887      0.627\n"
     ]
    },
    {
     "name": "stderr",
     "output_type": "stream",
     "text": [
      "\n"
     ]
    },
    {
     "name": "stdout",
     "output_type": "stream",
     "text": [
      "\n",
      "      Epoch    GPU_mem   box_loss   cls_loss   dfl_loss  Instances       Size\n"
     ]
    },
    {
     "name": "stderr",
     "output_type": "stream",
     "text": [
      "     67/100      5.61G     0.5205      0.274     0.8572        122        640: 100%|██████████| 143/143 [01:00<00:00,  2.37it/s]\n",
      "                 Class     Images  Instances      Box(P          R      mAP50  mAP50-95): 100%|██████████| 2/2 [00:00<00:00,  4.78it/s]"
     ]
    },
    {
     "name": "stdout",
     "output_type": "stream",
     "text": [
      "                   all         32        477      0.888      0.879      0.893      0.636\n"
     ]
    },
    {
     "name": "stderr",
     "output_type": "stream",
     "text": [
      "\n"
     ]
    },
    {
     "name": "stdout",
     "output_type": "stream",
     "text": [
      "\n",
      "      Epoch    GPU_mem   box_loss   cls_loss   dfl_loss  Instances       Size\n"
     ]
    },
    {
     "name": "stderr",
     "output_type": "stream",
     "text": [
      "     68/100      5.45G     0.5206     0.2757     0.8602         46        640: 100%|██████████| 143/143 [00:54<00:00,  2.61it/s]\n",
      "                 Class     Images  Instances      Box(P          R      mAP50  mAP50-95): 100%|██████████| 2/2 [00:00<00:00,  4.51it/s]"
     ]
    },
    {
     "name": "stdout",
     "output_type": "stream",
     "text": [
      "                   all         32        477       0.86      0.882      0.894      0.623\n"
     ]
    },
    {
     "name": "stderr",
     "output_type": "stream",
     "text": [
      "\n"
     ]
    },
    {
     "name": "stdout",
     "output_type": "stream",
     "text": [
      "\n",
      "      Epoch    GPU_mem   box_loss   cls_loss   dfl_loss  Instances       Size\n"
     ]
    },
    {
     "name": "stderr",
     "output_type": "stream",
     "text": [
      "     69/100      5.64G     0.5131     0.2721     0.8546         65        640: 100%|██████████| 143/143 [00:54<00:00,  2.61it/s]\n",
      "                 Class     Images  Instances      Box(P          R      mAP50  mAP50-95): 100%|██████████| 2/2 [00:00<00:00,  4.63it/s]"
     ]
    },
    {
     "name": "stdout",
     "output_type": "stream",
     "text": [
      "                   all         32        477      0.884      0.861      0.885      0.628\n"
     ]
    },
    {
     "name": "stderr",
     "output_type": "stream",
     "text": [
      "\n"
     ]
    },
    {
     "name": "stdout",
     "output_type": "stream",
     "text": [
      "\n",
      "      Epoch    GPU_mem   box_loss   cls_loss   dfl_loss  Instances       Size\n"
     ]
    },
    {
     "name": "stderr",
     "output_type": "stream",
     "text": [
      "     70/100      5.44G     0.5128     0.2707     0.8513         68        640: 100%|██████████| 143/143 [01:02<00:00,  2.27it/s]\n",
      "                 Class     Images  Instances      Box(P          R      mAP50  mAP50-95): 100%|██████████| 2/2 [00:00<00:00,  4.19it/s]"
     ]
    },
    {
     "name": "stdout",
     "output_type": "stream",
     "text": [
      "                   all         32        477      0.869      0.883      0.889      0.638\n"
     ]
    },
    {
     "name": "stderr",
     "output_type": "stream",
     "text": [
      "\n"
     ]
    },
    {
     "name": "stdout",
     "output_type": "stream",
     "text": [
      "\n",
      "      Epoch    GPU_mem   box_loss   cls_loss   dfl_loss  Instances       Size\n"
     ]
    },
    {
     "name": "stderr",
     "output_type": "stream",
     "text": [
      "     71/100      5.62G     0.5089     0.2696     0.8521        119        640: 100%|██████████| 143/143 [01:01<00:00,  2.33it/s]\n",
      "                 Class     Images  Instances      Box(P          R      mAP50  mAP50-95): 100%|██████████| 2/2 [00:00<00:00,  4.19it/s]"
     ]
    },
    {
     "name": "stdout",
     "output_type": "stream",
     "text": [
      "                   all         32        477      0.881      0.879      0.891      0.635\n"
     ]
    },
    {
     "name": "stderr",
     "output_type": "stream",
     "text": [
      "\n"
     ]
    },
    {
     "name": "stdout",
     "output_type": "stream",
     "text": [
      "\n",
      "      Epoch    GPU_mem   box_loss   cls_loss   dfl_loss  Instances       Size\n"
     ]
    },
    {
     "name": "stderr",
     "output_type": "stream",
     "text": [
      "     72/100      5.62G     0.4991     0.2682     0.8522        187        640: 100%|██████████| 143/143 [01:02<00:00,  2.27it/s]\n",
      "                 Class     Images  Instances      Box(P          R      mAP50  mAP50-95): 100%|██████████| 2/2 [00:00<00:00,  4.01it/s]"
     ]
    },
    {
     "name": "stdout",
     "output_type": "stream",
     "text": [
      "                   all         32        477      0.895      0.871      0.893      0.625\n"
     ]
    },
    {
     "name": "stderr",
     "output_type": "stream",
     "text": [
      "\n"
     ]
    },
    {
     "name": "stdout",
     "output_type": "stream",
     "text": [
      "\n",
      "      Epoch    GPU_mem   box_loss   cls_loss   dfl_loss  Instances       Size\n"
     ]
    },
    {
     "name": "stderr",
     "output_type": "stream",
     "text": [
      "     73/100      5.62G     0.5001     0.2677     0.8485        105        640: 100%|██████████| 143/143 [01:04<00:00,  2.23it/s]\n",
      "                 Class     Images  Instances      Box(P          R      mAP50  mAP50-95): 100%|██████████| 2/2 [00:00<00:00,  4.11it/s]"
     ]
    },
    {
     "name": "stdout",
     "output_type": "stream",
     "text": [
      "                   all         32        477      0.887       0.87      0.893      0.642\n"
     ]
    },
    {
     "name": "stderr",
     "output_type": "stream",
     "text": [
      "\n"
     ]
    },
    {
     "name": "stdout",
     "output_type": "stream",
     "text": [
      "\n",
      "      Epoch    GPU_mem   box_loss   cls_loss   dfl_loss  Instances       Size\n"
     ]
    },
    {
     "name": "stderr",
     "output_type": "stream",
     "text": [
      "     74/100      5.48G     0.5067     0.2664     0.8515         50        640: 100%|██████████| 143/143 [01:03<00:00,  2.25it/s]\n",
      "                 Class     Images  Instances      Box(P          R      mAP50  mAP50-95): 100%|██████████| 2/2 [00:00<00:00,  4.28it/s]"
     ]
    },
    {
     "name": "stdout",
     "output_type": "stream",
     "text": [
      "                   all         32        477      0.881      0.878      0.887      0.633\n"
     ]
    },
    {
     "name": "stderr",
     "output_type": "stream",
     "text": [
      "\n"
     ]
    },
    {
     "name": "stdout",
     "output_type": "stream",
     "text": [
      "\n",
      "      Epoch    GPU_mem   box_loss   cls_loss   dfl_loss  Instances       Size\n"
     ]
    },
    {
     "name": "stderr",
     "output_type": "stream",
     "text": [
      "     75/100      5.64G     0.4916     0.2635     0.8517         91        640: 100%|██████████| 143/143 [01:03<00:00,  2.25it/s]\n",
      "                 Class     Images  Instances      Box(P          R      mAP50  mAP50-95): 100%|██████████| 2/2 [00:00<00:00,  3.67it/s]"
     ]
    },
    {
     "name": "stdout",
     "output_type": "stream",
     "text": [
      "                   all         32        477      0.893      0.881      0.896      0.644\n"
     ]
    },
    {
     "name": "stderr",
     "output_type": "stream",
     "text": [
      "\n"
     ]
    },
    {
     "name": "stdout",
     "output_type": "stream",
     "text": [
      "\n",
      "      Epoch    GPU_mem   box_loss   cls_loss   dfl_loss  Instances       Size\n"
     ]
    },
    {
     "name": "stderr",
     "output_type": "stream",
     "text": [
      "     76/100      5.44G     0.4851      0.261     0.8494        108        640: 100%|██████████| 143/143 [01:00<00:00,  2.35it/s]\n",
      "                 Class     Images  Instances      Box(P          R      mAP50  mAP50-95): 100%|██████████| 2/2 [00:00<00:00,  4.93it/s]"
     ]
    },
    {
     "name": "stdout",
     "output_type": "stream",
     "text": [
      "                   all         32        477      0.878      0.889      0.888      0.633\n"
     ]
    },
    {
     "name": "stderr",
     "output_type": "stream",
     "text": [
      "\n"
     ]
    },
    {
     "name": "stdout",
     "output_type": "stream",
     "text": [
      "\n",
      "      Epoch    GPU_mem   box_loss   cls_loss   dfl_loss  Instances       Size\n"
     ]
    },
    {
     "name": "stderr",
     "output_type": "stream",
     "text": [
      "     77/100      5.59G     0.4835     0.2616     0.8463         92        640: 100%|██████████| 143/143 [00:55<00:00,  2.59it/s]\n",
      "                 Class     Images  Instances      Box(P          R      mAP50  mAP50-95): 100%|██████████| 2/2 [00:00<00:00,  4.52it/s]"
     ]
    },
    {
     "name": "stdout",
     "output_type": "stream",
     "text": [
      "                   all         32        477      0.893      0.886       0.89      0.648\n"
     ]
    },
    {
     "name": "stderr",
     "output_type": "stream",
     "text": [
      "\n"
     ]
    },
    {
     "name": "stdout",
     "output_type": "stream",
     "text": [
      "\n",
      "      Epoch    GPU_mem   box_loss   cls_loss   dfl_loss  Instances       Size\n"
     ]
    },
    {
     "name": "stderr",
     "output_type": "stream",
     "text": [
      "     78/100      5.63G     0.4812     0.2582     0.8467         59        640: 100%|██████████| 143/143 [00:57<00:00,  2.48it/s]\n",
      "                 Class     Images  Instances      Box(P          R      mAP50  mAP50-95): 100%|██████████| 2/2 [00:00<00:00,  3.91it/s]"
     ]
    },
    {
     "name": "stdout",
     "output_type": "stream",
     "text": [
      "                   all         32        477      0.859      0.902      0.887      0.632\n"
     ]
    },
    {
     "name": "stderr",
     "output_type": "stream",
     "text": [
      "\n"
     ]
    },
    {
     "name": "stdout",
     "output_type": "stream",
     "text": [
      "\n",
      "      Epoch    GPU_mem   box_loss   cls_loss   dfl_loss  Instances       Size\n"
     ]
    },
    {
     "name": "stderr",
     "output_type": "stream",
     "text": [
      "     79/100      5.45G     0.4776     0.2565     0.8446         86        640: 100%|██████████| 143/143 [01:01<00:00,  2.31it/s]\n",
      "                 Class     Images  Instances      Box(P          R      mAP50  mAP50-95): 100%|██████████| 2/2 [00:00<00:00,  4.23it/s]"
     ]
    },
    {
     "name": "stdout",
     "output_type": "stream",
     "text": [
      "                   all         32        477      0.874      0.888      0.893       0.63\n"
     ]
    },
    {
     "name": "stderr",
     "output_type": "stream",
     "text": [
      "\n"
     ]
    },
    {
     "name": "stdout",
     "output_type": "stream",
     "text": [
      "\n",
      "      Epoch    GPU_mem   box_loss   cls_loss   dfl_loss  Instances       Size\n"
     ]
    },
    {
     "name": "stderr",
     "output_type": "stream",
     "text": [
      "     80/100      5.61G     0.4733     0.2554     0.8448         63        640: 100%|██████████| 143/143 [01:01<00:00,  2.33it/s]\n",
      "                 Class     Images  Instances      Box(P          R      mAP50  mAP50-95): 100%|██████████| 2/2 [00:00<00:00,  4.75it/s]"
     ]
    },
    {
     "name": "stdout",
     "output_type": "stream",
     "text": [
      "                   all         32        477      0.867      0.893      0.893      0.637\n"
     ]
    },
    {
     "name": "stderr",
     "output_type": "stream",
     "text": [
      "\n"
     ]
    },
    {
     "name": "stdout",
     "output_type": "stream",
     "text": [
      "\n",
      "      Epoch    GPU_mem   box_loss   cls_loss   dfl_loss  Instances       Size\n"
     ]
    },
    {
     "name": "stderr",
     "output_type": "stream",
     "text": [
      "     81/100      5.46G     0.4678     0.2535     0.8426         79        640: 100%|██████████| 143/143 [01:01<00:00,  2.33it/s]\n",
      "                 Class     Images  Instances      Box(P          R      mAP50  mAP50-95): 100%|██████████| 2/2 [00:00<00:00,  4.28it/s]"
     ]
    },
    {
     "name": "stdout",
     "output_type": "stream",
     "text": [
      "                   all         32        477      0.878      0.894      0.893      0.636\n"
     ]
    },
    {
     "name": "stderr",
     "output_type": "stream",
     "text": [
      "\n"
     ]
    },
    {
     "name": "stdout",
     "output_type": "stream",
     "text": [
      "\n",
      "      Epoch    GPU_mem   box_loss   cls_loss   dfl_loss  Instances       Size\n"
     ]
    },
    {
     "name": "stderr",
     "output_type": "stream",
     "text": [
      "     82/100      5.46G     0.4624     0.2518     0.8429         67        640: 100%|██████████| 143/143 [01:02<00:00,  2.29it/s]\n",
      "                 Class     Images  Instances      Box(P          R      mAP50  mAP50-95): 100%|██████████| 2/2 [00:00<00:00,  4.25it/s]"
     ]
    },
    {
     "name": "stdout",
     "output_type": "stream",
     "text": [
      "                   all         32        477      0.885      0.891      0.886      0.632\n"
     ]
    },
    {
     "name": "stderr",
     "output_type": "stream",
     "text": [
      "\n"
     ]
    },
    {
     "name": "stdout",
     "output_type": "stream",
     "text": [
      "\n",
      "      Epoch    GPU_mem   box_loss   cls_loss   dfl_loss  Instances       Size\n"
     ]
    },
    {
     "name": "stderr",
     "output_type": "stream",
     "text": [
      "     83/100       5.6G     0.4647     0.2522     0.8401        131        640: 100%|██████████| 143/143 [01:04<00:00,  2.22it/s]\n",
      "                 Class     Images  Instances      Box(P          R      mAP50  mAP50-95): 100%|██████████| 2/2 [00:00<00:00,  3.94it/s]"
     ]
    },
    {
     "name": "stdout",
     "output_type": "stream",
     "text": [
      "                   all         32        477      0.897      0.855      0.897      0.643\n"
     ]
    },
    {
     "name": "stderr",
     "output_type": "stream",
     "text": [
      "\n"
     ]
    },
    {
     "name": "stdout",
     "output_type": "stream",
     "text": [
      "\n",
      "      Epoch    GPU_mem   box_loss   cls_loss   dfl_loss  Instances       Size\n"
     ]
    },
    {
     "name": "stderr",
     "output_type": "stream",
     "text": [
      "     84/100      5.47G     0.4542     0.2463     0.8373        108        640: 100%|██████████| 143/143 [01:03<00:00,  2.27it/s]\n",
      "                 Class     Images  Instances      Box(P          R      mAP50  mAP50-95): 100%|██████████| 2/2 [00:00<00:00,  4.77it/s]"
     ]
    },
    {
     "name": "stdout",
     "output_type": "stream",
     "text": [
      "                   all         32        477      0.885      0.876      0.897      0.637\n"
     ]
    },
    {
     "name": "stderr",
     "output_type": "stream",
     "text": [
      "\n"
     ]
    },
    {
     "name": "stdout",
     "output_type": "stream",
     "text": [
      "\n",
      "      Epoch    GPU_mem   box_loss   cls_loss   dfl_loss  Instances       Size\n"
     ]
    },
    {
     "name": "stderr",
     "output_type": "stream",
     "text": [
      "     85/100       5.6G     0.4544     0.2445     0.8376         49        640: 100%|██████████| 143/143 [00:55<00:00,  2.58it/s]\n",
      "                 Class     Images  Instances      Box(P          R      mAP50  mAP50-95): 100%|██████████| 2/2 [00:00<00:00,  4.63it/s]"
     ]
    },
    {
     "name": "stdout",
     "output_type": "stream",
     "text": [
      "                   all         32        477      0.863      0.893      0.893      0.636\n"
     ]
    },
    {
     "name": "stderr",
     "output_type": "stream",
     "text": [
      "\n"
     ]
    },
    {
     "name": "stdout",
     "output_type": "stream",
     "text": [
      "\n",
      "      Epoch    GPU_mem   box_loss   cls_loss   dfl_loss  Instances       Size\n"
     ]
    },
    {
     "name": "stderr",
     "output_type": "stream",
     "text": [
      "     86/100      5.45G     0.4509     0.2444     0.8375         93        640: 100%|██████████| 143/143 [01:01<00:00,  2.31it/s]\n",
      "                 Class     Images  Instances      Box(P          R      mAP50  mAP50-95): 100%|██████████| 2/2 [00:00<00:00,  4.00it/s]"
     ]
    },
    {
     "name": "stdout",
     "output_type": "stream",
     "text": [
      "                   all         32        477      0.884      0.877      0.891       0.64\n"
     ]
    },
    {
     "name": "stderr",
     "output_type": "stream",
     "text": [
      "\n"
     ]
    },
    {
     "name": "stdout",
     "output_type": "stream",
     "text": [
      "\n",
      "      Epoch    GPU_mem   box_loss   cls_loss   dfl_loss  Instances       Size\n"
     ]
    },
    {
     "name": "stderr",
     "output_type": "stream",
     "text": [
      "     87/100      5.63G     0.4488     0.2431     0.8388         90        640: 100%|██████████| 143/143 [01:02<00:00,  2.28it/s]\n",
      "                 Class     Images  Instances      Box(P          R      mAP50  mAP50-95): 100%|██████████| 2/2 [00:00<00:00,  4.14it/s]"
     ]
    },
    {
     "name": "stdout",
     "output_type": "stream",
     "text": [
      "                   all         32        477      0.885      0.886      0.895      0.638\n"
     ]
    },
    {
     "name": "stderr",
     "output_type": "stream",
     "text": [
      "\n"
     ]
    },
    {
     "name": "stdout",
     "output_type": "stream",
     "text": [
      "\n",
      "      Epoch    GPU_mem   box_loss   cls_loss   dfl_loss  Instances       Size\n"
     ]
    },
    {
     "name": "stderr",
     "output_type": "stream",
     "text": [
      "     88/100      5.62G     0.4463     0.2428      0.838         70        640: 100%|██████████| 143/143 [01:02<00:00,  2.28it/s]\n",
      "                 Class     Images  Instances      Box(P          R      mAP50  mAP50-95): 100%|██████████| 2/2 [00:00<00:00,  3.80it/s]"
     ]
    },
    {
     "name": "stdout",
     "output_type": "stream",
     "text": [
      "                   all         32        477       0.89      0.876      0.902      0.646\n"
     ]
    },
    {
     "name": "stderr",
     "output_type": "stream",
     "text": [
      "\n"
     ]
    },
    {
     "name": "stdout",
     "output_type": "stream",
     "text": [
      "\n",
      "      Epoch    GPU_mem   box_loss   cls_loss   dfl_loss  Instances       Size\n"
     ]
    },
    {
     "name": "stderr",
     "output_type": "stream",
     "text": [
      "     89/100       5.6G     0.4357     0.2398      0.836         89        640: 100%|██████████| 143/143 [01:03<00:00,  2.26it/s]\n",
      "                 Class     Images  Instances      Box(P          R      mAP50  mAP50-95): 100%|██████████| 2/2 [00:00<00:00,  4.00it/s]"
     ]
    },
    {
     "name": "stdout",
     "output_type": "stream",
     "text": [
      "                   all         32        477      0.882      0.878      0.888      0.635\n"
     ]
    },
    {
     "name": "stderr",
     "output_type": "stream",
     "text": [
      "\n"
     ]
    },
    {
     "name": "stdout",
     "output_type": "stream",
     "text": [
      "\n",
      "      Epoch    GPU_mem   box_loss   cls_loss   dfl_loss  Instances       Size\n"
     ]
    },
    {
     "name": "stderr",
     "output_type": "stream",
     "text": [
      "     90/100      5.59G     0.4347     0.2386     0.8332        136        640: 100%|██████████| 143/143 [01:02<00:00,  2.29it/s]\n",
      "                 Class     Images  Instances      Box(P          R      mAP50  mAP50-95): 100%|██████████| 2/2 [00:00<00:00,  4.23it/s]"
     ]
    },
    {
     "name": "stdout",
     "output_type": "stream",
     "text": [
      "                   all         32        477      0.889      0.873      0.885      0.626\n"
     ]
    },
    {
     "name": "stderr",
     "output_type": "stream",
     "text": [
      "\n"
     ]
    },
    {
     "name": "stdout",
     "output_type": "stream",
     "text": [
      "Closing dataloader mosaic\n",
      "\n",
      "      Epoch    GPU_mem   box_loss   cls_loss   dfl_loss  Instances       Size\n"
     ]
    },
    {
     "name": "stderr",
     "output_type": "stream",
     "text": [
      "     91/100      5.56G     0.3849     0.2079     0.8053         60        640: 100%|██████████| 143/143 [00:56<00:00,  2.51it/s]\n",
      "                 Class     Images  Instances      Box(P          R      mAP50  mAP50-95): 100%|██████████| 2/2 [00:00<00:00,  4.95it/s]"
     ]
    },
    {
     "name": "stdout",
     "output_type": "stream",
     "text": [
      "                   all         32        477      0.884      0.906      0.895      0.644\n"
     ]
    },
    {
     "name": "stderr",
     "output_type": "stream",
     "text": [
      "\n"
     ]
    },
    {
     "name": "stdout",
     "output_type": "stream",
     "text": [
      "\n",
      "      Epoch    GPU_mem   box_loss   cls_loss   dfl_loss  Instances       Size\n"
     ]
    },
    {
     "name": "stderr",
     "output_type": "stream",
     "text": [
      "     92/100       5.4G     0.3797     0.2072     0.8046         74        640: 100%|██████████| 143/143 [00:55<00:00,  2.57it/s]\n",
      "                 Class     Images  Instances      Box(P          R      mAP50  mAP50-95): 100%|██████████| 2/2 [00:00<00:00,  5.80it/s]"
     ]
    },
    {
     "name": "stdout",
     "output_type": "stream",
     "text": [
      "                   all         32        477      0.879        0.9      0.899      0.641\n"
     ]
    },
    {
     "name": "stderr",
     "output_type": "stream",
     "text": [
      "\n"
     ]
    },
    {
     "name": "stdout",
     "output_type": "stream",
     "text": [
      "\n",
      "      Epoch    GPU_mem   box_loss   cls_loss   dfl_loss  Instances       Size\n"
     ]
    },
    {
     "name": "stderr",
     "output_type": "stream",
     "text": [
      "     93/100      5.41G     0.3762     0.2045     0.8036         80        640: 100%|██████████| 143/143 [00:54<00:00,  2.64it/s]\n",
      "                 Class     Images  Instances      Box(P          R      mAP50  mAP50-95): 100%|██████████| 2/2 [00:00<00:00,  4.93it/s]"
     ]
    },
    {
     "name": "stdout",
     "output_type": "stream",
     "text": [
      "                   all         32        477      0.891      0.878      0.894      0.648\n"
     ]
    },
    {
     "name": "stderr",
     "output_type": "stream",
     "text": [
      "\n"
     ]
    },
    {
     "name": "stdout",
     "output_type": "stream",
     "text": [
      "\n",
      "      Epoch    GPU_mem   box_loss   cls_loss   dfl_loss  Instances       Size\n"
     ]
    },
    {
     "name": "stderr",
     "output_type": "stream",
     "text": [
      "     94/100      5.56G     0.3687     0.2016     0.8021         54        640: 100%|██████████| 143/143 [00:54<00:00,  2.63it/s]\n",
      "                 Class     Images  Instances      Box(P          R      mAP50  mAP50-95): 100%|██████████| 2/2 [00:00<00:00,  4.40it/s]"
     ]
    },
    {
     "name": "stdout",
     "output_type": "stream",
     "text": [
      "                   all         32        477      0.886      0.886      0.897      0.654\n"
     ]
    },
    {
     "name": "stderr",
     "output_type": "stream",
     "text": [
      "\n"
     ]
    },
    {
     "name": "stdout",
     "output_type": "stream",
     "text": [
      "\n",
      "      Epoch    GPU_mem   box_loss   cls_loss   dfl_loss  Instances       Size\n"
     ]
    },
    {
     "name": "stderr",
     "output_type": "stream",
     "text": [
      "     95/100      5.41G     0.3661     0.1998     0.8009         37        640: 100%|██████████| 143/143 [01:01<00:00,  2.34it/s]\n",
      "                 Class     Images  Instances      Box(P          R      mAP50  mAP50-95): 100%|██████████| 2/2 [00:00<00:00,  3.94it/s]"
     ]
    },
    {
     "name": "stdout",
     "output_type": "stream",
     "text": [
      "                   all         32        477      0.901      0.884      0.898      0.649\n"
     ]
    },
    {
     "name": "stderr",
     "output_type": "stream",
     "text": [
      "\n"
     ]
    },
    {
     "name": "stdout",
     "output_type": "stream",
     "text": [
      "\n",
      "      Epoch    GPU_mem   box_loss   cls_loss   dfl_loss  Instances       Size\n"
     ]
    },
    {
     "name": "stderr",
     "output_type": "stream",
     "text": [
      "     96/100      5.55G     0.3588      0.198     0.7999         53        640: 100%|██████████| 143/143 [01:02<00:00,  2.29it/s]\n",
      "                 Class     Images  Instances      Box(P          R      mAP50  mAP50-95): 100%|██████████| 2/2 [00:00<00:00,  4.04it/s]"
     ]
    },
    {
     "name": "stdout",
     "output_type": "stream",
     "text": [
      "                   all         32        477      0.884      0.894        0.9      0.651\n"
     ]
    },
    {
     "name": "stderr",
     "output_type": "stream",
     "text": [
      "\n"
     ]
    },
    {
     "name": "stdout",
     "output_type": "stream",
     "text": [
      "\n",
      "      Epoch    GPU_mem   box_loss   cls_loss   dfl_loss  Instances       Size\n"
     ]
    },
    {
     "name": "stderr",
     "output_type": "stream",
     "text": [
      "     97/100      5.56G      0.353     0.1956     0.7978         60        640: 100%|██████████| 143/143 [01:01<00:00,  2.33it/s]\n",
      "                 Class     Images  Instances      Box(P          R      mAP50  mAP50-95): 100%|██████████| 2/2 [00:00<00:00,  4.49it/s]"
     ]
    },
    {
     "name": "stdout",
     "output_type": "stream",
     "text": [
      "                   all         32        477      0.887      0.895        0.9       0.65\n"
     ]
    },
    {
     "name": "stderr",
     "output_type": "stream",
     "text": [
      "\n"
     ]
    },
    {
     "name": "stdout",
     "output_type": "stream",
     "text": [
      "\n",
      "      Epoch    GPU_mem   box_loss   cls_loss   dfl_loss  Instances       Size\n"
     ]
    },
    {
     "name": "stderr",
     "output_type": "stream",
     "text": [
      "     98/100      5.54G     0.3483     0.1937     0.7978         46        640: 100%|██████████| 143/143 [00:56<00:00,  2.55it/s]\n",
      "                 Class     Images  Instances      Box(P          R      mAP50  mAP50-95): 100%|██████████| 2/2 [00:00<00:00,  4.11it/s]"
     ]
    },
    {
     "name": "stdout",
     "output_type": "stream",
     "text": [
      "                   all         32        477      0.884      0.892      0.901      0.653\n"
     ]
    },
    {
     "name": "stderr",
     "output_type": "stream",
     "text": [
      "\n"
     ]
    },
    {
     "name": "stdout",
     "output_type": "stream",
     "text": [
      "\n",
      "      Epoch    GPU_mem   box_loss   cls_loss   dfl_loss  Instances       Size\n"
     ]
    },
    {
     "name": "stderr",
     "output_type": "stream",
     "text": [
      "     99/100      5.57G     0.3492      0.193     0.7978         40        640: 100%|██████████| 143/143 [00:57<00:00,  2.50it/s]\n",
      "                 Class     Images  Instances      Box(P          R      mAP50  mAP50-95): 100%|██████████| 2/2 [00:00<00:00,  4.62it/s]"
     ]
    },
    {
     "name": "stdout",
     "output_type": "stream",
     "text": [
      "                   all         32        477      0.884      0.893      0.903      0.652\n"
     ]
    },
    {
     "name": "stderr",
     "output_type": "stream",
     "text": [
      "\n"
     ]
    },
    {
     "name": "stdout",
     "output_type": "stream",
     "text": [
      "\n",
      "      Epoch    GPU_mem   box_loss   cls_loss   dfl_loss  Instances       Size\n"
     ]
    },
    {
     "name": "stderr",
     "output_type": "stream",
     "text": [
      "    100/100       5.4G     0.3423     0.1914     0.7955         45        640: 100%|██████████| 143/143 [01:01<00:00,  2.33it/s]\n",
      "                 Class     Images  Instances      Box(P          R      mAP50  mAP50-95): 100%|██████████| 2/2 [00:00<00:00,  3.79it/s]"
     ]
    },
    {
     "name": "stdout",
     "output_type": "stream",
     "text": [
      "                   all         32        477      0.889      0.893      0.899       0.65\n"
     ]
    },
    {
     "name": "stderr",
     "output_type": "stream",
     "text": [
      "\n"
     ]
    },
    {
     "name": "stdout",
     "output_type": "stream",
     "text": [
      "\n",
      "100 epochs completed in 1.819 hours.\n",
      "Optimizer stripped from runs\\detect\\train\\weights\\last.pt, 87.6MB\n",
      "Optimizer stripped from runs\\detect\\train\\weights\\best.pt, 87.6MB\n",
      "\n",
      "Validating runs\\detect\\train\\weights\\best.pt...\n",
      "Ultralytics 8.3.155  Python-3.10.18 torch-2.7.1+cu128 CUDA:0 (NVIDIA GeForce RTX 4060 Laptop GPU, 8188MiB)\n",
      "Model summary (fused): 112 layers, 43,613,547 parameters, 0 gradients, 164.9 GFLOPs\n"
     ]
    },
    {
     "name": "stderr",
     "output_type": "stream",
     "text": [
      "                 Class     Images  Instances      Box(P          R      mAP50  mAP50-95): 100%|██████████| 2/2 [00:01<00:00,  1.53it/s]\n"
     ]
    },
    {
     "name": "stdout",
     "output_type": "stream",
     "text": [
      "                   all         32        477      0.858      0.896      0.891      0.627\n",
      "                  Ball         18         18      0.964      0.611      0.715      0.374\n",
      "                  Hoop         22         22      0.844      0.984       0.91      0.692\n",
      "                Period         22         23      0.878       0.87      0.903      0.577\n",
      "                Player         31        253      0.939      0.856      0.931      0.683\n",
      "                   Ref         28         55      0.914      0.909      0.901       0.71\n",
      "            Shot Clock         19         19      0.863          1      0.952      0.632\n",
      "             Team Name         10         20      0.678        0.9       0.86      0.632\n",
      "           Team Points         22         45      0.851      0.933      0.913      0.679\n",
      "        Time Remaining         22         22      0.795          1      0.934      0.662\n",
      "Speed: 0.4ms preprocess, 32.5ms inference, 0.0ms loss, 1.7ms postprocess per image\n",
      "Results saved to \u001b[1mruns\\detect\\train\u001b[0m\n"
     ]
    },
    {
     "data": {
      "text/plain": [
       "ultralytics.utils.metrics.DetMetrics object with attributes:\n",
       "\n",
       "ap_class_index: array([0, 1, 2, 3, 4, 5, 6, 7, 8])\n",
       "box: ultralytics.utils.metrics.Metric object\n",
       "confusion_matrix: <ultralytics.utils.metrics.ConfusionMatrix object at 0x00000217DD580550>\n",
       "curves: ['Precision-Recall(B)', 'F1-Confidence(B)', 'Precision-Confidence(B)', 'Recall-Confidence(B)']\n",
       "curves_results: [[array([          0,    0.001001,    0.002002,    0.003003,    0.004004,    0.005005,    0.006006,    0.007007,    0.008008,    0.009009,     0.01001,    0.011011,    0.012012,    0.013013,    0.014014,    0.015015,    0.016016,    0.017017,    0.018018,    0.019019,     0.02002,    0.021021,    0.022022,    0.023023,\n",
       "          0.024024,    0.025025,    0.026026,    0.027027,    0.028028,    0.029029,     0.03003,    0.031031,    0.032032,    0.033033,    0.034034,    0.035035,    0.036036,    0.037037,    0.038038,    0.039039,     0.04004,    0.041041,    0.042042,    0.043043,    0.044044,    0.045045,    0.046046,    0.047047,\n",
       "          0.048048,    0.049049,     0.05005,    0.051051,    0.052052,    0.053053,    0.054054,    0.055055,    0.056056,    0.057057,    0.058058,    0.059059,     0.06006,    0.061061,    0.062062,    0.063063,    0.064064,    0.065065,    0.066066,    0.067067,    0.068068,    0.069069,     0.07007,    0.071071,\n",
       "          0.072072,    0.073073,    0.074074,    0.075075,    0.076076,    0.077077,    0.078078,    0.079079,     0.08008,    0.081081,    0.082082,    0.083083,    0.084084,    0.085085,    0.086086,    0.087087,    0.088088,    0.089089,     0.09009,    0.091091,    0.092092,    0.093093,    0.094094,    0.095095,\n",
       "          0.096096,    0.097097,    0.098098,    0.099099,      0.1001,      0.1011,      0.1021,      0.1031,      0.1041,     0.10511,     0.10611,     0.10711,     0.10811,     0.10911,     0.11011,     0.11111,     0.11211,     0.11311,     0.11411,     0.11512,     0.11612,     0.11712,     0.11812,     0.11912,\n",
       "           0.12012,     0.12112,     0.12212,     0.12312,     0.12412,     0.12513,     0.12613,     0.12713,     0.12813,     0.12913,     0.13013,     0.13113,     0.13213,     0.13313,     0.13413,     0.13514,     0.13614,     0.13714,     0.13814,     0.13914,     0.14014,     0.14114,     0.14214,     0.14314,\n",
       "           0.14414,     0.14515,     0.14615,     0.14715,     0.14815,     0.14915,     0.15015,     0.15115,     0.15215,     0.15315,     0.15415,     0.15516,     0.15616,     0.15716,     0.15816,     0.15916,     0.16016,     0.16116,     0.16216,     0.16316,     0.16416,     0.16517,     0.16617,     0.16717,\n",
       "           0.16817,     0.16917,     0.17017,     0.17117,     0.17217,     0.17317,     0.17417,     0.17518,     0.17618,     0.17718,     0.17818,     0.17918,     0.18018,     0.18118,     0.18218,     0.18318,     0.18418,     0.18519,     0.18619,     0.18719,     0.18819,     0.18919,     0.19019,     0.19119,\n",
       "           0.19219,     0.19319,     0.19419,      0.1952,      0.1962,      0.1972,      0.1982,      0.1992,      0.2002,      0.2012,      0.2022,      0.2032,      0.2042,     0.20521,     0.20621,     0.20721,     0.20821,     0.20921,     0.21021,     0.21121,     0.21221,     0.21321,     0.21421,     0.21522,\n",
       "           0.21622,     0.21722,     0.21822,     0.21922,     0.22022,     0.22122,     0.22222,     0.22322,     0.22422,     0.22523,     0.22623,     0.22723,     0.22823,     0.22923,     0.23023,     0.23123,     0.23223,     0.23323,     0.23423,     0.23524,     0.23624,     0.23724,     0.23824,     0.23924,\n",
       "           0.24024,     0.24124,     0.24224,     0.24324,     0.24424,     0.24525,     0.24625,     0.24725,     0.24825,     0.24925,     0.25025,     0.25125,     0.25225,     0.25325,     0.25425,     0.25526,     0.25626,     0.25726,     0.25826,     0.25926,     0.26026,     0.26126,     0.26226,     0.26326,\n",
       "           0.26426,     0.26527,     0.26627,     0.26727,     0.26827,     0.26927,     0.27027,     0.27127,     0.27227,     0.27327,     0.27427,     0.27528,     0.27628,     0.27728,     0.27828,     0.27928,     0.28028,     0.28128,     0.28228,     0.28328,     0.28428,     0.28529,     0.28629,     0.28729,\n",
       "           0.28829,     0.28929,     0.29029,     0.29129,     0.29229,     0.29329,     0.29429,      0.2953,      0.2963,      0.2973,      0.2983,      0.2993,      0.3003,      0.3013,      0.3023,      0.3033,      0.3043,     0.30531,     0.30631,     0.30731,     0.30831,     0.30931,     0.31031,     0.31131,\n",
       "           0.31231,     0.31331,     0.31431,     0.31532,     0.31632,     0.31732,     0.31832,     0.31932,     0.32032,     0.32132,     0.32232,     0.32332,     0.32432,     0.32533,     0.32633,     0.32733,     0.32833,     0.32933,     0.33033,     0.33133,     0.33233,     0.33333,     0.33433,     0.33534,\n",
       "           0.33634,     0.33734,     0.33834,     0.33934,     0.34034,     0.34134,     0.34234,     0.34334,     0.34434,     0.34535,     0.34635,     0.34735,     0.34835,     0.34935,     0.35035,     0.35135,     0.35235,     0.35335,     0.35435,     0.35536,     0.35636,     0.35736,     0.35836,     0.35936,\n",
       "           0.36036,     0.36136,     0.36236,     0.36336,     0.36436,     0.36537,     0.36637,     0.36737,     0.36837,     0.36937,     0.37037,     0.37137,     0.37237,     0.37337,     0.37437,     0.37538,     0.37638,     0.37738,     0.37838,     0.37938,     0.38038,     0.38138,     0.38238,     0.38338,\n",
       "           0.38438,     0.38539,     0.38639,     0.38739,     0.38839,     0.38939,     0.39039,     0.39139,     0.39239,     0.39339,     0.39439,      0.3954,      0.3964,      0.3974,      0.3984,      0.3994,      0.4004,      0.4014,      0.4024,      0.4034,      0.4044,     0.40541,     0.40641,     0.40741,\n",
       "           0.40841,     0.40941,     0.41041,     0.41141,     0.41241,     0.41341,     0.41441,     0.41542,     0.41642,     0.41742,     0.41842,     0.41942,     0.42042,     0.42142,     0.42242,     0.42342,     0.42442,     0.42543,     0.42643,     0.42743,     0.42843,     0.42943,     0.43043,     0.43143,\n",
       "           0.43243,     0.43343,     0.43443,     0.43544,     0.43644,     0.43744,     0.43844,     0.43944,     0.44044,     0.44144,     0.44244,     0.44344,     0.44444,     0.44545,     0.44645,     0.44745,     0.44845,     0.44945,     0.45045,     0.45145,     0.45245,     0.45345,     0.45445,     0.45546,\n",
       "           0.45646,     0.45746,     0.45846,     0.45946,     0.46046,     0.46146,     0.46246,     0.46346,     0.46446,     0.46547,     0.46647,     0.46747,     0.46847,     0.46947,     0.47047,     0.47147,     0.47247,     0.47347,     0.47447,     0.47548,     0.47648,     0.47748,     0.47848,     0.47948,\n",
       "           0.48048,     0.48148,     0.48248,     0.48348,     0.48448,     0.48549,     0.48649,     0.48749,     0.48849,     0.48949,     0.49049,     0.49149,     0.49249,     0.49349,     0.49449,      0.4955,      0.4965,      0.4975,      0.4985,      0.4995,      0.5005,      0.5015,      0.5025,      0.5035,\n",
       "            0.5045,     0.50551,     0.50651,     0.50751,     0.50851,     0.50951,     0.51051,     0.51151,     0.51251,     0.51351,     0.51451,     0.51552,     0.51652,     0.51752,     0.51852,     0.51952,     0.52052,     0.52152,     0.52252,     0.52352,     0.52452,     0.52553,     0.52653,     0.52753,\n",
       "           0.52853,     0.52953,     0.53053,     0.53153,     0.53253,     0.53353,     0.53453,     0.53554,     0.53654,     0.53754,     0.53854,     0.53954,     0.54054,     0.54154,     0.54254,     0.54354,     0.54454,     0.54555,     0.54655,     0.54755,     0.54855,     0.54955,     0.55055,     0.55155,\n",
       "           0.55255,     0.55355,     0.55455,     0.55556,     0.55656,     0.55756,     0.55856,     0.55956,     0.56056,     0.56156,     0.56256,     0.56356,     0.56456,     0.56557,     0.56657,     0.56757,     0.56857,     0.56957,     0.57057,     0.57157,     0.57257,     0.57357,     0.57457,     0.57558,\n",
       "           0.57658,     0.57758,     0.57858,     0.57958,     0.58058,     0.58158,     0.58258,     0.58358,     0.58458,     0.58559,     0.58659,     0.58759,     0.58859,     0.58959,     0.59059,     0.59159,     0.59259,     0.59359,     0.59459,      0.5956,      0.5966,      0.5976,      0.5986,      0.5996,\n",
       "            0.6006,      0.6016,      0.6026,      0.6036,      0.6046,     0.60561,     0.60661,     0.60761,     0.60861,     0.60961,     0.61061,     0.61161,     0.61261,     0.61361,     0.61461,     0.61562,     0.61662,     0.61762,     0.61862,     0.61962,     0.62062,     0.62162,     0.62262,     0.62362,\n",
       "           0.62462,     0.62563,     0.62663,     0.62763,     0.62863,     0.62963,     0.63063,     0.63163,     0.63263,     0.63363,     0.63463,     0.63564,     0.63664,     0.63764,     0.63864,     0.63964,     0.64064,     0.64164,     0.64264,     0.64364,     0.64464,     0.64565,     0.64665,     0.64765,\n",
       "           0.64865,     0.64965,     0.65065,     0.65165,     0.65265,     0.65365,     0.65465,     0.65566,     0.65666,     0.65766,     0.65866,     0.65966,     0.66066,     0.66166,     0.66266,     0.66366,     0.66466,     0.66567,     0.66667,     0.66767,     0.66867,     0.66967,     0.67067,     0.67167,\n",
       "           0.67267,     0.67367,     0.67467,     0.67568,     0.67668,     0.67768,     0.67868,     0.67968,     0.68068,     0.68168,     0.68268,     0.68368,     0.68468,     0.68569,     0.68669,     0.68769,     0.68869,     0.68969,     0.69069,     0.69169,     0.69269,     0.69369,     0.69469,      0.6957,\n",
       "            0.6967,      0.6977,      0.6987,      0.6997,      0.7007,      0.7017,      0.7027,      0.7037,      0.7047,     0.70571,     0.70671,     0.70771,     0.70871,     0.70971,     0.71071,     0.71171,     0.71271,     0.71371,     0.71471,     0.71572,     0.71672,     0.71772,     0.71872,     0.71972,\n",
       "           0.72072,     0.72172,     0.72272,     0.72372,     0.72472,     0.72573,     0.72673,     0.72773,     0.72873,     0.72973,     0.73073,     0.73173,     0.73273,     0.73373,     0.73473,     0.73574,     0.73674,     0.73774,     0.73874,     0.73974,     0.74074,     0.74174,     0.74274,     0.74374,\n",
       "           0.74474,     0.74575,     0.74675,     0.74775,     0.74875,     0.74975,     0.75075,     0.75175,     0.75275,     0.75375,     0.75475,     0.75576,     0.75676,     0.75776,     0.75876,     0.75976,     0.76076,     0.76176,     0.76276,     0.76376,     0.76476,     0.76577,     0.76677,     0.76777,\n",
       "           0.76877,     0.76977,     0.77077,     0.77177,     0.77277,     0.77377,     0.77477,     0.77578,     0.77678,     0.77778,     0.77878,     0.77978,     0.78078,     0.78178,     0.78278,     0.78378,     0.78478,     0.78579,     0.78679,     0.78779,     0.78879,     0.78979,     0.79079,     0.79179,\n",
       "           0.79279,     0.79379,     0.79479,      0.7958,      0.7968,      0.7978,      0.7988,      0.7998,      0.8008,      0.8018,      0.8028,      0.8038,      0.8048,     0.80581,     0.80681,     0.80781,     0.80881,     0.80981,     0.81081,     0.81181,     0.81281,     0.81381,     0.81481,     0.81582,\n",
       "           0.81682,     0.81782,     0.81882,     0.81982,     0.82082,     0.82182,     0.82282,     0.82382,     0.82482,     0.82583,     0.82683,     0.82783,     0.82883,     0.82983,     0.83083,     0.83183,     0.83283,     0.83383,     0.83483,     0.83584,     0.83684,     0.83784,     0.83884,     0.83984,\n",
       "           0.84084,     0.84184,     0.84284,     0.84384,     0.84484,     0.84585,     0.84685,     0.84785,     0.84885,     0.84985,     0.85085,     0.85185,     0.85285,     0.85385,     0.85485,     0.85586,     0.85686,     0.85786,     0.85886,     0.85986,     0.86086,     0.86186,     0.86286,     0.86386,\n",
       "           0.86486,     0.86587,     0.86687,     0.86787,     0.86887,     0.86987,     0.87087,     0.87187,     0.87287,     0.87387,     0.87487,     0.87588,     0.87688,     0.87788,     0.87888,     0.87988,     0.88088,     0.88188,     0.88288,     0.88388,     0.88488,     0.88589,     0.88689,     0.88789,\n",
       "           0.88889,     0.88989,     0.89089,     0.89189,     0.89289,     0.89389,     0.89489,      0.8959,      0.8969,      0.8979,      0.8989,      0.8999,      0.9009,      0.9019,      0.9029,      0.9039,      0.9049,     0.90591,     0.90691,     0.90791,     0.90891,     0.90991,     0.91091,     0.91191,\n",
       "           0.91291,     0.91391,     0.91491,     0.91592,     0.91692,     0.91792,     0.91892,     0.91992,     0.92092,     0.92192,     0.92292,     0.92392,     0.92492,     0.92593,     0.92693,     0.92793,     0.92893,     0.92993,     0.93093,     0.93193,     0.93293,     0.93393,     0.93493,     0.93594,\n",
       "           0.93694,     0.93794,     0.93894,     0.93994,     0.94094,     0.94194,     0.94294,     0.94394,     0.94494,     0.94595,     0.94695,     0.94795,     0.94895,     0.94995,     0.95095,     0.95195,     0.95295,     0.95395,     0.95495,     0.95596,     0.95696,     0.95796,     0.95896,     0.95996,\n",
       "           0.96096,     0.96196,     0.96296,     0.96396,     0.96496,     0.96597,     0.96697,     0.96797,     0.96897,     0.96997,     0.97097,     0.97197,     0.97297,     0.97397,     0.97497,     0.97598,     0.97698,     0.97798,     0.97898,     0.97998,     0.98098,     0.98198,     0.98298,     0.98398,\n",
       "           0.98498,     0.98599,     0.98699,     0.98799,     0.98899,     0.98999,     0.99099,     0.99199,     0.99299,     0.99399,     0.99499,       0.996,       0.997,       0.998,       0.999,           1]), array([[          1,           1,           1, ...,   0.0012835,  0.00064174,           0],\n",
       "       [          1,           1,           1, ...,     0.84615,     0.84615,           0],\n",
       "       [          1,           1,           1, ...,    0.014897,   0.0074486,           0],\n",
       "       ...,\n",
       "       [          1,           1,           1, ...,    0.010715,   0.0053575,           0],\n",
       "       [          1,           1,           1, ...,    0.041291,    0.020646,           0],\n",
       "       [          1,           1,           1, ...,     0.84615,     0.84615,           0]], shape=(9, 1000)), 'Recall', 'Precision'], [array([          0,    0.001001,    0.002002,    0.003003,    0.004004,    0.005005,    0.006006,    0.007007,    0.008008,    0.009009,     0.01001,    0.011011,    0.012012,    0.013013,    0.014014,    0.015015,    0.016016,    0.017017,    0.018018,    0.019019,     0.02002,    0.021021,    0.022022,    0.023023,\n",
       "          0.024024,    0.025025,    0.026026,    0.027027,    0.028028,    0.029029,     0.03003,    0.031031,    0.032032,    0.033033,    0.034034,    0.035035,    0.036036,    0.037037,    0.038038,    0.039039,     0.04004,    0.041041,    0.042042,    0.043043,    0.044044,    0.045045,    0.046046,    0.047047,\n",
       "          0.048048,    0.049049,     0.05005,    0.051051,    0.052052,    0.053053,    0.054054,    0.055055,    0.056056,    0.057057,    0.058058,    0.059059,     0.06006,    0.061061,    0.062062,    0.063063,    0.064064,    0.065065,    0.066066,    0.067067,    0.068068,    0.069069,     0.07007,    0.071071,\n",
       "          0.072072,    0.073073,    0.074074,    0.075075,    0.076076,    0.077077,    0.078078,    0.079079,     0.08008,    0.081081,    0.082082,    0.083083,    0.084084,    0.085085,    0.086086,    0.087087,    0.088088,    0.089089,     0.09009,    0.091091,    0.092092,    0.093093,    0.094094,    0.095095,\n",
       "          0.096096,    0.097097,    0.098098,    0.099099,      0.1001,      0.1011,      0.1021,      0.1031,      0.1041,     0.10511,     0.10611,     0.10711,     0.10811,     0.10911,     0.11011,     0.11111,     0.11211,     0.11311,     0.11411,     0.11512,     0.11612,     0.11712,     0.11812,     0.11912,\n",
       "           0.12012,     0.12112,     0.12212,     0.12312,     0.12412,     0.12513,     0.12613,     0.12713,     0.12813,     0.12913,     0.13013,     0.13113,     0.13213,     0.13313,     0.13413,     0.13514,     0.13614,     0.13714,     0.13814,     0.13914,     0.14014,     0.14114,     0.14214,     0.14314,\n",
       "           0.14414,     0.14515,     0.14615,     0.14715,     0.14815,     0.14915,     0.15015,     0.15115,     0.15215,     0.15315,     0.15415,     0.15516,     0.15616,     0.15716,     0.15816,     0.15916,     0.16016,     0.16116,     0.16216,     0.16316,     0.16416,     0.16517,     0.16617,     0.16717,\n",
       "           0.16817,     0.16917,     0.17017,     0.17117,     0.17217,     0.17317,     0.17417,     0.17518,     0.17618,     0.17718,     0.17818,     0.17918,     0.18018,     0.18118,     0.18218,     0.18318,     0.18418,     0.18519,     0.18619,     0.18719,     0.18819,     0.18919,     0.19019,     0.19119,\n",
       "           0.19219,     0.19319,     0.19419,      0.1952,      0.1962,      0.1972,      0.1982,      0.1992,      0.2002,      0.2012,      0.2022,      0.2032,      0.2042,     0.20521,     0.20621,     0.20721,     0.20821,     0.20921,     0.21021,     0.21121,     0.21221,     0.21321,     0.21421,     0.21522,\n",
       "           0.21622,     0.21722,     0.21822,     0.21922,     0.22022,     0.22122,     0.22222,     0.22322,     0.22422,     0.22523,     0.22623,     0.22723,     0.22823,     0.22923,     0.23023,     0.23123,     0.23223,     0.23323,     0.23423,     0.23524,     0.23624,     0.23724,     0.23824,     0.23924,\n",
       "           0.24024,     0.24124,     0.24224,     0.24324,     0.24424,     0.24525,     0.24625,     0.24725,     0.24825,     0.24925,     0.25025,     0.25125,     0.25225,     0.25325,     0.25425,     0.25526,     0.25626,     0.25726,     0.25826,     0.25926,     0.26026,     0.26126,     0.26226,     0.26326,\n",
       "           0.26426,     0.26527,     0.26627,     0.26727,     0.26827,     0.26927,     0.27027,     0.27127,     0.27227,     0.27327,     0.27427,     0.27528,     0.27628,     0.27728,     0.27828,     0.27928,     0.28028,     0.28128,     0.28228,     0.28328,     0.28428,     0.28529,     0.28629,     0.28729,\n",
       "           0.28829,     0.28929,     0.29029,     0.29129,     0.29229,     0.29329,     0.29429,      0.2953,      0.2963,      0.2973,      0.2983,      0.2993,      0.3003,      0.3013,      0.3023,      0.3033,      0.3043,     0.30531,     0.30631,     0.30731,     0.30831,     0.30931,     0.31031,     0.31131,\n",
       "           0.31231,     0.31331,     0.31431,     0.31532,     0.31632,     0.31732,     0.31832,     0.31932,     0.32032,     0.32132,     0.32232,     0.32332,     0.32432,     0.32533,     0.32633,     0.32733,     0.32833,     0.32933,     0.33033,     0.33133,     0.33233,     0.33333,     0.33433,     0.33534,\n",
       "           0.33634,     0.33734,     0.33834,     0.33934,     0.34034,     0.34134,     0.34234,     0.34334,     0.34434,     0.34535,     0.34635,     0.34735,     0.34835,     0.34935,     0.35035,     0.35135,     0.35235,     0.35335,     0.35435,     0.35536,     0.35636,     0.35736,     0.35836,     0.35936,\n",
       "           0.36036,     0.36136,     0.36236,     0.36336,     0.36436,     0.36537,     0.36637,     0.36737,     0.36837,     0.36937,     0.37037,     0.37137,     0.37237,     0.37337,     0.37437,     0.37538,     0.37638,     0.37738,     0.37838,     0.37938,     0.38038,     0.38138,     0.38238,     0.38338,\n",
       "           0.38438,     0.38539,     0.38639,     0.38739,     0.38839,     0.38939,     0.39039,     0.39139,     0.39239,     0.39339,     0.39439,      0.3954,      0.3964,      0.3974,      0.3984,      0.3994,      0.4004,      0.4014,      0.4024,      0.4034,      0.4044,     0.40541,     0.40641,     0.40741,\n",
       "           0.40841,     0.40941,     0.41041,     0.41141,     0.41241,     0.41341,     0.41441,     0.41542,     0.41642,     0.41742,     0.41842,     0.41942,     0.42042,     0.42142,     0.42242,     0.42342,     0.42442,     0.42543,     0.42643,     0.42743,     0.42843,     0.42943,     0.43043,     0.43143,\n",
       "           0.43243,     0.43343,     0.43443,     0.43544,     0.43644,     0.43744,     0.43844,     0.43944,     0.44044,     0.44144,     0.44244,     0.44344,     0.44444,     0.44545,     0.44645,     0.44745,     0.44845,     0.44945,     0.45045,     0.45145,     0.45245,     0.45345,     0.45445,     0.45546,\n",
       "           0.45646,     0.45746,     0.45846,     0.45946,     0.46046,     0.46146,     0.46246,     0.46346,     0.46446,     0.46547,     0.46647,     0.46747,     0.46847,     0.46947,     0.47047,     0.47147,     0.47247,     0.47347,     0.47447,     0.47548,     0.47648,     0.47748,     0.47848,     0.47948,\n",
       "           0.48048,     0.48148,     0.48248,     0.48348,     0.48448,     0.48549,     0.48649,     0.48749,     0.48849,     0.48949,     0.49049,     0.49149,     0.49249,     0.49349,     0.49449,      0.4955,      0.4965,      0.4975,      0.4985,      0.4995,      0.5005,      0.5015,      0.5025,      0.5035,\n",
       "            0.5045,     0.50551,     0.50651,     0.50751,     0.50851,     0.50951,     0.51051,     0.51151,     0.51251,     0.51351,     0.51451,     0.51552,     0.51652,     0.51752,     0.51852,     0.51952,     0.52052,     0.52152,     0.52252,     0.52352,     0.52452,     0.52553,     0.52653,     0.52753,\n",
       "           0.52853,     0.52953,     0.53053,     0.53153,     0.53253,     0.53353,     0.53453,     0.53554,     0.53654,     0.53754,     0.53854,     0.53954,     0.54054,     0.54154,     0.54254,     0.54354,     0.54454,     0.54555,     0.54655,     0.54755,     0.54855,     0.54955,     0.55055,     0.55155,\n",
       "           0.55255,     0.55355,     0.55455,     0.55556,     0.55656,     0.55756,     0.55856,     0.55956,     0.56056,     0.56156,     0.56256,     0.56356,     0.56456,     0.56557,     0.56657,     0.56757,     0.56857,     0.56957,     0.57057,     0.57157,     0.57257,     0.57357,     0.57457,     0.57558,\n",
       "           0.57658,     0.57758,     0.57858,     0.57958,     0.58058,     0.58158,     0.58258,     0.58358,     0.58458,     0.58559,     0.58659,     0.58759,     0.58859,     0.58959,     0.59059,     0.59159,     0.59259,     0.59359,     0.59459,      0.5956,      0.5966,      0.5976,      0.5986,      0.5996,\n",
       "            0.6006,      0.6016,      0.6026,      0.6036,      0.6046,     0.60561,     0.60661,     0.60761,     0.60861,     0.60961,     0.61061,     0.61161,     0.61261,     0.61361,     0.61461,     0.61562,     0.61662,     0.61762,     0.61862,     0.61962,     0.62062,     0.62162,     0.62262,     0.62362,\n",
       "           0.62462,     0.62563,     0.62663,     0.62763,     0.62863,     0.62963,     0.63063,     0.63163,     0.63263,     0.63363,     0.63463,     0.63564,     0.63664,     0.63764,     0.63864,     0.63964,     0.64064,     0.64164,     0.64264,     0.64364,     0.64464,     0.64565,     0.64665,     0.64765,\n",
       "           0.64865,     0.64965,     0.65065,     0.65165,     0.65265,     0.65365,     0.65465,     0.65566,     0.65666,     0.65766,     0.65866,     0.65966,     0.66066,     0.66166,     0.66266,     0.66366,     0.66466,     0.66567,     0.66667,     0.66767,     0.66867,     0.66967,     0.67067,     0.67167,\n",
       "           0.67267,     0.67367,     0.67467,     0.67568,     0.67668,     0.67768,     0.67868,     0.67968,     0.68068,     0.68168,     0.68268,     0.68368,     0.68468,     0.68569,     0.68669,     0.68769,     0.68869,     0.68969,     0.69069,     0.69169,     0.69269,     0.69369,     0.69469,      0.6957,\n",
       "            0.6967,      0.6977,      0.6987,      0.6997,      0.7007,      0.7017,      0.7027,      0.7037,      0.7047,     0.70571,     0.70671,     0.70771,     0.70871,     0.70971,     0.71071,     0.71171,     0.71271,     0.71371,     0.71471,     0.71572,     0.71672,     0.71772,     0.71872,     0.71972,\n",
       "           0.72072,     0.72172,     0.72272,     0.72372,     0.72472,     0.72573,     0.72673,     0.72773,     0.72873,     0.72973,     0.73073,     0.73173,     0.73273,     0.73373,     0.73473,     0.73574,     0.73674,     0.73774,     0.73874,     0.73974,     0.74074,     0.74174,     0.74274,     0.74374,\n",
       "           0.74474,     0.74575,     0.74675,     0.74775,     0.74875,     0.74975,     0.75075,     0.75175,     0.75275,     0.75375,     0.75475,     0.75576,     0.75676,     0.75776,     0.75876,     0.75976,     0.76076,     0.76176,     0.76276,     0.76376,     0.76476,     0.76577,     0.76677,     0.76777,\n",
       "           0.76877,     0.76977,     0.77077,     0.77177,     0.77277,     0.77377,     0.77477,     0.77578,     0.77678,     0.77778,     0.77878,     0.77978,     0.78078,     0.78178,     0.78278,     0.78378,     0.78478,     0.78579,     0.78679,     0.78779,     0.78879,     0.78979,     0.79079,     0.79179,\n",
       "           0.79279,     0.79379,     0.79479,      0.7958,      0.7968,      0.7978,      0.7988,      0.7998,      0.8008,      0.8018,      0.8028,      0.8038,      0.8048,     0.80581,     0.80681,     0.80781,     0.80881,     0.80981,     0.81081,     0.81181,     0.81281,     0.81381,     0.81481,     0.81582,\n",
       "           0.81682,     0.81782,     0.81882,     0.81982,     0.82082,     0.82182,     0.82282,     0.82382,     0.82482,     0.82583,     0.82683,     0.82783,     0.82883,     0.82983,     0.83083,     0.83183,     0.83283,     0.83383,     0.83483,     0.83584,     0.83684,     0.83784,     0.83884,     0.83984,\n",
       "           0.84084,     0.84184,     0.84284,     0.84384,     0.84484,     0.84585,     0.84685,     0.84785,     0.84885,     0.84985,     0.85085,     0.85185,     0.85285,     0.85385,     0.85485,     0.85586,     0.85686,     0.85786,     0.85886,     0.85986,     0.86086,     0.86186,     0.86286,     0.86386,\n",
       "           0.86486,     0.86587,     0.86687,     0.86787,     0.86887,     0.86987,     0.87087,     0.87187,     0.87287,     0.87387,     0.87487,     0.87588,     0.87688,     0.87788,     0.87888,     0.87988,     0.88088,     0.88188,     0.88288,     0.88388,     0.88488,     0.88589,     0.88689,     0.88789,\n",
       "           0.88889,     0.88989,     0.89089,     0.89189,     0.89289,     0.89389,     0.89489,      0.8959,      0.8969,      0.8979,      0.8989,      0.8999,      0.9009,      0.9019,      0.9029,      0.9039,      0.9049,     0.90591,     0.90691,     0.90791,     0.90891,     0.90991,     0.91091,     0.91191,\n",
       "           0.91291,     0.91391,     0.91491,     0.91592,     0.91692,     0.91792,     0.91892,     0.91992,     0.92092,     0.92192,     0.92292,     0.92392,     0.92492,     0.92593,     0.92693,     0.92793,     0.92893,     0.92993,     0.93093,     0.93193,     0.93293,     0.93393,     0.93493,     0.93594,\n",
       "           0.93694,     0.93794,     0.93894,     0.93994,     0.94094,     0.94194,     0.94294,     0.94394,     0.94494,     0.94595,     0.94695,     0.94795,     0.94895,     0.94995,     0.95095,     0.95195,     0.95295,     0.95395,     0.95495,     0.95596,     0.95696,     0.95796,     0.95896,     0.95996,\n",
       "           0.96096,     0.96196,     0.96296,     0.96396,     0.96496,     0.96597,     0.96697,     0.96797,     0.96897,     0.96997,     0.97097,     0.97197,     0.97297,     0.97397,     0.97497,     0.97598,     0.97698,     0.97798,     0.97898,     0.97998,     0.98098,     0.98198,     0.98298,     0.98398,\n",
       "           0.98498,     0.98599,     0.98699,     0.98799,     0.98899,     0.98999,     0.99099,     0.99199,     0.99299,     0.99399,     0.99499,       0.996,       0.997,       0.998,       0.999,           1]), array([[    0.28571,     0.28571,     0.36656, ...,           0,           0,           0],\n",
       "       [    0.77193,     0.77193,     0.81566, ...,           0,           0,           0],\n",
       "       [    0.48352,     0.48352,     0.54398, ...,           0,           0,           0],\n",
       "       ...,\n",
       "       [    0.41758,     0.41758,     0.44831, ...,           0,           0,           0],\n",
       "       [    0.62411,     0.62411,     0.65384, ...,           0,           0,           0],\n",
       "       [    0.46316,     0.46316,     0.50366, ...,           0,           0,           0]], shape=(9, 1000)), 'Confidence', 'F1'], [array([          0,    0.001001,    0.002002,    0.003003,    0.004004,    0.005005,    0.006006,    0.007007,    0.008008,    0.009009,     0.01001,    0.011011,    0.012012,    0.013013,    0.014014,    0.015015,    0.016016,    0.017017,    0.018018,    0.019019,     0.02002,    0.021021,    0.022022,    0.023023,\n",
       "          0.024024,    0.025025,    0.026026,    0.027027,    0.028028,    0.029029,     0.03003,    0.031031,    0.032032,    0.033033,    0.034034,    0.035035,    0.036036,    0.037037,    0.038038,    0.039039,     0.04004,    0.041041,    0.042042,    0.043043,    0.044044,    0.045045,    0.046046,    0.047047,\n",
       "          0.048048,    0.049049,     0.05005,    0.051051,    0.052052,    0.053053,    0.054054,    0.055055,    0.056056,    0.057057,    0.058058,    0.059059,     0.06006,    0.061061,    0.062062,    0.063063,    0.064064,    0.065065,    0.066066,    0.067067,    0.068068,    0.069069,     0.07007,    0.071071,\n",
       "          0.072072,    0.073073,    0.074074,    0.075075,    0.076076,    0.077077,    0.078078,    0.079079,     0.08008,    0.081081,    0.082082,    0.083083,    0.084084,    0.085085,    0.086086,    0.087087,    0.088088,    0.089089,     0.09009,    0.091091,    0.092092,    0.093093,    0.094094,    0.095095,\n",
       "          0.096096,    0.097097,    0.098098,    0.099099,      0.1001,      0.1011,      0.1021,      0.1031,      0.1041,     0.10511,     0.10611,     0.10711,     0.10811,     0.10911,     0.11011,     0.11111,     0.11211,     0.11311,     0.11411,     0.11512,     0.11612,     0.11712,     0.11812,     0.11912,\n",
       "           0.12012,     0.12112,     0.12212,     0.12312,     0.12412,     0.12513,     0.12613,     0.12713,     0.12813,     0.12913,     0.13013,     0.13113,     0.13213,     0.13313,     0.13413,     0.13514,     0.13614,     0.13714,     0.13814,     0.13914,     0.14014,     0.14114,     0.14214,     0.14314,\n",
       "           0.14414,     0.14515,     0.14615,     0.14715,     0.14815,     0.14915,     0.15015,     0.15115,     0.15215,     0.15315,     0.15415,     0.15516,     0.15616,     0.15716,     0.15816,     0.15916,     0.16016,     0.16116,     0.16216,     0.16316,     0.16416,     0.16517,     0.16617,     0.16717,\n",
       "           0.16817,     0.16917,     0.17017,     0.17117,     0.17217,     0.17317,     0.17417,     0.17518,     0.17618,     0.17718,     0.17818,     0.17918,     0.18018,     0.18118,     0.18218,     0.18318,     0.18418,     0.18519,     0.18619,     0.18719,     0.18819,     0.18919,     0.19019,     0.19119,\n",
       "           0.19219,     0.19319,     0.19419,      0.1952,      0.1962,      0.1972,      0.1982,      0.1992,      0.2002,      0.2012,      0.2022,      0.2032,      0.2042,     0.20521,     0.20621,     0.20721,     0.20821,     0.20921,     0.21021,     0.21121,     0.21221,     0.21321,     0.21421,     0.21522,\n",
       "           0.21622,     0.21722,     0.21822,     0.21922,     0.22022,     0.22122,     0.22222,     0.22322,     0.22422,     0.22523,     0.22623,     0.22723,     0.22823,     0.22923,     0.23023,     0.23123,     0.23223,     0.23323,     0.23423,     0.23524,     0.23624,     0.23724,     0.23824,     0.23924,\n",
       "           0.24024,     0.24124,     0.24224,     0.24324,     0.24424,     0.24525,     0.24625,     0.24725,     0.24825,     0.24925,     0.25025,     0.25125,     0.25225,     0.25325,     0.25425,     0.25526,     0.25626,     0.25726,     0.25826,     0.25926,     0.26026,     0.26126,     0.26226,     0.26326,\n",
       "           0.26426,     0.26527,     0.26627,     0.26727,     0.26827,     0.26927,     0.27027,     0.27127,     0.27227,     0.27327,     0.27427,     0.27528,     0.27628,     0.27728,     0.27828,     0.27928,     0.28028,     0.28128,     0.28228,     0.28328,     0.28428,     0.28529,     0.28629,     0.28729,\n",
       "           0.28829,     0.28929,     0.29029,     0.29129,     0.29229,     0.29329,     0.29429,      0.2953,      0.2963,      0.2973,      0.2983,      0.2993,      0.3003,      0.3013,      0.3023,      0.3033,      0.3043,     0.30531,     0.30631,     0.30731,     0.30831,     0.30931,     0.31031,     0.31131,\n",
       "           0.31231,     0.31331,     0.31431,     0.31532,     0.31632,     0.31732,     0.31832,     0.31932,     0.32032,     0.32132,     0.32232,     0.32332,     0.32432,     0.32533,     0.32633,     0.32733,     0.32833,     0.32933,     0.33033,     0.33133,     0.33233,     0.33333,     0.33433,     0.33534,\n",
       "           0.33634,     0.33734,     0.33834,     0.33934,     0.34034,     0.34134,     0.34234,     0.34334,     0.34434,     0.34535,     0.34635,     0.34735,     0.34835,     0.34935,     0.35035,     0.35135,     0.35235,     0.35335,     0.35435,     0.35536,     0.35636,     0.35736,     0.35836,     0.35936,\n",
       "           0.36036,     0.36136,     0.36236,     0.36336,     0.36436,     0.36537,     0.36637,     0.36737,     0.36837,     0.36937,     0.37037,     0.37137,     0.37237,     0.37337,     0.37437,     0.37538,     0.37638,     0.37738,     0.37838,     0.37938,     0.38038,     0.38138,     0.38238,     0.38338,\n",
       "           0.38438,     0.38539,     0.38639,     0.38739,     0.38839,     0.38939,     0.39039,     0.39139,     0.39239,     0.39339,     0.39439,      0.3954,      0.3964,      0.3974,      0.3984,      0.3994,      0.4004,      0.4014,      0.4024,      0.4034,      0.4044,     0.40541,     0.40641,     0.40741,\n",
       "           0.40841,     0.40941,     0.41041,     0.41141,     0.41241,     0.41341,     0.41441,     0.41542,     0.41642,     0.41742,     0.41842,     0.41942,     0.42042,     0.42142,     0.42242,     0.42342,     0.42442,     0.42543,     0.42643,     0.42743,     0.42843,     0.42943,     0.43043,     0.43143,\n",
       "           0.43243,     0.43343,     0.43443,     0.43544,     0.43644,     0.43744,     0.43844,     0.43944,     0.44044,     0.44144,     0.44244,     0.44344,     0.44444,     0.44545,     0.44645,     0.44745,     0.44845,     0.44945,     0.45045,     0.45145,     0.45245,     0.45345,     0.45445,     0.45546,\n",
       "           0.45646,     0.45746,     0.45846,     0.45946,     0.46046,     0.46146,     0.46246,     0.46346,     0.46446,     0.46547,     0.46647,     0.46747,     0.46847,     0.46947,     0.47047,     0.47147,     0.47247,     0.47347,     0.47447,     0.47548,     0.47648,     0.47748,     0.47848,     0.47948,\n",
       "           0.48048,     0.48148,     0.48248,     0.48348,     0.48448,     0.48549,     0.48649,     0.48749,     0.48849,     0.48949,     0.49049,     0.49149,     0.49249,     0.49349,     0.49449,      0.4955,      0.4965,      0.4975,      0.4985,      0.4995,      0.5005,      0.5015,      0.5025,      0.5035,\n",
       "            0.5045,     0.50551,     0.50651,     0.50751,     0.50851,     0.50951,     0.51051,     0.51151,     0.51251,     0.51351,     0.51451,     0.51552,     0.51652,     0.51752,     0.51852,     0.51952,     0.52052,     0.52152,     0.52252,     0.52352,     0.52452,     0.52553,     0.52653,     0.52753,\n",
       "           0.52853,     0.52953,     0.53053,     0.53153,     0.53253,     0.53353,     0.53453,     0.53554,     0.53654,     0.53754,     0.53854,     0.53954,     0.54054,     0.54154,     0.54254,     0.54354,     0.54454,     0.54555,     0.54655,     0.54755,     0.54855,     0.54955,     0.55055,     0.55155,\n",
       "           0.55255,     0.55355,     0.55455,     0.55556,     0.55656,     0.55756,     0.55856,     0.55956,     0.56056,     0.56156,     0.56256,     0.56356,     0.56456,     0.56557,     0.56657,     0.56757,     0.56857,     0.56957,     0.57057,     0.57157,     0.57257,     0.57357,     0.57457,     0.57558,\n",
       "           0.57658,     0.57758,     0.57858,     0.57958,     0.58058,     0.58158,     0.58258,     0.58358,     0.58458,     0.58559,     0.58659,     0.58759,     0.58859,     0.58959,     0.59059,     0.59159,     0.59259,     0.59359,     0.59459,      0.5956,      0.5966,      0.5976,      0.5986,      0.5996,\n",
       "            0.6006,      0.6016,      0.6026,      0.6036,      0.6046,     0.60561,     0.60661,     0.60761,     0.60861,     0.60961,     0.61061,     0.61161,     0.61261,     0.61361,     0.61461,     0.61562,     0.61662,     0.61762,     0.61862,     0.61962,     0.62062,     0.62162,     0.62262,     0.62362,\n",
       "           0.62462,     0.62563,     0.62663,     0.62763,     0.62863,     0.62963,     0.63063,     0.63163,     0.63263,     0.63363,     0.63463,     0.63564,     0.63664,     0.63764,     0.63864,     0.63964,     0.64064,     0.64164,     0.64264,     0.64364,     0.64464,     0.64565,     0.64665,     0.64765,\n",
       "           0.64865,     0.64965,     0.65065,     0.65165,     0.65265,     0.65365,     0.65465,     0.65566,     0.65666,     0.65766,     0.65866,     0.65966,     0.66066,     0.66166,     0.66266,     0.66366,     0.66466,     0.66567,     0.66667,     0.66767,     0.66867,     0.66967,     0.67067,     0.67167,\n",
       "           0.67267,     0.67367,     0.67467,     0.67568,     0.67668,     0.67768,     0.67868,     0.67968,     0.68068,     0.68168,     0.68268,     0.68368,     0.68468,     0.68569,     0.68669,     0.68769,     0.68869,     0.68969,     0.69069,     0.69169,     0.69269,     0.69369,     0.69469,      0.6957,\n",
       "            0.6967,      0.6977,      0.6987,      0.6997,      0.7007,      0.7017,      0.7027,      0.7037,      0.7047,     0.70571,     0.70671,     0.70771,     0.70871,     0.70971,     0.71071,     0.71171,     0.71271,     0.71371,     0.71471,     0.71572,     0.71672,     0.71772,     0.71872,     0.71972,\n",
       "           0.72072,     0.72172,     0.72272,     0.72372,     0.72472,     0.72573,     0.72673,     0.72773,     0.72873,     0.72973,     0.73073,     0.73173,     0.73273,     0.73373,     0.73473,     0.73574,     0.73674,     0.73774,     0.73874,     0.73974,     0.74074,     0.74174,     0.74274,     0.74374,\n",
       "           0.74474,     0.74575,     0.74675,     0.74775,     0.74875,     0.74975,     0.75075,     0.75175,     0.75275,     0.75375,     0.75475,     0.75576,     0.75676,     0.75776,     0.75876,     0.75976,     0.76076,     0.76176,     0.76276,     0.76376,     0.76476,     0.76577,     0.76677,     0.76777,\n",
       "           0.76877,     0.76977,     0.77077,     0.77177,     0.77277,     0.77377,     0.77477,     0.77578,     0.77678,     0.77778,     0.77878,     0.77978,     0.78078,     0.78178,     0.78278,     0.78378,     0.78478,     0.78579,     0.78679,     0.78779,     0.78879,     0.78979,     0.79079,     0.79179,\n",
       "           0.79279,     0.79379,     0.79479,      0.7958,      0.7968,      0.7978,      0.7988,      0.7998,      0.8008,      0.8018,      0.8028,      0.8038,      0.8048,     0.80581,     0.80681,     0.80781,     0.80881,     0.80981,     0.81081,     0.81181,     0.81281,     0.81381,     0.81481,     0.81582,\n",
       "           0.81682,     0.81782,     0.81882,     0.81982,     0.82082,     0.82182,     0.82282,     0.82382,     0.82482,     0.82583,     0.82683,     0.82783,     0.82883,     0.82983,     0.83083,     0.83183,     0.83283,     0.83383,     0.83483,     0.83584,     0.83684,     0.83784,     0.83884,     0.83984,\n",
       "           0.84084,     0.84184,     0.84284,     0.84384,     0.84484,     0.84585,     0.84685,     0.84785,     0.84885,     0.84985,     0.85085,     0.85185,     0.85285,     0.85385,     0.85485,     0.85586,     0.85686,     0.85786,     0.85886,     0.85986,     0.86086,     0.86186,     0.86286,     0.86386,\n",
       "           0.86486,     0.86587,     0.86687,     0.86787,     0.86887,     0.86987,     0.87087,     0.87187,     0.87287,     0.87387,     0.87487,     0.87588,     0.87688,     0.87788,     0.87888,     0.87988,     0.88088,     0.88188,     0.88288,     0.88388,     0.88488,     0.88589,     0.88689,     0.88789,\n",
       "           0.88889,     0.88989,     0.89089,     0.89189,     0.89289,     0.89389,     0.89489,      0.8959,      0.8969,      0.8979,      0.8989,      0.8999,      0.9009,      0.9019,      0.9029,      0.9039,      0.9049,     0.90591,     0.90691,     0.90791,     0.90891,     0.90991,     0.91091,     0.91191,\n",
       "           0.91291,     0.91391,     0.91491,     0.91592,     0.91692,     0.91792,     0.91892,     0.91992,     0.92092,     0.92192,     0.92292,     0.92392,     0.92492,     0.92593,     0.92693,     0.92793,     0.92893,     0.92993,     0.93093,     0.93193,     0.93293,     0.93393,     0.93493,     0.93594,\n",
       "           0.93694,     0.93794,     0.93894,     0.93994,     0.94094,     0.94194,     0.94294,     0.94394,     0.94494,     0.94595,     0.94695,     0.94795,     0.94895,     0.94995,     0.95095,     0.95195,     0.95295,     0.95395,     0.95495,     0.95596,     0.95696,     0.95796,     0.95896,     0.95996,\n",
       "           0.96096,     0.96196,     0.96296,     0.96396,     0.96496,     0.96597,     0.96697,     0.96797,     0.96897,     0.96997,     0.97097,     0.97197,     0.97297,     0.97397,     0.97497,     0.97598,     0.97698,     0.97798,     0.97898,     0.97998,     0.98098,     0.98198,     0.98298,     0.98398,\n",
       "           0.98498,     0.98599,     0.98699,     0.98799,     0.98899,     0.98999,     0.99099,     0.99199,     0.99299,     0.99399,     0.99499,       0.996,       0.997,       0.998,       0.999,           1]), array([[    0.17808,     0.17808,     0.24561, ...,           1,           1,           1],\n",
       "       [    0.62857,     0.62857,      0.6887, ...,           1,           1,           1],\n",
       "       [    0.32353,     0.32353,     0.38006, ...,           1,           1,           1],\n",
       "       ...,\n",
       "       [    0.26761,     0.26761,     0.29338, ...,           1,           1,           1],\n",
       "       [    0.45833,     0.45833,     0.49113, ...,           1,           1,           1],\n",
       "       [    0.30137,     0.30137,     0.33659, ...,           1,           1,           1]], shape=(9, 1000)), 'Confidence', 'Precision'], [array([          0,    0.001001,    0.002002,    0.003003,    0.004004,    0.005005,    0.006006,    0.007007,    0.008008,    0.009009,     0.01001,    0.011011,    0.012012,    0.013013,    0.014014,    0.015015,    0.016016,    0.017017,    0.018018,    0.019019,     0.02002,    0.021021,    0.022022,    0.023023,\n",
       "          0.024024,    0.025025,    0.026026,    0.027027,    0.028028,    0.029029,     0.03003,    0.031031,    0.032032,    0.033033,    0.034034,    0.035035,    0.036036,    0.037037,    0.038038,    0.039039,     0.04004,    0.041041,    0.042042,    0.043043,    0.044044,    0.045045,    0.046046,    0.047047,\n",
       "          0.048048,    0.049049,     0.05005,    0.051051,    0.052052,    0.053053,    0.054054,    0.055055,    0.056056,    0.057057,    0.058058,    0.059059,     0.06006,    0.061061,    0.062062,    0.063063,    0.064064,    0.065065,    0.066066,    0.067067,    0.068068,    0.069069,     0.07007,    0.071071,\n",
       "          0.072072,    0.073073,    0.074074,    0.075075,    0.076076,    0.077077,    0.078078,    0.079079,     0.08008,    0.081081,    0.082082,    0.083083,    0.084084,    0.085085,    0.086086,    0.087087,    0.088088,    0.089089,     0.09009,    0.091091,    0.092092,    0.093093,    0.094094,    0.095095,\n",
       "          0.096096,    0.097097,    0.098098,    0.099099,      0.1001,      0.1011,      0.1021,      0.1031,      0.1041,     0.10511,     0.10611,     0.10711,     0.10811,     0.10911,     0.11011,     0.11111,     0.11211,     0.11311,     0.11411,     0.11512,     0.11612,     0.11712,     0.11812,     0.11912,\n",
       "           0.12012,     0.12112,     0.12212,     0.12312,     0.12412,     0.12513,     0.12613,     0.12713,     0.12813,     0.12913,     0.13013,     0.13113,     0.13213,     0.13313,     0.13413,     0.13514,     0.13614,     0.13714,     0.13814,     0.13914,     0.14014,     0.14114,     0.14214,     0.14314,\n",
       "           0.14414,     0.14515,     0.14615,     0.14715,     0.14815,     0.14915,     0.15015,     0.15115,     0.15215,     0.15315,     0.15415,     0.15516,     0.15616,     0.15716,     0.15816,     0.15916,     0.16016,     0.16116,     0.16216,     0.16316,     0.16416,     0.16517,     0.16617,     0.16717,\n",
       "           0.16817,     0.16917,     0.17017,     0.17117,     0.17217,     0.17317,     0.17417,     0.17518,     0.17618,     0.17718,     0.17818,     0.17918,     0.18018,     0.18118,     0.18218,     0.18318,     0.18418,     0.18519,     0.18619,     0.18719,     0.18819,     0.18919,     0.19019,     0.19119,\n",
       "           0.19219,     0.19319,     0.19419,      0.1952,      0.1962,      0.1972,      0.1982,      0.1992,      0.2002,      0.2012,      0.2022,      0.2032,      0.2042,     0.20521,     0.20621,     0.20721,     0.20821,     0.20921,     0.21021,     0.21121,     0.21221,     0.21321,     0.21421,     0.21522,\n",
       "           0.21622,     0.21722,     0.21822,     0.21922,     0.22022,     0.22122,     0.22222,     0.22322,     0.22422,     0.22523,     0.22623,     0.22723,     0.22823,     0.22923,     0.23023,     0.23123,     0.23223,     0.23323,     0.23423,     0.23524,     0.23624,     0.23724,     0.23824,     0.23924,\n",
       "           0.24024,     0.24124,     0.24224,     0.24324,     0.24424,     0.24525,     0.24625,     0.24725,     0.24825,     0.24925,     0.25025,     0.25125,     0.25225,     0.25325,     0.25425,     0.25526,     0.25626,     0.25726,     0.25826,     0.25926,     0.26026,     0.26126,     0.26226,     0.26326,\n",
       "           0.26426,     0.26527,     0.26627,     0.26727,     0.26827,     0.26927,     0.27027,     0.27127,     0.27227,     0.27327,     0.27427,     0.27528,     0.27628,     0.27728,     0.27828,     0.27928,     0.28028,     0.28128,     0.28228,     0.28328,     0.28428,     0.28529,     0.28629,     0.28729,\n",
       "           0.28829,     0.28929,     0.29029,     0.29129,     0.29229,     0.29329,     0.29429,      0.2953,      0.2963,      0.2973,      0.2983,      0.2993,      0.3003,      0.3013,      0.3023,      0.3033,      0.3043,     0.30531,     0.30631,     0.30731,     0.30831,     0.30931,     0.31031,     0.31131,\n",
       "           0.31231,     0.31331,     0.31431,     0.31532,     0.31632,     0.31732,     0.31832,     0.31932,     0.32032,     0.32132,     0.32232,     0.32332,     0.32432,     0.32533,     0.32633,     0.32733,     0.32833,     0.32933,     0.33033,     0.33133,     0.33233,     0.33333,     0.33433,     0.33534,\n",
       "           0.33634,     0.33734,     0.33834,     0.33934,     0.34034,     0.34134,     0.34234,     0.34334,     0.34434,     0.34535,     0.34635,     0.34735,     0.34835,     0.34935,     0.35035,     0.35135,     0.35235,     0.35335,     0.35435,     0.35536,     0.35636,     0.35736,     0.35836,     0.35936,\n",
       "           0.36036,     0.36136,     0.36236,     0.36336,     0.36436,     0.36537,     0.36637,     0.36737,     0.36837,     0.36937,     0.37037,     0.37137,     0.37237,     0.37337,     0.37437,     0.37538,     0.37638,     0.37738,     0.37838,     0.37938,     0.38038,     0.38138,     0.38238,     0.38338,\n",
       "           0.38438,     0.38539,     0.38639,     0.38739,     0.38839,     0.38939,     0.39039,     0.39139,     0.39239,     0.39339,     0.39439,      0.3954,      0.3964,      0.3974,      0.3984,      0.3994,      0.4004,      0.4014,      0.4024,      0.4034,      0.4044,     0.40541,     0.40641,     0.40741,\n",
       "           0.40841,     0.40941,     0.41041,     0.41141,     0.41241,     0.41341,     0.41441,     0.41542,     0.41642,     0.41742,     0.41842,     0.41942,     0.42042,     0.42142,     0.42242,     0.42342,     0.42442,     0.42543,     0.42643,     0.42743,     0.42843,     0.42943,     0.43043,     0.43143,\n",
       "           0.43243,     0.43343,     0.43443,     0.43544,     0.43644,     0.43744,     0.43844,     0.43944,     0.44044,     0.44144,     0.44244,     0.44344,     0.44444,     0.44545,     0.44645,     0.44745,     0.44845,     0.44945,     0.45045,     0.45145,     0.45245,     0.45345,     0.45445,     0.45546,\n",
       "           0.45646,     0.45746,     0.45846,     0.45946,     0.46046,     0.46146,     0.46246,     0.46346,     0.46446,     0.46547,     0.46647,     0.46747,     0.46847,     0.46947,     0.47047,     0.47147,     0.47247,     0.47347,     0.47447,     0.47548,     0.47648,     0.47748,     0.47848,     0.47948,\n",
       "           0.48048,     0.48148,     0.48248,     0.48348,     0.48448,     0.48549,     0.48649,     0.48749,     0.48849,     0.48949,     0.49049,     0.49149,     0.49249,     0.49349,     0.49449,      0.4955,      0.4965,      0.4975,      0.4985,      0.4995,      0.5005,      0.5015,      0.5025,      0.5035,\n",
       "            0.5045,     0.50551,     0.50651,     0.50751,     0.50851,     0.50951,     0.51051,     0.51151,     0.51251,     0.51351,     0.51451,     0.51552,     0.51652,     0.51752,     0.51852,     0.51952,     0.52052,     0.52152,     0.52252,     0.52352,     0.52452,     0.52553,     0.52653,     0.52753,\n",
       "           0.52853,     0.52953,     0.53053,     0.53153,     0.53253,     0.53353,     0.53453,     0.53554,     0.53654,     0.53754,     0.53854,     0.53954,     0.54054,     0.54154,     0.54254,     0.54354,     0.54454,     0.54555,     0.54655,     0.54755,     0.54855,     0.54955,     0.55055,     0.55155,\n",
       "           0.55255,     0.55355,     0.55455,     0.55556,     0.55656,     0.55756,     0.55856,     0.55956,     0.56056,     0.56156,     0.56256,     0.56356,     0.56456,     0.56557,     0.56657,     0.56757,     0.56857,     0.56957,     0.57057,     0.57157,     0.57257,     0.57357,     0.57457,     0.57558,\n",
       "           0.57658,     0.57758,     0.57858,     0.57958,     0.58058,     0.58158,     0.58258,     0.58358,     0.58458,     0.58559,     0.58659,     0.58759,     0.58859,     0.58959,     0.59059,     0.59159,     0.59259,     0.59359,     0.59459,      0.5956,      0.5966,      0.5976,      0.5986,      0.5996,\n",
       "            0.6006,      0.6016,      0.6026,      0.6036,      0.6046,     0.60561,     0.60661,     0.60761,     0.60861,     0.60961,     0.61061,     0.61161,     0.61261,     0.61361,     0.61461,     0.61562,     0.61662,     0.61762,     0.61862,     0.61962,     0.62062,     0.62162,     0.62262,     0.62362,\n",
       "           0.62462,     0.62563,     0.62663,     0.62763,     0.62863,     0.62963,     0.63063,     0.63163,     0.63263,     0.63363,     0.63463,     0.63564,     0.63664,     0.63764,     0.63864,     0.63964,     0.64064,     0.64164,     0.64264,     0.64364,     0.64464,     0.64565,     0.64665,     0.64765,\n",
       "           0.64865,     0.64965,     0.65065,     0.65165,     0.65265,     0.65365,     0.65465,     0.65566,     0.65666,     0.65766,     0.65866,     0.65966,     0.66066,     0.66166,     0.66266,     0.66366,     0.66466,     0.66567,     0.66667,     0.66767,     0.66867,     0.66967,     0.67067,     0.67167,\n",
       "           0.67267,     0.67367,     0.67467,     0.67568,     0.67668,     0.67768,     0.67868,     0.67968,     0.68068,     0.68168,     0.68268,     0.68368,     0.68468,     0.68569,     0.68669,     0.68769,     0.68869,     0.68969,     0.69069,     0.69169,     0.69269,     0.69369,     0.69469,      0.6957,\n",
       "            0.6967,      0.6977,      0.6987,      0.6997,      0.7007,      0.7017,      0.7027,      0.7037,      0.7047,     0.70571,     0.70671,     0.70771,     0.70871,     0.70971,     0.71071,     0.71171,     0.71271,     0.71371,     0.71471,     0.71572,     0.71672,     0.71772,     0.71872,     0.71972,\n",
       "           0.72072,     0.72172,     0.72272,     0.72372,     0.72472,     0.72573,     0.72673,     0.72773,     0.72873,     0.72973,     0.73073,     0.73173,     0.73273,     0.73373,     0.73473,     0.73574,     0.73674,     0.73774,     0.73874,     0.73974,     0.74074,     0.74174,     0.74274,     0.74374,\n",
       "           0.74474,     0.74575,     0.74675,     0.74775,     0.74875,     0.74975,     0.75075,     0.75175,     0.75275,     0.75375,     0.75475,     0.75576,     0.75676,     0.75776,     0.75876,     0.75976,     0.76076,     0.76176,     0.76276,     0.76376,     0.76476,     0.76577,     0.76677,     0.76777,\n",
       "           0.76877,     0.76977,     0.77077,     0.77177,     0.77277,     0.77377,     0.77477,     0.77578,     0.77678,     0.77778,     0.77878,     0.77978,     0.78078,     0.78178,     0.78278,     0.78378,     0.78478,     0.78579,     0.78679,     0.78779,     0.78879,     0.78979,     0.79079,     0.79179,\n",
       "           0.79279,     0.79379,     0.79479,      0.7958,      0.7968,      0.7978,      0.7988,      0.7998,      0.8008,      0.8018,      0.8028,      0.8038,      0.8048,     0.80581,     0.80681,     0.80781,     0.80881,     0.80981,     0.81081,     0.81181,     0.81281,     0.81381,     0.81481,     0.81582,\n",
       "           0.81682,     0.81782,     0.81882,     0.81982,     0.82082,     0.82182,     0.82282,     0.82382,     0.82482,     0.82583,     0.82683,     0.82783,     0.82883,     0.82983,     0.83083,     0.83183,     0.83283,     0.83383,     0.83483,     0.83584,     0.83684,     0.83784,     0.83884,     0.83984,\n",
       "           0.84084,     0.84184,     0.84284,     0.84384,     0.84484,     0.84585,     0.84685,     0.84785,     0.84885,     0.84985,     0.85085,     0.85185,     0.85285,     0.85385,     0.85485,     0.85586,     0.85686,     0.85786,     0.85886,     0.85986,     0.86086,     0.86186,     0.86286,     0.86386,\n",
       "           0.86486,     0.86587,     0.86687,     0.86787,     0.86887,     0.86987,     0.87087,     0.87187,     0.87287,     0.87387,     0.87487,     0.87588,     0.87688,     0.87788,     0.87888,     0.87988,     0.88088,     0.88188,     0.88288,     0.88388,     0.88488,     0.88589,     0.88689,     0.88789,\n",
       "           0.88889,     0.88989,     0.89089,     0.89189,     0.89289,     0.89389,     0.89489,      0.8959,      0.8969,      0.8979,      0.8989,      0.8999,      0.9009,      0.9019,      0.9029,      0.9039,      0.9049,     0.90591,     0.90691,     0.90791,     0.90891,     0.90991,     0.91091,     0.91191,\n",
       "           0.91291,     0.91391,     0.91491,     0.91592,     0.91692,     0.91792,     0.91892,     0.91992,     0.92092,     0.92192,     0.92292,     0.92392,     0.92492,     0.92593,     0.92693,     0.92793,     0.92893,     0.92993,     0.93093,     0.93193,     0.93293,     0.93393,     0.93493,     0.93594,\n",
       "           0.93694,     0.93794,     0.93894,     0.93994,     0.94094,     0.94194,     0.94294,     0.94394,     0.94494,     0.94595,     0.94695,     0.94795,     0.94895,     0.94995,     0.95095,     0.95195,     0.95295,     0.95395,     0.95495,     0.95596,     0.95696,     0.95796,     0.95896,     0.95996,\n",
       "           0.96096,     0.96196,     0.96296,     0.96396,     0.96496,     0.96597,     0.96697,     0.96797,     0.96897,     0.96997,     0.97097,     0.97197,     0.97297,     0.97397,     0.97497,     0.97598,     0.97698,     0.97798,     0.97898,     0.97998,     0.98098,     0.98198,     0.98298,     0.98398,\n",
       "           0.98498,     0.98599,     0.98699,     0.98799,     0.98899,     0.98999,     0.99099,     0.99199,     0.99299,     0.99399,     0.99499,       0.996,       0.997,       0.998,       0.999,           1]), array([[    0.72222,     0.72222,     0.72222, ...,           0,           0,           0],\n",
       "       [          1,           1,           1, ...,           0,           0,           0],\n",
       "       [    0.95652,     0.95652,     0.95652, ...,           0,           0,           0],\n",
       "       ...,\n",
       "       [       0.95,        0.95,        0.95, ...,           0,           0,           0],\n",
       "       [    0.97778,     0.97778,     0.97778, ...,           0,           0,           0],\n",
       "       [          1,           1,           1, ...,           0,           0,           0]], shape=(9, 1000)), 'Confidence', 'Recall']]\n",
       "fitness: np.float64(0.6532009758904846)\n",
       "keys: ['metrics/precision(B)', 'metrics/recall(B)', 'metrics/mAP50(B)', 'metrics/mAP50-95(B)']\n",
       "maps: array([    0.37412,     0.69171,     0.57718,     0.68263,     0.70991,     0.63239,     0.63233,     0.67892,     0.66175])\n",
       "names: {0: 'Ball', 1: 'Hoop', 2: 'Period', 3: 'Player', 4: 'Ref', 5: 'Shot Clock', 6: 'Team Name', 7: 'Team Points', 8: 'Time Remaining'}\n",
       "nt_per_class: array([ 18,  22,  23, 253,  55,  19,  20,  45,  22])\n",
       "nt_per_image: array([18, 22, 22, 31, 28, 19, 10, 22, 22])\n",
       "results_dict: {'metrics/precision(B)': np.float64(0.8584357047337521), 'metrics/recall(B)': np.float64(0.8958990988247193), 'metrics/mAP50(B)': np.float64(0.8910612114007603), 'metrics/mAP50-95(B)': np.float64(0.6267720608337873), 'fitness': np.float64(0.6532009758904846)}\n",
       "speed: {'preprocess': 0.4207031247460691, 'inference': 32.477487500045754, 'loss': 0.000521875108461245, 'postprocess': 1.7166218749480322}\n",
       "stats: {'tp': [], 'conf': [], 'pred_cls': [], 'target_cls': [], 'target_img': []}\n",
       "task: 'detect'"
      ]
     },
     "execution_count": 9,
     "metadata": {},
     "output_type": "execute_result"
    }
   ],
   "source": [
    "model = YOLO(\"../../models/yolov8l.pt\")  # 加载预训练模型\n",
    "model.train(data='../../dataset/Basketball-Players-25/data.yaml', \n",
    "            epochs=100, # 比之前调大epoches\n",
    "            imgsz=640, \n",
    "            batch=8,\n",
    "            cache='ram',\n",
    "            augment=True,\n",
    "            mosaic=0.8) "
   ]
  },
  {
   "cell_type": "markdown",
   "id": "97fb8a28",
   "metadata": {},
   "source": [
    "# Validation"
   ]
  },
  {
   "cell_type": "code",
   "execution_count": 10,
   "id": "33a90cf1",
   "metadata": {},
   "outputs": [
    {
     "name": "stdout",
     "output_type": "stream",
     "text": [
      "Ultralytics 8.3.155  Python-3.10.18 torch-2.7.1+cu128 CUDA:0 (NVIDIA GeForce RTX 4060 Laptop GPU, 8188MiB)\n",
      "Model summary (fused): 112 layers, 43,613,547 parameters, 0 gradients, 164.9 GFLOPs\n",
      "\u001b[34m\u001b[1mval: \u001b[0mFast image access  (ping: 0.00.0 ms, read: 426.950.1 MB/s, size: 199.4 KB)\n"
     ]
    },
    {
     "name": "stderr",
     "output_type": "stream",
     "text": [
      "\u001b[34m\u001b[1mval: \u001b[0mScanning D:\\AI\\yolo\\dataset\\Basketball-Players-25\\valid\\labels.cache... 32 images, 0 backgrounds, 0 corrupt: 100%|██████████| 32/32 [00:00<?, ?it/s]\n",
      "                 Class     Images  Instances      Box(P          R      mAP50  mAP50-95): 100%|██████████| 4/4 [00:02<00:00,  1.87it/s]\n"
     ]
    },
    {
     "name": "stdout",
     "output_type": "stream",
     "text": [
      "                   all         32        477      0.886      0.887      0.898      0.651\n",
      "                  Ball         18         18          1      0.615      0.763      0.417\n",
      "                  Hoop         22         22      0.876      0.962        0.9      0.695\n",
      "                Period         22         23       0.91      0.876      0.901      0.655\n",
      "                Player         31        253      0.963      0.818      0.933      0.687\n",
      "                   Ref         28         55      0.908      0.899      0.906      0.715\n",
      "            Shot Clock         19         19      0.878          1      0.956      0.634\n",
      "             Team Name         10         20      0.798        0.9      0.886      0.657\n",
      "           Team Points         22         45      0.854      0.911      0.915      0.714\n",
      "        Time Remaining         22         22      0.791          1      0.918      0.683\n",
      "Speed: 1.0ms preprocess, 26.5ms inference, 0.0ms loss, 3.5ms postprocess per image\n",
      "Results saved to \u001b[1m..\\..\\runs\\detect\\val\\val\u001b[0m\n"
     ]
    }
   ],
   "source": [
    "# 加载训练好的模型\n",
    "model = YOLO(\"../../models/v8l_detection_training(100epochs).pt\")\n",
    "\n",
    "# 配置验证参数\n",
    "results = model.val(\n",
    "    data=\"../../dataset/Basketball-Players-25/data.yaml\",  # 数据集配置文件路径\n",
    "    imgsz=640,                                           # 输入图像尺寸\n",
    "    batch=8,                                             # 每批次的图像数量\n",
    "    project=\"../../runs/detect/val\"                       # 验证结果保存的路径\n",
    ")\n",
    "\n",
    "# # 打印验证结果\n",
    "# print(\"Validation Results:\")\n",
    "\n",
    "# # 打印每个类别的mAP、Precision和Recall\n",
    "# for i, class_name in enumerate(results.names):  # 获取每个类别\n",
    "#     mAP = results.box.ap_class_index[i]  # 每个类别的mAP@0.5:0.95\n",
    "#     precision = results.box.p[i]  # 每个类别的Precision\n",
    "#     recall = results.box.r[i]  # 每个类别的Recall\n",
    "    \n",
    "#     print(f\"类别: {class_name}\")\n",
    "#     print(f\"  mAP@0.5:0.95: {mAP:.4f}\")\n",
    "#     print(f\"  Precision: {precision:.4f}\")\n",
    "#     print(f\"  Recall: {recall:.4f}\")"
   ]
  },
  {
   "cell_type": "code",
   "execution_count": null,
   "id": "14279fdb",
   "metadata": {},
   "outputs": [],
   "source": []
  },
  {
   "cell_type": "markdown",
   "id": "93572d76",
   "metadata": {},
   "source": [
    "# Test"
   ]
  },
  {
   "cell_type": "code",
   "execution_count": 14,
   "id": "4f55eb64",
   "metadata": {},
   "outputs": [
    {
     "name": "stdout",
     "output_type": "stream",
     "text": [
      "\n",
      "WARNING \n",
      "inference results will accumulate in RAM unless `stream=True` is passed, causing potential out-of-memory\n",
      "errors for large sources or long-running streams and videos. See https://docs.ultralytics.com/modes/predict/ for help.\n",
      "\n",
      "Example:\n",
      "    results = model(source=..., stream=True)  # generator of Results objects\n",
      "    for r in results:\n",
      "        boxes = r.boxes  # Boxes object for bbox outputs\n",
      "        masks = r.masks  # Masks object for segment masks outputs\n",
      "        probs = r.probs  # Class probabilities for classification outputs\n",
      "\n",
      "video 1/1 (frame 1/772) d:\\AI\\yolo\\code\\notebook\\..\\..\\sources\\2man_game2.mp4: 288x640 1 Hoop, 2 Players, 24.9ms\n",
      "video 1/1 (frame 2/772) d:\\AI\\yolo\\code\\notebook\\..\\..\\sources\\2man_game2.mp4: 288x640 1 Hoop, 2 Players, 19.5ms\n",
      "video 1/1 (frame 3/772) d:\\AI\\yolo\\code\\notebook\\..\\..\\sources\\2man_game2.mp4: 288x640 1 Hoop, 2 Players, 19.2ms\n",
      "video 1/1 (frame 4/772) d:\\AI\\yolo\\code\\notebook\\..\\..\\sources\\2man_game2.mp4: 288x640 1 Hoop, 2 Players, 23.8ms\n",
      "video 1/1 (frame 5/772) d:\\AI\\yolo\\code\\notebook\\..\\..\\sources\\2man_game2.mp4: 288x640 1 Hoop, 2 Players, 23.9ms\n",
      "video 1/1 (frame 6/772) d:\\AI\\yolo\\code\\notebook\\..\\..\\sources\\2man_game2.mp4: 288x640 1 Hoop, 2 Players, 18.5ms\n",
      "video 1/1 (frame 7/772) d:\\AI\\yolo\\code\\notebook\\..\\..\\sources\\2man_game2.mp4: 288x640 1 Hoop, 2 Players, 27.8ms\n",
      "video 1/1 (frame 8/772) d:\\AI\\yolo\\code\\notebook\\..\\..\\sources\\2man_game2.mp4: 288x640 1 Hoop, 2 Players, 20.1ms\n",
      "video 1/1 (frame 9/772) d:\\AI\\yolo\\code\\notebook\\..\\..\\sources\\2man_game2.mp4: 288x640 1 Hoop, 2 Players, 15.7ms\n",
      "video 1/1 (frame 10/772) d:\\AI\\yolo\\code\\notebook\\..\\..\\sources\\2man_game2.mp4: 288x640 1 Hoop, 2 Players, 20.0ms\n",
      "video 1/1 (frame 11/772) d:\\AI\\yolo\\code\\notebook\\..\\..\\sources\\2man_game2.mp4: 288x640 1 Hoop, 2 Players, 19.8ms\n",
      "video 1/1 (frame 12/772) d:\\AI\\yolo\\code\\notebook\\..\\..\\sources\\2man_game2.mp4: 288x640 1 Hoop, 2 Players, 14.0ms\n",
      "video 1/1 (frame 13/772) d:\\AI\\yolo\\code\\notebook\\..\\..\\sources\\2man_game2.mp4: 288x640 1 Hoop, 2 Players, 13.9ms\n",
      "video 1/1 (frame 14/772) d:\\AI\\yolo\\code\\notebook\\..\\..\\sources\\2man_game2.mp4: 288x640 1 Hoop, 2 Players, 14.7ms\n",
      "video 1/1 (frame 15/772) d:\\AI\\yolo\\code\\notebook\\..\\..\\sources\\2man_game2.mp4: 288x640 1 Hoop, 2 Players, 18.2ms\n",
      "video 1/1 (frame 16/772) d:\\AI\\yolo\\code\\notebook\\..\\..\\sources\\2man_game2.mp4: 288x640 1 Hoop, 2 Players, 13.0ms\n",
      "video 1/1 (frame 17/772) d:\\AI\\yolo\\code\\notebook\\..\\..\\sources\\2man_game2.mp4: 288x640 1 Hoop, 2 Players, 13.4ms\n",
      "video 1/1 (frame 18/772) d:\\AI\\yolo\\code\\notebook\\..\\..\\sources\\2man_game2.mp4: 288x640 1 Hoop, 2 Players, 17.7ms\n",
      "video 1/1 (frame 19/772) d:\\AI\\yolo\\code\\notebook\\..\\..\\sources\\2man_game2.mp4: 288x640 1 Hoop, 2 Players, 17.0ms\n",
      "video 1/1 (frame 20/772) d:\\AI\\yolo\\code\\notebook\\..\\..\\sources\\2man_game2.mp4: 288x640 1 Hoop, 2 Players, 19.2ms\n",
      "video 1/1 (frame 21/772) d:\\AI\\yolo\\code\\notebook\\..\\..\\sources\\2man_game2.mp4: 288x640 1 Hoop, 2 Players, 16.1ms\n",
      "video 1/1 (frame 22/772) d:\\AI\\yolo\\code\\notebook\\..\\..\\sources\\2man_game2.mp4: 288x640 1 Hoop, 2 Players, 12.8ms\n",
      "video 1/1 (frame 23/772) d:\\AI\\yolo\\code\\notebook\\..\\..\\sources\\2man_game2.mp4: 288x640 1 Hoop, 2 Players, 13.3ms\n",
      "video 1/1 (frame 24/772) d:\\AI\\yolo\\code\\notebook\\..\\..\\sources\\2man_game2.mp4: 288x640 1 Hoop, 2 Players, 13.8ms\n",
      "video 1/1 (frame 25/772) d:\\AI\\yolo\\code\\notebook\\..\\..\\sources\\2man_game2.mp4: 288x640 1 Hoop, 2 Players, 15.5ms\n",
      "video 1/1 (frame 26/772) d:\\AI\\yolo\\code\\notebook\\..\\..\\sources\\2man_game2.mp4: 288x640 1 Hoop, 2 Players, 19.9ms\n",
      "video 1/1 (frame 27/772) d:\\AI\\yolo\\code\\notebook\\..\\..\\sources\\2man_game2.mp4: 288x640 1 Hoop, 2 Players, 15.1ms\n",
      "video 1/1 (frame 28/772) d:\\AI\\yolo\\code\\notebook\\..\\..\\sources\\2man_game2.mp4: 288x640 1 Hoop, 2 Players, 14.9ms\n",
      "video 1/1 (frame 29/772) d:\\AI\\yolo\\code\\notebook\\..\\..\\sources\\2man_game2.mp4: 288x640 1 Hoop, 2 Players, 12.1ms\n",
      "video 1/1 (frame 30/772) d:\\AI\\yolo\\code\\notebook\\..\\..\\sources\\2man_game2.mp4: 288x640 1 Hoop, 2 Players, 11.6ms\n",
      "video 1/1 (frame 31/772) d:\\AI\\yolo\\code\\notebook\\..\\..\\sources\\2man_game2.mp4: 288x640 1 Hoop, 2 Players, 11.3ms\n",
      "video 1/1 (frame 32/772) d:\\AI\\yolo\\code\\notebook\\..\\..\\sources\\2man_game2.mp4: 288x640 1 Hoop, 2 Players, 11.4ms\n",
      "video 1/1 (frame 33/772) d:\\AI\\yolo\\code\\notebook\\..\\..\\sources\\2man_game2.mp4: 288x640 1 Hoop, 2 Players, 11.5ms\n",
      "video 1/1 (frame 34/772) d:\\AI\\yolo\\code\\notebook\\..\\..\\sources\\2man_game2.mp4: 288x640 1 Hoop, 2 Players, 11.6ms\n",
      "video 1/1 (frame 35/772) d:\\AI\\yolo\\code\\notebook\\..\\..\\sources\\2man_game2.mp4: 288x640 1 Hoop, 2 Players, 11.8ms\n",
      "video 1/1 (frame 36/772) d:\\AI\\yolo\\code\\notebook\\..\\..\\sources\\2man_game2.mp4: 288x640 1 Hoop, 2 Players, 11.8ms\n",
      "video 1/1 (frame 37/772) d:\\AI\\yolo\\code\\notebook\\..\\..\\sources\\2man_game2.mp4: 288x640 1 Hoop, 2 Players, 14.9ms\n",
      "video 1/1 (frame 38/772) d:\\AI\\yolo\\code\\notebook\\..\\..\\sources\\2man_game2.mp4: 288x640 1 Hoop, 2 Players, 15.0ms\n",
      "video 1/1 (frame 39/772) d:\\AI\\yolo\\code\\notebook\\..\\..\\sources\\2man_game2.mp4: 288x640 1 Hoop, 2 Players, 14.9ms\n",
      "video 1/1 (frame 40/772) d:\\AI\\yolo\\code\\notebook\\..\\..\\sources\\2man_game2.mp4: 288x640 1 Hoop, 2 Players, 11.9ms\n",
      "video 1/1 (frame 41/772) d:\\AI\\yolo\\code\\notebook\\..\\..\\sources\\2man_game2.mp4: 288x640 1 Hoop, 2 Players, 14.8ms\n",
      "video 1/1 (frame 42/772) d:\\AI\\yolo\\code\\notebook\\..\\..\\sources\\2man_game2.mp4: 288x640 1 Hoop, 2 Players, 15.1ms\n",
      "video 1/1 (frame 43/772) d:\\AI\\yolo\\code\\notebook\\..\\..\\sources\\2man_game2.mp4: 288x640 1 Hoop, 2 Players, 14.9ms\n",
      "video 1/1 (frame 44/772) d:\\AI\\yolo\\code\\notebook\\..\\..\\sources\\2man_game2.mp4: 288x640 1 Hoop, 2 Players, 15.0ms\n",
      "video 1/1 (frame 45/772) d:\\AI\\yolo\\code\\notebook\\..\\..\\sources\\2man_game2.mp4: 288x640 1 Hoop, 2 Players, 11.3ms\n",
      "video 1/1 (frame 46/772) d:\\AI\\yolo\\code\\notebook\\..\\..\\sources\\2man_game2.mp4: 288x640 1 Hoop, 2 Players, 11.4ms\n",
      "video 1/1 (frame 47/772) d:\\AI\\yolo\\code\\notebook\\..\\..\\sources\\2man_game2.mp4: 288x640 1 Hoop, 2 Players, 11.2ms\n",
      "video 1/1 (frame 48/772) d:\\AI\\yolo\\code\\notebook\\..\\..\\sources\\2man_game2.mp4: 288x640 1 Hoop, 2 Players, 15.0ms\n",
      "video 1/1 (frame 49/772) d:\\AI\\yolo\\code\\notebook\\..\\..\\sources\\2man_game2.mp4: 288x640 1 Hoop, 2 Players, 11.9ms\n",
      "video 1/1 (frame 50/772) d:\\AI\\yolo\\code\\notebook\\..\\..\\sources\\2man_game2.mp4: 288x640 1 Hoop, 2 Players, 11.7ms\n",
      "video 1/1 (frame 51/772) d:\\AI\\yolo\\code\\notebook\\..\\..\\sources\\2man_game2.mp4: 288x640 1 Hoop, 2 Players, 12.6ms\n",
      "video 1/1 (frame 52/772) d:\\AI\\yolo\\code\\notebook\\..\\..\\sources\\2man_game2.mp4: 288x640 1 Hoop, 2 Players, 14.9ms\n",
      "video 1/1 (frame 53/772) d:\\AI\\yolo\\code\\notebook\\..\\..\\sources\\2man_game2.mp4: 288x640 1 Hoop, 2 Players, 15.1ms\n",
      "video 1/1 (frame 54/772) d:\\AI\\yolo\\code\\notebook\\..\\..\\sources\\2man_game2.mp4: 288x640 1 Hoop, 2 Players, 15.3ms\n",
      "video 1/1 (frame 55/772) d:\\AI\\yolo\\code\\notebook\\..\\..\\sources\\2man_game2.mp4: 288x640 1 Hoop, 2 Players, 14.8ms\n",
      "video 1/1 (frame 56/772) d:\\AI\\yolo\\code\\notebook\\..\\..\\sources\\2man_game2.mp4: 288x640 1 Hoop, 2 Players, 15.1ms\n",
      "video 1/1 (frame 57/772) d:\\AI\\yolo\\code\\notebook\\..\\..\\sources\\2man_game2.mp4: 288x640 1 Hoop, 2 Players, 12.0ms\n",
      "video 1/1 (frame 58/772) d:\\AI\\yolo\\code\\notebook\\..\\..\\sources\\2man_game2.mp4: 288x640 1 Hoop, 2 Players, 14.8ms\n",
      "video 1/1 (frame 59/772) d:\\AI\\yolo\\code\\notebook\\..\\..\\sources\\2man_game2.mp4: 288x640 1 Hoop, 2 Players, 15.0ms\n",
      "video 1/1 (frame 60/772) d:\\AI\\yolo\\code\\notebook\\..\\..\\sources\\2man_game2.mp4: 288x640 1 Hoop, 2 Players, 14.7ms\n",
      "video 1/1 (frame 61/772) d:\\AI\\yolo\\code\\notebook\\..\\..\\sources\\2man_game2.mp4: 288x640 1 Hoop, 2 Players, 14.8ms\n",
      "video 1/1 (frame 62/772) d:\\AI\\yolo\\code\\notebook\\..\\..\\sources\\2man_game2.mp4: 288x640 1 Hoop, 2 Players, 11.4ms\n",
      "video 1/1 (frame 63/772) d:\\AI\\yolo\\code\\notebook\\..\\..\\sources\\2man_game2.mp4: 288x640 1 Hoop, 2 Players, 11.3ms\n",
      "video 1/1 (frame 64/772) d:\\AI\\yolo\\code\\notebook\\..\\..\\sources\\2man_game2.mp4: 288x640 1 Hoop, 2 Players, 11.4ms\n",
      "video 1/1 (frame 65/772) d:\\AI\\yolo\\code\\notebook\\..\\..\\sources\\2man_game2.mp4: 288x640 1 Hoop, 2 Players, 11.2ms\n",
      "video 1/1 (frame 66/772) d:\\AI\\yolo\\code\\notebook\\..\\..\\sources\\2man_game2.mp4: 288x640 1 Hoop, 2 Players, 11.5ms\n",
      "video 1/1 (frame 67/772) d:\\AI\\yolo\\code\\notebook\\..\\..\\sources\\2man_game2.mp4: 288x640 1 Hoop, 2 Players, 11.3ms\n",
      "video 1/1 (frame 68/772) d:\\AI\\yolo\\code\\notebook\\..\\..\\sources\\2man_game2.mp4: 288x640 1 Hoop, 2 Players, 14.8ms\n",
      "video 1/1 (frame 69/772) d:\\AI\\yolo\\code\\notebook\\..\\..\\sources\\2man_game2.mp4: 288x640 1 Hoop, 2 Players, 14.9ms\n",
      "video 1/1 (frame 70/772) d:\\AI\\yolo\\code\\notebook\\..\\..\\sources\\2man_game2.mp4: 288x640 1 Hoop, 2 Players, 14.9ms\n",
      "video 1/1 (frame 71/772) d:\\AI\\yolo\\code\\notebook\\..\\..\\sources\\2man_game2.mp4: 288x640 1 Hoop, 2 Players, 11.3ms\n",
      "video 1/1 (frame 72/772) d:\\AI\\yolo\\code\\notebook\\..\\..\\sources\\2man_game2.mp4: 288x640 1 Hoop, 2 Players, 14.9ms\n",
      "video 1/1 (frame 73/772) d:\\AI\\yolo\\code\\notebook\\..\\..\\sources\\2man_game2.mp4: 288x640 1 Hoop, 2 Players, 16.5ms\n",
      "video 1/1 (frame 74/772) d:\\AI\\yolo\\code\\notebook\\..\\..\\sources\\2man_game2.mp4: 288x640 1 Hoop, 2 Players, 15.6ms\n",
      "video 1/1 (frame 75/772) d:\\AI\\yolo\\code\\notebook\\..\\..\\sources\\2man_game2.mp4: 288x640 1 Hoop, 2 Players, 13.8ms\n",
      "video 1/1 (frame 76/772) d:\\AI\\yolo\\code\\notebook\\..\\..\\sources\\2man_game2.mp4: 288x640 1 Hoop, 2 Players, 14.9ms\n",
      "video 1/1 (frame 77/772) d:\\AI\\yolo\\code\\notebook\\..\\..\\sources\\2man_game2.mp4: 288x640 1 Hoop, 2 Players, 15.2ms\n",
      "video 1/1 (frame 78/772) d:\\AI\\yolo\\code\\notebook\\..\\..\\sources\\2man_game2.mp4: 288x640 1 Hoop, 2 Players, 14.8ms\n",
      "video 1/1 (frame 79/772) d:\\AI\\yolo\\code\\notebook\\..\\..\\sources\\2man_game2.mp4: 288x640 1 Hoop, 2 Players, 11.9ms\n",
      "video 1/1 (frame 80/772) d:\\AI\\yolo\\code\\notebook\\..\\..\\sources\\2man_game2.mp4: 288x640 1 Hoop, 2 Players, 11.2ms\n",
      "video 1/1 (frame 81/772) d:\\AI\\yolo\\code\\notebook\\..\\..\\sources\\2man_game2.mp4: 288x640 1 Hoop, 2 Players, 11.2ms\n",
      "video 1/1 (frame 82/772) d:\\AI\\yolo\\code\\notebook\\..\\..\\sources\\2man_game2.mp4: 288x640 1 Hoop, 2 Players, 11.3ms\n",
      "video 1/1 (frame 83/772) d:\\AI\\yolo\\code\\notebook\\..\\..\\sources\\2man_game2.mp4: 288x640 1 Hoop, 2 Players, 11.1ms\n",
      "video 1/1 (frame 84/772) d:\\AI\\yolo\\code\\notebook\\..\\..\\sources\\2man_game2.mp4: 288x640 1 Hoop, 2 Players, 13.5ms\n",
      "video 1/1 (frame 85/772) d:\\AI\\yolo\\code\\notebook\\..\\..\\sources\\2man_game2.mp4: 288x640 1 Hoop, 2 Players, 15.2ms\n",
      "video 1/1 (frame 86/772) d:\\AI\\yolo\\code\\notebook\\..\\..\\sources\\2man_game2.mp4: 288x640 1 Hoop, 2 Players, 14.6ms\n",
      "video 1/1 (frame 87/772) d:\\AI\\yolo\\code\\notebook\\..\\..\\sources\\2man_game2.mp4: 288x640 1 Hoop, 2 Players, 14.7ms\n",
      "video 1/1 (frame 88/772) d:\\AI\\yolo\\code\\notebook\\..\\..\\sources\\2man_game2.mp4: 288x640 1 Hoop, 2 Players, 11.6ms\n",
      "video 1/1 (frame 89/772) d:\\AI\\yolo\\code\\notebook\\..\\..\\sources\\2man_game2.mp4: 288x640 1 Hoop, 2 Players, 14.1ms\n",
      "video 1/1 (frame 90/772) d:\\AI\\yolo\\code\\notebook\\..\\..\\sources\\2man_game2.mp4: 288x640 1 Hoop, 2 Players, 16.3ms\n",
      "video 1/1 (frame 91/772) d:\\AI\\yolo\\code\\notebook\\..\\..\\sources\\2man_game2.mp4: 288x640 1 Hoop, 2 Players, 16.2ms\n",
      "video 1/1 (frame 92/772) d:\\AI\\yolo\\code\\notebook\\..\\..\\sources\\2man_game2.mp4: 288x640 1 Hoop, 2 Players, 16.1ms\n",
      "video 1/1 (frame 93/772) d:\\AI\\yolo\\code\\notebook\\..\\..\\sources\\2man_game2.mp4: 288x640 1 Hoop, 2 Players, 11.1ms\n",
      "video 1/1 (frame 94/772) d:\\AI\\yolo\\code\\notebook\\..\\..\\sources\\2man_game2.mp4: 288x640 1 Hoop, 2 Players, 11.6ms\n",
      "video 1/1 (frame 95/772) d:\\AI\\yolo\\code\\notebook\\..\\..\\sources\\2man_game2.mp4: 288x640 1 Hoop, 2 Players, 14.2ms\n",
      "video 1/1 (frame 96/772) d:\\AI\\yolo\\code\\notebook\\..\\..\\sources\\2man_game2.mp4: 288x640 1 Hoop, 2 Players, 11.2ms\n",
      "video 1/1 (frame 97/772) d:\\AI\\yolo\\code\\notebook\\..\\..\\sources\\2man_game2.mp4: 288x640 1 Hoop, 2 Players, 16.4ms\n",
      "video 1/1 (frame 98/772) d:\\AI\\yolo\\code\\notebook\\..\\..\\sources\\2man_game2.mp4: 288x640 1 Hoop, 2 Players, 12.8ms\n",
      "video 1/1 (frame 99/772) d:\\AI\\yolo\\code\\notebook\\..\\..\\sources\\2man_game2.mp4: 288x640 1 Hoop, 2 Players, 16.8ms\n",
      "video 1/1 (frame 100/772) d:\\AI\\yolo\\code\\notebook\\..\\..\\sources\\2man_game2.mp4: 288x640 1 Hoop, 2 Players, 11.3ms\n",
      "video 1/1 (frame 101/772) d:\\AI\\yolo\\code\\notebook\\..\\..\\sources\\2man_game2.mp4: 288x640 1 Hoop, 2 Players, 11.8ms\n",
      "video 1/1 (frame 102/772) d:\\AI\\yolo\\code\\notebook\\..\\..\\sources\\2man_game2.mp4: 288x640 1 Hoop, 2 Players, 11.2ms\n",
      "video 1/1 (frame 103/772) d:\\AI\\yolo\\code\\notebook\\..\\..\\sources\\2man_game2.mp4: 288x640 1 Hoop, 2 Players, 11.2ms\n",
      "video 1/1 (frame 104/772) d:\\AI\\yolo\\code\\notebook\\..\\..\\sources\\2man_game2.mp4: 288x640 1 Hoop, 2 Players, 14.7ms\n",
      "video 1/1 (frame 105/772) d:\\AI\\yolo\\code\\notebook\\..\\..\\sources\\2man_game2.mp4: 288x640 1 Hoop, 2 Players, 14.9ms\n",
      "video 1/1 (frame 106/772) d:\\AI\\yolo\\code\\notebook\\..\\..\\sources\\2man_game2.mp4: 288x640 1 Hoop, 2 Players, 11.4ms\n",
      "video 1/1 (frame 107/772) d:\\AI\\yolo\\code\\notebook\\..\\..\\sources\\2man_game2.mp4: 288x640 1 Hoop, 2 Players, 11.3ms\n",
      "video 1/1 (frame 108/772) d:\\AI\\yolo\\code\\notebook\\..\\..\\sources\\2man_game2.mp4: 288x640 1 Hoop, 2 Players, 14.5ms\n",
      "video 1/1 (frame 109/772) d:\\AI\\yolo\\code\\notebook\\..\\..\\sources\\2man_game2.mp4: 288x640 1 Hoop, 2 Players, 14.8ms\n",
      "video 1/1 (frame 110/772) d:\\AI\\yolo\\code\\notebook\\..\\..\\sources\\2man_game2.mp4: 288x640 1 Hoop, 2 Players, 14.7ms\n",
      "video 1/1 (frame 111/772) d:\\AI\\yolo\\code\\notebook\\..\\..\\sources\\2man_game2.mp4: 288x640 1 Hoop, 2 Players, 11.1ms\n",
      "video 1/1 (frame 112/772) d:\\AI\\yolo\\code\\notebook\\..\\..\\sources\\2man_game2.mp4: 288x640 1 Hoop, 2 Players, 11.1ms\n",
      "video 1/1 (frame 113/772) d:\\AI\\yolo\\code\\notebook\\..\\..\\sources\\2man_game2.mp4: 288x640 1 Hoop, 2 Players, 10.8ms\n",
      "video 1/1 (frame 114/772) d:\\AI\\yolo\\code\\notebook\\..\\..\\sources\\2man_game2.mp4: 288x640 1 Hoop, 2 Players, 10.8ms\n",
      "video 1/1 (frame 115/772) d:\\AI\\yolo\\code\\notebook\\..\\..\\sources\\2man_game2.mp4: 288x640 1 Hoop, 2 Players, 10.9ms\n",
      "video 1/1 (frame 116/772) d:\\AI\\yolo\\code\\notebook\\..\\..\\sources\\2man_game2.mp4: 288x640 1 Hoop, 2 Players, 15.3ms\n",
      "video 1/1 (frame 117/772) d:\\AI\\yolo\\code\\notebook\\..\\..\\sources\\2man_game2.mp4: 288x640 1 Hoop, 1 Player, 14.4ms\n",
      "video 1/1 (frame 118/772) d:\\AI\\yolo\\code\\notebook\\..\\..\\sources\\2man_game2.mp4: 288x640 1 Hoop, 1 Player, 14.4ms\n",
      "video 1/1 (frame 119/772) d:\\AI\\yolo\\code\\notebook\\..\\..\\sources\\2man_game2.mp4: 288x640 1 Hoop, 1 Player, 10.9ms\n",
      "video 1/1 (frame 120/772) d:\\AI\\yolo\\code\\notebook\\..\\..\\sources\\2man_game2.mp4: 288x640 1 Hoop, 1 Player, 13.3ms\n",
      "video 1/1 (frame 121/772) d:\\AI\\yolo\\code\\notebook\\..\\..\\sources\\2man_game2.mp4: 288x640 1 Hoop, 1 Player, 19.4ms\n",
      "video 1/1 (frame 122/772) d:\\AI\\yolo\\code\\notebook\\..\\..\\sources\\2man_game2.mp4: 288x640 1 Hoop, 1 Player, 16.8ms\n",
      "video 1/1 (frame 123/772) d:\\AI\\yolo\\code\\notebook\\..\\..\\sources\\2man_game2.mp4: 288x640 1 Hoop, 1 Player, 14.6ms\n",
      "video 1/1 (frame 124/772) d:\\AI\\yolo\\code\\notebook\\..\\..\\sources\\2man_game2.mp4: 288x640 1 Hoop, 1 Player, 15.1ms\n",
      "video 1/1 (frame 125/772) d:\\AI\\yolo\\code\\notebook\\..\\..\\sources\\2man_game2.mp4: 288x640 1 Hoop, 1 Player, 20.8ms\n",
      "video 1/1 (frame 126/772) d:\\AI\\yolo\\code\\notebook\\..\\..\\sources\\2man_game2.mp4: 288x640 1 Hoop, 2 Players, 14.4ms\n",
      "video 1/1 (frame 127/772) d:\\AI\\yolo\\code\\notebook\\..\\..\\sources\\2man_game2.mp4: 288x640 1 Hoop, 2 Players, 14.3ms\n",
      "video 1/1 (frame 128/772) d:\\AI\\yolo\\code\\notebook\\..\\..\\sources\\2man_game2.mp4: 288x640 1 Hoop, 2 Players, 17.0ms\n",
      "video 1/1 (frame 129/772) d:\\AI\\yolo\\code\\notebook\\..\\..\\sources\\2man_game2.mp4: 288x640 1 Hoop, 2 Players, 15.6ms\n",
      "video 1/1 (frame 130/772) d:\\AI\\yolo\\code\\notebook\\..\\..\\sources\\2man_game2.mp4: 288x640 1 Hoop, 2 Players, 13.9ms\n",
      "video 1/1 (frame 131/772) d:\\AI\\yolo\\code\\notebook\\..\\..\\sources\\2man_game2.mp4: 288x640 1 Hoop, 2 Players, 14.5ms\n",
      "video 1/1 (frame 132/772) d:\\AI\\yolo\\code\\notebook\\..\\..\\sources\\2man_game2.mp4: 288x640 1 Hoop, 2 Players, 14.5ms\n",
      "video 1/1 (frame 133/772) d:\\AI\\yolo\\code\\notebook\\..\\..\\sources\\2man_game2.mp4: 288x640 1 Hoop, 2 Players, 14.4ms\n",
      "video 1/1 (frame 134/772) d:\\AI\\yolo\\code\\notebook\\..\\..\\sources\\2man_game2.mp4: 288x640 1 Hoop, 2 Players, 10.7ms\n",
      "video 1/1 (frame 135/772) d:\\AI\\yolo\\code\\notebook\\..\\..\\sources\\2man_game2.mp4: 288x640 1 Hoop, 2 Players, 11.6ms\n",
      "video 1/1 (frame 136/772) d:\\AI\\yolo\\code\\notebook\\..\\..\\sources\\2man_game2.mp4: 288x640 1 Hoop, 2 Players, 10.8ms\n",
      "video 1/1 (frame 137/772) d:\\AI\\yolo\\code\\notebook\\..\\..\\sources\\2man_game2.mp4: 288x640 1 Hoop, 2 Players, 11.4ms\n",
      "video 1/1 (frame 138/772) d:\\AI\\yolo\\code\\notebook\\..\\..\\sources\\2man_game2.mp4: 288x640 1 Hoop, 2 Players, 14.4ms\n",
      "video 1/1 (frame 139/772) d:\\AI\\yolo\\code\\notebook\\..\\..\\sources\\2man_game2.mp4: 288x640 1 Hoop, 2 Players, 14.4ms\n",
      "video 1/1 (frame 140/772) d:\\AI\\yolo\\code\\notebook\\..\\..\\sources\\2man_game2.mp4: 288x640 1 Hoop, 2 Players, 11.0ms\n",
      "video 1/1 (frame 141/772) d:\\AI\\yolo\\code\\notebook\\..\\..\\sources\\2man_game2.mp4: 288x640 1 Hoop, 2 Players, 14.3ms\n",
      "video 1/1 (frame 142/772) d:\\AI\\yolo\\code\\notebook\\..\\..\\sources\\2man_game2.mp4: 288x640 1 Hoop, 2 Players, 14.2ms\n",
      "video 1/1 (frame 143/772) d:\\AI\\yolo\\code\\notebook\\..\\..\\sources\\2man_game2.mp4: 288x640 1 Hoop, 2 Players, 19.5ms\n",
      "video 1/1 (frame 144/772) d:\\AI\\yolo\\code\\notebook\\..\\..\\sources\\2man_game2.mp4: 288x640 1 Hoop, 2 Players, 14.5ms\n",
      "video 1/1 (frame 145/772) d:\\AI\\yolo\\code\\notebook\\..\\..\\sources\\2man_game2.mp4: 288x640 1 Hoop, 2 Players, 10.9ms\n",
      "video 1/1 (frame 146/772) d:\\AI\\yolo\\code\\notebook\\..\\..\\sources\\2man_game2.mp4: 288x640 1 Hoop, 2 Players, 11.0ms\n",
      "video 1/1 (frame 147/772) d:\\AI\\yolo\\code\\notebook\\..\\..\\sources\\2man_game2.mp4: 288x640 1 Hoop, 2 Players, 14.1ms\n",
      "video 1/1 (frame 148/772) d:\\AI\\yolo\\code\\notebook\\..\\..\\sources\\2man_game2.mp4: 288x640 1 Hoop, 2 Players, 15.9ms\n",
      "video 1/1 (frame 149/772) d:\\AI\\yolo\\code\\notebook\\..\\..\\sources\\2man_game2.mp4: 288x640 1 Hoop, 2 Players, 14.4ms\n",
      "video 1/1 (frame 150/772) d:\\AI\\yolo\\code\\notebook\\..\\..\\sources\\2man_game2.mp4: 288x640 1 Hoop, 2 Players, 11.2ms\n",
      "video 1/1 (frame 151/772) d:\\AI\\yolo\\code\\notebook\\..\\..\\sources\\2man_game2.mp4: 288x640 1 Hoop, 2 Players, 11.5ms\n",
      "video 1/1 (frame 152/772) d:\\AI\\yolo\\code\\notebook\\..\\..\\sources\\2man_game2.mp4: 288x640 1 Hoop, 2 Players, 14.4ms\n",
      "video 1/1 (frame 153/772) d:\\AI\\yolo\\code\\notebook\\..\\..\\sources\\2man_game2.mp4: 288x640 1 Hoop, 2 Players, 14.5ms\n",
      "video 1/1 (frame 154/772) d:\\AI\\yolo\\code\\notebook\\..\\..\\sources\\2man_game2.mp4: 288x640 1 Hoop, 2 Players, 14.4ms\n",
      "video 1/1 (frame 155/772) d:\\AI\\yolo\\code\\notebook\\..\\..\\sources\\2man_game2.mp4: 288x640 2 Players, 17.0ms\n",
      "video 1/1 (frame 156/772) d:\\AI\\yolo\\code\\notebook\\..\\..\\sources\\2man_game2.mp4: 288x640 2 Players, 10.9ms\n",
      "video 1/1 (frame 157/772) d:\\AI\\yolo\\code\\notebook\\..\\..\\sources\\2man_game2.mp4: 288x640 1 Hoop, 2 Players, 16.2ms\n",
      "video 1/1 (frame 158/772) d:\\AI\\yolo\\code\\notebook\\..\\..\\sources\\2man_game2.mp4: 288x640 2 Players, 10.8ms\n",
      "video 1/1 (frame 159/772) d:\\AI\\yolo\\code\\notebook\\..\\..\\sources\\2man_game2.mp4: 288x640 2 Players, 11.9ms\n",
      "video 1/1 (frame 160/772) d:\\AI\\yolo\\code\\notebook\\..\\..\\sources\\2man_game2.mp4: 288x640 2 Players, 10.9ms\n",
      "video 1/1 (frame 161/772) d:\\AI\\yolo\\code\\notebook\\..\\..\\sources\\2man_game2.mp4: 288x640 2 Players, 11.0ms\n",
      "video 1/1 (frame 162/772) d:\\AI\\yolo\\code\\notebook\\..\\..\\sources\\2man_game2.mp4: 288x640 2 Players, 14.4ms\n",
      "video 1/1 (frame 163/772) d:\\AI\\yolo\\code\\notebook\\..\\..\\sources\\2man_game2.mp4: 288x640 1 Hoop, 2 Players, 15.8ms\n",
      "video 1/1 (frame 164/772) d:\\AI\\yolo\\code\\notebook\\..\\..\\sources\\2man_game2.mp4: 288x640 1 Hoop, 2 Players, 18.6ms\n",
      "video 1/1 (frame 165/772) d:\\AI\\yolo\\code\\notebook\\..\\..\\sources\\2man_game2.mp4: 288x640 1 Hoop, 2 Players, 10.9ms\n",
      "video 1/1 (frame 166/772) d:\\AI\\yolo\\code\\notebook\\..\\..\\sources\\2man_game2.mp4: 288x640 1 Hoop, 2 Players, 11.0ms\n",
      "video 1/1 (frame 167/772) d:\\AI\\yolo\\code\\notebook\\..\\..\\sources\\2man_game2.mp4: 288x640 1 Hoop, 2 Players, 14.3ms\n",
      "video 1/1 (frame 168/772) d:\\AI\\yolo\\code\\notebook\\..\\..\\sources\\2man_game2.mp4: 288x640 1 Hoop, 2 Players, 14.9ms\n",
      "video 1/1 (frame 169/772) d:\\AI\\yolo\\code\\notebook\\..\\..\\sources\\2man_game2.mp4: 288x640 1 Hoop, 2 Players, 16.4ms\n",
      "video 1/1 (frame 170/772) d:\\AI\\yolo\\code\\notebook\\..\\..\\sources\\2man_game2.mp4: 288x640 1 Hoop, 2 Players, 13.7ms\n",
      "video 1/1 (frame 171/772) d:\\AI\\yolo\\code\\notebook\\..\\..\\sources\\2man_game2.mp4: 288x640 1 Hoop, 2 Players, 12.4ms\n",
      "video 1/1 (frame 172/772) d:\\AI\\yolo\\code\\notebook\\..\\..\\sources\\2man_game2.mp4: 288x640 1 Hoop, 2 Players, 10.7ms\n",
      "video 1/1 (frame 173/772) d:\\AI\\yolo\\code\\notebook\\..\\..\\sources\\2man_game2.mp4: 288x640 1 Hoop, 2 Players, 11.5ms\n",
      "video 1/1 (frame 174/772) d:\\AI\\yolo\\code\\notebook\\..\\..\\sources\\2man_game2.mp4: 288x640 1 Hoop, 2 Players, 11.2ms\n",
      "video 1/1 (frame 175/772) d:\\AI\\yolo\\code\\notebook\\..\\..\\sources\\2man_game2.mp4: 288x640 1 Hoop, 2 Players, 11.2ms\n",
      "video 1/1 (frame 176/772) d:\\AI\\yolo\\code\\notebook\\..\\..\\sources\\2man_game2.mp4: 288x640 1 Hoop, 2 Players, 14.3ms\n",
      "video 1/1 (frame 177/772) d:\\AI\\yolo\\code\\notebook\\..\\..\\sources\\2man_game2.mp4: 288x640 1 Hoop, 2 Players, 14.9ms\n",
      "video 1/1 (frame 178/772) d:\\AI\\yolo\\code\\notebook\\..\\..\\sources\\2man_game2.mp4: 288x640 1 Hoop, 2 Players, 14.7ms\n",
      "video 1/1 (frame 179/772) d:\\AI\\yolo\\code\\notebook\\..\\..\\sources\\2man_game2.mp4: 288x640 1 Hoop, 2 Players, 11.4ms\n",
      "video 1/1 (frame 180/772) d:\\AI\\yolo\\code\\notebook\\..\\..\\sources\\2man_game2.mp4: 288x640 1 Hoop, 2 Players, 14.6ms\n",
      "video 1/1 (frame 181/772) d:\\AI\\yolo\\code\\notebook\\..\\..\\sources\\2man_game2.mp4: 288x640 1 Hoop, 2 Players, 15.4ms\n",
      "video 1/1 (frame 182/772) d:\\AI\\yolo\\code\\notebook\\..\\..\\sources\\2man_game2.mp4: 288x640 1 Hoop, 2 Players, 14.7ms\n",
      "video 1/1 (frame 183/772) d:\\AI\\yolo\\code\\notebook\\..\\..\\sources\\2man_game2.mp4: 288x640 1 Hoop, 2 Players, 15.0ms\n",
      "video 1/1 (frame 184/772) d:\\AI\\yolo\\code\\notebook\\..\\..\\sources\\2man_game2.mp4: 288x640 1 Hoop, 2 Players, 11.1ms\n",
      "video 1/1 (frame 185/772) d:\\AI\\yolo\\code\\notebook\\..\\..\\sources\\2man_game2.mp4: 288x640 1 Hoop, 2 Players, 11.5ms\n",
      "video 1/1 (frame 186/772) d:\\AI\\yolo\\code\\notebook\\..\\..\\sources\\2man_game2.mp4: 288x640 1 Hoop, 2 Players, 11.3ms\n",
      "video 1/1 (frame 187/772) d:\\AI\\yolo\\code\\notebook\\..\\..\\sources\\2man_game2.mp4: 288x640 1 Hoop, 2 Players, 11.2ms\n",
      "video 1/1 (frame 188/772) d:\\AI\\yolo\\code\\notebook\\..\\..\\sources\\2man_game2.mp4: 288x640 1 Hoop, 2 Players, 12.1ms\n",
      "video 1/1 (frame 189/772) d:\\AI\\yolo\\code\\notebook\\..\\..\\sources\\2man_game2.mp4: 288x640 1 Hoop, 2 Players, 11.5ms\n",
      "video 1/1 (frame 190/772) d:\\AI\\yolo\\code\\notebook\\..\\..\\sources\\2man_game2.mp4: 288x640 1 Hoop, 2 Players, 11.6ms\n",
      "video 1/1 (frame 191/772) d:\\AI\\yolo\\code\\notebook\\..\\..\\sources\\2man_game2.mp4: 288x640 1 Hoop, 2 Players, 14.8ms\n",
      "video 1/1 (frame 192/772) d:\\AI\\yolo\\code\\notebook\\..\\..\\sources\\2man_game2.mp4: 288x640 1 Hoop, 2 Players, 15.0ms\n",
      "video 1/1 (frame 193/772) d:\\AI\\yolo\\code\\notebook\\..\\..\\sources\\2man_game2.mp4: 288x640 1 Hoop, 2 Players, 16.3ms\n",
      "video 1/1 (frame 194/772) d:\\AI\\yolo\\code\\notebook\\..\\..\\sources\\2man_game2.mp4: 288x640 1 Hoop, 2 Players, 15.3ms\n",
      "video 1/1 (frame 195/772) d:\\AI\\yolo\\code\\notebook\\..\\..\\sources\\2man_game2.mp4: 288x640 1 Hoop, 2 Players, 11.4ms\n",
      "video 1/1 (frame 196/772) d:\\AI\\yolo\\code\\notebook\\..\\..\\sources\\2man_game2.mp4: 288x640 1 Hoop, 2 Players, 15.2ms\n",
      "video 1/1 (frame 197/772) d:\\AI\\yolo\\code\\notebook\\..\\..\\sources\\2man_game2.mp4: 288x640 1 Hoop, 2 Players, 16.0ms\n",
      "video 1/1 (frame 198/772) d:\\AI\\yolo\\code\\notebook\\..\\..\\sources\\2man_game2.mp4: 288x640 1 Hoop, 2 Players, 11.4ms\n",
      "video 1/1 (frame 199/772) d:\\AI\\yolo\\code\\notebook\\..\\..\\sources\\2man_game2.mp4: 288x640 1 Hoop, 2 Players, 11.0ms\n",
      "video 1/1 (frame 200/772) d:\\AI\\yolo\\code\\notebook\\..\\..\\sources\\2man_game2.mp4: 288x640 1 Hoop, 2 Players, 10.8ms\n",
      "video 1/1 (frame 201/772) d:\\AI\\yolo\\code\\notebook\\..\\..\\sources\\2man_game2.mp4: 288x640 1 Hoop, 2 Players, 10.9ms\n",
      "video 1/1 (frame 202/772) d:\\AI\\yolo\\code\\notebook\\..\\..\\sources\\2man_game2.mp4: 288x640 1 Hoop, 2 Players, 12.4ms\n",
      "video 1/1 (frame 203/772) d:\\AI\\yolo\\code\\notebook\\..\\..\\sources\\2man_game2.mp4: 288x640 1 Hoop, 2 Players, 11.5ms\n",
      "video 1/1 (frame 204/772) d:\\AI\\yolo\\code\\notebook\\..\\..\\sources\\2man_game2.mp4: 288x640 1 Hoop, 2 Players, 14.7ms\n",
      "video 1/1 (frame 205/772) d:\\AI\\yolo\\code\\notebook\\..\\..\\sources\\2man_game2.mp4: 288x640 1 Hoop, 2 Players, 16.1ms\n",
      "video 1/1 (frame 206/772) d:\\AI\\yolo\\code\\notebook\\..\\..\\sources\\2man_game2.mp4: 288x640 1 Hoop, 2 Players, 14.9ms\n",
      "video 1/1 (frame 207/772) d:\\AI\\yolo\\code\\notebook\\..\\..\\sources\\2man_game2.mp4: 288x640 1 Hoop, 2 Players, 14.7ms\n",
      "video 1/1 (frame 208/772) d:\\AI\\yolo\\code\\notebook\\..\\..\\sources\\2man_game2.mp4: 288x640 1 Hoop, 2 Players, 15.0ms\n",
      "video 1/1 (frame 209/772) d:\\AI\\yolo\\code\\notebook\\..\\..\\sources\\2man_game2.mp4: 288x640 1 Hoop, 2 Players, 11.1ms\n",
      "video 1/1 (frame 210/772) d:\\AI\\yolo\\code\\notebook\\..\\..\\sources\\2man_game2.mp4: 288x640 1 Hoop, 2 Players, 14.4ms\n",
      "video 1/1 (frame 211/772) d:\\AI\\yolo\\code\\notebook\\..\\..\\sources\\2man_game2.mp4: 288x640 1 Hoop, 2 Players, 15.5ms\n",
      "video 1/1 (frame 212/772) d:\\AI\\yolo\\code\\notebook\\..\\..\\sources\\2man_game2.mp4: 288x640 1 Hoop, 2 Players, 14.2ms\n",
      "video 1/1 (frame 213/772) d:\\AI\\yolo\\code\\notebook\\..\\..\\sources\\2man_game2.mp4: 288x640 1 Hoop, 2 Players, 16.9ms\n",
      "video 1/1 (frame 214/772) d:\\AI\\yolo\\code\\notebook\\..\\..\\sources\\2man_game2.mp4: 288x640 1 Hoop, 2 Players, 10.9ms\n",
      "video 1/1 (frame 215/772) d:\\AI\\yolo\\code\\notebook\\..\\..\\sources\\2man_game2.mp4: 288x640 1 Hoop, 2 Players, 10.7ms\n",
      "video 1/1 (frame 216/772) d:\\AI\\yolo\\code\\notebook\\..\\..\\sources\\2man_game2.mp4: 288x640 1 Hoop, 2 Players, 10.8ms\n",
      "video 1/1 (frame 217/772) d:\\AI\\yolo\\code\\notebook\\..\\..\\sources\\2man_game2.mp4: 288x640 1 Hoop, 2 Players, 11.1ms\n",
      "video 1/1 (frame 218/772) d:\\AI\\yolo\\code\\notebook\\..\\..\\sources\\2man_game2.mp4: 288x640 1 Hoop, 2 Players, 11.0ms\n",
      "video 1/1 (frame 219/772) d:\\AI\\yolo\\code\\notebook\\..\\..\\sources\\2man_game2.mp4: 288x640 1 Hoop, 2 Players, 15.3ms\n",
      "video 1/1 (frame 220/772) d:\\AI\\yolo\\code\\notebook\\..\\..\\sources\\2man_game2.mp4: 288x640 1 Hoop, 2 Players, 15.0ms\n",
      "video 1/1 (frame 221/772) d:\\AI\\yolo\\code\\notebook\\..\\..\\sources\\2man_game2.mp4: 288x640 1 Hoop, 2 Players, 10.9ms\n",
      "video 1/1 (frame 222/772) d:\\AI\\yolo\\code\\notebook\\..\\..\\sources\\2man_game2.mp4: 288x640 1 Hoop, 2 Players, 10.9ms\n",
      "video 1/1 (frame 223/772) d:\\AI\\yolo\\code\\notebook\\..\\..\\sources\\2man_game2.mp4: 288x640 1 Hoop, 2 Players, 14.2ms\n",
      "video 1/1 (frame 224/772) d:\\AI\\yolo\\code\\notebook\\..\\..\\sources\\2man_game2.mp4: 288x640 1 Hoop, 2 Players, 14.5ms\n",
      "video 1/1 (frame 225/772) d:\\AI\\yolo\\code\\notebook\\..\\..\\sources\\2man_game2.mp4: 288x640 1 Hoop, 2 Players, 14.2ms\n",
      "video 1/1 (frame 226/772) d:\\AI\\yolo\\code\\notebook\\..\\..\\sources\\2man_game2.mp4: 288x640 1 Hoop, 2 Players, 11.1ms\n",
      "video 1/1 (frame 227/772) d:\\AI\\yolo\\code\\notebook\\..\\..\\sources\\2man_game2.mp4: 288x640 1 Hoop, 2 Players, 10.9ms\n",
      "video 1/1 (frame 228/772) d:\\AI\\yolo\\code\\notebook\\..\\..\\sources\\2man_game2.mp4: 288x640 1 Hoop, 2 Players, 10.8ms\n",
      "video 1/1 (frame 229/772) d:\\AI\\yolo\\code\\notebook\\..\\..\\sources\\2man_game2.mp4: 288x640 1 Hoop, 2 Players, 10.8ms\n",
      "video 1/1 (frame 230/772) d:\\AI\\yolo\\code\\notebook\\..\\..\\sources\\2man_game2.mp4: 288x640 1 Hoop, 2 Players, 14.7ms\n",
      "video 1/1 (frame 231/772) d:\\AI\\yolo\\code\\notebook\\..\\..\\sources\\2man_game2.mp4: 288x640 1 Hoop, 2 Players, 16.9ms\n",
      "video 1/1 (frame 232/772) d:\\AI\\yolo\\code\\notebook\\..\\..\\sources\\2man_game2.mp4: 288x640 1 Hoop, 2 Players, 14.2ms\n",
      "video 1/1 (frame 233/772) d:\\AI\\yolo\\code\\notebook\\..\\..\\sources\\2man_game2.mp4: 288x640 1 Hoop, 2 Players, 10.9ms\n",
      "video 1/1 (frame 234/772) d:\\AI\\yolo\\code\\notebook\\..\\..\\sources\\2man_game2.mp4: 288x640 1 Hoop, 2 Players, 11.1ms\n",
      "video 1/1 (frame 235/772) d:\\AI\\yolo\\code\\notebook\\..\\..\\sources\\2man_game2.mp4: 288x640 1 Hoop, 2 Players, 14.3ms\n",
      "video 1/1 (frame 236/772) d:\\AI\\yolo\\code\\notebook\\..\\..\\sources\\2man_game2.mp4: 288x640 1 Hoop, 2 Players, 14.3ms\n",
      "video 1/1 (frame 237/772) d:\\AI\\yolo\\code\\notebook\\..\\..\\sources\\2man_game2.mp4: 288x640 1 Hoop, 2 Players, 14.0ms\n",
      "video 1/1 (frame 238/772) d:\\AI\\yolo\\code\\notebook\\..\\..\\sources\\2man_game2.mp4: 288x640 1 Hoop, 2 Players, 10.7ms\n",
      "video 1/1 (frame 239/772) d:\\AI\\yolo\\code\\notebook\\..\\..\\sources\\2man_game2.mp4: 288x640 1 Hoop, 3 Players, 10.7ms\n",
      "video 1/1 (frame 240/772) d:\\AI\\yolo\\code\\notebook\\..\\..\\sources\\2man_game2.mp4: 288x640 1 Hoop, 3 Players, 10.8ms\n",
      "video 1/1 (frame 241/772) d:\\AI\\yolo\\code\\notebook\\..\\..\\sources\\2man_game2.mp4: 288x640 1 Hoop, 3 Players, 10.6ms\n",
      "video 1/1 (frame 242/772) d:\\AI\\yolo\\code\\notebook\\..\\..\\sources\\2man_game2.mp4: 288x640 1 Hoop, 3 Players, 11.1ms\n",
      "video 1/1 (frame 243/772) d:\\AI\\yolo\\code\\notebook\\..\\..\\sources\\2man_game2.mp4: 288x640 1 Hoop, 3 Players, 10.8ms\n",
      "video 1/1 (frame 244/772) d:\\AI\\yolo\\code\\notebook\\..\\..\\sources\\2man_game2.mp4: 288x640 1 Hoop, 3 Players, 10.8ms\n",
      "video 1/1 (frame 245/772) d:\\AI\\yolo\\code\\notebook\\..\\..\\sources\\2man_game2.mp4: 288x640 1 Hoop, 3 Players, 15.2ms\n",
      "video 1/1 (frame 246/772) d:\\AI\\yolo\\code\\notebook\\..\\..\\sources\\2man_game2.mp4: 288x640 1 Hoop, 3 Players, 11.0ms\n",
      "video 1/1 (frame 247/772) d:\\AI\\yolo\\code\\notebook\\..\\..\\sources\\2man_game2.mp4: 288x640 1 Hoop, 3 Players, 14.1ms\n",
      "video 1/1 (frame 248/772) d:\\AI\\yolo\\code\\notebook\\..\\..\\sources\\2man_game2.mp4: 288x640 1 Hoop, 3 Players, 16.8ms\n",
      "video 1/1 (frame 249/772) d:\\AI\\yolo\\code\\notebook\\..\\..\\sources\\2man_game2.mp4: 288x640 1 Hoop, 3 Players, 10.7ms\n",
      "video 1/1 (frame 250/772) d:\\AI\\yolo\\code\\notebook\\..\\..\\sources\\2man_game2.mp4: 288x640 1 Hoop, 3 Players, 11.2ms\n",
      "video 1/1 (frame 251/772) d:\\AI\\yolo\\code\\notebook\\..\\..\\sources\\2man_game2.mp4: 288x640 1 Hoop, 3 Players, 10.8ms\n",
      "video 1/1 (frame 252/772) d:\\AI\\yolo\\code\\notebook\\..\\..\\sources\\2man_game2.mp4: 288x640 1 Hoop, 2 Players, 10.9ms\n",
      "video 1/1 (frame 253/772) d:\\AI\\yolo\\code\\notebook\\..\\..\\sources\\2man_game2.mp4: 288x640 1 Hoop, 2 Players, 10.7ms\n",
      "video 1/1 (frame 254/772) d:\\AI\\yolo\\code\\notebook\\..\\..\\sources\\2man_game2.mp4: 288x640 1 Hoop, 2 Players, 10.8ms\n",
      "video 1/1 (frame 255/772) d:\\AI\\yolo\\code\\notebook\\..\\..\\sources\\2man_game2.mp4: 288x640 1 Hoop, 2 Players, 14.2ms\n",
      "video 1/1 (frame 256/772) d:\\AI\\yolo\\code\\notebook\\..\\..\\sources\\2man_game2.mp4: 288x640 1 Hoop, 2 Players, 14.2ms\n",
      "video 1/1 (frame 257/772) d:\\AI\\yolo\\code\\notebook\\..\\..\\sources\\2man_game2.mp4: 288x640 1 Hoop, 2 Players, 14.2ms\n",
      "video 1/1 (frame 258/772) d:\\AI\\yolo\\code\\notebook\\..\\..\\sources\\2man_game2.mp4: 288x640 1 Hoop, 2 Players, 14.1ms\n",
      "video 1/1 (frame 259/772) d:\\AI\\yolo\\code\\notebook\\..\\..\\sources\\2man_game2.mp4: 288x640 1 Hoop, 2 Players, 10.9ms\n",
      "video 1/1 (frame 260/772) d:\\AI\\yolo\\code\\notebook\\..\\..\\sources\\2man_game2.mp4: 288x640 1 Hoop, 2 Players, 10.9ms\n",
      "video 1/1 (frame 261/772) d:\\AI\\yolo\\code\\notebook\\..\\..\\sources\\2man_game2.mp4: 288x640 1 Hoop, 2 Players, 10.7ms\n",
      "video 1/1 (frame 262/772) d:\\AI\\yolo\\code\\notebook\\..\\..\\sources\\2man_game2.mp4: 288x640 1 Hoop, 2 Players, 14.3ms\n",
      "video 1/1 (frame 263/772) d:\\AI\\yolo\\code\\notebook\\..\\..\\sources\\2man_game2.mp4: 288x640 1 Hoop, 2 Players, 14.2ms\n",
      "video 1/1 (frame 264/772) d:\\AI\\yolo\\code\\notebook\\..\\..\\sources\\2man_game2.mp4: 288x640 1 Hoop, 2 Players, 14.0ms\n",
      "video 1/1 (frame 265/772) d:\\AI\\yolo\\code\\notebook\\..\\..\\sources\\2man_game2.mp4: 288x640 1 Hoop, 2 Players, 10.7ms\n",
      "video 1/1 (frame 266/772) d:\\AI\\yolo\\code\\notebook\\..\\..\\sources\\2man_game2.mp4: 288x640 1 Hoop, 3 Players, 14.2ms\n",
      "video 1/1 (frame 267/772) d:\\AI\\yolo\\code\\notebook\\..\\..\\sources\\2man_game2.mp4: 288x640 1 Hoop, 3 Players, 14.1ms\n",
      "video 1/1 (frame 268/772) d:\\AI\\yolo\\code\\notebook\\..\\..\\sources\\2man_game2.mp4: 288x640 1 Ball, 1 Hoop, 2 Players, 14.0ms\n",
      "video 1/1 (frame 269/772) d:\\AI\\yolo\\code\\notebook\\..\\..\\sources\\2man_game2.mp4: 288x640 1 Hoop, 2 Players, 17.3ms\n",
      "video 1/1 (frame 270/772) d:\\AI\\yolo\\code\\notebook\\..\\..\\sources\\2man_game2.mp4: 288x640 1 Hoop, 2 Players, 11.1ms\n",
      "video 1/1 (frame 271/772) d:\\AI\\yolo\\code\\notebook\\..\\..\\sources\\2man_game2.mp4: 288x640 1 Hoop, 2 Players, 14.7ms\n",
      "video 1/1 (frame 272/772) d:\\AI\\yolo\\code\\notebook\\..\\..\\sources\\2man_game2.mp4: 288x640 1 Ball, 1 Hoop, 2 Players, 10.8ms\n",
      "video 1/1 (frame 273/772) d:\\AI\\yolo\\code\\notebook\\..\\..\\sources\\2man_game2.mp4: 288x640 1 Ball, 1 Hoop, 2 Players, 10.7ms\n",
      "video 1/1 (frame 274/772) d:\\AI\\yolo\\code\\notebook\\..\\..\\sources\\2man_game2.mp4: 288x640 1 Ball, 1 Hoop, 2 Players, 13.2ms\n",
      "video 1/1 (frame 275/772) d:\\AI\\yolo\\code\\notebook\\..\\..\\sources\\2man_game2.mp4: 288x640 1 Ball, 1 Hoop, 2 Players, 10.7ms\n",
      "video 1/1 (frame 276/772) d:\\AI\\yolo\\code\\notebook\\..\\..\\sources\\2man_game2.mp4: 288x640 1 Ball, 1 Hoop, 2 Players, 14.2ms\n",
      "video 1/1 (frame 277/772) d:\\AI\\yolo\\code\\notebook\\..\\..\\sources\\2man_game2.mp4: 288x640 1 Hoop, 2 Players, 14.2ms\n",
      "video 1/1 (frame 278/772) d:\\AI\\yolo\\code\\notebook\\..\\..\\sources\\2man_game2.mp4: 288x640 1 Hoop, 2 Players, 14.5ms\n",
      "video 1/1 (frame 279/772) d:\\AI\\yolo\\code\\notebook\\..\\..\\sources\\2man_game2.mp4: 288x640 1 Hoop, 2 Players, 16.0ms\n",
      "video 1/1 (frame 280/772) d:\\AI\\yolo\\code\\notebook\\..\\..\\sources\\2man_game2.mp4: 288x640 1 Hoop, 2 Players, 10.8ms\n",
      "video 1/1 (frame 281/772) d:\\AI\\yolo\\code\\notebook\\..\\..\\sources\\2man_game2.mp4: 288x640 1 Hoop, 2 Players, 14.5ms\n",
      "video 1/1 (frame 282/772) d:\\AI\\yolo\\code\\notebook\\..\\..\\sources\\2man_game2.mp4: 288x640 1 Hoop, 2 Players, 14.1ms\n",
      "video 1/1 (frame 283/772) d:\\AI\\yolo\\code\\notebook\\..\\..\\sources\\2man_game2.mp4: 288x640 1 Hoop, 2 Players, 14.5ms\n",
      "video 1/1 (frame 284/772) d:\\AI\\yolo\\code\\notebook\\..\\..\\sources\\2man_game2.mp4: 288x640 1 Hoop, 2 Players, 14.3ms\n",
      "video 1/1 (frame 285/772) d:\\AI\\yolo\\code\\notebook\\..\\..\\sources\\2man_game2.mp4: 288x640 1 Hoop, 2 Players, 10.8ms\n",
      "video 1/1 (frame 286/772) d:\\AI\\yolo\\code\\notebook\\..\\..\\sources\\2man_game2.mp4: 288x640 1 Hoop, 2 Players, 10.7ms\n",
      "video 1/1 (frame 287/772) d:\\AI\\yolo\\code\\notebook\\..\\..\\sources\\2man_game2.mp4: 288x640 1 Hoop, 2 Players, 10.7ms\n",
      "video 1/1 (frame 288/772) d:\\AI\\yolo\\code\\notebook\\..\\..\\sources\\2man_game2.mp4: 288x640 1 Hoop, 2 Players, 10.8ms\n",
      "video 1/1 (frame 289/772) d:\\AI\\yolo\\code\\notebook\\..\\..\\sources\\2man_game2.mp4: 288x640 1 Hoop, 2 Players, 11.4ms\n",
      "video 1/1 (frame 290/772) d:\\AI\\yolo\\code\\notebook\\..\\..\\sources\\2man_game2.mp4: 288x640 1 Hoop, 2 Players, 10.8ms\n",
      "video 1/1 (frame 291/772) d:\\AI\\yolo\\code\\notebook\\..\\..\\sources\\2man_game2.mp4: 288x640 1 Hoop, 2 Players, 10.8ms\n",
      "video 1/1 (frame 292/772) d:\\AI\\yolo\\code\\notebook\\..\\..\\sources\\2man_game2.mp4: 288x640 1 Hoop, 2 Players, 13.4ms\n",
      "video 1/1 (frame 293/772) d:\\AI\\yolo\\code\\notebook\\..\\..\\sources\\2man_game2.mp4: 288x640 1 Hoop, 2 Players, 14.5ms\n",
      "video 1/1 (frame 294/772) d:\\AI\\yolo\\code\\notebook\\..\\..\\sources\\2man_game2.mp4: 288x640 1 Hoop, 2 Players, 10.9ms\n",
      "video 1/1 (frame 295/772) d:\\AI\\yolo\\code\\notebook\\..\\..\\sources\\2man_game2.mp4: 288x640 1 Hoop, 2 Players, 14.4ms\n",
      "video 1/1 (frame 296/772) d:\\AI\\yolo\\code\\notebook\\..\\..\\sources\\2man_game2.mp4: 288x640 1 Hoop, 2 Players, 17.3ms\n",
      "video 1/1 (frame 297/772) d:\\AI\\yolo\\code\\notebook\\..\\..\\sources\\2man_game2.mp4: 288x640 1 Hoop, 2 Players, 14.9ms\n",
      "video 1/1 (frame 298/772) d:\\AI\\yolo\\code\\notebook\\..\\..\\sources\\2man_game2.mp4: 288x640 1 Hoop, 2 Players, 10.7ms\n",
      "video 1/1 (frame 299/772) d:\\AI\\yolo\\code\\notebook\\..\\..\\sources\\2man_game2.mp4: 288x640 1 Hoop, 2 Players, 10.7ms\n",
      "video 1/1 (frame 300/772) d:\\AI\\yolo\\code\\notebook\\..\\..\\sources\\2man_game2.mp4: 288x640 1 Hoop, 2 Players, 11.0ms\n",
      "video 1/1 (frame 301/772) d:\\AI\\yolo\\code\\notebook\\..\\..\\sources\\2man_game2.mp4: 288x640 1 Hoop, 2 Players, 11.1ms\n",
      "video 1/1 (frame 302/772) d:\\AI\\yolo\\code\\notebook\\..\\..\\sources\\2man_game2.mp4: 288x640 1 Hoop, 2 Players, 11.0ms\n",
      "video 1/1 (frame 303/772) d:\\AI\\yolo\\code\\notebook\\..\\..\\sources\\2man_game2.mp4: 288x640 1 Hoop, 2 Players, 11.1ms\n",
      "video 1/1 (frame 304/772) d:\\AI\\yolo\\code\\notebook\\..\\..\\sources\\2man_game2.mp4: 288x640 1 Hoop, 3 Players, 14.5ms\n",
      "video 1/1 (frame 305/772) d:\\AI\\yolo\\code\\notebook\\..\\..\\sources\\2man_game2.mp4: 288x640 1 Hoop, 3 Players, 14.7ms\n",
      "video 1/1 (frame 306/772) d:\\AI\\yolo\\code\\notebook\\..\\..\\sources\\2man_game2.mp4: 288x640 1 Hoop, 3 Players, 11.1ms\n",
      "video 1/1 (frame 307/772) d:\\AI\\yolo\\code\\notebook\\..\\..\\sources\\2man_game2.mp4: 288x640 1 Hoop, 3 Players, 11.6ms\n",
      "video 1/1 (frame 308/772) d:\\AI\\yolo\\code\\notebook\\..\\..\\sources\\2man_game2.mp4: 288x640 1 Hoop, 3 Players, 14.8ms\n",
      "video 1/1 (frame 309/772) d:\\AI\\yolo\\code\\notebook\\..\\..\\sources\\2man_game2.mp4: 288x640 1 Hoop, 3 Players, 14.7ms\n",
      "video 1/1 (frame 310/772) d:\\AI\\yolo\\code\\notebook\\..\\..\\sources\\2man_game2.mp4: 288x640 1 Hoop, 3 Players, 17.7ms\n",
      "video 1/1 (frame 311/772) d:\\AI\\yolo\\code\\notebook\\..\\..\\sources\\2man_game2.mp4: 288x640 1 Hoop, 3 Players, 11.1ms\n",
      "video 1/1 (frame 312/772) d:\\AI\\yolo\\code\\notebook\\..\\..\\sources\\2man_game2.mp4: 288x640 1 Hoop, 3 Players, 10.9ms\n",
      "video 1/1 (frame 313/772) d:\\AI\\yolo\\code\\notebook\\..\\..\\sources\\2man_game2.mp4: 288x640 1 Hoop, 3 Players, 10.8ms\n",
      "video 1/1 (frame 314/772) d:\\AI\\yolo\\code\\notebook\\..\\..\\sources\\2man_game2.mp4: 288x640 1 Hoop, 3 Players, 10.8ms\n",
      "video 1/1 (frame 315/772) d:\\AI\\yolo\\code\\notebook\\..\\..\\sources\\2man_game2.mp4: 288x640 1 Hoop, 3 Players, 10.9ms\n",
      "video 1/1 (frame 316/772) d:\\AI\\yolo\\code\\notebook\\..\\..\\sources\\2man_game2.mp4: 288x640 1 Hoop, 3 Players, 16.2ms\n",
      "video 1/1 (frame 317/772) d:\\AI\\yolo\\code\\notebook\\..\\..\\sources\\2man_game2.mp4: 288x640 1 Hoop, 3 Players, 10.9ms\n",
      "video 1/1 (frame 318/772) d:\\AI\\yolo\\code\\notebook\\..\\..\\sources\\2man_game2.mp4: 288x640 1 Hoop, 3 Players, 11.1ms\n",
      "video 1/1 (frame 319/772) d:\\AI\\yolo\\code\\notebook\\..\\..\\sources\\2man_game2.mp4: 288x640 1 Hoop, 2 Players, 14.5ms\n",
      "video 1/1 (frame 320/772) d:\\AI\\yolo\\code\\notebook\\..\\..\\sources\\2man_game2.mp4: 288x640 1 Hoop, 2 Players, 14.4ms\n",
      "video 1/1 (frame 321/772) d:\\AI\\yolo\\code\\notebook\\..\\..\\sources\\2man_game2.mp4: 288x640 1 Hoop, 3 Players, 10.9ms\n",
      "video 1/1 (frame 322/772) d:\\AI\\yolo\\code\\notebook\\..\\..\\sources\\2man_game2.mp4: 288x640 1 Hoop, 3 Players, 14.1ms\n",
      "video 1/1 (frame 323/772) d:\\AI\\yolo\\code\\notebook\\..\\..\\sources\\2man_game2.mp4: 288x640 1 Hoop, 3 Players, 14.3ms\n",
      "video 1/1 (frame 324/772) d:\\AI\\yolo\\code\\notebook\\..\\..\\sources\\2man_game2.mp4: 288x640 1 Hoop, 3 Players, 14.4ms\n",
      "video 1/1 (frame 325/772) d:\\AI\\yolo\\code\\notebook\\..\\..\\sources\\2man_game2.mp4: 288x640 1 Hoop, 3 Players, 14.3ms\n",
      "video 1/1 (frame 326/772) d:\\AI\\yolo\\code\\notebook\\..\\..\\sources\\2man_game2.mp4: 288x640 1 Hoop, 3 Players, 10.8ms\n",
      "video 1/1 (frame 327/772) d:\\AI\\yolo\\code\\notebook\\..\\..\\sources\\2man_game2.mp4: 288x640 1 Hoop, 3 Players, 12.5ms\n",
      "video 1/1 (frame 328/772) d:\\AI\\yolo\\code\\notebook\\..\\..\\sources\\2man_game2.mp4: 288x640 1 Hoop, 3 Players, 11.0ms\n",
      "video 1/1 (frame 329/772) d:\\AI\\yolo\\code\\notebook\\..\\..\\sources\\2man_game2.mp4: 288x640 1 Hoop, 3 Players, 10.8ms\n",
      "video 1/1 (frame 330/772) d:\\AI\\yolo\\code\\notebook\\..\\..\\sources\\2man_game2.mp4: 288x640 1 Hoop, 3 Players, 10.9ms\n",
      "video 1/1 (frame 331/772) d:\\AI\\yolo\\code\\notebook\\..\\..\\sources\\2man_game2.mp4: 288x640 1 Hoop, 3 Players, 10.8ms\n",
      "video 1/1 (frame 332/772) d:\\AI\\yolo\\code\\notebook\\..\\..\\sources\\2man_game2.mp4: 288x640 1 Hoop, 3 Players, 14.1ms\n",
      "video 1/1 (frame 333/772) d:\\AI\\yolo\\code\\notebook\\..\\..\\sources\\2man_game2.mp4: 288x640 1 Ball, 1 Hoop, 3 Players, 14.2ms\n",
      "video 1/1 (frame 334/772) d:\\AI\\yolo\\code\\notebook\\..\\..\\sources\\2man_game2.mp4: 288x640 1 Ball, 1 Hoop, 3 Players, 14.2ms\n",
      "video 1/1 (frame 335/772) d:\\AI\\yolo\\code\\notebook\\..\\..\\sources\\2man_game2.mp4: 288x640 1 Hoop, 3 Players, 10.9ms\n",
      "video 1/1 (frame 336/772) d:\\AI\\yolo\\code\\notebook\\..\\..\\sources\\2man_game2.mp4: 288x640 1 Hoop, 3 Players, 14.5ms\n",
      "video 1/1 (frame 337/772) d:\\AI\\yolo\\code\\notebook\\..\\..\\sources\\2man_game2.mp4: 288x640 1 Hoop, 3 Players, 14.4ms\n",
      "video 1/1 (frame 338/772) d:\\AI\\yolo\\code\\notebook\\..\\..\\sources\\2man_game2.mp4: 288x640 1 Hoop, 3 Players, 14.1ms\n",
      "video 1/1 (frame 339/772) d:\\AI\\yolo\\code\\notebook\\..\\..\\sources\\2man_game2.mp4: 288x640 1 Hoop, 3 Players, 14.3ms\n",
      "video 1/1 (frame 340/772) d:\\AI\\yolo\\code\\notebook\\..\\..\\sources\\2man_game2.mp4: 288x640 1 Hoop, 3 Players, 10.9ms\n",
      "video 1/1 (frame 341/772) d:\\AI\\yolo\\code\\notebook\\..\\..\\sources\\2man_game2.mp4: 288x640 1 Hoop, 3 Players, 11.0ms\n",
      "video 1/1 (frame 342/772) d:\\AI\\yolo\\code\\notebook\\..\\..\\sources\\2man_game2.mp4: 288x640 1 Hoop, 3 Players, 11.7ms\n",
      "video 1/1 (frame 343/772) d:\\AI\\yolo\\code\\notebook\\..\\..\\sources\\2man_game2.mp4: 288x640 1 Hoop, 3 Players, 11.7ms\n",
      "video 1/1 (frame 344/772) d:\\AI\\yolo\\code\\notebook\\..\\..\\sources\\2man_game2.mp4: 288x640 1 Hoop, 3 Players, 10.8ms\n",
      "video 1/1 (frame 345/772) d:\\AI\\yolo\\code\\notebook\\..\\..\\sources\\2man_game2.mp4: 288x640 1 Hoop, 3 Players, 14.2ms\n",
      "video 1/1 (frame 346/772) d:\\AI\\yolo\\code\\notebook\\..\\..\\sources\\2man_game2.mp4: 288x640 1 Hoop, 3 Players, 15.4ms\n",
      "video 1/1 (frame 347/772) d:\\AI\\yolo\\code\\notebook\\..\\..\\sources\\2man_game2.mp4: 288x640 1 Hoop, 3 Players, 14.5ms\n",
      "video 1/1 (frame 348/772) d:\\AI\\yolo\\code\\notebook\\..\\..\\sources\\2man_game2.mp4: 288x640 1 Hoop, 3 Players, 14.8ms\n",
      "video 1/1 (frame 349/772) d:\\AI\\yolo\\code\\notebook\\..\\..\\sources\\2man_game2.mp4: 288x640 1 Hoop, 3 Players, 14.7ms\n",
      "video 1/1 (frame 350/772) d:\\AI\\yolo\\code\\notebook\\..\\..\\sources\\2man_game2.mp4: 288x640 1 Hoop, 3 Players, 11.0ms\n",
      "video 1/1 (frame 351/772) d:\\AI\\yolo\\code\\notebook\\..\\..\\sources\\2man_game2.mp4: 288x640 1 Hoop, 3 Players, 11.0ms\n",
      "video 1/1 (frame 352/772) d:\\AI\\yolo\\code\\notebook\\..\\..\\sources\\2man_game2.mp4: 288x640 1 Hoop, 3 Players, 12.3ms\n",
      "video 1/1 (frame 353/772) d:\\AI\\yolo\\code\\notebook\\..\\..\\sources\\2man_game2.mp4: 288x640 1 Hoop, 3 Players, 11.0ms\n",
      "video 1/1 (frame 354/772) d:\\AI\\yolo\\code\\notebook\\..\\..\\sources\\2man_game2.mp4: 288x640 1 Hoop, 3 Players, 11.1ms\n",
      "video 1/1 (frame 355/772) d:\\AI\\yolo\\code\\notebook\\..\\..\\sources\\2man_game2.mp4: 288x640 1 Hoop, 3 Players, 14.4ms\n",
      "video 1/1 (frame 356/772) d:\\AI\\yolo\\code\\notebook\\..\\..\\sources\\2man_game2.mp4: 288x640 1 Hoop, 3 Players, 14.5ms\n",
      "video 1/1 (frame 357/772) d:\\AI\\yolo\\code\\notebook\\..\\..\\sources\\2man_game2.mp4: 288x640 1 Hoop, 3 Players, 14.6ms\n",
      "video 1/1 (frame 358/772) d:\\AI\\yolo\\code\\notebook\\..\\..\\sources\\2man_game2.mp4: 288x640 1 Hoop, 3 Players, 14.9ms\n",
      "video 1/1 (frame 359/772) d:\\AI\\yolo\\code\\notebook\\..\\..\\sources\\2man_game2.mp4: 288x640 1 Hoop, 3 Players, 16.0ms\n",
      "video 1/1 (frame 360/772) d:\\AI\\yolo\\code\\notebook\\..\\..\\sources\\2man_game2.mp4: 288x640 1 Hoop, 3 Players, 11.0ms\n",
      "video 1/1 (frame 361/772) d:\\AI\\yolo\\code\\notebook\\..\\..\\sources\\2man_game2.mp4: 288x640 1 Hoop, 3 Players, 14.6ms\n",
      "video 1/1 (frame 362/772) d:\\AI\\yolo\\code\\notebook\\..\\..\\sources\\2man_game2.mp4: 288x640 1 Hoop, 3 Players, 14.4ms\n",
      "video 1/1 (frame 363/772) d:\\AI\\yolo\\code\\notebook\\..\\..\\sources\\2man_game2.mp4: 288x640 1 Hoop, 3 Players, 14.7ms\n",
      "video 1/1 (frame 364/772) d:\\AI\\yolo\\code\\notebook\\..\\..\\sources\\2man_game2.mp4: 288x640 1 Hoop, 3 Players, 11.0ms\n",
      "video 1/1 (frame 365/772) d:\\AI\\yolo\\code\\notebook\\..\\..\\sources\\2man_game2.mp4: 288x640 1 Hoop, 3 Players, 11.1ms\n",
      "video 1/1 (frame 366/772) d:\\AI\\yolo\\code\\notebook\\..\\..\\sources\\2man_game2.mp4: 288x640 1 Hoop, 3 Players, 10.9ms\n",
      "video 1/1 (frame 367/772) d:\\AI\\yolo\\code\\notebook\\..\\..\\sources\\2man_game2.mp4: 288x640 1 Hoop, 2 Players, 10.8ms\n",
      "video 1/1 (frame 368/772) d:\\AI\\yolo\\code\\notebook\\..\\..\\sources\\2man_game2.mp4: 288x640 1 Hoop, 2 Players, 11.0ms\n",
      "video 1/1 (frame 369/772) d:\\AI\\yolo\\code\\notebook\\..\\..\\sources\\2man_game2.mp4: 288x640 1 Hoop, 2 Players, 11.3ms\n",
      "video 1/1 (frame 370/772) d:\\AI\\yolo\\code\\notebook\\..\\..\\sources\\2man_game2.mp4: 288x640 1 Hoop, 2 Players, 10.9ms\n",
      "video 1/1 (frame 371/772) d:\\AI\\yolo\\code\\notebook\\..\\..\\sources\\2man_game2.mp4: 288x640 1 Hoop, 2 Players, 14.4ms\n",
      "video 1/1 (frame 372/772) d:\\AI\\yolo\\code\\notebook\\..\\..\\sources\\2man_game2.mp4: 288x640 1 Hoop, 2 Players, 14.5ms\n",
      "video 1/1 (frame 373/772) d:\\AI\\yolo\\code\\notebook\\..\\..\\sources\\2man_game2.mp4: 288x640 1 Hoop, 2 Players, 14.9ms\n",
      "video 1/1 (frame 374/772) d:\\AI\\yolo\\code\\notebook\\..\\..\\sources\\2man_game2.mp4: 288x640 1 Hoop, 2 Players, 16.1ms\n",
      "video 1/1 (frame 375/772) d:\\AI\\yolo\\code\\notebook\\..\\..\\sources\\2man_game2.mp4: 288x640 1 Hoop, 2 Players, 11.1ms\n",
      "video 1/1 (frame 376/772) d:\\AI\\yolo\\code\\notebook\\..\\..\\sources\\2man_game2.mp4: 288x640 1 Hoop, 2 Players, 14.5ms\n",
      "video 1/1 (frame 377/772) d:\\AI\\yolo\\code\\notebook\\..\\..\\sources\\2man_game2.mp4: 288x640 1 Hoop, 2 Players, 14.6ms\n",
      "video 1/1 (frame 378/772) d:\\AI\\yolo\\code\\notebook\\..\\..\\sources\\2man_game2.mp4: 288x640 1 Hoop, 2 Players, 15.1ms\n",
      "video 1/1 (frame 379/772) d:\\AI\\yolo\\code\\notebook\\..\\..\\sources\\2man_game2.mp4: 288x640 1 Hoop, 2 Players, 14.5ms\n",
      "video 1/1 (frame 380/772) d:\\AI\\yolo\\code\\notebook\\..\\..\\sources\\2man_game2.mp4: 288x640 1 Hoop, 2 Players, 11.7ms\n",
      "video 1/1 (frame 381/772) d:\\AI\\yolo\\code\\notebook\\..\\..\\sources\\2man_game2.mp4: 288x640 1 Hoop, 2 Players, 11.3ms\n",
      "video 1/1 (frame 382/772) d:\\AI\\yolo\\code\\notebook\\..\\..\\sources\\2man_game2.mp4: 288x640 1 Hoop, 2 Players, 11.0ms\n",
      "video 1/1 (frame 383/772) d:\\AI\\yolo\\code\\notebook\\..\\..\\sources\\2man_game2.mp4: 288x640 1 Hoop, 2 Players, 11.3ms\n",
      "video 1/1 (frame 384/772) d:\\AI\\yolo\\code\\notebook\\..\\..\\sources\\2man_game2.mp4: 288x640 1 Hoop, 2 Players, 11.7ms\n",
      "video 1/1 (frame 385/772) d:\\AI\\yolo\\code\\notebook\\..\\..\\sources\\2man_game2.mp4: 288x640 1 Hoop, 2 Players, 11.3ms\n",
      "video 1/1 (frame 386/772) d:\\AI\\yolo\\code\\notebook\\..\\..\\sources\\2man_game2.mp4: 288x640 1 Hoop, 2 Players, 14.5ms\n",
      "video 1/1 (frame 387/772) d:\\AI\\yolo\\code\\notebook\\..\\..\\sources\\2man_game2.mp4: 288x640 1 Hoop, 2 Players, 14.7ms\n",
      "video 1/1 (frame 388/772) d:\\AI\\yolo\\code\\notebook\\..\\..\\sources\\2man_game2.mp4: 288x640 1 Hoop, 2 Players, 14.3ms\n",
      "video 1/1 (frame 389/772) d:\\AI\\yolo\\code\\notebook\\..\\..\\sources\\2man_game2.mp4: 288x640 1 Hoop, 2 Players, 11.3ms\n",
      "video 1/1 (frame 390/772) d:\\AI\\yolo\\code\\notebook\\..\\..\\sources\\2man_game2.mp4: 288x640 1 Hoop, 2 Players, 12.1ms\n",
      "video 1/1 (frame 391/772) d:\\AI\\yolo\\code\\notebook\\..\\..\\sources\\2man_game2.mp4: 288x640 1 Hoop, 2 Players, 14.9ms\n",
      "video 1/1 (frame 392/772) d:\\AI\\yolo\\code\\notebook\\..\\..\\sources\\2man_game2.mp4: 288x640 1 Hoop, 2 Players, 15.9ms\n",
      "video 1/1 (frame 393/772) d:\\AI\\yolo\\code\\notebook\\..\\..\\sources\\2man_game2.mp4: 288x640 1 Hoop, 2 Players, 14.2ms\n",
      "video 1/1 (frame 394/772) d:\\AI\\yolo\\code\\notebook\\..\\..\\sources\\2man_game2.mp4: 288x640 1 Hoop, 2 Players, 11.6ms\n",
      "video 1/1 (frame 395/772) d:\\AI\\yolo\\code\\notebook\\..\\..\\sources\\2man_game2.mp4: 288x640 1 Hoop, 2 Players, 11.5ms\n",
      "video 1/1 (frame 396/772) d:\\AI\\yolo\\code\\notebook\\..\\..\\sources\\2man_game2.mp4: 288x640 1 Hoop, 2 Players, 10.7ms\n",
      "video 1/1 (frame 397/772) d:\\AI\\yolo\\code\\notebook\\..\\..\\sources\\2man_game2.mp4: 288x640 1 Hoop, 2 Players, 14.3ms\n",
      "video 1/1 (frame 398/772) d:\\AI\\yolo\\code\\notebook\\..\\..\\sources\\2man_game2.mp4: 288x640 1 Hoop, 2 Players, 14.2ms\n",
      "video 1/1 (frame 399/772) d:\\AI\\yolo\\code\\notebook\\..\\..\\sources\\2man_game2.mp4: 288x640 1 Hoop, 2 Players, 11.0ms\n",
      "video 1/1 (frame 400/772) d:\\AI\\yolo\\code\\notebook\\..\\..\\sources\\2man_game2.mp4: 288x640 1 Hoop, 2 Players, 18.5ms\n",
      "video 1/1 (frame 401/772) d:\\AI\\yolo\\code\\notebook\\..\\..\\sources\\2man_game2.mp4: 288x640 1 Hoop, 2 Players, 14.9ms\n",
      "video 1/1 (frame 402/772) d:\\AI\\yolo\\code\\notebook\\..\\..\\sources\\2man_game2.mp4: 288x640 1 Hoop, 2 Players, 16.6ms\n",
      "video 1/1 (frame 403/772) d:\\AI\\yolo\\code\\notebook\\..\\..\\sources\\2man_game2.mp4: 288x640 1 Hoop, 2 Players, 11.2ms\n",
      "video 1/1 (frame 404/772) d:\\AI\\yolo\\code\\notebook\\..\\..\\sources\\2man_game2.mp4: 288x640 1 Hoop, 2 Players, 11.5ms\n",
      "video 1/1 (frame 405/772) d:\\AI\\yolo\\code\\notebook\\..\\..\\sources\\2man_game2.mp4: 288x640 1 Hoop, 2 Players, 14.5ms\n",
      "video 1/1 (frame 406/772) d:\\AI\\yolo\\code\\notebook\\..\\..\\sources\\2man_game2.mp4: 288x640 1 Hoop, 2 Players, 14.4ms\n",
      "video 1/1 (frame 407/772) d:\\AI\\yolo\\code\\notebook\\..\\..\\sources\\2man_game2.mp4: 288x640 1 Hoop, 2 Players, 14.0ms\n",
      "video 1/1 (frame 408/772) d:\\AI\\yolo\\code\\notebook\\..\\..\\sources\\2man_game2.mp4: 288x640 1 Hoop, 2 Players, 14.3ms\n",
      "video 1/1 (frame 409/772) d:\\AI\\yolo\\code\\notebook\\..\\..\\sources\\2man_game2.mp4: 288x640 1 Hoop, 2 Players, 15.8ms\n",
      "video 1/1 (frame 410/772) d:\\AI\\yolo\\code\\notebook\\..\\..\\sources\\2man_game2.mp4: 288x640 1 Hoop, 2 Players, 14.0ms\n",
      "video 1/1 (frame 411/772) d:\\AI\\yolo\\code\\notebook\\..\\..\\sources\\2man_game2.mp4: 288x640 1 Hoop, 2 Players, 10.6ms\n",
      "video 1/1 (frame 412/772) d:\\AI\\yolo\\code\\notebook\\..\\..\\sources\\2man_game2.mp4: 288x640 1 Hoop, 2 Players, 10.8ms\n",
      "video 1/1 (frame 413/772) d:\\AI\\yolo\\code\\notebook\\..\\..\\sources\\2man_game2.mp4: 288x640 1 Hoop, 2 Players, 14.1ms\n",
      "video 1/1 (frame 414/772) d:\\AI\\yolo\\code\\notebook\\..\\..\\sources\\2man_game2.mp4: 288x640 1 Hoop, 2 Players, 14.2ms\n",
      "video 1/1 (frame 415/772) d:\\AI\\yolo\\code\\notebook\\..\\..\\sources\\2man_game2.mp4: 288x640 1 Hoop, 2 Players, 14.1ms\n",
      "video 1/1 (frame 416/772) d:\\AI\\yolo\\code\\notebook\\..\\..\\sources\\2man_game2.mp4: 288x640 1 Hoop, 2 Players, 12.0ms\n",
      "video 1/1 (frame 417/772) d:\\AI\\yolo\\code\\notebook\\..\\..\\sources\\2man_game2.mp4: 288x640 1 Hoop, 2 Players, 14.3ms\n",
      "video 1/1 (frame 418/772) d:\\AI\\yolo\\code\\notebook\\..\\..\\sources\\2man_game2.mp4: 288x640 1 Hoop, 2 Players, 14.9ms\n",
      "video 1/1 (frame 419/772) d:\\AI\\yolo\\code\\notebook\\..\\..\\sources\\2man_game2.mp4: 288x640 1 Hoop, 2 Players, 14.3ms\n",
      "video 1/1 (frame 420/772) d:\\AI\\yolo\\code\\notebook\\..\\..\\sources\\2man_game2.mp4: 288x640 1 Hoop, 2 Players, 14.4ms\n",
      "video 1/1 (frame 421/772) d:\\AI\\yolo\\code\\notebook\\..\\..\\sources\\2man_game2.mp4: 288x640 1 Hoop, 2 Players, 10.7ms\n",
      "video 1/1 (frame 422/772) d:\\AI\\yolo\\code\\notebook\\..\\..\\sources\\2man_game2.mp4: 288x640 1 Hoop, 2 Players, 10.7ms\n",
      "video 1/1 (frame 423/772) d:\\AI\\yolo\\code\\notebook\\..\\..\\sources\\2man_game2.mp4: 288x640 1 Hoop, 2 Players, 10.6ms\n",
      "video 1/1 (frame 424/772) d:\\AI\\yolo\\code\\notebook\\..\\..\\sources\\2man_game2.mp4: 288x640 1 Hoop, 2 Players, 10.7ms\n",
      "video 1/1 (frame 425/772) d:\\AI\\yolo\\code\\notebook\\..\\..\\sources\\2man_game2.mp4: 288x640 1 Hoop, 2 Players, 10.7ms\n",
      "video 1/1 (frame 426/772) d:\\AI\\yolo\\code\\notebook\\..\\..\\sources\\2man_game2.mp4: 288x640 1 Hoop, 2 Players, 10.8ms\n",
      "video 1/1 (frame 427/772) d:\\AI\\yolo\\code\\notebook\\..\\..\\sources\\2man_game2.mp4: 288x640 1 Hoop, 2 Players, 14.0ms\n",
      "video 1/1 (frame 428/772) d:\\AI\\yolo\\code\\notebook\\..\\..\\sources\\2man_game2.mp4: 288x640 1 Hoop, 2 Players, 14.2ms\n",
      "video 1/1 (frame 429/772) d:\\AI\\yolo\\code\\notebook\\..\\..\\sources\\2man_game2.mp4: 288x640 1 Hoop, 2 Players, 15.7ms\n",
      "video 1/1 (frame 430/772) d:\\AI\\yolo\\code\\notebook\\..\\..\\sources\\2man_game2.mp4: 288x640 1 Hoop, 2 Players, 10.7ms\n",
      "video 1/1 (frame 431/772) d:\\AI\\yolo\\code\\notebook\\..\\..\\sources\\2man_game2.mp4: 288x640 1 Hoop, 2 Players, 14.1ms\n",
      "video 1/1 (frame 432/772) d:\\AI\\yolo\\code\\notebook\\..\\..\\sources\\2man_game2.mp4: 288x640 1 Hoop, 2 Players, 10.8ms\n",
      "video 1/1 (frame 433/772) d:\\AI\\yolo\\code\\notebook\\..\\..\\sources\\2man_game2.mp4: 288x640 1 Hoop, 2 Players, 10.7ms\n",
      "video 1/1 (frame 434/772) d:\\AI\\yolo\\code\\notebook\\..\\..\\sources\\2man_game2.mp4: 288x640 1 Hoop, 2 Players, 14.3ms\n",
      "video 1/1 (frame 435/772) d:\\AI\\yolo\\code\\notebook\\..\\..\\sources\\2man_game2.mp4: 288x640 1 Hoop, 2 Players, 10.9ms\n",
      "video 1/1 (frame 436/772) d:\\AI\\yolo\\code\\notebook\\..\\..\\sources\\2man_game2.mp4: 288x640 1 Hoop, 2 Players, 14.7ms\n",
      "video 1/1 (frame 437/772) d:\\AI\\yolo\\code\\notebook\\..\\..\\sources\\2man_game2.mp4: 288x640 1 Hoop, 2 Players, 14.4ms\n",
      "video 1/1 (frame 438/772) d:\\AI\\yolo\\code\\notebook\\..\\..\\sources\\2man_game2.mp4: 288x640 1 Hoop, 2 Players, 14.3ms\n",
      "video 1/1 (frame 439/772) d:\\AI\\yolo\\code\\notebook\\..\\..\\sources\\2man_game2.mp4: 288x640 1 Hoop, 2 Players, 10.9ms\n",
      "video 1/1 (frame 440/772) d:\\AI\\yolo\\code\\notebook\\..\\..\\sources\\2man_game2.mp4: 288x640 1 Hoop, 2 Players, 10.9ms\n",
      "video 1/1 (frame 441/772) d:\\AI\\yolo\\code\\notebook\\..\\..\\sources\\2man_game2.mp4: 288x640 1 Hoop, 2 Players, 14.1ms\n",
      "video 1/1 (frame 442/772) d:\\AI\\yolo\\code\\notebook\\..\\..\\sources\\2man_game2.mp4: 288x640 1 Hoop, 2 Players, 15.3ms\n",
      "video 1/1 (frame 443/772) d:\\AI\\yolo\\code\\notebook\\..\\..\\sources\\2man_game2.mp4: 288x640 1 Hoop, 2 Players, 14.2ms\n",
      "video 1/1 (frame 444/772) d:\\AI\\yolo\\code\\notebook\\..\\..\\sources\\2man_game2.mp4: 288x640 1 Hoop, 2 Players, 11.2ms\n",
      "video 1/1 (frame 445/772) d:\\AI\\yolo\\code\\notebook\\..\\..\\sources\\2man_game2.mp4: 288x640 1 Hoop, 2 Players, 10.7ms\n",
      "video 1/1 (frame 446/772) d:\\AI\\yolo\\code\\notebook\\..\\..\\sources\\2man_game2.mp4: 288x640 1 Hoop, 2 Players, 14.8ms\n",
      "video 1/1 (frame 447/772) d:\\AI\\yolo\\code\\notebook\\..\\..\\sources\\2man_game2.mp4: 288x640 1 Hoop, 2 Players, 15.8ms\n",
      "video 1/1 (frame 448/772) d:\\AI\\yolo\\code\\notebook\\..\\..\\sources\\2man_game2.mp4: 288x640 1 Hoop, 2 Players, 14.4ms\n",
      "video 1/1 (frame 449/772) d:\\AI\\yolo\\code\\notebook\\..\\..\\sources\\2man_game2.mp4: 288x640 1 Hoop, 2 Players, 14.3ms\n",
      "video 1/1 (frame 450/772) d:\\AI\\yolo\\code\\notebook\\..\\..\\sources\\2man_game2.mp4: 288x640 1 Hoop, 2 Players, 15.0ms\n",
      "video 1/1 (frame 451/772) d:\\AI\\yolo\\code\\notebook\\..\\..\\sources\\2man_game2.mp4: 288x640 1 Hoop, 2 Players, 10.9ms\n",
      "video 1/1 (frame 452/772) d:\\AI\\yolo\\code\\notebook\\..\\..\\sources\\2man_game2.mp4: 288x640 1 Hoop, 2 Players, 11.1ms\n",
      "video 1/1 (frame 453/772) d:\\AI\\yolo\\code\\notebook\\..\\..\\sources\\2man_game2.mp4: 288x640 1 Hoop, 2 Players, 11.0ms\n",
      "video 1/1 (frame 454/772) d:\\AI\\yolo\\code\\notebook\\..\\..\\sources\\2man_game2.mp4: 288x640 1 Hoop, 2 Players, 10.9ms\n",
      "video 1/1 (frame 455/772) d:\\AI\\yolo\\code\\notebook\\..\\..\\sources\\2man_game2.mp4: 288x640 1 Hoop, 2 Players, 11.5ms\n",
      "video 1/1 (frame 456/772) d:\\AI\\yolo\\code\\notebook\\..\\..\\sources\\2man_game2.mp4: 288x640 1 Hoop, 2 Players, 13.4ms\n",
      "video 1/1 (frame 457/772) d:\\AI\\yolo\\code\\notebook\\..\\..\\sources\\2man_game2.mp4: 288x640 1 Hoop, 2 Players, 14.8ms\n",
      "video 1/1 (frame 458/772) d:\\AI\\yolo\\code\\notebook\\..\\..\\sources\\2man_game2.mp4: 288x640 1 Hoop, 2 Players, 14.7ms\n",
      "video 1/1 (frame 459/772) d:\\AI\\yolo\\code\\notebook\\..\\..\\sources\\2man_game2.mp4: 288x640 1 Hoop, 2 Players, 14.7ms\n",
      "video 1/1 (frame 460/772) d:\\AI\\yolo\\code\\notebook\\..\\..\\sources\\2man_game2.mp4: 288x640 1 Hoop, 2 Players, 11.1ms\n",
      "video 1/1 (frame 461/772) d:\\AI\\yolo\\code\\notebook\\..\\..\\sources\\2man_game2.mp4: 288x640 1 Hoop, 2 Players, 11.3ms\n",
      "video 1/1 (frame 462/772) d:\\AI\\yolo\\code\\notebook\\..\\..\\sources\\2man_game2.mp4: 288x640 1 Hoop, 2 Players, 14.7ms\n",
      "video 1/1 (frame 463/772) d:\\AI\\yolo\\code\\notebook\\..\\..\\sources\\2man_game2.mp4: 288x640 1 Hoop, 2 Players, 14.5ms\n",
      "video 1/1 (frame 464/772) d:\\AI\\yolo\\code\\notebook\\..\\..\\sources\\2man_game2.mp4: 288x640 1 Hoop, 2 Players, 14.7ms\n",
      "video 1/1 (frame 465/772) d:\\AI\\yolo\\code\\notebook\\..\\..\\sources\\2man_game2.mp4: 288x640 1 Hoop, 2 Players, 14.4ms\n",
      "video 1/1 (frame 466/772) d:\\AI\\yolo\\code\\notebook\\..\\..\\sources\\2man_game2.mp4: 288x640 1 Hoop, 2 Players, 11.3ms\n",
      "video 1/1 (frame 467/772) d:\\AI\\yolo\\code\\notebook\\..\\..\\sources\\2man_game2.mp4: 288x640 1 Hoop, 2 Players, 11.2ms\n",
      "video 1/1 (frame 468/772) d:\\AI\\yolo\\code\\notebook\\..\\..\\sources\\2man_game2.mp4: 288x640 1 Hoop, 2 Players, 14.9ms\n",
      "video 1/1 (frame 469/772) d:\\AI\\yolo\\code\\notebook\\..\\..\\sources\\2man_game2.mp4: 288x640 1 Hoop, 2 Players, 14.8ms\n",
      "video 1/1 (frame 470/772) d:\\AI\\yolo\\code\\notebook\\..\\..\\sources\\2man_game2.mp4: 288x640 1 Hoop, 2 Players, 15.0ms\n",
      "video 1/1 (frame 471/772) d:\\AI\\yolo\\code\\notebook\\..\\..\\sources\\2man_game2.mp4: 288x640 1 Hoop, 2 Players, 15.0ms\n",
      "video 1/1 (frame 472/772) d:\\AI\\yolo\\code\\notebook\\..\\..\\sources\\2man_game2.mp4: 288x640 1 Hoop, 2 Players, 11.1ms\n",
      "video 1/1 (frame 473/772) d:\\AI\\yolo\\code\\notebook\\..\\..\\sources\\2man_game2.mp4: 288x640 1 Hoop, 2 Players, 10.9ms\n",
      "video 1/1 (frame 474/772) d:\\AI\\yolo\\code\\notebook\\..\\..\\sources\\2man_game2.mp4: 288x640 1 Hoop, 2 Players, 11.0ms\n",
      "video 1/1 (frame 475/772) d:\\AI\\yolo\\code\\notebook\\..\\..\\sources\\2man_game2.mp4: 288x640 1 Hoop, 2 Players, 10.8ms\n",
      "video 1/1 (frame 476/772) d:\\AI\\yolo\\code\\notebook\\..\\..\\sources\\2man_game2.mp4: 288x640 1 Hoop, 2 Players, 14.2ms\n",
      "video 1/1 (frame 477/772) d:\\AI\\yolo\\code\\notebook\\..\\..\\sources\\2man_game2.mp4: 288x640 1 Hoop, 2 Players, 14.3ms\n",
      "video 1/1 (frame 478/772) d:\\AI\\yolo\\code\\notebook\\..\\..\\sources\\2man_game2.mp4: 288x640 1 Hoop, 2 Players, 10.8ms\n",
      "video 1/1 (frame 479/772) d:\\AI\\yolo\\code\\notebook\\..\\..\\sources\\2man_game2.mp4: 288x640 1 Hoop, 2 Players, 14.3ms\n",
      "video 1/1 (frame 480/772) d:\\AI\\yolo\\code\\notebook\\..\\..\\sources\\2man_game2.mp4: 288x640 1 Hoop, 2 Players, 14.3ms\n",
      "video 1/1 (frame 481/772) d:\\AI\\yolo\\code\\notebook\\..\\..\\sources\\2man_game2.mp4: 288x640 1 Hoop, 2 Players, 14.3ms\n",
      "video 1/1 (frame 482/772) d:\\AI\\yolo\\code\\notebook\\..\\..\\sources\\2man_game2.mp4: 288x640 1 Hoop, 2 Players, 14.4ms\n",
      "video 1/1 (frame 483/772) d:\\AI\\yolo\\code\\notebook\\..\\..\\sources\\2man_game2.mp4: 288x640 1 Hoop, 2 Players, 11.1ms\n",
      "video 1/1 (frame 484/772) d:\\AI\\yolo\\code\\notebook\\..\\..\\sources\\2man_game2.mp4: 288x640 1 Hoop, 2 Players, 10.9ms\n",
      "video 1/1 (frame 485/772) d:\\AI\\yolo\\code\\notebook\\..\\..\\sources\\2man_game2.mp4: 288x640 1 Hoop, 2 Players, 10.8ms\n",
      "video 1/1 (frame 486/772) d:\\AI\\yolo\\code\\notebook\\..\\..\\sources\\2man_game2.mp4: 288x640 1 Hoop, 2 Players, 10.8ms\n",
      "video 1/1 (frame 487/772) d:\\AI\\yolo\\code\\notebook\\..\\..\\sources\\2man_game2.mp4: 288x640 1 Hoop, 2 Players, 10.7ms\n",
      "video 1/1 (frame 488/772) d:\\AI\\yolo\\code\\notebook\\..\\..\\sources\\2man_game2.mp4: 288x640 1 Hoop, 2 Players, 14.5ms\n",
      "video 1/1 (frame 489/772) d:\\AI\\yolo\\code\\notebook\\..\\..\\sources\\2man_game2.mp4: 288x640 1 Hoop, 2 Players, 10.9ms\n",
      "video 1/1 (frame 490/772) d:\\AI\\yolo\\code\\notebook\\..\\..\\sources\\2man_game2.mp4: 288x640 1 Hoop, 2 Players, 14.5ms\n",
      "video 1/1 (frame 491/772) d:\\AI\\yolo\\code\\notebook\\..\\..\\sources\\2man_game2.mp4: 288x640 1 Hoop, 2 Players, 14.8ms\n",
      "video 1/1 (frame 492/772) d:\\AI\\yolo\\code\\notebook\\..\\..\\sources\\2man_game2.mp4: 288x640 1 Hoop, 2 Players, 14.4ms\n",
      "video 1/1 (frame 493/772) d:\\AI\\yolo\\code\\notebook\\..\\..\\sources\\2man_game2.mp4: 288x640 1 Hoop, 2 Players, 14.4ms\n",
      "video 1/1 (frame 494/772) d:\\AI\\yolo\\code\\notebook\\..\\..\\sources\\2man_game2.mp4: 288x640 1 Hoop, 2 Players, 10.9ms\n",
      "video 1/1 (frame 495/772) d:\\AI\\yolo\\code\\notebook\\..\\..\\sources\\2man_game2.mp4: 288x640 1 Hoop, 2 Players, 10.9ms\n",
      "video 1/1 (frame 496/772) d:\\AI\\yolo\\code\\notebook\\..\\..\\sources\\2man_game2.mp4: 288x640 1 Hoop, 2 Players, 10.8ms\n",
      "video 1/1 (frame 497/772) d:\\AI\\yolo\\code\\notebook\\..\\..\\sources\\2man_game2.mp4: 288x640 1 Hoop, 2 Players, 10.7ms\n",
      "video 1/1 (frame 498/772) d:\\AI\\yolo\\code\\notebook\\..\\..\\sources\\2man_game2.mp4: 288x640 1 Hoop, 2 Players, 10.8ms\n",
      "video 1/1 (frame 499/772) d:\\AI\\yolo\\code\\notebook\\..\\..\\sources\\2man_game2.mp4: 288x640 1 Hoop, 2 Players, 10.9ms\n",
      "video 1/1 (frame 500/772) d:\\AI\\yolo\\code\\notebook\\..\\..\\sources\\2man_game2.mp4: 288x640 1 Hoop, 2 Players, 10.9ms\n",
      "video 1/1 (frame 501/772) d:\\AI\\yolo\\code\\notebook\\..\\..\\sources\\2man_game2.mp4: 288x640 1 Hoop, 2 Players, 14.3ms\n",
      "video 1/1 (frame 502/772) d:\\AI\\yolo\\code\\notebook\\..\\..\\sources\\2man_game2.mp4: 288x640 1 Hoop, 2 Players, 14.1ms\n",
      "video 1/1 (frame 503/772) d:\\AI\\yolo\\code\\notebook\\..\\..\\sources\\2man_game2.mp4: 288x640 1 Hoop, 2 Players, 14.3ms\n",
      "video 1/1 (frame 504/772) d:\\AI\\yolo\\code\\notebook\\..\\..\\sources\\2man_game2.mp4: 288x640 1 Hoop, 2 Players, 14.2ms\n",
      "video 1/1 (frame 505/772) d:\\AI\\yolo\\code\\notebook\\..\\..\\sources\\2man_game2.mp4: 288x640 1 Hoop, 2 Players, 10.9ms\n",
      "video 1/1 (frame 506/772) d:\\AI\\yolo\\code\\notebook\\..\\..\\sources\\2man_game2.mp4: 288x640 1 Hoop, 2 Players, 13.9ms\n",
      "video 1/1 (frame 507/772) d:\\AI\\yolo\\code\\notebook\\..\\..\\sources\\2man_game2.mp4: 288x640 1 Hoop, 2 Players, 14.4ms\n",
      "video 1/1 (frame 508/772) d:\\AI\\yolo\\code\\notebook\\..\\..\\sources\\2man_game2.mp4: 288x640 1 Hoop, 2 Players, 10.9ms\n",
      "video 1/1 (frame 509/772) d:\\AI\\yolo\\code\\notebook\\..\\..\\sources\\2man_game2.mp4: 288x640 1 Hoop, 2 Players, 10.8ms\n",
      "video 1/1 (frame 510/772) d:\\AI\\yolo\\code\\notebook\\..\\..\\sources\\2man_game2.mp4: 288x640 1 Hoop, 2 Players, 10.9ms\n",
      "video 1/1 (frame 511/772) d:\\AI\\yolo\\code\\notebook\\..\\..\\sources\\2man_game2.mp4: 288x640 1 Hoop, 2 Players, 12.8ms\n",
      "video 1/1 (frame 512/772) d:\\AI\\yolo\\code\\notebook\\..\\..\\sources\\2man_game2.mp4: 288x640 1 Hoop, 2 Players, 14.7ms\n",
      "video 1/1 (frame 513/772) d:\\AI\\yolo\\code\\notebook\\..\\..\\sources\\2man_game2.mp4: 288x640 1 Hoop, 2 Players, 14.7ms\n",
      "video 1/1 (frame 514/772) d:\\AI\\yolo\\code\\notebook\\..\\..\\sources\\2man_game2.mp4: 288x640 1 Hoop, 2 Players, 14.6ms\n",
      "video 1/1 (frame 515/772) d:\\AI\\yolo\\code\\notebook\\..\\..\\sources\\2man_game2.mp4: 288x640 1 Hoop, 2 Players, 11.1ms\n",
      "video 1/1 (frame 516/772) d:\\AI\\yolo\\code\\notebook\\..\\..\\sources\\2man_game2.mp4: 288x640 1 Hoop, 2 Players, 13.3ms\n",
      "video 1/1 (frame 517/772) d:\\AI\\yolo\\code\\notebook\\..\\..\\sources\\2man_game2.mp4: 288x640 1 Hoop, 1 Player, 14.4ms\n",
      "video 1/1 (frame 518/772) d:\\AI\\yolo\\code\\notebook\\..\\..\\sources\\2man_game2.mp4: 288x640 1 Hoop, 1 Player, 14.5ms\n",
      "video 1/1 (frame 519/772) d:\\AI\\yolo\\code\\notebook\\..\\..\\sources\\2man_game2.mp4: 288x640 1 Hoop, 1 Player, 14.5ms\n",
      "video 1/1 (frame 520/772) d:\\AI\\yolo\\code\\notebook\\..\\..\\sources\\2man_game2.mp4: 288x640 1 Ball, 1 Hoop, 1 Player, 10.9ms\n",
      "video 1/1 (frame 521/772) d:\\AI\\yolo\\code\\notebook\\..\\..\\sources\\2man_game2.mp4: 288x640 1 Hoop, 1 Player, 10.9ms\n",
      "video 1/1 (frame 522/772) d:\\AI\\yolo\\code\\notebook\\..\\..\\sources\\2man_game2.mp4: 288x640 1 Hoop, 1 Player, 10.9ms\n",
      "video 1/1 (frame 523/772) d:\\AI\\yolo\\code\\notebook\\..\\..\\sources\\2man_game2.mp4: 288x640 1 Hoop, 1 Player, 10.8ms\n",
      "video 1/1 (frame 524/772) d:\\AI\\yolo\\code\\notebook\\..\\..\\sources\\2man_game2.mp4: 288x640 1 Hoop, 1 Player, 10.9ms\n",
      "video 1/1 (frame 525/772) d:\\AI\\yolo\\code\\notebook\\..\\..\\sources\\2man_game2.mp4: 288x640 1 Hoop, 1 Player, 10.9ms\n",
      "video 1/1 (frame 526/772) d:\\AI\\yolo\\code\\notebook\\..\\..\\sources\\2man_game2.mp4: 288x640 1 Hoop, 1 Player, 10.9ms\n",
      "video 1/1 (frame 527/772) d:\\AI\\yolo\\code\\notebook\\..\\..\\sources\\2man_game2.mp4: 288x640 1 Hoop, 1 Player, 14.6ms\n",
      "video 1/1 (frame 528/772) d:\\AI\\yolo\\code\\notebook\\..\\..\\sources\\2man_game2.mp4: 288x640 1 Hoop, 2 Players, 14.5ms\n",
      "video 1/1 (frame 529/772) d:\\AI\\yolo\\code\\notebook\\..\\..\\sources\\2man_game2.mp4: 288x640 1 Hoop, 2 Players, 14.4ms\n",
      "video 1/1 (frame 530/772) d:\\AI\\yolo\\code\\notebook\\..\\..\\sources\\2man_game2.mp4: 288x640 1 Hoop, 2 Players, 10.9ms\n",
      "video 1/1 (frame 531/772) d:\\AI\\yolo\\code\\notebook\\..\\..\\sources\\2man_game2.mp4: 288x640 1 Hoop, 2 Players, 10.8ms\n",
      "video 1/1 (frame 532/772) d:\\AI\\yolo\\code\\notebook\\..\\..\\sources\\2man_game2.mp4: 288x640 1 Hoop, 2 Players, 10.8ms\n",
      "video 1/1 (frame 533/772) d:\\AI\\yolo\\code\\notebook\\..\\..\\sources\\2man_game2.mp4: 288x640 1 Hoop, 2 Players, 10.8ms\n",
      "video 1/1 (frame 534/772) d:\\AI\\yolo\\code\\notebook\\..\\..\\sources\\2man_game2.mp4: 288x640 1 Hoop, 2 Players, 10.8ms\n",
      "video 1/1 (frame 535/772) d:\\AI\\yolo\\code\\notebook\\..\\..\\sources\\2man_game2.mp4: 288x640 1 Hoop, 2 Players, 13.3ms\n",
      "video 1/1 (frame 536/772) d:\\AI\\yolo\\code\\notebook\\..\\..\\sources\\2man_game2.mp4: 288x640 1 Hoop, 2 Players, 10.9ms\n",
      "video 1/1 (frame 537/772) d:\\AI\\yolo\\code\\notebook\\..\\..\\sources\\2man_game2.mp4: 288x640 1 Hoop, 2 Players, 14.9ms\n",
      "video 1/1 (frame 538/772) d:\\AI\\yolo\\code\\notebook\\..\\..\\sources\\2man_game2.mp4: 288x640 1 Hoop, 2 Players, 14.3ms\n",
      "video 1/1 (frame 539/772) d:\\AI\\yolo\\code\\notebook\\..\\..\\sources\\2man_game2.mp4: 288x640 1 Hoop, 2 Players, 14.7ms\n",
      "video 1/1 (frame 540/772) d:\\AI\\yolo\\code\\notebook\\..\\..\\sources\\2man_game2.mp4: 288x640 1 Hoop, 2 Players, 14.2ms\n",
      "video 1/1 (frame 541/772) d:\\AI\\yolo\\code\\notebook\\..\\..\\sources\\2man_game2.mp4: 288x640 1 Hoop, 2 Players, 11.4ms\n",
      "video 1/1 (frame 542/772) d:\\AI\\yolo\\code\\notebook\\..\\..\\sources\\2man_game2.mp4: 288x640 1 Hoop, 2 Players, 14.4ms\n",
      "video 1/1 (frame 543/772) d:\\AI\\yolo\\code\\notebook\\..\\..\\sources\\2man_game2.mp4: 288x640 1 Hoop, 2 Players, 14.5ms\n",
      "video 1/1 (frame 544/772) d:\\AI\\yolo\\code\\notebook\\..\\..\\sources\\2man_game2.mp4: 288x640 1 Hoop, 2 Players, 14.3ms\n",
      "video 1/1 (frame 545/772) d:\\AI\\yolo\\code\\notebook\\..\\..\\sources\\2man_game2.mp4: 288x640 1 Hoop, 2 Players, 11.1ms\n",
      "video 1/1 (frame 546/772) d:\\AI\\yolo\\code\\notebook\\..\\..\\sources\\2man_game2.mp4: 288x640 1 Hoop, 2 Players, 11.1ms\n",
      "video 1/1 (frame 547/772) d:\\AI\\yolo\\code\\notebook\\..\\..\\sources\\2man_game2.mp4: 288x640 1 Hoop, 2 Players, 10.8ms\n",
      "video 1/1 (frame 548/772) d:\\AI\\yolo\\code\\notebook\\..\\..\\sources\\2man_game2.mp4: 288x640 1 Hoop, 2 Players, 14.7ms\n",
      "video 1/1 (frame 549/772) d:\\AI\\yolo\\code\\notebook\\..\\..\\sources\\2man_game2.mp4: 288x640 1 Hoop, 2 Players, 14.7ms\n",
      "video 1/1 (frame 550/772) d:\\AI\\yolo\\code\\notebook\\..\\..\\sources\\2man_game2.mp4: 288x640 1 Hoop, 2 Players, 14.9ms\n",
      "video 1/1 (frame 551/772) d:\\AI\\yolo\\code\\notebook\\..\\..\\sources\\2man_game2.mp4: 288x640 1 Hoop, 2 Players, 10.9ms\n",
      "video 1/1 (frame 552/772) d:\\AI\\yolo\\code\\notebook\\..\\..\\sources\\2man_game2.mp4: 288x640 1 Hoop, 2 Players, 14.2ms\n",
      "video 1/1 (frame 553/772) d:\\AI\\yolo\\code\\notebook\\..\\..\\sources\\2man_game2.mp4: 288x640 1 Hoop, 2 Players, 14.5ms\n",
      "video 1/1 (frame 554/772) d:\\AI\\yolo\\code\\notebook\\..\\..\\sources\\2man_game2.mp4: 288x640 1 Hoop, 2 Players, 10.9ms\n",
      "video 1/1 (frame 555/772) d:\\AI\\yolo\\code\\notebook\\..\\..\\sources\\2man_game2.mp4: 288x640 1 Hoop, 2 Players, 10.7ms\n",
      "video 1/1 (frame 556/772) d:\\AI\\yolo\\code\\notebook\\..\\..\\sources\\2man_game2.mp4: 288x640 1 Hoop, 2 Players, 10.8ms\n",
      "video 1/1 (frame 557/772) d:\\AI\\yolo\\code\\notebook\\..\\..\\sources\\2man_game2.mp4: 288x640 1 Hoop, 2 Players, 10.8ms\n",
      "video 1/1 (frame 558/772) d:\\AI\\yolo\\code\\notebook\\..\\..\\sources\\2man_game2.mp4: 288x640 1 Hoop, 2 Players, 14.3ms\n",
      "video 1/1 (frame 559/772) d:\\AI\\yolo\\code\\notebook\\..\\..\\sources\\2man_game2.mp4: 288x640 1 Hoop, 2 Players, 14.2ms\n",
      "video 1/1 (frame 560/772) d:\\AI\\yolo\\code\\notebook\\..\\..\\sources\\2man_game2.mp4: 288x640 1 Hoop, 2 Players, 14.4ms\n",
      "video 1/1 (frame 561/772) d:\\AI\\yolo\\code\\notebook\\..\\..\\sources\\2man_game2.mp4: 288x640 1 Hoop, 1 Player, 10.9ms\n",
      "video 1/1 (frame 562/772) d:\\AI\\yolo\\code\\notebook\\..\\..\\sources\\2man_game2.mp4: 288x640 1 Hoop, 1 Player, 10.9ms\n",
      "video 1/1 (frame 563/772) d:\\AI\\yolo\\code\\notebook\\..\\..\\sources\\2man_game2.mp4: 288x640 1 Hoop, 1 Player, 15.4ms\n",
      "video 1/1 (frame 564/772) d:\\AI\\yolo\\code\\notebook\\..\\..\\sources\\2man_game2.mp4: 288x640 1 Hoop, 2 Players, 15.2ms\n",
      "video 1/1 (frame 565/772) d:\\AI\\yolo\\code\\notebook\\..\\..\\sources\\2man_game2.mp4: 288x640 1 Hoop, 14.2ms\n",
      "video 1/1 (frame 566/772) d:\\AI\\yolo\\code\\notebook\\..\\..\\sources\\2man_game2.mp4: 288x640 1 Hoop, 1 Player, 15.8ms\n",
      "video 1/1 (frame 567/772) d:\\AI\\yolo\\code\\notebook\\..\\..\\sources\\2man_game2.mp4: 288x640 1 Hoop, 2 Players, 10.8ms\n",
      "video 1/1 (frame 568/772) d:\\AI\\yolo\\code\\notebook\\..\\..\\sources\\2man_game2.mp4: 288x640 1 Hoop, 1 Player, 10.9ms\n",
      "video 1/1 (frame 569/772) d:\\AI\\yolo\\code\\notebook\\..\\..\\sources\\2man_game2.mp4: 288x640 1 Hoop, 1 Player, 14.3ms\n",
      "video 1/1 (frame 570/772) d:\\AI\\yolo\\code\\notebook\\..\\..\\sources\\2man_game2.mp4: 288x640 1 Hoop, 1 Player, 14.6ms\n",
      "video 1/1 (frame 571/772) d:\\AI\\yolo\\code\\notebook\\..\\..\\sources\\2man_game2.mp4: 288x640 1 Hoop, 1 Player, 11.1ms\n",
      "video 1/1 (frame 572/772) d:\\AI\\yolo\\code\\notebook\\..\\..\\sources\\2man_game2.mp4: 288x640 1 Hoop, 1 Player, 14.8ms\n",
      "video 1/1 (frame 573/772) d:\\AI\\yolo\\code\\notebook\\..\\..\\sources\\2man_game2.mp4: 288x640 1 Hoop, 1 Player, 14.9ms\n",
      "video 1/1 (frame 574/772) d:\\AI\\yolo\\code\\notebook\\..\\..\\sources\\2man_game2.mp4: 288x640 1 Hoop, 1 Player, 14.8ms\n",
      "video 1/1 (frame 575/772) d:\\AI\\yolo\\code\\notebook\\..\\..\\sources\\2man_game2.mp4: 288x640 1 Hoop, 1 Player, 14.5ms\n",
      "video 1/1 (frame 576/772) d:\\AI\\yolo\\code\\notebook\\..\\..\\sources\\2man_game2.mp4: 288x640 1 Hoop, 1 Player, 11.7ms\n",
      "video 1/1 (frame 577/772) d:\\AI\\yolo\\code\\notebook\\..\\..\\sources\\2man_game2.mp4: 288x640 1 Hoop, 1 Player, 11.7ms\n",
      "video 1/1 (frame 578/772) d:\\AI\\yolo\\code\\notebook\\..\\..\\sources\\2man_game2.mp4: 288x640 1 Hoop, 1 Player, 12.6ms\n",
      "video 1/1 (frame 579/772) d:\\AI\\yolo\\code\\notebook\\..\\..\\sources\\2man_game2.mp4: 288x640 1 Hoop, 2 Players, 11.3ms\n",
      "video 1/1 (frame 580/772) d:\\AI\\yolo\\code\\notebook\\..\\..\\sources\\2man_game2.mp4: 288x640 1 Hoop, 2 Players, 11.0ms\n",
      "video 1/1 (frame 581/772) d:\\AI\\yolo\\code\\notebook\\..\\..\\sources\\2man_game2.mp4: 288x640 1 Hoop, 2 Players, 14.5ms\n",
      "video 1/1 (frame 582/772) d:\\AI\\yolo\\code\\notebook\\..\\..\\sources\\2man_game2.mp4: 288x640 1 Hoop, 2 Players, 15.3ms\n",
      "video 1/1 (frame 583/772) d:\\AI\\yolo\\code\\notebook\\..\\..\\sources\\2man_game2.mp4: 288x640 1 Hoop, 1 Player, 14.6ms\n",
      "video 1/1 (frame 584/772) d:\\AI\\yolo\\code\\notebook\\..\\..\\sources\\2man_game2.mp4: 288x640 1 Hoop, 1 Player, 11.2ms\n",
      "video 1/1 (frame 585/772) d:\\AI\\yolo\\code\\notebook\\..\\..\\sources\\2man_game2.mp4: 288x640 1 Hoop, 1 Player, 11.3ms\n",
      "video 1/1 (frame 586/772) d:\\AI\\yolo\\code\\notebook\\..\\..\\sources\\2man_game2.mp4: 288x640 1 Hoop, 1 Player, 14.6ms\n",
      "video 1/1 (frame 587/772) d:\\AI\\yolo\\code\\notebook\\..\\..\\sources\\2man_game2.mp4: 288x640 1 Hoop, 1 Player, 15.9ms\n",
      "video 1/1 (frame 588/772) d:\\AI\\yolo\\code\\notebook\\..\\..\\sources\\2man_game2.mp4: 288x640 1 Hoop, 2 Players, 14.6ms\n",
      "video 1/1 (frame 589/772) d:\\AI\\yolo\\code\\notebook\\..\\..\\sources\\2man_game2.mp4: 288x640 1 Hoop, 2 Players, 15.2ms\n",
      "video 1/1 (frame 590/772) d:\\AI\\yolo\\code\\notebook\\..\\..\\sources\\2man_game2.mp4: 288x640 1 Hoop, 2 Players, 11.2ms\n",
      "video 1/1 (frame 591/772) d:\\AI\\yolo\\code\\notebook\\..\\..\\sources\\2man_game2.mp4: 288x640 1 Hoop, 2 Players, 11.1ms\n",
      "video 1/1 (frame 592/772) d:\\AI\\yolo\\code\\notebook\\..\\..\\sources\\2man_game2.mp4: 288x640 1 Hoop, 2 Players, 14.0ms\n",
      "video 1/1 (frame 593/772) d:\\AI\\yolo\\code\\notebook\\..\\..\\sources\\2man_game2.mp4: 288x640 1 Hoop, 2 Players, 15.3ms\n",
      "video 1/1 (frame 594/772) d:\\AI\\yolo\\code\\notebook\\..\\..\\sources\\2man_game2.mp4: 288x640 1 Hoop, 2 Players, 14.5ms\n",
      "video 1/1 (frame 595/772) d:\\AI\\yolo\\code\\notebook\\..\\..\\sources\\2man_game2.mp4: 288x640 1 Hoop, 2 Players, 14.4ms\n",
      "video 1/1 (frame 596/772) d:\\AI\\yolo\\code\\notebook\\..\\..\\sources\\2man_game2.mp4: 288x640 1 Hoop, 2 Players, 16.3ms\n",
      "video 1/1 (frame 597/772) d:\\AI\\yolo\\code\\notebook\\..\\..\\sources\\2man_game2.mp4: 288x640 1 Hoop, 2 Players, 14.2ms\n",
      "video 1/1 (frame 598/772) d:\\AI\\yolo\\code\\notebook\\..\\..\\sources\\2man_game2.mp4: 288x640 1 Hoop, 2 Players, 14.6ms\n",
      "video 1/1 (frame 599/772) d:\\AI\\yolo\\code\\notebook\\..\\..\\sources\\2man_game2.mp4: 288x640 1 Hoop, 2 Players, 14.9ms\n",
      "video 1/1 (frame 600/772) d:\\AI\\yolo\\code\\notebook\\..\\..\\sources\\2man_game2.mp4: 288x640 1 Hoop, 2 Players, 15.4ms\n",
      "video 1/1 (frame 601/772) d:\\AI\\yolo\\code\\notebook\\..\\..\\sources\\2man_game2.mp4: 288x640 1 Hoop, 2 Players, 14.6ms\n",
      "video 1/1 (frame 602/772) d:\\AI\\yolo\\code\\notebook\\..\\..\\sources\\2man_game2.mp4: 288x640 1 Hoop, 2 Players, 11.0ms\n",
      "video 1/1 (frame 603/772) d:\\AI\\yolo\\code\\notebook\\..\\..\\sources\\2man_game2.mp4: 288x640 1 Hoop, 1 Player, 1 Ref, 13.1ms\n",
      "video 1/1 (frame 604/772) d:\\AI\\yolo\\code\\notebook\\..\\..\\sources\\2man_game2.mp4: 288x640 1 Hoop, 2 Players, 14.7ms\n",
      "video 1/1 (frame 605/772) d:\\AI\\yolo\\code\\notebook\\..\\..\\sources\\2man_game2.mp4: 288x640 1 Hoop, 2 Players, 14.8ms\n",
      "video 1/1 (frame 606/772) d:\\AI\\yolo\\code\\notebook\\..\\..\\sources\\2man_game2.mp4: 288x640 1 Hoop, 2 Players, 14.4ms\n",
      "video 1/1 (frame 607/772) d:\\AI\\yolo\\code\\notebook\\..\\..\\sources\\2man_game2.mp4: 288x640 1 Hoop, 2 Players, 11.5ms\n",
      "video 1/1 (frame 608/772) d:\\AI\\yolo\\code\\notebook\\..\\..\\sources\\2man_game2.mp4: 288x640 1 Hoop, 2 Players, 14.6ms\n",
      "video 1/1 (frame 609/772) d:\\AI\\yolo\\code\\notebook\\..\\..\\sources\\2man_game2.mp4: 288x640 1 Hoop, 2 Players, 14.5ms\n",
      "video 1/1 (frame 610/772) d:\\AI\\yolo\\code\\notebook\\..\\..\\sources\\2man_game2.mp4: 288x640 1 Hoop, 2 Players, 14.5ms\n",
      "video 1/1 (frame 611/772) d:\\AI\\yolo\\code\\notebook\\..\\..\\sources\\2man_game2.mp4: 288x640 1 Hoop, 1 Player, 1 Ref, 14.5ms\n",
      "video 1/1 (frame 612/772) d:\\AI\\yolo\\code\\notebook\\..\\..\\sources\\2man_game2.mp4: 288x640 1 Hoop, 2 Players, 11.4ms\n",
      "video 1/1 (frame 613/772) d:\\AI\\yolo\\code\\notebook\\..\\..\\sources\\2man_game2.mp4: 288x640 1 Hoop, 2 Players, 11.0ms\n",
      "video 1/1 (frame 614/772) d:\\AI\\yolo\\code\\notebook\\..\\..\\sources\\2man_game2.mp4: 288x640 1 Hoop, 2 Players, 11.0ms\n",
      "video 1/1 (frame 615/772) d:\\AI\\yolo\\code\\notebook\\..\\..\\sources\\2man_game2.mp4: 288x640 1 Hoop, 2 Players, 10.9ms\n",
      "video 1/1 (frame 616/772) d:\\AI\\yolo\\code\\notebook\\..\\..\\sources\\2man_game2.mp4: 288x640 1 Hoop, 2 Players, 11.1ms\n",
      "video 1/1 (frame 617/772) d:\\AI\\yolo\\code\\notebook\\..\\..\\sources\\2man_game2.mp4: 288x640 1 Hoop, 2 Players, 11.6ms\n",
      "video 1/1 (frame 618/772) d:\\AI\\yolo\\code\\notebook\\..\\..\\sources\\2man_game2.mp4: 288x640 1 Hoop, 2 Players, 11.0ms\n",
      "video 1/1 (frame 619/772) d:\\AI\\yolo\\code\\notebook\\..\\..\\sources\\2man_game2.mp4: 288x640 1 Hoop, 2 Players, 14.4ms\n",
      "video 1/1 (frame 620/772) d:\\AI\\yolo\\code\\notebook\\..\\..\\sources\\2man_game2.mp4: 288x640 1 Hoop, 2 Players, 15.9ms\n",
      "video 1/1 (frame 621/772) d:\\AI\\yolo\\code\\notebook\\..\\..\\sources\\2man_game2.mp4: 288x640 1 Hoop, 2 Players, 14.7ms\n",
      "video 1/1 (frame 622/772) d:\\AI\\yolo\\code\\notebook\\..\\..\\sources\\2man_game2.mp4: 288x640 1 Hoop, 2 Players, 17.9ms\n",
      "video 1/1 (frame 623/772) d:\\AI\\yolo\\code\\notebook\\..\\..\\sources\\2man_game2.mp4: 288x640 1 Hoop, 2 Players, 11.2ms\n",
      "video 1/1 (frame 624/772) d:\\AI\\yolo\\code\\notebook\\..\\..\\sources\\2man_game2.mp4: 288x640 1 Hoop, 2 Players, 14.6ms\n",
      "video 1/1 (frame 625/772) d:\\AI\\yolo\\code\\notebook\\..\\..\\sources\\2man_game2.mp4: 288x640 1 Hoop, 2 Players, 14.6ms\n",
      "video 1/1 (frame 626/772) d:\\AI\\yolo\\code\\notebook\\..\\..\\sources\\2man_game2.mp4: 288x640 1 Hoop, 2 Players, 14.4ms\n",
      "video 1/1 (frame 627/772) d:\\AI\\yolo\\code\\notebook\\..\\..\\sources\\2man_game2.mp4: 288x640 1 Hoop, 2 Players, 10.7ms\n",
      "video 1/1 (frame 628/772) d:\\AI\\yolo\\code\\notebook\\..\\..\\sources\\2man_game2.mp4: 288x640 1 Hoop, 2 Players, 11.0ms\n",
      "video 1/1 (frame 629/772) d:\\AI\\yolo\\code\\notebook\\..\\..\\sources\\2man_game2.mp4: 288x640 1 Hoop, 2 Players, 10.8ms\n",
      "video 1/1 (frame 630/772) d:\\AI\\yolo\\code\\notebook\\..\\..\\sources\\2man_game2.mp4: 288x640 1 Hoop, 2 Players, 10.8ms\n",
      "video 1/1 (frame 631/772) d:\\AI\\yolo\\code\\notebook\\..\\..\\sources\\2man_game2.mp4: 288x640 1 Hoop, 2 Players, 11.4ms\n",
      "video 1/1 (frame 632/772) d:\\AI\\yolo\\code\\notebook\\..\\..\\sources\\2man_game2.mp4: 288x640 1 Hoop, 1 Player, 10.8ms\n",
      "video 1/1 (frame 633/772) d:\\AI\\yolo\\code\\notebook\\..\\..\\sources\\2man_game2.mp4: 288x640 1 Hoop, 1 Player, 10.9ms\n",
      "video 1/1 (frame 634/772) d:\\AI\\yolo\\code\\notebook\\..\\..\\sources\\2man_game2.mp4: 288x640 1 Hoop, 1 Player, 10.9ms\n",
      "video 1/1 (frame 635/772) d:\\AI\\yolo\\code\\notebook\\..\\..\\sources\\2man_game2.mp4: 288x640 1 Hoop, 1 Player, 14.3ms\n",
      "video 1/1 (frame 636/772) d:\\AI\\yolo\\code\\notebook\\..\\..\\sources\\2man_game2.mp4: 288x640 1 Hoop, 2 Players, 15.4ms\n",
      "video 1/1 (frame 637/772) d:\\AI\\yolo\\code\\notebook\\..\\..\\sources\\2man_game2.mp4: 288x640 1 Hoop, 2 Players, 11.0ms\n",
      "video 1/1 (frame 638/772) d:\\AI\\yolo\\code\\notebook\\..\\..\\sources\\2man_game2.mp4: 288x640 1 Hoop, 2 Players, 10.9ms\n",
      "video 1/1 (frame 639/772) d:\\AI\\yolo\\code\\notebook\\..\\..\\sources\\2man_game2.mp4: 288x640 1 Hoop, 2 Players, 12.6ms\n",
      "video 1/1 (frame 640/772) d:\\AI\\yolo\\code\\notebook\\..\\..\\sources\\2man_game2.mp4: 288x640 1 Hoop, 2 Players, 11.3ms\n",
      "video 1/1 (frame 641/772) d:\\AI\\yolo\\code\\notebook\\..\\..\\sources\\2man_game2.mp4: 288x640 1 Hoop, 2 Players, 10.9ms\n",
      "video 1/1 (frame 642/772) d:\\AI\\yolo\\code\\notebook\\..\\..\\sources\\2man_game2.mp4: 288x640 1 Hoop, 2 Players, 11.0ms\n",
      "video 1/1 (frame 643/772) d:\\AI\\yolo\\code\\notebook\\..\\..\\sources\\2man_game2.mp4: 288x640 1 Hoop, 2 Players, 12.4ms\n",
      "video 1/1 (frame 644/772) d:\\AI\\yolo\\code\\notebook\\..\\..\\sources\\2man_game2.mp4: 288x640 1 Hoop, 2 Players, 10.9ms\n",
      "video 1/1 (frame 645/772) d:\\AI\\yolo\\code\\notebook\\..\\..\\sources\\2man_game2.mp4: 288x640 1 Hoop, 2 Players, 15.1ms\n",
      "video 1/1 (frame 646/772) d:\\AI\\yolo\\code\\notebook\\..\\..\\sources\\2man_game2.mp4: 288x640 1 Hoop, 2 Players, 14.5ms\n",
      "video 1/1 (frame 647/772) d:\\AI\\yolo\\code\\notebook\\..\\..\\sources\\2man_game2.mp4: 288x640 1 Hoop, 2 Players, 14.6ms\n",
      "video 1/1 (frame 648/772) d:\\AI\\yolo\\code\\notebook\\..\\..\\sources\\2man_game2.mp4: 288x640 1 Hoop, 2 Players, 10.8ms\n",
      "video 1/1 (frame 649/772) d:\\AI\\yolo\\code\\notebook\\..\\..\\sources\\2man_game2.mp4: 288x640 1 Hoop, 2 Players, 11.0ms\n",
      "video 1/1 (frame 650/772) d:\\AI\\yolo\\code\\notebook\\..\\..\\sources\\2man_game2.mp4: 288x640 1 Hoop, 2 Players, 11.0ms\n",
      "video 1/1 (frame 651/772) d:\\AI\\yolo\\code\\notebook\\..\\..\\sources\\2man_game2.mp4: 288x640 1 Hoop, 2 Players, 14.6ms\n",
      "video 1/1 (frame 652/772) d:\\AI\\yolo\\code\\notebook\\..\\..\\sources\\2man_game2.mp4: 288x640 1 Hoop, 2 Players, 14.5ms\n",
      "video 1/1 (frame 653/772) d:\\AI\\yolo\\code\\notebook\\..\\..\\sources\\2man_game2.mp4: 288x640 1 Hoop, 2 Players, 14.3ms\n",
      "video 1/1 (frame 654/772) d:\\AI\\yolo\\code\\notebook\\..\\..\\sources\\2man_game2.mp4: 288x640 1 Hoop, 2 Players, 18.5ms\n",
      "video 1/1 (frame 655/772) d:\\AI\\yolo\\code\\notebook\\..\\..\\sources\\2man_game2.mp4: 288x640 1 Hoop, 2 Players, 11.2ms\n",
      "video 1/1 (frame 656/772) d:\\AI\\yolo\\code\\notebook\\..\\..\\sources\\2man_game2.mp4: 288x640 1 Hoop, 2 Players, 14.9ms\n",
      "video 1/1 (frame 657/772) d:\\AI\\yolo\\code\\notebook\\..\\..\\sources\\2man_game2.mp4: 288x640 1 Hoop, 2 Players, 14.5ms\n",
      "video 1/1 (frame 658/772) d:\\AI\\yolo\\code\\notebook\\..\\..\\sources\\2man_game2.mp4: 288x640 1 Hoop, 2 Players, 14.5ms\n",
      "video 1/1 (frame 659/772) d:\\AI\\yolo\\code\\notebook\\..\\..\\sources\\2man_game2.mp4: 288x640 1 Hoop, 2 Players, 16.7ms\n",
      "video 1/1 (frame 660/772) d:\\AI\\yolo\\code\\notebook\\..\\..\\sources\\2man_game2.mp4: 288x640 1 Hoop, 2 Players, 10.9ms\n",
      "video 1/1 (frame 661/772) d:\\AI\\yolo\\code\\notebook\\..\\..\\sources\\2man_game2.mp4: 288x640 1 Hoop, 2 Players, 12.0ms\n",
      "video 1/1 (frame 662/772) d:\\AI\\yolo\\code\\notebook\\..\\..\\sources\\2man_game2.mp4: 288x640 1 Hoop, 2 Players, 14.8ms\n",
      "video 1/1 (frame 663/772) d:\\AI\\yolo\\code\\notebook\\..\\..\\sources\\2man_game2.mp4: 288x640 1 Hoop, 2 Players, 11.5ms\n",
      "video 1/1 (frame 664/772) d:\\AI\\yolo\\code\\notebook\\..\\..\\sources\\2man_game2.mp4: 288x640 1 Hoop, 2 Players, 10.8ms\n",
      "video 1/1 (frame 665/772) d:\\AI\\yolo\\code\\notebook\\..\\..\\sources\\2man_game2.mp4: 288x640 1 Hoop, 2 Players, 10.9ms\n",
      "video 1/1 (frame 666/772) d:\\AI\\yolo\\code\\notebook\\..\\..\\sources\\2man_game2.mp4: 288x640 1 Hoop, 2 Players, 14.8ms\n",
      "video 1/1 (frame 667/772) d:\\AI\\yolo\\code\\notebook\\..\\..\\sources\\2man_game2.mp4: 288x640 1 Hoop, 2 Players, 16.4ms\n",
      "video 1/1 (frame 668/772) d:\\AI\\yolo\\code\\notebook\\..\\..\\sources\\2man_game2.mp4: 288x640 1 Hoop, 2 Players, 14.7ms\n",
      "video 1/1 (frame 669/772) d:\\AI\\yolo\\code\\notebook\\..\\..\\sources\\2man_game2.mp4: 288x640 1 Hoop, 2 Players, 14.9ms\n",
      "video 1/1 (frame 670/772) d:\\AI\\yolo\\code\\notebook\\..\\..\\sources\\2man_game2.mp4: 288x640 1 Hoop, 2 Players, 11.3ms\n",
      "video 1/1 (frame 671/772) d:\\AI\\yolo\\code\\notebook\\..\\..\\sources\\2man_game2.mp4: 288x640 1 Hoop, 2 Players, 10.8ms\n",
      "video 1/1 (frame 672/772) d:\\AI\\yolo\\code\\notebook\\..\\..\\sources\\2man_game2.mp4: 288x640 1 Hoop, 2 Players, 14.7ms\n",
      "video 1/1 (frame 673/772) d:\\AI\\yolo\\code\\notebook\\..\\..\\sources\\2man_game2.mp4: 288x640 1 Hoop, 2 Players, 14.4ms\n",
      "video 1/1 (frame 674/772) d:\\AI\\yolo\\code\\notebook\\..\\..\\sources\\2man_game2.mp4: 288x640 1 Hoop, 2 Players, 14.5ms\n",
      "video 1/1 (frame 675/772) d:\\AI\\yolo\\code\\notebook\\..\\..\\sources\\2man_game2.mp4: 288x640 1 Hoop, 2 Players, 11.0ms\n",
      "video 1/1 (frame 676/772) d:\\AI\\yolo\\code\\notebook\\..\\..\\sources\\2man_game2.mp4: 288x640 1 Hoop, 2 Players, 11.2ms\n",
      "video 1/1 (frame 677/772) d:\\AI\\yolo\\code\\notebook\\..\\..\\sources\\2man_game2.mp4: 288x640 1 Hoop, 2 Players, 14.3ms\n",
      "video 1/1 (frame 678/772) d:\\AI\\yolo\\code\\notebook\\..\\..\\sources\\2man_game2.mp4: 288x640 1 Hoop, 2 Players, 14.4ms\n",
      "video 1/1 (frame 679/772) d:\\AI\\yolo\\code\\notebook\\..\\..\\sources\\2man_game2.mp4: 288x640 1 Hoop, 2 Players, 14.0ms\n",
      "video 1/1 (frame 680/772) d:\\AI\\yolo\\code\\notebook\\..\\..\\sources\\2man_game2.mp4: 288x640 1 Hoop, 2 Players, 10.9ms\n",
      "video 1/1 (frame 681/772) d:\\AI\\yolo\\code\\notebook\\..\\..\\sources\\2man_game2.mp4: 288x640 1 Hoop, 2 Players, 10.9ms\n",
      "video 1/1 (frame 682/772) d:\\AI\\yolo\\code\\notebook\\..\\..\\sources\\2man_game2.mp4: 288x640 1 Hoop, 2 Players, 14.3ms\n",
      "video 1/1 (frame 683/772) d:\\AI\\yolo\\code\\notebook\\..\\..\\sources\\2man_game2.mp4: 288x640 1 Hoop, 2 Players, 14.2ms\n",
      "video 1/1 (frame 684/772) d:\\AI\\yolo\\code\\notebook\\..\\..\\sources\\2man_game2.mp4: 288x640 1 Hoop, 2 Players, 14.0ms\n",
      "video 1/1 (frame 685/772) d:\\AI\\yolo\\code\\notebook\\..\\..\\sources\\2man_game2.mp4: 288x640 1 Hoop, 2 Players, 11.0ms\n",
      "video 1/1 (frame 686/772) d:\\AI\\yolo\\code\\notebook\\..\\..\\sources\\2man_game2.mp4: 288x640 1 Hoop, 2 Players, 11.0ms\n",
      "video 1/1 (frame 687/772) d:\\AI\\yolo\\code\\notebook\\..\\..\\sources\\2man_game2.mp4: 288x640 1 Hoop, 2 Players, 14.4ms\n",
      "video 1/1 (frame 688/772) d:\\AI\\yolo\\code\\notebook\\..\\..\\sources\\2man_game2.mp4: 288x640 1 Hoop, 2 Players, 16.1ms\n",
      "video 1/1 (frame 689/772) d:\\AI\\yolo\\code\\notebook\\..\\..\\sources\\2man_game2.mp4: 288x640 1 Hoop, 2 Players, 14.3ms\n",
      "video 1/1 (frame 690/772) d:\\AI\\yolo\\code\\notebook\\..\\..\\sources\\2man_game2.mp4: 288x640 1 Hoop, 2 Players, 11.0ms\n",
      "video 1/1 (frame 691/772) d:\\AI\\yolo\\code\\notebook\\..\\..\\sources\\2man_game2.mp4: 288x640 1 Hoop, 2 Players, 11.6ms\n",
      "video 1/1 (frame 692/772) d:\\AI\\yolo\\code\\notebook\\..\\..\\sources\\2man_game2.mp4: 288x640 1 Hoop, 2 Players, 14.3ms\n",
      "video 1/1 (frame 693/772) d:\\AI\\yolo\\code\\notebook\\..\\..\\sources\\2man_game2.mp4: 288x640 1 Hoop, 2 Players, 14.4ms\n",
      "video 1/1 (frame 694/772) d:\\AI\\yolo\\code\\notebook\\..\\..\\sources\\2man_game2.mp4: 288x640 1 Hoop, 2 Players, 14.9ms\n",
      "video 1/1 (frame 695/772) d:\\AI\\yolo\\code\\notebook\\..\\..\\sources\\2man_game2.mp4: 288x640 1 Hoop, 1 Player, 11.2ms\n",
      "video 1/1 (frame 696/772) d:\\AI\\yolo\\code\\notebook\\..\\..\\sources\\2man_game2.mp4: 288x640 1 Hoop, 1 Player, 12.1ms\n",
      "video 1/1 (frame 697/772) d:\\AI\\yolo\\code\\notebook\\..\\..\\sources\\2man_game2.mp4: 288x640 1 Hoop, 1 Player, 14.4ms\n",
      "video 1/1 (frame 698/772) d:\\AI\\yolo\\code\\notebook\\..\\..\\sources\\2man_game2.mp4: 288x640 1 Hoop, 1 Player, 14.8ms\n",
      "video 1/1 (frame 699/772) d:\\AI\\yolo\\code\\notebook\\..\\..\\sources\\2man_game2.mp4: 288x640 1 Hoop, 2 Players, 14.1ms\n",
      "video 1/1 (frame 700/772) d:\\AI\\yolo\\code\\notebook\\..\\..\\sources\\2man_game2.mp4: 288x640 1 Hoop, 2 Players, 14.4ms\n",
      "video 1/1 (frame 701/772) d:\\AI\\yolo\\code\\notebook\\..\\..\\sources\\2man_game2.mp4: 288x640 1 Hoop, 2 Players, 10.8ms\n",
      "video 1/1 (frame 702/772) d:\\AI\\yolo\\code\\notebook\\..\\..\\sources\\2man_game2.mp4: 288x640 1 Hoop, 2 Players, 10.8ms\n",
      "video 1/1 (frame 703/772) d:\\AI\\yolo\\code\\notebook\\..\\..\\sources\\2man_game2.mp4: 288x640 1 Hoop, 2 Players, 14.1ms\n",
      "video 1/1 (frame 704/772) d:\\AI\\yolo\\code\\notebook\\..\\..\\sources\\2man_game2.mp4: 288x640 1 Hoop, 2 Players, 14.2ms\n",
      "video 1/1 (frame 705/772) d:\\AI\\yolo\\code\\notebook\\..\\..\\sources\\2man_game2.mp4: 288x640 1 Hoop, 2 Players, 16.2ms\n",
      "video 1/1 (frame 706/772) d:\\AI\\yolo\\code\\notebook\\..\\..\\sources\\2man_game2.mp4: 288x640 1 Hoop, 2 Players, 14.6ms\n",
      "video 1/1 (frame 707/772) d:\\AI\\yolo\\code\\notebook\\..\\..\\sources\\2man_game2.mp4: 288x640 1 Hoop, 2 Players, 10.6ms\n",
      "video 1/1 (frame 708/772) d:\\AI\\yolo\\code\\notebook\\..\\..\\sources\\2man_game2.mp4: 288x640 1 Hoop, 2 Players, 10.9ms\n",
      "video 1/1 (frame 709/772) d:\\AI\\yolo\\code\\notebook\\..\\..\\sources\\2man_game2.mp4: 288x640 1 Hoop, 2 Players, 11.0ms\n",
      "video 1/1 (frame 710/772) d:\\AI\\yolo\\code\\notebook\\..\\..\\sources\\2man_game2.mp4: 288x640 1 Hoop, 2 Players, 10.6ms\n",
      "video 1/1 (frame 711/772) d:\\AI\\yolo\\code\\notebook\\..\\..\\sources\\2man_game2.mp4: 288x640 1 Hoop, 2 Players, 10.7ms\n",
      "video 1/1 (frame 712/772) d:\\AI\\yolo\\code\\notebook\\..\\..\\sources\\2man_game2.mp4: 288x640 1 Hoop, 2 Players, 14.0ms\n",
      "video 1/1 (frame 713/772) d:\\AI\\yolo\\code\\notebook\\..\\..\\sources\\2man_game2.mp4: 288x640 1 Hoop, 2 Players, 10.8ms\n",
      "video 1/1 (frame 714/772) d:\\AI\\yolo\\code\\notebook\\..\\..\\sources\\2man_game2.mp4: 288x640 1 Hoop, 2 Players, 14.2ms\n",
      "video 1/1 (frame 715/772) d:\\AI\\yolo\\code\\notebook\\..\\..\\sources\\2man_game2.mp4: 288x640 1 Hoop, 1 Player, 14.5ms\n",
      "video 1/1 (frame 716/772) d:\\AI\\yolo\\code\\notebook\\..\\..\\sources\\2man_game2.mp4: 288x640 1 Hoop, 1 Player, 14.3ms\n",
      "video 1/1 (frame 717/772) d:\\AI\\yolo\\code\\notebook\\..\\..\\sources\\2man_game2.mp4: 288x640 1 Hoop, 1 Player, 10.7ms\n",
      "video 1/1 (frame 718/772) d:\\AI\\yolo\\code\\notebook\\..\\..\\sources\\2man_game2.mp4: 288x640 1 Hoop, 1 Player, 11.1ms\n",
      "video 1/1 (frame 719/772) d:\\AI\\yolo\\code\\notebook\\..\\..\\sources\\2man_game2.mp4: 288x640 1 Hoop, 2 Players, 10.8ms\n",
      "video 1/1 (frame 720/772) d:\\AI\\yolo\\code\\notebook\\..\\..\\sources\\2man_game2.mp4: 288x640 1 Hoop, 2 Players, 10.7ms\n",
      "video 1/1 (frame 721/772) d:\\AI\\yolo\\code\\notebook\\..\\..\\sources\\2man_game2.mp4: 288x640 1 Hoop, 2 Players, 10.6ms\n",
      "video 1/1 (frame 722/772) d:\\AI\\yolo\\code\\notebook\\..\\..\\sources\\2man_game2.mp4: 288x640 1 Hoop, 2 Players, 10.6ms\n",
      "video 1/1 (frame 723/772) d:\\AI\\yolo\\code\\notebook\\..\\..\\sources\\2man_game2.mp4: 288x640 1 Hoop, 2 Players, 14.2ms\n",
      "video 1/1 (frame 724/772) d:\\AI\\yolo\\code\\notebook\\..\\..\\sources\\2man_game2.mp4: 288x640 1 Hoop, 2 Players, 14.5ms\n",
      "video 1/1 (frame 725/772) d:\\AI\\yolo\\code\\notebook\\..\\..\\sources\\2man_game2.mp4: 288x640 1 Hoop, 2 Players, 14.1ms\n",
      "video 1/1 (frame 726/772) d:\\AI\\yolo\\code\\notebook\\..\\..\\sources\\2man_game2.mp4: 288x640 1 Hoop, 2 Players, 14.0ms\n",
      "video 1/1 (frame 727/772) d:\\AI\\yolo\\code\\notebook\\..\\..\\sources\\2man_game2.mp4: 288x640 1 Hoop, 2 Players, 17.4ms\n",
      "video 1/1 (frame 728/772) d:\\AI\\yolo\\code\\notebook\\..\\..\\sources\\2man_game2.mp4: 288x640 1 Hoop, 2 Players, 10.9ms\n",
      "video 1/1 (frame 729/772) d:\\AI\\yolo\\code\\notebook\\..\\..\\sources\\2man_game2.mp4: 288x640 1 Hoop, 2 Players, 14.4ms\n",
      "video 1/1 (frame 730/772) d:\\AI\\yolo\\code\\notebook\\..\\..\\sources\\2man_game2.mp4: 288x640 1 Hoop, 2 Players, 17.1ms\n",
      "video 1/1 (frame 731/772) d:\\AI\\yolo\\code\\notebook\\..\\..\\sources\\2man_game2.mp4: 288x640 1 Hoop, 1 Player, 14.8ms\n",
      "video 1/1 (frame 732/772) d:\\AI\\yolo\\code\\notebook\\..\\..\\sources\\2man_game2.mp4: 288x640 1 Hoop, 2 Players, 10.7ms\n",
      "video 1/1 (frame 733/772) d:\\AI\\yolo\\code\\notebook\\..\\..\\sources\\2man_game2.mp4: 288x640 1 Hoop, 2 Players, 10.7ms\n",
      "video 1/1 (frame 734/772) d:\\AI\\yolo\\code\\notebook\\..\\..\\sources\\2man_game2.mp4: 288x640 1 Hoop, 2 Players, 10.6ms\n",
      "video 1/1 (frame 735/772) d:\\AI\\yolo\\code\\notebook\\..\\..\\sources\\2man_game2.mp4: 288x640 1 Hoop, 2 Players, 15.0ms\n",
      "video 1/1 (frame 736/772) d:\\AI\\yolo\\code\\notebook\\..\\..\\sources\\2man_game2.mp4: 288x640 1 Hoop, 2 Players, 14.3ms\n",
      "video 1/1 (frame 737/772) d:\\AI\\yolo\\code\\notebook\\..\\..\\sources\\2man_game2.mp4: 288x640 1 Hoop, 2 Players, 10.7ms\n",
      "video 1/1 (frame 738/772) d:\\AI\\yolo\\code\\notebook\\..\\..\\sources\\2man_game2.mp4: 288x640 1 Hoop, 1 Player, 10.7ms\n",
      "video 1/1 (frame 739/772) d:\\AI\\yolo\\code\\notebook\\..\\..\\sources\\2man_game2.mp4: 288x640 1 Hoop, 1 Player, 14.0ms\n",
      "video 1/1 (frame 740/772) d:\\AI\\yolo\\code\\notebook\\..\\..\\sources\\2man_game2.mp4: 288x640 1 Hoop, 1 Player, 15.1ms\n",
      "video 1/1 (frame 741/772) d:\\AI\\yolo\\code\\notebook\\..\\..\\sources\\2man_game2.mp4: 288x640 1 Hoop, 1 Player, 14.9ms\n",
      "video 1/1 (frame 742/772) d:\\AI\\yolo\\code\\notebook\\..\\..\\sources\\2man_game2.mp4: 288x640 1 Hoop, 1 Player, 10.5ms\n",
      "video 1/1 (frame 743/772) d:\\AI\\yolo\\code\\notebook\\..\\..\\sources\\2man_game2.mp4: 288x640 1 Hoop, 1 Player, 10.6ms\n",
      "video 1/1 (frame 744/772) d:\\AI\\yolo\\code\\notebook\\..\\..\\sources\\2man_game2.mp4: 288x640 1 Hoop, 1 Player, 10.7ms\n",
      "video 1/1 (frame 745/772) d:\\AI\\yolo\\code\\notebook\\..\\..\\sources\\2man_game2.mp4: 288x640 1 Hoop, 1 Player, 11.9ms\n",
      "video 1/1 (frame 746/772) d:\\AI\\yolo\\code\\notebook\\..\\..\\sources\\2man_game2.mp4: 288x640 1 Hoop, 1 Player, 11.0ms\n",
      "video 1/1 (frame 747/772) d:\\AI\\yolo\\code\\notebook\\..\\..\\sources\\2man_game2.mp4: 288x640 1 Hoop, 1 Player, 13.9ms\n",
      "video 1/1 (frame 748/772) d:\\AI\\yolo\\code\\notebook\\..\\..\\sources\\2man_game2.mp4: 288x640 1 Hoop, 1 Player, 14.4ms\n",
      "video 1/1 (frame 749/772) d:\\AI\\yolo\\code\\notebook\\..\\..\\sources\\2man_game2.mp4: 288x640 1 Hoop, 1 Player, 17.9ms\n",
      "video 1/1 (frame 750/772) d:\\AI\\yolo\\code\\notebook\\..\\..\\sources\\2man_game2.mp4: 288x640 1 Hoop, 1 Player, 17.7ms\n",
      "video 1/1 (frame 751/772) d:\\AI\\yolo\\code\\notebook\\..\\..\\sources\\2man_game2.mp4: 288x640 1 Hoop, 1 Player, 14.6ms\n",
      "video 1/1 (frame 752/772) d:\\AI\\yolo\\code\\notebook\\..\\..\\sources\\2man_game2.mp4: 288x640 1 Hoop, 1 Player, 15.9ms\n",
      "video 1/1 (frame 753/772) d:\\AI\\yolo\\code\\notebook\\..\\..\\sources\\2man_game2.mp4: 288x640 1 Hoop, 1 Player, 14.8ms\n",
      "video 1/1 (frame 754/772) d:\\AI\\yolo\\code\\notebook\\..\\..\\sources\\2man_game2.mp4: 288x640 1 Hoop, 1 Player, 15.8ms\n",
      "video 1/1 (frame 755/772) d:\\AI\\yolo\\code\\notebook\\..\\..\\sources\\2man_game2.mp4: 288x640 1 Hoop, 1 Player, 11.0ms\n",
      "video 1/1 (frame 756/772) d:\\AI\\yolo\\code\\notebook\\..\\..\\sources\\2man_game2.mp4: 288x640 1 Hoop, 2 Players, 11.0ms\n",
      "video 1/1 (frame 757/772) d:\\AI\\yolo\\code\\notebook\\..\\..\\sources\\2man_game2.mp4: 288x640 1 Hoop, 2 Players, 11.2ms\n",
      "video 1/1 (frame 758/772) d:\\AI\\yolo\\code\\notebook\\..\\..\\sources\\2man_game2.mp4: 288x640 1 Hoop, 2 Players, 11.1ms\n",
      "video 1/1 (frame 759/772) d:\\AI\\yolo\\code\\notebook\\..\\..\\sources\\2man_game2.mp4: 288x640 1 Hoop, 2 Players, 11.0ms\n",
      "video 1/1 (frame 760/772) d:\\AI\\yolo\\code\\notebook\\..\\..\\sources\\2man_game2.mp4: 288x640 1 Hoop, 2 Players, 13.6ms\n",
      "video 1/1 (frame 761/772) d:\\AI\\yolo\\code\\notebook\\..\\..\\sources\\2man_game2.mp4: 288x640 1 Hoop, 2 Players, 14.6ms\n",
      "video 1/1 (frame 762/772) d:\\AI\\yolo\\code\\notebook\\..\\..\\sources\\2man_game2.mp4: 288x640 1 Hoop, 1 Player, 14.8ms\n",
      "video 1/1 (frame 763/772) d:\\AI\\yolo\\code\\notebook\\..\\..\\sources\\2man_game2.mp4: 288x640 1 Ball, 1 Hoop, 2 Players, 11.2ms\n",
      "video 1/1 (frame 764/772) d:\\AI\\yolo\\code\\notebook\\..\\..\\sources\\2man_game2.mp4: 288x640 1 Hoop, 2 Players, 11.2ms\n",
      "video 1/1 (frame 765/772) d:\\AI\\yolo\\code\\notebook\\..\\..\\sources\\2man_game2.mp4: 288x640 1 Hoop, 2 Players, 11.6ms\n",
      "video 1/1 (frame 766/772) d:\\AI\\yolo\\code\\notebook\\..\\..\\sources\\2man_game2.mp4: 288x640 1 Hoop, 2 Players, 12.2ms\n",
      "video 1/1 (frame 767/772) d:\\AI\\yolo\\code\\notebook\\..\\..\\sources\\2man_game2.mp4: 288x640 1 Hoop, 3 Players, 11.3ms\n",
      "video 1/1 (frame 768/772) d:\\AI\\yolo\\code\\notebook\\..\\..\\sources\\2man_game2.mp4: 288x640 1 Hoop, 3 Players, 14.7ms\n",
      "video 1/1 (frame 769/772) d:\\AI\\yolo\\code\\notebook\\..\\..\\sources\\2man_game2.mp4: 288x640 1 Hoop, 2 Players, 15.0ms\n",
      "video 1/1 (frame 770/772) d:\\AI\\yolo\\code\\notebook\\..\\..\\sources\\2man_game2.mp4: 288x640 1 Hoop, 2 Players, 17.6ms\n",
      "video 1/1 (frame 771/772) d:\\AI\\yolo\\code\\notebook\\..\\..\\sources\\2man_game2.mp4: 288x640 1 Hoop, 2 Players, 14.7ms\n",
      "video 1/1 (frame 772/772) d:\\AI\\yolo\\code\\notebook\\..\\..\\sources\\2man_game2.mp4: 288x640 1 Hoop, 2 Players, 11.7ms\n",
      "Speed: 1.4ms preprocess, 13.2ms inference, 2.0ms postprocess per image at shape (1, 3, 288, 640)\n",
      "{0: 'Ball', 1: 'Hoop', 2: 'Period', 3: 'Player', 4: 'Ref', 5: 'Shot Clock', 6: 'Team Name', 7: 'Team Points', 8: 'Time Remaining'}\n",
      "{0: 'Ball', 1: 'Hoop', 2: 'Period', 3: 'Player', 4: 'Ref', 5: 'Shot Clock', 6: 'Team Name', 7: 'Team Points', 8: 'Time Remaining'}\n",
      "{0: 'Ball', 1: 'Hoop', 2: 'Period', 3: 'Player', 4: 'Ref', 5: 'Shot Clock', 6: 'Team Name', 7: 'Team Points', 8: 'Time Remaining'}\n",
      "{0: 'Ball', 1: 'Hoop', 2: 'Period', 3: 'Player', 4: 'Ref', 5: 'Shot Clock', 6: 'Team Name', 7: 'Team Points', 8: 'Time Remaining'}\n",
      "{0: 'Ball', 1: 'Hoop', 2: 'Period', 3: 'Player', 4: 'Ref', 5: 'Shot Clock', 6: 'Team Name', 7: 'Team Points', 8: 'Time Remaining'}\n",
      "{0: 'Ball', 1: 'Hoop', 2: 'Period', 3: 'Player', 4: 'Ref', 5: 'Shot Clock', 6: 'Team Name', 7: 'Team Points', 8: 'Time Remaining'}\n",
      "{0: 'Ball', 1: 'Hoop', 2: 'Period', 3: 'Player', 4: 'Ref', 5: 'Shot Clock', 6: 'Team Name', 7: 'Team Points', 8: 'Time Remaining'}\n",
      "{0: 'Ball', 1: 'Hoop', 2: 'Period', 3: 'Player', 4: 'Ref', 5: 'Shot Clock', 6: 'Team Name', 7: 'Team Points', 8: 'Time Remaining'}\n",
      "{0: 'Ball', 1: 'Hoop', 2: 'Period', 3: 'Player', 4: 'Ref', 5: 'Shot Clock', 6: 'Team Name', 7: 'Team Points', 8: 'Time Remaining'}\n",
      "{0: 'Ball', 1: 'Hoop', 2: 'Period', 3: 'Player', 4: 'Ref', 5: 'Shot Clock', 6: 'Team Name', 7: 'Team Points', 8: 'Time Remaining'}\n",
      "{0: 'Ball', 1: 'Hoop', 2: 'Period', 3: 'Player', 4: 'Ref', 5: 'Shot Clock', 6: 'Team Name', 7: 'Team Points', 8: 'Time Remaining'}\n",
      "{0: 'Ball', 1: 'Hoop', 2: 'Period', 3: 'Player', 4: 'Ref', 5: 'Shot Clock', 6: 'Team Name', 7: 'Team Points', 8: 'Time Remaining'}\n",
      "{0: 'Ball', 1: 'Hoop', 2: 'Period', 3: 'Player', 4: 'Ref', 5: 'Shot Clock', 6: 'Team Name', 7: 'Team Points', 8: 'Time Remaining'}\n",
      "{0: 'Ball', 1: 'Hoop', 2: 'Period', 3: 'Player', 4: 'Ref', 5: 'Shot Clock', 6: 'Team Name', 7: 'Team Points', 8: 'Time Remaining'}\n",
      "{0: 'Ball', 1: 'Hoop', 2: 'Period', 3: 'Player', 4: 'Ref', 5: 'Shot Clock', 6: 'Team Name', 7: 'Team Points', 8: 'Time Remaining'}\n",
      "{0: 'Ball', 1: 'Hoop', 2: 'Period', 3: 'Player', 4: 'Ref', 5: 'Shot Clock', 6: 'Team Name', 7: 'Team Points', 8: 'Time Remaining'}\n",
      "{0: 'Ball', 1: 'Hoop', 2: 'Period', 3: 'Player', 4: 'Ref', 5: 'Shot Clock', 6: 'Team Name', 7: 'Team Points', 8: 'Time Remaining'}\n",
      "{0: 'Ball', 1: 'Hoop', 2: 'Period', 3: 'Player', 4: 'Ref', 5: 'Shot Clock', 6: 'Team Name', 7: 'Team Points', 8: 'Time Remaining'}\n",
      "{0: 'Ball', 1: 'Hoop', 2: 'Period', 3: 'Player', 4: 'Ref', 5: 'Shot Clock', 6: 'Team Name', 7: 'Team Points', 8: 'Time Remaining'}\n",
      "{0: 'Ball', 1: 'Hoop', 2: 'Period', 3: 'Player', 4: 'Ref', 5: 'Shot Clock', 6: 'Team Name', 7: 'Team Points', 8: 'Time Remaining'}\n",
      "{0: 'Ball', 1: 'Hoop', 2: 'Period', 3: 'Player', 4: 'Ref', 5: 'Shot Clock', 6: 'Team Name', 7: 'Team Points', 8: 'Time Remaining'}\n",
      "{0: 'Ball', 1: 'Hoop', 2: 'Period', 3: 'Player', 4: 'Ref', 5: 'Shot Clock', 6: 'Team Name', 7: 'Team Points', 8: 'Time Remaining'}\n",
      "{0: 'Ball', 1: 'Hoop', 2: 'Period', 3: 'Player', 4: 'Ref', 5: 'Shot Clock', 6: 'Team Name', 7: 'Team Points', 8: 'Time Remaining'}\n",
      "{0: 'Ball', 1: 'Hoop', 2: 'Period', 3: 'Player', 4: 'Ref', 5: 'Shot Clock', 6: 'Team Name', 7: 'Team Points', 8: 'Time Remaining'}\n",
      "{0: 'Ball', 1: 'Hoop', 2: 'Period', 3: 'Player', 4: 'Ref', 5: 'Shot Clock', 6: 'Team Name', 7: 'Team Points', 8: 'Time Remaining'}\n",
      "{0: 'Ball', 1: 'Hoop', 2: 'Period', 3: 'Player', 4: 'Ref', 5: 'Shot Clock', 6: 'Team Name', 7: 'Team Points', 8: 'Time Remaining'}\n",
      "{0: 'Ball', 1: 'Hoop', 2: 'Period', 3: 'Player', 4: 'Ref', 5: 'Shot Clock', 6: 'Team Name', 7: 'Team Points', 8: 'Time Remaining'}\n",
      "{0: 'Ball', 1: 'Hoop', 2: 'Period', 3: 'Player', 4: 'Ref', 5: 'Shot Clock', 6: 'Team Name', 7: 'Team Points', 8: 'Time Remaining'}\n",
      "{0: 'Ball', 1: 'Hoop', 2: 'Period', 3: 'Player', 4: 'Ref', 5: 'Shot Clock', 6: 'Team Name', 7: 'Team Points', 8: 'Time Remaining'}\n",
      "{0: 'Ball', 1: 'Hoop', 2: 'Period', 3: 'Player', 4: 'Ref', 5: 'Shot Clock', 6: 'Team Name', 7: 'Team Points', 8: 'Time Remaining'}\n",
      "{0: 'Ball', 1: 'Hoop', 2: 'Period', 3: 'Player', 4: 'Ref', 5: 'Shot Clock', 6: 'Team Name', 7: 'Team Points', 8: 'Time Remaining'}\n",
      "{0: 'Ball', 1: 'Hoop', 2: 'Period', 3: 'Player', 4: 'Ref', 5: 'Shot Clock', 6: 'Team Name', 7: 'Team Points', 8: 'Time Remaining'}\n",
      "{0: 'Ball', 1: 'Hoop', 2: 'Period', 3: 'Player', 4: 'Ref', 5: 'Shot Clock', 6: 'Team Name', 7: 'Team Points', 8: 'Time Remaining'}\n",
      "{0: 'Ball', 1: 'Hoop', 2: 'Period', 3: 'Player', 4: 'Ref', 5: 'Shot Clock', 6: 'Team Name', 7: 'Team Points', 8: 'Time Remaining'}\n",
      "{0: 'Ball', 1: 'Hoop', 2: 'Period', 3: 'Player', 4: 'Ref', 5: 'Shot Clock', 6: 'Team Name', 7: 'Team Points', 8: 'Time Remaining'}\n",
      "{0: 'Ball', 1: 'Hoop', 2: 'Period', 3: 'Player', 4: 'Ref', 5: 'Shot Clock', 6: 'Team Name', 7: 'Team Points', 8: 'Time Remaining'}\n",
      "{0: 'Ball', 1: 'Hoop', 2: 'Period', 3: 'Player', 4: 'Ref', 5: 'Shot Clock', 6: 'Team Name', 7: 'Team Points', 8: 'Time Remaining'}\n",
      "{0: 'Ball', 1: 'Hoop', 2: 'Period', 3: 'Player', 4: 'Ref', 5: 'Shot Clock', 6: 'Team Name', 7: 'Team Points', 8: 'Time Remaining'}\n",
      "{0: 'Ball', 1: 'Hoop', 2: 'Period', 3: 'Player', 4: 'Ref', 5: 'Shot Clock', 6: 'Team Name', 7: 'Team Points', 8: 'Time Remaining'}\n",
      "{0: 'Ball', 1: 'Hoop', 2: 'Period', 3: 'Player', 4: 'Ref', 5: 'Shot Clock', 6: 'Team Name', 7: 'Team Points', 8: 'Time Remaining'}\n",
      "{0: 'Ball', 1: 'Hoop', 2: 'Period', 3: 'Player', 4: 'Ref', 5: 'Shot Clock', 6: 'Team Name', 7: 'Team Points', 8: 'Time Remaining'}\n",
      "{0: 'Ball', 1: 'Hoop', 2: 'Period', 3: 'Player', 4: 'Ref', 5: 'Shot Clock', 6: 'Team Name', 7: 'Team Points', 8: 'Time Remaining'}\n",
      "{0: 'Ball', 1: 'Hoop', 2: 'Period', 3: 'Player', 4: 'Ref', 5: 'Shot Clock', 6: 'Team Name', 7: 'Team Points', 8: 'Time Remaining'}\n",
      "{0: 'Ball', 1: 'Hoop', 2: 'Period', 3: 'Player', 4: 'Ref', 5: 'Shot Clock', 6: 'Team Name', 7: 'Team Points', 8: 'Time Remaining'}\n",
      "{0: 'Ball', 1: 'Hoop', 2: 'Period', 3: 'Player', 4: 'Ref', 5: 'Shot Clock', 6: 'Team Name', 7: 'Team Points', 8: 'Time Remaining'}\n",
      "{0: 'Ball', 1: 'Hoop', 2: 'Period', 3: 'Player', 4: 'Ref', 5: 'Shot Clock', 6: 'Team Name', 7: 'Team Points', 8: 'Time Remaining'}\n",
      "{0: 'Ball', 1: 'Hoop', 2: 'Period', 3: 'Player', 4: 'Ref', 5: 'Shot Clock', 6: 'Team Name', 7: 'Team Points', 8: 'Time Remaining'}\n",
      "{0: 'Ball', 1: 'Hoop', 2: 'Period', 3: 'Player', 4: 'Ref', 5: 'Shot Clock', 6: 'Team Name', 7: 'Team Points', 8: 'Time Remaining'}\n",
      "{0: 'Ball', 1: 'Hoop', 2: 'Period', 3: 'Player', 4: 'Ref', 5: 'Shot Clock', 6: 'Team Name', 7: 'Team Points', 8: 'Time Remaining'}\n",
      "{0: 'Ball', 1: 'Hoop', 2: 'Period', 3: 'Player', 4: 'Ref', 5: 'Shot Clock', 6: 'Team Name', 7: 'Team Points', 8: 'Time Remaining'}\n",
      "{0: 'Ball', 1: 'Hoop', 2: 'Period', 3: 'Player', 4: 'Ref', 5: 'Shot Clock', 6: 'Team Name', 7: 'Team Points', 8: 'Time Remaining'}\n",
      "{0: 'Ball', 1: 'Hoop', 2: 'Period', 3: 'Player', 4: 'Ref', 5: 'Shot Clock', 6: 'Team Name', 7: 'Team Points', 8: 'Time Remaining'}\n",
      "{0: 'Ball', 1: 'Hoop', 2: 'Period', 3: 'Player', 4: 'Ref', 5: 'Shot Clock', 6: 'Team Name', 7: 'Team Points', 8: 'Time Remaining'}\n",
      "{0: 'Ball', 1: 'Hoop', 2: 'Period', 3: 'Player', 4: 'Ref', 5: 'Shot Clock', 6: 'Team Name', 7: 'Team Points', 8: 'Time Remaining'}\n",
      "{0: 'Ball', 1: 'Hoop', 2: 'Period', 3: 'Player', 4: 'Ref', 5: 'Shot Clock', 6: 'Team Name', 7: 'Team Points', 8: 'Time Remaining'}\n",
      "{0: 'Ball', 1: 'Hoop', 2: 'Period', 3: 'Player', 4: 'Ref', 5: 'Shot Clock', 6: 'Team Name', 7: 'Team Points', 8: 'Time Remaining'}\n",
      "{0: 'Ball', 1: 'Hoop', 2: 'Period', 3: 'Player', 4: 'Ref', 5: 'Shot Clock', 6: 'Team Name', 7: 'Team Points', 8: 'Time Remaining'}\n",
      "{0: 'Ball', 1: 'Hoop', 2: 'Period', 3: 'Player', 4: 'Ref', 5: 'Shot Clock', 6: 'Team Name', 7: 'Team Points', 8: 'Time Remaining'}\n",
      "{0: 'Ball', 1: 'Hoop', 2: 'Period', 3: 'Player', 4: 'Ref', 5: 'Shot Clock', 6: 'Team Name', 7: 'Team Points', 8: 'Time Remaining'}\n",
      "{0: 'Ball', 1: 'Hoop', 2: 'Period', 3: 'Player', 4: 'Ref', 5: 'Shot Clock', 6: 'Team Name', 7: 'Team Points', 8: 'Time Remaining'}\n",
      "{0: 'Ball', 1: 'Hoop', 2: 'Period', 3: 'Player', 4: 'Ref', 5: 'Shot Clock', 6: 'Team Name', 7: 'Team Points', 8: 'Time Remaining'}\n",
      "{0: 'Ball', 1: 'Hoop', 2: 'Period', 3: 'Player', 4: 'Ref', 5: 'Shot Clock', 6: 'Team Name', 7: 'Team Points', 8: 'Time Remaining'}\n",
      "{0: 'Ball', 1: 'Hoop', 2: 'Period', 3: 'Player', 4: 'Ref', 5: 'Shot Clock', 6: 'Team Name', 7: 'Team Points', 8: 'Time Remaining'}\n",
      "{0: 'Ball', 1: 'Hoop', 2: 'Period', 3: 'Player', 4: 'Ref', 5: 'Shot Clock', 6: 'Team Name', 7: 'Team Points', 8: 'Time Remaining'}\n",
      "{0: 'Ball', 1: 'Hoop', 2: 'Period', 3: 'Player', 4: 'Ref', 5: 'Shot Clock', 6: 'Team Name', 7: 'Team Points', 8: 'Time Remaining'}\n",
      "{0: 'Ball', 1: 'Hoop', 2: 'Period', 3: 'Player', 4: 'Ref', 5: 'Shot Clock', 6: 'Team Name', 7: 'Team Points', 8: 'Time Remaining'}\n",
      "{0: 'Ball', 1: 'Hoop', 2: 'Period', 3: 'Player', 4: 'Ref', 5: 'Shot Clock', 6: 'Team Name', 7: 'Team Points', 8: 'Time Remaining'}\n",
      "{0: 'Ball', 1: 'Hoop', 2: 'Period', 3: 'Player', 4: 'Ref', 5: 'Shot Clock', 6: 'Team Name', 7: 'Team Points', 8: 'Time Remaining'}\n",
      "{0: 'Ball', 1: 'Hoop', 2: 'Period', 3: 'Player', 4: 'Ref', 5: 'Shot Clock', 6: 'Team Name', 7: 'Team Points', 8: 'Time Remaining'}\n",
      "{0: 'Ball', 1: 'Hoop', 2: 'Period', 3: 'Player', 4: 'Ref', 5: 'Shot Clock', 6: 'Team Name', 7: 'Team Points', 8: 'Time Remaining'}\n",
      "{0: 'Ball', 1: 'Hoop', 2: 'Period', 3: 'Player', 4: 'Ref', 5: 'Shot Clock', 6: 'Team Name', 7: 'Team Points', 8: 'Time Remaining'}\n",
      "{0: 'Ball', 1: 'Hoop', 2: 'Period', 3: 'Player', 4: 'Ref', 5: 'Shot Clock', 6: 'Team Name', 7: 'Team Points', 8: 'Time Remaining'}\n",
      "{0: 'Ball', 1: 'Hoop', 2: 'Period', 3: 'Player', 4: 'Ref', 5: 'Shot Clock', 6: 'Team Name', 7: 'Team Points', 8: 'Time Remaining'}\n",
      "{0: 'Ball', 1: 'Hoop', 2: 'Period', 3: 'Player', 4: 'Ref', 5: 'Shot Clock', 6: 'Team Name', 7: 'Team Points', 8: 'Time Remaining'}\n",
      "{0: 'Ball', 1: 'Hoop', 2: 'Period', 3: 'Player', 4: 'Ref', 5: 'Shot Clock', 6: 'Team Name', 7: 'Team Points', 8: 'Time Remaining'}\n",
      "{0: 'Ball', 1: 'Hoop', 2: 'Period', 3: 'Player', 4: 'Ref', 5: 'Shot Clock', 6: 'Team Name', 7: 'Team Points', 8: 'Time Remaining'}\n",
      "{0: 'Ball', 1: 'Hoop', 2: 'Period', 3: 'Player', 4: 'Ref', 5: 'Shot Clock', 6: 'Team Name', 7: 'Team Points', 8: 'Time Remaining'}\n",
      "{0: 'Ball', 1: 'Hoop', 2: 'Period', 3: 'Player', 4: 'Ref', 5: 'Shot Clock', 6: 'Team Name', 7: 'Team Points', 8: 'Time Remaining'}\n",
      "{0: 'Ball', 1: 'Hoop', 2: 'Period', 3: 'Player', 4: 'Ref', 5: 'Shot Clock', 6: 'Team Name', 7: 'Team Points', 8: 'Time Remaining'}\n",
      "{0: 'Ball', 1: 'Hoop', 2: 'Period', 3: 'Player', 4: 'Ref', 5: 'Shot Clock', 6: 'Team Name', 7: 'Team Points', 8: 'Time Remaining'}\n",
      "{0: 'Ball', 1: 'Hoop', 2: 'Period', 3: 'Player', 4: 'Ref', 5: 'Shot Clock', 6: 'Team Name', 7: 'Team Points', 8: 'Time Remaining'}\n",
      "{0: 'Ball', 1: 'Hoop', 2: 'Period', 3: 'Player', 4: 'Ref', 5: 'Shot Clock', 6: 'Team Name', 7: 'Team Points', 8: 'Time Remaining'}\n",
      "{0: 'Ball', 1: 'Hoop', 2: 'Period', 3: 'Player', 4: 'Ref', 5: 'Shot Clock', 6: 'Team Name', 7: 'Team Points', 8: 'Time Remaining'}\n",
      "{0: 'Ball', 1: 'Hoop', 2: 'Period', 3: 'Player', 4: 'Ref', 5: 'Shot Clock', 6: 'Team Name', 7: 'Team Points', 8: 'Time Remaining'}\n",
      "{0: 'Ball', 1: 'Hoop', 2: 'Period', 3: 'Player', 4: 'Ref', 5: 'Shot Clock', 6: 'Team Name', 7: 'Team Points', 8: 'Time Remaining'}\n",
      "{0: 'Ball', 1: 'Hoop', 2: 'Period', 3: 'Player', 4: 'Ref', 5: 'Shot Clock', 6: 'Team Name', 7: 'Team Points', 8: 'Time Remaining'}\n",
      "{0: 'Ball', 1: 'Hoop', 2: 'Period', 3: 'Player', 4: 'Ref', 5: 'Shot Clock', 6: 'Team Name', 7: 'Team Points', 8: 'Time Remaining'}\n",
      "{0: 'Ball', 1: 'Hoop', 2: 'Period', 3: 'Player', 4: 'Ref', 5: 'Shot Clock', 6: 'Team Name', 7: 'Team Points', 8: 'Time Remaining'}\n",
      "{0: 'Ball', 1: 'Hoop', 2: 'Period', 3: 'Player', 4: 'Ref', 5: 'Shot Clock', 6: 'Team Name', 7: 'Team Points', 8: 'Time Remaining'}\n",
      "{0: 'Ball', 1: 'Hoop', 2: 'Period', 3: 'Player', 4: 'Ref', 5: 'Shot Clock', 6: 'Team Name', 7: 'Team Points', 8: 'Time Remaining'}\n",
      "{0: 'Ball', 1: 'Hoop', 2: 'Period', 3: 'Player', 4: 'Ref', 5: 'Shot Clock', 6: 'Team Name', 7: 'Team Points', 8: 'Time Remaining'}\n",
      "{0: 'Ball', 1: 'Hoop', 2: 'Period', 3: 'Player', 4: 'Ref', 5: 'Shot Clock', 6: 'Team Name', 7: 'Team Points', 8: 'Time Remaining'}\n",
      "{0: 'Ball', 1: 'Hoop', 2: 'Period', 3: 'Player', 4: 'Ref', 5: 'Shot Clock', 6: 'Team Name', 7: 'Team Points', 8: 'Time Remaining'}\n",
      "{0: 'Ball', 1: 'Hoop', 2: 'Period', 3: 'Player', 4: 'Ref', 5: 'Shot Clock', 6: 'Team Name', 7: 'Team Points', 8: 'Time Remaining'}\n",
      "{0: 'Ball', 1: 'Hoop', 2: 'Period', 3: 'Player', 4: 'Ref', 5: 'Shot Clock', 6: 'Team Name', 7: 'Team Points', 8: 'Time Remaining'}\n",
      "{0: 'Ball', 1: 'Hoop', 2: 'Period', 3: 'Player', 4: 'Ref', 5: 'Shot Clock', 6: 'Team Name', 7: 'Team Points', 8: 'Time Remaining'}\n",
      "{0: 'Ball', 1: 'Hoop', 2: 'Period', 3: 'Player', 4: 'Ref', 5: 'Shot Clock', 6: 'Team Name', 7: 'Team Points', 8: 'Time Remaining'}\n",
      "{0: 'Ball', 1: 'Hoop', 2: 'Period', 3: 'Player', 4: 'Ref', 5: 'Shot Clock', 6: 'Team Name', 7: 'Team Points', 8: 'Time Remaining'}\n",
      "{0: 'Ball', 1: 'Hoop', 2: 'Period', 3: 'Player', 4: 'Ref', 5: 'Shot Clock', 6: 'Team Name', 7: 'Team Points', 8: 'Time Remaining'}\n",
      "{0: 'Ball', 1: 'Hoop', 2: 'Period', 3: 'Player', 4: 'Ref', 5: 'Shot Clock', 6: 'Team Name', 7: 'Team Points', 8: 'Time Remaining'}\n",
      "{0: 'Ball', 1: 'Hoop', 2: 'Period', 3: 'Player', 4: 'Ref', 5: 'Shot Clock', 6: 'Team Name', 7: 'Team Points', 8: 'Time Remaining'}\n",
      "{0: 'Ball', 1: 'Hoop', 2: 'Period', 3: 'Player', 4: 'Ref', 5: 'Shot Clock', 6: 'Team Name', 7: 'Team Points', 8: 'Time Remaining'}\n",
      "{0: 'Ball', 1: 'Hoop', 2: 'Period', 3: 'Player', 4: 'Ref', 5: 'Shot Clock', 6: 'Team Name', 7: 'Team Points', 8: 'Time Remaining'}\n",
      "{0: 'Ball', 1: 'Hoop', 2: 'Period', 3: 'Player', 4: 'Ref', 5: 'Shot Clock', 6: 'Team Name', 7: 'Team Points', 8: 'Time Remaining'}\n",
      "{0: 'Ball', 1: 'Hoop', 2: 'Period', 3: 'Player', 4: 'Ref', 5: 'Shot Clock', 6: 'Team Name', 7: 'Team Points', 8: 'Time Remaining'}\n",
      "{0: 'Ball', 1: 'Hoop', 2: 'Period', 3: 'Player', 4: 'Ref', 5: 'Shot Clock', 6: 'Team Name', 7: 'Team Points', 8: 'Time Remaining'}\n",
      "{0: 'Ball', 1: 'Hoop', 2: 'Period', 3: 'Player', 4: 'Ref', 5: 'Shot Clock', 6: 'Team Name', 7: 'Team Points', 8: 'Time Remaining'}\n",
      "{0: 'Ball', 1: 'Hoop', 2: 'Period', 3: 'Player', 4: 'Ref', 5: 'Shot Clock', 6: 'Team Name', 7: 'Team Points', 8: 'Time Remaining'}\n",
      "{0: 'Ball', 1: 'Hoop', 2: 'Period', 3: 'Player', 4: 'Ref', 5: 'Shot Clock', 6: 'Team Name', 7: 'Team Points', 8: 'Time Remaining'}\n",
      "{0: 'Ball', 1: 'Hoop', 2: 'Period', 3: 'Player', 4: 'Ref', 5: 'Shot Clock', 6: 'Team Name', 7: 'Team Points', 8: 'Time Remaining'}\n",
      "{0: 'Ball', 1: 'Hoop', 2: 'Period', 3: 'Player', 4: 'Ref', 5: 'Shot Clock', 6: 'Team Name', 7: 'Team Points', 8: 'Time Remaining'}\n",
      "{0: 'Ball', 1: 'Hoop', 2: 'Period', 3: 'Player', 4: 'Ref', 5: 'Shot Clock', 6: 'Team Name', 7: 'Team Points', 8: 'Time Remaining'}\n",
      "{0: 'Ball', 1: 'Hoop', 2: 'Period', 3: 'Player', 4: 'Ref', 5: 'Shot Clock', 6: 'Team Name', 7: 'Team Points', 8: 'Time Remaining'}\n",
      "{0: 'Ball', 1: 'Hoop', 2: 'Period', 3: 'Player', 4: 'Ref', 5: 'Shot Clock', 6: 'Team Name', 7: 'Team Points', 8: 'Time Remaining'}\n",
      "{0: 'Ball', 1: 'Hoop', 2: 'Period', 3: 'Player', 4: 'Ref', 5: 'Shot Clock', 6: 'Team Name', 7: 'Team Points', 8: 'Time Remaining'}\n",
      "{0: 'Ball', 1: 'Hoop', 2: 'Period', 3: 'Player', 4: 'Ref', 5: 'Shot Clock', 6: 'Team Name', 7: 'Team Points', 8: 'Time Remaining'}\n",
      "{0: 'Ball', 1: 'Hoop', 2: 'Period', 3: 'Player', 4: 'Ref', 5: 'Shot Clock', 6: 'Team Name', 7: 'Team Points', 8: 'Time Remaining'}\n",
      "{0: 'Ball', 1: 'Hoop', 2: 'Period', 3: 'Player', 4: 'Ref', 5: 'Shot Clock', 6: 'Team Name', 7: 'Team Points', 8: 'Time Remaining'}\n",
      "{0: 'Ball', 1: 'Hoop', 2: 'Period', 3: 'Player', 4: 'Ref', 5: 'Shot Clock', 6: 'Team Name', 7: 'Team Points', 8: 'Time Remaining'}\n",
      "{0: 'Ball', 1: 'Hoop', 2: 'Period', 3: 'Player', 4: 'Ref', 5: 'Shot Clock', 6: 'Team Name', 7: 'Team Points', 8: 'Time Remaining'}\n",
      "{0: 'Ball', 1: 'Hoop', 2: 'Period', 3: 'Player', 4: 'Ref', 5: 'Shot Clock', 6: 'Team Name', 7: 'Team Points', 8: 'Time Remaining'}\n",
      "{0: 'Ball', 1: 'Hoop', 2: 'Period', 3: 'Player', 4: 'Ref', 5: 'Shot Clock', 6: 'Team Name', 7: 'Team Points', 8: 'Time Remaining'}\n",
      "{0: 'Ball', 1: 'Hoop', 2: 'Period', 3: 'Player', 4: 'Ref', 5: 'Shot Clock', 6: 'Team Name', 7: 'Team Points', 8: 'Time Remaining'}\n",
      "{0: 'Ball', 1: 'Hoop', 2: 'Period', 3: 'Player', 4: 'Ref', 5: 'Shot Clock', 6: 'Team Name', 7: 'Team Points', 8: 'Time Remaining'}\n",
      "{0: 'Ball', 1: 'Hoop', 2: 'Period', 3: 'Player', 4: 'Ref', 5: 'Shot Clock', 6: 'Team Name', 7: 'Team Points', 8: 'Time Remaining'}\n",
      "{0: 'Ball', 1: 'Hoop', 2: 'Period', 3: 'Player', 4: 'Ref', 5: 'Shot Clock', 6: 'Team Name', 7: 'Team Points', 8: 'Time Remaining'}\n",
      "{0: 'Ball', 1: 'Hoop', 2: 'Period', 3: 'Player', 4: 'Ref', 5: 'Shot Clock', 6: 'Team Name', 7: 'Team Points', 8: 'Time Remaining'}\n",
      "{0: 'Ball', 1: 'Hoop', 2: 'Period', 3: 'Player', 4: 'Ref', 5: 'Shot Clock', 6: 'Team Name', 7: 'Team Points', 8: 'Time Remaining'}\n",
      "{0: 'Ball', 1: 'Hoop', 2: 'Period', 3: 'Player', 4: 'Ref', 5: 'Shot Clock', 6: 'Team Name', 7: 'Team Points', 8: 'Time Remaining'}\n",
      "{0: 'Ball', 1: 'Hoop', 2: 'Period', 3: 'Player', 4: 'Ref', 5: 'Shot Clock', 6: 'Team Name', 7: 'Team Points', 8: 'Time Remaining'}\n",
      "{0: 'Ball', 1: 'Hoop', 2: 'Period', 3: 'Player', 4: 'Ref', 5: 'Shot Clock', 6: 'Team Name', 7: 'Team Points', 8: 'Time Remaining'}\n",
      "{0: 'Ball', 1: 'Hoop', 2: 'Period', 3: 'Player', 4: 'Ref', 5: 'Shot Clock', 6: 'Team Name', 7: 'Team Points', 8: 'Time Remaining'}\n",
      "{0: 'Ball', 1: 'Hoop', 2: 'Period', 3: 'Player', 4: 'Ref', 5: 'Shot Clock', 6: 'Team Name', 7: 'Team Points', 8: 'Time Remaining'}\n",
      "{0: 'Ball', 1: 'Hoop', 2: 'Period', 3: 'Player', 4: 'Ref', 5: 'Shot Clock', 6: 'Team Name', 7: 'Team Points', 8: 'Time Remaining'}\n",
      "{0: 'Ball', 1: 'Hoop', 2: 'Period', 3: 'Player', 4: 'Ref', 5: 'Shot Clock', 6: 'Team Name', 7: 'Team Points', 8: 'Time Remaining'}\n",
      "{0: 'Ball', 1: 'Hoop', 2: 'Period', 3: 'Player', 4: 'Ref', 5: 'Shot Clock', 6: 'Team Name', 7: 'Team Points', 8: 'Time Remaining'}\n",
      "{0: 'Ball', 1: 'Hoop', 2: 'Period', 3: 'Player', 4: 'Ref', 5: 'Shot Clock', 6: 'Team Name', 7: 'Team Points', 8: 'Time Remaining'}\n",
      "{0: 'Ball', 1: 'Hoop', 2: 'Period', 3: 'Player', 4: 'Ref', 5: 'Shot Clock', 6: 'Team Name', 7: 'Team Points', 8: 'Time Remaining'}\n",
      "{0: 'Ball', 1: 'Hoop', 2: 'Period', 3: 'Player', 4: 'Ref', 5: 'Shot Clock', 6: 'Team Name', 7: 'Team Points', 8: 'Time Remaining'}\n",
      "{0: 'Ball', 1: 'Hoop', 2: 'Period', 3: 'Player', 4: 'Ref', 5: 'Shot Clock', 6: 'Team Name', 7: 'Team Points', 8: 'Time Remaining'}\n",
      "{0: 'Ball', 1: 'Hoop', 2: 'Period', 3: 'Player', 4: 'Ref', 5: 'Shot Clock', 6: 'Team Name', 7: 'Team Points', 8: 'Time Remaining'}\n",
      "{0: 'Ball', 1: 'Hoop', 2: 'Period', 3: 'Player', 4: 'Ref', 5: 'Shot Clock', 6: 'Team Name', 7: 'Team Points', 8: 'Time Remaining'}\n",
      "{0: 'Ball', 1: 'Hoop', 2: 'Period', 3: 'Player', 4: 'Ref', 5: 'Shot Clock', 6: 'Team Name', 7: 'Team Points', 8: 'Time Remaining'}\n",
      "{0: 'Ball', 1: 'Hoop', 2: 'Period', 3: 'Player', 4: 'Ref', 5: 'Shot Clock', 6: 'Team Name', 7: 'Team Points', 8: 'Time Remaining'}\n",
      "{0: 'Ball', 1: 'Hoop', 2: 'Period', 3: 'Player', 4: 'Ref', 5: 'Shot Clock', 6: 'Team Name', 7: 'Team Points', 8: 'Time Remaining'}\n",
      "{0: 'Ball', 1: 'Hoop', 2: 'Period', 3: 'Player', 4: 'Ref', 5: 'Shot Clock', 6: 'Team Name', 7: 'Team Points', 8: 'Time Remaining'}\n",
      "{0: 'Ball', 1: 'Hoop', 2: 'Period', 3: 'Player', 4: 'Ref', 5: 'Shot Clock', 6: 'Team Name', 7: 'Team Points', 8: 'Time Remaining'}\n",
      "{0: 'Ball', 1: 'Hoop', 2: 'Period', 3: 'Player', 4: 'Ref', 5: 'Shot Clock', 6: 'Team Name', 7: 'Team Points', 8: 'Time Remaining'}\n",
      "{0: 'Ball', 1: 'Hoop', 2: 'Period', 3: 'Player', 4: 'Ref', 5: 'Shot Clock', 6: 'Team Name', 7: 'Team Points', 8: 'Time Remaining'}\n",
      "{0: 'Ball', 1: 'Hoop', 2: 'Period', 3: 'Player', 4: 'Ref', 5: 'Shot Clock', 6: 'Team Name', 7: 'Team Points', 8: 'Time Remaining'}\n",
      "{0: 'Ball', 1: 'Hoop', 2: 'Period', 3: 'Player', 4: 'Ref', 5: 'Shot Clock', 6: 'Team Name', 7: 'Team Points', 8: 'Time Remaining'}\n",
      "{0: 'Ball', 1: 'Hoop', 2: 'Period', 3: 'Player', 4: 'Ref', 5: 'Shot Clock', 6: 'Team Name', 7: 'Team Points', 8: 'Time Remaining'}\n",
      "{0: 'Ball', 1: 'Hoop', 2: 'Period', 3: 'Player', 4: 'Ref', 5: 'Shot Clock', 6: 'Team Name', 7: 'Team Points', 8: 'Time Remaining'}\n",
      "{0: 'Ball', 1: 'Hoop', 2: 'Period', 3: 'Player', 4: 'Ref', 5: 'Shot Clock', 6: 'Team Name', 7: 'Team Points', 8: 'Time Remaining'}\n",
      "{0: 'Ball', 1: 'Hoop', 2: 'Period', 3: 'Player', 4: 'Ref', 5: 'Shot Clock', 6: 'Team Name', 7: 'Team Points', 8: 'Time Remaining'}\n",
      "{0: 'Ball', 1: 'Hoop', 2: 'Period', 3: 'Player', 4: 'Ref', 5: 'Shot Clock', 6: 'Team Name', 7: 'Team Points', 8: 'Time Remaining'}\n",
      "{0: 'Ball', 1: 'Hoop', 2: 'Period', 3: 'Player', 4: 'Ref', 5: 'Shot Clock', 6: 'Team Name', 7: 'Team Points', 8: 'Time Remaining'}\n",
      "{0: 'Ball', 1: 'Hoop', 2: 'Period', 3: 'Player', 4: 'Ref', 5: 'Shot Clock', 6: 'Team Name', 7: 'Team Points', 8: 'Time Remaining'}\n",
      "{0: 'Ball', 1: 'Hoop', 2: 'Period', 3: 'Player', 4: 'Ref', 5: 'Shot Clock', 6: 'Team Name', 7: 'Team Points', 8: 'Time Remaining'}\n",
      "{0: 'Ball', 1: 'Hoop', 2: 'Period', 3: 'Player', 4: 'Ref', 5: 'Shot Clock', 6: 'Team Name', 7: 'Team Points', 8: 'Time Remaining'}\n",
      "{0: 'Ball', 1: 'Hoop', 2: 'Period', 3: 'Player', 4: 'Ref', 5: 'Shot Clock', 6: 'Team Name', 7: 'Team Points', 8: 'Time Remaining'}\n",
      "{0: 'Ball', 1: 'Hoop', 2: 'Period', 3: 'Player', 4: 'Ref', 5: 'Shot Clock', 6: 'Team Name', 7: 'Team Points', 8: 'Time Remaining'}\n",
      "{0: 'Ball', 1: 'Hoop', 2: 'Period', 3: 'Player', 4: 'Ref', 5: 'Shot Clock', 6: 'Team Name', 7: 'Team Points', 8: 'Time Remaining'}\n",
      "{0: 'Ball', 1: 'Hoop', 2: 'Period', 3: 'Player', 4: 'Ref', 5: 'Shot Clock', 6: 'Team Name', 7: 'Team Points', 8: 'Time Remaining'}\n",
      "{0: 'Ball', 1: 'Hoop', 2: 'Period', 3: 'Player', 4: 'Ref', 5: 'Shot Clock', 6: 'Team Name', 7: 'Team Points', 8: 'Time Remaining'}\n",
      "{0: 'Ball', 1: 'Hoop', 2: 'Period', 3: 'Player', 4: 'Ref', 5: 'Shot Clock', 6: 'Team Name', 7: 'Team Points', 8: 'Time Remaining'}\n",
      "{0: 'Ball', 1: 'Hoop', 2: 'Period', 3: 'Player', 4: 'Ref', 5: 'Shot Clock', 6: 'Team Name', 7: 'Team Points', 8: 'Time Remaining'}\n",
      "{0: 'Ball', 1: 'Hoop', 2: 'Period', 3: 'Player', 4: 'Ref', 5: 'Shot Clock', 6: 'Team Name', 7: 'Team Points', 8: 'Time Remaining'}\n",
      "{0: 'Ball', 1: 'Hoop', 2: 'Period', 3: 'Player', 4: 'Ref', 5: 'Shot Clock', 6: 'Team Name', 7: 'Team Points', 8: 'Time Remaining'}\n",
      "{0: 'Ball', 1: 'Hoop', 2: 'Period', 3: 'Player', 4: 'Ref', 5: 'Shot Clock', 6: 'Team Name', 7: 'Team Points', 8: 'Time Remaining'}\n",
      "{0: 'Ball', 1: 'Hoop', 2: 'Period', 3: 'Player', 4: 'Ref', 5: 'Shot Clock', 6: 'Team Name', 7: 'Team Points', 8: 'Time Remaining'}\n",
      "{0: 'Ball', 1: 'Hoop', 2: 'Period', 3: 'Player', 4: 'Ref', 5: 'Shot Clock', 6: 'Team Name', 7: 'Team Points', 8: 'Time Remaining'}\n",
      "{0: 'Ball', 1: 'Hoop', 2: 'Period', 3: 'Player', 4: 'Ref', 5: 'Shot Clock', 6: 'Team Name', 7: 'Team Points', 8: 'Time Remaining'}\n",
      "{0: 'Ball', 1: 'Hoop', 2: 'Period', 3: 'Player', 4: 'Ref', 5: 'Shot Clock', 6: 'Team Name', 7: 'Team Points', 8: 'Time Remaining'}\n",
      "{0: 'Ball', 1: 'Hoop', 2: 'Period', 3: 'Player', 4: 'Ref', 5: 'Shot Clock', 6: 'Team Name', 7: 'Team Points', 8: 'Time Remaining'}\n",
      "{0: 'Ball', 1: 'Hoop', 2: 'Period', 3: 'Player', 4: 'Ref', 5: 'Shot Clock', 6: 'Team Name', 7: 'Team Points', 8: 'Time Remaining'}\n",
      "{0: 'Ball', 1: 'Hoop', 2: 'Period', 3: 'Player', 4: 'Ref', 5: 'Shot Clock', 6: 'Team Name', 7: 'Team Points', 8: 'Time Remaining'}\n",
      "{0: 'Ball', 1: 'Hoop', 2: 'Period', 3: 'Player', 4: 'Ref', 5: 'Shot Clock', 6: 'Team Name', 7: 'Team Points', 8: 'Time Remaining'}\n",
      "{0: 'Ball', 1: 'Hoop', 2: 'Period', 3: 'Player', 4: 'Ref', 5: 'Shot Clock', 6: 'Team Name', 7: 'Team Points', 8: 'Time Remaining'}\n",
      "{0: 'Ball', 1: 'Hoop', 2: 'Period', 3: 'Player', 4: 'Ref', 5: 'Shot Clock', 6: 'Team Name', 7: 'Team Points', 8: 'Time Remaining'}\n",
      "{0: 'Ball', 1: 'Hoop', 2: 'Period', 3: 'Player', 4: 'Ref', 5: 'Shot Clock', 6: 'Team Name', 7: 'Team Points', 8: 'Time Remaining'}\n",
      "{0: 'Ball', 1: 'Hoop', 2: 'Period', 3: 'Player', 4: 'Ref', 5: 'Shot Clock', 6: 'Team Name', 7: 'Team Points', 8: 'Time Remaining'}\n",
      "{0: 'Ball', 1: 'Hoop', 2: 'Period', 3: 'Player', 4: 'Ref', 5: 'Shot Clock', 6: 'Team Name', 7: 'Team Points', 8: 'Time Remaining'}\n",
      "{0: 'Ball', 1: 'Hoop', 2: 'Period', 3: 'Player', 4: 'Ref', 5: 'Shot Clock', 6: 'Team Name', 7: 'Team Points', 8: 'Time Remaining'}\n",
      "{0: 'Ball', 1: 'Hoop', 2: 'Period', 3: 'Player', 4: 'Ref', 5: 'Shot Clock', 6: 'Team Name', 7: 'Team Points', 8: 'Time Remaining'}\n",
      "{0: 'Ball', 1: 'Hoop', 2: 'Period', 3: 'Player', 4: 'Ref', 5: 'Shot Clock', 6: 'Team Name', 7: 'Team Points', 8: 'Time Remaining'}\n",
      "{0: 'Ball', 1: 'Hoop', 2: 'Period', 3: 'Player', 4: 'Ref', 5: 'Shot Clock', 6: 'Team Name', 7: 'Team Points', 8: 'Time Remaining'}\n",
      "{0: 'Ball', 1: 'Hoop', 2: 'Period', 3: 'Player', 4: 'Ref', 5: 'Shot Clock', 6: 'Team Name', 7: 'Team Points', 8: 'Time Remaining'}\n",
      "{0: 'Ball', 1: 'Hoop', 2: 'Period', 3: 'Player', 4: 'Ref', 5: 'Shot Clock', 6: 'Team Name', 7: 'Team Points', 8: 'Time Remaining'}\n",
      "{0: 'Ball', 1: 'Hoop', 2: 'Period', 3: 'Player', 4: 'Ref', 5: 'Shot Clock', 6: 'Team Name', 7: 'Team Points', 8: 'Time Remaining'}\n",
      "{0: 'Ball', 1: 'Hoop', 2: 'Period', 3: 'Player', 4: 'Ref', 5: 'Shot Clock', 6: 'Team Name', 7: 'Team Points', 8: 'Time Remaining'}\n",
      "{0: 'Ball', 1: 'Hoop', 2: 'Period', 3: 'Player', 4: 'Ref', 5: 'Shot Clock', 6: 'Team Name', 7: 'Team Points', 8: 'Time Remaining'}\n",
      "{0: 'Ball', 1: 'Hoop', 2: 'Period', 3: 'Player', 4: 'Ref', 5: 'Shot Clock', 6: 'Team Name', 7: 'Team Points', 8: 'Time Remaining'}\n",
      "{0: 'Ball', 1: 'Hoop', 2: 'Period', 3: 'Player', 4: 'Ref', 5: 'Shot Clock', 6: 'Team Name', 7: 'Team Points', 8: 'Time Remaining'}\n",
      "{0: 'Ball', 1: 'Hoop', 2: 'Period', 3: 'Player', 4: 'Ref', 5: 'Shot Clock', 6: 'Team Name', 7: 'Team Points', 8: 'Time Remaining'}\n",
      "{0: 'Ball', 1: 'Hoop', 2: 'Period', 3: 'Player', 4: 'Ref', 5: 'Shot Clock', 6: 'Team Name', 7: 'Team Points', 8: 'Time Remaining'}\n",
      "{0: 'Ball', 1: 'Hoop', 2: 'Period', 3: 'Player', 4: 'Ref', 5: 'Shot Clock', 6: 'Team Name', 7: 'Team Points', 8: 'Time Remaining'}\n",
      "{0: 'Ball', 1: 'Hoop', 2: 'Period', 3: 'Player', 4: 'Ref', 5: 'Shot Clock', 6: 'Team Name', 7: 'Team Points', 8: 'Time Remaining'}\n",
      "{0: 'Ball', 1: 'Hoop', 2: 'Period', 3: 'Player', 4: 'Ref', 5: 'Shot Clock', 6: 'Team Name', 7: 'Team Points', 8: 'Time Remaining'}\n",
      "{0: 'Ball', 1: 'Hoop', 2: 'Period', 3: 'Player', 4: 'Ref', 5: 'Shot Clock', 6: 'Team Name', 7: 'Team Points', 8: 'Time Remaining'}\n",
      "{0: 'Ball', 1: 'Hoop', 2: 'Period', 3: 'Player', 4: 'Ref', 5: 'Shot Clock', 6: 'Team Name', 7: 'Team Points', 8: 'Time Remaining'}\n",
      "{0: 'Ball', 1: 'Hoop', 2: 'Period', 3: 'Player', 4: 'Ref', 5: 'Shot Clock', 6: 'Team Name', 7: 'Team Points', 8: 'Time Remaining'}\n",
      "{0: 'Ball', 1: 'Hoop', 2: 'Period', 3: 'Player', 4: 'Ref', 5: 'Shot Clock', 6: 'Team Name', 7: 'Team Points', 8: 'Time Remaining'}\n",
      "{0: 'Ball', 1: 'Hoop', 2: 'Period', 3: 'Player', 4: 'Ref', 5: 'Shot Clock', 6: 'Team Name', 7: 'Team Points', 8: 'Time Remaining'}\n",
      "{0: 'Ball', 1: 'Hoop', 2: 'Period', 3: 'Player', 4: 'Ref', 5: 'Shot Clock', 6: 'Team Name', 7: 'Team Points', 8: 'Time Remaining'}\n",
      "{0: 'Ball', 1: 'Hoop', 2: 'Period', 3: 'Player', 4: 'Ref', 5: 'Shot Clock', 6: 'Team Name', 7: 'Team Points', 8: 'Time Remaining'}\n",
      "{0: 'Ball', 1: 'Hoop', 2: 'Period', 3: 'Player', 4: 'Ref', 5: 'Shot Clock', 6: 'Team Name', 7: 'Team Points', 8: 'Time Remaining'}\n",
      "{0: 'Ball', 1: 'Hoop', 2: 'Period', 3: 'Player', 4: 'Ref', 5: 'Shot Clock', 6: 'Team Name', 7: 'Team Points', 8: 'Time Remaining'}\n",
      "{0: 'Ball', 1: 'Hoop', 2: 'Period', 3: 'Player', 4: 'Ref', 5: 'Shot Clock', 6: 'Team Name', 7: 'Team Points', 8: 'Time Remaining'}\n",
      "{0: 'Ball', 1: 'Hoop', 2: 'Period', 3: 'Player', 4: 'Ref', 5: 'Shot Clock', 6: 'Team Name', 7: 'Team Points', 8: 'Time Remaining'}\n",
      "{0: 'Ball', 1: 'Hoop', 2: 'Period', 3: 'Player', 4: 'Ref', 5: 'Shot Clock', 6: 'Team Name', 7: 'Team Points', 8: 'Time Remaining'}\n",
      "{0: 'Ball', 1: 'Hoop', 2: 'Period', 3: 'Player', 4: 'Ref', 5: 'Shot Clock', 6: 'Team Name', 7: 'Team Points', 8: 'Time Remaining'}\n",
      "{0: 'Ball', 1: 'Hoop', 2: 'Period', 3: 'Player', 4: 'Ref', 5: 'Shot Clock', 6: 'Team Name', 7: 'Team Points', 8: 'Time Remaining'}\n",
      "{0: 'Ball', 1: 'Hoop', 2: 'Period', 3: 'Player', 4: 'Ref', 5: 'Shot Clock', 6: 'Team Name', 7: 'Team Points', 8: 'Time Remaining'}\n",
      "{0: 'Ball', 1: 'Hoop', 2: 'Period', 3: 'Player', 4: 'Ref', 5: 'Shot Clock', 6: 'Team Name', 7: 'Team Points', 8: 'Time Remaining'}\n",
      "{0: 'Ball', 1: 'Hoop', 2: 'Period', 3: 'Player', 4: 'Ref', 5: 'Shot Clock', 6: 'Team Name', 7: 'Team Points', 8: 'Time Remaining'}\n",
      "{0: 'Ball', 1: 'Hoop', 2: 'Period', 3: 'Player', 4: 'Ref', 5: 'Shot Clock', 6: 'Team Name', 7: 'Team Points', 8: 'Time Remaining'}\n",
      "{0: 'Ball', 1: 'Hoop', 2: 'Period', 3: 'Player', 4: 'Ref', 5: 'Shot Clock', 6: 'Team Name', 7: 'Team Points', 8: 'Time Remaining'}\n",
      "{0: 'Ball', 1: 'Hoop', 2: 'Period', 3: 'Player', 4: 'Ref', 5: 'Shot Clock', 6: 'Team Name', 7: 'Team Points', 8: 'Time Remaining'}\n",
      "{0: 'Ball', 1: 'Hoop', 2: 'Period', 3: 'Player', 4: 'Ref', 5: 'Shot Clock', 6: 'Team Name', 7: 'Team Points', 8: 'Time Remaining'}\n",
      "{0: 'Ball', 1: 'Hoop', 2: 'Period', 3: 'Player', 4: 'Ref', 5: 'Shot Clock', 6: 'Team Name', 7: 'Team Points', 8: 'Time Remaining'}\n",
      "{0: 'Ball', 1: 'Hoop', 2: 'Period', 3: 'Player', 4: 'Ref', 5: 'Shot Clock', 6: 'Team Name', 7: 'Team Points', 8: 'Time Remaining'}\n",
      "{0: 'Ball', 1: 'Hoop', 2: 'Period', 3: 'Player', 4: 'Ref', 5: 'Shot Clock', 6: 'Team Name', 7: 'Team Points', 8: 'Time Remaining'}\n",
      "{0: 'Ball', 1: 'Hoop', 2: 'Period', 3: 'Player', 4: 'Ref', 5: 'Shot Clock', 6: 'Team Name', 7: 'Team Points', 8: 'Time Remaining'}\n",
      "{0: 'Ball', 1: 'Hoop', 2: 'Period', 3: 'Player', 4: 'Ref', 5: 'Shot Clock', 6: 'Team Name', 7: 'Team Points', 8: 'Time Remaining'}\n",
      "{0: 'Ball', 1: 'Hoop', 2: 'Period', 3: 'Player', 4: 'Ref', 5: 'Shot Clock', 6: 'Team Name', 7: 'Team Points', 8: 'Time Remaining'}\n",
      "{0: 'Ball', 1: 'Hoop', 2: 'Period', 3: 'Player', 4: 'Ref', 5: 'Shot Clock', 6: 'Team Name', 7: 'Team Points', 8: 'Time Remaining'}\n",
      "{0: 'Ball', 1: 'Hoop', 2: 'Period', 3: 'Player', 4: 'Ref', 5: 'Shot Clock', 6: 'Team Name', 7: 'Team Points', 8: 'Time Remaining'}\n",
      "{0: 'Ball', 1: 'Hoop', 2: 'Period', 3: 'Player', 4: 'Ref', 5: 'Shot Clock', 6: 'Team Name', 7: 'Team Points', 8: 'Time Remaining'}\n",
      "{0: 'Ball', 1: 'Hoop', 2: 'Period', 3: 'Player', 4: 'Ref', 5: 'Shot Clock', 6: 'Team Name', 7: 'Team Points', 8: 'Time Remaining'}\n",
      "{0: 'Ball', 1: 'Hoop', 2: 'Period', 3: 'Player', 4: 'Ref', 5: 'Shot Clock', 6: 'Team Name', 7: 'Team Points', 8: 'Time Remaining'}\n",
      "{0: 'Ball', 1: 'Hoop', 2: 'Period', 3: 'Player', 4: 'Ref', 5: 'Shot Clock', 6: 'Team Name', 7: 'Team Points', 8: 'Time Remaining'}\n",
      "{0: 'Ball', 1: 'Hoop', 2: 'Period', 3: 'Player', 4: 'Ref', 5: 'Shot Clock', 6: 'Team Name', 7: 'Team Points', 8: 'Time Remaining'}\n",
      "{0: 'Ball', 1: 'Hoop', 2: 'Period', 3: 'Player', 4: 'Ref', 5: 'Shot Clock', 6: 'Team Name', 7: 'Team Points', 8: 'Time Remaining'}\n",
      "{0: 'Ball', 1: 'Hoop', 2: 'Period', 3: 'Player', 4: 'Ref', 5: 'Shot Clock', 6: 'Team Name', 7: 'Team Points', 8: 'Time Remaining'}\n",
      "{0: 'Ball', 1: 'Hoop', 2: 'Period', 3: 'Player', 4: 'Ref', 5: 'Shot Clock', 6: 'Team Name', 7: 'Team Points', 8: 'Time Remaining'}\n",
      "{0: 'Ball', 1: 'Hoop', 2: 'Period', 3: 'Player', 4: 'Ref', 5: 'Shot Clock', 6: 'Team Name', 7: 'Team Points', 8: 'Time Remaining'}\n",
      "{0: 'Ball', 1: 'Hoop', 2: 'Period', 3: 'Player', 4: 'Ref', 5: 'Shot Clock', 6: 'Team Name', 7: 'Team Points', 8: 'Time Remaining'}\n",
      "{0: 'Ball', 1: 'Hoop', 2: 'Period', 3: 'Player', 4: 'Ref', 5: 'Shot Clock', 6: 'Team Name', 7: 'Team Points', 8: 'Time Remaining'}\n",
      "{0: 'Ball', 1: 'Hoop', 2: 'Period', 3: 'Player', 4: 'Ref', 5: 'Shot Clock', 6: 'Team Name', 7: 'Team Points', 8: 'Time Remaining'}\n",
      "{0: 'Ball', 1: 'Hoop', 2: 'Period', 3: 'Player', 4: 'Ref', 5: 'Shot Clock', 6: 'Team Name', 7: 'Team Points', 8: 'Time Remaining'}\n",
      "{0: 'Ball', 1: 'Hoop', 2: 'Period', 3: 'Player', 4: 'Ref', 5: 'Shot Clock', 6: 'Team Name', 7: 'Team Points', 8: 'Time Remaining'}\n",
      "{0: 'Ball', 1: 'Hoop', 2: 'Period', 3: 'Player', 4: 'Ref', 5: 'Shot Clock', 6: 'Team Name', 7: 'Team Points', 8: 'Time Remaining'}\n",
      "{0: 'Ball', 1: 'Hoop', 2: 'Period', 3: 'Player', 4: 'Ref', 5: 'Shot Clock', 6: 'Team Name', 7: 'Team Points', 8: 'Time Remaining'}\n",
      "{0: 'Ball', 1: 'Hoop', 2: 'Period', 3: 'Player', 4: 'Ref', 5: 'Shot Clock', 6: 'Team Name', 7: 'Team Points', 8: 'Time Remaining'}\n",
      "{0: 'Ball', 1: 'Hoop', 2: 'Period', 3: 'Player', 4: 'Ref', 5: 'Shot Clock', 6: 'Team Name', 7: 'Team Points', 8: 'Time Remaining'}\n",
      "{0: 'Ball', 1: 'Hoop', 2: 'Period', 3: 'Player', 4: 'Ref', 5: 'Shot Clock', 6: 'Team Name', 7: 'Team Points', 8: 'Time Remaining'}\n",
      "{0: 'Ball', 1: 'Hoop', 2: 'Period', 3: 'Player', 4: 'Ref', 5: 'Shot Clock', 6: 'Team Name', 7: 'Team Points', 8: 'Time Remaining'}\n",
      "{0: 'Ball', 1: 'Hoop', 2: 'Period', 3: 'Player', 4: 'Ref', 5: 'Shot Clock', 6: 'Team Name', 7: 'Team Points', 8: 'Time Remaining'}\n",
      "{0: 'Ball', 1: 'Hoop', 2: 'Period', 3: 'Player', 4: 'Ref', 5: 'Shot Clock', 6: 'Team Name', 7: 'Team Points', 8: 'Time Remaining'}\n",
      "{0: 'Ball', 1: 'Hoop', 2: 'Period', 3: 'Player', 4: 'Ref', 5: 'Shot Clock', 6: 'Team Name', 7: 'Team Points', 8: 'Time Remaining'}\n",
      "{0: 'Ball', 1: 'Hoop', 2: 'Period', 3: 'Player', 4: 'Ref', 5: 'Shot Clock', 6: 'Team Name', 7: 'Team Points', 8: 'Time Remaining'}\n",
      "{0: 'Ball', 1: 'Hoop', 2: 'Period', 3: 'Player', 4: 'Ref', 5: 'Shot Clock', 6: 'Team Name', 7: 'Team Points', 8: 'Time Remaining'}\n",
      "{0: 'Ball', 1: 'Hoop', 2: 'Period', 3: 'Player', 4: 'Ref', 5: 'Shot Clock', 6: 'Team Name', 7: 'Team Points', 8: 'Time Remaining'}\n",
      "{0: 'Ball', 1: 'Hoop', 2: 'Period', 3: 'Player', 4: 'Ref', 5: 'Shot Clock', 6: 'Team Name', 7: 'Team Points', 8: 'Time Remaining'}\n",
      "{0: 'Ball', 1: 'Hoop', 2: 'Period', 3: 'Player', 4: 'Ref', 5: 'Shot Clock', 6: 'Team Name', 7: 'Team Points', 8: 'Time Remaining'}\n",
      "{0: 'Ball', 1: 'Hoop', 2: 'Period', 3: 'Player', 4: 'Ref', 5: 'Shot Clock', 6: 'Team Name', 7: 'Team Points', 8: 'Time Remaining'}\n",
      "{0: 'Ball', 1: 'Hoop', 2: 'Period', 3: 'Player', 4: 'Ref', 5: 'Shot Clock', 6: 'Team Name', 7: 'Team Points', 8: 'Time Remaining'}\n",
      "{0: 'Ball', 1: 'Hoop', 2: 'Period', 3: 'Player', 4: 'Ref', 5: 'Shot Clock', 6: 'Team Name', 7: 'Team Points', 8: 'Time Remaining'}\n",
      "{0: 'Ball', 1: 'Hoop', 2: 'Period', 3: 'Player', 4: 'Ref', 5: 'Shot Clock', 6: 'Team Name', 7: 'Team Points', 8: 'Time Remaining'}\n",
      "{0: 'Ball', 1: 'Hoop', 2: 'Period', 3: 'Player', 4: 'Ref', 5: 'Shot Clock', 6: 'Team Name', 7: 'Team Points', 8: 'Time Remaining'}\n",
      "{0: 'Ball', 1: 'Hoop', 2: 'Period', 3: 'Player', 4: 'Ref', 5: 'Shot Clock', 6: 'Team Name', 7: 'Team Points', 8: 'Time Remaining'}\n",
      "{0: 'Ball', 1: 'Hoop', 2: 'Period', 3: 'Player', 4: 'Ref', 5: 'Shot Clock', 6: 'Team Name', 7: 'Team Points', 8: 'Time Remaining'}\n",
      "{0: 'Ball', 1: 'Hoop', 2: 'Period', 3: 'Player', 4: 'Ref', 5: 'Shot Clock', 6: 'Team Name', 7: 'Team Points', 8: 'Time Remaining'}\n",
      "{0: 'Ball', 1: 'Hoop', 2: 'Period', 3: 'Player', 4: 'Ref', 5: 'Shot Clock', 6: 'Team Name', 7: 'Team Points', 8: 'Time Remaining'}\n",
      "{0: 'Ball', 1: 'Hoop', 2: 'Period', 3: 'Player', 4: 'Ref', 5: 'Shot Clock', 6: 'Team Name', 7: 'Team Points', 8: 'Time Remaining'}\n",
      "{0: 'Ball', 1: 'Hoop', 2: 'Period', 3: 'Player', 4: 'Ref', 5: 'Shot Clock', 6: 'Team Name', 7: 'Team Points', 8: 'Time Remaining'}\n",
      "{0: 'Ball', 1: 'Hoop', 2: 'Period', 3: 'Player', 4: 'Ref', 5: 'Shot Clock', 6: 'Team Name', 7: 'Team Points', 8: 'Time Remaining'}\n",
      "{0: 'Ball', 1: 'Hoop', 2: 'Period', 3: 'Player', 4: 'Ref', 5: 'Shot Clock', 6: 'Team Name', 7: 'Team Points', 8: 'Time Remaining'}\n",
      "{0: 'Ball', 1: 'Hoop', 2: 'Period', 3: 'Player', 4: 'Ref', 5: 'Shot Clock', 6: 'Team Name', 7: 'Team Points', 8: 'Time Remaining'}\n",
      "{0: 'Ball', 1: 'Hoop', 2: 'Period', 3: 'Player', 4: 'Ref', 5: 'Shot Clock', 6: 'Team Name', 7: 'Team Points', 8: 'Time Remaining'}\n",
      "{0: 'Ball', 1: 'Hoop', 2: 'Period', 3: 'Player', 4: 'Ref', 5: 'Shot Clock', 6: 'Team Name', 7: 'Team Points', 8: 'Time Remaining'}\n",
      "{0: 'Ball', 1: 'Hoop', 2: 'Period', 3: 'Player', 4: 'Ref', 5: 'Shot Clock', 6: 'Team Name', 7: 'Team Points', 8: 'Time Remaining'}\n",
      "{0: 'Ball', 1: 'Hoop', 2: 'Period', 3: 'Player', 4: 'Ref', 5: 'Shot Clock', 6: 'Team Name', 7: 'Team Points', 8: 'Time Remaining'}\n",
      "{0: 'Ball', 1: 'Hoop', 2: 'Period', 3: 'Player', 4: 'Ref', 5: 'Shot Clock', 6: 'Team Name', 7: 'Team Points', 8: 'Time Remaining'}\n",
      "{0: 'Ball', 1: 'Hoop', 2: 'Period', 3: 'Player', 4: 'Ref', 5: 'Shot Clock', 6: 'Team Name', 7: 'Team Points', 8: 'Time Remaining'}\n",
      "{0: 'Ball', 1: 'Hoop', 2: 'Period', 3: 'Player', 4: 'Ref', 5: 'Shot Clock', 6: 'Team Name', 7: 'Team Points', 8: 'Time Remaining'}\n",
      "{0: 'Ball', 1: 'Hoop', 2: 'Period', 3: 'Player', 4: 'Ref', 5: 'Shot Clock', 6: 'Team Name', 7: 'Team Points', 8: 'Time Remaining'}\n",
      "{0: 'Ball', 1: 'Hoop', 2: 'Period', 3: 'Player', 4: 'Ref', 5: 'Shot Clock', 6: 'Team Name', 7: 'Team Points', 8: 'Time Remaining'}\n",
      "{0: 'Ball', 1: 'Hoop', 2: 'Period', 3: 'Player', 4: 'Ref', 5: 'Shot Clock', 6: 'Team Name', 7: 'Team Points', 8: 'Time Remaining'}\n",
      "{0: 'Ball', 1: 'Hoop', 2: 'Period', 3: 'Player', 4: 'Ref', 5: 'Shot Clock', 6: 'Team Name', 7: 'Team Points', 8: 'Time Remaining'}\n",
      "{0: 'Ball', 1: 'Hoop', 2: 'Period', 3: 'Player', 4: 'Ref', 5: 'Shot Clock', 6: 'Team Name', 7: 'Team Points', 8: 'Time Remaining'}\n",
      "{0: 'Ball', 1: 'Hoop', 2: 'Period', 3: 'Player', 4: 'Ref', 5: 'Shot Clock', 6: 'Team Name', 7: 'Team Points', 8: 'Time Remaining'}\n",
      "{0: 'Ball', 1: 'Hoop', 2: 'Period', 3: 'Player', 4: 'Ref', 5: 'Shot Clock', 6: 'Team Name', 7: 'Team Points', 8: 'Time Remaining'}\n",
      "{0: 'Ball', 1: 'Hoop', 2: 'Period', 3: 'Player', 4: 'Ref', 5: 'Shot Clock', 6: 'Team Name', 7: 'Team Points', 8: 'Time Remaining'}\n",
      "{0: 'Ball', 1: 'Hoop', 2: 'Period', 3: 'Player', 4: 'Ref', 5: 'Shot Clock', 6: 'Team Name', 7: 'Team Points', 8: 'Time Remaining'}\n",
      "{0: 'Ball', 1: 'Hoop', 2: 'Period', 3: 'Player', 4: 'Ref', 5: 'Shot Clock', 6: 'Team Name', 7: 'Team Points', 8: 'Time Remaining'}\n",
      "{0: 'Ball', 1: 'Hoop', 2: 'Period', 3: 'Player', 4: 'Ref', 5: 'Shot Clock', 6: 'Team Name', 7: 'Team Points', 8: 'Time Remaining'}\n",
      "{0: 'Ball', 1: 'Hoop', 2: 'Period', 3: 'Player', 4: 'Ref', 5: 'Shot Clock', 6: 'Team Name', 7: 'Team Points', 8: 'Time Remaining'}\n",
      "{0: 'Ball', 1: 'Hoop', 2: 'Period', 3: 'Player', 4: 'Ref', 5: 'Shot Clock', 6: 'Team Name', 7: 'Team Points', 8: 'Time Remaining'}\n",
      "{0: 'Ball', 1: 'Hoop', 2: 'Period', 3: 'Player', 4: 'Ref', 5: 'Shot Clock', 6: 'Team Name', 7: 'Team Points', 8: 'Time Remaining'}\n",
      "{0: 'Ball', 1: 'Hoop', 2: 'Period', 3: 'Player', 4: 'Ref', 5: 'Shot Clock', 6: 'Team Name', 7: 'Team Points', 8: 'Time Remaining'}\n",
      "{0: 'Ball', 1: 'Hoop', 2: 'Period', 3: 'Player', 4: 'Ref', 5: 'Shot Clock', 6: 'Team Name', 7: 'Team Points', 8: 'Time Remaining'}\n",
      "{0: 'Ball', 1: 'Hoop', 2: 'Period', 3: 'Player', 4: 'Ref', 5: 'Shot Clock', 6: 'Team Name', 7: 'Team Points', 8: 'Time Remaining'}\n",
      "{0: 'Ball', 1: 'Hoop', 2: 'Period', 3: 'Player', 4: 'Ref', 5: 'Shot Clock', 6: 'Team Name', 7: 'Team Points', 8: 'Time Remaining'}\n",
      "{0: 'Ball', 1: 'Hoop', 2: 'Period', 3: 'Player', 4: 'Ref', 5: 'Shot Clock', 6: 'Team Name', 7: 'Team Points', 8: 'Time Remaining'}\n",
      "{0: 'Ball', 1: 'Hoop', 2: 'Period', 3: 'Player', 4: 'Ref', 5: 'Shot Clock', 6: 'Team Name', 7: 'Team Points', 8: 'Time Remaining'}\n",
      "{0: 'Ball', 1: 'Hoop', 2: 'Period', 3: 'Player', 4: 'Ref', 5: 'Shot Clock', 6: 'Team Name', 7: 'Team Points', 8: 'Time Remaining'}\n",
      "{0: 'Ball', 1: 'Hoop', 2: 'Period', 3: 'Player', 4: 'Ref', 5: 'Shot Clock', 6: 'Team Name', 7: 'Team Points', 8: 'Time Remaining'}\n",
      "{0: 'Ball', 1: 'Hoop', 2: 'Period', 3: 'Player', 4: 'Ref', 5: 'Shot Clock', 6: 'Team Name', 7: 'Team Points', 8: 'Time Remaining'}\n",
      "{0: 'Ball', 1: 'Hoop', 2: 'Period', 3: 'Player', 4: 'Ref', 5: 'Shot Clock', 6: 'Team Name', 7: 'Team Points', 8: 'Time Remaining'}\n",
      "{0: 'Ball', 1: 'Hoop', 2: 'Period', 3: 'Player', 4: 'Ref', 5: 'Shot Clock', 6: 'Team Name', 7: 'Team Points', 8: 'Time Remaining'}\n",
      "{0: 'Ball', 1: 'Hoop', 2: 'Period', 3: 'Player', 4: 'Ref', 5: 'Shot Clock', 6: 'Team Name', 7: 'Team Points', 8: 'Time Remaining'}\n",
      "{0: 'Ball', 1: 'Hoop', 2: 'Period', 3: 'Player', 4: 'Ref', 5: 'Shot Clock', 6: 'Team Name', 7: 'Team Points', 8: 'Time Remaining'}\n",
      "{0: 'Ball', 1: 'Hoop', 2: 'Period', 3: 'Player', 4: 'Ref', 5: 'Shot Clock', 6: 'Team Name', 7: 'Team Points', 8: 'Time Remaining'}\n",
      "{0: 'Ball', 1: 'Hoop', 2: 'Period', 3: 'Player', 4: 'Ref', 5: 'Shot Clock', 6: 'Team Name', 7: 'Team Points', 8: 'Time Remaining'}\n",
      "{0: 'Ball', 1: 'Hoop', 2: 'Period', 3: 'Player', 4: 'Ref', 5: 'Shot Clock', 6: 'Team Name', 7: 'Team Points', 8: 'Time Remaining'}\n",
      "{0: 'Ball', 1: 'Hoop', 2: 'Period', 3: 'Player', 4: 'Ref', 5: 'Shot Clock', 6: 'Team Name', 7: 'Team Points', 8: 'Time Remaining'}\n",
      "{0: 'Ball', 1: 'Hoop', 2: 'Period', 3: 'Player', 4: 'Ref', 5: 'Shot Clock', 6: 'Team Name', 7: 'Team Points', 8: 'Time Remaining'}\n",
      "{0: 'Ball', 1: 'Hoop', 2: 'Period', 3: 'Player', 4: 'Ref', 5: 'Shot Clock', 6: 'Team Name', 7: 'Team Points', 8: 'Time Remaining'}\n",
      "{0: 'Ball', 1: 'Hoop', 2: 'Period', 3: 'Player', 4: 'Ref', 5: 'Shot Clock', 6: 'Team Name', 7: 'Team Points', 8: 'Time Remaining'}\n",
      "{0: 'Ball', 1: 'Hoop', 2: 'Period', 3: 'Player', 4: 'Ref', 5: 'Shot Clock', 6: 'Team Name', 7: 'Team Points', 8: 'Time Remaining'}\n",
      "{0: 'Ball', 1: 'Hoop', 2: 'Period', 3: 'Player', 4: 'Ref', 5: 'Shot Clock', 6: 'Team Name', 7: 'Team Points', 8: 'Time Remaining'}\n",
      "{0: 'Ball', 1: 'Hoop', 2: 'Period', 3: 'Player', 4: 'Ref', 5: 'Shot Clock', 6: 'Team Name', 7: 'Team Points', 8: 'Time Remaining'}\n",
      "{0: 'Ball', 1: 'Hoop', 2: 'Period', 3: 'Player', 4: 'Ref', 5: 'Shot Clock', 6: 'Team Name', 7: 'Team Points', 8: 'Time Remaining'}\n",
      "{0: 'Ball', 1: 'Hoop', 2: 'Period', 3: 'Player', 4: 'Ref', 5: 'Shot Clock', 6: 'Team Name', 7: 'Team Points', 8: 'Time Remaining'}\n",
      "{0: 'Ball', 1: 'Hoop', 2: 'Period', 3: 'Player', 4: 'Ref', 5: 'Shot Clock', 6: 'Team Name', 7: 'Team Points', 8: 'Time Remaining'}\n",
      "{0: 'Ball', 1: 'Hoop', 2: 'Period', 3: 'Player', 4: 'Ref', 5: 'Shot Clock', 6: 'Team Name', 7: 'Team Points', 8: 'Time Remaining'}\n",
      "{0: 'Ball', 1: 'Hoop', 2: 'Period', 3: 'Player', 4: 'Ref', 5: 'Shot Clock', 6: 'Team Name', 7: 'Team Points', 8: 'Time Remaining'}\n",
      "{0: 'Ball', 1: 'Hoop', 2: 'Period', 3: 'Player', 4: 'Ref', 5: 'Shot Clock', 6: 'Team Name', 7: 'Team Points', 8: 'Time Remaining'}\n",
      "{0: 'Ball', 1: 'Hoop', 2: 'Period', 3: 'Player', 4: 'Ref', 5: 'Shot Clock', 6: 'Team Name', 7: 'Team Points', 8: 'Time Remaining'}\n",
      "{0: 'Ball', 1: 'Hoop', 2: 'Period', 3: 'Player', 4: 'Ref', 5: 'Shot Clock', 6: 'Team Name', 7: 'Team Points', 8: 'Time Remaining'}\n",
      "{0: 'Ball', 1: 'Hoop', 2: 'Period', 3: 'Player', 4: 'Ref', 5: 'Shot Clock', 6: 'Team Name', 7: 'Team Points', 8: 'Time Remaining'}\n",
      "{0: 'Ball', 1: 'Hoop', 2: 'Period', 3: 'Player', 4: 'Ref', 5: 'Shot Clock', 6: 'Team Name', 7: 'Team Points', 8: 'Time Remaining'}\n",
      "{0: 'Ball', 1: 'Hoop', 2: 'Period', 3: 'Player', 4: 'Ref', 5: 'Shot Clock', 6: 'Team Name', 7: 'Team Points', 8: 'Time Remaining'}\n",
      "{0: 'Ball', 1: 'Hoop', 2: 'Period', 3: 'Player', 4: 'Ref', 5: 'Shot Clock', 6: 'Team Name', 7: 'Team Points', 8: 'Time Remaining'}\n",
      "{0: 'Ball', 1: 'Hoop', 2: 'Period', 3: 'Player', 4: 'Ref', 5: 'Shot Clock', 6: 'Team Name', 7: 'Team Points', 8: 'Time Remaining'}\n",
      "{0: 'Ball', 1: 'Hoop', 2: 'Period', 3: 'Player', 4: 'Ref', 5: 'Shot Clock', 6: 'Team Name', 7: 'Team Points', 8: 'Time Remaining'}\n",
      "{0: 'Ball', 1: 'Hoop', 2: 'Period', 3: 'Player', 4: 'Ref', 5: 'Shot Clock', 6: 'Team Name', 7: 'Team Points', 8: 'Time Remaining'}\n",
      "{0: 'Ball', 1: 'Hoop', 2: 'Period', 3: 'Player', 4: 'Ref', 5: 'Shot Clock', 6: 'Team Name', 7: 'Team Points', 8: 'Time Remaining'}\n",
      "{0: 'Ball', 1: 'Hoop', 2: 'Period', 3: 'Player', 4: 'Ref', 5: 'Shot Clock', 6: 'Team Name', 7: 'Team Points', 8: 'Time Remaining'}\n",
      "{0: 'Ball', 1: 'Hoop', 2: 'Period', 3: 'Player', 4: 'Ref', 5: 'Shot Clock', 6: 'Team Name', 7: 'Team Points', 8: 'Time Remaining'}\n",
      "{0: 'Ball', 1: 'Hoop', 2: 'Period', 3: 'Player', 4: 'Ref', 5: 'Shot Clock', 6: 'Team Name', 7: 'Team Points', 8: 'Time Remaining'}\n",
      "{0: 'Ball', 1: 'Hoop', 2: 'Period', 3: 'Player', 4: 'Ref', 5: 'Shot Clock', 6: 'Team Name', 7: 'Team Points', 8: 'Time Remaining'}\n",
      "{0: 'Ball', 1: 'Hoop', 2: 'Period', 3: 'Player', 4: 'Ref', 5: 'Shot Clock', 6: 'Team Name', 7: 'Team Points', 8: 'Time Remaining'}\n",
      "{0: 'Ball', 1: 'Hoop', 2: 'Period', 3: 'Player', 4: 'Ref', 5: 'Shot Clock', 6: 'Team Name', 7: 'Team Points', 8: 'Time Remaining'}\n",
      "{0: 'Ball', 1: 'Hoop', 2: 'Period', 3: 'Player', 4: 'Ref', 5: 'Shot Clock', 6: 'Team Name', 7: 'Team Points', 8: 'Time Remaining'}\n",
      "{0: 'Ball', 1: 'Hoop', 2: 'Period', 3: 'Player', 4: 'Ref', 5: 'Shot Clock', 6: 'Team Name', 7: 'Team Points', 8: 'Time Remaining'}\n",
      "{0: 'Ball', 1: 'Hoop', 2: 'Period', 3: 'Player', 4: 'Ref', 5: 'Shot Clock', 6: 'Team Name', 7: 'Team Points', 8: 'Time Remaining'}\n",
      "{0: 'Ball', 1: 'Hoop', 2: 'Period', 3: 'Player', 4: 'Ref', 5: 'Shot Clock', 6: 'Team Name', 7: 'Team Points', 8: 'Time Remaining'}\n",
      "{0: 'Ball', 1: 'Hoop', 2: 'Period', 3: 'Player', 4: 'Ref', 5: 'Shot Clock', 6: 'Team Name', 7: 'Team Points', 8: 'Time Remaining'}\n",
      "{0: 'Ball', 1: 'Hoop', 2: 'Period', 3: 'Player', 4: 'Ref', 5: 'Shot Clock', 6: 'Team Name', 7: 'Team Points', 8: 'Time Remaining'}\n",
      "{0: 'Ball', 1: 'Hoop', 2: 'Period', 3: 'Player', 4: 'Ref', 5: 'Shot Clock', 6: 'Team Name', 7: 'Team Points', 8: 'Time Remaining'}\n",
      "{0: 'Ball', 1: 'Hoop', 2: 'Period', 3: 'Player', 4: 'Ref', 5: 'Shot Clock', 6: 'Team Name', 7: 'Team Points', 8: 'Time Remaining'}\n",
      "{0: 'Ball', 1: 'Hoop', 2: 'Period', 3: 'Player', 4: 'Ref', 5: 'Shot Clock', 6: 'Team Name', 7: 'Team Points', 8: 'Time Remaining'}\n",
      "{0: 'Ball', 1: 'Hoop', 2: 'Period', 3: 'Player', 4: 'Ref', 5: 'Shot Clock', 6: 'Team Name', 7: 'Team Points', 8: 'Time Remaining'}\n",
      "{0: 'Ball', 1: 'Hoop', 2: 'Period', 3: 'Player', 4: 'Ref', 5: 'Shot Clock', 6: 'Team Name', 7: 'Team Points', 8: 'Time Remaining'}\n",
      "{0: 'Ball', 1: 'Hoop', 2: 'Period', 3: 'Player', 4: 'Ref', 5: 'Shot Clock', 6: 'Team Name', 7: 'Team Points', 8: 'Time Remaining'}\n",
      "{0: 'Ball', 1: 'Hoop', 2: 'Period', 3: 'Player', 4: 'Ref', 5: 'Shot Clock', 6: 'Team Name', 7: 'Team Points', 8: 'Time Remaining'}\n",
      "{0: 'Ball', 1: 'Hoop', 2: 'Period', 3: 'Player', 4: 'Ref', 5: 'Shot Clock', 6: 'Team Name', 7: 'Team Points', 8: 'Time Remaining'}\n",
      "{0: 'Ball', 1: 'Hoop', 2: 'Period', 3: 'Player', 4: 'Ref', 5: 'Shot Clock', 6: 'Team Name', 7: 'Team Points', 8: 'Time Remaining'}\n",
      "{0: 'Ball', 1: 'Hoop', 2: 'Period', 3: 'Player', 4: 'Ref', 5: 'Shot Clock', 6: 'Team Name', 7: 'Team Points', 8: 'Time Remaining'}\n",
      "{0: 'Ball', 1: 'Hoop', 2: 'Period', 3: 'Player', 4: 'Ref', 5: 'Shot Clock', 6: 'Team Name', 7: 'Team Points', 8: 'Time Remaining'}\n",
      "{0: 'Ball', 1: 'Hoop', 2: 'Period', 3: 'Player', 4: 'Ref', 5: 'Shot Clock', 6: 'Team Name', 7: 'Team Points', 8: 'Time Remaining'}\n",
      "{0: 'Ball', 1: 'Hoop', 2: 'Period', 3: 'Player', 4: 'Ref', 5: 'Shot Clock', 6: 'Team Name', 7: 'Team Points', 8: 'Time Remaining'}\n",
      "{0: 'Ball', 1: 'Hoop', 2: 'Period', 3: 'Player', 4: 'Ref', 5: 'Shot Clock', 6: 'Team Name', 7: 'Team Points', 8: 'Time Remaining'}\n",
      "{0: 'Ball', 1: 'Hoop', 2: 'Period', 3: 'Player', 4: 'Ref', 5: 'Shot Clock', 6: 'Team Name', 7: 'Team Points', 8: 'Time Remaining'}\n",
      "{0: 'Ball', 1: 'Hoop', 2: 'Period', 3: 'Player', 4: 'Ref', 5: 'Shot Clock', 6: 'Team Name', 7: 'Team Points', 8: 'Time Remaining'}\n",
      "{0: 'Ball', 1: 'Hoop', 2: 'Period', 3: 'Player', 4: 'Ref', 5: 'Shot Clock', 6: 'Team Name', 7: 'Team Points', 8: 'Time Remaining'}\n",
      "{0: 'Ball', 1: 'Hoop', 2: 'Period', 3: 'Player', 4: 'Ref', 5: 'Shot Clock', 6: 'Team Name', 7: 'Team Points', 8: 'Time Remaining'}\n",
      "{0: 'Ball', 1: 'Hoop', 2: 'Period', 3: 'Player', 4: 'Ref', 5: 'Shot Clock', 6: 'Team Name', 7: 'Team Points', 8: 'Time Remaining'}\n",
      "{0: 'Ball', 1: 'Hoop', 2: 'Period', 3: 'Player', 4: 'Ref', 5: 'Shot Clock', 6: 'Team Name', 7: 'Team Points', 8: 'Time Remaining'}\n",
      "{0: 'Ball', 1: 'Hoop', 2: 'Period', 3: 'Player', 4: 'Ref', 5: 'Shot Clock', 6: 'Team Name', 7: 'Team Points', 8: 'Time Remaining'}\n",
      "{0: 'Ball', 1: 'Hoop', 2: 'Period', 3: 'Player', 4: 'Ref', 5: 'Shot Clock', 6: 'Team Name', 7: 'Team Points', 8: 'Time Remaining'}\n",
      "{0: 'Ball', 1: 'Hoop', 2: 'Period', 3: 'Player', 4: 'Ref', 5: 'Shot Clock', 6: 'Team Name', 7: 'Team Points', 8: 'Time Remaining'}\n",
      "{0: 'Ball', 1: 'Hoop', 2: 'Period', 3: 'Player', 4: 'Ref', 5: 'Shot Clock', 6: 'Team Name', 7: 'Team Points', 8: 'Time Remaining'}\n",
      "{0: 'Ball', 1: 'Hoop', 2: 'Period', 3: 'Player', 4: 'Ref', 5: 'Shot Clock', 6: 'Team Name', 7: 'Team Points', 8: 'Time Remaining'}\n",
      "{0: 'Ball', 1: 'Hoop', 2: 'Period', 3: 'Player', 4: 'Ref', 5: 'Shot Clock', 6: 'Team Name', 7: 'Team Points', 8: 'Time Remaining'}\n",
      "{0: 'Ball', 1: 'Hoop', 2: 'Period', 3: 'Player', 4: 'Ref', 5: 'Shot Clock', 6: 'Team Name', 7: 'Team Points', 8: 'Time Remaining'}\n",
      "{0: 'Ball', 1: 'Hoop', 2: 'Period', 3: 'Player', 4: 'Ref', 5: 'Shot Clock', 6: 'Team Name', 7: 'Team Points', 8: 'Time Remaining'}\n",
      "{0: 'Ball', 1: 'Hoop', 2: 'Period', 3: 'Player', 4: 'Ref', 5: 'Shot Clock', 6: 'Team Name', 7: 'Team Points', 8: 'Time Remaining'}\n",
      "{0: 'Ball', 1: 'Hoop', 2: 'Period', 3: 'Player', 4: 'Ref', 5: 'Shot Clock', 6: 'Team Name', 7: 'Team Points', 8: 'Time Remaining'}\n",
      "{0: 'Ball', 1: 'Hoop', 2: 'Period', 3: 'Player', 4: 'Ref', 5: 'Shot Clock', 6: 'Team Name', 7: 'Team Points', 8: 'Time Remaining'}\n",
      "{0: 'Ball', 1: 'Hoop', 2: 'Period', 3: 'Player', 4: 'Ref', 5: 'Shot Clock', 6: 'Team Name', 7: 'Team Points', 8: 'Time Remaining'}\n",
      "{0: 'Ball', 1: 'Hoop', 2: 'Period', 3: 'Player', 4: 'Ref', 5: 'Shot Clock', 6: 'Team Name', 7: 'Team Points', 8: 'Time Remaining'}\n",
      "{0: 'Ball', 1: 'Hoop', 2: 'Period', 3: 'Player', 4: 'Ref', 5: 'Shot Clock', 6: 'Team Name', 7: 'Team Points', 8: 'Time Remaining'}\n",
      "{0: 'Ball', 1: 'Hoop', 2: 'Period', 3: 'Player', 4: 'Ref', 5: 'Shot Clock', 6: 'Team Name', 7: 'Team Points', 8: 'Time Remaining'}\n",
      "{0: 'Ball', 1: 'Hoop', 2: 'Period', 3: 'Player', 4: 'Ref', 5: 'Shot Clock', 6: 'Team Name', 7: 'Team Points', 8: 'Time Remaining'}\n",
      "{0: 'Ball', 1: 'Hoop', 2: 'Period', 3: 'Player', 4: 'Ref', 5: 'Shot Clock', 6: 'Team Name', 7: 'Team Points', 8: 'Time Remaining'}\n",
      "{0: 'Ball', 1: 'Hoop', 2: 'Period', 3: 'Player', 4: 'Ref', 5: 'Shot Clock', 6: 'Team Name', 7: 'Team Points', 8: 'Time Remaining'}\n",
      "{0: 'Ball', 1: 'Hoop', 2: 'Period', 3: 'Player', 4: 'Ref', 5: 'Shot Clock', 6: 'Team Name', 7: 'Team Points', 8: 'Time Remaining'}\n",
      "{0: 'Ball', 1: 'Hoop', 2: 'Period', 3: 'Player', 4: 'Ref', 5: 'Shot Clock', 6: 'Team Name', 7: 'Team Points', 8: 'Time Remaining'}\n",
      "{0: 'Ball', 1: 'Hoop', 2: 'Period', 3: 'Player', 4: 'Ref', 5: 'Shot Clock', 6: 'Team Name', 7: 'Team Points', 8: 'Time Remaining'}\n",
      "{0: 'Ball', 1: 'Hoop', 2: 'Period', 3: 'Player', 4: 'Ref', 5: 'Shot Clock', 6: 'Team Name', 7: 'Team Points', 8: 'Time Remaining'}\n",
      "{0: 'Ball', 1: 'Hoop', 2: 'Period', 3: 'Player', 4: 'Ref', 5: 'Shot Clock', 6: 'Team Name', 7: 'Team Points', 8: 'Time Remaining'}\n",
      "{0: 'Ball', 1: 'Hoop', 2: 'Period', 3: 'Player', 4: 'Ref', 5: 'Shot Clock', 6: 'Team Name', 7: 'Team Points', 8: 'Time Remaining'}\n",
      "{0: 'Ball', 1: 'Hoop', 2: 'Period', 3: 'Player', 4: 'Ref', 5: 'Shot Clock', 6: 'Team Name', 7: 'Team Points', 8: 'Time Remaining'}\n",
      "{0: 'Ball', 1: 'Hoop', 2: 'Period', 3: 'Player', 4: 'Ref', 5: 'Shot Clock', 6: 'Team Name', 7: 'Team Points', 8: 'Time Remaining'}\n",
      "{0: 'Ball', 1: 'Hoop', 2: 'Period', 3: 'Player', 4: 'Ref', 5: 'Shot Clock', 6: 'Team Name', 7: 'Team Points', 8: 'Time Remaining'}\n",
      "{0: 'Ball', 1: 'Hoop', 2: 'Period', 3: 'Player', 4: 'Ref', 5: 'Shot Clock', 6: 'Team Name', 7: 'Team Points', 8: 'Time Remaining'}\n",
      "{0: 'Ball', 1: 'Hoop', 2: 'Period', 3: 'Player', 4: 'Ref', 5: 'Shot Clock', 6: 'Team Name', 7: 'Team Points', 8: 'Time Remaining'}\n",
      "{0: 'Ball', 1: 'Hoop', 2: 'Period', 3: 'Player', 4: 'Ref', 5: 'Shot Clock', 6: 'Team Name', 7: 'Team Points', 8: 'Time Remaining'}\n",
      "{0: 'Ball', 1: 'Hoop', 2: 'Period', 3: 'Player', 4: 'Ref', 5: 'Shot Clock', 6: 'Team Name', 7: 'Team Points', 8: 'Time Remaining'}\n",
      "{0: 'Ball', 1: 'Hoop', 2: 'Period', 3: 'Player', 4: 'Ref', 5: 'Shot Clock', 6: 'Team Name', 7: 'Team Points', 8: 'Time Remaining'}\n",
      "{0: 'Ball', 1: 'Hoop', 2: 'Period', 3: 'Player', 4: 'Ref', 5: 'Shot Clock', 6: 'Team Name', 7: 'Team Points', 8: 'Time Remaining'}\n",
      "{0: 'Ball', 1: 'Hoop', 2: 'Period', 3: 'Player', 4: 'Ref', 5: 'Shot Clock', 6: 'Team Name', 7: 'Team Points', 8: 'Time Remaining'}\n",
      "{0: 'Ball', 1: 'Hoop', 2: 'Period', 3: 'Player', 4: 'Ref', 5: 'Shot Clock', 6: 'Team Name', 7: 'Team Points', 8: 'Time Remaining'}\n",
      "{0: 'Ball', 1: 'Hoop', 2: 'Period', 3: 'Player', 4: 'Ref', 5: 'Shot Clock', 6: 'Team Name', 7: 'Team Points', 8: 'Time Remaining'}\n",
      "{0: 'Ball', 1: 'Hoop', 2: 'Period', 3: 'Player', 4: 'Ref', 5: 'Shot Clock', 6: 'Team Name', 7: 'Team Points', 8: 'Time Remaining'}\n",
      "{0: 'Ball', 1: 'Hoop', 2: 'Period', 3: 'Player', 4: 'Ref', 5: 'Shot Clock', 6: 'Team Name', 7: 'Team Points', 8: 'Time Remaining'}\n",
      "{0: 'Ball', 1: 'Hoop', 2: 'Period', 3: 'Player', 4: 'Ref', 5: 'Shot Clock', 6: 'Team Name', 7: 'Team Points', 8: 'Time Remaining'}\n",
      "{0: 'Ball', 1: 'Hoop', 2: 'Period', 3: 'Player', 4: 'Ref', 5: 'Shot Clock', 6: 'Team Name', 7: 'Team Points', 8: 'Time Remaining'}\n",
      "{0: 'Ball', 1: 'Hoop', 2: 'Period', 3: 'Player', 4: 'Ref', 5: 'Shot Clock', 6: 'Team Name', 7: 'Team Points', 8: 'Time Remaining'}\n",
      "{0: 'Ball', 1: 'Hoop', 2: 'Period', 3: 'Player', 4: 'Ref', 5: 'Shot Clock', 6: 'Team Name', 7: 'Team Points', 8: 'Time Remaining'}\n",
      "{0: 'Ball', 1: 'Hoop', 2: 'Period', 3: 'Player', 4: 'Ref', 5: 'Shot Clock', 6: 'Team Name', 7: 'Team Points', 8: 'Time Remaining'}\n",
      "{0: 'Ball', 1: 'Hoop', 2: 'Period', 3: 'Player', 4: 'Ref', 5: 'Shot Clock', 6: 'Team Name', 7: 'Team Points', 8: 'Time Remaining'}\n",
      "{0: 'Ball', 1: 'Hoop', 2: 'Period', 3: 'Player', 4: 'Ref', 5: 'Shot Clock', 6: 'Team Name', 7: 'Team Points', 8: 'Time Remaining'}\n",
      "{0: 'Ball', 1: 'Hoop', 2: 'Period', 3: 'Player', 4: 'Ref', 5: 'Shot Clock', 6: 'Team Name', 7: 'Team Points', 8: 'Time Remaining'}\n",
      "{0: 'Ball', 1: 'Hoop', 2: 'Period', 3: 'Player', 4: 'Ref', 5: 'Shot Clock', 6: 'Team Name', 7: 'Team Points', 8: 'Time Remaining'}\n",
      "{0: 'Ball', 1: 'Hoop', 2: 'Period', 3: 'Player', 4: 'Ref', 5: 'Shot Clock', 6: 'Team Name', 7: 'Team Points', 8: 'Time Remaining'}\n",
      "{0: 'Ball', 1: 'Hoop', 2: 'Period', 3: 'Player', 4: 'Ref', 5: 'Shot Clock', 6: 'Team Name', 7: 'Team Points', 8: 'Time Remaining'}\n",
      "{0: 'Ball', 1: 'Hoop', 2: 'Period', 3: 'Player', 4: 'Ref', 5: 'Shot Clock', 6: 'Team Name', 7: 'Team Points', 8: 'Time Remaining'}\n",
      "{0: 'Ball', 1: 'Hoop', 2: 'Period', 3: 'Player', 4: 'Ref', 5: 'Shot Clock', 6: 'Team Name', 7: 'Team Points', 8: 'Time Remaining'}\n",
      "{0: 'Ball', 1: 'Hoop', 2: 'Period', 3: 'Player', 4: 'Ref', 5: 'Shot Clock', 6: 'Team Name', 7: 'Team Points', 8: 'Time Remaining'}\n",
      "{0: 'Ball', 1: 'Hoop', 2: 'Period', 3: 'Player', 4: 'Ref', 5: 'Shot Clock', 6: 'Team Name', 7: 'Team Points', 8: 'Time Remaining'}\n",
      "{0: 'Ball', 1: 'Hoop', 2: 'Period', 3: 'Player', 4: 'Ref', 5: 'Shot Clock', 6: 'Team Name', 7: 'Team Points', 8: 'Time Remaining'}\n",
      "{0: 'Ball', 1: 'Hoop', 2: 'Period', 3: 'Player', 4: 'Ref', 5: 'Shot Clock', 6: 'Team Name', 7: 'Team Points', 8: 'Time Remaining'}\n",
      "{0: 'Ball', 1: 'Hoop', 2: 'Period', 3: 'Player', 4: 'Ref', 5: 'Shot Clock', 6: 'Team Name', 7: 'Team Points', 8: 'Time Remaining'}\n",
      "{0: 'Ball', 1: 'Hoop', 2: 'Period', 3: 'Player', 4: 'Ref', 5: 'Shot Clock', 6: 'Team Name', 7: 'Team Points', 8: 'Time Remaining'}\n",
      "{0: 'Ball', 1: 'Hoop', 2: 'Period', 3: 'Player', 4: 'Ref', 5: 'Shot Clock', 6: 'Team Name', 7: 'Team Points', 8: 'Time Remaining'}\n",
      "{0: 'Ball', 1: 'Hoop', 2: 'Period', 3: 'Player', 4: 'Ref', 5: 'Shot Clock', 6: 'Team Name', 7: 'Team Points', 8: 'Time Remaining'}\n",
      "{0: 'Ball', 1: 'Hoop', 2: 'Period', 3: 'Player', 4: 'Ref', 5: 'Shot Clock', 6: 'Team Name', 7: 'Team Points', 8: 'Time Remaining'}\n",
      "{0: 'Ball', 1: 'Hoop', 2: 'Period', 3: 'Player', 4: 'Ref', 5: 'Shot Clock', 6: 'Team Name', 7: 'Team Points', 8: 'Time Remaining'}\n",
      "{0: 'Ball', 1: 'Hoop', 2: 'Period', 3: 'Player', 4: 'Ref', 5: 'Shot Clock', 6: 'Team Name', 7: 'Team Points', 8: 'Time Remaining'}\n",
      "{0: 'Ball', 1: 'Hoop', 2: 'Period', 3: 'Player', 4: 'Ref', 5: 'Shot Clock', 6: 'Team Name', 7: 'Team Points', 8: 'Time Remaining'}\n",
      "{0: 'Ball', 1: 'Hoop', 2: 'Period', 3: 'Player', 4: 'Ref', 5: 'Shot Clock', 6: 'Team Name', 7: 'Team Points', 8: 'Time Remaining'}\n",
      "{0: 'Ball', 1: 'Hoop', 2: 'Period', 3: 'Player', 4: 'Ref', 5: 'Shot Clock', 6: 'Team Name', 7: 'Team Points', 8: 'Time Remaining'}\n",
      "{0: 'Ball', 1: 'Hoop', 2: 'Period', 3: 'Player', 4: 'Ref', 5: 'Shot Clock', 6: 'Team Name', 7: 'Team Points', 8: 'Time Remaining'}\n",
      "{0: 'Ball', 1: 'Hoop', 2: 'Period', 3: 'Player', 4: 'Ref', 5: 'Shot Clock', 6: 'Team Name', 7: 'Team Points', 8: 'Time Remaining'}\n",
      "{0: 'Ball', 1: 'Hoop', 2: 'Period', 3: 'Player', 4: 'Ref', 5: 'Shot Clock', 6: 'Team Name', 7: 'Team Points', 8: 'Time Remaining'}\n",
      "{0: 'Ball', 1: 'Hoop', 2: 'Period', 3: 'Player', 4: 'Ref', 5: 'Shot Clock', 6: 'Team Name', 7: 'Team Points', 8: 'Time Remaining'}\n",
      "{0: 'Ball', 1: 'Hoop', 2: 'Period', 3: 'Player', 4: 'Ref', 5: 'Shot Clock', 6: 'Team Name', 7: 'Team Points', 8: 'Time Remaining'}\n",
      "{0: 'Ball', 1: 'Hoop', 2: 'Period', 3: 'Player', 4: 'Ref', 5: 'Shot Clock', 6: 'Team Name', 7: 'Team Points', 8: 'Time Remaining'}\n",
      "{0: 'Ball', 1: 'Hoop', 2: 'Period', 3: 'Player', 4: 'Ref', 5: 'Shot Clock', 6: 'Team Name', 7: 'Team Points', 8: 'Time Remaining'}\n",
      "{0: 'Ball', 1: 'Hoop', 2: 'Period', 3: 'Player', 4: 'Ref', 5: 'Shot Clock', 6: 'Team Name', 7: 'Team Points', 8: 'Time Remaining'}\n",
      "{0: 'Ball', 1: 'Hoop', 2: 'Period', 3: 'Player', 4: 'Ref', 5: 'Shot Clock', 6: 'Team Name', 7: 'Team Points', 8: 'Time Remaining'}\n",
      "{0: 'Ball', 1: 'Hoop', 2: 'Period', 3: 'Player', 4: 'Ref', 5: 'Shot Clock', 6: 'Team Name', 7: 'Team Points', 8: 'Time Remaining'}\n",
      "{0: 'Ball', 1: 'Hoop', 2: 'Period', 3: 'Player', 4: 'Ref', 5: 'Shot Clock', 6: 'Team Name', 7: 'Team Points', 8: 'Time Remaining'}\n",
      "{0: 'Ball', 1: 'Hoop', 2: 'Period', 3: 'Player', 4: 'Ref', 5: 'Shot Clock', 6: 'Team Name', 7: 'Team Points', 8: 'Time Remaining'}\n",
      "{0: 'Ball', 1: 'Hoop', 2: 'Period', 3: 'Player', 4: 'Ref', 5: 'Shot Clock', 6: 'Team Name', 7: 'Team Points', 8: 'Time Remaining'}\n",
      "{0: 'Ball', 1: 'Hoop', 2: 'Period', 3: 'Player', 4: 'Ref', 5: 'Shot Clock', 6: 'Team Name', 7: 'Team Points', 8: 'Time Remaining'}\n",
      "{0: 'Ball', 1: 'Hoop', 2: 'Period', 3: 'Player', 4: 'Ref', 5: 'Shot Clock', 6: 'Team Name', 7: 'Team Points', 8: 'Time Remaining'}\n",
      "{0: 'Ball', 1: 'Hoop', 2: 'Period', 3: 'Player', 4: 'Ref', 5: 'Shot Clock', 6: 'Team Name', 7: 'Team Points', 8: 'Time Remaining'}\n",
      "{0: 'Ball', 1: 'Hoop', 2: 'Period', 3: 'Player', 4: 'Ref', 5: 'Shot Clock', 6: 'Team Name', 7: 'Team Points', 8: 'Time Remaining'}\n",
      "{0: 'Ball', 1: 'Hoop', 2: 'Period', 3: 'Player', 4: 'Ref', 5: 'Shot Clock', 6: 'Team Name', 7: 'Team Points', 8: 'Time Remaining'}\n",
      "{0: 'Ball', 1: 'Hoop', 2: 'Period', 3: 'Player', 4: 'Ref', 5: 'Shot Clock', 6: 'Team Name', 7: 'Team Points', 8: 'Time Remaining'}\n",
      "{0: 'Ball', 1: 'Hoop', 2: 'Period', 3: 'Player', 4: 'Ref', 5: 'Shot Clock', 6: 'Team Name', 7: 'Team Points', 8: 'Time Remaining'}\n",
      "{0: 'Ball', 1: 'Hoop', 2: 'Period', 3: 'Player', 4: 'Ref', 5: 'Shot Clock', 6: 'Team Name', 7: 'Team Points', 8: 'Time Remaining'}\n",
      "{0: 'Ball', 1: 'Hoop', 2: 'Period', 3: 'Player', 4: 'Ref', 5: 'Shot Clock', 6: 'Team Name', 7: 'Team Points', 8: 'Time Remaining'}\n",
      "{0: 'Ball', 1: 'Hoop', 2: 'Period', 3: 'Player', 4: 'Ref', 5: 'Shot Clock', 6: 'Team Name', 7: 'Team Points', 8: 'Time Remaining'}\n",
      "{0: 'Ball', 1: 'Hoop', 2: 'Period', 3: 'Player', 4: 'Ref', 5: 'Shot Clock', 6: 'Team Name', 7: 'Team Points', 8: 'Time Remaining'}\n",
      "{0: 'Ball', 1: 'Hoop', 2: 'Period', 3: 'Player', 4: 'Ref', 5: 'Shot Clock', 6: 'Team Name', 7: 'Team Points', 8: 'Time Remaining'}\n",
      "{0: 'Ball', 1: 'Hoop', 2: 'Period', 3: 'Player', 4: 'Ref', 5: 'Shot Clock', 6: 'Team Name', 7: 'Team Points', 8: 'Time Remaining'}\n",
      "{0: 'Ball', 1: 'Hoop', 2: 'Period', 3: 'Player', 4: 'Ref', 5: 'Shot Clock', 6: 'Team Name', 7: 'Team Points', 8: 'Time Remaining'}\n",
      "{0: 'Ball', 1: 'Hoop', 2: 'Period', 3: 'Player', 4: 'Ref', 5: 'Shot Clock', 6: 'Team Name', 7: 'Team Points', 8: 'Time Remaining'}\n",
      "{0: 'Ball', 1: 'Hoop', 2: 'Period', 3: 'Player', 4: 'Ref', 5: 'Shot Clock', 6: 'Team Name', 7: 'Team Points', 8: 'Time Remaining'}\n",
      "{0: 'Ball', 1: 'Hoop', 2: 'Period', 3: 'Player', 4: 'Ref', 5: 'Shot Clock', 6: 'Team Name', 7: 'Team Points', 8: 'Time Remaining'}\n",
      "{0: 'Ball', 1: 'Hoop', 2: 'Period', 3: 'Player', 4: 'Ref', 5: 'Shot Clock', 6: 'Team Name', 7: 'Team Points', 8: 'Time Remaining'}\n",
      "{0: 'Ball', 1: 'Hoop', 2: 'Period', 3: 'Player', 4: 'Ref', 5: 'Shot Clock', 6: 'Team Name', 7: 'Team Points', 8: 'Time Remaining'}\n",
      "{0: 'Ball', 1: 'Hoop', 2: 'Period', 3: 'Player', 4: 'Ref', 5: 'Shot Clock', 6: 'Team Name', 7: 'Team Points', 8: 'Time Remaining'}\n",
      "{0: 'Ball', 1: 'Hoop', 2: 'Period', 3: 'Player', 4: 'Ref', 5: 'Shot Clock', 6: 'Team Name', 7: 'Team Points', 8: 'Time Remaining'}\n",
      "{0: 'Ball', 1: 'Hoop', 2: 'Period', 3: 'Player', 4: 'Ref', 5: 'Shot Clock', 6: 'Team Name', 7: 'Team Points', 8: 'Time Remaining'}\n",
      "{0: 'Ball', 1: 'Hoop', 2: 'Period', 3: 'Player', 4: 'Ref', 5: 'Shot Clock', 6: 'Team Name', 7: 'Team Points', 8: 'Time Remaining'}\n",
      "{0: 'Ball', 1: 'Hoop', 2: 'Period', 3: 'Player', 4: 'Ref', 5: 'Shot Clock', 6: 'Team Name', 7: 'Team Points', 8: 'Time Remaining'}\n",
      "{0: 'Ball', 1: 'Hoop', 2: 'Period', 3: 'Player', 4: 'Ref', 5: 'Shot Clock', 6: 'Team Name', 7: 'Team Points', 8: 'Time Remaining'}\n",
      "{0: 'Ball', 1: 'Hoop', 2: 'Period', 3: 'Player', 4: 'Ref', 5: 'Shot Clock', 6: 'Team Name', 7: 'Team Points', 8: 'Time Remaining'}\n",
      "{0: 'Ball', 1: 'Hoop', 2: 'Period', 3: 'Player', 4: 'Ref', 5: 'Shot Clock', 6: 'Team Name', 7: 'Team Points', 8: 'Time Remaining'}\n",
      "{0: 'Ball', 1: 'Hoop', 2: 'Period', 3: 'Player', 4: 'Ref', 5: 'Shot Clock', 6: 'Team Name', 7: 'Team Points', 8: 'Time Remaining'}\n",
      "{0: 'Ball', 1: 'Hoop', 2: 'Period', 3: 'Player', 4: 'Ref', 5: 'Shot Clock', 6: 'Team Name', 7: 'Team Points', 8: 'Time Remaining'}\n",
      "{0: 'Ball', 1: 'Hoop', 2: 'Period', 3: 'Player', 4: 'Ref', 5: 'Shot Clock', 6: 'Team Name', 7: 'Team Points', 8: 'Time Remaining'}\n",
      "{0: 'Ball', 1: 'Hoop', 2: 'Period', 3: 'Player', 4: 'Ref', 5: 'Shot Clock', 6: 'Team Name', 7: 'Team Points', 8: 'Time Remaining'}\n",
      "{0: 'Ball', 1: 'Hoop', 2: 'Period', 3: 'Player', 4: 'Ref', 5: 'Shot Clock', 6: 'Team Name', 7: 'Team Points', 8: 'Time Remaining'}\n",
      "{0: 'Ball', 1: 'Hoop', 2: 'Period', 3: 'Player', 4: 'Ref', 5: 'Shot Clock', 6: 'Team Name', 7: 'Team Points', 8: 'Time Remaining'}\n",
      "{0: 'Ball', 1: 'Hoop', 2: 'Period', 3: 'Player', 4: 'Ref', 5: 'Shot Clock', 6: 'Team Name', 7: 'Team Points', 8: 'Time Remaining'}\n",
      "{0: 'Ball', 1: 'Hoop', 2: 'Period', 3: 'Player', 4: 'Ref', 5: 'Shot Clock', 6: 'Team Name', 7: 'Team Points', 8: 'Time Remaining'}\n",
      "{0: 'Ball', 1: 'Hoop', 2: 'Period', 3: 'Player', 4: 'Ref', 5: 'Shot Clock', 6: 'Team Name', 7: 'Team Points', 8: 'Time Remaining'}\n",
      "{0: 'Ball', 1: 'Hoop', 2: 'Period', 3: 'Player', 4: 'Ref', 5: 'Shot Clock', 6: 'Team Name', 7: 'Team Points', 8: 'Time Remaining'}\n",
      "{0: 'Ball', 1: 'Hoop', 2: 'Period', 3: 'Player', 4: 'Ref', 5: 'Shot Clock', 6: 'Team Name', 7: 'Team Points', 8: 'Time Remaining'}\n",
      "{0: 'Ball', 1: 'Hoop', 2: 'Period', 3: 'Player', 4: 'Ref', 5: 'Shot Clock', 6: 'Team Name', 7: 'Team Points', 8: 'Time Remaining'}\n",
      "{0: 'Ball', 1: 'Hoop', 2: 'Period', 3: 'Player', 4: 'Ref', 5: 'Shot Clock', 6: 'Team Name', 7: 'Team Points', 8: 'Time Remaining'}\n",
      "{0: 'Ball', 1: 'Hoop', 2: 'Period', 3: 'Player', 4: 'Ref', 5: 'Shot Clock', 6: 'Team Name', 7: 'Team Points', 8: 'Time Remaining'}\n",
      "{0: 'Ball', 1: 'Hoop', 2: 'Period', 3: 'Player', 4: 'Ref', 5: 'Shot Clock', 6: 'Team Name', 7: 'Team Points', 8: 'Time Remaining'}\n",
      "{0: 'Ball', 1: 'Hoop', 2: 'Period', 3: 'Player', 4: 'Ref', 5: 'Shot Clock', 6: 'Team Name', 7: 'Team Points', 8: 'Time Remaining'}\n",
      "{0: 'Ball', 1: 'Hoop', 2: 'Period', 3: 'Player', 4: 'Ref', 5: 'Shot Clock', 6: 'Team Name', 7: 'Team Points', 8: 'Time Remaining'}\n",
      "{0: 'Ball', 1: 'Hoop', 2: 'Period', 3: 'Player', 4: 'Ref', 5: 'Shot Clock', 6: 'Team Name', 7: 'Team Points', 8: 'Time Remaining'}\n",
      "{0: 'Ball', 1: 'Hoop', 2: 'Period', 3: 'Player', 4: 'Ref', 5: 'Shot Clock', 6: 'Team Name', 7: 'Team Points', 8: 'Time Remaining'}\n",
      "{0: 'Ball', 1: 'Hoop', 2: 'Period', 3: 'Player', 4: 'Ref', 5: 'Shot Clock', 6: 'Team Name', 7: 'Team Points', 8: 'Time Remaining'}\n",
      "{0: 'Ball', 1: 'Hoop', 2: 'Period', 3: 'Player', 4: 'Ref', 5: 'Shot Clock', 6: 'Team Name', 7: 'Team Points', 8: 'Time Remaining'}\n",
      "{0: 'Ball', 1: 'Hoop', 2: 'Period', 3: 'Player', 4: 'Ref', 5: 'Shot Clock', 6: 'Team Name', 7: 'Team Points', 8: 'Time Remaining'}\n",
      "{0: 'Ball', 1: 'Hoop', 2: 'Period', 3: 'Player', 4: 'Ref', 5: 'Shot Clock', 6: 'Team Name', 7: 'Team Points', 8: 'Time Remaining'}\n",
      "{0: 'Ball', 1: 'Hoop', 2: 'Period', 3: 'Player', 4: 'Ref', 5: 'Shot Clock', 6: 'Team Name', 7: 'Team Points', 8: 'Time Remaining'}\n",
      "{0: 'Ball', 1: 'Hoop', 2: 'Period', 3: 'Player', 4: 'Ref', 5: 'Shot Clock', 6: 'Team Name', 7: 'Team Points', 8: 'Time Remaining'}\n",
      "{0: 'Ball', 1: 'Hoop', 2: 'Period', 3: 'Player', 4: 'Ref', 5: 'Shot Clock', 6: 'Team Name', 7: 'Team Points', 8: 'Time Remaining'}\n",
      "{0: 'Ball', 1: 'Hoop', 2: 'Period', 3: 'Player', 4: 'Ref', 5: 'Shot Clock', 6: 'Team Name', 7: 'Team Points', 8: 'Time Remaining'}\n",
      "{0: 'Ball', 1: 'Hoop', 2: 'Period', 3: 'Player', 4: 'Ref', 5: 'Shot Clock', 6: 'Team Name', 7: 'Team Points', 8: 'Time Remaining'}\n",
      "{0: 'Ball', 1: 'Hoop', 2: 'Period', 3: 'Player', 4: 'Ref', 5: 'Shot Clock', 6: 'Team Name', 7: 'Team Points', 8: 'Time Remaining'}\n",
      "{0: 'Ball', 1: 'Hoop', 2: 'Period', 3: 'Player', 4: 'Ref', 5: 'Shot Clock', 6: 'Team Name', 7: 'Team Points', 8: 'Time Remaining'}\n",
      "{0: 'Ball', 1: 'Hoop', 2: 'Period', 3: 'Player', 4: 'Ref', 5: 'Shot Clock', 6: 'Team Name', 7: 'Team Points', 8: 'Time Remaining'}\n",
      "{0: 'Ball', 1: 'Hoop', 2: 'Period', 3: 'Player', 4: 'Ref', 5: 'Shot Clock', 6: 'Team Name', 7: 'Team Points', 8: 'Time Remaining'}\n",
      "{0: 'Ball', 1: 'Hoop', 2: 'Period', 3: 'Player', 4: 'Ref', 5: 'Shot Clock', 6: 'Team Name', 7: 'Team Points', 8: 'Time Remaining'}\n",
      "{0: 'Ball', 1: 'Hoop', 2: 'Period', 3: 'Player', 4: 'Ref', 5: 'Shot Clock', 6: 'Team Name', 7: 'Team Points', 8: 'Time Remaining'}\n",
      "{0: 'Ball', 1: 'Hoop', 2: 'Period', 3: 'Player', 4: 'Ref', 5: 'Shot Clock', 6: 'Team Name', 7: 'Team Points', 8: 'Time Remaining'}\n",
      "{0: 'Ball', 1: 'Hoop', 2: 'Period', 3: 'Player', 4: 'Ref', 5: 'Shot Clock', 6: 'Team Name', 7: 'Team Points', 8: 'Time Remaining'}\n",
      "{0: 'Ball', 1: 'Hoop', 2: 'Period', 3: 'Player', 4: 'Ref', 5: 'Shot Clock', 6: 'Team Name', 7: 'Team Points', 8: 'Time Remaining'}\n",
      "{0: 'Ball', 1: 'Hoop', 2: 'Period', 3: 'Player', 4: 'Ref', 5: 'Shot Clock', 6: 'Team Name', 7: 'Team Points', 8: 'Time Remaining'}\n",
      "{0: 'Ball', 1: 'Hoop', 2: 'Period', 3: 'Player', 4: 'Ref', 5: 'Shot Clock', 6: 'Team Name', 7: 'Team Points', 8: 'Time Remaining'}\n",
      "{0: 'Ball', 1: 'Hoop', 2: 'Period', 3: 'Player', 4: 'Ref', 5: 'Shot Clock', 6: 'Team Name', 7: 'Team Points', 8: 'Time Remaining'}\n",
      "{0: 'Ball', 1: 'Hoop', 2: 'Period', 3: 'Player', 4: 'Ref', 5: 'Shot Clock', 6: 'Team Name', 7: 'Team Points', 8: 'Time Remaining'}\n",
      "{0: 'Ball', 1: 'Hoop', 2: 'Period', 3: 'Player', 4: 'Ref', 5: 'Shot Clock', 6: 'Team Name', 7: 'Team Points', 8: 'Time Remaining'}\n",
      "{0: 'Ball', 1: 'Hoop', 2: 'Period', 3: 'Player', 4: 'Ref', 5: 'Shot Clock', 6: 'Team Name', 7: 'Team Points', 8: 'Time Remaining'}\n",
      "{0: 'Ball', 1: 'Hoop', 2: 'Period', 3: 'Player', 4: 'Ref', 5: 'Shot Clock', 6: 'Team Name', 7: 'Team Points', 8: 'Time Remaining'}\n",
      "{0: 'Ball', 1: 'Hoop', 2: 'Period', 3: 'Player', 4: 'Ref', 5: 'Shot Clock', 6: 'Team Name', 7: 'Team Points', 8: 'Time Remaining'}\n",
      "{0: 'Ball', 1: 'Hoop', 2: 'Period', 3: 'Player', 4: 'Ref', 5: 'Shot Clock', 6: 'Team Name', 7: 'Team Points', 8: 'Time Remaining'}\n",
      "{0: 'Ball', 1: 'Hoop', 2: 'Period', 3: 'Player', 4: 'Ref', 5: 'Shot Clock', 6: 'Team Name', 7: 'Team Points', 8: 'Time Remaining'}\n",
      "{0: 'Ball', 1: 'Hoop', 2: 'Period', 3: 'Player', 4: 'Ref', 5: 'Shot Clock', 6: 'Team Name', 7: 'Team Points', 8: 'Time Remaining'}\n",
      "{0: 'Ball', 1: 'Hoop', 2: 'Period', 3: 'Player', 4: 'Ref', 5: 'Shot Clock', 6: 'Team Name', 7: 'Team Points', 8: 'Time Remaining'}\n",
      "{0: 'Ball', 1: 'Hoop', 2: 'Period', 3: 'Player', 4: 'Ref', 5: 'Shot Clock', 6: 'Team Name', 7: 'Team Points', 8: 'Time Remaining'}\n",
      "{0: 'Ball', 1: 'Hoop', 2: 'Period', 3: 'Player', 4: 'Ref', 5: 'Shot Clock', 6: 'Team Name', 7: 'Team Points', 8: 'Time Remaining'}\n",
      "{0: 'Ball', 1: 'Hoop', 2: 'Period', 3: 'Player', 4: 'Ref', 5: 'Shot Clock', 6: 'Team Name', 7: 'Team Points', 8: 'Time Remaining'}\n",
      "{0: 'Ball', 1: 'Hoop', 2: 'Period', 3: 'Player', 4: 'Ref', 5: 'Shot Clock', 6: 'Team Name', 7: 'Team Points', 8: 'Time Remaining'}\n",
      "{0: 'Ball', 1: 'Hoop', 2: 'Period', 3: 'Player', 4: 'Ref', 5: 'Shot Clock', 6: 'Team Name', 7: 'Team Points', 8: 'Time Remaining'}\n",
      "{0: 'Ball', 1: 'Hoop', 2: 'Period', 3: 'Player', 4: 'Ref', 5: 'Shot Clock', 6: 'Team Name', 7: 'Team Points', 8: 'Time Remaining'}\n",
      "{0: 'Ball', 1: 'Hoop', 2: 'Period', 3: 'Player', 4: 'Ref', 5: 'Shot Clock', 6: 'Team Name', 7: 'Team Points', 8: 'Time Remaining'}\n",
      "{0: 'Ball', 1: 'Hoop', 2: 'Period', 3: 'Player', 4: 'Ref', 5: 'Shot Clock', 6: 'Team Name', 7: 'Team Points', 8: 'Time Remaining'}\n",
      "{0: 'Ball', 1: 'Hoop', 2: 'Period', 3: 'Player', 4: 'Ref', 5: 'Shot Clock', 6: 'Team Name', 7: 'Team Points', 8: 'Time Remaining'}\n",
      "{0: 'Ball', 1: 'Hoop', 2: 'Period', 3: 'Player', 4: 'Ref', 5: 'Shot Clock', 6: 'Team Name', 7: 'Team Points', 8: 'Time Remaining'}\n",
      "{0: 'Ball', 1: 'Hoop', 2: 'Period', 3: 'Player', 4: 'Ref', 5: 'Shot Clock', 6: 'Team Name', 7: 'Team Points', 8: 'Time Remaining'}\n",
      "{0: 'Ball', 1: 'Hoop', 2: 'Period', 3: 'Player', 4: 'Ref', 5: 'Shot Clock', 6: 'Team Name', 7: 'Team Points', 8: 'Time Remaining'}\n",
      "{0: 'Ball', 1: 'Hoop', 2: 'Period', 3: 'Player', 4: 'Ref', 5: 'Shot Clock', 6: 'Team Name', 7: 'Team Points', 8: 'Time Remaining'}\n",
      "{0: 'Ball', 1: 'Hoop', 2: 'Period', 3: 'Player', 4: 'Ref', 5: 'Shot Clock', 6: 'Team Name', 7: 'Team Points', 8: 'Time Remaining'}\n",
      "{0: 'Ball', 1: 'Hoop', 2: 'Period', 3: 'Player', 4: 'Ref', 5: 'Shot Clock', 6: 'Team Name', 7: 'Team Points', 8: 'Time Remaining'}\n",
      "{0: 'Ball', 1: 'Hoop', 2: 'Period', 3: 'Player', 4: 'Ref', 5: 'Shot Clock', 6: 'Team Name', 7: 'Team Points', 8: 'Time Remaining'}\n",
      "{0: 'Ball', 1: 'Hoop', 2: 'Period', 3: 'Player', 4: 'Ref', 5: 'Shot Clock', 6: 'Team Name', 7: 'Team Points', 8: 'Time Remaining'}\n",
      "{0: 'Ball', 1: 'Hoop', 2: 'Period', 3: 'Player', 4: 'Ref', 5: 'Shot Clock', 6: 'Team Name', 7: 'Team Points', 8: 'Time Remaining'}\n",
      "{0: 'Ball', 1: 'Hoop', 2: 'Period', 3: 'Player', 4: 'Ref', 5: 'Shot Clock', 6: 'Team Name', 7: 'Team Points', 8: 'Time Remaining'}\n",
      "{0: 'Ball', 1: 'Hoop', 2: 'Period', 3: 'Player', 4: 'Ref', 5: 'Shot Clock', 6: 'Team Name', 7: 'Team Points', 8: 'Time Remaining'}\n",
      "{0: 'Ball', 1: 'Hoop', 2: 'Period', 3: 'Player', 4: 'Ref', 5: 'Shot Clock', 6: 'Team Name', 7: 'Team Points', 8: 'Time Remaining'}\n",
      "{0: 'Ball', 1: 'Hoop', 2: 'Period', 3: 'Player', 4: 'Ref', 5: 'Shot Clock', 6: 'Team Name', 7: 'Team Points', 8: 'Time Remaining'}\n",
      "{0: 'Ball', 1: 'Hoop', 2: 'Period', 3: 'Player', 4: 'Ref', 5: 'Shot Clock', 6: 'Team Name', 7: 'Team Points', 8: 'Time Remaining'}\n",
      "{0: 'Ball', 1: 'Hoop', 2: 'Period', 3: 'Player', 4: 'Ref', 5: 'Shot Clock', 6: 'Team Name', 7: 'Team Points', 8: 'Time Remaining'}\n",
      "{0: 'Ball', 1: 'Hoop', 2: 'Period', 3: 'Player', 4: 'Ref', 5: 'Shot Clock', 6: 'Team Name', 7: 'Team Points', 8: 'Time Remaining'}\n",
      "{0: 'Ball', 1: 'Hoop', 2: 'Period', 3: 'Player', 4: 'Ref', 5: 'Shot Clock', 6: 'Team Name', 7: 'Team Points', 8: 'Time Remaining'}\n",
      "{0: 'Ball', 1: 'Hoop', 2: 'Period', 3: 'Player', 4: 'Ref', 5: 'Shot Clock', 6: 'Team Name', 7: 'Team Points', 8: 'Time Remaining'}\n",
      "{0: 'Ball', 1: 'Hoop', 2: 'Period', 3: 'Player', 4: 'Ref', 5: 'Shot Clock', 6: 'Team Name', 7: 'Team Points', 8: 'Time Remaining'}\n",
      "{0: 'Ball', 1: 'Hoop', 2: 'Period', 3: 'Player', 4: 'Ref', 5: 'Shot Clock', 6: 'Team Name', 7: 'Team Points', 8: 'Time Remaining'}\n",
      "{0: 'Ball', 1: 'Hoop', 2: 'Period', 3: 'Player', 4: 'Ref', 5: 'Shot Clock', 6: 'Team Name', 7: 'Team Points', 8: 'Time Remaining'}\n",
      "{0: 'Ball', 1: 'Hoop', 2: 'Period', 3: 'Player', 4: 'Ref', 5: 'Shot Clock', 6: 'Team Name', 7: 'Team Points', 8: 'Time Remaining'}\n",
      "{0: 'Ball', 1: 'Hoop', 2: 'Period', 3: 'Player', 4: 'Ref', 5: 'Shot Clock', 6: 'Team Name', 7: 'Team Points', 8: 'Time Remaining'}\n",
      "{0: 'Ball', 1: 'Hoop', 2: 'Period', 3: 'Player', 4: 'Ref', 5: 'Shot Clock', 6: 'Team Name', 7: 'Team Points', 8: 'Time Remaining'}\n",
      "{0: 'Ball', 1: 'Hoop', 2: 'Period', 3: 'Player', 4: 'Ref', 5: 'Shot Clock', 6: 'Team Name', 7: 'Team Points', 8: 'Time Remaining'}\n",
      "{0: 'Ball', 1: 'Hoop', 2: 'Period', 3: 'Player', 4: 'Ref', 5: 'Shot Clock', 6: 'Team Name', 7: 'Team Points', 8: 'Time Remaining'}\n",
      "{0: 'Ball', 1: 'Hoop', 2: 'Period', 3: 'Player', 4: 'Ref', 5: 'Shot Clock', 6: 'Team Name', 7: 'Team Points', 8: 'Time Remaining'}\n",
      "{0: 'Ball', 1: 'Hoop', 2: 'Period', 3: 'Player', 4: 'Ref', 5: 'Shot Clock', 6: 'Team Name', 7: 'Team Points', 8: 'Time Remaining'}\n",
      "{0: 'Ball', 1: 'Hoop', 2: 'Period', 3: 'Player', 4: 'Ref', 5: 'Shot Clock', 6: 'Team Name', 7: 'Team Points', 8: 'Time Remaining'}\n",
      "{0: 'Ball', 1: 'Hoop', 2: 'Period', 3: 'Player', 4: 'Ref', 5: 'Shot Clock', 6: 'Team Name', 7: 'Team Points', 8: 'Time Remaining'}\n",
      "{0: 'Ball', 1: 'Hoop', 2: 'Period', 3: 'Player', 4: 'Ref', 5: 'Shot Clock', 6: 'Team Name', 7: 'Team Points', 8: 'Time Remaining'}\n",
      "{0: 'Ball', 1: 'Hoop', 2: 'Period', 3: 'Player', 4: 'Ref', 5: 'Shot Clock', 6: 'Team Name', 7: 'Team Points', 8: 'Time Remaining'}\n",
      "{0: 'Ball', 1: 'Hoop', 2: 'Period', 3: 'Player', 4: 'Ref', 5: 'Shot Clock', 6: 'Team Name', 7: 'Team Points', 8: 'Time Remaining'}\n",
      "{0: 'Ball', 1: 'Hoop', 2: 'Period', 3: 'Player', 4: 'Ref', 5: 'Shot Clock', 6: 'Team Name', 7: 'Team Points', 8: 'Time Remaining'}\n",
      "{0: 'Ball', 1: 'Hoop', 2: 'Period', 3: 'Player', 4: 'Ref', 5: 'Shot Clock', 6: 'Team Name', 7: 'Team Points', 8: 'Time Remaining'}\n",
      "{0: 'Ball', 1: 'Hoop', 2: 'Period', 3: 'Player', 4: 'Ref', 5: 'Shot Clock', 6: 'Team Name', 7: 'Team Points', 8: 'Time Remaining'}\n",
      "{0: 'Ball', 1: 'Hoop', 2: 'Period', 3: 'Player', 4: 'Ref', 5: 'Shot Clock', 6: 'Team Name', 7: 'Team Points', 8: 'Time Remaining'}\n",
      "{0: 'Ball', 1: 'Hoop', 2: 'Period', 3: 'Player', 4: 'Ref', 5: 'Shot Clock', 6: 'Team Name', 7: 'Team Points', 8: 'Time Remaining'}\n",
      "{0: 'Ball', 1: 'Hoop', 2: 'Period', 3: 'Player', 4: 'Ref', 5: 'Shot Clock', 6: 'Team Name', 7: 'Team Points', 8: 'Time Remaining'}\n",
      "{0: 'Ball', 1: 'Hoop', 2: 'Period', 3: 'Player', 4: 'Ref', 5: 'Shot Clock', 6: 'Team Name', 7: 'Team Points', 8: 'Time Remaining'}\n",
      "{0: 'Ball', 1: 'Hoop', 2: 'Period', 3: 'Player', 4: 'Ref', 5: 'Shot Clock', 6: 'Team Name', 7: 'Team Points', 8: 'Time Remaining'}\n",
      "{0: 'Ball', 1: 'Hoop', 2: 'Period', 3: 'Player', 4: 'Ref', 5: 'Shot Clock', 6: 'Team Name', 7: 'Team Points', 8: 'Time Remaining'}\n",
      "{0: 'Ball', 1: 'Hoop', 2: 'Period', 3: 'Player', 4: 'Ref', 5: 'Shot Clock', 6: 'Team Name', 7: 'Team Points', 8: 'Time Remaining'}\n",
      "{0: 'Ball', 1: 'Hoop', 2: 'Period', 3: 'Player', 4: 'Ref', 5: 'Shot Clock', 6: 'Team Name', 7: 'Team Points', 8: 'Time Remaining'}\n",
      "{0: 'Ball', 1: 'Hoop', 2: 'Period', 3: 'Player', 4: 'Ref', 5: 'Shot Clock', 6: 'Team Name', 7: 'Team Points', 8: 'Time Remaining'}\n",
      "{0: 'Ball', 1: 'Hoop', 2: 'Period', 3: 'Player', 4: 'Ref', 5: 'Shot Clock', 6: 'Team Name', 7: 'Team Points', 8: 'Time Remaining'}\n",
      "{0: 'Ball', 1: 'Hoop', 2: 'Period', 3: 'Player', 4: 'Ref', 5: 'Shot Clock', 6: 'Team Name', 7: 'Team Points', 8: 'Time Remaining'}\n",
      "{0: 'Ball', 1: 'Hoop', 2: 'Period', 3: 'Player', 4: 'Ref', 5: 'Shot Clock', 6: 'Team Name', 7: 'Team Points', 8: 'Time Remaining'}\n",
      "{0: 'Ball', 1: 'Hoop', 2: 'Period', 3: 'Player', 4: 'Ref', 5: 'Shot Clock', 6: 'Team Name', 7: 'Team Points', 8: 'Time Remaining'}\n",
      "{0: 'Ball', 1: 'Hoop', 2: 'Period', 3: 'Player', 4: 'Ref', 5: 'Shot Clock', 6: 'Team Name', 7: 'Team Points', 8: 'Time Remaining'}\n",
      "{0: 'Ball', 1: 'Hoop', 2: 'Period', 3: 'Player', 4: 'Ref', 5: 'Shot Clock', 6: 'Team Name', 7: 'Team Points', 8: 'Time Remaining'}\n",
      "{0: 'Ball', 1: 'Hoop', 2: 'Period', 3: 'Player', 4: 'Ref', 5: 'Shot Clock', 6: 'Team Name', 7: 'Team Points', 8: 'Time Remaining'}\n",
      "{0: 'Ball', 1: 'Hoop', 2: 'Period', 3: 'Player', 4: 'Ref', 5: 'Shot Clock', 6: 'Team Name', 7: 'Team Points', 8: 'Time Remaining'}\n",
      "{0: 'Ball', 1: 'Hoop', 2: 'Period', 3: 'Player', 4: 'Ref', 5: 'Shot Clock', 6: 'Team Name', 7: 'Team Points', 8: 'Time Remaining'}\n",
      "{0: 'Ball', 1: 'Hoop', 2: 'Period', 3: 'Player', 4: 'Ref', 5: 'Shot Clock', 6: 'Team Name', 7: 'Team Points', 8: 'Time Remaining'}\n",
      "{0: 'Ball', 1: 'Hoop', 2: 'Period', 3: 'Player', 4: 'Ref', 5: 'Shot Clock', 6: 'Team Name', 7: 'Team Points', 8: 'Time Remaining'}\n",
      "{0: 'Ball', 1: 'Hoop', 2: 'Period', 3: 'Player', 4: 'Ref', 5: 'Shot Clock', 6: 'Team Name', 7: 'Team Points', 8: 'Time Remaining'}\n",
      "{0: 'Ball', 1: 'Hoop', 2: 'Period', 3: 'Player', 4: 'Ref', 5: 'Shot Clock', 6: 'Team Name', 7: 'Team Points', 8: 'Time Remaining'}\n",
      "{0: 'Ball', 1: 'Hoop', 2: 'Period', 3: 'Player', 4: 'Ref', 5: 'Shot Clock', 6: 'Team Name', 7: 'Team Points', 8: 'Time Remaining'}\n",
      "{0: 'Ball', 1: 'Hoop', 2: 'Period', 3: 'Player', 4: 'Ref', 5: 'Shot Clock', 6: 'Team Name', 7: 'Team Points', 8: 'Time Remaining'}\n",
      "{0: 'Ball', 1: 'Hoop', 2: 'Period', 3: 'Player', 4: 'Ref', 5: 'Shot Clock', 6: 'Team Name', 7: 'Team Points', 8: 'Time Remaining'}\n",
      "{0: 'Ball', 1: 'Hoop', 2: 'Period', 3: 'Player', 4: 'Ref', 5: 'Shot Clock', 6: 'Team Name', 7: 'Team Points', 8: 'Time Remaining'}\n",
      "{0: 'Ball', 1: 'Hoop', 2: 'Period', 3: 'Player', 4: 'Ref', 5: 'Shot Clock', 6: 'Team Name', 7: 'Team Points', 8: 'Time Remaining'}\n",
      "{0: 'Ball', 1: 'Hoop', 2: 'Period', 3: 'Player', 4: 'Ref', 5: 'Shot Clock', 6: 'Team Name', 7: 'Team Points', 8: 'Time Remaining'}\n",
      "{0: 'Ball', 1: 'Hoop', 2: 'Period', 3: 'Player', 4: 'Ref', 5: 'Shot Clock', 6: 'Team Name', 7: 'Team Points', 8: 'Time Remaining'}\n",
      "{0: 'Ball', 1: 'Hoop', 2: 'Period', 3: 'Player', 4: 'Ref', 5: 'Shot Clock', 6: 'Team Name', 7: 'Team Points', 8: 'Time Remaining'}\n",
      "{0: 'Ball', 1: 'Hoop', 2: 'Period', 3: 'Player', 4: 'Ref', 5: 'Shot Clock', 6: 'Team Name', 7: 'Team Points', 8: 'Time Remaining'}\n",
      "{0: 'Ball', 1: 'Hoop', 2: 'Period', 3: 'Player', 4: 'Ref', 5: 'Shot Clock', 6: 'Team Name', 7: 'Team Points', 8: 'Time Remaining'}\n",
      "{0: 'Ball', 1: 'Hoop', 2: 'Period', 3: 'Player', 4: 'Ref', 5: 'Shot Clock', 6: 'Team Name', 7: 'Team Points', 8: 'Time Remaining'}\n",
      "{0: 'Ball', 1: 'Hoop', 2: 'Period', 3: 'Player', 4: 'Ref', 5: 'Shot Clock', 6: 'Team Name', 7: 'Team Points', 8: 'Time Remaining'}\n",
      "{0: 'Ball', 1: 'Hoop', 2: 'Period', 3: 'Player', 4: 'Ref', 5: 'Shot Clock', 6: 'Team Name', 7: 'Team Points', 8: 'Time Remaining'}\n",
      "{0: 'Ball', 1: 'Hoop', 2: 'Period', 3: 'Player', 4: 'Ref', 5: 'Shot Clock', 6: 'Team Name', 7: 'Team Points', 8: 'Time Remaining'}\n",
      "{0: 'Ball', 1: 'Hoop', 2: 'Period', 3: 'Player', 4: 'Ref', 5: 'Shot Clock', 6: 'Team Name', 7: 'Team Points', 8: 'Time Remaining'}\n",
      "{0: 'Ball', 1: 'Hoop', 2: 'Period', 3: 'Player', 4: 'Ref', 5: 'Shot Clock', 6: 'Team Name', 7: 'Team Points', 8: 'Time Remaining'}\n",
      "{0: 'Ball', 1: 'Hoop', 2: 'Period', 3: 'Player', 4: 'Ref', 5: 'Shot Clock', 6: 'Team Name', 7: 'Team Points', 8: 'Time Remaining'}\n",
      "{0: 'Ball', 1: 'Hoop', 2: 'Period', 3: 'Player', 4: 'Ref', 5: 'Shot Clock', 6: 'Team Name', 7: 'Team Points', 8: 'Time Remaining'}\n",
      "{0: 'Ball', 1: 'Hoop', 2: 'Period', 3: 'Player', 4: 'Ref', 5: 'Shot Clock', 6: 'Team Name', 7: 'Team Points', 8: 'Time Remaining'}\n",
      "{0: 'Ball', 1: 'Hoop', 2: 'Period', 3: 'Player', 4: 'Ref', 5: 'Shot Clock', 6: 'Team Name', 7: 'Team Points', 8: 'Time Remaining'}\n",
      "{0: 'Ball', 1: 'Hoop', 2: 'Period', 3: 'Player', 4: 'Ref', 5: 'Shot Clock', 6: 'Team Name', 7: 'Team Points', 8: 'Time Remaining'}\n",
      "{0: 'Ball', 1: 'Hoop', 2: 'Period', 3: 'Player', 4: 'Ref', 5: 'Shot Clock', 6: 'Team Name', 7: 'Team Points', 8: 'Time Remaining'}\n",
      "{0: 'Ball', 1: 'Hoop', 2: 'Period', 3: 'Player', 4: 'Ref', 5: 'Shot Clock', 6: 'Team Name', 7: 'Team Points', 8: 'Time Remaining'}\n",
      "{0: 'Ball', 1: 'Hoop', 2: 'Period', 3: 'Player', 4: 'Ref', 5: 'Shot Clock', 6: 'Team Name', 7: 'Team Points', 8: 'Time Remaining'}\n",
      "{0: 'Ball', 1: 'Hoop', 2: 'Period', 3: 'Player', 4: 'Ref', 5: 'Shot Clock', 6: 'Team Name', 7: 'Team Points', 8: 'Time Remaining'}\n",
      "{0: 'Ball', 1: 'Hoop', 2: 'Period', 3: 'Player', 4: 'Ref', 5: 'Shot Clock', 6: 'Team Name', 7: 'Team Points', 8: 'Time Remaining'}\n",
      "{0: 'Ball', 1: 'Hoop', 2: 'Period', 3: 'Player', 4: 'Ref', 5: 'Shot Clock', 6: 'Team Name', 7: 'Team Points', 8: 'Time Remaining'}\n",
      "{0: 'Ball', 1: 'Hoop', 2: 'Period', 3: 'Player', 4: 'Ref', 5: 'Shot Clock', 6: 'Team Name', 7: 'Team Points', 8: 'Time Remaining'}\n",
      "{0: 'Ball', 1: 'Hoop', 2: 'Period', 3: 'Player', 4: 'Ref', 5: 'Shot Clock', 6: 'Team Name', 7: 'Team Points', 8: 'Time Remaining'}\n",
      "{0: 'Ball', 1: 'Hoop', 2: 'Period', 3: 'Player', 4: 'Ref', 5: 'Shot Clock', 6: 'Team Name', 7: 'Team Points', 8: 'Time Remaining'}\n",
      "{0: 'Ball', 1: 'Hoop', 2: 'Period', 3: 'Player', 4: 'Ref', 5: 'Shot Clock', 6: 'Team Name', 7: 'Team Points', 8: 'Time Remaining'}\n",
      "{0: 'Ball', 1: 'Hoop', 2: 'Period', 3: 'Player', 4: 'Ref', 5: 'Shot Clock', 6: 'Team Name', 7: 'Team Points', 8: 'Time Remaining'}\n",
      "{0: 'Ball', 1: 'Hoop', 2: 'Period', 3: 'Player', 4: 'Ref', 5: 'Shot Clock', 6: 'Team Name', 7: 'Team Points', 8: 'Time Remaining'}\n",
      "{0: 'Ball', 1: 'Hoop', 2: 'Period', 3: 'Player', 4: 'Ref', 5: 'Shot Clock', 6: 'Team Name', 7: 'Team Points', 8: 'Time Remaining'}\n",
      "{0: 'Ball', 1: 'Hoop', 2: 'Period', 3: 'Player', 4: 'Ref', 5: 'Shot Clock', 6: 'Team Name', 7: 'Team Points', 8: 'Time Remaining'}\n",
      "{0: 'Ball', 1: 'Hoop', 2: 'Period', 3: 'Player', 4: 'Ref', 5: 'Shot Clock', 6: 'Team Name', 7: 'Team Points', 8: 'Time Remaining'}\n",
      "{0: 'Ball', 1: 'Hoop', 2: 'Period', 3: 'Player', 4: 'Ref', 5: 'Shot Clock', 6: 'Team Name', 7: 'Team Points', 8: 'Time Remaining'}\n",
      "{0: 'Ball', 1: 'Hoop', 2: 'Period', 3: 'Player', 4: 'Ref', 5: 'Shot Clock', 6: 'Team Name', 7: 'Team Points', 8: 'Time Remaining'}\n",
      "{0: 'Ball', 1: 'Hoop', 2: 'Period', 3: 'Player', 4: 'Ref', 5: 'Shot Clock', 6: 'Team Name', 7: 'Team Points', 8: 'Time Remaining'}\n",
      "{0: 'Ball', 1: 'Hoop', 2: 'Period', 3: 'Player', 4: 'Ref', 5: 'Shot Clock', 6: 'Team Name', 7: 'Team Points', 8: 'Time Remaining'}\n",
      "{0: 'Ball', 1: 'Hoop', 2: 'Period', 3: 'Player', 4: 'Ref', 5: 'Shot Clock', 6: 'Team Name', 7: 'Team Points', 8: 'Time Remaining'}\n",
      "{0: 'Ball', 1: 'Hoop', 2: 'Period', 3: 'Player', 4: 'Ref', 5: 'Shot Clock', 6: 'Team Name', 7: 'Team Points', 8: 'Time Remaining'}\n",
      "{0: 'Ball', 1: 'Hoop', 2: 'Period', 3: 'Player', 4: 'Ref', 5: 'Shot Clock', 6: 'Team Name', 7: 'Team Points', 8: 'Time Remaining'}\n",
      "{0: 'Ball', 1: 'Hoop', 2: 'Period', 3: 'Player', 4: 'Ref', 5: 'Shot Clock', 6: 'Team Name', 7: 'Team Points', 8: 'Time Remaining'}\n",
      "{0: 'Ball', 1: 'Hoop', 2: 'Period', 3: 'Player', 4: 'Ref', 5: 'Shot Clock', 6: 'Team Name', 7: 'Team Points', 8: 'Time Remaining'}\n",
      "{0: 'Ball', 1: 'Hoop', 2: 'Period', 3: 'Player', 4: 'Ref', 5: 'Shot Clock', 6: 'Team Name', 7: 'Team Points', 8: 'Time Remaining'}\n",
      "{0: 'Ball', 1: 'Hoop', 2: 'Period', 3: 'Player', 4: 'Ref', 5: 'Shot Clock', 6: 'Team Name', 7: 'Team Points', 8: 'Time Remaining'}\n",
      "{0: 'Ball', 1: 'Hoop', 2: 'Period', 3: 'Player', 4: 'Ref', 5: 'Shot Clock', 6: 'Team Name', 7: 'Team Points', 8: 'Time Remaining'}\n",
      "{0: 'Ball', 1: 'Hoop', 2: 'Period', 3: 'Player', 4: 'Ref', 5: 'Shot Clock', 6: 'Team Name', 7: 'Team Points', 8: 'Time Remaining'}\n",
      "{0: 'Ball', 1: 'Hoop', 2: 'Period', 3: 'Player', 4: 'Ref', 5: 'Shot Clock', 6: 'Team Name', 7: 'Team Points', 8: 'Time Remaining'}\n",
      "{0: 'Ball', 1: 'Hoop', 2: 'Period', 3: 'Player', 4: 'Ref', 5: 'Shot Clock', 6: 'Team Name', 7: 'Team Points', 8: 'Time Remaining'}\n",
      "{0: 'Ball', 1: 'Hoop', 2: 'Period', 3: 'Player', 4: 'Ref', 5: 'Shot Clock', 6: 'Team Name', 7: 'Team Points', 8: 'Time Remaining'}\n",
      "{0: 'Ball', 1: 'Hoop', 2: 'Period', 3: 'Player', 4: 'Ref', 5: 'Shot Clock', 6: 'Team Name', 7: 'Team Points', 8: 'Time Remaining'}\n",
      "{0: 'Ball', 1: 'Hoop', 2: 'Period', 3: 'Player', 4: 'Ref', 5: 'Shot Clock', 6: 'Team Name', 7: 'Team Points', 8: 'Time Remaining'}\n",
      "{0: 'Ball', 1: 'Hoop', 2: 'Period', 3: 'Player', 4: 'Ref', 5: 'Shot Clock', 6: 'Team Name', 7: 'Team Points', 8: 'Time Remaining'}\n",
      "{0: 'Ball', 1: 'Hoop', 2: 'Period', 3: 'Player', 4: 'Ref', 5: 'Shot Clock', 6: 'Team Name', 7: 'Team Points', 8: 'Time Remaining'}\n",
      "{0: 'Ball', 1: 'Hoop', 2: 'Period', 3: 'Player', 4: 'Ref', 5: 'Shot Clock', 6: 'Team Name', 7: 'Team Points', 8: 'Time Remaining'}\n",
      "{0: 'Ball', 1: 'Hoop', 2: 'Period', 3: 'Player', 4: 'Ref', 5: 'Shot Clock', 6: 'Team Name', 7: 'Team Points', 8: 'Time Remaining'}\n",
      "{0: 'Ball', 1: 'Hoop', 2: 'Period', 3: 'Player', 4: 'Ref', 5: 'Shot Clock', 6: 'Team Name', 7: 'Team Points', 8: 'Time Remaining'}\n",
      "{0: 'Ball', 1: 'Hoop', 2: 'Period', 3: 'Player', 4: 'Ref', 5: 'Shot Clock', 6: 'Team Name', 7: 'Team Points', 8: 'Time Remaining'}\n",
      "{0: 'Ball', 1: 'Hoop', 2: 'Period', 3: 'Player', 4: 'Ref', 5: 'Shot Clock', 6: 'Team Name', 7: 'Team Points', 8: 'Time Remaining'}\n",
      "{0: 'Ball', 1: 'Hoop', 2: 'Period', 3: 'Player', 4: 'Ref', 5: 'Shot Clock', 6: 'Team Name', 7: 'Team Points', 8: 'Time Remaining'}\n",
      "{0: 'Ball', 1: 'Hoop', 2: 'Period', 3: 'Player', 4: 'Ref', 5: 'Shot Clock', 6: 'Team Name', 7: 'Team Points', 8: 'Time Remaining'}\n",
      "{0: 'Ball', 1: 'Hoop', 2: 'Period', 3: 'Player', 4: 'Ref', 5: 'Shot Clock', 6: 'Team Name', 7: 'Team Points', 8: 'Time Remaining'}\n",
      "{0: 'Ball', 1: 'Hoop', 2: 'Period', 3: 'Player', 4: 'Ref', 5: 'Shot Clock', 6: 'Team Name', 7: 'Team Points', 8: 'Time Remaining'}\n",
      "{0: 'Ball', 1: 'Hoop', 2: 'Period', 3: 'Player', 4: 'Ref', 5: 'Shot Clock', 6: 'Team Name', 7: 'Team Points', 8: 'Time Remaining'}\n",
      "{0: 'Ball', 1: 'Hoop', 2: 'Period', 3: 'Player', 4: 'Ref', 5: 'Shot Clock', 6: 'Team Name', 7: 'Team Points', 8: 'Time Remaining'}\n",
      "{0: 'Ball', 1: 'Hoop', 2: 'Period', 3: 'Player', 4: 'Ref', 5: 'Shot Clock', 6: 'Team Name', 7: 'Team Points', 8: 'Time Remaining'}\n",
      "{0: 'Ball', 1: 'Hoop', 2: 'Period', 3: 'Player', 4: 'Ref', 5: 'Shot Clock', 6: 'Team Name', 7: 'Team Points', 8: 'Time Remaining'}\n",
      "{0: 'Ball', 1: 'Hoop', 2: 'Period', 3: 'Player', 4: 'Ref', 5: 'Shot Clock', 6: 'Team Name', 7: 'Team Points', 8: 'Time Remaining'}\n",
      "{0: 'Ball', 1: 'Hoop', 2: 'Period', 3: 'Player', 4: 'Ref', 5: 'Shot Clock', 6: 'Team Name', 7: 'Team Points', 8: 'Time Remaining'}\n",
      "{0: 'Ball', 1: 'Hoop', 2: 'Period', 3: 'Player', 4: 'Ref', 5: 'Shot Clock', 6: 'Team Name', 7: 'Team Points', 8: 'Time Remaining'}\n",
      "{0: 'Ball', 1: 'Hoop', 2: 'Period', 3: 'Player', 4: 'Ref', 5: 'Shot Clock', 6: 'Team Name', 7: 'Team Points', 8: 'Time Remaining'}\n",
      "{0: 'Ball', 1: 'Hoop', 2: 'Period', 3: 'Player', 4: 'Ref', 5: 'Shot Clock', 6: 'Team Name', 7: 'Team Points', 8: 'Time Remaining'}\n",
      "{0: 'Ball', 1: 'Hoop', 2: 'Period', 3: 'Player', 4: 'Ref', 5: 'Shot Clock', 6: 'Team Name', 7: 'Team Points', 8: 'Time Remaining'}\n",
      "{0: 'Ball', 1: 'Hoop', 2: 'Period', 3: 'Player', 4: 'Ref', 5: 'Shot Clock', 6: 'Team Name', 7: 'Team Points', 8: 'Time Remaining'}\n",
      "{0: 'Ball', 1: 'Hoop', 2: 'Period', 3: 'Player', 4: 'Ref', 5: 'Shot Clock', 6: 'Team Name', 7: 'Team Points', 8: 'Time Remaining'}\n",
      "{0: 'Ball', 1: 'Hoop', 2: 'Period', 3: 'Player', 4: 'Ref', 5: 'Shot Clock', 6: 'Team Name', 7: 'Team Points', 8: 'Time Remaining'}\n",
      "{0: 'Ball', 1: 'Hoop', 2: 'Period', 3: 'Player', 4: 'Ref', 5: 'Shot Clock', 6: 'Team Name', 7: 'Team Points', 8: 'Time Remaining'}\n",
      "{0: 'Ball', 1: 'Hoop', 2: 'Period', 3: 'Player', 4: 'Ref', 5: 'Shot Clock', 6: 'Team Name', 7: 'Team Points', 8: 'Time Remaining'}\n",
      "{0: 'Ball', 1: 'Hoop', 2: 'Period', 3: 'Player', 4: 'Ref', 5: 'Shot Clock', 6: 'Team Name', 7: 'Team Points', 8: 'Time Remaining'}\n",
      "{0: 'Ball', 1: 'Hoop', 2: 'Period', 3: 'Player', 4: 'Ref', 5: 'Shot Clock', 6: 'Team Name', 7: 'Team Points', 8: 'Time Remaining'}\n",
      "{0: 'Ball', 1: 'Hoop', 2: 'Period', 3: 'Player', 4: 'Ref', 5: 'Shot Clock', 6: 'Team Name', 7: 'Team Points', 8: 'Time Remaining'}\n",
      "{0: 'Ball', 1: 'Hoop', 2: 'Period', 3: 'Player', 4: 'Ref', 5: 'Shot Clock', 6: 'Team Name', 7: 'Team Points', 8: 'Time Remaining'}\n",
      "{0: 'Ball', 1: 'Hoop', 2: 'Period', 3: 'Player', 4: 'Ref', 5: 'Shot Clock', 6: 'Team Name', 7: 'Team Points', 8: 'Time Remaining'}\n",
      "{0: 'Ball', 1: 'Hoop', 2: 'Period', 3: 'Player', 4: 'Ref', 5: 'Shot Clock', 6: 'Team Name', 7: 'Team Points', 8: 'Time Remaining'}\n",
      "{0: 'Ball', 1: 'Hoop', 2: 'Period', 3: 'Player', 4: 'Ref', 5: 'Shot Clock', 6: 'Team Name', 7: 'Team Points', 8: 'Time Remaining'}\n",
      "{0: 'Ball', 1: 'Hoop', 2: 'Period', 3: 'Player', 4: 'Ref', 5: 'Shot Clock', 6: 'Team Name', 7: 'Team Points', 8: 'Time Remaining'}\n",
      "{0: 'Ball', 1: 'Hoop', 2: 'Period', 3: 'Player', 4: 'Ref', 5: 'Shot Clock', 6: 'Team Name', 7: 'Team Points', 8: 'Time Remaining'}\n",
      "{0: 'Ball', 1: 'Hoop', 2: 'Period', 3: 'Player', 4: 'Ref', 5: 'Shot Clock', 6: 'Team Name', 7: 'Team Points', 8: 'Time Remaining'}\n",
      "{0: 'Ball', 1: 'Hoop', 2: 'Period', 3: 'Player', 4: 'Ref', 5: 'Shot Clock', 6: 'Team Name', 7: 'Team Points', 8: 'Time Remaining'}\n",
      "{0: 'Ball', 1: 'Hoop', 2: 'Period', 3: 'Player', 4: 'Ref', 5: 'Shot Clock', 6: 'Team Name', 7: 'Team Points', 8: 'Time Remaining'}\n",
      "{0: 'Ball', 1: 'Hoop', 2: 'Period', 3: 'Player', 4: 'Ref', 5: 'Shot Clock', 6: 'Team Name', 7: 'Team Points', 8: 'Time Remaining'}\n",
      "{0: 'Ball', 1: 'Hoop', 2: 'Period', 3: 'Player', 4: 'Ref', 5: 'Shot Clock', 6: 'Team Name', 7: 'Team Points', 8: 'Time Remaining'}\n",
      "{0: 'Ball', 1: 'Hoop', 2: 'Period', 3: 'Player', 4: 'Ref', 5: 'Shot Clock', 6: 'Team Name', 7: 'Team Points', 8: 'Time Remaining'}\n",
      "{0: 'Ball', 1: 'Hoop', 2: 'Period', 3: 'Player', 4: 'Ref', 5: 'Shot Clock', 6: 'Team Name', 7: 'Team Points', 8: 'Time Remaining'}\n",
      "{0: 'Ball', 1: 'Hoop', 2: 'Period', 3: 'Player', 4: 'Ref', 5: 'Shot Clock', 6: 'Team Name', 7: 'Team Points', 8: 'Time Remaining'}\n",
      "{0: 'Ball', 1: 'Hoop', 2: 'Period', 3: 'Player', 4: 'Ref', 5: 'Shot Clock', 6: 'Team Name', 7: 'Team Points', 8: 'Time Remaining'}\n",
      "{0: 'Ball', 1: 'Hoop', 2: 'Period', 3: 'Player', 4: 'Ref', 5: 'Shot Clock', 6: 'Team Name', 7: 'Team Points', 8: 'Time Remaining'}\n",
      "{0: 'Ball', 1: 'Hoop', 2: 'Period', 3: 'Player', 4: 'Ref', 5: 'Shot Clock', 6: 'Team Name', 7: 'Team Points', 8: 'Time Remaining'}\n",
      "{0: 'Ball', 1: 'Hoop', 2: 'Period', 3: 'Player', 4: 'Ref', 5: 'Shot Clock', 6: 'Team Name', 7: 'Team Points', 8: 'Time Remaining'}\n",
      "{0: 'Ball', 1: 'Hoop', 2: 'Period', 3: 'Player', 4: 'Ref', 5: 'Shot Clock', 6: 'Team Name', 7: 'Team Points', 8: 'Time Remaining'}\n",
      "{0: 'Ball', 1: 'Hoop', 2: 'Period', 3: 'Player', 4: 'Ref', 5: 'Shot Clock', 6: 'Team Name', 7: 'Team Points', 8: 'Time Remaining'}\n",
      "{0: 'Ball', 1: 'Hoop', 2: 'Period', 3: 'Player', 4: 'Ref', 5: 'Shot Clock', 6: 'Team Name', 7: 'Team Points', 8: 'Time Remaining'}\n",
      "{0: 'Ball', 1: 'Hoop', 2: 'Period', 3: 'Player', 4: 'Ref', 5: 'Shot Clock', 6: 'Team Name', 7: 'Team Points', 8: 'Time Remaining'}\n",
      "{0: 'Ball', 1: 'Hoop', 2: 'Period', 3: 'Player', 4: 'Ref', 5: 'Shot Clock', 6: 'Team Name', 7: 'Team Points', 8: 'Time Remaining'}\n",
      "{0: 'Ball', 1: 'Hoop', 2: 'Period', 3: 'Player', 4: 'Ref', 5: 'Shot Clock', 6: 'Team Name', 7: 'Team Points', 8: 'Time Remaining'}\n",
      "{0: 'Ball', 1: 'Hoop', 2: 'Period', 3: 'Player', 4: 'Ref', 5: 'Shot Clock', 6: 'Team Name', 7: 'Team Points', 8: 'Time Remaining'}\n",
      "{0: 'Ball', 1: 'Hoop', 2: 'Period', 3: 'Player', 4: 'Ref', 5: 'Shot Clock', 6: 'Team Name', 7: 'Team Points', 8: 'Time Remaining'}\n",
      "{0: 'Ball', 1: 'Hoop', 2: 'Period', 3: 'Player', 4: 'Ref', 5: 'Shot Clock', 6: 'Team Name', 7: 'Team Points', 8: 'Time Remaining'}\n",
      "{0: 'Ball', 1: 'Hoop', 2: 'Period', 3: 'Player', 4: 'Ref', 5: 'Shot Clock', 6: 'Team Name', 7: 'Team Points', 8: 'Time Remaining'}\n",
      "{0: 'Ball', 1: 'Hoop', 2: 'Period', 3: 'Player', 4: 'Ref', 5: 'Shot Clock', 6: 'Team Name', 7: 'Team Points', 8: 'Time Remaining'}\n",
      "{0: 'Ball', 1: 'Hoop', 2: 'Period', 3: 'Player', 4: 'Ref', 5: 'Shot Clock', 6: 'Team Name', 7: 'Team Points', 8: 'Time Remaining'}\n",
      "{0: 'Ball', 1: 'Hoop', 2: 'Period', 3: 'Player', 4: 'Ref', 5: 'Shot Clock', 6: 'Team Name', 7: 'Team Points', 8: 'Time Remaining'}\n",
      "{0: 'Ball', 1: 'Hoop', 2: 'Period', 3: 'Player', 4: 'Ref', 5: 'Shot Clock', 6: 'Team Name', 7: 'Team Points', 8: 'Time Remaining'}\n",
      "{0: 'Ball', 1: 'Hoop', 2: 'Period', 3: 'Player', 4: 'Ref', 5: 'Shot Clock', 6: 'Team Name', 7: 'Team Points', 8: 'Time Remaining'}\n",
      "{0: 'Ball', 1: 'Hoop', 2: 'Period', 3: 'Player', 4: 'Ref', 5: 'Shot Clock', 6: 'Team Name', 7: 'Team Points', 8: 'Time Remaining'}\n",
      "{0: 'Ball', 1: 'Hoop', 2: 'Period', 3: 'Player', 4: 'Ref', 5: 'Shot Clock', 6: 'Team Name', 7: 'Team Points', 8: 'Time Remaining'}\n",
      "{0: 'Ball', 1: 'Hoop', 2: 'Period', 3: 'Player', 4: 'Ref', 5: 'Shot Clock', 6: 'Team Name', 7: 'Team Points', 8: 'Time Remaining'}\n",
      "{0: 'Ball', 1: 'Hoop', 2: 'Period', 3: 'Player', 4: 'Ref', 5: 'Shot Clock', 6: 'Team Name', 7: 'Team Points', 8: 'Time Remaining'}\n",
      "{0: 'Ball', 1: 'Hoop', 2: 'Period', 3: 'Player', 4: 'Ref', 5: 'Shot Clock', 6: 'Team Name', 7: 'Team Points', 8: 'Time Remaining'}\n",
      "{0: 'Ball', 1: 'Hoop', 2: 'Period', 3: 'Player', 4: 'Ref', 5: 'Shot Clock', 6: 'Team Name', 7: 'Team Points', 8: 'Time Remaining'}\n",
      "{0: 'Ball', 1: 'Hoop', 2: 'Period', 3: 'Player', 4: 'Ref', 5: 'Shot Clock', 6: 'Team Name', 7: 'Team Points', 8: 'Time Remaining'}\n",
      "{0: 'Ball', 1: 'Hoop', 2: 'Period', 3: 'Player', 4: 'Ref', 5: 'Shot Clock', 6: 'Team Name', 7: 'Team Points', 8: 'Time Remaining'}\n",
      "{0: 'Ball', 1: 'Hoop', 2: 'Period', 3: 'Player', 4: 'Ref', 5: 'Shot Clock', 6: 'Team Name', 7: 'Team Points', 8: 'Time Remaining'}\n",
      "{0: 'Ball', 1: 'Hoop', 2: 'Period', 3: 'Player', 4: 'Ref', 5: 'Shot Clock', 6: 'Team Name', 7: 'Team Points', 8: 'Time Remaining'}\n",
      "{0: 'Ball', 1: 'Hoop', 2: 'Period', 3: 'Player', 4: 'Ref', 5: 'Shot Clock', 6: 'Team Name', 7: 'Team Points', 8: 'Time Remaining'}\n",
      "{0: 'Ball', 1: 'Hoop', 2: 'Period', 3: 'Player', 4: 'Ref', 5: 'Shot Clock', 6: 'Team Name', 7: 'Team Points', 8: 'Time Remaining'}\n",
      "{0: 'Ball', 1: 'Hoop', 2: 'Period', 3: 'Player', 4: 'Ref', 5: 'Shot Clock', 6: 'Team Name', 7: 'Team Points', 8: 'Time Remaining'}\n",
      "{0: 'Ball', 1: 'Hoop', 2: 'Period', 3: 'Player', 4: 'Ref', 5: 'Shot Clock', 6: 'Team Name', 7: 'Team Points', 8: 'Time Remaining'}\n",
      "{0: 'Ball', 1: 'Hoop', 2: 'Period', 3: 'Player', 4: 'Ref', 5: 'Shot Clock', 6: 'Team Name', 7: 'Team Points', 8: 'Time Remaining'}\n",
      "{0: 'Ball', 1: 'Hoop', 2: 'Period', 3: 'Player', 4: 'Ref', 5: 'Shot Clock', 6: 'Team Name', 7: 'Team Points', 8: 'Time Remaining'}\n",
      "{0: 'Ball', 1: 'Hoop', 2: 'Period', 3: 'Player', 4: 'Ref', 5: 'Shot Clock', 6: 'Team Name', 7: 'Team Points', 8: 'Time Remaining'}\n",
      "{0: 'Ball', 1: 'Hoop', 2: 'Period', 3: 'Player', 4: 'Ref', 5: 'Shot Clock', 6: 'Team Name', 7: 'Team Points', 8: 'Time Remaining'}\n",
      "{0: 'Ball', 1: 'Hoop', 2: 'Period', 3: 'Player', 4: 'Ref', 5: 'Shot Clock', 6: 'Team Name', 7: 'Team Points', 8: 'Time Remaining'}\n",
      "{0: 'Ball', 1: 'Hoop', 2: 'Period', 3: 'Player', 4: 'Ref', 5: 'Shot Clock', 6: 'Team Name', 7: 'Team Points', 8: 'Time Remaining'}\n",
      "{0: 'Ball', 1: 'Hoop', 2: 'Period', 3: 'Player', 4: 'Ref', 5: 'Shot Clock', 6: 'Team Name', 7: 'Team Points', 8: 'Time Remaining'}\n",
      "{0: 'Ball', 1: 'Hoop', 2: 'Period', 3: 'Player', 4: 'Ref', 5: 'Shot Clock', 6: 'Team Name', 7: 'Team Points', 8: 'Time Remaining'}\n",
      "{0: 'Ball', 1: 'Hoop', 2: 'Period', 3: 'Player', 4: 'Ref', 5: 'Shot Clock', 6: 'Team Name', 7: 'Team Points', 8: 'Time Remaining'}\n",
      "{0: 'Ball', 1: 'Hoop', 2: 'Period', 3: 'Player', 4: 'Ref', 5: 'Shot Clock', 6: 'Team Name', 7: 'Team Points', 8: 'Time Remaining'}\n",
      "{0: 'Ball', 1: 'Hoop', 2: 'Period', 3: 'Player', 4: 'Ref', 5: 'Shot Clock', 6: 'Team Name', 7: 'Team Points', 8: 'Time Remaining'}\n",
      "{0: 'Ball', 1: 'Hoop', 2: 'Period', 3: 'Player', 4: 'Ref', 5: 'Shot Clock', 6: 'Team Name', 7: 'Team Points', 8: 'Time Remaining'}\n",
      "{0: 'Ball', 1: 'Hoop', 2: 'Period', 3: 'Player', 4: 'Ref', 5: 'Shot Clock', 6: 'Team Name', 7: 'Team Points', 8: 'Time Remaining'}\n",
      "{0: 'Ball', 1: 'Hoop', 2: 'Period', 3: 'Player', 4: 'Ref', 5: 'Shot Clock', 6: 'Team Name', 7: 'Team Points', 8: 'Time Remaining'}\n",
      "{0: 'Ball', 1: 'Hoop', 2: 'Period', 3: 'Player', 4: 'Ref', 5: 'Shot Clock', 6: 'Team Name', 7: 'Team Points', 8: 'Time Remaining'}\n",
      "{0: 'Ball', 1: 'Hoop', 2: 'Period', 3: 'Player', 4: 'Ref', 5: 'Shot Clock', 6: 'Team Name', 7: 'Team Points', 8: 'Time Remaining'}\n",
      "{0: 'Ball', 1: 'Hoop', 2: 'Period', 3: 'Player', 4: 'Ref', 5: 'Shot Clock', 6: 'Team Name', 7: 'Team Points', 8: 'Time Remaining'}\n",
      "{0: 'Ball', 1: 'Hoop', 2: 'Period', 3: 'Player', 4: 'Ref', 5: 'Shot Clock', 6: 'Team Name', 7: 'Team Points', 8: 'Time Remaining'}\n",
      "{0: 'Ball', 1: 'Hoop', 2: 'Period', 3: 'Player', 4: 'Ref', 5: 'Shot Clock', 6: 'Team Name', 7: 'Team Points', 8: 'Time Remaining'}\n",
      "{0: 'Ball', 1: 'Hoop', 2: 'Period', 3: 'Player', 4: 'Ref', 5: 'Shot Clock', 6: 'Team Name', 7: 'Team Points', 8: 'Time Remaining'}\n",
      "{0: 'Ball', 1: 'Hoop', 2: 'Period', 3: 'Player', 4: 'Ref', 5: 'Shot Clock', 6: 'Team Name', 7: 'Team Points', 8: 'Time Remaining'}\n",
      "{0: 'Ball', 1: 'Hoop', 2: 'Period', 3: 'Player', 4: 'Ref', 5: 'Shot Clock', 6: 'Team Name', 7: 'Team Points', 8: 'Time Remaining'}\n",
      "{0: 'Ball', 1: 'Hoop', 2: 'Period', 3: 'Player', 4: 'Ref', 5: 'Shot Clock', 6: 'Team Name', 7: 'Team Points', 8: 'Time Remaining'}\n",
      "{0: 'Ball', 1: 'Hoop', 2: 'Period', 3: 'Player', 4: 'Ref', 5: 'Shot Clock', 6: 'Team Name', 7: 'Team Points', 8: 'Time Remaining'}\n",
      "{0: 'Ball', 1: 'Hoop', 2: 'Period', 3: 'Player', 4: 'Ref', 5: 'Shot Clock', 6: 'Team Name', 7: 'Team Points', 8: 'Time Remaining'}\n",
      "{0: 'Ball', 1: 'Hoop', 2: 'Period', 3: 'Player', 4: 'Ref', 5: 'Shot Clock', 6: 'Team Name', 7: 'Team Points', 8: 'Time Remaining'}\n",
      "{0: 'Ball', 1: 'Hoop', 2: 'Period', 3: 'Player', 4: 'Ref', 5: 'Shot Clock', 6: 'Team Name', 7: 'Team Points', 8: 'Time Remaining'}\n",
      "{0: 'Ball', 1: 'Hoop', 2: 'Period', 3: 'Player', 4: 'Ref', 5: 'Shot Clock', 6: 'Team Name', 7: 'Team Points', 8: 'Time Remaining'}\n",
      "{0: 'Ball', 1: 'Hoop', 2: 'Period', 3: 'Player', 4: 'Ref', 5: 'Shot Clock', 6: 'Team Name', 7: 'Team Points', 8: 'Time Remaining'}\n",
      "{0: 'Ball', 1: 'Hoop', 2: 'Period', 3: 'Player', 4: 'Ref', 5: 'Shot Clock', 6: 'Team Name', 7: 'Team Points', 8: 'Time Remaining'}\n",
      "{0: 'Ball', 1: 'Hoop', 2: 'Period', 3: 'Player', 4: 'Ref', 5: 'Shot Clock', 6: 'Team Name', 7: 'Team Points', 8: 'Time Remaining'}\n",
      "{0: 'Ball', 1: 'Hoop', 2: 'Period', 3: 'Player', 4: 'Ref', 5: 'Shot Clock', 6: 'Team Name', 7: 'Team Points', 8: 'Time Remaining'}\n",
      "{0: 'Ball', 1: 'Hoop', 2: 'Period', 3: 'Player', 4: 'Ref', 5: 'Shot Clock', 6: 'Team Name', 7: 'Team Points', 8: 'Time Remaining'}\n",
      "{0: 'Ball', 1: 'Hoop', 2: 'Period', 3: 'Player', 4: 'Ref', 5: 'Shot Clock', 6: 'Team Name', 7: 'Team Points', 8: 'Time Remaining'}\n",
      "{0: 'Ball', 1: 'Hoop', 2: 'Period', 3: 'Player', 4: 'Ref', 5: 'Shot Clock', 6: 'Team Name', 7: 'Team Points', 8: 'Time Remaining'}\n",
      "{0: 'Ball', 1: 'Hoop', 2: 'Period', 3: 'Player', 4: 'Ref', 5: 'Shot Clock', 6: 'Team Name', 7: 'Team Points', 8: 'Time Remaining'}\n",
      "{0: 'Ball', 1: 'Hoop', 2: 'Period', 3: 'Player', 4: 'Ref', 5: 'Shot Clock', 6: 'Team Name', 7: 'Team Points', 8: 'Time Remaining'}\n",
      "{0: 'Ball', 1: 'Hoop', 2: 'Period', 3: 'Player', 4: 'Ref', 5: 'Shot Clock', 6: 'Team Name', 7: 'Team Points', 8: 'Time Remaining'}\n",
      "{0: 'Ball', 1: 'Hoop', 2: 'Period', 3: 'Player', 4: 'Ref', 5: 'Shot Clock', 6: 'Team Name', 7: 'Team Points', 8: 'Time Remaining'}\n",
      "{0: 'Ball', 1: 'Hoop', 2: 'Period', 3: 'Player', 4: 'Ref', 5: 'Shot Clock', 6: 'Team Name', 7: 'Team Points', 8: 'Time Remaining'}\n",
      "{0: 'Ball', 1: 'Hoop', 2: 'Period', 3: 'Player', 4: 'Ref', 5: 'Shot Clock', 6: 'Team Name', 7: 'Team Points', 8: 'Time Remaining'}\n",
      "{0: 'Ball', 1: 'Hoop', 2: 'Period', 3: 'Player', 4: 'Ref', 5: 'Shot Clock', 6: 'Team Name', 7: 'Team Points', 8: 'Time Remaining'}\n",
      "{0: 'Ball', 1: 'Hoop', 2: 'Period', 3: 'Player', 4: 'Ref', 5: 'Shot Clock', 6: 'Team Name', 7: 'Team Points', 8: 'Time Remaining'}\n",
      "{0: 'Ball', 1: 'Hoop', 2: 'Period', 3: 'Player', 4: 'Ref', 5: 'Shot Clock', 6: 'Team Name', 7: 'Team Points', 8: 'Time Remaining'}\n",
      "{0: 'Ball', 1: 'Hoop', 2: 'Period', 3: 'Player', 4: 'Ref', 5: 'Shot Clock', 6: 'Team Name', 7: 'Team Points', 8: 'Time Remaining'}\n",
      "{0: 'Ball', 1: 'Hoop', 2: 'Period', 3: 'Player', 4: 'Ref', 5: 'Shot Clock', 6: 'Team Name', 7: 'Team Points', 8: 'Time Remaining'}\n",
      "{0: 'Ball', 1: 'Hoop', 2: 'Period', 3: 'Player', 4: 'Ref', 5: 'Shot Clock', 6: 'Team Name', 7: 'Team Points', 8: 'Time Remaining'}\n",
      "{0: 'Ball', 1: 'Hoop', 2: 'Period', 3: 'Player', 4: 'Ref', 5: 'Shot Clock', 6: 'Team Name', 7: 'Team Points', 8: 'Time Remaining'}\n",
      "{0: 'Ball', 1: 'Hoop', 2: 'Period', 3: 'Player', 4: 'Ref', 5: 'Shot Clock', 6: 'Team Name', 7: 'Team Points', 8: 'Time Remaining'}\n",
      "{0: 'Ball', 1: 'Hoop', 2: 'Period', 3: 'Player', 4: 'Ref', 5: 'Shot Clock', 6: 'Team Name', 7: 'Team Points', 8: 'Time Remaining'}\n",
      "{0: 'Ball', 1: 'Hoop', 2: 'Period', 3: 'Player', 4: 'Ref', 5: 'Shot Clock', 6: 'Team Name', 7: 'Team Points', 8: 'Time Remaining'}\n",
      "{0: 'Ball', 1: 'Hoop', 2: 'Period', 3: 'Player', 4: 'Ref', 5: 'Shot Clock', 6: 'Team Name', 7: 'Team Points', 8: 'Time Remaining'}\n",
      "{0: 'Ball', 1: 'Hoop', 2: 'Period', 3: 'Player', 4: 'Ref', 5: 'Shot Clock', 6: 'Team Name', 7: 'Team Points', 8: 'Time Remaining'}\n",
      "{0: 'Ball', 1: 'Hoop', 2: 'Period', 3: 'Player', 4: 'Ref', 5: 'Shot Clock', 6: 'Team Name', 7: 'Team Points', 8: 'Time Remaining'}\n",
      "{0: 'Ball', 1: 'Hoop', 2: 'Period', 3: 'Player', 4: 'Ref', 5: 'Shot Clock', 6: 'Team Name', 7: 'Team Points', 8: 'Time Remaining'}\n",
      "{0: 'Ball', 1: 'Hoop', 2: 'Period', 3: 'Player', 4: 'Ref', 5: 'Shot Clock', 6: 'Team Name', 7: 'Team Points', 8: 'Time Remaining'}\n",
      "{0: 'Ball', 1: 'Hoop', 2: 'Period', 3: 'Player', 4: 'Ref', 5: 'Shot Clock', 6: 'Team Name', 7: 'Team Points', 8: 'Time Remaining'}\n",
      "{0: 'Ball', 1: 'Hoop', 2: 'Period', 3: 'Player', 4: 'Ref', 5: 'Shot Clock', 6: 'Team Name', 7: 'Team Points', 8: 'Time Remaining'}\n",
      "{0: 'Ball', 1: 'Hoop', 2: 'Period', 3: 'Player', 4: 'Ref', 5: 'Shot Clock', 6: 'Team Name', 7: 'Team Points', 8: 'Time Remaining'}\n"
     ]
    }
   ],
   "source": [
    "model = YOLO(\"../../models/v8l_detection_training(100epochs).pt\")\n",
    "results = model.track(\"../../sources/2man_game2.mp4\", show=True)\n",
    "\n",
    "for result in results:\n",
    "    print(result[0].names)"
   ]
  },
  {
   "cell_type": "markdown",
   "id": "dbf7aa69",
   "metadata": {},
   "source": [
    "# Training 2: 新数据集，专门basketball标注"
   ]
  },
  {
   "cell_type": "code",
   "execution_count": null,
   "id": "4802a897",
   "metadata": {},
   "outputs": [],
   "source": [
    "from roboflow import Roboflow\n",
    "rf = Roboflow(api_key=\"wKugMGCPQkZaOOt2pxZE\")\n",
    "project = rf.workspace(\"eagle-eye\").project(\"basketball-1zhpe\")\n",
    "version = project.version(1)\n",
    "dataset = version.download(\"yolov8\", location=\"../../dataset/basketball_data\")\n",
    "                "
   ]
  },
  {
   "cell_type": "markdown",
   "id": "ecf909d7",
   "metadata": {},
   "source": []
  },
  {
   "cell_type": "code",
   "execution_count": 5,
   "id": "4a1f2d34",
   "metadata": {},
   "outputs": [
    {
     "name": "stdout",
     "output_type": "stream",
     "text": [
      "CUDA: True\n",
      "GPU count: 1\n",
      "GPU name: NVIDIA GeForce RTX 4060 Laptop GPU\n",
      "Total Memory: 8187.5 MB\n"
     ]
    }
   ],
   "source": [
    "import torch\n",
    "print(\"CUDA:\", torch.cuda.is_available())\n",
    "print(\"GPU count:\", torch.cuda.device_count())\n",
    "print(\"GPU name:\", torch.cuda.get_device_name(0))\n",
    "print(\"Total Memory:\", torch.cuda.get_device_properties(0).total_memory / 1024**2, \"MB\")\n"
   ]
  },
  {
   "cell_type": "code",
   "execution_count": null,
   "id": "7112c409",
   "metadata": {},
   "outputs": [
    {
     "name": "stdout",
     "output_type": "stream",
     "text": [
      "未发现检查点文件，将从头开始训练\n",
      "New https://pypi.org/project/ultralytics/8.3.159 available  Update with 'pip install -U ultralytics'\n",
      "Ultralytics 8.3.155  Python-3.10.18 torch-2.7.1+cu128 CUDA:0 (NVIDIA GeForce RTX 4060 Laptop GPU, 8188MiB)\n",
      "\u001b[34m\u001b[1mengine\\trainer: \u001b[0magnostic_nms=False, amp=True, augment=False, auto_augment=randaugment, batch=8, bgr=0.0, box=7.5, cache=False, cfg=None, classes=None, close_mosaic=10, cls=0.5, conf=None, copy_paste=0.0, copy_paste_mode=flip, cos_lr=False, cutmix=0.0, data=../../dataset/basketball_data/data.yaml, degrees=0.0, deterministic=True, device=0, dfl=1.5, dnn=False, dropout=0.0, dynamic=False, embed=None, epochs=250, erasing=0.4, exist_ok=False, fliplr=0.5, flipud=0.0, format=torchscript, fraction=1.0, freeze=None, half=False, hsv_h=0.015, hsv_s=0.7, hsv_v=0.4, imgsz=640, int8=False, iou=0.7, keras=False, kobj=1.0, line_width=None, lr0=0.01, lrf=0.01, mask_ratio=4, max_det=300, mixup=0.0, mode=train, model=../../models/yolov8x.pt, momentum=0.937, mosaic=1.0, multi_scale=False, name=basketball_train, nbs=64, nms=False, opset=None, optimize=False, optimizer=auto, overlap_mask=True, patience=100, perspective=0.0, plots=True, pose=12.0, pretrained=True, profile=False, project=../../runs/detect/basketball_detect, rect=False, resume=False, retina_masks=False, save=True, save_conf=False, save_crop=False, save_dir=..\\..\\runs\\detect\\basketball_detect\\basketball_train, save_frames=False, save_json=False, save_period=-1, save_txt=False, scale=0.5, seed=0, shear=0.0, show=False, show_boxes=True, show_conf=True, show_labels=True, simplify=True, single_cls=False, source=None, split=val, stream_buffer=False, task=detect, time=None, tracker=botsort.yaml, translate=0.1, val=True, verbose=True, vid_stride=1, visualize=False, warmup_bias_lr=0.1, warmup_epochs=3.0, warmup_momentum=0.8, weight_decay=0.0005, workers=8, workspace=None\n",
      "Overriding model.yaml nc=80 with nc=3\n",
      "\n",
      "                   from  n    params  module                                       arguments                     \n",
      "  0                  -1  1      2320  ultralytics.nn.modules.conv.Conv             [3, 80, 3, 2]                 \n",
      "  1                  -1  1    115520  ultralytics.nn.modules.conv.Conv             [80, 160, 3, 2]               \n",
      "  2                  -1  3    436800  ultralytics.nn.modules.block.C2f             [160, 160, 3, True]           \n",
      "  3                  -1  1    461440  ultralytics.nn.modules.conv.Conv             [160, 320, 3, 2]              \n",
      "  4                  -1  6   3281920  ultralytics.nn.modules.block.C2f             [320, 320, 6, True]           \n",
      "  5                  -1  1   1844480  ultralytics.nn.modules.conv.Conv             [320, 640, 3, 2]              \n",
      "  6                  -1  6  13117440  ultralytics.nn.modules.block.C2f             [640, 640, 6, True]           \n",
      "  7                  -1  1   3687680  ultralytics.nn.modules.conv.Conv             [640, 640, 3, 2]              \n",
      "  8                  -1  3   6969600  ultralytics.nn.modules.block.C2f             [640, 640, 3, True]           \n",
      "  9                  -1  1   1025920  ultralytics.nn.modules.block.SPPF            [640, 640, 5]                 \n",
      " 10                  -1  1         0  torch.nn.modules.upsampling.Upsample         [None, 2, 'nearest']          \n",
      " 11             [-1, 6]  1         0  ultralytics.nn.modules.conv.Concat           [1]                           \n",
      " 12                  -1  3   7379200  ultralytics.nn.modules.block.C2f             [1280, 640, 3]                \n",
      " 13                  -1  1         0  torch.nn.modules.upsampling.Upsample         [None, 2, 'nearest']          \n",
      " 14             [-1, 4]  1         0  ultralytics.nn.modules.conv.Concat           [1]                           \n",
      " 15                  -1  3   1948800  ultralytics.nn.modules.block.C2f             [960, 320, 3]                 \n",
      " 16                  -1  1    922240  ultralytics.nn.modules.conv.Conv             [320, 320, 3, 2]              \n",
      " 17            [-1, 12]  1         0  ultralytics.nn.modules.conv.Concat           [1]                           \n",
      " 18                  -1  3   7174400  ultralytics.nn.modules.block.C2f             [960, 640, 3]                 \n",
      " 19                  -1  1   3687680  ultralytics.nn.modules.conv.Conv             [640, 640, 3, 2]              \n",
      " 20             [-1, 9]  1         0  ultralytics.nn.modules.conv.Concat           [1]                           \n",
      " 21                  -1  3   7379200  ultralytics.nn.modules.block.C2f             [1280, 640, 3]                \n",
      " 22        [15, 18, 21]  1   8720857  ultralytics.nn.modules.head.Detect           [3, [320, 640, 640]]          \n",
      "Model summary: 209 layers, 68,155,497 parameters, 68,155,481 gradients, 258.1 GFLOPs\n",
      "\n",
      "Transferred 589/595 items from pretrained weights\n",
      "Freezing layer 'model.22.dfl.conv.weight'\n",
      "\u001b[34m\u001b[1mAMP: \u001b[0mrunning Automatic Mixed Precision (AMP) checks...\n",
      "\u001b[34m\u001b[1mAMP: \u001b[0mchecks passed \n",
      "\u001b[34m\u001b[1mtrain: \u001b[0mFast image access  (ping: 0.30.0 ms, read: 2.91.1 MB/s, size: 21.3 KB)\n"
     ]
    },
    {
     "name": "stderr",
     "output_type": "stream",
     "text": [
      "\u001b[34m\u001b[1mtrain: \u001b[0mScanning D:\\AI\\yolo\\dataset\\basketball_data\\train\\labels... 1997 images, 31 backgrounds, 0 corrupt: 100%|██████████| 1997/1997 [00:04<00:00, 420.78it/s]\n"
     ]
    },
    {
     "name": "stdout",
     "output_type": "stream",
     "text": [
      "\u001b[34m\u001b[1mtrain: \u001b[0mNew cache created: D:\\AI\\yolo\\dataset\\basketball_data\\train\\labels.cache\n",
      "\u001b[34m\u001b[1mval: \u001b[0mFast image access  (ping: 0.80.9 ms, read: 3.41.1 MB/s, size: 23.8 KB)\n"
     ]
    },
    {
     "name": "stderr",
     "output_type": "stream",
     "text": [
      "\u001b[34m\u001b[1mval: \u001b[0mScanning D:\\AI\\yolo\\dataset\\basketball_data\\valid\\labels... 130 images, 6 backgrounds, 0 corrupt: 100%|██████████| 130/130 [00:00<00:00, 450.03it/s]"
     ]
    },
    {
     "name": "stdout",
     "output_type": "stream",
     "text": [
      "\u001b[34m\u001b[1mval: \u001b[0mNew cache created: D:\\AI\\yolo\\dataset\\basketball_data\\valid\\labels.cache\n"
     ]
    },
    {
     "name": "stderr",
     "output_type": "stream",
     "text": [
      "\n"
     ]
    },
    {
     "name": "stdout",
     "output_type": "stream",
     "text": [
      "Plotting labels to ..\\..\\runs\\detect\\basketball_detect\\basketball_train\\labels.jpg... \n",
      "\u001b[34m\u001b[1moptimizer:\u001b[0m 'optimizer=auto' found, ignoring 'lr0=0.01' and 'momentum=0.937' and determining best 'optimizer', 'lr0' and 'momentum' automatically... \n",
      "\u001b[34m\u001b[1moptimizer:\u001b[0m AdamW(lr=0.001429, momentum=0.9) with parameter groups 97 weight(decay=0.0), 104 weight(decay=0.0005), 103 bias(decay=0.0)\n",
      "Image sizes 640 train, 640 val\n",
      "Using 8 dataloader workers\n",
      "Logging results to \u001b[1m..\\..\\runs\\detect\\basketball_detect\\basketball_train\u001b[0m\n",
      "Starting training for 250 epochs...\n",
      "\n",
      "      Epoch    GPU_mem   box_loss   cls_loss   dfl_loss  Instances       Size\n"
     ]
    },
    {
     "name": "stderr",
     "output_type": "stream",
     "text": [
      "      1/250      6.43G       1.46      1.878      1.599          5        640: 100%|██████████| 250/250 [02:14<00:00,  1.86it/s]\n",
      "                 Class     Images  Instances      Box(P          R      mAP50  mAP50-95): 100%|██████████| 9/9 [00:03<00:00,  2.68it/s]"
     ]
    },
    {
     "name": "stdout",
     "output_type": "stream",
     "text": [
      "                   all        130        131     0.0575       0.42     0.0347     0.0149\n"
     ]
    },
    {
     "name": "stderr",
     "output_type": "stream",
     "text": [
      "\n"
     ]
    },
    {
     "name": "stdout",
     "output_type": "stream",
     "text": [
      "\n",
      "      Epoch    GPU_mem   box_loss   cls_loss   dfl_loss  Instances       Size\n"
     ]
    },
    {
     "name": "stderr",
     "output_type": "stream",
     "text": [
      "      2/250      6.84G      1.601      1.798      1.724         11        640: 100%|██████████| 250/250 [02:09<00:00,  1.93it/s]\n",
      "                 Class     Images  Instances      Box(P          R      mAP50  mAP50-95): 100%|██████████| 9/9 [00:03<00:00,  2.74it/s]"
     ]
    },
    {
     "name": "stdout",
     "output_type": "stream",
     "text": [
      "                   all        130        131      0.405      0.374      0.305      0.155\n"
     ]
    },
    {
     "name": "stderr",
     "output_type": "stream",
     "text": [
      "\n"
     ]
    },
    {
     "name": "stdout",
     "output_type": "stream",
     "text": [
      "\n",
      "      Epoch    GPU_mem   box_loss   cls_loss   dfl_loss  Instances       Size\n"
     ]
    },
    {
     "name": "stderr",
     "output_type": "stream",
     "text": [
      "      3/250      7.11G      1.571      1.693      1.701         12        640: 100%|██████████| 250/250 [02:09<00:00,  1.93it/s]\n",
      "                 Class     Images  Instances      Box(P          R      mAP50  mAP50-95): 100%|██████████| 9/9 [00:03<00:00,  2.74it/s]"
     ]
    },
    {
     "name": "stdout",
     "output_type": "stream",
     "text": [
      "                   all        130        131      0.581       0.58      0.535       0.26\n"
     ]
    },
    {
     "name": "stderr",
     "output_type": "stream",
     "text": [
      "\n"
     ]
    },
    {
     "name": "stdout",
     "output_type": "stream",
     "text": [
      "\n",
      "      Epoch    GPU_mem   box_loss   cls_loss   dfl_loss  Instances       Size\n"
     ]
    },
    {
     "name": "stderr",
     "output_type": "stream",
     "text": [
      "      4/250      6.85G      1.486      1.539      1.634          6        640: 100%|██████████| 250/250 [02:08<00:00,  1.94it/s]\n",
      "                 Class     Images  Instances      Box(P          R      mAP50  mAP50-95): 100%|██████████| 9/9 [00:03<00:00,  2.71it/s]"
     ]
    },
    {
     "name": "stdout",
     "output_type": "stream",
     "text": [
      "                   all        130        131       0.63      0.519      0.514       0.26\n"
     ]
    },
    {
     "name": "stderr",
     "output_type": "stream",
     "text": [
      "\n"
     ]
    },
    {
     "name": "stdout",
     "output_type": "stream",
     "text": [
      "\n",
      "      Epoch    GPU_mem   box_loss   cls_loss   dfl_loss  Instances       Size\n"
     ]
    },
    {
     "name": "stderr",
     "output_type": "stream",
     "text": [
      "      5/250      7.07G      1.467      1.463      1.614          6        640: 100%|██████████| 250/250 [02:09<00:00,  1.93it/s]\n",
      "                 Class     Images  Instances      Box(P          R      mAP50  mAP50-95): 100%|██████████| 9/9 [00:03<00:00,  2.69it/s]"
     ]
    },
    {
     "name": "stdout",
     "output_type": "stream",
     "text": [
      "                   all        130        131      0.891      0.687      0.799      0.416\n"
     ]
    },
    {
     "name": "stderr",
     "output_type": "stream",
     "text": [
      "\n"
     ]
    },
    {
     "name": "stdout",
     "output_type": "stream",
     "text": [
      "\n",
      "      Epoch    GPU_mem   box_loss   cls_loss   dfl_loss  Instances       Size\n"
     ]
    },
    {
     "name": "stderr",
     "output_type": "stream",
     "text": [
      "      6/250      7.08G      1.394       1.33      1.564          8        640: 100%|██████████| 250/250 [02:10<00:00,  1.92it/s]\n",
      "                 Class     Images  Instances      Box(P          R      mAP50  mAP50-95): 100%|██████████| 9/9 [00:03<00:00,  2.71it/s]"
     ]
    },
    {
     "name": "stdout",
     "output_type": "stream",
     "text": [
      "                   all        130        131      0.727      0.656       0.69      0.359\n"
     ]
    },
    {
     "name": "stderr",
     "output_type": "stream",
     "text": [
      "\n"
     ]
    },
    {
     "name": "stdout",
     "output_type": "stream",
     "text": [
      "\n",
      "      Epoch    GPU_mem   box_loss   cls_loss   dfl_loss  Instances       Size\n"
     ]
    },
    {
     "name": "stderr",
     "output_type": "stream",
     "text": [
      "      7/250      7.12G      1.362       1.28      1.547          4        640: 100%|██████████| 250/250 [02:17<00:00,  1.81it/s]\n",
      "                 Class     Images  Instances      Box(P          R      mAP50  mAP50-95): 100%|██████████| 9/9 [00:03<00:00,  2.29it/s]"
     ]
    },
    {
     "name": "stdout",
     "output_type": "stream",
     "text": [
      "                   all        130        131      0.859      0.651      0.785      0.421\n"
     ]
    },
    {
     "name": "stderr",
     "output_type": "stream",
     "text": [
      "\n"
     ]
    },
    {
     "name": "stdout",
     "output_type": "stream",
     "text": [
      "\n",
      "      Epoch    GPU_mem   box_loss   cls_loss   dfl_loss  Instances       Size\n"
     ]
    },
    {
     "name": "stderr",
     "output_type": "stream",
     "text": [
      "      8/250      6.83G       1.32      1.224        1.5         10        640: 100%|██████████| 250/250 [02:18<00:00,  1.80it/s]\n",
      "                 Class     Images  Instances      Box(P          R      mAP50  mAP50-95): 100%|██████████| 9/9 [00:03<00:00,  2.38it/s]"
     ]
    },
    {
     "name": "stdout",
     "output_type": "stream",
     "text": [
      "                   all        130        131        0.8      0.718       0.75       0.37\n"
     ]
    },
    {
     "name": "stderr",
     "output_type": "stream",
     "text": [
      "\n"
     ]
    },
    {
     "name": "stdout",
     "output_type": "stream",
     "text": [
      "\n",
      "      Epoch    GPU_mem   box_loss   cls_loss   dfl_loss  Instances       Size\n"
     ]
    },
    {
     "name": "stderr",
     "output_type": "stream",
     "text": [
      "      9/250      7.08G      1.335      1.224      1.513         11        640: 100%|██████████| 250/250 [02:18<00:00,  1.81it/s]\n",
      "                 Class     Images  Instances      Box(P          R      mAP50  mAP50-95): 100%|██████████| 9/9 [00:03<00:00,  2.35it/s]"
     ]
    },
    {
     "name": "stdout",
     "output_type": "stream",
     "text": [
      "                   all        130        131       0.77      0.589      0.682      0.357\n"
     ]
    },
    {
     "name": "stderr",
     "output_type": "stream",
     "text": [
      "\n"
     ]
    },
    {
     "name": "stdout",
     "output_type": "stream",
     "text": [
      "\n",
      "      Epoch    GPU_mem   box_loss   cls_loss   dfl_loss  Instances       Size\n"
     ]
    },
    {
     "name": "stderr",
     "output_type": "stream",
     "text": [
      "     10/250      6.69G      1.297      1.173      1.481         10        640: 100%|██████████| 250/250 [02:18<00:00,  1.81it/s]\n",
      "                 Class     Images  Instances      Box(P          R      mAP50  mAP50-95): 100%|██████████| 9/9 [00:04<00:00,  2.25it/s]"
     ]
    },
    {
     "name": "stdout",
     "output_type": "stream",
     "text": [
      "                   all        130        131      0.834      0.641      0.748      0.391\n"
     ]
    },
    {
     "name": "stderr",
     "output_type": "stream",
     "text": [
      "\n"
     ]
    },
    {
     "name": "stdout",
     "output_type": "stream",
     "text": [
      "\n",
      "      Epoch    GPU_mem   box_loss   cls_loss   dfl_loss  Instances       Size\n"
     ]
    },
    {
     "name": "stderr",
     "output_type": "stream",
     "text": [
      "     11/250      7.08G      1.282      1.159      1.471          7        640: 100%|██████████| 250/250 [02:18<00:00,  1.81it/s]\n",
      "                 Class     Images  Instances      Box(P          R      mAP50  mAP50-95): 100%|██████████| 9/9 [00:03<00:00,  2.26it/s]"
     ]
    },
    {
     "name": "stdout",
     "output_type": "stream",
     "text": [
      "                   all        130        131      0.858       0.74      0.839       0.42\n"
     ]
    },
    {
     "name": "stderr",
     "output_type": "stream",
     "text": [
      "\n"
     ]
    },
    {
     "name": "stdout",
     "output_type": "stream",
     "text": [
      "\n",
      "      Epoch    GPU_mem   box_loss   cls_loss   dfl_loss  Instances       Size\n"
     ]
    },
    {
     "name": "stderr",
     "output_type": "stream",
     "text": [
      "     12/250      6.85G      1.276      1.098      1.461         11        640: 100%|██████████| 250/250 [02:18<00:00,  1.80it/s]\n",
      "                 Class     Images  Instances      Box(P          R      mAP50  mAP50-95): 100%|██████████| 9/9 [00:03<00:00,  2.39it/s]"
     ]
    },
    {
     "name": "stdout",
     "output_type": "stream",
     "text": [
      "                   all        130        131      0.809      0.779      0.814       0.42\n"
     ]
    },
    {
     "name": "stderr",
     "output_type": "stream",
     "text": [
      "\n"
     ]
    },
    {
     "name": "stdout",
     "output_type": "stream",
     "text": [
      "\n",
      "      Epoch    GPU_mem   box_loss   cls_loss   dfl_loss  Instances       Size\n"
     ]
    },
    {
     "name": "stderr",
     "output_type": "stream",
     "text": [
      "     13/250      7.11G      1.266      1.083      1.447          9        640: 100%|██████████| 250/250 [02:18<00:00,  1.80it/s]\n",
      "                 Class     Images  Instances      Box(P          R      mAP50  mAP50-95): 100%|██████████| 9/9 [00:03<00:00,  2.39it/s]"
     ]
    },
    {
     "name": "stdout",
     "output_type": "stream",
     "text": [
      "                   all        130        131      0.871      0.672      0.791       0.42\n"
     ]
    },
    {
     "name": "stderr",
     "output_type": "stream",
     "text": [
      "\n"
     ]
    },
    {
     "name": "stdout",
     "output_type": "stream",
     "text": [
      "\n",
      "      Epoch    GPU_mem   box_loss   cls_loss   dfl_loss  Instances       Size\n"
     ]
    },
    {
     "name": "stderr",
     "output_type": "stream",
     "text": [
      "     14/250       6.9G      1.252      1.034      1.456         14        640: 100%|██████████| 250/250 [02:18<00:00,  1.81it/s]\n",
      "                 Class     Images  Instances      Box(P          R      mAP50  mAP50-95): 100%|██████████| 9/9 [00:03<00:00,  2.29it/s]"
     ]
    },
    {
     "name": "stdout",
     "output_type": "stream",
     "text": [
      "                   all        130        131      0.847      0.842      0.883      0.459\n"
     ]
    },
    {
     "name": "stderr",
     "output_type": "stream",
     "text": [
      "\n"
     ]
    },
    {
     "name": "stdout",
     "output_type": "stream",
     "text": [
      "\n",
      "      Epoch    GPU_mem   box_loss   cls_loss   dfl_loss  Instances       Size\n"
     ]
    },
    {
     "name": "stderr",
     "output_type": "stream",
     "text": [
      "     15/250      7.09G      1.225      1.008      1.425         11        640: 100%|██████████| 250/250 [02:18<00:00,  1.81it/s]\n",
      "                 Class     Images  Instances      Box(P          R      mAP50  mAP50-95): 100%|██████████| 9/9 [00:03<00:00,  2.77it/s]"
     ]
    },
    {
     "name": "stdout",
     "output_type": "stream",
     "text": [
      "                   all        130        131      0.914      0.664      0.794      0.404\n"
     ]
    },
    {
     "name": "stderr",
     "output_type": "stream",
     "text": [
      "\n"
     ]
    },
    {
     "name": "stdout",
     "output_type": "stream",
     "text": [
      "\n",
      "      Epoch    GPU_mem   box_loss   cls_loss   dfl_loss  Instances       Size\n"
     ]
    },
    {
     "name": "stderr",
     "output_type": "stream",
     "text": [
      "     16/250      6.86G      1.214     0.9957      1.431          5        640: 100%|██████████| 250/250 [02:08<00:00,  1.95it/s]\n",
      "                 Class     Images  Instances      Box(P          R      mAP50  mAP50-95): 100%|██████████| 9/9 [00:03<00:00,  2.73it/s]"
     ]
    },
    {
     "name": "stdout",
     "output_type": "stream",
     "text": [
      "                   all        130        131      0.896      0.763      0.853      0.441\n"
     ]
    },
    {
     "name": "stderr",
     "output_type": "stream",
     "text": [
      "\n"
     ]
    },
    {
     "name": "stdout",
     "output_type": "stream",
     "text": [
      "\n",
      "      Epoch    GPU_mem   box_loss   cls_loss   dfl_loss  Instances       Size\n"
     ]
    },
    {
     "name": "stderr",
     "output_type": "stream",
     "text": [
      "     17/250      7.11G      1.219      1.013      1.416          9        640: 100%|██████████| 250/250 [02:08<00:00,  1.94it/s]\n",
      "                 Class     Images  Instances      Box(P          R      mAP50  mAP50-95): 100%|██████████| 9/9 [00:03<00:00,  2.75it/s]"
     ]
    },
    {
     "name": "stdout",
     "output_type": "stream",
     "text": [
      "                   all        130        131      0.831      0.756      0.841      0.439\n"
     ]
    },
    {
     "name": "stderr",
     "output_type": "stream",
     "text": [
      "\n"
     ]
    },
    {
     "name": "stdout",
     "output_type": "stream",
     "text": [
      "\n",
      "      Epoch    GPU_mem   box_loss   cls_loss   dfl_loss  Instances       Size\n"
     ]
    },
    {
     "name": "stderr",
     "output_type": "stream",
     "text": [
      "     18/250      7.11G      1.208      0.977      1.413          6        640: 100%|██████████| 250/250 [02:09<00:00,  1.93it/s]\n",
      "                 Class     Images  Instances      Box(P          R      mAP50  mAP50-95): 100%|██████████| 9/9 [00:03<00:00,  2.76it/s]"
     ]
    },
    {
     "name": "stdout",
     "output_type": "stream",
     "text": [
      "                   all        130        131      0.873      0.734      0.835      0.454\n"
     ]
    },
    {
     "name": "stderr",
     "output_type": "stream",
     "text": [
      "\n"
     ]
    },
    {
     "name": "stdout",
     "output_type": "stream",
     "text": [
      "\n",
      "      Epoch    GPU_mem   box_loss   cls_loss   dfl_loss  Instances       Size\n"
     ]
    },
    {
     "name": "stderr",
     "output_type": "stream",
     "text": [
      "     19/250       7.1G      1.184     0.9326      1.402          9        640: 100%|██████████| 250/250 [02:09<00:00,  1.94it/s]\n",
      "                 Class     Images  Instances      Box(P          R      mAP50  mAP50-95): 100%|██████████| 9/9 [00:03<00:00,  2.78it/s]"
     ]
    },
    {
     "name": "stdout",
     "output_type": "stream",
     "text": [
      "                   all        130        131      0.838      0.817      0.831      0.452\n"
     ]
    },
    {
     "name": "stderr",
     "output_type": "stream",
     "text": [
      "\n"
     ]
    },
    {
     "name": "stdout",
     "output_type": "stream",
     "text": [
      "\n",
      "      Epoch    GPU_mem   box_loss   cls_loss   dfl_loss  Instances       Size\n"
     ]
    },
    {
     "name": "stderr",
     "output_type": "stream",
     "text": [
      "     20/250      6.83G      1.188     0.9227       1.39          7        640: 100%|██████████| 250/250 [02:08<00:00,  1.95it/s]\n",
      "                 Class     Images  Instances      Box(P          R      mAP50  mAP50-95): 100%|██████████| 9/9 [00:03<00:00,  2.77it/s]"
     ]
    },
    {
     "name": "stdout",
     "output_type": "stream",
     "text": [
      "                   all        130        131      0.882      0.809      0.886      0.477\n"
     ]
    },
    {
     "name": "stderr",
     "output_type": "stream",
     "text": [
      "\n"
     ]
    },
    {
     "name": "stdout",
     "output_type": "stream",
     "text": [
      "\n",
      "      Epoch    GPU_mem   box_loss   cls_loss   dfl_loss  Instances       Size\n"
     ]
    },
    {
     "name": "stderr",
     "output_type": "stream",
     "text": [
      "     21/250      7.07G      1.178      0.932      1.392          5        640: 100%|██████████| 250/250 [02:08<00:00,  1.94it/s]\n",
      "                 Class     Images  Instances      Box(P          R      mAP50  mAP50-95): 100%|██████████| 9/9 [00:03<00:00,  2.73it/s]"
     ]
    },
    {
     "name": "stdout",
     "output_type": "stream",
     "text": [
      "                   all        130        131       0.93      0.806       0.87      0.468\n"
     ]
    },
    {
     "name": "stderr",
     "output_type": "stream",
     "text": [
      "\n"
     ]
    },
    {
     "name": "stdout",
     "output_type": "stream",
     "text": [
      "\n",
      "      Epoch    GPU_mem   box_loss   cls_loss   dfl_loss  Instances       Size\n"
     ]
    },
    {
     "name": "stderr",
     "output_type": "stream",
     "text": [
      "     22/250      6.91G      1.175     0.9307      1.387          9        640: 100%|██████████| 250/250 [02:08<00:00,  1.94it/s]\n",
      "                 Class     Images  Instances      Box(P          R      mAP50  mAP50-95): 100%|██████████| 9/9 [00:03<00:00,  2.72it/s]"
     ]
    },
    {
     "name": "stdout",
     "output_type": "stream",
     "text": [
      "                   all        130        131      0.845      0.855      0.886      0.473\n"
     ]
    },
    {
     "name": "stderr",
     "output_type": "stream",
     "text": [
      "\n"
     ]
    },
    {
     "name": "stdout",
     "output_type": "stream",
     "text": [
      "\n",
      "      Epoch    GPU_mem   box_loss   cls_loss   dfl_loss  Instances       Size\n"
     ]
    },
    {
     "name": "stderr",
     "output_type": "stream",
     "text": [
      "     23/250      7.09G      1.177     0.9231      1.389          7        640: 100%|██████████| 250/250 [02:08<00:00,  1.94it/s]\n",
      "                 Class     Images  Instances      Box(P          R      mAP50  mAP50-95): 100%|██████████| 9/9 [00:03<00:00,  2.75it/s]"
     ]
    },
    {
     "name": "stdout",
     "output_type": "stream",
     "text": [
      "                   all        130        131      0.927      0.733       0.84      0.483\n"
     ]
    },
    {
     "name": "stderr",
     "output_type": "stream",
     "text": [
      "\n"
     ]
    },
    {
     "name": "stdout",
     "output_type": "stream",
     "text": [
      "\n",
      "      Epoch    GPU_mem   box_loss   cls_loss   dfl_loss  Instances       Size\n"
     ]
    },
    {
     "name": "stderr",
     "output_type": "stream",
     "text": [
      "     24/250      6.85G      1.145     0.8671      1.368          7        640: 100%|██████████| 250/250 [02:09<00:00,  1.93it/s]\n",
      "                 Class     Images  Instances      Box(P          R      mAP50  mAP50-95): 100%|██████████| 9/9 [00:03<00:00,  2.73it/s]"
     ]
    },
    {
     "name": "stdout",
     "output_type": "stream",
     "text": [
      "                   all        130        131      0.938      0.804      0.883      0.486\n"
     ]
    },
    {
     "name": "stderr",
     "output_type": "stream",
     "text": [
      "\n"
     ]
    },
    {
     "name": "stdout",
     "output_type": "stream",
     "text": [
      "\n",
      "      Epoch    GPU_mem   box_loss   cls_loss   dfl_loss  Instances       Size\n"
     ]
    },
    {
     "name": "stderr",
     "output_type": "stream",
     "text": [
      "     25/250      7.11G      1.142     0.8674      1.361          6        640: 100%|██████████| 250/250 [02:08<00:00,  1.94it/s]\n",
      "                 Class     Images  Instances      Box(P          R      mAP50  mAP50-95): 100%|██████████| 9/9 [00:03<00:00,  2.75it/s]"
     ]
    },
    {
     "name": "stdout",
     "output_type": "stream",
     "text": [
      "                   all        130        131      0.921      0.802      0.873      0.454\n"
     ]
    },
    {
     "name": "stderr",
     "output_type": "stream",
     "text": [
      "\n"
     ]
    },
    {
     "name": "stdout",
     "output_type": "stream",
     "text": [
      "\n",
      "      Epoch    GPU_mem   box_loss   cls_loss   dfl_loss  Instances       Size\n"
     ]
    },
    {
     "name": "stderr",
     "output_type": "stream",
     "text": [
      "     26/250      7.12G      1.131     0.8629      1.373         13        640: 100%|██████████| 250/250 [02:09<00:00,  1.94it/s]\n",
      "                 Class     Images  Instances      Box(P          R      mAP50  mAP50-95): 100%|██████████| 9/9 [00:03<00:00,  2.73it/s]"
     ]
    },
    {
     "name": "stdout",
     "output_type": "stream",
     "text": [
      "                   all        130        131       0.87      0.767      0.865      0.475\n"
     ]
    },
    {
     "name": "stderr",
     "output_type": "stream",
     "text": [
      "\n"
     ]
    },
    {
     "name": "stdout",
     "output_type": "stream",
     "text": [
      "\n",
      "      Epoch    GPU_mem   box_loss   cls_loss   dfl_loss  Instances       Size\n"
     ]
    },
    {
     "name": "stderr",
     "output_type": "stream",
     "text": [
      "     27/250       7.1G      1.122     0.8502      1.351          5        640: 100%|██████████| 250/250 [02:09<00:00,  1.93it/s]\n",
      "                 Class     Images  Instances      Box(P          R      mAP50  mAP50-95): 100%|██████████| 9/9 [00:03<00:00,  2.77it/s]"
     ]
    },
    {
     "name": "stdout",
     "output_type": "stream",
     "text": [
      "                   all        130        131      0.908      0.779       0.88       0.46\n"
     ]
    },
    {
     "name": "stderr",
     "output_type": "stream",
     "text": [
      "\n"
     ]
    },
    {
     "name": "stdout",
     "output_type": "stream",
     "text": [
      "\n",
      "      Epoch    GPU_mem   box_loss   cls_loss   dfl_loss  Instances       Size\n"
     ]
    },
    {
     "name": "stderr",
     "output_type": "stream",
     "text": [
      "     28/250      6.83G      1.155     0.8581      1.374         11        640: 100%|██████████| 250/250 [02:09<00:00,  1.94it/s]\n",
      "                 Class     Images  Instances      Box(P          R      mAP50  mAP50-95): 100%|██████████| 9/9 [00:03<00:00,  2.73it/s]"
     ]
    },
    {
     "name": "stdout",
     "output_type": "stream",
     "text": [
      "                   all        130        131      0.892      0.809      0.878      0.476\n"
     ]
    },
    {
     "name": "stderr",
     "output_type": "stream",
     "text": [
      "\n"
     ]
    },
    {
     "name": "stdout",
     "output_type": "stream",
     "text": [
      "\n",
      "      Epoch    GPU_mem   box_loss   cls_loss   dfl_loss  Instances       Size\n"
     ]
    },
    {
     "name": "stderr",
     "output_type": "stream",
     "text": [
      "     29/250      7.12G      1.123     0.8233      1.358          7        640: 100%|██████████| 250/250 [02:09<00:00,  1.94it/s]\n",
      "                 Class     Images  Instances      Box(P          R      mAP50  mAP50-95): 100%|██████████| 9/9 [00:03<00:00,  2.79it/s]"
     ]
    },
    {
     "name": "stdout",
     "output_type": "stream",
     "text": [
      "                   all        130        131      0.871      0.823      0.883      0.483\n"
     ]
    },
    {
     "name": "stderr",
     "output_type": "stream",
     "text": [
      "\n"
     ]
    },
    {
     "name": "stdout",
     "output_type": "stream",
     "text": [
      "\n",
      "      Epoch    GPU_mem   box_loss   cls_loss   dfl_loss  Instances       Size\n"
     ]
    },
    {
     "name": "stderr",
     "output_type": "stream",
     "text": [
      "     30/250      6.71G      1.099     0.8276      1.344          7        640: 100%|██████████| 250/250 [02:08<00:00,  1.94it/s]\n",
      "                 Class     Images  Instances      Box(P          R      mAP50  mAP50-95): 100%|██████████| 9/9 [00:03<00:00,  2.76it/s]"
     ]
    },
    {
     "name": "stdout",
     "output_type": "stream",
     "text": [
      "                   all        130        131      0.867      0.817      0.859      0.453\n"
     ]
    },
    {
     "name": "stderr",
     "output_type": "stream",
     "text": [
      "\n"
     ]
    },
    {
     "name": "stdout",
     "output_type": "stream",
     "text": [
      "\n",
      "      Epoch    GPU_mem   box_loss   cls_loss   dfl_loss  Instances       Size\n"
     ]
    },
    {
     "name": "stderr",
     "output_type": "stream",
     "text": [
      "     31/250      7.09G      1.085     0.8074      1.328         10        640: 100%|██████████| 250/250 [02:08<00:00,  1.94it/s]\n",
      "                 Class     Images  Instances      Box(P          R      mAP50  mAP50-95): 100%|██████████| 9/9 [00:03<00:00,  2.69it/s]"
     ]
    },
    {
     "name": "stdout",
     "output_type": "stream",
     "text": [
      "                   all        130        131      0.944      0.776      0.886      0.485\n"
     ]
    },
    {
     "name": "stderr",
     "output_type": "stream",
     "text": [
      "\n"
     ]
    },
    {
     "name": "stdout",
     "output_type": "stream",
     "text": [
      "\n",
      "      Epoch    GPU_mem   box_loss   cls_loss   dfl_loss  Instances       Size\n"
     ]
    },
    {
     "name": "stderr",
     "output_type": "stream",
     "text": [
      "     32/250      6.85G      1.124     0.7857       1.35         10        640: 100%|██████████| 250/250 [02:17<00:00,  1.81it/s]\n",
      "                 Class     Images  Instances      Box(P          R      mAP50  mAP50-95): 100%|██████████| 9/9 [00:03<00:00,  2.34it/s]"
     ]
    },
    {
     "name": "stdout",
     "output_type": "stream",
     "text": [
      "                   all        130        131      0.871      0.832      0.854      0.467\n"
     ]
    },
    {
     "name": "stderr",
     "output_type": "stream",
     "text": [
      "\n"
     ]
    },
    {
     "name": "stdout",
     "output_type": "stream",
     "text": [
      "\n",
      "      Epoch    GPU_mem   box_loss   cls_loss   dfl_loss  Instances       Size\n"
     ]
    },
    {
     "name": "stderr",
     "output_type": "stream",
     "text": [
      "     33/250      7.12G      1.105     0.8057      1.334         13        640: 100%|██████████| 250/250 [02:18<00:00,  1.81it/s]\n",
      "                 Class     Images  Instances      Box(P          R      mAP50  mAP50-95): 100%|██████████| 9/9 [00:03<00:00,  2.32it/s]"
     ]
    },
    {
     "name": "stdout",
     "output_type": "stream",
     "text": [
      "                   all        130        131      0.921      0.797      0.868      0.478\n"
     ]
    },
    {
     "name": "stderr",
     "output_type": "stream",
     "text": [
      "\n"
     ]
    },
    {
     "name": "stdout",
     "output_type": "stream",
     "text": [
      "\n",
      "      Epoch    GPU_mem   box_loss   cls_loss   dfl_loss  Instances       Size\n"
     ]
    },
    {
     "name": "stderr",
     "output_type": "stream",
     "text": [
      "     34/250      6.72G      1.109     0.7906      1.334          5        640: 100%|██████████| 250/250 [02:18<00:00,  1.80it/s]\n",
      "                 Class     Images  Instances      Box(P          R      mAP50  mAP50-95): 100%|██████████| 9/9 [00:03<00:00,  2.35it/s]"
     ]
    },
    {
     "name": "stdout",
     "output_type": "stream",
     "text": [
      "                   all        130        131      0.892      0.832      0.887      0.484\n"
     ]
    },
    {
     "name": "stderr",
     "output_type": "stream",
     "text": [
      "\n"
     ]
    },
    {
     "name": "stdout",
     "output_type": "stream",
     "text": [
      "\n",
      "      Epoch    GPU_mem   box_loss   cls_loss   dfl_loss  Instances       Size\n"
     ]
    },
    {
     "name": "stderr",
     "output_type": "stream",
     "text": [
      "     35/250      7.09G      1.081     0.7746      1.337          8        640: 100%|██████████| 250/250 [02:18<00:00,  1.80it/s]\n",
      "                 Class     Images  Instances      Box(P          R      mAP50  mAP50-95): 100%|██████████| 9/9 [00:03<00:00,  2.38it/s]"
     ]
    },
    {
     "name": "stdout",
     "output_type": "stream",
     "text": [
      "                   all        130        131      0.897      0.809      0.845      0.472\n"
     ]
    },
    {
     "name": "stderr",
     "output_type": "stream",
     "text": [
      "\n"
     ]
    },
    {
     "name": "stdout",
     "output_type": "stream",
     "text": [
      "\n",
      "      Epoch    GPU_mem   box_loss   cls_loss   dfl_loss  Instances       Size\n"
     ]
    },
    {
     "name": "stderr",
     "output_type": "stream",
     "text": [
      "     36/250      6.83G      1.077     0.7566      1.312          5        640: 100%|██████████| 250/250 [02:18<00:00,  1.81it/s]\n",
      "                 Class     Images  Instances      Box(P          R      mAP50  mAP50-95): 100%|██████████| 9/9 [00:03<00:00,  2.33it/s]"
     ]
    },
    {
     "name": "stdout",
     "output_type": "stream",
     "text": [
      "                   all        130        131      0.925      0.841       0.89        0.5\n"
     ]
    },
    {
     "name": "stderr",
     "output_type": "stream",
     "text": [
      "\n"
     ]
    },
    {
     "name": "stdout",
     "output_type": "stream",
     "text": [
      "\n",
      "      Epoch    GPU_mem   box_loss   cls_loss   dfl_loss  Instances       Size\n"
     ]
    },
    {
     "name": "stderr",
     "output_type": "stream",
     "text": [
      "     37/250       7.1G       1.07     0.7523      1.315         10        640: 100%|██████████| 250/250 [02:18<00:00,  1.81it/s]\n",
      "                 Class     Images  Instances      Box(P          R      mAP50  mAP50-95): 100%|██████████| 9/9 [00:03<00:00,  2.35it/s]"
     ]
    },
    {
     "name": "stdout",
     "output_type": "stream",
     "text": [
      "                   all        130        131      0.945      0.809      0.888      0.487\n"
     ]
    },
    {
     "name": "stderr",
     "output_type": "stream",
     "text": [
      "\n"
     ]
    },
    {
     "name": "stdout",
     "output_type": "stream",
     "text": [
      "\n",
      "      Epoch    GPU_mem   box_loss   cls_loss   dfl_loss  Instances       Size\n"
     ]
    },
    {
     "name": "stderr",
     "output_type": "stream",
     "text": [
      "     38/250      6.91G      1.081     0.7854      1.306          7        640: 100%|██████████| 250/250 [02:18<00:00,  1.81it/s]\n",
      "                 Class     Images  Instances      Box(P          R      mAP50  mAP50-95): 100%|██████████| 9/9 [00:03<00:00,  2.29it/s]"
     ]
    },
    {
     "name": "stdout",
     "output_type": "stream",
     "text": [
      "                   all        130        131      0.935      0.817      0.865      0.478\n"
     ]
    },
    {
     "name": "stderr",
     "output_type": "stream",
     "text": [
      "\n"
     ]
    },
    {
     "name": "stdout",
     "output_type": "stream",
     "text": [
      "\n",
      "      Epoch    GPU_mem   box_loss   cls_loss   dfl_loss  Instances       Size\n"
     ]
    },
    {
     "name": "stderr",
     "output_type": "stream",
     "text": [
      "     39/250      7.12G      1.049     0.7299      1.305          7        640: 100%|██████████| 250/250 [02:17<00:00,  1.81it/s]\n",
      "                 Class     Images  Instances      Box(P          R      mAP50  mAP50-95): 100%|██████████| 9/9 [00:03<00:00,  2.28it/s]"
     ]
    },
    {
     "name": "stdout",
     "output_type": "stream",
     "text": [
      "                   all        130        131      0.866      0.832      0.877      0.469\n"
     ]
    },
    {
     "name": "stderr",
     "output_type": "stream",
     "text": [
      "\n"
     ]
    },
    {
     "name": "stdout",
     "output_type": "stream",
     "text": [
      "\n",
      "      Epoch    GPU_mem   box_loss   cls_loss   dfl_loss  Instances       Size\n"
     ]
    },
    {
     "name": "stderr",
     "output_type": "stream",
     "text": [
      "     40/250      6.86G      1.063     0.7346        1.3         10        640: 100%|██████████| 250/250 [02:18<00:00,  1.81it/s]\n",
      "                 Class     Images  Instances      Box(P          R      mAP50  mAP50-95): 100%|██████████| 9/9 [00:03<00:00,  2.36it/s]"
     ]
    },
    {
     "name": "stdout",
     "output_type": "stream",
     "text": [
      "                   all        130        131       0.86      0.824      0.858      0.481\n"
     ]
    },
    {
     "name": "stderr",
     "output_type": "stream",
     "text": [
      "\n"
     ]
    },
    {
     "name": "stdout",
     "output_type": "stream",
     "text": [
      "\n",
      "      Epoch    GPU_mem   box_loss   cls_loss   dfl_loss  Instances       Size\n"
     ]
    },
    {
     "name": "stderr",
     "output_type": "stream",
     "text": [
      "     41/250      7.08G       1.03     0.6907      1.288         13        640: 100%|██████████| 250/250 [02:18<00:00,  1.81it/s]\n",
      "                 Class     Images  Instances      Box(P          R      mAP50  mAP50-95): 100%|██████████| 9/9 [00:03<00:00,  2.35it/s]"
     ]
    },
    {
     "name": "stdout",
     "output_type": "stream",
     "text": [
      "                   all        130        131      0.956      0.821        0.9      0.467\n"
     ]
    },
    {
     "name": "stderr",
     "output_type": "stream",
     "text": [
      "\n"
     ]
    },
    {
     "name": "stdout",
     "output_type": "stream",
     "text": [
      "\n",
      "      Epoch    GPU_mem   box_loss   cls_loss   dfl_loss  Instances       Size\n"
     ]
    },
    {
     "name": "stderr",
     "output_type": "stream",
     "text": [
      "     42/250      6.71G      1.051     0.7091      1.294          5        640: 100%|██████████| 250/250 [02:18<00:00,  1.80it/s]\n",
      "                 Class     Images  Instances      Box(P          R      mAP50  mAP50-95): 100%|██████████| 9/9 [00:03<00:00,  2.25it/s]"
     ]
    },
    {
     "name": "stdout",
     "output_type": "stream",
     "text": [
      "                   all        130        131      0.912      0.794      0.877      0.476\n"
     ]
    },
    {
     "name": "stderr",
     "output_type": "stream",
     "text": [
      "\n"
     ]
    },
    {
     "name": "stdout",
     "output_type": "stream",
     "text": [
      "\n",
      "      Epoch    GPU_mem   box_loss   cls_loss   dfl_loss  Instances       Size\n"
     ]
    },
    {
     "name": "stderr",
     "output_type": "stream",
     "text": [
      "     43/250      7.09G       1.03     0.6986       1.28          9        640: 100%|██████████| 250/250 [02:12<00:00,  1.89it/s]\n",
      "                 Class     Images  Instances      Box(P          R      mAP50  mAP50-95): 100%|██████████| 9/9 [00:03<00:00,  2.73it/s]"
     ]
    },
    {
     "name": "stdout",
     "output_type": "stream",
     "text": [
      "                   all        130        131       0.91      0.855      0.884      0.481\n"
     ]
    },
    {
     "name": "stderr",
     "output_type": "stream",
     "text": [
      "\n"
     ]
    },
    {
     "name": "stdout",
     "output_type": "stream",
     "text": [
      "\n",
      "      Epoch    GPU_mem   box_loss   cls_loss   dfl_loss  Instances       Size\n"
     ]
    },
    {
     "name": "stderr",
     "output_type": "stream",
     "text": [
      "     44/250      6.86G       1.03     0.6925      1.298          6        640: 100%|██████████| 250/250 [02:08<00:00,  1.94it/s]\n",
      "                 Class     Images  Instances      Box(P          R      mAP50  mAP50-95): 100%|██████████| 9/9 [00:03<00:00,  2.77it/s]"
     ]
    },
    {
     "name": "stdout",
     "output_type": "stream",
     "text": [
      "                   all        130        131      0.867      0.844       0.87      0.473\n"
     ]
    },
    {
     "name": "stderr",
     "output_type": "stream",
     "text": [
      "\n"
     ]
    },
    {
     "name": "stdout",
     "output_type": "stream",
     "text": [
      "\n",
      "      Epoch    GPU_mem   box_loss   cls_loss   dfl_loss  Instances       Size\n"
     ]
    },
    {
     "name": "stderr",
     "output_type": "stream",
     "text": [
      "     45/250      7.08G      1.033     0.6681      1.274         12        640: 100%|██████████| 250/250 [02:08<00:00,  1.94it/s]\n",
      "                 Class     Images  Instances      Box(P          R      mAP50  mAP50-95): 100%|██████████| 9/9 [00:03<00:00,  2.74it/s]"
     ]
    },
    {
     "name": "stdout",
     "output_type": "stream",
     "text": [
      "                   all        130        131      0.914      0.847      0.914      0.501\n"
     ]
    },
    {
     "name": "stderr",
     "output_type": "stream",
     "text": [
      "\n"
     ]
    },
    {
     "name": "stdout",
     "output_type": "stream",
     "text": [
      "\n",
      "      Epoch    GPU_mem   box_loss   cls_loss   dfl_loss  Instances       Size\n"
     ]
    },
    {
     "name": "stderr",
     "output_type": "stream",
     "text": [
      "     46/250      7.09G      1.014     0.6681      1.276          9        640: 100%|██████████| 250/250 [02:08<00:00,  1.94it/s]\n",
      "                 Class     Images  Instances      Box(P          R      mAP50  mAP50-95): 100%|██████████| 9/9 [00:03<00:00,  2.75it/s]"
     ]
    },
    {
     "name": "stdout",
     "output_type": "stream",
     "text": [
      "                   all        130        131      0.966      0.802      0.902      0.508\n"
     ]
    },
    {
     "name": "stderr",
     "output_type": "stream",
     "text": [
      "\n"
     ]
    },
    {
     "name": "stdout",
     "output_type": "stream",
     "text": [
      "\n",
      "      Epoch    GPU_mem   box_loss   cls_loss   dfl_loss  Instances       Size\n"
     ]
    },
    {
     "name": "stderr",
     "output_type": "stream",
     "text": [
      "     47/250      7.09G      1.037     0.6694      1.273         11        640: 100%|██████████| 250/250 [02:09<00:00,  1.93it/s]\n",
      "                 Class     Images  Instances      Box(P          R      mAP50  mAP50-95): 100%|██████████| 9/9 [00:03<00:00,  2.74it/s]"
     ]
    },
    {
     "name": "stdout",
     "output_type": "stream",
     "text": [
      "                   all        130        131      0.938      0.855      0.908      0.504\n"
     ]
    },
    {
     "name": "stderr",
     "output_type": "stream",
     "text": [
      "\n"
     ]
    },
    {
     "name": "stdout",
     "output_type": "stream",
     "text": [
      "\n",
      "      Epoch    GPU_mem   box_loss   cls_loss   dfl_loss  Instances       Size\n"
     ]
    },
    {
     "name": "stderr",
     "output_type": "stream",
     "text": [
      "     48/250      6.83G     0.9958     0.6569      1.258          6        640: 100%|██████████| 250/250 [02:08<00:00,  1.94it/s]\n",
      "                 Class     Images  Instances      Box(P          R      mAP50  mAP50-95): 100%|██████████| 9/9 [00:03<00:00,  2.76it/s]"
     ]
    },
    {
     "name": "stdout",
     "output_type": "stream",
     "text": [
      "                   all        130        131      0.949      0.852      0.912      0.498\n"
     ]
    },
    {
     "name": "stderr",
     "output_type": "stream",
     "text": [
      "\n"
     ]
    },
    {
     "name": "stdout",
     "output_type": "stream",
     "text": [
      "\n",
      "      Epoch    GPU_mem   box_loss   cls_loss   dfl_loss  Instances       Size\n"
     ]
    },
    {
     "name": "stderr",
     "output_type": "stream",
     "text": [
      "     49/250      7.08G     0.9939     0.6573      1.272          9        640: 100%|██████████| 250/250 [02:09<00:00,  1.94it/s]\n",
      "                 Class     Images  Instances      Box(P          R      mAP50  mAP50-95): 100%|██████████| 9/9 [00:03<00:00,  2.73it/s]"
     ]
    },
    {
     "name": "stdout",
     "output_type": "stream",
     "text": [
      "                   all        130        131      0.917       0.84      0.883      0.475\n"
     ]
    },
    {
     "name": "stderr",
     "output_type": "stream",
     "text": [
      "\n"
     ]
    },
    {
     "name": "stdout",
     "output_type": "stream",
     "text": [
      "\n",
      "      Epoch    GPU_mem   box_loss   cls_loss   dfl_loss  Instances       Size\n"
     ]
    },
    {
     "name": "stderr",
     "output_type": "stream",
     "text": [
      "     50/250      7.12G      1.006     0.6486      1.265          7        640: 100%|██████████| 250/250 [02:10<00:00,  1.92it/s]\n",
      "                 Class     Images  Instances      Box(P          R      mAP50  mAP50-95): 100%|██████████| 9/9 [00:03<00:00,  2.74it/s]"
     ]
    },
    {
     "name": "stdout",
     "output_type": "stream",
     "text": [
      "                   all        130        131      0.942      0.864      0.905      0.495\n"
     ]
    },
    {
     "name": "stderr",
     "output_type": "stream",
     "text": [
      "\n"
     ]
    },
    {
     "name": "stdout",
     "output_type": "stream",
     "text": [
      "\n",
      "      Epoch    GPU_mem   box_loss   cls_loss   dfl_loss  Instances       Size\n"
     ]
    },
    {
     "name": "stderr",
     "output_type": "stream",
     "text": [
      "     51/250      7.08G     0.9833     0.6569      1.255         10        640: 100%|██████████| 250/250 [02:09<00:00,  1.93it/s]\n",
      "                 Class     Images  Instances      Box(P          R      mAP50  mAP50-95): 100%|██████████| 9/9 [00:03<00:00,  2.72it/s]"
     ]
    },
    {
     "name": "stdout",
     "output_type": "stream",
     "text": [
      "                   all        130        131      0.929      0.847      0.887      0.483\n"
     ]
    },
    {
     "name": "stderr",
     "output_type": "stream",
     "text": [
      "\n"
     ]
    },
    {
     "name": "stdout",
     "output_type": "stream",
     "text": [
      "\n",
      "      Epoch    GPU_mem   box_loss   cls_loss   dfl_loss  Instances       Size\n"
     ]
    },
    {
     "name": "stderr",
     "output_type": "stream",
     "text": [
      "     52/250      6.85G     0.9722      0.647      1.239          9        640: 100%|██████████| 250/250 [02:09<00:00,  1.93it/s]\n",
      "                 Class     Images  Instances      Box(P          R      mAP50  mAP50-95): 100%|██████████| 9/9 [00:03<00:00,  2.75it/s]"
     ]
    },
    {
     "name": "stdout",
     "output_type": "stream",
     "text": [
      "                   all        130        131      0.882      0.853      0.882      0.471\n"
     ]
    },
    {
     "name": "stderr",
     "output_type": "stream",
     "text": [
      "\n"
     ]
    },
    {
     "name": "stdout",
     "output_type": "stream",
     "text": [
      "\n",
      "      Epoch    GPU_mem   box_loss   cls_loss   dfl_loss  Instances       Size\n"
     ]
    },
    {
     "name": "stderr",
     "output_type": "stream",
     "text": [
      "     53/250      7.07G     0.9831     0.6356      1.255          7        640: 100%|██████████| 250/250 [02:08<00:00,  1.94it/s]\n",
      "                 Class     Images  Instances      Box(P          R      mAP50  mAP50-95): 100%|██████████| 9/9 [00:03<00:00,  2.80it/s]"
     ]
    },
    {
     "name": "stdout",
     "output_type": "stream",
     "text": [
      "                   all        130        131      0.932      0.832       0.89      0.484\n"
     ]
    },
    {
     "name": "stderr",
     "output_type": "stream",
     "text": [
      "\n"
     ]
    },
    {
     "name": "stdout",
     "output_type": "stream",
     "text": [
      "\n",
      "      Epoch    GPU_mem   box_loss   cls_loss   dfl_loss  Instances       Size\n"
     ]
    },
    {
     "name": "stderr",
     "output_type": "stream",
     "text": [
      "     54/250      7.09G     0.9832     0.6379      1.251          9        640: 100%|██████████| 250/250 [02:09<00:00,  1.93it/s]\n",
      "                 Class     Images  Instances      Box(P          R      mAP50  mAP50-95): 100%|██████████| 9/9 [00:03<00:00,  2.76it/s]"
     ]
    },
    {
     "name": "stdout",
     "output_type": "stream",
     "text": [
      "                   all        130        131      0.906      0.812      0.881      0.464\n"
     ]
    },
    {
     "name": "stderr",
     "output_type": "stream",
     "text": [
      "\n"
     ]
    },
    {
     "name": "stdout",
     "output_type": "stream",
     "text": [
      "\n",
      "      Epoch    GPU_mem   box_loss   cls_loss   dfl_loss  Instances       Size\n"
     ]
    },
    {
     "name": "stderr",
     "output_type": "stream",
     "text": [
      "     55/250      7.09G     0.9762     0.6377      1.241         16        640: 100%|██████████| 250/250 [02:08<00:00,  1.94it/s]\n",
      "                 Class     Images  Instances      Box(P          R      mAP50  mAP50-95): 100%|██████████| 9/9 [00:03<00:00,  2.71it/s]"
     ]
    },
    {
     "name": "stdout",
     "output_type": "stream",
     "text": [
      "                   all        130        131      0.905       0.84      0.898      0.478\n"
     ]
    },
    {
     "name": "stderr",
     "output_type": "stream",
     "text": [
      "\n"
     ]
    },
    {
     "name": "stdout",
     "output_type": "stream",
     "text": [
      "\n",
      "      Epoch    GPU_mem   box_loss   cls_loss   dfl_loss  Instances       Size\n"
     ]
    },
    {
     "name": "stderr",
     "output_type": "stream",
     "text": [
      "     56/250      6.83G     0.9825     0.6451      1.243          6        640: 100%|██████████| 250/250 [02:08<00:00,  1.94it/s]\n",
      "                 Class     Images  Instances      Box(P          R      mAP50  mAP50-95): 100%|██████████| 9/9 [00:03<00:00,  2.76it/s]"
     ]
    },
    {
     "name": "stdout",
     "output_type": "stream",
     "text": [
      "                   all        130        131      0.893      0.832      0.877       0.48\n"
     ]
    },
    {
     "name": "stderr",
     "output_type": "stream",
     "text": [
      "\n"
     ]
    },
    {
     "name": "stdout",
     "output_type": "stream",
     "text": [
      "\n",
      "      Epoch    GPU_mem   box_loss   cls_loss   dfl_loss  Instances       Size\n"
     ]
    },
    {
     "name": "stderr",
     "output_type": "stream",
     "text": [
      "     57/250      7.08G     0.9772     0.6238      1.248         13        640: 100%|██████████| 250/250 [02:09<00:00,  1.93it/s]\n",
      "                 Class     Images  Instances      Box(P          R      mAP50  mAP50-95): 100%|██████████| 9/9 [00:03<00:00,  2.70it/s]"
     ]
    },
    {
     "name": "stdout",
     "output_type": "stream",
     "text": [
      "                   all        130        131      0.938      0.811      0.895      0.498\n"
     ]
    },
    {
     "name": "stderr",
     "output_type": "stream",
     "text": [
      "\n"
     ]
    },
    {
     "name": "stdout",
     "output_type": "stream",
     "text": [
      "\n",
      "      Epoch    GPU_mem   box_loss   cls_loss   dfl_loss  Instances       Size\n"
     ]
    },
    {
     "name": "stderr",
     "output_type": "stream",
     "text": [
      "     58/250       6.7G     0.9589     0.6262      1.229          6        640: 100%|██████████| 250/250 [02:08<00:00,  1.94it/s]\n",
      "                 Class     Images  Instances      Box(P          R      mAP50  mAP50-95): 100%|██████████| 9/9 [00:03<00:00,  2.81it/s]"
     ]
    },
    {
     "name": "stdout",
     "output_type": "stream",
     "text": [
      "                   all        130        131      0.939      0.822      0.896      0.484\n"
     ]
    },
    {
     "name": "stderr",
     "output_type": "stream",
     "text": [
      "\n"
     ]
    },
    {
     "name": "stdout",
     "output_type": "stream",
     "text": [
      "\n",
      "      Epoch    GPU_mem   box_loss   cls_loss   dfl_loss  Instances       Size\n"
     ]
    },
    {
     "name": "stderr",
     "output_type": "stream",
     "text": [
      "     59/250      7.12G     0.9721     0.6261      1.231          9        640: 100%|██████████| 250/250 [02:09<00:00,  1.93it/s]\n",
      "                 Class     Images  Instances      Box(P          R      mAP50  mAP50-95): 100%|██████████| 9/9 [00:03<00:00,  2.77it/s]"
     ]
    },
    {
     "name": "stdout",
     "output_type": "stream",
     "text": [
      "                   all        130        131      0.891      0.876      0.906      0.494\n"
     ]
    },
    {
     "name": "stderr",
     "output_type": "stream",
     "text": [
      "\n"
     ]
    },
    {
     "name": "stdout",
     "output_type": "stream",
     "text": [
      "\n",
      "      Epoch    GPU_mem   box_loss   cls_loss   dfl_loss  Instances       Size\n"
     ]
    },
    {
     "name": "stderr",
     "output_type": "stream",
     "text": [
      "     60/250      6.83G     0.9488     0.6067      1.243         10        640: 100%|██████████| 250/250 [02:20<00:00,  1.77it/s]\n",
      "                 Class     Images  Instances      Box(P          R      mAP50  mAP50-95): 100%|██████████| 9/9 [00:04<00:00,  2.17it/s]"
     ]
    },
    {
     "name": "stdout",
     "output_type": "stream",
     "text": [
      "                   all        130        131      0.924      0.838      0.903      0.504\n"
     ]
    },
    {
     "name": "stderr",
     "output_type": "stream",
     "text": [
      "\n"
     ]
    },
    {
     "name": "stdout",
     "output_type": "stream",
     "text": [
      "\n",
      "      Epoch    GPU_mem   box_loss   cls_loss   dfl_loss  Instances       Size\n"
     ]
    },
    {
     "name": "stderr",
     "output_type": "stream",
     "text": [
      "     61/250      7.08G     0.9495     0.6127      1.229          4        640: 100%|██████████| 250/250 [02:21<00:00,  1.77it/s]\n",
      "                 Class     Images  Instances      Box(P          R      mAP50  mAP50-95): 100%|██████████| 9/9 [00:04<00:00,  2.20it/s]"
     ]
    },
    {
     "name": "stdout",
     "output_type": "stream",
     "text": [
      "                   all        130        131      0.916      0.863      0.912      0.503\n"
     ]
    },
    {
     "name": "stderr",
     "output_type": "stream",
     "text": [
      "\n"
     ]
    },
    {
     "name": "stdout",
     "output_type": "stream",
     "text": [
      "\n",
      "      Epoch    GPU_mem   box_loss   cls_loss   dfl_loss  Instances       Size\n"
     ]
    },
    {
     "name": "stderr",
     "output_type": "stream",
     "text": [
      "     62/250      6.92G      0.932     0.6069      1.223          9        640: 100%|██████████| 250/250 [02:21<00:00,  1.77it/s]\n",
      "                 Class     Images  Instances      Box(P          R      mAP50  mAP50-95): 100%|██████████| 9/9 [00:04<00:00,  2.11it/s]"
     ]
    },
    {
     "name": "stdout",
     "output_type": "stream",
     "text": [
      "                   all        130        131      0.927      0.867      0.906      0.497\n"
     ]
    },
    {
     "name": "stderr",
     "output_type": "stream",
     "text": [
      "\n"
     ]
    },
    {
     "name": "stdout",
     "output_type": "stream",
     "text": [
      "\n",
      "      Epoch    GPU_mem   box_loss   cls_loss   dfl_loss  Instances       Size\n"
     ]
    },
    {
     "name": "stderr",
     "output_type": "stream",
     "text": [
      "     63/250      7.09G     0.9236     0.5924      1.213          9        640: 100%|██████████| 250/250 [02:49<00:00,  1.47it/s]\n",
      "                 Class     Images  Instances      Box(P          R      mAP50  mAP50-95): 100%|██████████| 9/9 [00:05<00:00,  1.59it/s]"
     ]
    },
    {
     "name": "stdout",
     "output_type": "stream",
     "text": [
      "                   all        130        131      0.934       0.84       0.91      0.512\n"
     ]
    },
    {
     "name": "stderr",
     "output_type": "stream",
     "text": [
      "\n"
     ]
    },
    {
     "name": "stdout",
     "output_type": "stream",
     "text": [
      "\n",
      "      Epoch    GPU_mem   box_loss   cls_loss   dfl_loss  Instances       Size\n"
     ]
    },
    {
     "name": "stderr",
     "output_type": "stream",
     "text": [
      "     64/250      6.82G     0.9126      0.586      1.198          7        640: 100%|██████████| 250/250 [03:18<00:00,  1.26it/s]\n",
      "                 Class     Images  Instances      Box(P          R      mAP50  mAP50-95): 100%|██████████| 9/9 [00:05<00:00,  1.65it/s]"
     ]
    },
    {
     "name": "stdout",
     "output_type": "stream",
     "text": [
      "                   all        130        131       0.94      0.831      0.905      0.502\n"
     ]
    },
    {
     "name": "stderr",
     "output_type": "stream",
     "text": [
      "\n"
     ]
    },
    {
     "name": "stdout",
     "output_type": "stream",
     "text": [
      "\n",
      "      Epoch    GPU_mem   box_loss   cls_loss   dfl_loss  Instances       Size\n"
     ]
    },
    {
     "name": "stderr",
     "output_type": "stream",
     "text": [
      "     65/250      7.08G     0.9335     0.5899       1.21         14        640: 100%|██████████| 250/250 [09:40<00:00,  2.32s/it]   \n",
      "                 Class     Images  Instances      Box(P          R      mAP50  mAP50-95): 100%|██████████| 9/9 [00:05<00:00,  1.72it/s]"
     ]
    },
    {
     "name": "stdout",
     "output_type": "stream",
     "text": [
      "                   all        130        131      0.927      0.832      0.893      0.486\n"
     ]
    },
    {
     "name": "stderr",
     "output_type": "stream",
     "text": [
      "\n"
     ]
    },
    {
     "name": "stdout",
     "output_type": "stream",
     "text": [
      "\n",
      "      Epoch    GPU_mem   box_loss   cls_loss   dfl_loss  Instances       Size\n"
     ]
    },
    {
     "name": "stderr",
     "output_type": "stream",
     "text": [
      "     66/250      7.08G     0.9385        0.6      1.218          6        640: 100%|██████████| 250/250 [02:13<00:00,  1.87it/s]\n",
      "                 Class     Images  Instances      Box(P          R      mAP50  mAP50-95): 100%|██████████| 9/9 [00:03<00:00,  2.78it/s]"
     ]
    },
    {
     "name": "stdout",
     "output_type": "stream",
     "text": [
      "                   all        130        131      0.903      0.851      0.894      0.495\n"
     ]
    },
    {
     "name": "stderr",
     "output_type": "stream",
     "text": [
      "\n"
     ]
    },
    {
     "name": "stdout",
     "output_type": "stream",
     "text": [
      "\n",
      "      Epoch    GPU_mem   box_loss   cls_loss   dfl_loss  Instances       Size\n"
     ]
    },
    {
     "name": "stderr",
     "output_type": "stream",
     "text": [
      "     67/250      6.71G     0.9049     0.5791      1.209          7        640: 100%|██████████| 250/250 [02:07<00:00,  1.96it/s]\n",
      "                 Class     Images  Instances      Box(P          R      mAP50  mAP50-95): 100%|██████████| 9/9 [00:03<00:00,  2.77it/s]"
     ]
    },
    {
     "name": "stdout",
     "output_type": "stream",
     "text": [
      "                   all        130        131      0.956      0.863      0.912      0.509\n"
     ]
    },
    {
     "name": "stderr",
     "output_type": "stream",
     "text": [
      "\n"
     ]
    },
    {
     "name": "stdout",
     "output_type": "stream",
     "text": [
      "\n",
      "      Epoch    GPU_mem   box_loss   cls_loss   dfl_loss  Instances       Size\n"
     ]
    },
    {
     "name": "stderr",
     "output_type": "stream",
     "text": [
      "     68/250      6.86G     0.9281     0.5931      1.215          9        640: 100%|██████████| 250/250 [02:07<00:00,  1.96it/s]\n",
      "                 Class     Images  Instances      Box(P          R      mAP50  mAP50-95): 100%|██████████| 9/9 [00:03<00:00,  2.80it/s]"
     ]
    },
    {
     "name": "stdout",
     "output_type": "stream",
     "text": [
      "                   all        130        131      0.922       0.87      0.897      0.484\n"
     ]
    },
    {
     "name": "stderr",
     "output_type": "stream",
     "text": [
      "\n"
     ]
    },
    {
     "name": "stdout",
     "output_type": "stream",
     "text": [
      "\n",
      "      Epoch    GPU_mem   box_loss   cls_loss   dfl_loss  Instances       Size\n"
     ]
    },
    {
     "name": "stderr",
     "output_type": "stream",
     "text": [
      "     69/250      7.07G     0.9266     0.5901      1.208         15        640: 100%|██████████| 250/250 [02:08<00:00,  1.95it/s]\n",
      "                 Class     Images  Instances      Box(P          R      mAP50  mAP50-95): 100%|██████████| 9/9 [00:03<00:00,  2.76it/s]"
     ]
    },
    {
     "name": "stdout",
     "output_type": "stream",
     "text": [
      "                   all        130        131      0.934       0.84      0.898      0.492\n"
     ]
    },
    {
     "name": "stderr",
     "output_type": "stream",
     "text": [
      "\n"
     ]
    },
    {
     "name": "stdout",
     "output_type": "stream",
     "text": [
      "\n",
      "      Epoch    GPU_mem   box_loss   cls_loss   dfl_loss  Instances       Size\n"
     ]
    },
    {
     "name": "stderr",
     "output_type": "stream",
     "text": [
      "     70/250      6.72G     0.9043     0.5748      1.195         18        640: 100%|██████████| 250/250 [02:07<00:00,  1.96it/s]\n",
      "                 Class     Images  Instances      Box(P          R      mAP50  mAP50-95): 100%|██████████| 9/9 [00:03<00:00,  2.77it/s]"
     ]
    },
    {
     "name": "stdout",
     "output_type": "stream",
     "text": [
      "                   all        130        131      0.918      0.854      0.892      0.487\n"
     ]
    },
    {
     "name": "stderr",
     "output_type": "stream",
     "text": [
      "\n"
     ]
    },
    {
     "name": "stdout",
     "output_type": "stream",
     "text": [
      "\n",
      "      Epoch    GPU_mem   box_loss   cls_loss   dfl_loss  Instances       Size\n"
     ]
    },
    {
     "name": "stderr",
     "output_type": "stream",
     "text": [
      "     71/250      6.91G     0.8924     0.5547      1.187         11        640: 100%|██████████| 250/250 [02:07<00:00,  1.96it/s]\n",
      "                 Class     Images  Instances      Box(P          R      mAP50  mAP50-95): 100%|██████████| 9/9 [00:03<00:00,  2.77it/s]"
     ]
    },
    {
     "name": "stdout",
     "output_type": "stream",
     "text": [
      "                   all        130        131       0.92      0.802      0.883      0.481\n"
     ]
    },
    {
     "name": "stderr",
     "output_type": "stream",
     "text": [
      "\n"
     ]
    },
    {
     "name": "stdout",
     "output_type": "stream",
     "text": [
      "\n",
      "      Epoch    GPU_mem   box_loss   cls_loss   dfl_loss  Instances       Size\n"
     ]
    },
    {
     "name": "stderr",
     "output_type": "stream",
     "text": [
      "     72/250      6.87G     0.8916     0.5614       1.19         11        640: 100%|██████████| 250/250 [02:07<00:00,  1.95it/s]\n",
      "                 Class     Images  Instances      Box(P          R      mAP50  mAP50-95): 100%|██████████| 9/9 [00:03<00:00,  2.70it/s]"
     ]
    },
    {
     "name": "stdout",
     "output_type": "stream",
     "text": [
      "                   all        130        131       0.93      0.807      0.896       0.49\n"
     ]
    },
    {
     "name": "stderr",
     "output_type": "stream",
     "text": [
      "\n"
     ]
    },
    {
     "name": "stdout",
     "output_type": "stream",
     "text": [
      "\n",
      "      Epoch    GPU_mem   box_loss   cls_loss   dfl_loss  Instances       Size\n"
     ]
    },
    {
     "name": "stderr",
     "output_type": "stream",
     "text": [
      "     73/250       7.1G      0.874     0.5682      1.188          9        640: 100%|██████████| 250/250 [02:07<00:00,  1.96it/s]\n",
      "                 Class     Images  Instances      Box(P          R      mAP50  mAP50-95): 100%|██████████| 9/9 [00:03<00:00,  2.75it/s]"
     ]
    },
    {
     "name": "stdout",
     "output_type": "stream",
     "text": [
      "                   all        130        131      0.924      0.885      0.923      0.488\n"
     ]
    },
    {
     "name": "stderr",
     "output_type": "stream",
     "text": [
      "\n"
     ]
    },
    {
     "name": "stdout",
     "output_type": "stream",
     "text": [
      "\n",
      "      Epoch    GPU_mem   box_loss   cls_loss   dfl_loss  Instances       Size\n"
     ]
    },
    {
     "name": "stderr",
     "output_type": "stream",
     "text": [
      "     74/250       6.7G     0.8867     0.5641       1.18         10        640: 100%|██████████| 250/250 [02:07<00:00,  1.95it/s]\n",
      "                 Class     Images  Instances      Box(P          R      mAP50  mAP50-95): 100%|██████████| 9/9 [00:03<00:00,  2.78it/s]"
     ]
    },
    {
     "name": "stdout",
     "output_type": "stream",
     "text": [
      "                   all        130        131      0.929        0.8       0.89      0.475\n"
     ]
    },
    {
     "name": "stderr",
     "output_type": "stream",
     "text": [
      "\n"
     ]
    },
    {
     "name": "stdout",
     "output_type": "stream",
     "text": [
      "\n",
      "      Epoch    GPU_mem   box_loss   cls_loss   dfl_loss  Instances       Size\n"
     ]
    },
    {
     "name": "stderr",
     "output_type": "stream",
     "text": [
      "     75/250       7.1G     0.8649      0.551       1.18         11        640: 100%|██████████| 250/250 [02:07<00:00,  1.96it/s]\n",
      "                 Class     Images  Instances      Box(P          R      mAP50  mAP50-95): 100%|██████████| 9/9 [00:03<00:00,  2.79it/s]"
     ]
    },
    {
     "name": "stdout",
     "output_type": "stream",
     "text": [
      "                   all        130        131      0.931      0.809      0.891       0.47\n"
     ]
    },
    {
     "name": "stderr",
     "output_type": "stream",
     "text": [
      "\n"
     ]
    },
    {
     "name": "stdout",
     "output_type": "stream",
     "text": [
      "\n",
      "      Epoch    GPU_mem   box_loss   cls_loss   dfl_loss  Instances       Size\n"
     ]
    },
    {
     "name": "stderr",
     "output_type": "stream",
     "text": [
      "     76/250      6.86G     0.8892     0.5527      1.191         12        640: 100%|██████████| 250/250 [02:14<00:00,  1.87it/s]\n",
      "                 Class     Images  Instances      Box(P          R      mAP50  mAP50-95): 100%|██████████| 9/9 [00:03<00:00,  2.76it/s]"
     ]
    },
    {
     "name": "stdout",
     "output_type": "stream",
     "text": [
      "                   all        130        131       0.93      0.832       0.88      0.485\n"
     ]
    },
    {
     "name": "stderr",
     "output_type": "stream",
     "text": [
      "\n"
     ]
    },
    {
     "name": "stdout",
     "output_type": "stream",
     "text": [
      "\n",
      "      Epoch    GPU_mem   box_loss   cls_loss   dfl_loss  Instances       Size\n"
     ]
    },
    {
     "name": "stderr",
     "output_type": "stream",
     "text": [
      "     77/250      7.11G     0.8392     0.5176      1.159          7        640: 100%|██████████| 250/250 [02:46<00:00,  1.50it/s]\n",
      "                 Class     Images  Instances      Box(P          R      mAP50  mAP50-95): 100%|██████████| 9/9 [00:04<00:00,  2.23it/s]"
     ]
    },
    {
     "name": "stdout",
     "output_type": "stream",
     "text": [
      "                   all        130        131      0.943      0.879       0.92      0.498\n"
     ]
    },
    {
     "name": "stderr",
     "output_type": "stream",
     "text": [
      "\n"
     ]
    },
    {
     "name": "stdout",
     "output_type": "stream",
     "text": [
      "\n",
      "      Epoch    GPU_mem   box_loss   cls_loss   dfl_loss  Instances       Size\n"
     ]
    },
    {
     "name": "stderr",
     "output_type": "stream",
     "text": [
      "     78/250      7.08G      0.859     0.5408      1.178         14        640: 100%|██████████| 250/250 [02:22<00:00,  1.76it/s]\n",
      "                 Class     Images  Instances      Box(P          R      mAP50  mAP50-95): 100%|██████████| 9/9 [00:04<00:00,  2.19it/s]"
     ]
    },
    {
     "name": "stdout",
     "output_type": "stream",
     "text": [
      "                   all        130        131       0.95      0.861      0.915      0.479\n"
     ]
    },
    {
     "name": "stderr",
     "output_type": "stream",
     "text": [
      "\n"
     ]
    },
    {
     "name": "stdout",
     "output_type": "stream",
     "text": [
      "\n",
      "      Epoch    GPU_mem   box_loss   cls_loss   dfl_loss  Instances       Size\n"
     ]
    },
    {
     "name": "stderr",
     "output_type": "stream",
     "text": [
      "     79/250      7.11G     0.8553     0.5364      1.162          6        640: 100%|██████████| 250/250 [02:32<00:00,  1.64it/s]\n",
      "                 Class     Images  Instances      Box(P          R      mAP50  mAP50-95): 100%|██████████| 9/9 [00:04<00:00,  2.14it/s]"
     ]
    },
    {
     "name": "stdout",
     "output_type": "stream",
     "text": [
      "                   all        130        131      0.931       0.84      0.898      0.444\n"
     ]
    },
    {
     "name": "stderr",
     "output_type": "stream",
     "text": [
      "\n"
     ]
    },
    {
     "name": "stdout",
     "output_type": "stream",
     "text": [
      "\n",
      "      Epoch    GPU_mem   box_loss   cls_loss   dfl_loss  Instances       Size\n"
     ]
    },
    {
     "name": "stderr",
     "output_type": "stream",
     "text": [
      "     80/250      6.82G     0.8464     0.5284      1.159          9        640: 100%|██████████| 250/250 [02:23<00:00,  1.74it/s]\n",
      "                 Class     Images  Instances      Box(P          R      mAP50  mAP50-95): 100%|██████████| 9/9 [00:04<00:00,  2.12it/s]"
     ]
    },
    {
     "name": "stdout",
     "output_type": "stream",
     "text": [
      "                   all        130        131      0.946      0.809      0.888      0.488\n"
     ]
    },
    {
     "name": "stderr",
     "output_type": "stream",
     "text": [
      "\n"
     ]
    },
    {
     "name": "stdout",
     "output_type": "stream",
     "text": [
      "\n",
      "      Epoch    GPU_mem   box_loss   cls_loss   dfl_loss  Instances       Size\n"
     ]
    },
    {
     "name": "stderr",
     "output_type": "stream",
     "text": [
      "     81/250      7.12G     0.8435      0.529      1.157         13        640: 100%|██████████| 250/250 [02:26<00:00,  1.70it/s]\n",
      "                 Class     Images  Instances      Box(P          R      mAP50  mAP50-95): 100%|██████████| 9/9 [00:03<00:00,  2.27it/s]"
     ]
    },
    {
     "name": "stdout",
     "output_type": "stream",
     "text": [
      "                   all        130        131      0.957      0.847      0.911      0.482\n"
     ]
    },
    {
     "name": "stderr",
     "output_type": "stream",
     "text": [
      "\n"
     ]
    },
    {
     "name": "stdout",
     "output_type": "stream",
     "text": [
      "\n",
      "      Epoch    GPU_mem   box_loss   cls_loss   dfl_loss  Instances       Size\n"
     ]
    },
    {
     "name": "stderr",
     "output_type": "stream",
     "text": [
      "     82/250      6.69G     0.8616     0.5489      1.166          4        640: 100%|██████████| 250/250 [02:13<00:00,  1.88it/s]\n",
      "                 Class     Images  Instances      Box(P          R      mAP50  mAP50-95): 100%|██████████| 9/9 [00:03<00:00,  2.74it/s]"
     ]
    },
    {
     "name": "stdout",
     "output_type": "stream",
     "text": [
      "                   all        130        131      0.958      0.863      0.924      0.494\n"
     ]
    },
    {
     "name": "stderr",
     "output_type": "stream",
     "text": [
      "\n"
     ]
    },
    {
     "name": "stdout",
     "output_type": "stream",
     "text": [
      "\n",
      "      Epoch    GPU_mem   box_loss   cls_loss   dfl_loss  Instances       Size\n"
     ]
    },
    {
     "name": "stderr",
     "output_type": "stream",
     "text": [
      "     83/250      7.09G     0.8459     0.5285      1.153          7        640: 100%|██████████| 250/250 [04:17<00:00,  1.03s/it]\n",
      "                 Class     Images  Instances      Box(P          R      mAP50  mAP50-95): 100%|██████████| 9/9 [00:03<00:00,  2.70it/s]"
     ]
    },
    {
     "name": "stdout",
     "output_type": "stream",
     "text": [
      "                   all        130        131      0.956      0.836      0.897      0.473\n"
     ]
    },
    {
     "name": "stderr",
     "output_type": "stream",
     "text": [
      "\n"
     ]
    },
    {
     "name": "stdout",
     "output_type": "stream",
     "text": [
      "\n",
      "      Epoch    GPU_mem   box_loss   cls_loss   dfl_loss  Instances       Size\n"
     ]
    },
    {
     "name": "stderr",
     "output_type": "stream",
     "text": [
      "     84/250      6.86G     0.8257     0.5253      1.147         10        640: 100%|██████████| 250/250 [02:11<00:00,  1.89it/s]\n",
      "                 Class     Images  Instances      Box(P          R      mAP50  mAP50-95): 100%|██████████| 9/9 [00:03<00:00,  2.73it/s]"
     ]
    },
    {
     "name": "stdout",
     "output_type": "stream",
     "text": [
      "                   all        130        131      0.944       0.84      0.893      0.486\n"
     ]
    },
    {
     "name": "stderr",
     "output_type": "stream",
     "text": [
      "\n"
     ]
    },
    {
     "name": "stdout",
     "output_type": "stream",
     "text": [
      "\n",
      "      Epoch    GPU_mem   box_loss   cls_loss   dfl_loss  Instances       Size\n"
     ]
    },
    {
     "name": "stderr",
     "output_type": "stream",
     "text": [
      "     85/250      7.11G     0.8224     0.5165      1.146          5        640: 100%|██████████| 250/250 [02:13<00:00,  1.87it/s]\n",
      "                 Class     Images  Instances      Box(P          R      mAP50  mAP50-95): 100%|██████████| 9/9 [00:03<00:00,  2.70it/s]"
     ]
    },
    {
     "name": "stdout",
     "output_type": "stream",
     "text": [
      "                   all        130        131      0.914      0.847      0.903      0.492\n"
     ]
    },
    {
     "name": "stderr",
     "output_type": "stream",
     "text": [
      "\n"
     ]
    },
    {
     "name": "stdout",
     "output_type": "stream",
     "text": [
      "\n",
      "      Epoch    GPU_mem   box_loss   cls_loss   dfl_loss  Instances       Size\n"
     ]
    },
    {
     "name": "stderr",
     "output_type": "stream",
     "text": [
      "     86/250      6.71G     0.8097     0.5179       1.14         10        640: 100%|██████████| 250/250 [02:12<00:00,  1.88it/s]\n",
      "                 Class     Images  Instances      Box(P          R      mAP50  mAP50-95): 100%|██████████| 9/9 [00:03<00:00,  2.71it/s]"
     ]
    },
    {
     "name": "stdout",
     "output_type": "stream",
     "text": [
      "                   all        130        131       0.92      0.878      0.907       0.49\n"
     ]
    },
    {
     "name": "stderr",
     "output_type": "stream",
     "text": [
      "\n"
     ]
    },
    {
     "name": "stdout",
     "output_type": "stream",
     "text": [
      "\n",
      "      Epoch    GPU_mem   box_loss   cls_loss   dfl_loss  Instances       Size\n"
     ]
    },
    {
     "name": "stderr",
     "output_type": "stream",
     "text": [
      "     87/250      7.08G     0.8308     0.5192      1.149          6        640: 100%|██████████| 250/250 [02:36<00:00,  1.60it/s]\n",
      "                 Class     Images  Instances      Box(P          R      mAP50  mAP50-95): 100%|██████████| 9/9 [00:03<00:00,  2.69it/s]"
     ]
    },
    {
     "name": "stdout",
     "output_type": "stream",
     "text": [
      "                   all        130        131      0.949       0.87      0.911      0.497\n"
     ]
    },
    {
     "name": "stderr",
     "output_type": "stream",
     "text": [
      "\n"
     ]
    },
    {
     "name": "stdout",
     "output_type": "stream",
     "text": [
      "\n",
      "      Epoch    GPU_mem   box_loss   cls_loss   dfl_loss  Instances       Size\n"
     ]
    },
    {
     "name": "stderr",
     "output_type": "stream",
     "text": [
      "     88/250      6.86G     0.8182     0.4998      1.139          2        640: 100%|██████████| 250/250 [02:15<00:00,  1.85it/s]\n",
      "                 Class     Images  Instances      Box(P          R      mAP50  mAP50-95): 100%|██████████| 9/9 [00:03<00:00,  2.56it/s]"
     ]
    },
    {
     "name": "stdout",
     "output_type": "stream",
     "text": [
      "                   all        130        131      0.971      0.863      0.914      0.497\n"
     ]
    },
    {
     "name": "stderr",
     "output_type": "stream",
     "text": [
      "\n"
     ]
    },
    {
     "name": "stdout",
     "output_type": "stream",
     "text": [
      "\n",
      "      Epoch    GPU_mem   box_loss   cls_loss   dfl_loss  Instances       Size\n"
     ]
    },
    {
     "name": "stderr",
     "output_type": "stream",
     "text": [
      "     89/250      7.08G     0.7938     0.4861      1.131          5        640: 100%|██████████| 250/250 [03:29<00:00,  1.19it/s]\n",
      "                 Class     Images  Instances      Box(P          R      mAP50  mAP50-95): 100%|██████████| 9/9 [00:03<00:00,  2.66it/s]"
     ]
    },
    {
     "name": "stdout",
     "output_type": "stream",
     "text": [
      "                   all        130        131      0.974      0.843       0.93      0.488\n"
     ]
    },
    {
     "name": "stderr",
     "output_type": "stream",
     "text": [
      "\n"
     ]
    },
    {
     "name": "stdout",
     "output_type": "stream",
     "text": [
      "\n",
      "      Epoch    GPU_mem   box_loss   cls_loss   dfl_loss  Instances       Size\n"
     ]
    },
    {
     "name": "stderr",
     "output_type": "stream",
     "text": [
      "     90/250      7.09G     0.8226     0.4924      1.148         11        640: 100%|██████████| 250/250 [06:35<00:00,  1.58s/it]\n",
      "                 Class     Images  Instances      Box(P          R      mAP50  mAP50-95): 100%|██████████| 9/9 [00:03<00:00,  2.56it/s]"
     ]
    },
    {
     "name": "stdout",
     "output_type": "stream",
     "text": [
      "                   all        130        131      0.955       0.84      0.917      0.522\n"
     ]
    },
    {
     "name": "stderr",
     "output_type": "stream",
     "text": [
      "\n"
     ]
    },
    {
     "name": "stdout",
     "output_type": "stream",
     "text": [
      "\n",
      "      Epoch    GPU_mem   box_loss   cls_loss   dfl_loss  Instances       Size\n"
     ]
    },
    {
     "name": "stderr",
     "output_type": "stream",
     "text": [
      "     91/250      6.71G     0.7893     0.4857      1.119         13        640: 100%|██████████| 250/250 [02:15<00:00,  1.85it/s]\n",
      "                 Class     Images  Instances      Box(P          R      mAP50  mAP50-95): 100%|██████████| 9/9 [00:03<00:00,  2.70it/s]"
     ]
    },
    {
     "name": "stdout",
     "output_type": "stream",
     "text": [
      "                   all        130        131      0.962      0.832      0.922      0.511\n"
     ]
    },
    {
     "name": "stderr",
     "output_type": "stream",
     "text": [
      "\n"
     ]
    },
    {
     "name": "stdout",
     "output_type": "stream",
     "text": [
      "\n",
      "      Epoch    GPU_mem   box_loss   cls_loss   dfl_loss  Instances       Size\n"
     ]
    },
    {
     "name": "stderr",
     "output_type": "stream",
     "text": [
      "     92/250      6.85G     0.7991      0.499      1.119          8        640: 100%|██████████| 250/250 [02:10<00:00,  1.91it/s]\n",
      "                 Class     Images  Instances      Box(P          R      mAP50  mAP50-95): 100%|██████████| 9/9 [00:03<00:00,  2.75it/s]"
     ]
    },
    {
     "name": "stdout",
     "output_type": "stream",
     "text": [
      "                   all        130        131      0.922      0.847      0.903      0.511\n"
     ]
    },
    {
     "name": "stderr",
     "output_type": "stream",
     "text": [
      "\n"
     ]
    },
    {
     "name": "stdout",
     "output_type": "stream",
     "text": [
      "\n",
      "      Epoch    GPU_mem   box_loss   cls_loss   dfl_loss  Instances       Size\n"
     ]
    },
    {
     "name": "stderr",
     "output_type": "stream",
     "text": [
      "     93/250       7.1G     0.8072     0.4926      1.124          8        640: 100%|██████████| 250/250 [02:24<00:00,  1.73it/s]\n",
      "                 Class     Images  Instances      Box(P          R      mAP50  mAP50-95): 100%|██████████| 9/9 [00:03<00:00,  2.70it/s]"
     ]
    },
    {
     "name": "stdout",
     "output_type": "stream",
     "text": [
      "                   all        130        131      0.955      0.863      0.928      0.499\n"
     ]
    },
    {
     "name": "stderr",
     "output_type": "stream",
     "text": [
      "\n"
     ]
    },
    {
     "name": "stdout",
     "output_type": "stream",
     "text": [
      "\n",
      "      Epoch    GPU_mem   box_loss   cls_loss   dfl_loss  Instances       Size\n"
     ]
    },
    {
     "name": "stderr",
     "output_type": "stream",
     "text": [
      "     94/250      7.11G     0.8008     0.5042      1.125         11        640: 100%|██████████| 250/250 [04:32<00:00,  1.09s/it]\n",
      "                 Class     Images  Instances      Box(P          R      mAP50  mAP50-95): 100%|██████████| 9/9 [00:03<00:00,  2.49it/s]"
     ]
    },
    {
     "name": "stdout",
     "output_type": "stream",
     "text": [
      "                   all        130        131       0.94      0.838      0.919      0.498\n"
     ]
    },
    {
     "name": "stderr",
     "output_type": "stream",
     "text": [
      "\n"
     ]
    },
    {
     "name": "stdout",
     "output_type": "stream",
     "text": [
      "\n",
      "      Epoch    GPU_mem   box_loss   cls_loss   dfl_loss  Instances       Size\n"
     ]
    },
    {
     "name": "stderr",
     "output_type": "stream",
     "text": [
      "     95/250      6.92G     0.7821     0.4917      1.106          9        640: 100%|██████████| 250/250 [02:23<00:00,  1.74it/s]\n",
      "                 Class     Images  Instances      Box(P          R      mAP50  mAP50-95): 100%|██████████| 9/9 [00:03<00:00,  2.37it/s]"
     ]
    },
    {
     "name": "stdout",
     "output_type": "stream",
     "text": [
      "                   all        130        131      0.952       0.84      0.924      0.499\n"
     ]
    },
    {
     "name": "stderr",
     "output_type": "stream",
     "text": [
      "\n"
     ]
    },
    {
     "name": "stdout",
     "output_type": "stream",
     "text": [
      "\n",
      "      Epoch    GPU_mem   box_loss   cls_loss   dfl_loss  Instances       Size\n"
     ]
    },
    {
     "name": "stderr",
     "output_type": "stream",
     "text": [
      "     96/250      6.83G     0.7781     0.4869       1.11         16        640: 100%|██████████| 250/250 [02:13<00:00,  1.88it/s]\n",
      "                 Class     Images  Instances      Box(P          R      mAP50  mAP50-95): 100%|██████████| 9/9 [00:03<00:00,  2.69it/s]"
     ]
    },
    {
     "name": "stdout",
     "output_type": "stream",
     "text": [
      "                   all        130        131      0.947      0.794       0.87      0.447\n"
     ]
    },
    {
     "name": "stderr",
     "output_type": "stream",
     "text": [
      "\n"
     ]
    },
    {
     "name": "stdout",
     "output_type": "stream",
     "text": [
      "\n",
      "      Epoch    GPU_mem   box_loss   cls_loss   dfl_loss  Instances       Size\n"
     ]
    },
    {
     "name": "stderr",
     "output_type": "stream",
     "text": [
      "     97/250       7.1G      0.779     0.4821      1.122          9        640: 100%|██████████| 250/250 [02:54<00:00,  1.43it/s]\n",
      "                 Class     Images  Instances      Box(P          R      mAP50  mAP50-95): 100%|██████████| 9/9 [00:04<00:00,  2.05it/s]"
     ]
    },
    {
     "name": "stdout",
     "output_type": "stream",
     "text": [
      "                   all        130        131      0.953      0.832      0.899       0.47\n"
     ]
    },
    {
     "name": "stderr",
     "output_type": "stream",
     "text": [
      "\n"
     ]
    },
    {
     "name": "stdout",
     "output_type": "stream",
     "text": [
      "\n",
      "      Epoch    GPU_mem   box_loss   cls_loss   dfl_loss  Instances       Size\n"
     ]
    },
    {
     "name": "stderr",
     "output_type": "stream",
     "text": [
      "     98/250      7.09G     0.7463     0.4753      1.095          8        640: 100%|██████████| 250/250 [03:19<00:00,  1.25it/s]\n",
      "                 Class     Images  Instances      Box(P          R      mAP50  mAP50-95): 100%|██████████| 9/9 [00:03<00:00,  2.50it/s]"
     ]
    },
    {
     "name": "stdout",
     "output_type": "stream",
     "text": [
      "                   all        130        131      0.956      0.878      0.922      0.489\n"
     ]
    },
    {
     "name": "stderr",
     "output_type": "stream",
     "text": [
      "\n"
     ]
    },
    {
     "name": "stdout",
     "output_type": "stream",
     "text": [
      "\n",
      "      Epoch    GPU_mem   box_loss   cls_loss   dfl_loss  Instances       Size\n"
     ]
    },
    {
     "name": "stderr",
     "output_type": "stream",
     "text": [
      "     99/250       6.7G     0.7498     0.4684      1.096          9        640: 100%|██████████| 250/250 [02:11<00:00,  1.90it/s]\n",
      "                 Class     Images  Instances      Box(P          R      mAP50  mAP50-95): 100%|██████████| 9/9 [00:03<00:00,  2.62it/s]"
     ]
    },
    {
     "name": "stdout",
     "output_type": "stream",
     "text": [
      "                   all        130        131      0.941      0.855       0.91      0.493\n"
     ]
    },
    {
     "name": "stderr",
     "output_type": "stream",
     "text": [
      "\n"
     ]
    },
    {
     "name": "stdout",
     "output_type": "stream",
     "text": [
      "\n",
      "      Epoch    GPU_mem   box_loss   cls_loss   dfl_loss  Instances       Size\n"
     ]
    },
    {
     "name": "stderr",
     "output_type": "stream",
     "text": [
      "    100/250      6.82G      0.777     0.4755      1.118          6        640: 100%|██████████| 250/250 [02:14<00:00,  1.86it/s]\n",
      "                 Class     Images  Instances      Box(P          R      mAP50  mAP50-95): 100%|██████████| 9/9 [00:03<00:00,  2.75it/s]"
     ]
    },
    {
     "name": "stdout",
     "output_type": "stream",
     "text": [
      "                   all        130        131      0.912      0.871      0.922      0.496\n"
     ]
    },
    {
     "name": "stderr",
     "output_type": "stream",
     "text": [
      "\n"
     ]
    },
    {
     "name": "stdout",
     "output_type": "stream",
     "text": [
      "\n",
      "      Epoch    GPU_mem   box_loss   cls_loss   dfl_loss  Instances       Size\n"
     ]
    },
    {
     "name": "stderr",
     "output_type": "stream",
     "text": [
      "    101/250      7.08G     0.7524     0.4557      1.091          9        640: 100%|██████████| 250/250 [02:10<00:00,  1.91it/s]\n",
      "                 Class     Images  Instances      Box(P          R      mAP50  mAP50-95): 100%|██████████| 9/9 [00:03<00:00,  2.69it/s]"
     ]
    },
    {
     "name": "stdout",
     "output_type": "stream",
     "text": [
      "                   all        130        131       0.94      0.863       0.93      0.509\n"
     ]
    },
    {
     "name": "stderr",
     "output_type": "stream",
     "text": [
      "\n"
     ]
    },
    {
     "name": "stdout",
     "output_type": "stream",
     "text": [
      "\n",
      "      Epoch    GPU_mem   box_loss   cls_loss   dfl_loss  Instances       Size\n"
     ]
    },
    {
     "name": "stderr",
     "output_type": "stream",
     "text": [
      "    102/250      6.69G     0.7468     0.4589      1.094          5        640: 100%|██████████| 250/250 [02:13<00:00,  1.88it/s]\n",
      "                 Class     Images  Instances      Box(P          R      mAP50  mAP50-95): 100%|██████████| 9/9 [00:03<00:00,  2.68it/s]"
     ]
    },
    {
     "name": "stdout",
     "output_type": "stream",
     "text": [
      "                   all        130        131      0.947      0.855      0.912      0.507\n"
     ]
    },
    {
     "name": "stderr",
     "output_type": "stream",
     "text": [
      "\n"
     ]
    },
    {
     "name": "stdout",
     "output_type": "stream",
     "text": [
      "\n",
      "      Epoch    GPU_mem   box_loss   cls_loss   dfl_loss  Instances       Size\n"
     ]
    },
    {
     "name": "stderr",
     "output_type": "stream",
     "text": [
      "    103/250      7.08G     0.7481     0.4592      1.081          5        640: 100%|██████████| 250/250 [02:45<00:00,  1.51it/s]\n",
      "                 Class     Images  Instances      Box(P          R      mAP50  mAP50-95): 100%|██████████| 9/9 [00:03<00:00,  2.73it/s]"
     ]
    },
    {
     "name": "stdout",
     "output_type": "stream",
     "text": [
      "                   all        130        131      0.919      0.862      0.911      0.508\n"
     ]
    },
    {
     "name": "stderr",
     "output_type": "stream",
     "text": [
      "\n"
     ]
    },
    {
     "name": "stdout",
     "output_type": "stream",
     "text": [
      "\n",
      "      Epoch    GPU_mem   box_loss   cls_loss   dfl_loss  Instances       Size\n"
     ]
    },
    {
     "name": "stderr",
     "output_type": "stream",
     "text": [
      "    104/250      6.86G     0.7475     0.4512      1.094         10        640: 100%|██████████| 250/250 [02:13<00:00,  1.87it/s]\n",
      "                 Class     Images  Instances      Box(P          R      mAP50  mAP50-95): 100%|██████████| 9/9 [00:03<00:00,  2.74it/s]"
     ]
    },
    {
     "name": "stdout",
     "output_type": "stream",
     "text": [
      "                   all        130        131      0.932      0.847      0.903       0.52\n"
     ]
    },
    {
     "name": "stderr",
     "output_type": "stream",
     "text": [
      "\n"
     ]
    },
    {
     "name": "stdout",
     "output_type": "stream",
     "text": [
      "\n",
      "      Epoch    GPU_mem   box_loss   cls_loss   dfl_loss  Instances       Size\n"
     ]
    },
    {
     "name": "stderr",
     "output_type": "stream",
     "text": [
      "    105/250      6.71G     0.7426     0.4725       1.09          6        640: 100%|██████████| 250/250 [02:09<00:00,  1.92it/s]\n",
      "                 Class     Images  Instances      Box(P          R      mAP50  mAP50-95): 100%|██████████| 9/9 [00:03<00:00,  2.76it/s]"
     ]
    },
    {
     "name": "stdout",
     "output_type": "stream",
     "text": [
      "                   all        130        131      0.934       0.87      0.924      0.514\n"
     ]
    },
    {
     "name": "stderr",
     "output_type": "stream",
     "text": [
      "\n"
     ]
    },
    {
     "name": "stdout",
     "output_type": "stream",
     "text": [
      "\n",
      "      Epoch    GPU_mem   box_loss   cls_loss   dfl_loss  Instances       Size\n"
     ]
    },
    {
     "name": "stderr",
     "output_type": "stream",
     "text": [
      "    106/250      7.08G     0.7276     0.4473      1.078          9        640: 100%|██████████| 250/250 [02:55<00:00,  1.42it/s]\n",
      "                 Class     Images  Instances      Box(P          R      mAP50  mAP50-95): 100%|██████████| 9/9 [00:05<00:00,  1.55it/s]"
     ]
    },
    {
     "name": "stdout",
     "output_type": "stream",
     "text": [
      "                   all        130        131      0.956       0.84      0.919      0.503\n"
     ]
    },
    {
     "name": "stderr",
     "output_type": "stream",
     "text": [
      "\n"
     ]
    },
    {
     "name": "stdout",
     "output_type": "stream",
     "text": [
      "\n",
      "      Epoch    GPU_mem   box_loss   cls_loss   dfl_loss  Instances       Size\n"
     ]
    },
    {
     "name": "stderr",
     "output_type": "stream",
     "text": [
      "    107/250      6.91G     0.7319     0.4571       1.08         10        640: 100%|██████████| 250/250 [02:13<00:00,  1.88it/s]\n",
      "                 Class     Images  Instances      Box(P          R      mAP50  mAP50-95): 100%|██████████| 9/9 [00:03<00:00,  2.76it/s]"
     ]
    },
    {
     "name": "stdout",
     "output_type": "stream",
     "text": [
      "                   all        130        131       0.95      0.847      0.926      0.507\n"
     ]
    },
    {
     "name": "stderr",
     "output_type": "stream",
     "text": [
      "\n"
     ]
    },
    {
     "name": "stdout",
     "output_type": "stream",
     "text": [
      "\n",
      "      Epoch    GPU_mem   box_loss   cls_loss   dfl_loss  Instances       Size\n"
     ]
    },
    {
     "name": "stderr",
     "output_type": "stream",
     "text": [
      "    108/250      6.82G      0.723     0.4414       1.08         17        640: 100%|██████████| 250/250 [02:11<00:00,  1.90it/s]\n",
      "                 Class     Images  Instances      Box(P          R      mAP50  mAP50-95): 100%|██████████| 9/9 [00:03<00:00,  2.70it/s]"
     ]
    },
    {
     "name": "stdout",
     "output_type": "stream",
     "text": [
      "                   all        130        131      0.957      0.855      0.915      0.497\n"
     ]
    },
    {
     "name": "stderr",
     "output_type": "stream",
     "text": [
      "\n"
     ]
    },
    {
     "name": "stdout",
     "output_type": "stream",
     "text": [
      "\n",
      "      Epoch    GPU_mem   box_loss   cls_loss   dfl_loss  Instances       Size\n"
     ]
    },
    {
     "name": "stderr",
     "output_type": "stream",
     "text": [
      "    109/250      7.08G     0.7249     0.4535        1.1          9        640:  15%|█▌        | 38/250 [00:21<01:58,  1.78it/s]\n"
     ]
    },
    {
     "ename": "RuntimeError",
     "evalue": "Caught MemoryError in DataLoader worker process 6.\nOriginal Traceback (most recent call last):\n  File \"d:\\Anaconda\\envs\\yolov8\\lib\\site-packages\\torch\\utils\\data\\_utils\\worker.py\", line 349, in _worker_loop\n    data = fetcher.fetch(index)  # type: ignore[possibly-undefined]\n  File \"d:\\Anaconda\\envs\\yolov8\\lib\\site-packages\\torch\\utils\\data\\_utils\\fetch.py\", line 52, in fetch\n    data = [self.dataset[idx] for idx in possibly_batched_index]\n  File \"d:\\Anaconda\\envs\\yolov8\\lib\\site-packages\\torch\\utils\\data\\_utils\\fetch.py\", line 52, in <listcomp>\n    data = [self.dataset[idx] for idx in possibly_batched_index]\n  File \"d:\\Anaconda\\envs\\yolov8\\lib\\site-packages\\ultralytics\\data\\base.py\", line 379, in __getitem__\n    return self.transforms(self.get_image_and_label(index))\n  File \"d:\\Anaconda\\envs\\yolov8\\lib\\site-packages\\ultralytics\\data\\augment.py\", line 202, in __call__\n    data = t(data)\n  File \"d:\\Anaconda\\envs\\yolov8\\lib\\site-packages\\ultralytics\\data\\augment.py\", line 202, in __call__\n    data = t(data)\n  File \"d:\\Anaconda\\envs\\yolov8\\lib\\site-packages\\ultralytics\\data\\augment.py\", line 406, in __call__\n    labels = self._mix_transform(labels)\n  File \"d:\\Anaconda\\envs\\yolov8\\lib\\site-packages\\ultralytics\\data\\augment.py\", line 594, in _mix_transform\n    self._mosaic3(labels) if self.n == 3 else self._mosaic4(labels) if self.n == 4 else self._mosaic9(labels)\n  File \"d:\\Anaconda\\envs\\yolov8\\lib\\site-packages\\ultralytics\\data\\augment.py\", line 691, in _mosaic4\n    img4 = np.full((s * 2, s * 2, img.shape[2]), 114, dtype=np.uint8)  # base image with 4 tiles\n  File \"d:\\Anaconda\\envs\\yolov8\\lib\\site-packages\\numpy\\_core\\numeric.py\", line 352, in full\n    a = empty(shape, dtype, order, device=device)\nnumpy._core._exceptions._ArrayMemoryError: Unable to allocate 4.69 MiB for an array with shape (1280, 1280, 3) and data type uint8\n",
     "output_type": "error",
     "traceback": [
      "\u001b[1;31m---------------------------------------------------------------------------\u001b[0m",
      "\u001b[1;31mRuntimeError\u001b[0m                              Traceback (most recent call last)",
      "Cell \u001b[1;32mIn[8], line 20\u001b[0m\n\u001b[0;32m     17\u001b[0m     model \u001b[38;5;241m=\u001b[39m YOLO(model_path)  \u001b[38;5;66;03m# 加载预训练模型\u001b[39;00m\n\u001b[0;32m     19\u001b[0m \u001b[38;5;66;03m# 开始训练（自动恢复或从头开始）\u001b[39;00m\n\u001b[1;32m---> 20\u001b[0m \u001b[43mmodel\u001b[49m\u001b[38;5;241;43m.\u001b[39;49m\u001b[43mtrain\u001b[49m\u001b[43m(\u001b[49m\n\u001b[0;32m     21\u001b[0m \u001b[43m    \u001b[49m\u001b[43mdata\u001b[49m\u001b[38;5;241;43m=\u001b[39;49m\u001b[43mdata_path\u001b[49m\u001b[43m,\u001b[49m\n\u001b[0;32m     22\u001b[0m \u001b[43m    \u001b[49m\u001b[43mepochs\u001b[49m\u001b[38;5;241;43m=\u001b[39;49m\u001b[38;5;241;43m250\u001b[39;49m\u001b[43m,\u001b[49m\n\u001b[0;32m     23\u001b[0m \u001b[43m    \u001b[49m\u001b[43mimgsz\u001b[49m\u001b[38;5;241;43m=\u001b[39;49m\u001b[38;5;241;43m640\u001b[39;49m\u001b[43m,\u001b[49m\n\u001b[0;32m     24\u001b[0m \u001b[43m    \u001b[49m\u001b[43mbatch\u001b[49m\u001b[38;5;241;43m=\u001b[39;49m\u001b[38;5;241;43m8\u001b[39;49m\u001b[43m,\u001b[49m\n\u001b[0;32m     25\u001b[0m \u001b[43m    \u001b[49m\u001b[43mproject\u001b[49m\u001b[38;5;241;43m=\u001b[39;49m\u001b[43mproject_path\u001b[49m\u001b[43m,\u001b[49m\n\u001b[0;32m     26\u001b[0m \u001b[43m    \u001b[49m\u001b[43mname\u001b[49m\u001b[43m \u001b[49m\u001b[38;5;241;43m=\u001b[39;49m\u001b[43m \u001b[49m\u001b[38;5;124;43m\"\u001b[39;49m\u001b[38;5;124;43mbasketball_train\u001b[39;49m\u001b[38;5;124;43m\"\u001b[39;49m\u001b[43m,\u001b[49m\n\u001b[0;32m     27\u001b[0m \u001b[43m    \u001b[49m\u001b[43mdevice\u001b[49m\u001b[43m \u001b[49m\u001b[38;5;241;43m=\u001b[39;49m\u001b[43m \u001b[49m\u001b[38;5;241;43m0\u001b[39;49m\u001b[43m,\u001b[49m\n\u001b[0;32m     28\u001b[0m \u001b[43m    \u001b[49m\u001b[43mresume\u001b[49m\u001b[38;5;241;43m=\u001b[39;49m\u001b[38;5;28;43;01mFalse\u001b[39;49;00m\u001b[43m  \u001b[49m\u001b[38;5;66;43;03m# 启用自动恢复功能\u001b[39;49;00m\n\u001b[0;32m     29\u001b[0m \u001b[43m)\u001b[49m\n",
      "File \u001b[1;32md:\\Anaconda\\envs\\yolov8\\lib\\site-packages\\ultralytics\\engine\\model.py:797\u001b[0m, in \u001b[0;36mModel.train\u001b[1;34m(self, trainer, **kwargs)\u001b[0m\n\u001b[0;32m    794\u001b[0m     \u001b[38;5;28mself\u001b[39m\u001b[38;5;241m.\u001b[39mmodel \u001b[38;5;241m=\u001b[39m \u001b[38;5;28mself\u001b[39m\u001b[38;5;241m.\u001b[39mtrainer\u001b[38;5;241m.\u001b[39mmodel\n\u001b[0;32m    796\u001b[0m \u001b[38;5;28mself\u001b[39m\u001b[38;5;241m.\u001b[39mtrainer\u001b[38;5;241m.\u001b[39mhub_session \u001b[38;5;241m=\u001b[39m \u001b[38;5;28mself\u001b[39m\u001b[38;5;241m.\u001b[39msession  \u001b[38;5;66;03m# attach optional HUB session\u001b[39;00m\n\u001b[1;32m--> 797\u001b[0m \u001b[38;5;28;43mself\u001b[39;49m\u001b[38;5;241;43m.\u001b[39;49m\u001b[43mtrainer\u001b[49m\u001b[38;5;241;43m.\u001b[39;49m\u001b[43mtrain\u001b[49m\u001b[43m(\u001b[49m\u001b[43m)\u001b[49m\n\u001b[0;32m    798\u001b[0m \u001b[38;5;66;03m# Update model and cfg after training\u001b[39;00m\n\u001b[0;32m    799\u001b[0m \u001b[38;5;28;01mif\u001b[39;00m RANK \u001b[38;5;129;01min\u001b[39;00m {\u001b[38;5;241m-\u001b[39m\u001b[38;5;241m1\u001b[39m, \u001b[38;5;241m0\u001b[39m}:\n",
      "File \u001b[1;32md:\\Anaconda\\envs\\yolov8\\lib\\site-packages\\ultralytics\\engine\\trainer.py:227\u001b[0m, in \u001b[0;36mBaseTrainer.train\u001b[1;34m(self)\u001b[0m\n\u001b[0;32m    224\u001b[0m         ddp_cleanup(\u001b[38;5;28mself\u001b[39m, \u001b[38;5;28mstr\u001b[39m(file))\n\u001b[0;32m    226\u001b[0m \u001b[38;5;28;01melse\u001b[39;00m:\n\u001b[1;32m--> 227\u001b[0m     \u001b[38;5;28;43mself\u001b[39;49m\u001b[38;5;241;43m.\u001b[39;49m\u001b[43m_do_train\u001b[49m\u001b[43m(\u001b[49m\u001b[43mworld_size\u001b[49m\u001b[43m)\u001b[49m\n",
      "File \u001b[1;32md:\\Anaconda\\envs\\yolov8\\lib\\site-packages\\ultralytics\\engine\\trainer.py:388\u001b[0m, in \u001b[0;36mBaseTrainer._do_train\u001b[1;34m(self, world_size)\u001b[0m\n\u001b[0;32m    386\u001b[0m     pbar \u001b[38;5;241m=\u001b[39m TQDM(\u001b[38;5;28menumerate\u001b[39m(\u001b[38;5;28mself\u001b[39m\u001b[38;5;241m.\u001b[39mtrain_loader), total\u001b[38;5;241m=\u001b[39mnb)\n\u001b[0;32m    387\u001b[0m \u001b[38;5;28mself\u001b[39m\u001b[38;5;241m.\u001b[39mtloss \u001b[38;5;241m=\u001b[39m \u001b[38;5;28;01mNone\u001b[39;00m\n\u001b[1;32m--> 388\u001b[0m \u001b[38;5;28;01mfor\u001b[39;00m i, batch \u001b[38;5;129;01min\u001b[39;00m pbar:\n\u001b[0;32m    389\u001b[0m     \u001b[38;5;28mself\u001b[39m\u001b[38;5;241m.\u001b[39mrun_callbacks(\u001b[38;5;124m\"\u001b[39m\u001b[38;5;124mon_train_batch_start\u001b[39m\u001b[38;5;124m\"\u001b[39m)\n\u001b[0;32m    390\u001b[0m     \u001b[38;5;66;03m# Warmup\u001b[39;00m\n",
      "File \u001b[1;32md:\\Anaconda\\envs\\yolov8\\lib\\site-packages\\tqdm\\std.py:1181\u001b[0m, in \u001b[0;36mtqdm.__iter__\u001b[1;34m(self)\u001b[0m\n\u001b[0;32m   1178\u001b[0m time \u001b[38;5;241m=\u001b[39m \u001b[38;5;28mself\u001b[39m\u001b[38;5;241m.\u001b[39m_time\n\u001b[0;32m   1180\u001b[0m \u001b[38;5;28;01mtry\u001b[39;00m:\n\u001b[1;32m-> 1181\u001b[0m     \u001b[38;5;28;01mfor\u001b[39;00m obj \u001b[38;5;129;01min\u001b[39;00m iterable:\n\u001b[0;32m   1182\u001b[0m         \u001b[38;5;28;01myield\u001b[39;00m obj\n\u001b[0;32m   1183\u001b[0m         \u001b[38;5;66;03m# Update and possibly print the progressbar.\u001b[39;00m\n\u001b[0;32m   1184\u001b[0m         \u001b[38;5;66;03m# Note: does not call self.update(1) for speed optimisation.\u001b[39;00m\n",
      "File \u001b[1;32md:\\Anaconda\\envs\\yolov8\\lib\\site-packages\\ultralytics\\data\\build.py:67\u001b[0m, in \u001b[0;36mInfiniteDataLoader.__iter__\u001b[1;34m(self)\u001b[0m\n\u001b[0;32m     65\u001b[0m \u001b[38;5;250m\u001b[39m\u001b[38;5;124;03m\"\"\"Create an iterator that yields indefinitely from the underlying iterator.\"\"\"\u001b[39;00m\n\u001b[0;32m     66\u001b[0m \u001b[38;5;28;01mfor\u001b[39;00m _ \u001b[38;5;129;01min\u001b[39;00m \u001b[38;5;28mrange\u001b[39m(\u001b[38;5;28mlen\u001b[39m(\u001b[38;5;28mself\u001b[39m)):\n\u001b[1;32m---> 67\u001b[0m     \u001b[38;5;28;01myield\u001b[39;00m \u001b[38;5;28;43mnext\u001b[39;49m\u001b[43m(\u001b[49m\u001b[38;5;28;43mself\u001b[39;49m\u001b[38;5;241;43m.\u001b[39;49m\u001b[43miterator\u001b[49m\u001b[43m)\u001b[49m\n",
      "File \u001b[1;32md:\\Anaconda\\envs\\yolov8\\lib\\site-packages\\torch\\utils\\data\\dataloader.py:733\u001b[0m, in \u001b[0;36m_BaseDataLoaderIter.__next__\u001b[1;34m(self)\u001b[0m\n\u001b[0;32m    730\u001b[0m \u001b[38;5;28;01mif\u001b[39;00m \u001b[38;5;28mself\u001b[39m\u001b[38;5;241m.\u001b[39m_sampler_iter \u001b[38;5;129;01mis\u001b[39;00m \u001b[38;5;28;01mNone\u001b[39;00m:\n\u001b[0;32m    731\u001b[0m     \u001b[38;5;66;03m# TODO(https://github.com/pytorch/pytorch/issues/76750)\u001b[39;00m\n\u001b[0;32m    732\u001b[0m     \u001b[38;5;28mself\u001b[39m\u001b[38;5;241m.\u001b[39m_reset()  \u001b[38;5;66;03m# type: ignore[call-arg]\u001b[39;00m\n\u001b[1;32m--> 733\u001b[0m data \u001b[38;5;241m=\u001b[39m \u001b[38;5;28;43mself\u001b[39;49m\u001b[38;5;241;43m.\u001b[39;49m\u001b[43m_next_data\u001b[49m\u001b[43m(\u001b[49m\u001b[43m)\u001b[49m\n\u001b[0;32m    734\u001b[0m \u001b[38;5;28mself\u001b[39m\u001b[38;5;241m.\u001b[39m_num_yielded \u001b[38;5;241m+\u001b[39m\u001b[38;5;241m=\u001b[39m \u001b[38;5;241m1\u001b[39m\n\u001b[0;32m    735\u001b[0m \u001b[38;5;28;01mif\u001b[39;00m (\n\u001b[0;32m    736\u001b[0m     \u001b[38;5;28mself\u001b[39m\u001b[38;5;241m.\u001b[39m_dataset_kind \u001b[38;5;241m==\u001b[39m _DatasetKind\u001b[38;5;241m.\u001b[39mIterable\n\u001b[0;32m    737\u001b[0m     \u001b[38;5;129;01mand\u001b[39;00m \u001b[38;5;28mself\u001b[39m\u001b[38;5;241m.\u001b[39m_IterableDataset_len_called \u001b[38;5;129;01mis\u001b[39;00m \u001b[38;5;129;01mnot\u001b[39;00m \u001b[38;5;28;01mNone\u001b[39;00m\n\u001b[0;32m    738\u001b[0m     \u001b[38;5;129;01mand\u001b[39;00m \u001b[38;5;28mself\u001b[39m\u001b[38;5;241m.\u001b[39m_num_yielded \u001b[38;5;241m>\u001b[39m \u001b[38;5;28mself\u001b[39m\u001b[38;5;241m.\u001b[39m_IterableDataset_len_called\n\u001b[0;32m    739\u001b[0m ):\n",
      "File \u001b[1;32md:\\Anaconda\\envs\\yolov8\\lib\\site-packages\\torch\\utils\\data\\dataloader.py:1515\u001b[0m, in \u001b[0;36m_MultiProcessingDataLoaderIter._next_data\u001b[1;34m(self)\u001b[0m\n\u001b[0;32m   1513\u001b[0m worker_id \u001b[38;5;241m=\u001b[39m \u001b[38;5;28mself\u001b[39m\u001b[38;5;241m.\u001b[39m_task_info\u001b[38;5;241m.\u001b[39mpop(idx)[\u001b[38;5;241m0\u001b[39m]\n\u001b[0;32m   1514\u001b[0m \u001b[38;5;28mself\u001b[39m\u001b[38;5;241m.\u001b[39m_rcvd_idx \u001b[38;5;241m+\u001b[39m\u001b[38;5;241m=\u001b[39m \u001b[38;5;241m1\u001b[39m\n\u001b[1;32m-> 1515\u001b[0m \u001b[38;5;28;01mreturn\u001b[39;00m \u001b[38;5;28;43mself\u001b[39;49m\u001b[38;5;241;43m.\u001b[39;49m\u001b[43m_process_data\u001b[49m\u001b[43m(\u001b[49m\u001b[43mdata\u001b[49m\u001b[43m,\u001b[49m\u001b[43m \u001b[49m\u001b[43mworker_id\u001b[49m\u001b[43m)\u001b[49m\n",
      "File \u001b[1;32md:\\Anaconda\\envs\\yolov8\\lib\\site-packages\\torch\\utils\\data\\dataloader.py:1550\u001b[0m, in \u001b[0;36m_MultiProcessingDataLoaderIter._process_data\u001b[1;34m(self, data, worker_idx)\u001b[0m\n\u001b[0;32m   1548\u001b[0m \u001b[38;5;28mself\u001b[39m\u001b[38;5;241m.\u001b[39m_try_put_index()\n\u001b[0;32m   1549\u001b[0m \u001b[38;5;28;01mif\u001b[39;00m \u001b[38;5;28misinstance\u001b[39m(data, ExceptionWrapper):\n\u001b[1;32m-> 1550\u001b[0m     \u001b[43mdata\u001b[49m\u001b[38;5;241;43m.\u001b[39;49m\u001b[43mreraise\u001b[49m\u001b[43m(\u001b[49m\u001b[43m)\u001b[49m\n\u001b[0;32m   1551\u001b[0m \u001b[38;5;28;01mreturn\u001b[39;00m data\n",
      "File \u001b[1;32md:\\Anaconda\\envs\\yolov8\\lib\\site-packages\\torch\\_utils.py:749\u001b[0m, in \u001b[0;36mExceptionWrapper.reraise\u001b[1;34m(self)\u001b[0m\n\u001b[0;32m    745\u001b[0m     exception \u001b[38;5;241m=\u001b[39m \u001b[38;5;28mself\u001b[39m\u001b[38;5;241m.\u001b[39mexc_type(msg)\n\u001b[0;32m    746\u001b[0m \u001b[38;5;28;01mexcept\u001b[39;00m \u001b[38;5;167;01mException\u001b[39;00m:\n\u001b[0;32m    747\u001b[0m     \u001b[38;5;66;03m# If the exception takes multiple arguments or otherwise can't\u001b[39;00m\n\u001b[0;32m    748\u001b[0m     \u001b[38;5;66;03m# be constructed, don't try to instantiate since we don't know how to\u001b[39;00m\n\u001b[1;32m--> 749\u001b[0m     \u001b[38;5;28;01mraise\u001b[39;00m \u001b[38;5;167;01mRuntimeError\u001b[39;00m(msg) \u001b[38;5;28;01mfrom\u001b[39;00m\u001b[38;5;250m \u001b[39m\u001b[38;5;28;01mNone\u001b[39;00m\n\u001b[0;32m    750\u001b[0m \u001b[38;5;28;01mraise\u001b[39;00m exception\n",
      "\u001b[1;31mRuntimeError\u001b[0m: Caught MemoryError in DataLoader worker process 6.\nOriginal Traceback (most recent call last):\n  File \"d:\\Anaconda\\envs\\yolov8\\lib\\site-packages\\torch\\utils\\data\\_utils\\worker.py\", line 349, in _worker_loop\n    data = fetcher.fetch(index)  # type: ignore[possibly-undefined]\n  File \"d:\\Anaconda\\envs\\yolov8\\lib\\site-packages\\torch\\utils\\data\\_utils\\fetch.py\", line 52, in fetch\n    data = [self.dataset[idx] for idx in possibly_batched_index]\n  File \"d:\\Anaconda\\envs\\yolov8\\lib\\site-packages\\torch\\utils\\data\\_utils\\fetch.py\", line 52, in <listcomp>\n    data = [self.dataset[idx] for idx in possibly_batched_index]\n  File \"d:\\Anaconda\\envs\\yolov8\\lib\\site-packages\\ultralytics\\data\\base.py\", line 379, in __getitem__\n    return self.transforms(self.get_image_and_label(index))\n  File \"d:\\Anaconda\\envs\\yolov8\\lib\\site-packages\\ultralytics\\data\\augment.py\", line 202, in __call__\n    data = t(data)\n  File \"d:\\Anaconda\\envs\\yolov8\\lib\\site-packages\\ultralytics\\data\\augment.py\", line 202, in __call__\n    data = t(data)\n  File \"d:\\Anaconda\\envs\\yolov8\\lib\\site-packages\\ultralytics\\data\\augment.py\", line 406, in __call__\n    labels = self._mix_transform(labels)\n  File \"d:\\Anaconda\\envs\\yolov8\\lib\\site-packages\\ultralytics\\data\\augment.py\", line 594, in _mix_transform\n    self._mosaic3(labels) if self.n == 3 else self._mosaic4(labels) if self.n == 4 else self._mosaic9(labels)\n  File \"d:\\Anaconda\\envs\\yolov8\\lib\\site-packages\\ultralytics\\data\\augment.py\", line 691, in _mosaic4\n    img4 = np.full((s * 2, s * 2, img.shape[2]), 114, dtype=np.uint8)  # base image with 4 tiles\n  File \"d:\\Anaconda\\envs\\yolov8\\lib\\site-packages\\numpy\\_core\\numeric.py\", line 352, in full\n    a = empty(shape, dtype, order, device=device)\nnumpy._core._exceptions._ArrayMemoryError: Unable to allocate 4.69 MiB for an array with shape (1280, 1280, 3) and data type uint8\n"
     ]
    }
   ],
   "source": [
    "from ultralytics import YOLO\n",
    "import os\n",
    "os.environ[\"KMP_DUPLICATE_LIB_OK\"] = \"TRUE\"\n",
    "\n",
    "# 定义路径\n",
    "model_path = \"../../models/yolov8x.pt\"\n",
    "last_weights_path = \"../../runs/detect/basketball_detect/train/weights/last.pt\"\n",
    "data_path = '../../dataset/basketball_data/data.yaml'\n",
    "project_path = \"../../runs/detect/basketball_detect\"\n",
    "\n",
    "# 检查是否存在上次训练的检查点\n",
    "if os.path.exists(last_weights_path):\n",
    "    print(f\"发现检查点文件 {last_weights_path}，将从中断处恢复训练\")\n",
    "    model = YOLO(last_weights_path)  # 加载上次训练的权重\n",
    "else:\n",
    "    print(f\"未发现检查点文件，将从头开始训练\")\n",
    "    model = YOLO(model_path)  # 加载预训练模型\n",
    "\n",
    "# 开始训练（自动恢复或从头开始）\n",
    "model.train(\n",
    "    data=data_path,\n",
    "    epochs=250,\n",
    "    imgsz=640,\n",
    "    batch=8,\n",
    "    project=project_path,\n",
    "    name = \"basketball_train\",\n",
    "    device = 0,\n",
    "    patience = 30,\n",
    "    resume=False  # 启用自动恢复功能\n",
    ")"
   ]
  },
  {
   "cell_type": "code",
   "execution_count": null,
   "id": "1238fb0f",
   "metadata": {},
   "outputs": [],
   "source": []
  }
 ],
 "metadata": {
  "kernelspec": {
   "display_name": "yolov8",
   "language": "python",
   "name": "python3"
  },
  "language_info": {
   "codemirror_mode": {
    "name": "ipython",
    "version": 3
   },
   "file_extension": ".py",
   "mimetype": "text/x-python",
   "name": "python",
   "nbconvert_exporter": "python",
   "pygments_lexer": "ipython3",
   "version": "3.10.18"
  }
 },
 "nbformat": 4,
 "nbformat_minor": 5
}
